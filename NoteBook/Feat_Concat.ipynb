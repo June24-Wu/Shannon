{
 "cells": [
  {
   "cell_type": "code",
   "execution_count": 1,
   "id": "e5b8c585",
   "metadata": {
    "ExecuteTime": {
     "end_time": "2021-12-21T07:45:23.757186Z",
     "start_time": "2021-12-21T07:45:22.904333Z"
    }
   },
   "outputs": [],
   "source": [
    "from os import walk\n",
    "import pandas as pd\n",
    "import numpy as np\n",
    "import torch\n",
    "import torch.nn as nn\n",
    "from progressbar import ProgressBar\n",
    "from tqdm import tqdm\n",
    "import torch.utils.data as Data\n",
    "import torch.optim as optim\n",
    "from tqdm import tqdm\n",
    "from torch.autograd import Variable\n",
    "import time\n",
    "import multiprocessing as mp\n",
    "Alpha_Name = \"AlphaNet_Original_Input_12.14\"\n",
    "path = '/home/wuwenjun/Data/' + Alpha_Name +'/'\n",
    "target = \"5d_ret\""
   ]
  },
  {
   "cell_type": "code",
   "execution_count": 2,
   "id": "c762b9ff",
   "metadata": {
    "ExecuteTime": {
     "end_time": "2021-12-21T07:45:23.773759Z",
     "start_time": "2021-12-21T07:45:23.759223Z"
    }
   },
   "outputs": [
    {
     "name": "stderr",
     "output_type": "stream",
     "text": [
      "100%|██████████| 26/26 [00:00<00:00, 365945.99it/s]\n"
     ]
    },
    {
     "data": {
      "text/plain": [
       "['2015-01-01_2015-03-01.par',\n",
       " '2015-03-01_2015-06-01.par',\n",
       " '2015-06-01_2015-09-01.par',\n",
       " '2015-09-01_2016-01-01.par',\n",
       " '2016-01-01_2016-03-01.par',\n",
       " '2016-03-01_2016-06-01.par',\n",
       " '2016-06-01_2016-09-01.par',\n",
       " '2016-09-01_2017-01-01.par',\n",
       " '2017-01-01_2017-03-01.par',\n",
       " '2017-03-01_2017-06-01.par',\n",
       " '2017-06-01_2017-09-01.par',\n",
       " '2017-09-01_2018-01-01.par',\n",
       " '2018-01-01_2018-03-01.par',\n",
       " '2018-03-01_2018-06-01.par',\n",
       " '2018-06-01_2018-09-01.par',\n",
       " '2018-09-01_2019-01-01.par',\n",
       " '2019-01-01_2019-03-01.par',\n",
       " '2019-03-01_2019-06-01.par',\n",
       " '2019-06-01_2019-09-01.par',\n",
       " '2019-09-01_2020-01-01.par',\n",
       " '2020-01-01_2020-03-01.par',\n",
       " '2020-03-01_2020-06-01.par',\n",
       " '2020-06-01_2020-09-01.par',\n",
       " '2020-09-01_2021-01-01.par',\n",
       " '2021-01-01_2021-03-01.par',\n",
       " '2021-03-01_2021-06-01.par']"
      ]
     },
     "execution_count": 2,
     "metadata": {},
     "output_type": "execute_result"
    }
   ],
   "source": [
    "path_list = []\n",
    "data_path = path + \"Data/\"\n",
    "dataframe_list = pd.DataFrame()\n",
    "for f, _, i in walk(data_path):\n",
    "    for j in tqdm(i):\n",
    "        path_list.append(j)\n",
    "path_list.sort()\n",
    "path_list"
   ]
  },
  {
   "cell_type": "code",
   "execution_count": 4,
   "id": "1edc1e39",
   "metadata": {
    "ExecuteTime": {
     "end_time": "2021-12-21T07:46:53.471747Z",
     "start_time": "2021-12-21T07:46:33.412281Z"
    }
   },
   "outputs": [
    {
     "name": "stderr",
     "output_type": "stream",
     "text": [
      "100%|██████████| 26/26 [00:00<00:00, 48990.07it/s]\n"
     ]
    },
    {
     "name": "stdout",
     "output_type": "stream",
     "text": [
      "并行执行时间： 19\n"
     ]
    }
   ],
   "source": [
    "pool = mp.Pool(10)\n",
    "t1 = time.time()\n",
    "dir_list = ['Corr','Std','Zscore','Return']\n",
    "\n",
    "final = []\n",
    "def test(alpha):\n",
    "    feat_cat = []\n",
    "    for i in dir_list:\n",
    "        feat_cat.append(pd.read_parquet(path + i + \"/\" + alpha).set_index(['timestamp','ticker']))\n",
    "    feat_cat = pd.concat(feat_cat,axis=1)\n",
    "    feat_cat.columns = [str(i) for i in range(feat_cat.shape[1])]\n",
    "    feat_cat.reset_index().to_parquet(path+\"Feat_Concat/\"+alpha)\n",
    "    return None\n",
    "for alpha in tqdm(path_list):\n",
    "#     test(alpha)\n",
    "    pool.apply_async(test, args=(alpha,))   #维持执行的进程总数为10，当一个进程执行完后启动一个新进程.\n",
    "pool.close()\n",
    "pool.join()\n",
    "\n",
    "t2 = time.time()\n",
    "print(\"并行执行时间：\", int(t2 - t1))"
   ]
  }
 ],
 "metadata": {
  "kernelspec": {
   "display_name": "Python 3 (ipykernel)",
   "language": "python",
   "name": "python3"
  },
  "language_info": {
   "codemirror_mode": {
    "name": "ipython",
    "version": 3
   },
   "file_extension": ".py",
   "mimetype": "text/x-python",
   "name": "python",
   "nbconvert_exporter": "python",
   "pygments_lexer": "ipython3",
   "version": "3.7.9"
  }
 },
 "nbformat": 4,
 "nbformat_minor": 5
}
