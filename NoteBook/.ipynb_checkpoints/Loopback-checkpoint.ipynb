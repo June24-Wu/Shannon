{
 "cells": [
  {
   "cell_type": "markdown",
   "id": "3b42d106",
   "metadata": {},
   "source": [
    "# Generate Standard Data"
   ]
  },
  {
   "cell_type": "code",
   "execution_count": 4,
   "id": "ecbc4349",
   "metadata": {
    "ExecuteTime": {
     "end_time": "2021-12-09T07:50:47.966791Z",
     "start_time": "2021-12-09T07:50:47.953150Z"
    }
   },
   "outputs": [],
   "source": [
    "alpha_name = \"AlphaNetV1_Original_Input_1208\"\n",
    "path = \"/home/wuwenjun/Alpha_Factor/\" + alpha_name + \"/result/\"\n",
    "output_path = r'/home/wuwenjun/factor_lib/ti0/wuwenjun'"
   ]
  },
  {
   "cell_type": "code",
   "execution_count": 5,
   "id": "18d19452",
   "metadata": {
    "ExecuteTime": {
     "end_time": "2021-12-09T07:50:49.385481Z",
     "start_time": "2021-12-09T07:50:48.328235Z"
    }
   },
   "outputs": [],
   "source": [
    "import time\n",
    "from Research.backtest.bt import BTDaily\n",
    "from Research.feature.ft import FeatureAnalysis\n",
    "import Research.utils.namespace as namespace\n",
    "import Research.utils.normalization as norm\n",
    "from Platform.database.mysql import MysqlAPI\n",
    "from Platform.utils.persistence import convert_to_standard_daily_feature_csv, convert_to_standard_daily_feature_par\n",
    "from Platform.config.mysql_info import FACTOR_LIB_MYSQL_TIO\n",
    "from os import walk\n",
    "import pandas as pd\n",
    "import numpy as np\n",
    "import torch\n",
    "import torch.nn as nn\n",
    "from progressbar import ProgressBar\n",
    "from tqdm import tqdm"
   ]
  },
  {
   "cell_type": "code",
   "execution_count": 20,
   "id": "c405c748",
   "metadata": {
    "ExecuteTime": {
     "end_time": "2021-12-09T08:07:13.609609Z",
     "start_time": "2021-12-09T08:07:02.665740Z"
    }
   },
   "outputs": [
    {
     "name": "stderr",
     "output_type": "stream",
     "text": [
      "100%|██████████| 5/5 [00:01<00:00,  3.35it/s]\n"
     ]
    },
    {
     "data": {
      "text/html": [
       "<div>\n",
       "<style scoped>\n",
       "    .dataframe tbody tr th:only-of-type {\n",
       "        vertical-align: middle;\n",
       "    }\n",
       "\n",
       "    .dataframe tbody tr th {\n",
       "        vertical-align: top;\n",
       "    }\n",
       "\n",
       "    .dataframe thead th {\n",
       "        text-align: right;\n",
       "    }\n",
       "</style>\n",
       "<table border=\"1\" class=\"dataframe\">\n",
       "  <thead>\n",
       "    <tr style=\"text-align: right;\">\n",
       "      <th></th>\n",
       "      <th>timestamp</th>\n",
       "      <th>symbol</th>\n",
       "      <th>AlphaNetV1_Original_Input_1208</th>\n",
       "      <th>target</th>\n",
       "    </tr>\n",
       "  </thead>\n",
       "  <tbody>\n",
       "    <tr>\n",
       "      <th>0</th>\n",
       "      <td>2019-01-02 09:30:00</td>\n",
       "      <td>1</td>\n",
       "      <td>0.001571</td>\n",
       "      <td>0.037274</td>\n",
       "    </tr>\n",
       "    <tr>\n",
       "      <th>1</th>\n",
       "      <td>2019-01-03 09:30:00</td>\n",
       "      <td>1</td>\n",
       "      <td>0.060317</td>\n",
       "      <td>0.075163</td>\n",
       "    </tr>\n",
       "    <tr>\n",
       "      <th>2</th>\n",
       "      <td>2019-01-04 09:30:00</td>\n",
       "      <td>1</td>\n",
       "      <td>0.174096</td>\n",
       "      <td>0.094156</td>\n",
       "    </tr>\n",
       "    <tr>\n",
       "      <th>3</th>\n",
       "      <td>2019-01-07 09:30:00</td>\n",
       "      <td>1</td>\n",
       "      <td>0.301100</td>\n",
       "      <td>0.038618</td>\n",
       "    </tr>\n",
       "    <tr>\n",
       "      <th>4</th>\n",
       "      <td>2019-01-08 09:30:00</td>\n",
       "      <td>1</td>\n",
       "      <td>0.143749</td>\n",
       "      <td>0.039054</td>\n",
       "    </tr>\n",
       "    <tr>\n",
       "      <th>...</th>\n",
       "      <td>...</td>\n",
       "      <td>...</td>\n",
       "      <td>...</td>\n",
       "      <td>...</td>\n",
       "    </tr>\n",
       "    <tr>\n",
       "      <th>451179</th>\n",
       "      <td>2021-06-23 09:30:00</td>\n",
       "      <td>601399</td>\n",
       "      <td>-0.001553</td>\n",
       "      <td>-0.017544</td>\n",
       "    </tr>\n",
       "    <tr>\n",
       "      <th>451180</th>\n",
       "      <td>2021-06-24 09:30:00</td>\n",
       "      <td>601399</td>\n",
       "      <td>-0.029387</td>\n",
       "      <td>-0.020649</td>\n",
       "    </tr>\n",
       "    <tr>\n",
       "      <th>451181</th>\n",
       "      <td>2021-06-25 09:30:00</td>\n",
       "      <td>601399</td>\n",
       "      <td>0.019083</td>\n",
       "      <td>-0.011940</td>\n",
       "    </tr>\n",
       "    <tr>\n",
       "      <th>451182</th>\n",
       "      <td>2021-06-28 09:30:00</td>\n",
       "      <td>601399</td>\n",
       "      <td>0.005569</td>\n",
       "      <td>-0.052326</td>\n",
       "    </tr>\n",
       "    <tr>\n",
       "      <th>451183</th>\n",
       "      <td>2021-06-29 09:30:00</td>\n",
       "      <td>601399</td>\n",
       "      <td>0.000040</td>\n",
       "      <td>-0.023810</td>\n",
       "    </tr>\n",
       "  </tbody>\n",
       "</table>\n",
       "<p>2164480 rows × 4 columns</p>\n",
       "</div>"
      ],
      "text/plain": [
       "                 timestamp  symbol  AlphaNetV1_Original_Input_1208    target\n",
       "0      2019-01-02 09:30:00       1                        0.001571  0.037274\n",
       "1      2019-01-03 09:30:00       1                        0.060317  0.075163\n",
       "2      2019-01-04 09:30:00       1                        0.174096  0.094156\n",
       "3      2019-01-07 09:30:00       1                        0.301100  0.038618\n",
       "4      2019-01-08 09:30:00       1                        0.143749  0.039054\n",
       "...                    ...     ...                             ...       ...\n",
       "451179 2021-06-23 09:30:00  601399                       -0.001553 -0.017544\n",
       "451180 2021-06-24 09:30:00  601399                       -0.029387 -0.020649\n",
       "451181 2021-06-25 09:30:00  601399                        0.019083 -0.011940\n",
       "451182 2021-06-28 09:30:00  601399                        0.005569 -0.052326\n",
       "451183 2021-06-29 09:30:00  601399                        0.000040 -0.023810\n",
       "\n",
       "[2164480 rows x 4 columns]"
      ]
     },
     "metadata": {},
     "output_type": "display_data"
    }
   ],
   "source": [
    "# 生成标准数据\n",
    "df = pd.DataFrame()\n",
    "for f, _, i in walk(path):\n",
    "    for j in tqdm(i):\n",
    "        df = pd.concat([df,pd.read_csv(f + \"/\" + j)],axis=0)\n",
    "df.rename(columns={'AlphaNet': alpha_name}, inplace=True)\n",
    "df['timestamp'] = pd.to_datetime(df['timestamp'].astype(str))\n",
    "display(df)\n",
    "# output\n",
    "convert_to_standard_daily_feature_csv(alpha_name, df.drop(\"target\",axis=1), output_path)"
   ]
  },
  {
   "cell_type": "markdown",
   "id": "c4e021b3",
   "metadata": {},
   "source": [
    "# Loop Back Test"
   ]
  },
  {
   "cell_type": "code",
   "execution_count": 10,
   "id": "554a6a58",
   "metadata": {
    "ExecuteTime": {
     "end_time": "2021-12-09T08:00:03.970478Z",
     "start_time": "2021-12-09T07:59:29.186157Z"
    }
   },
   "outputs": [
    {
     "name": "stdout",
     "output_type": "stream",
     "text": [
      "Loading the configuration from /home/ShareFolder/lgc/Modules/Research/config/feature_bt_template\n"
     ]
    },
    {
     "name": "stderr",
     "output_type": "stream",
     "text": [
      "Loading Feature...:   0%|▏                                                                                            | 1/487 [00:00<00:51,  9.53it/s]"
     ]
    },
    {
     "name": "stdout",
     "output_type": "stream",
     "text": [
      "['AlphaNetV1_Original_Input_1208']\n"
     ]
    },
    {
     "name": "stderr",
     "output_type": "stream",
     "text": [
      "Loading Feature...: 100%|██████████████████████████████████████████████████████████████████████████████████████████| 487/487 [00:01<00:00, 250.68it/s]\n",
      "Loading target...: 100%|███████████████████████████████████████████████████████████████████████████████████████████| 487/487 [00:01<00:00, 295.47it/s]\n",
      "Merging feature and return...: 100%|███████████████████████████████████████████████████████████████████████████████| 487/487 [00:02<00:00, 169.97it/s]\n",
      "Calculating IC value...: 100%|█████████████████████████████████████████████████████████████████████████████████████| 487/487 [00:02<00:00, 233.96it/s]\n",
      "Calculating IC value...: 100%|█████████████████████████████████████████████████████████████████████████████████████| 487/487 [00:00<00:00, 752.04it/s]\n",
      "Getting BT result for date: 20201231...: 100%|██████████████████████████████████████████████████████████████████████| 487/487 [00:06<00:00, 74.51it/s]\n"
     ]
    },
    {
     "name": "stdout",
     "output_type": "stream",
     "text": [
      "\n",
      "AlphaNetV1_Original_Input_1208 back-test result for long-only mode:\n",
      "\n",
      "Back test summary: \"long-only\" mode\n",
      "+-------------------+-------------+----------+-----------+------------+----------+-------------+--------------------------+-------------------+------------+\n",
      "|      period       |  stock_num  |  return  |  ret_std  |  ret_year  |  sharpe  |  win_ratio  |      max_dd|period       |  max_dd_day|date  |  turnover  |\n",
      "+===================+=============+==========+===========+============+==========+=============+==========================+===================+============+\n",
      "| 20190102-20190630 |     213     |  -6.45   |   9.05    |   -12.74   |  -1.66   |    50.43    | 12.22(20190103-20190312) |  1.32(20190222)   |   35.89    |\n",
      "+-------------------+-------------+----------+-----------+------------+----------+-------------+--------------------------+-------------------+------------+\n",
      "| 20190701-20191231 |     495     |  -8.38   |   4.17    |   -15.42   |  -4.20   |    37.60    | 9.49(20190712-20191230)  |  0.85(20191127)   |   40.49    |\n",
      "+-------------------+-------------+----------+-----------+------------+----------+-------------+--------------------------+-------------------+------------+\n",
      "| 20200101-20200630 |     689     |  -13.83  |   9.81    |   -26.40   |  -3.30   |    41.38    | 13.83(20200102-20200630) |  2.77(20200204)   |   44.72    |\n",
      "+-------------------+-------------+----------+-----------+------------+----------+-------------+--------------------------+-------------------+------------+\n",
      "| 20200701-20201231 |     442     |  -1.27   |   9.88    |   -2.41    |  -0.25   |    44.00    | 10.65(20200909-20201231) |  1.36(20201221)   |   39.92    |\n",
      "+-------------------+-------------+----------+-----------+------------+----------+-------------+--------------------------+-------------------+------------+\n"
     ]
    }
   ],
   "source": [
    "import time\n",
    "from Research.backtest.bt import BTDaily\n",
    "from Research.feature.ft import FeatureAnalysis\n",
    "import Research.utils.namespace as namespace\n",
    "import Research.utils.normalization as norm\n",
    "import numpy as np\n",
    "   \n",
    "config_path = r'/home/ShareFolder/lgc/Modules/Research/config/feature_bt_template'\n",
    "print('Loading the configuration from ' + config_path)\n",
    "configs = namespace.load_namespace(config_path)\n",
    "FT = FeatureAnalysis(configs, feature_path=r\"/home/wuwenjun/factor_lib\")\n",
    "alpha_list = list(FT.features_in_path.keys())[-1:]\n",
    "print(alpha_list)\n",
    "start_date = '2019-01-01'\n",
    "end_date = '2021-01-01'\n",
    "FT.load_feature_from_file(alpha_list, start_date, end_date, universe='Investable',\n",
    "                                       timedelta=None, transformer=norm.standard_scale)\n",
    "FT.load_return_data()\n",
    "\n",
    "for alpha_name in alpha_list:\n",
    "    FT.get_intersection_ic(feature_name=alpha_name, truncate_fold=None, method='spearman',\n",
    "                                     period=('1d', '3d', '5d'))\n",
    "    ic_flag, trading_direction = FT.test_ic(alpha_name, verbose=False)\n",
    "#     df, df_all = FT.get_ic_summary_by_month(num=6)\n",
    "\n",
    "    if trading_direction == -1:\n",
    "        negative = True\n",
    "    else:\n",
    "        negative = False\n",
    "    FT.get_top_return(alpha_name, negative=negative, trade_type='long-only', transmission_rate=0.0,\n",
    "                            tax_rate=0.0015, verbose=True)"
   ]
  },
  {
   "cell_type": "code",
   "execution_count": null,
   "id": "10710bac",
   "metadata": {
    "ExecuteTime": {
     "start_time": "2021-12-09T08:07:52.525Z"
    }
   },
   "outputs": [],
   "source": [
    "df.rename(columns = {\"symbol\":\"ticker\",\"timestamp\":\"date\"},inpalce=True)\n",
    "df = df[['date','ticker',alpha_name]]\n",
    "df"
   ]
  },
  {
   "cell_type": "code",
   "execution_count": 16,
   "id": "4ae6e650",
   "metadata": {},
   "outputs": [
    {
     "data": {
      "text/plain": [
       "'AlphaNetV1_11_28_Aggregation_Factors'"
      ]
     },
     "execution_count": 16,
     "metadata": {},
     "output_type": "execute_result"
    }
   ],
   "source": [
    "    config_path = r'/home/ShareFolder/lgc/Modules/Platform/config/combo_bt_template'\n",
    "    print('Loading the configuration from ' + config_path)\n",
    "    configs = namespace.load_namespace(config_path)\n",
    "    configs.trading_type = 'long-only'\n",
    "    configs.data_format = 'dataframe'\n",
    "    configs.ti = 0\n",
    "    configs.trade_period = 0\n",
    "    configs.stock_percentage = False\n",
    "    configs.stock_num = n\n",
    "    configs.transmission_rate = 0.0015\n",
    "    configs.benchmark = \"ZZ500\"\n",
    "    configs.bt_price = bt_ptrice\n",
    "    configs.universe = \"Investable\"\n",
    "    #configs.score_sorted = False\n",
    "    configs.keep_pos_percentile = 0.0\n",
    "\n",
    "    df = standard_res.reset_index()\n",
    "\n",
    "    df.columns = ['date', 'ticker', 'model']\n",
    "    #df['date'] = pd.to_datetime(df['date']).dt.strftime('%Y%m%d').astype(int)\n",
    "    df.set_index('date', inplace=True)\n",
    "    #####################################\n",
    "\n",
    "    bt = BTDaily(configs, start_date=start_date, end_date= end_date)\n",
    "\n",
    "    bt.feed_data(df)\n",
    "    bt.run()\n",
    "    start =int(datetime.strptime(start_date, '%Y-%m-%d').date().strftime('%Y%m%d'))\n",
    "    end = int(datetime.strptime(end_date, '%Y-%m-%d').date().strftime('%Y%m%d'))\n",
    "    df, df_final = bt.evaluate(evalRange=((start, end),))"
   ]
  }
 ],
 "metadata": {
  "kernelspec": {
   "display_name": "Python 3 (ipykernel)",
   "language": "python",
   "name": "python3"
  },
  "language_info": {
   "codemirror_mode": {
    "name": "ipython",
    "version": 3
   },
   "file_extension": ".py",
   "mimetype": "text/x-python",
   "name": "python",
   "nbconvert_exporter": "python",
   "pygments_lexer": "ipython3",
   "version": "3.7.9"
  }
 },
 "nbformat": 4,
 "nbformat_minor": 5
}
