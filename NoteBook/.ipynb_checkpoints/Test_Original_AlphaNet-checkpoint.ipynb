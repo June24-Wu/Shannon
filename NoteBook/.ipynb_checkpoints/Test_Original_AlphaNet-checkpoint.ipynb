{
 "cells": [
  {
   "cell_type": "code",
   "execution_count": 1,
   "id": "47f5acde",
   "metadata": {
    "ExecuteTime": {
     "end_time": "2021-12-22T09:00:42.239225Z",
     "start_time": "2021-12-22T09:00:42.225074Z"
    }
   },
   "outputs": [],
   "source": [
    "Alpha_Name = \"AlphaNet_Original_Input_12.22_1d_return\"\n",
    "path = '/home/wuwenjun/Data/' + Alpha_Name +'/'\n",
    "target = \"1d_ret\""
   ]
  },
  {
   "cell_type": "code",
   "execution_count": 2,
   "id": "483bd59f",
   "metadata": {
    "ExecuteTime": {
     "end_time": "2021-12-22T09:00:45.263125Z",
     "start_time": "2021-12-22T09:00:43.088122Z"
    }
   },
   "outputs": [],
   "source": [
    "from os import walk\n",
    "import pandas as pd\n",
    "import numpy as np\n",
    "import torch\n",
    "import torch.nn as nn\n",
    "from progressbar import ProgressBar\n",
    "from tqdm import tqdm\n",
    "import torch.utils.data as Data\n",
    "import torch.optim as optim\n",
    "from tqdm import tqdm\n",
    "from torch.autograd import Variable\n",
    "import time\n",
    "import multiprocessing as mp\n",
    "from os import walk\n",
    "import matplotlib.pyplot as plt\n",
    "feat_num = 9"
   ]
  },
  {
   "cell_type": "code",
   "execution_count": 3,
   "id": "b692dba4",
   "metadata": {
    "ExecuteTime": {
     "end_time": "2021-12-22T09:00:45.284121Z",
     "start_time": "2021-12-22T09:00:45.266199Z"
    }
   },
   "outputs": [
    {
     "name": "stderr",
     "output_type": "stream",
     "text": [
      "100%|██████████| 26/26 [00:00<00:00, 231042.17it/s]\n"
     ]
    },
    {
     "data": {
      "text/plain": [
       "['2015-01-01_2015-03-01.par',\n",
       " '2015-03-01_2015-06-01.par',\n",
       " '2015-06-01_2015-09-01.par',\n",
       " '2015-09-01_2016-01-01.par',\n",
       " '2016-01-01_2016-03-01.par',\n",
       " '2016-03-01_2016-06-01.par',\n",
       " '2016-06-01_2016-09-01.par',\n",
       " '2016-09-01_2017-01-01.par',\n",
       " '2017-01-01_2017-03-01.par',\n",
       " '2017-03-01_2017-06-01.par',\n",
       " '2017-06-01_2017-09-01.par',\n",
       " '2017-09-01_2018-01-01.par',\n",
       " '2018-01-01_2018-03-01.par',\n",
       " '2018-03-01_2018-06-01.par',\n",
       " '2018-06-01_2018-09-01.par',\n",
       " '2018-09-01_2019-01-01.par',\n",
       " '2019-01-01_2019-03-01.par',\n",
       " '2019-03-01_2019-06-01.par',\n",
       " '2019-06-01_2019-09-01.par',\n",
       " '2019-09-01_2020-01-01.par',\n",
       " '2020-01-01_2020-03-01.par',\n",
       " '2020-03-01_2020-06-01.par',\n",
       " '2020-06-01_2020-09-01.par',\n",
       " '2020-09-01_2021-01-01.par',\n",
       " '2021-01-01_2021-03-01.par',\n",
       " '2021-03-01_2021-06-01.par']"
      ]
     },
     "execution_count": 3,
     "metadata": {},
     "output_type": "execute_result"
    }
   ],
   "source": [
    "time_list = []\n",
    "data_path = path + \"Data/\"\n",
    "dataframe_list = pd.DataFrame()\n",
    "for f, _, i in walk(data_path):\n",
    "    for j in tqdm(i):\n",
    "        time_list.append(j)\n",
    "time_list.sort()     \n",
    "time_list"
   ]
  },
  {
   "cell_type": "code",
   "execution_count": null,
   "id": "615c8dec",
   "metadata": {
    "ExecuteTime": {
     "start_time": "2021-12-22T09:02:08.779Z"
    },
    "scrolled": true
   },
   "outputs": [
    {
     "name": "stderr",
     "output_type": "stream",
     "text": [
      " 93%|█████████▎| 14/15 [00:31<00:02,  2.61s/it]"
     ]
    }
   ],
   "source": [
    "train_timestamp = time_list[:15]\n",
    "test_timestamp = time_list[15:17]\n",
    "trainx , trainy , testx , testy = [] , [] , [],  []\n",
    "\n",
    "for train in tqdm(train_timestamp):\n",
    "    df = pd.read_parquet(path+ \"Final/\" + train).set_index([\"timestamp\",\"ticker\"])\n",
    "    trainx.append(df.drop(\"target\",axis=1))\n",
    "    trainy.append(df['target'])\n",
    "trainx = pd.concat(trainx,axis=0)\n",
    "trainy = pd.concat(trainy,axis=0)\n",
    "\n",
    "display(trainx)\n",
    "display(trainy)\n",
    "\n",
    "for test in tqdm(test_timestamp):\n",
    "    df = pd.read_parquet(path+ \"Final/\" + test).set_index([\"timestamp\",\"ticker\"])\n",
    "    testx.append(df.drop(\"target\",axis=1))\n",
    "    testy.append(df['target'])\n",
    "testx = pd.concat(testx,axis=0)\n",
    "testy = pd.concat(testy,axis=0)\n",
    "target_list = pd.DataFrame(testy.copy())\n",
    "display(testx)\n",
    "display(testy)"
   ]
  },
  {
   "cell_type": "code",
   "execution_count": 63,
   "id": "0846171e",
   "metadata": {
    "ExecuteTime": {
     "end_time": "2021-12-22T03:24:53.954017Z",
     "start_time": "2021-12-22T03:24:51.617250Z"
    }
   },
   "outputs": [
    {
     "name": "stdout",
     "output_type": "stream",
     "text": [
      "trainx.shape:  torch.Size([2913468, 189])\n",
      "trainy.shape:  torch.Size([2913468, 1])\n",
      "testx.shape:  torch.Size([131698, 189])\n",
      "testy.shape:  torch.Size([131698, 1])\n"
     ]
    }
   ],
   "source": [
    "trainx = torch.from_numpy(np.array(trainx))\n",
    "trainy = torch.from_numpy(np.array(trainy).reshape(-1,1))\n",
    "testx = torch.from_numpy(np.array(testx))\n",
    "testy = torch.from_numpy(np.array(testy).reshape(-1,1))\n",
    "print(\"trainx.shape: \" , trainx.shape)\n",
    "print(\"trainy.shape: \" , trainy.shape)\n",
    "print(\"testx.shape: \" , testx.shape)\n",
    "print(\"testy.shape: \" , testy.shape)"
   ]
  },
  {
   "cell_type": "code",
   "execution_count": 64,
   "id": "f7c73212",
   "metadata": {
    "ExecuteTime": {
     "end_time": "2021-12-22T03:24:53.970031Z",
     "start_time": "2021-12-22T03:24:53.966474Z"
    }
   },
   "outputs": [],
   "source": [
    "train_dataset = Data.TensorDataset(trainx, trainy)\n",
    "test_dataset = Data.TensorDataset(testx, testy)\n",
    "batch_size = 512\n",
    "train_loader = Data.DataLoader(\n",
    "    dataset=train_dataset,\n",
    "    batch_size=batch_size,\n",
    "    shuffle=True,\n",
    "    num_workers=0\n",
    ")\n",
    "\n",
    "test_loader = Data.DataLoader(\n",
    "    dataset=test_dataset,\n",
    "    batch_size=batch_size,\n",
    "    shuffle=False,\n",
    "    num_workers=0\n",
    ")"
   ]
  },
  {
   "cell_type": "code",
   "execution_count": 65,
   "id": "4ef48be2",
   "metadata": {
    "ExecuteTime": {
     "end_time": "2021-12-22T03:24:53.975549Z",
     "start_time": "2021-12-22T03:24:53.971483Z"
    }
   },
   "outputs": [],
   "source": [
    "class AlphaNet(nn.Module):\n",
    "    def __init__(self, factor_num, fully_connect_layer_neural):\n",
    "        super(AlphaNet, self).__init__()\n",
    "        self.fc1_neuron = int((factor_num * (factor_num - 1) / 2 + 3 * factor_num) * 3)\n",
    "        self.fc2_neuron = fully_connect_layer_neural\n",
    "#         self.batch = torch.nn.BatchNorm1d(self.fc1_neuron)\n",
    "        self.fc1 = torch.nn.Linear(self.fc1_neuron, self.fc2_neuron)\n",
    "        self.dropout = nn.Dropout(0.3)\n",
    "        self.relu = nn.ReLU()\n",
    "        self.out = nn.Linear(self.fc2_neuron, 1)\n",
    "\n",
    "    def forward(self, x):\n",
    "#         x = self.batch(x)\n",
    "        x = self.fc1(x)\n",
    "        x = self.relu(x)\n",
    "        x = self.dropout(x)\n",
    "        y_pred = self.out(x)\n",
    "        return y_pred"
   ]
  },
  {
   "cell_type": "code",
   "execution_count": 66,
   "id": "d25cb2fa",
   "metadata": {
    "ExecuteTime": {
     "end_time": "2021-12-22T03:29:09.366336Z",
     "start_time": "2021-12-22T03:24:53.976707Z"
    }
   },
   "outputs": [
    {
     "name": "stderr",
     "output_type": "stream",
     "text": [
      "\r",
      "  0%|          | 0/5 [00:00<?, ?it/s]"
     ]
    },
    {
     "name": "stdout",
     "output_type": "stream",
     "text": [
      "AlphaNet(\n",
      "  (fc1): Linear(in_features=189, out_features=30, bias=True)\n",
      "  (dropout): Dropout(p=0.3, inplace=False)\n",
      "  (relu): ReLU()\n",
      "  (out): Linear(in_features=30, out_features=1, bias=True)\n",
      ")\n"
     ]
    },
    {
     "name": "stderr",
     "output_type": "stream",
     "text": [
      "\r",
      " 20%|██        | 1/5 [00:51<03:25, 51.46s/it]"
     ]
    },
    {
     "name": "stdout",
     "output_type": "stream",
     "text": [
      "Epoch:  1  loss:  0.940475619038757\n"
     ]
    },
    {
     "name": "stderr",
     "output_type": "stream",
     "text": [
      "\r",
      " 40%|████      | 2/5 [01:47<02:42, 54.13s/it]"
     ]
    },
    {
     "name": "stdout",
     "output_type": "stream",
     "text": [
      "Epoch:  2  loss:  0.922986619418006\n"
     ]
    },
    {
     "name": "stderr",
     "output_type": "stream",
     "text": [
      "\r",
      " 60%|██████    | 3/5 [02:37<01:44, 52.27s/it]"
     ]
    },
    {
     "name": "stdout",
     "output_type": "stream",
     "text": [
      "Epoch:  3  loss:  0.9201367026638597\n"
     ]
    },
    {
     "name": "stderr",
     "output_type": "stream",
     "text": [
      "\r",
      " 80%|████████  | 4/5 [03:26<00:50, 50.97s/it]"
     ]
    },
    {
     "name": "stdout",
     "output_type": "stream",
     "text": [
      "Epoch:  4  loss:  0.919087653777334\n"
     ]
    },
    {
     "name": "stderr",
     "output_type": "stream",
     "text": [
      "100%|██████████| 5/5 [04:15<00:00, 51.08s/it]"
     ]
    },
    {
     "name": "stdout",
     "output_type": "stream",
     "text": [
      "Epoch:  5  loss:  0.9180495338651582\n"
     ]
    },
    {
     "name": "stderr",
     "output_type": "stream",
     "text": [
      "\n"
     ]
    }
   ],
   "source": [
    "alphanet = AlphaNet(feat_num, 30)\n",
    "# alphanet = alphanet.cuda()\n",
    "# alphanet = torch.nn.parallel.DataParallel(alphanet)\n",
    "print(alphanet)\n",
    "total_length = trainx.shape[0]\n",
    "LR = 0.00001\n",
    "loss_function = nn.MSELoss()\n",
    "optimizer = optim.RMSprop(alphanet.parameters(), lr=LR, alpha=0.9)\n",
    "# scheduler = torch.optim.lr_scheduler.StepLR(optimizer,step_size=2,gamma = 0.5)\n",
    "epoch_num = 5\n",
    "loss_list = []\n",
    "\n",
    "# for epoch in range(epoch_num):\n",
    "#     optimizer.step()\n",
    "#     scheduler.step()\n",
    "#     lr_list.append(optimizer.state_dict()['param_groups'][0]['lr'])\n",
    "# plt.plot(range(epoch_num),lr_list,color = 'r')\n",
    "\n",
    "for epoch in tqdm(range(epoch_num)):\n",
    "    total_loss = 0\n",
    "    for _, (data, label) in enumerate(train_loader):\n",
    "        optimizer.zero_grad()\n",
    "        data = Variable(data).float()\n",
    "        label = Variable(label).float()\n",
    "        pred = alphanet(data)\n",
    "        loss = loss_function(pred, label)\n",
    "        loss.backward()\n",
    "        optimizer.step()\n",
    "#         lr_list.append(optimizer.state_dict()['param_groups'][0]['lr'])\n",
    "        total_loss += loss.item()\n",
    "    total_loss = total_loss * batch_size / total_length\n",
    "    print('Epoch: ', epoch + 1, ' loss: ', total_loss)\n",
    "    loss_list.append(total_loss)"
   ]
  },
  {
   "cell_type": "code",
   "execution_count": 67,
   "id": "945e4c78",
   "metadata": {
    "ExecuteTime": {
     "end_time": "2021-12-22T03:33:15.472681Z",
     "start_time": "2021-12-22T03:29:09.368147Z"
    }
   },
   "outputs": [
    {
     "name": "stderr",
     "output_type": "stream",
     "text": [
      " 20%|██        | 1/5 [00:49<03:19, 49.95s/it]"
     ]
    },
    {
     "name": "stdout",
     "output_type": "stream",
     "text": [
      "Epoch:  1  loss:  0.9178445119153249\n"
     ]
    },
    {
     "name": "stderr",
     "output_type": "stream",
     "text": [
      "\r",
      " 40%|████      | 2/5 [01:40<02:30, 50.13s/it]"
     ]
    },
    {
     "name": "stdout",
     "output_type": "stream",
     "text": [
      "Epoch:  2  loss:  0.9178797870407832\n"
     ]
    },
    {
     "name": "stderr",
     "output_type": "stream",
     "text": [
      "\r",
      " 60%|██████    | 3/5 [02:29<01:39, 49.79s/it]"
     ]
    },
    {
     "name": "stdout",
     "output_type": "stream",
     "text": [
      "Epoch:  3  loss:  0.9177807244591379\n"
     ]
    },
    {
     "name": "stderr",
     "output_type": "stream",
     "text": [
      "\r",
      " 80%|████████  | 4/5 [03:17<00:49, 49.14s/it]"
     ]
    },
    {
     "name": "stdout",
     "output_type": "stream",
     "text": [
      "Epoch:  4  loss:  0.9179401506143965\n"
     ]
    },
    {
     "name": "stderr",
     "output_type": "stream",
     "text": [
      "100%|██████████| 5/5 [04:06<00:00, 49.22s/it]"
     ]
    },
    {
     "name": "stdout",
     "output_type": "stream",
     "text": [
      "Epoch:  5  loss:  0.9177923090527471\n"
     ]
    },
    {
     "name": "stderr",
     "output_type": "stream",
     "text": [
      "\n"
     ]
    }
   ],
   "source": [
    "optimizer = optim.RMSprop(alphanet.parameters(), lr=LR/100, alpha=0.9)\n",
    "for epoch in tqdm(range(epoch_num)):\n",
    "    total_loss = 0\n",
    "    for _, (data, label) in enumerate(train_loader):\n",
    "        optimizer.zero_grad()\n",
    "        data = Variable(data).float()\n",
    "        label = Variable(label).float()\n",
    "        pred = alphanet(data)\n",
    "        loss = loss_function(pred, label)\n",
    "        loss.backward()\n",
    "        optimizer.step()\n",
    "#         lr_list.append(optimizer.state_dict()['param_groups'][0]['lr'])\n",
    "        total_loss += loss.item()\n",
    "    total_loss = total_loss * batch_size / total_length\n",
    "    print('Epoch: ', epoch + 1, ' loss: ', total_loss)\n",
    "    loss_list.append(total_loss)"
   ]
  },
  {
   "cell_type": "code",
   "execution_count": 68,
   "id": "22c43346",
   "metadata": {
    "ExecuteTime": {
     "end_time": "2021-12-22T03:44:17.727490Z",
     "start_time": "2021-12-22T03:33:15.474249Z"
    }
   },
   "outputs": [
    {
     "name": "stderr",
     "output_type": "stream",
     "text": [
      " 20%|██        | 1/5 [00:51<03:24, 51.06s/it]"
     ]
    },
    {
     "name": "stdout",
     "output_type": "stream",
     "text": [
      "Epoch:  1  loss:  0.9179297162638272\n"
     ]
    },
    {
     "name": "stderr",
     "output_type": "stream",
     "text": [
      "\r",
      " 40%|████      | 2/5 [06:23<10:48, 216.32s/it]"
     ]
    },
    {
     "name": "stdout",
     "output_type": "stream",
     "text": [
      "Epoch:  2  loss:  0.9179202760105852\n"
     ]
    },
    {
     "name": "stderr",
     "output_type": "stream",
     "text": [
      "\r",
      " 60%|██████    | 3/5 [09:30<06:46, 203.16s/it]"
     ]
    },
    {
     "name": "stdout",
     "output_type": "stream",
     "text": [
      "Epoch:  3  loss:  0.9178670902795125\n"
     ]
    },
    {
     "name": "stderr",
     "output_type": "stream",
     "text": [
      "\r",
      " 80%|████████  | 4/5 [10:16<02:21, 141.13s/it]"
     ]
    },
    {
     "name": "stdout",
     "output_type": "stream",
     "text": [
      "Epoch:  4  loss:  0.9178781362138829\n"
     ]
    },
    {
     "name": "stderr",
     "output_type": "stream",
     "text": [
      "100%|██████████| 5/5 [11:02<00:00, 132.45s/it]"
     ]
    },
    {
     "name": "stdout",
     "output_type": "stream",
     "text": [
      "Epoch:  5  loss:  0.9178535383253416\n"
     ]
    },
    {
     "name": "stderr",
     "output_type": "stream",
     "text": [
      "\n"
     ]
    }
   ],
   "source": [
    "optimizer = optim.RMSprop(alphanet.parameters(), lr=LR/1000, alpha=0.9)\n",
    "for epoch in tqdm(range(epoch_num)):\n",
    "    total_loss = 0\n",
    "    for _, (data, label) in enumerate(train_loader):\n",
    "        optimizer.zero_grad()\n",
    "        data = Variable(data).float()\n",
    "        label = Variable(label).float()\n",
    "        pred = alphanet(data)\n",
    "        loss = loss_function(pred, label)\n",
    "        loss.backward()\n",
    "        optimizer.step()\n",
    "#         lr_list.append(optimizer.state_dict()['param_groups'][0]['lr'])\n",
    "        total_loss += loss.item()\n",
    "    total_loss = total_loss * batch_size / total_length\n",
    "    print('Epoch: ', epoch + 1, ' loss: ', total_loss)\n",
    "    loss_list.append(total_loss)"
   ]
  },
  {
   "cell_type": "code",
   "execution_count": 69,
   "id": "fa77f149",
   "metadata": {
    "ExecuteTime": {
     "end_time": "2021-12-22T03:48:22.139050Z",
     "start_time": "2021-12-22T03:44:17.728930Z"
    }
   },
   "outputs": [
    {
     "name": "stderr",
     "output_type": "stream",
     "text": [
      " 20%|██        | 1/5 [00:46<03:04, 46.20s/it]"
     ]
    },
    {
     "name": "stdout",
     "output_type": "stream",
     "text": [
      "Epoch:  1  loss:  0.9177573970626994\n"
     ]
    },
    {
     "name": "stderr",
     "output_type": "stream",
     "text": [
      "\r",
      " 40%|████      | 2/5 [01:33<02:19, 46.60s/it]"
     ]
    },
    {
     "name": "stdout",
     "output_type": "stream",
     "text": [
      "Epoch:  2  loss:  0.9177830818016562\n"
     ]
    },
    {
     "name": "stderr",
     "output_type": "stream",
     "text": [
      "\r",
      " 60%|██████    | 3/5 [02:21<01:35, 47.52s/it]"
     ]
    },
    {
     "name": "stdout",
     "output_type": "stream",
     "text": [
      "Epoch:  3  loss:  0.9178543747790803\n"
     ]
    },
    {
     "name": "stderr",
     "output_type": "stream",
     "text": [
      "\r",
      " 80%|████████  | 4/5 [03:12<00:48, 48.77s/it]"
     ]
    },
    {
     "name": "stdout",
     "output_type": "stream",
     "text": [
      "Epoch:  4  loss:  0.9178011301699602\n"
     ]
    },
    {
     "name": "stderr",
     "output_type": "stream",
     "text": [
      "100%|██████████| 5/5 [04:04<00:00, 48.88s/it]"
     ]
    },
    {
     "name": "stdout",
     "output_type": "stream",
     "text": [
      "Epoch:  5  loss:  0.9179373811464966\n"
     ]
    },
    {
     "name": "stderr",
     "output_type": "stream",
     "text": [
      "\n"
     ]
    }
   ],
   "source": [
    "optimizer = optim.RMSprop(alphanet.parameters(), lr=LR/10000, alpha=0.9)\n",
    "for epoch in tqdm(range(epoch_num)):\n",
    "    total_loss = 0\n",
    "    for _, (data, label) in enumerate(train_loader):\n",
    "        optimizer.zero_grad()\n",
    "        data = Variable(data).float()\n",
    "        label = Variable(label).float()\n",
    "        pred = alphanet(data)\n",
    "        loss = loss_function(pred, label)\n",
    "        loss.backward()\n",
    "        optimizer.step()\n",
    "#         lr_list.append(optimizer.state_dict()['param_groups'][0]['lr'])\n",
    "        total_loss += loss.item()\n",
    "    total_loss = total_loss * batch_size / total_length\n",
    "    print('Epoch: ', epoch + 1, ' loss: ', total_loss)\n",
    "    loss_list.append(total_loss)"
   ]
  },
  {
   "cell_type": "code",
   "execution_count": 70,
   "id": "6a2e8b14",
   "metadata": {
    "ExecuteTime": {
     "end_time": "2021-12-22T03:48:22.233991Z",
     "start_time": "2021-12-22T03:48:22.140414Z"
    }
   },
   "outputs": [
    {
     "data": {
      "text/plain": [
       "[<matplotlib.lines.Line2D at 0x7f04585c1ed0>]"
      ]
     },
     "execution_count": 70,
     "metadata": {},
     "output_type": "execute_result"
    },
    {
     "data": {
      "image/png": "[encoded data removed]",
      "text/plain": [
       "<Figure size 432x288 with 1 Axes>"
      ]
     },
     "metadata": {
      "needs_background": "light"
     },
     "output_type": "display_data"
    }
   ],
   "source": [
    "plt.plot(loss_list,color = 'r')"
   ]
  },
  {
   "cell_type": "code",
   "execution_count": 71,
   "id": "ac643691",
   "metadata": {
    "ExecuteTime": {
     "end_time": "2021-12-22T04:58:31.295143Z",
     "start_time": "2021-12-22T04:58:29.600647Z"
    },
    "scrolled": true
   },
   "outputs": [],
   "source": [
    "pred_list = []\n",
    "label_list = []\n",
    "for _, (data, label) in enumerate(test_loader):\n",
    "    data = Variable(data).float()\n",
    "    pred = alphanet(data)\n",
    "    pred_list.extend(pred.tolist())\n",
    "    label_list.extend(label.tolist())\n",
    "# final = pd.concat([test_target, pd.DataFrame(pred_list)], axis=1)\n",
    "# alpha_name = 'AlphaNetV1_Original_Input_1208'\n",
    "# final.rename(columns={0: alpha_name, 'ticker': 'symbol'}, inplace=True)\n",
    "# final = final.reindex(columns=['symbol', 'timestamp', alpha_name,'target'])\n",
    "# final.set_index(['symbol', 'timestamp']).to_csv(output_path + \"result/\"+'%s_%s.csv' % (time_start, time_end))"
   ]
  },
  {
   "cell_type": "code",
   "execution_count": 72,
   "id": "c1127f6d",
   "metadata": {
    "ExecuteTime": {
     "end_time": "2021-12-22T04:58:35.529151Z",
     "start_time": "2021-12-22T04:58:35.457207Z"
    }
   },
   "outputs": [
    {
     "data": {
      "text/html": [
       "<div>\n",
       "<style scoped>\n",
       "    .dataframe tbody tr th:only-of-type {\n",
       "        vertical-align: middle;\n",
       "    }\n",
       "\n",
       "    .dataframe tbody tr th {\n",
       "        vertical-align: top;\n",
       "    }\n",
       "\n",
       "    .dataframe thead th {\n",
       "        text-align: right;\n",
       "    }\n",
       "</style>\n",
       "<table border=\"1\" class=\"dataframe\">\n",
       "  <thead>\n",
       "    <tr style=\"text-align: right;\">\n",
       "      <th></th>\n",
       "      <th>timestamp</th>\n",
       "      <th>symbol</th>\n",
       "      <th>target</th>\n",
       "      <th>AlphaNet_Original_Input_12.22_1d_return</th>\n",
       "    </tr>\n",
       "  </thead>\n",
       "  <tbody>\n",
       "    <tr>\n",
       "      <th>0</th>\n",
       "      <td>2019-01-02 09:30:00</td>\n",
       "      <td>1</td>\n",
       "      <td>-0.700549</td>\n",
       "      <td>-0.051784</td>\n",
       "    </tr>\n",
       "    <tr>\n",
       "      <th>1</th>\n",
       "      <td>2019-01-02 09:30:00</td>\n",
       "      <td>2</td>\n",
       "      <td>0.144733</td>\n",
       "      <td>-0.010981</td>\n",
       "    </tr>\n",
       "    <tr>\n",
       "      <th>2</th>\n",
       "      <td>2019-01-02 09:30:00</td>\n",
       "      <td>4</td>\n",
       "      <td>0.289799</td>\n",
       "      <td>-0.026168</td>\n",
       "    </tr>\n",
       "    <tr>\n",
       "      <th>3</th>\n",
       "      <td>2019-01-02 09:30:00</td>\n",
       "      <td>5</td>\n",
       "      <td>0.061417</td>\n",
       "      <td>-0.065517</td>\n",
       "    </tr>\n",
       "    <tr>\n",
       "      <th>4</th>\n",
       "      <td>2019-01-02 09:30:00</td>\n",
       "      <td>6</td>\n",
       "      <td>-0.023335</td>\n",
       "      <td>-0.022024</td>\n",
       "    </tr>\n",
       "    <tr>\n",
       "      <th>...</th>\n",
       "      <td>...</td>\n",
       "      <td>...</td>\n",
       "      <td>...</td>\n",
       "      <td>...</td>\n",
       "    </tr>\n",
       "    <tr>\n",
       "      <th>131693</th>\n",
       "      <td>2019-02-28 09:30:00</td>\n",
       "      <td>300756</td>\n",
       "      <td>-0.022381</td>\n",
       "      <td>0.048641</td>\n",
       "    </tr>\n",
       "    <tr>\n",
       "      <th>131694</th>\n",
       "      <td>2019-02-28 09:30:00</td>\n",
       "      <td>603185</td>\n",
       "      <td>-0.848640</td>\n",
       "      <td>0.159673</td>\n",
       "    </tr>\n",
       "    <tr>\n",
       "      <th>131695</th>\n",
       "      <td>2019-02-28 09:30:00</td>\n",
       "      <td>601860</td>\n",
       "      <td>6.321824</td>\n",
       "      <td>-0.069925</td>\n",
       "    </tr>\n",
       "    <tr>\n",
       "      <th>131696</th>\n",
       "      <td>2019-02-28 09:30:00</td>\n",
       "      <td>300757</td>\n",
       "      <td>0.623086</td>\n",
       "      <td>-0.131633</td>\n",
       "    </tr>\n",
       "    <tr>\n",
       "      <th>131697</th>\n",
       "      <td>2019-02-28 09:30:00</td>\n",
       "      <td>601975</td>\n",
       "      <td>0.485874</td>\n",
       "      <td>-0.017112</td>\n",
       "    </tr>\n",
       "  </tbody>\n",
       "</table>\n",
       "<p>131698 rows × 4 columns</p>\n",
       "</div>"
      ],
      "text/plain": [
       "                 timestamp  symbol    target  \\\n",
       "0      2019-01-02 09:30:00       1 -0.700549   \n",
       "1      2019-01-02 09:30:00       2  0.144733   \n",
       "2      2019-01-02 09:30:00       4  0.289799   \n",
       "3      2019-01-02 09:30:00       5  0.061417   \n",
       "4      2019-01-02 09:30:00       6 -0.023335   \n",
       "...                    ...     ...       ...   \n",
       "131693 2019-02-28 09:30:00  300756 -0.022381   \n",
       "131694 2019-02-28 09:30:00  603185 -0.848640   \n",
       "131695 2019-02-28 09:30:00  601860  6.321824   \n",
       "131696 2019-02-28 09:30:00  300757  0.623086   \n",
       "131697 2019-02-28 09:30:00  601975  0.485874   \n",
       "\n",
       "        AlphaNet_Original_Input_12.22_1d_return  \n",
       "0                                     -0.051784  \n",
       "1                                     -0.010981  \n",
       "2                                     -0.026168  \n",
       "3                                     -0.065517  \n",
       "4                                     -0.022024  \n",
       "...                                         ...  \n",
       "131693                                 0.048641  \n",
       "131694                                 0.159673  \n",
       "131695                                -0.069925  \n",
       "131696                                -0.131633  \n",
       "131697                                -0.017112  \n",
       "\n",
       "[131698 rows x 4 columns]"
      ]
     },
     "execution_count": 72,
     "metadata": {},
     "output_type": "execute_result"
    }
   ],
   "source": [
    "final = pd.DataFrame(pred_list)\n",
    "final = pd.concat([target_list.reset_index(),final],axis=1)\n",
    "final.rename(columns={0:Alpha_Name,'ticker': 'symbol'},inplace=True)\n",
    "# final.set_index([\"timestamp\",\"symbol\"],inplace=True)\n",
    "final"
   ]
  },
  {
   "cell_type": "code",
   "execution_count": 74,
   "id": "c532d5a9",
   "metadata": {
    "ExecuteTime": {
     "end_time": "2021-12-22T04:59:00.947535Z",
     "start_time": "2021-12-22T04:59:00.848179Z"
    }
   },
   "outputs": [],
   "source": [
    "final.to_parquet('/home/wuwenjun/Alpha_Factor/AlphaNet_Original_Input_12.22_1d_return/result/2019-01-01_2019-03-01.par')"
   ]
  },
  {
   "cell_type": "code",
   "execution_count": 73,
   "id": "c9637d68",
   "metadata": {
    "ExecuteTime": {
     "end_time": "2021-12-22T04:58:54.118798Z",
     "start_time": "2021-12-22T04:58:54.111255Z"
    }
   },
   "outputs": [
    {
     "data": {
      "text/plain": [
       "['2019-01-01_2019-03-01.par']"
      ]
     },
     "execution_count": 73,
     "metadata": {},
     "output_type": "execute_result"
    }
   ],
   "source": [
    "time_list[16:17]"
   ]
  }
 ],
 "metadata": {
  "kernelspec": {
   "display_name": "Python 3 (ipykernel)",
   "language": "python",
   "name": "python3"
  },
  "language_info": {
   "codemirror_mode": {
    "name": "ipython",
    "version": 3
   },
   "file_extension": ".py",
   "mimetype": "text/x-python",
   "name": "python",
   "nbconvert_exporter": "python",
   "pygments_lexer": "ipython3",
   "version": "3.7.9"
  }
 },
 "nbformat": 4,
 "nbformat_minor": 5
}
