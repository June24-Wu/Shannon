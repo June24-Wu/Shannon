{
 "cells": [
  {
   "cell_type": "code",
   "execution_count": 24,
   "id": "77f29d45",
   "metadata": {
    "ExecuteTime": {
     "end_time": "2022-01-21T02:08:24.643270Z",
     "start_time": "2022-01-21T02:08:24.637575Z"
    }
   },
   "outputs": [],
   "source": [
    "from matplotlib import pyplot as plt\n",
    "import numpy as np \n",
    "import pandas as pd \n",
    "import os\n",
    "from tqdm import tqdm\n",
    "day = 10"
   ]
  },
  {
   "cell_type": "code",
   "execution_count": 25,
   "id": "40186be1",
   "metadata": {
    "ExecuteTime": {
     "end_time": "2022-01-21T02:08:26.219462Z",
     "start_time": "2022-01-21T02:08:26.214251Z"
    }
   },
   "outputs": [],
   "source": [
    "feat_list = [\n",
    "            'open','high','low','close','vwap','volume','pct_chg','turnover','free_turnover'\n",
    "#             \"open_ts_norm_30d\",\"high_ts_norm_30d\",\"low_ts_norm_30d\",\"close_ts_norm_30d\",\"vwap_ts_norm_30d\" \n",
    "#             ,\"volume_ts_norm_30d\" ,\"pct_chg_ts_norm_30d\" ,\"turnover_ts_norm_30d\" ,\"free_turnover_ts_norm_30d\" \n",
    "]"
   ]
  },
  {
   "cell_type": "code",
   "execution_count": 26,
   "id": "3365a86b",
   "metadata": {
    "ExecuteTime": {
     "end_time": "2022-01-21T02:08:27.704386Z",
     "start_time": "2022-01-21T02:08:27.695017Z"
    }
   },
   "outputs": [
    {
     "data": {
      "text/plain": [
       "{'open': 'open',\n",
       " 'high': 'high',\n",
       " 'low': 'low',\n",
       " 'close': 'close',\n",
       " 'vwap': 'vwap',\n",
       " 'volume': 'volume',\n",
       " 'pct_chg': 'pct_chg',\n",
       " 'turnover': 'turnover',\n",
       " 'free_turnover': 'free_turnover',\n",
       " 'open_ts_norm_30d': 'div(sub(open,mavg(30,open)),mstd(30,open))',\n",
       " 'high_ts_norm_30d': 'div(sub(high,mavg(30,high)),mstd(30,high))',\n",
       " 'low_ts_norm_30d': 'div(sub(low,mavg(30,low)),mstd(30,low))',\n",
       " 'close_ts_norm_30d': 'div(sub(close,mavg(30,close)),mstd(30,close))',\n",
       " 'vwap_ts_norm_30d': 'div(sub(vwap,mavg(30,vwap)),mstd(30,vwap))',\n",
       " 'volume_ts_norm_30d': 'div(sub(volume,mavg(30,volume)),mstd(30,volume))',\n",
       " 'pct_chg_ts_norm_30d': 'div(sub(pct_chg,mavg(30,pct_chg)),mstd(30,pct_chg))',\n",
       " 'turnover_ts_norm_30d': 'div(sub(turnover,mavg(30,turnover)),mstd(30,turnover))',\n",
       " 'free_turnover_ts_norm_30d': 'div(sub(free_turnover,mavg(30,free_turnover)),mstd(30,free_turnover))',\n",
       " 'open_residual': 'sub(log(open),log(delay(1,open)))',\n",
       " 'high_residual': 'sub(log(high),log(delay(1,high)))',\n",
       " 'low_residual': 'sub(log(low),log(delay(1,low)))',\n",
       " 'close_residual': 'sub(log(close),log(delay(1,close)))',\n",
       " 'vwap_residual': 'sub(log(vwap),log(delay(1,vwap)))',\n",
       " 'volume_residual': 'sub(log(volume),log(delay(1,volume)))',\n",
       " 'pct_chg_residual': 'sub(log(pct_chg),log(delay(1,pct_chg)))',\n",
       " 'turnover_residual': 'sub(log(turnover),log(delay(1,turnover)))',\n",
       " 'free_turnover_residual': 'sub(log(free_turnover),log(delay(1,free_turnover)))'}"
      ]
     },
     "execution_count": 26,
     "metadata": {},
     "output_type": "execute_result"
    }
   ],
   "source": [
    "dict_load = np.load(\"/home/wuwenjun/jupyter_code/Shannon/AlphaNet/Factor_Description/base_list.npy\",allow_pickle=True)\n",
    "dict_load = dict_load.item()\n",
    "dict_load"
   ]
  },
  {
   "cell_type": "code",
   "execution_count": 29,
   "id": "97e41df3",
   "metadata": {
    "ExecuteTime": {
     "end_time": "2022-01-21T02:08:50.702822Z",
     "start_time": "2022-01-21T02:08:50.696313Z"
    }
   },
   "outputs": [],
   "source": [
    "name_list = []\n",
    "task_list = []\n",
    "for i in name_list2:\n",
    "    name_list.append(i + \"_TsNorm30d\")\n",
    "#     print(alpha_list[i])\n",
    "    task_list.append(\"div(sub(%s,mavg(30,%s)),mstd(30,%s))\" % (alpha_list[i],alpha_list[i],alpha_list[i]))"
   ]
  },
  {
   "cell_type": "code",
   "execution_count": 4,
   "id": "f7707bb9",
   "metadata": {
    "ExecuteTime": {
     "end_time": "2022-01-21T01:56:07.603861Z",
     "start_time": "2022-01-21T01:56:07.599974Z"
    }
   },
   "outputs": [],
   "source": [
    "# for i in feat_list:\n",
    "#     dict_load[\"%s_residual\" %i]  = \"sub(log(%s),log(delay(1,%s)))\" % (i,i)\n",
    "# dict_load"
   ]
  },
  {
   "cell_type": "code",
   "execution_count": 30,
   "id": "7dcf7398",
   "metadata": {
    "ExecuteTime": {
     "end_time": "2022-01-19T09:17:00.334862Z",
     "start_time": "2022-01-19T09:17:00.326215Z"
    }
   },
   "outputs": [],
   "source": [
    "# np.save(\"/home/ShareFolder/feature_platform/ti0/wuwenjun/#Factor_Description/base_list.npy\",dict_load)\n",
    "# np.save(\"/home/wuwenjun/jupyter_code/Shannon/AlphaNet/Factor_Description/base_list.npy\",dict_load)"
   ]
  },
  {
   "cell_type": "code",
   "execution_count": 34,
   "id": "b083949a",
   "metadata": {
    "ExecuteTime": {
     "end_time": "2022-01-19T09:22:22.639514Z",
     "start_time": "2022-01-19T09:22:22.633473Z"
    }
   },
   "outputs": [],
   "source": [
    "# name_list = []\n",
    "# task_list = []\n",
    "# for i in dict_load.keys():\n",
    "#     name_list.append(i)\n",
    "#     task_list.append(dict_load[i])"
   ]
  },
  {
   "cell_type": "code",
   "execution_count": 27,
   "id": "211ae730",
   "metadata": {
    "ExecuteTime": {
     "end_time": "2022-01-21T02:08:32.094279Z",
     "start_time": "2022-01-21T02:08:32.073232Z"
    }
   },
   "outputs": [],
   "source": [
    "name_list = []\n",
    "task_list = []\n",
    "# Moving Cov\n",
    "for i in range(len(feat_list)-1):\n",
    "    for j in range(i+1,len(feat_list)):\n",
    "        name_list.append(\"COV_%s_%s_%s\" % (feat_list[i],feat_list[j],day))\n",
    "        task_list.append(\"mcovar(%s,%s,%s)\" % (day,dict_load[feat_list[i]],dict_load[feat_list[j]]))\n",
    "\n",
    "# Moving Corr\n",
    "for i in range(len(feat_list)):\n",
    "    for j in range(i+1,len(feat_list)):\n",
    "        name_list.append(\"CORR_%s_%s_%s\" % (feat_list[i],feat_list[j],day))\n",
    "        task_list.append(\"ts_corr(%s,%s,%s)\" % (day,dict_load[feat_list[i]],dict_load[feat_list[j]]))\n",
    "\n",
    "# # Moving STD\n",
    "for i in range(len(feat_list)):\n",
    "    name_list.append(\"STD_%s_%s\" % (feat_list[i],day))\n",
    "    task_list.append(\"mstd(%s,%s)\" % (day,dict_load[feat_list[i]]))\n",
    "    \n",
    "# # Z-score\n",
    "for i in range(len(feat_list)):\n",
    "    name_list.append(\"ZSCORE_%s_%s\" % (feat_list[i],day)) \n",
    "    task_list.append(\"div(mavg(%s,%s),mstd(%s,%s))\" % (day,dict_load[feat_list[i]],day,dict_load[feat_list[i]]))\n",
    "    \n",
    "# # Return\n",
    "for i in range(len(feat_list)):\n",
    "    name_list.append(\"RETURN_%s_%s\" % (feat_list[i],day))\n",
    "    task_list.append(\"div(sub(%s,delay(%s,%s)),delay(%s,%s))\" % (dict_load[feat_list[i]],day,dict_load[feat_list[i]],day,dict_load[feat_list[i]])) \n",
    "# Decay \n",
    "for i in range(len(feat_list)):\n",
    "    name_list.append(\"DECAY_%s_%s\" % (feat_list[i],day))\n",
    "    task_list.append(\"decay(%s,%s)\" % (day,dict_load[feat_list[i]]))"
   ]
  },
  {
   "cell_type": "code",
   "execution_count": 38,
   "id": "7c1d2bf0",
   "metadata": {
    "ExecuteTime": {
     "end_time": "2022-01-21T02:39:11.993587Z",
     "start_time": "2022-01-21T02:39:11.986809Z"
    }
   },
   "outputs": [
    {
     "name": "stdout",
     "output_type": "stream",
     "text": [
      "name\n",
      "STD_free_turnover_10_TsNorm30d;ZSCORE_open_10_TsNorm30d;ZSCORE_high_10_TsNorm30d;ZSCORE_low_10_TsNorm30d;ZSCORE_close_10_TsNorm30d;ZSCORE_vwap_10_TsNorm30d;ZSCORE_volume_10_TsNorm30d;ZSCORE_pct_chg_10_TsNorm30d;ZSCORE_turnover_10_TsNorm30d;ZSCORE_free_turnover_10_TsNorm30d;RETURN_open_10_TsNorm30d;RETURN_high_10_TsNorm30d;RETURN_low_10_TsNorm30d;RETURN_close_10_TsNorm30d;RETURN_vwap_10_TsNorm30d;RETURN_volume_10_TsNorm30d;RETURN_pct_chg_10_TsNorm30d;RETURN_turnover_10_TsNorm30d;RETURN_free_turnover_10_TsNorm30d;DECAY_open_10_TsNorm30d;DECAY_high_10_TsNorm30d;DECAY_low_10_TsNorm30d;DECAY_close_10_TsNorm30d;DECAY_vwap_10_TsNorm30d;DECAY_volume_10_TsNorm30d;DECAY_pct_chg_10_TsNorm30d;DECAY_turnover_10_TsNorm30d;DECAY_free_turnover_10_TsNorm30d;\n"
     ]
    }
   ],
   "source": [
    "final = \"\"\n",
    "for i in name_list[80:]:\n",
    "    final += i + \";\"\n",
    "print(\"name\")\n",
    "print(final)"
   ]
  },
  {
   "cell_type": "code",
   "execution_count": 37,
   "id": "d6e0c6d8",
   "metadata": {
    "ExecuteTime": {
     "end_time": "2022-01-21T02:39:10.757373Z",
     "start_time": "2022-01-21T02:39:10.748337Z"
    }
   },
   "outputs": [
    {
     "name": "stdout",
     "output_type": "stream",
     "text": [
      "task\n",
      "div(sub(mstd(10,free_turnover),mavg(30,mstd(10,free_turnover))),mstd(30,mstd(10,free_turnover)));div(sub(div(mavg(10,open),mstd(10,open)),mavg(30,div(mavg(10,open),mstd(10,open)))),mstd(30,div(mavg(10,open),mstd(10,open))));div(sub(div(mavg(10,high),mstd(10,high)),mavg(30,div(mavg(10,high),mstd(10,high)))),mstd(30,div(mavg(10,high),mstd(10,high))));div(sub(div(mavg(10,low),mstd(10,low)),mavg(30,div(mavg(10,low),mstd(10,low)))),mstd(30,div(mavg(10,low),mstd(10,low))));div(sub(div(mavg(10,close),mstd(10,close)),mavg(30,div(mavg(10,close),mstd(10,close)))),mstd(30,div(mavg(10,close),mstd(10,close))));div(sub(div(mavg(10,vwap),mstd(10,vwap)),mavg(30,div(mavg(10,vwap),mstd(10,vwap)))),mstd(30,div(mavg(10,vwap),mstd(10,vwap))));div(sub(div(mavg(10,volume),mstd(10,volume)),mavg(30,div(mavg(10,volume),mstd(10,volume)))),mstd(30,div(mavg(10,volume),mstd(10,volume))));div(sub(div(mavg(10,pct_chg),mstd(10,pct_chg)),mavg(30,div(mavg(10,pct_chg),mstd(10,pct_chg)))),mstd(30,div(mavg(10,pct_chg),mstd(10,pct_chg))));div(sub(div(mavg(10,turnover),mstd(10,turnover)),mavg(30,div(mavg(10,turnover),mstd(10,turnover)))),mstd(30,div(mavg(10,turnover),mstd(10,turnover))));div(sub(div(mavg(10,free_turnover),mstd(10,free_turnover)),mavg(30,div(mavg(10,free_turnover),mstd(10,free_turnover)))),mstd(30,div(mavg(10,free_turnover),mstd(10,free_turnover))));div(sub(div(sub(open,delay(10,open)),delay(10,open)),mavg(30,div(sub(open,delay(10,open)),delay(10,open)))),mstd(30,div(sub(open,delay(10,open)),delay(10,open))));div(sub(div(sub(high,delay(10,high)),delay(10,high)),mavg(30,div(sub(high,delay(10,high)),delay(10,high)))),mstd(30,div(sub(high,delay(10,high)),delay(10,high))));div(sub(div(sub(low,delay(10,low)),delay(10,low)),mavg(30,div(sub(low,delay(10,low)),delay(10,low)))),mstd(30,div(sub(low,delay(10,low)),delay(10,low))));div(sub(div(sub(close,delay(10,close)),delay(10,close)),mavg(30,div(sub(close,delay(10,close)),delay(10,close)))),mstd(30,div(sub(close,delay(10,close)),delay(10,close))));div(sub(div(sub(vwap,delay(10,vwap)),delay(10,vwap)),mavg(30,div(sub(vwap,delay(10,vwap)),delay(10,vwap)))),mstd(30,div(sub(vwap,delay(10,vwap)),delay(10,vwap))));div(sub(div(sub(volume,delay(10,volume)),delay(10,volume)),mavg(30,div(sub(volume,delay(10,volume)),delay(10,volume)))),mstd(30,div(sub(volume,delay(10,volume)),delay(10,volume))));div(sub(div(sub(pct_chg,delay(10,pct_chg)),delay(10,pct_chg)),mavg(30,div(sub(pct_chg,delay(10,pct_chg)),delay(10,pct_chg)))),mstd(30,div(sub(pct_chg,delay(10,pct_chg)),delay(10,pct_chg))));div(sub(div(sub(turnover,delay(10,turnover)),delay(10,turnover)),mavg(30,div(sub(turnover,delay(10,turnover)),delay(10,turnover)))),mstd(30,div(sub(turnover,delay(10,turnover)),delay(10,turnover))));div(sub(div(sub(free_turnover,delay(10,free_turnover)),delay(10,free_turnover)),mavg(30,div(sub(free_turnover,delay(10,free_turnover)),delay(10,free_turnover)))),mstd(30,div(sub(free_turnover,delay(10,free_turnover)),delay(10,free_turnover))));div(sub(decay(10,open),mavg(30,decay(10,open))),mstd(30,decay(10,open)));div(sub(decay(10,high),mavg(30,decay(10,high))),mstd(30,decay(10,high)));div(sub(decay(10,low),mavg(30,decay(10,low))),mstd(30,decay(10,low)));div(sub(decay(10,close),mavg(30,decay(10,close))),mstd(30,decay(10,close)));div(sub(decay(10,vwap),mavg(30,decay(10,vwap))),mstd(30,decay(10,vwap)));div(sub(decay(10,volume),mavg(30,decay(10,volume))),mstd(30,decay(10,volume)));div(sub(decay(10,pct_chg),mavg(30,decay(10,pct_chg))),mstd(30,decay(10,pct_chg)));div(sub(decay(10,turnover),mavg(30,decay(10,turnover))),mstd(30,decay(10,turnover)));div(sub(decay(10,free_turnover),mavg(30,decay(10,free_turnover))),mstd(30,decay(10,free_turnover)));\n"
     ]
    }
   ],
   "source": [
    "final = \"\"\n",
    "for i in task_list[80:]:\n",
    "    final += i + \";\"\n",
    "print(\"task\")\n",
    "print(final)"
   ]
  },
  {
   "cell_type": "code",
   "execution_count": 36,
   "id": "38c6aa15",
   "metadata": {
    "ExecuteTime": {
     "end_time": "2022-01-21T02:32:29.559023Z",
     "start_time": "2022-01-21T02:32:29.418707Z"
    },
    "scrolled": true
   },
   "outputs": [
    {
     "ename": "ValueError",
     "evalue": "No [COV_volume_turnover_10_TsNorm30d] in feature_platform",
     "output_type": "error",
     "traceback": [
      "\u001b[0;31m---------------------------------------------------------------------------\u001b[0m",
      "\u001b[0;31mValueError\u001b[0m                                Traceback (most recent call last)",
      "\u001b[0;32m<ipython-input-36-c36ef9f67435>\u001b[0m in \u001b[0;36m<module>\u001b[0;34m\u001b[0m\n\u001b[1;32m      9\u001b[0m \u001b[0;32mfor\u001b[0m \u001b[0mi\u001b[0m \u001b[0;32min\u001b[0m \u001b[0malpha_list\u001b[0m\u001b[0;34m.\u001b[0m\u001b[0mkeys\u001b[0m\u001b[0;34m(\u001b[0m\u001b[0;34m)\u001b[0m\u001b[0;34m:\u001b[0m\u001b[0;34m\u001b[0m\u001b[0;34m\u001b[0m\u001b[0m\n\u001b[1;32m     10\u001b[0m     \u001b[0;32mif\u001b[0m \u001b[0mi\u001b[0m \u001b[0;32mnot\u001b[0m \u001b[0;32min\u001b[0m \u001b[0mcheck_list\u001b[0m\u001b[0;34m:\u001b[0m\u001b[0;34m\u001b[0m\u001b[0;34m\u001b[0m\u001b[0m\n\u001b[0;32m---> 11\u001b[0;31m         \u001b[0;32mraise\u001b[0m \u001b[0mValueError\u001b[0m\u001b[0;34m(\u001b[0m\u001b[0;34m\"No [%s] in feature_platform\"\u001b[0m \u001b[0;34m%\u001b[0m\u001b[0mi\u001b[0m\u001b[0;34m)\u001b[0m\u001b[0;34m\u001b[0m\u001b[0;34m\u001b[0m\u001b[0m\n\u001b[0m\u001b[1;32m     12\u001b[0m \u001b[0malpha_list\u001b[0m\u001b[0;34m\u001b[0m\u001b[0;34m\u001b[0m\u001b[0m\n",
      "\u001b[0;31mValueError\u001b[0m: No [COV_volume_turnover_10_TsNorm30d] in feature_platform"
     ]
    }
   ],
   "source": [
    "alpha_list = np.load(\"/home/wuwenjun/jupyter_code/Shannon/AlphaNet/Factor_Description/feature_list.npy\",allow_pickle=True)\n",
    "alpha_list = alpha_list.item()\n",
    "Cover = False\n",
    "for i in range(len(task_list)):\n",
    "    if name_list[i] in alpha_list and alpha_list[name_list[i]] != task_list[i] and Cover == False:\n",
    "        raise ValueError(\"contain \" + name_list[i])\n",
    "    alpha_list[name_list[i]] = task_list[i]\n",
    "check_list = list(os.listdir(\"/home/ShareFolder/feature_platform/ti0/wuwenjun\"))\n",
    "for i in alpha_list.keys():\n",
    "    if i not in check_list:\n",
    "        raise ValueError(\"No [%s] in feature_platform\" %i)\n",
    "alpha_list"
   ]
  },
  {
   "cell_type": "code",
   "execution_count": 41,
   "id": "726c15ca",
   "metadata": {
    "ExecuteTime": {
     "end_time": "2022-01-19T09:23:35.136216Z",
     "start_time": "2022-01-19T09:23:35.126705Z"
    }
   },
   "outputs": [],
   "source": [
    "np.save(\"/home/wuwenjun/jupyter_code/Shannon/AlphaNet/Factor_Description/feature_list.npy\",alpha_list)\n",
    "np.save(\"/home/ShareFolder/feature_platform/ti0/wuwenjun/#Factor_Description/feature_list.npy\",alpha_list)"
   ]
  }
 ],
 "metadata": {
  "kernelspec": {
   "display_name": "Python 3 (ipykernel)",
   "language": "python",
   "name": "python3"
  },
  "language_info": {
   "codemirror_mode": {
    "name": "ipython",
    "version": 3
   },
   "file_extension": ".py",
   "mimetype": "text/x-python",
   "name": "python",
   "nbconvert_exporter": "python",
   "pygments_lexer": "ipython3",
   "version": "3.7.9"
  }
 },
 "nbformat": 4,
 "nbformat_minor": 5
}
