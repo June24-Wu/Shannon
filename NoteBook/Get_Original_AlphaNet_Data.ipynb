{
 "cells": [
  {
   "cell_type": "markdown",
   "id": "aeb8e6c6",
   "metadata": {},
   "source": [
    "# Get_Original_AlphaNet_Data"
   ]
  },
  {
   "cell_type": "code",
   "execution_count": 1,
   "id": "340d640b",
   "metadata": {
    "ExecuteTime": {
     "end_time": "2021-12-15T05:48:03.172322Z",
     "start_time": "2021-12-15T05:48:03.157896Z"
    }
   },
   "outputs": [],
   "source": [
    "Alpha_Name = \"AlphaNet_Original_Input_12.14\"\n",
    "path = '/home/wuwenjun/Data/' + Alpha_Name +'/'\n",
    "target = \"5d_ret\""
   ]
  },
  {
   "cell_type": "code",
   "execution_count": 2,
   "id": "4ac61031",
   "metadata": {
    "ExecuteTime": {
     "end_time": "2021-12-15T05:48:05.191148Z",
     "start_time": "2021-12-15T05:48:03.748399Z"
    }
   },
   "outputs": [],
   "source": [
    "import time\n",
    "import os\n",
    "from Research.backtest.bt import BTDaily\n",
    "from Research.feature.ft import FeatureAnalysis\n",
    "import Research.utils.namespace as namespace\n",
    "import Research.utils.normalization as norm\n",
    "from Platform.database.mysql import MysqlAPI\n",
    "from Platform.utils.persistence import convert_to_standard_daily_feature_csv, convert_to_standard_daily_feature_par\n",
    "from Platform.config.mysql_info import FACTOR_LIB_MYSQL_TIO\n",
    "import DataAPI\n",
    "from os import walk\n",
    "import pandas as pd\n",
    "import numpy as np\n",
    "import torch\n",
    "import torch.nn as nn\n",
    "from progressbar import ProgressBar\n",
    "from tqdm import tqdm"
   ]
  },
  {
   "cell_type": "code",
   "execution_count": 3,
   "id": "91942282",
   "metadata": {
    "ExecuteTime": {
     "end_time": "2021-12-15T01:35:40.037956Z",
     "start_time": "2021-12-15T01:35:39.918129Z"
    }
   },
   "outputs": [
    {
     "ename": "FileExistsError",
     "evalue": "[Errno 17] File exists: '/home/wuwenjun/Data/AlphaNet_Original_Input_12.14/Data'",
     "output_type": "error",
     "traceback": [
      "\u001b[0;31m---------------------------------------------------------------------------\u001b[0m",
      "\u001b[0;31mFileExistsError\u001b[0m                           Traceback (most recent call last)",
      "\u001b[0;32m<ipython-input-3-797351447a8f>\u001b[0m in \u001b[0;36m<module>\u001b[0;34m\u001b[0m\n\u001b[1;32m      1\u001b[0m \u001b[0mdir_list\u001b[0m \u001b[0;34m=\u001b[0m \u001b[0;34m[\u001b[0m\u001b[0;34m'Data'\u001b[0m\u001b[0;34m,\u001b[0m\u001b[0;34m'Cov'\u001b[0m\u001b[0;34m,\u001b[0m\u001b[0;34m'Corr'\u001b[0m\u001b[0;34m,\u001b[0m\u001b[0;34m'Return'\u001b[0m\u001b[0;34m,\u001b[0m\u001b[0;34m'Std'\u001b[0m\u001b[0;34m,\u001b[0m\u001b[0;34m'Zscore'\u001b[0m\u001b[0;34m,\u001b[0m\u001b[0;34m'Decay'\u001b[0m\u001b[0;34m]\u001b[0m\u001b[0;34m\u001b[0m\u001b[0;34m\u001b[0m\u001b[0m\n\u001b[1;32m      2\u001b[0m \u001b[0;32mfor\u001b[0m \u001b[0mi\u001b[0m \u001b[0;32min\u001b[0m \u001b[0mdir_list\u001b[0m\u001b[0;34m:\u001b[0m\u001b[0;34m\u001b[0m\u001b[0;34m\u001b[0m\u001b[0m\n\u001b[0;32m----> 3\u001b[0;31m     \u001b[0mos\u001b[0m\u001b[0;34m.\u001b[0m\u001b[0mmkdir\u001b[0m\u001b[0;34m(\u001b[0m\u001b[0mpath\u001b[0m\u001b[0;34m+\u001b[0m\u001b[0mi\u001b[0m\u001b[0;34m)\u001b[0m\u001b[0;34m\u001b[0m\u001b[0;34m\u001b[0m\u001b[0m\n\u001b[0m",
      "\u001b[0;31mFileExistsError\u001b[0m: [Errno 17] File exists: '/home/wuwenjun/Data/AlphaNet_Original_Input_12.14/Data'"
     ]
    }
   ],
   "source": [
    "dir_list = ['Data','Cov','Corr','Return','Std','Zscore','Decay']\n",
    "for i in dir_list:\n",
    "    os.mkdir(path+i)"
   ]
  },
  {
   "cell_type": "code",
   "execution_count": 3,
   "id": "0d6ef99c",
   "metadata": {
    "ExecuteTime": {
     "end_time": "2021-12-15T05:48:19.885643Z",
     "start_time": "2021-12-15T05:48:12.547794Z"
    }
   },
   "outputs": [
    {
     "data": {
      "text/html": [
       "<div>\n",
       "<style scoped>\n",
       "    .dataframe tbody tr th:only-of-type {\n",
       "        vertical-align: middle;\n",
       "    }\n",
       "\n",
       "    .dataframe tbody tr th {\n",
       "        vertical-align: top;\n",
       "    }\n",
       "\n",
       "    .dataframe thead th {\n",
       "        text-align: right;\n",
       "    }\n",
       "</style>\n",
       "<table border=\"1\" class=\"dataframe\">\n",
       "  <thead>\n",
       "    <tr style=\"text-align: right;\">\n",
       "      <th></th>\n",
       "      <th>timestamp</th>\n",
       "      <th>ticker</th>\n",
       "      <th>open</th>\n",
       "      <th>high</th>\n",
       "      <th>low</th>\n",
       "      <th>close</th>\n",
       "      <th>vwap</th>\n",
       "      <th>volume</th>\n",
       "      <th>pct_chg</th>\n",
       "      <th>turnover</th>\n",
       "      <th>free_turnover</th>\n",
       "      <th>5d_ret</th>\n",
       "    </tr>\n",
       "  </thead>\n",
       "  <tbody>\n",
       "    <tr>\n",
       "      <th>0</th>\n",
       "      <td>2015-01-06 09:30:00</td>\n",
       "      <td>1</td>\n",
       "      <td>1136.15</td>\n",
       "      <td>1156.75</td>\n",
       "      <td>1108.44</td>\n",
       "      <td>1138.28</td>\n",
       "      <td>1134.052643</td>\n",
       "      <td>2860436.43</td>\n",
       "      <td>1.1364</td>\n",
       "      <td>2.9079</td>\n",
       "      <td>5.7657</td>\n",
       "      <td>-0.075710</td>\n",
       "    </tr>\n",
       "    <tr>\n",
       "      <th>1</th>\n",
       "      <td>2015-01-06 09:30:00</td>\n",
       "      <td>2</td>\n",
       "      <td>1774.23</td>\n",
       "      <td>1885.20</td>\n",
       "      <td>1753.27</td>\n",
       "      <td>1838.34</td>\n",
       "      <td>1823.031224</td>\n",
       "      <td>6560835.70</td>\n",
       "      <td>7.2662</td>\n",
       "      <td>6.7834</td>\n",
       "      <td>8.1741</td>\n",
       "      <td>-0.106164</td>\n",
       "    </tr>\n",
       "    <tr>\n",
       "      <th>2</th>\n",
       "      <td>2015-01-06 09:30:00</td>\n",
       "      <td>4</td>\n",
       "      <td>63.31</td>\n",
       "      <td>64.62</td>\n",
       "      <td>62.18</td>\n",
       "      <td>63.76</td>\n",
       "      <td>63.277989</td>\n",
       "      <td>28095.12</td>\n",
       "      <td>0.7707</td>\n",
       "      <td>3.3496</td>\n",
       "      <td>4.5343</td>\n",
       "      <td>0.006390</td>\n",
       "    </tr>\n",
       "    <tr>\n",
       "      <th>3</th>\n",
       "      <td>2015-01-06 09:30:00</td>\n",
       "      <td>5</td>\n",
       "      <td>38.00</td>\n",
       "      <td>38.00</td>\n",
       "      <td>38.00</td>\n",
       "      <td>38.00</td>\n",
       "      <td>37.997172</td>\n",
       "      <td>0.00</td>\n",
       "      <td>0.0000</td>\n",
       "      <td>0.0000</td>\n",
       "      <td>0.0000</td>\n",
       "      <td>0.000000</td>\n",
       "    </tr>\n",
       "    <tr>\n",
       "      <th>4</th>\n",
       "      <td>2015-01-06 09:30:00</td>\n",
       "      <td>6</td>\n",
       "      <td>225.64</td>\n",
       "      <td>234.85</td>\n",
       "      <td>223.10</td>\n",
       "      <td>225.00</td>\n",
       "      <td>228.438278</td>\n",
       "      <td>1078647.12</td>\n",
       "      <td>0.4255</td>\n",
       "      <td>8.0562</td>\n",
       "      <td>13.2751</td>\n",
       "      <td>-0.078571</td>\n",
       "    </tr>\n",
       "    <tr>\n",
       "      <th>...</th>\n",
       "      <td>...</td>\n",
       "      <td>...</td>\n",
       "      <td>...</td>\n",
       "      <td>...</td>\n",
       "      <td>...</td>\n",
       "      <td>...</td>\n",
       "      <td>...</td>\n",
       "      <td>...</td>\n",
       "      <td>...</td>\n",
       "      <td>...</td>\n",
       "      <td>...</td>\n",
       "      <td>...</td>\n",
       "    </tr>\n",
       "    <tr>\n",
       "      <th>5357756</th>\n",
       "      <td>2021-07-01 09:30:00</td>\n",
       "      <td>688700</td>\n",
       "      <td>47.80</td>\n",
       "      <td>54.50</td>\n",
       "      <td>47.03</td>\n",
       "      <td>53.38</td>\n",
       "      <td>50.715300</td>\n",
       "      <td>64336.83</td>\n",
       "      <td>14.5494</td>\n",
       "      <td>19.2222</td>\n",
       "      <td>19.2222</td>\n",
       "      <td>0.153171</td>\n",
       "    </tr>\n",
       "    <tr>\n",
       "      <th>5357757</th>\n",
       "      <td>2021-07-01 09:30:00</td>\n",
       "      <td>688777</td>\n",
       "      <td>90.21</td>\n",
       "      <td>95.08</td>\n",
       "      <td>89.32</td>\n",
       "      <td>94.42</td>\n",
       "      <td>93.250464</td>\n",
       "      <td>19001.61</td>\n",
       "      <td>4.6111</td>\n",
       "      <td>4.6288</td>\n",
       "      <td>4.6288</td>\n",
       "      <td>0.053133</td>\n",
       "    </tr>\n",
       "    <tr>\n",
       "      <th>5357758</th>\n",
       "      <td>2021-07-01 09:30:00</td>\n",
       "      <td>688788</td>\n",
       "      <td>138.07</td>\n",
       "      <td>149.35</td>\n",
       "      <td>137.11</td>\n",
       "      <td>146.22</td>\n",
       "      <td>145.197985</td>\n",
       "      <td>13572.56</td>\n",
       "      <td>5.1954</td>\n",
       "      <td>7.7977</td>\n",
       "      <td>7.7977</td>\n",
       "      <td>-0.102721</td>\n",
       "    </tr>\n",
       "    <tr>\n",
       "      <th>5357759</th>\n",
       "      <td>2021-07-01 09:30:00</td>\n",
       "      <td>688819</td>\n",
       "      <td>44.04</td>\n",
       "      <td>45.64</td>\n",
       "      <td>43.95</td>\n",
       "      <td>45.15</td>\n",
       "      <td>45.026221</td>\n",
       "      <td>47249.01</td>\n",
       "      <td>1.8544</td>\n",
       "      <td>4.6754</td>\n",
       "      <td>4.6754</td>\n",
       "      <td>0.032164</td>\n",
       "    </tr>\n",
       "    <tr>\n",
       "      <th>5357760</th>\n",
       "      <td>2021-07-01 09:30:00</td>\n",
       "      <td>688981</td>\n",
       "      <td>59.69</td>\n",
       "      <td>62.50</td>\n",
       "      <td>59.40</td>\n",
       "      <td>61.82</td>\n",
       "      <td>61.542000</td>\n",
       "      <td>777950.53</td>\n",
       "      <td>4.3376</td>\n",
       "      <td>7.1003</td>\n",
       "      <td>7.1003</td>\n",
       "      <td>-0.058075</td>\n",
       "    </tr>\n",
       "  </tbody>\n",
       "</table>\n",
       "<p>5357761 rows × 12 columns</p>\n",
       "</div>"
      ],
      "text/plain": [
       "                   timestamp  ticker     open     high      low    close  \\\n",
       "0        2015-01-06 09:30:00       1  1136.15  1156.75  1108.44  1138.28   \n",
       "1        2015-01-06 09:30:00       2  1774.23  1885.20  1753.27  1838.34   \n",
       "2        2015-01-06 09:30:00       4    63.31    64.62    62.18    63.76   \n",
       "3        2015-01-06 09:30:00       5    38.00    38.00    38.00    38.00   \n",
       "4        2015-01-06 09:30:00       6   225.64   234.85   223.10   225.00   \n",
       "...                      ...     ...      ...      ...      ...      ...   \n",
       "5357756  2021-07-01 09:30:00  688700    47.80    54.50    47.03    53.38   \n",
       "5357757  2021-07-01 09:30:00  688777    90.21    95.08    89.32    94.42   \n",
       "5357758  2021-07-01 09:30:00  688788   138.07   149.35   137.11   146.22   \n",
       "5357759  2021-07-01 09:30:00  688819    44.04    45.64    43.95    45.15   \n",
       "5357760  2021-07-01 09:30:00  688981    59.69    62.50    59.40    61.82   \n",
       "\n",
       "                vwap      volume  pct_chg  turnover  free_turnover    5d_ret  \n",
       "0        1134.052643  2860436.43   1.1364    2.9079         5.7657 -0.075710  \n",
       "1        1823.031224  6560835.70   7.2662    6.7834         8.1741 -0.106164  \n",
       "2          63.277989    28095.12   0.7707    3.3496         4.5343  0.006390  \n",
       "3          37.997172        0.00   0.0000    0.0000         0.0000  0.000000  \n",
       "4         228.438278  1078647.12   0.4255    8.0562        13.2751 -0.078571  \n",
       "...              ...         ...      ...       ...            ...       ...  \n",
       "5357756    50.715300    64336.83  14.5494   19.2222        19.2222  0.153171  \n",
       "5357757    93.250464    19001.61   4.6111    4.6288         4.6288  0.053133  \n",
       "5357758   145.197985    13572.56   5.1954    7.7977         7.7977 -0.102721  \n",
       "5357759    45.026221    47249.01   1.8544    4.6754         4.6754  0.032164  \n",
       "5357760    61.542000   777950.53   4.3376    7.1003         7.1003 -0.058075  \n",
       "\n",
       "[5357761 rows x 12 columns]"
      ]
     },
     "execution_count": 3,
     "metadata": {},
     "output_type": "execute_result"
    }
   ],
   "source": [
    "df = pd.read_csv(path+\"data.csv\")\n",
    "df"
   ]
  },
  {
   "cell_type": "code",
   "execution_count": 12,
   "id": "1a154020",
   "metadata": {
    "ExecuteTime": {
     "end_time": "2021-12-15T05:49:41.273640Z",
     "start_time": "2021-12-15T05:49:41.266733Z"
    }
   },
   "outputs": [],
   "source": [
    "# for ticker in tqdm(df['ticker'].drop_duplicates()):\n",
    "def test(ticker):\n",
    "    one_data = df[df['ticker'] == ticker]\n",
    "    one_data.set_index(['timestamp','ticker'],inplace=True)\n",
    "    target_df = one_data[target]\n",
    "    one_data.drop(target,axis=1,inplace=True)\n",
    "    concat_df = pd.DataFrame()\n",
    "    for day in range(29,-1,-1):\n",
    "        concat_df = pd.concat([concat_df,one_data.shift(day)],axis=1)\n",
    "    concat_df.dropna(axis=0,how=\"any\",inplace=True)\n",
    "    concat_df = pd.concat([concat_df,target_df],axis=1,join='inner')\n",
    "    return concat_df"
   ]
  },
  {
   "cell_type": "code",
   "execution_count": 13,
   "id": "b17cf74e",
   "metadata": {
    "ExecuteTime": {
     "end_time": "2021-12-15T05:50:49.774211Z",
     "start_time": "2021-12-15T05:49:42.532822Z"
    }
   },
   "outputs": [
    {
     "name": "stderr",
     "output_type": "stream",
     "text": [
      "100%|██████████| 4427/4427 [00:00<00:00, 21152.75it/s]\n",
      "100%|██████████| 4427/4427 [00:00<00:00, 298725.57it/s]"
     ]
    },
    {
     "name": "stdout",
     "output_type": "stream",
     "text": [
      "并行执行时间： 40\n"
     ]
    },
    {
     "name": "stderr",
     "output_type": "stream",
     "text": [
      "\n"
     ]
    },
    {
     "data": {
      "text/html": [
       "<div>\n",
       "<style scoped>\n",
       "    .dataframe tbody tr th:only-of-type {\n",
       "        vertical-align: middle;\n",
       "    }\n",
       "\n",
       "    .dataframe tbody tr th {\n",
       "        vertical-align: top;\n",
       "    }\n",
       "\n",
       "    .dataframe thead th {\n",
       "        text-align: right;\n",
       "    }\n",
       "</style>\n",
       "<table border=\"1\" class=\"dataframe\">\n",
       "  <thead>\n",
       "    <tr style=\"text-align: right;\">\n",
       "      <th></th>\n",
       "      <th></th>\n",
       "      <th>open</th>\n",
       "      <th>high</th>\n",
       "      <th>low</th>\n",
       "      <th>close</th>\n",
       "      <th>vwap</th>\n",
       "      <th>volume</th>\n",
       "      <th>pct_chg</th>\n",
       "      <th>turnover</th>\n",
       "      <th>free_turnover</th>\n",
       "      <th>open</th>\n",
       "      <th>...</th>\n",
       "      <th>open</th>\n",
       "      <th>high</th>\n",
       "      <th>low</th>\n",
       "      <th>close</th>\n",
       "      <th>vwap</th>\n",
       "      <th>volume</th>\n",
       "      <th>pct_chg</th>\n",
       "      <th>turnover</th>\n",
       "      <th>free_turnover</th>\n",
       "      <th>5d_ret</th>\n",
       "    </tr>\n",
       "    <tr>\n",
       "      <th>timestamp</th>\n",
       "      <th>ticker</th>\n",
       "      <th></th>\n",
       "      <th></th>\n",
       "      <th></th>\n",
       "      <th></th>\n",
       "      <th></th>\n",
       "      <th></th>\n",
       "      <th></th>\n",
       "      <th></th>\n",
       "      <th></th>\n",
       "      <th></th>\n",
       "      <th></th>\n",
       "      <th></th>\n",
       "      <th></th>\n",
       "      <th></th>\n",
       "      <th></th>\n",
       "      <th></th>\n",
       "      <th></th>\n",
       "      <th></th>\n",
       "      <th></th>\n",
       "      <th></th>\n",
       "      <th></th>\n",
       "    </tr>\n",
       "  </thead>\n",
       "  <tbody>\n",
       "    <tr>\n",
       "      <th>2015-02-16 09:30:00</th>\n",
       "      <th>1</th>\n",
       "      <td>1136.15</td>\n",
       "      <td>1156.75</td>\n",
       "      <td>1108.44</td>\n",
       "      <td>1138.28</td>\n",
       "      <td>1134.052643</td>\n",
       "      <td>2860436.43</td>\n",
       "      <td>1.1364</td>\n",
       "      <td>2.9079</td>\n",
       "      <td>5.7657</td>\n",
       "      <td>1126.20</td>\n",
       "      <td>...</td>\n",
       "      <td>989.78</td>\n",
       "      <td>1007.54</td>\n",
       "      <td>983.38</td>\n",
       "      <td>991.20</td>\n",
       "      <td>996.094771</td>\n",
       "      <td>887743.10</td>\n",
       "      <td>0.6494</td>\n",
       "      <td>0.9025</td>\n",
       "      <td>1.7894</td>\n",
       "      <td>0.005735</td>\n",
       "    </tr>\n",
       "    <tr>\n",
       "      <th>2015-02-17 09:30:00</th>\n",
       "      <th>1</th>\n",
       "      <td>1126.20</td>\n",
       "      <td>1164.57</td>\n",
       "      <td>1104.89</td>\n",
       "      <td>1121.23</td>\n",
       "      <td>1132.652885</td>\n",
       "      <td>2166421.40</td>\n",
       "      <td>-1.4981</td>\n",
       "      <td>2.2024</td>\n",
       "      <td>4.3668</td>\n",
       "      <td>1105.60</td>\n",
       "      <td>...</td>\n",
       "      <td>991.20</td>\n",
       "      <td>995.46</td>\n",
       "      <td>975.57</td>\n",
       "      <td>989.07</td>\n",
       "      <td>985.109868</td>\n",
       "      <td>721202.39</td>\n",
       "      <td>-0.2151</td>\n",
       "      <td>0.7332</td>\n",
       "      <td>1.4537</td>\n",
       "      <td>0.001433</td>\n",
       "    </tr>\n",
       "    <tr>\n",
       "      <th>2015-02-25 09:30:00</th>\n",
       "      <th>1</th>\n",
       "      <td>1105.60</td>\n",
       "      <td>1124.78</td>\n",
       "      <td>1087.12</td>\n",
       "      <td>1099.91</td>\n",
       "      <td>1101.168988</td>\n",
       "      <td>1700120.67</td>\n",
       "      <td>-1.9011</td>\n",
       "      <td>1.7283</td>\n",
       "      <td>3.4269</td>\n",
       "      <td>1101.33</td>\n",
       "      <td>...</td>\n",
       "      <td>991.91</td>\n",
       "      <td>1002.57</td>\n",
       "      <td>989.78</td>\n",
       "      <td>994.04</td>\n",
       "      <td>996.570831</td>\n",
       "      <td>680491.59</td>\n",
       "      <td>0.5029</td>\n",
       "      <td>0.6918</td>\n",
       "      <td>1.3717</td>\n",
       "      <td>-0.029915</td>\n",
       "    </tr>\n",
       "    <tr>\n",
       "      <th>2015-02-26 09:30:00</th>\n",
       "      <th>1</th>\n",
       "      <td>1101.33</td>\n",
       "      <td>1106.31</td>\n",
       "      <td>1058.70</td>\n",
       "      <td>1062.96</td>\n",
       "      <td>1074.097527</td>\n",
       "      <td>1407714.21</td>\n",
       "      <td>-3.3592</td>\n",
       "      <td>1.4311</td>\n",
       "      <td>2.8375</td>\n",
       "      <td>1058.70</td>\n",
       "      <td>...</td>\n",
       "      <td>997.59</td>\n",
       "      <td>998.30</td>\n",
       "      <td>977.70</td>\n",
       "      <td>980.54</td>\n",
       "      <td>983.482739</td>\n",
       "      <td>577392.33</td>\n",
       "      <td>-1.3581</td>\n",
       "      <td>0.5870</td>\n",
       "      <td>1.1638</td>\n",
       "      <td>-0.021739</td>\n",
       "    </tr>\n",
       "    <tr>\n",
       "      <th>2015-02-27 09:30:00</th>\n",
       "      <th>1</th>\n",
       "      <td>1058.70</td>\n",
       "      <td>1127.62</td>\n",
       "      <td>1045.20</td>\n",
       "      <td>1071.49</td>\n",
       "      <td>1086.375607</td>\n",
       "      <td>2508500.23</td>\n",
       "      <td>0.8021</td>\n",
       "      <td>2.5501</td>\n",
       "      <td>5.0564</td>\n",
       "      <td>1056.57</td>\n",
       "      <td>...</td>\n",
       "      <td>980.54</td>\n",
       "      <td>1000.44</td>\n",
       "      <td>966.33</td>\n",
       "      <td>999.73</td>\n",
       "      <td>986.644628</td>\n",
       "      <td>1025544.24</td>\n",
       "      <td>1.9565</td>\n",
       "      <td>1.0426</td>\n",
       "      <td>2.0672</td>\n",
       "      <td>-0.049075</td>\n",
       "    </tr>\n",
       "    <tr>\n",
       "      <th>...</th>\n",
       "      <th>...</th>\n",
       "      <td>...</td>\n",
       "      <td>...</td>\n",
       "      <td>...</td>\n",
       "      <td>...</td>\n",
       "      <td>...</td>\n",
       "      <td>...</td>\n",
       "      <td>...</td>\n",
       "      <td>...</td>\n",
       "      <td>...</td>\n",
       "      <td>...</td>\n",
       "      <td>...</td>\n",
       "      <td>...</td>\n",
       "      <td>...</td>\n",
       "      <td>...</td>\n",
       "      <td>...</td>\n",
       "      <td>...</td>\n",
       "      <td>...</td>\n",
       "      <td>...</td>\n",
       "      <td>...</td>\n",
       "      <td>...</td>\n",
       "      <td>...</td>\n",
       "    </tr>\n",
       "    <tr>\n",
       "      <th>2021-06-30 09:30:00</th>\n",
       "      <th>605339</th>\n",
       "      <td>20.38</td>\n",
       "      <td>24.45</td>\n",
       "      <td>20.38</td>\n",
       "      <td>24.45</td>\n",
       "      <td>24.423600</td>\n",
       "      <td>4472.57</td>\n",
       "      <td>43.9929</td>\n",
       "      <td>0.7040</td>\n",
       "      <td>0.7040</td>\n",
       "      <td>26.90</td>\n",
       "      <td>...</td>\n",
       "      <td>44.75</td>\n",
       "      <td>45.44</td>\n",
       "      <td>44.10</td>\n",
       "      <td>44.99</td>\n",
       "      <td>44.862500</td>\n",
       "      <td>43863.72</td>\n",
       "      <td>0.6938</td>\n",
       "      <td>6.9045</td>\n",
       "      <td>6.9045</td>\n",
       "      <td>-0.075876</td>\n",
       "    </tr>\n",
       "    <tr>\n",
       "      <th>2021-07-01 09:30:00</th>\n",
       "      <th>605339</th>\n",
       "      <td>26.90</td>\n",
       "      <td>26.90</td>\n",
       "      <td>26.90</td>\n",
       "      <td>26.90</td>\n",
       "      <td>26.900000</td>\n",
       "      <td>1373.52</td>\n",
       "      <td>10.0204</td>\n",
       "      <td>0.2162</td>\n",
       "      <td>0.2162</td>\n",
       "      <td>29.59</td>\n",
       "      <td>...</td>\n",
       "      <td>44.81</td>\n",
       "      <td>44.88</td>\n",
       "      <td>42.70</td>\n",
       "      <td>43.18</td>\n",
       "      <td>43.469700</td>\n",
       "      <td>72397.12</td>\n",
       "      <td>-4.0231</td>\n",
       "      <td>11.3958</td>\n",
       "      <td>11.3958</td>\n",
       "      <td>-0.043207</td>\n",
       "    </tr>\n",
       "    <tr>\n",
       "      <th>2021-06-30 09:30:00</th>\n",
       "      <th>688314</th>\n",
       "      <td>100.20</td>\n",
       "      <td>105.00</td>\n",
       "      <td>86.78</td>\n",
       "      <td>92.05</td>\n",
       "      <td>92.899300</td>\n",
       "      <td>106963.24</td>\n",
       "      <td>430.8535</td>\n",
       "      <td>90.5821</td>\n",
       "      <td>90.5821</td>\n",
       "      <td>94.00</td>\n",
       "      <td>...</td>\n",
       "      <td>115.11</td>\n",
       "      <td>115.78</td>\n",
       "      <td>110.21</td>\n",
       "      <td>112.00</td>\n",
       "      <td>112.765600</td>\n",
       "      <td>6286.46</td>\n",
       "      <td>-4.1014</td>\n",
       "      <td>5.3237</td>\n",
       "      <td>5.3237</td>\n",
       "      <td>-0.081182</td>\n",
       "    </tr>\n",
       "    <tr>\n",
       "      <th rowspan=\"2\" valign=\"top\">2021-07-01 09:30:00</th>\n",
       "      <th>688314</th>\n",
       "      <td>94.00</td>\n",
       "      <td>106.12</td>\n",
       "      <td>83.00</td>\n",
       "      <td>102.50</td>\n",
       "      <td>92.323600</td>\n",
       "      <td>80295.81</td>\n",
       "      <td>11.3525</td>\n",
       "      <td>67.9987</td>\n",
       "      <td>67.9987</td>\n",
       "      <td>100.00</td>\n",
       "      <td>...</td>\n",
       "      <td>112.32</td>\n",
       "      <td>112.32</td>\n",
       "      <td>103.50</td>\n",
       "      <td>105.64</td>\n",
       "      <td>107.011300</td>\n",
       "      <td>9925.98</td>\n",
       "      <td>-5.6786</td>\n",
       "      <td>8.4058</td>\n",
       "      <td>8.4058</td>\n",
       "      <td>0.043254</td>\n",
       "    </tr>\n",
       "    <tr>\n",
       "      <th>688660</th>\n",
       "      <td>11.01</td>\n",
       "      <td>13.00</td>\n",
       "      <td>11.00</td>\n",
       "      <td>11.75</td>\n",
       "      <td>11.599600</td>\n",
       "      <td>2536990.79</td>\n",
       "      <td>115.9926</td>\n",
       "      <td>69.6561</td>\n",
       "      <td>69.6561</td>\n",
       "      <td>11.25</td>\n",
       "      <td>...</td>\n",
       "      <td>8.78</td>\n",
       "      <td>8.89</td>\n",
       "      <td>8.77</td>\n",
       "      <td>8.80</td>\n",
       "      <td>8.809300</td>\n",
       "      <td>126261.24</td>\n",
       "      <td>0.2278</td>\n",
       "      <td>3.4667</td>\n",
       "      <td>3.4667</td>\n",
       "      <td>0.030717</td>\n",
       "    </tr>\n",
       "  </tbody>\n",
       "</table>\n",
       "<p>5230286 rows × 271 columns</p>\n",
       "</div>"
      ],
      "text/plain": [
       "                               open     high      low    close         vwap  \\\n",
       "timestamp           ticker                                                    \n",
       "2015-02-16 09:30:00 1       1136.15  1156.75  1108.44  1138.28  1134.052643   \n",
       "2015-02-17 09:30:00 1       1126.20  1164.57  1104.89  1121.23  1132.652885   \n",
       "2015-02-25 09:30:00 1       1105.60  1124.78  1087.12  1099.91  1101.168988   \n",
       "2015-02-26 09:30:00 1       1101.33  1106.31  1058.70  1062.96  1074.097527   \n",
       "2015-02-27 09:30:00 1       1058.70  1127.62  1045.20  1071.49  1086.375607   \n",
       "...                             ...      ...      ...      ...          ...   \n",
       "2021-06-30 09:30:00 605339    20.38    24.45    20.38    24.45    24.423600   \n",
       "2021-07-01 09:30:00 605339    26.90    26.90    26.90    26.90    26.900000   \n",
       "2021-06-30 09:30:00 688314   100.20   105.00    86.78    92.05    92.899300   \n",
       "2021-07-01 09:30:00 688314    94.00   106.12    83.00   102.50    92.323600   \n",
       "                    688660    11.01    13.00    11.00    11.75    11.599600   \n",
       "\n",
       "                                volume   pct_chg  turnover  free_turnover  \\\n",
       "timestamp           ticker                                                  \n",
       "2015-02-16 09:30:00 1       2860436.43    1.1364    2.9079         5.7657   \n",
       "2015-02-17 09:30:00 1       2166421.40   -1.4981    2.2024         4.3668   \n",
       "2015-02-25 09:30:00 1       1700120.67   -1.9011    1.7283         3.4269   \n",
       "2015-02-26 09:30:00 1       1407714.21   -3.3592    1.4311         2.8375   \n",
       "2015-02-27 09:30:00 1       2508500.23    0.8021    2.5501         5.0564   \n",
       "...                                ...       ...       ...            ...   \n",
       "2021-06-30 09:30:00 605339     4472.57   43.9929    0.7040         0.7040   \n",
       "2021-07-01 09:30:00 605339     1373.52   10.0204    0.2162         0.2162   \n",
       "2021-06-30 09:30:00 688314   106963.24  430.8535   90.5821        90.5821   \n",
       "2021-07-01 09:30:00 688314    80295.81   11.3525   67.9987        67.9987   \n",
       "                    688660  2536990.79  115.9926   69.6561        69.6561   \n",
       "\n",
       "                               open  ...    open     high     low   close  \\\n",
       "timestamp           ticker           ...                                    \n",
       "2015-02-16 09:30:00 1       1126.20  ...  989.78  1007.54  983.38  991.20   \n",
       "2015-02-17 09:30:00 1       1105.60  ...  991.20   995.46  975.57  989.07   \n",
       "2015-02-25 09:30:00 1       1101.33  ...  991.91  1002.57  989.78  994.04   \n",
       "2015-02-26 09:30:00 1       1058.70  ...  997.59   998.30  977.70  980.54   \n",
       "2015-02-27 09:30:00 1       1056.57  ...  980.54  1000.44  966.33  999.73   \n",
       "...                             ...  ...     ...      ...     ...     ...   \n",
       "2021-06-30 09:30:00 605339    26.90  ...   44.75    45.44   44.10   44.99   \n",
       "2021-07-01 09:30:00 605339    29.59  ...   44.81    44.88   42.70   43.18   \n",
       "2021-06-30 09:30:00 688314    94.00  ...  115.11   115.78  110.21  112.00   \n",
       "2021-07-01 09:30:00 688314   100.00  ...  112.32   112.32  103.50  105.64   \n",
       "                    688660    11.25  ...    8.78     8.89    8.77    8.80   \n",
       "\n",
       "                                  vwap      volume  pct_chg  turnover  \\\n",
       "timestamp           ticker                                              \n",
       "2015-02-16 09:30:00 1       996.094771   887743.10   0.6494    0.9025   \n",
       "2015-02-17 09:30:00 1       985.109868   721202.39  -0.2151    0.7332   \n",
       "2015-02-25 09:30:00 1       996.570831   680491.59   0.5029    0.6918   \n",
       "2015-02-26 09:30:00 1       983.482739   577392.33  -1.3581    0.5870   \n",
       "2015-02-27 09:30:00 1       986.644628  1025544.24   1.9565    1.0426   \n",
       "...                                ...         ...      ...       ...   \n",
       "2021-06-30 09:30:00 605339   44.862500    43863.72   0.6938    6.9045   \n",
       "2021-07-01 09:30:00 605339   43.469700    72397.12  -4.0231   11.3958   \n",
       "2021-06-30 09:30:00 688314  112.765600     6286.46  -4.1014    5.3237   \n",
       "2021-07-01 09:30:00 688314  107.011300     9925.98  -5.6786    8.4058   \n",
       "                    688660    8.809300   126261.24   0.2278    3.4667   \n",
       "\n",
       "                            free_turnover    5d_ret  \n",
       "timestamp           ticker                           \n",
       "2015-02-16 09:30:00 1              1.7894  0.005735  \n",
       "2015-02-17 09:30:00 1              1.4537  0.001433  \n",
       "2015-02-25 09:30:00 1              1.3717 -0.029915  \n",
       "2015-02-26 09:30:00 1              1.1638 -0.021739  \n",
       "2015-02-27 09:30:00 1              2.0672 -0.049075  \n",
       "...                                   ...       ...  \n",
       "2021-06-30 09:30:00 605339         6.9045 -0.075876  \n",
       "2021-07-01 09:30:00 605339        11.3958 -0.043207  \n",
       "2021-06-30 09:30:00 688314         5.3237 -0.081182  \n",
       "2021-07-01 09:30:00 688314         8.4058  0.043254  \n",
       "                    688660         3.4667  0.030717  \n",
       "\n",
       "[5230286 rows x 271 columns]"
      ]
     },
     "execution_count": 13,
     "metadata": {},
     "output_type": "execute_result"
    }
   ],
   "source": [
    "from multiprocessing import Pool\n",
    "import multiprocessing as mp\n",
    "import time\n",
    "if __name__==\"__main__\":\n",
    "    num_cores = int(mp.cpu_count())\n",
    "    pool = mp.Pool(num_cores)\n",
    "    result = {}\n",
    "    t1 = time.time()\n",
    "    for ticker in tqdm(df['ticker'].drop_duplicates()):\n",
    "        result[ticker] = (pool.apply_async(test, args=(ticker,)))   #维持执行的进程总数为10，当一个进程执行完后启动一个新进程.\n",
    "    pool.close()\n",
    "    pool.join()\n",
    "    t2 = time.time()\n",
    "    print(\"并行执行时间：\", int(t2 - t1))\n",
    "    df_list = []\n",
    "    for i in tqdm(result):\n",
    "        df_list.append(result[i].get())\n",
    "    final_df = pd.concat(df_list)\n",
    "final_df"
   ]
  },
  {
   "cell_type": "code",
   "execution_count": 14,
   "id": "07d1ae18",
   "metadata": {
    "ExecuteTime": {
     "end_time": "2021-12-15T05:50:52.986402Z",
     "start_time": "2021-12-15T05:50:49.775960Z"
    }
   },
   "outputs": [
    {
     "data": {
      "text/html": [
       "<div>\n",
       "<style scoped>\n",
       "    .dataframe tbody tr th:only-of-type {\n",
       "        vertical-align: middle;\n",
       "    }\n",
       "\n",
       "    .dataframe tbody tr th {\n",
       "        vertical-align: top;\n",
       "    }\n",
       "\n",
       "    .dataframe thead th {\n",
       "        text-align: right;\n",
       "    }\n",
       "</style>\n",
       "<table border=\"1\" class=\"dataframe\">\n",
       "  <thead>\n",
       "    <tr style=\"text-align: right;\">\n",
       "      <th></th>\n",
       "      <th>timestamp</th>\n",
       "      <th>ticker</th>\n",
       "      <th>0</th>\n",
       "      <th>1</th>\n",
       "      <th>2</th>\n",
       "      <th>3</th>\n",
       "      <th>4</th>\n",
       "      <th>5</th>\n",
       "      <th>6</th>\n",
       "      <th>7</th>\n",
       "      <th>...</th>\n",
       "      <th>261</th>\n",
       "      <th>262</th>\n",
       "      <th>263</th>\n",
       "      <th>264</th>\n",
       "      <th>265</th>\n",
       "      <th>266</th>\n",
       "      <th>267</th>\n",
       "      <th>268</th>\n",
       "      <th>269</th>\n",
       "      <th>target</th>\n",
       "    </tr>\n",
       "  </thead>\n",
       "  <tbody>\n",
       "    <tr>\n",
       "      <th>0</th>\n",
       "      <td>2015-02-16 09:30:00</td>\n",
       "      <td>1</td>\n",
       "      <td>1136.15</td>\n",
       "      <td>1156.75</td>\n",
       "      <td>1108.44</td>\n",
       "      <td>1138.28</td>\n",
       "      <td>1134.052643</td>\n",
       "      <td>2860436.43</td>\n",
       "      <td>1.1364</td>\n",
       "      <td>2.9079</td>\n",
       "      <td>...</td>\n",
       "      <td>989.78</td>\n",
       "      <td>1007.54</td>\n",
       "      <td>983.38</td>\n",
       "      <td>991.20</td>\n",
       "      <td>996.094771</td>\n",
       "      <td>887743.10</td>\n",
       "      <td>0.6494</td>\n",
       "      <td>0.9025</td>\n",
       "      <td>1.7894</td>\n",
       "      <td>0.005735</td>\n",
       "    </tr>\n",
       "    <tr>\n",
       "      <th>1</th>\n",
       "      <td>2015-02-17 09:30:00</td>\n",
       "      <td>1</td>\n",
       "      <td>1126.20</td>\n",
       "      <td>1164.57</td>\n",
       "      <td>1104.89</td>\n",
       "      <td>1121.23</td>\n",
       "      <td>1132.652885</td>\n",
       "      <td>2166421.40</td>\n",
       "      <td>-1.4981</td>\n",
       "      <td>2.2024</td>\n",
       "      <td>...</td>\n",
       "      <td>991.20</td>\n",
       "      <td>995.46</td>\n",
       "      <td>975.57</td>\n",
       "      <td>989.07</td>\n",
       "      <td>985.109868</td>\n",
       "      <td>721202.39</td>\n",
       "      <td>-0.2151</td>\n",
       "      <td>0.7332</td>\n",
       "      <td>1.4537</td>\n",
       "      <td>0.001433</td>\n",
       "    </tr>\n",
       "    <tr>\n",
       "      <th>2</th>\n",
       "      <td>2015-02-25 09:30:00</td>\n",
       "      <td>1</td>\n",
       "      <td>1105.60</td>\n",
       "      <td>1124.78</td>\n",
       "      <td>1087.12</td>\n",
       "      <td>1099.91</td>\n",
       "      <td>1101.168988</td>\n",
       "      <td>1700120.67</td>\n",
       "      <td>-1.9011</td>\n",
       "      <td>1.7283</td>\n",
       "      <td>...</td>\n",
       "      <td>991.91</td>\n",
       "      <td>1002.57</td>\n",
       "      <td>989.78</td>\n",
       "      <td>994.04</td>\n",
       "      <td>996.570831</td>\n",
       "      <td>680491.59</td>\n",
       "      <td>0.5029</td>\n",
       "      <td>0.6918</td>\n",
       "      <td>1.3717</td>\n",
       "      <td>-0.029915</td>\n",
       "    </tr>\n",
       "    <tr>\n",
       "      <th>3</th>\n",
       "      <td>2015-02-26 09:30:00</td>\n",
       "      <td>1</td>\n",
       "      <td>1101.33</td>\n",
       "      <td>1106.31</td>\n",
       "      <td>1058.70</td>\n",
       "      <td>1062.96</td>\n",
       "      <td>1074.097527</td>\n",
       "      <td>1407714.21</td>\n",
       "      <td>-3.3592</td>\n",
       "      <td>1.4311</td>\n",
       "      <td>...</td>\n",
       "      <td>997.59</td>\n",
       "      <td>998.30</td>\n",
       "      <td>977.70</td>\n",
       "      <td>980.54</td>\n",
       "      <td>983.482739</td>\n",
       "      <td>577392.33</td>\n",
       "      <td>-1.3581</td>\n",
       "      <td>0.5870</td>\n",
       "      <td>1.1638</td>\n",
       "      <td>-0.021739</td>\n",
       "    </tr>\n",
       "    <tr>\n",
       "      <th>4</th>\n",
       "      <td>2015-02-27 09:30:00</td>\n",
       "      <td>1</td>\n",
       "      <td>1058.70</td>\n",
       "      <td>1127.62</td>\n",
       "      <td>1045.20</td>\n",
       "      <td>1071.49</td>\n",
       "      <td>1086.375607</td>\n",
       "      <td>2508500.23</td>\n",
       "      <td>0.8021</td>\n",
       "      <td>2.5501</td>\n",
       "      <td>...</td>\n",
       "      <td>980.54</td>\n",
       "      <td>1000.44</td>\n",
       "      <td>966.33</td>\n",
       "      <td>999.73</td>\n",
       "      <td>986.644628</td>\n",
       "      <td>1025544.24</td>\n",
       "      <td>1.9565</td>\n",
       "      <td>1.0426</td>\n",
       "      <td>2.0672</td>\n",
       "      <td>-0.049075</td>\n",
       "    </tr>\n",
       "    <tr>\n",
       "      <th>...</th>\n",
       "      <td>...</td>\n",
       "      <td>...</td>\n",
       "      <td>...</td>\n",
       "      <td>...</td>\n",
       "      <td>...</td>\n",
       "      <td>...</td>\n",
       "      <td>...</td>\n",
       "      <td>...</td>\n",
       "      <td>...</td>\n",
       "      <td>...</td>\n",
       "      <td>...</td>\n",
       "      <td>...</td>\n",
       "      <td>...</td>\n",
       "      <td>...</td>\n",
       "      <td>...</td>\n",
       "      <td>...</td>\n",
       "      <td>...</td>\n",
       "      <td>...</td>\n",
       "      <td>...</td>\n",
       "      <td>...</td>\n",
       "      <td>...</td>\n",
       "    </tr>\n",
       "    <tr>\n",
       "      <th>5230281</th>\n",
       "      <td>2021-06-30 09:30:00</td>\n",
       "      <td>605339</td>\n",
       "      <td>20.38</td>\n",
       "      <td>24.45</td>\n",
       "      <td>20.38</td>\n",
       "      <td>24.45</td>\n",
       "      <td>24.423600</td>\n",
       "      <td>4472.57</td>\n",
       "      <td>43.9929</td>\n",
       "      <td>0.7040</td>\n",
       "      <td>...</td>\n",
       "      <td>44.75</td>\n",
       "      <td>45.44</td>\n",
       "      <td>44.10</td>\n",
       "      <td>44.99</td>\n",
       "      <td>44.862500</td>\n",
       "      <td>43863.72</td>\n",
       "      <td>0.6938</td>\n",
       "      <td>6.9045</td>\n",
       "      <td>6.9045</td>\n",
       "      <td>-0.075876</td>\n",
       "    </tr>\n",
       "    <tr>\n",
       "      <th>5230282</th>\n",
       "      <td>2021-07-01 09:30:00</td>\n",
       "      <td>605339</td>\n",
       "      <td>26.90</td>\n",
       "      <td>26.90</td>\n",
       "      <td>26.90</td>\n",
       "      <td>26.90</td>\n",
       "      <td>26.900000</td>\n",
       "      <td>1373.52</td>\n",
       "      <td>10.0204</td>\n",
       "      <td>0.2162</td>\n",
       "      <td>...</td>\n",
       "      <td>44.81</td>\n",
       "      <td>44.88</td>\n",
       "      <td>42.70</td>\n",
       "      <td>43.18</td>\n",
       "      <td>43.469700</td>\n",
       "      <td>72397.12</td>\n",
       "      <td>-4.0231</td>\n",
       "      <td>11.3958</td>\n",
       "      <td>11.3958</td>\n",
       "      <td>-0.043207</td>\n",
       "    </tr>\n",
       "    <tr>\n",
       "      <th>5230283</th>\n",
       "      <td>2021-06-30 09:30:00</td>\n",
       "      <td>688314</td>\n",
       "      <td>100.20</td>\n",
       "      <td>105.00</td>\n",
       "      <td>86.78</td>\n",
       "      <td>92.05</td>\n",
       "      <td>92.899300</td>\n",
       "      <td>106963.24</td>\n",
       "      <td>430.8535</td>\n",
       "      <td>90.5821</td>\n",
       "      <td>...</td>\n",
       "      <td>115.11</td>\n",
       "      <td>115.78</td>\n",
       "      <td>110.21</td>\n",
       "      <td>112.00</td>\n",
       "      <td>112.765600</td>\n",
       "      <td>6286.46</td>\n",
       "      <td>-4.1014</td>\n",
       "      <td>5.3237</td>\n",
       "      <td>5.3237</td>\n",
       "      <td>-0.081182</td>\n",
       "    </tr>\n",
       "    <tr>\n",
       "      <th>5230284</th>\n",
       "      <td>2021-07-01 09:30:00</td>\n",
       "      <td>688314</td>\n",
       "      <td>94.00</td>\n",
       "      <td>106.12</td>\n",
       "      <td>83.00</td>\n",
       "      <td>102.50</td>\n",
       "      <td>92.323600</td>\n",
       "      <td>80295.81</td>\n",
       "      <td>11.3525</td>\n",
       "      <td>67.9987</td>\n",
       "      <td>...</td>\n",
       "      <td>112.32</td>\n",
       "      <td>112.32</td>\n",
       "      <td>103.50</td>\n",
       "      <td>105.64</td>\n",
       "      <td>107.011300</td>\n",
       "      <td>9925.98</td>\n",
       "      <td>-5.6786</td>\n",
       "      <td>8.4058</td>\n",
       "      <td>8.4058</td>\n",
       "      <td>0.043254</td>\n",
       "    </tr>\n",
       "    <tr>\n",
       "      <th>5230285</th>\n",
       "      <td>2021-07-01 09:30:00</td>\n",
       "      <td>688660</td>\n",
       "      <td>11.01</td>\n",
       "      <td>13.00</td>\n",
       "      <td>11.00</td>\n",
       "      <td>11.75</td>\n",
       "      <td>11.599600</td>\n",
       "      <td>2536990.79</td>\n",
       "      <td>115.9926</td>\n",
       "      <td>69.6561</td>\n",
       "      <td>...</td>\n",
       "      <td>8.78</td>\n",
       "      <td>8.89</td>\n",
       "      <td>8.77</td>\n",
       "      <td>8.80</td>\n",
       "      <td>8.809300</td>\n",
       "      <td>126261.24</td>\n",
       "      <td>0.2278</td>\n",
       "      <td>3.4667</td>\n",
       "      <td>3.4667</td>\n",
       "      <td>0.030717</td>\n",
       "    </tr>\n",
       "  </tbody>\n",
       "</table>\n",
       "<p>5230286 rows × 273 columns</p>\n",
       "</div>"
      ],
      "text/plain": [
       "                  timestamp  ticker        0        1        2        3  \\\n",
       "0       2015-02-16 09:30:00       1  1136.15  1156.75  1108.44  1138.28   \n",
       "1       2015-02-17 09:30:00       1  1126.20  1164.57  1104.89  1121.23   \n",
       "2       2015-02-25 09:30:00       1  1105.60  1124.78  1087.12  1099.91   \n",
       "3       2015-02-26 09:30:00       1  1101.33  1106.31  1058.70  1062.96   \n",
       "4       2015-02-27 09:30:00       1  1058.70  1127.62  1045.20  1071.49   \n",
       "...                     ...     ...      ...      ...      ...      ...   \n",
       "5230281 2021-06-30 09:30:00  605339    20.38    24.45    20.38    24.45   \n",
       "5230282 2021-07-01 09:30:00  605339    26.90    26.90    26.90    26.90   \n",
       "5230283 2021-06-30 09:30:00  688314   100.20   105.00    86.78    92.05   \n",
       "5230284 2021-07-01 09:30:00  688314    94.00   106.12    83.00   102.50   \n",
       "5230285 2021-07-01 09:30:00  688660    11.01    13.00    11.00    11.75   \n",
       "\n",
       "                   4           5         6        7  ...     261      262  \\\n",
       "0        1134.052643  2860436.43    1.1364   2.9079  ...  989.78  1007.54   \n",
       "1        1132.652885  2166421.40   -1.4981   2.2024  ...  991.20   995.46   \n",
       "2        1101.168988  1700120.67   -1.9011   1.7283  ...  991.91  1002.57   \n",
       "3        1074.097527  1407714.21   -3.3592   1.4311  ...  997.59   998.30   \n",
       "4        1086.375607  2508500.23    0.8021   2.5501  ...  980.54  1000.44   \n",
       "...              ...         ...       ...      ...  ...     ...      ...   \n",
       "5230281    24.423600     4472.57   43.9929   0.7040  ...   44.75    45.44   \n",
       "5230282    26.900000     1373.52   10.0204   0.2162  ...   44.81    44.88   \n",
       "5230283    92.899300   106963.24  430.8535  90.5821  ...  115.11   115.78   \n",
       "5230284    92.323600    80295.81   11.3525  67.9987  ...  112.32   112.32   \n",
       "5230285    11.599600  2536990.79  115.9926  69.6561  ...    8.78     8.89   \n",
       "\n",
       "            263     264         265         266     267      268      269  \\\n",
       "0        983.38  991.20  996.094771   887743.10  0.6494   0.9025   1.7894   \n",
       "1        975.57  989.07  985.109868   721202.39 -0.2151   0.7332   1.4537   \n",
       "2        989.78  994.04  996.570831   680491.59  0.5029   0.6918   1.3717   \n",
       "3        977.70  980.54  983.482739   577392.33 -1.3581   0.5870   1.1638   \n",
       "4        966.33  999.73  986.644628  1025544.24  1.9565   1.0426   2.0672   \n",
       "...         ...     ...         ...         ...     ...      ...      ...   \n",
       "5230281   44.10   44.99   44.862500    43863.72  0.6938   6.9045   6.9045   \n",
       "5230282   42.70   43.18   43.469700    72397.12 -4.0231  11.3958  11.3958   \n",
       "5230283  110.21  112.00  112.765600     6286.46 -4.1014   5.3237   5.3237   \n",
       "5230284  103.50  105.64  107.011300     9925.98 -5.6786   8.4058   8.4058   \n",
       "5230285    8.77    8.80    8.809300   126261.24  0.2278   3.4667   3.4667   \n",
       "\n",
       "           target  \n",
       "0        0.005735  \n",
       "1        0.001433  \n",
       "2       -0.029915  \n",
       "3       -0.021739  \n",
       "4       -0.049075  \n",
       "...           ...  \n",
       "5230281 -0.075876  \n",
       "5230282 -0.043207  \n",
       "5230283 -0.081182  \n",
       "5230284  0.043254  \n",
       "5230285  0.030717  \n",
       "\n",
       "[5230286 rows x 273 columns]"
      ]
     },
     "execution_count": 14,
     "metadata": {},
     "output_type": "execute_result"
    }
   ],
   "source": [
    "final_df.columns = [str(i) for i in range(final_df.shape[1])]\n",
    "final_df.rename(columns={str(final_df.shape[1] - 1):'target'}, inplace=True)\n",
    "final_df.reset_index(inplace=True)\n",
    "final_df['timestamp'] = pd.to_datetime(final_df['timestamp'])\n",
    "final_df"
   ]
  },
  {
   "cell_type": "code",
   "execution_count": 15,
   "id": "82b24ffd",
   "metadata": {
    "ExecuteTime": {
     "end_time": "2021-12-15T05:51:18.799354Z",
     "start_time": "2021-12-15T05:50:52.987583Z"
    }
   },
   "outputs": [
    {
     "name": "stderr",
     "output_type": "stream",
     "text": [
      "100%|██████████| 26/26 [00:00<00:00, 1782.48it/s]\n"
     ]
    },
    {
     "name": "stdout",
     "output_type": "stream",
     "text": [
      "Save to  /home/wuwenjun/Data/AlphaNet_Original_Input_12.14/Data/2015-01-01_2015-03-01.par\n",
      "Save to  /home/wuwenjun/Data/AlphaNet_Original_Input_12.14/Data/2017-01-01_2017-03-01.par\n",
      "Save to  /home/wuwenjun/Data/AlphaNet_Original_Input_12.14/Data/2019-01-01_2019-03-01.par\n",
      "Save to  /home/wuwenjun/Data/AlphaNet_Original_Input_12.14/Data/2016-01-01_2016-03-01.par\n",
      "Save to  /home/wuwenjun/Data/AlphaNet_Original_Input_12.14/Data/2018-01-01_2018-03-01.par\n",
      "Save to  /home/wuwenjun/Data/AlphaNet_Original_Input_12.14/Data/2015-06-01_2015-09-01.par\n",
      "Save to  /home/wuwenjun/Data/AlphaNet_Original_Input_12.14/Data/2017-06-01_2017-09-01.par\n",
      "Save to  /home/wuwenjun/Data/AlphaNet_Original_Input_12.14/Data/2019-06-01_2019-09-01.par\n",
      "Save to  /home/wuwenjun/Data/AlphaNet_Original_Input_12.14/Data/2016-06-01_2016-09-01.par\n",
      "Save to  /home/wuwenjun/Data/AlphaNet_Original_Input_12.14/Data/2015-03-01_2015-06-01.par\n",
      "Save to  /home/wuwenjun/Data/AlphaNet_Original_Input_12.14/Data/2017-03-01_2017-06-01.par\n",
      "Save to  /home/wuwenjun/Data/AlphaNet_Original_Input_12.14/Data/2015-09-01_2016-01-01.par\n",
      "Save to  /home/wuwenjun/Data/AlphaNet_Original_Input_12.14/Data/2016-03-01_2016-06-01.par\n",
      "Save to  /home/wuwenjun/Data/AlphaNet_Original_Input_12.14/Data/2019-03-01_2019-06-01.par\n",
      "Save to  /home/wuwenjun/Data/AlphaNet_Original_Input_12.14/Data/2019-09-01_2020-01-01.par\n",
      "Save to  /home/wuwenjun/Data/AlphaNet_Original_Input_12.14/Data/2016-09-01_2017-01-01.par\n",
      "Save to  /home/wuwenjun/Data/AlphaNet_Original_Input_12.14/Data/2018-03-01_2018-06-01.par\n",
      "Save to  /home/wuwenjun/Data/AlphaNet_Original_Input_12.14/Data/2018-06-01_2018-09-01.par\n",
      "Save to  /home/wuwenjun/Data/AlphaNet_Original_Input_12.14/Data/2020-01-01_2020-03-01.par\n",
      "Save to  /home/wuwenjun/Data/AlphaNet_Original_Input_12.14/Data/2018-09-01_2019-01-01.par\n",
      "Save to  /home/wuwenjun/Data/AlphaNet_Original_Input_12.14/Data/2017-09-01_2018-01-01.par\n",
      "Save to  /home/wuwenjun/Data/AlphaNet_Original_Input_12.14/Data/2020-06-01_2020-09-01.par\n",
      "Save to  /home/wuwenjun/Data/AlphaNet_Original_Input_12.14/Data/2021-01-01_2021-03-01.par\n",
      "Save to  /home/wuwenjun/Data/AlphaNet_Original_Input_12.14/Data/2020-03-01_2020-06-01.par\n",
      "Save to  /home/wuwenjun/Data/AlphaNet_Original_Input_12.14/Data/2021-03-01_2021-06-01.par\n",
      "Save to  /home/wuwenjun/Data/AlphaNet_Original_Input_12.14/Data/2020-09-01_2021-01-01.par\n",
      "并行执行时间： 15\n"
     ]
    }
   ],
   "source": [
    "import datetime\n",
    "from datetime import timedelta\n",
    "from dateutil.relativedelta import relativedelta\n",
    "time_list = [20150101,20150301,20150601,20150901,\n",
    "             20160101,20160301,20160601,20160901,\n",
    "             20170101,20170301,20170601,20170901,\n",
    "             20180101,20180301,20180601,20180901,\n",
    "             20190101,20190301,20190601,20190901,\n",
    "             20200101,20200301,20200601,20200901,\n",
    "             20210101,20210301,20210601]\n",
    "\n",
    "def save(start_time,end_time):\n",
    "    final_df[\n",
    "        (final_df['timestamp'] >= start_time) & \n",
    "        (final_df['timestamp'] < end_time)].to_parquet(\n",
    "        path + \"Data/\" + datetime.datetime.strptime(str(start_time), '%Y-%m-%d %H:%M:%S').strftime('%Y-%m-%d') + \"_\" +\n",
    "                      datetime.datetime.strptime(str(end_time), '%Y-%m-%d %H:%M:%S').strftime('%Y-%m-%d') + \".par\"\n",
    "    )\n",
    "    print(\"Save to \",path + \"Data/\" + datetime.datetime.strptime(str(start_time), '%Y-%m-%d %H:%M:%S').strftime('%Y-%m-%d') + \"_\" +\n",
    "                      datetime.datetime.strptime(str(end_time), '%Y-%m-%d %H:%M:%S').strftime('%Y-%m-%d') + \".par\")\n",
    "    return None\n",
    "\n",
    "pool = mp.Pool(20)\n",
    "t1 = time.time()\n",
    "for i in tqdm(range(len(time_list)-1)):\n",
    "    start_time = pd.to_datetime(str(time_list[i]))\n",
    "    end_time = pd.to_datetime(str(time_list[i+1]))\n",
    "    pool.apply_async(save, args=(start_time,end_time))  #维持执行的进程总数为10，当一个进程执行完后启动一个新进程.\n",
    "pool.close()\n",
    "pool.join()\n",
    "t2 = time.time()\n",
    "print(\"并行执行时间：\", int(t2 - t1))"
   ]
  },
  {
   "cell_type": "markdown",
   "id": "88557dca",
   "metadata": {},
   "source": [
    "# Get Factor"
   ]
  },
  {
   "cell_type": "code",
   "execution_count": 31,
   "id": "2c79cc98",
   "metadata": {
    "ExecuteTime": {
     "end_time": "2021-12-15T07:08:10.623608Z",
     "start_time": "2021-12-15T07:08:10.609950Z"
    }
   },
   "outputs": [],
   "source": [
    "day = 30\n",
    "stride = 10\n",
    "def generateC(l1):\n",
    "    if len(l1) == 1:\n",
    "        return []\n",
    "    v = [[l1[0], i] for i in l1[1:]]\n",
    "    l1 = l1[1:]\n",
    "    return v + generateC(l1)\n",
    "\n",
    "def generate_Num_and_ReversedNum(feat_nums):\n",
    "    list1 = list(range(feat_nums))\n",
    "    num = generateC(list1)\n",
    "    num_rev = []\n",
    "    for l in num:\n",
    "        l1 = l.copy()\n",
    "        l1.reverse()\n",
    "        num_rev.append(l1)\n",
    "    return num, num_rev\n",
    "\n",
    "def generate_Step_List(data_length, stride):\n",
    "    if data_length % stride == 0:\n",
    "        step_list = list(range(0, data_length + stride, stride))\n",
    "    elif data_length % stride <= 5:\n",
    "        mod = data_length % stride\n",
    "        step_list = list(range(0, data_length - stride, stride)) + [data_length]\n",
    "    else:\n",
    "        mod = data_length % stride\n",
    "        step_list = list(range(0, data_length + stride - mod, stride)) + [data_length]\n",
    "    return step_list"
   ]
  },
  {
   "cell_type": "code",
   "execution_count": 32,
   "id": "36d56f8f",
   "metadata": {
    "ExecuteTime": {
     "end_time": "2021-12-15T07:08:11.199282Z",
     "start_time": "2021-12-15T07:08:11.185210Z"
    }
   },
   "outputs": [
    {
     "name": "stderr",
     "output_type": "stream",
     "text": [
      "100%|██████████| 26/26 [00:00<00:00, 225313.85it/s]\n"
     ]
    },
    {
     "data": {
      "text/plain": [
       "['2015-01-01_2015-03-01.par',\n",
       " '2015-03-01_2015-06-01.par',\n",
       " '2016-01-01_2016-03-01.par',\n",
       " '2017-01-01_2017-03-01.par',\n",
       " '2015-06-01_2015-09-01.par',\n",
       " '2018-01-01_2018-03-01.par',\n",
       " '2016-03-01_2016-06-01.par',\n",
       " '2021-01-01_2021-03-01.par',\n",
       " '2016-06-01_2016-09-01.par',\n",
       " '2015-09-01_2016-01-01.par',\n",
       " '2020-01-01_2020-03-01.par',\n",
       " '2019-01-01_2019-03-01.par',\n",
       " '2017-03-01_2017-06-01.par',\n",
       " '2021-03-01_2021-06-01.par',\n",
       " '2018-03-01_2018-06-01.par',\n",
       " '2018-06-01_2018-09-01.par',\n",
       " '2016-09-01_2017-01-01.par',\n",
       " '2017-06-01_2017-09-01.par',\n",
       " '2020-06-01_2020-09-01.par',\n",
       " '2020-03-01_2020-06-01.par',\n",
       " '2020-09-01_2021-01-01.par',\n",
       " '2019-06-01_2019-09-01.par',\n",
       " '2019-03-01_2019-06-01.par',\n",
       " '2017-09-01_2018-01-01.par',\n",
       " '2018-09-01_2019-01-01.par',\n",
       " '2019-09-01_2020-01-01.par']"
      ]
     },
     "execution_count": 32,
     "metadata": {},
     "output_type": "execute_result"
    }
   ],
   "source": [
    "path_list = []\n",
    "data_path = path + \"Data/\"\n",
    "dataframe_list = pd.DataFrame()\n",
    "for f, _, i in walk(data_path):\n",
    "    for j in tqdm(i):\n",
    "        path_list.append(j)\n",
    "path_list"
   ]
  },
  {
   "cell_type": "code",
   "execution_count": 35,
   "id": "72c8638b",
   "metadata": {
    "ExecuteTime": {
     "end_time": "2021-12-15T07:14:28.127254Z",
     "start_time": "2021-12-15T07:14:28.074457Z"
    }
   },
   "outputs": [],
   "source": [
    "# Read Data\n",
    "\n",
    "def cov(x,num,num_rev,step_list):\n",
    "    \"\"\"Main Function\"\"\"\n",
    "    l = []\n",
    "    for i in tqdm(range(len(step_list) - 1)):\n",
    "        start = step_list[i]\n",
    "        end = step_list[i + 1]\n",
    "        sub_data1 = x[:, :, num, start:end]\n",
    "        sub_data2 = x[:, :, num_rev, start:end]\n",
    "        mean1 = sub_data1.mean(axis=4, keepdims=True)  # (2000, 1, 36, 2, 1)\n",
    "        mean2 = sub_data2.mean(axis=4, keepdims=True)\n",
    "        spread1 = sub_data1 - mean1  # (2000, 1, 36, 2, 10)\n",
    "        spread2 = sub_data2 - mean2\n",
    "        cov = ((spread1 * spread2).sum(axis=4, keepdims=True) / (sub_data1.shape[4] - 1)).mean(axis=3,\n",
    "                                                                                                keepdims=True)  # (2000, 1, 36, 1, 1)\n",
    "        l.append(cov)\n",
    "    return np.squeeze(np.array(l)).transpose(1, 2, 0)\n",
    "\n",
    "def corr(x,num,num_rev,step_list):\n",
    "    \"\"\"Main Function\"\"\"\n",
    "    l = []\n",
    "    for i in tqdm(range(len(step_list) - 1)):\n",
    "        start = step_list[i]\n",
    "        end = step_list[i + 1]\n",
    "        sub_data1 = x[:, :, num, start:end]\n",
    "        sub_data2 = x[:, :, num_rev, start:end]\n",
    "        std1 = sub_data1.std(axis=4, keepdims=True)\n",
    "        std2 = sub_data2.std(axis=4, keepdims=True)\n",
    "        std = (std1 * std2).mean(axis=3, keepdims=True)\n",
    "        l.append(std)\n",
    "    l = np.squeeze(np.array(l)).transpose(1, 2, 0)\n",
    "    fct = (sub_data1.shape[4] - 1) / sub_data1.shape[4]\n",
    "    \n",
    "    # read cov\n",
    "    cov = pd.read_parquet(output_path.replace(\"Corr\",\"Cov\") + name)\n",
    "    cov = np.array(cov.set_index(['timestamp','ticker']))\n",
    "    cov = cov.reshape(l.shape)\n",
    "    # divide\n",
    "    l = np.divide(cov, l, out=np.zeros_like(cov, dtype=np.float64), where=l!=0) * fct\n",
    "    return l\n",
    "\n",
    "def std(x,num,num_rev,step_list):\n",
    "    \"\"\"Main Function\"\"\"\n",
    "    std = []\n",
    "    for i in tqdm(range(len(step_list) - 1)):\n",
    "        start = step_list[i]\n",
    "        end = step_list[i + 1]\n",
    "        sub_data1 = x[:, :, :, start:end]\n",
    "        std1 = sub_data1.std(axis=3, keepdims=True)\n",
    "        std.append(std1)\n",
    "    return np.squeeze(np.array(std)).transpose(1, 2, 0)\n",
    "\n",
    "def zscore(x,num,num_rev,step_list):\n",
    "    \"\"\"Main Function\"\"\"\n",
    "    l = []\n",
    "    for i in tqdm(range(len(step_list) - 1)):\n",
    "        start = step_list[i]\n",
    "        end = step_list[i + 1]\n",
    "        sub_data1 = x[:, :, :, start:end]\n",
    "        mean = sub_data1.mean(axis=3, keepdims=True)\n",
    "        std = sub_data1.std(axis=3, keepdims=True)\n",
    "        z_score = np.divide(mean, std, out=np.zeros_like(mean, dtype=np.float64), where=std!=0)\n",
    "        l.append(z_score)\n",
    "    return np.squeeze(np.array(l)).transpose(1, 2, 0)\n",
    "\n",
    "def ret(x,num,num_rev,step_list):\n",
    "    \"\"\"Main Function\"\"\"\n",
    "    l = []\n",
    "    for i in tqdm(range(len(step_list) - 1)):\n",
    "        start = step_list[i]\n",
    "        end = step_list[i + 1]\n",
    "        sub_data1 = x[:, :, :, start:end]\n",
    "        ret = np.divide(sub_data1[:, :, :, -1], sub_data1[:, :, :, 0], out=sub_data1[:, :, :, -1], where=sub_data1[:, :, :, 0]!=0) - 1\n",
    "        l.append(ret)\n",
    "    return np.squeeze(np.array(l)).transpose(1, 2, 0)\n",
    "\n",
    "def decay(x,num,num_rev,step_list):\n",
    "    \"\"\"Main Function\"\"\"\n",
    "    l = []\n",
    "    for i in tqdm(range(len(step_list) - 1)):\n",
    "        start = step_list[i]\n",
    "        end = step_list[i + 1]\n",
    "        time_spread = end - start\n",
    "        weight = np.arange(1, time_spread + 1)\n",
    "        weight = weight / (weight.sum())\n",
    "        sub_data1 = (x[:, :, :, start:end] * weight).sum(axis=3, keepdims=True)\n",
    "        l.append(sub_data1)\n",
    "    return np.squeeze(np.array(l)).transpose(1, 2, 0)\n",
    "\n",
    "def test(input_path,name,output_path,method = None):\n",
    "#     print(\"read\" + input_path + name)\n",
    "    dataframe_list = pd.read_parquet(input_path + name)\n",
    "    dataframe_list = dataframe_list.set_index([\"timestamp\",\"ticker\"])\n",
    "    x = np.array(dataframe_list.drop('target',axis=1))\n",
    "    x = x.reshape(x.shape[0], 1, day, -1)\n",
    "    x = x.transpose(0, 1, 3, 2)\n",
    "\n",
    "    feat_nums = x.shape[2]\n",
    "    data_length = x.shape[3]\n",
    "    num, num_rev = generate_Num_and_ReversedNum(feat_nums)\n",
    "    step_list = generate_Step_List(data_length, stride)\n",
    "\n",
    "    \"\"\"Main Function\"\"\"\n",
    "    if method == \"Cov\":\n",
    "        l = cov(x,num,num_rev,step_list)\n",
    "    if method == \"Corr\":\n",
    "        l = cov(x,num,num_rev,step_list)\n",
    "    if method == \"Std\":\n",
    "        l = std(x,num,num_rev,step_list)\n",
    "    if method == \"Zscore\":\n",
    "        l = zscore(x,num,num_rev,step_list)\n",
    "    if method == \"Return\":\n",
    "        l = ret(x,num,num_rev,step_list)\n",
    "    if method == \"Decay\":\n",
    "        l = decay(x,num,num_rev,step_list)\n",
    "\n",
    "    l = pd.DataFrame(l.reshape(l.shape[0],-1))\n",
    "    l.index = dataframe_list.index\n",
    "    l.columns = [str(i) for i in range(l.shape[1])]\n",
    "    l.reset_index(inplace=True)\n",
    "    l.to_parquet(output_path + name)\n",
    "    print(\"save to \",output_path + name)\n",
    "    return None"
   ]
  },
  {
   "cell_type": "code",
   "execution_count": 38,
   "id": "ab2906fe",
   "metadata": {
    "ExecuteTime": {
     "end_time": "2021-12-15T07:20:50.046252Z",
     "start_time": "2021-12-15T07:17:11.168673Z"
    }
   },
   "outputs": [
    {
     "name": "stdout",
     "output_type": "stream",
     "text": [
      "read/home/wuwenjun/Data/AlphaNet_Original_Input_12.14/Data/2016-01-01_2016-03-01.parread/home/wuwenjun/Data/AlphaNet_Original_Input_12.14/Data/2015-01-01_2015-03-01.parread/home/wuwenjun/Data/AlphaNet_Original_Input_12.14/Data/2018-01-01_2018-03-01.parread/home/wuwenjun/Data/AlphaNet_Original_Input_12.14/Data/2015-09-01_2016-01-01.parread/home/wuwenjun/Data/AlphaNet_Original_Input_12.14/Data/2015-03-01_2015-06-01.parread/home/wuwenjun/Data/AlphaNet_Original_Input_12.14/Data/2016-03-01_2016-06-01.parread/home/wuwenjun/Data/AlphaNet_Original_Input_12.14/Data/2016-06-01_2016-09-01.parread/home/wuwenjun/Data/AlphaNet_Original_Input_12.14/Data/2015-06-01_2015-09-01.parread/home/wuwenjun/Data/AlphaNet_Original_Input_12.14/Data/2021-01-01_2021-03-01.parread/home/wuwenjun/Data/AlphaNet_Original_Input_12.14/Data/2017-01-01_2017-03-01.par\n",
      "\n",
      "\n",
      "\n",
      "\n",
      "\n",
      "\n",
      "\n",
      "\n",
      "\n"
     ]
    },
    {
     "name": "stderr",
     "output_type": "stream",
     "text": [
      "100%|██████████| 3/3 [00:01<00:00,  1.64it/s]\n",
      "  0%|          | 0/3 [00:00<?, ?it/s]"
     ]
    },
    {
     "name": "stdout",
     "output_type": "stream",
     "text": [
      "save to  /home/wuwenjun/Data/AlphaNet_Original_Input_12.14/Cov/2015-01-01_2015-03-01.par\n",
      "read/home/wuwenjun/Data/AlphaNet_Original_Input_12.14/Data/2020-01-01_2020-03-01.par\n"
     ]
    },
    {
     "name": "stderr",
     "output_type": "stream",
     "text": [
      "100%|██████████| 3/3 [00:10<00:00,  3.52s/it]\n",
      "100%|██████████| 3/3 [00:10<00:00,  3.66s/it]\n",
      " 67%|██████▋   | 2/3 [00:11<00:05,  5.74s/it]"
     ]
    },
    {
     "name": "stdout",
     "output_type": "stream",
     "text": [
      "save to  /home/wuwenjun/Data/AlphaNet_Original_Input_12.14/Cov/2017-01-01_2017-03-01.par\n",
      "read/home/wuwenjun/Data/AlphaNet_Original_Input_12.14/Data/2019-01-01_2019-03-01.par\n",
      "save to  /home/wuwenjun/Data/AlphaNet_Original_Input_12.14/Cov/2016-01-01_2016-03-01.par\n",
      "read/home/wuwenjun/Data/AlphaNet_Original_Input_12.14/Data/2017-03-01_2017-06-01.par\n"
     ]
    },
    {
     "name": "stderr",
     "output_type": "stream",
     "text": [
      "100%|██████████| 3/3 [00:12<00:00,  4.33s/it]\n",
      "100%|██████████| 3/3 [00:13<00:00,  4.58s/it]\n",
      "  0%|          | 0/3 [00:00<?, ?it/s].12s/it]"
     ]
    },
    {
     "name": "stdout",
     "output_type": "stream",
     "text": [
      "save to  /home/wuwenjun/Data/AlphaNet_Original_Input_12.14/Cov/2018-01-01_2018-03-01.par\n",
      "read/home/wuwenjun/Data/AlphaNet_Original_Input_12.14/Data/2021-03-01_2021-06-01.par\n",
      "save to  /home/wuwenjun/Data/AlphaNet_Original_Input_12.14/Cov/2021-01-01_2021-03-01.par\n",
      "read/home/wuwenjun/Data/AlphaNet_Original_Input_12.14/Data/2018-03-01_2018-06-01.par\n"
     ]
    },
    {
     "name": "stderr",
     "output_type": "stream",
     "text": [
      "100%|██████████| 3/3 [00:16<00:00,  5.54s/it]\n",
      "100%|██████████| 3/3 [00:18<00:00,  6.07s/it]\n",
      "100%|██████████| 3/3 [00:16<00:00,  5.62s/it]\n",
      "100%|██████████| 3/3 [00:20<00:00,  6.76s/it]\n"
     ]
    },
    {
     "name": "stdout",
     "output_type": "stream",
     "text": [
      "save to  /home/wuwenjun/Data/AlphaNet_Original_Input_12.14/Cov/2016-03-01_2016-06-01.par\n"
     ]
    },
    {
     "name": "stderr",
     "output_type": "stream",
     "text": [
      "100%|██████████| 3/3 [00:20<00:00,  6.84s/it]\n"
     ]
    },
    {
     "name": "stdout",
     "output_type": "stream",
     "text": [
      "read/home/wuwenjun/Data/AlphaNet_Original_Input_12.14/Data/2018-06-01_2018-09-01.par\n"
     ]
    },
    {
     "name": "stderr",
     "output_type": "stream",
     "text": [
      "100%|██████████| 3/3 [00:22<00:00,  7.45s/it]\n"
     ]
    },
    {
     "name": "stdout",
     "output_type": "stream",
     "text": [
      "save to  /home/wuwenjun/Data/AlphaNet_Original_Input_12.14/Cov/2016-06-01_2016-09-01.par\n",
      "save to  /home/wuwenjun/Data/AlphaNet_Original_Input_12.14/Cov/2020-01-01_2020-03-01.par\n",
      "read/home/wuwenjun/Data/AlphaNet_Original_Input_12.14/Data/2016-09-01_2017-01-01.par\n",
      "read/home/wuwenjun/Data/AlphaNet_Original_Input_12.14/Data/2017-06-01_2017-09-01.par\n",
      "save to  /home/wuwenjun/Data/AlphaNet_Original_Input_12.14/Cov/2015-06-01_2015-09-01.par\n",
      "save to  /home/wuwenjun/Data/AlphaNet_Original_Input_12.14/Cov/2015-03-01_2015-06-01.par\n"
     ]
    },
    {
     "name": "stderr",
     "output_type": "stream",
     "text": [
      "\r",
      " 33%|███▎      | 1/3 [00:06<00:13,  6.71s/it]"
     ]
    },
    {
     "name": "stdout",
     "output_type": "stream",
     "text": [
      "read/home/wuwenjun/Data/AlphaNet_Original_Input_12.14/Data/2020-06-01_2020-09-01.par\n",
      "read/home/wuwenjun/Data/AlphaNet_Original_Input_12.14/Data/2020-03-01_2020-06-01.par\n"
     ]
    },
    {
     "name": "stderr",
     "output_type": "stream",
     "text": [
      "  0%|          | 0/3 [00:00<?, ?it/s].21s/it]"
     ]
    },
    {
     "name": "stdout",
     "output_type": "stream",
     "text": [
      "save to  /home/wuwenjun/Data/AlphaNet_Original_Input_12.14/Cov/2015-09-01_2016-01-01.par\n",
      "read/home/wuwenjun/Data/AlphaNet_Original_Input_12.14/Data/2020-09-01_2021-01-01.par\n"
     ]
    },
    {
     "name": "stderr",
     "output_type": "stream",
     "text": [
      "100%|██████████| 3/3 [00:14<00:00,  4.76s/it]\n",
      "  0%|          | 0/3 [00:00<?, ?it/s].69s/it]"
     ]
    },
    {
     "name": "stdout",
     "output_type": "stream",
     "text": [
      "save to  /home/wuwenjun/Data/AlphaNet_Original_Input_12.14/Cov/2019-01-01_2019-03-01.par\n"
     ]
    },
    {
     "name": "stderr",
     "output_type": "stream",
     "text": [
      "\r",
      " 67%|██████▋   | 2/3 [00:13<00:06,  6.79s/it]"
     ]
    },
    {
     "name": "stdout",
     "output_type": "stream",
     "text": [
      "read/home/wuwenjun/Data/AlphaNet_Original_Input_12.14/Data/2019-06-01_2019-09-01.par\n"
     ]
    },
    {
     "name": "stderr",
     "output_type": "stream",
     "text": [
      "100%|██████████| 3/3 [00:23<00:00,  7.70s/it]\n",
      "100%|██████████| 3/3 [00:20<00:00,  6.93s/it]\n",
      " 67%|██████▋   | 2/3 [00:17<00:08,  8.68s/it]"
     ]
    },
    {
     "name": "stdout",
     "output_type": "stream",
     "text": [
      "save to  /home/wuwenjun/Data/AlphaNet_Original_Input_12.14/Cov/2017-03-01_2017-06-01.par\n"
     ]
    },
    {
     "name": "stderr",
     "output_type": "stream",
     "text": [
      "\r",
      " 33%|███▎      | 1/3 [00:11<00:23, 11.58s/it]"
     ]
    },
    {
     "name": "stdout",
     "output_type": "stream",
     "text": [
      "read/home/wuwenjun/Data/AlphaNet_Original_Input_12.14/Data/2019-03-01_2019-06-01.par\n",
      "save to  /home/wuwenjun/Data/AlphaNet_Original_Input_12.14/Cov/2018-03-01_2018-06-01.par\n",
      "read/home/wuwenjun/Data/AlphaNet_Original_Input_12.14/Data/2017-09-01_2018-01-01.par\n"
     ]
    },
    {
     "name": "stderr",
     "output_type": "stream",
     "text": [
      "100%|██████████| 3/3 [00:25<00:00,  8.65s/it]\n",
      "100%|██████████| 3/3 [00:22<00:00,  7.67s/it]\n",
      "100%|██████████| 3/3 [00:21<00:00,  7.18s/it]\n"
     ]
    },
    {
     "name": "stdout",
     "output_type": "stream",
     "text": [
      "save to  /home/wuwenjun/Data/AlphaNet_Original_Input_12.14/Cov/2021-03-01_2021-06-01.par\n",
      "read/home/wuwenjun/Data/AlphaNet_Original_Input_12.14/Data/2018-09-01_2019-01-01.par\n"
     ]
    },
    {
     "name": "stderr",
     "output_type": "stream",
     "text": [
      "100%|██████████| 3/3 [00:23<00:00,  7.93s/it]\n",
      "100%|██████████| 3/3 [00:22<00:00,  7.44s/it]\n"
     ]
    },
    {
     "name": "stdout",
     "output_type": "stream",
     "text": [
      "save to  /home/wuwenjun/Data/AlphaNet_Original_Input_12.14/Cov/2018-06-01_2018-09-01.par\n",
      "read/home/wuwenjun/Data/AlphaNet_Original_Input_12.14/Data/2019-09-01_2020-01-01.par\n"
     ]
    },
    {
     "name": "stderr",
     "output_type": "stream",
     "text": [
      "\r",
      "  0%|          | 0/3 [00:00<?, ?it/s]"
     ]
    },
    {
     "name": "stdout",
     "output_type": "stream",
     "text": [
      "save to  /home/wuwenjun/Data/AlphaNet_Original_Input_12.14/Cov/2020-03-01_2020-06-01.par\n",
      "read/home/wuwenjun/Data/AlphaNet_Original_Input_12.14/Data/2015-01-01_2015-03-01.par\n"
     ]
    },
    {
     "name": "stderr",
     "output_type": "stream",
     "text": [
      "100%|██████████| 3/3 [00:00<00:00, 105.33it/s]\n"
     ]
    },
    {
     "name": "stdout",
     "output_type": "stream",
     "text": [
      "save to  /home/wuwenjun/Data/AlphaNet_Original_Input_12.14/Std/2015-01-01_2015-03-01.par\n",
      "read/home/wuwenjun/Data/AlphaNet_Original_Input_12.14/Data/2015-03-01_2015-06-01.par\n"
     ]
    },
    {
     "name": "stderr",
     "output_type": "stream",
     "text": [
      "100%|██████████| 3/3 [00:27<00:00,  9.31s/it]\n"
     ]
    },
    {
     "name": "stdout",
     "output_type": "stream",
     "text": [
      "save to  /home/wuwenjun/Data/AlphaNet_Original_Input_12.14/Cov/2016-09-01_2017-01-01.par\n",
      "save to  /home/wuwenjun/Data/AlphaNet_Original_Input_12.14/Cov/2020-06-01_2020-09-01.par\n"
     ]
    },
    {
     "name": "stderr",
     "output_type": "stream",
     "text": [
      "\r",
      "  0%|          | 0/3 [00:00<?, ?it/s]"
     ]
    },
    {
     "name": "stdout",
     "output_type": "stream",
     "text": [
      "read/home/wuwenjun/Data/AlphaNet_Original_Input_12.14/Data/2016-01-01_2016-03-01.par\n",
      "read/home/wuwenjun/Data/AlphaNet_Original_Input_12.14/Data/2017-01-01_2017-03-01.par\n"
     ]
    },
    {
     "name": "stderr",
     "output_type": "stream",
     "text": [
      "100%|██████████| 3/3 [00:00<00:00,  7.11it/s]\n",
      "100%|██████████| 3/3 [00:00<00:00, 12.88it/s]\n",
      "100%|██████████| 3/3 [00:00<00:00,  6.68it/s]\n"
     ]
    },
    {
     "name": "stdout",
     "output_type": "stream",
     "text": [
      "save to  /home/wuwenjun/Data/AlphaNet_Original_Input_12.14/Std/2015-03-01_2015-06-01.par\n",
      "save to  /home/wuwenjun/Data/AlphaNet_Original_Input_12.14/Std/2017-01-01_2017-03-01.par\n",
      "read/home/wuwenjun/Data/AlphaNet_Original_Input_12.14/Data/2015-06-01_2015-09-01.par\n",
      "save to  /home/wuwenjun/Data/AlphaNet_Original_Input_12.14/Std/2016-01-01_2016-03-01.par\n",
      "read/home/wuwenjun/Data/AlphaNet_Original_Input_12.14/Data/2018-01-01_2018-03-01.par\n",
      "read/home/wuwenjun/Data/AlphaNet_Original_Input_12.14/Data/2016-03-01_2016-06-01.par\n"
     ]
    },
    {
     "name": "stderr",
     "output_type": "stream",
     "text": [
      "100%|██████████| 3/3 [00:00<00:00, 10.07it/s]\n",
      " 67%|██████▋   | 2/3 [00:00<00:00,  5.89it/s]"
     ]
    },
    {
     "name": "stdout",
     "output_type": "stream",
     "text": [
      "save to  /home/wuwenjun/Data/AlphaNet_Original_Input_12.14/Std/2018-01-01_2018-03-01.par\n"
     ]
    },
    {
     "name": "stderr",
     "output_type": "stream",
     "text": [
      "\r",
      " 67%|██████▋   | 2/3 [00:00<00:00,  4.10it/s]"
     ]
    },
    {
     "name": "stdout",
     "output_type": "stream",
     "text": [
      "read/home/wuwenjun/Data/AlphaNet_Original_Input_12.14/Data/2021-01-01_2021-03-01.par\n"
     ]
    },
    {
     "name": "stderr",
     "output_type": "stream",
     "text": [
      "100%|██████████| 3/3 [00:00<00:00,  5.73it/s]\n",
      "100%|██████████| 3/3 [00:00<00:00,  3.70it/s]\n"
     ]
    },
    {
     "name": "stdout",
     "output_type": "stream",
     "text": [
      "save to  /home/wuwenjun/Data/AlphaNet_Original_Input_12.14/Cov/2017-06-01_2017-09-01.par\n",
      "read/home/wuwenjun/Data/AlphaNet_Original_Input_12.14/Data/2016-06-01_2016-09-01.par\n"
     ]
    },
    {
     "name": "stderr",
     "output_type": "stream",
     "text": [
      "\r",
      "  0%|          | 0/3 [00:00<?, ?it/s]"
     ]
    },
    {
     "name": "stdout",
     "output_type": "stream",
     "text": [
      "save to  /home/wuwenjun/Data/AlphaNet_Original_Input_12.14/Std/2015-06-01_2015-09-01.par\n"
     ]
    },
    {
     "name": "stderr",
     "output_type": "stream",
     "text": [
      "\r",
      " 33%|███▎      | 1/3 [00:00<00:00,  7.03it/s]"
     ]
    },
    {
     "name": "stdout",
     "output_type": "stream",
     "text": [
      "save to  /home/wuwenjun/Data/AlphaNet_Original_Input_12.14/Std/2016-03-01_2016-06-01.par\n"
     ]
    },
    {
     "name": "stderr",
     "output_type": "stream",
     "text": [
      "\r",
      " 67%|██████▋   | 2/3 [00:00<00:00,  8.45it/s]"
     ]
    },
    {
     "name": "stdout",
     "output_type": "stream",
     "text": [
      "read/home/wuwenjun/Data/AlphaNet_Original_Input_12.14/Data/2015-09-01_2016-01-01.par\n"
     ]
    },
    {
     "name": "stderr",
     "output_type": "stream",
     "text": [
      "100%|██████████| 3/3 [00:00<00:00,  9.28it/s]\n"
     ]
    },
    {
     "name": "stdout",
     "output_type": "stream",
     "text": [
      "read/home/wuwenjun/Data/AlphaNet_Original_Input_12.14/Data/2020-01-01_2020-03-01.par\n"
     ]
    },
    {
     "name": "stderr",
     "output_type": "stream",
     "text": [
      "\r",
      " 33%|███▎      | 1/3 [00:08<00:16,  8.31s/it]"
     ]
    },
    {
     "name": "stdout",
     "output_type": "stream",
     "text": [
      "save to  /home/wuwenjun/Data/AlphaNet_Original_Input_12.14/Std/2021-01-01_2021-03-01.par\n",
      "read/home/wuwenjun/Data/AlphaNet_Original_Input_12.14/Data/2019-01-01_2019-03-01.par\n"
     ]
    },
    {
     "name": "stderr",
     "output_type": "stream",
     "text": [
      "100%|██████████| 3/3 [00:00<00:00,  4.89it/s]\n",
      "100%|██████████| 3/3 [00:00<00:00,  5.13it/s]\n",
      "100%|██████████| 3/3 [00:00<00:00,  9.27it/s]\n"
     ]
    },
    {
     "name": "stdout",
     "output_type": "stream",
     "text": [
      "save to  /home/wuwenjun/Data/AlphaNet_Original_Input_12.14/Std/2016-06-01_2016-09-01.par\n",
      "save to  /home/wuwenjun/Data/AlphaNet_Original_Input_12.14/Std/2020-01-01_2020-03-01.par\n"
     ]
    },
    {
     "name": "stderr",
     "output_type": "stream",
     "text": [
      "\r",
      " 67%|██████▋   | 2/3 [00:00<00:00,  3.53it/s]"
     ]
    },
    {
     "name": "stdout",
     "output_type": "stream",
     "text": [
      "read/home/wuwenjun/Data/AlphaNet_Original_Input_12.14/Data/2017-03-01_2017-06-01.par\n",
      "read/home/wuwenjun/Data/AlphaNet_Original_Input_12.14/Data/2021-03-01_2021-06-01.par\n"
     ]
    },
    {
     "name": "stderr",
     "output_type": "stream",
     "text": [
      "100%|██████████| 3/3 [00:00<00:00,  3.05it/s]\n"
     ]
    },
    {
     "name": "stdout",
     "output_type": "stream",
     "text": [
      "save to  /home/wuwenjun/Data/AlphaNet_Original_Input_12.14/Std/2019-01-01_2019-03-01.par\n",
      "read/home/wuwenjun/Data/AlphaNet_Original_Input_12.14/Data/2018-03-01_2018-06-01.par\n",
      "save to  /home/wuwenjun/Data/AlphaNet_Original_Input_12.14/Std/2015-09-01_2016-01-01.par\n"
     ]
    },
    {
     "name": "stderr",
     "output_type": "stream",
     "text": [
      "100%|██████████| 3/3 [00:30<00:00, 10.11s/it]\n"
     ]
    },
    {
     "name": "stdout",
     "output_type": "stream",
     "text": [
      "read/home/wuwenjun/Data/AlphaNet_Original_Input_12.14/Data/2018-06-01_2018-09-01.par\n"
     ]
    },
    {
     "name": "stderr",
     "output_type": "stream",
     "text": [
      "100%|██████████| 3/3 [00:00<00:00,  3.18it/s]\n",
      "100%|██████████| 3/3 [00:00<00:00,  5.67it/s]\n"
     ]
    },
    {
     "name": "stdout",
     "output_type": "stream",
     "text": [
      "save to  /home/wuwenjun/Data/AlphaNet_Original_Input_12.14/Std/2017-03-01_2017-06-01.par\n"
     ]
    },
    {
     "name": "stderr",
     "output_type": "stream",
     "text": [
      "\r",
      " 67%|██████▋   | 2/3 [00:00<00:00,  2.78it/s]"
     ]
    },
    {
     "name": "stdout",
     "output_type": "stream",
     "text": [
      "read/home/wuwenjun/Data/AlphaNet_Original_Input_12.14/Data/2016-09-01_2017-01-01.par\n"
     ]
    },
    {
     "name": "stderr",
     "output_type": "stream",
     "text": [
      "100%|██████████| 3/3 [00:01<00:00,  2.53it/s]\n",
      " 67%|██████▋   | 2/3 [00:00<00:00,  2.75it/s]"
     ]
    },
    {
     "name": "stdout",
     "output_type": "stream",
     "text": [
      "save to  /home/wuwenjun/Data/AlphaNet_Original_Input_12.14/Std/2018-03-01_2018-06-01.par\n"
     ]
    },
    {
     "name": "stderr",
     "output_type": "stream",
     "text": [
      "100%|██████████| 3/3 [00:01<00:00,  2.84it/s]"
     ]
    },
    {
     "name": "stdout",
     "output_type": "stream",
     "text": [
      "read/home/wuwenjun/Data/AlphaNet_Original_Input_12.14/Data/2017-06-01_2017-09-01.par"
     ]
    },
    {
     "name": "stderr",
     "output_type": "stream",
     "text": [
      "\n"
     ]
    },
    {
     "name": "stdout",
     "output_type": "stream",
     "text": [
      "\n",
      "save to  /home/wuwenjun/Data/AlphaNet_Original_Input_12.14/Std/2021-03-01_2021-06-01.par\n"
     ]
    },
    {
     "name": "stderr",
     "output_type": "stream",
     "text": [
      "100%|██████████| 3/3 [00:36<00:00, 12.20s/it]\n"
     ]
    },
    {
     "name": "stdout",
     "output_type": "stream",
     "text": [
      "read/home/wuwenjun/Data/AlphaNet_Original_Input_12.14/Data/2020-06-01_2020-09-01.par\n"
     ]
    },
    {
     "name": "stderr",
     "output_type": "stream",
     "text": [
      "\r",
      " 67%|██████▋   | 2/3 [00:21<00:10, 10.63s/it]"
     ]
    },
    {
     "name": "stdout",
     "output_type": "stream",
     "text": [
      "save to  /home/wuwenjun/Data/AlphaNet_Original_Input_12.14/Std/2018-06-01_2018-09-01.par\n"
     ]
    },
    {
     "name": "stderr",
     "output_type": "stream",
     "text": [
      "\r",
      "  0%|          | 0/3 [00:00<?, ?it/s]"
     ]
    },
    {
     "name": "stdout",
     "output_type": "stream",
     "text": [
      "read/home/wuwenjun/Data/AlphaNet_Original_Input_12.14/Data/2020-03-01_2020-06-01.par\n"
     ]
    },
    {
     "name": "stderr",
     "output_type": "stream",
     "text": [
      "100%|██████████| 3/3 [00:00<00:00,  3.06it/s]\n"
     ]
    },
    {
     "name": "stdout",
     "output_type": "stream",
     "text": [
      "save to  /home/wuwenjun/Data/AlphaNet_Original_Input_12.14/Cov/2019-06-01_2019-09-01.par\n",
      "read/home/wuwenjun/Data/AlphaNet_Original_Input_12.14/Data/2020-09-01_2021-01-01.par\n"
     ]
    },
    {
     "name": "stderr",
     "output_type": "stream",
     "text": [
      " 67%|██████▋   | 2/3 [00:00<00:00,  6.37it/s]"
     ]
    },
    {
     "name": "stdout",
     "output_type": "stream",
     "text": [
      "save to  /home/wuwenjun/Data/AlphaNet_Original_Input_12.14/Std/2016-09-01_2017-01-01.par\n"
     ]
    },
    {
     "name": "stderr",
     "output_type": "stream",
     "text": [
      "100%|██████████| 3/3 [00:00<00:00,  5.12it/s]\n"
     ]
    },
    {
     "name": "stdout",
     "output_type": "stream",
     "text": [
      "read/home/wuwenjun/Data/AlphaNet_Original_Input_12.14/Data/2019-06-01_2019-09-01.par\n"
     ]
    },
    {
     "name": "stderr",
     "output_type": "stream",
     "text": [
      " 33%|███▎      | 1/3 [00:00<00:00,  2.24it/s]"
     ]
    },
    {
     "name": "stdout",
     "output_type": "stream",
     "text": [
      "save to  /home/wuwenjun/Data/AlphaNet_Original_Input_12.14/Std/2017-06-01_2017-09-01.par\n"
     ]
    },
    {
     "name": "stderr",
     "output_type": "stream",
     "text": [
      " 67%|██████▋   | 2/3 [00:00<00:00,  2.58it/s]"
     ]
    },
    {
     "name": "stdout",
     "output_type": "stream",
     "text": [
      "read/home/wuwenjun/Data/AlphaNet_Original_Input_12.14/Data/2019-03-01_2019-06-01.par\n"
     ]
    },
    {
     "name": "stderr",
     "output_type": "stream",
     "text": [
      "100%|██████████| 3/3 [00:01<00:00,  2.50it/s]\n",
      "100%|██████████| 3/3 [00:00<00:00,  3.20it/s]\n",
      "  0%|          | 0/3 [00:00<?, ?it/s]"
     ]
    },
    {
     "name": "stdout",
     "output_type": "stream",
     "text": [
      "save to  /home/wuwenjun/Data/AlphaNet_Original_Input_12.14/Std/2020-03-01_2020-06-01.par\n",
      "save to  /home/wuwenjun/Data/AlphaNet_Original_Input_12.14/Std/2020-06-01_2020-09-01.par\n"
     ]
    },
    {
     "name": "stderr",
     "output_type": "stream",
     "text": [
      "\r",
      " 33%|███▎      | 1/3 [00:00<00:00,  3.99it/s]"
     ]
    },
    {
     "name": "stdout",
     "output_type": "stream",
     "text": [
      "read/home/wuwenjun/Data/AlphaNet_Original_Input_12.14/Data/2017-09-01_2018-01-01.par\n",
      "read/home/wuwenjun/Data/AlphaNet_Original_Input_12.14/Data/2018-09-01_2019-01-01.par\n"
     ]
    },
    {
     "name": "stderr",
     "output_type": "stream",
     "text": [
      "100%|██████████| 3/3 [00:00<00:00,  3.03it/s]\n",
      "  0%|          | 0/3 [00:00<?, ?it/s]"
     ]
    },
    {
     "name": "stdout",
     "output_type": "stream",
     "text": [
      "save to  /home/wuwenjun/Data/AlphaNet_Original_Input_12.14/Cov/2020-09-01_2021-01-01.par\n"
     ]
    },
    {
     "name": "stderr",
     "output_type": "stream",
     "text": [
      " 67%|██████▋   | 2/3 [00:00<00:00,  7.30it/s]"
     ]
    },
    {
     "name": "stdout",
     "output_type": "stream",
     "text": [
      "read/home/wuwenjun/Data/AlphaNet_Original_Input_12.14/Data/2019-09-01_2020-01-01.par\n"
     ]
    },
    {
     "name": "stderr",
     "output_type": "stream",
     "text": [
      "100%|██████████| 3/3 [00:00<00:00,  7.06it/s]\n",
      " 33%|███▎      | 1/3 [00:00<00:01,  1.95it/s]"
     ]
    },
    {
     "name": "stdout",
     "output_type": "stream",
     "text": [
      "save to  /home/wuwenjun/Data/AlphaNet_Original_Input_12.14/Std/2019-06-01_2019-09-01.par\n",
      "read/home/wuwenjun/Data/AlphaNet_Original_Input_12.14/Data/2015-01-01_2015-03-01.par\n"
     ]
    },
    {
     "name": "stderr",
     "output_type": "stream",
     "text": [
      "100%|██████████| 3/3 [00:00<00:00, 120.41it/s]\n",
      " 67%|██████▋   | 2/3 [00:01<00:00,  1.81it/s]"
     ]
    },
    {
     "name": "stdout",
     "output_type": "stream",
     "text": [
      "save to  /home/wuwenjun/Data/AlphaNet_Original_Input_12.14/Zscore/2015-01-01_2015-03-01.par\n",
      "read/home/wuwenjun/Data/AlphaNet_Original_Input_12.14/Data/2015-03-01_2015-06-01.par\n"
     ]
    },
    {
     "name": "stderr",
     "output_type": "stream",
     "text": [
      "100%|██████████| 3/3 [00:01<00:00,  1.95it/s]\n"
     ]
    },
    {
     "name": "stdout",
     "output_type": "stream",
     "text": [
      "save to  /home/wuwenjun/Data/AlphaNet_Original_Input_12.14/Std/2019-03-01_2019-06-01.par\n",
      "read/home/wuwenjun/Data/AlphaNet_Original_Input_12.14/Data/2016-01-01_2016-03-01.par\n"
     ]
    },
    {
     "name": "stderr",
     "output_type": "stream",
     "text": [
      "  0%|          | 0/3 [00:00<?, ?it/s]"
     ]
    },
    {
     "name": "stdout",
     "output_type": "stream",
     "text": [
      "save to  /home/wuwenjun/Data/AlphaNet_Original_Input_12.14/Std/2020-09-01_2021-01-01.par\n"
     ]
    },
    {
     "name": "stderr",
     "output_type": "stream",
     "text": [
      "100%|██████████| 3/3 [00:30<00:00, 10.28s/it]\n",
      "100%|██████████| 3/3 [00:00<00:00, 12.38it/s]\n",
      " 33%|███▎      | 1/3 [00:00<00:00,  2.40it/s]"
     ]
    },
    {
     "name": "stdout",
     "output_type": "stream",
     "text": [
      "read/home/wuwenjun/Data/AlphaNet_Original_Input_12.14/Data/2017-01-01_2017-03-01.par\n"
     ]
    },
    {
     "name": "stderr",
     "output_type": "stream",
     "text": [
      "\r",
      " 67%|██████▋   | 2/3 [00:00<00:00,  3.45it/s]"
     ]
    },
    {
     "name": "stdout",
     "output_type": "stream",
     "text": [
      "save to  /home/wuwenjun/Data/AlphaNet_Original_Input_12.14/Zscore/2016-01-01_2016-03-01.par\n"
     ]
    },
    {
     "name": "stderr",
     "output_type": "stream",
     "text": [
      "\r",
      " 67%|██████▋   | 2/3 [00:22<00:11, 11.47s/it]"
     ]
    },
    {
     "name": "stdout",
     "output_type": "stream",
     "text": [
      "read/home/wuwenjun/Data/AlphaNet_Original_Input_12.14/Data/2015-06-01_2015-09-01.par\n"
     ]
    },
    {
     "name": "stderr",
     "output_type": "stream",
     "text": [
      "100%|██████████| 3/3 [00:00<00:00,  3.39it/s]\n",
      "100%|██████████| 3/3 [00:01<00:00,  2.18it/s]\n",
      "100%|██████████| 3/3 [00:01<00:00,  2.21it/s]\n",
      "  0%|          | 0/3 [00:00<?, ?it/s].93it/s]"
     ]
    },
    {
     "name": "stdout",
     "output_type": "stream",
     "text": [
      "save to  /home/wuwenjun/Data/AlphaNet_Original_Input_12.14/Zscore/2015-03-01_2015-06-01.par\n"
     ]
    },
    {
     "name": "stderr",
     "output_type": "stream",
     "text": [
      "100%|██████████| 3/3 [00:01<00:00,  2.04it/s]\n",
      " 33%|███▎      | 1/3 [00:00<00:00,  9.34it/s]"
     ]
    },
    {
     "name": "stdout",
     "output_type": "stream",
     "text": [
      "read/home/wuwenjun/Data/AlphaNet_Original_Input_12.14/Data/2018-01-01_2018-03-01.par\n"
     ]
    },
    {
     "name": "stderr",
     "output_type": "stream",
     "text": [
      "100%|██████████| 3/3 [00:00<00:00,  9.97it/s]\n",
      "  0%|          | 0/3 [00:00<?, ?it/s]"
     ]
    },
    {
     "name": "stdout",
     "output_type": "stream",
     "text": [
      "save to  /home/wuwenjun/Data/AlphaNet_Original_Input_12.14/Std/2017-09-01_2018-01-01.par\n",
      "save to  /home/wuwenjun/Data/AlphaNet_Original_Input_12.14/Std/2018-09-01_2019-01-01.par\n"
     ]
    },
    {
     "name": "stderr",
     "output_type": "stream",
     "text": [
      "100%|██████████| 3/3 [00:32<00:00, 10.69s/it]\n"
     ]
    },
    {
     "name": "stdout",
     "output_type": "stream",
     "text": [
      "save to  /home/wuwenjun/Data/AlphaNet_Original_Input_12.14/Zscore/2017-01-01_2017-03-01.par\n",
      "read/home/wuwenjun/Data/AlphaNet_Original_Input_12.14/Data/2016-03-01_2016-06-01.par\n"
     ]
    },
    {
     "name": "stderr",
     "output_type": "stream",
     "text": [
      "\r",
      " 67%|██████▋   | 2/3 [00:00<00:00,  5.19it/s]"
     ]
    },
    {
     "name": "stdout",
     "output_type": "stream",
     "text": [
      "read/home/wuwenjun/Data/AlphaNet_Original_Input_12.14/Data/2021-01-01_2021-03-01.par\n",
      "read/home/wuwenjun/Data/AlphaNet_Original_Input_12.14/Data/2016-06-01_2016-09-01.par\n"
     ]
    },
    {
     "name": "stderr",
     "output_type": "stream",
     "text": [
      "100%|██████████| 3/3 [00:00<00:00,  4.28it/s]\n"
     ]
    },
    {
     "name": "stdout",
     "output_type": "stream",
     "text": [
      "save to  /home/wuwenjun/Data/AlphaNet_Original_Input_12.14/Std/2019-09-01_2020-01-01.par\n"
     ]
    },
    {
     "name": "stderr",
     "output_type": "stream",
     "text": [
      " 33%|███▎      | 1/3 [00:00<00:00,  6.09it/s]"
     ]
    },
    {
     "name": "stdout",
     "output_type": "stream",
     "text": [
      "read/home/wuwenjun/Data/AlphaNet_Original_Input_12.14/Data/2015-09-01_2016-01-01.par\n"
     ]
    },
    {
     "name": "stderr",
     "output_type": "stream",
     "text": [
      "\r",
      " 67%|██████▋   | 2/3 [00:00<00:00,  6.18it/s]"
     ]
    },
    {
     "name": "stdout",
     "output_type": "stream",
     "text": [
      "save to  /home/wuwenjun/Data/AlphaNet_Original_Input_12.14/Zscore/2015-06-01_2015-09-01.par\n"
     ]
    },
    {
     "name": "stderr",
     "output_type": "stream",
     "text": [
      "100%|██████████| 3/3 [00:00<00:00,  5.24it/s]\n"
     ]
    },
    {
     "name": "stdout",
     "output_type": "stream",
     "text": [
      "read/home/wuwenjun/Data/AlphaNet_Original_Input_12.14/Data/2020-01-01_2020-03-01.par\n",
      "save to  /home/wuwenjun/Data/AlphaNet_Original_Input_12.14/Zscore/2018-01-01_2018-03-01.par\n"
     ]
    },
    {
     "name": "stderr",
     "output_type": "stream",
     "text": [
      "\r",
      "  0%|          | 0/3 [00:00<?, ?it/s]"
     ]
    },
    {
     "name": "stdout",
     "output_type": "stream",
     "text": [
      "read/home/wuwenjun/Data/AlphaNet_Original_Input_12.14/Data/2019-01-01_2019-03-01.par\n"
     ]
    },
    {
     "name": "stderr",
     "output_type": "stream",
     "text": [
      "100%|██████████| 3/3 [00:00<00:00,  3.82it/s]\n",
      "100%|██████████| 3/3 [00:00<00:00,  4.96it/s]\n",
      "100%|██████████| 3/3 [00:00<00:00,  7.19it/s]\n",
      "100%|██████████| 3/3 [00:30<00:00, 10.14s/it]\n",
      "100%|██████████| 3/3 [00:01<00:00,  2.91it/s]\n",
      " 67%|██████▋   | 2/3 [00:00<00:00,  4.83it/s]"
     ]
    },
    {
     "name": "stdout",
     "output_type": "stream",
     "text": [
      "save to  /home/wuwenjun/Data/AlphaNet_Original_Input_12.14/Zscore/2021-01-01_2021-03-01.par\n",
      "save to  /home/wuwenjun/Data/AlphaNet_Original_Input_12.14/Cov/2019-03-01_2019-06-01.par\n"
     ]
    },
    {
     "name": "stderr",
     "output_type": "stream",
     "text": [
      "100%|██████████| 3/3 [00:00<00:00,  5.19it/s]\n"
     ]
    },
    {
     "name": "stdout",
     "output_type": "stream",
     "text": [
      "save to  /home/wuwenjun/Data/AlphaNet_Original_Input_12.14/Zscore/2016-03-01_2016-06-01.par\n",
      "read/home/wuwenjun/Data/AlphaNet_Original_Input_12.14/Data/2017-03-01_2017-06-01.par\n"
     ]
    },
    {
     "name": "stderr",
     "output_type": "stream",
     "text": [
      "\r",
      " 67%|██████▋   | 2/3 [00:00<00:00,  2.49it/s]"
     ]
    },
    {
     "name": "stdout",
     "output_type": "stream",
     "text": [
      "read/home/wuwenjun/Data/AlphaNet_Original_Input_12.14/Data/2021-03-01_2021-06-01.par\n",
      "read/home/wuwenjun/Data/AlphaNet_Original_Input_12.14/Data/2018-03-01_2018-06-01.par\n",
      "save to  /home/wuwenjun/Data/AlphaNet_Original_Input_12.14/Zscore/2020-01-01_2020-03-01.par\n",
      "save to  /home/wuwenjun/Data/AlphaNet_Original_Input_12.14/Zscore/2016-06-01_2016-09-01.par\n"
     ]
    },
    {
     "name": "stderr",
     "output_type": "stream",
     "text": [
      "100%|██████████| 3/3 [00:01<00:00,  2.27it/s]\n"
     ]
    },
    {
     "name": "stdout",
     "output_type": "stream",
     "text": [
      "read/home/wuwenjun/Data/AlphaNet_Original_Input_12.14/Data/2018-06-01_2018-09-01.par\n",
      "save to  /home/wuwenjun/Data/AlphaNet_Original_Input_12.14/Zscore/2019-01-01_2019-03-01.par\n",
      "read/home/wuwenjun/Data/AlphaNet_Original_Input_12.14/Data/2016-09-01_2017-01-01.par\n",
      "read/home/wuwenjun/Data/AlphaNet_Original_Input_12.14/Data/2017-06-01_2017-09-01.par\n",
      "save to  /home/wuwenjun/Data/AlphaNet_Original_Input_12.14/Zscore/2015-09-01_2016-01-01.par\n",
      "save to  /home/wuwenjun/Data/AlphaNet_Original_Input_12.14/Cov/2017-09-01_2018-01-01.par\n",
      "read/home/wuwenjun/Data/AlphaNet_Original_Input_12.14/Data/2020-06-01_2020-09-01.par\n",
      "read/home/wuwenjun/Data/AlphaNet_Original_Input_12.14/Data/2020-03-01_2020-06-01.par\n"
     ]
    },
    {
     "name": "stderr",
     "output_type": "stream",
     "text": [
      "100%|██████████| 3/3 [00:00<00:00,  3.22it/s]\n",
      "100%|██████████| 3/3 [00:01<00:00,  2.47it/s]\n",
      "100%|██████████| 3/3 [00:01<00:00,  2.39it/s]\n"
     ]
    },
    {
     "name": "stdout",
     "output_type": "stream",
     "text": [
      "save to  /home/wuwenjun/Data/AlphaNet_Original_Input_12.14/Zscore/2017-03-01_2017-06-01.par\n"
     ]
    },
    {
     "name": "stderr",
     "output_type": "stream",
     "text": [
      "100%|██████████| 3/3 [00:01<00:00,  2.33it/s]\n",
      " 33%|███▎      | 1/3 [00:00<00:01,  1.84it/s]"
     ]
    },
    {
     "name": "stdout",
     "output_type": "stream",
     "text": [
      "read/home/wuwenjun/Data/AlphaNet_Original_Input_12.14/Data/2020-09-01_2021-01-01.par\n"
     ]
    },
    {
     "name": "stderr",
     "output_type": "stream",
     "text": [
      "100%|██████████| 3/3 [00:01<00:00,  2.19it/s]\n",
      "100%|██████████| 3/3 [00:01<00:00,  2.29it/s]\n",
      " 67%|██████▋   | 2/3 [00:00<00:00,  2.17it/s]"
     ]
    },
    {
     "name": "stdout",
     "output_type": "stream",
     "text": [
      "save to  /home/wuwenjun/Data/AlphaNet_Original_Input_12.14/Zscore/2017-06-01_2017-09-01.par\n",
      "save to  /home/wuwenjun/Data/AlphaNet_Original_Input_12.14/Zscore/2018-03-01_2018-06-01.par\n",
      "save to  /home/wuwenjun/Data/AlphaNet_Original_Input_12.14/Zscore/2018-06-01_2018-09-01.par\n"
     ]
    },
    {
     "name": "stderr",
     "output_type": "stream",
     "text": [
      "100%|██████████| 3/3 [00:01<00:00,  1.93it/s]\n"
     ]
    },
    {
     "name": "stdout",
     "output_type": "stream",
     "text": [
      "save to  /home/wuwenjun/Data/AlphaNet_Original_Input_12.14/Zscore/2021-03-01_2021-06-01.par\n",
      "read/home/wuwenjun/Data/AlphaNet_Original_Input_12.14/Data/2019-06-01_2019-09-01.par\n"
     ]
    },
    {
     "name": "stderr",
     "output_type": "stream",
     "text": [
      "100%|██████████| 3/3 [00:01<00:00,  2.37it/s]\n"
     ]
    },
    {
     "name": "stdout",
     "output_type": "stream",
     "text": [
      "read/home/wuwenjun/Data/AlphaNet_Original_Input_12.14/Data/2019-03-01_2019-06-01.par\n",
      "read/home/wuwenjun/Data/AlphaNet_Original_Input_12.14/Data/2017-09-01_2018-01-01.par\n",
      "save to  /home/wuwenjun/Data/AlphaNet_Original_Input_12.14/Cov/2018-09-01_2019-01-01.par\n",
      "read/home/wuwenjun/Data/AlphaNet_Original_Input_12.14/Data/2018-09-01_2019-01-01.par\n",
      "save to  /home/wuwenjun/Data/AlphaNet_Original_Input_12.14/Zscore/2016-09-01_2017-01-01.par\n",
      "read/home/wuwenjun/Data/AlphaNet_Original_Input_12.14/Data/2019-09-01_2020-01-01.par\n",
      "read/home/wuwenjun/Data/AlphaNet_Original_Input_12.14/Data/2015-01-01_2015-03-01.par\n"
     ]
    },
    {
     "name": "stderr",
     "output_type": "stream",
     "text": [
      "100%|██████████| 3/3 [00:00<00:00, 1246.82it/s]\n"
     ]
    },
    {
     "name": "stdout",
     "output_type": "stream",
     "text": [
      "save to  /home/wuwenjun/Data/AlphaNet_Original_Input_12.14/Return/2015-01-01_2015-03-01.par\n",
      "read/home/wuwenjun/Data/AlphaNet_Original_Input_12.14/Data/2015-03-01_2015-06-01.par\n",
      "save to  /home/wuwenjun/Data/AlphaNet_Original_Input_12.14/Zscore/2020-06-01_2020-09-01.par\n",
      "save to  /home/wuwenjun/Data/AlphaNet_Original_Input_12.14/Zscore/2020-03-01_2020-06-01.par\n",
      "read/home/wuwenjun/Data/AlphaNet_Original_Input_12.14/Data/2016-01-01_2016-03-01.par\n",
      "read/home/wuwenjun/Data/AlphaNet_Original_Input_12.14/Data/2017-01-01_2017-03-01.par\n"
     ]
    },
    {
     "name": "stderr",
     "output_type": "stream",
     "text": [
      "100%|██████████| 3/3 [00:35<00:00, 12.00s/it]\n",
      "100%|██████████| 3/3 [00:00<00:00, 252.58it/s]\n",
      "100%|██████████| 3/3 [00:00<00:00, 165.93it/s]\n"
     ]
    },
    {
     "name": "stdout",
     "output_type": "stream",
     "text": [
      "save to  /home/wuwenjun/Data/AlphaNet_Original_Input_12.14/Return/2016-01-01_2016-03-01.par\n",
      "save to  /home/wuwenjun/Data/AlphaNet_Original_Input_12.14/Return/2017-01-01_2017-03-01.par\n",
      "read/home/wuwenjun/Data/AlphaNet_Original_Input_12.14/Data/2015-06-01_2015-09-01.par\n"
     ]
    },
    {
     "name": "stderr",
     "output_type": "stream",
     "text": [
      "100%|██████████| 3/3 [00:00<00:00, 67.51it/s]\n"
     ]
    },
    {
     "name": "stdout",
     "output_type": "stream",
     "text": [
      "read/home/wuwenjun/Data/AlphaNet_Original_Input_12.14/Data/2018-01-01_2018-03-01.par\n"
     ]
    },
    {
     "name": "stderr",
     "output_type": "stream",
     "text": [
      "100%|██████████| 3/3 [00:01<00:00,  2.42it/s]\n"
     ]
    },
    {
     "name": "stdout",
     "output_type": "stream",
     "text": [
      "save to  /home/wuwenjun/Data/AlphaNet_Original_Input_12.14/Return/2015-03-01_2015-06-01.par\n"
     ]
    },
    {
     "name": "stderr",
     "output_type": "stream",
     "text": [
      " 33%|███▎      | 1/3 [00:00<00:00,  2.23it/s]"
     ]
    },
    {
     "name": "stdout",
     "output_type": "stream",
     "text": [
      "read/home/wuwenjun/Data/AlphaNet_Original_Input_12.14/Data/2016-03-01_2016-06-01.par\n"
     ]
    },
    {
     "name": "stderr",
     "output_type": "stream",
     "text": [
      "100%|██████████| 3/3 [00:00<00:00, 114.97it/s]\n",
      "100%|██████████| 3/3 [00:01<00:00,  2.34it/s]\n",
      "100%|██████████| 3/3 [00:00<00:00, 41.92it/s]\n"
     ]
    },
    {
     "name": "stdout",
     "output_type": "stream",
     "text": [
      "save to  /home/wuwenjun/Data/AlphaNet_Original_Input_12.14/Return/2018-01-01_2018-03-01.par\n"
     ]
    },
    {
     "name": "stderr",
     "output_type": "stream",
     "text": [
      "\r",
      " 67%|██████▋   | 2/3 [00:01<00:00,  1.59it/s]"
     ]
    },
    {
     "name": "stdout",
     "output_type": "stream",
     "text": [
      "read/home/wuwenjun/Data/AlphaNet_Original_Input_12.14/Data/2021-01-01_2021-03-01.par\n",
      "save to  /home/wuwenjun/Data/AlphaNet_Original_Input_12.14/Zscore/2019-06-01_2019-09-01.par\n"
     ]
    },
    {
     "name": "stderr",
     "output_type": "stream",
     "text": [
      "100%|██████████| 3/3 [00:01<00:00,  1.91it/s]\n",
      "100%|██████████| 3/3 [00:01<00:00,  1.99it/s]\n"
     ]
    },
    {
     "name": "stdout",
     "output_type": "stream",
     "text": [
      "read/home/wuwenjun/Data/AlphaNet_Original_Input_12.14/Data/2016-06-01_2016-09-01.par\n"
     ]
    },
    {
     "name": "stderr",
     "output_type": "stream",
     "text": [
      "100%|██████████| 3/3 [00:01<00:00,  1.51it/s]\n",
      "100%|██████████| 3/3 [00:01<00:00,  1.64it/s]\n"
     ]
    },
    {
     "name": "stdout",
     "output_type": "stream",
     "text": [
      "save to  /home/wuwenjun/Data/AlphaNet_Original_Input_12.14/Return/2015-06-01_2015-09-01.par\n",
      "read/home/wuwenjun/Data/AlphaNet_Original_Input_12.14/Data/2015-09-01_2016-01-01.par\n",
      "save to  /home/wuwenjun/Data/AlphaNet_Original_Input_12.14/Zscore/2019-03-01_2019-06-01.par\n"
     ]
    },
    {
     "name": "stderr",
     "output_type": "stream",
     "text": [
      "100%|██████████| 3/3 [00:00<00:00, 102.58it/s]\n"
     ]
    },
    {
     "name": "stdout",
     "output_type": "stream",
     "text": [
      "read/home/wuwenjun/Data/AlphaNet_Original_Input_12.14/Data/2020-01-01_2020-03-01.par\n"
     ]
    },
    {
     "name": "stderr",
     "output_type": "stream",
     "text": [
      "100%|██████████| 3/3 [00:00<00:00, 98.60it/s]\n"
     ]
    },
    {
     "name": "stdout",
     "output_type": "stream",
     "text": [
      "save to  /home/wuwenjun/Data/AlphaNet_Original_Input_12.14/Zscore/2018-09-01_2019-01-01.par\n",
      "save to  /home/wuwenjun/Data/AlphaNet_Original_Input_12.14/Zscore/2017-09-01_2018-01-01.par\n",
      "save to  /home/wuwenjun/Data/AlphaNet_Original_Input_12.14/Zscore/2019-09-01_2020-01-01.par\n",
      "save to  /home/wuwenjun/Data/AlphaNet_Original_Input_12.14/Zscore/2020-09-01_2021-01-01.par\n",
      "read/home/wuwenjun/Data/AlphaNet_Original_Input_12.14/Data/2019-01-01_2019-03-01.par\n",
      "read/home/wuwenjun/Data/AlphaNet_Original_Input_12.14/Data/2017-03-01_2017-06-01.par\n"
     ]
    },
    {
     "name": "stderr",
     "output_type": "stream",
     "text": [
      "100%|██████████| 3/3 [00:00<00:00, 37.40it/s]\n"
     ]
    },
    {
     "name": "stdout",
     "output_type": "stream",
     "text": [
      "read/home/wuwenjun/Data/AlphaNet_Original_Input_12.14/Data/2021-03-01_2021-06-01.par\n",
      "save to  /home/wuwenjun/Data/AlphaNet_Original_Input_12.14/Return/2021-01-01_2021-03-01.par\n",
      "read/home/wuwenjun/Data/AlphaNet_Original_Input_12.14/Data/2018-03-01_2018-06-01.par\n",
      "save to  /home/wuwenjun/Data/AlphaNet_Original_Input_12.14/Return/2016-03-01_2016-06-01.par\n",
      "read/home/wuwenjun/Data/AlphaNet_Original_Input_12.14/Data/2018-06-01_2018-09-01.par\n",
      "read/home/wuwenjun/Data/AlphaNet_Original_Input_12.14/Data/2016-09-01_2017-01-01.par\n"
     ]
    },
    {
     "name": "stderr",
     "output_type": "stream",
     "text": [
      "100%|██████████| 3/3 [00:00<00:00, 48.72it/s]\n"
     ]
    },
    {
     "name": "stdout",
     "output_type": "stream",
     "text": [
      "save to  /home/wuwenjun/Data/AlphaNet_Original_Input_12.14/Return/2016-06-01_2016-09-01.par\n",
      "read/home/wuwenjun/Data/AlphaNet_Original_Input_12.14/Data/2017-06-01_2017-09-01.par\n"
     ]
    },
    {
     "name": "stderr",
     "output_type": "stream",
     "text": [
      "100%|██████████| 3/3 [00:00<00:00, 112.32it/s]\n",
      "100%|██████████| 3/3 [00:00<00:00, 28.54it/s]\n"
     ]
    },
    {
     "name": "stdout",
     "output_type": "stream",
     "text": [
      "save to  /home/wuwenjun/Data/AlphaNet_Original_Input_12.14/Return/2020-01-01_2020-03-01.par\n",
      "save to  /home/wuwenjun/Data/AlphaNet_Original_Input_12.14/Cov/2019-09-01_2020-01-01.parread/home/wuwenjun/Data/AlphaNet_Original_Input_12.14/Data/2020-06-01_2020-09-01.par\n",
      "\n",
      "save to  /home/wuwenjun/Data/AlphaNet_Original_Input_12.14/Return/2019-01-01_2019-03-01.par\n",
      "read/home/wuwenjun/Data/AlphaNet_Original_Input_12.14/Data/2020-03-01_2020-06-01.par\n",
      "read/home/wuwenjun/Data/AlphaNet_Original_Input_12.14/Data/2020-09-01_2021-01-01.par\n"
     ]
    },
    {
     "name": "stderr",
     "output_type": "stream",
     "text": [
      "100%|██████████| 3/3 [00:00<00:00, 39.41it/s]\n",
      "100%|██████████| 3/3 [00:00<00:00, 70.65it/s]\n",
      "100%|██████████| 3/3 [00:00<00:00, 43.59it/s]\n",
      "100%|██████████| 3/3 [00:00<00:00, 38.52it/s]\n"
     ]
    },
    {
     "name": "stdout",
     "output_type": "stream",
     "text": [
      "save to  /home/wuwenjun/Data/AlphaNet_Original_Input_12.14/Return/2015-09-01_2016-01-01.par\n",
      "read/home/wuwenjun/Data/AlphaNet_Original_Input_12.14/Data/2019-06-01_2019-09-01.par\n"
     ]
    },
    {
     "name": "stderr",
     "output_type": "stream",
     "text": [
      "100%|██████████| 3/3 [00:00<00:00, 76.84it/s]\n",
      "  0%|          | 0/3 [00:00<?, ?it/s]"
     ]
    },
    {
     "name": "stdout",
     "output_type": "stream",
     "text": [
      "save to  /home/wuwenjun/Data/AlphaNet_Original_Input_12.14/Return/2017-03-01_2017-06-01.par\n"
     ]
    },
    {
     "name": "stderr",
     "output_type": "stream",
     "text": [
      "100%|██████████| 3/3 [00:00<00:00, 63.01it/s]\n"
     ]
    },
    {
     "name": "stdout",
     "output_type": "stream",
     "text": [
      "save to  /home/wuwenjun/Data/AlphaNet_Original_Input_12.14/Return/2021-03-01_2021-06-01.par\n",
      "read/home/wuwenjun/Data/AlphaNet_Original_Input_12.14/Data/2019-03-01_2019-06-01.par\n",
      "save to  /home/wuwenjun/Data/AlphaNet_Original_Input_12.14/Return/2018-03-01_2018-06-01.par\n",
      "save to  /home/wuwenjun/Data/AlphaNet_Original_Input_12.14/Return/2018-06-01_2018-09-01.par\n",
      "read/home/wuwenjun/Data/AlphaNet_Original_Input_12.14/Data/2017-09-01_2018-01-01.par\n",
      "read/home/wuwenjun/Data/AlphaNet_Original_Input_12.14/Data/2018-09-01_2019-01-01.par\n",
      "read/home/wuwenjun/Data/AlphaNet_Original_Input_12.14/Data/2019-09-01_2020-01-01.par\n"
     ]
    },
    {
     "name": "stderr",
     "output_type": "stream",
     "text": [
      "\r",
      "  0%|          | 0/3 [00:00<?, ?it/s]"
     ]
    },
    {
     "name": "stdout",
     "output_type": "stream",
     "text": [
      "save to  /home/wuwenjun/Data/AlphaNet_Original_Input_12.14/Return/2016-09-01_2017-01-01.par\n"
     ]
    },
    {
     "name": "stderr",
     "output_type": "stream",
     "text": [
      "100%|██████████| 3/3 [00:00<00:00, 87.49it/s]\n",
      "100%|██████████| 3/3 [00:00<00:00, 40.37it/s]\n"
     ]
    },
    {
     "name": "stdout",
     "output_type": "stream",
     "text": [
      "read/home/wuwenjun/Data/AlphaNet_Original_Input_12.14/Data/2015-01-01_2015-03-01.par\n",
      "save to  /home/wuwenjun/Data/AlphaNet_Original_Input_12.14/Return/2017-06-01_2017-09-01.par\n"
     ]
    },
    {
     "name": "stderr",
     "output_type": "stream",
     "text": [
      "100%|██████████| 3/3 [00:00<00:00, 331.05it/s]\n"
     ]
    },
    {
     "name": "stdout",
     "output_type": "stream",
     "text": [
      "save to  /home/wuwenjun/Data/AlphaNet_Original_Input_12.14/Decay/2015-01-01_2015-03-01.par\n",
      "read/home/wuwenjun/Data/AlphaNet_Original_Input_12.14/Data/2015-03-01_2015-06-01.par\n",
      "read/home/wuwenjun/Data/AlphaNet_Original_Input_12.14/Data/2016-01-01_2016-03-01.par\n",
      "save to  /home/wuwenjun/Data/AlphaNet_Original_Input_12.14/Return/2020-03-01_2020-06-01.par\n",
      "save to  /home/wuwenjun/Data/AlphaNet_Original_Input_12.14/Return/2020-06-01_2020-09-01.par\n",
      "read/home/wuwenjun/Data/AlphaNet_Original_Input_12.14/Data/2017-01-01_2017-03-01.par\n"
     ]
    },
    {
     "name": "stderr",
     "output_type": "stream",
     "text": [
      "\r",
      "  0%|          | 0/3 [00:00<?, ?it/s]"
     ]
    },
    {
     "name": "stdout",
     "output_type": "stream",
     "text": [
      "read/home/wuwenjun/Data/AlphaNet_Original_Input_12.14/Data/2015-06-01_2015-09-01.par\n"
     ]
    },
    {
     "name": "stderr",
     "output_type": "stream",
     "text": [
      "100%|██████████| 3/3 [00:00<00:00, 56.36it/s]\n",
      "100%|██████████| 3/3 [00:00<00:00, 57.80it/s]\n",
      "100%|██████████| 3/3 [00:00<00:00, 85.14it/s]\n",
      "100%|██████████| 3/3 [00:00<00:00,  8.57it/s]\n",
      "  0%|          | 0/3 [00:00<?, ?it/s]"
     ]
    },
    {
     "name": "stdout",
     "output_type": "stream",
     "text": [
      "save to  /home/wuwenjun/Data/AlphaNet_Original_Input_12.14/Decay/2016-01-01_2016-03-01.par\n",
      "read/home/wuwenjun/Data/AlphaNet_Original_Input_12.14/Data/2018-01-01_2018-03-01.par\n"
     ]
    },
    {
     "name": "stderr",
     "output_type": "stream",
     "text": [
      "100%|██████████| 3/3 [00:00<00:00, 20.93it/s]\n",
      "100%|██████████| 3/3 [00:00<00:00, 65.27it/s]\n"
     ]
    },
    {
     "name": "stdout",
     "output_type": "stream",
     "text": [
      "save to  /home/wuwenjun/Data/AlphaNet_Original_Input_12.14/Return/2019-06-01_2019-09-01.par\n"
     ]
    },
    {
     "name": "stderr",
     "output_type": "stream",
     "text": [
      "100%|██████████| 3/3 [00:00<00:00, 65.67it/s]\n",
      "100%|██████████| 3/3 [00:00<00:00,  9.27it/s]\n"
     ]
    },
    {
     "name": "stdout",
     "output_type": "stream",
     "text": [
      "read/home/wuwenjun/Data/AlphaNet_Original_Input_12.14/Data/2016-03-01_2016-06-01.par\n",
      "save to  /home/wuwenjun/Data/AlphaNet_Original_Input_12.14/Return/2019-03-01_2019-06-01.par\n",
      "save to  /home/wuwenjun/Data/AlphaNet_Original_Input_12.14/Return/2020-09-01_2021-01-01.par\n"
     ]
    },
    {
     "name": "stderr",
     "output_type": "stream",
     "text": [
      "\r",
      "  0%|          | 0/3 [00:00<?, ?it/s]"
     ]
    },
    {
     "name": "stdout",
     "output_type": "stream",
     "text": [
      "save to  /home/wuwenjun/Data/AlphaNet_Original_Input_12.14/Decay/2017-01-01_2017-03-01.par"
     ]
    },
    {
     "name": "stderr",
     "output_type": "stream",
     "text": [
      "\r",
      "100%|██████████| 3/3 [00:00<00:00, 62.84it/s]"
     ]
    },
    {
     "name": "stdout",
     "output_type": "stream",
     "text": [
      "\n"
     ]
    },
    {
     "name": "stderr",
     "output_type": "stream",
     "text": [
      "\n"
     ]
    },
    {
     "name": "stdout",
     "output_type": "stream",
     "text": [
      "read/home/wuwenjun/Data/AlphaNet_Original_Input_12.14/Data/2021-01-01_2021-03-01.par\n",
      "read/home/wuwenjun/Data/AlphaNet_Original_Input_12.14/Data/2016-06-01_2016-09-01.par\n",
      "save to  /home/wuwenjun/Data/AlphaNet_Original_Input_12.14/Decay/2015-03-01_2015-06-01.par\n"
     ]
    },
    {
     "name": "stderr",
     "output_type": "stream",
     "text": [
      "\r",
      "  0%|          | 0/3 [00:00<?, ?it/s]"
     ]
    },
    {
     "name": "stdout",
     "output_type": "stream",
     "text": [
      "read/home/wuwenjun/Data/AlphaNet_Original_Input_12.14/Data/2015-09-01_2016-01-01.par\n",
      "read/home/wuwenjun/Data/AlphaNet_Original_Input_12.14/Data/2020-01-01_2020-03-01.par\n"
     ]
    },
    {
     "name": "stderr",
     "output_type": "stream",
     "text": [
      "  0%|          | 0/3 [00:00<?, ?it/s].69it/s]"
     ]
    },
    {
     "name": "stdout",
     "output_type": "stream",
     "text": [
      "save to  /home/wuwenjun/Data/AlphaNet_Original_Input_12.14/Return/2017-09-01_2018-01-01.par\n"
     ]
    },
    {
     "name": "stderr",
     "output_type": "stream",
     "text": [
      " 67%|██████▋   | 2/3 [00:00<00:00,  4.35it/s]"
     ]
    },
    {
     "name": "stdout",
     "output_type": "stream",
     "text": [
      "save to  /home/wuwenjun/Data/AlphaNet_Original_Input_12.14/Return/2019-09-01_2020-01-01.par\n"
     ]
    },
    {
     "name": "stderr",
     "output_type": "stream",
     "text": [
      "100%|██████████| 3/3 [00:00<00:00,  4.95it/s]\n",
      "100%|██████████| 3/3 [00:00<00:00,  6.59it/s]\n"
     ]
    },
    {
     "name": "stdout",
     "output_type": "stream",
     "text": [
      "read/home/wuwenjun/Data/AlphaNet_Original_Input_12.14/Data/2019-01-01_2019-03-01.par\n",
      "read/home/wuwenjun/Data/AlphaNet_Original_Input_12.14/Data/2017-03-01_2017-06-01.par\n",
      "save to  /home/wuwenjun/Data/AlphaNet_Original_Input_12.14/Return/2018-09-01_2019-01-01.par\n",
      "save to  /home/wuwenjun/Data/AlphaNet_Original_Input_12.14/Decay/2018-01-01_2018-03-01.par\n",
      "read/home/wuwenjun/Data/AlphaNet_Original_Input_12.14/Data/2021-03-01_2021-06-01.par\n"
     ]
    },
    {
     "name": "stderr",
     "output_type": "stream",
     "text": [
      "\r",
      "  0%|          | 0/3 [00:00<?, ?it/s]"
     ]
    },
    {
     "name": "stdout",
     "output_type": "stream",
     "text": [
      "read/home/wuwenjun/Data/AlphaNet_Original_Input_12.14/Data/2018-03-01_2018-06-01.par\n"
     ]
    },
    {
     "name": "stderr",
     "output_type": "stream",
     "text": [
      "100%|██████████| 3/3 [00:00<00:00, 21.76it/s]\n",
      " 33%|███▎      | 1/3 [00:00<00:00,  5.62it/s]"
     ]
    },
    {
     "name": "stdout",
     "output_type": "stream",
     "text": [
      "save to  /home/wuwenjun/Data/AlphaNet_Original_Input_12.14/Decay/2015-06-01_2015-09-01.par\n"
     ]
    },
    {
     "name": "stderr",
     "output_type": "stream",
     "text": [
      "100%|██████████| 3/3 [00:00<00:00, 10.54it/s]\n",
      "100%|██████████| 3/3 [00:00<00:00,  8.74it/s]\n",
      "  0%|          | 0/3 [00:00<?, ?it/s]"
     ]
    },
    {
     "name": "stdout",
     "output_type": "stream",
     "text": [
      "read/home/wuwenjun/Data/AlphaNet_Original_Input_12.14/Data/2018-06-01_2018-09-01.par\n"
     ]
    },
    {
     "name": "stderr",
     "output_type": "stream",
     "text": [
      "100%|██████████| 3/3 [00:00<00:00, 15.75it/s]\n",
      "100%|██████████| 3/3 [00:00<00:00, 25.09it/s]\n",
      " 67%|██████▋   | 2/3 [00:00<00:00, 12.99it/s]"
     ]
    },
    {
     "name": "stdout",
     "output_type": "stream",
     "text": [
      "save to  /home/wuwenjun/Data/AlphaNet_Original_Input_12.14/Decay/2020-01-01_2020-03-01.par\n"
     ]
    },
    {
     "name": "stderr",
     "output_type": "stream",
     "text": [
      "100%|██████████| 3/3 [00:00<00:00, 13.53it/s]\n",
      "  0%|          | 0/3 [00:00<?, ?it/s]"
     ]
    },
    {
     "name": "stdout",
     "output_type": "stream",
     "text": [
      "save to  /home/wuwenjun/Data/AlphaNet_Original_Input_12.14/Decay/2021-01-01_2021-03-01.par\n",
      "read/home/wuwenjun/Data/AlphaNet_Original_Input_12.14/Data/2016-09-01_2017-01-01.par\n",
      "save to  /home/wuwenjun/Data/AlphaNet_Original_Input_12.14/Decay/2016-03-01_2016-06-01.par\n",
      "save to  /home/wuwenjun/Data/AlphaNet_Original_Input_12.14/Decay/2019-01-01_2019-03-01.par\n"
     ]
    },
    {
     "name": "stderr",
     "output_type": "stream",
     "text": [
      "\r",
      " 33%|███▎      | 1/3 [00:00<00:00,  6.65it/s]"
     ]
    },
    {
     "name": "stdout",
     "output_type": "stream",
     "text": [
      "read/home/wuwenjun/Data/AlphaNet_Original_Input_12.14/Data/2017-06-01_2017-09-01.par\n",
      "read/home/wuwenjun/Data/AlphaNet_Original_Input_12.14/Data/2020-06-01_2020-09-01.par\n",
      "read/home/wuwenjun/Data/AlphaNet_Original_Input_12.14/Data/2020-03-01_2020-06-01.par\n"
     ]
    },
    {
     "name": "stderr",
     "output_type": "stream",
     "text": [
      "\r",
      " 67%|██████▋   | 2/3 [00:00<00:00,  4.69it/s]"
     ]
    },
    {
     "name": "stdout",
     "output_type": "stream",
     "text": [
      "save to  /home/wuwenjun/Data/AlphaNet_Original_Input_12.14/Decay/2016-06-01_2016-09-01.par\n"
     ]
    },
    {
     "name": "stderr",
     "output_type": "stream",
     "text": [
      "100%|██████████| 3/3 [00:00<00:00,  4.33it/s]\n"
     ]
    },
    {
     "name": "stdout",
     "output_type": "stream",
     "text": [
      "read/home/wuwenjun/Data/AlphaNet_Original_Input_12.14/Data/2020-09-01_2021-01-01.par\n"
     ]
    },
    {
     "name": "stderr",
     "output_type": "stream",
     "text": [
      "\r",
      "  0%|          | 0/3 [00:00<?, ?it/s]"
     ]
    },
    {
     "name": "stdout",
     "output_type": "stream",
     "text": [
      "save to  /home/wuwenjun/Data/AlphaNet_Original_Input_12.14/Decay/2015-09-01_2016-01-01.par\n"
     ]
    },
    {
     "name": "stderr",
     "output_type": "stream",
     "text": [
      "\r",
      " 33%|███▎      | 1/3 [00:00<00:00,  3.59it/s]"
     ]
    },
    {
     "name": "stdout",
     "output_type": "stream",
     "text": [
      "read/home/wuwenjun/Data/AlphaNet_Original_Input_12.14/Data/2019-06-01_2019-09-01.par\n"
     ]
    },
    {
     "name": "stderr",
     "output_type": "stream",
     "text": [
      "  0%|          | 0/3 [00:00<?, ?it/s].50it/s]"
     ]
    },
    {
     "name": "stdout",
     "output_type": "stream",
     "text": [
      "save to  /home/wuwenjun/Data/AlphaNet_Original_Input_12.14/Decay/2017-03-01_2017-06-01.par\n"
     ]
    },
    {
     "name": "stderr",
     "output_type": "stream",
     "text": [
      "100%|██████████| 3/3 [00:00<00:00,  4.29it/s]\n"
     ]
    },
    {
     "name": "stdout",
     "output_type": "stream",
     "text": [
      "read/home/wuwenjun/Data/AlphaNet_Original_Input_12.14/Data/2019-03-01_2019-06-01.par\n"
     ]
    },
    {
     "name": "stderr",
     "output_type": "stream",
     "text": [
      "100%|██████████| 3/3 [00:00<00:00,  3.37it/s]\n"
     ]
    },
    {
     "name": "stdout",
     "output_type": "stream",
     "text": [
      "save to  /home/wuwenjun/Data/AlphaNet_Original_Input_12.14/Decay/2018-03-01_2018-06-01.par\n"
     ]
    },
    {
     "name": "stderr",
     "output_type": "stream",
     "text": [
      "100%|██████████| 3/3 [00:00<00:00,  4.05it/s]\n",
      "  0%|          | 0/3 [00:00<?, ?it/s]"
     ]
    },
    {
     "name": "stdout",
     "output_type": "stream",
     "text": [
      "read/home/wuwenjun/Data/AlphaNet_Original_Input_12.14/Data/2017-09-01_2018-01-01.par"
     ]
    },
    {
     "name": "stderr",
     "output_type": "stream",
     "text": [
      "\r",
      " 67%|██████▋   | 2/3 [00:00<00:00, 12.36it/s]"
     ]
    },
    {
     "name": "stdout",
     "output_type": "stream",
     "text": [
      "\n"
     ]
    },
    {
     "name": "stderr",
     "output_type": "stream",
     "text": [
      "100%|██████████| 3/3 [00:00<00:00, 11.44it/s]\n",
      "100%|██████████| 3/3 [00:00<00:00,  4.14it/s]\n",
      "100%|██████████| 3/3 [00:00<00:00,  3.98it/s]\n",
      "100%|██████████| 3/3 [00:00<00:00,  4.04it/s]\n"
     ]
    },
    {
     "name": "stdout",
     "output_type": "stream",
     "text": [
      "save to  /home/wuwenjun/Data/AlphaNet_Original_Input_12.14/Decay/2021-03-01_2021-06-01.par\n"
     ]
    },
    {
     "name": "stderr",
     "output_type": "stream",
     "text": [
      "  0%|          | 0/3 [00:00<?, ?it/s].41it/s]"
     ]
    },
    {
     "name": "stdout",
     "output_type": "stream",
     "text": [
      "save to  /home/wuwenjun/Data/AlphaNet_Original_Input_12.14/Decay/2018-06-01_2018-09-01.par\n"
     ]
    },
    {
     "name": "stderr",
     "output_type": "stream",
     "text": [
      " 67%|██████▋   | 2/3 [00:00<00:00,  5.53it/s]"
     ]
    },
    {
     "name": "stdout",
     "output_type": "stream",
     "text": [
      "read/home/wuwenjun/Data/AlphaNet_Original_Input_12.14/Data/2018-09-01_2019-01-01.par\n",
      "read/home/wuwenjun/Data/AlphaNet_Original_Input_12.14/Data/2019-09-01_2020-01-01.par\n"
     ]
    },
    {
     "name": "stderr",
     "output_type": "stream",
     "text": [
      "100%|██████████| 3/3 [00:00<00:00,  5.49it/s]\n"
     ]
    },
    {
     "name": "stdout",
     "output_type": "stream",
     "text": [
      "save to  /home/wuwenjun/Data/AlphaNet_Original_Input_12.14/Decay/2017-06-01_2017-09-01.par\n"
     ]
    },
    {
     "name": "stderr",
     "output_type": "stream",
     "text": [
      "100%|██████████| 3/3 [00:00<00:00,  5.02it/s]\n"
     ]
    },
    {
     "name": "stdout",
     "output_type": "stream",
     "text": [
      "save to  /home/wuwenjun/Data/AlphaNet_Original_Input_12.14/Decay/2020-06-01_2020-09-01.par\n"
     ]
    },
    {
     "name": "stderr",
     "output_type": "stream",
     "text": [
      "\r",
      " 67%|██████▋   | 2/3 [00:00<00:00,  2.77it/s]"
     ]
    },
    {
     "name": "stdout",
     "output_type": "stream",
     "text": [
      "save to  /home/wuwenjun/Data/AlphaNet_Original_Input_12.14/Decay/2020-03-01_2020-06-01.par\n",
      "save to  /home/wuwenjun/Data/AlphaNet_Original_Input_12.14/Decay/2016-09-01_2017-01-01.par\n"
     ]
    },
    {
     "name": "stderr",
     "output_type": "stream",
     "text": [
      "100%|██████████| 3/3 [00:01<00:00,  2.85it/s]\n"
     ]
    },
    {
     "name": "stdout",
     "output_type": "stream",
     "text": [
      "save to  /home/wuwenjun/Data/AlphaNet_Original_Input_12.14/Decay/2019-06-01_2019-09-01.par\n",
      "save to  /home/wuwenjun/Data/AlphaNet_Original_Input_12.14/Decay/2019-03-01_2019-06-01.par\n"
     ]
    },
    {
     "name": "stderr",
     "output_type": "stream",
     "text": [
      "\r",
      "  0%|          | 0/3 [00:00<?, ?it/s]"
     ]
    },
    {
     "name": "stdout",
     "output_type": "stream",
     "text": [
      "save to  /home/wuwenjun/Data/AlphaNet_Original_Input_12.14/Decay/2020-09-01_2021-01-01.par\n"
     ]
    },
    {
     "name": "stderr",
     "output_type": "stream",
     "text": [
      "100%|██████████| 3/3 [00:00<00:00,  4.54it/s]\n",
      " 67%|██████▋   | 2/3 [00:00<00:00,  4.60it/s]"
     ]
    },
    {
     "name": "stdout",
     "output_type": "stream",
     "text": [
      "save to  /home/wuwenjun/Data/AlphaNet_Original_Input_12.14/Decay/2017-09-01_2018-01-01.par\n"
     ]
    },
    {
     "name": "stderr",
     "output_type": "stream",
     "text": [
      "100%|██████████| 3/3 [00:00<00:00,  4.24it/s]\n",
      "100%|██████████| 3/3 [00:00<00:00,  4.62it/s]\n"
     ]
    },
    {
     "name": "stdout",
     "output_type": "stream",
     "text": [
      "save to  /home/wuwenjun/Data/AlphaNet_Original_Input_12.14/Decay/2018-09-01_2019-01-01.par\n",
      "save to  /home/wuwenjun/Data/AlphaNet_Original_Input_12.14/Decay/2019-09-01_2020-01-01.par\n",
      "read/home/wuwenjun/Data/AlphaNet_Original_Input_12.14/Data/2016-03-01_2016-06-01.parread/home/wuwenjun/Data/AlphaNet_Original_Input_12.14/Data/2015-09-01_2016-01-01.parread/home/wuwenjun/Data/AlphaNet_Original_Input_12.14/Data/2015-01-01_2015-03-01.parread/home/wuwenjun/Data/AlphaNet_Original_Input_12.14/Data/2017-01-01_2017-03-01.parread/home/wuwenjun/Data/AlphaNet_Original_Input_12.14/Data/2018-01-01_2018-03-01.parread/home/wuwenjun/Data/AlphaNet_Original_Input_12.14/Data/2015-03-01_2015-06-01.parread/home/wuwenjun/Data/AlphaNet_Original_Input_12.14/Data/2016-01-01_2016-03-01.parread/home/wuwenjun/Data/AlphaNet_Original_Input_12.14/Data/2015-06-01_2015-09-01.parread/home/wuwenjun/Data/AlphaNet_Original_Input_12.14/Data/2021-01-01_2021-03-01.parread/home/wuwenjun/Data/AlphaNet_Original_Input_12.14/Data/2016-06-01_2016-09-01.par\n",
      "\n",
      "\n",
      "\n",
      "\n",
      "\n",
      "\n",
      "\n",
      "\n",
      "\n"
     ]
    },
    {
     "name": "stderr",
     "output_type": "stream",
     "text": [
      "100%|██████████| 3/3 [00:01<00:00,  1.80it/s]\n",
      "  0%|          | 0/3 [00:00<?, ?it/s]"
     ]
    },
    {
     "name": "stdout",
     "output_type": "stream",
     "text": [
      "save to  /home/wuwenjun/Data/AlphaNet_Original_Input_12.14/Corr/2015-01-01_2015-03-01.par\n",
      "read/home/wuwenjun/Data/AlphaNet_Original_Input_12.14/Data/2020-01-01_2020-03-01.par\n"
     ]
    },
    {
     "name": "stderr",
     "output_type": "stream",
     "text": [
      "100%|██████████| 3/3 [00:10<00:00,  3.34s/it]\n",
      " 67%|██████▋   | 2/3 [00:11<00:05,  5.75s/it]"
     ]
    },
    {
     "name": "stdout",
     "output_type": "stream",
     "text": [
      "save to  /home/wuwenjun/Data/AlphaNet_Original_Input_12.14/Corr/2016-01-01_2016-03-01.par\n"
     ]
    },
    {
     "name": "stderr",
     "output_type": "stream",
     "text": [
      "100%|██████████| 3/3 [00:12<00:00,  4.01s/it]\n"
     ]
    },
    {
     "name": "stdout",
     "output_type": "stream",
     "text": [
      "read/home/wuwenjun/Data/AlphaNet_Original_Input_12.14/Data/2019-01-01_2019-03-01.par\n"
     ]
    },
    {
     "name": "stderr",
     "output_type": "stream",
     "text": [
      "100%|██████████| 3/3 [00:13<00:00,  4.53s/it]\n",
      " 67%|██████▋   | 2/3 [00:13<00:06,  6.53s/it]"
     ]
    },
    {
     "name": "stdout",
     "output_type": "stream",
     "text": [
      "save to  /home/wuwenjun/Data/AlphaNet_Original_Input_12.14/Corr/2017-01-01_2017-03-01.par\n",
      "read/home/wuwenjun/Data/AlphaNet_Original_Input_12.14/Data/2017-03-01_2017-06-01.par\n"
     ]
    },
    {
     "name": "stderr",
     "output_type": "stream",
     "text": [
      "100%|██████████| 3/3 [00:14<00:00,  4.71s/it]\n"
     ]
    },
    {
     "name": "stdout",
     "output_type": "stream",
     "text": [
      "save to  /home/wuwenjun/Data/AlphaNet_Original_Input_12.14/Corr/2018-01-01_2018-03-01.par\n",
      "read/home/wuwenjun/Data/AlphaNet_Original_Input_12.14/Data/2021-03-01_2021-06-01.par\n"
     ]
    },
    {
     "name": "stderr",
     "output_type": "stream",
     "text": [
      "\r",
      "  0%|          | 0/3 [00:00<?, ?it/s]"
     ]
    },
    {
     "name": "stdout",
     "output_type": "stream",
     "text": [
      "save to  /home/wuwenjun/Data/AlphaNet_Original_Input_12.14/Corr/2021-01-01_2021-03-01.par\n"
     ]
    },
    {
     "name": "stderr",
     "output_type": "stream",
     "text": [
      "100%|██████████| 3/3 [00:17<00:00,  5.81s/it]\n"
     ]
    },
    {
     "name": "stdout",
     "output_type": "stream",
     "text": [
      "read/home/wuwenjun/Data/AlphaNet_Original_Input_12.14/Data/2018-03-01_2018-06-01.par\n"
     ]
    },
    {
     "name": "stderr",
     "output_type": "stream",
     "text": [
      "100%|██████████| 3/3 [00:16<00:00,  5.39s/it]\n",
      "100%|██████████| 3/3 [00:18<00:00,  6.32s/it]\n",
      "100%|██████████| 3/3 [00:19<00:00,  6.50s/it]\n",
      "100%|██████████| 3/3 [00:19<00:00,  6.59s/it]\n"
     ]
    },
    {
     "name": "stdout",
     "output_type": "stream",
     "text": [
      "save to  /home/wuwenjun/Data/AlphaNet_Original_Input_12.14/Corr/2020-01-01_2020-03-01.par\n",
      "save to  /home/wuwenjun/Data/AlphaNet_Original_Input_12.14/Corr/2015-06-01_2015-09-01.par\n",
      "read/home/wuwenjun/Data/AlphaNet_Original_Input_12.14/Data/2018-06-01_2018-09-01.par\n",
      "read/home/wuwenjun/Data/AlphaNet_Original_Input_12.14/Data/2016-09-01_2017-01-01.par\n",
      "save to  /home/wuwenjun/Data/AlphaNet_Original_Input_12.14/Corr/2016-06-01_2016-09-01.par\n"
     ]
    },
    {
     "name": "stderr",
     "output_type": "stream",
     "text": [
      "\r",
      " 33%|███▎      | 1/3 [00:07<00:15,  7.61s/it]"
     ]
    },
    {
     "name": "stdout",
     "output_type": "stream",
     "text": [
      "read/home/wuwenjun/Data/AlphaNet_Original_Input_12.14/Data/2017-06-01_2017-09-01.par\n"
     ]
    },
    {
     "name": "stderr",
     "output_type": "stream",
     "text": [
      " 67%|██████▋   | 2/3 [00:10<00:05,  5.38s/it]"
     ]
    },
    {
     "name": "stdout",
     "output_type": "stream",
     "text": [
      "save to  /home/wuwenjun/Data/AlphaNet_Original_Input_12.14/Corr/2016-03-01_2016-06-01.par\n",
      "save to  /home/wuwenjun/Data/AlphaNet_Original_Input_12.14/Corr/2015-03-01_2015-06-01.par\n",
      "read/home/wuwenjun/Data/AlphaNet_Original_Input_12.14/Data/2020-06-01_2020-09-01.par\n",
      "read/home/wuwenjun/Data/AlphaNet_Original_Input_12.14/Data/2020-03-01_2020-06-01.par\n"
     ]
    },
    {
     "name": "stderr",
     "output_type": "stream",
     "text": [
      "100%|██████████| 3/3 [00:27<00:00,  9.13s/it]\n",
      "100%|██████████| 3/3 [00:15<00:00,  5.20s/it]\n",
      " 33%|███▎      | 1/3 [00:07<00:15,  7.63s/it]"
     ]
    },
    {
     "name": "stdout",
     "output_type": "stream",
     "text": [
      "save to  /home/wuwenjun/Data/AlphaNet_Original_Input_12.14/Corr/2019-01-01_2019-03-01.par\n",
      "read/home/wuwenjun/Data/AlphaNet_Original_Input_12.14/Data/2020-09-01_2021-01-01.par\n"
     ]
    },
    {
     "name": "stderr",
     "output_type": "stream",
     "text": [
      "\r",
      " 67%|██████▋   | 2/3 [00:13<00:07,  7.11s/it]"
     ]
    },
    {
     "name": "stdout",
     "output_type": "stream",
     "text": [
      "save to  /home/wuwenjun/Data/AlphaNet_Original_Input_12.14/Corr/2015-09-01_2016-01-01.par\n",
      "read/home/wuwenjun/Data/AlphaNet_Original_Input_12.14/Data/2019-06-01_2019-09-01.par\n"
     ]
    },
    {
     "name": "stderr",
     "output_type": "stream",
     "text": [
      "100%|██████████| 3/3 [00:24<00:00,  8.13s/it]\n",
      "100%|██████████| 3/3 [00:20<00:00,  6.99s/it]\n",
      " 33%|███▎      | 1/3 [00:07<00:15,  7.64s/it]"
     ]
    },
    {
     "name": "stdout",
     "output_type": "stream",
     "text": [
      "save to  /home/wuwenjun/Data/AlphaNet_Original_Input_12.14/Corr/2017-03-01_2017-06-01.par\n",
      "read/home/wuwenjun/Data/AlphaNet_Original_Input_12.14/Data/2019-03-01_2019-06-01.par\n",
      "save to  /home/wuwenjun/Data/AlphaNet_Original_Input_12.14/Corr/2018-03-01_2018-06-01.par\n"
     ]
    },
    {
     "name": "stderr",
     "output_type": "stream",
     "text": [
      "100%|██████████| 3/3 [00:27<00:00,  9.06s/it]\n"
     ]
    },
    {
     "name": "stdout",
     "output_type": "stream",
     "text": [
      "read/home/wuwenjun/Data/AlphaNet_Original_Input_12.14/Data/2017-09-01_2018-01-01.par\n"
     ]
    },
    {
     "name": "stderr",
     "output_type": "stream",
     "text": [
      "100%|██████████| 3/3 [00:20<00:00,  6.74s/it]\n",
      "100%|██████████| 3/3 [00:22<00:00,  7.66s/it]\n",
      " 33%|███▎      | 1/3 [00:13<00:26, 13.17s/it]"
     ]
    },
    {
     "name": "stdout",
     "output_type": "stream",
     "text": [
      "save to  /home/wuwenjun/Data/AlphaNet_Original_Input_12.14/Corr/2017-06-01_2017-09-01.par\n",
      "read/home/wuwenjun/Data/AlphaNet_Original_Input_12.14/Data/2018-09-01_2019-01-01.par\n"
     ]
    },
    {
     "name": "stderr",
     "output_type": "stream",
     "text": [
      "100%|██████████| 3/3 [00:23<00:00,  7.98s/it]\n",
      "100%|██████████| 3/3 [00:26<00:00,  8.83s/it]\n"
     ]
    },
    {
     "name": "stdout",
     "output_type": "stream",
     "text": [
      "save to  /home/wuwenjun/Data/AlphaNet_Original_Input_12.14/Corr/2016-09-01_2017-01-01.par\n",
      "read/home/wuwenjun/Data/AlphaNet_Original_Input_12.14/Data/2019-09-01_2020-01-01.par\n",
      "save to  /home/wuwenjun/Data/AlphaNet_Original_Input_12.14/Corr/2021-03-01_2021-06-01.par\n"
     ]
    },
    {
     "name": "stderr",
     "output_type": "stream",
     "text": [
      " 67%|██████▋   | 2/3 [00:18<00:09,  9.33s/it]"
     ]
    },
    {
     "name": "stdout",
     "output_type": "stream",
     "text": [
      "save to  /home/wuwenjun/Data/AlphaNet_Original_Input_12.14/Corr/2020-03-01_2020-06-01.par\n"
     ]
    },
    {
     "name": "stderr",
     "output_type": "stream",
     "text": [
      "\r",
      " 33%|███▎      | 1/3 [00:07<00:15,  7.63s/it]"
     ]
    },
    {
     "name": "stdout",
     "output_type": "stream",
     "text": [
      "save to  /home/wuwenjun/Data/AlphaNet_Original_Input_12.14/Corr/2018-06-01_2018-09-01.par\n"
     ]
    },
    {
     "name": "stderr",
     "output_type": "stream",
     "text": [
      "100%|██████████| 3/3 [00:30<00:00, 10.07s/it]\n",
      " 33%|███▎      | 1/3 [00:07<00:14,  7.19s/it]"
     ]
    },
    {
     "name": "stdout",
     "output_type": "stream",
     "text": [
      "save to  /home/wuwenjun/Data/AlphaNet_Original_Input_12.14/Corr/2020-06-01_2020-09-01.par\n"
     ]
    },
    {
     "name": "stderr",
     "output_type": "stream",
     "text": [
      "100%|██████████| 3/3 [00:26<00:00,  8.72s/it]\n",
      " 67%|██████▋   | 2/3 [00:17<00:08,  8.71s/it]"
     ]
    },
    {
     "name": "stdout",
     "output_type": "stream",
     "text": [
      "save to  /home/wuwenjun/Data/AlphaNet_Original_Input_12.14/Corr/2019-06-01_2019-09-01.par\n"
     ]
    },
    {
     "name": "stderr",
     "output_type": "stream",
     "text": [
      "100%|██████████| 3/3 [00:24<00:00,  8.15s/it]\n",
      "100%|██████████| 3/3 [00:25<00:00,  8.61s/it]\n",
      "100%|██████████| 3/3 [00:39<00:00, 13.08s/it]\n"
     ]
    },
    {
     "name": "stdout",
     "output_type": "stream",
     "text": [
      "save to  /home/wuwenjun/Data/AlphaNet_Original_Input_12.14/Corr/2017-09-01_2018-01-01.par\n"
     ]
    },
    {
     "name": "stderr",
     "output_type": "stream",
     "text": [
      "100%|██████████| 3/3 [00:24<00:00,  8.22s/it]\n"
     ]
    },
    {
     "name": "stdout",
     "output_type": "stream",
     "text": [
      "save to  /home/wuwenjun/Data/AlphaNet_Original_Input_12.14/Corr/2019-03-01_2019-06-01.par\n"
     ]
    },
    {
     "name": "stderr",
     "output_type": "stream",
     "text": [
      "100%|██████████| 3/3 [00:25<00:00,  8.57s/it]\n"
     ]
    },
    {
     "name": "stdout",
     "output_type": "stream",
     "text": [
      "save to  /home/wuwenjun/Data/AlphaNet_Original_Input_12.14/Corr/2020-09-01_2021-01-01.par\n",
      "save to  /home/wuwenjun/Data/AlphaNet_Original_Input_12.14/Corr/2018-09-01_2019-01-01.par\n",
      "save to  /home/wuwenjun/Data/AlphaNet_Original_Input_12.14/Corr/2019-09-01_2020-01-01.par\n",
      "并行执行时间： 213\n"
     ]
    }
   ],
   "source": [
    "import multiprocessing as mp\n",
    "pool = mp.Pool(10)\n",
    "t1 = time.time()\n",
    "dir_list = ['Cov','Std','Zscore','Return','Decay']\n",
    "for i in dir_list:\n",
    "    for alpha in path_list:\n",
    "        output = path + i + \"/\" \n",
    "        pool.apply_async(test, args=(data_path,alpha,output,i))   #维持执行的进程总数为10，当一个进程执行完后启动一个新进程.\n",
    "pool.close()\n",
    "pool.join()\n",
    "\n",
    "pool = mp.Pool(10)\n",
    "for alpha in path_list:\n",
    "    output = path + \"Corr\" + \"/\" \n",
    "    pool.apply_async(test, args=(data_path,alpha,output,\"Corr\"))   #维持执行的进程总数为10，当一个进程执行完后启动一个新进程.\n",
    "pool.close()\n",
    "pool.join()\n",
    "\n",
    "t2 = time.time()\n",
    "print(\"并行执行时间：\", int(t2 - t1))"
   ]
  },
  {
   "cell_type": "markdown",
   "id": "6b909fe4",
   "metadata": {},
   "source": [
    "# Feat Concat ( Save to Feat_Concat file)"
   ]
  },
  {
   "cell_type": "code",
   "execution_count": 1,
   "id": "8ce10076",
   "metadata": {
    "ExecuteTime": {
     "end_time": "2021-12-15T08:55:34.012183Z",
     "start_time": "2021-12-15T08:55:32.622441Z"
    }
   },
   "outputs": [],
   "source": [
    "import time\n",
    "import os\n",
    "from Research.backtest.bt import BTDaily\n",
    "from Research.feature.ft import FeatureAnalysis\n",
    "import Research.utils.namespace as namespace\n",
    "import Research.utils.normalization as norm\n",
    "from Platform.database.mysql import MysqlAPI\n",
    "from Platform.utils.persistence import convert_to_standard_daily_feature_csv, convert_to_standard_daily_feature_par\n",
    "from Platform.config.mysql_info import FACTOR_LIB_MYSQL_TIO\n",
    "import DataAPI\n",
    "from os import walk\n",
    "import pandas as pd\n",
    "import numpy as np\n",
    "import torch\n",
    "import torch.nn as nn\n",
    "from progressbar import ProgressBar\n",
    "from tqdm import tqdm\n",
    "Alpha_Name = \"AlphaNet_Original_Input_12.14\"\n",
    "path = '/home/wuwenjun/Data/' + Alpha_Name +'/'\n",
    "target = \"5d_ret\""
   ]
  },
  {
   "cell_type": "code",
   "execution_count": 8,
   "id": "19fc138e",
   "metadata": {
    "ExecuteTime": {
     "end_time": "2021-12-15T09:04:19.864140Z",
     "start_time": "2021-12-15T09:04:19.642071Z"
    }
   },
   "outputs": [
    {
     "ename": "FileExistsError",
     "evalue": "[Errno 17] File exists: '/home/wuwenjun/Data/AlphaNet_Original_Input_12.14/Feat_Concat'",
     "output_type": "error",
     "traceback": [
      "\u001b[0;31m---------------------------------------------------------------------------\u001b[0m",
      "\u001b[0;31mFileExistsError\u001b[0m                           Traceback (most recent call last)",
      "\u001b[0;32m<ipython-input-8-2e9b396a9134>\u001b[0m in \u001b[0;36m<module>\u001b[0;34m\u001b[0m\n\u001b[0;32m----> 1\u001b[0;31m \u001b[0mos\u001b[0m\u001b[0;34m.\u001b[0m\u001b[0mmkdir\u001b[0m\u001b[0;34m(\u001b[0m\u001b[0mpath\u001b[0m\u001b[0;34m+\u001b[0m\u001b[0;34m\"Feat_Concat\"\u001b[0m\u001b[0;34m)\u001b[0m\u001b[0;34m\u001b[0m\u001b[0;34m\u001b[0m\u001b[0m\n\u001b[0m",
      "\u001b[0;31mFileExistsError\u001b[0m: [Errno 17] File exists: '/home/wuwenjun/Data/AlphaNet_Original_Input_12.14/Feat_Concat'"
     ]
    }
   ],
   "source": [
    "os.mkdir(path+\"Feat_Concat\")"
   ]
  },
  {
   "cell_type": "code",
   "execution_count": 2,
   "id": "95b53231",
   "metadata": {
    "ExecuteTime": {
     "end_time": "2021-12-15T08:55:35.282257Z",
     "start_time": "2021-12-15T08:55:35.251893Z"
    }
   },
   "outputs": [
    {
     "name": "stderr",
     "output_type": "stream",
     "text": [
      "100%|██████████| 26/26 [00:00<00:00, 155123.62it/s]\n"
     ]
    },
    {
     "data": {
      "text/plain": [
       "['2015-01-01_2015-03-01.par',\n",
       " '2015-03-01_2015-06-01.par',\n",
       " '2016-01-01_2016-03-01.par',\n",
       " '2017-01-01_2017-03-01.par',\n",
       " '2015-06-01_2015-09-01.par',\n",
       " '2018-01-01_2018-03-01.par',\n",
       " '2016-03-01_2016-06-01.par',\n",
       " '2021-01-01_2021-03-01.par',\n",
       " '2016-06-01_2016-09-01.par',\n",
       " '2015-09-01_2016-01-01.par',\n",
       " '2020-01-01_2020-03-01.par',\n",
       " '2019-01-01_2019-03-01.par',\n",
       " '2017-03-01_2017-06-01.par',\n",
       " '2021-03-01_2021-06-01.par',\n",
       " '2018-03-01_2018-06-01.par',\n",
       " '2018-06-01_2018-09-01.par',\n",
       " '2016-09-01_2017-01-01.par',\n",
       " '2017-06-01_2017-09-01.par',\n",
       " '2020-06-01_2020-09-01.par',\n",
       " '2020-03-01_2020-06-01.par',\n",
       " '2020-09-01_2021-01-01.par',\n",
       " '2019-06-01_2019-09-01.par',\n",
       " '2019-03-01_2019-06-01.par',\n",
       " '2017-09-01_2018-01-01.par',\n",
       " '2018-09-01_2019-01-01.par',\n",
       " '2019-09-01_2020-01-01.par']"
      ]
     },
     "execution_count": 2,
     "metadata": {},
     "output_type": "execute_result"
    }
   ],
   "source": [
    "path_list = []\n",
    "data_path = path + \"Data/\"\n",
    "dataframe_list = pd.DataFrame()\n",
    "for f, _, i in walk(data_path):\n",
    "    for j in tqdm(i):\n",
    "        path_list.append(j)\n",
    "path_list"
   ]
  },
  {
   "cell_type": "code",
   "execution_count": 16,
   "id": "2572c832",
   "metadata": {
    "ExecuteTime": {
     "end_time": "2021-12-15T09:12:29.403654Z",
     "start_time": "2021-12-15T09:11:47.350377Z"
    }
   },
   "outputs": [
    {
     "name": "stderr",
     "output_type": "stream",
     "text": [
      "100%|██████████| 26/26 [00:00<00:00, 58819.80it/s]\n"
     ]
    },
    {
     "name": "stdout",
     "output_type": "stream",
     "text": [
      "并行执行时间： 35\n"
     ]
    }
   ],
   "source": [
    "import multiprocessing as mp\n",
    "pool = mp.Pool(10)\n",
    "t1 = time.time()\n",
    "dir_list = ['Cov','Corr','Std','Zscore','Return','Decay']\n",
    "\n",
    "final = []\n",
    "def test(alpha):\n",
    "    feat_cat = []\n",
    "    for i in dir_list:\n",
    "        feat_cat.append(pd.read_parquet(path + i + \"/\" + alpha).set_index(['timestamp','ticker']))\n",
    "    feat_cat = pd.concat(feat_cat,axis=1)\n",
    "    feat_cat.columns = [str(i) for i in range(feat_cat.shape[1])]\n",
    "    feat_cat.reset_index().to_parquet(path+\"Feat_Concat/\"+alpha)\n",
    "for alpha in tqdm(path_list):\n",
    "#     test(alpha)\n",
    "    pool.apply_async(test, args=(alpha,))   #维持执行的进程总数为10，当一个进程执行完后启动一个新进程.\n",
    "pool.close()\n",
    "pool.join()\n",
    "\n",
    "t2 = time.time()\n",
    "print(\"并行执行时间：\", int(t2 - t1))"
   ]
  },
  {
   "cell_type": "markdown",
   "id": "ccfa35d5",
   "metadata": {},
   "source": [
    "# Feat Daily Norm ( Save to Feat_Concat_Norm_Daily)"
   ]
  },
  {
   "cell_type": "code",
   "execution_count": 17,
   "id": "6040f4b3",
   "metadata": {
    "ExecuteTime": {
     "end_time": "2021-12-15T09:13:45.364431Z",
     "start_time": "2021-12-15T09:13:45.354935Z"
    }
   },
   "outputs": [],
   "source": [
    "import time\n",
    "import os\n",
    "from Research.backtest.bt import BTDaily\n",
    "from Research.feature.ft import FeatureAnalysis\n",
    "import Research.utils.namespace as namespace\n",
    "import Research.utils.normalization as norm\n",
    "from Platform.database.mysql import MysqlAPI\n",
    "from Platform.utils.persistence import convert_to_standard_daily_feature_csv, convert_to_standard_daily_feature_par\n",
    "from Platform.config.mysql_info import FACTOR_LIB_MYSQL_TIO\n",
    "import DataAPI\n",
    "from os import walk\n",
    "import pandas as pd\n",
    "import numpy as np\n",
    "import torch\n",
    "import torch.nn as nn\n",
    "from progressbar import ProgressBar\n",
    "from tqdm import tqdm\n",
    "Alpha_Name = \"AlphaNet_Original_Input_12.14\"\n",
    "path = '/home/wuwenjun/Data/' + Alpha_Name +'/'\n",
    "target = \"5d_ret\""
   ]
  },
  {
   "cell_type": "code",
   "execution_count": 18,
   "id": "8b68575a",
   "metadata": {
    "ExecuteTime": {
     "end_time": "2021-12-15T09:13:45.834206Z",
     "start_time": "2021-12-15T09:13:45.829106Z"
    }
   },
   "outputs": [],
   "source": [
    "os.mkdir(path+\"Feat_Concat_Norm_Daily\")"
   ]
  },
  {
   "cell_type": "code",
   "execution_count": 19,
   "id": "7fe04821",
   "metadata": {
    "ExecuteTime": {
     "end_time": "2021-12-15T09:13:46.422989Z",
     "start_time": "2021-12-15T09:13:46.405247Z"
    }
   },
   "outputs": [
    {
     "name": "stderr",
     "output_type": "stream",
     "text": [
      "100%|██████████| 26/26 [00:00<00:00, 161319.38it/s]\n"
     ]
    },
    {
     "data": {
      "text/plain": [
       "['2015-01-01_2015-03-01.par',\n",
       " '2015-03-01_2015-06-01.par',\n",
       " '2016-01-01_2016-03-01.par',\n",
       " '2017-01-01_2017-03-01.par',\n",
       " '2015-06-01_2015-09-01.par',\n",
       " '2018-01-01_2018-03-01.par',\n",
       " '2016-03-01_2016-06-01.par',\n",
       " '2021-01-01_2021-03-01.par',\n",
       " '2016-06-01_2016-09-01.par',\n",
       " '2015-09-01_2016-01-01.par',\n",
       " '2020-01-01_2020-03-01.par',\n",
       " '2019-01-01_2019-03-01.par',\n",
       " '2017-03-01_2017-06-01.par',\n",
       " '2021-03-01_2021-06-01.par',\n",
       " '2018-03-01_2018-06-01.par',\n",
       " '2018-06-01_2018-09-01.par',\n",
       " '2016-09-01_2017-01-01.par',\n",
       " '2017-06-01_2017-09-01.par',\n",
       " '2020-06-01_2020-09-01.par',\n",
       " '2020-03-01_2020-06-01.par',\n",
       " '2020-09-01_2021-01-01.par',\n",
       " '2019-06-01_2019-09-01.par',\n",
       " '2019-03-01_2019-06-01.par',\n",
       " '2017-09-01_2018-01-01.par',\n",
       " '2018-09-01_2019-01-01.par',\n",
       " '2019-09-01_2020-01-01.par']"
      ]
     },
     "execution_count": 19,
     "metadata": {},
     "output_type": "execute_result"
    }
   ],
   "source": [
    "path_list = []\n",
    "data_path = path + \"Data/\"\n",
    "dataframe_list = pd.DataFrame()\n",
    "for f, _, i in walk(data_path):\n",
    "    for j in tqdm(i):\n",
    "        path_list.append(j)\n",
    "path_list"
   ]
  },
  {
   "cell_type": "code",
   "execution_count": 22,
   "id": "3c2230fb",
   "metadata": {
    "ExecuteTime": {
     "end_time": "2021-12-15T09:16:27.250612Z",
     "start_time": "2021-12-15T09:16:27.057553Z"
    }
   },
   "outputs": [
    {
     "data": {
      "text/html": [
       "<div>\n",
       "<style scoped>\n",
       "    .dataframe tbody tr th:only-of-type {\n",
       "        vertical-align: middle;\n",
       "    }\n",
       "\n",
       "    .dataframe tbody tr th {\n",
       "        vertical-align: top;\n",
       "    }\n",
       "\n",
       "    .dataframe thead th {\n",
       "        text-align: right;\n",
       "    }\n",
       "</style>\n",
       "<table border=\"1\" class=\"dataframe\">\n",
       "  <thead>\n",
       "    <tr style=\"text-align: right;\">\n",
       "      <th></th>\n",
       "      <th></th>\n",
       "      <th>0</th>\n",
       "      <th>1</th>\n",
       "      <th>2</th>\n",
       "      <th>3</th>\n",
       "      <th>4</th>\n",
       "      <th>5</th>\n",
       "      <th>6</th>\n",
       "      <th>7</th>\n",
       "      <th>8</th>\n",
       "      <th>9</th>\n",
       "      <th>...</th>\n",
       "      <th>314</th>\n",
       "      <th>315</th>\n",
       "      <th>316</th>\n",
       "      <th>317</th>\n",
       "      <th>318</th>\n",
       "      <th>319</th>\n",
       "      <th>320</th>\n",
       "      <th>321</th>\n",
       "      <th>322</th>\n",
       "      <th>323</th>\n",
       "    </tr>\n",
       "    <tr>\n",
       "      <th>timestamp</th>\n",
       "      <th>ticker</th>\n",
       "      <th></th>\n",
       "      <th></th>\n",
       "      <th></th>\n",
       "      <th></th>\n",
       "      <th></th>\n",
       "      <th></th>\n",
       "      <th></th>\n",
       "      <th></th>\n",
       "      <th></th>\n",
       "      <th></th>\n",
       "      <th></th>\n",
       "      <th></th>\n",
       "      <th></th>\n",
       "      <th></th>\n",
       "      <th></th>\n",
       "      <th></th>\n",
       "      <th></th>\n",
       "      <th></th>\n",
       "      <th></th>\n",
       "      <th></th>\n",
       "      <th></th>\n",
       "    </tr>\n",
       "  </thead>\n",
       "  <tbody>\n",
       "    <tr>\n",
       "      <th>2015-02-16 09:30:00</th>\n",
       "      <th>1</th>\n",
       "      <td>1047.509016</td>\n",
       "      <td>165.116922</td>\n",
       "      <td>249.851660</td>\n",
       "      <td>924.464829</td>\n",
       "      <td>243.390500</td>\n",
       "      <td>183.194222</td>\n",
       "      <td>926.891342</td>\n",
       "      <td>158.088300</td>\n",
       "      <td>78.887819</td>\n",
       "      <td>957.587687</td>\n",
       "      <td>...</td>\n",
       "      <td>861850.412364</td>\n",
       "      <td>0.138453</td>\n",
       "      <td>-0.376716</td>\n",
       "      <td>0.284385</td>\n",
       "      <td>1.522075</td>\n",
       "      <td>1.245018</td>\n",
       "      <td>0.876160</td>\n",
       "      <td>3.017927</td>\n",
       "      <td>2.468587</td>\n",
       "      <td>1.737222</td>\n",
       "    </tr>\n",
       "    <tr>\n",
       "      <th>2015-02-17 09:30:00</th>\n",
       "      <th>1</th>\n",
       "      <td>1284.106922</td>\n",
       "      <td>304.746632</td>\n",
       "      <td>233.319300</td>\n",
       "      <td>1251.132811</td>\n",
       "      <td>325.347890</td>\n",
       "      <td>190.544389</td>\n",
       "      <td>1311.161194</td>\n",
       "      <td>268.878420</td>\n",
       "      <td>78.529422</td>\n",
       "      <td>1262.525551</td>\n",
       "      <td>...</td>\n",
       "      <td>825372.445636</td>\n",
       "      <td>-1.631951</td>\n",
       "      <td>-0.601635</td>\n",
       "      <td>0.240629</td>\n",
       "      <td>1.601496</td>\n",
       "      <td>1.147820</td>\n",
       "      <td>0.839082</td>\n",
       "      <td>3.175407</td>\n",
       "      <td>2.275878</td>\n",
       "      <td>1.663689</td>\n",
       "    </tr>\n",
       "    <tr>\n",
       "      <th>2015-02-25 09:30:00</th>\n",
       "      <th>1</th>\n",
       "      <td>1515.538580</td>\n",
       "      <td>320.840611</td>\n",
       "      <td>242.242430</td>\n",
       "      <td>1522.025569</td>\n",
       "      <td>325.437271</td>\n",
       "      <td>214.401980</td>\n",
       "      <td>1539.154187</td>\n",
       "      <td>259.118036</td>\n",
       "      <td>99.405562</td>\n",
       "      <td>1482.690747</td>\n",
       "      <td>...</td>\n",
       "      <td>784033.056545</td>\n",
       "      <td>-1.377793</td>\n",
       "      <td>-0.151133</td>\n",
       "      <td>0.292173</td>\n",
       "      <td>1.574869</td>\n",
       "      <td>1.078356</td>\n",
       "      <td>0.797058</td>\n",
       "      <td>3.122595</td>\n",
       "      <td>2.138158</td>\n",
       "      <td>1.580369</td>\n",
       "    </tr>\n",
       "    <tr>\n",
       "      <th>2015-02-26 09:30:00</th>\n",
       "      <th>1</th>\n",
       "      <td>1466.712161</td>\n",
       "      <td>355.378729</td>\n",
       "      <td>244.332118</td>\n",
       "      <td>1546.573639</td>\n",
       "      <td>318.650776</td>\n",
       "      <td>222.730596</td>\n",
       "      <td>1381.349806</td>\n",
       "      <td>297.507667</td>\n",
       "      <td>108.085628</td>\n",
       "      <td>1469.916341</td>\n",
       "      <td>...</td>\n",
       "      <td>727636.666545</td>\n",
       "      <td>-0.375218</td>\n",
       "      <td>-0.482991</td>\n",
       "      <td>0.038896</td>\n",
       "      <td>1.643798</td>\n",
       "      <td>1.006125</td>\n",
       "      <td>0.739729</td>\n",
       "      <td>3.259280</td>\n",
       "      <td>1.994944</td>\n",
       "      <td>1.466684</td>\n",
       "    </tr>\n",
       "    <tr>\n",
       "      <th>2015-02-27 09:30:00</th>\n",
       "      <th>1</th>\n",
       "      <td>1271.480107</td>\n",
       "      <td>335.406489</td>\n",
       "      <td>121.012389</td>\n",
       "      <td>1338.104279</td>\n",
       "      <td>252.973056</td>\n",
       "      <td>186.957378</td>\n",
       "      <td>1296.812044</td>\n",
       "      <td>215.993378</td>\n",
       "      <td>108.132489</td>\n",
       "      <td>1324.356569</td>\n",
       "      <td>...</td>\n",
       "      <td>756908.456182</td>\n",
       "      <td>-0.411738</td>\n",
       "      <td>-0.287113</td>\n",
       "      <td>0.381687</td>\n",
       "      <td>1.581575</td>\n",
       "      <td>1.159289</td>\n",
       "      <td>0.769491</td>\n",
       "      <td>3.135918</td>\n",
       "      <td>2.298631</td>\n",
       "      <td>1.525691</td>\n",
       "    </tr>\n",
       "    <tr>\n",
       "      <th>...</th>\n",
       "      <th>...</th>\n",
       "      <td>...</td>\n",
       "      <td>...</td>\n",
       "      <td>...</td>\n",
       "      <td>...</td>\n",
       "      <td>...</td>\n",
       "      <td>...</td>\n",
       "      <td>...</td>\n",
       "      <td>...</td>\n",
       "      <td>...</td>\n",
       "      <td>...</td>\n",
       "      <td>...</td>\n",
       "      <td>...</td>\n",
       "      <td>...</td>\n",
       "      <td>...</td>\n",
       "      <td>...</td>\n",
       "      <td>...</td>\n",
       "      <td>...</td>\n",
       "      <td>...</td>\n",
       "      <td>...</td>\n",
       "      <td>...</td>\n",
       "      <td>...</td>\n",
       "    </tr>\n",
       "    <tr>\n",
       "      <th>2015-02-16 09:30:00</th>\n",
       "      <th>603998</th>\n",
       "      <td>0.828789</td>\n",
       "      <td>0.422953</td>\n",
       "      <td>0.478456</td>\n",
       "      <td>0.432567</td>\n",
       "      <td>0.670000</td>\n",
       "      <td>0.448060</td>\n",
       "      <td>0.657067</td>\n",
       "      <td>0.370296</td>\n",
       "      <td>0.309842</td>\n",
       "      <td>0.663326</td>\n",
       "      <td>...</td>\n",
       "      <td>11102.043636</td>\n",
       "      <td>-0.232562</td>\n",
       "      <td>-0.605060</td>\n",
       "      <td>0.477369</td>\n",
       "      <td>7.366571</td>\n",
       "      <td>9.550095</td>\n",
       "      <td>4.072662</td>\n",
       "      <td>7.366571</td>\n",
       "      <td>9.550095</td>\n",
       "      <td>4.072662</td>\n",
       "    </tr>\n",
       "    <tr>\n",
       "      <th>2015-02-17 09:30:00</th>\n",
       "      <th>603998</th>\n",
       "      <td>0.717016</td>\n",
       "      <td>0.501300</td>\n",
       "      <td>0.517742</td>\n",
       "      <td>0.360442</td>\n",
       "      <td>0.646556</td>\n",
       "      <td>0.496018</td>\n",
       "      <td>0.544506</td>\n",
       "      <td>0.254278</td>\n",
       "      <td>0.382506</td>\n",
       "      <td>0.584292</td>\n",
       "      <td>...</td>\n",
       "      <td>11681.422545</td>\n",
       "      <td>0.175280</td>\n",
       "      <td>-0.519973</td>\n",
       "      <td>0.476547</td>\n",
       "      <td>8.692935</td>\n",
       "      <td>8.322640</td>\n",
       "      <td>4.285205</td>\n",
       "      <td>8.692935</td>\n",
       "      <td>8.322640</td>\n",
       "      <td>4.285205</td>\n",
       "    </tr>\n",
       "    <tr>\n",
       "      <th>2015-02-25 09:30:00</th>\n",
       "      <th>603998</th>\n",
       "      <td>0.646518</td>\n",
       "      <td>0.589723</td>\n",
       "      <td>0.620109</td>\n",
       "      <td>0.368793</td>\n",
       "      <td>0.598149</td>\n",
       "      <td>0.603898</td>\n",
       "      <td>0.528344</td>\n",
       "      <td>0.360551</td>\n",
       "      <td>0.515889</td>\n",
       "      <td>0.546396</td>\n",
       "      <td>...</td>\n",
       "      <td>12217.920000</td>\n",
       "      <td>1.280062</td>\n",
       "      <td>-0.056055</td>\n",
       "      <td>0.644393</td>\n",
       "      <td>10.261596</td>\n",
       "      <td>7.895082</td>\n",
       "      <td>4.482020</td>\n",
       "      <td>10.261596</td>\n",
       "      <td>7.895082</td>\n",
       "      <td>4.482020</td>\n",
       "    </tr>\n",
       "    <tr>\n",
       "      <th>2015-02-26 09:30:00</th>\n",
       "      <th>603998</th>\n",
       "      <td>0.889291</td>\n",
       "      <td>0.591833</td>\n",
       "      <td>0.683202</td>\n",
       "      <td>0.863838</td>\n",
       "      <td>0.577800</td>\n",
       "      <td>0.693460</td>\n",
       "      <td>0.901598</td>\n",
       "      <td>0.343806</td>\n",
       "      <td>0.610753</td>\n",
       "      <td>0.849956</td>\n",
       "      <td>...</td>\n",
       "      <td>12551.332727</td>\n",
       "      <td>1.144887</td>\n",
       "      <td>-0.119953</td>\n",
       "      <td>0.549635</td>\n",
       "      <td>11.622935</td>\n",
       "      <td>7.310062</td>\n",
       "      <td>4.604329</td>\n",
       "      <td>11.622935</td>\n",
       "      <td>7.310062</td>\n",
       "      <td>4.604329</td>\n",
       "    </tr>\n",
       "    <tr>\n",
       "      <th>2015-02-27 09:30:00</th>\n",
       "      <th>603998</th>\n",
       "      <td>1.295867</td>\n",
       "      <td>0.574033</td>\n",
       "      <td>0.746611</td>\n",
       "      <td>1.276227</td>\n",
       "      <td>0.565197</td>\n",
       "      <td>0.766639</td>\n",
       "      <td>1.388291</td>\n",
       "      <td>0.317899</td>\n",
       "      <td>0.748500</td>\n",
       "      <td>1.282227</td>\n",
       "      <td>...</td>\n",
       "      <td>13109.034000</td>\n",
       "      <td>1.358818</td>\n",
       "      <td>-0.363920</td>\n",
       "      <td>0.725938</td>\n",
       "      <td>12.399487</td>\n",
       "      <td>6.618011</td>\n",
       "      <td>4.808911</td>\n",
       "      <td>12.399487</td>\n",
       "      <td>6.618011</td>\n",
       "      <td>4.808911</td>\n",
       "    </tr>\n",
       "  </tbody>\n",
       "</table>\n",
       "<p>12935 rows × 324 columns</p>\n",
       "</div>"
      ],
      "text/plain": [
       "                                      0           1           2            3  \\\n",
       "timestamp           ticker                                                     \n",
       "2015-02-16 09:30:00 1       1047.509016  165.116922  249.851660   924.464829   \n",
       "2015-02-17 09:30:00 1       1284.106922  304.746632  233.319300  1251.132811   \n",
       "2015-02-25 09:30:00 1       1515.538580  320.840611  242.242430  1522.025569   \n",
       "2015-02-26 09:30:00 1       1466.712161  355.378729  244.332118  1546.573639   \n",
       "2015-02-27 09:30:00 1       1271.480107  335.406489  121.012389  1338.104279   \n",
       "...                                 ...         ...         ...          ...   \n",
       "2015-02-16 09:30:00 603998     0.828789    0.422953    0.478456     0.432567   \n",
       "2015-02-17 09:30:00 603998     0.717016    0.501300    0.517742     0.360442   \n",
       "2015-02-25 09:30:00 603998     0.646518    0.589723    0.620109     0.368793   \n",
       "2015-02-26 09:30:00 603998     0.889291    0.591833    0.683202     0.863838   \n",
       "2015-02-27 09:30:00 603998     1.295867    0.574033    0.746611     1.276227   \n",
       "\n",
       "                                     4           5            6           7  \\\n",
       "timestamp           ticker                                                    \n",
       "2015-02-16 09:30:00 1       243.390500  183.194222   926.891342  158.088300   \n",
       "2015-02-17 09:30:00 1       325.347890  190.544389  1311.161194  268.878420   \n",
       "2015-02-25 09:30:00 1       325.437271  214.401980  1539.154187  259.118036   \n",
       "2015-02-26 09:30:00 1       318.650776  222.730596  1381.349806  297.507667   \n",
       "2015-02-27 09:30:00 1       252.973056  186.957378  1296.812044  215.993378   \n",
       "...                                ...         ...          ...         ...   \n",
       "2015-02-16 09:30:00 603998    0.670000    0.448060     0.657067    0.370296   \n",
       "2015-02-17 09:30:00 603998    0.646556    0.496018     0.544506    0.254278   \n",
       "2015-02-25 09:30:00 603998    0.598149    0.603898     0.528344    0.360551   \n",
       "2015-02-26 09:30:00 603998    0.577800    0.693460     0.901598    0.343806   \n",
       "2015-02-27 09:30:00 603998    0.565197    0.766639     1.388291    0.317899   \n",
       "\n",
       "                                     8            9  ...            314  \\\n",
       "timestamp           ticker                           ...                  \n",
       "2015-02-16 09:30:00 1        78.887819   957.587687  ...  861850.412364   \n",
       "2015-02-17 09:30:00 1        78.529422  1262.525551  ...  825372.445636   \n",
       "2015-02-25 09:30:00 1        99.405562  1482.690747  ...  784033.056545   \n",
       "2015-02-26 09:30:00 1       108.085628  1469.916341  ...  727636.666545   \n",
       "2015-02-27 09:30:00 1       108.132489  1324.356569  ...  756908.456182   \n",
       "...                                ...          ...  ...            ...   \n",
       "2015-02-16 09:30:00 603998    0.309842     0.663326  ...   11102.043636   \n",
       "2015-02-17 09:30:00 603998    0.382506     0.584292  ...   11681.422545   \n",
       "2015-02-25 09:30:00 603998    0.515889     0.546396  ...   12217.920000   \n",
       "2015-02-26 09:30:00 603998    0.610753     0.849956  ...   12551.332727   \n",
       "2015-02-27 09:30:00 603998    0.748500     1.282227  ...   13109.034000   \n",
       "\n",
       "                                 315       316       317        318       319  \\\n",
       "timestamp           ticker                                                      \n",
       "2015-02-16 09:30:00 1       0.138453 -0.376716  0.284385   1.522075  1.245018   \n",
       "2015-02-17 09:30:00 1      -1.631951 -0.601635  0.240629   1.601496  1.147820   \n",
       "2015-02-25 09:30:00 1      -1.377793 -0.151133  0.292173   1.574869  1.078356   \n",
       "2015-02-26 09:30:00 1      -0.375218 -0.482991  0.038896   1.643798  1.006125   \n",
       "2015-02-27 09:30:00 1      -0.411738 -0.287113  0.381687   1.581575  1.159289   \n",
       "...                              ...       ...       ...        ...       ...   \n",
       "2015-02-16 09:30:00 603998 -0.232562 -0.605060  0.477369   7.366571  9.550095   \n",
       "2015-02-17 09:30:00 603998  0.175280 -0.519973  0.476547   8.692935  8.322640   \n",
       "2015-02-25 09:30:00 603998  1.280062 -0.056055  0.644393  10.261596  7.895082   \n",
       "2015-02-26 09:30:00 603998  1.144887 -0.119953  0.549635  11.622935  7.310062   \n",
       "2015-02-27 09:30:00 603998  1.358818 -0.363920  0.725938  12.399487  6.618011   \n",
       "\n",
       "                                 320        321       322       323  \n",
       "timestamp           ticker                                           \n",
       "2015-02-16 09:30:00 1       0.876160   3.017927  2.468587  1.737222  \n",
       "2015-02-17 09:30:00 1       0.839082   3.175407  2.275878  1.663689  \n",
       "2015-02-25 09:30:00 1       0.797058   3.122595  2.138158  1.580369  \n",
       "2015-02-26 09:30:00 1       0.739729   3.259280  1.994944  1.466684  \n",
       "2015-02-27 09:30:00 1       0.769491   3.135918  2.298631  1.525691  \n",
       "...                              ...        ...       ...       ...  \n",
       "2015-02-16 09:30:00 603998  4.072662   7.366571  9.550095  4.072662  \n",
       "2015-02-17 09:30:00 603998  4.285205   8.692935  8.322640  4.285205  \n",
       "2015-02-25 09:30:00 603998  4.482020  10.261596  7.895082  4.482020  \n",
       "2015-02-26 09:30:00 603998  4.604329  11.622935  7.310062  4.604329  \n",
       "2015-02-27 09:30:00 603998  4.808911  12.399487  6.618011  4.808911  \n",
       "\n",
       "[12935 rows x 324 columns]"
      ]
     },
     "execution_count": 22,
     "metadata": {},
     "output_type": "execute_result"
    }
   ],
   "source": [
    "for date in path_list[:1]:\n",
    "    df = pd.read_parquet(path + \"Feat_Concat/\" + date).set_index(['timestamp','ticker'])\n",
    "df"
   ]
  },
  {
   "cell_type": "code",
   "execution_count": 25,
   "id": "877b8edc",
   "metadata": {
    "ExecuteTime": {
     "end_time": "2021-12-15T09:17:25.962879Z",
     "start_time": "2021-12-15T09:17:25.907506Z"
    }
   },
   "outputs": [
    {
     "data": {
      "text/plain": [
       "(12935, 324)"
      ]
     },
     "execution_count": 25,
     "metadata": {},
     "output_type": "execute_result"
    }
   ],
   "source": [
    "index = df.index\n",
    "\n",
    "df = np.array(df)\n",
    "df = df.reshape(df.shape[0],-1,3)"
   ]
  },
  {
   "cell_type": "code",
   "execution_count": 31,
   "id": "1c29b37b",
   "metadata": {
    "ExecuteTime": {
     "end_time": "2021-12-15T09:18:25.699332Z",
     "start_time": "2021-12-15T09:18:25.682019Z"
    }
   },
   "outputs": [
    {
     "data": {
      "text/plain": [
       "array([[ 1.04750902e+03,  1.65116922e+02,  2.49851660e+02],\n",
       "       [ 9.24464829e+02,  2.43390500e+02,  1.83194222e+02],\n",
       "       [ 9.26891342e+02,  1.58088300e+02,  7.88878189e+01],\n",
       "       [ 9.57587687e+02,  1.86292675e+02,  2.29790234e+02],\n",
       "       [ 1.37068107e+07, -8.91245480e+05,  4.31345384e+06],\n",
       "       [-1.98829705e+01, -6.59192856e+00,  5.30522444e-02],\n",
       "       [ 1.39344223e+01, -9.06152222e-01,  4.38510846e+00],\n",
       "       [ 2.76280152e+01, -1.79640700e+00,  8.69465368e+00],\n",
       "       [ 8.87325873e+02,  1.75757296e+02,  1.50877611e+02],\n",
       "       [ 9.95996587e+02,  1.93734324e+02,  8.11814422e+01],\n",
       "       [ 1.05896939e+03,  2.11033576e+02,  2.06326668e+02],\n",
       "       [ 1.87056244e+07,  3.77890563e+06,  4.23844474e+06],\n",
       "       [-1.73888487e+00, -5.89884489e+00,  3.23170376e+00],\n",
       "       [ 1.90160228e+01,  3.84142404e+00,  4.30883549e+00],\n",
       "       [ 3.77043375e+01,  7.61720067e+00,  8.54345216e+00],\n",
       "       [ 8.31918736e+02,  2.03409598e+02,  1.07275600e+02],\n",
       "       [ 8.46815213e+02,  2.15937542e+02,  1.66936643e+02],\n",
       "       [ 1.10936672e+07, -9.83652602e+05,  8.69119880e+05],\n",
       "       [-5.61320124e+00,  1.47377244e+00,  2.18874100e+00],\n",
       "       [ 1.12777871e+01, -1.00006516e+00,  8.83627000e-01],\n",
       "       [ 2.23609665e+01, -1.98258522e+00,  1.75194267e+00],\n",
       "       [ 9.29543284e+02,  2.11858039e+02,  9.40127655e+01],\n",
       "       [ 1.41520336e+07,  2.00458675e+05, -2.03271047e+05],\n",
       "       [ 1.38146607e+01,  3.51573557e+01,  1.23880597e+01],\n",
       "       [ 1.43869186e+01,  2.03604744e-01, -2.06604922e-01],\n",
       "       [ 2.85255199e+01,  4.04098778e-01, -4.09676033e-01],\n",
       "       [ 1.51626097e+07,  1.17635780e+06,  2.92939201e+06],\n",
       "       [ 1.42938608e+00,  6.35142468e+00,  3.03607807e+00],\n",
       "       [ 1.54142390e+01,  1.19574030e+00,  2.97807340e+00],\n",
       "       [ 3.05627167e+01,  2.37125821e+00,  5.90479323e+00],\n",
       "       [ 1.15074172e+05, -4.99266133e+05,  2.37704596e+03],\n",
       "       [ 3.98218133e+05,  1.55927023e+05,  1.45433735e+05],\n",
       "       [ 7.89579050e+05,  3.09178481e+05,  2.88364803e+05],\n",
       "       [ 1.16978172e-01, -5.07559764e-01,  2.42387578e-03],\n",
       "       [ 2.31962113e-01, -1.00639498e+00,  4.79200800e-03],\n",
       "       [ 8.02677889e-01,  3.14302522e-01,  2.93150843e-01],\n",
       "       [ 1.04750902e+03,  1.65116922e+02,  2.49851660e+02],\n",
       "       [ 9.24464829e+02,  2.43390500e+02,  1.83194222e+02],\n",
       "       [ 9.26891342e+02,  1.58088300e+02,  7.88878189e+01],\n",
       "       [ 9.57587687e+02,  1.86292675e+02,  2.29790234e+02],\n",
       "       [ 1.37068107e+07, -8.91245480e+05,  4.31345384e+06],\n",
       "       [-1.98829705e+01, -6.59192856e+00,  5.30522444e-02],\n",
       "       [ 1.39344223e+01, -9.06152222e-01,  4.38510846e+00],\n",
       "       [ 2.76280152e+01, -1.79640700e+00,  8.69465368e+00],\n",
       "       [ 8.87325873e+02,  1.75757296e+02,  1.50877611e+02],\n",
       "       [ 9.95996587e+02,  1.93734324e+02,  8.11814422e+01],\n",
       "       [ 1.05896939e+03,  2.11033576e+02,  2.06326668e+02],\n",
       "       [ 1.87056244e+07,  3.77890563e+06,  4.23844474e+06],\n",
       "       [-1.73888487e+00, -5.89884489e+00,  3.23170376e+00],\n",
       "       [ 1.90160228e+01,  3.84142404e+00,  4.30883549e+00],\n",
       "       [ 3.77043375e+01,  7.61720067e+00,  8.54345216e+00],\n",
       "       [ 8.31918736e+02,  2.03409598e+02,  1.07275600e+02],\n",
       "       [ 8.46815213e+02,  2.15937542e+02,  1.66936643e+02],\n",
       "       [ 1.10936672e+07, -9.83652602e+05,  8.69119880e+05],\n",
       "       [-5.61320124e+00,  1.47377244e+00,  2.18874100e+00],\n",
       "       [ 1.12777871e+01, -1.00006516e+00,  8.83627000e-01],\n",
       "       [ 2.23609665e+01, -1.98258522e+00,  1.75194267e+00],\n",
       "       [ 9.29543284e+02,  2.11858039e+02,  9.40127655e+01],\n",
       "       [ 1.41520336e+07,  2.00458675e+05, -2.03271047e+05],\n",
       "       [ 1.38146607e+01,  3.51573557e+01,  1.23880597e+01],\n",
       "       [ 1.43869186e+01,  2.03604744e-01, -2.06604922e-01],\n",
       "       [ 2.85255199e+01,  4.04098778e-01, -4.09676033e-01],\n",
       "       [ 1.51626097e+07,  1.17635780e+06,  2.92939201e+06],\n",
       "       [ 1.42938608e+00,  6.35142468e+00,  3.03607807e+00],\n",
       "       [ 1.54142390e+01,  1.19574030e+00,  2.97807340e+00],\n",
       "       [ 3.05627167e+01,  2.37125821e+00,  5.90479323e+00],\n",
       "       [ 1.15074172e+05, -4.99266133e+05,  2.37704596e+03],\n",
       "       [ 3.98218133e+05,  1.55927023e+05,  1.45433735e+05],\n",
       "       [ 7.89579050e+05,  3.09178481e+05,  2.88364803e+05],\n",
       "       [ 1.16978172e-01, -5.07559764e-01,  2.42387578e-03],\n",
       "       [ 2.31962113e-01, -1.00639498e+00,  4.79200800e-03],\n",
       "       [ 8.02677889e-01,  3.14302522e-01,  2.93150843e-01],\n",
       "       [ 3.25162637e+01,  1.64908757e+01,  1.65902616e+01],\n",
       "       [ 3.35392902e+01,  1.55724046e+01,  1.44889149e+01],\n",
       "       [ 2.70526795e+01,  1.57956084e+01,  1.26321510e+01],\n",
       "       [ 3.02209093e+01,  1.61770708e+01,  1.05462301e+01],\n",
       "       [ 2.93611582e+01,  1.37754592e+01,  1.33878832e+01],\n",
       "       [ 5.93757255e+05,  3.71546047e+05,  3.58822266e+05],\n",
       "       [ 1.92285849e+00,  3.45099402e+00,  1.49646219e+00],\n",
       "       [ 6.03607480e-01,  3.77703713e-01,  3.64777702e-01],\n",
       "       [ 1.19682099e+00,  7.48926372e-01,  7.23278200e-01],\n",
       "       [ 3.32911558e+01,  6.06444449e+01,  5.90263747e+01],\n",
       "       [ 3.30616419e+01,  6.55309201e+01,  6.84793861e+01],\n",
       "       [ 3.93344031e+01,  6.24816706e+01,  7.63907902e+01],\n",
       "       [ 3.58079233e+01,  6.19306801e+01,  9.25848376e+01],\n",
       "       [ 3.69700877e+01,  7.28010296e+01,  7.31974705e+01],\n",
       "       [ 2.87565410e+00,  3.73243593e+00,  2.56904683e+00],\n",
       "       [-1.46802275e-01, -2.65590145e-01,  1.70802845e-02],\n",
       "       [ 2.87567676e+00,  3.73252883e+00,  2.56904409e+00],\n",
       "       [ 2.87566815e+00,  3.73240963e+00,  2.56903913e+00],\n",
       "       [-3.68965365e-02, -5.70590481e-03,  2.42670723e-02],\n",
       "       [-4.05359844e-02, -3.08814296e-02,  2.75358476e-02],\n",
       "       [-2.69207174e-02, -5.05764906e-03,  2.13963730e-02],\n",
       "       [-4.05699828e-02,  7.23538930e-03,  2.34805774e-02],\n",
       "       [-3.21606466e-02, -1.06494537e-02,  2.54780332e-02],\n",
       "       [-4.56080788e-01, -5.64781062e-01,  3.11417569e-02],\n",
       "       [-8.85339669e-01, -1.02153800e+00, -1.30154160e+00],\n",
       "       [-4.56067953e-01, -5.64761116e-01,  3.11928702e-02],\n",
       "       [-4.56076452e-01, -5.64789452e-01,  3.11167454e-02],\n",
       "       [ 1.07036691e+03,  9.99556727e+02,  9.78643091e+02],\n",
       "       [ 1.09646218e+03,  1.01624964e+03,  9.92024364e+02],\n",
       "       [ 1.05522564e+03,  9.86819818e+02,  9.65825273e+02],\n",
       "       [ 1.07351855e+03,  1.00095382e+03,  9.77906545e+02],\n",
       "       [ 1.07565838e+03,  1.00075951e+03,  9.80427946e+02],\n",
       "       [ 1.49722002e+06,  1.22468708e+06,  8.61850412e+05],\n",
       "       [ 1.38452727e-01, -3.76716364e-01,  2.84385455e-01],\n",
       "       [ 1.52207455e+00,  1.24501818e+00,  8.76160000e-01],\n",
       "       [ 3.01792727e+00,  2.46858727e+00,  1.73722182e+00]])"
      ]
     },
     "execution_count": 31,
     "metadata": {},
     "output_type": "execute_result"
    }
   ],
   "source": [
    "df[0]"
   ]
  },
  {
   "cell_type": "code",
   "execution_count": 34,
   "id": "278aec73",
   "metadata": {
    "ExecuteTime": {
     "end_time": "2021-12-15T09:19:36.668729Z",
     "start_time": "2021-12-15T09:19:36.623568Z"
    }
   },
   "outputs": [
    {
     "data": {
      "text/plain": [
       "tensor([[-1.5858e-02, -1.9725e-02, -1.9354e-02],\n",
       "        [-1.6246e-02, -1.9487e-02, -1.9774e-02],\n",
       "        [-1.5126e-02, -1.8948e-02, -1.9342e-02],\n",
       "        [-1.5769e-02, -1.9424e-02, -1.9218e-02],\n",
       "        [ 1.2535e+00, -1.1015e-01,  3.7604e-01],\n",
       "        [-1.6624e-01, -2.8945e-02,  3.9697e-02],\n",
       "        [ 7.2831e-02, -2.9561e-02,  6.9460e-03],\n",
       "        [ 1.3613e-01, -3.5884e-02,  2.5445e-02],\n",
       "        [-1.6350e-02, -1.9764e-02, -1.9883e-02],\n",
       "        [-1.6402e-02, -1.9908e-02, -2.0400e-02],\n",
       "        [-1.6313e-02, -2.0009e-02, -2.0030e-02],\n",
       "        [ 1.2903e+00,  2.3050e-01,  2.6312e-01],\n",
       "        [-4.2424e-02, -9.0065e-02,  1.4501e-02],\n",
       "        [ 7.3027e-02, -1.1999e-02, -9.3796e-03],\n",
       "        [ 1.4434e-01, -2.4258e-04,  4.2084e-03],\n",
       "        [-1.6853e-02, -2.0150e-02, -2.0655e-02],\n",
       "        [-1.6695e-02, -1.9898e-02, -2.0147e-02],\n",
       "        [ 1.2582e+00, -1.3769e-01,  7.6442e-02],\n",
       "        [-6.2083e-02,  1.4720e-02,  2.2468e-02],\n",
       "        [ 7.6347e-02, -2.9135e-02, -1.2952e-02],\n",
       "        [ 1.4128e-01, -3.7285e-02, -9.8924e-03],\n",
       "        [-1.6674e-02, -2.0081e-02, -2.0640e-02],\n",
       "        [ 1.2090e+00, -1.8294e-02, -5.3808e-02],\n",
       "        [ 7.6286e-02,  2.8728e-01,  6.2183e-02],\n",
       "        [ 6.1426e-02, -3.0113e-02, -3.2760e-02],\n",
       "        [ 1.2526e-01, -3.2598e-02, -3.7167e-02],\n",
       "        [ 1.3285e+00,  7.0497e-02,  2.2818e-01],\n",
       "        [-1.1860e-02,  4.7582e-02,  7.5438e-03],\n",
       "        [ 7.6220e-02, -2.2857e-02, -1.0438e-02],\n",
       "        [ 1.4815e-01, -2.0167e-02,  9.3006e-04],\n",
       "        [ 1.5491e-01, -1.3766e+00, -1.2604e-01],\n",
       "        [ 3.2143e-01,  3.3481e-02,  2.1010e-02],\n",
       "        [ 5.2325e-01,  9.0496e-02,  7.1746e-02],\n",
       "        [-2.7269e-01, -4.4587e-01, -3.0446e-01],\n",
       "        [-2.9451e-01, -5.5963e-01, -3.4315e-01],\n",
       "        [-1.7554e-01, -2.0002e-01, -2.0107e-01],\n",
       "        [-1.5858e-02, -1.9725e-02, -1.9354e-02],\n",
       "        [-1.6246e-02, -1.9487e-02, -1.9774e-02],\n",
       "        [-1.5126e-02, -1.8948e-02, -1.9342e-02],\n",
       "        [-1.5769e-02, -1.9424e-02, -1.9218e-02],\n",
       "        [ 1.2535e+00, -1.1015e-01,  3.7604e-01],\n",
       "        [-1.6624e-01, -2.8945e-02,  3.9697e-02],\n",
       "        [ 7.2831e-02, -2.9561e-02,  6.9460e-03],\n",
       "        [ 1.3613e-01, -3.5884e-02,  2.5445e-02],\n",
       "        [-1.6350e-02, -1.9764e-02, -1.9883e-02],\n",
       "        [-1.6402e-02, -1.9908e-02, -2.0400e-02],\n",
       "        [-1.6313e-02, -2.0009e-02, -2.0030e-02],\n",
       "        [ 1.2903e+00,  2.3050e-01,  2.6312e-01],\n",
       "        [-4.2424e-02, -9.0065e-02,  1.4501e-02],\n",
       "        [ 7.3027e-02, -1.1999e-02, -9.3796e-03],\n",
       "        [ 1.4434e-01, -2.4258e-04,  4.2084e-03],\n",
       "        [-1.6853e-02, -2.0150e-02, -2.0655e-02],\n",
       "        [-1.6695e-02, -1.9898e-02, -2.0147e-02],\n",
       "        [ 1.2582e+00, -1.3769e-01,  7.6442e-02],\n",
       "        [-6.2083e-02,  1.4720e-02,  2.2468e-02],\n",
       "        [ 7.6347e-02, -2.9135e-02, -1.2952e-02],\n",
       "        [ 1.4128e-01, -3.7285e-02, -9.8924e-03],\n",
       "        [-1.6674e-02, -2.0081e-02, -2.0640e-02],\n",
       "        [ 1.2090e+00, -1.8294e-02, -5.3808e-02],\n",
       "        [ 7.6286e-02,  2.8728e-01,  6.2183e-02],\n",
       "        [ 6.1426e-02, -3.0113e-02, -3.2760e-02],\n",
       "        [ 1.2526e-01, -3.2598e-02, -3.7167e-02],\n",
       "        [ 1.3285e+00,  7.0497e-02,  2.2818e-01],\n",
       "        [-1.1860e-02,  4.7582e-02,  7.5438e-03],\n",
       "        [ 7.6220e-02, -2.2857e-02, -1.0438e-02],\n",
       "        [ 1.4815e-01, -2.0167e-02,  9.3006e-04],\n",
       "        [ 1.5491e-01, -1.3766e+00, -1.2604e-01],\n",
       "        [ 3.2143e-01,  3.3481e-02,  2.1010e-02],\n",
       "        [ 5.2325e-01,  9.0496e-02,  7.1746e-02],\n",
       "        [-2.7269e-01, -4.4587e-01, -3.0446e-01],\n",
       "        [-2.9451e-01, -5.5963e-01, -3.4315e-01],\n",
       "        [-1.7554e-01, -2.0002e-01, -2.0107e-01],\n",
       "        [ 4.1682e-01,  1.7611e-01,  1.7761e-01],\n",
       "        [ 4.1306e-01,  1.5407e-01,  1.3845e-01],\n",
       "        [ 3.6424e-01,  1.8277e-01,  1.3178e-01],\n",
       "        [ 3.9044e-01,  1.7514e-01,  8.8810e-02],\n",
       "        [ 3.9392e-01,  1.4691e-01,  1.4077e-01],\n",
       "        [ 2.7017e+00,  1.5577e+00,  1.4922e+00],\n",
       "        [-3.3792e-01,  9.6091e-01, -7.0033e-01],\n",
       "        [-3.5555e-01, -5.1935e-01, -5.2872e-01],\n",
       "        [-2.4678e-01, -5.0680e-01, -5.2169e-01],\n",
       "        [-2.2085e-01, -2.2085e-01, -2.2085e-01],\n",
       "        [-2.2108e-01, -2.2108e-01, -2.2108e-01],\n",
       "        [-2.2067e-01, -2.2067e-01, -2.2067e-01],\n",
       "        [-2.2367e-01, -2.2367e-01, -2.2367e-01],\n",
       "        [-2.1536e-01, -2.1536e-01, -2.1536e-01],\n",
       "        [ 2.4967e-01,  9.2356e-01,  8.5197e-03],\n",
       "        [-4.9586e-02, -6.7008e-02, -2.5551e-02],\n",
       "        [ 2.5147e-01,  9.2526e-01,  1.0346e-02],\n",
       "        [ 2.5124e-01,  9.2572e-01,  9.8484e-03],\n",
       "        [-8.0499e-01, -4.2875e-01, -6.7200e-02],\n",
       "        [-8.2011e-01, -7.0746e-01, -2.5820e-02],\n",
       "        [-7.4423e-01, -4.7032e-01, -1.3890e-01],\n",
       "        [-8.6529e-01, -2.9989e-01, -1.0776e-01],\n",
       "        [-7.7823e-01, -5.1408e-01, -7.0432e-02],\n",
       "        [-7.8118e-02, -7.8120e-02, -7.8109e-02],\n",
       "        [ 1.1661e-02, -2.4369e-03, -3.1421e-02],\n",
       "        [-3.6280e-02, -3.9247e-02, -2.2979e-02],\n",
       "        [-3.7636e-02, -4.0603e-02, -2.4339e-02],\n",
       "        [ 5.7288e-01,  5.2895e-01,  5.1598e-01],\n",
       "        [ 5.7387e-01,  5.2521e-01,  5.1052e-01],\n",
       "        [ 5.7349e-01,  5.3040e-01,  5.1717e-01],\n",
       "        [ 5.7108e-01,  5.2631e-01,  5.1210e-01],\n",
       "        [ 5.7238e-01,  5.2618e-01,  5.1364e-01],\n",
       "        [ 2.6108e+00,  2.0752e+00,  1.3621e+00],\n",
       "        [-2.9233e-01, -8.2808e-01, -1.4056e-01],\n",
       "        [-3.6359e-01, -4.7194e-01, -6.1619e-01],\n",
       "        [-2.0490e-01, -3.8079e-01, -6.1497e-01]], grad_fn=<SelectBackward0>)"
      ]
     },
     "execution_count": 34,
     "metadata": {},
     "output_type": "execute_result"
    }
   ],
   "source": [
    "batch = nn.BatchNorm1d(df.shape[1], affine=True)\n",
    "bc = batch(torch.from_numpy(df).to(torch.float))\n",
    "bc[0]"
   ]
  },
  {
   "cell_type": "code",
   "execution_count": null,
   "id": "bd80ed5b",
   "metadata": {},
   "outputs": [],
   "source": []
  }
 ],
 "metadata": {
  "kernelspec": {
   "display_name": "Python 3 (ipykernel)",
   "language": "python",
   "name": "python3"
  },
  "language_info": {
   "codemirror_mode": {
    "name": "ipython",
    "version": 3
   },
   "file_extension": ".py",
   "mimetype": "text/x-python",
   "name": "python",
   "nbconvert_exporter": "python",
   "pygments_lexer": "ipython3",
   "version": "3.7.9"
  }
 },
 "nbformat": 4,
 "nbformat_minor": 5
}
