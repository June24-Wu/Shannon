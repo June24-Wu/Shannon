{
 "cells": [
  {
   "cell_type": "markdown",
   "id": "aeb8e6c6",
   "metadata": {},
   "source": [
    "# Get_Original_AlphaNet_Data"
   ]
  },
  {
   "cell_type": "code",
   "execution_count": 1,
   "id": "340d640b",
   "metadata": {
    "ExecuteTime": {
     "end_time": "2021-12-15T05:48:03.172322Z",
     "start_time": "2021-12-15T05:48:03.157896Z"
    }
   },
   "outputs": [],
   "source": [
    "Alpha_Name = \"AlphaNet_Original_Input_12.14\"\n",
    "path = '/home/wuwenjun/Data/' + Alpha_Name +'/'\n",
    "target = \"5d_ret\""
   ]
  },
  {
   "cell_type": "code",
   "execution_count": 2,
   "id": "4ac61031",
   "metadata": {
    "ExecuteTime": {
     "end_time": "2021-12-15T05:48:05.191148Z",
     "start_time": "2021-12-15T05:48:03.748399Z"
    }
   },
   "outputs": [],
   "source": [
    "import time\n",
    "import os\n",
    "from Research.backtest.bt import BTDaily\n",
    "from Research.feature.ft import FeatureAnalysis\n",
    "import Research.utils.namespace as namespace\n",
    "import Research.utils.normalization as norm\n",
    "from Platform.database.mysql import MysqlAPI\n",
    "from Platform.utils.persistence import convert_to_standard_daily_feature_csv, convert_to_standard_daily_feature_par\n",
    "from Platform.config.mysql_info import FACTOR_LIB_MYSQL_TIO\n",
    "import DataAPI\n",
    "from os import walk\n",
    "import pandas as pd\n",
    "import numpy as np\n",
    "import torch\n",
    "import torch.nn as nn\n",
    "from progressbar import ProgressBar\n",
    "from tqdm import tqdm"
   ]
  },
  {
   "cell_type": "code",
   "execution_count": 3,
   "id": "91942282",
   "metadata": {
    "ExecuteTime": {
     "end_time": "2021-12-15T01:35:40.037956Z",
     "start_time": "2021-12-15T01:35:39.918129Z"
    }
   },
   "outputs": [
    {
     "ename": "FileExistsError",
     "evalue": "[Errno 17] File exists: '/home/wuwenjun/Data/AlphaNet_Original_Input_12.14/Data'",
     "output_type": "error",
     "traceback": [
      "\u001b[0;31m---------------------------------------------------------------------------\u001b[0m",
      "\u001b[0;31mFileExistsError\u001b[0m                           Traceback (most recent call last)",
      "\u001b[0;32m<ipython-input-3-797351447a8f>\u001b[0m in \u001b[0;36m<module>\u001b[0;34m\u001b[0m\n\u001b[1;32m      1\u001b[0m \u001b[0mdir_list\u001b[0m \u001b[0;34m=\u001b[0m \u001b[0;34m[\u001b[0m\u001b[0;34m'Data'\u001b[0m\u001b[0;34m,\u001b[0m\u001b[0;34m'Cov'\u001b[0m\u001b[0;34m,\u001b[0m\u001b[0;34m'Corr'\u001b[0m\u001b[0;34m,\u001b[0m\u001b[0;34m'Return'\u001b[0m\u001b[0;34m,\u001b[0m\u001b[0;34m'Std'\u001b[0m\u001b[0;34m,\u001b[0m\u001b[0;34m'Zscore'\u001b[0m\u001b[0;34m,\u001b[0m\u001b[0;34m'Decay'\u001b[0m\u001b[0;34m]\u001b[0m\u001b[0;34m\u001b[0m\u001b[0;34m\u001b[0m\u001b[0m\n\u001b[1;32m      2\u001b[0m \u001b[0;32mfor\u001b[0m \u001b[0mi\u001b[0m \u001b[0;32min\u001b[0m \u001b[0mdir_list\u001b[0m\u001b[0;34m:\u001b[0m\u001b[0;34m\u001b[0m\u001b[0;34m\u001b[0m\u001b[0m\n\u001b[0;32m----> 3\u001b[0;31m     \u001b[0mos\u001b[0m\u001b[0;34m.\u001b[0m\u001b[0mmkdir\u001b[0m\u001b[0;34m(\u001b[0m\u001b[0mpath\u001b[0m\u001b[0;34m+\u001b[0m\u001b[0mi\u001b[0m\u001b[0;34m)\u001b[0m\u001b[0;34m\u001b[0m\u001b[0;34m\u001b[0m\u001b[0m\n\u001b[0m",
      "\u001b[0;31mFileExistsError\u001b[0m: [Errno 17] File exists: '/home/wuwenjun/Data/AlphaNet_Original_Input_12.14/Data'"
     ]
    }
   ],
   "source": [
    "dir_list = ['Data','Cov','Corr','Return','Std','Zscore','Decay']\n",
    "for i in dir_list:\n",
    "    os.mkdir(path+i)"
   ]
  },
  {
   "cell_type": "code",
   "execution_count": 3,
   "id": "0d6ef99c",
   "metadata": {
    "ExecuteTime": {
     "end_time": "2021-12-15T05:48:19.885643Z",
     "start_time": "2021-12-15T05:48:12.547794Z"
    }
   },
   "outputs": [
    {
     "data": {
      "text/html": [
       "<div>\n",
       "<style scoped>\n",
       "    .dataframe tbody tr th:only-of-type {\n",
       "        vertical-align: middle;\n",
       "    }\n",
       "\n",
       "    .dataframe tbody tr th {\n",
       "        vertical-align: top;\n",
       "    }\n",
       "\n",
       "    .dataframe thead th {\n",
       "        text-align: right;\n",
       "    }\n",
       "</style>\n",
       "<table border=\"1\" class=\"dataframe\">\n",
       "  <thead>\n",
       "    <tr style=\"text-align: right;\">\n",
       "      <th></th>\n",
       "      <th>timestamp</th>\n",
       "      <th>ticker</th>\n",
       "      <th>open</th>\n",
       "      <th>high</th>\n",
       "      <th>low</th>\n",
       "      <th>close</th>\n",
       "      <th>vwap</th>\n",
       "      <th>volume</th>\n",
       "      <th>pct_chg</th>\n",
       "      <th>turnover</th>\n",
       "      <th>free_turnover</th>\n",
       "      <th>5d_ret</th>\n",
       "    </tr>\n",
       "  </thead>\n",
       "  <tbody>\n",
       "    <tr>\n",
       "      <th>0</th>\n",
       "      <td>2015-01-06 09:30:00</td>\n",
       "      <td>1</td>\n",
       "      <td>1136.15</td>\n",
       "      <td>1156.75</td>\n",
       "      <td>1108.44</td>\n",
       "      <td>1138.28</td>\n",
       "      <td>1134.052643</td>\n",
       "      <td>2860436.43</td>\n",
       "      <td>1.1364</td>\n",
       "      <td>2.9079</td>\n",
       "      <td>5.7657</td>\n",
       "      <td>-0.075710</td>\n",
       "    </tr>\n",
       "    <tr>\n",
       "      <th>1</th>\n",
       "      <td>2015-01-06 09:30:00</td>\n",
       "      <td>2</td>\n",
       "      <td>1774.23</td>\n",
       "      <td>1885.20</td>\n",
       "      <td>1753.27</td>\n",
       "      <td>1838.34</td>\n",
       "      <td>1823.031224</td>\n",
       "      <td>6560835.70</td>\n",
       "      <td>7.2662</td>\n",
       "      <td>6.7834</td>\n",
       "      <td>8.1741</td>\n",
       "      <td>-0.106164</td>\n",
       "    </tr>\n",
       "    <tr>\n",
       "      <th>2</th>\n",
       "      <td>2015-01-06 09:30:00</td>\n",
       "      <td>4</td>\n",
       "      <td>63.31</td>\n",
       "      <td>64.62</td>\n",
       "      <td>62.18</td>\n",
       "      <td>63.76</td>\n",
       "      <td>63.277989</td>\n",
       "      <td>28095.12</td>\n",
       "      <td>0.7707</td>\n",
       "      <td>3.3496</td>\n",
       "      <td>4.5343</td>\n",
       "      <td>0.006390</td>\n",
       "    </tr>\n",
       "    <tr>\n",
       "      <th>3</th>\n",
       "      <td>2015-01-06 09:30:00</td>\n",
       "      <td>5</td>\n",
       "      <td>38.00</td>\n",
       "      <td>38.00</td>\n",
       "      <td>38.00</td>\n",
       "      <td>38.00</td>\n",
       "      <td>37.997172</td>\n",
       "      <td>0.00</td>\n",
       "      <td>0.0000</td>\n",
       "      <td>0.0000</td>\n",
       "      <td>0.0000</td>\n",
       "      <td>0.000000</td>\n",
       "    </tr>\n",
       "    <tr>\n",
       "      <th>4</th>\n",
       "      <td>2015-01-06 09:30:00</td>\n",
       "      <td>6</td>\n",
       "      <td>225.64</td>\n",
       "      <td>234.85</td>\n",
       "      <td>223.10</td>\n",
       "      <td>225.00</td>\n",
       "      <td>228.438278</td>\n",
       "      <td>1078647.12</td>\n",
       "      <td>0.4255</td>\n",
       "      <td>8.0562</td>\n",
       "      <td>13.2751</td>\n",
       "      <td>-0.078571</td>\n",
       "    </tr>\n",
       "    <tr>\n",
       "      <th>...</th>\n",
       "      <td>...</td>\n",
       "      <td>...</td>\n",
       "      <td>...</td>\n",
       "      <td>...</td>\n",
       "      <td>...</td>\n",
       "      <td>...</td>\n",
       "      <td>...</td>\n",
       "      <td>...</td>\n",
       "      <td>...</td>\n",
       "      <td>...</td>\n",
       "      <td>...</td>\n",
       "      <td>...</td>\n",
       "    </tr>\n",
       "    <tr>\n",
       "      <th>5357756</th>\n",
       "      <td>2021-07-01 09:30:00</td>\n",
       "      <td>688700</td>\n",
       "      <td>47.80</td>\n",
       "      <td>54.50</td>\n",
       "      <td>47.03</td>\n",
       "      <td>53.38</td>\n",
       "      <td>50.715300</td>\n",
       "      <td>64336.83</td>\n",
       "      <td>14.5494</td>\n",
       "      <td>19.2222</td>\n",
       "      <td>19.2222</td>\n",
       "      <td>0.153171</td>\n",
       "    </tr>\n",
       "    <tr>\n",
       "      <th>5357757</th>\n",
       "      <td>2021-07-01 09:30:00</td>\n",
       "      <td>688777</td>\n",
       "      <td>90.21</td>\n",
       "      <td>95.08</td>\n",
       "      <td>89.32</td>\n",
       "      <td>94.42</td>\n",
       "      <td>93.250464</td>\n",
       "      <td>19001.61</td>\n",
       "      <td>4.6111</td>\n",
       "      <td>4.6288</td>\n",
       "      <td>4.6288</td>\n",
       "      <td>0.053133</td>\n",
       "    </tr>\n",
       "    <tr>\n",
       "      <th>5357758</th>\n",
       "      <td>2021-07-01 09:30:00</td>\n",
       "      <td>688788</td>\n",
       "      <td>138.07</td>\n",
       "      <td>149.35</td>\n",
       "      <td>137.11</td>\n",
       "      <td>146.22</td>\n",
       "      <td>145.197985</td>\n",
       "      <td>13572.56</td>\n",
       "      <td>5.1954</td>\n",
       "      <td>7.7977</td>\n",
       "      <td>7.7977</td>\n",
       "      <td>-0.102721</td>\n",
       "    </tr>\n",
       "    <tr>\n",
       "      <th>5357759</th>\n",
       "      <td>2021-07-01 09:30:00</td>\n",
       "      <td>688819</td>\n",
       "      <td>44.04</td>\n",
       "      <td>45.64</td>\n",
       "      <td>43.95</td>\n",
       "      <td>45.15</td>\n",
       "      <td>45.026221</td>\n",
       "      <td>47249.01</td>\n",
       "      <td>1.8544</td>\n",
       "      <td>4.6754</td>\n",
       "      <td>4.6754</td>\n",
       "      <td>0.032164</td>\n",
       "    </tr>\n",
       "    <tr>\n",
       "      <th>5357760</th>\n",
       "      <td>2021-07-01 09:30:00</td>\n",
       "      <td>688981</td>\n",
       "      <td>59.69</td>\n",
       "      <td>62.50</td>\n",
       "      <td>59.40</td>\n",
       "      <td>61.82</td>\n",
       "      <td>61.542000</td>\n",
       "      <td>777950.53</td>\n",
       "      <td>4.3376</td>\n",
       "      <td>7.1003</td>\n",
       "      <td>7.1003</td>\n",
       "      <td>-0.058075</td>\n",
       "    </tr>\n",
       "  </tbody>\n",
       "</table>\n",
       "<p>5357761 rows × 12 columns</p>\n",
       "</div>"
      ],
      "text/plain": [
       "                   timestamp  ticker     open     high      low    close  \\\n",
       "0        2015-01-06 09:30:00       1  1136.15  1156.75  1108.44  1138.28   \n",
       "1        2015-01-06 09:30:00       2  1774.23  1885.20  1753.27  1838.34   \n",
       "2        2015-01-06 09:30:00       4    63.31    64.62    62.18    63.76   \n",
       "3        2015-01-06 09:30:00       5    38.00    38.00    38.00    38.00   \n",
       "4        2015-01-06 09:30:00       6   225.64   234.85   223.10   225.00   \n",
       "...                      ...     ...      ...      ...      ...      ...   \n",
       "5357756  2021-07-01 09:30:00  688700    47.80    54.50    47.03    53.38   \n",
       "5357757  2021-07-01 09:30:00  688777    90.21    95.08    89.32    94.42   \n",
       "5357758  2021-07-01 09:30:00  688788   138.07   149.35   137.11   146.22   \n",
       "5357759  2021-07-01 09:30:00  688819    44.04    45.64    43.95    45.15   \n",
       "5357760  2021-07-01 09:30:00  688981    59.69    62.50    59.40    61.82   \n",
       "\n",
       "                vwap      volume  pct_chg  turnover  free_turnover    5d_ret  \n",
       "0        1134.052643  2860436.43   1.1364    2.9079         5.7657 -0.075710  \n",
       "1        1823.031224  6560835.70   7.2662    6.7834         8.1741 -0.106164  \n",
       "2          63.277989    28095.12   0.7707    3.3496         4.5343  0.006390  \n",
       "3          37.997172        0.00   0.0000    0.0000         0.0000  0.000000  \n",
       "4         228.438278  1078647.12   0.4255    8.0562        13.2751 -0.078571  \n",
       "...              ...         ...      ...       ...            ...       ...  \n",
       "5357756    50.715300    64336.83  14.5494   19.2222        19.2222  0.153171  \n",
       "5357757    93.250464    19001.61   4.6111    4.6288         4.6288  0.053133  \n",
       "5357758   145.197985    13572.56   5.1954    7.7977         7.7977 -0.102721  \n",
       "5357759    45.026221    47249.01   1.8544    4.6754         4.6754  0.032164  \n",
       "5357760    61.542000   777950.53   4.3376    7.1003         7.1003 -0.058075  \n",
       "\n",
       "[5357761 rows x 12 columns]"
      ]
     },
     "execution_count": 3,
     "metadata": {},
     "output_type": "execute_result"
    }
   ],
   "source": [
    "df = pd.read_csv(path+\"data.csv\")\n",
    "df"
   ]
  },
  {
   "cell_type": "code",
   "execution_count": 12,
   "id": "1a154020",
   "metadata": {
    "ExecuteTime": {
     "end_time": "2021-12-15T05:49:41.273640Z",
     "start_time": "2021-12-15T05:49:41.266733Z"
    }
   },
   "outputs": [],
   "source": [
    "# for ticker in tqdm(df['ticker'].drop_duplicates()):\n",
    "def test(ticker):\n",
    "    one_data = df[df['ticker'] == ticker]\n",
    "    one_data.set_index(['timestamp','ticker'],inplace=True)\n",
    "    target_df = one_data[target]\n",
    "    one_data.drop(target,axis=1,inplace=True)\n",
    "    concat_df = pd.DataFrame()\n",
    "    for day in range(29,-1,-1):\n",
    "        concat_df = pd.concat([concat_df,one_data.shift(day)],axis=1)\n",
    "    concat_df.dropna(axis=0,how=\"any\",inplace=True)\n",
    "    concat_df = pd.concat([concat_df,target_df],axis=1,join='inner')\n",
    "    return concat_df"
   ]
  },
  {
   "cell_type": "code",
   "execution_count": 13,
   "id": "b17cf74e",
   "metadata": {
    "ExecuteTime": {
     "end_time": "2021-12-15T05:50:49.774211Z",
     "start_time": "2021-12-15T05:49:42.532822Z"
    }
   },
   "outputs": [
    {
     "name": "stderr",
     "output_type": "stream",
     "text": [
      "100%|██████████| 4427/4427 [00:00<00:00, 21152.75it/s]\n",
      "100%|██████████| 4427/4427 [00:00<00:00, 298725.57it/s]"
     ]
    },
    {
     "name": "stdout",
     "output_type": "stream",
     "text": [
      "并行执行时间： 40\n"
     ]
    },
    {
     "name": "stderr",
     "output_type": "stream",
     "text": [
      "\n"
     ]
    },
    {
     "data": {
      "text/html": [
       "<div>\n",
       "<style scoped>\n",
       "    .dataframe tbody tr th:only-of-type {\n",
       "        vertical-align: middle;\n",
       "    }\n",
       "\n",
       "    .dataframe tbody tr th {\n",
       "        vertical-align: top;\n",
       "    }\n",
       "\n",
       "    .dataframe thead th {\n",
       "        text-align: right;\n",
       "    }\n",
       "</style>\n",
       "<table border=\"1\" class=\"dataframe\">\n",
       "  <thead>\n",
       "    <tr style=\"text-align: right;\">\n",
       "      <th></th>\n",
       "      <th></th>\n",
       "      <th>open</th>\n",
       "      <th>high</th>\n",
       "      <th>low</th>\n",
       "      <th>close</th>\n",
       "      <th>vwap</th>\n",
       "      <th>volume</th>\n",
       "      <th>pct_chg</th>\n",
       "      <th>turnover</th>\n",
       "      <th>free_turnover</th>\n",
       "      <th>open</th>\n",
       "      <th>...</th>\n",
       "      <th>open</th>\n",
       "      <th>high</th>\n",
       "      <th>low</th>\n",
       "      <th>close</th>\n",
       "      <th>vwap</th>\n",
       "      <th>volume</th>\n",
       "      <th>pct_chg</th>\n",
       "      <th>turnover</th>\n",
       "      <th>free_turnover</th>\n",
       "      <th>5d_ret</th>\n",
       "    </tr>\n",
       "    <tr>\n",
       "      <th>timestamp</th>\n",
       "      <th>ticker</th>\n",
       "      <th></th>\n",
       "      <th></th>\n",
       "      <th></th>\n",
       "      <th></th>\n",
       "      <th></th>\n",
       "      <th></th>\n",
       "      <th></th>\n",
       "      <th></th>\n",
       "      <th></th>\n",
       "      <th></th>\n",
       "      <th></th>\n",
       "      <th></th>\n",
       "      <th></th>\n",
       "      <th></th>\n",
       "      <th></th>\n",
       "      <th></th>\n",
       "      <th></th>\n",
       "      <th></th>\n",
       "      <th></th>\n",
       "      <th></th>\n",
       "      <th></th>\n",
       "    </tr>\n",
       "  </thead>\n",
       "  <tbody>\n",
       "    <tr>\n",
       "      <th>2015-02-16 09:30:00</th>\n",
       "      <th>1</th>\n",
       "      <td>1136.15</td>\n",
       "      <td>1156.75</td>\n",
       "      <td>1108.44</td>\n",
       "      <td>1138.28</td>\n",
       "      <td>1134.052643</td>\n",
       "      <td>2860436.43</td>\n",
       "      <td>1.1364</td>\n",
       "      <td>2.9079</td>\n",
       "      <td>5.7657</td>\n",
       "      <td>1126.20</td>\n",
       "      <td>...</td>\n",
       "      <td>989.78</td>\n",
       "      <td>1007.54</td>\n",
       "      <td>983.38</td>\n",
       "      <td>991.20</td>\n",
       "      <td>996.094771</td>\n",
       "      <td>887743.10</td>\n",
       "      <td>0.6494</td>\n",
       "      <td>0.9025</td>\n",
       "      <td>1.7894</td>\n",
       "      <td>0.005735</td>\n",
       "    </tr>\n",
       "    <tr>\n",
       "      <th>2015-02-17 09:30:00</th>\n",
       "      <th>1</th>\n",
       "      <td>1126.20</td>\n",
       "      <td>1164.57</td>\n",
       "      <td>1104.89</td>\n",
       "      <td>1121.23</td>\n",
       "      <td>1132.652885</td>\n",
       "      <td>2166421.40</td>\n",
       "      <td>-1.4981</td>\n",
       "      <td>2.2024</td>\n",
       "      <td>4.3668</td>\n",
       "      <td>1105.60</td>\n",
       "      <td>...</td>\n",
       "      <td>991.20</td>\n",
       "      <td>995.46</td>\n",
       "      <td>975.57</td>\n",
       "      <td>989.07</td>\n",
       "      <td>985.109868</td>\n",
       "      <td>721202.39</td>\n",
       "      <td>-0.2151</td>\n",
       "      <td>0.7332</td>\n",
       "      <td>1.4537</td>\n",
       "      <td>0.001433</td>\n",
       "    </tr>\n",
       "    <tr>\n",
       "      <th>2015-02-25 09:30:00</th>\n",
       "      <th>1</th>\n",
       "      <td>1105.60</td>\n",
       "      <td>1124.78</td>\n",
       "      <td>1087.12</td>\n",
       "      <td>1099.91</td>\n",
       "      <td>1101.168988</td>\n",
       "      <td>1700120.67</td>\n",
       "      <td>-1.9011</td>\n",
       "      <td>1.7283</td>\n",
       "      <td>3.4269</td>\n",
       "      <td>1101.33</td>\n",
       "      <td>...</td>\n",
       "      <td>991.91</td>\n",
       "      <td>1002.57</td>\n",
       "      <td>989.78</td>\n",
       "      <td>994.04</td>\n",
       "      <td>996.570831</td>\n",
       "      <td>680491.59</td>\n",
       "      <td>0.5029</td>\n",
       "      <td>0.6918</td>\n",
       "      <td>1.3717</td>\n",
       "      <td>-0.029915</td>\n",
       "    </tr>\n",
       "    <tr>\n",
       "      <th>2015-02-26 09:30:00</th>\n",
       "      <th>1</th>\n",
       "      <td>1101.33</td>\n",
       "      <td>1106.31</td>\n",
       "      <td>1058.70</td>\n",
       "      <td>1062.96</td>\n",
       "      <td>1074.097527</td>\n",
       "      <td>1407714.21</td>\n",
       "      <td>-3.3592</td>\n",
       "      <td>1.4311</td>\n",
       "      <td>2.8375</td>\n",
       "      <td>1058.70</td>\n",
       "      <td>...</td>\n",
       "      <td>997.59</td>\n",
       "      <td>998.30</td>\n",
       "      <td>977.70</td>\n",
       "      <td>980.54</td>\n",
       "      <td>983.482739</td>\n",
       "      <td>577392.33</td>\n",
       "      <td>-1.3581</td>\n",
       "      <td>0.5870</td>\n",
       "      <td>1.1638</td>\n",
       "      <td>-0.021739</td>\n",
       "    </tr>\n",
       "    <tr>\n",
       "      <th>2015-02-27 09:30:00</th>\n",
       "      <th>1</th>\n",
       "      <td>1058.70</td>\n",
       "      <td>1127.62</td>\n",
       "      <td>1045.20</td>\n",
       "      <td>1071.49</td>\n",
       "      <td>1086.375607</td>\n",
       "      <td>2508500.23</td>\n",
       "      <td>0.8021</td>\n",
       "      <td>2.5501</td>\n",
       "      <td>5.0564</td>\n",
       "      <td>1056.57</td>\n",
       "      <td>...</td>\n",
       "      <td>980.54</td>\n",
       "      <td>1000.44</td>\n",
       "      <td>966.33</td>\n",
       "      <td>999.73</td>\n",
       "      <td>986.644628</td>\n",
       "      <td>1025544.24</td>\n",
       "      <td>1.9565</td>\n",
       "      <td>1.0426</td>\n",
       "      <td>2.0672</td>\n",
       "      <td>-0.049075</td>\n",
       "    </tr>\n",
       "    <tr>\n",
       "      <th>...</th>\n",
       "      <th>...</th>\n",
       "      <td>...</td>\n",
       "      <td>...</td>\n",
       "      <td>...</td>\n",
       "      <td>...</td>\n",
       "      <td>...</td>\n",
       "      <td>...</td>\n",
       "      <td>...</td>\n",
       "      <td>...</td>\n",
       "      <td>...</td>\n",
       "      <td>...</td>\n",
       "      <td>...</td>\n",
       "      <td>...</td>\n",
       "      <td>...</td>\n",
       "      <td>...</td>\n",
       "      <td>...</td>\n",
       "      <td>...</td>\n",
       "      <td>...</td>\n",
       "      <td>...</td>\n",
       "      <td>...</td>\n",
       "      <td>...</td>\n",
       "      <td>...</td>\n",
       "    </tr>\n",
       "    <tr>\n",
       "      <th>2021-06-30 09:30:00</th>\n",
       "      <th>605339</th>\n",
       "      <td>20.38</td>\n",
       "      <td>24.45</td>\n",
       "      <td>20.38</td>\n",
       "      <td>24.45</td>\n",
       "      <td>24.423600</td>\n",
       "      <td>4472.57</td>\n",
       "      <td>43.9929</td>\n",
       "      <td>0.7040</td>\n",
       "      <td>0.7040</td>\n",
       "      <td>26.90</td>\n",
       "      <td>...</td>\n",
       "      <td>44.75</td>\n",
       "      <td>45.44</td>\n",
       "      <td>44.10</td>\n",
       "      <td>44.99</td>\n",
       "      <td>44.862500</td>\n",
       "      <td>43863.72</td>\n",
       "      <td>0.6938</td>\n",
       "      <td>6.9045</td>\n",
       "      <td>6.9045</td>\n",
       "      <td>-0.075876</td>\n",
       "    </tr>\n",
       "    <tr>\n",
       "      <th>2021-07-01 09:30:00</th>\n",
       "      <th>605339</th>\n",
       "      <td>26.90</td>\n",
       "      <td>26.90</td>\n",
       "      <td>26.90</td>\n",
       "      <td>26.90</td>\n",
       "      <td>26.900000</td>\n",
       "      <td>1373.52</td>\n",
       "      <td>10.0204</td>\n",
       "      <td>0.2162</td>\n",
       "      <td>0.2162</td>\n",
       "      <td>29.59</td>\n",
       "      <td>...</td>\n",
       "      <td>44.81</td>\n",
       "      <td>44.88</td>\n",
       "      <td>42.70</td>\n",
       "      <td>43.18</td>\n",
       "      <td>43.469700</td>\n",
       "      <td>72397.12</td>\n",
       "      <td>-4.0231</td>\n",
       "      <td>11.3958</td>\n",
       "      <td>11.3958</td>\n",
       "      <td>-0.043207</td>\n",
       "    </tr>\n",
       "    <tr>\n",
       "      <th>2021-06-30 09:30:00</th>\n",
       "      <th>688314</th>\n",
       "      <td>100.20</td>\n",
       "      <td>105.00</td>\n",
       "      <td>86.78</td>\n",
       "      <td>92.05</td>\n",
       "      <td>92.899300</td>\n",
       "      <td>106963.24</td>\n",
       "      <td>430.8535</td>\n",
       "      <td>90.5821</td>\n",
       "      <td>90.5821</td>\n",
       "      <td>94.00</td>\n",
       "      <td>...</td>\n",
       "      <td>115.11</td>\n",
       "      <td>115.78</td>\n",
       "      <td>110.21</td>\n",
       "      <td>112.00</td>\n",
       "      <td>112.765600</td>\n",
       "      <td>6286.46</td>\n",
       "      <td>-4.1014</td>\n",
       "      <td>5.3237</td>\n",
       "      <td>5.3237</td>\n",
       "      <td>-0.081182</td>\n",
       "    </tr>\n",
       "    <tr>\n",
       "      <th rowspan=\"2\" valign=\"top\">2021-07-01 09:30:00</th>\n",
       "      <th>688314</th>\n",
       "      <td>94.00</td>\n",
       "      <td>106.12</td>\n",
       "      <td>83.00</td>\n",
       "      <td>102.50</td>\n",
       "      <td>92.323600</td>\n",
       "      <td>80295.81</td>\n",
       "      <td>11.3525</td>\n",
       "      <td>67.9987</td>\n",
       "      <td>67.9987</td>\n",
       "      <td>100.00</td>\n",
       "      <td>...</td>\n",
       "      <td>112.32</td>\n",
       "      <td>112.32</td>\n",
       "      <td>103.50</td>\n",
       "      <td>105.64</td>\n",
       "      <td>107.011300</td>\n",
       "      <td>9925.98</td>\n",
       "      <td>-5.6786</td>\n",
       "      <td>8.4058</td>\n",
       "      <td>8.4058</td>\n",
       "      <td>0.043254</td>\n",
       "    </tr>\n",
       "    <tr>\n",
       "      <th>688660</th>\n",
       "      <td>11.01</td>\n",
       "      <td>13.00</td>\n",
       "      <td>11.00</td>\n",
       "      <td>11.75</td>\n",
       "      <td>11.599600</td>\n",
       "      <td>2536990.79</td>\n",
       "      <td>115.9926</td>\n",
       "      <td>69.6561</td>\n",
       "      <td>69.6561</td>\n",
       "      <td>11.25</td>\n",
       "      <td>...</td>\n",
       "      <td>8.78</td>\n",
       "      <td>8.89</td>\n",
       "      <td>8.77</td>\n",
       "      <td>8.80</td>\n",
       "      <td>8.809300</td>\n",
       "      <td>126261.24</td>\n",
       "      <td>0.2278</td>\n",
       "      <td>3.4667</td>\n",
       "      <td>3.4667</td>\n",
       "      <td>0.030717</td>\n",
       "    </tr>\n",
       "  </tbody>\n",
       "</table>\n",
       "<p>5230286 rows × 271 columns</p>\n",
       "</div>"
      ],
      "text/plain": [
       "                               open     high      low    close         vwap  \\\n",
       "timestamp           ticker                                                    \n",
       "2015-02-16 09:30:00 1       1136.15  1156.75  1108.44  1138.28  1134.052643   \n",
       "2015-02-17 09:30:00 1       1126.20  1164.57  1104.89  1121.23  1132.652885   \n",
       "2015-02-25 09:30:00 1       1105.60  1124.78  1087.12  1099.91  1101.168988   \n",
       "2015-02-26 09:30:00 1       1101.33  1106.31  1058.70  1062.96  1074.097527   \n",
       "2015-02-27 09:30:00 1       1058.70  1127.62  1045.20  1071.49  1086.375607   \n",
       "...                             ...      ...      ...      ...          ...   \n",
       "2021-06-30 09:30:00 605339    20.38    24.45    20.38    24.45    24.423600   \n",
       "2021-07-01 09:30:00 605339    26.90    26.90    26.90    26.90    26.900000   \n",
       "2021-06-30 09:30:00 688314   100.20   105.00    86.78    92.05    92.899300   \n",
       "2021-07-01 09:30:00 688314    94.00   106.12    83.00   102.50    92.323600   \n",
       "                    688660    11.01    13.00    11.00    11.75    11.599600   \n",
       "\n",
       "                                volume   pct_chg  turnover  free_turnover  \\\n",
       "timestamp           ticker                                                  \n",
       "2015-02-16 09:30:00 1       2860436.43    1.1364    2.9079         5.7657   \n",
       "2015-02-17 09:30:00 1       2166421.40   -1.4981    2.2024         4.3668   \n",
       "2015-02-25 09:30:00 1       1700120.67   -1.9011    1.7283         3.4269   \n",
       "2015-02-26 09:30:00 1       1407714.21   -3.3592    1.4311         2.8375   \n",
       "2015-02-27 09:30:00 1       2508500.23    0.8021    2.5501         5.0564   \n",
       "...                                ...       ...       ...            ...   \n",
       "2021-06-30 09:30:00 605339     4472.57   43.9929    0.7040         0.7040   \n",
       "2021-07-01 09:30:00 605339     1373.52   10.0204    0.2162         0.2162   \n",
       "2021-06-30 09:30:00 688314   106963.24  430.8535   90.5821        90.5821   \n",
       "2021-07-01 09:30:00 688314    80295.81   11.3525   67.9987        67.9987   \n",
       "                    688660  2536990.79  115.9926   69.6561        69.6561   \n",
       "\n",
       "                               open  ...    open     high     low   close  \\\n",
       "timestamp           ticker           ...                                    \n",
       "2015-02-16 09:30:00 1       1126.20  ...  989.78  1007.54  983.38  991.20   \n",
       "2015-02-17 09:30:00 1       1105.60  ...  991.20   995.46  975.57  989.07   \n",
       "2015-02-25 09:30:00 1       1101.33  ...  991.91  1002.57  989.78  994.04   \n",
       "2015-02-26 09:30:00 1       1058.70  ...  997.59   998.30  977.70  980.54   \n",
       "2015-02-27 09:30:00 1       1056.57  ...  980.54  1000.44  966.33  999.73   \n",
       "...                             ...  ...     ...      ...     ...     ...   \n",
       "2021-06-30 09:30:00 605339    26.90  ...   44.75    45.44   44.10   44.99   \n",
       "2021-07-01 09:30:00 605339    29.59  ...   44.81    44.88   42.70   43.18   \n",
       "2021-06-30 09:30:00 688314    94.00  ...  115.11   115.78  110.21  112.00   \n",
       "2021-07-01 09:30:00 688314   100.00  ...  112.32   112.32  103.50  105.64   \n",
       "                    688660    11.25  ...    8.78     8.89    8.77    8.80   \n",
       "\n",
       "                                  vwap      volume  pct_chg  turnover  \\\n",
       "timestamp           ticker                                              \n",
       "2015-02-16 09:30:00 1       996.094771   887743.10   0.6494    0.9025   \n",
       "2015-02-17 09:30:00 1       985.109868   721202.39  -0.2151    0.7332   \n",
       "2015-02-25 09:30:00 1       996.570831   680491.59   0.5029    0.6918   \n",
       "2015-02-26 09:30:00 1       983.482739   577392.33  -1.3581    0.5870   \n",
       "2015-02-27 09:30:00 1       986.644628  1025544.24   1.9565    1.0426   \n",
       "...                                ...         ...      ...       ...   \n",
       "2021-06-30 09:30:00 605339   44.862500    43863.72   0.6938    6.9045   \n",
       "2021-07-01 09:30:00 605339   43.469700    72397.12  -4.0231   11.3958   \n",
       "2021-06-30 09:30:00 688314  112.765600     6286.46  -4.1014    5.3237   \n",
       "2021-07-01 09:30:00 688314  107.011300     9925.98  -5.6786    8.4058   \n",
       "                    688660    8.809300   126261.24   0.2278    3.4667   \n",
       "\n",
       "                            free_turnover    5d_ret  \n",
       "timestamp           ticker                           \n",
       "2015-02-16 09:30:00 1              1.7894  0.005735  \n",
       "2015-02-17 09:30:00 1              1.4537  0.001433  \n",
       "2015-02-25 09:30:00 1              1.3717 -0.029915  \n",
       "2015-02-26 09:30:00 1              1.1638 -0.021739  \n",
       "2015-02-27 09:30:00 1              2.0672 -0.049075  \n",
       "...                                   ...       ...  \n",
       "2021-06-30 09:30:00 605339         6.9045 -0.075876  \n",
       "2021-07-01 09:30:00 605339        11.3958 -0.043207  \n",
       "2021-06-30 09:30:00 688314         5.3237 -0.081182  \n",
       "2021-07-01 09:30:00 688314         8.4058  0.043254  \n",
       "                    688660         3.4667  0.030717  \n",
       "\n",
       "[5230286 rows x 271 columns]"
      ]
     },
     "execution_count": 13,
     "metadata": {},
     "output_type": "execute_result"
    }
   ],
   "source": [
    "from multiprocessing import Pool\n",
    "import multiprocessing as mp\n",
    "import time\n",
    "if __name__==\"__main__\":\n",
    "    num_cores = int(mp.cpu_count())\n",
    "    pool = mp.Pool(num_cores)\n",
    "    result = {}\n",
    "    t1 = time.time()\n",
    "    for ticker in tqdm(df['ticker'].drop_duplicates()):\n",
    "        result[ticker] = (pool.apply_async(test, args=(ticker,)))   #维持执行的进程总数为10，当一个进程执行完后启动一个新进程.\n",
    "    pool.close()\n",
    "    pool.join()\n",
    "    t2 = time.time()\n",
    "    print(\"并行执行时间：\", int(t2 - t1))\n",
    "    df_list = []\n",
    "    for i in tqdm(result):\n",
    "        df_list.append(result[i].get())\n",
    "    final_df = pd.concat(df_list)\n",
    "final_df"
   ]
  },
  {
   "cell_type": "code",
   "execution_count": 14,
   "id": "07d1ae18",
   "metadata": {
    "ExecuteTime": {
     "end_time": "2021-12-15T05:50:52.986402Z",
     "start_time": "2021-12-15T05:50:49.775960Z"
    }
   },
   "outputs": [
    {
     "data": {
      "text/html": [
       "<div>\n",
       "<style scoped>\n",
       "    .dataframe tbody tr th:only-of-type {\n",
       "        vertical-align: middle;\n",
       "    }\n",
       "\n",
       "    .dataframe tbody tr th {\n",
       "        vertical-align: top;\n",
       "    }\n",
       "\n",
       "    .dataframe thead th {\n",
       "        text-align: right;\n",
       "    }\n",
       "</style>\n",
       "<table border=\"1\" class=\"dataframe\">\n",
       "  <thead>\n",
       "    <tr style=\"text-align: right;\">\n",
       "      <th></th>\n",
       "      <th>timestamp</th>\n",
       "      <th>ticker</th>\n",
       "      <th>0</th>\n",
       "      <th>1</th>\n",
       "      <th>2</th>\n",
       "      <th>3</th>\n",
       "      <th>4</th>\n",
       "      <th>5</th>\n",
       "      <th>6</th>\n",
       "      <th>7</th>\n",
       "      <th>...</th>\n",
       "      <th>261</th>\n",
       "      <th>262</th>\n",
       "      <th>263</th>\n",
       "      <th>264</th>\n",
       "      <th>265</th>\n",
       "      <th>266</th>\n",
       "      <th>267</th>\n",
       "      <th>268</th>\n",
       "      <th>269</th>\n",
       "      <th>target</th>\n",
       "    </tr>\n",
       "  </thead>\n",
       "  <tbody>\n",
       "    <tr>\n",
       "      <th>0</th>\n",
       "      <td>2015-02-16 09:30:00</td>\n",
       "      <td>1</td>\n",
       "      <td>1136.15</td>\n",
       "      <td>1156.75</td>\n",
       "      <td>1108.44</td>\n",
       "      <td>1138.28</td>\n",
       "      <td>1134.052643</td>\n",
       "      <td>2860436.43</td>\n",
       "      <td>1.1364</td>\n",
       "      <td>2.9079</td>\n",
       "      <td>...</td>\n",
       "      <td>989.78</td>\n",
       "      <td>1007.54</td>\n",
       "      <td>983.38</td>\n",
       "      <td>991.20</td>\n",
       "      <td>996.094771</td>\n",
       "      <td>887743.10</td>\n",
       "      <td>0.6494</td>\n",
       "      <td>0.9025</td>\n",
       "      <td>1.7894</td>\n",
       "      <td>0.005735</td>\n",
       "    </tr>\n",
       "    <tr>\n",
       "      <th>1</th>\n",
       "      <td>2015-02-17 09:30:00</td>\n",
       "      <td>1</td>\n",
       "      <td>1126.20</td>\n",
       "      <td>1164.57</td>\n",
       "      <td>1104.89</td>\n",
       "      <td>1121.23</td>\n",
       "      <td>1132.652885</td>\n",
       "      <td>2166421.40</td>\n",
       "      <td>-1.4981</td>\n",
       "      <td>2.2024</td>\n",
       "      <td>...</td>\n",
       "      <td>991.20</td>\n",
       "      <td>995.46</td>\n",
       "      <td>975.57</td>\n",
       "      <td>989.07</td>\n",
       "      <td>985.109868</td>\n",
       "      <td>721202.39</td>\n",
       "      <td>-0.2151</td>\n",
       "      <td>0.7332</td>\n",
       "      <td>1.4537</td>\n",
       "      <td>0.001433</td>\n",
       "    </tr>\n",
       "    <tr>\n",
       "      <th>2</th>\n",
       "      <td>2015-02-25 09:30:00</td>\n",
       "      <td>1</td>\n",
       "      <td>1105.60</td>\n",
       "      <td>1124.78</td>\n",
       "      <td>1087.12</td>\n",
       "      <td>1099.91</td>\n",
       "      <td>1101.168988</td>\n",
       "      <td>1700120.67</td>\n",
       "      <td>-1.9011</td>\n",
       "      <td>1.7283</td>\n",
       "      <td>...</td>\n",
       "      <td>991.91</td>\n",
       "      <td>1002.57</td>\n",
       "      <td>989.78</td>\n",
       "      <td>994.04</td>\n",
       "      <td>996.570831</td>\n",
       "      <td>680491.59</td>\n",
       "      <td>0.5029</td>\n",
       "      <td>0.6918</td>\n",
       "      <td>1.3717</td>\n",
       "      <td>-0.029915</td>\n",
       "    </tr>\n",
       "    <tr>\n",
       "      <th>3</th>\n",
       "      <td>2015-02-26 09:30:00</td>\n",
       "      <td>1</td>\n",
       "      <td>1101.33</td>\n",
       "      <td>1106.31</td>\n",
       "      <td>1058.70</td>\n",
       "      <td>1062.96</td>\n",
       "      <td>1074.097527</td>\n",
       "      <td>1407714.21</td>\n",
       "      <td>-3.3592</td>\n",
       "      <td>1.4311</td>\n",
       "      <td>...</td>\n",
       "      <td>997.59</td>\n",
       "      <td>998.30</td>\n",
       "      <td>977.70</td>\n",
       "      <td>980.54</td>\n",
       "      <td>983.482739</td>\n",
       "      <td>577392.33</td>\n",
       "      <td>-1.3581</td>\n",
       "      <td>0.5870</td>\n",
       "      <td>1.1638</td>\n",
       "      <td>-0.021739</td>\n",
       "    </tr>\n",
       "    <tr>\n",
       "      <th>4</th>\n",
       "      <td>2015-02-27 09:30:00</td>\n",
       "      <td>1</td>\n",
       "      <td>1058.70</td>\n",
       "      <td>1127.62</td>\n",
       "      <td>1045.20</td>\n",
       "      <td>1071.49</td>\n",
       "      <td>1086.375607</td>\n",
       "      <td>2508500.23</td>\n",
       "      <td>0.8021</td>\n",
       "      <td>2.5501</td>\n",
       "      <td>...</td>\n",
       "      <td>980.54</td>\n",
       "      <td>1000.44</td>\n",
       "      <td>966.33</td>\n",
       "      <td>999.73</td>\n",
       "      <td>986.644628</td>\n",
       "      <td>1025544.24</td>\n",
       "      <td>1.9565</td>\n",
       "      <td>1.0426</td>\n",
       "      <td>2.0672</td>\n",
       "      <td>-0.049075</td>\n",
       "    </tr>\n",
       "    <tr>\n",
       "      <th>...</th>\n",
       "      <td>...</td>\n",
       "      <td>...</td>\n",
       "      <td>...</td>\n",
       "      <td>...</td>\n",
       "      <td>...</td>\n",
       "      <td>...</td>\n",
       "      <td>...</td>\n",
       "      <td>...</td>\n",
       "      <td>...</td>\n",
       "      <td>...</td>\n",
       "      <td>...</td>\n",
       "      <td>...</td>\n",
       "      <td>...</td>\n",
       "      <td>...</td>\n",
       "      <td>...</td>\n",
       "      <td>...</td>\n",
       "      <td>...</td>\n",
       "      <td>...</td>\n",
       "      <td>...</td>\n",
       "      <td>...</td>\n",
       "      <td>...</td>\n",
       "    </tr>\n",
       "    <tr>\n",
       "      <th>5230281</th>\n",
       "      <td>2021-06-30 09:30:00</td>\n",
       "      <td>605339</td>\n",
       "      <td>20.38</td>\n",
       "      <td>24.45</td>\n",
       "      <td>20.38</td>\n",
       "      <td>24.45</td>\n",
       "      <td>24.423600</td>\n",
       "      <td>4472.57</td>\n",
       "      <td>43.9929</td>\n",
       "      <td>0.7040</td>\n",
       "      <td>...</td>\n",
       "      <td>44.75</td>\n",
       "      <td>45.44</td>\n",
       "      <td>44.10</td>\n",
       "      <td>44.99</td>\n",
       "      <td>44.862500</td>\n",
       "      <td>43863.72</td>\n",
       "      <td>0.6938</td>\n",
       "      <td>6.9045</td>\n",
       "      <td>6.9045</td>\n",
       "      <td>-0.075876</td>\n",
       "    </tr>\n",
       "    <tr>\n",
       "      <th>5230282</th>\n",
       "      <td>2021-07-01 09:30:00</td>\n",
       "      <td>605339</td>\n",
       "      <td>26.90</td>\n",
       "      <td>26.90</td>\n",
       "      <td>26.90</td>\n",
       "      <td>26.90</td>\n",
       "      <td>26.900000</td>\n",
       "      <td>1373.52</td>\n",
       "      <td>10.0204</td>\n",
       "      <td>0.2162</td>\n",
       "      <td>...</td>\n",
       "      <td>44.81</td>\n",
       "      <td>44.88</td>\n",
       "      <td>42.70</td>\n",
       "      <td>43.18</td>\n",
       "      <td>43.469700</td>\n",
       "      <td>72397.12</td>\n",
       "      <td>-4.0231</td>\n",
       "      <td>11.3958</td>\n",
       "      <td>11.3958</td>\n",
       "      <td>-0.043207</td>\n",
       "    </tr>\n",
       "    <tr>\n",
       "      <th>5230283</th>\n",
       "      <td>2021-06-30 09:30:00</td>\n",
       "      <td>688314</td>\n",
       "      <td>100.20</td>\n",
       "      <td>105.00</td>\n",
       "      <td>86.78</td>\n",
       "      <td>92.05</td>\n",
       "      <td>92.899300</td>\n",
       "      <td>106963.24</td>\n",
       "      <td>430.8535</td>\n",
       "      <td>90.5821</td>\n",
       "      <td>...</td>\n",
       "      <td>115.11</td>\n",
       "      <td>115.78</td>\n",
       "      <td>110.21</td>\n",
       "      <td>112.00</td>\n",
       "      <td>112.765600</td>\n",
       "      <td>6286.46</td>\n",
       "      <td>-4.1014</td>\n",
       "      <td>5.3237</td>\n",
       "      <td>5.3237</td>\n",
       "      <td>-0.081182</td>\n",
       "    </tr>\n",
       "    <tr>\n",
       "      <th>5230284</th>\n",
       "      <td>2021-07-01 09:30:00</td>\n",
       "      <td>688314</td>\n",
       "      <td>94.00</td>\n",
       "      <td>106.12</td>\n",
       "      <td>83.00</td>\n",
       "      <td>102.50</td>\n",
       "      <td>92.323600</td>\n",
       "      <td>80295.81</td>\n",
       "      <td>11.3525</td>\n",
       "      <td>67.9987</td>\n",
       "      <td>...</td>\n",
       "      <td>112.32</td>\n",
       "      <td>112.32</td>\n",
       "      <td>103.50</td>\n",
       "      <td>105.64</td>\n",
       "      <td>107.011300</td>\n",
       "      <td>9925.98</td>\n",
       "      <td>-5.6786</td>\n",
       "      <td>8.4058</td>\n",
       "      <td>8.4058</td>\n",
       "      <td>0.043254</td>\n",
       "    </tr>\n",
       "    <tr>\n",
       "      <th>5230285</th>\n",
       "      <td>2021-07-01 09:30:00</td>\n",
       "      <td>688660</td>\n",
       "      <td>11.01</td>\n",
       "      <td>13.00</td>\n",
       "      <td>11.00</td>\n",
       "      <td>11.75</td>\n",
       "      <td>11.599600</td>\n",
       "      <td>2536990.79</td>\n",
       "      <td>115.9926</td>\n",
       "      <td>69.6561</td>\n",
       "      <td>...</td>\n",
       "      <td>8.78</td>\n",
       "      <td>8.89</td>\n",
       "      <td>8.77</td>\n",
       "      <td>8.80</td>\n",
       "      <td>8.809300</td>\n",
       "      <td>126261.24</td>\n",
       "      <td>0.2278</td>\n",
       "      <td>3.4667</td>\n",
       "      <td>3.4667</td>\n",
       "      <td>0.030717</td>\n",
       "    </tr>\n",
       "  </tbody>\n",
       "</table>\n",
       "<p>5230286 rows × 273 columns</p>\n",
       "</div>"
      ],
      "text/plain": [
       "                  timestamp  ticker        0        1        2        3  \\\n",
       "0       2015-02-16 09:30:00       1  1136.15  1156.75  1108.44  1138.28   \n",
       "1       2015-02-17 09:30:00       1  1126.20  1164.57  1104.89  1121.23   \n",
       "2       2015-02-25 09:30:00       1  1105.60  1124.78  1087.12  1099.91   \n",
       "3       2015-02-26 09:30:00       1  1101.33  1106.31  1058.70  1062.96   \n",
       "4       2015-02-27 09:30:00       1  1058.70  1127.62  1045.20  1071.49   \n",
       "...                     ...     ...      ...      ...      ...      ...   \n",
       "5230281 2021-06-30 09:30:00  605339    20.38    24.45    20.38    24.45   \n",
       "5230282 2021-07-01 09:30:00  605339    26.90    26.90    26.90    26.90   \n",
       "5230283 2021-06-30 09:30:00  688314   100.20   105.00    86.78    92.05   \n",
       "5230284 2021-07-01 09:30:00  688314    94.00   106.12    83.00   102.50   \n",
       "5230285 2021-07-01 09:30:00  688660    11.01    13.00    11.00    11.75   \n",
       "\n",
       "                   4           5         6        7  ...     261      262  \\\n",
       "0        1134.052643  2860436.43    1.1364   2.9079  ...  989.78  1007.54   \n",
       "1        1132.652885  2166421.40   -1.4981   2.2024  ...  991.20   995.46   \n",
       "2        1101.168988  1700120.67   -1.9011   1.7283  ...  991.91  1002.57   \n",
       "3        1074.097527  1407714.21   -3.3592   1.4311  ...  997.59   998.30   \n",
       "4        1086.375607  2508500.23    0.8021   2.5501  ...  980.54  1000.44   \n",
       "...              ...         ...       ...      ...  ...     ...      ...   \n",
       "5230281    24.423600     4472.57   43.9929   0.7040  ...   44.75    45.44   \n",
       "5230282    26.900000     1373.52   10.0204   0.2162  ...   44.81    44.88   \n",
       "5230283    92.899300   106963.24  430.8535  90.5821  ...  115.11   115.78   \n",
       "5230284    92.323600    80295.81   11.3525  67.9987  ...  112.32   112.32   \n",
       "5230285    11.599600  2536990.79  115.9926  69.6561  ...    8.78     8.89   \n",
       "\n",
       "            263     264         265         266     267      268      269  \\\n",
       "0        983.38  991.20  996.094771   887743.10  0.6494   0.9025   1.7894   \n",
       "1        975.57  989.07  985.109868   721202.39 -0.2151   0.7332   1.4537   \n",
       "2        989.78  994.04  996.570831   680491.59  0.5029   0.6918   1.3717   \n",
       "3        977.70  980.54  983.482739   577392.33 -1.3581   0.5870   1.1638   \n",
       "4        966.33  999.73  986.644628  1025544.24  1.9565   1.0426   2.0672   \n",
       "...         ...     ...         ...         ...     ...      ...      ...   \n",
       "5230281   44.10   44.99   44.862500    43863.72  0.6938   6.9045   6.9045   \n",
       "5230282   42.70   43.18   43.469700    72397.12 -4.0231  11.3958  11.3958   \n",
       "5230283  110.21  112.00  112.765600     6286.46 -4.1014   5.3237   5.3237   \n",
       "5230284  103.50  105.64  107.011300     9925.98 -5.6786   8.4058   8.4058   \n",
       "5230285    8.77    8.80    8.809300   126261.24  0.2278   3.4667   3.4667   \n",
       "\n",
       "           target  \n",
       "0        0.005735  \n",
       "1        0.001433  \n",
       "2       -0.029915  \n",
       "3       -0.021739  \n",
       "4       -0.049075  \n",
       "...           ...  \n",
       "5230281 -0.075876  \n",
       "5230282 -0.043207  \n",
       "5230283 -0.081182  \n",
       "5230284  0.043254  \n",
       "5230285  0.030717  \n",
       "\n",
       "[5230286 rows x 273 columns]"
      ]
     },
     "execution_count": 14,
     "metadata": {},
     "output_type": "execute_result"
    }
   ],
   "source": [
    "final_df.columns = [str(i) for i in range(final_df.shape[1])]\n",
    "final_df.rename(columns={str(final_df.shape[1] - 1):'target'}, inplace=True)\n",
    "final_df.reset_index(inplace=True)\n",
    "final_df['timestamp'] = pd.to_datetime(final_df['timestamp'])\n",
    "final_df"
   ]
  },
  {
   "cell_type": "code",
   "execution_count": 15,
   "id": "82b24ffd",
   "metadata": {
    "ExecuteTime": {
     "end_time": "2021-12-15T05:51:18.799354Z",
     "start_time": "2021-12-15T05:50:52.987583Z"
    }
   },
   "outputs": [
    {
     "name": "stderr",
     "output_type": "stream",
     "text": [
      "100%|██████████| 26/26 [00:00<00:00, 1782.48it/s]\n"
     ]
    },
    {
     "name": "stdout",
     "output_type": "stream",
     "text": [
      "Save to  /home/wuwenjun/Data/AlphaNet_Original_Input_12.14/Data/2015-01-01_2015-03-01.par\n",
      "Save to  /home/wuwenjun/Data/AlphaNet_Original_Input_12.14/Data/2017-01-01_2017-03-01.par\n",
      "Save to  /home/wuwenjun/Data/AlphaNet_Original_Input_12.14/Data/2019-01-01_2019-03-01.par\n",
      "Save to  /home/wuwenjun/Data/AlphaNet_Original_Input_12.14/Data/2016-01-01_2016-03-01.par\n",
      "Save to  /home/wuwenjun/Data/AlphaNet_Original_Input_12.14/Data/2018-01-01_2018-03-01.par\n",
      "Save to  /home/wuwenjun/Data/AlphaNet_Original_Input_12.14/Data/2015-06-01_2015-09-01.par\n",
      "Save to  /home/wuwenjun/Data/AlphaNet_Original_Input_12.14/Data/2017-06-01_2017-09-01.par\n",
      "Save to  /home/wuwenjun/Data/AlphaNet_Original_Input_12.14/Data/2019-06-01_2019-09-01.par\n",
      "Save to  /home/wuwenjun/Data/AlphaNet_Original_Input_12.14/Data/2016-06-01_2016-09-01.par\n",
      "Save to  /home/wuwenjun/Data/AlphaNet_Original_Input_12.14/Data/2015-03-01_2015-06-01.par\n",
      "Save to  /home/wuwenjun/Data/AlphaNet_Original_Input_12.14/Data/2017-03-01_2017-06-01.par\n",
      "Save to  /home/wuwenjun/Data/AlphaNet_Original_Input_12.14/Data/2015-09-01_2016-01-01.par\n",
      "Save to  /home/wuwenjun/Data/AlphaNet_Original_Input_12.14/Data/2016-03-01_2016-06-01.par\n",
      "Save to  /home/wuwenjun/Data/AlphaNet_Original_Input_12.14/Data/2019-03-01_2019-06-01.par\n",
      "Save to  /home/wuwenjun/Data/AlphaNet_Original_Input_12.14/Data/2019-09-01_2020-01-01.par\n",
      "Save to  /home/wuwenjun/Data/AlphaNet_Original_Input_12.14/Data/2016-09-01_2017-01-01.par\n",
      "Save to  /home/wuwenjun/Data/AlphaNet_Original_Input_12.14/Data/2018-03-01_2018-06-01.par\n",
      "Save to  /home/wuwenjun/Data/AlphaNet_Original_Input_12.14/Data/2018-06-01_2018-09-01.par\n",
      "Save to  /home/wuwenjun/Data/AlphaNet_Original_Input_12.14/Data/2020-01-01_2020-03-01.par\n",
      "Save to  /home/wuwenjun/Data/AlphaNet_Original_Input_12.14/Data/2018-09-01_2019-01-01.par\n",
      "Save to  /home/wuwenjun/Data/AlphaNet_Original_Input_12.14/Data/2017-09-01_2018-01-01.par\n",
      "Save to  /home/wuwenjun/Data/AlphaNet_Original_Input_12.14/Data/2020-06-01_2020-09-01.par\n",
      "Save to  /home/wuwenjun/Data/AlphaNet_Original_Input_12.14/Data/2021-01-01_2021-03-01.par\n",
      "Save to  /home/wuwenjun/Data/AlphaNet_Original_Input_12.14/Data/2020-03-01_2020-06-01.par\n",
      "Save to  /home/wuwenjun/Data/AlphaNet_Original_Input_12.14/Data/2021-03-01_2021-06-01.par\n",
      "Save to  /home/wuwenjun/Data/AlphaNet_Original_Input_12.14/Data/2020-09-01_2021-01-01.par\n",
      "并行执行时间： 15\n"
     ]
    }
   ],
   "source": [
    "import datetime\n",
    "from datetime import timedelta\n",
    "from dateutil.relativedelta import relativedelta\n",
    "time_list = [20150101,20150301,20150601,20150901,\n",
    "             20160101,20160301,20160601,20160901,\n",
    "             20170101,20170301,20170601,20170901,\n",
    "             20180101,20180301,20180601,20180901,\n",
    "             20190101,20190301,20190601,20190901,\n",
    "             20200101,20200301,20200601,20200901,\n",
    "             20210101,20210301,20210601]\n",
    "\n",
    "def save(start_time,end_time):\n",
    "    final_df[\n",
    "        (final_df['timestamp'] >= start_time) & \n",
    "        (final_df['timestamp'] < end_time)].to_parquet(\n",
    "        path + \"Data/\" + datetime.datetime.strptime(str(start_time), '%Y-%m-%d %H:%M:%S').strftime('%Y-%m-%d') + \"_\" +\n",
    "                      datetime.datetime.strptime(str(end_time), '%Y-%m-%d %H:%M:%S').strftime('%Y-%m-%d') + \".par\"\n",
    "    )\n",
    "    print(\"Save to \",path + \"Data/\" + datetime.datetime.strptime(str(start_time), '%Y-%m-%d %H:%M:%S').strftime('%Y-%m-%d') + \"_\" +\n",
    "                      datetime.datetime.strptime(str(end_time), '%Y-%m-%d %H:%M:%S').strftime('%Y-%m-%d') + \".par\")\n",
    "    return None\n",
    "\n",
    "pool = mp.Pool(20)\n",
    "t1 = time.time()\n",
    "for i in tqdm(range(len(time_list)-1)):\n",
    "    start_time = pd.to_datetime(str(time_list[i]))\n",
    "    end_time = pd.to_datetime(str(time_list[i+1]))\n",
    "    pool.apply_async(save, args=(start_time,end_time))  #维持执行的进程总数为10，当一个进程执行完后启动一个新进程.\n",
    "pool.close()\n",
    "pool.join()\n",
    "t2 = time.time()\n",
    "print(\"并行执行时间：\", int(t2 - t1))"
   ]
  },
  {
   "cell_type": "markdown",
   "id": "88557dca",
   "metadata": {},
   "source": [
    "# Get Factor"
   ]
  },
  {
   "cell_type": "code",
   "execution_count": 31,
   "id": "2c79cc98",
   "metadata": {
    "ExecuteTime": {
     "end_time": "2021-12-15T07:08:10.623608Z",
     "start_time": "2021-12-15T07:08:10.609950Z"
    }
   },
   "outputs": [],
   "source": [
    "day = 30\n",
    "stride = 10\n",
    "def generateC(l1):\n",
    "    if len(l1) == 1:\n",
    "        return []\n",
    "    v = [[l1[0], i] for i in l1[1:]]\n",
    "    l1 = l1[1:]\n",
    "    return v + generateC(l1)\n",
    "\n",
    "def generate_Num_and_ReversedNum(feat_nums):\n",
    "    list1 = list(range(feat_nums))\n",
    "    num = generateC(list1)\n",
    "    num_rev = []\n",
    "    for l in num:\n",
    "        l1 = l.copy()\n",
    "        l1.reverse()\n",
    "        num_rev.append(l1)\n",
    "    return num, num_rev\n",
    "\n",
    "def generate_Step_List(data_length, stride):\n",
    "    if data_length % stride == 0:\n",
    "        step_list = list(range(0, data_length + stride, stride))\n",
    "    elif data_length % stride <= 5:\n",
    "        mod = data_length % stride\n",
    "        step_list = list(range(0, data_length - stride, stride)) + [data_length]\n",
    "    else:\n",
    "        mod = data_length % stride\n",
    "        step_list = list(range(0, data_length + stride - mod, stride)) + [data_length]\n",
    "    return step_list"
   ]
  },
  {
   "cell_type": "code",
   "execution_count": 32,
   "id": "36d56f8f",
   "metadata": {
    "ExecuteTime": {
     "end_time": "2021-12-15T07:08:11.199282Z",
     "start_time": "2021-12-15T07:08:11.185210Z"
    }
   },
   "outputs": [
    {
     "name": "stderr",
     "output_type": "stream",
     "text": [
      "100%|██████████| 26/26 [00:00<00:00, 225313.85it/s]\n"
     ]
    },
    {
     "data": {
      "text/plain": [
       "['2015-01-01_2015-03-01.par',\n",
       " '2015-03-01_2015-06-01.par',\n",
       " '2016-01-01_2016-03-01.par',\n",
       " '2017-01-01_2017-03-01.par',\n",
       " '2015-06-01_2015-09-01.par',\n",
       " '2018-01-01_2018-03-01.par',\n",
       " '2016-03-01_2016-06-01.par',\n",
       " '2021-01-01_2021-03-01.par',\n",
       " '2016-06-01_2016-09-01.par',\n",
       " '2015-09-01_2016-01-01.par',\n",
       " '2020-01-01_2020-03-01.par',\n",
       " '2019-01-01_2019-03-01.par',\n",
       " '2017-03-01_2017-06-01.par',\n",
       " '2021-03-01_2021-06-01.par',\n",
       " '2018-03-01_2018-06-01.par',\n",
       " '2018-06-01_2018-09-01.par',\n",
       " '2016-09-01_2017-01-01.par',\n",
       " '2017-06-01_2017-09-01.par',\n",
       " '2020-06-01_2020-09-01.par',\n",
       " '2020-03-01_2020-06-01.par',\n",
       " '2020-09-01_2021-01-01.par',\n",
       " '2019-06-01_2019-09-01.par',\n",
       " '2019-03-01_2019-06-01.par',\n",
       " '2017-09-01_2018-01-01.par',\n",
       " '2018-09-01_2019-01-01.par',\n",
       " '2019-09-01_2020-01-01.par']"
      ]
     },
     "execution_count": 32,
     "metadata": {},
     "output_type": "execute_result"
    }
   ],
   "source": [
    "path_list = []\n",
    "data_path = path + \"Data/\"\n",
    "dataframe_list = pd.DataFrame()\n",
    "for f, _, i in walk(data_path):\n",
    "    for j in tqdm(i):\n",
    "        path_list.append(j)\n",
    "path_list"
   ]
  },
  {
   "cell_type": "code",
   "execution_count": 35,
   "id": "72c8638b",
   "metadata": {
    "ExecuteTime": {
     "end_time": "2021-12-15T07:14:28.127254Z",
     "start_time": "2021-12-15T07:14:28.074457Z"
    }
   },
   "outputs": [],
   "source": [
    "# Read Data\n",
    "\n",
    "def cov(x,num,num_rev,step_list):\n",
    "    \"\"\"Main Function\"\"\"\n",
    "    l = []\n",
    "    for i in tqdm(range(len(step_list) - 1)):\n",
    "        start = step_list[i]\n",
    "        end = step_list[i + 1]\n",
    "        sub_data1 = x[:, :, num, start:end]\n",
    "        sub_data2 = x[:, :, num_rev, start:end]\n",
    "        mean1 = sub_data1.mean(axis=4, keepdims=True)  # (2000, 1, 36, 2, 1)\n",
    "        mean2 = sub_data2.mean(axis=4, keepdims=True)\n",
    "        spread1 = sub_data1 - mean1  # (2000, 1, 36, 2, 10)\n",
    "        spread2 = sub_data2 - mean2\n",
    "        cov = ((spread1 * spread2).sum(axis=4, keepdims=True) / (sub_data1.shape[4] - 1)).mean(axis=3,\n",
    "                                                                                                keepdims=True)  # (2000, 1, 36, 1, 1)\n",
    "        l.append(cov)\n",
    "    return np.squeeze(np.array(l)).transpose(1, 2, 0)\n",
    "\n",
    "def corr(x,num,num_rev,step_list):\n",
    "    \"\"\"Main Function\"\"\"\n",
    "    l = []\n",
    "    for i in tqdm(range(len(step_list) - 1)):\n",
    "        start = step_list[i]\n",
    "        end = step_list[i + 1]\n",
    "        sub_data1 = x[:, :, num, start:end]\n",
    "        sub_data2 = x[:, :, num_rev, start:end]\n",
    "        std1 = sub_data1.std(axis=4, keepdims=True)\n",
    "        std2 = sub_data2.std(axis=4, keepdims=True)\n",
    "        std = (std1 * std2).mean(axis=3, keepdims=True)\n",
    "        l.append(std)\n",
    "    l = np.squeeze(np.array(l)).transpose(1, 2, 0)\n",
    "    fct = (sub_data1.shape[4] - 1) / sub_data1.shape[4]\n",
    "    \n",
    "    # read cov\n",
    "    cov = pd.read_parquet(output_path.replace(\"Corr\",\"Cov\") + name)\n",
    "    cov = np.array(cov.set_index(['timestamp','ticker']))\n",
    "    cov = cov.reshape(l.shape)\n",
    "    # divide\n",
    "    l = np.divide(cov, l, out=np.zeros_like(cov, dtype=np.float64), where=l!=0) * fct\n",
    "    return l\n",
    "\n",
    "def std(x,num,num_rev,step_list):\n",
    "    \"\"\"Main Function\"\"\"\n",
    "    std = []\n",
    "    for i in tqdm(range(len(step_list) - 1)):\n",
    "        start = step_list[i]\n",
    "        end = step_list[i + 1]\n",
    "        sub_data1 = x[:, :, :, start:end]\n",
    "        std1 = sub_data1.std(axis=3, keepdims=True)\n",
    "        std.append(std1)\n",
    "    return np.squeeze(np.array(std)).transpose(1, 2, 0)\n",
    "\n",
    "def zscore(x,num,num_rev,step_list):\n",
    "    \"\"\"Main Function\"\"\"\n",
    "    l = []\n",
    "    for i in tqdm(range(len(step_list) - 1)):\n",
    "        start = step_list[i]\n",
    "        end = step_list[i + 1]\n",
    "        sub_data1 = x[:, :, :, start:end]\n",
    "        mean = sub_data1.mean(axis=3, keepdims=True)\n",
    "        std = sub_data1.std(axis=3, keepdims=True)\n",
    "        z_score = np.divide(mean, std, out=np.zeros_like(mean, dtype=np.float64), where=std!=0)\n",
    "        l.append(z_score)\n",
    "    return np.squeeze(np.array(l)).transpose(1, 2, 0)\n",
    "\n",
    "def ret(x,num,num_rev,step_list):\n",
    "    \"\"\"Main Function\"\"\"\n",
    "    l = []\n",
    "    for i in tqdm(range(len(step_list) - 1)):\n",
    "        start = step_list[i]\n",
    "        end = step_list[i + 1]\n",
    "        sub_data1 = x[:, :, :, start:end]\n",
    "        ret = np.divide(sub_data1[:, :, :, -1], sub_data1[:, :, :, 0], out=sub_data1[:, :, :, -1], where=sub_data1[:, :, :, 0]!=0) - 1\n",
    "        l.append(ret)\n",
    "    return np.squeeze(np.array(l)).transpose(1, 2, 0)\n",
    "\n",
    "def decay(x,num,num_rev,step_list):\n",
    "    \"\"\"Main Function\"\"\"\n",
    "    l = []\n",
    "    for i in tqdm(range(len(step_list) - 1)):\n",
    "        start = step_list[i]\n",
    "        end = step_list[i + 1]\n",
    "        time_spread = end - start\n",
    "        weight = np.arange(1, time_spread + 1)\n",
    "        weight = weight / (weight.sum())\n",
    "        sub_data1 = (x[:, :, :, start:end] * weight).sum(axis=3, keepdims=True)\n",
    "        l.append(sub_data1)\n",
    "    return np.squeeze(np.array(l)).transpose(1, 2, 0)\n",
    "\n",
    "def test(input_path,name,output_path,method = None):\n",
    "#     print(\"read\" + input_path + name)\n",
    "    dataframe_list = pd.read_parquet(input_path + name)\n",
    "    dataframe_list = dataframe_list.set_index([\"timestamp\",\"ticker\"])\n",
    "    x = np.array(dataframe_list.drop('target',axis=1))\n",
    "    x = x.reshape(x.shape[0], 1, day, -1)\n",
    "    x = x.transpose(0, 1, 3, 2)\n",
    "\n",
    "    feat_nums = x.shape[2]\n",
    "    data_length = x.shape[3]\n",
    "    num, num_rev = generate_Num_and_ReversedNum(feat_nums)\n",
    "    step_list = generate_Step_List(data_length, stride)\n",
    "\n",
    "    \"\"\"Main Function\"\"\"\n",
    "    if method == \"Cov\":\n",
    "        l = cov(x,num,num_rev,step_list)\n",
    "    if method == \"Corr\":\n",
    "        l = cov(x,num,num_rev,step_list)\n",
    "    if method == \"Std\":\n",
    "        l = std(x,num,num_rev,step_list)\n",
    "    if method == \"Zscore\":\n",
    "        l = zscore(x,num,num_rev,step_list)\n",
    "    if method == \"Return\":\n",
    "        l = ret(x,num,num_rev,step_list)\n",
    "    if method == \"Decay\":\n",
    "        l = decay(x,num,num_rev,step_list)\n",
    "\n",
    "    l = pd.DataFrame(l.reshape(l.shape[0],-1))\n",
    "    l.index = dataframe_list.index\n",
    "    l.columns = [str(i) for i in range(l.shape[1])]\n",
    "    l.reset_index(inplace=True)\n",
    "    l.to_parquet(output_path + name)\n",
    "    print(\"save to \",output_path + name)\n",
    "    return None"
   ]
  },
  {
   "cell_type": "code",
   "execution_count": 38,
   "id": "ab2906fe",
   "metadata": {
    "ExecuteTime": {
     "end_time": "2021-12-15T07:20:50.046252Z",
     "start_time": "2021-12-15T07:17:11.168673Z"
    }
   },
   "outputs": [
    {
     "name": "stdout",
     "output_type": "stream",
     "text": [
      "read/home/wuwenjun/Data/AlphaNet_Original_Input_12.14/Data/2016-01-01_2016-03-01.parread/home/wuwenjun/Data/AlphaNet_Original_Input_12.14/Data/2015-01-01_2015-03-01.parread/home/wuwenjun/Data/AlphaNet_Original_Input_12.14/Data/2018-01-01_2018-03-01.parread/home/wuwenjun/Data/AlphaNet_Original_Input_12.14/Data/2015-09-01_2016-01-01.parread/home/wuwenjun/Data/AlphaNet_Original_Input_12.14/Data/2015-03-01_2015-06-01.parread/home/wuwenjun/Data/AlphaNet_Original_Input_12.14/Data/2016-03-01_2016-06-01.parread/home/wuwenjun/Data/AlphaNet_Original_Input_12.14/Data/2016-06-01_2016-09-01.parread/home/wuwenjun/Data/AlphaNet_Original_Input_12.14/Data/2015-06-01_2015-09-01.parread/home/wuwenjun/Data/AlphaNet_Original_Input_12.14/Data/2021-01-01_2021-03-01.parread/home/wuwenjun/Data/AlphaNet_Original_Input_12.14/Data/2017-01-01_2017-03-01.par\n",
      "\n",
      "\n",
      "\n",
      "\n",
      "\n",
      "\n",
      "\n",
      "\n",
      "\n"
     ]
    },
    {
     "name": "stderr",
     "output_type": "stream",
     "text": [
      "100%|██████████| 3/3 [00:01<00:00,  1.64it/s]\n",
      "  0%|          | 0/3 [00:00<?, ?it/s]"
     ]
    },
    {
     "name": "stdout",
     "output_type": "stream",
     "text": [
      "save to  /home/wuwenjun/Data/AlphaNet_Original_Input_12.14/Cov/2015-01-01_2015-03-01.par\n",
      "read/home/wuwenjun/Data/AlphaNet_Original_Input_12.14/Data/2020-01-01_2020-03-01.par\n"
     ]
    },
    {
     "name": "stderr",
     "output_type": "stream",
     "text": [
      "100%|██████████| 3/3 [00:10<00:00,  3.52s/it]\n",
      "100%|██████████| 3/3 [00:10<00:00,  3.66s/it]\n",
      " 67%|██████▋   | 2/3 [00:11<00:05,  5.74s/it]"
     ]
    },
    {
     "name": "stdout",
     "output_type": "stream",
     "text": [
      "save to  /home/wuwenjun/Data/AlphaNet_Original_Input_12.14/Cov/2017-01-01_2017-03-01.par\n",
      "read/home/wuwenjun/Data/AlphaNet_Original_Input_12.14/Data/2019-01-01_2019-03-01.par\n",
      "save to  /home/wuwenjun/Data/AlphaNet_Original_Input_12.14/Cov/2016-01-01_2016-03-01.par\n",
      "read/home/wuwenjun/Data/AlphaNet_Original_Input_12.14/Data/2017-03-01_2017-06-01.par\n"
     ]
    },
    {
     "name": "stderr",
     "output_type": "stream",
     "text": [
      "100%|██████████| 3/3 [00:12<00:00,  4.33s/it]\n",
      "100%|██████████| 3/3 [00:13<00:00,  4.58s/it]\n",
      "  0%|          | 0/3 [00:00<?, ?it/s].12s/it]"
     ]
    },
    {
     "name": "stdout",
     "output_type": "stream",
     "text": [
      "save to  /home/wuwenjun/Data/AlphaNet_Original_Input_12.14/Cov/2018-01-01_2018-03-01.par\n",
      "read/home/wuwenjun/Data/AlphaNet_Original_Input_12.14/Data/2021-03-01_2021-06-01.par\n",
      "save to  /home/wuwenjun/Data/AlphaNet_Original_Input_12.14/Cov/2021-01-01_2021-03-01.par\n",
      "read/home/wuwenjun/Data/AlphaNet_Original_Input_12.14/Data/2018-03-01_2018-06-01.par\n"
     ]
    },
    {
     "name": "stderr",
     "output_type": "stream",
     "text": [
      "100%|██████████| 3/3 [00:16<00:00,  5.54s/it]\n",
      "100%|██████████| 3/3 [00:18<00:00,  6.07s/it]\n",
      "100%|██████████| 3/3 [00:16<00:00,  5.62s/it]\n",
      "100%|██████████| 3/3 [00:20<00:00,  6.76s/it]\n"
     ]
    },
    {
     "name": "stdout",
     "output_type": "stream",
     "text": [
      "save to  /home/wuwenjun/Data/AlphaNet_Original_Input_12.14/Cov/2016-03-01_2016-06-01.par\n"
     ]
    },
    {
     "name": "stderr",
     "output_type": "stream",
     "text": [
      "100%|██████████| 3/3 [00:20<00:00,  6.84s/it]\n"
     ]
    },
    {
     "name": "stdout",
     "output_type": "stream",
     "text": [
      "read/home/wuwenjun/Data/AlphaNet_Original_Input_12.14/Data/2018-06-01_2018-09-01.par\n"
     ]
    },
    {
     "name": "stderr",
     "output_type": "stream",
     "text": [
      "100%|██████████| 3/3 [00:22<00:00,  7.45s/it]\n"
     ]
    },
    {
     "name": "stdout",
     "output_type": "stream",
     "text": [
      "save to  /home/wuwenjun/Data/AlphaNet_Original_Input_12.14/Cov/2016-06-01_2016-09-01.par\n",
      "save to  /home/wuwenjun/Data/AlphaNet_Original_Input_12.14/Cov/2020-01-01_2020-03-01.par\n",
      "read/home/wuwenjun/Data/AlphaNet_Original_Input_12.14/Data/2016-09-01_2017-01-01.par\n",
      "read/home/wuwenjun/Data/AlphaNet_Original_Input_12.14/Data/2017-06-01_2017-09-01.par\n",
      "save to  /home/wuwenjun/Data/AlphaNet_Original_Input_12.14/Cov/2015-06-01_2015-09-01.par\n",
      "save to  /home/wuwenjun/Data/AlphaNet_Original_Input_12.14/Cov/2015-03-01_2015-06-01.par\n"
     ]
    },
    {
     "name": "stderr",
     "output_type": "stream",
     "text": [
      "\r",
      " 33%|███▎      | 1/3 [00:06<00:13,  6.71s/it]"
     ]
    },
    {
     "name": "stdout",
     "output_type": "stream",
     "text": [
      "read/home/wuwenjun/Data/AlphaNet_Original_Input_12.14/Data/2020-06-01_2020-09-01.par\n",
      "read/home/wuwenjun/Data/AlphaNet_Original_Input_12.14/Data/2020-03-01_2020-06-01.par\n"
     ]
    },
    {
     "name": "stderr",
     "output_type": "stream",
     "text": [
      "  0%|          | 0/3 [00:00<?, ?it/s].21s/it]"
     ]
    },
    {
     "name": "stdout",
     "output_type": "stream",
     "text": [
      "save to  /home/wuwenjun/Data/AlphaNet_Original_Input_12.14/Cov/2015-09-01_2016-01-01.par\n",
      "read/home/wuwenjun/Data/AlphaNet_Original_Input_12.14/Data/2020-09-01_2021-01-01.par\n"
     ]
    },
    {
     "name": "stderr",
     "output_type": "stream",
     "text": [
      "100%|██████████| 3/3 [00:14<00:00,  4.76s/it]\n",
      "  0%|          | 0/3 [00:00<?, ?it/s].69s/it]"
     ]
    },
    {
     "name": "stdout",
     "output_type": "stream",
     "text": [
      "save to  /home/wuwenjun/Data/AlphaNet_Original_Input_12.14/Cov/2019-01-01_2019-03-01.par\n"
     ]
    },
    {
     "name": "stderr",
     "output_type": "stream",
     "text": [
      "\r",
      " 67%|██████▋   | 2/3 [00:13<00:06,  6.79s/it]"
     ]
    },
    {
     "name": "stdout",
     "output_type": "stream",
     "text": [
      "read/home/wuwenjun/Data/AlphaNet_Original_Input_12.14/Data/2019-06-01_2019-09-01.par\n"
     ]
    },
    {
     "name": "stderr",
     "output_type": "stream",
     "text": [
      "100%|██████████| 3/3 [00:23<00:00,  7.70s/it]\n",
      "100%|██████████| 3/3 [00:20<00:00,  6.93s/it]\n",
      " 67%|██████▋   | 2/3 [00:17<00:08,  8.68s/it]"
     ]
    },
    {
     "name": "stdout",
     "output_type": "stream",
     "text": [
      "save to  /home/wuwenjun/Data/AlphaNet_Original_Input_12.14/Cov/2017-03-01_2017-06-01.par\n"
     ]
    },
    {
     "name": "stderr",
     "output_type": "stream",
     "text": [
      "\r",
      " 33%|███▎      | 1/3 [00:11<00:23, 11.58s/it]"
     ]
    },
    {
     "name": "stdout",
     "output_type": "stream",
     "text": [
      "read/home/wuwenjun/Data/AlphaNet_Original_Input_12.14/Data/2019-03-01_2019-06-01.par\n",
      "save to  /home/wuwenjun/Data/AlphaNet_Original_Input_12.14/Cov/2018-03-01_2018-06-01.par\n",
      "read/home/wuwenjun/Data/AlphaNet_Original_Input_12.14/Data/2017-09-01_2018-01-01.par\n"
     ]
    },
    {
     "name": "stderr",
     "output_type": "stream",
     "text": [
      "100%|██████████| 3/3 [00:25<00:00,  8.65s/it]\n",
      "100%|██████████| 3/3 [00:22<00:00,  7.67s/it]\n",
      "100%|██████████| 3/3 [00:21<00:00,  7.18s/it]\n"
     ]
    },
    {
     "name": "stdout",
     "output_type": "stream",
     "text": [
      "save to  /home/wuwenjun/Data/AlphaNet_Original_Input_12.14/Cov/2021-03-01_2021-06-01.par\n",
      "read/home/wuwenjun/Data/AlphaNet_Original_Input_12.14/Data/2018-09-01_2019-01-01.par\n"
     ]
    },
    {
     "name": "stderr",
     "output_type": "stream",
     "text": [
      "100%|██████████| 3/3 [00:23<00:00,  7.93s/it]\n",
      "100%|██████████| 3/3 [00:22<00:00,  7.44s/it]\n"
     ]
    },
    {
     "name": "stdout",
     "output_type": "stream",
     "text": [
      "save to  /home/wuwenjun/Data/AlphaNet_Original_Input_12.14/Cov/2018-06-01_2018-09-01.par\n",
      "read/home/wuwenjun/Data/AlphaNet_Original_Input_12.14/Data/2019-09-01_2020-01-01.par\n"
     ]
    },
    {
     "name": "stderr",
     "output_type": "stream",
     "text": [
      "\r",
      "  0%|          | 0/3 [00:00<?, ?it/s]"
     ]
    },
    {
     "name": "stdout",
     "output_type": "stream",
     "text": [
      "save to  /home/wuwenjun/Data/AlphaNet_Original_Input_12.14/Cov/2020-03-01_2020-06-01.par\n",
      "read/home/wuwenjun/Data/AlphaNet_Original_Input_12.14/Data/2015-01-01_2015-03-01.par\n"
     ]
    },
    {
     "name": "stderr",
     "output_type": "stream",
     "text": [
      "100%|██████████| 3/3 [00:00<00:00, 105.33it/s]\n"
     ]
    },
    {
     "name": "stdout",
     "output_type": "stream",
     "text": [
      "save to  /home/wuwenjun/Data/AlphaNet_Original_Input_12.14/Std/2015-01-01_2015-03-01.par\n",
      "read/home/wuwenjun/Data/AlphaNet_Original_Input_12.14/Data/2015-03-01_2015-06-01.par\n"
     ]
    },
    {
     "name": "stderr",
     "output_type": "stream",
     "text": [
      "100%|██████████| 3/3 [00:27<00:00,  9.31s/it]\n"
     ]
    },
    {
     "name": "stdout",
     "output_type": "stream",
     "text": [
      "save to  /home/wuwenjun/Data/AlphaNet_Original_Input_12.14/Cov/2016-09-01_2017-01-01.par\n",
      "save to  /home/wuwenjun/Data/AlphaNet_Original_Input_12.14/Cov/2020-06-01_2020-09-01.par\n"
     ]
    },
    {
     "name": "stderr",
     "output_type": "stream",
     "text": [
      "\r",
      "  0%|          | 0/3 [00:00<?, ?it/s]"
     ]
    },
    {
     "name": "stdout",
     "output_type": "stream",
     "text": [
      "read/home/wuwenjun/Data/AlphaNet_Original_Input_12.14/Data/2016-01-01_2016-03-01.par\n",
      "read/home/wuwenjun/Data/AlphaNet_Original_Input_12.14/Data/2017-01-01_2017-03-01.par\n"
     ]
    },
    {
     "name": "stderr",
     "output_type": "stream",
     "text": [
      "100%|██████████| 3/3 [00:00<00:00,  7.11it/s]\n",
      "100%|██████████| 3/3 [00:00<00:00, 12.88it/s]\n",
      "100%|██████████| 3/3 [00:00<00:00,  6.68it/s]\n"
     ]
    },
    {
     "name": "stdout",
     "output_type": "stream",
     "text": [
      "save to  /home/wuwenjun/Data/AlphaNet_Original_Input_12.14/Std/2015-03-01_2015-06-01.par\n",
      "save to  /home/wuwenjun/Data/AlphaNet_Original_Input_12.14/Std/2017-01-01_2017-03-01.par\n",
      "read/home/wuwenjun/Data/AlphaNet_Original_Input_12.14/Data/2015-06-01_2015-09-01.par\n",
      "save to  /home/wuwenjun/Data/AlphaNet_Original_Input_12.14/Std/2016-01-01_2016-03-01.par\n",
      "read/home/wuwenjun/Data/AlphaNet_Original_Input_12.14/Data/2018-01-01_2018-03-01.par\n",
      "read/home/wuwenjun/Data/AlphaNet_Original_Input_12.14/Data/2016-03-01_2016-06-01.par\n"
     ]
    },
    {
     "name": "stderr",
     "output_type": "stream",
     "text": [
      "100%|██████████| 3/3 [00:00<00:00, 10.07it/s]\n",
      " 67%|██████▋   | 2/3 [00:00<00:00,  5.89it/s]"
     ]
    },
    {
     "name": "stdout",
     "output_type": "stream",
     "text": [
      "save to  /home/wuwenjun/Data/AlphaNet_Original_Input_12.14/Std/2018-01-01_2018-03-01.par\n"
     ]
    },
    {
     "name": "stderr",
     "output_type": "stream",
     "text": [
      "\r",
      " 67%|██████▋   | 2/3 [00:00<00:00,  4.10it/s]"
     ]
    },
    {
     "name": "stdout",
     "output_type": "stream",
     "text": [
      "read/home/wuwenjun/Data/AlphaNet_Original_Input_12.14/Data/2021-01-01_2021-03-01.par\n"
     ]
    },
    {
     "name": "stderr",
     "output_type": "stream",
     "text": [
      "100%|██████████| 3/3 [00:00<00:00,  5.73it/s]\n",
      "100%|██████████| 3/3 [00:00<00:00,  3.70it/s]\n"
     ]
    },
    {
     "name": "stdout",
     "output_type": "stream",
     "text": [
      "save to  /home/wuwenjun/Data/AlphaNet_Original_Input_12.14/Cov/2017-06-01_2017-09-01.par\n",
      "read/home/wuwenjun/Data/AlphaNet_Original_Input_12.14/Data/2016-06-01_2016-09-01.par\n"
     ]
    },
    {
     "name": "stderr",
     "output_type": "stream",
     "text": [
      "\r",
      "  0%|          | 0/3 [00:00<?, ?it/s]"
     ]
    },
    {
     "name": "stdout",
     "output_type": "stream",
     "text": [
      "save to  /home/wuwenjun/Data/AlphaNet_Original_Input_12.14/Std/2015-06-01_2015-09-01.par\n"
     ]
    },
    {
     "name": "stderr",
     "output_type": "stream",
     "text": [
      "\r",
      " 33%|███▎      | 1/3 [00:00<00:00,  7.03it/s]"
     ]
    },
    {
     "name": "stdout",
     "output_type": "stream",
     "text": [
      "save to  /home/wuwenjun/Data/AlphaNet_Original_Input_12.14/Std/2016-03-01_2016-06-01.par\n"
     ]
    },
    {
     "name": "stderr",
     "output_type": "stream",
     "text": [
      "\r",
      " 67%|██████▋   | 2/3 [00:00<00:00,  8.45it/s]"
     ]
    },
    {
     "name": "stdout",
     "output_type": "stream",
     "text": [
      "read/home/wuwenjun/Data/AlphaNet_Original_Input_12.14/Data/2015-09-01_2016-01-01.par\n"
     ]
    },
    {
     "name": "stderr",
     "output_type": "stream",
     "text": [
      "100%|██████████| 3/3 [00:00<00:00,  9.28it/s]\n"
     ]
    },
    {
     "name": "stdout",
     "output_type": "stream",
     "text": [
      "read/home/wuwenjun/Data/AlphaNet_Original_Input_12.14/Data/2020-01-01_2020-03-01.par\n"
     ]
    },
    {
     "name": "stderr",
     "output_type": "stream",
     "text": [
      "\r",
      " 33%|███▎      | 1/3 [00:08<00:16,  8.31s/it]"
     ]
    },
    {
     "name": "stdout",
     "output_type": "stream",
     "text": [
      "save to  /home/wuwenjun/Data/AlphaNet_Original_Input_12.14/Std/2021-01-01_2021-03-01.par\n",
      "read/home/wuwenjun/Data/AlphaNet_Original_Input_12.14/Data/2019-01-01_2019-03-01.par\n"
     ]
    },
    {
     "name": "stderr",
     "output_type": "stream",
     "text": [
      "100%|██████████| 3/3 [00:00<00:00,  4.89it/s]\n",
      "100%|██████████| 3/3 [00:00<00:00,  5.13it/s]\n",
      "100%|██████████| 3/3 [00:00<00:00,  9.27it/s]\n"
     ]
    },
    {
     "name": "stdout",
     "output_type": "stream",
     "text": [
      "save to  /home/wuwenjun/Data/AlphaNet_Original_Input_12.14/Std/2016-06-01_2016-09-01.par\n",
      "save to  /home/wuwenjun/Data/AlphaNet_Original_Input_12.14/Std/2020-01-01_2020-03-01.par\n"
     ]
    },
    {
     "name": "stderr",
     "output_type": "stream",
     "text": [
      "\r",
      " 67%|██████▋   | 2/3 [00:00<00:00,  3.53it/s]"
     ]
    },
    {
     "name": "stdout",
     "output_type": "stream",
     "text": [
      "read/home/wuwenjun/Data/AlphaNet_Original_Input_12.14/Data/2017-03-01_2017-06-01.par\n",
      "read/home/wuwenjun/Data/AlphaNet_Original_Input_12.14/Data/2021-03-01_2021-06-01.par\n"
     ]
    },
    {
     "name": "stderr",
     "output_type": "stream",
     "text": [
      "100%|██████████| 3/3 [00:00<00:00,  3.05it/s]\n"
     ]
    },
    {
     "name": "stdout",
     "output_type": "stream",
     "text": [
      "save to  /home/wuwenjun/Data/AlphaNet_Original_Input_12.14/Std/2019-01-01_2019-03-01.par\n",
      "read/home/wuwenjun/Data/AlphaNet_Original_Input_12.14/Data/2018-03-01_2018-06-01.par\n",
      "save to  /home/wuwenjun/Data/AlphaNet_Original_Input_12.14/Std/2015-09-01_2016-01-01.par\n"
     ]
    },
    {
     "name": "stderr",
     "output_type": "stream",
     "text": [
      "100%|██████████| 3/3 [00:30<00:00, 10.11s/it]\n"
     ]
    },
    {
     "name": "stdout",
     "output_type": "stream",
     "text": [
      "read/home/wuwenjun/Data/AlphaNet_Original_Input_12.14/Data/2018-06-01_2018-09-01.par\n"
     ]
    },
    {
     "name": "stderr",
     "output_type": "stream",
     "text": [
      "100%|██████████| 3/3 [00:00<00:00,  3.18it/s]\n",
      "100%|██████████| 3/3 [00:00<00:00,  5.67it/s]\n"
     ]
    },
    {
     "name": "stdout",
     "output_type": "stream",
     "text": [
      "save to  /home/wuwenjun/Data/AlphaNet_Original_Input_12.14/Std/2017-03-01_2017-06-01.par\n"
     ]
    },
    {
     "name": "stderr",
     "output_type": "stream",
     "text": [
      "\r",
      " 67%|██████▋   | 2/3 [00:00<00:00,  2.78it/s]"
     ]
    },
    {
     "name": "stdout",
     "output_type": "stream",
     "text": [
      "read/home/wuwenjun/Data/AlphaNet_Original_Input_12.14/Data/2016-09-01_2017-01-01.par\n"
     ]
    },
    {
     "name": "stderr",
     "output_type": "stream",
     "text": [
      "100%|██████████| 3/3 [00:01<00:00,  2.53it/s]\n",
      " 67%|██████▋   | 2/3 [00:00<00:00,  2.75it/s]"
     ]
    },
    {
     "name": "stdout",
     "output_type": "stream",
     "text": [
      "save to  /home/wuwenjun/Data/AlphaNet_Original_Input_12.14/Std/2018-03-01_2018-06-01.par\n"
     ]
    },
    {
     "name": "stderr",
     "output_type": "stream",
     "text": [
      "100%|██████████| 3/3 [00:01<00:00,  2.84it/s]"
     ]
    },
    {
     "name": "stdout",
     "output_type": "stream",
     "text": [
      "read/home/wuwenjun/Data/AlphaNet_Original_Input_12.14/Data/2017-06-01_2017-09-01.par"
     ]
    },
    {
     "name": "stderr",
     "output_type": "stream",
     "text": [
      "\n"
     ]
    },
    {
     "name": "stdout",
     "output_type": "stream",
     "text": [
      "\n",
      "save to  /home/wuwenjun/Data/AlphaNet_Original_Input_12.14/Std/2021-03-01_2021-06-01.par\n"
     ]
    },
    {
     "name": "stderr",
     "output_type": "stream",
     "text": [
      "100%|██████████| 3/3 [00:36<00:00, 12.20s/it]\n"
     ]
    },
    {
     "name": "stdout",
     "output_type": "stream",
     "text": [
      "read/home/wuwenjun/Data/AlphaNet_Original_Input_12.14/Data/2020-06-01_2020-09-01.par\n"
     ]
    },
    {
     "name": "stderr",
     "output_type": "stream",
     "text": [
      "\r",
      " 67%|██████▋   | 2/3 [00:21<00:10, 10.63s/it]"
     ]
    },
    {
     "name": "stdout",
     "output_type": "stream",
     "text": [
      "save to  /home/wuwenjun/Data/AlphaNet_Original_Input_12.14/Std/2018-06-01_2018-09-01.par\n"
     ]
    },
    {
     "name": "stderr",
     "output_type": "stream",
     "text": [
      "\r",
      "  0%|          | 0/3 [00:00<?, ?it/s]"
     ]
    },
    {
     "name": "stdout",
     "output_type": "stream",
     "text": [
      "read/home/wuwenjun/Data/AlphaNet_Original_Input_12.14/Data/2020-03-01_2020-06-01.par\n"
     ]
    },
    {
     "name": "stderr",
     "output_type": "stream",
     "text": [
      "100%|██████████| 3/3 [00:00<00:00,  3.06it/s]\n"
     ]
    },
    {
     "name": "stdout",
     "output_type": "stream",
     "text": [
      "save to  /home/wuwenjun/Data/AlphaNet_Original_Input_12.14/Cov/2019-06-01_2019-09-01.par\n",
      "read/home/wuwenjun/Data/AlphaNet_Original_Input_12.14/Data/2020-09-01_2021-01-01.par\n"
     ]
    },
    {
     "name": "stderr",
     "output_type": "stream",
     "text": [
      " 67%|██████▋   | 2/3 [00:00<00:00,  6.37it/s]"
     ]
    },
    {
     "name": "stdout",
     "output_type": "stream",
     "text": [
      "save to  /home/wuwenjun/Data/AlphaNet_Original_Input_12.14/Std/2016-09-01_2017-01-01.par\n"
     ]
    },
    {
     "name": "stderr",
     "output_type": "stream",
     "text": [
      "100%|██████████| 3/3 [00:00<00:00,  5.12it/s]\n"
     ]
    },
    {
     "name": "stdout",
     "output_type": "stream",
     "text": [
      "read/home/wuwenjun/Data/AlphaNet_Original_Input_12.14/Data/2019-06-01_2019-09-01.par\n"
     ]
    },
    {
     "name": "stderr",
     "output_type": "stream",
     "text": [
      " 33%|███▎      | 1/3 [00:00<00:00,  2.24it/s]"
     ]
    },
    {
     "name": "stdout",
     "output_type": "stream",
     "text": [
      "save to  /home/wuwenjun/Data/AlphaNet_Original_Input_12.14/Std/2017-06-01_2017-09-01.par\n"
     ]
    },
    {
     "name": "stderr",
     "output_type": "stream",
     "text": [
      " 67%|██████▋   | 2/3 [00:00<00:00,  2.58it/s]"
     ]
    },
    {
     "name": "stdout",
     "output_type": "stream",
     "text": [
      "read/home/wuwenjun/Data/AlphaNet_Original_Input_12.14/Data/2019-03-01_2019-06-01.par\n"
     ]
    },
    {
     "name": "stderr",
     "output_type": "stream",
     "text": [
      "100%|██████████| 3/3 [00:01<00:00,  2.50it/s]\n",
      "100%|██████████| 3/3 [00:00<00:00,  3.20it/s]\n",
      "  0%|          | 0/3 [00:00<?, ?it/s]"
     ]
    },
    {
     "name": "stdout",
     "output_type": "stream",
     "text": [
      "save to  /home/wuwenjun/Data/AlphaNet_Original_Input_12.14/Std/2020-03-01_2020-06-01.par\n",
      "save to  /home/wuwenjun/Data/AlphaNet_Original_Input_12.14/Std/2020-06-01_2020-09-01.par\n"
     ]
    },
    {
     "name": "stderr",
     "output_type": "stream",
     "text": [
      "\r",
      " 33%|███▎      | 1/3 [00:00<00:00,  3.99it/s]"
     ]
    },
    {
     "name": "stdout",
     "output_type": "stream",
     "text": [
      "read/home/wuwenjun/Data/AlphaNet_Original_Input_12.14/Data/2017-09-01_2018-01-01.par\n",
      "read/home/wuwenjun/Data/AlphaNet_Original_Input_12.14/Data/2018-09-01_2019-01-01.par\n"
     ]
    },
    {
     "name": "stderr",
     "output_type": "stream",
     "text": [
      "100%|██████████| 3/3 [00:00<00:00,  3.03it/s]\n",
      "  0%|          | 0/3 [00:00<?, ?it/s]"
     ]
    },
    {
     "name": "stdout",
     "output_type": "stream",
     "text": [
      "save to  /home/wuwenjun/Data/AlphaNet_Original_Input_12.14/Cov/2020-09-01_2021-01-01.par\n"
     ]
    },
    {
     "name": "stderr",
     "output_type": "stream",
     "text": [
      " 67%|██████▋   | 2/3 [00:00<00:00,  7.30it/s]"
     ]
    },
    {
     "name": "stdout",
     "output_type": "stream",
     "text": [
      "read/home/wuwenjun/Data/AlphaNet_Original_Input_12.14/Data/2019-09-01_2020-01-01.par\n"
     ]
    },
    {
     "name": "stderr",
     "output_type": "stream",
     "text": [
      "100%|██████████| 3/3 [00:00<00:00,  7.06it/s]\n",
      " 33%|███▎      | 1/3 [00:00<00:01,  1.95it/s]"
     ]
    },
    {
     "name": "stdout",
     "output_type": "stream",
     "text": [
      "save to  /home/wuwenjun/Data/AlphaNet_Original_Input_12.14/Std/2019-06-01_2019-09-01.par\n",
      "read/home/wuwenjun/Data/AlphaNet_Original_Input_12.14/Data/2015-01-01_2015-03-01.par\n"
     ]
    },
    {
     "name": "stderr",
     "output_type": "stream",
     "text": [
      "100%|██████████| 3/3 [00:00<00:00, 120.41it/s]\n",
      " 67%|██████▋   | 2/3 [00:01<00:00,  1.81it/s]"
     ]
    },
    {
     "name": "stdout",
     "output_type": "stream",
     "text": [
      "save to  /home/wuwenjun/Data/AlphaNet_Original_Input_12.14/Zscore/2015-01-01_2015-03-01.par\n",
      "read/home/wuwenjun/Data/AlphaNet_Original_Input_12.14/Data/2015-03-01_2015-06-01.par\n"
     ]
    },
    {
     "name": "stderr",
     "output_type": "stream",
     "text": [
      "100%|██████████| 3/3 [00:01<00:00,  1.95it/s]\n"
     ]
    },
    {
     "name": "stdout",
     "output_type": "stream",
     "text": [
      "save to  /home/wuwenjun/Data/AlphaNet_Original_Input_12.14/Std/2019-03-01_2019-06-01.par\n",
      "read/home/wuwenjun/Data/AlphaNet_Original_Input_12.14/Data/2016-01-01_2016-03-01.par\n"
     ]
    },
    {
     "name": "stderr",
     "output_type": "stream",
     "text": [
      "  0%|          | 0/3 [00:00<?, ?it/s]"
     ]
    },
    {
     "name": "stdout",
     "output_type": "stream",
     "text": [
      "save to  /home/wuwenjun/Data/AlphaNet_Original_Input_12.14/Std/2020-09-01_2021-01-01.par\n"
     ]
    },
    {
     "name": "stderr",
     "output_type": "stream",
     "text": [
      "100%|██████████| 3/3 [00:30<00:00, 10.28s/it]\n",
      "100%|██████████| 3/3 [00:00<00:00, 12.38it/s]\n",
      " 33%|███▎      | 1/3 [00:00<00:00,  2.40it/s]"
     ]
    },
    {
     "name": "stdout",
     "output_type": "stream",
     "text": [
      "read/home/wuwenjun/Data/AlphaNet_Original_Input_12.14/Data/2017-01-01_2017-03-01.par\n"
     ]
    },
    {
     "name": "stderr",
     "output_type": "stream",
     "text": [
      "\r",
      " 67%|██████▋   | 2/3 [00:00<00:00,  3.45it/s]"
     ]
    },
    {
     "name": "stdout",
     "output_type": "stream",
     "text": [
      "save to  /home/wuwenjun/Data/AlphaNet_Original_Input_12.14/Zscore/2016-01-01_2016-03-01.par\n"
     ]
    },
    {
     "name": "stderr",
     "output_type": "stream",
     "text": [
      "\r",
      " 67%|██████▋   | 2/3 [00:22<00:11, 11.47s/it]"
     ]
    },
    {
     "name": "stdout",
     "output_type": "stream",
     "text": [
      "read/home/wuwenjun/Data/AlphaNet_Original_Input_12.14/Data/2015-06-01_2015-09-01.par\n"
     ]
    },
    {
     "name": "stderr",
     "output_type": "stream",
     "text": [
      "100%|██████████| 3/3 [00:00<00:00,  3.39it/s]\n",
      "100%|██████████| 3/3 [00:01<00:00,  2.18it/s]\n",
      "100%|██████████| 3/3 [00:01<00:00,  2.21it/s]\n",
      "  0%|          | 0/3 [00:00<?, ?it/s].93it/s]"
     ]
    },
    {
     "name": "stdout",
     "output_type": "stream",
     "text": [
      "save to  /home/wuwenjun/Data/AlphaNet_Original_Input_12.14/Zscore/2015-03-01_2015-06-01.par\n"
     ]
    },
    {
     "name": "stderr",
     "output_type": "stream",
     "text": [
      "100%|██████████| 3/3 [00:01<00:00,  2.04it/s]\n",
      " 33%|███▎      | 1/3 [00:00<00:00,  9.34it/s]"
     ]
    },
    {
     "name": "stdout",
     "output_type": "stream",
     "text": [
      "read/home/wuwenjun/Data/AlphaNet_Original_Input_12.14/Data/2018-01-01_2018-03-01.par\n"
     ]
    },
    {
     "name": "stderr",
     "output_type": "stream",
     "text": [
      "100%|██████████| 3/3 [00:00<00:00,  9.97it/s]\n",
      "  0%|          | 0/3 [00:00<?, ?it/s]"
     ]
    },
    {
     "name": "stdout",
     "output_type": "stream",
     "text": [
      "save to  /home/wuwenjun/Data/AlphaNet_Original_Input_12.14/Std/2017-09-01_2018-01-01.par\n",
      "save to  /home/wuwenjun/Data/AlphaNet_Original_Input_12.14/Std/2018-09-01_2019-01-01.par\n"
     ]
    },
    {
     "name": "stderr",
     "output_type": "stream",
     "text": [
      "100%|██████████| 3/3 [00:32<00:00, 10.69s/it]\n"
     ]
    },
    {
     "name": "stdout",
     "output_type": "stream",
     "text": [
      "save to  /home/wuwenjun/Data/AlphaNet_Original_Input_12.14/Zscore/2017-01-01_2017-03-01.par\n",
      "read/home/wuwenjun/Data/AlphaNet_Original_Input_12.14/Data/2016-03-01_2016-06-01.par\n"
     ]
    },
    {
     "name": "stderr",
     "output_type": "stream",
     "text": [
      "\r",
      " 67%|██████▋   | 2/3 [00:00<00:00,  5.19it/s]"
     ]
    },
    {
     "name": "stdout",
     "output_type": "stream",
     "text": [
      "read/home/wuwenjun/Data/AlphaNet_Original_Input_12.14/Data/2021-01-01_2021-03-01.par\n",
      "read/home/wuwenjun/Data/AlphaNet_Original_Input_12.14/Data/2016-06-01_2016-09-01.par\n"
     ]
    },
    {
     "name": "stderr",
     "output_type": "stream",
     "text": [
      "100%|██████████| 3/3 [00:00<00:00,  4.28it/s]\n"
     ]
    },
    {
     "name": "stdout",
     "output_type": "stream",
     "text": [
      "save to  /home/wuwenjun/Data/AlphaNet_Original_Input_12.14/Std/2019-09-01_2020-01-01.par\n"
     ]
    },
    {
     "name": "stderr",
     "output_type": "stream",
     "text": [
      " 33%|███▎      | 1/3 [00:00<00:00,  6.09it/s]"
     ]
    },
    {
     "name": "stdout",
     "output_type": "stream",
     "text": [
      "read/home/wuwenjun/Data/AlphaNet_Original_Input_12.14/Data/2015-09-01_2016-01-01.par\n"
     ]
    },
    {
     "name": "stderr",
     "output_type": "stream",
     "text": [
      "\r",
      " 67%|██████▋   | 2/3 [00:00<00:00,  6.18it/s]"
     ]
    },
    {
     "name": "stdout",
     "output_type": "stream",
     "text": [
      "save to  /home/wuwenjun/Data/AlphaNet_Original_Input_12.14/Zscore/2015-06-01_2015-09-01.par\n"
     ]
    },
    {
     "name": "stderr",
     "output_type": "stream",
     "text": [
      "100%|██████████| 3/3 [00:00<00:00,  5.24it/s]\n"
     ]
    },
    {
     "name": "stdout",
     "output_type": "stream",
     "text": [
      "read/home/wuwenjun/Data/AlphaNet_Original_Input_12.14/Data/2020-01-01_2020-03-01.par\n",
      "save to  /home/wuwenjun/Data/AlphaNet_Original_Input_12.14/Zscore/2018-01-01_2018-03-01.par\n"
     ]
    },
    {
     "name": "stderr",
     "output_type": "stream",
     "text": [
      "\r",
      "  0%|          | 0/3 [00:00<?, ?it/s]"
     ]
    },
    {
     "name": "stdout",
     "output_type": "stream",
     "text": [
      "read/home/wuwenjun/Data/AlphaNet_Original_Input_12.14/Data/2019-01-01_2019-03-01.par\n"
     ]
    },
    {
     "name": "stderr",
     "output_type": "stream",
     "text": [
      "100%|██████████| 3/3 [00:00<00:00,  3.82it/s]\n",
      "100%|██████████| 3/3 [00:00<00:00,  4.96it/s]\n",
      "100%|██████████| 3/3 [00:00<00:00,  7.19it/s]\n",
      "100%|██████████| 3/3 [00:30<00:00, 10.14s/it]\n",
      "100%|██████████| 3/3 [00:01<00:00,  2.91it/s]\n",
      " 67%|██████▋   | 2/3 [00:00<00:00,  4.83it/s]"
     ]
    },
    {
     "name": "stdout",
     "output_type": "stream",
     "text": [
      "save to  /home/wuwenjun/Data/AlphaNet_Original_Input_12.14/Zscore/2021-01-01_2021-03-01.par\n",
      "save to  /home/wuwenjun/Data/AlphaNet_Original_Input_12.14/Cov/2019-03-01_2019-06-01.par\n"
     ]
    },
    {
     "name": "stderr",
     "output_type": "stream",
     "text": [
      "100%|██████████| 3/3 [00:00<00:00,  5.19it/s]\n"
     ]
    },
    {
     "name": "stdout",
     "output_type": "stream",
     "text": [
      "save to  /home/wuwenjun/Data/AlphaNet_Original_Input_12.14/Zscore/2016-03-01_2016-06-01.par\n",
      "read/home/wuwenjun/Data/AlphaNet_Original_Input_12.14/Data/2017-03-01_2017-06-01.par\n"
     ]
    },
    {
     "name": "stderr",
     "output_type": "stream",
     "text": [
      "\r",
      " 67%|██████▋   | 2/3 [00:00<00:00,  2.49it/s]"
     ]
    },
    {
     "name": "stdout",
     "output_type": "stream",
     "text": [
      "read/home/wuwenjun/Data/AlphaNet_Original_Input_12.14/Data/2021-03-01_2021-06-01.par\n",
      "read/home/wuwenjun/Data/AlphaNet_Original_Input_12.14/Data/2018-03-01_2018-06-01.par\n",
      "save to  /home/wuwenjun/Data/AlphaNet_Original_Input_12.14/Zscore/2020-01-01_2020-03-01.par\n",
      "save to  /home/wuwenjun/Data/AlphaNet_Original_Input_12.14/Zscore/2016-06-01_2016-09-01.par\n"
     ]
    },
    {
     "name": "stderr",
     "output_type": "stream",
     "text": [
      "100%|██████████| 3/3 [00:01<00:00,  2.27it/s]\n"
     ]
    },
    {
     "name": "stdout",
     "output_type": "stream",
     "text": [
      "read/home/wuwenjun/Data/AlphaNet_Original_Input_12.14/Data/2018-06-01_2018-09-01.par\n",
      "save to  /home/wuwenjun/Data/AlphaNet_Original_Input_12.14/Zscore/2019-01-01_2019-03-01.par\n",
      "read/home/wuwenjun/Data/AlphaNet_Original_Input_12.14/Data/2016-09-01_2017-01-01.par\n",
      "read/home/wuwenjun/Data/AlphaNet_Original_Input_12.14/Data/2017-06-01_2017-09-01.par\n",
      "save to  /home/wuwenjun/Data/AlphaNet_Original_Input_12.14/Zscore/2015-09-01_2016-01-01.par\n",
      "save to  /home/wuwenjun/Data/AlphaNet_Original_Input_12.14/Cov/2017-09-01_2018-01-01.par\n",
      "read/home/wuwenjun/Data/AlphaNet_Original_Input_12.14/Data/2020-06-01_2020-09-01.par\n",
      "read/home/wuwenjun/Data/AlphaNet_Original_Input_12.14/Data/2020-03-01_2020-06-01.par\n"
     ]
    },
    {
     "name": "stderr",
     "output_type": "stream",
     "text": [
      "100%|██████████| 3/3 [00:00<00:00,  3.22it/s]\n",
      "100%|██████████| 3/3 [00:01<00:00,  2.47it/s]\n",
      "100%|██████████| 3/3 [00:01<00:00,  2.39it/s]\n"
     ]
    },
    {
     "name": "stdout",
     "output_type": "stream",
     "text": [
      "save to  /home/wuwenjun/Data/AlphaNet_Original_Input_12.14/Zscore/2017-03-01_2017-06-01.par\n"
     ]
    },
    {
     "name": "stderr",
     "output_type": "stream",
     "text": [
      "100%|██████████| 3/3 [00:01<00:00,  2.33it/s]\n",
      " 33%|███▎      | 1/3 [00:00<00:01,  1.84it/s]"
     ]
    },
    {
     "name": "stdout",
     "output_type": "stream",
     "text": [
      "read/home/wuwenjun/Data/AlphaNet_Original_Input_12.14/Data/2020-09-01_2021-01-01.par\n"
     ]
    },
    {
     "name": "stderr",
     "output_type": "stream",
     "text": [
      "100%|██████████| 3/3 [00:01<00:00,  2.19it/s]\n",
      "100%|██████████| 3/3 [00:01<00:00,  2.29it/s]\n",
      " 67%|██████▋   | 2/3 [00:00<00:00,  2.17it/s]"
     ]
    },
    {
     "name": "stdout",
     "output_type": "stream",
     "text": [
      "save to  /home/wuwenjun/Data/AlphaNet_Original_Input_12.14/Zscore/2017-06-01_2017-09-01.par\n",
      "save to  /home/wuwenjun/Data/AlphaNet_Original_Input_12.14/Zscore/2018-03-01_2018-06-01.par\n",
      "save to  /home/wuwenjun/Data/AlphaNet_Original_Input_12.14/Zscore/2018-06-01_2018-09-01.par\n"
     ]
    },
    {
     "name": "stderr",
     "output_type": "stream",
     "text": [
      "100%|██████████| 3/3 [00:01<00:00,  1.93it/s]\n"
     ]
    },
    {
     "name": "stdout",
     "output_type": "stream",
     "text": [
      "save to  /home/wuwenjun/Data/AlphaNet_Original_Input_12.14/Zscore/2021-03-01_2021-06-01.par\n",
      "read/home/wuwenjun/Data/AlphaNet_Original_Input_12.14/Data/2019-06-01_2019-09-01.par\n"
     ]
    },
    {
     "name": "stderr",
     "output_type": "stream",
     "text": [
      "100%|██████████| 3/3 [00:01<00:00,  2.37it/s]\n"
     ]
    },
    {
     "name": "stdout",
     "output_type": "stream",
     "text": [
      "read/home/wuwenjun/Data/AlphaNet_Original_Input_12.14/Data/2019-03-01_2019-06-01.par\n",
      "read/home/wuwenjun/Data/AlphaNet_Original_Input_12.14/Data/2017-09-01_2018-01-01.par\n",
      "save to  /home/wuwenjun/Data/AlphaNet_Original_Input_12.14/Cov/2018-09-01_2019-01-01.par\n",
      "read/home/wuwenjun/Data/AlphaNet_Original_Input_12.14/Data/2018-09-01_2019-01-01.par\n",
      "save to  /home/wuwenjun/Data/AlphaNet_Original_Input_12.14/Zscore/2016-09-01_2017-01-01.par\n",
      "read/home/wuwenjun/Data/AlphaNet_Original_Input_12.14/Data/2019-09-01_2020-01-01.par\n",
      "read/home/wuwenjun/Data/AlphaNet_Original_Input_12.14/Data/2015-01-01_2015-03-01.par\n"
     ]
    },
    {
     "name": "stderr",
     "output_type": "stream",
     "text": [
      "100%|██████████| 3/3 [00:00<00:00, 1246.82it/s]\n"
     ]
    },
    {
     "name": "stdout",
     "output_type": "stream",
     "text": [
      "save to  /home/wuwenjun/Data/AlphaNet_Original_Input_12.14/Return/2015-01-01_2015-03-01.par\n",
      "read/home/wuwenjun/Data/AlphaNet_Original_Input_12.14/Data/2015-03-01_2015-06-01.par\n",
      "save to  /home/wuwenjun/Data/AlphaNet_Original_Input_12.14/Zscore/2020-06-01_2020-09-01.par\n",
      "save to  /home/wuwenjun/Data/AlphaNet_Original_Input_12.14/Zscore/2020-03-01_2020-06-01.par\n",
      "read/home/wuwenjun/Data/AlphaNet_Original_Input_12.14/Data/2016-01-01_2016-03-01.par\n",
      "read/home/wuwenjun/Data/AlphaNet_Original_Input_12.14/Data/2017-01-01_2017-03-01.par\n"
     ]
    },
    {
     "name": "stderr",
     "output_type": "stream",
     "text": [
      "100%|██████████| 3/3 [00:35<00:00, 12.00s/it]\n",
      "100%|██████████| 3/3 [00:00<00:00, 252.58it/s]\n",
      "100%|██████████| 3/3 [00:00<00:00, 165.93it/s]\n"
     ]
    },
    {
     "name": "stdout",
     "output_type": "stream",
     "text": [
      "save to  /home/wuwenjun/Data/AlphaNet_Original_Input_12.14/Return/2016-01-01_2016-03-01.par\n",
      "save to  /home/wuwenjun/Data/AlphaNet_Original_Input_12.14/Return/2017-01-01_2017-03-01.par\n",
      "read/home/wuwenjun/Data/AlphaNet_Original_Input_12.14/Data/2015-06-01_2015-09-01.par\n"
     ]
    },
    {
     "name": "stderr",
     "output_type": "stream",
     "text": [
      "100%|██████████| 3/3 [00:00<00:00, 67.51it/s]\n"
     ]
    },
    {
     "name": "stdout",
     "output_type": "stream",
     "text": [
      "read/home/wuwenjun/Data/AlphaNet_Original_Input_12.14/Data/2018-01-01_2018-03-01.par\n"
     ]
    },
    {
     "name": "stderr",
     "output_type": "stream",
     "text": [
      "100%|██████████| 3/3 [00:01<00:00,  2.42it/s]\n"
     ]
    },
    {
     "name": "stdout",
     "output_type": "stream",
     "text": [
      "save to  /home/wuwenjun/Data/AlphaNet_Original_Input_12.14/Return/2015-03-01_2015-06-01.par\n"
     ]
    },
    {
     "name": "stderr",
     "output_type": "stream",
     "text": [
      " 33%|███▎      | 1/3 [00:00<00:00,  2.23it/s]"
     ]
    },
    {
     "name": "stdout",
     "output_type": "stream",
     "text": [
      "read/home/wuwenjun/Data/AlphaNet_Original_Input_12.14/Data/2016-03-01_2016-06-01.par\n"
     ]
    },
    {
     "name": "stderr",
     "output_type": "stream",
     "text": [
      "100%|██████████| 3/3 [00:00<00:00, 114.97it/s]\n",
      "100%|██████████| 3/3 [00:01<00:00,  2.34it/s]\n",
      "100%|██████████| 3/3 [00:00<00:00, 41.92it/s]\n"
     ]
    },
    {
     "name": "stdout",
     "output_type": "stream",
     "text": [
      "save to  /home/wuwenjun/Data/AlphaNet_Original_Input_12.14/Return/2018-01-01_2018-03-01.par\n"
     ]
    },
    {
     "name": "stderr",
     "output_type": "stream",
     "text": [
      "\r",
      " 67%|██████▋   | 2/3 [00:01<00:00,  1.59it/s]"
     ]
    },
    {
     "name": "stdout",
     "output_type": "stream",
     "text": [
      "read/home/wuwenjun/Data/AlphaNet_Original_Input_12.14/Data/2021-01-01_2021-03-01.par\n",
      "save to  /home/wuwenjun/Data/AlphaNet_Original_Input_12.14/Zscore/2019-06-01_2019-09-01.par\n"
     ]
    },
    {
     "name": "stderr",
     "output_type": "stream",
     "text": [
      "100%|██████████| 3/3 [00:01<00:00,  1.91it/s]\n",
      "100%|██████████| 3/3 [00:01<00:00,  1.99it/s]\n"
     ]
    },
    {
     "name": "stdout",
     "output_type": "stream",
     "text": [
      "read/home/wuwenjun/Data/AlphaNet_Original_Input_12.14/Data/2016-06-01_2016-09-01.par\n"
     ]
    },
    {
     "name": "stderr",
     "output_type": "stream",
     "text": [
      "100%|██████████| 3/3 [00:01<00:00,  1.51it/s]\n",
      "100%|██████████| 3/3 [00:01<00:00,  1.64it/s]\n"
     ]
    },
    {
     "name": "stdout",
     "output_type": "stream",
     "text": [
      "save to  /home/wuwenjun/Data/AlphaNet_Original_Input_12.14/Return/2015-06-01_2015-09-01.par\n",
      "read/home/wuwenjun/Data/AlphaNet_Original_Input_12.14/Data/2015-09-01_2016-01-01.par\n",
      "save to  /home/wuwenjun/Data/AlphaNet_Original_Input_12.14/Zscore/2019-03-01_2019-06-01.par\n"
     ]
    },
    {
     "name": "stderr",
     "output_type": "stream",
     "text": [
      "100%|██████████| 3/3 [00:00<00:00, 102.58it/s]\n"
     ]
    },
    {
     "name": "stdout",
     "output_type": "stream",
     "text": [
      "read/home/wuwenjun/Data/AlphaNet_Original_Input_12.14/Data/2020-01-01_2020-03-01.par\n"
     ]
    },
    {
     "name": "stderr",
     "output_type": "stream",
     "text": [
      "100%|██████████| 3/3 [00:00<00:00, 98.60it/s]\n"
     ]
    },
    {
     "name": "stdout",
     "output_type": "stream",
     "text": [
      "save to  /home/wuwenjun/Data/AlphaNet_Original_Input_12.14/Zscore/2018-09-01_2019-01-01.par\n",
      "save to  /home/wuwenjun/Data/AlphaNet_Original_Input_12.14/Zscore/2017-09-01_2018-01-01.par\n",
      "save to  /home/wuwenjun/Data/AlphaNet_Original_Input_12.14/Zscore/2019-09-01_2020-01-01.par\n",
      "save to  /home/wuwenjun/Data/AlphaNet_Original_Input_12.14/Zscore/2020-09-01_2021-01-01.par\n",
      "read/home/wuwenjun/Data/AlphaNet_Original_Input_12.14/Data/2019-01-01_2019-03-01.par\n",
      "read/home/wuwenjun/Data/AlphaNet_Original_Input_12.14/Data/2017-03-01_2017-06-01.par\n"
     ]
    },
    {
     "name": "stderr",
     "output_type": "stream",
     "text": [
      "100%|██████████| 3/3 [00:00<00:00, 37.40it/s]\n"
     ]
    },
    {
     "name": "stdout",
     "output_type": "stream",
     "text": [
      "read/home/wuwenjun/Data/AlphaNet_Original_Input_12.14/Data/2021-03-01_2021-06-01.par\n",
      "save to  /home/wuwenjun/Data/AlphaNet_Original_Input_12.14/Return/2021-01-01_2021-03-01.par\n",
      "read/home/wuwenjun/Data/AlphaNet_Original_Input_12.14/Data/2018-03-01_2018-06-01.par\n",
      "save to  /home/wuwenjun/Data/AlphaNet_Original_Input_12.14/Return/2016-03-01_2016-06-01.par\n",
      "read/home/wuwenjun/Data/AlphaNet_Original_Input_12.14/Data/2018-06-01_2018-09-01.par\n",
      "read/home/wuwenjun/Data/AlphaNet_Original_Input_12.14/Data/2016-09-01_2017-01-01.par\n"
     ]
    },
    {
     "name": "stderr",
     "output_type": "stream",
     "text": [
      "100%|██████████| 3/3 [00:00<00:00, 48.72it/s]\n"
     ]
    },
    {
     "name": "stdout",
     "output_type": "stream",
     "text": [
      "save to  /home/wuwenjun/Data/AlphaNet_Original_Input_12.14/Return/2016-06-01_2016-09-01.par\n",
      "read/home/wuwenjun/Data/AlphaNet_Original_Input_12.14/Data/2017-06-01_2017-09-01.par\n"
     ]
    },
    {
     "name": "stderr",
     "output_type": "stream",
     "text": [
      "100%|██████████| 3/3 [00:00<00:00, 112.32it/s]\n",
      "100%|██████████| 3/3 [00:00<00:00, 28.54it/s]\n"
     ]
    },
    {
     "name": "stdout",
     "output_type": "stream",
     "text": [
      "save to  /home/wuwenjun/Data/AlphaNet_Original_Input_12.14/Return/2020-01-01_2020-03-01.par\n",
      "save to  /home/wuwenjun/Data/AlphaNet_Original_Input_12.14/Cov/2019-09-01_2020-01-01.parread/home/wuwenjun/Data/AlphaNet_Original_Input_12.14/Data/2020-06-01_2020-09-01.par\n",
      "\n",
      "save to  /home/wuwenjun/Data/AlphaNet_Original_Input_12.14/Return/2019-01-01_2019-03-01.par\n",
      "read/home/wuwenjun/Data/AlphaNet_Original_Input_12.14/Data/2020-03-01_2020-06-01.par\n",
      "read/home/wuwenjun/Data/AlphaNet_Original_Input_12.14/Data/2020-09-01_2021-01-01.par\n"
     ]
    },
    {
     "name": "stderr",
     "output_type": "stream",
     "text": [
      "100%|██████████| 3/3 [00:00<00:00, 39.41it/s]\n",
      "100%|██████████| 3/3 [00:00<00:00, 70.65it/s]\n",
      "100%|██████████| 3/3 [00:00<00:00, 43.59it/s]\n",
      "100%|██████████| 3/3 [00:00<00:00, 38.52it/s]\n"
     ]
    },
    {
     "name": "stdout",
     "output_type": "stream",
     "text": [
      "save to  /home/wuwenjun/Data/AlphaNet_Original_Input_12.14/Return/2015-09-01_2016-01-01.par\n",
      "read/home/wuwenjun/Data/AlphaNet_Original_Input_12.14/Data/2019-06-01_2019-09-01.par\n"
     ]
    },
    {
     "name": "stderr",
     "output_type": "stream",
     "text": [
      "100%|██████████| 3/3 [00:00<00:00, 76.84it/s]\n",
      "  0%|          | 0/3 [00:00<?, ?it/s]"
     ]
    },
    {
     "name": "stdout",
     "output_type": "stream",
     "text": [
      "save to  /home/wuwenjun/Data/AlphaNet_Original_Input_12.14/Return/2017-03-01_2017-06-01.par\n"
     ]
    },
    {
     "name": "stderr",
     "output_type": "stream",
     "text": [
      "100%|██████████| 3/3 [00:00<00:00, 63.01it/s]\n"
     ]
    },
    {
     "name": "stdout",
     "output_type": "stream",
     "text": [
      "save to  /home/wuwenjun/Data/AlphaNet_Original_Input_12.14/Return/2021-03-01_2021-06-01.par\n",
      "read/home/wuwenjun/Data/AlphaNet_Original_Input_12.14/Data/2019-03-01_2019-06-01.par\n",
      "save to  /home/wuwenjun/Data/AlphaNet_Original_Input_12.14/Return/2018-03-01_2018-06-01.par\n",
      "save to  /home/wuwenjun/Data/AlphaNet_Original_Input_12.14/Return/2018-06-01_2018-09-01.par\n",
      "read/home/wuwenjun/Data/AlphaNet_Original_Input_12.14/Data/2017-09-01_2018-01-01.par\n",
      "read/home/wuwenjun/Data/AlphaNet_Original_Input_12.14/Data/2018-09-01_2019-01-01.par\n",
      "read/home/wuwenjun/Data/AlphaNet_Original_Input_12.14/Data/2019-09-01_2020-01-01.par\n"
     ]
    },
    {
     "name": "stderr",
     "output_type": "stream",
     "text": [
      "\r",
      "  0%|          | 0/3 [00:00<?, ?it/s]"
     ]
    },
    {
     "name": "stdout",
     "output_type": "stream",
     "text": [
      "save to  /home/wuwenjun/Data/AlphaNet_Original_Input_12.14/Return/2016-09-01_2017-01-01.par\n"
     ]
    },
    {
     "name": "stderr",
     "output_type": "stream",
     "text": [
      "100%|██████████| 3/3 [00:00<00:00, 87.49it/s]\n",
      "100%|██████████| 3/3 [00:00<00:00, 40.37it/s]\n"
     ]
    },
    {
     "name": "stdout",
     "output_type": "stream",
     "text": [
      "read/home/wuwenjun/Data/AlphaNet_Original_Input_12.14/Data/2015-01-01_2015-03-01.par\n",
      "save to  /home/wuwenjun/Data/AlphaNet_Original_Input_12.14/Return/2017-06-01_2017-09-01.par\n"
     ]
    },
    {
     "name": "stderr",
     "output_type": "stream",
     "text": [
      "100%|██████████| 3/3 [00:00<00:00, 331.05it/s]\n"
     ]
    },
    {
     "name": "stdout",
     "output_type": "stream",
     "text": [
      "save to  /home/wuwenjun/Data/AlphaNet_Original_Input_12.14/Decay/2015-01-01_2015-03-01.par\n",
      "read/home/wuwenjun/Data/AlphaNet_Original_Input_12.14/Data/2015-03-01_2015-06-01.par\n",
      "read/home/wuwenjun/Data/AlphaNet_Original_Input_12.14/Data/2016-01-01_2016-03-01.par\n",
      "save to  /home/wuwenjun/Data/AlphaNet_Original_Input_12.14/Return/2020-03-01_2020-06-01.par\n",
      "save to  /home/wuwenjun/Data/AlphaNet_Original_Input_12.14/Return/2020-06-01_2020-09-01.par\n",
      "read/home/wuwenjun/Data/AlphaNet_Original_Input_12.14/Data/2017-01-01_2017-03-01.par\n"
     ]
    },
    {
     "name": "stderr",
     "output_type": "stream",
     "text": [
      "\r",
      "  0%|          | 0/3 [00:00<?, ?it/s]"
     ]
    },
    {
     "name": "stdout",
     "output_type": "stream",
     "text": [
      "read/home/wuwenjun/Data/AlphaNet_Original_Input_12.14/Data/2015-06-01_2015-09-01.par\n"
     ]
    },
    {
     "name": "stderr",
     "output_type": "stream",
     "text": [
      "100%|██████████| 3/3 [00:00<00:00, 56.36it/s]\n",
      "100%|██████████| 3/3 [00:00<00:00, 57.80it/s]\n",
      "100%|██████████| 3/3 [00:00<00:00, 85.14it/s]\n",
      "100%|██████████| 3/3 [00:00<00:00,  8.57it/s]\n",
      "  0%|          | 0/3 [00:00<?, ?it/s]"
     ]
    },
    {
     "name": "stdout",
     "output_type": "stream",
     "text": [
      "save to  /home/wuwenjun/Data/AlphaNet_Original_Input_12.14/Decay/2016-01-01_2016-03-01.par\n",
      "read/home/wuwenjun/Data/AlphaNet_Original_Input_12.14/Data/2018-01-01_2018-03-01.par\n"
     ]
    },
    {
     "name": "stderr",
     "output_type": "stream",
     "text": [
      "100%|██████████| 3/3 [00:00<00:00, 20.93it/s]\n",
      "100%|██████████| 3/3 [00:00<00:00, 65.27it/s]\n"
     ]
    },
    {
     "name": "stdout",
     "output_type": "stream",
     "text": [
      "save to  /home/wuwenjun/Data/AlphaNet_Original_Input_12.14/Return/2019-06-01_2019-09-01.par\n"
     ]
    },
    {
     "name": "stderr",
     "output_type": "stream",
     "text": [
      "100%|██████████| 3/3 [00:00<00:00, 65.67it/s]\n",
      "100%|██████████| 3/3 [00:00<00:00,  9.27it/s]\n"
     ]
    },
    {
     "name": "stdout",
     "output_type": "stream",
     "text": [
      "read/home/wuwenjun/Data/AlphaNet_Original_Input_12.14/Data/2016-03-01_2016-06-01.par\n",
      "save to  /home/wuwenjun/Data/AlphaNet_Original_Input_12.14/Return/2019-03-01_2019-06-01.par\n",
      "save to  /home/wuwenjun/Data/AlphaNet_Original_Input_12.14/Return/2020-09-01_2021-01-01.par\n"
     ]
    },
    {
     "name": "stderr",
     "output_type": "stream",
     "text": [
      "\r",
      "  0%|          | 0/3 [00:00<?, ?it/s]"
     ]
    },
    {
     "name": "stdout",
     "output_type": "stream",
     "text": [
      "save to  /home/wuwenjun/Data/AlphaNet_Original_Input_12.14/Decay/2017-01-01_2017-03-01.par"
     ]
    },
    {
     "name": "stderr",
     "output_type": "stream",
     "text": [
      "\r",
      "100%|██████████| 3/3 [00:00<00:00, 62.84it/s]"
     ]
    },
    {
     "name": "stdout",
     "output_type": "stream",
     "text": [
      "\n"
     ]
    },
    {
     "name": "stderr",
     "output_type": "stream",
     "text": [
      "\n"
     ]
    },
    {
     "name": "stdout",
     "output_type": "stream",
     "text": [
      "read/home/wuwenjun/Data/AlphaNet_Original_Input_12.14/Data/2021-01-01_2021-03-01.par\n",
      "read/home/wuwenjun/Data/AlphaNet_Original_Input_12.14/Data/2016-06-01_2016-09-01.par\n",
      "save to  /home/wuwenjun/Data/AlphaNet_Original_Input_12.14/Decay/2015-03-01_2015-06-01.par\n"
     ]
    },
    {
     "name": "stderr",
     "output_type": "stream",
     "text": [
      "\r",
      "  0%|          | 0/3 [00:00<?, ?it/s]"
     ]
    },
    {
     "name": "stdout",
     "output_type": "stream",
     "text": [
      "read/home/wuwenjun/Data/AlphaNet_Original_Input_12.14/Data/2015-09-01_2016-01-01.par\n",
      "read/home/wuwenjun/Data/AlphaNet_Original_Input_12.14/Data/2020-01-01_2020-03-01.par\n"
     ]
    },
    {
     "name": "stderr",
     "output_type": "stream",
     "text": [
      "  0%|          | 0/3 [00:00<?, ?it/s].69it/s]"
     ]
    },
    {
     "name": "stdout",
     "output_type": "stream",
     "text": [
      "save to  /home/wuwenjun/Data/AlphaNet_Original_Input_12.14/Return/2017-09-01_2018-01-01.par\n"
     ]
    },
    {
     "name": "stderr",
     "output_type": "stream",
     "text": [
      " 67%|██████▋   | 2/3 [00:00<00:00,  4.35it/s]"
     ]
    },
    {
     "name": "stdout",
     "output_type": "stream",
     "text": [
      "save to  /home/wuwenjun/Data/AlphaNet_Original_Input_12.14/Return/2019-09-01_2020-01-01.par\n"
     ]
    },
    {
     "name": "stderr",
     "output_type": "stream",
     "text": [
      "100%|██████████| 3/3 [00:00<00:00,  4.95it/s]\n",
      "100%|██████████| 3/3 [00:00<00:00,  6.59it/s]\n"
     ]
    },
    {
     "name": "stdout",
     "output_type": "stream",
     "text": [
      "read/home/wuwenjun/Data/AlphaNet_Original_Input_12.14/Data/2019-01-01_2019-03-01.par\n",
      "read/home/wuwenjun/Data/AlphaNet_Original_Input_12.14/Data/2017-03-01_2017-06-01.par\n",
      "save to  /home/wuwenjun/Data/AlphaNet_Original_Input_12.14/Return/2018-09-01_2019-01-01.par\n",
      "save to  /home/wuwenjun/Data/AlphaNet_Original_Input_12.14/Decay/2018-01-01_2018-03-01.par\n",
      "read/home/wuwenjun/Data/AlphaNet_Original_Input_12.14/Data/2021-03-01_2021-06-01.par\n"
     ]
    },
    {
     "name": "stderr",
     "output_type": "stream",
     "text": [
      "\r",
      "  0%|          | 0/3 [00:00<?, ?it/s]"
     ]
    },
    {
     "name": "stdout",
     "output_type": "stream",
     "text": [
      "read/home/wuwenjun/Data/AlphaNet_Original_Input_12.14/Data/2018-03-01_2018-06-01.par\n"
     ]
    },
    {
     "name": "stderr",
     "output_type": "stream",
     "text": [
      "100%|██████████| 3/3 [00:00<00:00, 21.76it/s]\n",
      " 33%|███▎      | 1/3 [00:00<00:00,  5.62it/s]"
     ]
    },
    {
     "name": "stdout",
     "output_type": "stream",
     "text": [
      "save to  /home/wuwenjun/Data/AlphaNet_Original_Input_12.14/Decay/2015-06-01_2015-09-01.par\n"
     ]
    },
    {
     "name": "stderr",
     "output_type": "stream",
     "text": [
      "100%|██████████| 3/3 [00:00<00:00, 10.54it/s]\n",
      "100%|██████████| 3/3 [00:00<00:00,  8.74it/s]\n",
      "  0%|          | 0/3 [00:00<?, ?it/s]"
     ]
    },
    {
     "name": "stdout",
     "output_type": "stream",
     "text": [
      "read/home/wuwenjun/Data/AlphaNet_Original_Input_12.14/Data/2018-06-01_2018-09-01.par\n"
     ]
    },
    {
     "name": "stderr",
     "output_type": "stream",
     "text": [
      "100%|██████████| 3/3 [00:00<00:00, 15.75it/s]\n",
      "100%|██████████| 3/3 [00:00<00:00, 25.09it/s]\n",
      " 67%|██████▋   | 2/3 [00:00<00:00, 12.99it/s]"
     ]
    },
    {
     "name": "stdout",
     "output_type": "stream",
     "text": [
      "save to  /home/wuwenjun/Data/AlphaNet_Original_Input_12.14/Decay/2020-01-01_2020-03-01.par\n"
     ]
    },
    {
     "name": "stderr",
     "output_type": "stream",
     "text": [
      "100%|██████████| 3/3 [00:00<00:00, 13.53it/s]\n",
      "  0%|          | 0/3 [00:00<?, ?it/s]"
     ]
    },
    {
     "name": "stdout",
     "output_type": "stream",
     "text": [
      "save to  /home/wuwenjun/Data/AlphaNet_Original_Input_12.14/Decay/2021-01-01_2021-03-01.par\n",
      "read/home/wuwenjun/Data/AlphaNet_Original_Input_12.14/Data/2016-09-01_2017-01-01.par\n",
      "save to  /home/wuwenjun/Data/AlphaNet_Original_Input_12.14/Decay/2016-03-01_2016-06-01.par\n",
      "save to  /home/wuwenjun/Data/AlphaNet_Original_Input_12.14/Decay/2019-01-01_2019-03-01.par\n"
     ]
    },
    {
     "name": "stderr",
     "output_type": "stream",
     "text": [
      "\r",
      " 33%|███▎      | 1/3 [00:00<00:00,  6.65it/s]"
     ]
    },
    {
     "name": "stdout",
     "output_type": "stream",
     "text": [
      "read/home/wuwenjun/Data/AlphaNet_Original_Input_12.14/Data/2017-06-01_2017-09-01.par\n",
      "read/home/wuwenjun/Data/AlphaNet_Original_Input_12.14/Data/2020-06-01_2020-09-01.par\n",
      "read/home/wuwenjun/Data/AlphaNet_Original_Input_12.14/Data/2020-03-01_2020-06-01.par\n"
     ]
    },
    {
     "name": "stderr",
     "output_type": "stream",
     "text": [
      "\r",
      " 67%|██████▋   | 2/3 [00:00<00:00,  4.69it/s]"
     ]
    },
    {
     "name": "stdout",
     "output_type": "stream",
     "text": [
      "save to  /home/wuwenjun/Data/AlphaNet_Original_Input_12.14/Decay/2016-06-01_2016-09-01.par\n"
     ]
    },
    {
     "name": "stderr",
     "output_type": "stream",
     "text": [
      "100%|██████████| 3/3 [00:00<00:00,  4.33it/s]\n"
     ]
    },
    {
     "name": "stdout",
     "output_type": "stream",
     "text": [
      "read/home/wuwenjun/Data/AlphaNet_Original_Input_12.14/Data/2020-09-01_2021-01-01.par\n"
     ]
    },
    {
     "name": "stderr",
     "output_type": "stream",
     "text": [
      "\r",
      "  0%|          | 0/3 [00:00<?, ?it/s]"
     ]
    },
    {
     "name": "stdout",
     "output_type": "stream",
     "text": [
      "save to  /home/wuwenjun/Data/AlphaNet_Original_Input_12.14/Decay/2015-09-01_2016-01-01.par\n"
     ]
    },
    {
     "name": "stderr",
     "output_type": "stream",
     "text": [
      "\r",
      " 33%|███▎      | 1/3 [00:00<00:00,  3.59it/s]"
     ]
    },
    {
     "name": "stdout",
     "output_type": "stream",
     "text": [
      "read/home/wuwenjun/Data/AlphaNet_Original_Input_12.14/Data/2019-06-01_2019-09-01.par\n"
     ]
    },
    {
     "name": "stderr",
     "output_type": "stream",
     "text": [
      "  0%|          | 0/3 [00:00<?, ?it/s].50it/s]"
     ]
    },
    {
     "name": "stdout",
     "output_type": "stream",
     "text": [
      "save to  /home/wuwenjun/Data/AlphaNet_Original_Input_12.14/Decay/2017-03-01_2017-06-01.par\n"
     ]
    },
    {
     "name": "stderr",
     "output_type": "stream",
     "text": [
      "100%|██████████| 3/3 [00:00<00:00,  4.29it/s]\n"
     ]
    },
    {
     "name": "stdout",
     "output_type": "stream",
     "text": [
      "read/home/wuwenjun/Data/AlphaNet_Original_Input_12.14/Data/2019-03-01_2019-06-01.par\n"
     ]
    },
    {
     "name": "stderr",
     "output_type": "stream",
     "text": [
      "100%|██████████| 3/3 [00:00<00:00,  3.37it/s]\n"
     ]
    },
    {
     "name": "stdout",
     "output_type": "stream",
     "text": [
      "save to  /home/wuwenjun/Data/AlphaNet_Original_Input_12.14/Decay/2018-03-01_2018-06-01.par\n"
     ]
    },
    {
     "name": "stderr",
     "output_type": "stream",
     "text": [
      "100%|██████████| 3/3 [00:00<00:00,  4.05it/s]\n",
      "  0%|          | 0/3 [00:00<?, ?it/s]"
     ]
    },
    {
     "name": "stdout",
     "output_type": "stream",
     "text": [
      "read/home/wuwenjun/Data/AlphaNet_Original_Input_12.14/Data/2017-09-01_2018-01-01.par"
     ]
    },
    {
     "name": "stderr",
     "output_type": "stream",
     "text": [
      "\r",
      " 67%|██████▋   | 2/3 [00:00<00:00, 12.36it/s]"
     ]
    },
    {
     "name": "stdout",
     "output_type": "stream",
     "text": [
      "\n"
     ]
    },
    {
     "name": "stderr",
     "output_type": "stream",
     "text": [
      "100%|██████████| 3/3 [00:00<00:00, 11.44it/s]\n",
      "100%|██████████| 3/3 [00:00<00:00,  4.14it/s]\n",
      "100%|██████████| 3/3 [00:00<00:00,  3.98it/s]\n",
      "100%|██████████| 3/3 [00:00<00:00,  4.04it/s]\n"
     ]
    },
    {
     "name": "stdout",
     "output_type": "stream",
     "text": [
      "save to  /home/wuwenjun/Data/AlphaNet_Original_Input_12.14/Decay/2021-03-01_2021-06-01.par\n"
     ]
    },
    {
     "name": "stderr",
     "output_type": "stream",
     "text": [
      "  0%|          | 0/3 [00:00<?, ?it/s].41it/s]"
     ]
    },
    {
     "name": "stdout",
     "output_type": "stream",
     "text": [
      "save to  /home/wuwenjun/Data/AlphaNet_Original_Input_12.14/Decay/2018-06-01_2018-09-01.par\n"
     ]
    },
    {
     "name": "stderr",
     "output_type": "stream",
     "text": [
      " 67%|██████▋   | 2/3 [00:00<00:00,  5.53it/s]"
     ]
    },
    {
     "name": "stdout",
     "output_type": "stream",
     "text": [
      "read/home/wuwenjun/Data/AlphaNet_Original_Input_12.14/Data/2018-09-01_2019-01-01.par\n",
      "read/home/wuwenjun/Data/AlphaNet_Original_Input_12.14/Data/2019-09-01_2020-01-01.par\n"
     ]
    },
    {
     "name": "stderr",
     "output_type": "stream",
     "text": [
      "100%|██████████| 3/3 [00:00<00:00,  5.49it/s]\n"
     ]
    },
    {
     "name": "stdout",
     "output_type": "stream",
     "text": [
      "save to  /home/wuwenjun/Data/AlphaNet_Original_Input_12.14/Decay/2017-06-01_2017-09-01.par\n"
     ]
    },
    {
     "name": "stderr",
     "output_type": "stream",
     "text": [
      "100%|██████████| 3/3 [00:00<00:00,  5.02it/s]\n"
     ]
    },
    {
     "name": "stdout",
     "output_type": "stream",
     "text": [
      "save to  /home/wuwenjun/Data/AlphaNet_Original_Input_12.14/Decay/2020-06-01_2020-09-01.par\n"
     ]
    },
    {
     "name": "stderr",
     "output_type": "stream",
     "text": [
      "\r",
      " 67%|██████▋   | 2/3 [00:00<00:00,  2.77it/s]"
     ]
    },
    {
     "name": "stdout",
     "output_type": "stream",
     "text": [
      "save to  /home/wuwenjun/Data/AlphaNet_Original_Input_12.14/Decay/2020-03-01_2020-06-01.par\n",
      "save to  /home/wuwenjun/Data/AlphaNet_Original_Input_12.14/Decay/2016-09-01_2017-01-01.par\n"
     ]
    },
    {
     "name": "stderr",
     "output_type": "stream",
     "text": [
      "100%|██████████| 3/3 [00:01<00:00,  2.85it/s]\n"
     ]
    },
    {
     "name": "stdout",
     "output_type": "stream",
     "text": [
      "save to  /home/wuwenjun/Data/AlphaNet_Original_Input_12.14/Decay/2019-06-01_2019-09-01.par\n",
      "save to  /home/wuwenjun/Data/AlphaNet_Original_Input_12.14/Decay/2019-03-01_2019-06-01.par\n"
     ]
    },
    {
     "name": "stderr",
     "output_type": "stream",
     "text": [
      "\r",
      "  0%|          | 0/3 [00:00<?, ?it/s]"
     ]
    },
    {
     "name": "stdout",
     "output_type": "stream",
     "text": [
      "save to  /home/wuwenjun/Data/AlphaNet_Original_Input_12.14/Decay/2020-09-01_2021-01-01.par\n"
     ]
    },
    {
     "name": "stderr",
     "output_type": "stream",
     "text": [
      "100%|██████████| 3/3 [00:00<00:00,  4.54it/s]\n",
      " 67%|██████▋   | 2/3 [00:00<00:00,  4.60it/s]"
     ]
    },
    {
     "name": "stdout",
     "output_type": "stream",
     "text": [
      "save to  /home/wuwenjun/Data/AlphaNet_Original_Input_12.14/Decay/2017-09-01_2018-01-01.par\n"
     ]
    },
    {
     "name": "stderr",
     "output_type": "stream",
     "text": [
      "100%|██████████| 3/3 [00:00<00:00,  4.24it/s]\n",
      "100%|██████████| 3/3 [00:00<00:00,  4.62it/s]\n"
     ]
    },
    {
     "name": "stdout",
     "output_type": "stream",
     "text": [
      "save to  /home/wuwenjun/Data/AlphaNet_Original_Input_12.14/Decay/2018-09-01_2019-01-01.par\n",
      "save to  /home/wuwenjun/Data/AlphaNet_Original_Input_12.14/Decay/2019-09-01_2020-01-01.par\n",
      "read/home/wuwenjun/Data/AlphaNet_Original_Input_12.14/Data/2016-03-01_2016-06-01.parread/home/wuwenjun/Data/AlphaNet_Original_Input_12.14/Data/2015-09-01_2016-01-01.parread/home/wuwenjun/Data/AlphaNet_Original_Input_12.14/Data/2015-01-01_2015-03-01.parread/home/wuwenjun/Data/AlphaNet_Original_Input_12.14/Data/2017-01-01_2017-03-01.parread/home/wuwenjun/Data/AlphaNet_Original_Input_12.14/Data/2018-01-01_2018-03-01.parread/home/wuwenjun/Data/AlphaNet_Original_Input_12.14/Data/2015-03-01_2015-06-01.parread/home/wuwenjun/Data/AlphaNet_Original_Input_12.14/Data/2016-01-01_2016-03-01.parread/home/wuwenjun/Data/AlphaNet_Original_Input_12.14/Data/2015-06-01_2015-09-01.parread/home/wuwenjun/Data/AlphaNet_Original_Input_12.14/Data/2021-01-01_2021-03-01.parread/home/wuwenjun/Data/AlphaNet_Original_Input_12.14/Data/2016-06-01_2016-09-01.par\n",
      "\n",
      "\n",
      "\n",
      "\n",
      "\n",
      "\n",
      "\n",
      "\n",
      "\n"
     ]
    },
    {
     "name": "stderr",
     "output_type": "stream",
     "text": [
      "100%|██████████| 3/3 [00:01<00:00,  1.80it/s]\n",
      "  0%|          | 0/3 [00:00<?, ?it/s]"
     ]
    },
    {
     "name": "stdout",
     "output_type": "stream",
     "text": [
      "save to  /home/wuwenjun/Data/AlphaNet_Original_Input_12.14/Corr/2015-01-01_2015-03-01.par\n",
      "read/home/wuwenjun/Data/AlphaNet_Original_Input_12.14/Data/2020-01-01_2020-03-01.par\n"
     ]
    },
    {
     "name": "stderr",
     "output_type": "stream",
     "text": [
      "100%|██████████| 3/3 [00:10<00:00,  3.34s/it]\n",
      " 67%|██████▋   | 2/3 [00:11<00:05,  5.75s/it]"
     ]
    },
    {
     "name": "stdout",
     "output_type": "stream",
     "text": [
      "save to  /home/wuwenjun/Data/AlphaNet_Original_Input_12.14/Corr/2016-01-01_2016-03-01.par\n"
     ]
    },
    {
     "name": "stderr",
     "output_type": "stream",
     "text": [
      "100%|██████████| 3/3 [00:12<00:00,  4.01s/it]\n"
     ]
    },
    {
     "name": "stdout",
     "output_type": "stream",
     "text": [
      "read/home/wuwenjun/Data/AlphaNet_Original_Input_12.14/Data/2019-01-01_2019-03-01.par\n"
     ]
    },
    {
     "name": "stderr",
     "output_type": "stream",
     "text": [
      "100%|██████████| 3/3 [00:13<00:00,  4.53s/it]\n",
      " 67%|██████▋   | 2/3 [00:13<00:06,  6.53s/it]"
     ]
    },
    {
     "name": "stdout",
     "output_type": "stream",
     "text": [
      "save to  /home/wuwenjun/Data/AlphaNet_Original_Input_12.14/Corr/2017-01-01_2017-03-01.par\n",
      "read/home/wuwenjun/Data/AlphaNet_Original_Input_12.14/Data/2017-03-01_2017-06-01.par\n"
     ]
    },
    {
     "name": "stderr",
     "output_type": "stream",
     "text": [
      "100%|██████████| 3/3 [00:14<00:00,  4.71s/it]\n"
     ]
    },
    {
     "name": "stdout",
     "output_type": "stream",
     "text": [
      "save to  /home/wuwenjun/Data/AlphaNet_Original_Input_12.14/Corr/2018-01-01_2018-03-01.par\n",
      "read/home/wuwenjun/Data/AlphaNet_Original_Input_12.14/Data/2021-03-01_2021-06-01.par\n"
     ]
    },
    {
     "name": "stderr",
     "output_type": "stream",
     "text": [
      "\r",
      "  0%|          | 0/3 [00:00<?, ?it/s]"
     ]
    },
    {
     "name": "stdout",
     "output_type": "stream",
     "text": [
      "save to  /home/wuwenjun/Data/AlphaNet_Original_Input_12.14/Corr/2021-01-01_2021-03-01.par\n"
     ]
    },
    {
     "name": "stderr",
     "output_type": "stream",
     "text": [
      "100%|██████████| 3/3 [00:17<00:00,  5.81s/it]\n"
     ]
    },
    {
     "name": "stdout",
     "output_type": "stream",
     "text": [
      "read/home/wuwenjun/Data/AlphaNet_Original_Input_12.14/Data/2018-03-01_2018-06-01.par\n"
     ]
    },
    {
     "name": "stderr",
     "output_type": "stream",
     "text": [
      "100%|██████████| 3/3 [00:16<00:00,  5.39s/it]\n",
      "100%|██████████| 3/3 [00:18<00:00,  6.32s/it]\n",
      "100%|██████████| 3/3 [00:19<00:00,  6.50s/it]\n",
      "100%|██████████| 3/3 [00:19<00:00,  6.59s/it]\n"
     ]
    },
    {
     "name": "stdout",
     "output_type": "stream",
     "text": [
      "save to  /home/wuwenjun/Data/AlphaNet_Original_Input_12.14/Corr/2020-01-01_2020-03-01.par\n",
      "save to  /home/wuwenjun/Data/AlphaNet_Original_Input_12.14/Corr/2015-06-01_2015-09-01.par\n",
      "read/home/wuwenjun/Data/AlphaNet_Original_Input_12.14/Data/2018-06-01_2018-09-01.par\n",
      "read/home/wuwenjun/Data/AlphaNet_Original_Input_12.14/Data/2016-09-01_2017-01-01.par\n",
      "save to  /home/wuwenjun/Data/AlphaNet_Original_Input_12.14/Corr/2016-06-01_2016-09-01.par\n"
     ]
    },
    {
     "name": "stderr",
     "output_type": "stream",
     "text": [
      "\r",
      " 33%|███▎      | 1/3 [00:07<00:15,  7.61s/it]"
     ]
    },
    {
     "name": "stdout",
     "output_type": "stream",
     "text": [
      "read/home/wuwenjun/Data/AlphaNet_Original_Input_12.14/Data/2017-06-01_2017-09-01.par\n"
     ]
    },
    {
     "name": "stderr",
     "output_type": "stream",
     "text": [
      " 67%|██████▋   | 2/3 [00:10<00:05,  5.38s/it]"
     ]
    },
    {
     "name": "stdout",
     "output_type": "stream",
     "text": [
      "save to  /home/wuwenjun/Data/AlphaNet_Original_Input_12.14/Corr/2016-03-01_2016-06-01.par\n",
      "save to  /home/wuwenjun/Data/AlphaNet_Original_Input_12.14/Corr/2015-03-01_2015-06-01.par\n",
      "read/home/wuwenjun/Data/AlphaNet_Original_Input_12.14/Data/2020-06-01_2020-09-01.par\n",
      "read/home/wuwenjun/Data/AlphaNet_Original_Input_12.14/Data/2020-03-01_2020-06-01.par\n"
     ]
    },
    {
     "name": "stderr",
     "output_type": "stream",
     "text": [
      "100%|██████████| 3/3 [00:27<00:00,  9.13s/it]\n",
      "100%|██████████| 3/3 [00:15<00:00,  5.20s/it]\n",
      " 33%|███▎      | 1/3 [00:07<00:15,  7.63s/it]"
     ]
    },
    {
     "name": "stdout",
     "output_type": "stream",
     "text": [
      "save to  /home/wuwenjun/Data/AlphaNet_Original_Input_12.14/Corr/2019-01-01_2019-03-01.par\n",
      "read/home/wuwenjun/Data/AlphaNet_Original_Input_12.14/Data/2020-09-01_2021-01-01.par\n"
     ]
    },
    {
     "name": "stderr",
     "output_type": "stream",
     "text": [
      "\r",
      " 67%|██████▋   | 2/3 [00:13<00:07,  7.11s/it]"
     ]
    },
    {
     "name": "stdout",
     "output_type": "stream",
     "text": [
      "save to  /home/wuwenjun/Data/AlphaNet_Original_Input_12.14/Corr/2015-09-01_2016-01-01.par\n",
      "read/home/wuwenjun/Data/AlphaNet_Original_Input_12.14/Data/2019-06-01_2019-09-01.par\n"
     ]
    },
    {
     "name": "stderr",
     "output_type": "stream",
     "text": [
      "100%|██████████| 3/3 [00:24<00:00,  8.13s/it]\n",
      "100%|██████████| 3/3 [00:20<00:00,  6.99s/it]\n",
      " 33%|███▎      | 1/3 [00:07<00:15,  7.64s/it]"
     ]
    },
    {
     "name": "stdout",
     "output_type": "stream",
     "text": [
      "save to  /home/wuwenjun/Data/AlphaNet_Original_Input_12.14/Corr/2017-03-01_2017-06-01.par\n",
      "read/home/wuwenjun/Data/AlphaNet_Original_Input_12.14/Data/2019-03-01_2019-06-01.par\n",
      "save to  /home/wuwenjun/Data/AlphaNet_Original_Input_12.14/Corr/2018-03-01_2018-06-01.par\n"
     ]
    },
    {
     "name": "stderr",
     "output_type": "stream",
     "text": [
      "100%|██████████| 3/3 [00:27<00:00,  9.06s/it]\n"
     ]
    },
    {
     "name": "stdout",
     "output_type": "stream",
     "text": [
      "read/home/wuwenjun/Data/AlphaNet_Original_Input_12.14/Data/2017-09-01_2018-01-01.par\n"
     ]
    },
    {
     "name": "stderr",
     "output_type": "stream",
     "text": [
      "100%|██████████| 3/3 [00:20<00:00,  6.74s/it]\n",
      "100%|██████████| 3/3 [00:22<00:00,  7.66s/it]\n",
      " 33%|███▎      | 1/3 [00:13<00:26, 13.17s/it]"
     ]
    },
    {
     "name": "stdout",
     "output_type": "stream",
     "text": [
      "save to  /home/wuwenjun/Data/AlphaNet_Original_Input_12.14/Corr/2017-06-01_2017-09-01.par\n",
      "read/home/wuwenjun/Data/AlphaNet_Original_Input_12.14/Data/2018-09-01_2019-01-01.par\n"
     ]
    },
    {
     "name": "stderr",
     "output_type": "stream",
     "text": [
      "100%|██████████| 3/3 [00:23<00:00,  7.98s/it]\n",
      "100%|██████████| 3/3 [00:26<00:00,  8.83s/it]\n"
     ]
    },
    {
     "name": "stdout",
     "output_type": "stream",
     "text": [
      "save to  /home/wuwenjun/Data/AlphaNet_Original_Input_12.14/Corr/2016-09-01_2017-01-01.par\n",
      "read/home/wuwenjun/Data/AlphaNet_Original_Input_12.14/Data/2019-09-01_2020-01-01.par\n",
      "save to  /home/wuwenjun/Data/AlphaNet_Original_Input_12.14/Corr/2021-03-01_2021-06-01.par\n"
     ]
    },
    {
     "name": "stderr",
     "output_type": "stream",
     "text": [
      " 67%|██████▋   | 2/3 [00:18<00:09,  9.33s/it]"
     ]
    },
    {
     "name": "stdout",
     "output_type": "stream",
     "text": [
      "save to  /home/wuwenjun/Data/AlphaNet_Original_Input_12.14/Corr/2020-03-01_2020-06-01.par\n"
     ]
    },
    {
     "name": "stderr",
     "output_type": "stream",
     "text": [
      "\r",
      " 33%|███▎      | 1/3 [00:07<00:15,  7.63s/it]"
     ]
    },
    {
     "name": "stdout",
     "output_type": "stream",
     "text": [
      "save to  /home/wuwenjun/Data/AlphaNet_Original_Input_12.14/Corr/2018-06-01_2018-09-01.par\n"
     ]
    },
    {
     "name": "stderr",
     "output_type": "stream",
     "text": [
      "100%|██████████| 3/3 [00:30<00:00, 10.07s/it]\n",
      " 33%|███▎      | 1/3 [00:07<00:14,  7.19s/it]"
     ]
    },
    {
     "name": "stdout",
     "output_type": "stream",
     "text": [
      "save to  /home/wuwenjun/Data/AlphaNet_Original_Input_12.14/Corr/2020-06-01_2020-09-01.par\n"
     ]
    },
    {
     "name": "stderr",
     "output_type": "stream",
     "text": [
      "100%|██████████| 3/3 [00:26<00:00,  8.72s/it]\n",
      " 67%|██████▋   | 2/3 [00:17<00:08,  8.71s/it]"
     ]
    },
    {
     "name": "stdout",
     "output_type": "stream",
     "text": [
      "save to  /home/wuwenjun/Data/AlphaNet_Original_Input_12.14/Corr/2019-06-01_2019-09-01.par\n"
     ]
    },
    {
     "name": "stderr",
     "output_type": "stream",
     "text": [
      "100%|██████████| 3/3 [00:24<00:00,  8.15s/it]\n",
      "100%|██████████| 3/3 [00:25<00:00,  8.61s/it]\n",
      "100%|██████████| 3/3 [00:39<00:00, 13.08s/it]\n"
     ]
    },
    {
     "name": "stdout",
     "output_type": "stream",
     "text": [
      "save to  /home/wuwenjun/Data/AlphaNet_Original_Input_12.14/Corr/2017-09-01_2018-01-01.par\n"
     ]
    },
    {
     "name": "stderr",
     "output_type": "stream",
     "text": [
      "100%|██████████| 3/3 [00:24<00:00,  8.22s/it]\n"
     ]
    },
    {
     "name": "stdout",
     "output_type": "stream",
     "text": [
      "save to  /home/wuwenjun/Data/AlphaNet_Original_Input_12.14/Corr/2019-03-01_2019-06-01.par\n"
     ]
    },
    {
     "name": "stderr",
     "output_type": "stream",
     "text": [
      "100%|██████████| 3/3 [00:25<00:00,  8.57s/it]\n"
     ]
    },
    {
     "name": "stdout",
     "output_type": "stream",
     "text": [
      "save to  /home/wuwenjun/Data/AlphaNet_Original_Input_12.14/Corr/2020-09-01_2021-01-01.par\n",
      "save to  /home/wuwenjun/Data/AlphaNet_Original_Input_12.14/Corr/2018-09-01_2019-01-01.par\n",
      "save to  /home/wuwenjun/Data/AlphaNet_Original_Input_12.14/Corr/2019-09-01_2020-01-01.par\n",
      "并行执行时间： 213\n"
     ]
    }
   ],
   "source": [
    "import multiprocessing as mp\n",
    "pool = mp.Pool(10)\n",
    "t1 = time.time()\n",
    "dir_list = ['Cov','Std','Zscore','Return','Decay']\n",
    "for i in dir_list:\n",
    "    for alpha in path_list:\n",
    "        output = path + i + \"/\" \n",
    "        pool.apply_async(test, args=(data_path,alpha,output,i))   #维持执行的进程总数为10，当一个进程执行完后启动一个新进程.\n",
    "pool.close()\n",
    "pool.join()\n",
    "\n",
    "pool = mp.Pool(10)\n",
    "for alpha in path_list:\n",
    "    output = path + \"Corr\" + \"/\" \n",
    "    pool.apply_async(test, args=(data_path,alpha,output,\"Corr\"))   #维持执行的进程总数为10，当一个进程执行完后启动一个新进程.\n",
    "pool.close()\n",
    "pool.join()\n",
    "\n",
    "t2 = time.time()\n",
    "print(\"并行执行时间：\", int(t2 - t1))"
   ]
  },
  {
   "cell_type": "markdown",
   "id": "6b909fe4",
   "metadata": {},
   "source": [
    "# Feat Concat ( Save to Feat_Concat file)"
   ]
  },
  {
   "cell_type": "code",
   "execution_count": 1,
   "id": "8ce10076",
   "metadata": {
    "ExecuteTime": {
     "end_time": "2021-12-15T08:55:34.012183Z",
     "start_time": "2021-12-15T08:55:32.622441Z"
    }
   },
   "outputs": [],
   "source": [
    "import time\n",
    "import os\n",
    "from Research.backtest.bt import BTDaily\n",
    "from Research.feature.ft import FeatureAnalysis\n",
    "import Research.utils.namespace as namespace\n",
    "import Research.utils.normalization as norm\n",
    "from Platform.database.mysql import MysqlAPI\n",
    "from Platform.utils.persistence import convert_to_standard_daily_feature_csv, convert_to_standard_daily_feature_par\n",
    "from Platform.config.mysql_info import FACTOR_LIB_MYSQL_TIO\n",
    "import DataAPI\n",
    "from os import walk\n",
    "import pandas as pd\n",
    "import numpy as np\n",
    "import torch\n",
    "import torch.nn as nn\n",
    "from progressbar import ProgressBar\n",
    "from tqdm import tqdm\n",
    "Alpha_Name = \"AlphaNet_Original_Input_12.14\"\n",
    "path = '/home/wuwenjun/Data/' + Alpha_Name +'/'\n",
    "target = \"5d_ret\""
   ]
  },
  {
   "cell_type": "code",
   "execution_count": 8,
   "id": "19fc138e",
   "metadata": {
    "ExecuteTime": {
     "end_time": "2021-12-15T09:04:19.864140Z",
     "start_time": "2021-12-15T09:04:19.642071Z"
    }
   },
   "outputs": [
    {
     "ename": "FileExistsError",
     "evalue": "[Errno 17] File exists: '/home/wuwenjun/Data/AlphaNet_Original_Input_12.14/Feat_Concat'",
     "output_type": "error",
     "traceback": [
      "\u001b[0;31m---------------------------------------------------------------------------\u001b[0m",
      "\u001b[0;31mFileExistsError\u001b[0m                           Traceback (most recent call last)",
      "\u001b[0;32m<ipython-input-8-2e9b396a9134>\u001b[0m in \u001b[0;36m<module>\u001b[0;34m\u001b[0m\n\u001b[0;32m----> 1\u001b[0;31m \u001b[0mos\u001b[0m\u001b[0;34m.\u001b[0m\u001b[0mmkdir\u001b[0m\u001b[0;34m(\u001b[0m\u001b[0mpath\u001b[0m\u001b[0;34m+\u001b[0m\u001b[0;34m\"Feat_Concat\"\u001b[0m\u001b[0;34m)\u001b[0m\u001b[0;34m\u001b[0m\u001b[0;34m\u001b[0m\u001b[0m\n\u001b[0m",
      "\u001b[0;31mFileExistsError\u001b[0m: [Errno 17] File exists: '/home/wuwenjun/Data/AlphaNet_Original_Input_12.14/Feat_Concat'"
     ]
    }
   ],
   "source": [
    "os.mkdir(path+\"Feat_Concat\")"
   ]
  },
  {
   "cell_type": "code",
   "execution_count": 2,
   "id": "95b53231",
   "metadata": {
    "ExecuteTime": {
     "end_time": "2021-12-15T08:55:35.282257Z",
     "start_time": "2021-12-15T08:55:35.251893Z"
    }
   },
   "outputs": [
    {
     "name": "stderr",
     "output_type": "stream",
     "text": [
      "100%|██████████| 26/26 [00:00<00:00, 155123.62it/s]\n"
     ]
    },
    {
     "data": {
      "text/plain": [
       "['2015-01-01_2015-03-01.par',\n",
       " '2015-03-01_2015-06-01.par',\n",
       " '2016-01-01_2016-03-01.par',\n",
       " '2017-01-01_2017-03-01.par',\n",
       " '2015-06-01_2015-09-01.par',\n",
       " '2018-01-01_2018-03-01.par',\n",
       " '2016-03-01_2016-06-01.par',\n",
       " '2021-01-01_2021-03-01.par',\n",
       " '2016-06-01_2016-09-01.par',\n",
       " '2015-09-01_2016-01-01.par',\n",
       " '2020-01-01_2020-03-01.par',\n",
       " '2019-01-01_2019-03-01.par',\n",
       " '2017-03-01_2017-06-01.par',\n",
       " '2021-03-01_2021-06-01.par',\n",
       " '2018-03-01_2018-06-01.par',\n",
       " '2018-06-01_2018-09-01.par',\n",
       " '2016-09-01_2017-01-01.par',\n",
       " '2017-06-01_2017-09-01.par',\n",
       " '2020-06-01_2020-09-01.par',\n",
       " '2020-03-01_2020-06-01.par',\n",
       " '2020-09-01_2021-01-01.par',\n",
       " '2019-06-01_2019-09-01.par',\n",
       " '2019-03-01_2019-06-01.par',\n",
       " '2017-09-01_2018-01-01.par',\n",
       " '2018-09-01_2019-01-01.par',\n",
       " '2019-09-01_2020-01-01.par']"
      ]
     },
     "execution_count": 2,
     "metadata": {},
     "output_type": "execute_result"
    }
   ],
   "source": [
    "path_list = []\n",
    "data_path = path + \"Data/\"\n",
    "dataframe_list = pd.DataFrame()\n",
    "for f, _, i in walk(data_path):\n",
    "    for j in tqdm(i):\n",
    "        path_list.append(j)\n",
    "path_list"
   ]
  },
  {
   "cell_type": "code",
   "execution_count": 16,
   "id": "2572c832",
   "metadata": {
    "ExecuteTime": {
     "end_time": "2021-12-15T09:12:29.403654Z",
     "start_time": "2021-12-15T09:11:47.350377Z"
    }
   },
   "outputs": [
    {
     "name": "stderr",
     "output_type": "stream",
     "text": [
      "100%|██████████| 26/26 [00:00<00:00, 58819.80it/s]\n"
     ]
    },
    {
     "name": "stdout",
     "output_type": "stream",
     "text": [
      "并行执行时间： 35\n"
     ]
    }
   ],
   "source": [
    "import multiprocessing as mp\n",
    "pool = mp.Pool(10)\n",
    "t1 = time.time()\n",
    "dir_list = ['Cov','Corr','Std','Zscore','Return','Decay']\n",
    "\n",
    "final = []\n",
    "def test(alpha):\n",
    "    feat_cat = []\n",
    "    for i in dir_list:\n",
    "        feat_cat.append(pd.read_parquet(path + i + \"/\" + alpha).set_index(['timestamp','ticker']))\n",
    "    feat_cat = pd.concat(feat_cat,axis=1)\n",
    "    feat_cat.columns = [str(i) for i in range(feat_cat.shape[1])]\n",
    "    feat_cat.reset_index().to_parquet(path+\"Feat_Concat/\"+alpha)\n",
    "for alpha in tqdm(path_list):\n",
    "#     test(alpha)\n",
    "    pool.apply_async(test, args=(alpha,))   #维持执行的进程总数为10，当一个进程执行完后启动一个新进程.\n",
    "pool.close()\n",
    "pool.join()\n",
    "\n",
    "t2 = time.time()\n",
    "print(\"并行执行时间：\", int(t2 - t1))"
   ]
  },
  {
   "cell_type": "markdown",
   "id": "ccfa35d5",
   "metadata": {},
   "source": [
    "# Feat Daily Norm ( Save to Feat_Concat_Norm_Daily)"
   ]
  },
  {
   "cell_type": "code",
   "execution_count": 21,
   "id": "6040f4b3",
   "metadata": {
    "ExecuteTime": {
     "end_time": "2021-12-16T02:21:50.088944Z",
     "start_time": "2021-12-16T02:21:50.080545Z"
    }
   },
   "outputs": [],
   "source": [
    "# import time\n",
    "# import os\n",
    "# from Research.backtest.bt import BTDaily\n",
    "# from Research.feature.ft import FeatureAnalysis\n",
    "# import Research.utils.namespace as namespace\n",
    "# import Research.utils.normalization as norm\n",
    "# from Platform.database.mysql import MysqlAPI\n",
    "# from Platform.utils.persistence import convert_to_standard_daily_feature_csv, convert_to_standard_daily_feature_par\n",
    "# from Platform.config.mysql_info import FACTOR_LIB_MYSQL_TIO\n",
    "# import DataAPI\n",
    "# from os import walk\n",
    "# import pandas as pd\n",
    "# import numpy as np\n",
    "# import torch\n",
    "# import torch.nn as nn\n",
    "# from progressbar import ProgressBar\n",
    "# from tqdm import tqdm\n",
    "# Alpha_Name = \"AlphaNet_Original_Input_12.14\"\n",
    "# path = '/home/wuwenjun/Data/' + Alpha_Name +'/'\n",
    "# target = \"5d_ret\""
   ]
  },
  {
   "cell_type": "code",
   "execution_count": 22,
   "id": "8b68575a",
   "metadata": {
    "ExecuteTime": {
     "end_time": "2021-12-16T02:21:50.495186Z",
     "start_time": "2021-12-16T02:21:50.472723Z"
    }
   },
   "outputs": [
    {
     "ename": "FileExistsError",
     "evalue": "[Errno 17] File exists: '/home/wuwenjun/Data/AlphaNet_Original_Input_12.14/Feat_Concat_Norm_Daily'",
     "output_type": "error",
     "traceback": [
      "\u001b[0;31m---------------------------------------------------------------------------\u001b[0m",
      "\u001b[0;31mFileExistsError\u001b[0m                           Traceback (most recent call last)",
      "\u001b[0;32m<ipython-input-22-ee736ab1c937>\u001b[0m in \u001b[0;36m<module>\u001b[0;34m\u001b[0m\n\u001b[0;32m----> 1\u001b[0;31m \u001b[0mos\u001b[0m\u001b[0;34m.\u001b[0m\u001b[0mmkdir\u001b[0m\u001b[0;34m(\u001b[0m\u001b[0mpath\u001b[0m\u001b[0;34m+\u001b[0m\u001b[0;34m\"Feat_Concat_Norm_Daily\"\u001b[0m\u001b[0;34m)\u001b[0m\u001b[0;34m\u001b[0m\u001b[0;34m\u001b[0m\u001b[0m\n\u001b[0m",
      "\u001b[0;31mFileExistsError\u001b[0m: [Errno 17] File exists: '/home/wuwenjun/Data/AlphaNet_Original_Input_12.14/Feat_Concat_Norm_Daily'"
     ]
    }
   ],
   "source": [
    "os.mkdir(path+\"Feat_Concat_Norm_Daily\")"
   ]
  },
  {
   "cell_type": "code",
   "execution_count": 23,
   "id": "7fe04821",
   "metadata": {
    "ExecuteTime": {
     "end_time": "2021-12-16T02:21:52.055890Z",
     "start_time": "2021-12-16T02:21:52.040626Z"
    }
   },
   "outputs": [
    {
     "name": "stderr",
     "output_type": "stream",
     "text": [
      "100%|██████████| 26/26 [00:00<00:00, 58819.80it/s]\n"
     ]
    },
    {
     "data": {
      "text/plain": [
       "['2015-01-01_2015-03-01.par',\n",
       " '2015-03-01_2015-06-01.par',\n",
       " '2016-01-01_2016-03-01.par',\n",
       " '2017-01-01_2017-03-01.par',\n",
       " '2015-06-01_2015-09-01.par',\n",
       " '2018-01-01_2018-03-01.par',\n",
       " '2016-03-01_2016-06-01.par',\n",
       " '2021-01-01_2021-03-01.par',\n",
       " '2016-06-01_2016-09-01.par',\n",
       " '2015-09-01_2016-01-01.par',\n",
       " '2020-01-01_2020-03-01.par',\n",
       " '2019-01-01_2019-03-01.par',\n",
       " '2017-03-01_2017-06-01.par',\n",
       " '2021-03-01_2021-06-01.par',\n",
       " '2018-03-01_2018-06-01.par',\n",
       " '2018-06-01_2018-09-01.par',\n",
       " '2016-09-01_2017-01-01.par',\n",
       " '2017-06-01_2017-09-01.par',\n",
       " '2020-06-01_2020-09-01.par',\n",
       " '2020-03-01_2020-06-01.par',\n",
       " '2020-09-01_2021-01-01.par',\n",
       " '2019-06-01_2019-09-01.par',\n",
       " '2019-03-01_2019-06-01.par',\n",
       " '2017-09-01_2018-01-01.par',\n",
       " '2018-09-01_2019-01-01.par',\n",
       " '2019-09-01_2020-01-01.par']"
      ]
     },
     "execution_count": 23,
     "metadata": {},
     "output_type": "execute_result"
    }
   ],
   "source": [
    "path_list = []\n",
    "data_path = path + \"Data/\"\n",
    "dataframe_list = pd.DataFrame()\n",
    "for f, _, i in walk(data_path):\n",
    "    for j in tqdm(i):\n",
    "        path_list.append(j)\n",
    "path_list"
   ]
  },
  {
   "cell_type": "code",
   "execution_count": 28,
   "id": "bd80ed5b",
   "metadata": {
    "ExecuteTime": {
     "end_time": "2021-12-16T02:25:47.329617Z",
     "start_time": "2021-12-16T02:25:03.514692Z"
    }
   },
   "outputs": [
    {
     "name": "stdout",
     "output_type": "stream",
     "text": [
      "Save to :  /home/wuwenjun/Data/AlphaNet_Original_Input_12.14/Feat_Concat_Norm_Daily/2015-01-01_2015-03-01.par\n",
      "Save to :  /home/wuwenjun/Data/AlphaNet_Original_Input_12.14/Feat_Concat_Norm_Daily/2016-01-01_2016-03-01.par\n",
      "Save to :  /home/wuwenjun/Data/AlphaNet_Original_Input_12.14/Feat_Concat_Norm_Daily/2017-01-01_2017-03-01.par\n",
      "Save to :  /home/wuwenjun/Data/AlphaNet_Original_Input_12.14/Feat_Concat_Norm_Daily/2018-01-01_2018-03-01.par\n",
      "Save to :  /home/wuwenjun/Data/AlphaNet_Original_Input_12.14/Feat_Concat_Norm_Daily/2019-01-01_2019-03-01.par\n",
      "Save to :  /home/wuwenjun/Data/AlphaNet_Original_Input_12.14/Feat_Concat_Norm_Daily/2020-01-01_2020-03-01.par\n",
      "Save to :  /home/wuwenjun/Data/AlphaNet_Original_Input_12.14/Feat_Concat_Norm_Daily/2021-01-01_2021-03-01.par\n",
      "Save to :  /home/wuwenjun/Data/AlphaNet_Original_Input_12.14/Feat_Concat_Norm_Daily/2015-06-01_2015-09-01.par\n",
      "Save to :  /home/wuwenjun/Data/AlphaNet_Original_Input_12.14/Feat_Concat_Norm_Daily/2015-03-01_2015-06-01.par\n",
      "Save to :  /home/wuwenjun/Data/AlphaNet_Original_Input_12.14/Feat_Concat_Norm_Daily/2017-03-01_2017-06-01.par\n",
      "Save to :  /home/wuwenjun/Data/AlphaNet_Original_Input_12.14/Feat_Concat_Norm_Daily/2016-06-01_2016-09-01.par\n",
      "Save to :  /home/wuwenjun/Data/AlphaNet_Original_Input_12.14/Feat_Concat_Norm_Daily/2016-03-01_2016-06-01.par\n",
      "Save to :  /home/wuwenjun/Data/AlphaNet_Original_Input_12.14/Feat_Concat_Norm_Daily/2018-03-01_2018-06-01.par\n",
      "Save to :  /home/wuwenjun/Data/AlphaNet_Original_Input_12.14/Feat_Concat_Norm_Daily/2017-06-01_2017-09-01.par\n",
      "Save to :  /home/wuwenjun/Data/AlphaNet_Original_Input_12.14/Feat_Concat_Norm_Daily/2016-09-01_2017-01-01.par\n",
      "Save to :  /home/wuwenjun/Data/AlphaNet_Original_Input_12.14/Feat_Concat_Norm_Daily/2020-03-01_2020-06-01.par\n",
      "Save to :  /home/wuwenjun/Data/AlphaNet_Original_Input_12.14/Feat_Concat_Norm_Daily/2015-09-01_2016-01-01.par\n",
      "Save to :  /home/wuwenjun/Data/AlphaNet_Original_Input_12.14/Feat_Concat_Norm_Daily/2018-06-01_2018-09-01.par\n",
      "Save to :  /home/wuwenjun/Data/AlphaNet_Original_Input_12.14/Feat_Concat_Norm_Daily/2020-06-01_2020-09-01.par\n",
      "Save to :  /home/wuwenjun/Data/AlphaNet_Original_Input_12.14/Feat_Concat_Norm_Daily/2021-03-01_2021-06-01.par\n",
      "Save to :  /home/wuwenjun/Data/AlphaNet_Original_Input_12.14/Feat_Concat_Norm_Daily/2020-09-01_2021-01-01.par\n",
      "Save to :  /home/wuwenjun/Data/AlphaNet_Original_Input_12.14/Feat_Concat_Norm_Daily/2019-03-01_2019-06-01.par\n",
      "Save to :  /home/wuwenjun/Data/AlphaNet_Original_Input_12.14/Feat_Concat_Norm_Daily/2019-06-01_2019-09-01.par\n",
      "Save to :  /home/wuwenjun/Data/AlphaNet_Original_Input_12.14/Feat_Concat_Norm_Daily/2017-09-01_2018-01-01.par\n",
      "Save to :  /home/wuwenjun/Data/AlphaNet_Original_Input_12.14/Feat_Concat_Norm_Daily/2018-09-01_2019-01-01.par\n",
      "Save to :  /home/wuwenjun/Data/AlphaNet_Original_Input_12.14/Feat_Concat_Norm_Daily/2019-09-01_2020-01-01.par\n",
      "并行执行时间： 42\n"
     ]
    }
   ],
   "source": [
    "import multiprocessing as mp\n",
    "from sklearn import preprocessing\n",
    "\n",
    "\"\"\"StandScalaer Normlization\"\"\"\n",
    "scaler = preprocessing.StandardScaler()\n",
    "\n",
    "\n",
    "\"\"\" Multi Processing\"\"\"\n",
    "pool = mp.Pool(20)\n",
    "t1 = time.time()\n",
    "def test(file):\n",
    "    df = pd.read_parquet(path + \"Feat_Concat/\" + file)\n",
    "    final = []\n",
    "    for day in df['timestamp'].drop_duplicates():\n",
    "        array = df[df['timestamp'] == day].set_index(['timestamp','ticker'])\n",
    "        index = array.index\n",
    "        array = np.array(array)\n",
    "        array = pd.DataFrame(scaler.fit_transform(X=array))\n",
    "        array.index = index\n",
    "        final.append(array)\n",
    "    final = pd.concat(final,axis=0)\n",
    "    final.columns = [str(i) for i in range(final.shape[1])]\n",
    "    final.reset_index(inplace=True)\n",
    "    final.to_parquet(path + \"Feat_Concat_Norm_Daily/\" + file)\n",
    "    print(\"Save to : \", path + \"Feat_Concat_Norm_Daily/\" + file)\n",
    "    return None\n",
    "\n",
    "for file in path_list:\n",
    "#     test(file)\n",
    "    pool.apply_async(test, args=(file,))   #维持执行的进程总数为10，当一个进程执行完后启动一个新进程.\n",
    "pool.close()\n",
    "pool.join()\n",
    "\n",
    "t2 = time.time()\n",
    "print(\"并行执行时间：\", int(t2 - t1))"
   ]
  },
  {
   "cell_type": "code",
   "execution_count": null,
   "id": "94385d63",
   "metadata": {},
   "outputs": [],
   "source": []
  }
 ],
 "metadata": {
  "kernelspec": {
   "display_name": "Python 3 (ipykernel)",
   "language": "python",
   "name": "python3"
  },
  "language_info": {
   "codemirror_mode": {
    "name": "ipython",
    "version": 3
   },
   "file_extension": ".py",
   "mimetype": "text/x-python",
   "name": "python",
   "nbconvert_exporter": "python",
   "pygments_lexer": "ipython3",
   "version": "3.7.9"
  }
 },
 "nbformat": 4,
 "nbformat_minor": 5
}
