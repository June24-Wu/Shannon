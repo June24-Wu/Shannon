{
 "cells": [
  {
   "cell_type": "code",
   "execution_count": 4,
   "id": "77f29d45",
   "metadata": {
    "ExecuteTime": {
     "end_time": "2022-01-13T02:31:17.221298Z",
     "start_time": "2022-01-13T02:31:16.287245Z"
    }
   },
   "outputs": [],
   "source": [
    "from matplotlib import pyplot as plt\n",
    "import numpy as np \n",
    "import pandas as pd \n",
    "import os\n",
    "from tqdm import tqdm\n",
    "day = 10"
   ]
  },
  {
   "cell_type": "code",
   "execution_count": 34,
   "id": "40186be1",
   "metadata": {
    "ExecuteTime": {
     "end_time": "2022-01-13T01:01:27.482210Z",
     "start_time": "2022-01-13T01:01:27.476904Z"
    }
   },
   "outputs": [],
   "source": [
    "feat_list = [\n",
    "#             'open','high','low','close','vwap','volume','pct_chg','turnover','free_turnover'\n",
    "            \"open_ts_norm_30d\",\"high_ts_norm_30d\",\"low_ts_norm_30d\",\"close_ts_norm_30d\",\"vwap_ts_norm_30d\" \n",
    "            ,\"volume_ts_norm_30d\" ,\"pct_chg_ts_norm_30d\" ,\"turnover_ts_norm_30d\" ,\"free_turnover_ts_norm_30d\" \n",
    "]"
   ]
  },
  {
   "cell_type": "code",
   "execution_count": 17,
   "id": "3365a86b",
   "metadata": {
    "ExecuteTime": {
     "end_time": "2022-01-13T02:44:01.859740Z",
     "start_time": "2022-01-13T02:44:01.849804Z"
    }
   },
   "outputs": [
    {
     "data": {
      "text/plain": [
       "{'open': 'sub(open,0)',\n",
       " 'high': 'sub(high,0)',\n",
       " 'low': 'sub(low,0)',\n",
       " 'close': 'sub(close,0)',\n",
       " 'vwap': 'sub(vwap,0)',\n",
       " 'volume': 'sub(volume,0)',\n",
       " 'pct_chg': 'sub(pct_chg,0)',\n",
       " 'turnover': 'sub(turnover,0)',\n",
       " 'free_turnover': 'sub(free_turnover,0)',\n",
       " 'open_ts_norm_30d': 'div(sub(open,mavg(30,open)),mstd(30,open))',\n",
       " 'high_ts_norm_30d': 'div(sub(high,mavg(30,high)),mstd(30,high))',\n",
       " 'low_ts_norm_30d': 'div(sub(low,mavg(30,low)),mstd(30,low))',\n",
       " 'close_ts_norm_30d': 'div(sub(close,mavg(30,close)),mstd(30,close))',\n",
       " 'vwap_ts_norm_30d': 'div(sub(vwap,mavg(30,vwap)),mstd(30,vwap))',\n",
       " 'volume_ts_norm_30d': 'div(sub(volume,mavg(30,volume)),mstd(30,volume))',\n",
       " 'pct_chg_ts_norm_30d': 'div(sub(pct_chg,mavg(30,pct_chg)),mstd(30,pct_chg))',\n",
       " 'turnover_ts_norm_30d': 'div(sub(turnover,mavg(30,turnover)),mstd(30,turnover))',\n",
       " 'free_turnover_ts_norm_30d': 'div(sub(free_turnover,mavg(30,free_turnover)),mstd(30,free_turnover))'}"
      ]
     },
     "execution_count": 17,
     "metadata": {},
     "output_type": "execute_result"
    }
   ],
   "source": [
    "dict_load = np.load(\"/home/wuwenjun/jupyter_code/Shannon/AlphaNet/Factor_Description/base_list.npy\",allow_pickle=True)\n",
    "dict_load = dict_load.item()\n",
    "dict_load"
   ]
  },
  {
   "cell_type": "code",
   "execution_count": 7,
   "id": "2cc1c069",
   "metadata": {
    "ExecuteTime": {
     "end_time": "2022-01-13T02:32:15.711036Z",
     "start_time": "2022-01-13T02:32:15.704993Z"
    }
   },
   "outputs": [],
   "source": [
    "name_list = []\n",
    "task_list = []\n",
    "for i in dict_load.keys():\n",
    "    name_list.append(i)\n",
    "    task_list.append(dict_load[i])"
   ]
  },
  {
   "cell_type": "code",
   "execution_count": 58,
   "id": "211ae730",
   "metadata": {
    "ExecuteTime": {
     "end_time": "2022-01-13T01:55:20.755451Z",
     "start_time": "2022-01-13T01:55:20.736621Z"
    }
   },
   "outputs": [],
   "source": [
    "name_list = []\n",
    "task_list = []\n",
    "# Moving Cov\n",
    "for i in range(len(feat_list)-1):\n",
    "    for j in range(i+1,len(feat_list)):\n",
    "        name_list.append(\"COV_%s_%s_%s\" % (feat_list[i],feat_list[j],day))\n",
    "        task_list.append(\"mcovar(%s,%s,%s)\" % (day,dict_load[feat_list[i]],dict_load[feat_list[j]]))\n",
    "\n",
    "# Moving Corr\n",
    "for i in range(len(feat_list)-1):\n",
    "    for j in range(i+1,len(feat_list)):\n",
    "        name_list.append(\"CORR_%s_%s_%s\" % (feat_list[i],feat_list[j],day))\n",
    "        task_list.append(\"ts_corr(%s,%s,%s)\" % (day,dict_load[feat_list[i]],dict_load[feat_list[j]]))\n",
    "\n",
    "# # Moving STD\n",
    "for i in range(len(feat_list)-1):\n",
    "    name_list.append(\"STD_%s_%s\" % (feat_list[i],day))\n",
    "    task_list.append(\"mstd(%s,%s)\" % (day,dict_load[feat_list[i]]))\n",
    "    \n",
    "# # Z-score\n",
    "for i in range(len(feat_list)-1):\n",
    "    name_list.append(\"ZSCORE_%s_%s\" % (feat_list[i],day)) \n",
    "    task_list.append(\"div(mavg(%s,%s),mstd(%s,%s))\" % (day,dict_load[feat_list[i]],day,dict_load[feat_list[i]]))\n",
    "    \n",
    "# # Return\n",
    "for i in range(len(feat_list)-1):\n",
    "    name_list.append(\"RETURN_%s_%s\" % (feat_list[i],day))\n",
    "    task_list.append(\"div(sub(%s,delay(%s,%s)),delay(%s,%s))\" % (dict_load[feat_list[i]],day,dict_load[feat_list[i]],day,dict_load[feat_list[i]])) \n",
    "# Decay \n",
    "for i in range(len(feat_list)-1):\n",
    "    name_list.append(\"DECAY_%s_%s\" % (feat_list[i],day))\n",
    "    task_list.append(\"decay(%s,%s)\" % (day,dict_load[feat_list[i]])"
   ]
  },
  {
   "cell_type": "code",
   "execution_count": 8,
   "id": "7c1d2bf0",
   "metadata": {
    "ExecuteTime": {
     "end_time": "2022-01-13T02:32:19.083061Z",
     "start_time": "2022-01-13T02:32:19.075745Z"
    }
   },
   "outputs": [
    {
     "name": "stdout",
     "output_type": "stream",
     "text": [
      "name\n",
      "open;high;low;close;vwap;volume;pct_chg;turnover;free_turnover;open_ts_norm_30d;high_ts_norm_30d;low_ts_norm_30d;close_ts_norm_30d;vwap_ts_norm_30d;volume_ts_norm_30d;pct_chg_ts_norm_30d;turnover_ts_norm_30d;free_turnover_ts_norm_30d;\n"
     ]
    }
   ],
   "source": [
    "final = \"\"\n",
    "for i in name_list:\n",
    "    final += i + \";\"\n",
    "print(\"name\")\n",
    "print(final)"
   ]
  },
  {
   "cell_type": "code",
   "execution_count": 9,
   "id": "d6e0c6d8",
   "metadata": {
    "ExecuteTime": {
     "end_time": "2022-01-13T02:32:19.428849Z",
     "start_time": "2022-01-13T02:32:19.422956Z"
    }
   },
   "outputs": [
    {
     "name": "stdout",
     "output_type": "stream",
     "text": [
      "task\n",
      "sub(open,0);sub(high,0);sub(low,0);sub(close,0);sub(vwap,0);sub(volume,0);sub(pct_chg,0);sub(turnover,0);sub(free_turnover,0);div(sub(open,mavg(30,open)),mstd(30,open));div(sub(high,mavg(30,high)),mstd(30,high));div(sub(low,mavg(30,low)),mstd(30,low));div(sub(close,mavg(30,close)),mstd(30,close));div(sub(vwap,mavg(30,vwap)),mstd(30,vwap));div(sub(volume,mavg(30,volume)),mstd(30,volume));div(sub(pct_chg,mavg(30,pct_chg)),mstd(30,pct_chg));div(sub(turnover,mavg(30,turnover)),mstd(30,turnover));div(sub(free_turnover,mavg(30,free_turnover)),mstd(30,free_turnover));\n"
     ]
    }
   ],
   "source": [
    "final = \"\"\n",
    "for i in task_list:\n",
    "    final += i + \";\"\n",
    "print(\"task\")\n",
    "print(final)"
   ]
  },
  {
   "cell_type": "code",
   "execution_count": 20,
   "id": "38c6aa15",
   "metadata": {
    "ExecuteTime": {
     "end_time": "2022-01-13T04:14:28.185609Z",
     "start_time": "2022-01-13T04:14:28.164596Z"
    },
    "scrolled": true
   },
   "outputs": [
    {
     "ename": "ValueError",
     "evalue": "No [open] in feature_platform",
     "output_type": "error",
     "traceback": [
      "\u001b[0;31m---------------------------------------------------------------------------\u001b[0m",
      "\u001b[0;31mValueError\u001b[0m                                Traceback (most recent call last)",
      "\u001b[0;32m<ipython-input-20-c36ef9f67435>\u001b[0m in \u001b[0;36m<module>\u001b[0;34m\u001b[0m\n\u001b[1;32m      9\u001b[0m \u001b[0;32mfor\u001b[0m \u001b[0mi\u001b[0m \u001b[0;32min\u001b[0m \u001b[0malpha_list\u001b[0m\u001b[0;34m.\u001b[0m\u001b[0mkeys\u001b[0m\u001b[0;34m(\u001b[0m\u001b[0;34m)\u001b[0m\u001b[0;34m:\u001b[0m\u001b[0;34m\u001b[0m\u001b[0;34m\u001b[0m\u001b[0m\n\u001b[1;32m     10\u001b[0m     \u001b[0;32mif\u001b[0m \u001b[0mi\u001b[0m \u001b[0;32mnot\u001b[0m \u001b[0;32min\u001b[0m \u001b[0mcheck_list\u001b[0m\u001b[0;34m:\u001b[0m\u001b[0;34m\u001b[0m\u001b[0;34m\u001b[0m\u001b[0m\n\u001b[0;32m---> 11\u001b[0;31m         \u001b[0;32mraise\u001b[0m \u001b[0mValueError\u001b[0m\u001b[0;34m(\u001b[0m\u001b[0;34m\"No [%s] in feature_platform\"\u001b[0m \u001b[0;34m%\u001b[0m\u001b[0mi\u001b[0m\u001b[0;34m)\u001b[0m\u001b[0;34m\u001b[0m\u001b[0;34m\u001b[0m\u001b[0m\n\u001b[0m\u001b[1;32m     12\u001b[0m \u001b[0malpha_list\u001b[0m\u001b[0;34m\u001b[0m\u001b[0;34m\u001b[0m\u001b[0m\n",
      "\u001b[0;31mValueError\u001b[0m: No [open] in feature_platform"
     ]
    }
   ],
   "source": [
    "alpha_list = np.load(\"/home/wuwenjun/jupyter_code/Shannon/AlphaNet/Factor_Description/feature_list.npy\",allow_pickle=True)\n",
    "alpha_list = alpha_list.item()\n",
    "Cover = False\n",
    "for i in range(len(task_list)):\n",
    "    if name_list[i] in alpha_list and alpha_list[name_list[i]] != task_list[i] and Cover == False:\n",
    "        raise ValueError(\"contain \" + name_list[i])\n",
    "    alpha_list[name_list[i]] = task_list[i]\n",
    "check_list = list(os.listdir(\"/home/ShareFolder/feature_platform/ti0/wuwenjun\"))\n",
    "for i in alpha_list.keys():\n",
    "    if i not in check_list:\n",
    "        raise ValueError(\"No [%s] in feature_platform\" %i)\n",
    "alpha_list"
   ]
  },
  {
   "cell_type": "code",
   "execution_count": 18,
   "id": "726c15ca",
   "metadata": {
    "ExecuteTime": {
     "end_time": "2022-01-13T02:44:22.006065Z",
     "start_time": "2022-01-13T02:44:21.997902Z"
    }
   },
   "outputs": [],
   "source": [
    "np.save(\"/home/wuwenjun/jupyter_code/Shannon/AlphaNet/Factor_Description/feature_list.npy\",alpha_list)\n",
    "np.save(\"/home/ShareFolder/feature_platform/ti0/wuwenjun/1Factor_Description/feature_list.npy\",alpha_list)"
   ]
  }
 ],
 "metadata": {
  "kernelspec": {
   "display_name": "Python 3 (ipykernel)",
   "language": "python",
   "name": "python3"
  },
  "language_info": {
   "codemirror_mode": {
    "name": "ipython",
    "version": 3
   },
   "file_extension": ".py",
   "mimetype": "text/x-python",
   "name": "python",
   "nbconvert_exporter": "python",
   "pygments_lexer": "ipython3",
   "version": "3.7.9"
  }
 },
 "nbformat": 4,
 "nbformat_minor": 5
}
