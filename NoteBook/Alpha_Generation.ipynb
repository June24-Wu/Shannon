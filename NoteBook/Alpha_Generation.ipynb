{
 "cells": [
  {
   "cell_type": "code",
   "execution_count": 1,
   "id": "77f29d45",
   "metadata": {
    "ExecuteTime": {
     "end_time": "2022-01-13T05:40:11.053831Z",
     "start_time": "2022-01-13T05:40:10.161321Z"
    }
   },
   "outputs": [],
   "source": [
    "from matplotlib import pyplot as plt\n",
    "import numpy as np \n",
    "import pandas as pd \n",
    "import os\n",
    "from tqdm import tqdm\n",
    "day = 10"
   ]
  },
  {
   "cell_type": "code",
   "execution_count": 9,
   "id": "40186be1",
   "metadata": {
    "ExecuteTime": {
     "end_time": "2022-01-13T05:49:19.942481Z",
     "start_time": "2022-01-13T05:49:19.938264Z"
    }
   },
   "outputs": [],
   "source": [
    "feat_list = [\n",
    "            'open','high','low','close','vwap','volume','pct_chg','turnover','free_turnover'\n",
    "#             \"open_ts_norm_30d\",\"high_ts_norm_30d\",\"low_ts_norm_30d\",\"close_ts_norm_30d\",\"vwap_ts_norm_30d\" \n",
    "#             ,\"volume_ts_norm_30d\" ,\"pct_chg_ts_norm_30d\" ,\"turnover_ts_norm_30d\" ,\"free_turnover_ts_norm_30d\" \n",
    "]"
   ]
  },
  {
   "cell_type": "code",
   "execution_count": 2,
   "id": "3365a86b",
   "metadata": {
    "ExecuteTime": {
     "end_time": "2022-01-13T05:40:17.107238Z",
     "start_time": "2022-01-13T05:40:17.091880Z"
    }
   },
   "outputs": [
    {
     "data": {
      "text/plain": [
       "{'open': 'sub(open,0)',\n",
       " 'high': 'sub(high,0)',\n",
       " 'low': 'sub(low,0)',\n",
       " 'close': 'sub(close,0)',\n",
       " 'vwap': 'sub(vwap,0)',\n",
       " 'volume': 'sub(volume,0)',\n",
       " 'pct_chg': 'sub(pct_chg,0)',\n",
       " 'turnover': 'sub(turnover,0)',\n",
       " 'free_turnover': 'sub(free_turnover,0)',\n",
       " 'open_ts_norm_30d': 'div(sub(open,mavg(30,open)),mstd(30,open))',\n",
       " 'high_ts_norm_30d': 'div(sub(high,mavg(30,high)),mstd(30,high))',\n",
       " 'low_ts_norm_30d': 'div(sub(low,mavg(30,low)),mstd(30,low))',\n",
       " 'close_ts_norm_30d': 'div(sub(close,mavg(30,close)),mstd(30,close))',\n",
       " 'vwap_ts_norm_30d': 'div(sub(vwap,mavg(30,vwap)),mstd(30,vwap))',\n",
       " 'volume_ts_norm_30d': 'div(sub(volume,mavg(30,volume)),mstd(30,volume))',\n",
       " 'pct_chg_ts_norm_30d': 'div(sub(pct_chg,mavg(30,pct_chg)),mstd(30,pct_chg))',\n",
       " 'turnover_ts_norm_30d': 'div(sub(turnover,mavg(30,turnover)),mstd(30,turnover))',\n",
       " 'free_turnover_ts_norm_30d': 'div(sub(free_turnover,mavg(30,free_turnover)),mstd(30,free_turnover))'}"
      ]
     },
     "execution_count": 2,
     "metadata": {},
     "output_type": "execute_result"
    }
   ],
   "source": [
    "dict_load = np.load(\"/home/wuwenjun/jupyter_code/Shannon/AlphaNet/Factor_Description/base_list.npy\",allow_pickle=True)\n",
    "dict_load = dict_load.item()\n",
    "dict_load"
   ]
  },
  {
   "cell_type": "code",
   "execution_count": 12,
   "id": "7dcf7398",
   "metadata": {
    "ExecuteTime": {
     "end_time": "2022-01-13T05:51:04.746627Z",
     "start_time": "2022-01-13T05:51:04.739495Z"
    }
   },
   "outputs": [],
   "source": [
    "# np.save(\"/home/ShareFolder/feature_platform/ti0/wuwenjun/1Factor_Description/base_list.npy\",dict_load)\n",
    "# np.save(\"/home/wuwenjun/jupyter_code/Shannon/AlphaNet/Factor_Description/base_list.npy\",dict_load)"
   ]
  },
  {
   "cell_type": "code",
   "execution_count": 3,
   "id": "b083949a",
   "metadata": {
    "ExecuteTime": {
     "end_time": "2022-01-13T05:40:19.111113Z",
     "start_time": "2022-01-13T05:40:19.106835Z"
    }
   },
   "outputs": [],
   "source": [
    "name_list = []\n",
    "task_list = []\n",
    "for i in dict_load.keys():\n",
    "    name_list.append(i)\n",
    "    task_list.append(dict_load[i])"
   ]
  },
  {
   "cell_type": "code",
   "execution_count": 58,
   "id": "211ae730",
   "metadata": {
    "ExecuteTime": {
     "end_time": "2022-01-13T01:55:20.755451Z",
     "start_time": "2022-01-13T01:55:20.736621Z"
    }
   },
   "outputs": [],
   "source": [
    "name_list = []\n",
    "task_list = []\n",
    "# Moving Cov\n",
    "for i in range(len(feat_list)-1):\n",
    "    for j in range(i+1,len(feat_list)):\n",
    "        name_list.append(\"COV_%s_%s_%s\" % (feat_list[i],feat_list[j],day))\n",
    "        task_list.append(\"mcovar(%s,%s,%s)\" % (day,dict_load[feat_list[i]],dict_load[feat_list[j]]))\n",
    "\n",
    "# Moving Corr\n",
    "for i in range(len(feat_list)-1):\n",
    "    for j in range(i+1,len(feat_list)):\n",
    "        name_list.append(\"CORR_%s_%s_%s\" % (feat_list[i],feat_list[j],day))\n",
    "        task_list.append(\"ts_corr(%s,%s,%s)\" % (day,dict_load[feat_list[i]],dict_load[feat_list[j]]))\n",
    "\n",
    "# # Moving STD\n",
    "for i in range(len(feat_list)-1):\n",
    "    name_list.append(\"STD_%s_%s\" % (feat_list[i],day))\n",
    "    task_list.append(\"mstd(%s,%s)\" % (day,dict_load[feat_list[i]]))\n",
    "    \n",
    "# # Z-score\n",
    "for i in range(len(feat_list)-1):\n",
    "    name_list.append(\"ZSCORE_%s_%s\" % (feat_list[i],day)) \n",
    "    task_list.append(\"div(mavg(%s,%s),mstd(%s,%s))\" % (day,dict_load[feat_list[i]],day,dict_load[feat_list[i]]))\n",
    "    \n",
    "# # Return\n",
    "for i in range(len(feat_list)-1):\n",
    "    name_list.append(\"RETURN_%s_%s\" % (feat_list[i],day))\n",
    "    task_list.append(\"div(sub(%s,delay(%s,%s)),delay(%s,%s))\" % (dict_load[feat_list[i]],day,dict_load[feat_list[i]],day,dict_load[feat_list[i]])) \n",
    "# Decay \n",
    "for i in range(len(feat_list)-1):\n",
    "    name_list.append(\"DECAY_%s_%s\" % (feat_list[i],day))\n",
    "    task_list.append(\"decay(%s,%s)\" % (day,dict_load[feat_list[i]])"
   ]
  },
  {
   "cell_type": "code",
   "execution_count": 4,
   "id": "7c1d2bf0",
   "metadata": {
    "ExecuteTime": {
     "end_time": "2022-01-13T05:40:52.954043Z",
     "start_time": "2022-01-13T05:40:52.946278Z"
    }
   },
   "outputs": [
    {
     "name": "stdout",
     "output_type": "stream",
     "text": [
      "name\n",
      "open;high;low;close;vwap;volume;pct_chg;turnover;free_turnover;open_ts_norm_30d;high_ts_norm_30d;low_ts_norm_30d;close_ts_norm_30d;vwap_ts_norm_30d;volume_ts_norm_30d;pct_chg_ts_norm_30d;turnover_ts_norm_30d;free_turnover_ts_norm_30d;\n"
     ]
    }
   ],
   "source": [
    "final = \"\"\n",
    "for i in name_list:\n",
    "    final += i + \";\"\n",
    "print(\"name\")\n",
    "print(final)"
   ]
  },
  {
   "cell_type": "code",
   "execution_count": 5,
   "id": "d6e0c6d8",
   "metadata": {
    "ExecuteTime": {
     "end_time": "2022-01-13T05:40:54.466944Z",
     "start_time": "2022-01-13T05:40:54.459626Z"
    }
   },
   "outputs": [
    {
     "name": "stdout",
     "output_type": "stream",
     "text": [
      "task\n",
      "sub(open,0);sub(high,0);sub(low,0);sub(close,0);sub(vwap,0);sub(volume,0);sub(pct_chg,0);sub(turnover,0);sub(free_turnover,0);div(sub(open,mavg(30,open)),mstd(30,open));div(sub(high,mavg(30,high)),mstd(30,high));div(sub(low,mavg(30,low)),mstd(30,low));div(sub(close,mavg(30,close)),mstd(30,close));div(sub(vwap,mavg(30,vwap)),mstd(30,vwap));div(sub(volume,mavg(30,volume)),mstd(30,volume));div(sub(pct_chg,mavg(30,pct_chg)),mstd(30,pct_chg));div(sub(turnover,mavg(30,turnover)),mstd(30,turnover));div(sub(free_turnover,mavg(30,free_turnover)),mstd(30,free_turnover));\n"
     ]
    }
   ],
   "source": [
    "final = \"\"\n",
    "for i in task_list:\n",
    "    final += i + \";\"\n",
    "print(\"task\")\n",
    "print(final)"
   ]
  },
  {
   "cell_type": "code",
   "execution_count": 7,
   "id": "38c6aa15",
   "metadata": {
    "ExecuteTime": {
     "end_time": "2022-01-13T05:48:39.644131Z",
     "start_time": "2022-01-13T05:48:39.627450Z"
    },
    "scrolled": true
   },
   "outputs": [
    {
     "data": {
      "text/plain": [
       "{'COV_open_high_10': 'mcovar(10,open,high)',\n",
       " 'COV_open_low_10': 'mcovar(10,open,low)',\n",
       " 'COV_open_close_10': 'mcovar(10,open,close)',\n",
       " 'COV_open_vwap_10': 'mcovar(10,open,vwap)',\n",
       " 'COV_open_volume_10': 'mcovar(10,open,volume)',\n",
       " 'COV_open_pct_chg_10': 'mcovar(10,open,pct_chg)',\n",
       " 'COV_open_turnover_10': 'mcovar(10,open,turnover)',\n",
       " 'COV_open_free_turnover_10': 'mcovar(10,open,free_turnover)',\n",
       " 'COV_high_low_10': 'mcovar(10,high,low)',\n",
       " 'COV_high_close_10': 'mcovar(10,high,close)',\n",
       " 'COV_high_vwap_10': 'mcovar(10,high,vwap)',\n",
       " 'COV_high_volume_10': 'mcovar(10,high,volume)',\n",
       " 'COV_high_pct_chg_10': 'mcovar(10,high,pct_chg)',\n",
       " 'COV_high_turnover_10': 'mcovar(10,high,turnover)',\n",
       " 'COV_high_free_turnover_10': 'mcovar(10,high,free_turnover)',\n",
       " 'COV_low_close_10': 'mcovar(10,low,close)',\n",
       " 'COV_low_vwap_10': 'mcovar(10,low,vwap)',\n",
       " 'COV_low_volume_10': 'mcovar(10,low,volume)',\n",
       " 'COV_low_pct_chg_10': 'mcovar(10,low,pct_chg)',\n",
       " 'COV_low_turnover_10': 'mcovar(10,low,turnover)',\n",
       " 'COV_low_free_turnover_10': 'mcovar(10,low,free_turnover)',\n",
       " 'COV_close_vwap_10': 'mcovar(10,close,vwap)',\n",
       " 'COV_close_volume_10': 'mcovar(10,close,volume)',\n",
       " 'COV_close_pct_chg_10': 'mcovar(10,close,pct_chg)',\n",
       " 'COV_close_turnover_10': 'mcovar(10,close,turnover)',\n",
       " 'COV_close_free_turnover_10': 'mcovar(10,close,free_turnover)',\n",
       " 'COV_vwap_volume_10': 'mcovar(10,vwap,volume)',\n",
       " 'COV_vwap_pct_chg_10': 'mcovar(10,vwap,pct_chg)',\n",
       " 'COV_vwap_turnover_10': 'mcovar(10,vwap,turnover)',\n",
       " 'COV_vwap_free_turnover_10': 'mcovar(10,vwap,free_turnover)',\n",
       " 'COV_volume_pct_chg_10': 'mcovar(10,volume,pct_chg)',\n",
       " 'COV_volume_turnover_10': 'mcovar(10,volume,turnover)',\n",
       " 'COV_volume_free_turnover_10': 'mcovar(10,volume,free_turnover)',\n",
       " 'COV_pct_chg_turnover_10': 'mcovar(10,pct_chg,turnover)',\n",
       " 'COV_pct_chg_free_turnover_10': 'mcovar(10,pct_chg,free_turnover)',\n",
       " 'COV_turnover_free_turnover_10': 'mcovar(10,turnover,free_turnover)',\n",
       " 'CORR_open_high_10': 'ts_corr(10,open,high)',\n",
       " 'CORR_open_low_10': 'ts_corr(10,open,low)',\n",
       " 'CORR_open_close_10': 'ts_corr(10,open,close)',\n",
       " 'CORR_open_vwap_10': 'ts_corr(10,open,vwap)',\n",
       " 'CORR_open_volume_10': 'ts_corr(10,open,volume)',\n",
       " 'CORR_open_pct_chg_10': 'ts_corr(10,open,pct_chg)',\n",
       " 'CORR_open_turnover_10': 'ts_corr(10,open,turnover)',\n",
       " 'CORR_open_free_turnover_10': 'ts_corr(10,open,free_turnover)',\n",
       " 'CORR_high_low_10': 'ts_corr(10,high,low)',\n",
       " 'CORR_high_close_10': 'ts_corr(10,high,close)',\n",
       " 'CORR_high_vwap_10': 'ts_corr(10,high,vwap)',\n",
       " 'CORR_high_volume_10': 'ts_corr(10,high,volume)',\n",
       " 'CORR_high_pct_chg_10': 'ts_corr(10,high,pct_chg)',\n",
       " 'CORR_high_turnover_10': 'ts_corr(10,high,turnover)',\n",
       " 'CORR_high_free_turnover_10': 'ts_corr(10,high,free_turnover)',\n",
       " 'CORR_low_close_10': 'ts_corr(10,low,close)',\n",
       " 'CORR_low_vwap_10': 'ts_corr(10,low,vwap)',\n",
       " 'CORR_low_volume_10': 'ts_corr(10,low,volume)',\n",
       " 'CORR_low_pct_chg_10': 'ts_corr(10,low,pct_chg)',\n",
       " 'CORR_low_turnover_10': 'ts_corr(10,low,turnover)',\n",
       " 'CORR_low_free_turnover_10': 'ts_corr(10,low,free_turnover)',\n",
       " 'CORR_close_vwap_10': 'ts_corr(10,close,vwap)',\n",
       " 'CORR_close_volume_10': 'ts_corr(10,close,volume)',\n",
       " 'CORR_close_pct_chg_10': 'ts_corr(10,close,pct_chg)',\n",
       " 'CORR_close_turnover_10': 'ts_corr(10,close,turnover)',\n",
       " 'CORR_close_free_turnover_10': 'ts_corr(10,close,free_turnover)',\n",
       " 'CORR_vwap_volume_10': 'ts_corr(10,vwap,volume)',\n",
       " 'CORR_vwap_pct_chg_10': 'ts_corr(10,vwap,pct_chg)',\n",
       " 'CORR_vwap_turnover_10': 'ts_corr(10,vwap,turnover)',\n",
       " 'CORR_vwap_free_turnover_10': 'ts_corr(10,vwap,free_turnover)',\n",
       " 'CORR_volume_pct_chg_10': 'ts_corr(10,volume,pct_chg)',\n",
       " 'CORR_volume_turnover_10': 'ts_corr(10,volume,turnover)',\n",
       " 'CORR_volume_free_turnover_10': 'ts_corr(10,volume,free_turnover)',\n",
       " 'CORR_pct_chg_turnover_10': 'ts_corr(10,pct_chg,turnover)',\n",
       " 'CORR_pct_chg_free_turnover_10': 'ts_corr(10,pct_chg,free_turnover)',\n",
       " 'CORR_turnover_free_turnover_10': 'ts_corr(10,turnover,free_turnover)',\n",
       " 'STD_open_10': 'mstd(10,open)',\n",
       " 'STD_high_10': 'mstd(10,high)',\n",
       " 'STD_low_10': 'mstd(10,low)',\n",
       " 'STD_close_10': 'mstd(10,close)',\n",
       " 'STD_vwap_10': 'mstd(10,vwap)',\n",
       " 'STD_volume_10': 'mstd(10,volume)',\n",
       " 'STD_pct_chg_10': 'mstd(10,pct_chg)',\n",
       " 'STD_turnover_10': 'mstd(10,turnover)',\n",
       " 'STD_free_turnover_10': 'mstd(10,free_turnover)',\n",
       " 'ZSCORE_open_10': 'div(mavg(10,open),mstd(10,open))',\n",
       " 'ZSCORE_high_10': 'div(mavg(10,high),mstd(10,high))',\n",
       " 'ZSCORE_low_10': 'div(mavg(10,low),mstd(10,low))',\n",
       " 'ZSCORE_close_10': 'div(mavg(10,close),mstd(10,close))',\n",
       " 'ZSCORE_vwap_10': 'div(mavg(10,vwap),mstd(10,vwap))',\n",
       " 'ZSCORE_volume_10': 'div(mavg(10,volume),mstd(10,volume))',\n",
       " 'ZSCORE_pct_chg_10': 'div(mavg(10,pct_chg),mstd(10,pct_chg))',\n",
       " 'ZSCORE_turnover_10': 'div(mavg(10,turnover),mstd(10,turnover))',\n",
       " 'ZSCORE_free_turnover_10': 'div(mavg(10,free_turnover),mstd(10,free_turnover))',\n",
       " 'RETURN_open_10': 'div(sub(open,delay(10,open)),delay(10,open))',\n",
       " 'RETURN_high_10': 'div(sub(high,delay(10,high)),delay(10,high))',\n",
       " 'RETURN_low_10': 'div(sub(low,delay(10,low)),delay(10,low))',\n",
       " 'RETURN_close_10': 'div(sub(close,delay(10,close)),delay(10,close))',\n",
       " 'RETURN_vwap_10': 'div(sub(vwap,delay(10,vwap)),delay(10,vwap))',\n",
       " 'RETURN_volume_10': 'div(sub(volume,delay(10,volume)),delay(10,volume))',\n",
       " 'RETURN_pct_chg_10': 'div(sub(pct_chg,delay(10,pct_chg)),delay(10,pct_chg))',\n",
       " 'RETURN_turnover_10': 'div(sub(turnover,delay(10,turnover)),delay(10,turnover))',\n",
       " 'RETURN_free_turnover_10': 'div(sub(free_turnover,delay(10,free_turnover)),delay(10,free_turnover))',\n",
       " 'CORR_open_ts_norm_30d_high_ts_norm_30d_10': 'ts_corr(10,div(sub(open,mavg(30,open)),mstd(30,open)),div(sub(high,mavg(30,high)),mstd(30,high)))',\n",
       " 'CORR_open_ts_norm_30d_low_ts_norm_30d_10': 'ts_corr(10,div(sub(open,mavg(30,open)),mstd(30,open)),div(sub(low,mavg(30,low)),mstd(30,low)))',\n",
       " 'CORR_open_ts_norm_30d_close_ts_norm_30d_10': 'ts_corr(10,div(sub(open,mavg(30,open)),mstd(30,open)),div(sub(close,mavg(30,close)),mstd(30,close)))',\n",
       " 'CORR_open_ts_norm_30d_vwap_ts_norm_30d_10': 'ts_corr(10,div(sub(open,mavg(30,open)),mstd(30,open)),div(sub(vwap,mavg(30,vwap)),mstd(30,vwap)))',\n",
       " 'CORR_open_ts_norm_30d_volume_ts_norm_30d_10': 'ts_corr(10,div(sub(open,mavg(30,open)),mstd(30,open)),div(sub(volume,mavg(30,volume)),mstd(30,volume)))',\n",
       " 'CORR_open_ts_norm_30d_pct_chg_ts_norm_30d_10': 'ts_corr(10,div(sub(open,mavg(30,open)),mstd(30,open)),div(sub(pct_chg,mavg(30,pct_chg)),mstd(30,pct_chg)))',\n",
       " 'CORR_open_ts_norm_30d_turnover_ts_norm_30d_10': 'ts_corr(10,div(sub(open,mavg(30,open)),mstd(30,open)),div(sub(turnover,mavg(30,turnover)),mstd(30,turnover)))',\n",
       " 'CORR_open_ts_norm_30d_free_turnover_ts_norm_30d_10': 'ts_corr(10,div(sub(open,mavg(30,open)),mstd(30,open)),div(sub(free_turnover,mavg(30,free_turnover)),mstd(30,free_turnover)))',\n",
       " 'CORR_high_ts_norm_30d_low_ts_norm_30d_10': 'ts_corr(10,div(sub(high,mavg(30,high)),mstd(30,high)),div(sub(low,mavg(30,low)),mstd(30,low)))',\n",
       " 'CORR_high_ts_norm_30d_close_ts_norm_30d_10': 'ts_corr(10,div(sub(high,mavg(30,high)),mstd(30,high)),div(sub(close,mavg(30,close)),mstd(30,close)))',\n",
       " 'CORR_high_ts_norm_30d_vwap_ts_norm_30d_10': 'ts_corr(10,div(sub(high,mavg(30,high)),mstd(30,high)),div(sub(vwap,mavg(30,vwap)),mstd(30,vwap)))',\n",
       " 'CORR_high_ts_norm_30d_volume_ts_norm_30d_10': 'ts_corr(10,div(sub(high,mavg(30,high)),mstd(30,high)),div(sub(volume,mavg(30,volume)),mstd(30,volume)))',\n",
       " 'CORR_high_ts_norm_30d_pct_chg_ts_norm_30d_10': 'ts_corr(10,div(sub(high,mavg(30,high)),mstd(30,high)),div(sub(pct_chg,mavg(30,pct_chg)),mstd(30,pct_chg)))',\n",
       " 'CORR_high_ts_norm_30d_turnover_ts_norm_30d_10': 'ts_corr(10,div(sub(high,mavg(30,high)),mstd(30,high)),div(sub(turnover,mavg(30,turnover)),mstd(30,turnover)))',\n",
       " 'CORR_high_ts_norm_30d_free_turnover_ts_norm_30d_10': 'ts_corr(10,div(sub(high,mavg(30,high)),mstd(30,high)),div(sub(free_turnover,mavg(30,free_turnover)),mstd(30,free_turnover)))',\n",
       " 'CORR_low_ts_norm_30d_close_ts_norm_30d_10': 'ts_corr(10,div(sub(low,mavg(30,low)),mstd(30,low)),div(sub(close,mavg(30,close)),mstd(30,close)))',\n",
       " 'CORR_low_ts_norm_30d_vwap_ts_norm_30d_10': 'ts_corr(10,div(sub(low,mavg(30,low)),mstd(30,low)),div(sub(vwap,mavg(30,vwap)),mstd(30,vwap)))',\n",
       " 'CORR_low_ts_norm_30d_volume_ts_norm_30d_10': 'ts_corr(10,div(sub(low,mavg(30,low)),mstd(30,low)),div(sub(volume,mavg(30,volume)),mstd(30,volume)))',\n",
       " 'CORR_low_ts_norm_30d_pct_chg_ts_norm_30d_10': 'ts_corr(10,div(sub(low,mavg(30,low)),mstd(30,low)),div(sub(pct_chg,mavg(30,pct_chg)),mstd(30,pct_chg)))',\n",
       " 'CORR_low_ts_norm_30d_turnover_ts_norm_30d_10': 'ts_corr(10,div(sub(low,mavg(30,low)),mstd(30,low)),div(sub(turnover,mavg(30,turnover)),mstd(30,turnover)))',\n",
       " 'CORR_low_ts_norm_30d_free_turnover_ts_norm_30d_10': 'ts_corr(10,div(sub(low,mavg(30,low)),mstd(30,low)),div(sub(free_turnover,mavg(30,free_turnover)),mstd(30,free_turnover)))',\n",
       " 'CORR_close_ts_norm_30d_vwap_ts_norm_30d_10': 'ts_corr(10,div(sub(close,mavg(30,close)),mstd(30,close)),div(sub(vwap,mavg(30,vwap)),mstd(30,vwap)))',\n",
       " 'CORR_close_ts_norm_30d_volume_ts_norm_30d_10': 'ts_corr(10,div(sub(close,mavg(30,close)),mstd(30,close)),div(sub(volume,mavg(30,volume)),mstd(30,volume)))',\n",
       " 'CORR_close_ts_norm_30d_pct_chg_ts_norm_30d_10': 'ts_corr(10,div(sub(close,mavg(30,close)),mstd(30,close)),div(sub(pct_chg,mavg(30,pct_chg)),mstd(30,pct_chg)))',\n",
       " 'CORR_close_ts_norm_30d_turnover_ts_norm_30d_10': 'ts_corr(10,div(sub(close,mavg(30,close)),mstd(30,close)),div(sub(turnover,mavg(30,turnover)),mstd(30,turnover)))',\n",
       " 'CORR_close_ts_norm_30d_free_turnover_ts_norm_30d_10': 'ts_corr(10,div(sub(close,mavg(30,close)),mstd(30,close)),div(sub(free_turnover,mavg(30,free_turnover)),mstd(30,free_turnover)))',\n",
       " 'CORR_vwap_ts_norm_30d_volume_ts_norm_30d_10': 'ts_corr(10,div(sub(vwap,mavg(30,vwap)),mstd(30,vwap)),div(sub(volume,mavg(30,volume)),mstd(30,volume)))',\n",
       " 'CORR_vwap_ts_norm_30d_pct_chg_ts_norm_30d_10': 'ts_corr(10,div(sub(vwap,mavg(30,vwap)),mstd(30,vwap)),div(sub(pct_chg,mavg(30,pct_chg)),mstd(30,pct_chg)))',\n",
       " 'CORR_vwap_ts_norm_30d_turnover_ts_norm_30d_10': 'ts_corr(10,div(sub(vwap,mavg(30,vwap)),mstd(30,vwap)),div(sub(turnover,mavg(30,turnover)),mstd(30,turnover)))',\n",
       " 'CORR_vwap_ts_norm_30d_free_turnover_ts_norm_30d_10': 'ts_corr(10,div(sub(vwap,mavg(30,vwap)),mstd(30,vwap)),div(sub(free_turnover,mavg(30,free_turnover)),mstd(30,free_turnover)))',\n",
       " 'CORR_volume_ts_norm_30d_pct_chg_ts_norm_30d_10': 'ts_corr(10,div(sub(volume,mavg(30,volume)),mstd(30,volume)),div(sub(pct_chg,mavg(30,pct_chg)),mstd(30,pct_chg)))',\n",
       " 'CORR_volume_ts_norm_30d_turnover_ts_norm_30d_10': 'ts_corr(10,div(sub(volume,mavg(30,volume)),mstd(30,volume)),div(sub(turnover,mavg(30,turnover)),mstd(30,turnover)))',\n",
       " 'CORR_volume_ts_norm_30d_free_turnover_ts_norm_30d_10': 'ts_corr(10,div(sub(volume,mavg(30,volume)),mstd(30,volume)),div(sub(free_turnover,mavg(30,free_turnover)),mstd(30,free_turnover)))',\n",
       " 'CORR_pct_chg_ts_norm_30d_turnover_ts_norm_30d_10': 'ts_corr(10,div(sub(pct_chg,mavg(30,pct_chg)),mstd(30,pct_chg)),div(sub(turnover,mavg(30,turnover)),mstd(30,turnover)))',\n",
       " 'CORR_pct_chg_ts_norm_30d_free_turnover_ts_norm_30d_10': 'ts_corr(10,div(sub(pct_chg,mavg(30,pct_chg)),mstd(30,pct_chg)),div(sub(free_turnover,mavg(30,free_turnover)),mstd(30,free_turnover)))',\n",
       " 'CORR_turnover_ts_norm_30d_free_turnover_ts_norm_30d_10': 'ts_corr(10,div(sub(turnover,mavg(30,turnover)),mstd(30,turnover)),div(sub(free_turnover,mavg(30,free_turnover)),mstd(30,free_turnover)))',\n",
       " 'COV_open_ts_norm_30d_high_ts_norm_30d_10': 'mcovar(10,div(sub(open,mavg(30,open)),mstd(30,open)),div(sub(high,mavg(30,high)),mstd(30,high)))',\n",
       " 'COV_open_ts_norm_30d_low_ts_norm_30d_10': 'mcovar(10,div(sub(open,mavg(30,open)),mstd(30,open)),div(sub(low,mavg(30,low)),mstd(30,low)))',\n",
       " 'COV_open_ts_norm_30d_close_ts_norm_30d_10': 'mcovar(10,div(sub(open,mavg(30,open)),mstd(30,open)),div(sub(close,mavg(30,close)),mstd(30,close)))',\n",
       " 'COV_open_ts_norm_30d_vwap_ts_norm_30d_10': 'mcovar(10,div(sub(open,mavg(30,open)),mstd(30,open)),div(sub(vwap,mavg(30,vwap)),mstd(30,vwap)))',\n",
       " 'COV_open_ts_norm_30d_volume_ts_norm_30d_10': 'mcovar(10,div(sub(open,mavg(30,open)),mstd(30,open)),div(sub(volume,mavg(30,volume)),mstd(30,volume)))',\n",
       " 'COV_open_ts_norm_30d_pct_chg_ts_norm_30d_10': 'mcovar(10,div(sub(open,mavg(30,open)),mstd(30,open)),div(sub(pct_chg,mavg(30,pct_chg)),mstd(30,pct_chg)))',\n",
       " 'COV_open_ts_norm_30d_turnover_ts_norm_30d_10': 'mcovar(10,div(sub(open,mavg(30,open)),mstd(30,open)),div(sub(turnover,mavg(30,turnover)),mstd(30,turnover)))',\n",
       " 'COV_open_ts_norm_30d_free_turnover_ts_norm_30d_10': 'mcovar(10,div(sub(open,mavg(30,open)),mstd(30,open)),div(sub(free_turnover,mavg(30,free_turnover)),mstd(30,free_turnover)))',\n",
       " 'COV_high_ts_norm_30d_low_ts_norm_30d_10': 'mcovar(10,div(sub(high,mavg(30,high)),mstd(30,high)),div(sub(low,mavg(30,low)),mstd(30,low)))',\n",
       " 'COV_high_ts_norm_30d_close_ts_norm_30d_10': 'mcovar(10,div(sub(high,mavg(30,high)),mstd(30,high)),div(sub(close,mavg(30,close)),mstd(30,close)))',\n",
       " 'COV_high_ts_norm_30d_vwap_ts_norm_30d_10': 'mcovar(10,div(sub(high,mavg(30,high)),mstd(30,high)),div(sub(vwap,mavg(30,vwap)),mstd(30,vwap)))',\n",
       " 'COV_high_ts_norm_30d_volume_ts_norm_30d_10': 'mcovar(10,div(sub(high,mavg(30,high)),mstd(30,high)),div(sub(volume,mavg(30,volume)),mstd(30,volume)))',\n",
       " 'COV_high_ts_norm_30d_pct_chg_ts_norm_30d_10': 'mcovar(10,div(sub(high,mavg(30,high)),mstd(30,high)),div(sub(pct_chg,mavg(30,pct_chg)),mstd(30,pct_chg)))',\n",
       " 'COV_high_ts_norm_30d_turnover_ts_norm_30d_10': 'mcovar(10,div(sub(high,mavg(30,high)),mstd(30,high)),div(sub(turnover,mavg(30,turnover)),mstd(30,turnover)))',\n",
       " 'COV_high_ts_norm_30d_free_turnover_ts_norm_30d_10': 'mcovar(10,div(sub(high,mavg(30,high)),mstd(30,high)),div(sub(free_turnover,mavg(30,free_turnover)),mstd(30,free_turnover)))',\n",
       " 'COV_low_ts_norm_30d_close_ts_norm_30d_10': 'mcovar(10,div(sub(low,mavg(30,low)),mstd(30,low)),div(sub(close,mavg(30,close)),mstd(30,close)))',\n",
       " 'COV_low_ts_norm_30d_vwap_ts_norm_30d_10': 'mcovar(10,div(sub(low,mavg(30,low)),mstd(30,low)),div(sub(vwap,mavg(30,vwap)),mstd(30,vwap)))',\n",
       " 'COV_low_ts_norm_30d_volume_ts_norm_30d_10': 'mcovar(10,div(sub(low,mavg(30,low)),mstd(30,low)),div(sub(volume,mavg(30,volume)),mstd(30,volume)))',\n",
       " 'COV_low_ts_norm_30d_pct_chg_ts_norm_30d_10': 'mcovar(10,div(sub(low,mavg(30,low)),mstd(30,low)),div(sub(pct_chg,mavg(30,pct_chg)),mstd(30,pct_chg)))',\n",
       " 'COV_low_ts_norm_30d_turnover_ts_norm_30d_10': 'mcovar(10,div(sub(low,mavg(30,low)),mstd(30,low)),div(sub(turnover,mavg(30,turnover)),mstd(30,turnover)))',\n",
       " 'COV_low_ts_norm_30d_free_turnover_ts_norm_30d_10': 'mcovar(10,div(sub(low,mavg(30,low)),mstd(30,low)),div(sub(free_turnover,mavg(30,free_turnover)),mstd(30,free_turnover)))',\n",
       " 'COV_close_ts_norm_30d_vwap_ts_norm_30d_10': 'mcovar(10,div(sub(close,mavg(30,close)),mstd(30,close)),div(sub(vwap,mavg(30,vwap)),mstd(30,vwap)))',\n",
       " 'COV_close_ts_norm_30d_volume_ts_norm_30d_10': 'mcovar(10,div(sub(close,mavg(30,close)),mstd(30,close)),div(sub(volume,mavg(30,volume)),mstd(30,volume)))',\n",
       " 'COV_close_ts_norm_30d_pct_chg_ts_norm_30d_10': 'mcovar(10,div(sub(close,mavg(30,close)),mstd(30,close)),div(sub(pct_chg,mavg(30,pct_chg)),mstd(30,pct_chg)))',\n",
       " 'COV_close_ts_norm_30d_turnover_ts_norm_30d_10': 'mcovar(10,div(sub(close,mavg(30,close)),mstd(30,close)),div(sub(turnover,mavg(30,turnover)),mstd(30,turnover)))',\n",
       " 'COV_close_ts_norm_30d_free_turnover_ts_norm_30d_10': 'mcovar(10,div(sub(close,mavg(30,close)),mstd(30,close)),div(sub(free_turnover,mavg(30,free_turnover)),mstd(30,free_turnover)))',\n",
       " 'COV_vwap_ts_norm_30d_volume_ts_norm_30d_10': 'mcovar(10,div(sub(vwap,mavg(30,vwap)),mstd(30,vwap)),div(sub(volume,mavg(30,volume)),mstd(30,volume)))',\n",
       " 'COV_vwap_ts_norm_30d_pct_chg_ts_norm_30d_10': 'mcovar(10,div(sub(vwap,mavg(30,vwap)),mstd(30,vwap)),div(sub(pct_chg,mavg(30,pct_chg)),mstd(30,pct_chg)))',\n",
       " 'COV_vwap_ts_norm_30d_turnover_ts_norm_30d_10': 'mcovar(10,div(sub(vwap,mavg(30,vwap)),mstd(30,vwap)),div(sub(turnover,mavg(30,turnover)),mstd(30,turnover)))',\n",
       " 'COV_vwap_ts_norm_30d_free_turnover_ts_norm_30d_10': 'mcovar(10,div(sub(vwap,mavg(30,vwap)),mstd(30,vwap)),div(sub(free_turnover,mavg(30,free_turnover)),mstd(30,free_turnover)))',\n",
       " 'COV_volume_ts_norm_30d_pct_chg_ts_norm_30d_10': 'mcovar(10,div(sub(volume,mavg(30,volume)),mstd(30,volume)),div(sub(pct_chg,mavg(30,pct_chg)),mstd(30,pct_chg)))',\n",
       " 'COV_volume_ts_norm_30d_turnover_ts_norm_30d_10': 'mcovar(10,div(sub(volume,mavg(30,volume)),mstd(30,volume)),div(sub(turnover,mavg(30,turnover)),mstd(30,turnover)))',\n",
       " 'COV_volume_ts_norm_30d_free_turnover_ts_norm_30d_10': 'mcovar(10,div(sub(volume,mavg(30,volume)),mstd(30,volume)),div(sub(free_turnover,mavg(30,free_turnover)),mstd(30,free_turnover)))',\n",
       " 'COV_pct_chg_ts_norm_30d_turnover_ts_norm_30d_10': 'mcovar(10,div(sub(pct_chg,mavg(30,pct_chg)),mstd(30,pct_chg)),div(sub(turnover,mavg(30,turnover)),mstd(30,turnover)))',\n",
       " 'COV_pct_chg_ts_norm_30d_free_turnover_ts_norm_30d_10': 'mcovar(10,div(sub(pct_chg,mavg(30,pct_chg)),mstd(30,pct_chg)),div(sub(free_turnover,mavg(30,free_turnover)),mstd(30,free_turnover)))',\n",
       " 'COV_turnover_ts_norm_30d_free_turnover_ts_norm_30d_10': 'mcovar(10,div(sub(turnover,mavg(30,turnover)),mstd(30,turnover)),div(sub(free_turnover,mavg(30,free_turnover)),mstd(30,free_turnover)))',\n",
       " 'STD_open_ts_norm_30d_10': 'mstd(10,div(sub(open,mavg(30,open)),mstd(30,open)))',\n",
       " 'STD_high_ts_norm_30d_10': 'mstd(10,div(sub(high,mavg(30,high)),mstd(30,high)))',\n",
       " 'STD_low_ts_norm_30d_10': 'mstd(10,div(sub(low,mavg(30,low)),mstd(30,low)))',\n",
       " 'STD_close_ts_norm_30d_10': 'mstd(10,div(sub(close,mavg(30,close)),mstd(30,close)))',\n",
       " 'STD_vwap_ts_norm_30d_10': 'mstd(10,div(sub(vwap,mavg(30,vwap)),mstd(30,vwap)))',\n",
       " 'STD_volume_ts_norm_30d_10': 'mstd(10,div(sub(volume,mavg(30,volume)),mstd(30,volume)))',\n",
       " 'STD_pct_chg_ts_norm_30d_10': 'mstd(10,div(sub(pct_chg,mavg(30,pct_chg)),mstd(30,pct_chg)))',\n",
       " 'STD_turnover_ts_norm_30d_10': 'mstd(10,div(sub(turnover,mavg(30,turnover)),mstd(30,turnover)))',\n",
       " 'ZSCORE_open_ts_norm_30d_10': 'div(mavg(10,div(sub(open,mavg(30,open)),mstd(30,open))),mstd(10,div(sub(open,mavg(30,open)),mstd(30,open))))',\n",
       " 'ZSCORE_high_ts_norm_30d_10': 'div(mavg(10,div(sub(high,mavg(30,high)),mstd(30,high))),mstd(10,div(sub(high,mavg(30,high)),mstd(30,high))))',\n",
       " 'ZSCORE_low_ts_norm_30d_10': 'div(mavg(10,div(sub(low,mavg(30,low)),mstd(30,low))),mstd(10,div(sub(low,mavg(30,low)),mstd(30,low))))',\n",
       " 'ZSCORE_close_ts_norm_30d_10': 'div(mavg(10,div(sub(close,mavg(30,close)),mstd(30,close))),mstd(10,div(sub(close,mavg(30,close)),mstd(30,close))))',\n",
       " 'ZSCORE_vwap_ts_norm_30d_10': 'div(mavg(10,div(sub(vwap,mavg(30,vwap)),mstd(30,vwap))),mstd(10,div(sub(vwap,mavg(30,vwap)),mstd(30,vwap))))',\n",
       " 'ZSCORE_volume_ts_norm_30d_10': 'div(mavg(10,div(sub(volume,mavg(30,volume)),mstd(30,volume))),mstd(10,div(sub(volume,mavg(30,volume)),mstd(30,volume))))',\n",
       " 'ZSCORE_pct_chg_ts_norm_30d_10': 'div(mavg(10,div(sub(pct_chg,mavg(30,pct_chg)),mstd(30,pct_chg))),mstd(10,div(sub(pct_chg,mavg(30,pct_chg)),mstd(30,pct_chg))))',\n",
       " 'ZSCORE_turnover_ts_norm_30d_10': 'div(mavg(10,div(sub(turnover,mavg(30,turnover)),mstd(30,turnover))),mstd(10,div(sub(turnover,mavg(30,turnover)),mstd(30,turnover))))',\n",
       " 'RETURN_open_ts_norm_30d_10': 'div(sub(div(sub(open,mavg(30,open)),mstd(30,open)),delay(10,div(sub(open,mavg(30,open)),mstd(30,open)))),delay(10,div(sub(open,mavg(30,open)),mstd(30,open))))',\n",
       " 'RETURN_high_ts_norm_30d_10': 'div(sub(div(sub(high,mavg(30,high)),mstd(30,high)),delay(10,div(sub(high,mavg(30,high)),mstd(30,high)))),delay(10,div(sub(high,mavg(30,high)),mstd(30,high))))',\n",
       " 'RETURN_low_ts_norm_30d_10': 'div(sub(div(sub(low,mavg(30,low)),mstd(30,low)),delay(10,div(sub(low,mavg(30,low)),mstd(30,low)))),delay(10,div(sub(low,mavg(30,low)),mstd(30,low))))',\n",
       " 'RETURN_close_ts_norm_30d_10': 'div(sub(div(sub(close,mavg(30,close)),mstd(30,close)),delay(10,div(sub(close,mavg(30,close)),mstd(30,close)))),delay(10,div(sub(close,mavg(30,close)),mstd(30,close))))',\n",
       " 'RETURN_vwap_ts_norm_30d_10': 'div(sub(div(sub(vwap,mavg(30,vwap)),mstd(30,vwap)),delay(10,div(sub(vwap,mavg(30,vwap)),mstd(30,vwap)))),delay(10,div(sub(vwap,mavg(30,vwap)),mstd(30,vwap))))',\n",
       " 'RETURN_volume_ts_norm_30d_10': 'div(sub(div(sub(volume,mavg(30,volume)),mstd(30,volume)),delay(10,div(sub(volume,mavg(30,volume)),mstd(30,volume)))),delay(10,div(sub(volume,mavg(30,volume)),mstd(30,volume))))',\n",
       " 'RETURN_pct_chg_ts_norm_30d_10': 'div(sub(div(sub(pct_chg,mavg(30,pct_chg)),mstd(30,pct_chg)),delay(10,div(sub(pct_chg,mavg(30,pct_chg)),mstd(30,pct_chg)))),delay(10,div(sub(pct_chg,mavg(30,pct_chg)),mstd(30,pct_chg))))',\n",
       " 'RETURN_turnover_ts_norm_30d_10': 'div(sub(div(sub(turnover,mavg(30,turnover)),mstd(30,turnover)),delay(10,div(sub(turnover,mavg(30,turnover)),mstd(30,turnover)))),delay(10,div(sub(turnover,mavg(30,turnover)),mstd(30,turnover))))',\n",
       " 'open': 'sub(open,0)',\n",
       " 'high': 'sub(high,0)',\n",
       " 'low': 'sub(low,0)',\n",
       " 'close': 'sub(close,0)',\n",
       " 'vwap': 'sub(vwap,0)',\n",
       " 'volume': 'sub(volume,0)',\n",
       " 'pct_chg': 'sub(pct_chg,0)',\n",
       " 'turnover': 'sub(turnover,0)',\n",
       " 'free_turnover': 'sub(free_turnover,0)',\n",
       " 'open_ts_norm_30d': 'div(sub(open,mavg(30,open)),mstd(30,open))',\n",
       " 'high_ts_norm_30d': 'div(sub(high,mavg(30,high)),mstd(30,high))',\n",
       " 'low_ts_norm_30d': 'div(sub(low,mavg(30,low)),mstd(30,low))',\n",
       " 'close_ts_norm_30d': 'div(sub(close,mavg(30,close)),mstd(30,close))',\n",
       " 'vwap_ts_norm_30d': 'div(sub(vwap,mavg(30,vwap)),mstd(30,vwap))',\n",
       " 'volume_ts_norm_30d': 'div(sub(volume,mavg(30,volume)),mstd(30,volume))',\n",
       " 'pct_chg_ts_norm_30d': 'div(sub(pct_chg,mavg(30,pct_chg)),mstd(30,pct_chg))',\n",
       " 'turnover_ts_norm_30d': 'div(sub(turnover,mavg(30,turnover)),mstd(30,turnover))',\n",
       " 'free_turnover_ts_norm_30d': 'div(sub(free_turnover,mavg(30,free_turnover)),mstd(30,free_turnover))'}"
      ]
     },
     "execution_count": 7,
     "metadata": {},
     "output_type": "execute_result"
    }
   ],
   "source": [
    "alpha_list = np.load(\"/home/wuwenjun/jupyter_code/Shannon/AlphaNet/Factor_Description/feature_list.npy\",allow_pickle=True)\n",
    "alpha_list = alpha_list.item()\n",
    "Cover = False\n",
    "for i in range(len(task_list)):\n",
    "    if name_list[i] in alpha_list and alpha_list[name_list[i]] != task_list[i] and Cover == False:\n",
    "        raise ValueError(\"contain \" + name_list[i])\n",
    "    alpha_list[name_list[i]] = task_list[i]\n",
    "check_list = list(os.listdir(\"/home/ShareFolder/feature_platform/ti0/wuwenjun\"))\n",
    "for i in alpha_list.keys():\n",
    "    if i not in check_list:\n",
    "        raise ValueError(\"No [%s] in feature_platform\" %i)\n",
    "alpha_list"
   ]
  },
  {
   "cell_type": "code",
   "execution_count": 8,
   "id": "726c15ca",
   "metadata": {
    "ExecuteTime": {
     "end_time": "2022-01-13T05:48:48.883495Z",
     "start_time": "2022-01-13T05:48:48.874243Z"
    }
   },
   "outputs": [],
   "source": [
    "np.save(\"/home/wuwenjun/jupyter_code/Shannon/AlphaNet/Factor_Description/feature_list.npy\",alpha_list)\n",
    "np.save(\"/home/ShareFolder/feature_platform/ti0/wuwenjun/1Factor_Description/feature_list.npy\",alpha_list)"
   ]
  }
 ],
 "metadata": {
  "kernelspec": {
   "display_name": "Python 3 (ipykernel)",
   "language": "python",
   "name": "python3"
  },
  "language_info": {
   "codemirror_mode": {
    "name": "ipython",
    "version": 3
   },
   "file_extension": ".py",
   "mimetype": "text/x-python",
   "name": "python",
   "nbconvert_exporter": "python",
   "pygments_lexer": "ipython3",
   "version": "3.7.9"
  }
 },
 "nbformat": 4,
 "nbformat_minor": 5
}
