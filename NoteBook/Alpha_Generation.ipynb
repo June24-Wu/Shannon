{
 "cells": [
  {
   "cell_type": "code",
   "execution_count": 34,
   "id": "77f29d45",
   "metadata": {
    "ExecuteTime": {
     "end_time": "2022-01-11T05:08:47.641398Z",
     "start_time": "2022-01-11T05:08:47.635791Z"
    }
   },
   "outputs": [],
   "source": [
    "from matplotlib import pyplot as plt\n",
    "import numpy as np \n",
    "import pandas as pd \n",
    "import os\n",
    "from tqdm import tqdm\n",
    "day = 10"
   ]
  },
  {
   "cell_type": "code",
   "execution_count": 35,
   "id": "40186be1",
   "metadata": {
    "ExecuteTime": {
     "end_time": "2022-01-11T05:08:49.032972Z",
     "start_time": "2022-01-11T05:08:49.027920Z"
    }
   },
   "outputs": [],
   "source": [
    "feat_list = ['open','high','low','close','vwap','volume','pct_chg','turnover','free_turnover']\n",
    "#             open_ts_norm_30d ,high_ts_norm_30d,low_ts_norm_30d ,close_ts_norm_30d ,vwap_ts_norm_30d \n",
    "#             ,volume_ts_norm_30d ,pct_chg_ts_norm_30d ,turnover_ts_norm_30d ,free_turnover_ts_norm_30d "
   ]
  },
  {
   "cell_type": "code",
   "execution_count": 61,
   "id": "3365a86b",
   "metadata": {
    "ExecuteTime": {
     "end_time": "2022-01-11T08:57:09.212520Z",
     "start_time": "2022-01-11T08:57:09.206777Z"
    }
   },
   "outputs": [],
   "source": [
    "dict_load = np.load(\"/home/wuwenjun/jupyter_code/Shannon/AlphaNet/Factor_Description/base_list.npy\",allow_pickle=True)\n",
    "dict_load = dict_load.item()"
   ]
  },
  {
   "cell_type": "code",
   "execution_count": 127,
   "id": "211ae730",
   "metadata": {
    "ExecuteTime": {
     "end_time": "2022-01-11T11:53:14.177352Z",
     "start_time": "2022-01-11T11:53:14.170733Z"
    }
   },
   "outputs": [],
   "source": [
    "name_list = []\n",
    "task_list = []\n",
    "# Moving Cov\n",
    "# for i in range(len(feat_list)-1):\n",
    "#     for j in range(i+1,len(feat_list)):\n",
    "#         name_list.append(\"COV_%s_%s_%s\" % (dict_load[feat_list[i]],dict_load[feat_list[j]],day))\n",
    "#         task_list.append(\"mcovar(%s,%s,%s)\" % (day,dict_load[feat_list[i]],dict_load[feat_list[j]]))\n",
    "\n",
    "# Moving Corr\n",
    "# for i in range(len(feat_list)-1):\n",
    "#     for j in range(i+1,len(feat_list)):\n",
    "#         name_list.append(\"CORR_%s_%s_%s\" % (dict_load[feat_list[i]],dict_load[feat_list[j]],day))\n",
    "#         task_list.append(\"ts_corr(%s,%s,%s)\" % (day,dict_load[feat_list[i]],dict_load[feat_list[j]]))\n",
    "\n",
    "# # Moving STD\n",
    "# for i in feat_list:\n",
    "#     name_list.append(\"STD_%s_%s\" % (i,day))\n",
    "#     task_list.append(\"mstd(%s,%s)\" % (day,i))\n",
    "    \n",
    "# # Z-score\n",
    "# for i in feat_list:\n",
    "#     name_list.append(\"ZSCORE_%s_%s\" % (i,day)) \n",
    "#     task_list.append(\"div(mavg(%s,%s),mstd(%s,%s))\" % (day,i,day,i))\n",
    "    \n",
    "# # Return\n",
    "for i in feat_list:\n",
    "    name_list.append(\"RETURN_%s_%s)\" % (i,day))\n",
    "    task_list.append(\"div(sub(%s,move(%s,%s)),move(%s,%s))\" % (i,day,i,day,i))   "
   ]
  },
  {
   "cell_type": "code",
   "execution_count": 128,
   "id": "7c1d2bf0",
   "metadata": {
    "ExecuteTime": {
     "end_time": "2022-01-11T11:53:14.859017Z",
     "start_time": "2022-01-11T11:53:14.852177Z"
    }
   },
   "outputs": [
    {
     "name": "stdout",
     "output_type": "stream",
     "text": [
      "name\n",
      "RETURN_open_10);RETURN_high_10);RETURN_low_10);RETURN_close_10);RETURN_vwap_10);RETURN_volume_10);RETURN_pct_chg_10);RETURN_turnover_10);RETURN_free_turnover_10);\n"
     ]
    }
   ],
   "source": [
    "final = \"\"\n",
    "for i in name_list:\n",
    "    final += i + \";\"\n",
    "print(\"name\")\n",
    "print(final)"
   ]
  },
  {
   "cell_type": "code",
   "execution_count": 129,
   "id": "d6e0c6d8",
   "metadata": {
    "ExecuteTime": {
     "end_time": "2022-01-11T11:53:15.468576Z",
     "start_time": "2022-01-11T11:53:15.461654Z"
    }
   },
   "outputs": [
    {
     "name": "stdout",
     "output_type": "stream",
     "text": [
      "task\n",
      "div(sub(open,move(10,open)),move(10,open));div(sub(high,move(10,high)),move(10,high));div(sub(low,move(10,low)),move(10,low));div(sub(close,move(10,close)),move(10,close));div(sub(vwap,move(10,vwap)),move(10,vwap));div(sub(volume,move(10,volume)),move(10,volume));div(sub(pct_chg,move(10,pct_chg)),move(10,pct_chg));div(sub(turnover,move(10,turnover)),move(10,turnover));div(sub(free_turnover,move(10,free_turnover)),move(10,free_turnover));\n"
     ]
    }
   ],
   "source": [
    "final = \"\"\n",
    "for i in task_list:\n",
    "    final += i + \";\"\n",
    "print(\"task\")\n",
    "print(final)"
   ]
  },
  {
   "cell_type": "code",
   "execution_count": 131,
   "id": "38c6aa15",
   "metadata": {
    "ExecuteTime": {
     "end_time": "2022-01-11T11:53:27.387774Z",
     "start_time": "2022-01-11T11:53:27.368820Z"
    }
   },
   "outputs": [
    {
     "data": {
      "text/plain": [
       "{'COV_open_high_10': 'mcovar(10,open,high)',\n",
       " 'COV_open_low_10': 'mcovar(10,open,low)',\n",
       " 'COV_open_close_10': 'mcovar(10,open,close)',\n",
       " 'COV_open_vwap_10': 'mcovar(10,open,vwap)',\n",
       " 'COV_open_volume_10': 'mcovar(10,open,volume)',\n",
       " 'COV_open_pct_chg_10': 'mcovar(10,open,pct_chg)',\n",
       " 'COV_open_turnover_10': 'mcovar(10,open,turnover)',\n",
       " 'COV_open_free_turnover_10': 'mcovar(10,open,free_turnover)',\n",
       " 'COV_high_low_10': 'mcovar(10,high,low)',\n",
       " 'COV_high_close_10': 'mcovar(10,high,close)',\n",
       " 'COV_high_vwap_10': 'mcovar(10,high,vwap)',\n",
       " 'COV_high_volume_10': 'mcovar(10,high,volume)',\n",
       " 'COV_high_pct_chg_10': 'mcovar(10,high,pct_chg)',\n",
       " 'COV_high_turnover_10': 'mcovar(10,high,turnover)',\n",
       " 'COV_high_free_turnover_10': 'mcovar(10,high,free_turnover)',\n",
       " 'COV_low_close_10': 'mcovar(10,low,close)',\n",
       " 'COV_low_vwap_10': 'mcovar(10,low,vwap)',\n",
       " 'COV_low_volume_10': 'mcovar(10,low,volume)',\n",
       " 'COV_low_pct_chg_10': 'mcovar(10,low,pct_chg)',\n",
       " 'COV_low_turnover_10': 'mcovar(10,low,turnover)',\n",
       " 'COV_low_free_turnover_10': 'mcovar(10,low,free_turnover)',\n",
       " 'COV_close_vwap_10': 'mcovar(10,close,vwap)',\n",
       " 'COV_close_volume_10': 'mcovar(10,close,volume)',\n",
       " 'COV_close_pct_chg_10': 'mcovar(10,close,pct_chg)',\n",
       " 'COV_close_turnover_10': 'mcovar(10,close,turnover)',\n",
       " 'COV_close_free_turnover_10': 'mcovar(10,close,free_turnover)',\n",
       " 'COV_vwap_volume_10': 'mcovar(10,vwap,volume)',\n",
       " 'COV_vwap_pct_chg_10': 'mcovar(10,vwap,pct_chg)',\n",
       " 'COV_vwap_turnover_10': 'mcovar(10,vwap,turnover)',\n",
       " 'COV_vwap_free_turnover_10': 'mcovar(10,vwap,free_turnover)',\n",
       " 'COV_volume_pct_chg_10': 'mcovar(10,volume,pct_chg)',\n",
       " 'COV_volume_turnover_10': 'mcovar(10,volume,turnover)',\n",
       " 'COV_volume_free_turnover_10': 'mcovar(10,volume,free_turnover)',\n",
       " 'COV_pct_chg_turnover_10': 'mcovar(10,pct_chg,turnover)',\n",
       " 'COV_pct_chg_free_turnover_10': 'mcovar(10,pct_chg,free_turnover)',\n",
       " 'COV_turnover_free_turnover_10': 'mcovar(10,turnover,free_turnover)',\n",
       " 'CORR_open_high_10': 'ts_corr(10,open,high)',\n",
       " 'CORR_open_low_10': 'ts_corr(10,open,low)',\n",
       " 'CORR_open_close_10': 'ts_corr(10,open,close)',\n",
       " 'CORR_open_vwap_10': 'ts_corr(10,open,vwap)',\n",
       " 'CORR_open_volume_10': 'ts_corr(10,open,volume)',\n",
       " 'CORR_open_pct_chg_10': 'ts_corr(10,open,pct_chg)',\n",
       " 'CORR_open_turnover_10': 'ts_corr(10,open,turnover)',\n",
       " 'CORR_open_free_turnover_10': 'ts_corr(10,open,free_turnover)',\n",
       " 'CORR_high_low_10': 'ts_corr(10,high,low)',\n",
       " 'CORR_high_close_10': 'ts_corr(10,high,close)',\n",
       " 'CORR_high_vwap_10': 'ts_corr(10,high,vwap)',\n",
       " 'CORR_high_volume_10': 'ts_corr(10,high,volume)',\n",
       " 'CORR_high_pct_chg_10': 'ts_corr(10,high,pct_chg)',\n",
       " 'CORR_high_turnover_10': 'ts_corr(10,high,turnover)',\n",
       " 'CORR_high_free_turnover_10': 'ts_corr(10,high,free_turnover)',\n",
       " 'CORR_low_close_10': 'ts_corr(10,low,close)',\n",
       " 'CORR_low_vwap_10': 'ts_corr(10,low,vwap)',\n",
       " 'CORR_low_volume_10': 'ts_corr(10,low,volume)',\n",
       " 'CORR_low_pct_chg_10': 'ts_corr(10,low,pct_chg)',\n",
       " 'CORR_low_turnover_10': 'ts_corr(10,low,turnover)',\n",
       " 'CORR_low_free_turnover_10': 'ts_corr(10,low,free_turnover)',\n",
       " 'CORR_close_vwap_10': 'ts_corr(10,close,vwap)',\n",
       " 'CORR_close_volume_10': 'ts_corr(10,close,volume)',\n",
       " 'CORR_close_pct_chg_10': 'ts_corr(10,close,pct_chg)',\n",
       " 'CORR_close_turnover_10': 'ts_corr(10,close,turnover)',\n",
       " 'CORR_close_free_turnover_10': 'ts_corr(10,close,free_turnover)',\n",
       " 'CORR_vwap_volume_10': 'ts_corr(10,vwap,volume)',\n",
       " 'CORR_vwap_pct_chg_10': 'ts_corr(10,vwap,pct_chg)',\n",
       " 'CORR_vwap_turnover_10': 'ts_corr(10,vwap,turnover)',\n",
       " 'CORR_vwap_free_turnover_10': 'ts_corr(10,vwap,free_turnover)',\n",
       " 'CORR_volume_pct_chg_10': 'ts_corr(10,volume,pct_chg)',\n",
       " 'CORR_volume_turnover_10': 'ts_corr(10,volume,turnover)',\n",
       " 'CORR_volume_free_turnover_10': 'ts_corr(10,volume,free_turnover)',\n",
       " 'CORR_pct_chg_turnover_10': 'ts_corr(10,pct_chg,turnover)',\n",
       " 'CORR_pct_chg_free_turnover_10': 'ts_corr(10,pct_chg,free_turnover)',\n",
       " 'CORR_turnover_free_turnover_10': 'ts_corr(10,turnover,free_turnover)',\n",
       " 'STD_open_10': 'mstd(10,open)',\n",
       " 'STD_high_10': 'mstd(10,high)',\n",
       " 'STD_low_10': 'mstd(10,low)',\n",
       " 'STD_close_10': 'mstd(10,close)',\n",
       " 'STD_vwap_10': 'mstd(10,vwap)',\n",
       " 'STD_volume_10': 'mstd(10,volume)',\n",
       " 'STD_pct_chg_10': 'mstd(10,pct_chg)',\n",
       " 'STD_turnover_10': 'mstd(10,turnover)',\n",
       " 'STD_free_turnover_10': 'mstd(10,free_turnover)',\n",
       " 'ZSCORE_open_10': 'div(mavg(10,open),mstd(10,open))',\n",
       " 'ZSCORE_high_10': 'div(mavg(10,high),mstd(10,high))',\n",
       " 'ZSCORE_low_10': 'div(mavg(10,low),mstd(10,low))',\n",
       " 'ZSCORE_close_10': 'div(mavg(10,close),mstd(10,close))',\n",
       " 'ZSCORE_vwap_10': 'div(mavg(10,vwap),mstd(10,vwap))',\n",
       " 'ZSCORE_volume_10': 'div(mavg(10,volume),mstd(10,volume))',\n",
       " 'ZSCORE_pct_chg_10': 'div(mavg(10,pct_chg),mstd(10,pct_chg))',\n",
       " 'ZSCORE_turnover_10': 'div(mavg(10,turnover),mstd(10,turnover))',\n",
       " 'ZSCORE_free_turnover_10': 'div(mavg(10,free_turnover),mstd(10,free_turnover))',\n",
       " 'RETURN_open_10)': 'div(sub(open,move(10,open)),move(10,open))',\n",
       " 'RETURN_high_10)': 'div(sub(high,move(10,high)),move(10,high))',\n",
       " 'RETURN_low_10)': 'div(sub(low,move(10,low)),move(10,low))',\n",
       " 'RETURN_close_10)': 'div(sub(close,move(10,close)),move(10,close))',\n",
       " 'RETURN_vwap_10)': 'div(sub(vwap,move(10,vwap)),move(10,vwap))',\n",
       " 'RETURN_volume_10)': 'div(sub(volume,move(10,volume)),move(10,volume))',\n",
       " 'RETURN_pct_chg_10)': 'div(sub(pct_chg,move(10,pct_chg)),move(10,pct_chg))',\n",
       " 'RETURN_turnover_10)': 'div(sub(turnover,move(10,turnover)),move(10,turnover))',\n",
       " 'RETURN_free_turnover_10)': 'div(sub(free_turnover,move(10,free_turnover)),move(10,free_turnover))'}"
      ]
     },
     "execution_count": 131,
     "metadata": {},
     "output_type": "execute_result"
    }
   ],
   "source": [
    "alpha_list = np.load(\"/home/wuwenjun/jupyter_code/Shannon/AlphaNet/Factor_Description/alpha_list.npy\",allow_pickle=True)\n",
    "alpha_list = alpha_list.item()\n",
    "Cover = True\n",
    "for i in range(len(task_list)):\n",
    "    if name_list[i] in alpha_list and alpha_list[name_list[i]] != task_list[i] and Cover == False:\n",
    "        print(\"contain \" + name_list[i])\n",
    "        break\n",
    "    alpha_list[name_list[i]] = task_list[i]\n",
    "alpha_list"
   ]
  },
  {
   "cell_type": "code",
   "execution_count": 132,
   "id": "726c15ca",
   "metadata": {
    "ExecuteTime": {
     "end_time": "2022-01-11T11:53:39.708981Z",
     "start_time": "2022-01-11T11:53:39.703484Z"
    }
   },
   "outputs": [],
   "source": [
    "np.save(\"/home/wuwenjun/jupyter_code/Shannon/AlphaNet/Factor_Description/alpha_list.npy\",alpha_list)"
   ]
  }
 ],
 "metadata": {
  "kernelspec": {
   "display_name": "Python 3 (ipykernel)",
   "language": "python",
   "name": "python3"
  },
  "language_info": {
   "codemirror_mode": {
    "name": "ipython",
    "version": 3
   },
   "file_extension": ".py",
   "mimetype": "text/x-python",
   "name": "python",
   "nbconvert_exporter": "python",
   "pygments_lexer": "ipython3",
   "version": "3.7.9"
  }
 },
 "nbformat": 4,
 "nbformat_minor": 5
}
