{
 "cells": [
  {
   "cell_type": "markdown",
   "id": "aeb8e6c6",
   "metadata": {},
   "source": [
    "# Get_Original_AlphaNet_Data"
   ]
  },
  {
   "cell_type": "code",
   "execution_count": 1,
   "id": "340d640b",
   "metadata": {
    "ExecuteTime": {
     "end_time": "2022-01-13T08:17:17.479366Z",
     "start_time": "2022-01-13T08:17:17.463864Z"
    }
   },
   "outputs": [],
   "source": [
    "Alpha_Name = \"AlphaNet_Original_Input_10d_return_move7\"\n",
    "path = '/home/wuwenjun/Data/' + Alpha_Name +'/'\n",
    "target = \"10d_ret\""
   ]
  },
  {
   "cell_type": "code",
   "execution_count": 2,
   "id": "4ac61031",
   "metadata": {
    "ExecuteTime": {
     "end_time": "2022-01-13T08:17:19.374789Z",
     "start_time": "2022-01-13T08:17:17.767546Z"
    }
   },
   "outputs": [],
   "source": [
    "import time\n",
    "import os\n",
    "from Research.backtest.bt import BTDaily\n",
    "from Research.feature.ft import FeatureAnalysis\n",
    "import Research.utils.namespace as namespace\n",
    "import Research.utils.normalization as norm\n",
    "from Platform.database.mysql import MysqlAPI\n",
    "from Platform.utils.persistence import convert_to_standard_daily_feature_csv, convert_to_standard_daily_feature_par\n",
    "from Platform.config.mysql_info import FACTOR_LIB_MYSQL_TIO\n",
    "import DataAPI\n",
    "from os import walk\n",
    "import pandas as pd\n",
    "import numpy as np\n",
    "import torch\n",
    "import torch.nn as nn\n",
    "from progressbar import ProgressBar\n",
    "from tqdm import tqdm\n",
    "import multiprocessing as mp\n",
    "import sys\n",
    "sys.path.append(\"/home/wuwenjun/jupyter_code/Shannon/AlphaNet/packages/\")"
   ]
  },
  {
   "cell_type": "markdown",
   "id": "a5c178aa",
   "metadata": {},
   "source": [
    "# Get_Original_AlphaNet_Data"
   ]
  },
  {
   "cell_type": "code",
   "execution_count": null,
   "id": "91942282",
   "metadata": {
    "ExecuteTime": {
     "start_time": "2022-01-13T07:54:31.115Z"
    }
   },
   "outputs": [],
   "source": [
    "dir_list = ['Data','Cov','Corr','Return','Std','Zscore','Decay']\n",
    "for i in dir_list:\n",
    "    os.makedirs(path+i)"
   ]
  },
  {
   "cell_type": "code",
   "execution_count": 7,
   "id": "0d6ef99c",
   "metadata": {
    "ExecuteTime": {
     "end_time": "2022-01-13T05:26:50.034117Z",
     "start_time": "2022-01-13T05:26:43.289958Z"
    }
   },
   "outputs": [
    {
     "data": {
      "text/html": [
       "<div>\n",
       "<style scoped>\n",
       "    .dataframe tbody tr th:only-of-type {\n",
       "        vertical-align: middle;\n",
       "    }\n",
       "\n",
       "    .dataframe tbody tr th {\n",
       "        vertical-align: top;\n",
       "    }\n",
       "\n",
       "    .dataframe thead th {\n",
       "        text-align: right;\n",
       "    }\n",
       "</style>\n",
       "<table border=\"1\" class=\"dataframe\">\n",
       "  <thead>\n",
       "    <tr style=\"text-align: right;\">\n",
       "      <th></th>\n",
       "      <th>timestamp</th>\n",
       "      <th>ticker</th>\n",
       "      <th>open</th>\n",
       "      <th>high</th>\n",
       "      <th>low</th>\n",
       "      <th>close</th>\n",
       "      <th>vwap</th>\n",
       "      <th>volume</th>\n",
       "      <th>pct_chg</th>\n",
       "      <th>turnover</th>\n",
       "      <th>free_turnover</th>\n",
       "      <th>10d_ret</th>\n",
       "    </tr>\n",
       "  </thead>\n",
       "  <tbody>\n",
       "    <tr>\n",
       "      <th>0</th>\n",
       "      <td>2015-01-06 09:30:00</td>\n",
       "      <td>1</td>\n",
       "      <td>1136.15</td>\n",
       "      <td>1156.75</td>\n",
       "      <td>1108.44</td>\n",
       "      <td>1138.28</td>\n",
       "      <td>1134.052643</td>\n",
       "      <td>2860436.43</td>\n",
       "      <td>1.1364</td>\n",
       "      <td>2.9079</td>\n",
       "      <td>5.7657</td>\n",
       "      <td>-0.131419</td>\n",
       "    </tr>\n",
       "    <tr>\n",
       "      <th>1</th>\n",
       "      <td>2015-01-06 09:30:00</td>\n",
       "      <td>2</td>\n",
       "      <td>1774.23</td>\n",
       "      <td>1885.20</td>\n",
       "      <td>1753.27</td>\n",
       "      <td>1838.34</td>\n",
       "      <td>1823.031224</td>\n",
       "      <td>6560835.70</td>\n",
       "      <td>7.2662</td>\n",
       "      <td>6.7834</td>\n",
       "      <td>8.1741</td>\n",
       "      <td>-0.154144</td>\n",
       "    </tr>\n",
       "    <tr>\n",
       "      <th>2</th>\n",
       "      <td>2015-01-06 09:30:00</td>\n",
       "      <td>4</td>\n",
       "      <td>63.31</td>\n",
       "      <td>64.62</td>\n",
       "      <td>62.18</td>\n",
       "      <td>63.76</td>\n",
       "      <td>63.277989</td>\n",
       "      <td>28095.12</td>\n",
       "      <td>0.7707</td>\n",
       "      <td>3.3496</td>\n",
       "      <td>4.5343</td>\n",
       "      <td>0.020360</td>\n",
       "    </tr>\n",
       "    <tr>\n",
       "      <th>3</th>\n",
       "      <td>2015-01-06 09:30:00</td>\n",
       "      <td>5</td>\n",
       "      <td>38.00</td>\n",
       "      <td>38.00</td>\n",
       "      <td>38.00</td>\n",
       "      <td>38.00</td>\n",
       "      <td>37.997172</td>\n",
       "      <td>0.00</td>\n",
       "      <td>0.0000</td>\n",
       "      <td>0.0000</td>\n",
       "      <td>0.0000</td>\n",
       "      <td>0.000000</td>\n",
       "    </tr>\n",
       "    <tr>\n",
       "      <th>4</th>\n",
       "      <td>2015-01-06 09:30:00</td>\n",
       "      <td>6</td>\n",
       "      <td>225.64</td>\n",
       "      <td>234.85</td>\n",
       "      <td>223.10</td>\n",
       "      <td>225.00</td>\n",
       "      <td>228.438278</td>\n",
       "      <td>1078647.12</td>\n",
       "      <td>0.4255</td>\n",
       "      <td>8.0562</td>\n",
       "      <td>13.2751</td>\n",
       "      <td>-0.134449</td>\n",
       "    </tr>\n",
       "    <tr>\n",
       "      <th>...</th>\n",
       "      <td>...</td>\n",
       "      <td>...</td>\n",
       "      <td>...</td>\n",
       "      <td>...</td>\n",
       "      <td>...</td>\n",
       "      <td>...</td>\n",
       "      <td>...</td>\n",
       "      <td>...</td>\n",
       "      <td>...</td>\n",
       "      <td>...</td>\n",
       "      <td>...</td>\n",
       "      <td>...</td>\n",
       "    </tr>\n",
       "    <tr>\n",
       "      <th>5357699</th>\n",
       "      <td>2021-07-01 09:30:00</td>\n",
       "      <td>688700</td>\n",
       "      <td>47.80</td>\n",
       "      <td>54.50</td>\n",
       "      <td>47.03</td>\n",
       "      <td>53.38</td>\n",
       "      <td>50.715300</td>\n",
       "      <td>64336.83</td>\n",
       "      <td>14.5494</td>\n",
       "      <td>19.2222</td>\n",
       "      <td>19.2222</td>\n",
       "      <td>0.066883</td>\n",
       "    </tr>\n",
       "    <tr>\n",
       "      <th>5357700</th>\n",
       "      <td>2021-07-01 09:30:00</td>\n",
       "      <td>688777</td>\n",
       "      <td>90.21</td>\n",
       "      <td>95.08</td>\n",
       "      <td>89.32</td>\n",
       "      <td>94.42</td>\n",
       "      <td>93.250464</td>\n",
       "      <td>19001.61</td>\n",
       "      <td>4.6111</td>\n",
       "      <td>4.6288</td>\n",
       "      <td>4.6288</td>\n",
       "      <td>0.033394</td>\n",
       "    </tr>\n",
       "    <tr>\n",
       "      <th>5357701</th>\n",
       "      <td>2021-07-01 09:30:00</td>\n",
       "      <td>688788</td>\n",
       "      <td>138.07</td>\n",
       "      <td>149.35</td>\n",
       "      <td>137.11</td>\n",
       "      <td>146.22</td>\n",
       "      <td>145.197985</td>\n",
       "      <td>13572.56</td>\n",
       "      <td>5.1954</td>\n",
       "      <td>7.7977</td>\n",
       "      <td>7.7977</td>\n",
       "      <td>-0.136999</td>\n",
       "    </tr>\n",
       "    <tr>\n",
       "      <th>5357702</th>\n",
       "      <td>2021-07-01 09:30:00</td>\n",
       "      <td>688819</td>\n",
       "      <td>44.04</td>\n",
       "      <td>45.64</td>\n",
       "      <td>43.95</td>\n",
       "      <td>45.15</td>\n",
       "      <td>45.026221</td>\n",
       "      <td>47249.01</td>\n",
       "      <td>1.8544</td>\n",
       "      <td>4.6754</td>\n",
       "      <td>4.6754</td>\n",
       "      <td>-0.014273</td>\n",
       "    </tr>\n",
       "    <tr>\n",
       "      <th>5357703</th>\n",
       "      <td>2021-07-01 09:30:00</td>\n",
       "      <td>688981</td>\n",
       "      <td>59.69</td>\n",
       "      <td>62.50</td>\n",
       "      <td>59.40</td>\n",
       "      <td>61.82</td>\n",
       "      <td>61.542000</td>\n",
       "      <td>777950.53</td>\n",
       "      <td>4.3376</td>\n",
       "      <td>7.1003</td>\n",
       "      <td>7.1003</td>\n",
       "      <td>-0.087330</td>\n",
       "    </tr>\n",
       "  </tbody>\n",
       "</table>\n",
       "<p>5357704 rows × 12 columns</p>\n",
       "</div>"
      ],
      "text/plain": [
       "                   timestamp  ticker     open     high      low    close  \\\n",
       "0        2015-01-06 09:30:00       1  1136.15  1156.75  1108.44  1138.28   \n",
       "1        2015-01-06 09:30:00       2  1774.23  1885.20  1753.27  1838.34   \n",
       "2        2015-01-06 09:30:00       4    63.31    64.62    62.18    63.76   \n",
       "3        2015-01-06 09:30:00       5    38.00    38.00    38.00    38.00   \n",
       "4        2015-01-06 09:30:00       6   225.64   234.85   223.10   225.00   \n",
       "...                      ...     ...      ...      ...      ...      ...   \n",
       "5357699  2021-07-01 09:30:00  688700    47.80    54.50    47.03    53.38   \n",
       "5357700  2021-07-01 09:30:00  688777    90.21    95.08    89.32    94.42   \n",
       "5357701  2021-07-01 09:30:00  688788   138.07   149.35   137.11   146.22   \n",
       "5357702  2021-07-01 09:30:00  688819    44.04    45.64    43.95    45.15   \n",
       "5357703  2021-07-01 09:30:00  688981    59.69    62.50    59.40    61.82   \n",
       "\n",
       "                vwap      volume  pct_chg  turnover  free_turnover   10d_ret  \n",
       "0        1134.052643  2860436.43   1.1364    2.9079         5.7657 -0.131419  \n",
       "1        1823.031224  6560835.70   7.2662    6.7834         8.1741 -0.154144  \n",
       "2          63.277989    28095.12   0.7707    3.3496         4.5343  0.020360  \n",
       "3          37.997172        0.00   0.0000    0.0000         0.0000  0.000000  \n",
       "4         228.438278  1078647.12   0.4255    8.0562        13.2751 -0.134449  \n",
       "...              ...         ...      ...       ...            ...       ...  \n",
       "5357699    50.715300    64336.83  14.5494   19.2222        19.2222  0.066883  \n",
       "5357700    93.250464    19001.61   4.6111    4.6288         4.6288  0.033394  \n",
       "5357701   145.197985    13572.56   5.1954    7.7977         7.7977 -0.136999  \n",
       "5357702    45.026221    47249.01   1.8544    4.6754         4.6754 -0.014273  \n",
       "5357703    61.542000   777950.53   4.3376    7.1003         7.1003 -0.087330  \n",
       "\n",
       "[5357704 rows x 12 columns]"
      ]
     },
     "execution_count": 7,
     "metadata": {},
     "output_type": "execute_result"
    }
   ],
   "source": [
    "df = pd.read_csv(path+\"data.csv\")\n",
    "df.dropna(inplace=True,axis=0,how=\"any\")\n",
    "df"
   ]
  },
  {
   "cell_type": "code",
   "execution_count": 9,
   "id": "1a154020",
   "metadata": {
    "ExecuteTime": {
     "end_time": "2022-01-13T05:27:08.944527Z",
     "start_time": "2022-01-13T05:27:08.934730Z"
    }
   },
   "outputs": [],
   "source": [
    "# for ticker in tqdm(df['ticker'].drop_duplicates()):\n",
    "def test(one_data):\n",
    "    one_data.set_index(['timestamp','ticker'],inplace=True)\n",
    "    target_df = one_data[target]\n",
    "    one_data.drop(target,axis=1,inplace=True)\n",
    "    concat_df = pd.DataFrame()\n",
    "    for day in range(29,-1,-1):\n",
    "        concat_df = pd.concat([concat_df,one_data.shift(day)],axis=1)\n",
    "    concat_df.dropna(axis=0,how=\"any\",inplace=True)\n",
    "    concat_df = pd.concat([concat_df,target_df],axis=1,join='inner')\n",
    "    return concat_df"
   ]
  },
  {
   "cell_type": "code",
   "execution_count": 10,
   "id": "b17cf74e",
   "metadata": {
    "ExecuteTime": {
     "end_time": "2022-01-13T05:28:18.354165Z",
     "start_time": "2022-01-13T05:27:09.836586Z"
    }
   },
   "outputs": [
    {
     "name": "stderr",
     "output_type": "stream",
     "text": [
      "100%|██████████| 4427/4427 [00:01<00:00, 3000.05it/s]\n",
      "100%|██████████| 4427/4427 [00:00<00:00, 109325.58it/s]"
     ]
    },
    {
     "name": "stdout",
     "output_type": "stream",
     "text": [
      "并行执行时间： 46\n"
     ]
    },
    {
     "name": "stderr",
     "output_type": "stream",
     "text": [
      "\n"
     ]
    },
    {
     "data": {
      "text/html": [
       "<div>\n",
       "<style scoped>\n",
       "    .dataframe tbody tr th:only-of-type {\n",
       "        vertical-align: middle;\n",
       "    }\n",
       "\n",
       "    .dataframe tbody tr th {\n",
       "        vertical-align: top;\n",
       "    }\n",
       "\n",
       "    .dataframe thead th {\n",
       "        text-align: right;\n",
       "    }\n",
       "</style>\n",
       "<table border=\"1\" class=\"dataframe\">\n",
       "  <thead>\n",
       "    <tr style=\"text-align: right;\">\n",
       "      <th></th>\n",
       "      <th></th>\n",
       "      <th>open</th>\n",
       "      <th>high</th>\n",
       "      <th>low</th>\n",
       "      <th>close</th>\n",
       "      <th>vwap</th>\n",
       "      <th>volume</th>\n",
       "      <th>pct_chg</th>\n",
       "      <th>turnover</th>\n",
       "      <th>free_turnover</th>\n",
       "      <th>open</th>\n",
       "      <th>...</th>\n",
       "      <th>open</th>\n",
       "      <th>high</th>\n",
       "      <th>low</th>\n",
       "      <th>close</th>\n",
       "      <th>vwap</th>\n",
       "      <th>volume</th>\n",
       "      <th>pct_chg</th>\n",
       "      <th>turnover</th>\n",
       "      <th>free_turnover</th>\n",
       "      <th>10d_ret</th>\n",
       "    </tr>\n",
       "    <tr>\n",
       "      <th>timestamp</th>\n",
       "      <th>ticker</th>\n",
       "      <th></th>\n",
       "      <th></th>\n",
       "      <th></th>\n",
       "      <th></th>\n",
       "      <th></th>\n",
       "      <th></th>\n",
       "      <th></th>\n",
       "      <th></th>\n",
       "      <th></th>\n",
       "      <th></th>\n",
       "      <th></th>\n",
       "      <th></th>\n",
       "      <th></th>\n",
       "      <th></th>\n",
       "      <th></th>\n",
       "      <th></th>\n",
       "      <th></th>\n",
       "      <th></th>\n",
       "      <th></th>\n",
       "      <th></th>\n",
       "      <th></th>\n",
       "    </tr>\n",
       "  </thead>\n",
       "  <tbody>\n",
       "    <tr>\n",
       "      <th>2015-02-16 09:30:00</th>\n",
       "      <th>1</th>\n",
       "      <td>1136.15</td>\n",
       "      <td>1156.75</td>\n",
       "      <td>1108.44</td>\n",
       "      <td>1138.28</td>\n",
       "      <td>1134.052643</td>\n",
       "      <td>2860436.43</td>\n",
       "      <td>1.1364</td>\n",
       "      <td>2.9079</td>\n",
       "      <td>5.7657</td>\n",
       "      <td>1126.20</td>\n",
       "      <td>...</td>\n",
       "      <td>989.78</td>\n",
       "      <td>1007.54</td>\n",
       "      <td>983.38</td>\n",
       "      <td>991.20</td>\n",
       "      <td>996.094771</td>\n",
       "      <td>887743.10</td>\n",
       "      <td>0.6494</td>\n",
       "      <td>0.9025</td>\n",
       "      <td>1.7894</td>\n",
       "      <td>-0.034691</td>\n",
       "    </tr>\n",
       "    <tr>\n",
       "      <th>2015-02-17 09:30:00</th>\n",
       "      <th>1</th>\n",
       "      <td>1126.20</td>\n",
       "      <td>1164.57</td>\n",
       "      <td>1104.89</td>\n",
       "      <td>1121.23</td>\n",
       "      <td>1132.652885</td>\n",
       "      <td>2166421.40</td>\n",
       "      <td>-1.4981</td>\n",
       "      <td>2.2024</td>\n",
       "      <td>4.3668</td>\n",
       "      <td>1105.60</td>\n",
       "      <td>...</td>\n",
       "      <td>991.20</td>\n",
       "      <td>995.46</td>\n",
       "      <td>975.57</td>\n",
       "      <td>989.07</td>\n",
       "      <td>985.109868</td>\n",
       "      <td>721202.39</td>\n",
       "      <td>-0.2151</td>\n",
       "      <td>0.7332</td>\n",
       "      <td>1.4537</td>\n",
       "      <td>-0.008664</td>\n",
       "    </tr>\n",
       "    <tr>\n",
       "      <th>2015-02-25 09:30:00</th>\n",
       "      <th>1</th>\n",
       "      <td>1105.60</td>\n",
       "      <td>1124.78</td>\n",
       "      <td>1087.12</td>\n",
       "      <td>1099.91</td>\n",
       "      <td>1101.168988</td>\n",
       "      <td>1700120.67</td>\n",
       "      <td>-1.9011</td>\n",
       "      <td>1.7283</td>\n",
       "      <td>3.4269</td>\n",
       "      <td>1101.33</td>\n",
       "      <td>...</td>\n",
       "      <td>991.91</td>\n",
       "      <td>1002.57</td>\n",
       "      <td>989.78</td>\n",
       "      <td>994.04</td>\n",
       "      <td>996.570831</td>\n",
       "      <td>680491.59</td>\n",
       "      <td>0.5029</td>\n",
       "      <td>0.6918</td>\n",
       "      <td>1.3717</td>\n",
       "      <td>0.007681</td>\n",
       "    </tr>\n",
       "    <tr>\n",
       "      <th>2015-02-26 09:30:00</th>\n",
       "      <th>1</th>\n",
       "      <td>1101.33</td>\n",
       "      <td>1106.31</td>\n",
       "      <td>1058.70</td>\n",
       "      <td>1062.96</td>\n",
       "      <td>1074.097527</td>\n",
       "      <td>1407714.21</td>\n",
       "      <td>-3.3592</td>\n",
       "      <td>1.4311</td>\n",
       "      <td>2.8375</td>\n",
       "      <td>1058.70</td>\n",
       "      <td>...</td>\n",
       "      <td>997.59</td>\n",
       "      <td>998.30</td>\n",
       "      <td>977.70</td>\n",
       "      <td>980.54</td>\n",
       "      <td>983.482739</td>\n",
       "      <td>577392.33</td>\n",
       "      <td>-1.3581</td>\n",
       "      <td>0.5870</td>\n",
       "      <td>1.1638</td>\n",
       "      <td>0.038965</td>\n",
       "    </tr>\n",
       "    <tr>\n",
       "      <th>2015-02-27 09:30:00</th>\n",
       "      <th>1</th>\n",
       "      <td>1058.70</td>\n",
       "      <td>1127.62</td>\n",
       "      <td>1045.20</td>\n",
       "      <td>1071.49</td>\n",
       "      <td>1086.375607</td>\n",
       "      <td>2508500.23</td>\n",
       "      <td>0.8021</td>\n",
       "      <td>2.5501</td>\n",
       "      <td>5.0564</td>\n",
       "      <td>1056.57</td>\n",
       "      <td>...</td>\n",
       "      <td>980.54</td>\n",
       "      <td>1000.44</td>\n",
       "      <td>966.33</td>\n",
       "      <td>999.73</td>\n",
       "      <td>986.644628</td>\n",
       "      <td>1025544.24</td>\n",
       "      <td>1.9565</td>\n",
       "      <td>1.0426</td>\n",
       "      <td>2.0672</td>\n",
       "      <td>0.070719</td>\n",
       "    </tr>\n",
       "    <tr>\n",
       "      <th>...</th>\n",
       "      <th>...</th>\n",
       "      <td>...</td>\n",
       "      <td>...</td>\n",
       "      <td>...</td>\n",
       "      <td>...</td>\n",
       "      <td>...</td>\n",
       "      <td>...</td>\n",
       "      <td>...</td>\n",
       "      <td>...</td>\n",
       "      <td>...</td>\n",
       "      <td>...</td>\n",
       "      <td>...</td>\n",
       "      <td>...</td>\n",
       "      <td>...</td>\n",
       "      <td>...</td>\n",
       "      <td>...</td>\n",
       "      <td>...</td>\n",
       "      <td>...</td>\n",
       "      <td>...</td>\n",
       "      <td>...</td>\n",
       "      <td>...</td>\n",
       "      <td>...</td>\n",
       "    </tr>\n",
       "    <tr>\n",
       "      <th>2021-06-25 09:30:00</th>\n",
       "      <th>688981</th>\n",
       "      <td>54.50</td>\n",
       "      <td>55.95</td>\n",
       "      <td>54.50</td>\n",
       "      <td>55.82</td>\n",
       "      <td>55.353800</td>\n",
       "      <td>209785.85</td>\n",
       "      <td>0.6310</td>\n",
       "      <td>1.9147</td>\n",
       "      <td>1.9147</td>\n",
       "      <td>56.70</td>\n",
       "      <td>...</td>\n",
       "      <td>58.53</td>\n",
       "      <td>59.11</td>\n",
       "      <td>57.55</td>\n",
       "      <td>57.70</td>\n",
       "      <td>58.173300</td>\n",
       "      <td>273520.23</td>\n",
       "      <td>-1.4349</td>\n",
       "      <td>2.4964</td>\n",
       "      <td>2.4964</td>\n",
       "      <td>-0.029360</td>\n",
       "    </tr>\n",
       "    <tr>\n",
       "      <th>2021-06-28 09:30:00</th>\n",
       "      <th>688981</th>\n",
       "      <td>56.70</td>\n",
       "      <td>56.98</td>\n",
       "      <td>55.60</td>\n",
       "      <td>55.86</td>\n",
       "      <td>56.113100</td>\n",
       "      <td>260448.82</td>\n",
       "      <td>0.0717</td>\n",
       "      <td>2.3771</td>\n",
       "      <td>2.3771</td>\n",
       "      <td>55.62</td>\n",
       "      <td>...</td>\n",
       "      <td>57.76</td>\n",
       "      <td>59.99</td>\n",
       "      <td>57.76</td>\n",
       "      <td>59.31</td>\n",
       "      <td>59.274600</td>\n",
       "      <td>474988.89</td>\n",
       "      <td>2.7903</td>\n",
       "      <td>4.3352</td>\n",
       "      <td>4.3352</td>\n",
       "      <td>-0.055569</td>\n",
       "    </tr>\n",
       "    <tr>\n",
       "      <th>2021-06-29 09:30:00</th>\n",
       "      <th>688981</th>\n",
       "      <td>55.62</td>\n",
       "      <td>56.40</td>\n",
       "      <td>55.05</td>\n",
       "      <td>55.08</td>\n",
       "      <td>55.686500</td>\n",
       "      <td>203770.43</td>\n",
       "      <td>-1.3963</td>\n",
       "      <td>1.8598</td>\n",
       "      <td>1.8598</td>\n",
       "      <td>55.19</td>\n",
       "      <td>...</td>\n",
       "      <td>59.85</td>\n",
       "      <td>60.19</td>\n",
       "      <td>58.86</td>\n",
       "      <td>59.06</td>\n",
       "      <td>59.476200</td>\n",
       "      <td>341515.10</td>\n",
       "      <td>-0.4215</td>\n",
       "      <td>3.1170</td>\n",
       "      <td>3.1170</td>\n",
       "      <td>-0.037105</td>\n",
       "    </tr>\n",
       "    <tr>\n",
       "      <th>2021-06-30 09:30:00</th>\n",
       "      <th>688981</th>\n",
       "      <td>55.19</td>\n",
       "      <td>55.19</td>\n",
       "      <td>54.49</td>\n",
       "      <td>54.99</td>\n",
       "      <td>54.795800</td>\n",
       "      <td>121147.00</td>\n",
       "      <td>-0.1634</td>\n",
       "      <td>1.1057</td>\n",
       "      <td>1.1057</td>\n",
       "      <td>54.80</td>\n",
       "      <td>...</td>\n",
       "      <td>59.10</td>\n",
       "      <td>60.08</td>\n",
       "      <td>58.70</td>\n",
       "      <td>59.25</td>\n",
       "      <td>59.354400</td>\n",
       "      <td>291408.81</td>\n",
       "      <td>0.3217</td>\n",
       "      <td>2.6597</td>\n",
       "      <td>2.6597</td>\n",
       "      <td>-0.055402</td>\n",
       "    </tr>\n",
       "    <tr>\n",
       "      <th>2021-07-01 09:30:00</th>\n",
       "      <th>688981</th>\n",
       "      <td>54.80</td>\n",
       "      <td>55.20</td>\n",
       "      <td>54.58</td>\n",
       "      <td>54.79</td>\n",
       "      <td>54.857400</td>\n",
       "      <td>102910.28</td>\n",
       "      <td>-0.3637</td>\n",
       "      <td>0.9393</td>\n",
       "      <td>0.9393</td>\n",
       "      <td>54.64</td>\n",
       "      <td>...</td>\n",
       "      <td>59.69</td>\n",
       "      <td>62.50</td>\n",
       "      <td>59.40</td>\n",
       "      <td>61.82</td>\n",
       "      <td>61.542000</td>\n",
       "      <td>777950.53</td>\n",
       "      <td>4.3376</td>\n",
       "      <td>7.1003</td>\n",
       "      <td>7.1003</td>\n",
       "      <td>-0.087330</td>\n",
       "    </tr>\n",
       "  </tbody>\n",
       "</table>\n",
       "<p>5230325 rows × 271 columns</p>\n",
       "</div>"
      ],
      "text/plain": [
       "                               open     high      low    close         vwap  \\\n",
       "timestamp           ticker                                                    \n",
       "2015-02-16 09:30:00 1       1136.15  1156.75  1108.44  1138.28  1134.052643   \n",
       "2015-02-17 09:30:00 1       1126.20  1164.57  1104.89  1121.23  1132.652885   \n",
       "2015-02-25 09:30:00 1       1105.60  1124.78  1087.12  1099.91  1101.168988   \n",
       "2015-02-26 09:30:00 1       1101.33  1106.31  1058.70  1062.96  1074.097527   \n",
       "2015-02-27 09:30:00 1       1058.70  1127.62  1045.20  1071.49  1086.375607   \n",
       "...                             ...      ...      ...      ...          ...   \n",
       "2021-06-25 09:30:00 688981    54.50    55.95    54.50    55.82    55.353800   \n",
       "2021-06-28 09:30:00 688981    56.70    56.98    55.60    55.86    56.113100   \n",
       "2021-06-29 09:30:00 688981    55.62    56.40    55.05    55.08    55.686500   \n",
       "2021-06-30 09:30:00 688981    55.19    55.19    54.49    54.99    54.795800   \n",
       "2021-07-01 09:30:00 688981    54.80    55.20    54.58    54.79    54.857400   \n",
       "\n",
       "                                volume  pct_chg  turnover  free_turnover  \\\n",
       "timestamp           ticker                                                 \n",
       "2015-02-16 09:30:00 1       2860436.43   1.1364    2.9079         5.7657   \n",
       "2015-02-17 09:30:00 1       2166421.40  -1.4981    2.2024         4.3668   \n",
       "2015-02-25 09:30:00 1       1700120.67  -1.9011    1.7283         3.4269   \n",
       "2015-02-26 09:30:00 1       1407714.21  -3.3592    1.4311         2.8375   \n",
       "2015-02-27 09:30:00 1       2508500.23   0.8021    2.5501         5.0564   \n",
       "...                                ...      ...       ...            ...   \n",
       "2021-06-25 09:30:00 688981   209785.85   0.6310    1.9147         1.9147   \n",
       "2021-06-28 09:30:00 688981   260448.82   0.0717    2.3771         2.3771   \n",
       "2021-06-29 09:30:00 688981   203770.43  -1.3963    1.8598         1.8598   \n",
       "2021-06-30 09:30:00 688981   121147.00  -0.1634    1.1057         1.1057   \n",
       "2021-07-01 09:30:00 688981   102910.28  -0.3637    0.9393         0.9393   \n",
       "\n",
       "                               open  ...    open     high     low   close  \\\n",
       "timestamp           ticker           ...                                    \n",
       "2015-02-16 09:30:00 1       1126.20  ...  989.78  1007.54  983.38  991.20   \n",
       "2015-02-17 09:30:00 1       1105.60  ...  991.20   995.46  975.57  989.07   \n",
       "2015-02-25 09:30:00 1       1101.33  ...  991.91  1002.57  989.78  994.04   \n",
       "2015-02-26 09:30:00 1       1058.70  ...  997.59   998.30  977.70  980.54   \n",
       "2015-02-27 09:30:00 1       1056.57  ...  980.54  1000.44  966.33  999.73   \n",
       "...                             ...  ...     ...      ...     ...     ...   \n",
       "2021-06-25 09:30:00 688981    56.70  ...   58.53    59.11   57.55   57.70   \n",
       "2021-06-28 09:30:00 688981    55.62  ...   57.76    59.99   57.76   59.31   \n",
       "2021-06-29 09:30:00 688981    55.19  ...   59.85    60.19   58.86   59.06   \n",
       "2021-06-30 09:30:00 688981    54.80  ...   59.10    60.08   58.70   59.25   \n",
       "2021-07-01 09:30:00 688981    54.64  ...   59.69    62.50   59.40   61.82   \n",
       "\n",
       "                                  vwap      volume  pct_chg  turnover  \\\n",
       "timestamp           ticker                                              \n",
       "2015-02-16 09:30:00 1       996.094771   887743.10   0.6494    0.9025   \n",
       "2015-02-17 09:30:00 1       985.109868   721202.39  -0.2151    0.7332   \n",
       "2015-02-25 09:30:00 1       996.570831   680491.59   0.5029    0.6918   \n",
       "2015-02-26 09:30:00 1       983.482739   577392.33  -1.3581    0.5870   \n",
       "2015-02-27 09:30:00 1       986.644628  1025544.24   1.9565    1.0426   \n",
       "...                                ...         ...      ...       ...   \n",
       "2021-06-25 09:30:00 688981   58.173300   273520.23  -1.4349    2.4964   \n",
       "2021-06-28 09:30:00 688981   59.274600   474988.89   2.7903    4.3352   \n",
       "2021-06-29 09:30:00 688981   59.476200   341515.10  -0.4215    3.1170   \n",
       "2021-06-30 09:30:00 688981   59.354400   291408.81   0.3217    2.6597   \n",
       "2021-07-01 09:30:00 688981   61.542000   777950.53   4.3376    7.1003   \n",
       "\n",
       "                            free_turnover   10d_ret  \n",
       "timestamp           ticker                           \n",
       "2015-02-16 09:30:00 1              1.7894 -0.034691  \n",
       "2015-02-17 09:30:00 1              1.4537 -0.008664  \n",
       "2015-02-25 09:30:00 1              1.3717  0.007681  \n",
       "2015-02-26 09:30:00 1              1.1638  0.038965  \n",
       "2015-02-27 09:30:00 1              2.0672  0.070719  \n",
       "...                                   ...       ...  \n",
       "2021-06-25 09:30:00 688981         2.4964 -0.029360  \n",
       "2021-06-28 09:30:00 688981         4.3352 -0.055569  \n",
       "2021-06-29 09:30:00 688981         3.1170 -0.037105  \n",
       "2021-06-30 09:30:00 688981         2.6597 -0.055402  \n",
       "2021-07-01 09:30:00 688981         7.1003 -0.087330  \n",
       "\n",
       "[5230325 rows x 271 columns]"
      ]
     },
     "execution_count": 10,
     "metadata": {},
     "output_type": "execute_result"
    }
   ],
   "source": [
    "if __name__==\"__main__\":\n",
    "    pool = mp.Pool(10)\n",
    "    result = {}\n",
    "    t1 = time.time()\n",
    "    grouped = df.groupby(\"ticker\")\n",
    "    for ticker , one_data in tqdm(grouped):\n",
    "        result[ticker] = (pool.apply_async(test, args=(one_data,)))   #维持执行的进程总数为10，当一个进程执行完后启动一个新进程.\n",
    "    pool.close()\n",
    "    pool.join()\n",
    "    t2 = time.time()\n",
    "    print(\"并行执行时间：\", int(t2 - t1))\n",
    "    df_list = []\n",
    "    for i in tqdm(result):\n",
    "        df_list.append(result[i].get())\n",
    "    final_df = pd.concat(df_list)\n",
    "final_df"
   ]
  },
  {
   "cell_type": "code",
   "execution_count": 11,
   "id": "07d1ae18",
   "metadata": {
    "ExecuteTime": {
     "end_time": "2022-01-13T05:28:34.514195Z",
     "start_time": "2022-01-13T05:28:18.356062Z"
    }
   },
   "outputs": [
    {
     "data": {
      "text/html": [
       "<div>\n",
       "<style scoped>\n",
       "    .dataframe tbody tr th:only-of-type {\n",
       "        vertical-align: middle;\n",
       "    }\n",
       "\n",
       "    .dataframe tbody tr th {\n",
       "        vertical-align: top;\n",
       "    }\n",
       "\n",
       "    .dataframe thead th {\n",
       "        text-align: right;\n",
       "    }\n",
       "</style>\n",
       "<table border=\"1\" class=\"dataframe\">\n",
       "  <thead>\n",
       "    <tr style=\"text-align: right;\">\n",
       "      <th></th>\n",
       "      <th>timestamp</th>\n",
       "      <th>ticker</th>\n",
       "      <th>0</th>\n",
       "      <th>1</th>\n",
       "      <th>2</th>\n",
       "      <th>3</th>\n",
       "      <th>4</th>\n",
       "      <th>5</th>\n",
       "      <th>6</th>\n",
       "      <th>7</th>\n",
       "      <th>...</th>\n",
       "      <th>261</th>\n",
       "      <th>262</th>\n",
       "      <th>263</th>\n",
       "      <th>264</th>\n",
       "      <th>265</th>\n",
       "      <th>266</th>\n",
       "      <th>267</th>\n",
       "      <th>268</th>\n",
       "      <th>269</th>\n",
       "      <th>target</th>\n",
       "    </tr>\n",
       "  </thead>\n",
       "  <tbody>\n",
       "    <tr>\n",
       "      <th>0</th>\n",
       "      <td>2015-02-16 09:30:00</td>\n",
       "      <td>1</td>\n",
       "      <td>1136.15</td>\n",
       "      <td>1156.75</td>\n",
       "      <td>1108.44</td>\n",
       "      <td>1138.28</td>\n",
       "      <td>1134.052643</td>\n",
       "      <td>2860436.43</td>\n",
       "      <td>1.1364</td>\n",
       "      <td>2.9079</td>\n",
       "      <td>...</td>\n",
       "      <td>989.78</td>\n",
       "      <td>1007.54</td>\n",
       "      <td>983.38</td>\n",
       "      <td>991.20</td>\n",
       "      <td>996.094771</td>\n",
       "      <td>887743.10</td>\n",
       "      <td>0.6494</td>\n",
       "      <td>0.9025</td>\n",
       "      <td>1.7894</td>\n",
       "      <td>-0.034691</td>\n",
       "    </tr>\n",
       "    <tr>\n",
       "      <th>1</th>\n",
       "      <td>2015-02-17 09:30:00</td>\n",
       "      <td>1</td>\n",
       "      <td>1126.20</td>\n",
       "      <td>1164.57</td>\n",
       "      <td>1104.89</td>\n",
       "      <td>1121.23</td>\n",
       "      <td>1132.652885</td>\n",
       "      <td>2166421.40</td>\n",
       "      <td>-1.4981</td>\n",
       "      <td>2.2024</td>\n",
       "      <td>...</td>\n",
       "      <td>991.20</td>\n",
       "      <td>995.46</td>\n",
       "      <td>975.57</td>\n",
       "      <td>989.07</td>\n",
       "      <td>985.109868</td>\n",
       "      <td>721202.39</td>\n",
       "      <td>-0.2151</td>\n",
       "      <td>0.7332</td>\n",
       "      <td>1.4537</td>\n",
       "      <td>-0.008664</td>\n",
       "    </tr>\n",
       "    <tr>\n",
       "      <th>2</th>\n",
       "      <td>2015-02-25 09:30:00</td>\n",
       "      <td>1</td>\n",
       "      <td>1105.60</td>\n",
       "      <td>1124.78</td>\n",
       "      <td>1087.12</td>\n",
       "      <td>1099.91</td>\n",
       "      <td>1101.168988</td>\n",
       "      <td>1700120.67</td>\n",
       "      <td>-1.9011</td>\n",
       "      <td>1.7283</td>\n",
       "      <td>...</td>\n",
       "      <td>991.91</td>\n",
       "      <td>1002.57</td>\n",
       "      <td>989.78</td>\n",
       "      <td>994.04</td>\n",
       "      <td>996.570831</td>\n",
       "      <td>680491.59</td>\n",
       "      <td>0.5029</td>\n",
       "      <td>0.6918</td>\n",
       "      <td>1.3717</td>\n",
       "      <td>0.007681</td>\n",
       "    </tr>\n",
       "    <tr>\n",
       "      <th>3</th>\n",
       "      <td>2015-02-26 09:30:00</td>\n",
       "      <td>1</td>\n",
       "      <td>1101.33</td>\n",
       "      <td>1106.31</td>\n",
       "      <td>1058.70</td>\n",
       "      <td>1062.96</td>\n",
       "      <td>1074.097527</td>\n",
       "      <td>1407714.21</td>\n",
       "      <td>-3.3592</td>\n",
       "      <td>1.4311</td>\n",
       "      <td>...</td>\n",
       "      <td>997.59</td>\n",
       "      <td>998.30</td>\n",
       "      <td>977.70</td>\n",
       "      <td>980.54</td>\n",
       "      <td>983.482739</td>\n",
       "      <td>577392.33</td>\n",
       "      <td>-1.3581</td>\n",
       "      <td>0.5870</td>\n",
       "      <td>1.1638</td>\n",
       "      <td>0.038965</td>\n",
       "    </tr>\n",
       "    <tr>\n",
       "      <th>4</th>\n",
       "      <td>2015-02-27 09:30:00</td>\n",
       "      <td>1</td>\n",
       "      <td>1058.70</td>\n",
       "      <td>1127.62</td>\n",
       "      <td>1045.20</td>\n",
       "      <td>1071.49</td>\n",
       "      <td>1086.375607</td>\n",
       "      <td>2508500.23</td>\n",
       "      <td>0.8021</td>\n",
       "      <td>2.5501</td>\n",
       "      <td>...</td>\n",
       "      <td>980.54</td>\n",
       "      <td>1000.44</td>\n",
       "      <td>966.33</td>\n",
       "      <td>999.73</td>\n",
       "      <td>986.644628</td>\n",
       "      <td>1025544.24</td>\n",
       "      <td>1.9565</td>\n",
       "      <td>1.0426</td>\n",
       "      <td>2.0672</td>\n",
       "      <td>0.070719</td>\n",
       "    </tr>\n",
       "    <tr>\n",
       "      <th>...</th>\n",
       "      <td>...</td>\n",
       "      <td>...</td>\n",
       "      <td>...</td>\n",
       "      <td>...</td>\n",
       "      <td>...</td>\n",
       "      <td>...</td>\n",
       "      <td>...</td>\n",
       "      <td>...</td>\n",
       "      <td>...</td>\n",
       "      <td>...</td>\n",
       "      <td>...</td>\n",
       "      <td>...</td>\n",
       "      <td>...</td>\n",
       "      <td>...</td>\n",
       "      <td>...</td>\n",
       "      <td>...</td>\n",
       "      <td>...</td>\n",
       "      <td>...</td>\n",
       "      <td>...</td>\n",
       "      <td>...</td>\n",
       "      <td>...</td>\n",
       "    </tr>\n",
       "    <tr>\n",
       "      <th>5230320</th>\n",
       "      <td>2021-06-25 09:30:00</td>\n",
       "      <td>688981</td>\n",
       "      <td>54.50</td>\n",
       "      <td>55.95</td>\n",
       "      <td>54.50</td>\n",
       "      <td>55.82</td>\n",
       "      <td>55.353800</td>\n",
       "      <td>209785.85</td>\n",
       "      <td>0.6310</td>\n",
       "      <td>1.9147</td>\n",
       "      <td>...</td>\n",
       "      <td>58.53</td>\n",
       "      <td>59.11</td>\n",
       "      <td>57.55</td>\n",
       "      <td>57.70</td>\n",
       "      <td>58.173300</td>\n",
       "      <td>273520.23</td>\n",
       "      <td>-1.4349</td>\n",
       "      <td>2.4964</td>\n",
       "      <td>2.4964</td>\n",
       "      <td>-0.029360</td>\n",
       "    </tr>\n",
       "    <tr>\n",
       "      <th>5230321</th>\n",
       "      <td>2021-06-28 09:30:00</td>\n",
       "      <td>688981</td>\n",
       "      <td>56.70</td>\n",
       "      <td>56.98</td>\n",
       "      <td>55.60</td>\n",
       "      <td>55.86</td>\n",
       "      <td>56.113100</td>\n",
       "      <td>260448.82</td>\n",
       "      <td>0.0717</td>\n",
       "      <td>2.3771</td>\n",
       "      <td>...</td>\n",
       "      <td>57.76</td>\n",
       "      <td>59.99</td>\n",
       "      <td>57.76</td>\n",
       "      <td>59.31</td>\n",
       "      <td>59.274600</td>\n",
       "      <td>474988.89</td>\n",
       "      <td>2.7903</td>\n",
       "      <td>4.3352</td>\n",
       "      <td>4.3352</td>\n",
       "      <td>-0.055569</td>\n",
       "    </tr>\n",
       "    <tr>\n",
       "      <th>5230322</th>\n",
       "      <td>2021-06-29 09:30:00</td>\n",
       "      <td>688981</td>\n",
       "      <td>55.62</td>\n",
       "      <td>56.40</td>\n",
       "      <td>55.05</td>\n",
       "      <td>55.08</td>\n",
       "      <td>55.686500</td>\n",
       "      <td>203770.43</td>\n",
       "      <td>-1.3963</td>\n",
       "      <td>1.8598</td>\n",
       "      <td>...</td>\n",
       "      <td>59.85</td>\n",
       "      <td>60.19</td>\n",
       "      <td>58.86</td>\n",
       "      <td>59.06</td>\n",
       "      <td>59.476200</td>\n",
       "      <td>341515.10</td>\n",
       "      <td>-0.4215</td>\n",
       "      <td>3.1170</td>\n",
       "      <td>3.1170</td>\n",
       "      <td>-0.037105</td>\n",
       "    </tr>\n",
       "    <tr>\n",
       "      <th>5230323</th>\n",
       "      <td>2021-06-30 09:30:00</td>\n",
       "      <td>688981</td>\n",
       "      <td>55.19</td>\n",
       "      <td>55.19</td>\n",
       "      <td>54.49</td>\n",
       "      <td>54.99</td>\n",
       "      <td>54.795800</td>\n",
       "      <td>121147.00</td>\n",
       "      <td>-0.1634</td>\n",
       "      <td>1.1057</td>\n",
       "      <td>...</td>\n",
       "      <td>59.10</td>\n",
       "      <td>60.08</td>\n",
       "      <td>58.70</td>\n",
       "      <td>59.25</td>\n",
       "      <td>59.354400</td>\n",
       "      <td>291408.81</td>\n",
       "      <td>0.3217</td>\n",
       "      <td>2.6597</td>\n",
       "      <td>2.6597</td>\n",
       "      <td>-0.055402</td>\n",
       "    </tr>\n",
       "    <tr>\n",
       "      <th>5230324</th>\n",
       "      <td>2021-07-01 09:30:00</td>\n",
       "      <td>688981</td>\n",
       "      <td>54.80</td>\n",
       "      <td>55.20</td>\n",
       "      <td>54.58</td>\n",
       "      <td>54.79</td>\n",
       "      <td>54.857400</td>\n",
       "      <td>102910.28</td>\n",
       "      <td>-0.3637</td>\n",
       "      <td>0.9393</td>\n",
       "      <td>...</td>\n",
       "      <td>59.69</td>\n",
       "      <td>62.50</td>\n",
       "      <td>59.40</td>\n",
       "      <td>61.82</td>\n",
       "      <td>61.542000</td>\n",
       "      <td>777950.53</td>\n",
       "      <td>4.3376</td>\n",
       "      <td>7.1003</td>\n",
       "      <td>7.1003</td>\n",
       "      <td>-0.087330</td>\n",
       "    </tr>\n",
       "  </tbody>\n",
       "</table>\n",
       "<p>5230325 rows × 273 columns</p>\n",
       "</div>"
      ],
      "text/plain": [
       "                  timestamp  ticker        0        1        2        3  \\\n",
       "0       2015-02-16 09:30:00       1  1136.15  1156.75  1108.44  1138.28   \n",
       "1       2015-02-17 09:30:00       1  1126.20  1164.57  1104.89  1121.23   \n",
       "2       2015-02-25 09:30:00       1  1105.60  1124.78  1087.12  1099.91   \n",
       "3       2015-02-26 09:30:00       1  1101.33  1106.31  1058.70  1062.96   \n",
       "4       2015-02-27 09:30:00       1  1058.70  1127.62  1045.20  1071.49   \n",
       "...                     ...     ...      ...      ...      ...      ...   \n",
       "5230320 2021-06-25 09:30:00  688981    54.50    55.95    54.50    55.82   \n",
       "5230321 2021-06-28 09:30:00  688981    56.70    56.98    55.60    55.86   \n",
       "5230322 2021-06-29 09:30:00  688981    55.62    56.40    55.05    55.08   \n",
       "5230323 2021-06-30 09:30:00  688981    55.19    55.19    54.49    54.99   \n",
       "5230324 2021-07-01 09:30:00  688981    54.80    55.20    54.58    54.79   \n",
       "\n",
       "                   4           5       6       7  ...     261      262  \\\n",
       "0        1134.052643  2860436.43  1.1364  2.9079  ...  989.78  1007.54   \n",
       "1        1132.652885  2166421.40 -1.4981  2.2024  ...  991.20   995.46   \n",
       "2        1101.168988  1700120.67 -1.9011  1.7283  ...  991.91  1002.57   \n",
       "3        1074.097527  1407714.21 -3.3592  1.4311  ...  997.59   998.30   \n",
       "4        1086.375607  2508500.23  0.8021  2.5501  ...  980.54  1000.44   \n",
       "...              ...         ...     ...     ...  ...     ...      ...   \n",
       "5230320    55.353800   209785.85  0.6310  1.9147  ...   58.53    59.11   \n",
       "5230321    56.113100   260448.82  0.0717  2.3771  ...   57.76    59.99   \n",
       "5230322    55.686500   203770.43 -1.3963  1.8598  ...   59.85    60.19   \n",
       "5230323    54.795800   121147.00 -0.1634  1.1057  ...   59.10    60.08   \n",
       "5230324    54.857400   102910.28 -0.3637  0.9393  ...   59.69    62.50   \n",
       "\n",
       "            263     264         265         266     267     268     269  \\\n",
       "0        983.38  991.20  996.094771   887743.10  0.6494  0.9025  1.7894   \n",
       "1        975.57  989.07  985.109868   721202.39 -0.2151  0.7332  1.4537   \n",
       "2        989.78  994.04  996.570831   680491.59  0.5029  0.6918  1.3717   \n",
       "3        977.70  980.54  983.482739   577392.33 -1.3581  0.5870  1.1638   \n",
       "4        966.33  999.73  986.644628  1025544.24  1.9565  1.0426  2.0672   \n",
       "...         ...     ...         ...         ...     ...     ...     ...   \n",
       "5230320   57.55   57.70   58.173300   273520.23 -1.4349  2.4964  2.4964   \n",
       "5230321   57.76   59.31   59.274600   474988.89  2.7903  4.3352  4.3352   \n",
       "5230322   58.86   59.06   59.476200   341515.10 -0.4215  3.1170  3.1170   \n",
       "5230323   58.70   59.25   59.354400   291408.81  0.3217  2.6597  2.6597   \n",
       "5230324   59.40   61.82   61.542000   777950.53  4.3376  7.1003  7.1003   \n",
       "\n",
       "           target  \n",
       "0       -0.034691  \n",
       "1       -0.008664  \n",
       "2        0.007681  \n",
       "3        0.038965  \n",
       "4        0.070719  \n",
       "...           ...  \n",
       "5230320 -0.029360  \n",
       "5230321 -0.055569  \n",
       "5230322 -0.037105  \n",
       "5230323 -0.055402  \n",
       "5230324 -0.087330  \n",
       "\n",
       "[5230325 rows x 273 columns]"
      ]
     },
     "execution_count": 11,
     "metadata": {},
     "output_type": "execute_result"
    }
   ],
   "source": [
    "final_df.columns = [str(i) for i in range(final_df.shape[1])]\n",
    "final_df.rename(columns={str(final_df.shape[1] - 1):'target'}, inplace=True)\n",
    "final_df.reset_index(inplace=True)\n",
    "final_df['timestamp'] = pd.to_datetime(final_df['timestamp'])\n",
    "final_df.dropna(axis=0,inplace=True) # delete none\n",
    "final_df"
   ]
  },
  {
   "cell_type": "code",
   "execution_count": 12,
   "id": "82b24ffd",
   "metadata": {
    "ExecuteTime": {
     "end_time": "2022-01-13T05:29:13.375656Z",
     "start_time": "2022-01-13T05:28:49.814365Z"
    }
   },
   "outputs": [
    {
     "name": "stderr",
     "output_type": "stream",
     "text": [
      "100%|██████████| 26/26 [00:00<00:00, 3751.48it/s]\n"
     ]
    },
    {
     "name": "stdout",
     "output_type": "stream",
     "text": [
      "Save to  /home/wuwenjun/Data/AlphaNet_Original_Input_10d_return_move7/Data/2015-01-01_2015-03-01.par\n",
      "Save to  /home/wuwenjun/Data/AlphaNet_Original_Input_10d_return_move7/Data/2017-01-01_2017-03-01.par\n",
      "Save to  /home/wuwenjun/Data/AlphaNet_Original_Input_10d_return_move7/Data/2016-01-01_2016-03-01.par\n",
      "Save to  /home/wuwenjun/Data/AlphaNet_Original_Input_10d_return_move7/Data/2017-03-01_2017-06-01.par\n",
      "Save to  /home/wuwenjun/Data/AlphaNet_Original_Input_10d_return_move7/Data/2015-03-01_2015-06-01.par\n",
      "Save to  /home/wuwenjun/Data/AlphaNet_Original_Input_10d_return_move7/Data/2016-06-01_2016-09-01.par\n",
      "Save to  /home/wuwenjun/Data/AlphaNet_Original_Input_10d_return_move7/Data/2016-03-01_2016-06-01.par\n",
      "Save to  /home/wuwenjun/Data/AlphaNet_Original_Input_10d_return_move7/Data/2015-06-01_2015-09-01.par\n",
      "Save to  /home/wuwenjun/Data/AlphaNet_Original_Input_10d_return_move7/Data/2017-06-01_2017-09-01.par\n",
      "Save to  /home/wuwenjun/Data/AlphaNet_Original_Input_10d_return_move7/Data/2016-09-01_2017-01-01.par\n",
      "Save to  /home/wuwenjun/Data/AlphaNet_Original_Input_10d_return_move7/Data/2015-09-01_2016-01-01.par\n",
      "Save to  /home/wuwenjun/Data/AlphaNet_Original_Input_10d_return_move7/Data/2018-01-01_2018-03-01.par\n",
      "Save to  /home/wuwenjun/Data/AlphaNet_Original_Input_10d_return_move7/Data/2017-09-01_2018-01-01.par\n",
      "Save to  /home/wuwenjun/Data/AlphaNet_Original_Input_10d_return_move7/Data/2018-03-01_2018-06-01.par\n",
      "Save to  /home/wuwenjun/Data/AlphaNet_Original_Input_10d_return_move7/Data/2018-06-01_2018-09-01.par\n",
      "Save to  /home/wuwenjun/Data/AlphaNet_Original_Input_10d_return_move7/Data/2020-01-01_2020-03-01.par\n",
      "Save to  /home/wuwenjun/Data/AlphaNet_Original_Input_10d_return_move7/Data/2020-03-01_2020-06-01.par\n",
      "Save to  /home/wuwenjun/Data/AlphaNet_Original_Input_10d_return_move7/Data/2019-06-01_2019-09-01.par\n",
      "Save to  /home/wuwenjun/Data/AlphaNet_Original_Input_10d_return_move7/Data/2019-03-01_2019-06-01.par\n",
      "Save to  /home/wuwenjun/Data/AlphaNet_Original_Input_10d_return_move7/Data/2020-06-01_2020-09-01.par\n",
      "Save to  /home/wuwenjun/Data/AlphaNet_Original_Input_10d_return_move7/Data/2019-01-01_2019-03-01.par\n",
      "Save to  /home/wuwenjun/Data/AlphaNet_Original_Input_10d_return_move7/Data/2020-09-01_2021-01-01.par\n",
      "Save to  /home/wuwenjun/Data/AlphaNet_Original_Input_10d_return_move7/Data/2021-01-01_2021-03-01.par\n",
      "Save to  /home/wuwenjun/Data/AlphaNet_Original_Input_10d_return_move7/Data/2019-09-01_2020-01-01.par\n",
      "Save to  /home/wuwenjun/Data/AlphaNet_Original_Input_10d_return_move7/Data/2018-09-01_2019-01-01.par\n",
      "Save to  /home/wuwenjun/Data/AlphaNet_Original_Input_10d_return_move7/Data/2021-03-01_2021-06-01.par\n",
      "并行执行时间： 18\n"
     ]
    }
   ],
   "source": [
    "import datetime\n",
    "from datetime import timedelta\n",
    "from dateutil.relativedelta import relativedelta\n",
    "time_list = [20150101,20150301,20150601,20150901,\n",
    "             20160101,20160301,20160601,20160901,\n",
    "             20170101,20170301,20170601,20170901,\n",
    "             20180101,20180301,20180601,20180901,\n",
    "             20190101,20190301,20190601,20190901,\n",
    "             20200101,20200301,20200601,20200901,\n",
    "             20210101,20210301,20210601]\n",
    "\n",
    "def save(start_time,end_time):\n",
    "    final_df[\n",
    "        (final_df['timestamp'] >= start_time) & \n",
    "        (final_df['timestamp'] < end_time)].to_parquet(\n",
    "        path + \"Data/\" + datetime.datetime.strptime(str(start_time), '%Y-%m-%d %H:%M:%S').strftime('%Y-%m-%d') + \"_\" +\n",
    "                      datetime.datetime.strptime(str(end_time), '%Y-%m-%d %H:%M:%S').strftime('%Y-%m-%d') + \".par\"\n",
    "    )\n",
    "    print(\"Save to \",path + \"Data/\" + datetime.datetime.strptime(str(start_time), '%Y-%m-%d %H:%M:%S').strftime('%Y-%m-%d') + \"_\" +\n",
    "                      datetime.datetime.strptime(str(end_time), '%Y-%m-%d %H:%M:%S').strftime('%Y-%m-%d') + \".par\")\n",
    "    return None\n",
    "\n",
    "pool = mp.Pool(10)\n",
    "t1 = time.time()\n",
    "for i in tqdm(range(len(time_list)-1)):\n",
    "    start_time = pd.to_datetime(str(time_list[i]))\n",
    "    end_time = pd.to_datetime(str(time_list[i+1]))\n",
    "    pool.apply_async(save, args=(start_time,end_time))  #维持执行的进程总数为10，当一个进程执行完后启动一个新进程.\n",
    "pool.close()\n",
    "pool.join()\n",
    "t2 = time.time()\n",
    "print(\"并行执行时间：\", int(t2 - t1))"
   ]
  },
  {
   "cell_type": "markdown",
   "id": "88557dca",
   "metadata": {},
   "source": [
    "# Get Factor"
   ]
  },
  {
   "cell_type": "code",
   "execution_count": 14,
   "id": "2c79cc98",
   "metadata": {
    "ExecuteTime": {
     "end_time": "2022-01-13T07:57:41.849133Z",
     "start_time": "2022-01-13T07:57:41.842875Z"
    }
   },
   "outputs": [],
   "source": [
    "day = 30\n",
    "stride = 5\n",
    "kernal_size = 7\n",
    "def generateC(l1):\n",
    "    if len(l1) == 1:\n",
    "        return []\n",
    "    v = [[l1[0], i] for i in l1[1:]]\n",
    "    l1 = l1[1:]\n",
    "    return v + generateC(l1)\n",
    "\n",
    "def generate_Num_and_ReversedNum(feat_nums):\n",
    "    list1 = list(range(feat_nums))\n",
    "    num = generateC(list1)\n",
    "    num_rev = []\n",
    "    for l in num:\n",
    "        l1 = l.copy()\n",
    "        l1.reverse()\n",
    "        num_rev.append(l1)\n",
    "    return num, num_rev\n",
    "\n",
    "def generate_Step_List(stride,data_length = 30,kernal_size = None):\n",
    "    \"\"\"\n",
    "    data_length: days\n",
    "    kernal_size: how many days'moving\n",
    "    stride\n",
    "    \"\"\"\n",
    "    step_list = []\n",
    "    start , end = 0 , 0\n",
    "    if kernal_size == None:\n",
    "        kernal_size = stride\n",
    "    while end < data_length:\n",
    "        end = start + kernal_size\n",
    "        if end >= data_length:\n",
    "            end = data_length\n",
    "            start = end - kernal_size\n",
    "        step_list.append([start,end])\n",
    "        start += stride\n",
    "    return step_list"
   ]
  },
  {
   "cell_type": "code",
   "execution_count": 15,
   "id": "a6b4a925",
   "metadata": {
    "ExecuteTime": {
     "end_time": "2022-01-13T07:57:42.155029Z",
     "start_time": "2022-01-13T07:57:42.146556Z"
    }
   },
   "outputs": [
    {
     "data": {
      "text/plain": [
       "[[0, 7], [5, 12], [10, 17], [15, 22], [20, 27], [23, 30]]"
      ]
     },
     "execution_count": 15,
     "metadata": {},
     "output_type": "execute_result"
    }
   ],
   "source": [
    "generate_Step_List(stride = stride,data_length=30,kernal_size=kernal_size)"
   ]
  },
  {
   "cell_type": "code",
   "execution_count": 3,
   "id": "36d56f8f",
   "metadata": {
    "ExecuteTime": {
     "end_time": "2022-01-13T08:17:24.275500Z",
     "start_time": "2022-01-13T08:17:24.232390Z"
    }
   },
   "outputs": [
    {
     "name": "stderr",
     "output_type": "stream",
     "text": [
      "100%|██████████| 26/26 [00:00<00:00, 36253.96it/s]\n"
     ]
    },
    {
     "data": {
      "text/plain": [
       "['2015-01-01_2015-03-01.par',\n",
       " '2015-03-01_2015-06-01.par',\n",
       " '2015-06-01_2015-09-01.par',\n",
       " '2015-09-01_2016-01-01.par',\n",
       " '2016-01-01_2016-03-01.par',\n",
       " '2016-03-01_2016-06-01.par',\n",
       " '2016-06-01_2016-09-01.par',\n",
       " '2016-09-01_2017-01-01.par',\n",
       " '2017-01-01_2017-03-01.par',\n",
       " '2017-03-01_2017-06-01.par',\n",
       " '2017-06-01_2017-09-01.par',\n",
       " '2017-09-01_2018-01-01.par',\n",
       " '2018-01-01_2018-03-01.par',\n",
       " '2018-03-01_2018-06-01.par',\n",
       " '2018-06-01_2018-09-01.par',\n",
       " '2018-09-01_2019-01-01.par',\n",
       " '2019-01-01_2019-03-01.par',\n",
       " '2019-03-01_2019-06-01.par',\n",
       " '2019-06-01_2019-09-01.par',\n",
       " '2019-09-01_2020-01-01.par',\n",
       " '2020-01-01_2020-03-01.par',\n",
       " '2020-03-01_2020-06-01.par',\n",
       " '2020-06-01_2020-09-01.par',\n",
       " '2020-09-01_2021-01-01.par',\n",
       " '2021-01-01_2021-03-01.par',\n",
       " '2021-03-01_2021-06-01.par']"
      ]
     },
     "execution_count": 3,
     "metadata": {},
     "output_type": "execute_result"
    }
   ],
   "source": [
    "path_list = []\n",
    "data_path = path + \"Data/\"\n",
    "dataframe_list = pd.DataFrame()\n",
    "for f, _, i in walk(data_path):\n",
    "    for j in tqdm(i):\n",
    "        path_list.append(j)\n",
    "path_list.sort()\n",
    "path_list"
   ]
  },
  {
   "cell_type": "code",
   "execution_count": 17,
   "id": "72c8638b",
   "metadata": {
    "ExecuteTime": {
     "end_time": "2022-01-13T07:58:08.618029Z",
     "start_time": "2022-01-13T07:58:08.576212Z"
    }
   },
   "outputs": [],
   "source": [
    "# Read Data\n",
    "\n",
    "def cov(x,num,num_rev,step_list):\n",
    "    \"\"\"Main Function\"\"\"\n",
    "    l = []\n",
    "    for i in tqdm(step_list):\n",
    "        start = i[0]\n",
    "        end = i[1]\n",
    "        sub_data1 = x[:, :, num, start:end]\n",
    "        sub_data2 = x[:, :, num_rev, start:end]\n",
    "        mean1 = sub_data1.mean(axis=4, keepdims=True)  # (2000, 1, 36, 2, 1)\n",
    "        mean2 = sub_data2.mean(axis=4, keepdims=True)\n",
    "        spread1 = sub_data1 - mean1  # (2000, 1, 36, 2, 10)\n",
    "        spread2 = sub_data2 - mean2\n",
    "        cov = ((spread1 * spread2).sum(axis=4, keepdims=True) / (sub_data1.shape[4] - 1)).mean(axis=3,\n",
    "                                                                                                keepdims=True)  # (2000, 1, 36, 1, 1)\n",
    "        l.append(cov)\n",
    "    return np.squeeze(np.array(l)).transpose(1, 2, 0)\n",
    "\n",
    "def corr(x,num,num_rev,step_list,output_path):\n",
    "    \"\"\"Main Function\"\"\"\n",
    "    l = []\n",
    "    for i in tqdm(step_list):\n",
    "        start = i[0]\n",
    "        end = i[1]\n",
    "        sub_data1 = x[:, :, num, start:end]\n",
    "        sub_data2 = x[:, :, num_rev, start:end]\n",
    "        std1 = sub_data1.std(axis=4, keepdims=True)\n",
    "        std2 = sub_data2.std(axis=4, keepdims=True)\n",
    "        std = (std1 * std2).mean(axis=3, keepdims=True)\n",
    "        l.append(std)\n",
    "    l = np.squeeze(np.array(l)).transpose(1, 2, 0)\n",
    "    fct = (sub_data1.shape[4] - 1) / sub_data1.shape[4]\n",
    "    \n",
    "    # read cov\n",
    "    cov = pd.read_parquet(output_path.replace(\"Corr\",\"Cov\"))\n",
    "    cov = np.array(cov.set_index(['timestamp','ticker']))\n",
    "    cov = cov.reshape(l.shape)\n",
    "    # divide\n",
    "    l = np.divide(cov, l, out=np.zeros_like(cov, dtype=np.float64), where=l!=0) * fct\n",
    "    return l\n",
    "\n",
    "def std(x,num,num_rev,step_list):\n",
    "    \"\"\"Main Function\"\"\"\n",
    "    std = []\n",
    "    for i in tqdm(step_list):\n",
    "        start = i[0]\n",
    "        end = i[1]\n",
    "        sub_data1 = x[:, :, :, start:end]\n",
    "        std1 = sub_data1.std(axis=3, keepdims=True)\n",
    "        std.append(std1)\n",
    "    return np.squeeze(np.array(std)).transpose(1, 2, 0)\n",
    "\n",
    "def zscore(x,num,num_rev,step_list):\n",
    "    \"\"\"Main Function\"\"\"\n",
    "    l = []\n",
    "    for i in tqdm(step_list):\n",
    "        start = i[0]\n",
    "        end = i[1]\n",
    "        sub_data1 = x[:, :, :, start:end]\n",
    "        mean = sub_data1.mean(axis=3, keepdims=True)\n",
    "        std = sub_data1.std(axis=3, keepdims=True)\n",
    "        z_score = np.divide(mean, std, out=np.zeros_like(mean, dtype=np.float64), where=std!=0)\n",
    "        l.append(z_score)\n",
    "    return np.squeeze(np.array(l)).transpose(1, 2, 0)\n",
    "\n",
    "def ret(x,num,num_rev,step_list):\n",
    "    \"\"\"Main Function\"\"\"\n",
    "    l = []\n",
    "    for i in tqdm(step_list):\n",
    "        start = i[0]\n",
    "        end = i[1]\n",
    "        sub_data1 = x[:, :, :, start:end]\n",
    "        ret = np.divide(sub_data1[:, :, :, -1], sub_data1[:, :, :, 0], out=sub_data1[:, :, :, -1], where=sub_data1[:, :, :, 0]!=0) - 1\n",
    "        l.append(ret)\n",
    "    return np.squeeze(np.array(l)).transpose(1, 2, 0)\n",
    "\n",
    "def decay(x,num,num_rev,step_list):\n",
    "    \"\"\"Main Function\"\"\"\n",
    "    l = []\n",
    "    for i in tqdm(step_list):\n",
    "        start = i[0]\n",
    "        end = i[1]\n",
    "        time_spread = end - start\n",
    "        weight = np.arange(1, time_spread + 1)\n",
    "        weight = weight / (weight.sum())\n",
    "        sub_data1 = (x[:, :, :, start:end] * weight).sum(axis=3, keepdims=True)\n",
    "        l.append(sub_data1)\n",
    "    return np.squeeze(np.array(l)).transpose(1, 2, 0)\n",
    "\n",
    "def test(input_path,name,output_path,method = None):\n",
    "    dataframe_list = pd.read_parquet(input_path + name)\n",
    "    dataframe_list = dataframe_list.set_index([\"timestamp\",\"ticker\"])\n",
    "    x = np.array(dataframe_list.drop('target',axis=1))\n",
    "    x = x.reshape(x.shape[0], 1, day, -1)\n",
    "    x = x.transpose(0, 1, 3, 2)\n",
    "\n",
    "    feat_nums = x.shape[2]\n",
    "    data_length = x.shape[3]\n",
    "    num, num_rev = generate_Num_and_ReversedNum(feat_nums)\n",
    "    step_list = generate_Step_List(stride = stride,data_length=data_length,kernal_size=kernal_size)\n",
    "\n",
    "    \"\"\"Main Function\"\"\"\n",
    "    if method == \"Cov\":\n",
    "        l = cov(x,num,num_rev,step_list)\n",
    "    if method == \"Corr\":\n",
    "        l = corr(x,num,num_rev,step_list,output_path+name)\n",
    "    if method == \"Std\":\n",
    "        l = std(x,num,num_rev,step_list)\n",
    "    if method == \"Zscore\":\n",
    "        l = zscore(x,num,num_rev,step_list)\n",
    "    if method == \"Return\":\n",
    "        l = ret(x,num,num_rev,step_list)\n",
    "    if method == \"Decay\":\n",
    "        l = decay(x,num,num_rev,step_list)\n",
    "\n",
    "    l = pd.DataFrame(l.reshape(l.shape[0],-1))\n",
    "    l.index = dataframe_list.index\n",
    "    l.columns = [str(i) for i in range(l.shape[1])]\n",
    "    l.reset_index(inplace=True)\n",
    "    l.to_parquet(output_path + name)\n",
    "    print(\"save to \",output_path + name)\n",
    "    return None"
   ]
  },
  {
   "cell_type": "code",
   "execution_count": 18,
   "id": "ab2906fe",
   "metadata": {
    "ExecuteTime": {
     "end_time": "2022-01-13T08:00:46.457203Z",
     "start_time": "2022-01-13T07:58:11.844746Z"
    }
   },
   "outputs": [
    {
     "name": "stderr",
     "output_type": "stream",
     "text": [
      "100%|██████████| 6/6 [00:01<00:00,  4.15it/s]\n"
     ]
    },
    {
     "name": "stdout",
     "output_type": "stream",
     "text": [
      "save to  /home/wuwenjun/Data/AlphaNet_Original_Input_10d_return_move7/Cov/2015-01-01_2015-03-01.par\n"
     ]
    },
    {
     "name": "stderr",
     "output_type": "stream",
     "text": [
      "100%|██████████| 6/6 [00:13<00:00,  2.32s/it]\n",
      "100%|██████████| 6/6 [00:15<00:00,  2.60s/it]\n"
     ]
    },
    {
     "name": "stdout",
     "output_type": "stream",
     "text": [
      "save to  /home/wuwenjun/Data/AlphaNet_Original_Input_10d_return_move7/Cov/2016-01-01_2016-03-01.par\n"
     ]
    },
    {
     "name": "stderr",
     "output_type": "stream",
     "text": [
      " 67%|██████▋   | 4/6 [00:17<00:08,  4.33s/it]"
     ]
    },
    {
     "name": "stdout",
     "output_type": "stream",
     "text": [
      "save to  /home/wuwenjun/Data/AlphaNet_Original_Input_10d_return_move7/Cov/2017-01-01_2017-03-01.par\n"
     ]
    },
    {
     "name": "stderr",
     "output_type": "stream",
     "text": [
      "100%|██████████| 6/6 [00:22<00:00,  3.80s/it]\n",
      "100%|██████████| 6/6 [00:24<00:00,  4.16s/it]\n",
      "100%|██████████| 6/6 [00:24<00:00,  4.16s/it]\n",
      "100%|██████████| 6/6 [00:25<00:00,  4.24s/it]\n",
      "100%|██████████| 6/6 [00:27<00:00,  4.54s/it]\n",
      "100%|██████████| 6/6 [00:28<00:00,  4.75s/it]\n"
     ]
    },
    {
     "name": "stdout",
     "output_type": "stream",
     "text": [
      "save to  /home/wuwenjun/Data/AlphaNet_Original_Input_10d_return_move7/Cov/2015-03-01_2015-06-01.par\n"
     ]
    },
    {
     "name": "stderr",
     "output_type": "stream",
     "text": [
      "100%|██████████| 6/6 [00:31<00:00,  5.25s/it]\n",
      "  0%|          | 0/6 [00:00<?, ?it/s]"
     ]
    },
    {
     "name": "stdout",
     "output_type": "stream",
     "text": [
      "save to  /home/wuwenjun/Data/AlphaNet_Original_Input_10d_return_move7/Cov/2016-06-01_2016-09-01.par\n",
      "save to  /home/wuwenjun/Data/AlphaNet_Original_Input_10d_return_move7/Cov/2015-06-01_2015-09-01.par\n",
      "save to  /home/wuwenjun/Data/AlphaNet_Original_Input_10d_return_move7/Cov/2016-03-01_2016-06-01.par\n"
     ]
    },
    {
     "name": "stderr",
     "output_type": "stream",
     "text": [
      "100%|██████████| 6/6 [00:33<00:00,  5.55s/it]\n",
      " 83%|████████▎ | 5/6 [00:15<00:03,  3.15s/it]"
     ]
    },
    {
     "name": "stdout",
     "output_type": "stream",
     "text": [
      "save to  /home/wuwenjun/Data/AlphaNet_Original_Input_10d_return_move7/Cov/2017-03-01_2017-06-01.par\n"
     ]
    },
    {
     "name": "stderr",
     "output_type": "stream",
     "text": [
      "  0%|          | 0/6 [00:00<?, ?it/s].49s/it]"
     ]
    },
    {
     "name": "stdout",
     "output_type": "stream",
     "text": [
      "save to  /home/wuwenjun/Data/AlphaNet_Original_Input_10d_return_move7/Cov/2017-06-01_2017-09-01.par\n"
     ]
    },
    {
     "name": "stderr",
     "output_type": "stream",
     "text": [
      "100%|██████████| 6/6 [00:18<00:00,  3.09s/it]\n",
      " 17%|█▋        | 1/6 [00:02<00:14,  2.96s/it]"
     ]
    },
    {
     "name": "stdout",
     "output_type": "stream",
     "text": [
      "save to  /home/wuwenjun/Data/AlphaNet_Original_Input_10d_return_move7/Cov/2015-09-01_2016-01-01.par\n"
     ]
    },
    {
     "name": "stderr",
     "output_type": "stream",
     "text": [
      " 17%|█▋        | 1/6 [00:04<00:24,  4.85s/it]"
     ]
    },
    {
     "name": "stdout",
     "output_type": "stream",
     "text": [
      "save to  /home/wuwenjun/Data/AlphaNet_Original_Input_10d_return_move7/Cov/2018-01-01_2018-03-01.par\n"
     ]
    },
    {
     "name": "stderr",
     "output_type": "stream",
     "text": [
      "  0%|          | 0/6 [00:00<?, ?it/s].75s/it]"
     ]
    },
    {
     "name": "stdout",
     "output_type": "stream",
     "text": [
      "save to  /home/wuwenjun/Data/AlphaNet_Original_Input_10d_return_move7/Cov/2016-09-01_2017-01-01.par\n"
     ]
    },
    {
     "name": "stderr",
     "output_type": "stream",
     "text": [
      "100%|██████████| 6/6 [00:17<00:00,  2.89s/it]\n",
      "100%|██████████| 6/6 [00:39<00:00,  6.54s/it]\n",
      " 67%|██████▋   | 4/6 [00:19<00:10,  5.12s/it]"
     ]
    },
    {
     "name": "stdout",
     "output_type": "stream",
     "text": [
      "save to  /home/wuwenjun/Data/AlphaNet_Original_Input_10d_return_move7/Cov/2019-01-01_2019-03-01.par\n"
     ]
    },
    {
     "name": "stderr",
     "output_type": "stream",
     "text": [
      "100%|██████████| 6/6 [00:17<00:00,  2.90s/it]\n",
      "100%|██████████| 6/6 [00:30<00:00,  5.11s/it]\n",
      " 50%|█████     | 3/6 [00:19<00:19,  6.65s/it]"
     ]
    },
    {
     "name": "stdout",
     "output_type": "stream",
     "text": [
      "save to  /home/wuwenjun/Data/AlphaNet_Original_Input_10d_return_move7/Cov/2017-09-01_2018-01-01.par\n"
     ]
    },
    {
     "name": "stderr",
     "output_type": "stream",
     "text": [
      "100%|██████████| 6/6 [00:30<00:00,  5.03s/it]\n",
      "100%|██████████| 6/6 [00:29<00:00,  4.88s/it]\n"
     ]
    },
    {
     "name": "stdout",
     "output_type": "stream",
     "text": [
      "save to  /home/wuwenjun/Data/AlphaNet_Original_Input_10d_return_move7/Cov/2020-01-01_2020-03-01.par\n"
     ]
    },
    {
     "name": "stderr",
     "output_type": "stream",
     "text": [
      "  0%|          | 0/6 [00:00<?, ?it/s].22s/it]"
     ]
    },
    {
     "name": "stdout",
     "output_type": "stream",
     "text": [
      "save to  /home/wuwenjun/Data/AlphaNet_Original_Input_10d_return_move7/Cov/2018-03-01_2018-06-01.par\n"
     ]
    },
    {
     "name": "stderr",
     "output_type": "stream",
     "text": [
      "100%|██████████| 6/6 [00:33<00:00,  5.59s/it]\n",
      "100%|██████████| 6/6 [00:38<00:00,  6.35s/it]\n",
      " 17%|█▋        | 1/6 [00:09<00:45,  9.02s/it]"
     ]
    },
    {
     "name": "stdout",
     "output_type": "stream",
     "text": [
      "save to  /home/wuwenjun/Data/AlphaNet_Original_Input_10d_return_move7/Cov/2018-06-01_2018-09-01.par\n"
     ]
    },
    {
     "name": "stderr",
     "output_type": "stream",
     "text": [
      "100%|██████████| 6/6 [00:00<00:00, 182.90it/s]\n",
      " 33%|███▎      | 2/6 [00:08<00:17,  4.27s/it]"
     ]
    },
    {
     "name": "stdout",
     "output_type": "stream",
     "text": [
      "save to  /home/wuwenjun/Data/AlphaNet_Original_Input_10d_return_move7/Std/2015-01-01_2015-03-01.par\n"
     ]
    },
    {
     "name": "stderr",
     "output_type": "stream",
     "text": [
      "100%|██████████| 6/6 [00:33<00:00,  5.52s/it]\n",
      "100%|██████████| 6/6 [00:00<00:00, 10.75it/s]\n",
      " 50%|█████     | 3/6 [00:12<00:12,  4.19s/it]"
     ]
    },
    {
     "name": "stdout",
     "output_type": "stream",
     "text": [
      "save to  /home/wuwenjun/Data/AlphaNet_Original_Input_10d_return_move7/Std/2015-03-01_2015-06-01.par\n",
      "save to  /home/wuwenjun/Data/AlphaNet_Original_Input_10d_return_move7/Cov/2019-06-01_2019-09-01.par\n"
     ]
    },
    {
     "name": "stderr",
     "output_type": "stream",
     "text": [
      " 50%|█████     | 3/6 [00:00<00:00,  5.79it/s]"
     ]
    },
    {
     "name": "stdout",
     "output_type": "stream",
     "text": [
      "save to  /home/wuwenjun/Data/AlphaNet_Original_Input_10d_return_move7/Cov/2018-09-01_2019-01-01.par\n"
     ]
    },
    {
     "name": "stderr",
     "output_type": "stream",
     "text": [
      "100%|██████████| 6/6 [00:00<00:00,  6.92it/s]\n"
     ]
    },
    {
     "name": "stdout",
     "output_type": "stream",
     "text": [
      "save to  /home/wuwenjun/Data/AlphaNet_Original_Input_10d_return_move7/Cov/2019-03-01_2019-06-01.par\n"
     ]
    },
    {
     "name": "stderr",
     "output_type": "stream",
     "text": [
      "100%|██████████| 6/6 [00:00<00:00,  9.68it/s]\n",
      "100%|██████████| 6/6 [00:44<00:00,  7.35s/it]\n",
      " 83%|████████▎ | 5/6 [00:00<00:00,  5.02it/s]"
     ]
    },
    {
     "name": "stdout",
     "output_type": "stream",
     "text": [
      "save to  /home/wuwenjun/Data/AlphaNet_Original_Input_10d_return_move7/Std/2015-06-01_2015-09-01.par\n"
     ]
    },
    {
     "name": "stderr",
     "output_type": "stream",
     "text": [
      "100%|██████████| 6/6 [00:01<00:00,  5.37it/s]\n",
      "  0%|          | 0/6 [00:00<?, ?it/s]"
     ]
    },
    {
     "name": "stdout",
     "output_type": "stream",
     "text": [
      "save to  /home/wuwenjun/Data/AlphaNet_Original_Input_10d_return_move7/Std/2016-01-01_2016-03-01.par\n"
     ]
    },
    {
     "name": "stderr",
     "output_type": "stream",
     "text": [
      "100%|██████████| 6/6 [00:00<00:00,  6.32it/s]\n",
      " 83%|████████▎ | 5/6 [00:00<00:00,  6.95it/s]"
     ]
    },
    {
     "name": "stdout",
     "output_type": "stream",
     "text": [
      "save to  /home/wuwenjun/Data/AlphaNet_Original_Input_10d_return_move7/Std/2015-09-01_2016-01-01.par\n"
     ]
    },
    {
     "name": "stderr",
     "output_type": "stream",
     "text": [
      "100%|██████████| 6/6 [00:00<00:00,  6.94it/s]\n",
      " 67%|██████▋   | 4/6 [00:00<00:00,  8.00it/s]"
     ]
    },
    {
     "name": "stdout",
     "output_type": "stream",
     "text": [
      "save to  /home/wuwenjun/Data/AlphaNet_Original_Input_10d_return_move7/Std/2016-03-01_2016-06-01.par\n"
     ]
    },
    {
     "name": "stderr",
     "output_type": "stream",
     "text": [
      "100%|██████████| 6/6 [00:00<00:00,  7.59it/s]\n",
      "100%|██████████| 6/6 [00:00<00:00, 14.18it/s]\n"
     ]
    },
    {
     "name": "stdout",
     "output_type": "stream",
     "text": [
      "save to  /home/wuwenjun/Data/AlphaNet_Original_Input_10d_return_move7/Std/2016-06-01_2016-09-01.par\n"
     ]
    },
    {
     "name": "stderr",
     "output_type": "stream",
     "text": [
      " 83%|████████▎ | 5/6 [00:23<00:04,  4.88s/it]"
     ]
    },
    {
     "name": "stdout",
     "output_type": "stream",
     "text": [
      "save to  /home/wuwenjun/Data/AlphaNet_Original_Input_10d_return_move7/Std/2017-01-01_2017-03-01.par\n"
     ]
    },
    {
     "name": "stderr",
     "output_type": "stream",
     "text": [
      " 50%|█████     | 3/6 [00:26<00:25,  8.62s/it]"
     ]
    },
    {
     "name": "stdout",
     "output_type": "stream",
     "text": [
      "save to  /home/wuwenjun/Data/AlphaNet_Original_Input_10d_return_move7/Std/2016-09-01_2017-01-01.par\n"
     ]
    },
    {
     "name": "stderr",
     "output_type": "stream",
     "text": [
      "100%|██████████| 6/6 [00:00<00:00,  8.35it/s]\n",
      " 50%|█████     | 3/6 [00:00<00:00,  5.36it/s]"
     ]
    },
    {
     "name": "stdout",
     "output_type": "stream",
     "text": [
      "save to  /home/wuwenjun/Data/AlphaNet_Original_Input_10d_return_move7/Cov/2020-03-01_2020-06-01.par\n"
     ]
    },
    {
     "name": "stderr",
     "output_type": "stream",
     "text": [
      "100%|██████████| 6/6 [00:00<00:00, 13.14it/s]\n",
      "100%|██████████| 6/6 [00:00<00:00,  6.24it/s]\n",
      " 17%|█▋        | 1/6 [00:00<00:00,  5.42it/s]"
     ]
    },
    {
     "name": "stdout",
     "output_type": "stream",
     "text": [
      "save to  /home/wuwenjun/Data/AlphaNet_Original_Input_10d_return_move7/Std/2017-03-01_2017-06-01.par\n"
     ]
    },
    {
     "name": "stderr",
     "output_type": "stream",
     "text": [
      "\r",
      " 33%|███▎      | 2/6 [00:00<00:00,  4.79it/s]"
     ]
    },
    {
     "name": "stdout",
     "output_type": "stream",
     "text": [
      "save to  /home/wuwenjun/Data/AlphaNet_Original_Input_10d_return_move7/Std/2018-01-01_2018-03-01.par\n"
     ]
    },
    {
     "name": "stderr",
     "output_type": "stream",
     "text": [
      "100%|██████████| 6/6 [00:26<00:00,  4.44s/it]\n",
      "100%|██████████| 6/6 [00:01<00:00,  4.84it/s]\n"
     ]
    },
    {
     "name": "stdout",
     "output_type": "stream",
     "text": [
      "save to  /home/wuwenjun/Data/AlphaNet_Original_Input_10d_return_move7/Cov/2019-09-01_2020-01-01.par\n"
     ]
    },
    {
     "name": "stderr",
     "output_type": "stream",
     "text": [
      "\r",
      "  0%|          | 0/6 [00:00<?, ?it/s]"
     ]
    },
    {
     "name": "stdout",
     "output_type": "stream",
     "text": [
      "save to  /home/wuwenjun/Data/AlphaNet_Original_Input_10d_return_move7/Std/2017-06-01_2017-09-01.par\n"
     ]
    },
    {
     "name": "stderr",
     "output_type": "stream",
     "text": [
      "100%|██████████| 6/6 [00:00<00:00,  6.57it/s]\n",
      " 67%|██████▋   | 4/6 [00:00<00:00,  6.60it/s]"
     ]
    },
    {
     "name": "stdout",
     "output_type": "stream",
     "text": [
      "save to  /home/wuwenjun/Data/AlphaNet_Original_Input_10d_return_move7/Std/2017-09-01_2018-01-01.par\n"
     ]
    },
    {
     "name": "stderr",
     "output_type": "stream",
     "text": [
      "100%|██████████| 6/6 [00:37<00:00,  6.21s/it]\n",
      "100%|██████████| 6/6 [00:00<00:00,  6.63it/s]\n",
      "100%|██████████| 6/6 [00:00<00:00, 15.32it/s]\n",
      "100%|██████████| 6/6 [00:01<00:00,  5.49it/s]\n",
      " 33%|███▎      | 2/6 [00:00<00:00,  5.01it/s]"
     ]
    },
    {
     "name": "stdout",
     "output_type": "stream",
     "text": [
      "save to  /home/wuwenjun/Data/AlphaNet_Original_Input_10d_return_move7/Std/2018-03-01_2018-06-01.par\n"
     ]
    },
    {
     "name": "stderr",
     "output_type": "stream",
     "text": [
      "\r",
      " 50%|█████     | 3/6 [00:00<00:00,  4.93it/s]"
     ]
    },
    {
     "name": "stdout",
     "output_type": "stream",
     "text": [
      "save to  /home/wuwenjun/Data/AlphaNet_Original_Input_10d_return_move7/Std/2019-01-01_2019-03-01.par\n"
     ]
    },
    {
     "name": "stderr",
     "output_type": "stream",
     "text": [
      " 83%|████████▎ | 5/6 [00:00<00:00,  5.13it/s]"
     ]
    },
    {
     "name": "stdout",
     "output_type": "stream",
     "text": [
      "save to  /home/wuwenjun/Data/AlphaNet_Original_Input_10d_return_move7/Std/2018-06-01_2018-09-01.par\n"
     ]
    },
    {
     "name": "stderr",
     "output_type": "stream",
     "text": [
      "100%|██████████| 6/6 [00:01<00:00,  4.73it/s]\n",
      "100%|██████████| 6/6 [00:00<00:00,  6.62it/s]\n"
     ]
    },
    {
     "name": "stdout",
     "output_type": "stream",
     "text": [
      "save to  /home/wuwenjun/Data/AlphaNet_Original_Input_10d_return_move7/Std/2018-09-01_2019-01-01.par\n"
     ]
    },
    {
     "name": "stderr",
     "output_type": "stream",
     "text": [
      "100%|██████████| 6/6 [00:00<00:00, 11.58it/s]\n",
      " 17%|█▋        | 1/6 [00:00<00:00,  7.71it/s]"
     ]
    },
    {
     "name": "stdout",
     "output_type": "stream",
     "text": [
      "save to  /home/wuwenjun/Data/AlphaNet_Original_Input_10d_return_move7/Std/2019-03-01_2019-06-01.par\n"
     ]
    },
    {
     "name": "stderr",
     "output_type": "stream",
     "text": [
      "100%|██████████| 6/6 [00:00<00:00,  7.29it/s]\n",
      " 67%|██████▋   | 4/6 [00:00<00:00,  5.79it/s]"
     ]
    },
    {
     "name": "stdout",
     "output_type": "stream",
     "text": [
      "save to  /home/wuwenjun/Data/AlphaNet_Original_Input_10d_return_move7/Std/2019-06-01_2019-09-01.par\n",
      "save to "
     ]
    },
    {
     "name": "stderr",
     "output_type": "stream",
     "text": [
      "\r",
      " 83%|████████▎ | 5/6 [00:00<00:00,  6.02it/s]"
     ]
    },
    {
     "name": "stdout",
     "output_type": "stream",
     "text": [
      " /home/wuwenjun/Data/AlphaNet_Original_Input_10d_return_move7/Std/2020-01-01_2020-03-01.par\n"
     ]
    },
    {
     "name": "stderr",
     "output_type": "stream",
     "text": [
      "100%|██████████| 6/6 [00:01<00:00,  5.91it/s]\n"
     ]
    },
    {
     "name": "stdout",
     "output_type": "stream",
     "text": [
      "save to  /home/wuwenjun/Data/AlphaNet_Original_Input_10d_return_move7/Cov/2021-01-01_2021-03-01.par\n"
     ]
    },
    {
     "name": "stderr",
     "output_type": "stream",
     "text": [
      "100%|██████████| 6/6 [00:00<00:00, 119.49it/s]\n",
      " 33%|███▎      | 2/6 [00:00<00:00,  6.30it/s]"
     ]
    },
    {
     "name": "stdout",
     "output_type": "stream",
     "text": [
      "save to  /home/wuwenjun/Data/AlphaNet_Original_Input_10d_return_move7/Zscore/2015-01-01_2015-03-01.par\n"
     ]
    },
    {
     "name": "stderr",
     "output_type": "stream",
     "text": [
      "100%|██████████| 6/6 [00:00<00:00,  6.56it/s]\n",
      " 17%|█▋        | 1/6 [00:00<00:00,  9.30it/s]"
     ]
    },
    {
     "name": "stdout",
     "output_type": "stream",
     "text": [
      "save to  /home/wuwenjun/Data/AlphaNet_Original_Input_10d_return_move7/Std/2020-03-01_2020-06-01.par\n"
     ]
    },
    {
     "name": "stderr",
     "output_type": "stream",
     "text": [
      "100%|██████████| 6/6 [00:00<00:00, 12.24it/s]\n"
     ]
    },
    {
     "name": "stdout",
     "output_type": "stream",
     "text": [
      "save to  /home/wuwenjun/Data/AlphaNet_Original_Input_10d_return_move7/Std/2019-09-01_2020-01-01.par\n"
     ]
    },
    {
     "name": "stderr",
     "output_type": "stream",
     "text": [
      " 67%|██████▋   | 4/6 [00:00<00:00,  5.21it/s]"
     ]
    },
    {
     "name": "stdout",
     "output_type": "stream",
     "text": [
      "save to  /home/wuwenjun/Data/AlphaNet_Original_Input_10d_return_move7/Cov/2020-06-01_2020-09-01.par\n"
     ]
    },
    {
     "name": "stderr",
     "output_type": "stream",
     "text": [
      " 83%|████████▎ | 5/6 [00:00<00:00,  6.05it/s]"
     ]
    },
    {
     "name": "stdout",
     "output_type": "stream",
     "text": [
      "save to  /home/wuwenjun/Data/AlphaNet_Original_Input_10d_return_move7/Std/2020-06-01_2020-09-01.par\n"
     ]
    },
    {
     "name": "stderr",
     "output_type": "stream",
     "text": [
      "100%|██████████| 6/6 [00:01<00:00,  5.54it/s]\n",
      "100%|██████████| 6/6 [00:01<00:00,  5.89it/s]\n",
      " 17%|█▋        | 1/6 [00:00<00:00,  6.36it/s]"
     ]
    },
    {
     "name": "stdout",
     "output_type": "stream",
     "text": [
      "save to  /home/wuwenjun/Data/AlphaNet_Original_Input_10d_return_move7/Std/2021-01-01_2021-03-01.par\n"
     ]
    },
    {
     "name": "stderr",
     "output_type": "stream",
     "text": [
      "100%|██████████| 6/6 [00:01<00:00,  3.35it/s]\n",
      "100%|██████████| 6/6 [00:00<00:00,  7.06it/s]\n",
      "100%|██████████| 6/6 [00:00<00:00, 17.88it/s]\n",
      " 67%|██████▋   | 4/6 [00:00<00:00,  5.35it/s]"
     ]
    },
    {
     "name": "stdout",
     "output_type": "stream",
     "text": [
      "save to  /home/wuwenjun/Data/AlphaNet_Original_Input_10d_return_move7/Zscore/2015-03-01_2015-06-01.par\n",
      "save to "
     ]
    },
    {
     "name": "stderr",
     "output_type": "stream",
     "text": [
      "\r",
      " 17%|█▋        | 1/6 [00:00<00:00,  6.33it/s]"
     ]
    },
    {
     "name": "stdout",
     "output_type": "stream",
     "text": [
      " /home/wuwenjun/Data/AlphaNet_Original_Input_10d_return_move7/Zscore/2016-01-01_2016-03-01.par\n"
     ]
    },
    {
     "name": "stderr",
     "output_type": "stream",
     "text": [
      " 33%|███▎      | 2/6 [00:00<00:00,  6.40it/s]"
     ]
    },
    {
     "name": "stdout",
     "output_type": "stream",
     "text": [
      "save to  "
     ]
    },
    {
     "name": "stderr",
     "output_type": "stream",
     "text": [
      "\r",
      " 17%|█▋        | 1/6 [00:00<00:00,  5.12it/s]"
     ]
    },
    {
     "name": "stdout",
     "output_type": "stream",
     "text": [
      "/home/wuwenjun/Data/AlphaNet_Original_Input_10d_return_move7/Std/2021-03-01_2021-06-01.par\n"
     ]
    },
    {
     "name": "stderr",
     "output_type": "stream",
     "text": [
      "100%|██████████| 6/6 [00:01<00:00,  5.29it/s]\n",
      "100%|██████████| 6/6 [00:00<00:00,  6.08it/s]\n",
      " 83%|████████▎ | 5/6 [00:00<00:00,  6.08it/s]"
     ]
    },
    {
     "name": "stdout",
     "output_type": "stream",
     "text": [
      "save to  /home/wuwenjun/Data/AlphaNet_Original_Input_10d_return_move7/Zscore/2015-06-01_2015-09-01.par\n",
      "save to  /home/wuwenjun/Data/AlphaNet_Original_Input_10d_return_move7/Std/2020-09-01_2021-01-01.par\n"
     ]
    },
    {
     "name": "stderr",
     "output_type": "stream",
     "text": [
      "100%|██████████| 6/6 [00:00<00:00,  6.22it/s]\n",
      "100%|██████████| 6/6 [00:00<00:00, 11.24it/s]\n",
      "  0%|          | 0/6 [00:00<?, ?it/s]"
     ]
    },
    {
     "name": "stdout",
     "output_type": "stream",
     "text": [
      "save to  /home/wuwenjun/Data/AlphaNet_Original_Input_10d_return_move7/Zscore/2015-09-01_2016-01-01.par\n"
     ]
    },
    {
     "name": "stderr",
     "output_type": "stream",
     "text": [
      " 33%|███▎      | 2/6 [00:00<00:00,  5.36it/s]"
     ]
    },
    {
     "name": "stdout",
     "output_type": "stream",
     "text": [
      "save to  /home/wuwenjun/Data/AlphaNet_Original_Input_10d_return_move7/Zscore/2017-01-01_2017-03-01.par\n"
     ]
    },
    {
     "name": "stderr",
     "output_type": "stream",
     "text": [
      " 50%|█████     | 3/6 [00:00<00:00,  4.72it/s]"
     ]
    },
    {
     "name": "stdout",
     "output_type": "stream",
     "text": [
      "save to  /home/wuwenjun/Data/AlphaNet_Original_Input_10d_return_move7/Zscore/2016-03-01_2016-06-01.par\n"
     ]
    },
    {
     "name": "stderr",
     "output_type": "stream",
     "text": [
      " 67%|██████▋   | 4/6 [00:00<00:00,  7.49it/s]"
     ]
    },
    {
     "name": "stdout",
     "output_type": "stream",
     "text": [
      "save to  /home/wuwenjun/Data/AlphaNet_Original_Input_10d_return_move7/Zscore/2016-06-01_2016-09-01.par\n"
     ]
    },
    {
     "name": "stderr",
     "output_type": "stream",
     "text": [
      "100%|██████████| 6/6 [00:00<00:00,  6.58it/s]\n",
      "100%|██████████| 6/6 [00:01<00:00,  4.47it/s]\n",
      "100%|██████████| 6/6 [00:00<00:00, 12.90it/s]\n",
      "100%|██████████| 6/6 [00:01<00:00,  6.00it/s]\n",
      " 17%|█▋        | 1/6 [00:00<00:01,  4.77it/s]"
     ]
    },
    {
     "name": "stdout",
     "output_type": "stream",
     "text": [
      "save to  /home/wuwenjun/Data/AlphaNet_Original_Input_10d_return_move7/Zscore/2018-01-01_2018-03-01.par\n"
     ]
    },
    {
     "name": "stderr",
     "output_type": "stream",
     "text": [
      " 33%|███▎      | 2/6 [00:00<00:00,  4.51it/s]"
     ]
    },
    {
     "name": "stdout",
     "output_type": "stream",
     "text": [
      "save to  /home/wuwenjun/Data/AlphaNet_Original_Input_10d_return_move7/Zscore/2017-03-01_2017-06-01.par\n"
     ]
    },
    {
     "name": "stderr",
     "output_type": "stream",
     "text": [
      "100%|██████████| 6/6 [00:38<00:00,  6.50s/it]\n"
     ]
    },
    {
     "name": "stdout",
     "output_type": "stream",
     "text": [
      "save to  /home/wuwenjun/Data/AlphaNet_Original_Input_10d_return_move7/Zscore/2016-09-01_2017-01-01.par\n"
     ]
    },
    {
     "name": "stderr",
     "output_type": "stream",
     "text": [
      "100%|██████████| 6/6 [00:01<00:00,  3.29it/s]\n",
      "100%|██████████| 6/6 [00:01<00:00,  5.09it/s]\n",
      "  0%|          | 0/6 [00:00<?, ?it/s]"
     ]
    },
    {
     "name": "stdout",
     "output_type": "stream",
     "text": [
      "save to  /home/wuwenjun/Data/AlphaNet_Original_Input_10d_return_move7/Zscore/2017-06-01_2017-09-01.par\n"
     ]
    },
    {
     "name": "stderr",
     "output_type": "stream",
     "text": [
      "100%|██████████| 6/6 [00:01<00:00,  3.88it/s]\n",
      "100%|██████████| 6/6 [00:00<00:00, 10.02it/s]\n",
      "100%|██████████| 6/6 [00:01<00:00,  3.83it/s]\n",
      " 33%|███▎      | 2/6 [00:00<00:00,  4.61it/s]"
     ]
    },
    {
     "name": "stdout",
     "output_type": "stream",
     "text": [
      "save to  /home/wuwenjun/Data/AlphaNet_Original_Input_10d_return_move7/Zscore/2017-09-01_2018-01-01.par\n"
     ]
    },
    {
     "name": "stderr",
     "output_type": "stream",
     "text": [
      " 67%|██████▋   | 4/6 [00:00<00:00,  4.98it/s]"
     ]
    },
    {
     "name": "stdout",
     "output_type": "stream",
     "text": [
      "save to  /home/wuwenjun/Data/AlphaNet_Original_Input_10d_return_move7/Zscore/2018-06-01_2018-09-01.par\n",
      "save to  /home/wuwenjun/Data/AlphaNet_Original_Input_10d_return_move7/Zscore/2018-03-01_2018-06-01.par\n"
     ]
    },
    {
     "name": "stderr",
     "output_type": "stream",
     "text": [
      " 50%|█████     | 3/6 [00:00<00:00,  4.30it/s]"
     ]
    },
    {
     "name": "stdout",
     "output_type": "stream",
     "text": [
      "save to  /home/wuwenjun/Data/AlphaNet_Original_Input_10d_return_move7/Zscore/2019-01-01_2019-03-01.par\n"
     ]
    },
    {
     "name": "stderr",
     "output_type": "stream",
     "text": [
      "100%|██████████| 6/6 [00:01<00:00,  4.92it/s]\n",
      "100%|██████████| 6/6 [00:01<00:00,  4.29it/s]\n",
      " 67%|██████▋   | 4/6 [00:00<00:00, 10.09it/s]"
     ]
    },
    {
     "name": "stdout",
     "output_type": "stream",
     "text": [
      "save to  /home/wuwenjun/Data/AlphaNet_Original_Input_10d_return_move7/Zscore/2018-09-01_2019-01-01.par\n"
     ]
    },
    {
     "name": "stderr",
     "output_type": "stream",
     "text": [
      "100%|██████████| 6/6 [00:00<00:00,  9.80it/s]\n",
      " 67%|██████▋   | 4/6 [00:01<00:00,  2.84it/s]"
     ]
    },
    {
     "name": "stdout",
     "output_type": "stream",
     "text": [
      "save to  /home/wuwenjun/Data/AlphaNet_Original_Input_10d_return_move7/Zscore/2019-03-01_2019-06-01.par\n"
     ]
    },
    {
     "name": "stderr",
     "output_type": "stream",
     "text": [
      "\r",
      " 17%|█▋        | 1/6 [00:00<00:00,  6.87it/s]"
     ]
    },
    {
     "name": "stdout",
     "output_type": "stream",
     "text": [
      "save to  /home/wuwenjun/Data/AlphaNet_Original_Input_10d_return_move7/Zscore/2019-06-01_2019-09-01.par\n"
     ]
    },
    {
     "name": "stderr",
     "output_type": "stream",
     "text": [
      "100%|██████████| 6/6 [00:00<00:00, 1159.02it/s]\n",
      "100%|██████████| 6/6 [00:50<00:00,  8.43s/it]\n",
      "100%|██████████| 6/6 [00:01<00:00,  3.07it/s]\n"
     ]
    },
    {
     "name": "stdout",
     "output_type": "stream",
     "text": [
      "save to  /home/wuwenjun/Data/AlphaNet_Original_Input_10d_return_move7/Return/2015-01-01_2015-03-01.par\n"
     ]
    },
    {
     "name": "stderr",
     "output_type": "stream",
     "text": [
      "100%|██████████| 6/6 [00:01<00:00,  4.90it/s]\n"
     ]
    },
    {
     "name": "stdout",
     "output_type": "stream",
     "text": [
      "save to  /home/wuwenjun/Data/AlphaNet_Original_Input_10d_return_move7/Zscore/2020-01-01_2020-03-01.par\n"
     ]
    },
    {
     "name": "stderr",
     "output_type": "stream",
     "text": [
      "100%|██████████| 6/6 [00:00<00:00,  8.35it/s]\n",
      "100%|██████████| 6/6 [00:00<00:00, 106.64it/s]\n",
      "100%|██████████| 6/6 [00:01<00:00,  3.37it/s]\n",
      " 83%|████████▎ | 5/6 [00:01<00:00,  3.01it/s]"
     ]
    },
    {
     "name": "stdout",
     "output_type": "stream",
     "text": [
      "save to  /home/wuwenjun/Data/AlphaNet_Original_Input_10d_return_move7/Zscore/2019-09-01_2020-01-01.par\n"
     ]
    },
    {
     "name": "stderr",
     "output_type": "stream",
     "text": [
      "100%|██████████| 6/6 [00:02<00:00,  2.99it/s]\n",
      " 33%|███▎      | 2/6 [00:00<00:00,  4.61it/s]"
     ]
    },
    {
     "name": "stdout",
     "output_type": "stream",
     "text": [
      "save to  /home/wuwenjun/Data/AlphaNet_Original_Input_10d_return_move7/Zscore/2020-03-01_2020-06-01.par\n",
      "save to  /home/wuwenjun/Data/AlphaNet_Original_Input_10d_return_move7/Zscore/2021-01-01_2021-03-01.par\n"
     ]
    },
    {
     "name": "stderr",
     "output_type": "stream",
     "text": [
      "100%|██████████| 6/6 [00:00<00:00, 45.38it/s]"
     ]
    },
    {
     "name": "stdout",
     "output_type": "stream",
     "text": [
      "save to "
     ]
    },
    {
     "name": "stderr",
     "output_type": "stream",
     "text": [
      "\n"
     ]
    },
    {
     "name": "stdout",
     "output_type": "stream",
     "text": [
      " /home/wuwenjun/Data/AlphaNet_Original_Input_10d_return_move7/Return/2015-03-01_2015-06-01.par\n"
     ]
    },
    {
     "name": "stderr",
     "output_type": "stream",
     "text": [
      "\r",
      " 83%|████████▎ | 5/6 [00:01<00:00,  3.76it/s]"
     ]
    },
    {
     "name": "stdout",
     "output_type": "stream",
     "text": [
      "save to  /home/wuwenjun/Data/AlphaNet_Original_Input_10d_return_move7/Cov/2021-03-01_2021-06-01.par\n"
     ]
    },
    {
     "name": "stderr",
     "output_type": "stream",
     "text": [
      "100%|██████████| 6/6 [00:01<00:00,  3.74it/s]\n",
      "100%|██████████| 6/6 [00:00<00:00, 98.39it/s]"
     ]
    },
    {
     "name": "stdout",
     "output_type": "stream",
     "text": [
      "save to "
     ]
    },
    {
     "name": "stderr",
     "output_type": "stream",
     "text": [
      "\n"
     ]
    },
    {
     "name": "stdout",
     "output_type": "stream",
     "text": [
      " /home/wuwenjun/Data/AlphaNet_Original_Input_10d_return_move7/Zscore/2020-06-01_2020-09-01.par\n"
     ]
    },
    {
     "name": "stderr",
     "output_type": "stream",
     "text": [
      "100%|██████████| 6/6 [00:00<00:00, 104.82it/s]\n",
      "100%|██████████| 6/6 [00:00<00:00, 83.72it/s]\n"
     ]
    },
    {
     "name": "stdout",
     "output_type": "stream",
     "text": [
      "save to  save to  /home/wuwenjun/Data/AlphaNet_Original_Input_10d_return_move7/Zscore/2020-09-01_2021-01-01.par/home/wuwenjun/Data/AlphaNet_Original_Input_10d_return_move7/Return/2016-01-01_2016-03-01.par\n",
      "\n"
     ]
    },
    {
     "name": "stderr",
     "output_type": "stream",
     "text": [
      "100%|██████████| 6/6 [00:00<00:00, 215.62it/s]\n",
      "100%|██████████| 6/6 [00:00<00:00, 90.30it/s]\n"
     ]
    },
    {
     "name": "stdout",
     "output_type": "stream",
     "text": [
      "save to  /home/wuwenjun/Data/AlphaNet_Original_Input_10d_return_move7/Return/2015-06-01_2015-09-01.par\n",
      "save to  /home/wuwenjun/Data/AlphaNet_Original_Input_10d_return_move7/Zscore/2021-03-01_2021-06-01.par\n"
     ]
    },
    {
     "name": "stderr",
     "output_type": "stream",
     "text": [
      "100%|██████████| 6/6 [00:00<00:00, 98.53it/s]\n"
     ]
    },
    {
     "name": "stdout",
     "output_type": "stream",
     "text": [
      "save to  /home/wuwenjun/Data/AlphaNet_Original_Input_10d_return_move7/Return/2017-01-01_2017-03-01.par\n",
      "save to  /home/wuwenjun/Data/AlphaNet_Original_Input_10d_return_move7/Return/2016-03-01_2016-06-01.par\n"
     ]
    },
    {
     "name": "stderr",
     "output_type": "stream",
     "text": [
      "100%|██████████| 6/6 [00:00<00:00, 45.77it/s]\n",
      "100%|██████████| 6/6 [00:00<00:00, 76.85it/s]\n"
     ]
    },
    {
     "name": "stdout",
     "output_type": "stream",
     "text": [
      "save to  "
     ]
    },
    {
     "name": "stderr",
     "output_type": "stream",
     "text": [
      "\r",
      "  0%|          | 0/6 [00:00<?, ?it/s]"
     ]
    },
    {
     "name": "stdout",
     "output_type": "stream",
     "text": [
      "/home/wuwenjun/Data/AlphaNet_Original_Input_10d_return_move7/Return/2015-09-01_2016-01-01.par\n"
     ]
    },
    {
     "name": "stderr",
     "output_type": "stream",
     "text": [
      "100%|██████████| 6/6 [00:00<00:00, 87.72it/s]\n"
     ]
    },
    {
     "name": "stdout",
     "output_type": "stream",
     "text": [
      "save to  /home/wuwenjun/Data/AlphaNet_Original_Input_10d_return_move7/Return/2016-06-01_2016-09-01.par\n"
     ]
    },
    {
     "name": "stderr",
     "output_type": "stream",
     "text": [
      "100%|██████████| 6/6 [00:00<00:00, 66.02it/s]\n"
     ]
    },
    {
     "name": "stdout",
     "output_type": "stream",
     "text": [
      "save to  save to /home/wuwenjun/Data/AlphaNet_Original_Input_10d_return_move7/Return/2016-09-01_2017-01-01.par /home/wuwenjun/Data/AlphaNet_Original_Input_10d_return_move7/Return/2018-01-01_2018-03-01.par\n",
      "\n"
     ]
    },
    {
     "name": "stderr",
     "output_type": "stream",
     "text": [
      "100%|██████████| 6/6 [00:00<00:00, 103.70it/s]\n",
      "100%|██████████| 6/6 [00:00<00:00, 36.76it/s]\n",
      "100%|██████████| 6/6 [00:00<00:00, 95.43it/s]\n"
     ]
    },
    {
     "name": "stdout",
     "output_type": "stream",
     "text": [
      "save to  /home/wuwenjun/Data/AlphaNet_Original_Input_10d_return_move7/Return/2017-06-01_2017-09-01.par\n",
      "save to  /home/wuwenjun/Data/AlphaNet_Original_Input_10d_return_move7/Return/2017-03-01_2017-06-01.par\n"
     ]
    },
    {
     "name": "stderr",
     "output_type": "stream",
     "text": [
      "100%|██████████| 6/6 [00:00<00:00, 33.98it/s]\n",
      "100%|██████████| 6/6 [00:00<00:00, 46.20it/s]\n"
     ]
    },
    {
     "name": "stdout",
     "output_type": "stream",
     "text": [
      "save to  /home/wuwenjun/Data/AlphaNet_Original_Input_10d_return_move7/Return/2017-09-01_2018-01-01.par\n",
      "save to  /home/wuwenjun/Data/AlphaNet_Original_Input_10d_return_move7/Return/2019-01-01_2019-03-01.par\n"
     ]
    },
    {
     "name": "stderr",
     "output_type": "stream",
     "text": [
      "100%|██████████| 6/6 [00:00<00:00, 56.82it/s]\n",
      "100%|██████████| 6/6 [00:00<00:00, 34.18it/s]\n"
     ]
    },
    {
     "name": "stdout",
     "output_type": "stream",
     "text": [
      "save to  /home/wuwenjun/Data/AlphaNet_Original_Input_10d_return_move7/Return/2018-03-01_2018-06-01.par\n",
      "save to  /home/wuwenjun/Data/AlphaNet_Original_Input_10d_return_move7/Return/2018-06-01_2018-09-01.par\n"
     ]
    },
    {
     "name": "stderr",
     "output_type": "stream",
     "text": [
      "100%|██████████| 6/6 [00:00<00:00, 35.86it/s]\n",
      "100%|██████████| 6/6 [00:00<00:00, 79.49it/s]\n"
     ]
    },
    {
     "name": "stdout",
     "output_type": "stream",
     "text": [
      "save to  /home/wuwenjun/Data/AlphaNet_Original_Input_10d_return_move7/Return/2018-09-01_2019-01-01.par\n",
      "save to  /home/wuwenjun/Data/AlphaNet_Original_Input_10d_return_move7/Return/2019-03-01_2019-06-01.par\n"
     ]
    },
    {
     "name": "stderr",
     "output_type": "stream",
     "text": [
      "100%|██████████| 6/6 [00:00<00:00, 94.07it/s]\n"
     ]
    },
    {
     "name": "stdout",
     "output_type": "stream",
     "text": [
      "save to  /home/wuwenjun/Data/AlphaNet_Original_Input_10d_return_move7/Return/2020-01-01_2020-03-01.par"
     ]
    },
    {
     "name": "stderr",
     "output_type": "stream",
     "text": [
      "\r",
      "  0%|          | 0/6 [00:00<?, ?it/s]"
     ]
    },
    {
     "name": "stdout",
     "output_type": "stream",
     "text": [
      "\n"
     ]
    },
    {
     "name": "stderr",
     "output_type": "stream",
     "text": [
      "100%|██████████| 6/6 [00:00<00:00, 502.42it/s]\n",
      "100%|██████████| 6/6 [00:00<00:00, 16.76it/s]\n"
     ]
    },
    {
     "name": "stdout",
     "output_type": "stream",
     "text": [
      "save to  /home/wuwenjun/Data/AlphaNet_Original_Input_10d_return_move7/Decay/2015-01-01_2015-03-01.par\n",
      "save to  /home/wuwenjun/Data/AlphaNet_Original_Input_10d_return_move7/Return/2019-06-01_2019-09-01.par\n"
     ]
    },
    {
     "name": "stderr",
     "output_type": "stream",
     "text": [
      "  0%|          | 0/6 [00:00<?, ?it/s].34it/s]"
     ]
    },
    {
     "name": "stdout",
     "output_type": "stream",
     "text": [
      "save to  /home/wuwenjun/Data/AlphaNet_Original_Input_10d_return_move7/Return/2021-01-01_2021-03-01.par\n",
      "save to "
     ]
    },
    {
     "name": "stderr",
     "output_type": "stream",
     "text": [
      "\r",
      "100%|██████████| 6/6 [00:00<00:00, 20.71it/s]"
     ]
    },
    {
     "name": "stdout",
     "output_type": "stream",
     "text": [
      " "
     ]
    },
    {
     "name": "stderr",
     "output_type": "stream",
     "text": [
      "\r",
      "100%|██████████| 6/6 [00:00<00:00, 20.64it/s]"
     ]
    },
    {
     "name": "stdout",
     "output_type": "stream",
     "text": [
      "/home/wuwenjun/Data/AlphaNet_Original_Input_10d_return_move7/Return/2019-09-01_2020-01-01.par"
     ]
    },
    {
     "name": "stderr",
     "output_type": "stream",
     "text": [
      "\n"
     ]
    },
    {
     "name": "stdout",
     "output_type": "stream",
     "text": [
      "\n"
     ]
    },
    {
     "name": "stderr",
     "output_type": "stream",
     "text": [
      "100%|██████████| 6/6 [00:00<00:00, 45.26it/s]\n",
      " 33%|███▎      | 2/6 [00:00<00:00, 17.86it/s]"
     ]
    },
    {
     "name": "stdout",
     "output_type": "stream",
     "text": [
      "save to  /home/wuwenjun/Data/AlphaNet_Original_Input_10d_return_move7/Return/2020-03-01_2020-06-01.par\n"
     ]
    },
    {
     "name": "stderr",
     "output_type": "stream",
     "text": [
      "100%|██████████| 6/6 [00:00<00:00, 55.77it/s]\n",
      "100%|██████████| 6/6 [00:00<00:00, 15.45it/s]\n"
     ]
    },
    {
     "name": "stdout",
     "output_type": "stream",
     "text": [
      "save to  /home/wuwenjun/Data/AlphaNet_Original_Input_10d_return_move7/Return/2020-06-01_2020-09-01.par\n"
     ]
    },
    {
     "name": "stderr",
     "output_type": "stream",
     "text": [
      "100%|██████████| 6/6 [00:00<00:00, 32.09it/s]\n",
      "100%|██████████| 6/6 [00:00<00:00, 16.70it/s]\n",
      "  0%|          | 0/6 [00:00<?, ?it/s]"
     ]
    },
    {
     "name": "stdout",
     "output_type": "stream",
     "text": [
      "save to  /home/wuwenjun/Data/AlphaNet_Original_Input_10d_return_move7/Decay/2016-01-01_2016-03-01.par\n"
     ]
    },
    {
     "name": "stderr",
     "output_type": "stream",
     "text": [
      "\r",
      "  0%|          | 0/6 [00:00<?, ?it/s]"
     ]
    },
    {
     "name": "stdout",
     "output_type": "stream",
     "text": [
      "save to  /home/wuwenjun/Data/AlphaNet_Original_Input_10d_return_move7/Decay/2015-03-01_2015-06-01.par\n"
     ]
    },
    {
     "name": "stderr",
     "output_type": "stream",
     "text": [
      "100%|██████████| 6/6 [00:00<00:00, 19.28it/s]\n",
      "100%|██████████| 6/6 [00:00<00:00, 22.71it/s]\n"
     ]
    },
    {
     "name": "stdout",
     "output_type": "stream",
     "text": [
      "save to  /home/wuwenjun/Data/AlphaNet_Original_Input_10d_return_move7/Decay/2015-06-01_2015-09-01.par\n",
      "save to  /home/wuwenjun/Data/AlphaNet_Original_Input_10d_return_move7/Return/2020-09-01_2021-01-01.par\n"
     ]
    },
    {
     "name": "stderr",
     "output_type": "stream",
     "text": [
      "\r",
      "  0%|          | 0/6 [00:00<?, ?it/s]"
     ]
    },
    {
     "name": "stdout",
     "output_type": "stream",
     "text": [
      "save to  /home/wuwenjun/Data/AlphaNet_Original_Input_10d_return_move7/Return/2021-03-01_2021-06-01.par\n"
     ]
    },
    {
     "name": "stderr",
     "output_type": "stream",
     "text": [
      "100%|██████████| 6/6 [00:00<00:00, 25.20it/s]\n",
      "100%|██████████| 6/6 [00:00<00:00,  7.92it/s]\n",
      "  0%|          | 0/6 [00:00<?, ?it/s]"
     ]
    },
    {
     "name": "stdout",
     "output_type": "stream",
     "text": [
      "save to "
     ]
    },
    {
     "name": "stderr",
     "output_type": "stream",
     "text": [
      "\r",
      " 50%|█████     | 3/6 [00:00<00:00, 24.29it/s]"
     ]
    },
    {
     "name": "stdout",
     "output_type": "stream",
     "text": [
      " /home/wuwenjun/Data/AlphaNet_Original_Input_10d_return_move7/Decay/2017-01-01_2017-03-01.par\n",
      "save to  /home/wuwenjun/Data/AlphaNet_Original_Input_10d_return_move7/Decay/2015-09-01_2016-01-01.par\n"
     ]
    },
    {
     "name": "stderr",
     "output_type": "stream",
     "text": [
      "100%|██████████| 6/6 [00:00<00:00, 34.04it/s]\n",
      "100%|██████████| 6/6 [00:00<00:00, 24.50it/s]\n"
     ]
    },
    {
     "name": "stdout",
     "output_type": "stream",
     "text": [
      "save to  /home/wuwenjun/Data/AlphaNet_Original_Input_10d_return_move7/Decay/2016-03-01_2016-06-01.par\n"
     ]
    },
    {
     "name": "stderr",
     "output_type": "stream",
     "text": [
      "100%|██████████| 6/6 [00:00<00:00, 16.32it/s]\n"
     ]
    },
    {
     "name": "stdout",
     "output_type": "stream",
     "text": [
      "save to  /home/wuwenjun/Data/AlphaNet_Original_Input_10d_return_move7/Decay/2016-06-01_2016-09-01.par\n"
     ]
    },
    {
     "name": "stderr",
     "output_type": "stream",
     "text": [
      "\r",
      "  0%|          | 0/6 [00:00<?, ?it/s]"
     ]
    },
    {
     "name": "stdout",
     "output_type": "stream",
     "text": [
      "save to  /home/wuwenjun/Data/AlphaNet_Original_Input_10d_return_move7/Decay/2018-01-01_2018-03-01.par"
     ]
    },
    {
     "name": "stderr",
     "output_type": "stream",
     "text": [
      "\r",
      " 17%|█▋        | 1/6 [00:00<00:00,  8.49it/s]"
     ]
    },
    {
     "name": "stdout",
     "output_type": "stream",
     "text": [
      "\n"
     ]
    },
    {
     "name": "stderr",
     "output_type": "stream",
     "text": [
      " 50%|█████     | 3/6 [00:00<00:00,  7.03it/s]"
     ]
    },
    {
     "name": "stdout",
     "output_type": "stream",
     "text": [
      "save to  /home/wuwenjun/Data/AlphaNet_Original_Input_10d_return_move7/Decay/2016-09-01_2017-01-01.par\n"
     ]
    },
    {
     "name": "stderr",
     "output_type": "stream",
     "text": [
      " 17%|█▋        | 1/6 [00:00<00:00,  9.18it/s]"
     ]
    },
    {
     "name": "stdout",
     "output_type": "stream",
     "text": [
      "save to  /home/wuwenjun/Data/AlphaNet_Original_Input_10d_return_move7/Decay/2017-03-01_2017-06-01.par\n"
     ]
    },
    {
     "name": "stderr",
     "output_type": "stream",
     "text": [
      "100%|██████████| 6/6 [00:00<00:00, 22.44it/s]\n",
      "100%|██████████| 6/6 [00:00<00:00,  6.97it/s]\n",
      " 83%|████████▎ | 5/6 [00:00<00:00, 16.24it/s]"
     ]
    },
    {
     "name": "stdout",
     "output_type": "stream",
     "text": [
      "save to  /home/wuwenjun/Data/AlphaNet_Original_Input_10d_return_move7/Cov/2020-09-01_2021-01-01.par\n"
     ]
    },
    {
     "name": "stderr",
     "output_type": "stream",
     "text": [
      "100%|██████████| 6/6 [00:00<00:00, 15.18it/s]\n",
      "100%|██████████| 6/6 [00:00<00:00, 14.42it/s]\n",
      " 33%|███▎      | 2/6 [00:00<00:00, 16.21it/s]"
     ]
    },
    {
     "name": "stdout",
     "output_type": "stream",
     "text": [
      "save to  /home/wuwenjun/Data/AlphaNet_Original_Input_10d_return_move7/Decay/2017-06-01_2017-09-01.par\n"
     ]
    },
    {
     "name": "stderr",
     "output_type": "stream",
     "text": [
      "100%|██████████| 6/6 [00:00<00:00, 12.48it/s]\n",
      "  0%|          | 0/6 [00:00<?, ?it/s]"
     ]
    },
    {
     "name": "stdout",
     "output_type": "stream",
     "text": [
      "save to  /home/wuwenjun/Data/AlphaNet_Original_Input_10d_return_move7/Decay/2019-01-01_2019-03-01.par\n"
     ]
    },
    {
     "name": "stderr",
     "output_type": "stream",
     "text": [
      "100%|██████████| 6/6 [00:00<00:00, 16.11it/s]\n",
      "100%|██████████| 6/6 [00:00<00:00, 32.91it/s]\n",
      "100%|██████████| 6/6 [00:00<00:00,  7.84it/s]\n"
     ]
    },
    {
     "name": "stdout",
     "output_type": "stream",
     "text": [
      "save to  /home/wuwenjun/Data/AlphaNet_Original_Input_10d_return_move7/Decay/2018-06-01_2018-09-01.par\n"
     ]
    },
    {
     "name": "stderr",
     "output_type": "stream",
     "text": [
      "\r",
      "  0%|          | 0/6 [00:00<?, ?it/s]"
     ]
    },
    {
     "name": "stdout",
     "output_type": "stream",
     "text": [
      "save to  /home/wuwenjun/Data/AlphaNet_Original_Input_10d_return_move7/Decay/2017-09-01_2018-01-01.par\n",
      "save to  /home/wuwenjun/Data/AlphaNet_Original_Input_10d_return_move7/Decay/2018-03-01_2018-06-01.par\n"
     ]
    },
    {
     "name": "stderr",
     "output_type": "stream",
     "text": [
      "100%|██████████| 6/6 [00:00<00:00, 14.35it/s]\n",
      "100%|██████████| 6/6 [00:00<00:00, 10.52it/s]\n"
     ]
    },
    {
     "name": "stdout",
     "output_type": "stream",
     "text": [
      "save to  /home/wuwenjun/Data/AlphaNet_Original_Input_10d_return_move7/Decay/2018-09-01_2019-01-01.par\n"
     ]
    },
    {
     "name": "stderr",
     "output_type": "stream",
     "text": [
      "\r",
      "  0%|          | 0/6 [00:00<?, ?it/s]"
     ]
    },
    {
     "name": "stdout",
     "output_type": "stream",
     "text": [
      "save to  /home/wuwenjun/Data/AlphaNet_Original_Input_10d_return_move7/Decay/2020-01-01_2020-03-01.par\n",
      "save to  /home/wuwenjun/Data/AlphaNet_Original_Input_10d_return_move7/Decay/2019-03-01_2019-06-01.par\n"
     ]
    },
    {
     "name": "stderr",
     "output_type": "stream",
     "text": [
      "100%|██████████| 6/6 [00:00<00:00, 19.32it/s]\n",
      "100%|██████████| 6/6 [00:00<00:00, 33.11it/s]\n"
     ]
    },
    {
     "name": "stdout",
     "output_type": "stream",
     "text": [
      "save to  /home/wuwenjun/Data/AlphaNet_Original_Input_10d_return_move7/Decay/2019-06-01_2019-09-01.par\n"
     ]
    },
    {
     "name": "stderr",
     "output_type": "stream",
     "text": [
      "\r",
      "  0%|          | 0/6 [00:00<?, ?it/s]"
     ]
    },
    {
     "name": "stdout",
     "output_type": "stream",
     "text": [
      "save to  /home/wuwenjun/Data/AlphaNet_Original_Input_10d_return_move7/Decay/2020-03-01_2020-06-01.par\n",
      "save to  /home/wuwenjun/Data/AlphaNet_Original_Input_10d_return_move7/Decay/2019-09-01_2020-01-01.par\n"
     ]
    },
    {
     "name": "stderr",
     "output_type": "stream",
     "text": [
      " 50%|█████     | 3/6 [00:00<00:00,  7.33it/s]"
     ]
    },
    {
     "name": "stdout",
     "output_type": "stream",
     "text": [
      "save to  /home/wuwenjun/Data/AlphaNet_Original_Input_10d_return_move7/Decay/2021-01-01_2021-03-01.par\n"
     ]
    },
    {
     "name": "stderr",
     "output_type": "stream",
     "text": [
      "\r",
      " 67%|██████▋   | 4/6 [00:00<00:00,  7.69it/s]"
     ]
    },
    {
     "name": "stdout",
     "output_type": "stream",
     "text": [
      "save to  /home/wuwenjun/Data/AlphaNet_Original_Input_10d_return_move7/Decay/2020-06-01_2020-09-01.par\n"
     ]
    },
    {
     "name": "stderr",
     "output_type": "stream",
     "text": [
      "100%|██████████| 6/6 [00:00<00:00,  7.66it/s]\n",
      "100%|██████████| 6/6 [00:00<00:00,  9.01it/s]\n"
     ]
    },
    {
     "name": "stdout",
     "output_type": "stream",
     "text": [
      "save to  /home/wuwenjun/Data/AlphaNet_Original_Input_10d_return_move7/Decay/2021-03-01_2021-06-01.par\n",
      "save to  /home/wuwenjun/Data/AlphaNet_Original_Input_10d_return_move7/Decay/2020-09-01_2021-01-01.par\n",
      "并行执行时间： 154\n"
     ]
    }
   ],
   "source": [
    "pool = mp.Pool(10)\n",
    "t1 = time.time()\n",
    "dir_list = ['Cov','Std','Zscore','Return','Decay']\n",
    "for i in dir_list:\n",
    "    for alpha in path_list:\n",
    "        output = path + i + \"/\" \n",
    "        pool.apply_async(test, args=(data_path,alpha,output,i))   #维持执行的进程总数为10，当一个进程执行完后启动一个新进程.\n",
    "pool.close()\n",
    "pool.join()\n",
    "t2 = time.time()\n",
    "print(\"并行执行时间：\", int(t2 - t1))"
   ]
  },
  {
   "cell_type": "code",
   "execution_count": 19,
   "id": "46f76e77",
   "metadata": {
    "ExecuteTime": {
     "end_time": "2022-01-13T08:02:48.307903Z",
     "start_time": "2022-01-13T08:00:55.142753Z"
    }
   },
   "outputs": [
    {
     "name": "stderr",
     "output_type": "stream",
     "text": [
      "100%|██████████| 6/6 [00:01<00:00,  4.09it/s]\n",
      "  0%|          | 0/6 [00:00<?, ?it/s]"
     ]
    },
    {
     "name": "stdout",
     "output_type": "stream",
     "text": [
      "save to  /home/wuwenjun/Data/AlphaNet_Original_Input_10d_return_move7/Corr/2015-01-01_2015-03-01.par\n"
     ]
    },
    {
     "name": "stderr",
     "output_type": "stream",
     "text": [
      "100%|██████████| 6/6 [00:11<00:00,  1.97s/it]\n",
      "100%|██████████| 6/6 [00:12<00:00,  2.08s/it]\n",
      " 67%|██████▋   | 4/6 [00:13<00:06,  3.46s/it]"
     ]
    },
    {
     "name": "stdout",
     "output_type": "stream",
     "text": [
      "save to  /home/wuwenjun/Data/AlphaNet_Original_Input_10d_return_move7/Corr/2016-01-01_2016-03-01.par\n"
     ]
    },
    {
     "name": "stderr",
     "output_type": "stream",
     "text": [
      " 67%|██████▋   | 4/6 [00:15<00:08,  4.08s/it]"
     ]
    },
    {
     "name": "stdout",
     "output_type": "stream",
     "text": [
      "save to  /home/wuwenjun/Data/AlphaNet_Original_Input_10d_return_move7/Corr/2017-01-01_2017-03-01.par\n"
     ]
    },
    {
     "name": "stderr",
     "output_type": "stream",
     "text": [
      "100%|██████████| 6/6 [00:19<00:00,  3.30s/it]\n",
      "100%|██████████| 6/6 [00:22<00:00,  3.69s/it]\n",
      "100%|██████████| 6/6 [00:22<00:00,  3.79s/it]\n",
      "100%|██████████| 6/6 [00:23<00:00,  3.89s/it]\n",
      "100%|██████████| 6/6 [00:23<00:00,  3.99s/it]\n",
      " 67%|██████▋   | 4/6 [00:10<00:05,  2.59s/it]"
     ]
    },
    {
     "name": "stdout",
     "output_type": "stream",
     "text": [
      "save to  /home/wuwenjun/Data/AlphaNet_Original_Input_10d_return_move7/Corr/2015-03-01_2015-06-01.par\n"
     ]
    },
    {
     "name": "stderr",
     "output_type": "stream",
     "text": [
      "100%|██████████| 6/6 [00:28<00:00,  4.72s/it]\n",
      "100%|██████████| 6/6 [00:29<00:00,  4.95s/it]\n"
     ]
    },
    {
     "name": "stdout",
     "output_type": "stream",
     "text": [
      "save to  /home/wuwenjun/Data/AlphaNet_Original_Input_10d_return_move7/Corr/2017-03-01_2017-06-01.par\n"
     ]
    },
    {
     "name": "stderr",
     "output_type": "stream",
     "text": [
      "\r",
      " 33%|███▎      | 2/6 [00:13<00:27,  6.81s/it]"
     ]
    },
    {
     "name": "stdout",
     "output_type": "stream",
     "text": [
      "save to  /home/wuwenjun/Data/AlphaNet_Original_Input_10d_return_move7/Corr/2015-06-01_2015-09-01.par\n",
      "save to  /home/wuwenjun/Data/AlphaNet_Original_Input_10d_return_move7/Corr/2016-06-01_2016-09-01.par\n"
     ]
    },
    {
     "name": "stderr",
     "output_type": "stream",
     "text": [
      "100%|██████████| 6/6 [00:15<00:00,  2.55s/it]\n",
      "100%|██████████| 6/6 [00:30<00:00,  5.04s/it]\n",
      "  0%|          | 0/6 [00:00<?, ?it/s]"
     ]
    },
    {
     "name": "stdout",
     "output_type": "stream",
     "text": [
      "save to  /home/wuwenjun/Data/AlphaNet_Original_Input_10d_return_move7/Corr/2016-03-01_2016-06-01.par\n"
     ]
    },
    {
     "name": "stderr",
     "output_type": "stream",
     "text": [
      " 50%|█████     | 3/6 [00:19<00:19,  6.43s/it]"
     ]
    },
    {
     "name": "stdout",
     "output_type": "stream",
     "text": [
      "save to  /home/wuwenjun/Data/AlphaNet_Original_Input_10d_return_move7/Corr/2018-01-01_2018-03-01.par\n"
     ]
    },
    {
     "name": "stderr",
     "output_type": "stream",
     "text": [
      " 33%|███▎      | 2/6 [00:08<00:17,  4.31s/it]"
     ]
    },
    {
     "name": "stdout",
     "output_type": "stream",
     "text": [
      "save to  /home/wuwenjun/Data/AlphaNet_Original_Input_10d_return_move7/Corr/2015-09-01_2016-01-01.par\n"
     ]
    },
    {
     "name": "stderr",
     "output_type": "stream",
     "text": [
      " 17%|█▋        | 1/6 [00:04<00:20,  4.07s/it]"
     ]
    },
    {
     "name": "stdout",
     "output_type": "stream",
     "text": [
      "save to  /home/wuwenjun/Data/AlphaNet_Original_Input_10d_return_move7/Corr/2016-09-01_2017-01-01.par\n"
     ]
    },
    {
     "name": "stderr",
     "output_type": "stream",
     "text": [
      " 33%|███▎      | 2/6 [00:08<00:16,  4.24s/it]"
     ]
    },
    {
     "name": "stdout",
     "output_type": "stream",
     "text": [
      "save to  /home/wuwenjun/Data/AlphaNet_Original_Input_10d_return_move7/Corr/2017-06-01_2017-09-01.par\n"
     ]
    },
    {
     "name": "stderr",
     "output_type": "stream",
     "text": [
      "100%|██████████| 6/6 [00:15<00:00,  2.57s/it]\n",
      " 83%|████████▎ | 5/6 [00:21<00:04,  4.28s/it]"
     ]
    },
    {
     "name": "stdout",
     "output_type": "stream",
     "text": [
      "save to  /home/wuwenjun/Data/AlphaNet_Original_Input_10d_return_move7/Corr/2019-01-01_2019-03-01.par\n"
     ]
    },
    {
     "name": "stderr",
     "output_type": "stream",
     "text": [
      "100%|██████████| 6/6 [00:37<00:00,  6.23s/it]\n",
      "100%|██████████| 6/6 [00:25<00:00,  4.28s/it]\n",
      "100%|██████████| 6/6 [00:15<00:00,  2.63s/it]\n",
      "100%|██████████| 6/6 [00:25<00:00,  4.26s/it]\n",
      "100%|██████████| 6/6 [00:27<00:00,  4.55s/it]\n"
     ]
    },
    {
     "name": "stdout",
     "output_type": "stream",
     "text": [
      "save to  /home/wuwenjun/Data/AlphaNet_Original_Input_10d_return_move7/Corr/2020-01-01_2020-03-01.par\n",
      "save to  /home/wuwenjun/Data/AlphaNet_Original_Input_10d_return_move7/Corr/2018-03-01_2018-06-01.par\n"
     ]
    },
    {
     "name": "stderr",
     "output_type": "stream",
     "text": [
      "  0%|          | 0/6 [00:00<?, ?it/s].90s/it]"
     ]
    },
    {
     "name": "stdout",
     "output_type": "stream",
     "text": [
      "save to  /home/wuwenjun/Data/AlphaNet_Original_Input_10d_return_move7/Corr/2017-09-01_2018-01-01.par\n"
     ]
    },
    {
     "name": "stderr",
     "output_type": "stream",
     "text": [
      "100%|██████████| 6/6 [00:27<00:00,  4.62s/it]\n"
     ]
    },
    {
     "name": "stdout",
     "output_type": "stream",
     "text": [
      "save to  /home/wuwenjun/Data/AlphaNet_Original_Input_10d_return_move7/Corr/2018-06-01_2018-09-01.par\n"
     ]
    },
    {
     "name": "stderr",
     "output_type": "stream",
     "text": [
      "100%|██████████| 6/6 [00:33<00:00,  5.59s/it]\n",
      " 50%|█████     | 3/6 [00:14<00:14,  4.78s/it]"
     ]
    },
    {
     "name": "stdout",
     "output_type": "stream",
     "text": [
      "save to  /home/wuwenjun/Data/AlphaNet_Original_Input_10d_return_move7/Corr/2019-03-01_2019-06-01.par\n"
     ]
    },
    {
     "name": "stderr",
     "output_type": "stream",
     "text": [
      "100%|██████████| 6/6 [00:28<00:00,  4.81s/it]\n",
      " 50%|█████     | 3/6 [00:07<00:07,  2.48s/it]"
     ]
    },
    {
     "name": "stdout",
     "output_type": "stream",
     "text": [
      "save to  /home/wuwenjun/Data/AlphaNet_Original_Input_10d_return_move7/Corr/2019-06-01_2019-09-01.par\n"
     ]
    },
    {
     "name": "stderr",
     "output_type": "stream",
     "text": [
      "100%|██████████| 6/6 [00:34<00:00,  5.81s/it]\n",
      " 67%|██████▋   | 4/6 [00:18<00:09,  4.71s/it]"
     ]
    },
    {
     "name": "stdout",
     "output_type": "stream",
     "text": [
      "save to  /home/wuwenjun/Data/AlphaNet_Original_Input_10d_return_move7/Corr/2018-09-01_2019-01-01.par\n"
     ]
    },
    {
     "name": "stderr",
     "output_type": "stream",
     "text": [
      "100%|██████████| 6/6 [00:15<00:00,  2.57s/it]\n"
     ]
    },
    {
     "name": "stdout",
     "output_type": "stream",
     "text": [
      "save to  /home/wuwenjun/Data/AlphaNet_Original_Input_10d_return_move7/Corr/2020-03-01_2020-06-01.par\n"
     ]
    },
    {
     "name": "stderr",
     "output_type": "stream",
     "text": [
      " 50%|█████     | 3/6 [00:18<00:18,  6.23s/it]"
     ]
    },
    {
     "name": "stdout",
     "output_type": "stream",
     "text": [
      "save to  /home/wuwenjun/Data/AlphaNet_Original_Input_10d_return_move7/Corr/2019-09-01_2020-01-01.par\n"
     ]
    },
    {
     "name": "stderr",
     "output_type": "stream",
     "text": [
      "100%|██████████| 6/6 [00:28<00:00,  4.75s/it]\n",
      " 67%|██████▋   | 4/6 [00:19<00:09,  4.98s/it]"
     ]
    },
    {
     "name": "stdout",
     "output_type": "stream",
     "text": [
      "save to  /home/wuwenjun/Data/AlphaNet_Original_Input_10d_return_move7/Corr/2021-01-01_2021-03-01.par\n"
     ]
    },
    {
     "name": "stderr",
     "output_type": "stream",
     "text": [
      " 83%|████████▎ | 5/6 [00:24<00:04,  4.94s/it]"
     ]
    },
    {
     "name": "stdout",
     "output_type": "stream",
     "text": [
      "save to  /home/wuwenjun/Data/AlphaNet_Original_Input_10d_return_move7/Corr/2020-06-01_2020-09-01.par\n"
     ]
    },
    {
     "name": "stderr",
     "output_type": "stream",
     "text": [
      "100%|██████████| 6/6 [00:29<00:00,  4.86s/it]\n",
      "100%|██████████| 6/6 [00:36<00:00,  6.02s/it]\n"
     ]
    },
    {
     "name": "stdout",
     "output_type": "stream",
     "text": [
      "save to  /home/wuwenjun/Data/AlphaNet_Original_Input_10d_return_move7/Corr/2021-03-01_2021-06-01.par\n",
      "save to  /home/wuwenjun/Data/AlphaNet_Original_Input_10d_return_move7/Corr/2020-09-01_2021-01-01.par\n",
      "并行执行时间： 113\n"
     ]
    }
   ],
   "source": [
    "t1 = time.time()\n",
    "pool = mp.Pool(10)\n",
    "for alpha in path_list:\n",
    "    output = path + \"Corr\" + \"/\" \n",
    "#     test(data_path,alpha,output,\"Corr\")\n",
    "    pool.apply_async(test, args=(data_path,alpha,output,\"Corr\"))   #维持执行的进程总数为10，当一个进程执行完后启动一个新进程.\n",
    "pool.close()\n",
    "pool.join()\n",
    "t2 = time.time()\n",
    "print(\"并行执行时间：\", int(t2 - t1))"
   ]
  },
  {
   "cell_type": "markdown",
   "id": "6b909fe4",
   "metadata": {},
   "source": [
    "# Feat Concat ( Save to Feat_Concat file)"
   ]
  },
  {
   "cell_type": "code",
   "execution_count": 32,
   "id": "19fc138e",
   "metadata": {
    "ExecuteTime": {
     "end_time": "2022-01-13T05:38:18.525914Z",
     "start_time": "2022-01-13T05:38:18.521973Z"
    }
   },
   "outputs": [],
   "source": [
    "os.mkdir(path+\"Feat_Concat\")"
   ]
  },
  {
   "cell_type": "code",
   "execution_count": 3,
   "id": "95b53231",
   "metadata": {
    "ExecuteTime": {
     "end_time": "2022-01-13T08:13:56.818793Z",
     "start_time": "2022-01-13T08:13:56.789750Z"
    }
   },
   "outputs": [
    {
     "name": "stderr",
     "output_type": "stream",
     "text": [
      "100%|██████████| 26/26 [00:00<00:00, 32417.33it/s]\n"
     ]
    },
    {
     "data": {
      "text/plain": [
       "['2015-01-01_2015-03-01.par',\n",
       " '2015-03-01_2015-06-01.par',\n",
       " '2015-06-01_2015-09-01.par',\n",
       " '2015-09-01_2016-01-01.par',\n",
       " '2016-01-01_2016-03-01.par',\n",
       " '2016-03-01_2016-06-01.par',\n",
       " '2016-06-01_2016-09-01.par',\n",
       " '2016-09-01_2017-01-01.par',\n",
       " '2017-01-01_2017-03-01.par',\n",
       " '2017-03-01_2017-06-01.par',\n",
       " '2017-06-01_2017-09-01.par',\n",
       " '2017-09-01_2018-01-01.par',\n",
       " '2018-01-01_2018-03-01.par',\n",
       " '2018-03-01_2018-06-01.par',\n",
       " '2018-06-01_2018-09-01.par',\n",
       " '2018-09-01_2019-01-01.par',\n",
       " '2019-01-01_2019-03-01.par',\n",
       " '2019-03-01_2019-06-01.par',\n",
       " '2019-06-01_2019-09-01.par',\n",
       " '2019-09-01_2020-01-01.par',\n",
       " '2020-01-01_2020-03-01.par',\n",
       " '2020-03-01_2020-06-01.par',\n",
       " '2020-06-01_2020-09-01.par',\n",
       " '2020-09-01_2021-01-01.par',\n",
       " '2021-01-01_2021-03-01.par',\n",
       " '2021-03-01_2021-06-01.par']"
      ]
     },
     "execution_count": 3,
     "metadata": {},
     "output_type": "execute_result"
    }
   ],
   "source": [
    "path_list = []\n",
    "data_path = path + \"Data/\"\n",
    "dataframe_list = pd.DataFrame()\n",
    "for f, _, i in walk(data_path):\n",
    "    for j in tqdm(i):\n",
    "        path_list.append(j)\n",
    "path_list.sort()\n",
    "path_list"
   ]
  },
  {
   "cell_type": "code",
   "execution_count": 21,
   "id": "3facd026",
   "metadata": {
    "ExecuteTime": {
     "end_time": "2022-01-13T08:02:57.119746Z",
     "start_time": "2022-01-13T08:02:57.115452Z"
    }
   },
   "outputs": [],
   "source": [
    "def test(alpha,dir_list):\n",
    "    feat_cat = []\n",
    "    for i in dir_list:\n",
    "        feat_cat.append(pd.read_parquet(path + i + \"/\" + alpha).set_index(['timestamp','ticker']))\n",
    "    feat_cat = pd.concat(feat_cat,axis=1)\n",
    "    feat_cat.columns = [str(i) for i in range(feat_cat.shape[1])]\n",
    "    feat_cat.reset_index().to_parquet(path+\"Feat_Concat/\"+alpha)\n",
    "    print(path+\"Feat_Concat/\"+alpha)\n",
    "    return None"
   ]
  },
  {
   "cell_type": "code",
   "execution_count": 22,
   "id": "2572c832",
   "metadata": {
    "ExecuteTime": {
     "end_time": "2022-01-13T08:04:07.084484Z",
     "start_time": "2022-01-13T08:02:57.707532Z"
    }
   },
   "outputs": [
    {
     "name": "stderr",
     "output_type": "stream",
     "text": [
      "100%|██████████| 26/26 [00:00<00:00, 64148.18it/s]\n"
     ]
    },
    {
     "name": "stdout",
     "output_type": "stream",
     "text": [
      "/home/wuwenjun/Data/AlphaNet_Original_Input_10d_return_move7/Feat_Concat/2015-01-01_2015-03-01.par\n",
      "/home/wuwenjun/Data/AlphaNet_Original_Input_10d_return_move7/Feat_Concat/2017-01-01_2017-03-01.par\n",
      "/home/wuwenjun/Data/AlphaNet_Original_Input_10d_return_move7/Feat_Concat/2016-01-01_2016-03-01.par\n",
      "/home/wuwenjun/Data/AlphaNet_Original_Input_10d_return_move7/Feat_Concat/2018-01-01_2018-03-01.par\n",
      "/home/wuwenjun/Data/AlphaNet_Original_Input_10d_return_move7/Feat_Concat/2017-03-01_2017-06-01.par\n",
      "/home/wuwenjun/Data/AlphaNet_Original_Input_10d_return_move7/Feat_Concat/2015-03-01_2015-06-01.par\n",
      "/home/wuwenjun/Data/AlphaNet_Original_Input_10d_return_move7/Feat_Concat/2015-06-01_2015-09-01.par\n",
      "/home/wuwenjun/Data/AlphaNet_Original_Input_10d_return_move7/Feat_Concat/2016-03-01_2016-06-01.par\n",
      "/home/wuwenjun/Data/AlphaNet_Original_Input_10d_return_move7/Feat_Concat/2016-06-01_2016-09-01.par\n",
      "/home/wuwenjun/Data/AlphaNet_Original_Input_10d_return_move7/Feat_Concat/2015-09-01_2016-01-01.par\n",
      "/home/wuwenjun/Data/AlphaNet_Original_Input_10d_return_move7/Feat_Concat/2017-06-01_2017-09-01.par\n",
      "/home/wuwenjun/Data/AlphaNet_Original_Input_10d_return_move7/Feat_Concat/2016-09-01_2017-01-01.par\n",
      "/home/wuwenjun/Data/AlphaNet_Original_Input_10d_return_move7/Feat_Concat/2017-09-01_2018-01-01.par\n",
      "/home/wuwenjun/Data/AlphaNet_Original_Input_10d_return_move7/Feat_Concat/2019-01-01_2019-03-01.par\n",
      "/home/wuwenjun/Data/AlphaNet_Original_Input_10d_return_move7/Feat_Concat/2018-03-01_2018-06-01.par\n",
      "/home/wuwenjun/Data/AlphaNet_Original_Input_10d_return_move7/Feat_Concat/2018-06-01_2018-09-01.par\n",
      "/home/wuwenjun/Data/AlphaNet_Original_Input_10d_return_move7/Feat_Concat/2019-03-01_2019-06-01.par\n",
      "/home/wuwenjun/Data/AlphaNet_Original_Input_10d_return_move7/Feat_Concat/2018-09-01_2019-01-01.par\n",
      "/home/wuwenjun/Data/AlphaNet_Original_Input_10d_return_move7/Feat_Concat/2019-06-01_2019-09-01.par\n",
      "/home/wuwenjun/Data/AlphaNet_Original_Input_10d_return_move7/Feat_Concat/2020-01-01_2020-03-01.par\n",
      "/home/wuwenjun/Data/AlphaNet_Original_Input_10d_return_move7/Feat_Concat/2021-01-01_2021-03-01.par\n",
      "/home/wuwenjun/Data/AlphaNet_Original_Input_10d_return_move7/Feat_Concat/2020-03-01_2020-06-01.par\n",
      "/home/wuwenjun/Data/AlphaNet_Original_Input_10d_return_move7/Feat_Concat/2020-06-01_2020-09-01.par\n",
      "/home/wuwenjun/Data/AlphaNet_Original_Input_10d_return_move7/Feat_Concat/2019-09-01_2020-01-01.par\n",
      "/home/wuwenjun/Data/AlphaNet_Original_Input_10d_return_move7/Feat_Concat/2020-09-01_2021-01-01.par\n",
      "/home/wuwenjun/Data/AlphaNet_Original_Input_10d_return_move7/Feat_Concat/2021-03-01_2021-06-01.par\n",
      "并行执行时间： 69\n"
     ]
    }
   ],
   "source": [
    "pool = mp.Pool(10)\n",
    "t1 = time.time()\n",
    "dir_list = ['Cov','Corr','Std','Zscore','Return','Decay']\n",
    "final = []\n",
    "for alpha in tqdm(path_list):\n",
    "#     test(alpha,dir_list)\n",
    "    pool.apply_async(test, args=(alpha,dir_list))   #维持执行的进程总数为10，当一个进程执行完后启动一个新进程.\n",
    "pool.close()\n",
    "pool.join()\n",
    "t2 = time.time()\n",
    "print(\"并行执行时间：\", int(t2 - t1))"
   ]
  },
  {
   "cell_type": "code",
   "execution_count": 4,
   "id": "d39390bd",
   "metadata": {
    "ExecuteTime": {
     "end_time": "2022-01-13T08:14:17.343118Z",
     "start_time": "2022-01-13T08:14:16.184697Z"
    },
    "scrolled": true
   },
   "outputs": [
    {
     "data": {
      "text/html": [
       "<div>\n",
       "<style scoped>\n",
       "    .dataframe tbody tr th:only-of-type {\n",
       "        vertical-align: middle;\n",
       "    }\n",
       "\n",
       "    .dataframe tbody tr th {\n",
       "        vertical-align: top;\n",
       "    }\n",
       "\n",
       "    .dataframe thead th {\n",
       "        text-align: right;\n",
       "    }\n",
       "</style>\n",
       "<table border=\"1\" class=\"dataframe\">\n",
       "  <thead>\n",
       "    <tr style=\"text-align: right;\">\n",
       "      <th></th>\n",
       "      <th>timestamp</th>\n",
       "      <th>ticker</th>\n",
       "      <th>0</th>\n",
       "      <th>1</th>\n",
       "      <th>2</th>\n",
       "      <th>3</th>\n",
       "      <th>4</th>\n",
       "      <th>5</th>\n",
       "      <th>6</th>\n",
       "      <th>7</th>\n",
       "      <th>...</th>\n",
       "      <th>638</th>\n",
       "      <th>639</th>\n",
       "      <th>640</th>\n",
       "      <th>641</th>\n",
       "      <th>642</th>\n",
       "      <th>643</th>\n",
       "      <th>644</th>\n",
       "      <th>645</th>\n",
       "      <th>646</th>\n",
       "      <th>647</th>\n",
       "    </tr>\n",
       "  </thead>\n",
       "  <tbody>\n",
       "    <tr>\n",
       "      <th>0</th>\n",
       "      <td>2015-03-02 09:30:00</td>\n",
       "      <td>1</td>\n",
       "      <td>1356.684188</td>\n",
       "      <td>84.211645</td>\n",
       "      <td>305.934957</td>\n",
       "      <td>345.439695</td>\n",
       "      <td>157.255464</td>\n",
       "      <td>32.632962</td>\n",
       "      <td>1487.980910</td>\n",
       "      <td>277.481167</td>\n",
       "      <td>...</td>\n",
       "      <td>0.999382</td>\n",
       "      <td>1.038779</td>\n",
       "      <td>0.727014</td>\n",
       "      <td>0.793861</td>\n",
       "      <td>3.094361</td>\n",
       "      <td>2.806043</td>\n",
       "      <td>1.981571</td>\n",
       "      <td>2.059679</td>\n",
       "      <td>1.441482</td>\n",
       "      <td>1.574039</td>\n",
       "    </tr>\n",
       "    <tr>\n",
       "      <th>1</th>\n",
       "      <td>2015-03-03 09:30:00</td>\n",
       "      <td>1</td>\n",
       "      <td>1514.645083</td>\n",
       "      <td>132.414417</td>\n",
       "      <td>185.943348</td>\n",
       "      <td>320.944007</td>\n",
       "      <td>102.432443</td>\n",
       "      <td>2.643398</td>\n",
       "      <td>1821.394529</td>\n",
       "      <td>297.463117</td>\n",
       "      <td>...</td>\n",
       "      <td>0.938532</td>\n",
       "      <td>0.919450</td>\n",
       "      <td>0.687725</td>\n",
       "      <td>0.860550</td>\n",
       "      <td>3.348075</td>\n",
       "      <td>2.662504</td>\n",
       "      <td>1.860929</td>\n",
       "      <td>1.823046</td>\n",
       "      <td>1.363564</td>\n",
       "      <td>1.706282</td>\n",
       "    </tr>\n",
       "    <tr>\n",
       "      <th>2</th>\n",
       "      <td>2015-03-04 09:30:00</td>\n",
       "      <td>1</td>\n",
       "      <td>1547.077226</td>\n",
       "      <td>148.908424</td>\n",
       "      <td>194.353805</td>\n",
       "      <td>323.140950</td>\n",
       "      <td>39.377121</td>\n",
       "      <td>5.164912</td>\n",
       "      <td>1787.884374</td>\n",
       "      <td>249.472157</td>\n",
       "      <td>...</td>\n",
       "      <td>1.167886</td>\n",
       "      <td>0.825050</td>\n",
       "      <td>0.775739</td>\n",
       "      <td>0.922700</td>\n",
       "      <td>3.228461</td>\n",
       "      <td>2.470561</td>\n",
       "      <td>2.315682</td>\n",
       "      <td>1.635886</td>\n",
       "      <td>1.538075</td>\n",
       "      <td>1.829504</td>\n",
       "    </tr>\n",
       "    <tr>\n",
       "      <th>3</th>\n",
       "      <td>2015-03-05 09:30:00</td>\n",
       "      <td>1</td>\n",
       "      <td>1432.151831</td>\n",
       "      <td>244.562864</td>\n",
       "      <td>218.119383</td>\n",
       "      <td>336.025436</td>\n",
       "      <td>32.632962</td>\n",
       "      <td>96.370376</td>\n",
       "      <td>1643.154864</td>\n",
       "      <td>238.639079</td>\n",
       "      <td>...</td>\n",
       "      <td>1.151889</td>\n",
       "      <td>0.811546</td>\n",
       "      <td>0.793861</td>\n",
       "      <td>0.916464</td>\n",
       "      <td>3.180207</td>\n",
       "      <td>2.269082</td>\n",
       "      <td>2.283971</td>\n",
       "      <td>1.609096</td>\n",
       "      <td>1.574039</td>\n",
       "      <td>1.817136</td>\n",
       "    </tr>\n",
       "    <tr>\n",
       "      <th>4</th>\n",
       "      <td>2015-03-06 09:30:00</td>\n",
       "      <td>1</td>\n",
       "      <td>1153.484800</td>\n",
       "      <td>400.814012</td>\n",
       "      <td>319.736495</td>\n",
       "      <td>122.652576</td>\n",
       "      <td>2.643398</td>\n",
       "      <td>240.646655</td>\n",
       "      <td>1415.693550</td>\n",
       "      <td>344.222212</td>\n",
       "      <td>...</td>\n",
       "      <td>1.122236</td>\n",
       "      <td>0.752807</td>\n",
       "      <td>0.860550</td>\n",
       "      <td>0.910300</td>\n",
       "      <td>2.915457</td>\n",
       "      <td>2.105493</td>\n",
       "      <td>2.225161</td>\n",
       "      <td>1.492614</td>\n",
       "      <td>1.706282</td>\n",
       "      <td>1.804893</td>\n",
       "    </tr>\n",
       "    <tr>\n",
       "      <th>...</th>\n",
       "      <td>...</td>\n",
       "      <td>...</td>\n",
       "      <td>...</td>\n",
       "      <td>...</td>\n",
       "      <td>...</td>\n",
       "      <td>...</td>\n",
       "      <td>...</td>\n",
       "      <td>...</td>\n",
       "      <td>...</td>\n",
       "      <td>...</td>\n",
       "      <td>...</td>\n",
       "      <td>...</td>\n",
       "      <td>...</td>\n",
       "      <td>...</td>\n",
       "      <td>...</td>\n",
       "      <td>...</td>\n",
       "      <td>...</td>\n",
       "      <td>...</td>\n",
       "      <td>...</td>\n",
       "      <td>...</td>\n",
       "      <td>...</td>\n",
       "    </tr>\n",
       "    <tr>\n",
       "      <th>165502</th>\n",
       "      <td>2015-05-25 09:30:00</td>\n",
       "      <td>603998</td>\n",
       "      <td>2.240274</td>\n",
       "      <td>1.463490</td>\n",
       "      <td>0.941517</td>\n",
       "      <td>6.271476</td>\n",
       "      <td>12.625167</td>\n",
       "      <td>7.032436</td>\n",
       "      <td>2.404124</td>\n",
       "      <td>2.528236</td>\n",
       "      <td>...</td>\n",
       "      <td>6.254932</td>\n",
       "      <td>10.096500</td>\n",
       "      <td>10.915346</td>\n",
       "      <td>9.235907</td>\n",
       "      <td>9.053157</td>\n",
       "      <td>7.218514</td>\n",
       "      <td>6.254932</td>\n",
       "      <td>10.096500</td>\n",
       "      <td>10.915346</td>\n",
       "      <td>9.235907</td>\n",
       "    </tr>\n",
       "    <tr>\n",
       "      <th>165503</th>\n",
       "      <td>2015-05-26 09:30:00</td>\n",
       "      <td>603998</td>\n",
       "      <td>3.911567</td>\n",
       "      <td>1.426376</td>\n",
       "      <td>1.217305</td>\n",
       "      <td>10.111400</td>\n",
       "      <td>12.001419</td>\n",
       "      <td>7.462433</td>\n",
       "      <td>3.419871</td>\n",
       "      <td>2.453850</td>\n",
       "      <td>...</td>\n",
       "      <td>5.706407</td>\n",
       "      <td>10.369582</td>\n",
       "      <td>9.786796</td>\n",
       "      <td>9.790382</td>\n",
       "      <td>7.787754</td>\n",
       "      <td>7.244864</td>\n",
       "      <td>5.706407</td>\n",
       "      <td>10.369582</td>\n",
       "      <td>9.786796</td>\n",
       "      <td>9.790382</td>\n",
       "    </tr>\n",
       "    <tr>\n",
       "      <th>165504</th>\n",
       "      <td>2015-05-27 09:30:00</td>\n",
       "      <td>603998</td>\n",
       "      <td>3.276300</td>\n",
       "      <td>1.792205</td>\n",
       "      <td>1.812945</td>\n",
       "      <td>11.865157</td>\n",
       "      <td>9.035579</td>\n",
       "      <td>23.512514</td>\n",
       "      <td>3.126076</td>\n",
       "      <td>2.650729</td>\n",
       "      <td>...</td>\n",
       "      <td>7.431554</td>\n",
       "      <td>10.883589</td>\n",
       "      <td>9.457114</td>\n",
       "      <td>10.488761</td>\n",
       "      <td>7.984779</td>\n",
       "      <td>7.784643</td>\n",
       "      <td>7.431554</td>\n",
       "      <td>10.883589</td>\n",
       "      <td>9.457114</td>\n",
       "      <td>10.488761</td>\n",
       "    </tr>\n",
       "    <tr>\n",
       "      <th>165505</th>\n",
       "      <td>2015-05-28 09:30:00</td>\n",
       "      <td>603998</td>\n",
       "      <td>1.714350</td>\n",
       "      <td>0.550348</td>\n",
       "      <td>1.657655</td>\n",
       "      <td>9.549179</td>\n",
       "      <td>7.032436</td>\n",
       "      <td>41.609586</td>\n",
       "      <td>2.186367</td>\n",
       "      <td>1.247900</td>\n",
       "      <td>...</td>\n",
       "      <td>7.926150</td>\n",
       "      <td>10.518246</td>\n",
       "      <td>9.235907</td>\n",
       "      <td>10.388107</td>\n",
       "      <td>7.898525</td>\n",
       "      <td>7.845754</td>\n",
       "      <td>7.926150</td>\n",
       "      <td>10.518246</td>\n",
       "      <td>9.235907</td>\n",
       "      <td>10.388107</td>\n",
       "    </tr>\n",
       "    <tr>\n",
       "      <th>165506</th>\n",
       "      <td>2015-05-29 09:30:00</td>\n",
       "      <td>603998</td>\n",
       "      <td>1.454136</td>\n",
       "      <td>0.781148</td>\n",
       "      <td>2.559667</td>\n",
       "      <td>10.041974</td>\n",
       "      <td>7.462433</td>\n",
       "      <td>67.279283</td>\n",
       "      <td>2.789950</td>\n",
       "      <td>0.412871</td>\n",
       "      <td>...</td>\n",
       "      <td>9.065007</td>\n",
       "      <td>11.201579</td>\n",
       "      <td>9.790382</td>\n",
       "      <td>7.929146</td>\n",
       "      <td>7.522011</td>\n",
       "      <td>6.966082</td>\n",
       "      <td>9.065007</td>\n",
       "      <td>11.201579</td>\n",
       "      <td>9.790382</td>\n",
       "      <td>7.929146</td>\n",
       "    </tr>\n",
       "  </tbody>\n",
       "</table>\n",
       "<p>165507 rows × 650 columns</p>\n",
       "</div>"
      ],
      "text/plain": [
       "                 timestamp  ticker            0           1           2  \\\n",
       "0      2015-03-02 09:30:00       1  1356.684188   84.211645  305.934957   \n",
       "1      2015-03-03 09:30:00       1  1514.645083  132.414417  185.943348   \n",
       "2      2015-03-04 09:30:00       1  1547.077226  148.908424  194.353805   \n",
       "3      2015-03-05 09:30:00       1  1432.151831  244.562864  218.119383   \n",
       "4      2015-03-06 09:30:00       1  1153.484800  400.814012  319.736495   \n",
       "...                    ...     ...          ...         ...         ...   \n",
       "165502 2015-05-25 09:30:00  603998     2.240274    1.463490    0.941517   \n",
       "165503 2015-05-26 09:30:00  603998     3.911567    1.426376    1.217305   \n",
       "165504 2015-05-27 09:30:00  603998     3.276300    1.792205    1.812945   \n",
       "165505 2015-05-28 09:30:00  603998     1.714350    0.550348    1.657655   \n",
       "165506 2015-05-29 09:30:00  603998     1.454136    0.781148    2.559667   \n",
       "\n",
       "                 3           4           5            6           7  ...  \\\n",
       "0       345.439695  157.255464   32.632962  1487.980910  277.481167  ...   \n",
       "1       320.944007  102.432443    2.643398  1821.394529  297.463117  ...   \n",
       "2       323.140950   39.377121    5.164912  1787.884374  249.472157  ...   \n",
       "3       336.025436   32.632962   96.370376  1643.154864  238.639079  ...   \n",
       "4       122.652576    2.643398  240.646655  1415.693550  344.222212  ...   \n",
       "...            ...         ...         ...          ...         ...  ...   \n",
       "165502    6.271476   12.625167    7.032436     2.404124    2.528236  ...   \n",
       "165503   10.111400   12.001419    7.462433     3.419871    2.453850  ...   \n",
       "165504   11.865157    9.035579   23.512514     3.126076    2.650729  ...   \n",
       "165505    9.549179    7.032436   41.609586     2.186367    1.247900  ...   \n",
       "165506   10.041974    7.462433   67.279283     2.789950    0.412871  ...   \n",
       "\n",
       "             638        639        640        641       642       643  \\\n",
       "0       0.999382   1.038779   0.727014   0.793861  3.094361  2.806043   \n",
       "1       0.938532   0.919450   0.687725   0.860550  3.348075  2.662504   \n",
       "2       1.167886   0.825050   0.775739   0.922700  3.228461  2.470561   \n",
       "3       1.151889   0.811546   0.793861   0.916464  3.180207  2.269082   \n",
       "4       1.122236   0.752807   0.860550   0.910300  2.915457  2.105493   \n",
       "...          ...        ...        ...        ...       ...       ...   \n",
       "165502  6.254932  10.096500  10.915346   9.235907  9.053157  7.218514   \n",
       "165503  5.706407  10.369582   9.786796   9.790382  7.787754  7.244864   \n",
       "165504  7.431554  10.883589   9.457114  10.488761  7.984779  7.784643   \n",
       "165505  7.926150  10.518246   9.235907  10.388107  7.898525  7.845754   \n",
       "165506  9.065007  11.201579   9.790382   7.929146  7.522011  6.966082   \n",
       "\n",
       "             644        645        646        647  \n",
       "0       1.981571   2.059679   1.441482   1.574039  \n",
       "1       1.860929   1.823046   1.363564   1.706282  \n",
       "2       2.315682   1.635886   1.538075   1.829504  \n",
       "3       2.283971   1.609096   1.574039   1.817136  \n",
       "4       2.225161   1.492614   1.706282   1.804893  \n",
       "...          ...        ...        ...        ...  \n",
       "165502  6.254932  10.096500  10.915346   9.235907  \n",
       "165503  5.706407  10.369582   9.786796   9.790382  \n",
       "165504  7.431554  10.883589   9.457114  10.488761  \n",
       "165505  7.926150  10.518246   9.235907  10.388107  \n",
       "165506  9.065007  11.201579   9.790382   7.929146  \n",
       "\n",
       "[165507 rows x 650 columns]"
      ]
     },
     "execution_count": 4,
     "metadata": {},
     "output_type": "execute_result"
    }
   ],
   "source": [
    "pd.read_parquet(\"/home/wuwenjun/Data/AlphaNet_Original_Input_10d_return_move7/Feat_Concat/2015-03-01_2015-06-01.par\")"
   ]
  },
  {
   "cell_type": "markdown",
   "id": "a70aac50",
   "metadata": {},
   "source": [
    "# Reshape"
   ]
  },
  {
   "cell_type": "code",
   "execution_count": 24,
   "id": "e250414c",
   "metadata": {
    "ExecuteTime": {
     "end_time": "2022-01-13T08:04:37.890535Z",
     "start_time": "2022-01-13T08:04:37.884918Z"
    }
   },
   "outputs": [],
   "source": [
    "def test(i):\n",
    "    a = pd.read_parquet(path + \"Feat_Concat/\" + i).set_index([\"timestamp\",\"ticker\"])\n",
    "    index = a.index\n",
    "    a = np.array(a).reshape(np.array(a).shape[0],-1,5)\n",
    "    a = a.transpose(0,2,1)\n",
    "    a = a.reshape(a.shape[0],-1)\n",
    "    a = pd.DataFrame(a)\n",
    "    a.index = index\n",
    "    a.columns = [str(i) for i in a.columns]\n",
    "    a.to_parquet(path + \"Feat_Concat/\" + i)\n",
    "    print (\"Save to \" + path + \"Feat_Concat/\" + i)\n",
    "    return None"
   ]
  },
  {
   "cell_type": "code",
   "execution_count": 25,
   "id": "d0c8d48c",
   "metadata": {
    "ExecuteTime": {
     "end_time": "2022-01-13T08:04:59.110457Z",
     "start_time": "2022-01-13T08:04:38.565272Z"
    }
   },
   "outputs": [
    {
     "name": "stderr",
     "output_type": "stream",
     "text": [
      "100%|██████████| 26/26 [00:00<00:00, 63960.06it/s]\n"
     ]
    },
    {
     "name": "stdout",
     "output_type": "stream",
     "text": [
      "并行执行时间： 19\n"
     ]
    }
   ],
   "source": [
    "pool = mp.Pool(10)\n",
    "t1 = time.time()\n",
    "for alpha in tqdm(path_list):\n",
    "#     test(alpha)\n",
    "    pool.apply_async(test, args=(alpha,))   #维持执行的进程总数为10，当一个进程执行完后启动一个新进程.\n",
    "pool.close()\n",
    "pool.join()\n",
    "t2 = time.time()\n",
    "print(\"并行执行时间：\", int(t2 - t1))"
   ]
  },
  {
   "cell_type": "markdown",
   "id": "91971c90",
   "metadata": {},
   "source": [
    "# Target"
   ]
  },
  {
   "cell_type": "code",
   "execution_count": 4,
   "id": "767ebd2d",
   "metadata": {
    "ExecuteTime": {
     "end_time": "2022-01-13T08:18:00.867529Z",
     "start_time": "2022-01-13T08:17:44.554549Z"
    }
   },
   "outputs": [
    {
     "name": "stderr",
     "output_type": "stream",
     "text": [
      "Loading Feature...: 100%|████████████████████████████████████████████████████████████████████████████████████████| 1705/1705 [00:03<00:00, 536.94it/s]\n"
     ]
    },
    {
     "data": {
      "text/html": [
       "<div>\n",
       "<style scoped>\n",
       "    .dataframe tbody tr th:only-of-type {\n",
       "        vertical-align: middle;\n",
       "    }\n",
       "\n",
       "    .dataframe tbody tr th {\n",
       "        vertical-align: top;\n",
       "    }\n",
       "\n",
       "    .dataframe thead th {\n",
       "        text-align: right;\n",
       "    }\n",
       "</style>\n",
       "<table border=\"1\" class=\"dataframe\">\n",
       "  <thead>\n",
       "    <tr style=\"text-align: right;\">\n",
       "      <th></th>\n",
       "      <th></th>\n",
       "      <th>target</th>\n",
       "    </tr>\n",
       "    <tr>\n",
       "      <th>timestamp</th>\n",
       "      <th>ticker</th>\n",
       "      <th></th>\n",
       "    </tr>\n",
       "  </thead>\n",
       "  <tbody>\n",
       "    <tr>\n",
       "      <th rowspan=\"5\" valign=\"top\">2015-01-12 09:30:00</th>\n",
       "      <th>000627</th>\n",
       "      <td>10.497501</td>\n",
       "    </tr>\n",
       "    <tr>\n",
       "      <th>002095</th>\n",
       "      <td>6.362775</td>\n",
       "    </tr>\n",
       "    <tr>\n",
       "      <th>000626</th>\n",
       "      <td>6.354776</td>\n",
       "    </tr>\n",
       "    <tr>\n",
       "      <th>600288</th>\n",
       "      <td>6.353383</td>\n",
       "    </tr>\n",
       "    <tr>\n",
       "      <th>600986</th>\n",
       "      <td>4.734728</td>\n",
       "    </tr>\n",
       "    <tr>\n",
       "      <th>...</th>\n",
       "      <th>...</th>\n",
       "      <td>...</td>\n",
       "    </tr>\n",
       "    <tr>\n",
       "      <th rowspan=\"5\" valign=\"top\">2021-07-01 09:30:00</th>\n",
       "      <th>603355</th>\n",
       "      <td>-2.436583</td>\n",
       "    </tr>\n",
       "    <tr>\n",
       "      <th>688356</th>\n",
       "      <td>-2.958048</td>\n",
       "    </tr>\n",
       "    <tr>\n",
       "      <th>600093</th>\n",
       "      <td>-3.061266</td>\n",
       "    </tr>\n",
       "    <tr>\n",
       "      <th>688277</th>\n",
       "      <td>-3.216929</td>\n",
       "    </tr>\n",
       "    <tr>\n",
       "      <th>688626</th>\n",
       "      <td>-3.502215</td>\n",
       "    </tr>\n",
       "  </tbody>\n",
       "</table>\n",
       "<p>5067767 rows × 1 columns</p>\n",
       "</div>"
      ],
      "text/plain": [
       "                               target\n",
       "timestamp           ticker           \n",
       "2015-01-12 09:30:00 000627  10.497501\n",
       "                    002095   6.362775\n",
       "                    000626   6.354776\n",
       "                    600288   6.353383\n",
       "                    600986   4.734728\n",
       "...                               ...\n",
       "2021-07-01 09:30:00 603355  -2.436583\n",
       "                    688356  -2.958048\n",
       "                    600093  -3.061266\n",
       "                    688277  -3.216929\n",
       "                    688626  -3.502215\n",
       "\n",
       "[5067767 rows x 1 columns]"
      ]
     },
     "execution_count": 4,
     "metadata": {},
     "output_type": "execute_result"
    },
    {
     "name": "stderr",
     "output_type": "stream",
     "text": [
      "Process ForkPoolWorker-35:\n",
      "Process ForkPoolWorker-12:\n",
      "Process ForkPoolWorker-59:\n",
      "Process ForkPoolWorker-56:\n",
      "Process ForkPoolWorker-18:\n",
      "Process ForkPoolWorker-61:\n",
      "Process ForkPoolWorker-66:\n",
      "Process ForkPoolWorker-53:\n",
      "Process ForkPoolWorker-36:\n",
      "Process ForkPoolWorker-30:\n",
      "Process ForkPoolWorker-25:\n",
      "Process ForkPoolWorker-24:\n",
      "Process ForkPoolWorker-23:\n",
      "Process ForkPoolWorker-55:\n",
      "Process ForkPoolWorker-48:\n",
      "Process ForkPoolWorker-51:\n",
      "Process ForkPoolWorker-57:\n",
      "Process ForkPoolWorker-68:\n",
      "Process ForkPoolWorker-64:\n",
      "Process ForkPoolWorker-52:\n",
      "Process ForkPoolWorker-11:\n",
      "Process ForkPoolWorker-15:\n",
      "Process ForkPoolWorker-3:\n",
      "Process ForkPoolWorker-72:\n",
      "Process ForkPoolWorker-10:\n",
      "Process ForkPoolWorker-22:\n",
      "Process ForkPoolWorker-32:\n",
      "Process ForkPoolWorker-17:\n",
      "Process ForkPoolWorker-58:\n",
      "Process ForkPoolWorker-70:\n",
      "Process ForkPoolWorker-65:\n",
      "Process ForkPoolWorker-31:\n",
      "Process ForkPoolWorker-2:\n",
      "Process ForkPoolWorker-9:\n",
      "Process ForkPoolWorker-63:\n",
      "Process ForkPoolWorker-69:\n",
      "Process ForkPoolWorker-8:\n",
      "Process ForkPoolWorker-6:\n",
      "Process ForkPoolWorker-49:\n",
      "Process ForkPoolWorker-7:\n",
      "Process ForkPoolWorker-60:\n",
      "Process ForkPoolWorker-26:\n",
      "Process ForkPoolWorker-19:\n",
      "Process ForkPoolWorker-27:\n",
      "Process ForkPoolWorker-67:\n",
      "Process ForkPoolWorker-1:\n",
      "Process ForkPoolWorker-14:\n",
      "Process ForkPoolWorker-34:\n",
      "Process ForkPoolWorker-33:\n",
      "Process ForkPoolWorker-50:\n",
      "Process ForkPoolWorker-21:\n",
      "Process ForkPoolWorker-38:\n",
      "Process ForkPoolWorker-62:\n",
      "Process ForkPoolWorker-5:\n",
      "Process ForkPoolWorker-13:\n",
      "Process ForkPoolWorker-71:\n",
      "Process ForkPoolWorker-4:\n",
      "Process ForkPoolWorker-28:\n",
      "Traceback (most recent call last):\n",
      "Traceback (most recent call last):\n",
      "Traceback (most recent call last):\n",
      "Process ForkPoolWorker-16:\n",
      "Process ForkPoolWorker-37:\n",
      "Process ForkPoolWorker-29:\n",
      "Traceback (most recent call last):\n",
      "Process ForkPoolWorker-20:\n",
      "Process ForkPoolWorker-54:\n",
      "Traceback (most recent call last):\n",
      "Traceback (most recent call last):\n",
      "Traceback (most recent call last):\n",
      "Traceback (most recent call last):\n",
      "Traceback (most recent call last):\n",
      "Traceback (most recent call last):\n",
      "Traceback (most recent call last):\n",
      "Traceback (most recent call last):\n",
      "Traceback (most recent call last):\n",
      "Traceback (most recent call last):\n",
      "Traceback (most recent call last):\n",
      "Traceback (most recent call last):\n",
      "Traceback (most recent call last):\n",
      "Traceback (most recent call last):\n",
      "Traceback (most recent call last):\n",
      "Traceback (most recent call last):\n",
      "Traceback (most recent call last):\n",
      "Traceback (most recent call last):\n",
      "Traceback (most recent call last):\n",
      "Traceback (most recent call last):\n",
      "Traceback (most recent call last):\n",
      "Traceback (most recent call last):\n",
      "Traceback (most recent call last):\n",
      "Traceback (most recent call last):\n",
      "Traceback (most recent call last):\n",
      "Traceback (most recent call last):\n",
      "Traceback (most recent call last):\n",
      "Traceback (most recent call last):\n",
      "Traceback (most recent call last):\n",
      "Traceback (most recent call last):\n",
      "Traceback (most recent call last):\n",
      "Traceback (most recent call last):\n",
      "Traceback (most recent call last):\n",
      "Traceback (most recent call last):\n",
      "Traceback (most recent call last):\n",
      "Traceback (most recent call last):\n",
      "Traceback (most recent call last):\n",
      "Traceback (most recent call last):\n",
      "Traceback (most recent call last):\n",
      "Traceback (most recent call last):\n",
      "Traceback (most recent call last):\n",
      "Traceback (most recent call last):\n",
      "Traceback (most recent call last):\n",
      "Traceback (most recent call last):\n",
      "Traceback (most recent call last):\n",
      "Traceback (most recent call last):\n",
      "  File \"/usr/local/miniconda/lib/python3.7/multiprocessing/process.py\", line 297, in _bootstrap\n",
      "    self.run()\n",
      "Traceback (most recent call last):\n",
      "  File \"/usr/local/miniconda/lib/python3.7/multiprocessing/process.py\", line 297, in _bootstrap\n",
      "    self.run()\n",
      "Traceback (most recent call last):\n",
      "  File \"/usr/local/miniconda/lib/python3.7/multiprocessing/process.py\", line 297, in _bootstrap\n",
      "    self.run()\n",
      "Traceback (most recent call last):\n",
      "Traceback (most recent call last):\n",
      "  File \"/usr/local/miniconda/lib/python3.7/multiprocessing/process.py\", line 297, in _bootstrap\n",
      "    self.run()\n",
      "  File \"/usr/local/miniconda/lib/python3.7/multiprocessing/process.py\", line 297, in _bootstrap\n",
      "    self.run()\n",
      "  File \"/usr/local/miniconda/lib/python3.7/multiprocessing/process.py\", line 297, in _bootstrap\n",
      "    self.run()\n",
      "Traceback (most recent call last):\n",
      "Traceback (most recent call last):\n",
      "  File \"/usr/local/miniconda/lib/python3.7/multiprocessing/process.py\", line 297, in _bootstrap\n",
      "    self.run()\n",
      "Traceback (most recent call last):\n",
      "Traceback (most recent call last):\n",
      "  File \"/usr/local/miniconda/lib/python3.7/multiprocessing/process.py\", line 297, in _bootstrap\n",
      "    self.run()\n",
      "  File \"/usr/local/miniconda/lib/python3.7/multiprocessing/process.py\", line 297, in _bootstrap\n",
      "    self.run()\n",
      "Traceback (most recent call last):\n",
      "  File \"/usr/local/miniconda/lib/python3.7/multiprocessing/process.py\", line 297, in _bootstrap\n",
      "    self.run()\n",
      "Traceback (most recent call last):\n",
      "  File \"/usr/local/miniconda/lib/python3.7/multiprocessing/process.py\", line 297, in _bootstrap\n",
      "    self.run()\n",
      "  File \"/usr/local/miniconda/lib/python3.7/multiprocessing/process.py\", line 297, in _bootstrap\n",
      "    self.run()\n",
      "  File \"/usr/local/miniconda/lib/python3.7/multiprocessing/process.py\", line 297, in _bootstrap\n",
      "    self.run()\n",
      "  File \"/usr/local/miniconda/lib/python3.7/multiprocessing/process.py\", line 297, in _bootstrap\n",
      "    self.run()\n",
      "Traceback (most recent call last):\n",
      "Traceback (most recent call last):\n",
      "  File \"/usr/local/miniconda/lib/python3.7/multiprocessing/process.py\", line 297, in _bootstrap\n",
      "    self.run()\n",
      "Traceback (most recent call last):\n",
      "  File \"/usr/local/miniconda/lib/python3.7/multiprocessing/process.py\", line 297, in _bootstrap\n",
      "    self.run()\n",
      "  File \"/usr/local/miniconda/lib/python3.7/multiprocessing/process.py\", line 297, in _bootstrap\n",
      "    self.run()\n",
      "  File \"/usr/local/miniconda/lib/python3.7/multiprocessing/process.py\", line 297, in _bootstrap\n",
      "    self.run()\n",
      "  File \"/usr/local/miniconda/lib/python3.7/multiprocessing/process.py\", line 297, in _bootstrap\n",
      "    self.run()\n",
      "  File \"/usr/local/miniconda/lib/python3.7/multiprocessing/process.py\", line 297, in _bootstrap\n",
      "    self.run()\n",
      "  File \"/usr/local/miniconda/lib/python3.7/multiprocessing/process.py\", line 297, in _bootstrap\n",
      "    self.run()\n",
      "  File \"/usr/local/miniconda/lib/python3.7/multiprocessing/process.py\", line 297, in _bootstrap\n",
      "    self.run()\n",
      "  File \"/usr/local/miniconda/lib/python3.7/multiprocessing/process.py\", line 297, in _bootstrap\n",
      "    self.run()\n",
      "  File \"/usr/local/miniconda/lib/python3.7/multiprocessing/process.py\", line 297, in _bootstrap\n",
      "    self.run()\n",
      "  File \"/usr/local/miniconda/lib/python3.7/multiprocessing/process.py\", line 297, in _bootstrap\n",
      "    self.run()\n",
      "  File \"/usr/local/miniconda/lib/python3.7/multiprocessing/process.py\", line 297, in _bootstrap\n",
      "    self.run()\n",
      "  File \"/usr/local/miniconda/lib/python3.7/multiprocessing/process.py\", line 297, in _bootstrap\n",
      "    self.run()\n",
      "  File \"/usr/local/miniconda/lib/python3.7/multiprocessing/process.py\", line 297, in _bootstrap\n",
      "    self.run()\n",
      "  File \"/usr/local/miniconda/lib/python3.7/multiprocessing/process.py\", line 297, in _bootstrap\n",
      "    self.run()\n",
      "  File \"/usr/local/miniconda/lib/python3.7/multiprocessing/process.py\", line 297, in _bootstrap\n",
      "    self.run()\n",
      "  File \"/usr/local/miniconda/lib/python3.7/multiprocessing/process.py\", line 297, in _bootstrap\n",
      "    self.run()\n",
      "  File \"/usr/local/miniconda/lib/python3.7/multiprocessing/process.py\", line 297, in _bootstrap\n",
      "    self.run()\n",
      "  File \"/usr/local/miniconda/lib/python3.7/multiprocessing/process.py\", line 297, in _bootstrap\n",
      "    self.run()\n",
      "  File \"/usr/local/miniconda/lib/python3.7/multiprocessing/process.py\", line 297, in _bootstrap\n",
      "    self.run()\n",
      "  File \"/usr/local/miniconda/lib/python3.7/multiprocessing/process.py\", line 297, in _bootstrap\n",
      "    self.run()\n",
      "  File \"/usr/local/miniconda/lib/python3.7/multiprocessing/process.py\", line 297, in _bootstrap\n",
      "    self.run()\n",
      "  File \"/usr/local/miniconda/lib/python3.7/multiprocessing/process.py\", line 297, in _bootstrap\n",
      "    self.run()\n",
      "Process ForkPoolWorker-43:\n",
      "  File \"/usr/local/miniconda/lib/python3.7/multiprocessing/process.py\", line 297, in _bootstrap\n",
      "    self.run()\n",
      "Process ForkPoolWorker-44:\n",
      "  File \"/usr/local/miniconda/lib/python3.7/multiprocessing/process.py\", line 297, in _bootstrap\n",
      "    self.run()\n"
     ]
    },
    {
     "name": "stderr",
     "output_type": "stream",
     "text": [
      "  File \"/usr/local/miniconda/lib/python3.7/multiprocessing/process.py\", line 297, in _bootstrap\n",
      "    self.run()\n",
      "  File \"/usr/local/miniconda/lib/python3.7/multiprocessing/process.py\", line 297, in _bootstrap\n",
      "    self.run()\n",
      "  File \"/usr/local/miniconda/lib/python3.7/multiprocessing/process.py\", line 297, in _bootstrap\n",
      "    self.run()\n",
      "  File \"/usr/local/miniconda/lib/python3.7/multiprocessing/process.py\", line 297, in _bootstrap\n",
      "    self.run()\n",
      "  File \"/usr/local/miniconda/lib/python3.7/multiprocessing/process.py\", line 297, in _bootstrap\n",
      "    self.run()\n",
      "  File \"/usr/local/miniconda/lib/python3.7/multiprocessing/process.py\", line 297, in _bootstrap\n",
      "    self.run()\n",
      "Process ForkPoolWorker-40:\n",
      "Process ForkPoolWorker-42:\n",
      "Process ForkPoolWorker-41:\n",
      "  File \"/usr/local/miniconda/lib/python3.7/multiprocessing/process.py\", line 297, in _bootstrap\n",
      "    self.run()\n",
      "  File \"/usr/local/miniconda/lib/python3.7/multiprocessing/process.py\", line 297, in _bootstrap\n",
      "    self.run()\n",
      "Process ForkPoolWorker-45:\n",
      "Process ForkPoolWorker-47:\n",
      "Process ForkPoolWorker-46:\n",
      "  File \"/usr/local/miniconda/lib/python3.7/multiprocessing/process.py\", line 99, in run\n",
      "    self._target(*self._args, **self._kwargs)\n",
      "  File \"/usr/local/miniconda/lib/python3.7/multiprocessing/process.py\", line 297, in _bootstrap\n",
      "    self.run()\n",
      "  File \"/usr/local/miniconda/lib/python3.7/multiprocessing/process.py\", line 297, in _bootstrap\n",
      "    self.run()\n",
      "  File \"/usr/local/miniconda/lib/python3.7/multiprocessing/process.py\", line 99, in run\n",
      "    self._target(*self._args, **self._kwargs)\n",
      "  File \"/usr/local/miniconda/lib/python3.7/multiprocessing/process.py\", line 297, in _bootstrap\n",
      "    self.run()\n",
      "  File \"/usr/local/miniconda/lib/python3.7/multiprocessing/process.py\", line 297, in _bootstrap\n",
      "    self.run()\n",
      "  File \"/usr/local/miniconda/lib/python3.7/multiprocessing/process.py\", line 297, in _bootstrap\n",
      "    self.run()\n",
      "  File \"/usr/local/miniconda/lib/python3.7/multiprocessing/process.py\", line 99, in run\n",
      "    self._target(*self._args, **self._kwargs)\n",
      "  File \"/usr/local/miniconda/lib/python3.7/multiprocessing/process.py\", line 297, in _bootstrap\n",
      "    self.run()\n",
      "  File \"/usr/local/miniconda/lib/python3.7/multiprocessing/process.py\", line 99, in run\n",
      "    self._target(*self._args, **self._kwargs)\n",
      "  File \"/usr/local/miniconda/lib/python3.7/multiprocessing/process.py\", line 297, in _bootstrap\n",
      "    self.run()\n",
      "  File \"/usr/local/miniconda/lib/python3.7/multiprocessing/process.py\", line 99, in run\n",
      "    self._target(*self._args, **self._kwargs)\n",
      "  File \"/usr/local/miniconda/lib/python3.7/multiprocessing/process.py\", line 99, in run\n",
      "    self._target(*self._args, **self._kwargs)\n",
      "  File \"/usr/local/miniconda/lib/python3.7/multiprocessing/process.py\", line 297, in _bootstrap\n",
      "    self.run()\n",
      "  File \"/usr/local/miniconda/lib/python3.7/multiprocessing/process.py\", line 99, in run\n",
      "    self._target(*self._args, **self._kwargs)\n",
      "  File \"/usr/local/miniconda/lib/python3.7/multiprocessing/process.py\", line 297, in _bootstrap\n",
      "    self.run()\n",
      "  File \"/usr/local/miniconda/lib/python3.7/multiprocessing/process.py\", line 99, in run\n",
      "    self._target(*self._args, **self._kwargs)\n",
      "  File \"/usr/local/miniconda/lib/python3.7/multiprocessing/process.py\", line 99, in run\n",
      "    self._target(*self._args, **self._kwargs)\n",
      "  File \"/usr/local/miniconda/lib/python3.7/multiprocessing/process.py\", line 297, in _bootstrap\n",
      "    self.run()\n",
      "  File \"/usr/local/miniconda/lib/python3.7/multiprocessing/process.py\", line 297, in _bootstrap\n",
      "    self.run()\n",
      "  File \"/usr/local/miniconda/lib/python3.7/multiprocessing/process.py\", line 99, in run\n",
      "    self._target(*self._args, **self._kwargs)\n",
      "  File \"/usr/local/miniconda/lib/python3.7/multiprocessing/process.py\", line 297, in _bootstrap\n",
      "    self.run()\n",
      "  File \"/usr/local/miniconda/lib/python3.7/multiprocessing/process.py\", line 99, in run\n",
      "    self._target(*self._args, **self._kwargs)\n",
      "  File \"/usr/local/miniconda/lib/python3.7/multiprocessing/process.py\", line 297, in _bootstrap\n",
      "    self.run()\n",
      "  File \"/usr/local/miniconda/lib/python3.7/multiprocessing/process.py\", line 99, in run\n",
      "    self._target(*self._args, **self._kwargs)\n",
      "  File \"/usr/local/miniconda/lib/python3.7/multiprocessing/process.py\", line 99, in run\n",
      "    self._target(*self._args, **self._kwargs)\n",
      "  File \"/usr/local/miniconda/lib/python3.7/multiprocessing/process.py\", line 297, in _bootstrap\n",
      "    self.run()\n",
      "  File \"/usr/local/miniconda/lib/python3.7/multiprocessing/process.py\", line 99, in run\n",
      "    self._target(*self._args, **self._kwargs)\n",
      "  File \"/usr/local/miniconda/lib/python3.7/multiprocessing/process.py\", line 297, in _bootstrap\n",
      "    self.run()\n",
      "  File \"/usr/local/miniconda/lib/python3.7/multiprocessing/process.py\", line 297, in _bootstrap\n",
      "    self.run()\n",
      "  File \"/usr/local/miniconda/lib/python3.7/multiprocessing/process.py\", line 99, in run\n",
      "    self._target(*self._args, **self._kwargs)\n",
      "  File \"/usr/local/miniconda/lib/python3.7/multiprocessing/process.py\", line 99, in run\n",
      "    self._target(*self._args, **self._kwargs)\n",
      "  File \"/usr/local/miniconda/lib/python3.7/multiprocessing/process.py\", line 99, in run\n",
      "    self._target(*self._args, **self._kwargs)\n",
      "  File \"/usr/local/miniconda/lib/python3.7/multiprocessing/process.py\", line 99, in run\n",
      "    self._target(*self._args, **self._kwargs)\n",
      "  File \"/usr/local/miniconda/lib/python3.7/multiprocessing/process.py\", line 99, in run\n",
      "    self._target(*self._args, **self._kwargs)\n",
      "  File \"/usr/local/miniconda/lib/python3.7/multiprocessing/process.py\", line 99, in run\n",
      "    self._target(*self._args, **self._kwargs)\n",
      "  File \"/usr/local/miniconda/lib/python3.7/multiprocessing/process.py\", line 99, in run\n",
      "    self._target(*self._args, **self._kwargs)\n",
      "  File \"/usr/local/miniconda/lib/python3.7/multiprocessing/process.py\", line 99, in run\n",
      "    self._target(*self._args, **self._kwargs)\n",
      "  File \"/usr/local/miniconda/lib/python3.7/multiprocessing/process.py\", line 99, in run\n",
      "    self._target(*self._args, **self._kwargs)\n",
      "  File \"/usr/local/miniconda/lib/python3.7/multiprocessing/process.py\", line 99, in run\n",
      "    self._target(*self._args, **self._kwargs)\n",
      "  File \"/usr/local/miniconda/lib/python3.7/multiprocessing/process.py\", line 99, in run\n",
      "    self._target(*self._args, **self._kwargs)\n",
      "  File \"/usr/local/miniconda/lib/python3.7/multiprocessing/process.py\", line 99, in run\n",
      "    self._target(*self._args, **self._kwargs)\n",
      "  File \"/usr/local/miniconda/lib/python3.7/multiprocessing/process.py\", line 99, in run\n",
      "    self._target(*self._args, **self._kwargs)\n",
      "  File \"/usr/local/miniconda/lib/python3.7/multiprocessing/process.py\", line 99, in run\n",
      "    self._target(*self._args, **self._kwargs)\n",
      "  File \"/usr/local/miniconda/lib/python3.7/multiprocessing/process.py\", line 99, in run\n",
      "    self._target(*self._args, **self._kwargs)\n",
      "  File \"/usr/local/miniconda/lib/python3.7/multiprocessing/process.py\", line 99, in run\n",
      "    self._target(*self._args, **self._kwargs)\n",
      "  File \"/usr/local/miniconda/lib/python3.7/multiprocessing/process.py\", line 99, in run\n",
      "    self._target(*self._args, **self._kwargs)\n",
      "  File \"/usr/local/miniconda/lib/python3.7/multiprocessing/process.py\", line 99, in run\n",
      "    self._target(*self._args, **self._kwargs)\n",
      "  File \"/usr/local/miniconda/lib/python3.7/multiprocessing/process.py\", line 99, in run\n",
      "    self._target(*self._args, **self._kwargs)\n",
      "  File \"/usr/local/miniconda/lib/python3.7/multiprocessing/process.py\", line 99, in run\n",
      "    self._target(*self._args, **self._kwargs)\n",
      "  File \"/usr/local/miniconda/lib/python3.7/multiprocessing/process.py\", line 99, in run\n",
      "    self._target(*self._args, **self._kwargs)\n",
      "  File \"/usr/local/miniconda/lib/python3.7/multiprocessing/process.py\", line 99, in run\n",
      "    self._target(*self._args, **self._kwargs)\n",
      "  File \"/usr/local/miniconda/lib/python3.7/multiprocessing/process.py\", line 99, in run\n",
      "    self._target(*self._args, **self._kwargs)\n",
      "  File \"/usr/local/miniconda/lib/python3.7/multiprocessing/process.py\", line 99, in run\n",
      "    self._target(*self._args, **self._kwargs)\n",
      "  File \"/usr/local/miniconda/lib/python3.7/multiprocessing/process.py\", line 99, in run\n",
      "    self._target(*self._args, **self._kwargs)\n",
      "  File \"/usr/local/miniconda/lib/python3.7/multiprocessing/process.py\", line 99, in run\n",
      "    self._target(*self._args, **self._kwargs)\n",
      "  File \"/usr/local/miniconda/lib/python3.7/multiprocessing/process.py\", line 99, in run\n",
      "    self._target(*self._args, **self._kwargs)\n"
     ]
    },
    {
     "name": "stderr",
     "output_type": "stream",
     "text": [
      "  File \"/usr/local/miniconda/lib/python3.7/multiprocessing/process.py\", line 99, in run\n",
      "    self._target(*self._args, **self._kwargs)\n",
      "  File \"/usr/local/miniconda/lib/python3.7/multiprocessing/process.py\", line 99, in run\n",
      "    self._target(*self._args, **self._kwargs)\n",
      "  File \"/usr/local/miniconda/lib/python3.7/multiprocessing/process.py\", line 99, in run\n",
      "    self._target(*self._args, **self._kwargs)\n",
      "Traceback (most recent call last):\n",
      "  File \"/usr/local/miniconda/lib/python3.7/multiprocessing/process.py\", line 99, in run\n",
      "    self._target(*self._args, **self._kwargs)\n",
      "Traceback (most recent call last):\n",
      "  File \"/usr/local/miniconda/lib/python3.7/multiprocessing/process.py\", line 99, in run\n",
      "    self._target(*self._args, **self._kwargs)\n",
      "  File \"/usr/local/miniconda/lib/python3.7/multiprocessing/process.py\", line 99, in run\n",
      "    self._target(*self._args, **self._kwargs)\n",
      "Traceback (most recent call last):\n",
      "  File \"/usr/local/miniconda/lib/python3.7/multiprocessing/pool.py\", line 110, in worker\n",
      "    task = get()\n",
      "  File \"/usr/local/miniconda/lib/python3.7/multiprocessing/process.py\", line 99, in run\n",
      "    self._target(*self._args, **self._kwargs)\n",
      "Traceback (most recent call last):\n",
      "  File \"/usr/local/miniconda/lib/python3.7/multiprocessing/process.py\", line 99, in run\n",
      "    self._target(*self._args, **self._kwargs)\n",
      "  File \"/usr/local/miniconda/lib/python3.7/multiprocessing/process.py\", line 99, in run\n",
      "    self._target(*self._args, **self._kwargs)\n",
      "  File \"/usr/local/miniconda/lib/python3.7/multiprocessing/process.py\", line 99, in run\n",
      "    self._target(*self._args, **self._kwargs)\n",
      "  File \"/usr/local/miniconda/lib/python3.7/multiprocessing/pool.py\", line 110, in worker\n",
      "    task = get()\n",
      "  File \"/usr/local/miniconda/lib/python3.7/multiprocessing/process.py\", line 99, in run\n",
      "    self._target(*self._args, **self._kwargs)\n",
      "  File \"/usr/local/miniconda/lib/python3.7/multiprocessing/pool.py\", line 110, in worker\n",
      "    task = get()\n",
      "  File \"/usr/local/miniconda/lib/python3.7/multiprocessing/process.py\", line 99, in run\n",
      "    self._target(*self._args, **self._kwargs)\n",
      "  File \"/usr/local/miniconda/lib/python3.7/multiprocessing/pool.py\", line 110, in worker\n",
      "    task = get()\n",
      "Traceback (most recent call last):\n",
      "  File \"/usr/local/miniconda/lib/python3.7/multiprocessing/pool.py\", line 110, in worker\n",
      "    task = get()\n",
      "  File \"/usr/local/miniconda/lib/python3.7/multiprocessing/process.py\", line 99, in run\n",
      "    self._target(*self._args, **self._kwargs)\n",
      "  File \"/usr/local/miniconda/lib/python3.7/multiprocessing/pool.py\", line 110, in worker\n",
      "    task = get()\n",
      "  File \"/usr/local/miniconda/lib/python3.7/multiprocessing/process.py\", line 99, in run\n",
      "    self._target(*self._args, **self._kwargs)\n",
      "  File \"/usr/local/miniconda/lib/python3.7/multiprocessing/pool.py\", line 110, in worker\n",
      "    task = get()\n",
      "  File \"/usr/local/miniconda/lib/python3.7/multiprocessing/process.py\", line 99, in run\n",
      "    self._target(*self._args, **self._kwargs)\n",
      "Traceback (most recent call last):\n",
      "Traceback (most recent call last):\n",
      "  File \"/usr/local/miniconda/lib/python3.7/multiprocessing/pool.py\", line 110, in worker\n",
      "    task = get()\n",
      "  File \"/usr/local/miniconda/lib/python3.7/multiprocessing/process.py\", line 99, in run\n",
      "    self._target(*self._args, **self._kwargs)\n",
      "Traceback (most recent call last):\n",
      "  File \"/usr/local/miniconda/lib/python3.7/multiprocessing/process.py\", line 99, in run\n",
      "    self._target(*self._args, **self._kwargs)\n",
      "  File \"/usr/local/miniconda/lib/python3.7/multiprocessing/pool.py\", line 110, in worker\n",
      "    task = get()\n",
      "  File \"/usr/local/miniconda/lib/python3.7/multiprocessing/pool.py\", line 110, in worker\n",
      "    task = get()\n",
      "  File \"/usr/local/miniconda/lib/python3.7/multiprocessing/process.py\", line 99, in run\n",
      "    self._target(*self._args, **self._kwargs)\n",
      "  File \"/usr/local/miniconda/lib/python3.7/multiprocessing/pool.py\", line 110, in worker\n",
      "    task = get()\n",
      "  File \"/usr/local/miniconda/lib/python3.7/multiprocessing/process.py\", line 99, in run\n",
      "    self._target(*self._args, **self._kwargs)\n",
      "  File \"/usr/local/miniconda/lib/python3.7/multiprocessing/pool.py\", line 110, in worker\n",
      "    task = get()\n",
      "  File \"/usr/local/miniconda/lib/python3.7/multiprocessing/pool.py\", line 110, in worker\n",
      "    task = get()\n",
      "  File \"/usr/local/miniconda/lib/python3.7/multiprocessing/pool.py\", line 110, in worker\n",
      "    task = get()\n",
      "  File \"/usr/local/miniconda/lib/python3.7/multiprocessing/process.py\", line 99, in run\n",
      "    self._target(*self._args, **self._kwargs)\n",
      "  File \"/usr/local/miniconda/lib/python3.7/multiprocessing/process.py\", line 99, in run\n",
      "    self._target(*self._args, **self._kwargs)\n",
      "  File \"/usr/local/miniconda/lib/python3.7/multiprocessing/process.py\", line 99, in run\n",
      "    self._target(*self._args, **self._kwargs)\n",
      "  File \"/usr/local/miniconda/lib/python3.7/multiprocessing/pool.py\", line 110, in worker\n",
      "    task = get()\n",
      "  File \"/usr/local/miniconda/lib/python3.7/multiprocessing/pool.py\", line 110, in worker\n",
      "    task = get()\n",
      "  File \"/usr/local/miniconda/lib/python3.7/multiprocessing/pool.py\", line 110, in worker\n",
      "    task = get()\n",
      "  File \"/usr/local/miniconda/lib/python3.7/multiprocessing/pool.py\", line 110, in worker\n",
      "    task = get()\n",
      "  File \"/usr/local/miniconda/lib/python3.7/multiprocessing/pool.py\", line 110, in worker\n",
      "    task = get()\n",
      "  File \"/usr/local/miniconda/lib/python3.7/multiprocessing/pool.py\", line 110, in worker\n",
      "    task = get()\n",
      "  File \"/usr/local/miniconda/lib/python3.7/multiprocessing/pool.py\", line 110, in worker\n",
      "    task = get()\n",
      "  File \"/usr/local/miniconda/lib/python3.7/multiprocessing/pool.py\", line 110, in worker\n",
      "    task = get()\n",
      "  File \"/usr/local/miniconda/lib/python3.7/multiprocessing/pool.py\", line 110, in worker\n",
      "    task = get()\n",
      "  File \"/usr/local/miniconda/lib/python3.7/multiprocessing/pool.py\", line 110, in worker\n",
      "    task = get()\n",
      "  File \"/usr/local/miniconda/lib/python3.7/multiprocessing/pool.py\", line 110, in worker\n",
      "    task = get()\n",
      "  File \"/usr/local/miniconda/lib/python3.7/multiprocessing/pool.py\", line 110, in worker\n",
      "    task = get()\n",
      "  File \"/usr/local/miniconda/lib/python3.7/multiprocessing/pool.py\", line 110, in worker\n",
      "    task = get()\n",
      "  File \"/usr/local/miniconda/lib/python3.7/multiprocessing/pool.py\", line 110, in worker\n",
      "    task = get()\n",
      "  File \"/usr/local/miniconda/lib/python3.7/multiprocessing/pool.py\", line 110, in worker\n",
      "    task = get()\n",
      "  File \"/usr/local/miniconda/lib/python3.7/multiprocessing/pool.py\", line 110, in worker\n",
      "    task = get()\n",
      "  File \"/usr/local/miniconda/lib/python3.7/multiprocessing/pool.py\", line 110, in worker\n",
      "    task = get()\n",
      "  File \"/usr/local/miniconda/lib/python3.7/multiprocessing/pool.py\", line 110, in worker\n",
      "    task = get()\n",
      "  File \"/usr/local/miniconda/lib/python3.7/multiprocessing/pool.py\", line 110, in worker\n",
      "    task = get()\n",
      "  File \"/usr/local/miniconda/lib/python3.7/multiprocessing/pool.py\", line 110, in worker\n",
      "    task = get()\n",
      "  File \"/usr/local/miniconda/lib/python3.7/multiprocessing/pool.py\", line 110, in worker\n",
      "    task = get()\n",
      "  File \"/usr/local/miniconda/lib/python3.7/multiprocessing/pool.py\", line 110, in worker\n",
      "    task = get()\n",
      "  File \"/usr/local/miniconda/lib/python3.7/multiprocessing/pool.py\", line 110, in worker\n",
      "    task = get()\n",
      "  File \"/usr/local/miniconda/lib/python3.7/multiprocessing/pool.py\", line 110, in worker\n",
      "    task = get()\n",
      "  File \"/usr/local/miniconda/lib/python3.7/multiprocessing/pool.py\", line 110, in worker\n",
      "    task = get()\n",
      "  File \"/usr/local/miniconda/lib/python3.7/multiprocessing/pool.py\", line 110, in worker\n",
      "    task = get()\n",
      "  File \"/usr/local/miniconda/lib/python3.7/multiprocessing/pool.py\", line 110, in worker\n",
      "    task = get()\n",
      "  File \"/usr/local/miniconda/lib/python3.7/multiprocessing/pool.py\", line 110, in worker\n",
      "    task = get()\n",
      "  File \"/usr/local/miniconda/lib/python3.7/multiprocessing/pool.py\", line 110, in worker\n",
      "    task = get()\n",
      "  File \"/usr/local/miniconda/lib/python3.7/multiprocessing/pool.py\", line 110, in worker\n",
      "    task = get()\n",
      "  File \"/usr/local/miniconda/lib/python3.7/multiprocessing/process.py\", line 297, in _bootstrap\n",
      "    self.run()\n",
      "  File \"/usr/local/miniconda/lib/python3.7/multiprocessing/pool.py\", line 110, in worker\n",
      "    task = get()\n",
      "  File \"/usr/local/miniconda/lib/python3.7/multiprocessing/pool.py\", line 110, in worker\n",
      "    task = get()\n"
     ]
    },
    {
     "name": "stderr",
     "output_type": "stream",
     "text": [
      "  File \"/usr/local/miniconda/lib/python3.7/multiprocessing/pool.py\", line 110, in worker\n",
      "    task = get()\n",
      "  File \"/usr/local/miniconda/lib/python3.7/multiprocessing/process.py\", line 297, in _bootstrap\n",
      "    self.run()\n",
      "  File \"/usr/local/miniconda/lib/python3.7/multiprocessing/process.py\", line 297, in _bootstrap\n",
      "    self.run()\n",
      "  File \"/usr/local/miniconda/lib/python3.7/multiprocessing/queues.py\", line 351, in get\n",
      "    with self._rlock:\n",
      "  File \"/usr/local/miniconda/lib/python3.7/multiprocessing/pool.py\", line 110, in worker\n",
      "    task = get()\n",
      "  File \"/usr/local/miniconda/lib/python3.7/multiprocessing/pool.py\", line 110, in worker\n",
      "    task = get()\n",
      "  File \"/usr/local/miniconda/lib/python3.7/multiprocessing/process.py\", line 297, in _bootstrap\n",
      "    self.run()\n",
      "  File \"/usr/local/miniconda/lib/python3.7/multiprocessing/pool.py\", line 110, in worker\n",
      "    task = get()\n",
      "  File \"/usr/local/miniconda/lib/python3.7/multiprocessing/pool.py\", line 110, in worker\n",
      "    task = get()\n",
      "  File \"/usr/local/miniconda/lib/python3.7/multiprocessing/queues.py\", line 351, in get\n",
      "    with self._rlock:\n",
      "  File \"/usr/local/miniconda/lib/python3.7/multiprocessing/pool.py\", line 110, in worker\n",
      "    task = get()\n",
      "  File \"/usr/local/miniconda/lib/python3.7/multiprocessing/queues.py\", line 351, in get\n",
      "    with self._rlock:\n",
      "  File \"/usr/local/miniconda/lib/python3.7/multiprocessing/queues.py\", line 351, in get\n",
      "    with self._rlock:\n",
      "  File \"/usr/local/miniconda/lib/python3.7/multiprocessing/queues.py\", line 351, in get\n",
      "    with self._rlock:\n",
      "  File \"/usr/local/miniconda/lib/python3.7/multiprocessing/pool.py\", line 110, in worker\n",
      "    task = get()\n",
      "  File \"/usr/local/miniconda/lib/python3.7/multiprocessing/process.py\", line 297, in _bootstrap\n",
      "    self.run()\n",
      "  File \"/usr/local/miniconda/lib/python3.7/multiprocessing/pool.py\", line 110, in worker\n",
      "    task = get()\n",
      "  File \"/usr/local/miniconda/lib/python3.7/multiprocessing/queues.py\", line 351, in get\n",
      "    with self._rlock:\n",
      "  File \"/usr/local/miniconda/lib/python3.7/multiprocessing/pool.py\", line 110, in worker\n",
      "    task = get()\n",
      "  File \"/usr/local/miniconda/lib/python3.7/multiprocessing/queues.py\", line 351, in get\n",
      "    with self._rlock:\n",
      "  File \"/usr/local/miniconda/lib/python3.7/multiprocessing/process.py\", line 297, in _bootstrap\n",
      "    self.run()\n",
      "  File \"/usr/local/miniconda/lib/python3.7/multiprocessing/process.py\", line 297, in _bootstrap\n",
      "    self.run()\n",
      "  File \"/usr/local/miniconda/lib/python3.7/multiprocessing/queues.py\", line 351, in get\n",
      "    with self._rlock:\n",
      "  File \"/usr/local/miniconda/lib/python3.7/multiprocessing/pool.py\", line 110, in worker\n",
      "    task = get()\n",
      "  File \"/usr/local/miniconda/lib/python3.7/multiprocessing/pool.py\", line 110, in worker\n",
      "    task = get()\n",
      "  File \"/usr/local/miniconda/lib/python3.7/multiprocessing/process.py\", line 297, in _bootstrap\n",
      "    self.run()\n",
      "  File \"/usr/local/miniconda/lib/python3.7/multiprocessing/pool.py\", line 110, in worker\n",
      "    task = get()\n",
      "Process ForkPoolWorker-39:\n",
      "  File \"/usr/local/miniconda/lib/python3.7/multiprocessing/queues.py\", line 351, in get\n",
      "    with self._rlock:\n",
      "  File \"/usr/local/miniconda/lib/python3.7/multiprocessing/queues.py\", line 351, in get\n",
      "    with self._rlock:\n",
      "  File \"/usr/local/miniconda/lib/python3.7/multiprocessing/queues.py\", line 351, in get\n",
      "    with self._rlock:\n",
      "  File \"/usr/local/miniconda/lib/python3.7/multiprocessing/pool.py\", line 110, in worker\n",
      "    task = get()\n",
      "  File \"/usr/local/miniconda/lib/python3.7/multiprocessing/queues.py\", line 351, in get\n",
      "    with self._rlock:\n",
      "  File \"/usr/local/miniconda/lib/python3.7/multiprocessing/queues.py\", line 351, in get\n",
      "    with self._rlock:\n",
      "  File \"/usr/local/miniconda/lib/python3.7/multiprocessing/pool.py\", line 110, in worker\n",
      "    task = get()\n",
      "  File \"/usr/local/miniconda/lib/python3.7/multiprocessing/pool.py\", line 110, in worker\n",
      "    task = get()\n",
      "  File \"/usr/local/miniconda/lib/python3.7/multiprocessing/queues.py\", line 351, in get\n",
      "    with self._rlock:\n",
      "  File \"/usr/local/miniconda/lib/python3.7/multiprocessing/pool.py\", line 110, in worker\n",
      "    task = get()\n",
      "  File \"/usr/local/miniconda/lib/python3.7/multiprocessing/pool.py\", line 110, in worker\n",
      "    task = get()\n",
      "  File \"/usr/local/miniconda/lib/python3.7/multiprocessing/queues.py\", line 351, in get\n",
      "    with self._rlock:\n",
      "  File \"/usr/local/miniconda/lib/python3.7/multiprocessing/queues.py\", line 351, in get\n",
      "    with self._rlock:\n",
      "  File \"/usr/local/miniconda/lib/python3.7/multiprocessing/queues.py\", line 351, in get\n",
      "    with self._rlock:\n",
      "  File \"/usr/local/miniconda/lib/python3.7/multiprocessing/queues.py\", line 351, in get\n",
      "    with self._rlock:\n",
      "  File \"/usr/local/miniconda/lib/python3.7/multiprocessing/queues.py\", line 351, in get\n",
      "    with self._rlock:\n",
      "  File \"/usr/local/miniconda/lib/python3.7/multiprocessing/queues.py\", line 351, in get\n",
      "    with self._rlock:\n",
      "  File \"/usr/local/miniconda/lib/python3.7/multiprocessing/queues.py\", line 351, in get\n",
      "    with self._rlock:\n",
      "  File \"/usr/local/miniconda/lib/python3.7/multiprocessing/queues.py\", line 351, in get\n",
      "    with self._rlock:\n",
      "  File \"/usr/local/miniconda/lib/python3.7/multiprocessing/queues.py\", line 351, in get\n",
      "    with self._rlock:\n",
      "  File \"/usr/local/miniconda/lib/python3.7/multiprocessing/queues.py\", line 351, in get\n",
      "    with self._rlock:\n",
      "  File \"/usr/local/miniconda/lib/python3.7/multiprocessing/queues.py\", line 351, in get\n",
      "    with self._rlock:\n",
      "  File \"/usr/local/miniconda/lib/python3.7/multiprocessing/queues.py\", line 351, in get\n",
      "    with self._rlock:\n",
      "  File \"/usr/local/miniconda/lib/python3.7/multiprocessing/queues.py\", line 351, in get\n",
      "    with self._rlock:\n",
      "  File \"/usr/local/miniconda/lib/python3.7/multiprocessing/queues.py\", line 351, in get\n",
      "    with self._rlock:\n",
      "  File \"/usr/local/miniconda/lib/python3.7/multiprocessing/queues.py\", line 351, in get\n",
      "    with self._rlock:\n",
      "  File \"/usr/local/miniconda/lib/python3.7/multiprocessing/queues.py\", line 351, in get\n",
      "    with self._rlock:\n",
      "  File \"/usr/local/miniconda/lib/python3.7/multiprocessing/queues.py\", line 351, in get\n",
      "    with self._rlock:\n",
      "  File \"/usr/local/miniconda/lib/python3.7/multiprocessing/queues.py\", line 351, in get\n",
      "    with self._rlock:\n",
      "  File \"/usr/local/miniconda/lib/python3.7/multiprocessing/queues.py\", line 351, in get\n",
      "    with self._rlock:\n",
      "  File \"/usr/local/miniconda/lib/python3.7/multiprocessing/queues.py\", line 351, in get\n",
      "    with self._rlock:\n",
      "  File \"/usr/local/miniconda/lib/python3.7/multiprocessing/queues.py\", line 351, in get\n",
      "    with self._rlock:\n",
      "  File \"/usr/local/miniconda/lib/python3.7/multiprocessing/queues.py\", line 351, in get\n",
      "    with self._rlock:\n",
      "  File \"/usr/local/miniconda/lib/python3.7/multiprocessing/queues.py\", line 351, in get\n",
      "    with self._rlock:\n",
      "  File \"/usr/local/miniconda/lib/python3.7/multiprocessing/queues.py\", line 351, in get\n",
      "    with self._rlock:\n",
      "  File \"/usr/local/miniconda/lib/python3.7/multiprocessing/queues.py\", line 351, in get\n",
      "    with self._rlock:\n",
      "  File \"/usr/local/miniconda/lib/python3.7/multiprocessing/queues.py\", line 351, in get\n",
      "    with self._rlock:\n",
      "  File \"/usr/local/miniconda/lib/python3.7/multiprocessing/queues.py\", line 351, in get\n",
      "    with self._rlock:\n",
      "  File \"/usr/local/miniconda/lib/python3.7/multiprocessing/queues.py\", line 351, in get\n",
      "    with self._rlock:\n",
      "  File \"/usr/local/miniconda/lib/python3.7/multiprocessing/queues.py\", line 351, in get\n",
      "    with self._rlock:\n",
      "  File \"/usr/local/miniconda/lib/python3.7/multiprocessing/queues.py\", line 351, in get\n",
      "    with self._rlock:\n",
      "  File \"/usr/local/miniconda/lib/python3.7/multiprocessing/process.py\", line 99, in run\n",
      "    self._target(*self._args, **self._kwargs)\n",
      "  File \"/usr/local/miniconda/lib/python3.7/multiprocessing/queues.py\", line 351, in get\n",
      "    with self._rlock:\n",
      "  File \"/usr/local/miniconda/lib/python3.7/multiprocessing/queues.py\", line 351, in get\n",
      "    with self._rlock:\n",
      "  File \"/usr/local/miniconda/lib/python3.7/multiprocessing/queues.py\", line 351, in get\n",
      "    with self._rlock:\n",
      "  File \"/usr/local/miniconda/lib/python3.7/multiprocessing/process.py\", line 99, in run\n",
      "    self._target(*self._args, **self._kwargs)\n",
      "  File \"/usr/local/miniconda/lib/python3.7/multiprocessing/synchronize.py\", line 95, in __enter__\n",
      "    return self._semlock.__enter__()\n",
      "  File \"/usr/local/miniconda/lib/python3.7/multiprocessing/process.py\", line 99, in run\n",
      "    self._target(*self._args, **self._kwargs)\n"
     ]
    },
    {
     "name": "stderr",
     "output_type": "stream",
     "text": [
      "  File \"/usr/local/miniconda/lib/python3.7/multiprocessing/queues.py\", line 351, in get\n",
      "    with self._rlock:\n",
      "  File \"/usr/local/miniconda/lib/python3.7/multiprocessing/process.py\", line 99, in run\n",
      "    self._target(*self._args, **self._kwargs)\n",
      "  File \"/usr/local/miniconda/lib/python3.7/multiprocessing/queues.py\", line 351, in get\n",
      "    with self._rlock:\n",
      "  File \"/usr/local/miniconda/lib/python3.7/multiprocessing/queues.py\", line 351, in get\n",
      "    with self._rlock:\n",
      "  File \"/usr/local/miniconda/lib/python3.7/multiprocessing/queues.py\", line 351, in get\n",
      "    with self._rlock:\n",
      "  File \"/usr/local/miniconda/lib/python3.7/multiprocessing/queues.py\", line 351, in get\n",
      "    with self._rlock:\n",
      "  File \"/usr/local/miniconda/lib/python3.7/multiprocessing/synchronize.py\", line 95, in __enter__\n",
      "    return self._semlock.__enter__()\n",
      "  File \"/usr/local/miniconda/lib/python3.7/multiprocessing/synchronize.py\", line 95, in __enter__\n",
      "    return self._semlock.__enter__()\n",
      "  File \"/usr/local/miniconda/lib/python3.7/multiprocessing/synchronize.py\", line 95, in __enter__\n",
      "    return self._semlock.__enter__()\n",
      "  File \"/usr/local/miniconda/lib/python3.7/multiprocessing/process.py\", line 99, in run\n",
      "    self._target(*self._args, **self._kwargs)\n",
      "  File \"/usr/local/miniconda/lib/python3.7/multiprocessing/synchronize.py\", line 95, in __enter__\n",
      "    return self._semlock.__enter__()\n",
      "  File \"/usr/local/miniconda/lib/python3.7/multiprocessing/queues.py\", line 351, in get\n",
      "    with self._rlock:\n",
      "  File \"/usr/local/miniconda/lib/python3.7/multiprocessing/synchronize.py\", line 95, in __enter__\n",
      "    return self._semlock.__enter__()\n",
      "  File \"/usr/local/miniconda/lib/python3.7/multiprocessing/queues.py\", line 351, in get\n",
      "    with self._rlock:\n",
      "  File \"/usr/local/miniconda/lib/python3.7/multiprocessing/queues.py\", line 351, in get\n",
      "    with self._rlock:\n",
      "  File \"/usr/local/miniconda/lib/python3.7/multiprocessing/synchronize.py\", line 95, in __enter__\n",
      "    return self._semlock.__enter__()\n",
      "  File \"/usr/local/miniconda/lib/python3.7/multiprocessing/process.py\", line 99, in run\n",
      "    self._target(*self._args, **self._kwargs)\n",
      "  File \"/usr/local/miniconda/lib/python3.7/multiprocessing/process.py\", line 99, in run\n",
      "    self._target(*self._args, **self._kwargs)\n",
      "  File \"/usr/local/miniconda/lib/python3.7/multiprocessing/queues.py\", line 351, in get\n",
      "    with self._rlock:\n",
      "  File \"/usr/local/miniconda/lib/python3.7/multiprocessing/queues.py\", line 351, in get\n",
      "    with self._rlock:\n",
      "  File \"/usr/local/miniconda/lib/python3.7/multiprocessing/process.py\", line 99, in run\n",
      "    self._target(*self._args, **self._kwargs)\n",
      "  File \"/usr/local/miniconda/lib/python3.7/multiprocessing/synchronize.py\", line 95, in __enter__\n",
      "    return self._semlock.__enter__()\n",
      "  File \"/usr/local/miniconda/lib/python3.7/multiprocessing/synchronize.py\", line 95, in __enter__\n",
      "    return self._semlock.__enter__()\n",
      "  File \"/usr/local/miniconda/lib/python3.7/multiprocessing/queues.py\", line 351, in get\n",
      "    with self._rlock:\n",
      "  File \"/usr/local/miniconda/lib/python3.7/multiprocessing/synchronize.py\", line 95, in __enter__\n",
      "    return self._semlock.__enter__()\n",
      "  File \"/usr/local/miniconda/lib/python3.7/multiprocessing/synchronize.py\", line 95, in __enter__\n",
      "    return self._semlock.__enter__()\n",
      "  File \"/usr/local/miniconda/lib/python3.7/multiprocessing/queues.py\", line 351, in get\n",
      "    with self._rlock:\n",
      "  File \"/usr/local/miniconda/lib/python3.7/multiprocessing/synchronize.py\", line 95, in __enter__\n",
      "    return self._semlock.__enter__()\n",
      "  File \"/usr/local/miniconda/lib/python3.7/multiprocessing/queues.py\", line 351, in get\n",
      "    with self._rlock:\n",
      "  File \"/usr/local/miniconda/lib/python3.7/multiprocessing/synchronize.py\", line 95, in __enter__\n",
      "    return self._semlock.__enter__()\n",
      "  File \"/usr/local/miniconda/lib/python3.7/multiprocessing/queues.py\", line 351, in get\n",
      "    with self._rlock:\n",
      "  File \"/usr/local/miniconda/lib/python3.7/multiprocessing/synchronize.py\", line 95, in __enter__\n",
      "    return self._semlock.__enter__()\n",
      "  File \"/usr/local/miniconda/lib/python3.7/multiprocessing/queues.py\", line 351, in get\n",
      "    with self._rlock:\n",
      "  File \"/usr/local/miniconda/lib/python3.7/multiprocessing/queues.py\", line 352, in get\n",
      "    res = self._reader.recv_bytes()\n",
      "  File \"/usr/local/miniconda/lib/python3.7/multiprocessing/synchronize.py\", line 95, in __enter__\n",
      "    return self._semlock.__enter__()\n",
      "  File \"/usr/local/miniconda/lib/python3.7/multiprocessing/synchronize.py\", line 95, in __enter__\n",
      "    return self._semlock.__enter__()\n",
      "Traceback (most recent call last):\n",
      "  File \"/usr/local/miniconda/lib/python3.7/multiprocessing/synchronize.py\", line 95, in __enter__\n",
      "    return self._semlock.__enter__()\n",
      "  File \"/usr/local/miniconda/lib/python3.7/multiprocessing/synchronize.py\", line 95, in __enter__\n",
      "    return self._semlock.__enter__()\n",
      "  File \"/usr/local/miniconda/lib/python3.7/multiprocessing/synchronize.py\", line 95, in __enter__\n",
      "    return self._semlock.__enter__()\n",
      "  File \"/usr/local/miniconda/lib/python3.7/multiprocessing/synchronize.py\", line 95, in __enter__\n",
      "    return self._semlock.__enter__()\n",
      "  File \"/usr/local/miniconda/lib/python3.7/multiprocessing/synchronize.py\", line 95, in __enter__\n",
      "    return self._semlock.__enter__()\n",
      "  File \"/usr/local/miniconda/lib/python3.7/multiprocessing/synchronize.py\", line 95, in __enter__\n",
      "    return self._semlock.__enter__()\n",
      "  File \"/usr/local/miniconda/lib/python3.7/multiprocessing/synchronize.py\", line 95, in __enter__\n",
      "    return self._semlock.__enter__()\n",
      "  File \"/usr/local/miniconda/lib/python3.7/multiprocessing/synchronize.py\", line 95, in __enter__\n",
      "    return self._semlock.__enter__()\n",
      "  File \"/usr/local/miniconda/lib/python3.7/multiprocessing/synchronize.py\", line 95, in __enter__\n",
      "    return self._semlock.__enter__()\n",
      "  File \"/usr/local/miniconda/lib/python3.7/multiprocessing/synchronize.py\", line 95, in __enter__\n",
      "    return self._semlock.__enter__()\n",
      "  File \"/usr/local/miniconda/lib/python3.7/multiprocessing/synchronize.py\", line 95, in __enter__\n",
      "    return self._semlock.__enter__()\n",
      "  File \"/usr/local/miniconda/lib/python3.7/multiprocessing/synchronize.py\", line 95, in __enter__\n",
      "    return self._semlock.__enter__()\n",
      "  File \"/usr/local/miniconda/lib/python3.7/multiprocessing/synchronize.py\", line 95, in __enter__\n",
      "    return self._semlock.__enter__()\n",
      "  File \"/usr/local/miniconda/lib/python3.7/multiprocessing/synchronize.py\", line 95, in __enter__\n",
      "    return self._semlock.__enter__()\n",
      "  File \"/usr/local/miniconda/lib/python3.7/multiprocessing/synchronize.py\", line 95, in __enter__\n",
      "    return self._semlock.__enter__()\n",
      "  File \"/usr/local/miniconda/lib/python3.7/multiprocessing/synchronize.py\", line 95, in __enter__\n",
      "    return self._semlock.__enter__()\n",
      "  File \"/usr/local/miniconda/lib/python3.7/multiprocessing/synchronize.py\", line 95, in __enter__\n",
      "    return self._semlock.__enter__()\n",
      "  File \"/usr/local/miniconda/lib/python3.7/multiprocessing/synchronize.py\", line 95, in __enter__\n",
      "    return self._semlock.__enter__()\n",
      "  File \"/usr/local/miniconda/lib/python3.7/multiprocessing/synchronize.py\", line 95, in __enter__\n",
      "    return self._semlock.__enter__()\n",
      "  File \"/usr/local/miniconda/lib/python3.7/multiprocessing/synchronize.py\", line 95, in __enter__\n",
      "    return self._semlock.__enter__()\n",
      "  File \"/usr/local/miniconda/lib/python3.7/multiprocessing/synchronize.py\", line 95, in __enter__\n",
      "    return self._semlock.__enter__()\n",
      "  File \"/usr/local/miniconda/lib/python3.7/multiprocessing/synchronize.py\", line 95, in __enter__\n",
      "    return self._semlock.__enter__()\n",
      "  File \"/usr/local/miniconda/lib/python3.7/multiprocessing/synchronize.py\", line 95, in __enter__\n",
      "    return self._semlock.__enter__()\n",
      "  File \"/usr/local/miniconda/lib/python3.7/multiprocessing/synchronize.py\", line 95, in __enter__\n",
      "    return self._semlock.__enter__()\n",
      "  File \"/usr/local/miniconda/lib/python3.7/multiprocessing/synchronize.py\", line 95, in __enter__\n",
      "    return self._semlock.__enter__()\n",
      "  File \"/usr/local/miniconda/lib/python3.7/multiprocessing/synchronize.py\", line 95, in __enter__\n",
      "    return self._semlock.__enter__()\n",
      "  File \"/usr/local/miniconda/lib/python3.7/multiprocessing/synchronize.py\", line 95, in __enter__\n",
      "    return self._semlock.__enter__()\n",
      "  File \"/usr/local/miniconda/lib/python3.7/multiprocessing/synchronize.py\", line 95, in __enter__\n",
      "    return self._semlock.__enter__()\n"
     ]
    },
    {
     "name": "stderr",
     "output_type": "stream",
     "text": [
      "  File \"/usr/local/miniconda/lib/python3.7/multiprocessing/pool.py\", line 110, in worker\n",
      "    task = get()\n",
      "  File \"/usr/local/miniconda/lib/python3.7/multiprocessing/synchronize.py\", line 95, in __enter__\n",
      "    return self._semlock.__enter__()\n",
      "  File \"/usr/local/miniconda/lib/python3.7/multiprocessing/synchronize.py\", line 95, in __enter__\n",
      "    return self._semlock.__enter__()\n",
      "  File \"/usr/local/miniconda/lib/python3.7/multiprocessing/synchronize.py\", line 95, in __enter__\n",
      "    return self._semlock.__enter__()\n",
      "  File \"/usr/local/miniconda/lib/python3.7/multiprocessing/pool.py\", line 110, in worker\n",
      "    task = get()\n",
      "KeyboardInterrupt\n",
      "  File \"/usr/local/miniconda/lib/python3.7/multiprocessing/pool.py\", line 110, in worker\n",
      "    task = get()\n",
      "  File \"/usr/local/miniconda/lib/python3.7/multiprocessing/synchronize.py\", line 95, in __enter__\n",
      "    return self._semlock.__enter__()\n",
      "  File \"/usr/local/miniconda/lib/python3.7/multiprocessing/pool.py\", line 110, in worker\n",
      "    task = get()\n",
      "  File \"/usr/local/miniconda/lib/python3.7/multiprocessing/synchronize.py\", line 95, in __enter__\n",
      "    return self._semlock.__enter__()\n",
      "KeyboardInterrupt\n",
      "KeyboardInterrupt\n",
      "  File \"/usr/local/miniconda/lib/python3.7/multiprocessing/synchronize.py\", line 95, in __enter__\n",
      "    return self._semlock.__enter__()\n",
      "  File \"/usr/local/miniconda/lib/python3.7/multiprocessing/pool.py\", line 110, in worker\n",
      "    task = get()\n",
      "  File \"/usr/local/miniconda/lib/python3.7/multiprocessing/pool.py\", line 110, in worker\n",
      "    task = get()\n",
      "  File \"/usr/local/miniconda/lib/python3.7/multiprocessing/synchronize.py\", line 95, in __enter__\n",
      "    return self._semlock.__enter__()\n",
      "  File \"/usr/local/miniconda/lib/python3.7/multiprocessing/synchronize.py\", line 95, in __enter__\n",
      "    return self._semlock.__enter__()\n",
      "  File \"/usr/local/miniconda/lib/python3.7/multiprocessing/synchronize.py\", line 95, in __enter__\n",
      "    return self._semlock.__enter__()\n",
      "  File \"/usr/local/miniconda/lib/python3.7/multiprocessing/synchronize.py\", line 95, in __enter__\n",
      "    return self._semlock.__enter__()\n",
      "  File \"/usr/local/miniconda/lib/python3.7/multiprocessing/synchronize.py\", line 95, in __enter__\n",
      "    return self._semlock.__enter__()\n",
      "KeyboardInterrupt\n",
      "  File \"/usr/local/miniconda/lib/python3.7/multiprocessing/synchronize.py\", line 95, in __enter__\n",
      "    return self._semlock.__enter__()\n",
      "  File \"/usr/local/miniconda/lib/python3.7/multiprocessing/synchronize.py\", line 95, in __enter__\n",
      "    return self._semlock.__enter__()\n",
      "  File \"/usr/local/miniconda/lib/python3.7/multiprocessing/synchronize.py\", line 95, in __enter__\n",
      "    return self._semlock.__enter__()\n",
      "  File \"/usr/local/miniconda/lib/python3.7/multiprocessing/pool.py\", line 110, in worker\n",
      "    task = get()\n",
      "KeyboardInterrupt\n",
      "  File \"/usr/local/miniconda/lib/python3.7/multiprocessing/pool.py\", line 110, in worker\n",
      "    task = get()\n",
      "KeyboardInterrupt\n",
      "KeyboardInterrupt\n",
      "  File \"/usr/local/miniconda/lib/python3.7/multiprocessing/process.py\", line 297, in _bootstrap\n",
      "    self.run()\n",
      "  File \"/usr/local/miniconda/lib/python3.7/multiprocessing/connection.py\", line 216, in recv_bytes\n",
      "    buf = self._recv_bytes(maxlength)\n",
      "KeyboardInterrupt\n",
      "  File \"/usr/local/miniconda/lib/python3.7/multiprocessing/synchronize.py\", line 95, in __enter__\n",
      "    return self._semlock.__enter__()\n",
      "KeyboardInterrupt\n",
      "KeyboardInterrupt\n",
      "KeyboardInterrupt\n",
      "  File \"/usr/local/miniconda/lib/python3.7/multiprocessing/synchronize.py\", line 95, in __enter__\n",
      "    return self._semlock.__enter__()\n",
      "KeyboardInterrupt\n",
      "  File \"/usr/local/miniconda/lib/python3.7/multiprocessing/synchronize.py\", line 95, in __enter__\n",
      "    return self._semlock.__enter__()\n",
      "KeyboardInterrupt\n",
      "KeyboardInterrupt\n",
      "KeyboardInterrupt\n",
      "KeyboardInterrupt\n",
      "  File \"/usr/local/miniconda/lib/python3.7/multiprocessing/synchronize.py\", line 95, in __enter__\n",
      "    return self._semlock.__enter__()\n",
      "KeyboardInterrupt\n",
      "KeyboardInterrupt\n",
      "KeyboardInterrupt\n",
      "KeyboardInterrupt\n",
      "KeyboardInterrupt\n",
      "KeyboardInterrupt\n",
      "KeyboardInterrupt\n",
      "KeyboardInterrupt\n",
      "KeyboardInterrupt\n",
      "KeyboardInterrupt\n",
      "KeyboardInterrupt\n",
      "KeyboardInterrupt\n",
      "KeyboardInterrupt\n",
      "KeyboardInterrupt\n",
      "KeyboardInterrupt\n",
      "KeyboardInterrupt\n",
      "KeyboardInterrupt\n",
      "KeyboardInterrupt\n",
      "KeyboardInterrupt\n",
      "KeyboardInterrupt\n",
      "KeyboardInterrupt\n",
      "KeyboardInterrupt\n",
      "KeyboardInterrupt\n",
      "KeyboardInterrupt\n",
      "KeyboardInterrupt\n",
      "KeyboardInterrupt\n",
      "KeyboardInterrupt\n",
      "KeyboardInterrupt\n",
      "  File \"/usr/local/miniconda/lib/python3.7/multiprocessing/queues.py\", line 351, in get\n",
      "    with self._rlock:\n",
      "KeyboardInterrupt\n",
      "  File \"/usr/local/miniconda/lib/python3.7/multiprocessing/queues.py\", line 351, in get\n",
      "    with self._rlock:\n",
      "KeyboardInterrupt\n",
      "KeyboardInterrupt\n",
      "  File \"/usr/local/miniconda/lib/python3.7/multiprocessing/queues.py\", line 351, in get\n",
      "    with self._rlock:\n",
      "  File \"/usr/local/miniconda/lib/python3.7/multiprocessing/queues.py\", line 351, in get\n",
      "    with self._rlock:\n",
      "  File \"/usr/local/miniconda/lib/python3.7/multiprocessing/queues.py\", line 351, in get\n",
      "    with self._rlock:\n",
      "KeyboardInterrupt\n",
      "KeyboardInterrupt\n",
      "  File \"/usr/local/miniconda/lib/python3.7/multiprocessing/queues.py\", line 351, in get\n",
      "    with self._rlock:\n",
      "KeyboardInterrupt\n",
      "KeyboardInterrupt\n",
      "KeyboardInterrupt\n",
      "KeyboardInterrupt\n",
      "KeyboardInterrupt\n",
      "  File \"/usr/local/miniconda/lib/python3.7/multiprocessing/queues.py\", line 351, in get\n",
      "    with self._rlock:\n",
      "KeyboardInterrupt\n",
      "KeyboardInterrupt\n",
      "  File \"/usr/local/miniconda/lib/python3.7/multiprocessing/queues.py\", line 351, in get\n",
      "    with self._rlock:\n",
      "KeyboardInterrupt\n",
      "KeyboardInterrupt\n",
      "KeyboardInterrupt\n",
      "  File \"/usr/local/miniconda/lib/python3.7/multiprocessing/synchronize.py\", line 95, in __enter__\n",
      "    return self._semlock.__enter__()\n",
      "  File \"/usr/local/miniconda/lib/python3.7/multiprocessing/connection.py\", line 407, in _recv_bytes\n",
      "    buf = self._recv(4)\n",
      "  File \"/usr/local/miniconda/lib/python3.7/multiprocessing/synchronize.py\", line 95, in __enter__\n",
      "    return self._semlock.__enter__()\n",
      "KeyboardInterrupt\n",
      "KeyboardInterrupt\n",
      "  File \"/usr/local/miniconda/lib/python3.7/multiprocessing/process.py\", line 99, in run\n",
      "    self._target(*self._args, **self._kwargs)\n",
      "KeyboardInterrupt\n",
      "KeyboardInterrupt\n",
      "  File \"/usr/local/miniconda/lib/python3.7/multiprocessing/synchronize.py\", line 95, in __enter__\n",
      "    return self._semlock.__enter__()\n",
      "  File \"/usr/local/miniconda/lib/python3.7/multiprocessing/pool.py\", line 110, in worker\n",
      "    task = get()\n",
      "  File \"/usr/local/miniconda/lib/python3.7/multiprocessing/synchronize.py\", line 95, in __enter__\n",
      "    return self._semlock.__enter__()\n",
      "KeyboardInterrupt\n",
      "  File \"/usr/local/miniconda/lib/python3.7/multiprocessing/synchronize.py\", line 95, in __enter__\n",
      "    return self._semlock.__enter__()\n",
      "KeyboardInterrupt\n",
      "  File \"/usr/local/miniconda/lib/python3.7/multiprocessing/connection.py\", line 379, in _recv\n",
      "    chunk = read(handle, remaining)\n",
      "  File \"/usr/local/miniconda/lib/python3.7/multiprocessing/synchronize.py\", line 95, in __enter__\n",
      "    return self._semlock.__enter__()\n",
      "KeyboardInterrupt\n",
      "  File \"/usr/local/miniconda/lib/python3.7/multiprocessing/synchronize.py\", line 95, in __enter__\n",
      "    return self._semlock.__enter__()\n",
      "  File \"/usr/local/miniconda/lib/python3.7/multiprocessing/synchronize.py\", line 95, in __enter__\n",
      "    return self._semlock.__enter__()\n",
      "KeyboardInterrupt\n",
      "  File \"/usr/local/miniconda/lib/python3.7/multiprocessing/queues.py\", line 351, in get\n",
      "    with self._rlock:\n",
      "KeyboardInterrupt\n",
      "KeyboardInterrupt\n",
      "KeyboardInterrupt\n",
      "  File \"/usr/local/miniconda/lib/python3.7/multiprocessing/synchronize.py\", line 95, in __enter__\n",
      "    return self._semlock.__enter__()\n",
      "KeyboardInterrupt\n",
      "KeyboardInterrupt\n"
     ]
    }
   ],
   "source": [
    "from Research.feature.ft import FeatureAnalysis\n",
    "import Research.utils.namespace as namespace\n",
    "configs = namespace.load_namespace(r'/home/ShareFolder/lgc/Modules/Research/config/feature_bt_template')\n",
    "FT = FeatureAnalysis(configs, feature_path=r\"/home/ShareFolder/feature_platform\")\n",
    "FT.load_feature_from_file([\"10d_ret_standscalar\"], \"2015-01-01\", \"2022-01-01\", universe='Investable', timedelta=None)\n",
    "a = FT.feature_data\n",
    "del FT\n",
    "a.columns = [\"target\"]\n",
    "a.reset_index(inplace=True)\n",
    "a[\"timestamp\"] = pd.to_datetime(a[\"timestamp\"])\n",
    "a[\"ticker\"] = a[\"ticker\"].apply(lambda x: str(x).zfill(6))\n",
    "a.set_index([\"timestamp\",\"ticker\"],inplace=True)\n",
    "a"
   ]
  },
  {
   "cell_type": "code",
   "execution_count": 5,
   "id": "adb8cff5",
   "metadata": {
    "ExecuteTime": {
     "end_time": "2022-01-13T08:20:05.726054Z",
     "start_time": "2022-01-13T08:18:05.596022Z"
    }
   },
   "outputs": [
    {
     "name": "stderr",
     "output_type": "stream",
     "text": [
      "100%|██████████| 26/26 [00:00<00:00, 20072.13it/s]\n",
      "100%|██████████| 26/26 [00:00<00:00, 79252.84it/s]"
     ]
    },
    {
     "name": "stdout",
     "output_type": "stream",
     "text": [
      "并行执行时间： 85\n"
     ]
    },
    {
     "name": "stderr",
     "output_type": "stream",
     "text": [
      "\n"
     ]
    },
    {
     "data": {
      "text/html": [
       "<div>\n",
       "<style scoped>\n",
       "    .dataframe tbody tr th:only-of-type {\n",
       "        vertical-align: middle;\n",
       "    }\n",
       "\n",
       "    .dataframe tbody tr th {\n",
       "        vertical-align: top;\n",
       "    }\n",
       "\n",
       "    .dataframe thead th {\n",
       "        text-align: right;\n",
       "    }\n",
       "</style>\n",
       "<table border=\"1\" class=\"dataframe\">\n",
       "  <thead>\n",
       "    <tr style=\"text-align: right;\">\n",
       "      <th></th>\n",
       "      <th></th>\n",
       "      <th>0</th>\n",
       "      <th>1</th>\n",
       "      <th>2</th>\n",
       "      <th>3</th>\n",
       "      <th>4</th>\n",
       "      <th>5</th>\n",
       "      <th>6</th>\n",
       "      <th>7</th>\n",
       "      <th>8</th>\n",
       "      <th>9</th>\n",
       "      <th>...</th>\n",
       "      <th>638</th>\n",
       "      <th>639</th>\n",
       "      <th>640</th>\n",
       "      <th>641</th>\n",
       "      <th>642</th>\n",
       "      <th>643</th>\n",
       "      <th>644</th>\n",
       "      <th>645</th>\n",
       "      <th>646</th>\n",
       "      <th>647</th>\n",
       "    </tr>\n",
       "    <tr>\n",
       "      <th>timestamp</th>\n",
       "      <th>ticker</th>\n",
       "      <th></th>\n",
       "      <th></th>\n",
       "      <th></th>\n",
       "      <th></th>\n",
       "      <th></th>\n",
       "      <th></th>\n",
       "      <th></th>\n",
       "      <th></th>\n",
       "      <th></th>\n",
       "      <th></th>\n",
       "      <th></th>\n",
       "      <th></th>\n",
       "      <th></th>\n",
       "      <th></th>\n",
       "      <th></th>\n",
       "      <th></th>\n",
       "      <th></th>\n",
       "      <th></th>\n",
       "      <th></th>\n",
       "      <th></th>\n",
       "      <th></th>\n",
       "    </tr>\n",
       "  </thead>\n",
       "  <tbody>\n",
       "    <tr>\n",
       "      <th>2015-02-16 09:30:00</th>\n",
       "      <th>000001</th>\n",
       "      <td>1278.352474</td>\n",
       "      <td>1356.684188</td>\n",
       "      <td>84.211645</td>\n",
       "      <td>305.934957</td>\n",
       "      <td>345.439695</td>\n",
       "      <td>336.025436</td>\n",
       "      <td>1139.086324</td>\n",
       "      <td>1487.980910</td>\n",
       "      <td>277.481167</td>\n",
       "      <td>240.718855</td>\n",
       "      <td>...</td>\n",
       "      <td>1.415200</td>\n",
       "      <td>0.999382</td>\n",
       "      <td>1.038779</td>\n",
       "      <td>0.811546</td>\n",
       "      <td>3.275843</td>\n",
       "      <td>3.094361</td>\n",
       "      <td>2.806043</td>\n",
       "      <td>1.981571</td>\n",
       "      <td>2.059679</td>\n",
       "      <td>1.609096</td>\n",
       "    </tr>\n",
       "    <tr>\n",
       "      <th>2015-02-17 09:30:00</th>\n",
       "      <th>000001</th>\n",
       "      <td>1030.443350</td>\n",
       "      <td>1514.645083</td>\n",
       "      <td>132.414417</td>\n",
       "      <td>185.943348</td>\n",
       "      <td>320.944007</td>\n",
       "      <td>122.652576</td>\n",
       "      <td>839.606114</td>\n",
       "      <td>1821.394529</td>\n",
       "      <td>297.463117</td>\n",
       "      <td>90.108840</td>\n",
       "      <td>...</td>\n",
       "      <td>1.342818</td>\n",
       "      <td>0.938532</td>\n",
       "      <td>0.919450</td>\n",
       "      <td>0.752807</td>\n",
       "      <td>2.975504</td>\n",
       "      <td>3.348075</td>\n",
       "      <td>2.662504</td>\n",
       "      <td>1.860929</td>\n",
       "      <td>1.823046</td>\n",
       "      <td>1.492614</td>\n",
       "    </tr>\n",
       "    <tr>\n",
       "      <th>2015-02-25 09:30:00</th>\n",
       "      <th>000001</th>\n",
       "      <td>463.879957</td>\n",
       "      <td>1547.077226</td>\n",
       "      <td>148.908424</td>\n",
       "      <td>194.353805</td>\n",
       "      <td>323.140950</td>\n",
       "      <td>157.255464</td>\n",
       "      <td>406.156588</td>\n",
       "      <td>1787.884374</td>\n",
       "      <td>249.472157</td>\n",
       "      <td>61.761414</td>\n",
       "      <td>...</td>\n",
       "      <td>1.246000</td>\n",
       "      <td>1.167886</td>\n",
       "      <td>0.825050</td>\n",
       "      <td>0.727014</td>\n",
       "      <td>2.779632</td>\n",
       "      <td>3.228461</td>\n",
       "      <td>2.470561</td>\n",
       "      <td>2.315682</td>\n",
       "      <td>1.635886</td>\n",
       "      <td>1.441482</td>\n",
       "    </tr>\n",
       "    <tr>\n",
       "      <th>2015-02-26 09:30:00</th>\n",
       "      <th>000001</th>\n",
       "      <td>333.462852</td>\n",
       "      <td>1432.151831</td>\n",
       "      <td>244.562864</td>\n",
       "      <td>218.119383</td>\n",
       "      <td>336.025436</td>\n",
       "      <td>102.432443</td>\n",
       "      <td>294.482502</td>\n",
       "      <td>1643.154864</td>\n",
       "      <td>238.639079</td>\n",
       "      <td>109.499467</td>\n",
       "      <td>...</td>\n",
       "      <td>1.144404</td>\n",
       "      <td>1.151889</td>\n",
       "      <td>0.811546</td>\n",
       "      <td>0.687725</td>\n",
       "      <td>2.808371</td>\n",
       "      <td>3.180207</td>\n",
       "      <td>2.269082</td>\n",
       "      <td>2.283971</td>\n",
       "      <td>1.609096</td>\n",
       "      <td>1.363564</td>\n",
       "    </tr>\n",
       "    <tr>\n",
       "      <th>2015-02-27 09:30:00</th>\n",
       "      <th>000001</th>\n",
       "      <td>725.282183</td>\n",
       "      <td>1153.484800</td>\n",
       "      <td>400.814012</td>\n",
       "      <td>319.736495</td>\n",
       "      <td>122.652576</td>\n",
       "      <td>39.377121</td>\n",
       "      <td>810.496650</td>\n",
       "      <td>1415.693550</td>\n",
       "      <td>344.222212</td>\n",
       "      <td>228.711740</td>\n",
       "      <td>...</td>\n",
       "      <td>1.061889</td>\n",
       "      <td>1.122236</td>\n",
       "      <td>0.752807</td>\n",
       "      <td>0.775739</td>\n",
       "      <td>3.140421</td>\n",
       "      <td>2.915457</td>\n",
       "      <td>2.105493</td>\n",
       "      <td>2.225161</td>\n",
       "      <td>1.492614</td>\n",
       "      <td>1.538075</td>\n",
       "    </tr>\n",
       "    <tr>\n",
       "      <th>...</th>\n",
       "      <th>...</th>\n",
       "      <td>...</td>\n",
       "      <td>...</td>\n",
       "      <td>...</td>\n",
       "      <td>...</td>\n",
       "      <td>...</td>\n",
       "      <td>...</td>\n",
       "      <td>...</td>\n",
       "      <td>...</td>\n",
       "      <td>...</td>\n",
       "      <td>...</td>\n",
       "      <td>...</td>\n",
       "      <td>...</td>\n",
       "      <td>...</td>\n",
       "      <td>...</td>\n",
       "      <td>...</td>\n",
       "      <td>...</td>\n",
       "      <td>...</td>\n",
       "      <td>...</td>\n",
       "      <td>...</td>\n",
       "      <td>...</td>\n",
       "      <td>...</td>\n",
       "    </tr>\n",
       "    <tr>\n",
       "      <th>2021-05-25 09:30:00</th>\n",
       "      <th>688981</th>\n",
       "      <td>0.469733</td>\n",
       "      <td>0.431438</td>\n",
       "      <td>0.112919</td>\n",
       "      <td>0.530643</td>\n",
       "      <td>0.806602</td>\n",
       "      <td>0.647112</td>\n",
       "      <td>0.338650</td>\n",
       "      <td>0.307002</td>\n",
       "      <td>0.137788</td>\n",
       "      <td>0.581955</td>\n",
       "      <td>...</td>\n",
       "      <td>1.479964</td>\n",
       "      <td>1.470393</td>\n",
       "      <td>1.545489</td>\n",
       "      <td>1.289929</td>\n",
       "      <td>1.655479</td>\n",
       "      <td>1.657732</td>\n",
       "      <td>1.479964</td>\n",
       "      <td>1.470393</td>\n",
       "      <td>1.545489</td>\n",
       "      <td>1.289929</td>\n",
       "    </tr>\n",
       "    <tr>\n",
       "      <th>2021-05-26 09:30:00</th>\n",
       "      <th>688981</th>\n",
       "      <td>0.084924</td>\n",
       "      <td>0.408133</td>\n",
       "      <td>0.160417</td>\n",
       "      <td>0.320429</td>\n",
       "      <td>0.497645</td>\n",
       "      <td>0.214633</td>\n",
       "      <td>0.126312</td>\n",
       "      <td>0.367419</td>\n",
       "      <td>0.152883</td>\n",
       "      <td>0.353538</td>\n",
       "      <td>...</td>\n",
       "      <td>1.370139</td>\n",
       "      <td>1.595339</td>\n",
       "      <td>1.465582</td>\n",
       "      <td>1.406275</td>\n",
       "      <td>1.724904</td>\n",
       "      <td>1.750896</td>\n",
       "      <td>1.370139</td>\n",
       "      <td>1.595339</td>\n",
       "      <td>1.465582</td>\n",
       "      <td>1.406275</td>\n",
       "    </tr>\n",
       "    <tr>\n",
       "      <th>2021-05-27 09:30:00</th>\n",
       "      <th>688981</th>\n",
       "      <td>0.072833</td>\n",
       "      <td>0.526481</td>\n",
       "      <td>0.202421</td>\n",
       "      <td>0.891798</td>\n",
       "      <td>0.535207</td>\n",
       "      <td>0.158688</td>\n",
       "      <td>0.066133</td>\n",
       "      <td>0.499931</td>\n",
       "      <td>0.160231</td>\n",
       "      <td>0.855236</td>\n",
       "      <td>...</td>\n",
       "      <td>1.400039</td>\n",
       "      <td>1.819846</td>\n",
       "      <td>1.293896</td>\n",
       "      <td>1.474754</td>\n",
       "      <td>1.789696</td>\n",
       "      <td>1.643843</td>\n",
       "      <td>1.400039</td>\n",
       "      <td>1.819846</td>\n",
       "      <td>1.293896</td>\n",
       "      <td>1.474754</td>\n",
       "    </tr>\n",
       "    <tr>\n",
       "      <th>2021-05-28 09:30:00</th>\n",
       "      <th>688981</th>\n",
       "      <td>0.147464</td>\n",
       "      <td>0.419017</td>\n",
       "      <td>0.404226</td>\n",
       "      <td>1.074629</td>\n",
       "      <td>0.647112</td>\n",
       "      <td>0.237845</td>\n",
       "      <td>0.150474</td>\n",
       "      <td>0.392250</td>\n",
       "      <td>0.398569</td>\n",
       "      <td>1.018193</td>\n",
       "      <td>...</td>\n",
       "      <td>1.317421</td>\n",
       "      <td>1.882011</td>\n",
       "      <td>1.289929</td>\n",
       "      <td>2.237761</td>\n",
       "      <td>1.887389</td>\n",
       "      <td>1.558321</td>\n",
       "      <td>1.317421</td>\n",
       "      <td>1.882011</td>\n",
       "      <td>1.289929</td>\n",
       "      <td>2.237761</td>\n",
       "    </tr>\n",
       "    <tr>\n",
       "      <th>2021-05-31 09:30:00</th>\n",
       "      <th>688981</th>\n",
       "      <td>0.357967</td>\n",
       "      <td>0.101769</td>\n",
       "      <td>0.612833</td>\n",
       "      <td>1.059243</td>\n",
       "      <td>0.214633</td>\n",
       "      <td>0.403745</td>\n",
       "      <td>0.277417</td>\n",
       "      <td>0.132060</td>\n",
       "      <td>0.541033</td>\n",
       "      <td>1.046488</td>\n",
       "      <td>...</td>\n",
       "      <td>1.225704</td>\n",
       "      <td>1.726704</td>\n",
       "      <td>1.406275</td>\n",
       "      <td>2.350111</td>\n",
       "      <td>1.812593</td>\n",
       "      <td>1.512436</td>\n",
       "      <td>1.225704</td>\n",
       "      <td>1.726704</td>\n",
       "      <td>1.406275</td>\n",
       "      <td>2.350111</td>\n",
       "    </tr>\n",
       "  </tbody>\n",
       "</table>\n",
       "<p>5136276 rows × 648 columns</p>\n",
       "</div>"
      ],
      "text/plain": [
       "                                      0            1           2           3  \\\n",
       "timestamp           ticker                                                     \n",
       "2015-02-16 09:30:00 000001  1278.352474  1356.684188   84.211645  305.934957   \n",
       "2015-02-17 09:30:00 000001  1030.443350  1514.645083  132.414417  185.943348   \n",
       "2015-02-25 09:30:00 000001   463.879957  1547.077226  148.908424  194.353805   \n",
       "2015-02-26 09:30:00 000001   333.462852  1432.151831  244.562864  218.119383   \n",
       "2015-02-27 09:30:00 000001   725.282183  1153.484800  400.814012  319.736495   \n",
       "...                                 ...          ...         ...         ...   \n",
       "2021-05-25 09:30:00 688981     0.469733     0.431438    0.112919    0.530643   \n",
       "2021-05-26 09:30:00 688981     0.084924     0.408133    0.160417    0.320429   \n",
       "2021-05-27 09:30:00 688981     0.072833     0.526481    0.202421    0.891798   \n",
       "2021-05-28 09:30:00 688981     0.147464     0.419017    0.404226    1.074629   \n",
       "2021-05-31 09:30:00 688981     0.357967     0.101769    0.612833    1.059243   \n",
       "\n",
       "                                     4           5            6            7  \\\n",
       "timestamp           ticker                                                     \n",
       "2015-02-16 09:30:00 000001  345.439695  336.025436  1139.086324  1487.980910   \n",
       "2015-02-17 09:30:00 000001  320.944007  122.652576   839.606114  1821.394529   \n",
       "2015-02-25 09:30:00 000001  323.140950  157.255464   406.156588  1787.884374   \n",
       "2015-02-26 09:30:00 000001  336.025436  102.432443   294.482502  1643.154864   \n",
       "2015-02-27 09:30:00 000001  122.652576   39.377121   810.496650  1415.693550   \n",
       "...                                ...         ...          ...          ...   \n",
       "2021-05-25 09:30:00 688981    0.806602    0.647112     0.338650     0.307002   \n",
       "2021-05-26 09:30:00 688981    0.497645    0.214633     0.126312     0.367419   \n",
       "2021-05-27 09:30:00 688981    0.535207    0.158688     0.066133     0.499931   \n",
       "2021-05-28 09:30:00 688981    0.647112    0.237845     0.150474     0.392250   \n",
       "2021-05-31 09:30:00 688981    0.214633    0.403745     0.277417     0.132060   \n",
       "\n",
       "                                     8           9  ...       638       639  \\\n",
       "timestamp           ticker                          ...                       \n",
       "2015-02-16 09:30:00 000001  277.481167  240.718855  ...  1.415200  0.999382   \n",
       "2015-02-17 09:30:00 000001  297.463117   90.108840  ...  1.342818  0.938532   \n",
       "2015-02-25 09:30:00 000001  249.472157   61.761414  ...  1.246000  1.167886   \n",
       "2015-02-26 09:30:00 000001  238.639079  109.499467  ...  1.144404  1.151889   \n",
       "2015-02-27 09:30:00 000001  344.222212  228.711740  ...  1.061889  1.122236   \n",
       "...                                ...         ...  ...       ...       ...   \n",
       "2021-05-25 09:30:00 688981    0.137788    0.581955  ...  1.479964  1.470393   \n",
       "2021-05-26 09:30:00 688981    0.152883    0.353538  ...  1.370139  1.595339   \n",
       "2021-05-27 09:30:00 688981    0.160231    0.855236  ...  1.400039  1.819846   \n",
       "2021-05-28 09:30:00 688981    0.398569    1.018193  ...  1.317421  1.882011   \n",
       "2021-05-31 09:30:00 688981    0.541033    1.046488  ...  1.225704  1.726704   \n",
       "\n",
       "                                 640       641       642       643       644  \\\n",
       "timestamp           ticker                                                     \n",
       "2015-02-16 09:30:00 000001  1.038779  0.811546  3.275843  3.094361  2.806043   \n",
       "2015-02-17 09:30:00 000001  0.919450  0.752807  2.975504  3.348075  2.662504   \n",
       "2015-02-25 09:30:00 000001  0.825050  0.727014  2.779632  3.228461  2.470561   \n",
       "2015-02-26 09:30:00 000001  0.811546  0.687725  2.808371  3.180207  2.269082   \n",
       "2015-02-27 09:30:00 000001  0.752807  0.775739  3.140421  2.915457  2.105493   \n",
       "...                              ...       ...       ...       ...       ...   \n",
       "2021-05-25 09:30:00 688981  1.545489  1.289929  1.655479  1.657732  1.479964   \n",
       "2021-05-26 09:30:00 688981  1.465582  1.406275  1.724904  1.750896  1.370139   \n",
       "2021-05-27 09:30:00 688981  1.293896  1.474754  1.789696  1.643843  1.400039   \n",
       "2021-05-28 09:30:00 688981  1.289929  2.237761  1.887389  1.558321  1.317421   \n",
       "2021-05-31 09:30:00 688981  1.406275  2.350111  1.812593  1.512436  1.225704   \n",
       "\n",
       "                                 645       646       647  \n",
       "timestamp           ticker                                \n",
       "2015-02-16 09:30:00 000001  1.981571  2.059679  1.609096  \n",
       "2015-02-17 09:30:00 000001  1.860929  1.823046  1.492614  \n",
       "2015-02-25 09:30:00 000001  2.315682  1.635886  1.441482  \n",
       "2015-02-26 09:30:00 000001  2.283971  1.609096  1.363564  \n",
       "2015-02-27 09:30:00 000001  2.225161  1.492614  1.538075  \n",
       "...                              ...       ...       ...  \n",
       "2021-05-25 09:30:00 688981  1.470393  1.545489  1.289929  \n",
       "2021-05-26 09:30:00 688981  1.595339  1.465582  1.406275  \n",
       "2021-05-27 09:30:00 688981  1.819846  1.293896  1.474754  \n",
       "2021-05-28 09:30:00 688981  1.882011  1.289929  2.237761  \n",
       "2021-05-31 09:30:00 688981  1.726704  1.406275  2.350111  \n",
       "\n",
       "[5136276 rows x 648 columns]"
      ]
     },
     "execution_count": 5,
     "metadata": {},
     "output_type": "execute_result"
    }
   ],
   "source": [
    "def test(j):\n",
    "    return pd.read_parquet(j)\n",
    "pool = mp.Pool(10)\n",
    "result = {}\n",
    "t1 = time.time()\n",
    "for i in tqdm(path_list):\n",
    "    result[i] = (pool.apply_async(test, args=(path+\"Feat_Concat/\"+i,)))   #维持执行的进程总数为10，当一个进程执行完后启动一个新进程.\n",
    "pool.close()\n",
    "pool.join()\n",
    "t2 = time.time()\n",
    "print(\"并行执行时间：\", int(t2 - t1))\n",
    "df_list = []\n",
    "for i in tqdm(result):\n",
    "    df_list.append(result[i].get())\n",
    "final_df = pd.concat(df_list,axis=0)\n",
    "final_df[\"timestamp\"] = pd.to_datetime(final_df[\"timestamp\"])\n",
    "final_df[\"ticker\"] = final_df[\"ticker\"].apply(lambda x: str(x).zfill(6))\n",
    "final_df.set_index([\"timestamp\",\"ticker\"],inplace=True)\n",
    "final_df"
   ]
  },
  {
   "cell_type": "code",
   "execution_count": 6,
   "id": "6d276cb2",
   "metadata": {
    "ExecuteTime": {
     "end_time": "2022-01-13T08:22:40.761665Z",
     "start_time": "2022-01-13T08:20:20.698611Z"
    },
    "scrolled": true
   },
   "outputs": [
    {
     "data": {
      "text/html": [
       "<div>\n",
       "<style scoped>\n",
       "    .dataframe tbody tr th:only-of-type {\n",
       "        vertical-align: middle;\n",
       "    }\n",
       "\n",
       "    .dataframe tbody tr th {\n",
       "        vertical-align: top;\n",
       "    }\n",
       "\n",
       "    .dataframe thead th {\n",
       "        text-align: right;\n",
       "    }\n",
       "</style>\n",
       "<table border=\"1\" class=\"dataframe\">\n",
       "  <thead>\n",
       "    <tr style=\"text-align: right;\">\n",
       "      <th></th>\n",
       "      <th></th>\n",
       "      <th>0</th>\n",
       "      <th>1</th>\n",
       "      <th>2</th>\n",
       "      <th>3</th>\n",
       "      <th>4</th>\n",
       "      <th>5</th>\n",
       "      <th>6</th>\n",
       "      <th>7</th>\n",
       "      <th>8</th>\n",
       "      <th>9</th>\n",
       "      <th>...</th>\n",
       "      <th>639</th>\n",
       "      <th>640</th>\n",
       "      <th>641</th>\n",
       "      <th>642</th>\n",
       "      <th>643</th>\n",
       "      <th>644</th>\n",
       "      <th>645</th>\n",
       "      <th>646</th>\n",
       "      <th>647</th>\n",
       "      <th>target</th>\n",
       "    </tr>\n",
       "    <tr>\n",
       "      <th>timestamp</th>\n",
       "      <th>ticker</th>\n",
       "      <th></th>\n",
       "      <th></th>\n",
       "      <th></th>\n",
       "      <th></th>\n",
       "      <th></th>\n",
       "      <th></th>\n",
       "      <th></th>\n",
       "      <th></th>\n",
       "      <th></th>\n",
       "      <th></th>\n",
       "      <th></th>\n",
       "      <th></th>\n",
       "      <th></th>\n",
       "      <th></th>\n",
       "      <th></th>\n",
       "      <th></th>\n",
       "      <th></th>\n",
       "      <th></th>\n",
       "      <th></th>\n",
       "      <th></th>\n",
       "      <th></th>\n",
       "    </tr>\n",
       "  </thead>\n",
       "  <tbody>\n",
       "    <tr>\n",
       "      <th>2015-02-16 09:30:00</th>\n",
       "      <th>000001</th>\n",
       "      <td>1278.352474</td>\n",
       "      <td>1356.684188</td>\n",
       "      <td>84.211645</td>\n",
       "      <td>305.934957</td>\n",
       "      <td>345.439695</td>\n",
       "      <td>336.025436</td>\n",
       "      <td>1139.086324</td>\n",
       "      <td>1487.980910</td>\n",
       "      <td>277.481167</td>\n",
       "      <td>240.718855</td>\n",
       "      <td>...</td>\n",
       "      <td>0.999382</td>\n",
       "      <td>1.038779</td>\n",
       "      <td>0.811546</td>\n",
       "      <td>3.275843</td>\n",
       "      <td>3.094361</td>\n",
       "      <td>2.806043</td>\n",
       "      <td>1.981571</td>\n",
       "      <td>2.059679</td>\n",
       "      <td>1.609096</td>\n",
       "      <td>-0.940003</td>\n",
       "    </tr>\n",
       "    <tr>\n",
       "      <th>2015-02-17 09:30:00</th>\n",
       "      <th>000001</th>\n",
       "      <td>1030.443350</td>\n",
       "      <td>1514.645083</td>\n",
       "      <td>132.414417</td>\n",
       "      <td>185.943348</td>\n",
       "      <td>320.944007</td>\n",
       "      <td>122.652576</td>\n",
       "      <td>839.606114</td>\n",
       "      <td>1821.394529</td>\n",
       "      <td>297.463117</td>\n",
       "      <td>90.108840</td>\n",
       "      <td>...</td>\n",
       "      <td>0.938532</td>\n",
       "      <td>0.919450</td>\n",
       "      <td>0.752807</td>\n",
       "      <td>2.975504</td>\n",
       "      <td>3.348075</td>\n",
       "      <td>2.662504</td>\n",
       "      <td>1.860929</td>\n",
       "      <td>1.823046</td>\n",
       "      <td>1.492614</td>\n",
       "      <td>-0.700700</td>\n",
       "    </tr>\n",
       "    <tr>\n",
       "      <th>2015-02-25 09:30:00</th>\n",
       "      <th>000001</th>\n",
       "      <td>463.879957</td>\n",
       "      <td>1547.077226</td>\n",
       "      <td>148.908424</td>\n",
       "      <td>194.353805</td>\n",
       "      <td>323.140950</td>\n",
       "      <td>157.255464</td>\n",
       "      <td>406.156588</td>\n",
       "      <td>1787.884374</td>\n",
       "      <td>249.472157</td>\n",
       "      <td>61.761414</td>\n",
       "      <td>...</td>\n",
       "      <td>1.167886</td>\n",
       "      <td>0.825050</td>\n",
       "      <td>0.727014</td>\n",
       "      <td>2.779632</td>\n",
       "      <td>3.228461</td>\n",
       "      <td>2.470561</td>\n",
       "      <td>2.315682</td>\n",
       "      <td>1.635886</td>\n",
       "      <td>1.441482</td>\n",
       "      <td>-0.605842</td>\n",
       "    </tr>\n",
       "    <tr>\n",
       "      <th>2015-02-26 09:30:00</th>\n",
       "      <th>000001</th>\n",
       "      <td>333.462852</td>\n",
       "      <td>1432.151831</td>\n",
       "      <td>244.562864</td>\n",
       "      <td>218.119383</td>\n",
       "      <td>336.025436</td>\n",
       "      <td>102.432443</td>\n",
       "      <td>294.482502</td>\n",
       "      <td>1643.154864</td>\n",
       "      <td>238.639079</td>\n",
       "      <td>109.499467</td>\n",
       "      <td>...</td>\n",
       "      <td>1.151889</td>\n",
       "      <td>0.811546</td>\n",
       "      <td>0.687725</td>\n",
       "      <td>2.808371</td>\n",
       "      <td>3.180207</td>\n",
       "      <td>2.269082</td>\n",
       "      <td>2.283971</td>\n",
       "      <td>1.609096</td>\n",
       "      <td>1.363564</td>\n",
       "      <td>-0.363216</td>\n",
       "    </tr>\n",
       "    <tr>\n",
       "      <th>2015-02-27 09:30:00</th>\n",
       "      <th>000001</th>\n",
       "      <td>725.282183</td>\n",
       "      <td>1153.484800</td>\n",
       "      <td>400.814012</td>\n",
       "      <td>319.736495</td>\n",
       "      <td>122.652576</td>\n",
       "      <td>39.377121</td>\n",
       "      <td>810.496650</td>\n",
       "      <td>1415.693550</td>\n",
       "      <td>344.222212</td>\n",
       "      <td>228.711740</td>\n",
       "      <td>...</td>\n",
       "      <td>1.122236</td>\n",
       "      <td>0.752807</td>\n",
       "      <td>0.775739</td>\n",
       "      <td>3.140421</td>\n",
       "      <td>2.915457</td>\n",
       "      <td>2.105493</td>\n",
       "      <td>2.225161</td>\n",
       "      <td>1.492614</td>\n",
       "      <td>1.538075</td>\n",
       "      <td>0.048317</td>\n",
       "    </tr>\n",
       "    <tr>\n",
       "      <th>...</th>\n",
       "      <th>...</th>\n",
       "      <td>...</td>\n",
       "      <td>...</td>\n",
       "      <td>...</td>\n",
       "      <td>...</td>\n",
       "      <td>...</td>\n",
       "      <td>...</td>\n",
       "      <td>...</td>\n",
       "      <td>...</td>\n",
       "      <td>...</td>\n",
       "      <td>...</td>\n",
       "      <td>...</td>\n",
       "      <td>...</td>\n",
       "      <td>...</td>\n",
       "      <td>...</td>\n",
       "      <td>...</td>\n",
       "      <td>...</td>\n",
       "      <td>...</td>\n",
       "      <td>...</td>\n",
       "      <td>...</td>\n",
       "      <td>...</td>\n",
       "      <td>...</td>\n",
       "    </tr>\n",
       "    <tr>\n",
       "      <th>2021-05-25 09:30:00</th>\n",
       "      <th>688981</th>\n",
       "      <td>0.469733</td>\n",
       "      <td>0.431438</td>\n",
       "      <td>0.112919</td>\n",
       "      <td>0.530643</td>\n",
       "      <td>0.806602</td>\n",
       "      <td>0.647112</td>\n",
       "      <td>0.338650</td>\n",
       "      <td>0.307002</td>\n",
       "      <td>0.137788</td>\n",
       "      <td>0.581955</td>\n",
       "      <td>...</td>\n",
       "      <td>1.470393</td>\n",
       "      <td>1.545489</td>\n",
       "      <td>1.289929</td>\n",
       "      <td>1.655479</td>\n",
       "      <td>1.657732</td>\n",
       "      <td>1.479964</td>\n",
       "      <td>1.470393</td>\n",
       "      <td>1.545489</td>\n",
       "      <td>1.289929</td>\n",
       "      <td>-0.257516</td>\n",
       "    </tr>\n",
       "    <tr>\n",
       "      <th>2021-05-26 09:30:00</th>\n",
       "      <th>688981</th>\n",
       "      <td>0.084924</td>\n",
       "      <td>0.408133</td>\n",
       "      <td>0.160417</td>\n",
       "      <td>0.320429</td>\n",
       "      <td>0.497645</td>\n",
       "      <td>0.214633</td>\n",
       "      <td>0.126312</td>\n",
       "      <td>0.367419</td>\n",
       "      <td>0.152883</td>\n",
       "      <td>0.353538</td>\n",
       "      <td>...</td>\n",
       "      <td>1.595339</td>\n",
       "      <td>1.465582</td>\n",
       "      <td>1.406275</td>\n",
       "      <td>1.724904</td>\n",
       "      <td>1.750896</td>\n",
       "      <td>1.370139</td>\n",
       "      <td>1.595339</td>\n",
       "      <td>1.465582</td>\n",
       "      <td>1.406275</td>\n",
       "      <td>-0.220639</td>\n",
       "    </tr>\n",
       "    <tr>\n",
       "      <th>2021-05-27 09:30:00</th>\n",
       "      <th>688981</th>\n",
       "      <td>0.072833</td>\n",
       "      <td>0.526481</td>\n",
       "      <td>0.202421</td>\n",
       "      <td>0.891798</td>\n",
       "      <td>0.535207</td>\n",
       "      <td>0.158688</td>\n",
       "      <td>0.066133</td>\n",
       "      <td>0.499931</td>\n",
       "      <td>0.160231</td>\n",
       "      <td>0.855236</td>\n",
       "      <td>...</td>\n",
       "      <td>1.819846</td>\n",
       "      <td>1.293896</td>\n",
       "      <td>1.474754</td>\n",
       "      <td>1.789696</td>\n",
       "      <td>1.643843</td>\n",
       "      <td>1.400039</td>\n",
       "      <td>1.819846</td>\n",
       "      <td>1.293896</td>\n",
       "      <td>1.474754</td>\n",
       "      <td>-0.209516</td>\n",
       "    </tr>\n",
       "    <tr>\n",
       "      <th>2021-05-28 09:30:00</th>\n",
       "      <th>688981</th>\n",
       "      <td>0.147464</td>\n",
       "      <td>0.419017</td>\n",
       "      <td>0.404226</td>\n",
       "      <td>1.074629</td>\n",
       "      <td>0.647112</td>\n",
       "      <td>0.237845</td>\n",
       "      <td>0.150474</td>\n",
       "      <td>0.392250</td>\n",
       "      <td>0.398569</td>\n",
       "      <td>1.018193</td>\n",
       "      <td>...</td>\n",
       "      <td>1.882011</td>\n",
       "      <td>1.289929</td>\n",
       "      <td>2.237761</td>\n",
       "      <td>1.887389</td>\n",
       "      <td>1.558321</td>\n",
       "      <td>1.317421</td>\n",
       "      <td>1.882011</td>\n",
       "      <td>1.289929</td>\n",
       "      <td>2.237761</td>\n",
       "      <td>-0.229369</td>\n",
       "    </tr>\n",
       "    <tr>\n",
       "      <th>2021-05-31 09:30:00</th>\n",
       "      <th>688981</th>\n",
       "      <td>0.357967</td>\n",
       "      <td>0.101769</td>\n",
       "      <td>0.612833</td>\n",
       "      <td>1.059243</td>\n",
       "      <td>0.214633</td>\n",
       "      <td>0.403745</td>\n",
       "      <td>0.277417</td>\n",
       "      <td>0.132060</td>\n",
       "      <td>0.541033</td>\n",
       "      <td>1.046488</td>\n",
       "      <td>...</td>\n",
       "      <td>1.726704</td>\n",
       "      <td>1.406275</td>\n",
       "      <td>2.350111</td>\n",
       "      <td>1.812593</td>\n",
       "      <td>1.512436</td>\n",
       "      <td>1.225704</td>\n",
       "      <td>1.726704</td>\n",
       "      <td>1.406275</td>\n",
       "      <td>2.350111</td>\n",
       "      <td>-0.320582</td>\n",
       "    </tr>\n",
       "  </tbody>\n",
       "</table>\n",
       "<p>4932752 rows × 649 columns</p>\n",
       "</div>"
      ],
      "text/plain": [
       "                                      0            1           2           3  \\\n",
       "timestamp           ticker                                                     \n",
       "2015-02-16 09:30:00 000001  1278.352474  1356.684188   84.211645  305.934957   \n",
       "2015-02-17 09:30:00 000001  1030.443350  1514.645083  132.414417  185.943348   \n",
       "2015-02-25 09:30:00 000001   463.879957  1547.077226  148.908424  194.353805   \n",
       "2015-02-26 09:30:00 000001   333.462852  1432.151831  244.562864  218.119383   \n",
       "2015-02-27 09:30:00 000001   725.282183  1153.484800  400.814012  319.736495   \n",
       "...                                 ...          ...         ...         ...   \n",
       "2021-05-25 09:30:00 688981     0.469733     0.431438    0.112919    0.530643   \n",
       "2021-05-26 09:30:00 688981     0.084924     0.408133    0.160417    0.320429   \n",
       "2021-05-27 09:30:00 688981     0.072833     0.526481    0.202421    0.891798   \n",
       "2021-05-28 09:30:00 688981     0.147464     0.419017    0.404226    1.074629   \n",
       "2021-05-31 09:30:00 688981     0.357967     0.101769    0.612833    1.059243   \n",
       "\n",
       "                                     4           5            6            7  \\\n",
       "timestamp           ticker                                                     \n",
       "2015-02-16 09:30:00 000001  345.439695  336.025436  1139.086324  1487.980910   \n",
       "2015-02-17 09:30:00 000001  320.944007  122.652576   839.606114  1821.394529   \n",
       "2015-02-25 09:30:00 000001  323.140950  157.255464   406.156588  1787.884374   \n",
       "2015-02-26 09:30:00 000001  336.025436  102.432443   294.482502  1643.154864   \n",
       "2015-02-27 09:30:00 000001  122.652576   39.377121   810.496650  1415.693550   \n",
       "...                                ...         ...          ...          ...   \n",
       "2021-05-25 09:30:00 688981    0.806602    0.647112     0.338650     0.307002   \n",
       "2021-05-26 09:30:00 688981    0.497645    0.214633     0.126312     0.367419   \n",
       "2021-05-27 09:30:00 688981    0.535207    0.158688     0.066133     0.499931   \n",
       "2021-05-28 09:30:00 688981    0.647112    0.237845     0.150474     0.392250   \n",
       "2021-05-31 09:30:00 688981    0.214633    0.403745     0.277417     0.132060   \n",
       "\n",
       "                                     8           9  ...       639       640  \\\n",
       "timestamp           ticker                          ...                       \n",
       "2015-02-16 09:30:00 000001  277.481167  240.718855  ...  0.999382  1.038779   \n",
       "2015-02-17 09:30:00 000001  297.463117   90.108840  ...  0.938532  0.919450   \n",
       "2015-02-25 09:30:00 000001  249.472157   61.761414  ...  1.167886  0.825050   \n",
       "2015-02-26 09:30:00 000001  238.639079  109.499467  ...  1.151889  0.811546   \n",
       "2015-02-27 09:30:00 000001  344.222212  228.711740  ...  1.122236  0.752807   \n",
       "...                                ...         ...  ...       ...       ...   \n",
       "2021-05-25 09:30:00 688981    0.137788    0.581955  ...  1.470393  1.545489   \n",
       "2021-05-26 09:30:00 688981    0.152883    0.353538  ...  1.595339  1.465582   \n",
       "2021-05-27 09:30:00 688981    0.160231    0.855236  ...  1.819846  1.293896   \n",
       "2021-05-28 09:30:00 688981    0.398569    1.018193  ...  1.882011  1.289929   \n",
       "2021-05-31 09:30:00 688981    0.541033    1.046488  ...  1.726704  1.406275   \n",
       "\n",
       "                                 641       642       643       644       645  \\\n",
       "timestamp           ticker                                                     \n",
       "2015-02-16 09:30:00 000001  0.811546  3.275843  3.094361  2.806043  1.981571   \n",
       "2015-02-17 09:30:00 000001  0.752807  2.975504  3.348075  2.662504  1.860929   \n",
       "2015-02-25 09:30:00 000001  0.727014  2.779632  3.228461  2.470561  2.315682   \n",
       "2015-02-26 09:30:00 000001  0.687725  2.808371  3.180207  2.269082  2.283971   \n",
       "2015-02-27 09:30:00 000001  0.775739  3.140421  2.915457  2.105493  2.225161   \n",
       "...                              ...       ...       ...       ...       ...   \n",
       "2021-05-25 09:30:00 688981  1.289929  1.655479  1.657732  1.479964  1.470393   \n",
       "2021-05-26 09:30:00 688981  1.406275  1.724904  1.750896  1.370139  1.595339   \n",
       "2021-05-27 09:30:00 688981  1.474754  1.789696  1.643843  1.400039  1.819846   \n",
       "2021-05-28 09:30:00 688981  2.237761  1.887389  1.558321  1.317421  1.882011   \n",
       "2021-05-31 09:30:00 688981  2.350111  1.812593  1.512436  1.225704  1.726704   \n",
       "\n",
       "                                 646       647    target  \n",
       "timestamp           ticker                                \n",
       "2015-02-16 09:30:00 000001  2.059679  1.609096 -0.940003  \n",
       "2015-02-17 09:30:00 000001  1.823046  1.492614 -0.700700  \n",
       "2015-02-25 09:30:00 000001  1.635886  1.441482 -0.605842  \n",
       "2015-02-26 09:30:00 000001  1.609096  1.363564 -0.363216  \n",
       "2015-02-27 09:30:00 000001  1.492614  1.538075  0.048317  \n",
       "...                              ...       ...       ...  \n",
       "2021-05-25 09:30:00 688981  1.545489  1.289929 -0.257516  \n",
       "2021-05-26 09:30:00 688981  1.465582  1.406275 -0.220639  \n",
       "2021-05-27 09:30:00 688981  1.293896  1.474754 -0.209516  \n",
       "2021-05-28 09:30:00 688981  1.289929  2.237761 -0.229369  \n",
       "2021-05-31 09:30:00 688981  1.406275  2.350111 -0.320582  \n",
       "\n",
       "[4932752 rows x 649 columns]"
      ]
     },
     "execution_count": 6,
     "metadata": {},
     "output_type": "execute_result"
    }
   ],
   "source": [
    "final_df = pd.merge(final_df,a,how=\"inner\",left_index=True,right_index=True)\n",
    "final_df"
   ]
  },
  {
   "cell_type": "code",
   "execution_count": 10,
   "id": "825a4a28",
   "metadata": {
    "ExecuteTime": {
     "end_time": "2022-01-13T08:35:22.852729Z",
     "start_time": "2022-01-13T08:35:22.836626Z"
    }
   },
   "outputs": [],
   "source": [
    "def a(df: pd.DataFrame, output_name: str, output_path: str):\n",
    "    pool = mp.Pool(10)\n",
    "    t1 = time.time()\n",
    "    for date, group in tqdm(df.groupby('timestamp')):\n",
    "        pool.apply_async(__a, args=(date,group))   #维持执行的进程总数为10，当一个进程执行完后启动一个新进程.\n",
    "    pool.close()\n",
    "    pool.join()\n",
    "    t2 = time.time()\n",
    "    print(\"并行执行时间：\", int(t2 - t1))\n",
    "def __a(date,group):\n",
    "    date_format = pd.to_datetime(date).date()\n",
    "    assert DataAPI.is_trading_day(date), f\"{date} is not a trading date!\"\n",
    "    file_name = datetime.date.strftime(date_format, '%Y%m%d') + '.par'\n",
    "    folder = os.path.join(output_path, output_name, str(date_format.year))\n",
    "    if not os.path.exists(folder):\n",
    "        os.makedirs(folder)\n",
    "    file = os.path.join(folder, file_name)\n",
    "    group.to_parquet(file)\n",
    "    return None"
   ]
  },
  {
   "cell_type": "code",
   "execution_count": null,
   "id": "cbc0e3fd",
   "metadata": {
    "ExecuteTime": {
     "start_time": "2022-01-13T08:35:27.429Z"
    }
   },
   "outputs": [
    {
     "name": "stderr",
     "output_type": "stream",
     "text": [
      "  0%|          | 0/1529 [00:00<?, ?it/s]Process ForkPoolWorker-260:\n",
      "Process ForkPoolWorker-262:\n",
      "Process ForkPoolWorker-259:\n",
      "Process ForkPoolWorker-261:\n",
      "Process ForkPoolWorker-254:\n",
      "Process ForkPoolWorker-258:\n",
      "Process ForkPoolWorker-256:\n",
      "Process ForkPoolWorker-255:\n",
      "Process ForkPoolWorker-257:\n",
      "Process ForkPoolWorker-253:\n",
      "Traceback (most recent call last):\n",
      "Traceback (most recent call last):\n",
      "Traceback (most recent call last):\n",
      "Traceback (most recent call last):\n",
      "Traceback (most recent call last):\n",
      "Traceback (most recent call last):\n",
      "Traceback (most recent call last):\n",
      "Traceback (most recent call last):\n",
      "Traceback (most recent call last):\n",
      "Traceback (most recent call last):\n",
      "  File \"/usr/local/miniconda/lib/python3.7/multiprocessing/process.py\", line 297, in _bootstrap\n",
      "    self.run()\n",
      "  File \"/usr/local/miniconda/lib/python3.7/multiprocessing/process.py\", line 297, in _bootstrap\n",
      "    self.run()\n",
      "  File \"/usr/local/miniconda/lib/python3.7/multiprocessing/process.py\", line 297, in _bootstrap\n",
      "    self.run()\n",
      "  File \"/usr/local/miniconda/lib/python3.7/multiprocessing/process.py\", line 297, in _bootstrap\n",
      "    self.run()\n",
      "  File \"/usr/local/miniconda/lib/python3.7/multiprocessing/process.py\", line 297, in _bootstrap\n",
      "    self.run()\n",
      "  File \"/usr/local/miniconda/lib/python3.7/multiprocessing/process.py\", line 297, in _bootstrap\n",
      "    self.run()\n",
      "  File \"/usr/local/miniconda/lib/python3.7/multiprocessing/process.py\", line 297, in _bootstrap\n",
      "    self.run()\n",
      "  File \"/usr/local/miniconda/lib/python3.7/multiprocessing/process.py\", line 297, in _bootstrap\n",
      "    self.run()\n",
      "  File \"/usr/local/miniconda/lib/python3.7/multiprocessing/process.py\", line 297, in _bootstrap\n",
      "    self.run()\n",
      "  File \"/usr/local/miniconda/lib/python3.7/multiprocessing/process.py\", line 297, in _bootstrap\n",
      "    self.run()\n",
      "  File \"/usr/local/miniconda/lib/python3.7/multiprocessing/process.py\", line 99, in run\n",
      "    self._target(*self._args, **self._kwargs)\n",
      "  File \"/usr/local/miniconda/lib/python3.7/multiprocessing/process.py\", line 99, in run\n",
      "    self._target(*self._args, **self._kwargs)\n",
      "  File \"/usr/local/miniconda/lib/python3.7/multiprocessing/process.py\", line 99, in run\n",
      "    self._target(*self._args, **self._kwargs)\n",
      "  File \"/usr/local/miniconda/lib/python3.7/multiprocessing/process.py\", line 99, in run\n",
      "    self._target(*self._args, **self._kwargs)\n",
      "  File \"/usr/local/miniconda/lib/python3.7/multiprocessing/process.py\", line 99, in run\n",
      "    self._target(*self._args, **self._kwargs)\n",
      "  File \"/usr/local/miniconda/lib/python3.7/multiprocessing/process.py\", line 99, in run\n",
      "    self._target(*self._args, **self._kwargs)\n",
      "  File \"/usr/local/miniconda/lib/python3.7/multiprocessing/process.py\", line 99, in run\n",
      "    self._target(*self._args, **self._kwargs)\n",
      "  File \"/usr/local/miniconda/lib/python3.7/multiprocessing/process.py\", line 99, in run\n",
      "    self._target(*self._args, **self._kwargs)\n",
      "  File \"/usr/local/miniconda/lib/python3.7/multiprocessing/process.py\", line 99, in run\n",
      "    self._target(*self._args, **self._kwargs)\n",
      "  File \"/usr/local/miniconda/lib/python3.7/multiprocessing/process.py\", line 99, in run\n",
      "    self._target(*self._args, **self._kwargs)\n",
      "  File \"/usr/local/miniconda/lib/python3.7/multiprocessing/pool.py\", line 110, in worker\n",
      "    task = get()\n",
      "  File \"/usr/local/miniconda/lib/python3.7/multiprocessing/pool.py\", line 110, in worker\n",
      "    task = get()\n",
      "  File \"/usr/local/miniconda/lib/python3.7/multiprocessing/pool.py\", line 110, in worker\n",
      "    task = get()\n",
      "  File \"/usr/local/miniconda/lib/python3.7/multiprocessing/pool.py\", line 110, in worker\n",
      "    task = get()\n",
      "  File \"/usr/local/miniconda/lib/python3.7/multiprocessing/pool.py\", line 110, in worker\n",
      "    task = get()\n",
      "  File \"/usr/local/miniconda/lib/python3.7/multiprocessing/pool.py\", line 110, in worker\n",
      "    task = get()\n",
      "  File \"/usr/local/miniconda/lib/python3.7/multiprocessing/pool.py\", line 110, in worker\n",
      "    task = get()\n",
      "  File \"/usr/local/miniconda/lib/python3.7/multiprocessing/pool.py\", line 110, in worker\n",
      "    task = get()\n",
      "  File \"/usr/local/miniconda/lib/python3.7/multiprocessing/pool.py\", line 110, in worker\n",
      "    task = get()\n",
      "  File \"/usr/local/miniconda/lib/python3.7/multiprocessing/pool.py\", line 110, in worker\n",
      "    task = get()\n",
      "  File \"/usr/local/miniconda/lib/python3.7/multiprocessing/queues.py\", line 351, in get\n",
      "    with self._rlock:\n",
      "  File \"/usr/local/miniconda/lib/python3.7/multiprocessing/queues.py\", line 351, in get\n",
      "    with self._rlock:\n",
      "  File \"/usr/local/miniconda/lib/python3.7/multiprocessing/queues.py\", line 351, in get\n",
      "    with self._rlock:\n",
      "  File \"/usr/local/miniconda/lib/python3.7/multiprocessing/queues.py\", line 351, in get\n",
      "    with self._rlock:\n",
      "  File \"/usr/local/miniconda/lib/python3.7/multiprocessing/queues.py\", line 351, in get\n",
      "    with self._rlock:\n",
      "  File \"/usr/local/miniconda/lib/python3.7/multiprocessing/queues.py\", line 351, in get\n",
      "    with self._rlock:\n",
      "  File \"/usr/local/miniconda/lib/python3.7/multiprocessing/queues.py\", line 352, in get\n",
      "    res = self._reader.recv_bytes()\n",
      "  File \"/usr/local/miniconda/lib/python3.7/multiprocessing/queues.py\", line 351, in get\n",
      "    with self._rlock:\n",
      "  File \"/usr/local/miniconda/lib/python3.7/multiprocessing/queues.py\", line 351, in get\n",
      "    with self._rlock:\n",
      "  File \"/usr/local/miniconda/lib/python3.7/multiprocessing/queues.py\", line 351, in get\n",
      "    with self._rlock:\n",
      "  File \"/usr/local/miniconda/lib/python3.7/multiprocessing/synchronize.py\", line 95, in __enter__\n",
      "    return self._semlock.__enter__()\n",
      "  File \"/usr/local/miniconda/lib/python3.7/multiprocessing/synchronize.py\", line 95, in __enter__\n",
      "    return self._semlock.__enter__()\n",
      "  File \"/usr/local/miniconda/lib/python3.7/multiprocessing/synchronize.py\", line 95, in __enter__\n",
      "    return self._semlock.__enter__()\n",
      "  File \"/usr/local/miniconda/lib/python3.7/multiprocessing/synchronize.py\", line 95, in __enter__\n",
      "    return self._semlock.__enter__()\n",
      "  File \"/usr/local/miniconda/lib/python3.7/multiprocessing/synchronize.py\", line 95, in __enter__\n",
      "    return self._semlock.__enter__()\n",
      "  File \"/usr/local/miniconda/lib/python3.7/multiprocessing/synchronize.py\", line 95, in __enter__\n",
      "    return self._semlock.__enter__()\n",
      "  File \"/usr/local/miniconda/lib/python3.7/multiprocessing/connection.py\", line 216, in recv_bytes\n",
      "    buf = self._recv_bytes(maxlength)\n",
      "  File \"/usr/local/miniconda/lib/python3.7/multiprocessing/synchronize.py\", line 95, in __enter__\n",
      "    return self._semlock.__enter__()\n",
      "  File \"/usr/local/miniconda/lib/python3.7/multiprocessing/synchronize.py\", line 95, in __enter__\n",
      "    return self._semlock.__enter__()\n",
      "  File \"/usr/local/miniconda/lib/python3.7/multiprocessing/synchronize.py\", line 95, in __enter__\n",
      "    return self._semlock.__enter__()\n",
      "KeyboardInterrupt\n",
      "KeyboardInterrupt\n",
      "KeyboardInterrupt\n",
      "KeyboardInterrupt\n",
      "KeyboardInterrupt\n",
      "KeyboardInterrupt\n",
      "KeyboardInterrupt\n",
      "  File \"/usr/local/miniconda/lib/python3.7/multiprocessing/connection.py\", line 407, in _recv_bytes\n",
      "    buf = self._recv(4)\n",
      "KeyboardInterrupt\n",
      "KeyboardInterrupt\n",
      "  File \"/usr/local/miniconda/lib/python3.7/multiprocessing/connection.py\", line 379, in _recv\n",
      "    chunk = read(handle, remaining)\n",
      "KeyboardInterrupt\n",
      "Exception in thread Thread-18:\n",
      "Traceback (most recent call last):\n",
      "  File \"/usr/local/miniconda/lib/python3.7/threading.py\", line 926, in _bootstrap_inner\n",
      "    self.run()\n",
      "  File \"/usr/local/miniconda/lib/python3.7/threading.py\", line 870, in run\n",
      "    self._target(*self._args, **self._kwargs)\n",
      "  File \"/usr/local/miniconda/lib/python3.7/multiprocessing/pool.py\", line 412, in _handle_workers\n",
      "    pool._maintain_pool()\n",
      "  File \"/usr/local/miniconda/lib/python3.7/multiprocessing/pool.py\", line 248, in _maintain_pool\n",
      "    self._repopulate_pool()\n",
      "  File \"/usr/local/miniconda/lib/python3.7/multiprocessing/pool.py\", line 241, in _repopulate_pool\n",
      "    w.start()\n",
      "  File \"/usr/local/miniconda/lib/python3.7/multiprocessing/process.py\", line 112, in start\n",
      "    self._popen = self._Popen(self)\n",
      "  File \"/usr/local/miniconda/lib/python3.7/multiprocessing/context.py\", line 277, in _Popen\n",
      "    return Popen(process_obj)\n",
      "  File \"/usr/local/miniconda/lib/python3.7/multiprocessing/popen_fork.py\", line 20, in __init__\n",
      "    self._launch(process_obj)\n",
      "  File \"/usr/local/miniconda/lib/python3.7/multiprocessing/popen_fork.py\", line 70, in _launch\n",
      "    self.pid = os.fork()\n",
      "OSError: [Errno 12] Cannot allocate memory\n",
      "\n"
     ]
    },
    {
     "name": "stderr",
     "output_type": "stream",
     "text": [
      "Exception in thread Thread-12:\n",
      "Traceback (most recent call last):\n",
      "  File \"/usr/local/miniconda/lib/python3.7/threading.py\", line 926, in _bootstrap_inner\n",
      "    self.run()\n",
      "  File \"/usr/local/miniconda/lib/python3.7/threading.py\", line 870, in run\n",
      "    self._target(*self._args, **self._kwargs)\n",
      "  File \"/usr/local/miniconda/lib/python3.7/multiprocessing/pool.py\", line 412, in _handle_workers\n",
      "    pool._maintain_pool()\n",
      "  File \"/usr/local/miniconda/lib/python3.7/multiprocessing/pool.py\", line 248, in _maintain_pool\n",
      "    self._repopulate_pool()\n",
      "  File \"/usr/local/miniconda/lib/python3.7/multiprocessing/pool.py\", line 241, in _repopulate_pool\n",
      "    w.start()\n",
      "  File \"/usr/local/miniconda/lib/python3.7/multiprocessing/process.py\", line 112, in start\n",
      "    self._popen = self._Popen(self)\n",
      "  File \"/usr/local/miniconda/lib/python3.7/multiprocessing/context.py\", line 277, in _Popen\n",
      "    return Popen(process_obj)\n",
      "  File \"/usr/local/miniconda/lib/python3.7/multiprocessing/popen_fork.py\", line 20, in __init__\n",
      "    self._launch(process_obj)\n",
      "  File \"/usr/local/miniconda/lib/python3.7/multiprocessing/popen_fork.py\", line 70, in _launch\n",
      "    self.pid = os.fork()\n",
      "OSError: [Errno 12] Cannot allocate memory\n",
      "\n"
     ]
    }
   ],
   "source": [
    "a(df = final_df, output_name = \"Original_Input_Moving_7_Shift_5\", \n",
    "                                   output_path= \"/home/ShareFolder/feature_platform/ti0/wuwenjun/#Data_lib\")"
   ]
  },
  {
   "cell_type": "code",
   "execution_count": 9,
   "id": "60995ffa",
   "metadata": {
    "ExecuteTime": {
     "end_time": "2022-01-13T07:15:36.108117Z",
     "start_time": "2022-01-13T07:15:36.101516Z"
    }
   },
   "outputs": [],
   "source": [
    "del final_df"
   ]
  },
  {
   "cell_type": "markdown",
   "id": "5c107bb9",
   "metadata": {},
   "source": [
    "# Pooling ( Save to Pooling)"
   ]
  },
  {
   "cell_type": "code",
   "execution_count": 18,
   "id": "d0694e33",
   "metadata": {
    "ExecuteTime": {
     "end_time": "2021-12-28T06:33:00.803742Z",
     "start_time": "2021-12-28T06:33:00.800484Z"
    }
   },
   "outputs": [],
   "source": [
    "os.mkdir(path+\"Pooling\")"
   ]
  },
  {
   "cell_type": "code",
   "execution_count": 19,
   "id": "1899309e",
   "metadata": {
    "ExecuteTime": {
     "end_time": "2021-12-28T06:33:01.244324Z",
     "start_time": "2021-12-28T06:33:01.230154Z"
    }
   },
   "outputs": [
    {
     "name": "stderr",
     "output_type": "stream",
     "text": [
      "100%|██████████| 26/26 [00:00<00:00, 229100.64it/s]\n"
     ]
    },
    {
     "data": {
      "text/plain": [
       "['2015-01-01_2015-03-01.par',\n",
       " '2015-03-01_2015-06-01.par',\n",
       " '2015-06-01_2015-09-01.par',\n",
       " '2015-09-01_2016-01-01.par',\n",
       " '2016-01-01_2016-03-01.par',\n",
       " '2016-03-01_2016-06-01.par',\n",
       " '2016-06-01_2016-09-01.par',\n",
       " '2016-09-01_2017-01-01.par',\n",
       " '2017-01-01_2017-03-01.par',\n",
       " '2017-03-01_2017-06-01.par',\n",
       " '2017-06-01_2017-09-01.par',\n",
       " '2017-09-01_2018-01-01.par',\n",
       " '2018-01-01_2018-03-01.par',\n",
       " '2018-03-01_2018-06-01.par',\n",
       " '2018-06-01_2018-09-01.par',\n",
       " '2018-09-01_2019-01-01.par',\n",
       " '2019-01-01_2019-03-01.par',\n",
       " '2019-03-01_2019-06-01.par',\n",
       " '2019-06-01_2019-09-01.par',\n",
       " '2019-09-01_2020-01-01.par',\n",
       " '2020-01-01_2020-03-01.par',\n",
       " '2020-03-01_2020-06-01.par',\n",
       " '2020-06-01_2020-09-01.par',\n",
       " '2020-09-01_2021-01-01.par',\n",
       " '2021-01-01_2021-03-01.par',\n",
       " '2021-03-01_2021-06-01.par']"
      ]
     },
     "execution_count": 19,
     "metadata": {},
     "output_type": "execute_result"
    }
   ],
   "source": [
    "path_list = []\n",
    "data_path = path + \"Data/\"\n",
    "dataframe_list = pd.DataFrame()\n",
    "for f, _, i in walk(data_path):\n",
    "    for j in tqdm(i):\n",
    "        path_list.append(j)\n",
    "path_list.sort()\n",
    "path_list"
   ]
  },
  {
   "cell_type": "code",
   "execution_count": 21,
   "id": "a9bdb9e4",
   "metadata": {
    "ExecuteTime": {
     "end_time": "2021-12-28T06:33:54.320839Z",
     "start_time": "2021-12-28T06:33:11.650981Z"
    }
   },
   "outputs": [
    {
     "name": "stdout",
     "output_type": "stream",
     "text": [
      "Save to :  /home/wuwenjun/Data/AlphaNet_Original_Input_5d_return/Pooling/2015-01-01_2015-03-01.par\n",
      "Save to :  /home/wuwenjun/Data/AlphaNet_Original_Input_5d_return/Pooling/2016-01-01_2016-03-01.par\n",
      "Save to :  /home/wuwenjun/Data/AlphaNet_Original_Input_5d_return/Pooling/2017-01-01_2017-03-01.par\n",
      "Save to :  /home/wuwenjun/Data/AlphaNet_Original_Input_5d_return/Pooling/2015-03-01_2015-06-01.par\n",
      "Save to :  /home/wuwenjun/Data/AlphaNet_Original_Input_5d_return/Pooling/2016-06-01_2016-09-01.par\n",
      "Save to :  /home/wuwenjun/Data/AlphaNet_Original_Input_5d_return/Pooling/2015-06-01_2015-09-01.par\n",
      "Save to :  /home/wuwenjun/Data/AlphaNet_Original_Input_5d_return/Pooling/2017-03-01_2017-06-01.par\n",
      "Save to :  /home/wuwenjun/Data/AlphaNet_Original_Input_5d_return/Pooling/2016-03-01_2016-06-01.par\n",
      "Save to :  /home/wuwenjun/Data/AlphaNet_Original_Input_5d_return/Pooling/2017-06-01_2017-09-01.par\n",
      "Save to :  /home/wuwenjun/Data/AlphaNet_Original_Input_5d_return/Pooling/2018-01-01_2018-03-01.par\n",
      "Save to :  /home/wuwenjun/Data/AlphaNet_Original_Input_5d_return/Pooling/2015-09-01_2016-01-01.par\n",
      "Save to :  /home/wuwenjun/Data/AlphaNet_Original_Input_5d_return/Pooling/2016-09-01_2017-01-01.par\n",
      "Save to :  /home/wuwenjun/Data/AlphaNet_Original_Input_5d_return/Pooling/2019-01-01_2019-03-01.par\n",
      "Save to :  /home/wuwenjun/Data/AlphaNet_Original_Input_5d_return/Pooling/2017-09-01_2018-01-01.par\n",
      "Save to :  /home/wuwenjun/Data/AlphaNet_Original_Input_5d_return/Pooling/2020-01-01_2020-03-01.par\n",
      "Save to :  /home/wuwenjun/Data/AlphaNet_Original_Input_5d_return/Pooling/2018-03-01_2018-06-01.par\n",
      "Save to :  /home/wuwenjun/Data/AlphaNet_Original_Input_5d_return/Pooling/2018-06-01_2018-09-01.par\n",
      "Save to :  /home/wuwenjun/Data/AlphaNet_Original_Input_5d_return/Pooling/2019-03-01_2019-06-01.par\n",
      "Save to :  /home/wuwenjun/Data/AlphaNet_Original_Input_5d_return/Pooling/2019-06-01_2019-09-01.par\n",
      "Save to :  /home/wuwenjun/Data/AlphaNet_Original_Input_5d_return/Pooling/2018-09-01_2019-01-01.par\n",
      "Save to :  /home/wuwenjun/Data/AlphaNet_Original_Input_5d_return/Pooling/2020-03-01_2020-06-01.par\n",
      "Save to :  /home/wuwenjun/Data/AlphaNet_Original_Input_5d_return/Pooling/2019-09-01_2020-01-01.par\n",
      "Save to :  /home/wuwenjun/Data/AlphaNet_Original_Input_5d_return/Pooling/2021-01-01_2021-03-01.par\n",
      "Save to :  /home/wuwenjun/Data/AlphaNet_Original_Input_5d_return/Pooling/2020-06-01_2020-09-01.par\n",
      "Save to :  /home/wuwenjun/Data/AlphaNet_Original_Input_5d_return/Pooling/2020-09-01_2021-01-01.par\n",
      "Save to :  /home/wuwenjun/Data/AlphaNet_Original_Input_5d_return/Pooling/2021-03-01_2021-06-01.par\n",
      "并行执行时间： 36\n"
     ]
    }
   ],
   "source": [
    "\"\"\" Multi Processing\"\"\"\n",
    "pool = mp.Pool(10)\n",
    "t1 = time.time()\n",
    "def test(file):\n",
    "    array = pd.read_parquet(path + \"Feat_Concat/\" + file).set_index([\"timestamp\",\"ticker\"])\n",
    "    index = array.index\n",
    "    array = np.array(array)\n",
    "    array = torch.from_numpy(array.reshape(array.shape[0],-1,3))\n",
    "    # Pooling\n",
    "    max_pooling = torch.nn.MaxPool1d(kernel_size = 3, stride=1)(array) # Max Pooling\n",
    "    avg_pooling = torch.nn.AvgPool1d(kernel_size = 3, stride=1)(array) # Mean Pooling\n",
    "    min_pooling = -(torch.nn.MaxPool1d(kernel_size = 3, stride=1)(-array)) # MinPooling\n",
    "    array = torch.cat([max_pooling,avg_pooling,min_pooling], axis=2)\n",
    "    array = array.flatten(start_dim=1)\n",
    "    array = pd.DataFrame(array.detach().numpy())\n",
    "    array.index = index\n",
    "    array.columns = [str(i) for i in range(array.shape[1])]\n",
    "    array.reset_index(inplace=True)\n",
    "#     # Daily Norm\n",
    "#     final = []\n",
    "#     for day in tqdm(array['timestamp'].drop_duplicates()):\n",
    "#         df = array[array['timestamp'] == day].set_index(['timestamp','ticker'])\n",
    "#         index = df.index\n",
    "#         # Batch\n",
    "#         df = torch.from_numpy(np.array(df)).to(torch.float) \n",
    "#         batch = nn.BatchNorm1d(df.shape[1])\n",
    "#         df = batch(df)\n",
    "#         df = pd.DataFrame(df.detach().numpy())\n",
    "#         df.index = index\n",
    "#         final.append(df)\n",
    "\n",
    "#     final = pd.concat(final,axis=0)\n",
    "#     final.reset_index(inplace=True)\n",
    "    array.to_parquet(path + \"Pooling/\" + file)\n",
    "    print(\"Save to : \", path + \"Pooling/\" + file)\n",
    "    return None\n",
    "for file in path_list:\n",
    "    pool.apply_async(test, args=(file,))   #维持执行的进程总数为10，当一个进程执行完后启动一个新进程.\n",
    "pool.close()\n",
    "pool.join()\n",
    "t2 = time.time()\n",
    "print(\"并行执行时间：\", int(t2 - t1))"
   ]
  },
  {
   "cell_type": "markdown",
   "id": "a704ef3d",
   "metadata": {},
   "source": [
    "# Normalize Target and Concat"
   ]
  },
  {
   "cell_type": "code",
   "execution_count": 45,
   "id": "94ef44c4",
   "metadata": {
    "ExecuteTime": {
     "end_time": "2022-01-04T08:46:37.603825Z",
     "start_time": "2022-01-04T08:46:37.600115Z"
    }
   },
   "outputs": [],
   "source": [
    "if os.path.exists(path+\"Final\") == False:\n",
    "    os.makedirs(path+\"Final\")"
   ]
  },
  {
   "cell_type": "code",
   "execution_count": 46,
   "id": "d089d170",
   "metadata": {
    "ExecuteTime": {
     "end_time": "2022-01-04T08:46:59.416410Z",
     "start_time": "2022-01-04T08:46:38.131914Z"
    }
   },
   "outputs": [
    {
     "data": {
      "text/html": [
       "<div>\n",
       "<style scoped>\n",
       "    .dataframe tbody tr th:only-of-type {\n",
       "        vertical-align: middle;\n",
       "    }\n",
       "\n",
       "    .dataframe tbody tr th {\n",
       "        vertical-align: top;\n",
       "    }\n",
       "\n",
       "    .dataframe thead th {\n",
       "        text-align: right;\n",
       "    }\n",
       "</style>\n",
       "<table border=\"1\" class=\"dataframe\">\n",
       "  <thead>\n",
       "    <tr style=\"text-align: right;\">\n",
       "      <th></th>\n",
       "      <th></th>\n",
       "      <th>target</th>\n",
       "    </tr>\n",
       "    <tr>\n",
       "      <th>timestamp</th>\n",
       "      <th>ticker</th>\n",
       "      <th></th>\n",
       "    </tr>\n",
       "  </thead>\n",
       "  <tbody>\n",
       "    <tr>\n",
       "      <th rowspan=\"5\" valign=\"top\">2015-01-06 09:30:00</th>\n",
       "      <th>1</th>\n",
       "      <td>-1.126526</td>\n",
       "    </tr>\n",
       "    <tr>\n",
       "      <th>2</th>\n",
       "      <td>-1.411284</td>\n",
       "    </tr>\n",
       "    <tr>\n",
       "      <th>4</th>\n",
       "      <td>0.122665</td>\n",
       "    </tr>\n",
       "    <tr>\n",
       "      <th>5</th>\n",
       "      <td>0.042938</td>\n",
       "    </tr>\n",
       "    <tr>\n",
       "      <th>6</th>\n",
       "      <td>-0.898595</td>\n",
       "    </tr>\n",
       "    <tr>\n",
       "      <th>...</th>\n",
       "      <th>...</th>\n",
       "      <td>...</td>\n",
       "    </tr>\n",
       "    <tr>\n",
       "      <th rowspan=\"5\" valign=\"top\">2021-07-01 09:30:00</th>\n",
       "      <th>688700</th>\n",
       "      <td>2.186672</td>\n",
       "    </tr>\n",
       "    <tr>\n",
       "      <th>688777</th>\n",
       "      <td>0.631149</td>\n",
       "    </tr>\n",
       "    <tr>\n",
       "      <th>688788</th>\n",
       "      <td>-1.974877</td>\n",
       "    </tr>\n",
       "    <tr>\n",
       "      <th>688819</th>\n",
       "      <td>0.325758</td>\n",
       "    </tr>\n",
       "    <tr>\n",
       "      <th>688981</th>\n",
       "      <td>-0.745459</td>\n",
       "    </tr>\n",
       "  </tbody>\n",
       "</table>\n",
       "<p>5357704 rows × 1 columns</p>\n",
       "</div>"
      ],
      "text/plain": [
       "                              target\n",
       "timestamp           ticker          \n",
       "2015-01-06 09:30:00 1      -1.126526\n",
       "                    2      -1.411284\n",
       "                    4       0.122665\n",
       "                    5       0.042938\n",
       "                    6      -0.898595\n",
       "...                              ...\n",
       "2021-07-01 09:30:00 688700  2.186672\n",
       "                    688777  0.631149\n",
       "                    688788 -1.974877\n",
       "                    688819  0.325758\n",
       "                    688981 -0.745459\n",
       "\n",
       "[5357704 rows x 1 columns]"
      ]
     },
     "execution_count": 46,
     "metadata": {},
     "output_type": "execute_result"
    }
   ],
   "source": [
    "dataframe_list = pd.read_csv(path + \"data.csv\").set_index([\"timestamp\",\"ticker\"])\n",
    "df = dataframe_list[target].unstack()\n",
    "df = (df.T - df.mean(axis=1)) / df.std(axis=1)\n",
    "df = df.T.stack()\n",
    "df = pd.DataFrame(df,columns=[\"target\"])\n",
    "# to date time\n",
    "df.reset_index(inplace=True)\n",
    "df['timestamp'] = pd.to_datetime(df['timestamp'])\n",
    "df.set_index([\"timestamp\",\"ticker\"],inplace=True)\n",
    "df"
   ]
  },
  {
   "cell_type": "code",
   "execution_count": 47,
   "id": "813a3fcc",
   "metadata": {
    "ExecuteTime": {
     "end_time": "2022-01-04T08:47:05.356505Z",
     "start_time": "2022-01-04T08:47:05.350482Z"
    }
   },
   "outputs": [],
   "source": [
    "def test(i):\n",
    "    dataframe_list = pd.read_parquet(path +\"Feat_Concat/\" + i).set_index([\"timestamp\",\"ticker\"])\n",
    "    dataframe_list = pd.merge(dataframe_list,df,how=\"left\",left_index=True,right_index=True)\n",
    "    dataframe_list.reset_index().to_parquet(path +\"Final/\" + i)\n",
    "    print(\"Save to : \",path +\"Final/\" + i)\n",
    "    return None"
   ]
  },
  {
   "cell_type": "code",
   "execution_count": 48,
   "id": "1dadbec6",
   "metadata": {
    "ExecuteTime": {
     "end_time": "2022-01-04T08:48:52.624704Z",
     "start_time": "2022-01-04T08:47:06.232797Z"
    }
   },
   "outputs": [
    {
     "name": "stderr",
     "output_type": "stream",
     "text": [
      "100%|██████████| 26/26 [00:00<00:00, 27256.16it/s]\n"
     ]
    },
    {
     "name": "stdout",
     "output_type": "stream",
     "text": [
      "Save to :  /home/wuwenjun/Data/AlphaNet_Original_Input_5d_return/Final/2015-01-01_2015-03-01.par\n",
      "Save to :  /home/wuwenjun/Data/AlphaNet_Original_Input_5d_return/Final/2016-01-01_2016-03-01.par\n",
      "Save to :  /home/wuwenjun/Data/AlphaNet_Original_Input_5d_return/Final/2017-01-01_2017-03-01.par\n",
      "Save to :  /home/wuwenjun/Data/AlphaNet_Original_Input_5d_return/Final/2015-03-01_2015-06-01.par\n",
      "Save to :  /home/wuwenjun/Data/AlphaNet_Original_Input_5d_return/Final/2015-06-01_2015-09-01.par\n",
      "Save to :  /home/wuwenjun/Data/AlphaNet_Original_Input_5d_return/Final/2018-01-01_2018-03-01.par\n",
      "Save to :  /home/wuwenjun/Data/AlphaNet_Original_Input_5d_return/Final/2016-09-01_2017-01-01.par\n",
      "Save to :  Save to :  /home/wuwenjun/Data/AlphaNet_Original_Input_5d_return/Final/2016-03-01_2016-06-01.par/home/wuwenjun/Data/AlphaNet_Original_Input_5d_return/Final/2017-06-01_2017-09-01.par\n",
      "\n",
      "Save to :  /home/wuwenjun/Data/AlphaNet_Original_Input_5d_return/Final/2016-06-01_2016-09-01.par\n",
      "Save to :  /home/wuwenjun/Data/AlphaNet_Original_Input_5d_return/Final/2015-09-01_2016-01-01.par\n",
      "Save to :  /home/wuwenjun/Data/AlphaNet_Original_Input_5d_return/Final/2017-03-01_2017-06-01.par\n",
      "Save to :  /home/wuwenjun/Data/AlphaNet_Original_Input_5d_return/Final/2017-09-01_2018-01-01.par\n",
      "Save to :  /home/wuwenjun/Data/AlphaNet_Original_Input_5d_return/Final/2018-03-01_2018-06-01.par\n",
      "Save to :  /home/wuwenjun/Data/AlphaNet_Original_Input_5d_return/Final/2019-01-01_2019-03-01.par\n",
      "Save to :  /home/wuwenjun/Data/AlphaNet_Original_Input_5d_return/Final/2020-01-01_2020-03-01.par\n",
      "Save to :  /home/wuwenjun/Data/AlphaNet_Original_Input_5d_return/Final/2018-06-01_2018-09-01.par\n",
      "Save to :  /home/wuwenjun/Data/AlphaNet_Original_Input_5d_return/Final/2018-09-01_2019-01-01.par\n",
      "Save to :  /home/wuwenjun/Data/AlphaNet_Original_Input_5d_return/Final/2019-03-01_2019-06-01.parSave to :  \n",
      "/home/wuwenjun/Data/AlphaNet_Original_Input_5d_return/Final/2020-03-01_2020-06-01.par\n",
      "Save to :  /home/wuwenjun/Data/AlphaNet_Original_Input_5d_return/Final/2019-06-01_2019-09-01.par\n",
      "Save to :  /home/wuwenjun/Data/AlphaNet_Original_Input_5d_return/Final/2020-06-01_2020-09-01.par\n",
      "Save to :  /home/wuwenjun/Data/AlphaNet_Original_Input_5d_return/Final/2019-09-01_2020-01-01.par\n",
      "Save to :  /home/wuwenjun/Data/AlphaNet_Original_Input_5d_return/Final/2021-01-01_2021-03-01.par\n",
      "Save to :  /home/wuwenjun/Data/AlphaNet_Original_Input_5d_return/Final/2021-03-01_2021-06-01.par\n",
      "Save to :  /home/wuwenjun/Data/AlphaNet_Original_Input_5d_return/Final/2020-09-01_2021-01-01.par\n",
      "并行执行时间： 92\n"
     ]
    }
   ],
   "source": [
    "pool = mp.Pool(10)\n",
    "t1 = time.time()\n",
    "for file in tqdm(path_list):\n",
    "    pool.apply_async(test, args=(file,))   #维持执行的进程总数为10，当一个进程执行完后启动一个新进程.\n",
    "pool.close()\n",
    "pool.join()\n",
    "\n",
    "t2 = time.time()\n",
    "print(\"并行执行时间：\", int(t2 - t1))"
   ]
  },
  {
   "cell_type": "code",
   "execution_count": 49,
   "id": "3437db4c",
   "metadata": {
    "ExecuteTime": {
     "end_time": "2022-01-04T08:48:53.975394Z",
     "start_time": "2022-01-04T08:48:52.628639Z"
    },
    "scrolled": true
   },
   "outputs": [
    {
     "data": {
      "text/html": [
       "<div>\n",
       "<style scoped>\n",
       "    .dataframe tbody tr th:only-of-type {\n",
       "        vertical-align: middle;\n",
       "    }\n",
       "\n",
       "    .dataframe tbody tr th {\n",
       "        vertical-align: top;\n",
       "    }\n",
       "\n",
       "    .dataframe thead th {\n",
       "        text-align: right;\n",
       "    }\n",
       "</style>\n",
       "<table border=\"1\" class=\"dataframe\">\n",
       "  <thead>\n",
       "    <tr style=\"text-align: right;\">\n",
       "      <th></th>\n",
       "      <th>timestamp</th>\n",
       "      <th>ticker</th>\n",
       "      <th>0</th>\n",
       "      <th>1</th>\n",
       "      <th>2</th>\n",
       "      <th>3</th>\n",
       "      <th>4</th>\n",
       "      <th>5</th>\n",
       "      <th>6</th>\n",
       "      <th>7</th>\n",
       "      <th>...</th>\n",
       "      <th>315</th>\n",
       "      <th>316</th>\n",
       "      <th>317</th>\n",
       "      <th>318</th>\n",
       "      <th>319</th>\n",
       "      <th>320</th>\n",
       "      <th>321</th>\n",
       "      <th>322</th>\n",
       "      <th>323</th>\n",
       "      <th>target</th>\n",
       "    </tr>\n",
       "  </thead>\n",
       "  <tbody>\n",
       "    <tr>\n",
       "      <th>0</th>\n",
       "      <td>2019-06-03 09:30:00</td>\n",
       "      <td>1</td>\n",
       "      <td>642.668930</td>\n",
       "      <td>732.445878</td>\n",
       "      <td>90.182527</td>\n",
       "      <td>506.161342</td>\n",
       "      <td>842.470287</td>\n",
       "      <td>127.050138</td>\n",
       "      <td>487.486112</td>\n",
       "      <td>560.657678</td>\n",
       "      <td>...</td>\n",
       "      <td>-0.511487</td>\n",
       "      <td>-0.417024</td>\n",
       "      <td>-0.306245</td>\n",
       "      <td>0.675007</td>\n",
       "      <td>0.596138</td>\n",
       "      <td>0.417038</td>\n",
       "      <td>1.522942</td>\n",
       "      <td>1.344993</td>\n",
       "      <td>0.940935</td>\n",
       "      <td>0.843771</td>\n",
       "    </tr>\n",
       "    <tr>\n",
       "      <th>1</th>\n",
       "      <td>2019-06-04 09:30:00</td>\n",
       "      <td>1</td>\n",
       "      <td>2096.386494</td>\n",
       "      <td>548.990224</td>\n",
       "      <td>109.882809</td>\n",
       "      <td>2174.762801</td>\n",
       "      <td>702.839116</td>\n",
       "      <td>171.892827</td>\n",
       "      <td>2208.559264</td>\n",
       "      <td>477.148118</td>\n",
       "      <td>...</td>\n",
       "      <td>-1.709293</td>\n",
       "      <td>-0.320815</td>\n",
       "      <td>-0.686616</td>\n",
       "      <td>0.779296</td>\n",
       "      <td>0.557267</td>\n",
       "      <td>0.501880</td>\n",
       "      <td>1.758233</td>\n",
       "      <td>1.257305</td>\n",
       "      <td>1.132351</td>\n",
       "      <td>0.878615</td>\n",
       "    </tr>\n",
       "    <tr>\n",
       "      <th>2</th>\n",
       "      <td>2019-06-05 09:30:00</td>\n",
       "      <td>1</td>\n",
       "      <td>3675.248588</td>\n",
       "      <td>387.817611</td>\n",
       "      <td>329.337998</td>\n",
       "      <td>3527.494588</td>\n",
       "      <td>478.741251</td>\n",
       "      <td>408.572213</td>\n",
       "      <td>3488.742740</td>\n",
       "      <td>237.657136</td>\n",
       "      <td>...</td>\n",
       "      <td>-1.407602</td>\n",
       "      <td>0.007567</td>\n",
       "      <td>-0.692376</td>\n",
       "      <td>0.762180</td>\n",
       "      <td>0.526562</td>\n",
       "      <td>0.522049</td>\n",
       "      <td>1.719625</td>\n",
       "      <td>1.188007</td>\n",
       "      <td>1.177871</td>\n",
       "      <td>0.599032</td>\n",
       "    </tr>\n",
       "    <tr>\n",
       "      <th>3</th>\n",
       "      <td>2019-06-06 09:30:00</td>\n",
       "      <td>1</td>\n",
       "      <td>5095.576744</td>\n",
       "      <td>338.420328</td>\n",
       "      <td>330.896680</td>\n",
       "      <td>4833.440429</td>\n",
       "      <td>433.775567</td>\n",
       "      <td>347.356847</td>\n",
       "      <td>4724.327142</td>\n",
       "      <td>211.071372</td>\n",
       "      <td>...</td>\n",
       "      <td>-1.722898</td>\n",
       "      <td>-0.175167</td>\n",
       "      <td>-0.403533</td>\n",
       "      <td>0.728784</td>\n",
       "      <td>0.475635</td>\n",
       "      <td>0.515751</td>\n",
       "      <td>1.644287</td>\n",
       "      <td>1.073122</td>\n",
       "      <td>1.163647</td>\n",
       "      <td>0.392347</td>\n",
       "    </tr>\n",
       "    <tr>\n",
       "      <th>4</th>\n",
       "      <td>2019-06-10 09:30:00</td>\n",
       "      <td>1</td>\n",
       "      <td>6144.335576</td>\n",
       "      <td>450.831178</td>\n",
       "      <td>404.073763</td>\n",
       "      <td>6296.420919</td>\n",
       "      <td>502.373333</td>\n",
       "      <td>381.229130</td>\n",
       "      <td>6353.789056</td>\n",
       "      <td>299.574733</td>\n",
       "      <td>...</td>\n",
       "      <td>-2.083133</td>\n",
       "      <td>-0.313553</td>\n",
       "      <td>-0.416336</td>\n",
       "      <td>0.759853</td>\n",
       "      <td>0.446695</td>\n",
       "      <td>0.473500</td>\n",
       "      <td>1.714376</td>\n",
       "      <td>1.007829</td>\n",
       "      <td>1.068298</td>\n",
       "      <td>0.334024</td>\n",
       "    </tr>\n",
       "    <tr>\n",
       "      <th>...</th>\n",
       "      <td>...</td>\n",
       "      <td>...</td>\n",
       "      <td>...</td>\n",
       "      <td>...</td>\n",
       "      <td>...</td>\n",
       "      <td>...</td>\n",
       "      <td>...</td>\n",
       "      <td>...</td>\n",
       "      <td>...</td>\n",
       "      <td>...</td>\n",
       "      <td>...</td>\n",
       "      <td>...</td>\n",
       "      <td>...</td>\n",
       "      <td>...</td>\n",
       "      <td>...</td>\n",
       "      <td>...</td>\n",
       "      <td>...</td>\n",
       "      <td>...</td>\n",
       "      <td>...</td>\n",
       "      <td>...</td>\n",
       "      <td>...</td>\n",
       "    </tr>\n",
       "    <tr>\n",
       "      <th>231011</th>\n",
       "      <td>2019-08-26 09:30:00</td>\n",
       "      <td>603999</td>\n",
       "      <td>0.086600</td>\n",
       "      <td>0.485252</td>\n",
       "      <td>4.737556</td>\n",
       "      <td>0.063339</td>\n",
       "      <td>0.418676</td>\n",
       "      <td>4.186172</td>\n",
       "      <td>0.072861</td>\n",
       "      <td>0.462228</td>\n",
       "      <td>...</td>\n",
       "      <td>1.540904</td>\n",
       "      <td>-1.161398</td>\n",
       "      <td>3.116449</td>\n",
       "      <td>0.682538</td>\n",
       "      <td>0.835436</td>\n",
       "      <td>4.423025</td>\n",
       "      <td>1.618849</td>\n",
       "      <td>1.981433</td>\n",
       "      <td>10.490544</td>\n",
       "      <td>-1.556930</td>\n",
       "    </tr>\n",
       "    <tr>\n",
       "      <th>231012</th>\n",
       "      <td>2019-08-27 09:30:00</td>\n",
       "      <td>603999</td>\n",
       "      <td>0.227422</td>\n",
       "      <td>0.383404</td>\n",
       "      <td>4.298236</td>\n",
       "      <td>0.137667</td>\n",
       "      <td>0.373142</td>\n",
       "      <td>3.818259</td>\n",
       "      <td>0.184933</td>\n",
       "      <td>0.368693</td>\n",
       "      <td>...</td>\n",
       "      <td>1.497273</td>\n",
       "      <td>-0.786195</td>\n",
       "      <td>1.630575</td>\n",
       "      <td>1.075733</td>\n",
       "      <td>0.732858</td>\n",
       "      <td>4.645142</td>\n",
       "      <td>2.551415</td>\n",
       "      <td>1.738171</td>\n",
       "      <td>11.017364</td>\n",
       "      <td>-1.121929</td>\n",
       "    </tr>\n",
       "    <tr>\n",
       "      <th>231013</th>\n",
       "      <td>2019-08-28 09:30:00</td>\n",
       "      <td>603999</td>\n",
       "      <td>0.263048</td>\n",
       "      <td>0.336760</td>\n",
       "      <td>3.575583</td>\n",
       "      <td>0.180887</td>\n",
       "      <td>0.306350</td>\n",
       "      <td>3.306194</td>\n",
       "      <td>0.227586</td>\n",
       "      <td>0.303971</td>\n",
       "      <td>...</td>\n",
       "      <td>1.168284</td>\n",
       "      <td>-0.831340</td>\n",
       "      <td>1.129598</td>\n",
       "      <td>1.208607</td>\n",
       "      <td>0.640404</td>\n",
       "      <td>4.631107</td>\n",
       "      <td>2.866544</td>\n",
       "      <td>1.518891</td>\n",
       "      <td>10.984069</td>\n",
       "      <td>-0.865651</td>\n",
       "    </tr>\n",
       "    <tr>\n",
       "      <th>231014</th>\n",
       "      <td>2019-08-29 09:30:00</td>\n",
       "      <td>603999</td>\n",
       "      <td>0.291648</td>\n",
       "      <td>0.236471</td>\n",
       "      <td>2.697064</td>\n",
       "      <td>0.214412</td>\n",
       "      <td>0.201980</td>\n",
       "      <td>2.628958</td>\n",
       "      <td>0.249952</td>\n",
       "      <td>0.211949</td>\n",
       "      <td>...</td>\n",
       "      <td>0.589565</td>\n",
       "      <td>-0.419440</td>\n",
       "      <td>-0.111805</td>\n",
       "      <td>1.204451</td>\n",
       "      <td>0.573242</td>\n",
       "      <td>4.510796</td>\n",
       "      <td>2.856662</td>\n",
       "      <td>1.359589</td>\n",
       "      <td>10.698702</td>\n",
       "      <td>-0.440248</td>\n",
       "    </tr>\n",
       "    <tr>\n",
       "      <th>231015</th>\n",
       "      <td>2019-08-30 09:30:00</td>\n",
       "      <td>603999</td>\n",
       "      <td>0.299428</td>\n",
       "      <td>0.148691</td>\n",
       "      <td>1.651711</td>\n",
       "      <td>0.220546</td>\n",
       "      <td>0.135422</td>\n",
       "      <td>1.657028</td>\n",
       "      <td>0.258498</td>\n",
       "      <td>0.116620</td>\n",
       "      <td>...</td>\n",
       "      <td>0.628456</td>\n",
       "      <td>0.187184</td>\n",
       "      <td>-0.319444</td>\n",
       "      <td>1.263273</td>\n",
       "      <td>0.580975</td>\n",
       "      <td>4.174771</td>\n",
       "      <td>2.996185</td>\n",
       "      <td>1.377945</td>\n",
       "      <td>9.901702</td>\n",
       "      <td>-0.188897</td>\n",
       "    </tr>\n",
       "  </tbody>\n",
       "</table>\n",
       "<p>231016 rows × 327 columns</p>\n",
       "</div>"
      ],
      "text/plain": [
       "                 timestamp  ticker            0           1           2  \\\n",
       "0      2019-06-03 09:30:00       1   642.668930  732.445878   90.182527   \n",
       "1      2019-06-04 09:30:00       1  2096.386494  548.990224  109.882809   \n",
       "2      2019-06-05 09:30:00       1  3675.248588  387.817611  329.337998   \n",
       "3      2019-06-06 09:30:00       1  5095.576744  338.420328  330.896680   \n",
       "4      2019-06-10 09:30:00       1  6144.335576  450.831178  404.073763   \n",
       "...                    ...     ...          ...         ...         ...   \n",
       "231011 2019-08-26 09:30:00  603999     0.086600    0.485252    4.737556   \n",
       "231012 2019-08-27 09:30:00  603999     0.227422    0.383404    4.298236   \n",
       "231013 2019-08-28 09:30:00  603999     0.263048    0.336760    3.575583   \n",
       "231014 2019-08-29 09:30:00  603999     0.291648    0.236471    2.697064   \n",
       "231015 2019-08-30 09:30:00  603999     0.299428    0.148691    1.651711   \n",
       "\n",
       "                  3           4           5            6           7  ...  \\\n",
       "0        506.161342  842.470287  127.050138   487.486112  560.657678  ...   \n",
       "1       2174.762801  702.839116  171.892827  2208.559264  477.148118  ...   \n",
       "2       3527.494588  478.741251  408.572213  3488.742740  237.657136  ...   \n",
       "3       4833.440429  433.775567  347.356847  4724.327142  211.071372  ...   \n",
       "4       6296.420919  502.373333  381.229130  6353.789056  299.574733  ...   \n",
       "...             ...         ...         ...          ...         ...  ...   \n",
       "231011     0.063339    0.418676    4.186172     0.072861    0.462228  ...   \n",
       "231012     0.137667    0.373142    3.818259     0.184933    0.368693  ...   \n",
       "231013     0.180887    0.306350    3.306194     0.227586    0.303971  ...   \n",
       "231014     0.214412    0.201980    2.628958     0.249952    0.211949  ...   \n",
       "231015     0.220546    0.135422    1.657028     0.258498    0.116620  ...   \n",
       "\n",
       "             315       316       317       318       319       320       321  \\\n",
       "0      -0.511487 -0.417024 -0.306245  0.675007  0.596138  0.417038  1.522942   \n",
       "1      -1.709293 -0.320815 -0.686616  0.779296  0.557267  0.501880  1.758233   \n",
       "2      -1.407602  0.007567 -0.692376  0.762180  0.526562  0.522049  1.719625   \n",
       "3      -1.722898 -0.175167 -0.403533  0.728784  0.475635  0.515751  1.644287   \n",
       "4      -2.083133 -0.313553 -0.416336  0.759853  0.446695  0.473500  1.714376   \n",
       "...          ...       ...       ...       ...       ...       ...       ...   \n",
       "231011  1.540904 -1.161398  3.116449  0.682538  0.835436  4.423025  1.618849   \n",
       "231012  1.497273 -0.786195  1.630575  1.075733  0.732858  4.645142  2.551415   \n",
       "231013  1.168284 -0.831340  1.129598  1.208607  0.640404  4.631107  2.866544   \n",
       "231014  0.589565 -0.419440 -0.111805  1.204451  0.573242  4.510796  2.856662   \n",
       "231015  0.628456  0.187184 -0.319444  1.263273  0.580975  4.174771  2.996185   \n",
       "\n",
       "             322        323    target  \n",
       "0       1.344993   0.940935  0.843771  \n",
       "1       1.257305   1.132351  0.878615  \n",
       "2       1.188007   1.177871  0.599032  \n",
       "3       1.073122   1.163647  0.392347  \n",
       "4       1.007829   1.068298  0.334024  \n",
       "...          ...        ...       ...  \n",
       "231011  1.981433  10.490544 -1.556930  \n",
       "231012  1.738171  11.017364 -1.121929  \n",
       "231013  1.518891  10.984069 -0.865651  \n",
       "231014  1.359589  10.698702 -0.440248  \n",
       "231015  1.377945   9.901702 -0.188897  \n",
       "\n",
       "[231016 rows x 327 columns]"
      ]
     },
     "execution_count": 49,
     "metadata": {},
     "output_type": "execute_result"
    }
   ],
   "source": [
    "pd.read_parquet(path + \"Final/\" + \"2019-06-01_2019-09-01.par\")"
   ]
  }
 ],
 "metadata": {
  "kernelspec": {
   "display_name": "Python 3 (ipykernel)",
   "language": "python",
   "name": "python3"
  },
  "language_info": {
   "codemirror_mode": {
    "name": "ipython",
    "version": 3
   },
   "file_extension": ".py",
   "mimetype": "text/x-python",
   "name": "python",
   "nbconvert_exporter": "python",
   "pygments_lexer": "ipython3",
   "version": "3.7.9"
  }
 },
 "nbformat": 4,
 "nbformat_minor": 5
}
