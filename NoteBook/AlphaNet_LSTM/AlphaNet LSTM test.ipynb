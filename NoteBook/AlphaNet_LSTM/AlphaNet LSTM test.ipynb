{
 "cells": [
  {
   "cell_type": "code",
   "execution_count": 1,
   "id": "47f5acde",
   "metadata": {
    "ExecuteTime": {
     "end_time": "2022-01-10T11:48:20.842687Z",
     "start_time": "2022-01-10T11:48:20.833224Z"
    }
   },
   "outputs": [],
   "source": [
    "Alpha_Name = \"5_Input_20220110_10d_ret_StandardScale_MinMax_10\"\n",
    "start_date = \"2020-01-01\"\n",
    "end_date = \"2020-06-01\""
   ]
  },
  {
   "cell_type": "code",
   "execution_count": 2,
   "id": "483bd59f",
   "metadata": {
    "ExecuteTime": {
     "end_time": "2022-01-10T11:48:39.977598Z",
     "start_time": "2022-01-10T11:48:26.617612Z"
    }
   },
   "outputs": [],
   "source": [
    "import time\n",
    "import os\n",
    "from Research.backtest.bt import BTDaily\n",
    "import matplotlib.pyplot as plt\n",
    "from Research.feature.ft import FeatureAnalysis\n",
    "import Research.utils.namespace as namespace\n",
    "import Research.utils.normalization as norm\n",
    "from Platform.database.mysql import MysqlAPI\n",
    "from Platform.utils.persistence import convert_to_standard_daily_feature_csv, convert_to_standard_daily_feature_par\n",
    "from Platform.config.mysql_info import FACTOR_LIB_MYSQL_TIO\n",
    "import DataAPI\n",
    "from os import walk\n",
    "import pandas as pd\n",
    "import numpy as np\n",
    "import torch\n",
    "import torch.nn as nn\n",
    "from progressbar import ProgressBar\n",
    "from tqdm import tqdm\n",
    "import multiprocessing as mp\n",
    "import sys\n",
    "sys.path.append(\"/home/wuwenjun/jupyter_code/Shannon/AlphaNet/packages/\")\n",
    "model_path = \"/home/wuwenjun/Alpha_Factor/\" + Alpha_Name + \"/\" + \"%s_%s\" %(start_date,end_date) + \"/\"\n",
    "if os.path.exists(model_path) == False:\n",
    "    os.makedirs(model_path)\n",
    "    print(model_path)"
   ]
  },
  {
   "cell_type": "code",
   "execution_count": 3,
   "id": "b692dba4",
   "metadata": {
    "ExecuteTime": {
     "end_time": "2022-01-10T11:49:17.696308Z",
     "start_time": "2022-01-10T11:48:39.979691Z"
    }
   },
   "outputs": [
    {
     "name": "stdout",
     "output_type": "stream",
     "text": [
      "Loading the configuration from /home/ShareFolder/lgc/Modules/Research/config/feature_bt_template\n"
     ]
    },
    {
     "name": "stderr",
     "output_type": "stream",
     "text": [
      "  3%|▎         | 35/1219 [00:00<00:04, 286.79it/s]"
     ]
    },
    {
     "name": "stdout",
     "output_type": "stream",
     "text": [
      "Loading the configuration from /home/ShareFolder/lgc/Modules/Research/config/feature_bt_template\n"
     ]
    },
    {
     "name": "stderr",
     "output_type": "stream",
     "text": [
      "100%|██████████| 1219/1219 [00:30<00:00, 40.54it/s]\n"
     ]
    },
    {
     "data": {
      "text/html": [
       "<div>\n",
       "<style scoped>\n",
       "    .dataframe tbody tr th:only-of-type {\n",
       "        vertical-align: middle;\n",
       "    }\n",
       "\n",
       "    .dataframe tbody tr th {\n",
       "        vertical-align: top;\n",
       "    }\n",
       "\n",
       "    .dataframe thead th {\n",
       "        text-align: right;\n",
       "    }\n",
       "</style>\n",
       "<table border=\"1\" class=\"dataframe\">\n",
       "  <thead>\n",
       "    <tr style=\"text-align: right;\">\n",
       "      <th></th>\n",
       "      <th></th>\n",
       "      <th>0</th>\n",
       "      <th>1</th>\n",
       "      <th>2</th>\n",
       "      <th>3</th>\n",
       "      <th>4</th>\n",
       "      <th>5</th>\n",
       "      <th>6</th>\n",
       "      <th>7</th>\n",
       "      <th>8</th>\n",
       "      <th>9</th>\n",
       "      <th>...</th>\n",
       "      <th>111</th>\n",
       "      <th>112</th>\n",
       "      <th>113</th>\n",
       "      <th>114</th>\n",
       "      <th>115</th>\n",
       "      <th>116</th>\n",
       "      <th>117</th>\n",
       "      <th>118</th>\n",
       "      <th>119</th>\n",
       "      <th>target</th>\n",
       "    </tr>\n",
       "    <tr>\n",
       "      <th>timestamp</th>\n",
       "      <th>ticker</th>\n",
       "      <th></th>\n",
       "      <th></th>\n",
       "      <th></th>\n",
       "      <th></th>\n",
       "      <th></th>\n",
       "      <th></th>\n",
       "      <th></th>\n",
       "      <th></th>\n",
       "      <th></th>\n",
       "      <th></th>\n",
       "      <th></th>\n",
       "      <th></th>\n",
       "      <th></th>\n",
       "      <th></th>\n",
       "      <th></th>\n",
       "      <th></th>\n",
       "      <th></th>\n",
       "      <th></th>\n",
       "      <th></th>\n",
       "      <th></th>\n",
       "      <th></th>\n",
       "    </tr>\n",
       "  </thead>\n",
       "  <tbody>\n",
       "    <tr>\n",
       "      <th rowspan=\"5\" valign=\"top\">2015-02-16 09:30:00</th>\n",
       "      <th>000001</th>\n",
       "      <td>0.000064</td>\n",
       "      <td>-0.038558</td>\n",
       "      <td>3954.352065</td>\n",
       "      <td>-0.014480</td>\n",
       "      <td>-0.153531</td>\n",
       "      <td>-2626.705689</td>\n",
       "      <td>-0.017612</td>\n",
       "      <td>1.415203e+07</td>\n",
       "      <td>13.814661</td>\n",
       "      <td>1.150742e+05</td>\n",
       "      <td>...</td>\n",
       "      <td>0.345175</td>\n",
       "      <td>0.023481</td>\n",
       "      <td>0.031142</td>\n",
       "      <td>-1.301542</td>\n",
       "      <td>0.014472</td>\n",
       "      <td>-0.012360</td>\n",
       "      <td>977.906545</td>\n",
       "      <td>8.618504e+05</td>\n",
       "      <td>0.284385</td>\n",
       "      <td>-8.145359</td>\n",
       "    </tr>\n",
       "    <tr>\n",
       "      <th>000002</th>\n",
       "      <td>0.000147</td>\n",
       "      <td>0.135621</td>\n",
       "      <td>5523.931352</td>\n",
       "      <td>-0.033847</td>\n",
       "      <td>-0.583065</td>\n",
       "      <td>-11505.304621</td>\n",
       "      <td>-0.048414</td>\n",
       "      <td>8.801691e+07</td>\n",
       "      <td>121.464693</td>\n",
       "      <td>2.913541e+06</td>\n",
       "      <td>...</td>\n",
       "      <td>0.085346</td>\n",
       "      <td>-0.009313</td>\n",
       "      <td>-0.004410</td>\n",
       "      <td>-2.271306</td>\n",
       "      <td>0.020087</td>\n",
       "      <td>-0.022228</td>\n",
       "      <td>1542.165091</td>\n",
       "      <td>1.659369e+06</td>\n",
       "      <td>0.237585</td>\n",
       "      <td>-8.566707</td>\n",
       "    </tr>\n",
       "    <tr>\n",
       "      <th>000004</th>\n",
       "      <td>0.000093</td>\n",
       "      <td>-0.003361</td>\n",
       "      <td>-18.869629</td>\n",
       "      <td>-0.019579</td>\n",
       "      <td>-0.011733</td>\n",
       "      <td>-121.588925</td>\n",
       "      <td>-0.039625</td>\n",
       "      <td>6.284071e+03</td>\n",
       "      <td>1.512995</td>\n",
       "      <td>1.306707e+04</td>\n",
       "      <td>...</td>\n",
       "      <td>0.081493</td>\n",
       "      <td>0.038451</td>\n",
       "      <td>-0.009981</td>\n",
       "      <td>-1.736879</td>\n",
       "      <td>0.011924</td>\n",
       "      <td>-0.014008</td>\n",
       "      <td>70.910545</td>\n",
       "      <td>1.221067e+04</td>\n",
       "      <td>0.477255</td>\n",
       "      <td>-7.371395</td>\n",
       "    </tr>\n",
       "    <tr>\n",
       "      <th>000005</th>\n",
       "      <td>0.000000</td>\n",
       "      <td>0.000000</td>\n",
       "      <td>0.000000</td>\n",
       "      <td>0.000000</td>\n",
       "      <td>0.000000</td>\n",
       "      <td>0.000000</td>\n",
       "      <td>0.000000</td>\n",
       "      <td>0.000000e+00</td>\n",
       "      <td>0.000000</td>\n",
       "      <td>0.000000e+00</td>\n",
       "      <td>...</td>\n",
       "      <td>-1.000000</td>\n",
       "      <td>0.000000</td>\n",
       "      <td>-1.000000</td>\n",
       "      <td>-1.000000</td>\n",
       "      <td>0.000000</td>\n",
       "      <td>0.000000</td>\n",
       "      <td>38.000000</td>\n",
       "      <td>0.000000e+00</td>\n",
       "      <td>0.000000</td>\n",
       "      <td>-7.757260</td>\n",
       "    </tr>\n",
       "    <tr>\n",
       "      <th>000006</th>\n",
       "      <td>0.000035</td>\n",
       "      <td>0.054798</td>\n",
       "      <td>2741.562408</td>\n",
       "      <td>-0.009933</td>\n",
       "      <td>0.008375</td>\n",
       "      <td>430.094542</td>\n",
       "      <td>-0.002161</td>\n",
       "      <td>1.746874e+06</td>\n",
       "      <td>0.897457</td>\n",
       "      <td>-3.758064e+04</td>\n",
       "      <td>...</td>\n",
       "      <td>0.088571</td>\n",
       "      <td>0.000000</td>\n",
       "      <td>0.060849</td>\n",
       "      <td>-2.261014</td>\n",
       "      <td>0.013070</td>\n",
       "      <td>-0.012106</td>\n",
       "      <td>200.097636</td>\n",
       "      <td>1.295647e+05</td>\n",
       "      <td>0.274916</td>\n",
       "      <td>-7.317232</td>\n",
       "    </tr>\n",
       "    <tr>\n",
       "      <th>...</th>\n",
       "      <th>...</th>\n",
       "      <td>...</td>\n",
       "      <td>...</td>\n",
       "      <td>...</td>\n",
       "      <td>...</td>\n",
       "      <td>...</td>\n",
       "      <td>...</td>\n",
       "      <td>...</td>\n",
       "      <td>...</td>\n",
       "      <td>...</td>\n",
       "      <td>...</td>\n",
       "      <td>...</td>\n",
       "      <td>...</td>\n",
       "      <td>...</td>\n",
       "      <td>...</td>\n",
       "      <td>...</td>\n",
       "      <td>...</td>\n",
       "      <td>...</td>\n",
       "      <td>...</td>\n",
       "      <td>...</td>\n",
       "      <td>...</td>\n",
       "      <td>...</td>\n",
       "    </tr>\n",
       "    <tr>\n",
       "      <th rowspan=\"5\" valign=\"top\">2019-12-31 09:30:00</th>\n",
       "      <th>688366</th>\n",
       "      <td>0.000073</td>\n",
       "      <td>-0.002688</td>\n",
       "      <td>22.559362</td>\n",
       "      <td>-0.016287</td>\n",
       "      <td>-0.021921</td>\n",
       "      <td>-70.007276</td>\n",
       "      <td>-0.041304</td>\n",
       "      <td>7.920580e+03</td>\n",
       "      <td>2.309137</td>\n",
       "      <td>1.129469e+04</td>\n",
       "      <td>...</td>\n",
       "      <td>-0.150452</td>\n",
       "      <td>-0.035167</td>\n",
       "      <td>-0.119583</td>\n",
       "      <td>2.143160</td>\n",
       "      <td>0.016155</td>\n",
       "      <td>-0.008964</td>\n",
       "      <td>86.558909</td>\n",
       "      <td>5.034015e+03</td>\n",
       "      <td>-0.385071</td>\n",
       "      <td>-5.499180</td>\n",
       "    </tr>\n",
       "    <tr>\n",
       "      <th>688368</th>\n",
       "      <td>0.000197</td>\n",
       "      <td>-0.010143</td>\n",
       "      <td>-26.907990</td>\n",
       "      <td>-0.032727</td>\n",
       "      <td>-0.012189</td>\n",
       "      <td>-57.497162</td>\n",
       "      <td>-0.052928</td>\n",
       "      <td>2.288874e+03</td>\n",
       "      <td>2.688252</td>\n",
       "      <td>7.848888e+03</td>\n",
       "      <td>...</td>\n",
       "      <td>1.141902</td>\n",
       "      <td>0.113985</td>\n",
       "      <td>-0.023913</td>\n",
       "      <td>1.428267</td>\n",
       "      <td>0.034565</td>\n",
       "      <td>-0.034247</td>\n",
       "      <td>87.616909</td>\n",
       "      <td>9.802229e+03</td>\n",
       "      <td>0.961000</td>\n",
       "      <td>-6.482642</td>\n",
       "    </tr>\n",
       "    <tr>\n",
       "      <th>688369</th>\n",
       "      <td>0.000015</td>\n",
       "      <td>-0.008861</td>\n",
       "      <td>84.007717</td>\n",
       "      <td>-0.032206</td>\n",
       "      <td>-0.008649</td>\n",
       "      <td>-19.593120</td>\n",
       "      <td>-0.012468</td>\n",
       "      <td>6.057487e+03</td>\n",
       "      <td>0.313709</td>\n",
       "      <td>-3.432590e+03</td>\n",
       "      <td>...</td>\n",
       "      <td>0.344850</td>\n",
       "      <td>-0.018097</td>\n",
       "      <td>-0.242743</td>\n",
       "      <td>-16.035785</td>\n",
       "      <td>0.019045</td>\n",
       "      <td>-0.011697</td>\n",
       "      <td>59.392909</td>\n",
       "      <td>1.340239e+04</td>\n",
       "      <td>-0.373915</td>\n",
       "      <td>-5.463347</td>\n",
       "    </tr>\n",
       "    <tr>\n",
       "      <th>688388</th>\n",
       "      <td>0.000037</td>\n",
       "      <td>-0.001228</td>\n",
       "      <td>78.998641</td>\n",
       "      <td>-0.007192</td>\n",
       "      <td>-0.003517</td>\n",
       "      <td>-91.809291</td>\n",
       "      <td>-0.025993</td>\n",
       "      <td>3.661133e+03</td>\n",
       "      <td>1.455787</td>\n",
       "      <td>1.702078e+04</td>\n",
       "      <td>...</td>\n",
       "      <td>4.525981</td>\n",
       "      <td>0.209164</td>\n",
       "      <td>0.212289</td>\n",
       "      <td>4.499188</td>\n",
       "      <td>0.026055</td>\n",
       "      <td>-0.035712</td>\n",
       "      <td>52.684364</td>\n",
       "      <td>5.130674e+04</td>\n",
       "      <td>2.596262</td>\n",
       "      <td>-5.830196</td>\n",
       "    </tr>\n",
       "    <tr>\n",
       "      <th>688389</th>\n",
       "      <td>0.000027</td>\n",
       "      <td>-0.002629</td>\n",
       "      <td>6.048070</td>\n",
       "      <td>-0.015823</td>\n",
       "      <td>-0.000241</td>\n",
       "      <td>-2.246640</td>\n",
       "      <td>-0.004988</td>\n",
       "      <td>3.053870e+03</td>\n",
       "      <td>0.238123</td>\n",
       "      <td>2.053975e+03</td>\n",
       "      <td>...</td>\n",
       "      <td>0.125396</td>\n",
       "      <td>0.011139</td>\n",
       "      <td>-0.359154</td>\n",
       "      <td>-1.307557</td>\n",
       "      <td>0.018120</td>\n",
       "      <td>-0.016364</td>\n",
       "      <td>16.444182</td>\n",
       "      <td>3.000006e+04</td>\n",
       "      <td>-0.044755</td>\n",
       "      <td>-5.314287</td>\n",
       "    </tr>\n",
       "  </tbody>\n",
       "</table>\n",
       "<p>3796142 rows × 121 columns</p>\n",
       "</div>"
      ],
      "text/plain": [
       "                                   0         1            2         3  \\\n",
       "timestamp           ticker                                              \n",
       "2015-02-16 09:30:00 000001  0.000064 -0.038558  3954.352065 -0.014480   \n",
       "                    000002  0.000147  0.135621  5523.931352 -0.033847   \n",
       "                    000004  0.000093 -0.003361   -18.869629 -0.019579   \n",
       "                    000005  0.000000  0.000000     0.000000  0.000000   \n",
       "                    000006  0.000035  0.054798  2741.562408 -0.009933   \n",
       "...                              ...       ...          ...       ...   \n",
       "2019-12-31 09:30:00 688366  0.000073 -0.002688    22.559362 -0.016287   \n",
       "                    688368  0.000197 -0.010143   -26.907990 -0.032727   \n",
       "                    688369  0.000015 -0.008861    84.007717 -0.032206   \n",
       "                    688388  0.000037 -0.001228    78.998641 -0.007192   \n",
       "                    688389  0.000027 -0.002629     6.048070 -0.015823   \n",
       "\n",
       "                                   4             5         6             7  \\\n",
       "timestamp           ticker                                                   \n",
       "2015-02-16 09:30:00 000001 -0.153531  -2626.705689 -0.017612  1.415203e+07   \n",
       "                    000002 -0.583065 -11505.304621 -0.048414  8.801691e+07   \n",
       "                    000004 -0.011733   -121.588925 -0.039625  6.284071e+03   \n",
       "                    000005  0.000000      0.000000  0.000000  0.000000e+00   \n",
       "                    000006  0.008375    430.094542 -0.002161  1.746874e+06   \n",
       "...                              ...           ...       ...           ...   \n",
       "2019-12-31 09:30:00 688366 -0.021921    -70.007276 -0.041304  7.920580e+03   \n",
       "                    688368 -0.012189    -57.497162 -0.052928  2.288874e+03   \n",
       "                    688369 -0.008649    -19.593120 -0.012468  6.057487e+03   \n",
       "                    688388 -0.003517    -91.809291 -0.025993  3.661133e+03   \n",
       "                    688389 -0.000241     -2.246640 -0.004988  3.053870e+03   \n",
       "\n",
       "                                     8             9  ...       111       112  \\\n",
       "timestamp           ticker                            ...                       \n",
       "2015-02-16 09:30:00 000001   13.814661  1.150742e+05  ...  0.345175  0.023481   \n",
       "                    000002  121.464693  2.913541e+06  ...  0.085346 -0.009313   \n",
       "                    000004    1.512995  1.306707e+04  ...  0.081493  0.038451   \n",
       "                    000005    0.000000  0.000000e+00  ... -1.000000  0.000000   \n",
       "                    000006    0.897457 -3.758064e+04  ...  0.088571  0.000000   \n",
       "...                                ...           ...  ...       ...       ...   \n",
       "2019-12-31 09:30:00 688366    2.309137  1.129469e+04  ... -0.150452 -0.035167   \n",
       "                    688368    2.688252  7.848888e+03  ...  1.141902  0.113985   \n",
       "                    688369    0.313709 -3.432590e+03  ...  0.344850 -0.018097   \n",
       "                    688388    1.455787  1.702078e+04  ...  4.525981  0.209164   \n",
       "                    688389    0.238123  2.053975e+03  ...  0.125396  0.011139   \n",
       "\n",
       "                                 113        114       115       116  \\\n",
       "timestamp           ticker                                            \n",
       "2015-02-16 09:30:00 000001  0.031142  -1.301542  0.014472 -0.012360   \n",
       "                    000002 -0.004410  -2.271306  0.020087 -0.022228   \n",
       "                    000004 -0.009981  -1.736879  0.011924 -0.014008   \n",
       "                    000005 -1.000000  -1.000000  0.000000  0.000000   \n",
       "                    000006  0.060849  -2.261014  0.013070 -0.012106   \n",
       "...                              ...        ...       ...       ...   \n",
       "2019-12-31 09:30:00 688366 -0.119583   2.143160  0.016155 -0.008964   \n",
       "                    688368 -0.023913   1.428267  0.034565 -0.034247   \n",
       "                    688369 -0.242743 -16.035785  0.019045 -0.011697   \n",
       "                    688388  0.212289   4.499188  0.026055 -0.035712   \n",
       "                    688389 -0.359154  -1.307557  0.018120 -0.016364   \n",
       "\n",
       "                                    117           118       119    target  \n",
       "timestamp           ticker                                                 \n",
       "2015-02-16 09:30:00 000001   977.906545  8.618504e+05  0.284385 -8.145359  \n",
       "                    000002  1542.165091  1.659369e+06  0.237585 -8.566707  \n",
       "                    000004    70.910545  1.221067e+04  0.477255 -7.371395  \n",
       "                    000005    38.000000  0.000000e+00  0.000000 -7.757260  \n",
       "                    000006   200.097636  1.295647e+05  0.274916 -7.317232  \n",
       "...                                 ...           ...       ...       ...  \n",
       "2019-12-31 09:30:00 688366    86.558909  5.034015e+03 -0.385071 -5.499180  \n",
       "                    688368    87.616909  9.802229e+03  0.961000 -6.482642  \n",
       "                    688369    59.392909  1.340239e+04 -0.373915 -5.463347  \n",
       "                    688388    52.684364  5.130674e+04  2.596262 -5.830196  \n",
       "                    688389    16.444182  3.000006e+04 -0.044755 -5.314287  \n",
       "\n",
       "[3796142 rows x 121 columns]"
      ]
     },
     "execution_count": 3,
     "metadata": {},
     "output_type": "execute_result"
    }
   ],
   "source": [
    "from AlphaNet.Data import DataLoader\n",
    "trainloader = DataLoader()\n",
    "trainloader.load_data_from_file(alpha_name = Alpha_Name,end_date = start_date)"
   ]
  },
  {
   "cell_type": "code",
   "execution_count": 4,
   "id": "615c8dec",
   "metadata": {
    "ExecuteTime": {
     "end_time": "2022-01-10T11:49:23.196570Z",
     "start_time": "2022-01-10T11:49:17.698622Z"
    },
    "scrolled": true
   },
   "outputs": [
    {
     "data": {
      "text/plain": [
       "torch.Size([3796142, 3, 40])"
      ]
     },
     "execution_count": 4,
     "metadata": {},
     "output_type": "execute_result"
    }
   ],
   "source": [
    "train_loader = trainloader.to_torch_DataLoader(sequence = 3,shuffle=True)\n",
    "trainloader.shape"
   ]
  },
  {
   "cell_type": "code",
   "execution_count": 5,
   "id": "4ef48be2",
   "metadata": {
    "ExecuteTime": {
     "end_time": "2022-01-10T11:49:54.519215Z",
     "start_time": "2022-01-10T11:49:48.929050Z"
    }
   },
   "outputs": [
    {
     "name": "stdout",
     "output_type": "stream",
     "text": [
      "AlphaNet_LSTM_V1(\n",
      "  (batch): BatchNorm1d(40, eps=1e-05, momentum=0.1, affine=True, track_running_stats=True)\n",
      "  (lstm): LSTM(40, 64, num_layers=5, batch_first=True, bidirectional=True)\n",
      "  (batch2): BatchNorm1d(128, eps=1e-05, momentum=0.1, affine=True, track_running_stats=True)\n",
      "  (dropout): Dropout(p=0.3, inplace=False)\n",
      "  (out): Linear(in_features=128, out_features=1, bias=True)\n",
      ")\n"
     ]
    }
   ],
   "source": [
    "from AlphaNet.Models import AlphaNet_LSTM_V1\n",
    "from AlphaNet import Model_Loader\n",
    "import torch.optim as optim\n",
    "LR = 0.001\n",
    "epoch_num = 10\n",
    "device = torch.device('cuda:0' if torch.cuda.is_available() else 'cpu')\n",
    "loss_function = nn.MSELoss()\n",
    "model = AlphaNet_LSTM_V1(40, 64)\n",
    "optimizer = optim.Adam(model.parameters(), lr=LR)\n",
    "model_loader = Model_Loader(model = model,device=device)\n",
    "print(model_loader.model)"
   ]
  },
  {
   "cell_type": "code",
   "execution_count": 6,
   "id": "4f18a498",
   "metadata": {
    "ExecuteTime": {
     "end_time": "2022-01-10T11:57:59.419182Z",
     "start_time": "2022-01-10T11:50:02.626901Z"
    }
   },
   "outputs": [
    {
     "name": "stderr",
     "output_type": "stream",
     "text": [
      "\r",
      "  0%|          | 0/10 [00:00<?, ?it/s]"
     ]
    },
    {
     "name": "stdout",
     "output_type": "stream",
     "text": [
      "Learning Rate is : 0.001\n"
     ]
    },
    {
     "name": "stderr",
     "output_type": "stream",
     "text": [
      "\r",
      " 10%|█         | 1/10 [00:44<06:38, 44.32s/it]"
     ]
    },
    {
     "name": "stdout",
     "output_type": "stream",
     "text": [
      "Epoch:  1  loss:  3.874028560466887\n"
     ]
    },
    {
     "name": "stderr",
     "output_type": "stream",
     "text": [
      "\r",
      " 20%|██        | 2/10 [01:27<05:49, 43.65s/it]"
     ]
    },
    {
     "name": "stdout",
     "output_type": "stream",
     "text": [
      "Epoch:  2  loss:  2.9144621657628407\n"
     ]
    },
    {
     "name": "stderr",
     "output_type": "stream",
     "text": [
      "\r",
      " 30%|███       | 3/10 [02:12<05:08, 44.07s/it]"
     ]
    },
    {
     "name": "stdout",
     "output_type": "stream",
     "text": [
      "Epoch:  3  loss:  2.7261795394297477\n"
     ]
    },
    {
     "name": "stderr",
     "output_type": "stream",
     "text": [
      "\r",
      " 40%|████      | 4/10 [02:55<04:21, 43.63s/it]"
     ]
    },
    {
     "name": "stdout",
     "output_type": "stream",
     "text": [
      "Epoch:  4  loss:  2.5952897686440397\n"
     ]
    },
    {
     "name": "stderr",
     "output_type": "stream",
     "text": [
      "\r",
      " 50%|█████     | 5/10 [03:37<03:35, 43.05s/it]"
     ]
    },
    {
     "name": "stdout",
     "output_type": "stream",
     "text": [
      "Epoch:  5  loss:  2.500565280908006\n"
     ]
    },
    {
     "name": "stderr",
     "output_type": "stream",
     "text": [
      "\r",
      " 60%|██████    | 6/10 [04:25<02:59, 44.98s/it]"
     ]
    },
    {
     "name": "stdout",
     "output_type": "stream",
     "text": [
      "Epoch:  6  loss:  2.426739438775419\n"
     ]
    },
    {
     "name": "stderr",
     "output_type": "stream",
     "text": [
      "\r",
      " 70%|███████   | 7/10 [05:11<02:15, 45.19s/it]"
     ]
    },
    {
     "name": "stdout",
     "output_type": "stream",
     "text": [
      "Epoch:  7  loss:  2.3664433531569786\n"
     ]
    },
    {
     "name": "stderr",
     "output_type": "stream",
     "text": [
      "\r",
      " 80%|████████  | 8/10 [06:07<01:37, 48.60s/it]"
     ]
    },
    {
     "name": "stdout",
     "output_type": "stream",
     "text": [
      "Epoch:  8  loss:  2.316070926133896\n"
     ]
    },
    {
     "name": "stderr",
     "output_type": "stream",
     "text": [
      "\r",
      " 90%|█████████ | 9/10 [06:56<00:48, 48.86s/it]"
     ]
    },
    {
     "name": "stdout",
     "output_type": "stream",
     "text": [
      "Epoch:  9  loss:  2.2729446713186046\n"
     ]
    },
    {
     "name": "stderr",
     "output_type": "stream",
     "text": [
      "100%|██████████| 10/10 [07:56<00:00, 47.65s/it]"
     ]
    },
    {
     "name": "stdout",
     "output_type": "stream",
     "text": [
      "Epoch:  10  loss:  2.2357231055175455\n"
     ]
    },
    {
     "name": "stderr",
     "output_type": "stream",
     "text": [
      "\n"
     ]
    },
    {
     "data": {
      "image/png": "[encoded data removed]",
      "text/plain": [
       "<Figure size 432x288 with 1 Axes>"
      ]
     },
     "metadata": {
      "needs_background": "light"
     },
     "output_type": "display_data"
    }
   ],
   "source": [
    "model = model_loader.fit_transform(train_loader,optimizer,loss_function,epoch_num,save_path = model_path)"
   ]
  },
  {
   "cell_type": "code",
   "execution_count": null,
   "id": "98a0fd80",
   "metadata": {
    "ExecuteTime": {
     "start_time": "2022-01-10T11:58:55.767Z"
    }
   },
   "outputs": [
    {
     "name": "stderr",
     "output_type": "stream",
     "text": [
      "\r",
      "  0%|          | 0/10 [00:00<?, ?it/s]"
     ]
    },
    {
     "name": "stdout",
     "output_type": "stream",
     "text": [
      "Learning Rate is : 0.001\n"
     ]
    },
    {
     "name": "stderr",
     "output_type": "stream",
     "text": [
      "\r",
      " 10%|█         | 1/10 [00:47<07:10, 47.85s/it]"
     ]
    },
    {
     "name": "stdout",
     "output_type": "stream",
     "text": [
      "Epoch:  1  loss:  2.2013892532246286\n"
     ]
    },
    {
     "name": "stderr",
     "output_type": "stream",
     "text": [
      "\r",
      " 20%|██        | 2/10 [01:41<06:50, 51.34s/it]"
     ]
    },
    {
     "name": "stdout",
     "output_type": "stream",
     "text": [
      "Epoch:  2  loss:  2.1707950418318003\n"
     ]
    },
    {
     "name": "stderr",
     "output_type": "stream",
     "text": [
      "\r",
      " 30%|███       | 3/10 [02:30<05:51, 50.15s/it]"
     ]
    },
    {
     "name": "stdout",
     "output_type": "stream",
     "text": [
      "Epoch:  3  loss:  2.1430859226527406\n"
     ]
    },
    {
     "name": "stderr",
     "output_type": "stream",
     "text": [
      "\r",
      " 40%|████      | 4/10 [03:16<04:50, 48.49s/it]"
     ]
    },
    {
     "name": "stdout",
     "output_type": "stream",
     "text": [
      "Epoch:  4  loss:  2.1178447445209567\n"
     ]
    }
   ],
   "source": [
    "optimizer = optim.Adam(model.parameters(), lr=LR)\n",
    "model = model_loader.transform(optimizer = optimizer, epoch_num = 10, method=\"best\")"
   ]
  },
  {
   "cell_type": "code",
   "execution_count": 7,
   "id": "3f4b0e96",
   "metadata": {
    "ExecuteTime": {
     "end_time": "2022-01-10T11:57:59.525208Z",
     "start_time": "2022-01-10T11:57:59.421452Z"
    }
   },
   "outputs": [
    {
     "data": {
      "text/plain": [
       "[<matplotlib.lines.Line2D at 0x7fd9bb6150d0>]"
      ]
     },
     "execution_count": 7,
     "metadata": {},
     "output_type": "execute_result"
    },
    {
     "data": {
      "image/png": "[encoded data removed]",
      "text/plain": [
       "<Figure size 432x288 with 1 Axes>"
      ]
     },
     "metadata": {
      "needs_background": "light"
     },
     "output_type": "display_data"
    }
   ],
   "source": [
    "plt.plot(model_loader.loss_list)"
   ]
  },
  {
   "cell_type": "code",
   "execution_count": 8,
   "id": "0f7b57a8",
   "metadata": {
    "ExecuteTime": {
     "end_time": "2022-01-10T11:58:19.663159Z",
     "start_time": "2022-01-10T11:58:09.125337Z"
    },
    "scrolled": true
   },
   "outputs": [
    {
     "name": "stderr",
     "output_type": "stream",
     "text": [
      "100%|██████████| 98/98 [00:01<00:00, 53.93it/s]\n"
     ]
    }
   ],
   "source": [
    "testloader = DataLoader()\n",
    "testloader.load_data_from_file(alpha_name = Alpha_Name,start_date = start_date,end_date = end_date)\n",
    "test_loader = testloader.to_torch_DataLoader(sequence = 3,shuffle=False)\n",
    "pred = model_loader.pred(test_loader)"
   ]
  },
  {
   "cell_type": "code",
   "execution_count": 9,
   "id": "a5d5d5a0",
   "metadata": {
    "ExecuteTime": {
     "end_time": "2022-01-10T11:58:21.342317Z",
     "start_time": "2022-01-10T11:58:21.283793Z"
    }
   },
   "outputs": [
    {
     "data": {
      "text/html": [
       "<div>\n",
       "<style scoped>\n",
       "    .dataframe tbody tr th:only-of-type {\n",
       "        vertical-align: middle;\n",
       "    }\n",
       "\n",
       "    .dataframe tbody tr th {\n",
       "        vertical-align: top;\n",
       "    }\n",
       "\n",
       "    .dataframe thead th {\n",
       "        text-align: right;\n",
       "    }\n",
       "</style>\n",
       "<table border=\"1\" class=\"dataframe\">\n",
       "  <thead>\n",
       "    <tr style=\"text-align: right;\">\n",
       "      <th></th>\n",
       "      <th>timestamp</th>\n",
       "      <th>symbol</th>\n",
       "      <th>target</th>\n",
       "      <th>5_Input_20220110_10d_ret_StandardScale_MinMax_10</th>\n",
       "    </tr>\n",
       "  </thead>\n",
       "  <tbody>\n",
       "    <tr>\n",
       "      <th>0</th>\n",
       "      <td>2020-01-02 09:30:00</td>\n",
       "      <td>000001</td>\n",
       "      <td>-5.551395</td>\n",
       "      <td>-3.861034</td>\n",
       "    </tr>\n",
       "    <tr>\n",
       "      <th>1</th>\n",
       "      <td>2020-01-02 09:30:00</td>\n",
       "      <td>000002</td>\n",
       "      <td>-6.203258</td>\n",
       "      <td>-6.676930</td>\n",
       "    </tr>\n",
       "    <tr>\n",
       "      <th>2</th>\n",
       "      <td>2020-01-02 09:30:00</td>\n",
       "      <td>000004</td>\n",
       "      <td>-5.390784</td>\n",
       "      <td>-5.391490</td>\n",
       "    </tr>\n",
       "    <tr>\n",
       "      <th>3</th>\n",
       "      <td>2020-01-02 09:30:00</td>\n",
       "      <td>000005</td>\n",
       "      <td>-5.142255</td>\n",
       "      <td>-4.757258</td>\n",
       "    </tr>\n",
       "    <tr>\n",
       "      <th>4</th>\n",
       "      <td>2020-01-02 09:30:00</td>\n",
       "      <td>000006</td>\n",
       "      <td>-5.327572</td>\n",
       "      <td>-4.430594</td>\n",
       "    </tr>\n",
       "    <tr>\n",
       "      <th>...</th>\n",
       "      <td>...</td>\n",
       "      <td>...</td>\n",
       "      <td>...</td>\n",
       "      <td>...</td>\n",
       "    </tr>\n",
       "    <tr>\n",
       "      <th>369026</th>\n",
       "      <td>2020-06-01 09:30:00</td>\n",
       "      <td>688388</td>\n",
       "      <td>-4.510971</td>\n",
       "      <td>-5.906500</td>\n",
       "    </tr>\n",
       "    <tr>\n",
       "      <th>369027</th>\n",
       "      <td>2020-06-01 09:30:00</td>\n",
       "      <td>688389</td>\n",
       "      <td>-3.960987</td>\n",
       "      <td>-6.994064</td>\n",
       "    </tr>\n",
       "    <tr>\n",
       "      <th>369028</th>\n",
       "      <td>2020-06-01 09:30:00</td>\n",
       "      <td>688396</td>\n",
       "      <td>-4.365947</td>\n",
       "      <td>-5.560849</td>\n",
       "    </tr>\n",
       "    <tr>\n",
       "      <th>369029</th>\n",
       "      <td>2020-06-01 09:30:00</td>\n",
       "      <td>688398</td>\n",
       "      <td>-4.135321</td>\n",
       "      <td>-6.718587</td>\n",
       "    </tr>\n",
       "    <tr>\n",
       "      <th>369030</th>\n",
       "      <td>2020-06-01 09:30:00</td>\n",
       "      <td>688399</td>\n",
       "      <td>-3.240742</td>\n",
       "      <td>-5.851600</td>\n",
       "    </tr>\n",
       "  </tbody>\n",
       "</table>\n",
       "<p>369031 rows × 4 columns</p>\n",
       "</div>"
      ],
      "text/plain": [
       "                 timestamp  symbol    target  \\\n",
       "0      2020-01-02 09:30:00  000001 -5.551395   \n",
       "1      2020-01-02 09:30:00  000002 -6.203258   \n",
       "2      2020-01-02 09:30:00  000004 -5.390784   \n",
       "3      2020-01-02 09:30:00  000005 -5.142255   \n",
       "4      2020-01-02 09:30:00  000006 -5.327572   \n",
       "...                    ...     ...       ...   \n",
       "369026 2020-06-01 09:30:00  688388 -4.510971   \n",
       "369027 2020-06-01 09:30:00  688389 -3.960987   \n",
       "369028 2020-06-01 09:30:00  688396 -4.365947   \n",
       "369029 2020-06-01 09:30:00  688398 -4.135321   \n",
       "369030 2020-06-01 09:30:00  688399 -3.240742   \n",
       "\n",
       "        5_Input_20220110_10d_ret_StandardScale_MinMax_10  \n",
       "0                                              -3.861034  \n",
       "1                                              -6.676930  \n",
       "2                                              -5.391490  \n",
       "3                                              -4.757258  \n",
       "4                                              -4.430594  \n",
       "...                                                  ...  \n",
       "369026                                         -5.906500  \n",
       "369027                                         -6.994064  \n",
       "369028                                         -5.560849  \n",
       "369029                                         -6.718587  \n",
       "369030                                         -5.851600  \n",
       "\n",
       "[369031 rows x 4 columns]"
      ]
     },
     "execution_count": 9,
     "metadata": {},
     "output_type": "execute_result"
    }
   ],
   "source": [
    "final = pd.concat([testloader.target.reset_index(),pred],axis=1)\n",
    "final.rename(columns={0:Alpha_Name,'ticker': 'symbol'},inplace=True)\n",
    "final"
   ]
  },
  {
   "cell_type": "code",
   "execution_count": 10,
   "id": "c9637d68",
   "metadata": {
    "ExecuteTime": {
     "end_time": "2022-01-10T11:58:28.257337Z",
     "start_time": "2022-01-10T11:58:28.076237Z"
    }
   },
   "outputs": [],
   "source": [
    "final.to_parquet(model_path + \"result.par\")"
   ]
  }
 ],
 "metadata": {
  "kernelspec": {
   "display_name": "Python 3 (ipykernel)",
   "language": "python",
   "name": "python3"
  },
  "language_info": {
   "codemirror_mode": {
    "name": "ipython",
    "version": 3
   },
   "file_extension": ".py",
   "mimetype": "text/x-python",
   "name": "python",
   "nbconvert_exporter": "python",
   "pygments_lexer": "ipython3",
   "version": "3.7.9"
  }
 },
 "nbformat": 4,
 "nbformat_minor": 5
}
