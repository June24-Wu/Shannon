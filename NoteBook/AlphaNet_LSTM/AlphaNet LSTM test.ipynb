{
 "cells": [
  {
   "cell_type": "code",
   "execution_count": 1,
   "id": "47f5acde",
   "metadata": {
    "ExecuteTime": {
     "end_time": "2022-01-13T07:46:39.515281Z",
     "start_time": "2022-01-13T07:46:39.501861Z"
    }
   },
   "outputs": [],
   "source": [
    "Alpha_Name = \"Original_Input_Moving_10_Shift_5\"\n",
    "start_date = \"2020-01-01\"\n",
    "end_date = \"2020-06-01\""
   ]
  },
  {
   "cell_type": "code",
   "execution_count": 5,
   "id": "483bd59f",
   "metadata": {
    "ExecuteTime": {
     "end_time": "2022-01-13T07:47:47.321118Z",
     "start_time": "2022-01-13T07:47:47.307928Z"
    }
   },
   "outputs": [],
   "source": [
    "import time\n",
    "import os\n",
    "from Research.backtest.bt import BTDaily\n",
    "import matplotlib.pyplot as plt\n",
    "from Research.feature.ft import FeatureAnalysis\n",
    "import Research.utils.namespace as namespace\n",
    "import Research.utils.normalization as norm\n",
    "from Platform.database.mysql import MysqlAPI\n",
    "from Platform.utils.persistence import convert_to_standard_daily_feature_csv, convert_to_standard_daily_feature_par\n",
    "from Platform.config.mysql_info import FACTOR_LIB_MYSQL_TIO\n",
    "import DataAPI\n",
    "from os import walk\n",
    "import pandas as pd\n",
    "import numpy as np\n",
    "import torch\n",
    "import torch.nn as nn\n",
    "from progressbar import ProgressBar\n",
    "from tqdm import tqdm\n",
    "import multiprocessing as mp\n",
    "import sys\n",
    "sys.path.append(\"/home/wuwenjun/jupyter_code/Shannon/AlphaNet/packages/\")\n",
    "model_path = \"/home/wuwenjun/Alpha_Factor/\" + Alpha_Name + \"/\" + \"%s_%s\" %(start_date,end_date) + \"/\"\n",
    "if os.path.exists(model_path) == False:\n",
    "    os.makedirs(model_path)\n",
    "    print(model_path)\n",
    "data_path = \"/home/ShareFolder/feature_platform/ti0/wuwenjun/#Data_lib/\""
   ]
  },
  {
   "cell_type": "code",
   "execution_count": 6,
   "id": "b692dba4",
   "metadata": {
    "ExecuteTime": {
     "end_time": "2022-01-13T07:49:49.435000Z",
     "start_time": "2022-01-13T07:47:47.571536Z"
    }
   },
   "outputs": [
    {
     "name": "stderr",
     "output_type": "stream",
     "text": [
      "100%|██████████| 1219/1219 [01:40<00:00, 12.16it/s]\n"
     ]
    },
    {
     "data": {
      "text/html": [
       "<div>\n",
       "<style scoped>\n",
       "    .dataframe tbody tr th:only-of-type {\n",
       "        vertical-align: middle;\n",
       "    }\n",
       "\n",
       "    .dataframe tbody tr th {\n",
       "        vertical-align: top;\n",
       "    }\n",
       "\n",
       "    .dataframe thead th {\n",
       "        text-align: right;\n",
       "    }\n",
       "</style>\n",
       "<table border=\"1\" class=\"dataframe\">\n",
       "  <thead>\n",
       "    <tr style=\"text-align: right;\">\n",
       "      <th></th>\n",
       "      <th></th>\n",
       "      <th>0</th>\n",
       "      <th>1</th>\n",
       "      <th>2</th>\n",
       "      <th>3</th>\n",
       "      <th>4</th>\n",
       "      <th>5</th>\n",
       "      <th>6</th>\n",
       "      <th>7</th>\n",
       "      <th>8</th>\n",
       "      <th>9</th>\n",
       "      <th>...</th>\n",
       "      <th>531</th>\n",
       "      <th>532</th>\n",
       "      <th>533</th>\n",
       "      <th>534</th>\n",
       "      <th>535</th>\n",
       "      <th>536</th>\n",
       "      <th>537</th>\n",
       "      <th>538</th>\n",
       "      <th>539</th>\n",
       "      <th>target</th>\n",
       "    </tr>\n",
       "    <tr>\n",
       "      <th>timestamp</th>\n",
       "      <th>ticker</th>\n",
       "      <th></th>\n",
       "      <th></th>\n",
       "      <th></th>\n",
       "      <th></th>\n",
       "      <th></th>\n",
       "      <th></th>\n",
       "      <th></th>\n",
       "      <th></th>\n",
       "      <th></th>\n",
       "      <th></th>\n",
       "      <th></th>\n",
       "      <th></th>\n",
       "      <th></th>\n",
       "      <th></th>\n",
       "      <th></th>\n",
       "      <th></th>\n",
       "      <th></th>\n",
       "      <th></th>\n",
       "      <th></th>\n",
       "      <th></th>\n",
       "      <th></th>\n",
       "    </tr>\n",
       "  </thead>\n",
       "  <tbody>\n",
       "    <tr>\n",
       "      <th rowspan=\"5\" valign=\"top\">2015-02-16 09:30:00</th>\n",
       "      <th>000001</th>\n",
       "      <td>1047.509016</td>\n",
       "      <td>924.464829</td>\n",
       "      <td>926.891342</td>\n",
       "      <td>957.587687</td>\n",
       "      <td>1.370681e+07</td>\n",
       "      <td>-19.882971</td>\n",
       "      <td>13.934422</td>\n",
       "      <td>27.628015</td>\n",
       "      <td>887.325873</td>\n",
       "      <td>995.996587</td>\n",
       "      <td>...</td>\n",
       "      <td>978.643091</td>\n",
       "      <td>992.024364</td>\n",
       "      <td>965.825273</td>\n",
       "      <td>977.906545</td>\n",
       "      <td>980.427946</td>\n",
       "      <td>8.618504e+05</td>\n",
       "      <td>0.284385</td>\n",
       "      <td>0.876160</td>\n",
       "      <td>1.737222</td>\n",
       "      <td>-0.940003</td>\n",
       "    </tr>\n",
       "    <tr>\n",
       "      <th>000002</th>\n",
       "      <td>5734.296871</td>\n",
       "      <td>4441.200376</td>\n",
       "      <td>4471.782349</td>\n",
       "      <td>4870.817595</td>\n",
       "      <td>6.234416e+07</td>\n",
       "      <td>-45.842258</td>\n",
       "      <td>64.459181</td>\n",
       "      <td>77.675326</td>\n",
       "      <td>5319.398731</td>\n",
       "      <td>6091.649138</td>\n",
       "      <td>...</td>\n",
       "      <td>1542.343273</td>\n",
       "      <td>1573.236000</td>\n",
       "      <td>1507.843455</td>\n",
       "      <td>1542.165091</td>\n",
       "      <td>1543.746093</td>\n",
       "      <td>1.659369e+06</td>\n",
       "      <td>0.237585</td>\n",
       "      <td>1.709360</td>\n",
       "      <td>2.058258</td>\n",
       "      <td>-1.308457</td>\n",
       "    </tr>\n",
       "    <tr>\n",
       "      <th>000004</th>\n",
       "      <td>1.642506</td>\n",
       "      <td>1.901233</td>\n",
       "      <td>0.990144</td>\n",
       "      <td>1.578639</td>\n",
       "      <td>-1.669329e+03</td>\n",
       "      <td>-2.609840</td>\n",
       "      <td>-0.199015</td>\n",
       "      <td>-0.269409</td>\n",
       "      <td>1.274784</td>\n",
       "      <td>1.700233</td>\n",
       "      <td>...</td>\n",
       "      <td>70.438364</td>\n",
       "      <td>71.750727</td>\n",
       "      <td>69.915818</td>\n",
       "      <td>70.910545</td>\n",
       "      <td>70.827359</td>\n",
       "      <td>1.221067e+04</td>\n",
       "      <td>0.477255</td>\n",
       "      <td>1.455813</td>\n",
       "      <td>1.970716</td>\n",
       "      <td>-0.263199</td>\n",
       "    </tr>\n",
       "    <tr>\n",
       "      <th>000005</th>\n",
       "      <td>0.000000</td>\n",
       "      <td>0.000000</td>\n",
       "      <td>0.000000</td>\n",
       "      <td>0.000000</td>\n",
       "      <td>0.000000e+00</td>\n",
       "      <td>0.000000</td>\n",
       "      <td>0.000000</td>\n",
       "      <td>0.000000</td>\n",
       "      <td>0.000000</td>\n",
       "      <td>0.000000</td>\n",
       "      <td>...</td>\n",
       "      <td>38.000000</td>\n",
       "      <td>38.000000</td>\n",
       "      <td>38.000000</td>\n",
       "      <td>38.000000</td>\n",
       "      <td>37.997172</td>\n",
       "      <td>0.000000e+00</td>\n",
       "      <td>0.000000</td>\n",
       "      <td>0.000000</td>\n",
       "      <td>0.000000</td>\n",
       "      <td>-0.600624</td>\n",
       "    </tr>\n",
       "    <tr>\n",
       "      <th>000006</th>\n",
       "      <td>72.269658</td>\n",
       "      <td>56.316516</td>\n",
       "      <td>54.038229</td>\n",
       "      <td>62.654442</td>\n",
       "      <td>1.920453e+06</td>\n",
       "      <td>-4.720388</td>\n",
       "      <td>14.343406</td>\n",
       "      <td>23.635329</td>\n",
       "      <td>70.261231</td>\n",
       "      <td>67.609691</td>\n",
       "      <td>...</td>\n",
       "      <td>200.070182</td>\n",
       "      <td>202.711818</td>\n",
       "      <td>197.666727</td>\n",
       "      <td>200.097636</td>\n",
       "      <td>200.310148</td>\n",
       "      <td>1.295647e+05</td>\n",
       "      <td>0.274916</td>\n",
       "      <td>0.967687</td>\n",
       "      <td>1.640955</td>\n",
       "      <td>-0.215836</td>\n",
       "    </tr>\n",
       "    <tr>\n",
       "      <th>...</th>\n",
       "      <th>...</th>\n",
       "      <td>...</td>\n",
       "      <td>...</td>\n",
       "      <td>...</td>\n",
       "      <td>...</td>\n",
       "      <td>...</td>\n",
       "      <td>...</td>\n",
       "      <td>...</td>\n",
       "      <td>...</td>\n",
       "      <td>...</td>\n",
       "      <td>...</td>\n",
       "      <td>...</td>\n",
       "      <td>...</td>\n",
       "      <td>...</td>\n",
       "      <td>...</td>\n",
       "      <td>...</td>\n",
       "      <td>...</td>\n",
       "      <td>...</td>\n",
       "      <td>...</td>\n",
       "      <td>...</td>\n",
       "      <td>...</td>\n",
       "      <td>...</td>\n",
       "    </tr>\n",
       "    <tr>\n",
       "      <th rowspan=\"5\" valign=\"top\">2019-12-31 09:30:00</th>\n",
       "      <th>688168</th>\n",
       "      <td>8.466044</td>\n",
       "      <td>9.039311</td>\n",
       "      <td>8.003211</td>\n",
       "      <td>8.572603</td>\n",
       "      <td>1.447176e+02</td>\n",
       "      <td>-2.365073</td>\n",
       "      <td>0.124715</td>\n",
       "      <td>0.124715</td>\n",
       "      <td>9.009933</td>\n",
       "      <td>10.005129</td>\n",
       "      <td>...</td>\n",
       "      <td>102.764000</td>\n",
       "      <td>105.264545</td>\n",
       "      <td>100.554909</td>\n",
       "      <td>102.939818</td>\n",
       "      <td>102.976840</td>\n",
       "      <td>9.346096e+03</td>\n",
       "      <td>-0.093751</td>\n",
       "      <td>8.053067</td>\n",
       "      <td>8.053067</td>\n",
       "      <td>0.310371</td>\n",
       "    </tr>\n",
       "    <tr>\n",
       "      <th>688188</th>\n",
       "      <td>10.373478</td>\n",
       "      <td>12.624011</td>\n",
       "      <td>9.980378</td>\n",
       "      <td>10.646007</td>\n",
       "      <td>-4.433030e+03</td>\n",
       "      <td>-3.270370</td>\n",
       "      <td>-1.935004</td>\n",
       "      <td>-1.935004</td>\n",
       "      <td>11.475873</td>\n",
       "      <td>16.679551</td>\n",
       "      <td>...</td>\n",
       "      <td>153.863818</td>\n",
       "      <td>157.963091</td>\n",
       "      <td>151.208364</td>\n",
       "      <td>155.152545</td>\n",
       "      <td>154.763789</td>\n",
       "      <td>1.221270e+04</td>\n",
       "      <td>0.847665</td>\n",
       "      <td>5.330869</td>\n",
       "      <td>5.330869</td>\n",
       "      <td>-0.571504</td>\n",
       "    </tr>\n",
       "    <tr>\n",
       "      <th>688321</th>\n",
       "      <td>6.645560</td>\n",
       "      <td>3.518322</td>\n",
       "      <td>3.704553</td>\n",
       "      <td>5.245107</td>\n",
       "      <td>2.771588e+04</td>\n",
       "      <td>-2.202818</td>\n",
       "      <td>6.830212</td>\n",
       "      <td>6.830212</td>\n",
       "      <td>5.048278</td>\n",
       "      <td>5.640524</td>\n",
       "      <td>...</td>\n",
       "      <td>55.512909</td>\n",
       "      <td>56.669636</td>\n",
       "      <td>54.513091</td>\n",
       "      <td>55.386182</td>\n",
       "      <td>55.560998</td>\n",
       "      <td>1.933280e+04</td>\n",
       "      <td>-0.142278</td>\n",
       "      <td>4.764325</td>\n",
       "      <td>4.764325</td>\n",
       "      <td>0.750219</td>\n",
       "    </tr>\n",
       "    <tr>\n",
       "      <th>688333</th>\n",
       "      <td>8.330189</td>\n",
       "      <td>7.817017</td>\n",
       "      <td>7.413417</td>\n",
       "      <td>7.856886</td>\n",
       "      <td>6.054595e+03</td>\n",
       "      <td>-3.423879</td>\n",
       "      <td>3.371258</td>\n",
       "      <td>3.371258</td>\n",
       "      <td>7.287800</td>\n",
       "      <td>6.993156</td>\n",
       "      <td>...</td>\n",
       "      <td>55.839455</td>\n",
       "      <td>56.972727</td>\n",
       "      <td>54.799091</td>\n",
       "      <td>55.743636</td>\n",
       "      <td>56.008529</td>\n",
       "      <td>1.279859e+04</td>\n",
       "      <td>-0.211913</td>\n",
       "      <td>7.126389</td>\n",
       "      <td>7.126389</td>\n",
       "      <td>0.034462</td>\n",
       "    </tr>\n",
       "    <tr>\n",
       "      <th>688388</th>\n",
       "      <td>0.480808</td>\n",
       "      <td>0.625063</td>\n",
       "      <td>0.386331</td>\n",
       "      <td>0.510829</td>\n",
       "      <td>-1.993854e+03</td>\n",
       "      <td>-0.688565</td>\n",
       "      <td>-0.377332</td>\n",
       "      <td>-0.377332</td>\n",
       "      <td>0.820721</td>\n",
       "      <td>0.916929</td>\n",
       "      <td>...</td>\n",
       "      <td>51.523455</td>\n",
       "      <td>54.036727</td>\n",
       "      <td>50.757273</td>\n",
       "      <td>52.684364</td>\n",
       "      <td>52.614995</td>\n",
       "      <td>5.130674e+04</td>\n",
       "      <td>2.596262</td>\n",
       "      <td>9.710049</td>\n",
       "      <td>9.710049</td>\n",
       "      <td>0.101511</td>\n",
       "    </tr>\n",
       "  </tbody>\n",
       "</table>\n",
       "<p>3671787 rows × 541 columns</p>\n",
       "</div>"
      ],
      "text/plain": [
       "                                      0            1            2  \\\n",
       "timestamp           ticker                                          \n",
       "2015-02-16 09:30:00 000001  1047.509016   924.464829   926.891342   \n",
       "                    000002  5734.296871  4441.200376  4471.782349   \n",
       "                    000004     1.642506     1.901233     0.990144   \n",
       "                    000005     0.000000     0.000000     0.000000   \n",
       "                    000006    72.269658    56.316516    54.038229   \n",
       "...                                 ...          ...          ...   \n",
       "2019-12-31 09:30:00 688168     8.466044     9.039311     8.003211   \n",
       "                    688188    10.373478    12.624011     9.980378   \n",
       "                    688321     6.645560     3.518322     3.704553   \n",
       "                    688333     8.330189     7.817017     7.413417   \n",
       "                    688388     0.480808     0.625063     0.386331   \n",
       "\n",
       "                                      3             4          5          6  \\\n",
       "timestamp           ticker                                                    \n",
       "2015-02-16 09:30:00 000001   957.587687  1.370681e+07 -19.882971  13.934422   \n",
       "                    000002  4870.817595  6.234416e+07 -45.842258  64.459181   \n",
       "                    000004     1.578639 -1.669329e+03  -2.609840  -0.199015   \n",
       "                    000005     0.000000  0.000000e+00   0.000000   0.000000   \n",
       "                    000006    62.654442  1.920453e+06  -4.720388  14.343406   \n",
       "...                                 ...           ...        ...        ...   \n",
       "2019-12-31 09:30:00 688168     8.572603  1.447176e+02  -2.365073   0.124715   \n",
       "                    688188    10.646007 -4.433030e+03  -3.270370  -1.935004   \n",
       "                    688321     5.245107  2.771588e+04  -2.202818   6.830212   \n",
       "                    688333     7.856886  6.054595e+03  -3.423879   3.371258   \n",
       "                    688388     0.510829 -1.993854e+03  -0.688565  -0.377332   \n",
       "\n",
       "                                    7            8            9  ...  \\\n",
       "timestamp           ticker                                       ...   \n",
       "2015-02-16 09:30:00 000001  27.628015   887.325873   995.996587  ...   \n",
       "                    000002  77.675326  5319.398731  6091.649138  ...   \n",
       "                    000004  -0.269409     1.274784     1.700233  ...   \n",
       "                    000005   0.000000     0.000000     0.000000  ...   \n",
       "                    000006  23.635329    70.261231    67.609691  ...   \n",
       "...                               ...          ...          ...  ...   \n",
       "2019-12-31 09:30:00 688168   0.124715     9.009933    10.005129  ...   \n",
       "                    688188  -1.935004    11.475873    16.679551  ...   \n",
       "                    688321   6.830212     5.048278     5.640524  ...   \n",
       "                    688333   3.371258     7.287800     6.993156  ...   \n",
       "                    688388  -0.377332     0.820721     0.916929  ...   \n",
       "\n",
       "                                    531          532          533  \\\n",
       "timestamp           ticker                                          \n",
       "2015-02-16 09:30:00 000001   978.643091   992.024364   965.825273   \n",
       "                    000002  1542.343273  1573.236000  1507.843455   \n",
       "                    000004    70.438364    71.750727    69.915818   \n",
       "                    000005    38.000000    38.000000    38.000000   \n",
       "                    000006   200.070182   202.711818   197.666727   \n",
       "...                                 ...          ...          ...   \n",
       "2019-12-31 09:30:00 688168   102.764000   105.264545   100.554909   \n",
       "                    688188   153.863818   157.963091   151.208364   \n",
       "                    688321    55.512909    56.669636    54.513091   \n",
       "                    688333    55.839455    56.972727    54.799091   \n",
       "                    688388    51.523455    54.036727    50.757273   \n",
       "\n",
       "                                    534          535           536       537  \\\n",
       "timestamp           ticker                                                     \n",
       "2015-02-16 09:30:00 000001   977.906545   980.427946  8.618504e+05  0.284385   \n",
       "                    000002  1542.165091  1543.746093  1.659369e+06  0.237585   \n",
       "                    000004    70.910545    70.827359  1.221067e+04  0.477255   \n",
       "                    000005    38.000000    37.997172  0.000000e+00  0.000000   \n",
       "                    000006   200.097636   200.310148  1.295647e+05  0.274916   \n",
       "...                                 ...          ...           ...       ...   \n",
       "2019-12-31 09:30:00 688168   102.939818   102.976840  9.346096e+03 -0.093751   \n",
       "                    688188   155.152545   154.763789  1.221270e+04  0.847665   \n",
       "                    688321    55.386182    55.560998  1.933280e+04 -0.142278   \n",
       "                    688333    55.743636    56.008529  1.279859e+04 -0.211913   \n",
       "                    688388    52.684364    52.614995  5.130674e+04  2.596262   \n",
       "\n",
       "                                 538       539    target  \n",
       "timestamp           ticker                                \n",
       "2015-02-16 09:30:00 000001  0.876160  1.737222 -0.940003  \n",
       "                    000002  1.709360  2.058258 -1.308457  \n",
       "                    000004  1.455813  1.970716 -0.263199  \n",
       "                    000005  0.000000  0.000000 -0.600624  \n",
       "                    000006  0.967687  1.640955 -0.215836  \n",
       "...                              ...       ...       ...  \n",
       "2019-12-31 09:30:00 688168  8.053067  8.053067  0.310371  \n",
       "                    688188  5.330869  5.330869 -0.571504  \n",
       "                    688321  4.764325  4.764325  0.750219  \n",
       "                    688333  7.126389  7.126389  0.034462  \n",
       "                    688388  9.710049  9.710049  0.101511  \n",
       "\n",
       "[3671787 rows x 541 columns]"
      ]
     },
     "execution_count": 6,
     "metadata": {},
     "output_type": "execute_result"
    }
   ],
   "source": [
    "from AlphaNet.Data import DataLoader\n",
    "trainloader = DataLoader()\n",
    "trainloader.load_data_from_file(alpha_name = Alpha_Name,end_date = start_date,data_path=data_path)"
   ]
  },
  {
   "cell_type": "code",
   "execution_count": 7,
   "id": "615c8dec",
   "metadata": {
    "ExecuteTime": {
     "end_time": "2022-01-13T07:50:36.281532Z",
     "start_time": "2022-01-13T07:50:08.030445Z"
    },
    "scrolled": true
   },
   "outputs": [
    {
     "data": {
      "text/plain": [
       "torch.Size([3671787, 5, 108])"
      ]
     },
     "execution_count": 7,
     "metadata": {},
     "output_type": "execute_result"
    }
   ],
   "source": [
    "train_loader = trainloader.to_torch_DataLoader(sequence = 5,shuffle=True)\n",
    "trainloader.shape"
   ]
  },
  {
   "cell_type": "code",
   "execution_count": 10,
   "id": "4ef48be2",
   "metadata": {
    "ExecuteTime": {
     "end_time": "2022-01-13T07:53:15.036178Z",
     "start_time": "2022-01-13T07:53:03.826172Z"
    }
   },
   "outputs": [
    {
     "name": "stdout",
     "output_type": "stream",
     "text": [
      "AlphaNet_LSTM_V1(\n",
      "  (batch): BatchNorm1d(108, eps=1e-05, momentum=0.1, affine=True, track_running_stats=True)\n",
      "  (lstm): LSTM(108, 64, num_layers=5, batch_first=True, bidirectional=True)\n",
      "  (batch2): BatchNorm1d(128, eps=1e-05, momentum=0.1, affine=True, track_running_stats=True)\n",
      "  (dropout): Dropout(p=0.3, inplace=False)\n",
      "  (out): Linear(in_features=128, out_features=1, bias=True)\n",
      ")\n"
     ]
    }
   ],
   "source": [
    "LR = 0.001\n",
    "epoch_num = 30\n",
    "device = torch.device('cuda:0' if torch.cuda.is_available() else 'cpu')\n",
    "loss_function = nn.MSELoss()\n",
    "model = AlphaNet_LSTM_V1(108, 64)\n",
    "optimizer = torch.optim.Adam(model.parameters(), lr=LR)\n",
    "model_loader = Model_Loader(model = model,device=device)\n",
    "print(model_loader.model)"
   ]
  },
  {
   "cell_type": "code",
   "execution_count": 11,
   "id": "4f18a498",
   "metadata": {
    "ExecuteTime": {
     "end_time": "2022-01-13T08:08:02.714708Z",
     "start_time": "2022-01-13T07:53:19.443650Z"
    }
   },
   "outputs": [
    {
     "name": "stderr",
     "output_type": "stream",
     "text": [
      "\r",
      "  0%|          | 0/10 [00:00<?, ?it/s]"
     ]
    },
    {
     "name": "stdout",
     "output_type": "stream",
     "text": [
      "Learning Rate is : 0.001\n"
     ]
    },
    {
     "name": "stderr",
     "output_type": "stream",
     "text": [
      "\r",
      " 10%|█         | 1/10 [01:07<10:05, 67.23s/it]"
     ]
    },
    {
     "name": "stdout",
     "output_type": "stream",
     "text": [
      "Epoch:  1  loss:  0.7124789460180275\n"
     ]
    },
    {
     "name": "stderr",
     "output_type": "stream",
     "text": [
      "\r",
      " 20%|██        | 2/10 [02:27<09:59, 74.98s/it]"
     ]
    },
    {
     "name": "stdout",
     "output_type": "stream",
     "text": [
      "Epoch:  2  loss:  0.6995522106845238\n"
     ]
    },
    {
     "name": "stderr",
     "output_type": "stream",
     "text": [
      "\r",
      " 30%|███       | 3/10 [04:22<10:52, 93.23s/it]"
     ]
    },
    {
     "name": "stdout",
     "output_type": "stream",
     "text": [
      "Epoch:  3  loss:  0.690537625550602\n"
     ]
    },
    {
     "name": "stderr",
     "output_type": "stream",
     "text": [
      "\r",
      " 40%|████      | 4/10 [05:51<09:09, 91.63s/it]"
     ]
    },
    {
     "name": "stdout",
     "output_type": "stream",
     "text": [
      "Epoch:  4  loss:  0.6813973113479442\n"
     ]
    },
    {
     "name": "stderr",
     "output_type": "stream",
     "text": [
      "\r",
      " 50%|█████     | 5/10 [07:34<07:58, 95.63s/it]"
     ]
    },
    {
     "name": "stdout",
     "output_type": "stream",
     "text": [
      "Epoch:  5  loss:  0.6716152832703207\n"
     ]
    },
    {
     "name": "stderr",
     "output_type": "stream",
     "text": [
      "\r",
      " 60%|██████    | 6/10 [09:36<06:58, 104.74s/it]"
     ]
    },
    {
     "name": "stdout",
     "output_type": "stream",
     "text": [
      "Epoch:  6  loss:  0.6620788183833729\n"
     ]
    },
    {
     "name": "stderr",
     "output_type": "stream",
     "text": [
      "\r",
      " 70%|███████   | 7/10 [11:04<04:57, 99.16s/it] "
     ]
    },
    {
     "name": "stdout",
     "output_type": "stream",
     "text": [
      "Epoch:  7  loss:  0.6533240493831085\n"
     ]
    },
    {
     "name": "stderr",
     "output_type": "stream",
     "text": [
      "\r",
      " 80%|████████  | 8/10 [12:11<02:57, 88.85s/it]"
     ]
    },
    {
     "name": "stdout",
     "output_type": "stream",
     "text": [
      "Epoch:  8  loss:  0.6434322313903551\n"
     ]
    },
    {
     "name": "stderr",
     "output_type": "stream",
     "text": [
      "\r",
      " 90%|█████████ | 9/10 [13:35<01:27, 87.28s/it]"
     ]
    },
    {
     "name": "stdout",
     "output_type": "stream",
     "text": [
      "Epoch:  9  loss:  0.6347965086607017\n"
     ]
    },
    {
     "name": "stderr",
     "output_type": "stream",
     "text": [
      "100%|██████████| 10/10 [14:42<00:00, 88.30s/it]"
     ]
    },
    {
     "name": "stdout",
     "output_type": "stream",
     "text": [
      "Epoch:  10  loss:  0.6261873428424437\n"
     ]
    },
    {
     "name": "stderr",
     "output_type": "stream",
     "text": [
      "\n"
     ]
    },
    {
     "data": {
      "image/png": "[encoded data removed]",
      "text/plain": [
       "<Figure size 432x288 with 1 Axes>"
      ]
     },
     "metadata": {
      "needs_background": "light"
     },
     "output_type": "display_data"
    }
   ],
   "source": [
    "model = model_loader.fit_transform(train_loader,optimizer,loss_function,epoch_num,save_path = model_path)"
   ]
  },
  {
   "cell_type": "code",
   "execution_count": 15,
   "id": "98a0fd80",
   "metadata": {
    "ExecuteTime": {
     "end_time": "2022-01-13T08:57:31.443882Z",
     "start_time": "2022-01-13T08:41:38.321524Z"
    },
    "scrolled": true
   },
   "outputs": [
    {
     "name": "stderr",
     "output_type": "stream",
     "text": [
      "\r",
      "  0%|          | 0/10 [00:00<?, ?it/s]"
     ]
    },
    {
     "name": "stdout",
     "output_type": "stream",
     "text": [
      "Learning Rate is : 0.001\n"
     ]
    },
    {
     "name": "stderr",
     "output_type": "stream",
     "text": [
      "\r",
      " 10%|█         | 1/10 [01:19<11:57, 79.70s/it]"
     ]
    },
    {
     "name": "stdout",
     "output_type": "stream",
     "text": [
      "Epoch:  1  loss:  0.5240814787646847\n"
     ]
    },
    {
     "name": "stderr",
     "output_type": "stream",
     "text": [
      "\r",
      " 20%|██        | 2/10 [02:18<09:01, 67.69s/it]"
     ]
    },
    {
     "name": "stdout",
     "output_type": "stream",
     "text": [
      "Epoch:  2  loss:  0.5213933169333977\n"
     ]
    },
    {
     "name": "stderr",
     "output_type": "stream",
     "text": [
      "\r",
      " 30%|███       | 3/10 [03:17<07:23, 63.38s/it]"
     ]
    },
    {
     "name": "stdout",
     "output_type": "stream",
     "text": [
      "Epoch:  3  loss:  0.5186178164314958\n"
     ]
    },
    {
     "name": "stderr",
     "output_type": "stream",
     "text": [
      "\r",
      " 40%|████      | 4/10 [04:16<06:11, 61.87s/it]"
     ]
    },
    {
     "name": "stdout",
     "output_type": "stream",
     "text": [
      "Epoch:  4  loss:  0.5164003182903542\n"
     ]
    },
    {
     "name": "stderr",
     "output_type": "stream",
     "text": [
      "\r",
      " 50%|█████     | 5/10 [05:42<05:52, 70.44s/it]"
     ]
    },
    {
     "name": "stdout",
     "output_type": "stream",
     "text": [
      "Epoch:  5  loss:  0.5148824119072877\n"
     ]
    },
    {
     "name": "stderr",
     "output_type": "stream",
     "text": [
      "\r",
      " 60%|██████    | 6/10 [08:16<06:35, 98.79s/it]"
     ]
    },
    {
     "name": "stdout",
     "output_type": "stream",
     "text": [
      "Epoch:  6  loss:  0.5116208388020681\n"
     ]
    },
    {
     "name": "stderr",
     "output_type": "stream",
     "text": [
      "\r",
      " 70%|███████   | 7/10 [10:05<05:06, 102.28s/it]"
     ]
    },
    {
     "name": "stdout",
     "output_type": "stream",
     "text": [
      "Epoch:  7  loss:  0.5099015346235607\n"
     ]
    },
    {
     "name": "stderr",
     "output_type": "stream",
     "text": [
      "\r",
      " 80%|████████  | 8/10 [12:10<03:38, 109.48s/it]"
     ]
    },
    {
     "name": "stdout",
     "output_type": "stream",
     "text": [
      "Epoch:  8  loss:  0.5077647012148286\n"
     ]
    },
    {
     "name": "stderr",
     "output_type": "stream",
     "text": [
      "\r",
      " 90%|█████████ | 9/10 [13:48<01:45, 105.94s/it]"
     ]
    },
    {
     "name": "stdout",
     "output_type": "stream",
     "text": [
      "Epoch:  9  loss:  0.505535340962605\n"
     ]
    },
    {
     "name": "stderr",
     "output_type": "stream",
     "text": [
      "100%|██████████| 10/10 [15:52<00:00, 95.29s/it] "
     ]
    },
    {
     "name": "stdout",
     "output_type": "stream",
     "text": [
      "Epoch:  10  loss:  0.5037570888620456\n"
     ]
    },
    {
     "name": "stderr",
     "output_type": "stream",
     "text": [
      "\n"
     ]
    },
    {
     "data": {
      "image/png": "[encoded data removed]",
      "text/plain": [
       "<Figure size 432x288 with 1 Axes>"
      ]
     },
     "metadata": {
      "needs_background": "light"
     },
     "output_type": "display_data"
    }
   ],
   "source": [
    "optimizer = optim.Adam(model.parameters(), lr=LR)\n",
    "model = model_loader.transform(optimizer = optimizer, epoch_num = 10, method=\"best\")"
   ]
  },
  {
   "cell_type": "code",
   "execution_count": 16,
   "id": "3f4b0e96",
   "metadata": {
    "ExecuteTime": {
     "end_time": "2022-01-13T08:57:35.279090Z",
     "start_time": "2022-01-13T08:57:35.104414Z"
    }
   },
   "outputs": [
    {
     "data": {
      "text/plain": [
       "[<matplotlib.lines.Line2D at 0x7f5b340a0510>]"
      ]
     },
     "execution_count": 16,
     "metadata": {},
     "output_type": "execute_result"
    },
    {
     "data": {
      "image/png": "[encoded data removed]",
      "text/plain": [
       "<Figure size 432x288 with 1 Axes>"
      ]
     },
     "metadata": {
      "needs_background": "light"
     },
     "output_type": "display_data"
    }
   ],
   "source": [
    "plt.plot(model_loader.loss_list)"
   ]
  },
  {
   "cell_type": "code",
   "execution_count": 19,
   "id": "0f7b57a8",
   "metadata": {
    "ExecuteTime": {
     "end_time": "2022-01-13T08:58:44.314768Z",
     "start_time": "2022-01-13T08:58:15.147132Z"
    },
    "scrolled": true
   },
   "outputs": [
    {
     "name": "stderr",
     "output_type": "stream",
     "text": [
      "100%|██████████| 98/98 [00:08<00:00, 11.61it/s]\n"
     ]
    }
   ],
   "source": [
    "testloader = DataLoader()\n",
    "testloader.load_data_from_file(alpha_name = Alpha_Name,start_date = start_date,end_date = end_date,data_path=data_path)\n",
    "test_loader = testloader.to_torch_DataLoader(sequence = 5,shuffle=False)\n",
    "pred = model_loader.pred(test_loader)"
   ]
  },
  {
   "cell_type": "code",
   "execution_count": 20,
   "id": "a5d5d5a0",
   "metadata": {
    "ExecuteTime": {
     "end_time": "2022-01-13T08:58:44.342421Z",
     "start_time": "2022-01-13T08:58:44.316194Z"
    }
   },
   "outputs": [
    {
     "data": {
      "text/html": [
       "<div>\n",
       "<style scoped>\n",
       "    .dataframe tbody tr th:only-of-type {\n",
       "        vertical-align: middle;\n",
       "    }\n",
       "\n",
       "    .dataframe tbody tr th {\n",
       "        vertical-align: top;\n",
       "    }\n",
       "\n",
       "    .dataframe thead th {\n",
       "        text-align: right;\n",
       "    }\n",
       "</style>\n",
       "<table border=\"1\" class=\"dataframe\">\n",
       "  <thead>\n",
       "    <tr style=\"text-align: right;\">\n",
       "      <th></th>\n",
       "      <th>timestamp</th>\n",
       "      <th>symbol</th>\n",
       "      <th>target</th>\n",
       "      <th>Original_Input_Moving_10_Shift_5</th>\n",
       "    </tr>\n",
       "  </thead>\n",
       "  <tbody>\n",
       "    <tr>\n",
       "      <th>0</th>\n",
       "      <td>2020-01-02 09:30:00</td>\n",
       "      <td>000001</td>\n",
       "      <td>-0.745423</td>\n",
       "      <td>0.196408</td>\n",
       "    </tr>\n",
       "    <tr>\n",
       "      <th>1</th>\n",
       "      <td>2020-01-02 09:30:00</td>\n",
       "      <td>000002</td>\n",
       "      <td>-1.392706</td>\n",
       "      <td>-0.019129</td>\n",
       "    </tr>\n",
       "    <tr>\n",
       "      <th>2</th>\n",
       "      <td>2020-01-02 09:30:00</td>\n",
       "      <td>000004</td>\n",
       "      <td>-0.585940</td>\n",
       "      <td>-0.043689</td>\n",
       "    </tr>\n",
       "    <tr>\n",
       "      <th>3</th>\n",
       "      <td>2020-01-02 09:30:00</td>\n",
       "      <td>000005</td>\n",
       "      <td>-0.339156</td>\n",
       "      <td>0.042810</td>\n",
       "    </tr>\n",
       "    <tr>\n",
       "      <th>4</th>\n",
       "      <td>2020-01-02 09:30:00</td>\n",
       "      <td>000006</td>\n",
       "      <td>-0.523171</td>\n",
       "      <td>-0.016820</td>\n",
       "    </tr>\n",
       "    <tr>\n",
       "      <th>...</th>\n",
       "      <td>...</td>\n",
       "      <td>...</td>\n",
       "      <td>...</td>\n",
       "      <td>...</td>\n",
       "    </tr>\n",
       "    <tr>\n",
       "      <th>351664</th>\n",
       "      <td>2020-06-01 09:30:00</td>\n",
       "      <td>688388</td>\n",
       "      <td>-0.684707</td>\n",
       "      <td>-0.378105</td>\n",
       "    </tr>\n",
       "    <tr>\n",
       "      <th>351665</th>\n",
       "      <td>2020-06-01 09:30:00</td>\n",
       "      <td>688389</td>\n",
       "      <td>0.003000</td>\n",
       "      <td>-0.228525</td>\n",
       "    </tr>\n",
       "    <tr>\n",
       "      <th>351666</th>\n",
       "      <td>2020-06-01 09:30:00</td>\n",
       "      <td>688396</td>\n",
       "      <td>-0.503367</td>\n",
       "      <td>-0.605308</td>\n",
       "    </tr>\n",
       "    <tr>\n",
       "      <th>351667</th>\n",
       "      <td>2020-06-01 09:30:00</td>\n",
       "      <td>688398</td>\n",
       "      <td>-0.214989</td>\n",
       "      <td>-0.434566</td>\n",
       "    </tr>\n",
       "    <tr>\n",
       "      <th>351668</th>\n",
       "      <td>2020-06-01 09:30:00</td>\n",
       "      <td>688399</td>\n",
       "      <td>0.903601</td>\n",
       "      <td>-0.172658</td>\n",
       "    </tr>\n",
       "  </tbody>\n",
       "</table>\n",
       "<p>351669 rows × 4 columns</p>\n",
       "</div>"
      ],
      "text/plain": [
       "                 timestamp  symbol    target  Original_Input_Moving_10_Shift_5\n",
       "0      2020-01-02 09:30:00  000001 -0.745423                          0.196408\n",
       "1      2020-01-02 09:30:00  000002 -1.392706                         -0.019129\n",
       "2      2020-01-02 09:30:00  000004 -0.585940                         -0.043689\n",
       "3      2020-01-02 09:30:00  000005 -0.339156                          0.042810\n",
       "4      2020-01-02 09:30:00  000006 -0.523171                         -0.016820\n",
       "...                    ...     ...       ...                               ...\n",
       "351664 2020-06-01 09:30:00  688388 -0.684707                         -0.378105\n",
       "351665 2020-06-01 09:30:00  688389  0.003000                         -0.228525\n",
       "351666 2020-06-01 09:30:00  688396 -0.503367                         -0.605308\n",
       "351667 2020-06-01 09:30:00  688398 -0.214989                         -0.434566\n",
       "351668 2020-06-01 09:30:00  688399  0.903601                         -0.172658\n",
       "\n",
       "[351669 rows x 4 columns]"
      ]
     },
     "execution_count": 20,
     "metadata": {},
     "output_type": "execute_result"
    }
   ],
   "source": [
    "final = pd.concat([testloader.target.reset_index(),pred],axis=1)\n",
    "final.rename(columns={0:Alpha_Name,'ticker': 'symbol'},inplace=True)\n",
    "final"
   ]
  },
  {
   "cell_type": "code",
   "execution_count": 21,
   "id": "c9637d68",
   "metadata": {
    "ExecuteTime": {
     "end_time": "2022-01-13T08:58:48.973831Z",
     "start_time": "2022-01-13T08:58:48.721333Z"
    }
   },
   "outputs": [],
   "source": [
    "final.to_parquet(model_path + \"result.par\")"
   ]
  }
 ],
 "metadata": {
  "kernelspec": {
   "display_name": "Python 3 (ipykernel)",
   "language": "python",
   "name": "python3"
  },
  "language_info": {
   "codemirror_mode": {
    "name": "ipython",
    "version": 3
   },
   "file_extension": ".py",
   "mimetype": "text/x-python",
   "name": "python",
   "nbconvert_exporter": "python",
   "pygments_lexer": "ipython3",
   "version": "3.7.9"
  }
 },
 "nbformat": 4,
 "nbformat_minor": 5
}
