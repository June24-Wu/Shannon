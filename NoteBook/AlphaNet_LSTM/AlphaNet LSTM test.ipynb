{
 "cells": [
  {
   "cell_type": "code",
   "execution_count": 15,
   "id": "47f5acde",
   "metadata": {
    "ExecuteTime": {
     "end_time": "2022-01-11T04:14:18.836089Z",
     "start_time": "2022-01-11T04:14:18.832886Z"
    }
   },
   "outputs": [],
   "source": [
    "Alpha_Name = \"5_Input_20220111_10d_norm_ret\"\n",
    "start_date = \"2020-01-01\"\n",
    "end_date = \"2020-06-01\""
   ]
  },
  {
   "cell_type": "code",
   "execution_count": 16,
   "id": "483bd59f",
   "metadata": {
    "ExecuteTime": {
     "end_time": "2022-01-11T04:14:19.872504Z",
     "start_time": "2022-01-11T04:14:19.860300Z"
    }
   },
   "outputs": [],
   "source": [
    "import time\n",
    "import os\n",
    "from Research.backtest.bt import BTDaily\n",
    "import matplotlib.pyplot as plt\n",
    "from Research.feature.ft import FeatureAnalysis\n",
    "import Research.utils.namespace as namespace\n",
    "import Research.utils.normalization as norm\n",
    "from Platform.database.mysql import MysqlAPI\n",
    "from Platform.utils.persistence import convert_to_standard_daily_feature_csv, convert_to_standard_daily_feature_par\n",
    "from Platform.config.mysql_info import FACTOR_LIB_MYSQL_TIO\n",
    "import DataAPI\n",
    "from os import walk\n",
    "import pandas as pd\n",
    "import numpy as np\n",
    "import torch\n",
    "import torch.nn as nn\n",
    "from progressbar import ProgressBar\n",
    "from tqdm import tqdm\n",
    "import multiprocessing as mp\n",
    "import sys\n",
    "sys.path.append(\"/home/wuwenjun/jupyter_code/Shannon/AlphaNet/packages/\")\n",
    "model_path = \"/home/wuwenjun/Alpha_Factor/\" + Alpha_Name + \"/\" + \"%s_%s\" %(start_date,end_date) + \"/\"\n",
    "if os.path.exists(model_path) == False:\n",
    "    os.makedirs(model_path)\n",
    "    print(model_path)"
   ]
  },
  {
   "cell_type": "code",
   "execution_count": 17,
   "id": "b692dba4",
   "metadata": {
    "ExecuteTime": {
     "end_time": "2022-01-11T04:14:49.961074Z",
     "start_time": "2022-01-11T04:14:22.099649Z"
    }
   },
   "outputs": [
    {
     "name": "stderr",
     "output_type": "stream",
     "text": [
      "100%|██████████| 1219/1219 [00:22<00:00, 54.51it/s]\n"
     ]
    },
    {
     "data": {
      "text/html": [
       "<div>\n",
       "<style scoped>\n",
       "    .dataframe tbody tr th:only-of-type {\n",
       "        vertical-align: middle;\n",
       "    }\n",
       "\n",
       "    .dataframe tbody tr th {\n",
       "        vertical-align: top;\n",
       "    }\n",
       "\n",
       "    .dataframe thead th {\n",
       "        text-align: right;\n",
       "    }\n",
       "</style>\n",
       "<table border=\"1\" class=\"dataframe\">\n",
       "  <thead>\n",
       "    <tr style=\"text-align: right;\">\n",
       "      <th></th>\n",
       "      <th></th>\n",
       "      <th>0</th>\n",
       "      <th>1</th>\n",
       "      <th>2</th>\n",
       "      <th>3</th>\n",
       "      <th>4</th>\n",
       "      <th>5</th>\n",
       "      <th>6</th>\n",
       "      <th>7</th>\n",
       "      <th>8</th>\n",
       "      <th>9</th>\n",
       "      <th>...</th>\n",
       "      <th>111</th>\n",
       "      <th>112</th>\n",
       "      <th>113</th>\n",
       "      <th>114</th>\n",
       "      <th>115</th>\n",
       "      <th>116</th>\n",
       "      <th>117</th>\n",
       "      <th>118</th>\n",
       "      <th>119</th>\n",
       "      <th>target</th>\n",
       "    </tr>\n",
       "    <tr>\n",
       "      <th>timestamp</th>\n",
       "      <th>ticker</th>\n",
       "      <th></th>\n",
       "      <th></th>\n",
       "      <th></th>\n",
       "      <th></th>\n",
       "      <th></th>\n",
       "      <th></th>\n",
       "      <th></th>\n",
       "      <th></th>\n",
       "      <th></th>\n",
       "      <th></th>\n",
       "      <th></th>\n",
       "      <th></th>\n",
       "      <th></th>\n",
       "      <th></th>\n",
       "      <th></th>\n",
       "      <th></th>\n",
       "      <th></th>\n",
       "      <th></th>\n",
       "      <th></th>\n",
       "      <th></th>\n",
       "      <th></th>\n",
       "    </tr>\n",
       "  </thead>\n",
       "  <tbody>\n",
       "    <tr>\n",
       "      <th rowspan=\"5\" valign=\"top\">2015-02-16 09:30:00</th>\n",
       "      <th>000001</th>\n",
       "      <td>0.000064</td>\n",
       "      <td>-0.038558</td>\n",
       "      <td>3954.352065</td>\n",
       "      <td>-0.014480</td>\n",
       "      <td>-0.153531</td>\n",
       "      <td>-2626.705689</td>\n",
       "      <td>-0.017612</td>\n",
       "      <td>1.415203e+07</td>\n",
       "      <td>13.814661</td>\n",
       "      <td>1.150742e+05</td>\n",
       "      <td>...</td>\n",
       "      <td>0.345175</td>\n",
       "      <td>0.023481</td>\n",
       "      <td>0.031142</td>\n",
       "      <td>-1.301542</td>\n",
       "      <td>0.014472</td>\n",
       "      <td>-0.012360</td>\n",
       "      <td>977.906545</td>\n",
       "      <td>8.618504e+05</td>\n",
       "      <td>0.284385</td>\n",
       "      <td>-0.034409</td>\n",
       "    </tr>\n",
       "    <tr>\n",
       "      <th>000002</th>\n",
       "      <td>0.000147</td>\n",
       "      <td>0.135621</td>\n",
       "      <td>5523.931352</td>\n",
       "      <td>-0.033847</td>\n",
       "      <td>-0.583065</td>\n",
       "      <td>-11505.304621</td>\n",
       "      <td>-0.048414</td>\n",
       "      <td>8.801691e+07</td>\n",
       "      <td>121.464693</td>\n",
       "      <td>2.913541e+06</td>\n",
       "      <td>...</td>\n",
       "      <td>0.085346</td>\n",
       "      <td>-0.009313</td>\n",
       "      <td>-0.004410</td>\n",
       "      <td>-2.271306</td>\n",
       "      <td>0.020087</td>\n",
       "      <td>-0.022228</td>\n",
       "      <td>1542.165091</td>\n",
       "      <td>1.659369e+06</td>\n",
       "      <td>0.237585</td>\n",
       "      <td>-0.067930</td>\n",
       "    </tr>\n",
       "    <tr>\n",
       "      <th>000004</th>\n",
       "      <td>0.000093</td>\n",
       "      <td>-0.003361</td>\n",
       "      <td>-18.869629</td>\n",
       "      <td>-0.019579</td>\n",
       "      <td>-0.011733</td>\n",
       "      <td>-121.588925</td>\n",
       "      <td>-0.039625</td>\n",
       "      <td>6.284071e+03</td>\n",
       "      <td>1.512995</td>\n",
       "      <td>1.306707e+04</td>\n",
       "      <td>...</td>\n",
       "      <td>0.081493</td>\n",
       "      <td>0.038451</td>\n",
       "      <td>-0.009981</td>\n",
       "      <td>-1.736879</td>\n",
       "      <td>0.011924</td>\n",
       "      <td>-0.014008</td>\n",
       "      <td>70.910545</td>\n",
       "      <td>1.221067e+04</td>\n",
       "      <td>0.477255</td>\n",
       "      <td>0.050392</td>\n",
       "    </tr>\n",
       "    <tr>\n",
       "      <th>000006</th>\n",
       "      <td>0.000035</td>\n",
       "      <td>0.054798</td>\n",
       "      <td>2741.562408</td>\n",
       "      <td>-0.009933</td>\n",
       "      <td>0.008375</td>\n",
       "      <td>430.094542</td>\n",
       "      <td>-0.002161</td>\n",
       "      <td>1.746874e+06</td>\n",
       "      <td>0.897457</td>\n",
       "      <td>-3.758064e+04</td>\n",
       "      <td>...</td>\n",
       "      <td>0.088571</td>\n",
       "      <td>0.000000</td>\n",
       "      <td>0.060849</td>\n",
       "      <td>-2.261014</td>\n",
       "      <td>0.013070</td>\n",
       "      <td>-0.012106</td>\n",
       "      <td>200.097636</td>\n",
       "      <td>1.295647e+05</td>\n",
       "      <td>0.274916</td>\n",
       "      <td>0.049767</td>\n",
       "    </tr>\n",
       "    <tr>\n",
       "      <th>000007</th>\n",
       "      <td>0.000016</td>\n",
       "      <td>0.000012</td>\n",
       "      <td>8.076373</td>\n",
       "      <td>-0.003366</td>\n",
       "      <td>-0.005832</td>\n",
       "      <td>-66.787909</td>\n",
       "      <td>-0.016842</td>\n",
       "      <td>2.674150e+03</td>\n",
       "      <td>1.296660</td>\n",
       "      <td>7.027719e+03</td>\n",
       "      <td>...</td>\n",
       "      <td>0.627692</td>\n",
       "      <td>-0.137272</td>\n",
       "      <td>2.823077</td>\n",
       "      <td>7.882863</td>\n",
       "      <td>0.016853</td>\n",
       "      <td>-0.018813</td>\n",
       "      <td>69.836182</td>\n",
       "      <td>6.612037e+04</td>\n",
       "      <td>-0.944169</td>\n",
       "      <td>0.135178</td>\n",
       "    </tr>\n",
       "    <tr>\n",
       "      <th>...</th>\n",
       "      <th>...</th>\n",
       "      <td>...</td>\n",
       "      <td>...</td>\n",
       "      <td>...</td>\n",
       "      <td>...</td>\n",
       "      <td>...</td>\n",
       "      <td>...</td>\n",
       "      <td>...</td>\n",
       "      <td>...</td>\n",
       "      <td>...</td>\n",
       "      <td>...</td>\n",
       "      <td>...</td>\n",
       "      <td>...</td>\n",
       "      <td>...</td>\n",
       "      <td>...</td>\n",
       "      <td>...</td>\n",
       "      <td>...</td>\n",
       "      <td>...</td>\n",
       "      <td>...</td>\n",
       "      <td>...</td>\n",
       "      <td>...</td>\n",
       "      <td>...</td>\n",
       "    </tr>\n",
       "    <tr>\n",
       "      <th rowspan=\"5\" valign=\"top\">2019-12-31 09:30:00</th>\n",
       "      <th>688168</th>\n",
       "      <td>0.000066</td>\n",
       "      <td>-0.012922</td>\n",
       "      <td>23.137283</td>\n",
       "      <td>-0.020336</td>\n",
       "      <td>-0.014921</td>\n",
       "      <td>-23.111938</td>\n",
       "      <td>-0.032362</td>\n",
       "      <td>3.088676e+03</td>\n",
       "      <td>3.398853</td>\n",
       "      <td>3.348954e+03</td>\n",
       "      <td>...</td>\n",
       "      <td>0.725095</td>\n",
       "      <td>0.029854</td>\n",
       "      <td>-0.086762</td>\n",
       "      <td>-0.841671</td>\n",
       "      <td>0.022664</td>\n",
       "      <td>-0.022942</td>\n",
       "      <td>102.939818</td>\n",
       "      <td>9.346096e+03</td>\n",
       "      <td>-0.093751</td>\n",
       "      <td>0.088235</td>\n",
       "    </tr>\n",
       "    <tr>\n",
       "      <th>688188</th>\n",
       "      <td>0.000054</td>\n",
       "      <td>-0.021006</td>\n",
       "      <td>23.665992</td>\n",
       "      <td>-0.019726</td>\n",
       "      <td>-0.044288</td>\n",
       "      <td>-119.499083</td>\n",
       "      <td>-0.059382</td>\n",
       "      <td>1.449335e+04</td>\n",
       "      <td>7.882333</td>\n",
       "      <td>1.672978e+04</td>\n",
       "      <td>...</td>\n",
       "      <td>0.913885</td>\n",
       "      <td>0.085187</td>\n",
       "      <td>-0.189385</td>\n",
       "      <td>-1.574561</td>\n",
       "      <td>0.018257</td>\n",
       "      <td>-0.025162</td>\n",
       "      <td>155.152545</td>\n",
       "      <td>1.221270e+04</td>\n",
       "      <td>0.847665</td>\n",
       "      <td>0.006392</td>\n",
       "    </tr>\n",
       "    <tr>\n",
       "      <th>688321</th>\n",
       "      <td>0.000258</td>\n",
       "      <td>-0.057467</td>\n",
       "      <td>632.000022</td>\n",
       "      <td>-0.182739</td>\n",
       "      <td>-0.021098</td>\n",
       "      <td>14.934420</td>\n",
       "      <td>-0.029917</td>\n",
       "      <td>2.274249e+03</td>\n",
       "      <td>8.225609</td>\n",
       "      <td>-4.851141e+04</td>\n",
       "      <td>...</td>\n",
       "      <td>0.533274</td>\n",
       "      <td>-0.045798</td>\n",
       "      <td>-0.217366</td>\n",
       "      <td>-0.163770</td>\n",
       "      <td>0.023363</td>\n",
       "      <td>-0.015684</td>\n",
       "      <td>55.386182</td>\n",
       "      <td>1.933280e+04</td>\n",
       "      <td>-0.142278</td>\n",
       "      <td>0.092225</td>\n",
       "    </tr>\n",
       "    <tr>\n",
       "      <th>688333</th>\n",
       "      <td>0.000022</td>\n",
       "      <td>-0.002794</td>\n",
       "      <td>46.470611</td>\n",
       "      <td>-0.035519</td>\n",
       "      <td>0.005928</td>\n",
       "      <td>-0.395460</td>\n",
       "      <td>-0.006051</td>\n",
       "      <td>3.237477e+03</td>\n",
       "      <td>-0.715351</td>\n",
       "      <td>-5.582266e+03</td>\n",
       "      <td>...</td>\n",
       "      <td>-0.686561</td>\n",
       "      <td>-0.024109</td>\n",
       "      <td>-0.619115</td>\n",
       "      <td>-1.278914</td>\n",
       "      <td>0.022043</td>\n",
       "      <td>-0.016796</td>\n",
       "      <td>55.743636</td>\n",
       "      <td>1.279859e+04</td>\n",
       "      <td>-0.211913</td>\n",
       "      <td>0.074681</td>\n",
       "    </tr>\n",
       "    <tr>\n",
       "      <th>688388</th>\n",
       "      <td>0.000037</td>\n",
       "      <td>-0.001228</td>\n",
       "      <td>78.998641</td>\n",
       "      <td>-0.007192</td>\n",
       "      <td>-0.003517</td>\n",
       "      <td>-91.809291</td>\n",
       "      <td>-0.025993</td>\n",
       "      <td>3.661133e+03</td>\n",
       "      <td>1.455787</td>\n",
       "      <td>1.702078e+04</td>\n",
       "      <td>...</td>\n",
       "      <td>4.525981</td>\n",
       "      <td>0.209164</td>\n",
       "      <td>0.212289</td>\n",
       "      <td>4.499188</td>\n",
       "      <td>0.026055</td>\n",
       "      <td>-0.035712</td>\n",
       "      <td>52.684364</td>\n",
       "      <td>5.130674e+04</td>\n",
       "      <td>2.596262</td>\n",
       "      <td>0.086225</td>\n",
       "    </tr>\n",
       "  </tbody>\n",
       "</table>\n",
       "<p>3439333 rows × 121 columns</p>\n",
       "</div>"
      ],
      "text/plain": [
       "                                   0         1            2         3  \\\n",
       "timestamp           ticker                                              \n",
       "2015-02-16 09:30:00 000001  0.000064 -0.038558  3954.352065 -0.014480   \n",
       "                    000002  0.000147  0.135621  5523.931352 -0.033847   \n",
       "                    000004  0.000093 -0.003361   -18.869629 -0.019579   \n",
       "                    000006  0.000035  0.054798  2741.562408 -0.009933   \n",
       "                    000007  0.000016  0.000012     8.076373 -0.003366   \n",
       "...                              ...       ...          ...       ...   \n",
       "2019-12-31 09:30:00 688168  0.000066 -0.012922    23.137283 -0.020336   \n",
       "                    688188  0.000054 -0.021006    23.665992 -0.019726   \n",
       "                    688321  0.000258 -0.057467   632.000022 -0.182739   \n",
       "                    688333  0.000022 -0.002794    46.470611 -0.035519   \n",
       "                    688388  0.000037 -0.001228    78.998641 -0.007192   \n",
       "\n",
       "                                   4             5         6             7  \\\n",
       "timestamp           ticker                                                   \n",
       "2015-02-16 09:30:00 000001 -0.153531  -2626.705689 -0.017612  1.415203e+07   \n",
       "                    000002 -0.583065 -11505.304621 -0.048414  8.801691e+07   \n",
       "                    000004 -0.011733   -121.588925 -0.039625  6.284071e+03   \n",
       "                    000006  0.008375    430.094542 -0.002161  1.746874e+06   \n",
       "                    000007 -0.005832    -66.787909 -0.016842  2.674150e+03   \n",
       "...                              ...           ...       ...           ...   \n",
       "2019-12-31 09:30:00 688168 -0.014921    -23.111938 -0.032362  3.088676e+03   \n",
       "                    688188 -0.044288   -119.499083 -0.059382  1.449335e+04   \n",
       "                    688321 -0.021098     14.934420 -0.029917  2.274249e+03   \n",
       "                    688333  0.005928     -0.395460 -0.006051  3.237477e+03   \n",
       "                    688388 -0.003517    -91.809291 -0.025993  3.661133e+03   \n",
       "\n",
       "                                     8             9  ...       111       112  \\\n",
       "timestamp           ticker                            ...                       \n",
       "2015-02-16 09:30:00 000001   13.814661  1.150742e+05  ...  0.345175  0.023481   \n",
       "                    000002  121.464693  2.913541e+06  ...  0.085346 -0.009313   \n",
       "                    000004    1.512995  1.306707e+04  ...  0.081493  0.038451   \n",
       "                    000006    0.897457 -3.758064e+04  ...  0.088571  0.000000   \n",
       "                    000007    1.296660  7.027719e+03  ...  0.627692 -0.137272   \n",
       "...                                ...           ...  ...       ...       ...   \n",
       "2019-12-31 09:30:00 688168    3.398853  3.348954e+03  ...  0.725095  0.029854   \n",
       "                    688188    7.882333  1.672978e+04  ...  0.913885  0.085187   \n",
       "                    688321    8.225609 -4.851141e+04  ...  0.533274 -0.045798   \n",
       "                    688333   -0.715351 -5.582266e+03  ... -0.686561 -0.024109   \n",
       "                    688388    1.455787  1.702078e+04  ...  4.525981  0.209164   \n",
       "\n",
       "                                 113       114       115       116  \\\n",
       "timestamp           ticker                                           \n",
       "2015-02-16 09:30:00 000001  0.031142 -1.301542  0.014472 -0.012360   \n",
       "                    000002 -0.004410 -2.271306  0.020087 -0.022228   \n",
       "                    000004 -0.009981 -1.736879  0.011924 -0.014008   \n",
       "                    000006  0.060849 -2.261014  0.013070 -0.012106   \n",
       "                    000007  2.823077  7.882863  0.016853 -0.018813   \n",
       "...                              ...       ...       ...       ...   \n",
       "2019-12-31 09:30:00 688168 -0.086762 -0.841671  0.022664 -0.022942   \n",
       "                    688188 -0.189385 -1.574561  0.018257 -0.025162   \n",
       "                    688321 -0.217366 -0.163770  0.023363 -0.015684   \n",
       "                    688333 -0.619115 -1.278914  0.022043 -0.016796   \n",
       "                    688388  0.212289  4.499188  0.026055 -0.035712   \n",
       "\n",
       "                                    117           118       119    target  \n",
       "timestamp           ticker                                                 \n",
       "2015-02-16 09:30:00 000001   977.906545  8.618504e+05  0.284385 -0.034409  \n",
       "                    000002  1542.165091  1.659369e+06  0.237585 -0.067930  \n",
       "                    000004    70.910545  1.221067e+04  0.477255  0.050392  \n",
       "                    000006   200.097636  1.295647e+05  0.274916  0.049767  \n",
       "                    000007    69.836182  6.612037e+04 -0.944169  0.135178  \n",
       "...                                 ...           ...       ...       ...  \n",
       "2019-12-31 09:30:00 688168   102.939818  9.346096e+03 -0.093751  0.088235  \n",
       "                    688188   155.152545  1.221270e+04  0.847665  0.006392  \n",
       "                    688321    55.386182  1.933280e+04 -0.142278  0.092225  \n",
       "                    688333    55.743636  1.279859e+04 -0.211913  0.074681  \n",
       "                    688388    52.684364  5.130674e+04  2.596262  0.086225  \n",
       "\n",
       "[3439333 rows x 121 columns]"
      ]
     },
     "execution_count": 17,
     "metadata": {},
     "output_type": "execute_result"
    }
   ],
   "source": [
    "from AlphaNet.Data import DataLoader\n",
    "trainloader = DataLoader()\n",
    "trainloader.load_data_from_file(alpha_name = Alpha_Name,end_date = start_date)"
   ]
  },
  {
   "cell_type": "code",
   "execution_count": 18,
   "id": "615c8dec",
   "metadata": {
    "ExecuteTime": {
     "end_time": "2022-01-11T04:14:55.047868Z",
     "start_time": "2022-01-11T04:14:49.963489Z"
    },
    "scrolled": true
   },
   "outputs": [
    {
     "data": {
      "text/plain": [
       "torch.Size([3439333, 3, 40])"
      ]
     },
     "execution_count": 18,
     "metadata": {},
     "output_type": "execute_result"
    }
   ],
   "source": [
    "train_loader = trainloader.to_torch_DataLoader(sequence = 3,shuffle=True)\n",
    "trainloader.shape"
   ]
  },
  {
   "cell_type": "code",
   "execution_count": 19,
   "id": "4ef48be2",
   "metadata": {
    "ExecuteTime": {
     "end_time": "2022-01-11T04:14:55.063808Z",
     "start_time": "2022-01-11T04:14:55.049062Z"
    }
   },
   "outputs": [
    {
     "name": "stdout",
     "output_type": "stream",
     "text": [
      "AlphaNet_LSTM_V1(\n",
      "  (batch): BatchNorm1d(40, eps=1e-05, momentum=0.1, affine=True, track_running_stats=True)\n",
      "  (lstm): LSTM(40, 64, num_layers=5, batch_first=True, bidirectional=True)\n",
      "  (batch2): BatchNorm1d(128, eps=1e-05, momentum=0.1, affine=True, track_running_stats=True)\n",
      "  (dropout): Dropout(p=0.3, inplace=False)\n",
      "  (out): Linear(in_features=128, out_features=1, bias=True)\n",
      ")\n"
     ]
    }
   ],
   "source": [
    "from AlphaNet.Models import AlphaNet_LSTM_V1\n",
    "from AlphaNet import Model_Loader\n",
    "import torch.optim as optim\n",
    "LR = 0.001\n",
    "epoch_num = 10\n",
    "device = torch.device('cuda:0' if torch.cuda.is_available() else 'cpu')\n",
    "loss_function = nn.MSELoss()\n",
    "model = AlphaNet_LSTM_V1(40, 64)\n",
    "optimizer = optim.Adam(model.parameters(), lr=LR)\n",
    "model_loader = Model_Loader(model = model,device=device)\n",
    "print(model_loader.model)"
   ]
  },
  {
   "cell_type": "code",
   "execution_count": 20,
   "id": "4f18a498",
   "metadata": {
    "ExecuteTime": {
     "end_time": "2022-01-11T04:22:12.027269Z",
     "start_time": "2022-01-11T04:14:55.065595Z"
    }
   },
   "outputs": [
    {
     "name": "stderr",
     "output_type": "stream",
     "text": [
      "\r",
      "  0%|          | 0/10 [00:00<?, ?it/s]"
     ]
    },
    {
     "name": "stdout",
     "output_type": "stream",
     "text": [
      "Learning Rate is : 0.001\n"
     ]
    },
    {
     "name": "stderr",
     "output_type": "stream",
     "text": [
      "\r",
      " 10%|█         | 1/10 [00:44<06:38, 44.26s/it]"
     ]
    },
    {
     "name": "stdout",
     "output_type": "stream",
     "text": [
      "Epoch:  1  loss:  0.00955434164845205\n"
     ]
    },
    {
     "name": "stderr",
     "output_type": "stream",
     "text": [
      "\r",
      " 20%|██        | 2/10 [01:28<05:53, 44.14s/it]"
     ]
    },
    {
     "name": "stdout",
     "output_type": "stream",
     "text": [
      "Epoch:  2  loss:  0.008620159450707019\n"
     ]
    },
    {
     "name": "stderr",
     "output_type": "stream",
     "text": [
      "\r",
      " 30%|███       | 3/10 [02:12<05:09, 44.22s/it]"
     ]
    },
    {
     "name": "stdout",
     "output_type": "stream",
     "text": [
      "Epoch:  3  loss:  0.008224241622567142\n"
     ]
    },
    {
     "name": "stderr",
     "output_type": "stream",
     "text": [
      "\r",
      " 40%|████      | 4/10 [02:55<04:23, 43.87s/it]"
     ]
    },
    {
     "name": "stdout",
     "output_type": "stream",
     "text": [
      "Epoch:  4  loss:  0.007941482078915629\n"
     ]
    },
    {
     "name": "stderr",
     "output_type": "stream",
     "text": [
      "\r",
      " 50%|█████     | 5/10 [03:42<03:43, 44.78s/it]"
     ]
    },
    {
     "name": "stdout",
     "output_type": "stream",
     "text": [
      "Epoch:  5  loss:  0.007725058087113108\n"
     ]
    },
    {
     "name": "stderr",
     "output_type": "stream",
     "text": [
      "\r",
      " 60%|██████    | 6/10 [04:27<02:59, 44.84s/it]"
     ]
    },
    {
     "name": "stdout",
     "output_type": "stream",
     "text": [
      "Epoch:  6  loss:  0.0075427159460425\n"
     ]
    },
    {
     "name": "stderr",
     "output_type": "stream",
     "text": [
      "\r",
      " 70%|███████   | 7/10 [05:08<02:11, 43.75s/it]"
     ]
    },
    {
     "name": "stdout",
     "output_type": "stream",
     "text": [
      "Epoch:  7  loss:  0.007387487036503117\n"
     ]
    },
    {
     "name": "stderr",
     "output_type": "stream",
     "text": [
      "\r",
      " 80%|████████  | 8/10 [05:51<01:26, 43.33s/it]"
     ]
    },
    {
     "name": "stdout",
     "output_type": "stream",
     "text": [
      "Epoch:  8  loss:  0.007258342172076189\n"
     ]
    },
    {
     "name": "stderr",
     "output_type": "stream",
     "text": [
      "\r",
      " 90%|█████████ | 9/10 [06:32<00:42, 42.79s/it]"
     ]
    },
    {
     "name": "stdout",
     "output_type": "stream",
     "text": [
      "Epoch:  9  loss:  0.007135594562099913\n"
     ]
    },
    {
     "name": "stderr",
     "output_type": "stream",
     "text": [
      "100%|██████████| 10/10 [07:16<00:00, 43.68s/it]"
     ]
    },
    {
     "name": "stdout",
     "output_type": "stream",
     "text": [
      "Epoch:  10  loss:  0.007026977607119249\n"
     ]
    },
    {
     "name": "stderr",
     "output_type": "stream",
     "text": [
      "\n"
     ]
    },
    {
     "data": {
      "image/png": "[encoded data removed]",
      "text/plain": [
       "<Figure size 432x288 with 1 Axes>"
      ]
     },
     "metadata": {
      "needs_background": "light"
     },
     "output_type": "display_data"
    }
   ],
   "source": [
    "model = model_loader.fit_transform(train_loader,optimizer,loss_function,epoch_num,save_path = model_path)"
   ]
  },
  {
   "cell_type": "code",
   "execution_count": 11,
   "id": "98a0fd80",
   "metadata": {
    "ExecuteTime": {
     "end_time": "2022-01-11T04:11:09.201007Z",
     "start_time": "2022-01-11T03:53:33.602141Z"
    }
   },
   "outputs": [
    {
     "name": "stderr",
     "output_type": "stream",
     "text": [
      "\r",
      "  0%|          | 0/30 [00:00<?, ?it/s]"
     ]
    },
    {
     "name": "stdout",
     "output_type": "stream",
     "text": [
      "Learning Rate is : 0.0001\n"
     ]
    },
    {
     "name": "stderr",
     "output_type": "stream",
     "text": [
      "\r",
      "  3%|▎         | 1/30 [00:50<24:33, 50.83s/it]"
     ]
    },
    {
     "name": "stdout",
     "output_type": "stream",
     "text": [
      "Epoch:  1  loss:  0.5197009948004345\n"
     ]
    },
    {
     "name": "stderr",
     "output_type": "stream",
     "text": [
      "\r",
      "  7%|▋         | 2/30 [01:37<22:36, 48.43s/it]"
     ]
    },
    {
     "name": "stdout",
     "output_type": "stream",
     "text": [
      "Epoch:  2  loss:  0.5146741433210091\n"
     ]
    },
    {
     "name": "stderr",
     "output_type": "stream",
     "text": [
      "\r",
      " 10%|█         | 3/30 [02:27<22:07, 49.16s/it]"
     ]
    },
    {
     "name": "stdout",
     "output_type": "stream",
     "text": [
      "Epoch:  3  loss:  0.5127578748768826\n"
     ]
    },
    {
     "name": "stderr",
     "output_type": "stream",
     "text": [
      "\r",
      " 13%|█▎        | 4/30 [03:14<20:59, 48.46s/it]"
     ]
    },
    {
     "name": "stdout",
     "output_type": "stream",
     "text": [
      "Epoch:  4  loss:  0.5117522480515997\n"
     ]
    },
    {
     "name": "stderr",
     "output_type": "stream",
     "text": [
      "\r",
      " 17%|█▋        | 5/30 [04:11<21:27, 51.50s/it]"
     ]
    },
    {
     "name": "stdout",
     "output_type": "stream",
     "text": [
      "Epoch:  5  loss:  0.510751719617665\n"
     ]
    },
    {
     "name": "stderr",
     "output_type": "stream",
     "text": [
      "\r",
      " 20%|██        | 6/30 [05:00<20:13, 50.55s/it]"
     ]
    },
    {
     "name": "stdout",
     "output_type": "stream",
     "text": [
      "Epoch:  6  loss:  0.5098746088821193\n"
     ]
    },
    {
     "name": "stderr",
     "output_type": "stream",
     "text": [
      "\r",
      " 23%|██▎       | 7/30 [05:55<19:58, 52.13s/it]"
     ]
    },
    {
     "name": "stdout",
     "output_type": "stream",
     "text": [
      "Epoch:  7  loss:  0.5093930924652932\n"
     ]
    },
    {
     "name": "stderr",
     "output_type": "stream",
     "text": [
      "\r",
      " 27%|██▋       | 8/30 [06:43<18:35, 50.68s/it]"
     ]
    },
    {
     "name": "stdout",
     "output_type": "stream",
     "text": [
      "Epoch:  8  loss:  0.5087727180862948\n"
     ]
    },
    {
     "name": "stderr",
     "output_type": "stream",
     "text": [
      "\r",
      " 30%|███       | 9/30 [07:43<18:46, 53.62s/it]"
     ]
    },
    {
     "name": "stdout",
     "output_type": "stream",
     "text": [
      "Epoch:  9  loss:  0.5083340887346531\n"
     ]
    },
    {
     "name": "stderr",
     "output_type": "stream",
     "text": [
      "\r",
      " 33%|███▎      | 10/30 [08:37<17:54, 53.73s/it]"
     ]
    },
    {
     "name": "stdout",
     "output_type": "stream",
     "text": [
      "Epoch:  10  loss:  0.5079743043528943\n"
     ]
    },
    {
     "name": "stderr",
     "output_type": "stream",
     "text": [
      "\r",
      " 37%|███▋      | 11/30 [09:30<16:55, 53.44s/it]"
     ]
    },
    {
     "name": "stdout",
     "output_type": "stream",
     "text": [
      "Epoch:  11  loss:  0.50713708002287\n"
     ]
    },
    {
     "name": "stderr",
     "output_type": "stream",
     "text": [
      "\r",
      " 40%|████      | 12/30 [10:14<15:13, 50.73s/it]"
     ]
    },
    {
     "name": "stdout",
     "output_type": "stream",
     "text": [
      "Epoch:  12  loss:  0.5067810822517591\n"
     ]
    },
    {
     "name": "stderr",
     "output_type": "stream",
     "text": [
      "\r",
      " 43%|████▎     | 13/30 [11:03<14:12, 50.12s/it]"
     ]
    },
    {
     "name": "stdout",
     "output_type": "stream",
     "text": [
      "Epoch:  13  loss:  0.5063884140943318\n"
     ]
    },
    {
     "name": "stderr",
     "output_type": "stream",
     "text": [
      "\r",
      " 47%|████▋     | 14/30 [11:49<13:00, 48.77s/it]"
     ]
    },
    {
     "name": "stdout",
     "output_type": "stream",
     "text": [
      "Epoch:  14  loss:  0.5060762608295444\n"
     ]
    },
    {
     "name": "stderr",
     "output_type": "stream",
     "text": [
      "\r",
      " 50%|█████     | 15/30 [12:33<11:50, 47.36s/it]"
     ]
    },
    {
     "name": "stdout",
     "output_type": "stream",
     "text": [
      "Epoch:  15  loss:  0.5055116610184972\n"
     ]
    },
    {
     "name": "stderr",
     "output_type": "stream",
     "text": [
      "\r",
      " 53%|█████▎    | 16/30 [13:17<10:49, 46.41s/it]"
     ]
    },
    {
     "name": "stdout",
     "output_type": "stream",
     "text": [
      "Epoch:  16  loss:  0.5053731308427277\n"
     ]
    },
    {
     "name": "stderr",
     "output_type": "stream",
     "text": [
      "\r",
      " 57%|█████▋    | 17/30 [14:02<09:57, 45.97s/it]"
     ]
    },
    {
     "name": "stdout",
     "output_type": "stream",
     "text": [
      "Epoch:  17  loss:  0.5050073120205361\n"
     ]
    },
    {
     "name": "stderr",
     "output_type": "stream",
     "text": [
      "\r",
      " 60%|██████    | 18/30 [14:46<09:05, 45.49s/it]"
     ]
    },
    {
     "name": "stdout",
     "output_type": "stream",
     "text": [
      "Epoch:  18  loss:  0.5044079321942236\n"
     ]
    },
    {
     "name": "stderr",
     "output_type": "stream",
     "text": [
      "\r",
      " 63%|██████▎   | 19/30 [15:33<08:24, 45.86s/it]"
     ]
    },
    {
     "name": "stdout",
     "output_type": "stream",
     "text": [
      "Epoch:  19  loss:  0.5042024213583725\n"
     ]
    },
    {
     "name": "stderr",
     "output_type": "stream",
     "text": [
      "\r",
      " 67%|██████▋   | 20/30 [16:19<07:38, 45.90s/it]"
     ]
    },
    {
     "name": "stdout",
     "output_type": "stream",
     "text": [
      "Epoch:  20  loss:  0.5035885211989592\n"
     ]
    },
    {
     "name": "stderr",
     "output_type": "stream",
     "text": [
      "\r",
      " 70%|███████   | 21/30 [17:04<06:51, 45.69s/it]"
     ]
    },
    {
     "name": "stdout",
     "output_type": "stream",
     "text": [
      "Epoch:  21  loss:  0.5035206426835733\n"
     ]
    },
    {
     "name": "stderr",
     "output_type": "stream",
     "text": [
      " 70%|███████   | 21/30 [17:35<07:32, 50.26s/it]\n"
     ]
    },
    {
     "ename": "KeyboardInterrupt",
     "evalue": "",
     "output_type": "error",
     "traceback": [
      "\u001b[0;31m---------------------------------------------------------------------------\u001b[0m",
      "\u001b[0;31mKeyboardInterrupt\u001b[0m                         Traceback (most recent call last)",
      "\u001b[0;32m<ipython-input-11-bec153cf41f7>\u001b[0m in \u001b[0;36m<module>\u001b[0;34m\u001b[0m\n\u001b[1;32m      1\u001b[0m \u001b[0moptimizer\u001b[0m \u001b[0;34m=\u001b[0m \u001b[0moptim\u001b[0m\u001b[0;34m.\u001b[0m\u001b[0mAdam\u001b[0m\u001b[0;34m(\u001b[0m\u001b[0mmodel\u001b[0m\u001b[0;34m.\u001b[0m\u001b[0mparameters\u001b[0m\u001b[0;34m(\u001b[0m\u001b[0;34m)\u001b[0m\u001b[0;34m,\u001b[0m \u001b[0mlr\u001b[0m\u001b[0;34m=\u001b[0m\u001b[0mLR\u001b[0m\u001b[0;34m/\u001b[0m\u001b[0;36m10\u001b[0m\u001b[0;34m)\u001b[0m\u001b[0;34m\u001b[0m\u001b[0;34m\u001b[0m\u001b[0m\n\u001b[0;32m----> 2\u001b[0;31m \u001b[0mmodel\u001b[0m \u001b[0;34m=\u001b[0m \u001b[0mmodel_loader\u001b[0m\u001b[0;34m.\u001b[0m\u001b[0mtransform\u001b[0m\u001b[0;34m(\u001b[0m\u001b[0moptimizer\u001b[0m \u001b[0;34m=\u001b[0m \u001b[0moptimizer\u001b[0m\u001b[0;34m,\u001b[0m \u001b[0mepoch_num\u001b[0m \u001b[0;34m=\u001b[0m \u001b[0;36m30\u001b[0m\u001b[0;34m,\u001b[0m \u001b[0mmethod\u001b[0m\u001b[0;34m=\u001b[0m\u001b[0;34m\"best\"\u001b[0m\u001b[0;34m)\u001b[0m\u001b[0;34m\u001b[0m\u001b[0;34m\u001b[0m\u001b[0m\n\u001b[0m",
      "\u001b[0;32m~/jupyter_code/Shannon/AlphaNet/packages/AlphaNet/__init__.py\u001b[0m in \u001b[0;36mtransform\u001b[0;34m(self, optimizer, epoch_num, method)\u001b[0m\n\u001b[1;32m     75\u001b[0m         \u001b[0;32mif\u001b[0m \u001b[0mmethod\u001b[0m \u001b[0;34m==\u001b[0m \u001b[0;34m\"best\"\u001b[0m\u001b[0;34m:\u001b[0m\u001b[0;34m\u001b[0m\u001b[0;34m\u001b[0m\u001b[0m\n\u001b[1;32m     76\u001b[0m             \u001b[0mself\u001b[0m\u001b[0;34m.\u001b[0m\u001b[0mmodel\u001b[0m \u001b[0;34m=\u001b[0m \u001b[0mself\u001b[0m\u001b[0;34m.\u001b[0m\u001b[0mbest_model\u001b[0m\u001b[0;34m\u001b[0m\u001b[0;34m\u001b[0m\u001b[0m\n\u001b[0;32m---> 77\u001b[0;31m         \u001b[0;32mreturn\u001b[0m \u001b[0mself\u001b[0m\u001b[0;34m.\u001b[0m\u001b[0mfit_transform\u001b[0m\u001b[0;34m(\u001b[0m\u001b[0mself\u001b[0m\u001b[0;34m.\u001b[0m\u001b[0mdataloader\u001b[0m\u001b[0;34m,\u001b[0m \u001b[0moptimizer\u001b[0m\u001b[0;34m,\u001b[0m \u001b[0mself\u001b[0m\u001b[0;34m.\u001b[0m\u001b[0mloss_function\u001b[0m\u001b[0;34m,\u001b[0m \u001b[0mepoch_num\u001b[0m\u001b[0;34m,\u001b[0m \u001b[0mself\u001b[0m\u001b[0;34m.\u001b[0m\u001b[0msave_path\u001b[0m\u001b[0;34m)\u001b[0m\u001b[0;34m\u001b[0m\u001b[0;34m\u001b[0m\u001b[0m\n\u001b[0m\u001b[1;32m     78\u001b[0m \u001b[0;34m\u001b[0m\u001b[0m\n\u001b[1;32m     79\u001b[0m     \u001b[0;32mdef\u001b[0m \u001b[0mpred\u001b[0m\u001b[0;34m(\u001b[0m\u001b[0mself\u001b[0m\u001b[0;34m,\u001b[0m \u001b[0mdataloader\u001b[0m\u001b[0;34m)\u001b[0m\u001b[0;34m:\u001b[0m\u001b[0;34m\u001b[0m\u001b[0;34m\u001b[0m\u001b[0m\n",
      "\u001b[0;32m~/jupyter_code/Shannon/AlphaNet/packages/AlphaNet/__init__.py\u001b[0m in \u001b[0;36mfit_transform\u001b[0;34m(self, dataloader, optimizer, loss_function, epoch_num, save_path)\u001b[0m\n\u001b[1;32m     54\u001b[0m                 \u001b[0mloss\u001b[0m \u001b[0;34m=\u001b[0m \u001b[0mself\u001b[0m\u001b[0;34m.\u001b[0m\u001b[0mloss_function\u001b[0m\u001b[0;34m(\u001b[0m\u001b[0mpred\u001b[0m\u001b[0;34m,\u001b[0m \u001b[0moutputs\u001b[0m\u001b[0;34m)\u001b[0m\u001b[0;34m\u001b[0m\u001b[0;34m\u001b[0m\u001b[0m\n\u001b[1;32m     55\u001b[0m                 \u001b[0mloss\u001b[0m\u001b[0;34m.\u001b[0m\u001b[0mbackward\u001b[0m\u001b[0;34m(\u001b[0m\u001b[0;34m)\u001b[0m\u001b[0;34m\u001b[0m\u001b[0;34m\u001b[0m\u001b[0m\n\u001b[0;32m---> 56\u001b[0;31m                 \u001b[0mself\u001b[0m\u001b[0;34m.\u001b[0m\u001b[0moptimizer\u001b[0m\u001b[0;34m.\u001b[0m\u001b[0mstep\u001b[0m\u001b[0;34m(\u001b[0m\u001b[0;34m)\u001b[0m\u001b[0;34m\u001b[0m\u001b[0;34m\u001b[0m\u001b[0m\n\u001b[0m\u001b[1;32m     57\u001b[0m \u001b[0;34m\u001b[0m\u001b[0m\n\u001b[1;32m     58\u001b[0m                 \u001b[0mtotal_loss\u001b[0m \u001b[0;34m+=\u001b[0m \u001b[0mloss\u001b[0m\u001b[0;34m.\u001b[0m\u001b[0mitem\u001b[0m\u001b[0;34m(\u001b[0m\u001b[0;34m)\u001b[0m\u001b[0;34m\u001b[0m\u001b[0;34m\u001b[0m\u001b[0m\n",
      "\u001b[0;32m~/.local/lib/python3.7/site-packages/torch/optim/optimizer.py\u001b[0m in \u001b[0;36mwrapper\u001b[0;34m(*args, **kwargs)\u001b[0m\n\u001b[1;32m     86\u001b[0m                 \u001b[0mprofile_name\u001b[0m \u001b[0;34m=\u001b[0m \u001b[0;34m\"Optimizer.step#{}.step\"\u001b[0m\u001b[0;34m.\u001b[0m\u001b[0mformat\u001b[0m\u001b[0;34m(\u001b[0m\u001b[0mobj\u001b[0m\u001b[0;34m.\u001b[0m\u001b[0m__class__\u001b[0m\u001b[0;34m.\u001b[0m\u001b[0m__name__\u001b[0m\u001b[0;34m)\u001b[0m\u001b[0;34m\u001b[0m\u001b[0;34m\u001b[0m\u001b[0m\n\u001b[1;32m     87\u001b[0m                 \u001b[0;32mwith\u001b[0m \u001b[0mtorch\u001b[0m\u001b[0;34m.\u001b[0m\u001b[0mautograd\u001b[0m\u001b[0;34m.\u001b[0m\u001b[0mprofiler\u001b[0m\u001b[0;34m.\u001b[0m\u001b[0mrecord_function\u001b[0m\u001b[0;34m(\u001b[0m\u001b[0mprofile_name\u001b[0m\u001b[0;34m)\u001b[0m\u001b[0;34m:\u001b[0m\u001b[0;34m\u001b[0m\u001b[0;34m\u001b[0m\u001b[0m\n\u001b[0;32m---> 88\u001b[0;31m                     \u001b[0;32mreturn\u001b[0m \u001b[0mfunc\u001b[0m\u001b[0;34m(\u001b[0m\u001b[0;34m*\u001b[0m\u001b[0margs\u001b[0m\u001b[0;34m,\u001b[0m \u001b[0;34m**\u001b[0m\u001b[0mkwargs\u001b[0m\u001b[0;34m)\u001b[0m\u001b[0;34m\u001b[0m\u001b[0;34m\u001b[0m\u001b[0m\n\u001b[0m\u001b[1;32m     89\u001b[0m             \u001b[0;32mreturn\u001b[0m \u001b[0mwrapper\u001b[0m\u001b[0;34m\u001b[0m\u001b[0;34m\u001b[0m\u001b[0m\n\u001b[1;32m     90\u001b[0m \u001b[0;34m\u001b[0m\u001b[0m\n",
      "\u001b[0;32m~/.local/lib/python3.7/site-packages/torch/autograd/grad_mode.py\u001b[0m in \u001b[0;36mdecorate_context\u001b[0;34m(*args, **kwargs)\u001b[0m\n\u001b[1;32m     26\u001b[0m         \u001b[0;32mdef\u001b[0m \u001b[0mdecorate_context\u001b[0m\u001b[0;34m(\u001b[0m\u001b[0;34m*\u001b[0m\u001b[0margs\u001b[0m\u001b[0;34m,\u001b[0m \u001b[0;34m**\u001b[0m\u001b[0mkwargs\u001b[0m\u001b[0;34m)\u001b[0m\u001b[0;34m:\u001b[0m\u001b[0;34m\u001b[0m\u001b[0;34m\u001b[0m\u001b[0m\n\u001b[1;32m     27\u001b[0m             \u001b[0;32mwith\u001b[0m \u001b[0mself\u001b[0m\u001b[0;34m.\u001b[0m\u001b[0m__class__\u001b[0m\u001b[0;34m(\u001b[0m\u001b[0;34m)\u001b[0m\u001b[0;34m:\u001b[0m\u001b[0;34m\u001b[0m\u001b[0;34m\u001b[0m\u001b[0m\n\u001b[0;32m---> 28\u001b[0;31m                 \u001b[0;32mreturn\u001b[0m \u001b[0mfunc\u001b[0m\u001b[0;34m(\u001b[0m\u001b[0;34m*\u001b[0m\u001b[0margs\u001b[0m\u001b[0;34m,\u001b[0m \u001b[0;34m**\u001b[0m\u001b[0mkwargs\u001b[0m\u001b[0;34m)\u001b[0m\u001b[0;34m\u001b[0m\u001b[0;34m\u001b[0m\u001b[0m\n\u001b[0m\u001b[1;32m     29\u001b[0m         \u001b[0;32mreturn\u001b[0m \u001b[0mcast\u001b[0m\u001b[0;34m(\u001b[0m\u001b[0mF\u001b[0m\u001b[0;34m,\u001b[0m \u001b[0mdecorate_context\u001b[0m\u001b[0;34m)\u001b[0m\u001b[0;34m\u001b[0m\u001b[0;34m\u001b[0m\u001b[0m\n\u001b[1;32m     30\u001b[0m \u001b[0;34m\u001b[0m\u001b[0m\n",
      "\u001b[0;32m~/.local/lib/python3.7/site-packages/torch/optim/adam.py\u001b[0m in \u001b[0;36mstep\u001b[0;34m(self, closure)\u001b[0m\n\u001b[1;32m    142\u001b[0m                    \u001b[0mlr\u001b[0m\u001b[0;34m=\u001b[0m\u001b[0mgroup\u001b[0m\u001b[0;34m[\u001b[0m\u001b[0;34m'lr'\u001b[0m\u001b[0;34m]\u001b[0m\u001b[0;34m,\u001b[0m\u001b[0;34m\u001b[0m\u001b[0;34m\u001b[0m\u001b[0m\n\u001b[1;32m    143\u001b[0m                    \u001b[0mweight_decay\u001b[0m\u001b[0;34m=\u001b[0m\u001b[0mgroup\u001b[0m\u001b[0;34m[\u001b[0m\u001b[0;34m'weight_decay'\u001b[0m\u001b[0;34m]\u001b[0m\u001b[0;34m,\u001b[0m\u001b[0;34m\u001b[0m\u001b[0;34m\u001b[0m\u001b[0m\n\u001b[0;32m--> 144\u001b[0;31m                    eps=group['eps'])\n\u001b[0m\u001b[1;32m    145\u001b[0m         \u001b[0;32mreturn\u001b[0m \u001b[0mloss\u001b[0m\u001b[0;34m\u001b[0m\u001b[0;34m\u001b[0m\u001b[0m\n",
      "\u001b[0;32m~/.local/lib/python3.7/site-packages/torch/optim/_functional.py\u001b[0m in \u001b[0;36madam\u001b[0;34m(params, grads, exp_avgs, exp_avg_sqs, max_exp_avg_sqs, state_steps, amsgrad, beta1, beta2, lr, weight_decay, eps)\u001b[0m\n\u001b[1;32m     92\u001b[0m             \u001b[0mdenom\u001b[0m \u001b[0;34m=\u001b[0m \u001b[0;34m(\u001b[0m\u001b[0mmax_exp_avg_sqs\u001b[0m\u001b[0;34m[\u001b[0m\u001b[0mi\u001b[0m\u001b[0;34m]\u001b[0m\u001b[0;34m.\u001b[0m\u001b[0msqrt\u001b[0m\u001b[0;34m(\u001b[0m\u001b[0;34m)\u001b[0m \u001b[0;34m/\u001b[0m \u001b[0mmath\u001b[0m\u001b[0;34m.\u001b[0m\u001b[0msqrt\u001b[0m\u001b[0;34m(\u001b[0m\u001b[0mbias_correction2\u001b[0m\u001b[0;34m)\u001b[0m\u001b[0;34m)\u001b[0m\u001b[0;34m.\u001b[0m\u001b[0madd_\u001b[0m\u001b[0;34m(\u001b[0m\u001b[0meps\u001b[0m\u001b[0;34m)\u001b[0m\u001b[0;34m\u001b[0m\u001b[0;34m\u001b[0m\u001b[0m\n\u001b[1;32m     93\u001b[0m         \u001b[0;32melse\u001b[0m\u001b[0;34m:\u001b[0m\u001b[0;34m\u001b[0m\u001b[0;34m\u001b[0m\u001b[0m\n\u001b[0;32m---> 94\u001b[0;31m             \u001b[0mdenom\u001b[0m \u001b[0;34m=\u001b[0m \u001b[0;34m(\u001b[0m\u001b[0mexp_avg_sq\u001b[0m\u001b[0;34m.\u001b[0m\u001b[0msqrt\u001b[0m\u001b[0;34m(\u001b[0m\u001b[0;34m)\u001b[0m \u001b[0;34m/\u001b[0m \u001b[0mmath\u001b[0m\u001b[0;34m.\u001b[0m\u001b[0msqrt\u001b[0m\u001b[0;34m(\u001b[0m\u001b[0mbias_correction2\u001b[0m\u001b[0;34m)\u001b[0m\u001b[0;34m)\u001b[0m\u001b[0;34m.\u001b[0m\u001b[0madd_\u001b[0m\u001b[0;34m(\u001b[0m\u001b[0meps\u001b[0m\u001b[0;34m)\u001b[0m\u001b[0;34m\u001b[0m\u001b[0;34m\u001b[0m\u001b[0m\n\u001b[0m\u001b[1;32m     95\u001b[0m \u001b[0;34m\u001b[0m\u001b[0m\n\u001b[1;32m     96\u001b[0m         \u001b[0mstep_size\u001b[0m \u001b[0;34m=\u001b[0m \u001b[0mlr\u001b[0m \u001b[0;34m/\u001b[0m \u001b[0mbias_correction1\u001b[0m\u001b[0;34m\u001b[0m\u001b[0;34m\u001b[0m\u001b[0m\n",
      "\u001b[0;31mKeyboardInterrupt\u001b[0m: "
     ]
    }
   ],
   "source": [
    "optimizer = optim.Adam(model.parameters(), lr=LR/10)\n",
    "model = model_loader.transform(optimizer = optimizer, epoch_num = 30, method=\"best\")"
   ]
  },
  {
   "cell_type": "code",
   "execution_count": 7,
   "id": "3f4b0e96",
   "metadata": {
    "ExecuteTime": {
     "end_time": "2022-01-10T11:57:59.525208Z",
     "start_time": "2022-01-10T11:57:59.421452Z"
    }
   },
   "outputs": [
    {
     "data": {
      "text/plain": [
       "[<matplotlib.lines.Line2D at 0x7fd9bb6150d0>]"
      ]
     },
     "execution_count": 7,
     "metadata": {},
     "output_type": "execute_result"
    },
    {
     "data": {
      "image/png": "[encoded data removed]",
      "text/plain": [
       "<Figure size 432x288 with 1 Axes>"
      ]
     },
     "metadata": {
      "needs_background": "light"
     },
     "output_type": "display_data"
    }
   ],
   "source": [
    "plt.plot(model_loader.loss_list)"
   ]
  },
  {
   "cell_type": "code",
   "execution_count": 21,
   "id": "0f7b57a8",
   "metadata": {
    "ExecuteTime": {
     "end_time": "2022-01-11T04:22:33.004947Z",
     "start_time": "2022-01-11T04:22:20.435019Z"
    },
    "scrolled": true
   },
   "outputs": [
    {
     "name": "stderr",
     "output_type": "stream",
     "text": [
      "100%|██████████| 98/98 [00:02<00:00, 47.69it/s]\n"
     ]
    }
   ],
   "source": [
    "testloader = DataLoader()\n",
    "testloader.load_data_from_file(alpha_name = Alpha_Name,start_date = start_date,end_date = end_date)\n",
    "test_loader = testloader.to_torch_DataLoader(sequence = 3,shuffle=False)\n",
    "pred = model_loader.pred(test_loader)"
   ]
  },
  {
   "cell_type": "code",
   "execution_count": 22,
   "id": "a5d5d5a0",
   "metadata": {
    "ExecuteTime": {
     "end_time": "2022-01-11T04:22:33.036537Z",
     "start_time": "2022-01-11T04:22:33.006881Z"
    }
   },
   "outputs": [
    {
     "data": {
      "text/html": [
       "<div>\n",
       "<style scoped>\n",
       "    .dataframe tbody tr th:only-of-type {\n",
       "        vertical-align: middle;\n",
       "    }\n",
       "\n",
       "    .dataframe tbody tr th {\n",
       "        vertical-align: top;\n",
       "    }\n",
       "\n",
       "    .dataframe thead th {\n",
       "        text-align: right;\n",
       "    }\n",
       "</style>\n",
       "<table border=\"1\" class=\"dataframe\">\n",
       "  <thead>\n",
       "    <tr style=\"text-align: right;\">\n",
       "      <th></th>\n",
       "      <th>timestamp</th>\n",
       "      <th>symbol</th>\n",
       "      <th>target</th>\n",
       "      <th>5_Input_20220111_10d_norm_ret</th>\n",
       "    </tr>\n",
       "  </thead>\n",
       "  <tbody>\n",
       "    <tr>\n",
       "      <th>0</th>\n",
       "      <td>2020-01-02 09:30:00</td>\n",
       "      <td>000001</td>\n",
       "      <td>-0.007808</td>\n",
       "      <td>0.006008</td>\n",
       "    </tr>\n",
       "    <tr>\n",
       "      <th>1</th>\n",
       "      <td>2020-01-02 09:30:00</td>\n",
       "      <td>000002</td>\n",
       "      <td>-0.066463</td>\n",
       "      <td>0.023818</td>\n",
       "    </tr>\n",
       "    <tr>\n",
       "      <th>2</th>\n",
       "      <td>2020-01-02 09:30:00</td>\n",
       "      <td>000004</td>\n",
       "      <td>0.007064</td>\n",
       "      <td>-0.002436</td>\n",
       "    </tr>\n",
       "    <tr>\n",
       "      <th>3</th>\n",
       "      <td>2020-01-02 09:30:00</td>\n",
       "      <td>000005</td>\n",
       "      <td>0.025723</td>\n",
       "      <td>-0.012045</td>\n",
       "    </tr>\n",
       "    <tr>\n",
       "      <th>4</th>\n",
       "      <td>2020-01-02 09:30:00</td>\n",
       "      <td>000006</td>\n",
       "      <td>0.007366</td>\n",
       "      <td>-0.014588</td>\n",
       "    </tr>\n",
       "    <tr>\n",
       "      <th>...</th>\n",
       "      <td>...</td>\n",
       "      <td>...</td>\n",
       "      <td>...</td>\n",
       "      <td>...</td>\n",
       "    </tr>\n",
       "    <tr>\n",
       "      <th>350863</th>\n",
       "      <td>2020-06-01 09:30:00</td>\n",
       "      <td>688388</td>\n",
       "      <td>-0.034015</td>\n",
       "      <td>-0.011107</td>\n",
       "    </tr>\n",
       "    <tr>\n",
       "      <th>350864</th>\n",
       "      <td>2020-06-01 09:30:00</td>\n",
       "      <td>688389</td>\n",
       "      <td>0.020294</td>\n",
       "      <td>-0.017103</td>\n",
       "    </tr>\n",
       "    <tr>\n",
       "      <th>350865</th>\n",
       "      <td>2020-06-01 09:30:00</td>\n",
       "      <td>688396</td>\n",
       "      <td>-0.000301</td>\n",
       "      <td>-0.031794</td>\n",
       "    </tr>\n",
       "    <tr>\n",
       "      <th>350866</th>\n",
       "      <td>2020-06-01 09:30:00</td>\n",
       "      <td>688398</td>\n",
       "      <td>-0.034310</td>\n",
       "      <td>0.042025</td>\n",
       "    </tr>\n",
       "    <tr>\n",
       "      <th>350867</th>\n",
       "      <td>2020-06-01 09:30:00</td>\n",
       "      <td>688399</td>\n",
       "      <td>0.137843</td>\n",
       "      <td>0.036133</td>\n",
       "    </tr>\n",
       "  </tbody>\n",
       "</table>\n",
       "<p>350868 rows × 4 columns</p>\n",
       "</div>"
      ],
      "text/plain": [
       "                 timestamp  symbol    target  5_Input_20220111_10d_norm_ret\n",
       "0      2020-01-02 09:30:00  000001 -0.007808                       0.006008\n",
       "1      2020-01-02 09:30:00  000002 -0.066463                       0.023818\n",
       "2      2020-01-02 09:30:00  000004  0.007064                      -0.002436\n",
       "3      2020-01-02 09:30:00  000005  0.025723                      -0.012045\n",
       "4      2020-01-02 09:30:00  000006  0.007366                      -0.014588\n",
       "...                    ...     ...       ...                            ...\n",
       "350863 2020-06-01 09:30:00  688388 -0.034015                      -0.011107\n",
       "350864 2020-06-01 09:30:00  688389  0.020294                      -0.017103\n",
       "350865 2020-06-01 09:30:00  688396 -0.000301                      -0.031794\n",
       "350866 2020-06-01 09:30:00  688398 -0.034310                       0.042025\n",
       "350867 2020-06-01 09:30:00  688399  0.137843                       0.036133\n",
       "\n",
       "[350868 rows x 4 columns]"
      ]
     },
     "execution_count": 22,
     "metadata": {},
     "output_type": "execute_result"
    }
   ],
   "source": [
    "final = pd.concat([testloader.target.reset_index(),pred],axis=1)\n",
    "final.rename(columns={0:Alpha_Name,'ticker': 'symbol'},inplace=True)\n",
    "final"
   ]
  },
  {
   "cell_type": "code",
   "execution_count": 23,
   "id": "c9637d68",
   "metadata": {
    "ExecuteTime": {
     "end_time": "2022-01-11T04:22:37.106597Z",
     "start_time": "2022-01-11T04:22:36.922972Z"
    }
   },
   "outputs": [],
   "source": [
    "final.to_parquet(model_path + \"result.par\")"
   ]
  }
 ],
 "metadata": {
  "kernelspec": {
   "display_name": "Python 3 (ipykernel)",
   "language": "python",
   "name": "python3"
  },
  "language_info": {
   "codemirror_mode": {
    "name": "ipython",
    "version": 3
   },
   "file_extension": ".py",
   "mimetype": "text/x-python",
   "name": "python",
   "nbconvert_exporter": "python",
   "pygments_lexer": "ipython3",
   "version": "3.7.9"
  }
 },
 "nbformat": 4,
 "nbformat_minor": 5
}
