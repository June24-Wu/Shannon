{
 "cells": [
  {
   "cell_type": "code",
   "execution_count": 1,
   "id": "329cd07b",
   "metadata": {},
   "outputs": [],
   "source": [
    "import os\n",
    "import threading\n",
    "import multiprocessing"
   ]
  },
  {
   "cell_type": "code",
   "execution_count": 2,
   "id": "82b161ab",
   "metadata": {},
   "outputs": [
    {
     "name": "stdout",
     "output_type": "stream",
     "text": [
      "Main: 155103\n"
     ]
    }
   ],
   "source": [
    "print('Main:', os.getpid())"
   ]
  },
  {
   "cell_type": "code",
   "execution_count": 3,
   "id": "4f26a535",
   "metadata": {},
   "outputs": [],
   "source": [
    "# worker function\n",
    "def worker(sign, lock):\n",
    "    lock.acquire()\n",
    "    print(sign, os.getpid())\n",
    "    lock.release()\n"
   ]
  },
  {
   "cell_type": "code",
   "execution_count": 4,
   "id": "71fb8411",
   "metadata": {},
   "outputs": [],
   "source": [
    "record = []\n",
    "lock = threading.Lock()"
   ]
  },
  {
   "cell_type": "code",
   "execution_count": 6,
   "id": "28d1b809",
   "metadata": {},
   "outputs": [],
   "source": [
    "record = []\n",
    "lock = multiprocessing.Lock()"
   ]
  },
  {
   "cell_type": "code",
   "execution_count": 15,
   "id": "038deb17",
   "metadata": {},
   "outputs": [
    {
     "name": "stdout",
     "output_type": "stream",
     "text": [
      "java coding | python codingjava coding |  | C++ coding | python codingjava coding |  | \n",
      "Multi process cost time: 3.0158236026763916\n",
      "C++ coding | python codingjava coding |  | C++ coding | python codingjava coding |  | C++ coding | python coding | C++ coding | "
     ]
    }
   ],
   "source": [
    "\n",
    "from multiprocessing import Process\n",
    "import time\n",
    " \n",
    "def coding(language,a):\n",
    "    \"\"\"子进程要执行的代码\"\"\"\n",
    "    for i in range(5):\n",
    "        print(\"{} coding\".format(language), end=' | ')\n",
    "        time.sleep(1)\n",
    " \n",
    " \n",
    "if __name__ == '__main__':\n",
    "    # 单进程\n",
    "#     start = time.time()\n",
    "#     coding('python',0)\n",
    "#     for i in range(5):\n",
    "#         print(\"main program\", end=' | ')\n",
    "#         time.sleep(1)\n",
    "#     end = time.time()\n",
    "#     print('\\nOne process cost time:', end - start)\n",
    " \n",
    "    # 多进程\n",
    "    multi_start = time.time()\n",
    "    for i in [\"java\",\"python\",\"C++\"]:\n",
    "        p = Process(target=coding, args=(i,0))\n",
    "        p.start()\n",
    "        time.sleep(1)\n",
    "#     for i in range(5):\n",
    "#         print(\"main program\", end=' | ')\n",
    "        \n",
    "    multi_end = time.time()\n",
    "    print('\\nMulti process cost time:', multi_end - multi_start)"
   ]
  }
 ],
 "metadata": {
  "kernelspec": {
   "display_name": "Python 3 (ipykernel)",
   "language": "python",
   "name": "python3"
  },
  "language_info": {
   "codemirror_mode": {
    "name": "ipython",
    "version": 3
   },
   "file_extension": ".py",
   "mimetype": "text/x-python",
   "name": "python",
   "nbconvert_exporter": "python",
   "pygments_lexer": "ipython3",
   "version": "3.7.9"
  }
 },
 "nbformat": 4,
 "nbformat_minor": 5
}
