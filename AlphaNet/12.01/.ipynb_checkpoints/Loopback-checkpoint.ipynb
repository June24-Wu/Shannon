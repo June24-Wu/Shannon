{
 "cells": [
  {
   "cell_type": "code",
   "execution_count": 2,
   "id": "a4ea4cbc",
   "metadata": {},
   "outputs": [],
   "source": [
    "alpha_name = \"AlphaNet_Original_Input\"\n",
    "path = \"/home/wuwenjun/Alpha_Factor/AlphaNetV1_Original_Input\"\n",
    "output_path = r'/home/wuwenjun/factor_lib/ti0/wuwenjun'"
   ]
  },
  {
   "cell_type": "code",
   "execution_count": 3,
   "id": "4e59fa5d",
   "metadata": {},
   "outputs": [],
   "source": [
    "import time\n",
    "from Research.backtest.bt import BTDaily\n",
    "from Research.feature.ft import FeatureAnalysis\n",
    "import Research.utils.namespace as namespace\n",
    "import Research.utils.normalization as norm\n",
    "from Platform.database.mysql import MysqlAPI\n",
    "from Platform.utils.persistence import convert_to_standard_daily_feature_csv, convert_to_standard_daily_feature_par\n",
    "from Platform.config.mysql_info import FACTOR_LIB_MYSQL_TIO\n",
    "import numpy as np"
   ]
  },
  {
   "cell_type": "code",
   "execution_count": 5,
   "id": "a4c49884",
   "metadata": {},
   "outputs": [
    {
     "data": {
      "text/html": [
       "<div>\n",
       "<style scoped>\n",
       "    .dataframe tbody tr th:only-of-type {\n",
       "        vertical-align: middle;\n",
       "    }\n",
       "\n",
       "    .dataframe tbody tr th {\n",
       "        vertical-align: top;\n",
       "    }\n",
       "\n",
       "    .dataframe thead th {\n",
       "        text-align: right;\n",
       "    }\n",
       "</style>\n",
       "<table border=\"1\" class=\"dataframe\">\n",
       "  <thead>\n",
       "    <tr style=\"text-align: right;\">\n",
       "      <th></th>\n",
       "      <th>symbol</th>\n",
       "      <th>timestamp</th>\n",
       "      <th>AlphaNet_Original_Input</th>\n",
       "    </tr>\n",
       "  </thead>\n",
       "  <tbody>\n",
       "    <tr>\n",
       "      <th>0</th>\n",
       "      <td>1.0</td>\n",
       "      <td>1970-01-01 00:00:00.020190517</td>\n",
       "      <td>-0.787392</td>\n",
       "    </tr>\n",
       "    <tr>\n",
       "      <th>1</th>\n",
       "      <td>1.0</td>\n",
       "      <td>1970-01-01 00:00:00.020190522</td>\n",
       "      <td>0.191202</td>\n",
       "    </tr>\n",
       "    <tr>\n",
       "      <th>2</th>\n",
       "      <td>1.0</td>\n",
       "      <td>1970-01-01 00:00:00.020190527</td>\n",
       "      <td>0.071704</td>\n",
       "    </tr>\n",
       "    <tr>\n",
       "      <th>3</th>\n",
       "      <td>1.0</td>\n",
       "      <td>1970-01-01 00:00:00.020190530</td>\n",
       "      <td>0.070772</td>\n",
       "    </tr>\n",
       "    <tr>\n",
       "      <th>4</th>\n",
       "      <td>1.0</td>\n",
       "      <td>1970-01-01 00:00:00.020190604</td>\n",
       "      <td>0.527603</td>\n",
       "    </tr>\n",
       "    <tr>\n",
       "      <th>...</th>\n",
       "      <td>...</td>\n",
       "      <td>...</td>\n",
       "      <td>...</td>\n",
       "    </tr>\n",
       "    <tr>\n",
       "      <th>111990</th>\n",
       "      <td>688981.0</td>\n",
       "      <td>1970-01-01 00:00:00.020210607</td>\n",
       "      <td>-0.501554</td>\n",
       "    </tr>\n",
       "    <tr>\n",
       "      <th>111991</th>\n",
       "      <td>688981.0</td>\n",
       "      <td>1970-01-01 00:00:00.020210610</td>\n",
       "      <td>-0.851593</td>\n",
       "    </tr>\n",
       "    <tr>\n",
       "      <th>111992</th>\n",
       "      <td>688981.0</td>\n",
       "      <td>1970-01-01 00:00:00.020210616</td>\n",
       "      <td>-0.662651</td>\n",
       "    </tr>\n",
       "    <tr>\n",
       "      <th>111993</th>\n",
       "      <td>688981.0</td>\n",
       "      <td>1970-01-01 00:00:00.020210621</td>\n",
       "      <td>-0.510588</td>\n",
       "    </tr>\n",
       "    <tr>\n",
       "      <th>111994</th>\n",
       "      <td>688981.0</td>\n",
       "      <td>1970-01-01 00:00:00.020210624</td>\n",
       "      <td>-0.491626</td>\n",
       "    </tr>\n",
       "  </tbody>\n",
       "</table>\n",
       "<p>476312 rows × 3 columns</p>\n",
       "</div>"
      ],
      "text/plain": [
       "          symbol                     timestamp  AlphaNet_Original_Input\n",
       "0            1.0 1970-01-01 00:00:00.020190517                -0.787392\n",
       "1            1.0 1970-01-01 00:00:00.020190522                 0.191202\n",
       "2            1.0 1970-01-01 00:00:00.020190527                 0.071704\n",
       "3            1.0 1970-01-01 00:00:00.020190530                 0.070772\n",
       "4            1.0 1970-01-01 00:00:00.020190604                 0.527603\n",
       "...          ...                           ...                      ...\n",
       "111990  688981.0 1970-01-01 00:00:00.020210607                -0.501554\n",
       "111991  688981.0 1970-01-01 00:00:00.020210610                -0.851593\n",
       "111992  688981.0 1970-01-01 00:00:00.020210616                -0.662651\n",
       "111993  688981.0 1970-01-01 00:00:00.020210621                -0.510588\n",
       "111994  688981.0 1970-01-01 00:00:00.020210624                -0.491626\n",
       "\n",
       "[476312 rows x 3 columns]"
      ]
     },
     "execution_count": 5,
     "metadata": {},
     "output_type": "execute_result"
    }
   ],
   "source": [
    "df"
   ]
  },
  {
   "cell_type": "code",
   "execution_count": 4,
   "id": "c405c748",
   "metadata": {},
   "outputs": [
    {
     "name": "stderr",
     "output_type": "stream",
     "text": [
      "100%|██████████| 5/5 [00:00<00:00, 20.20it/s]\n"
     ]
    },
    {
     "ename": "ValueError",
     "evalue": "Unknown format code 'd' for object of type 'float'",
     "output_type": "error",
     "traceback": [
      "\u001b[0;31m---------------------------------------------------------------------------\u001b[0m",
      "\u001b[0;31mValueError\u001b[0m                                Traceback (most recent call last)",
      "\u001b[0;32m<ipython-input-4-e646bc3c561c>\u001b[0m in \u001b[0;36m<module>\u001b[0;34m\u001b[0m\n\u001b[1;32m     17\u001b[0m \u001b[0mdf\u001b[0m\u001b[0;34m.\u001b[0m\u001b[0mrename\u001b[0m\u001b[0;34m(\u001b[0m\u001b[0mcolumns\u001b[0m\u001b[0;34m=\u001b[0m\u001b[0;34m{\u001b[0m\u001b[0;34m'AlphaNet'\u001b[0m\u001b[0;34m:\u001b[0m \u001b[0malpha_name\u001b[0m\u001b[0;34m}\u001b[0m\u001b[0;34m,\u001b[0m \u001b[0minplace\u001b[0m\u001b[0;34m=\u001b[0m\u001b[0;32mTrue\u001b[0m\u001b[0;34m)\u001b[0m\u001b[0;34m\u001b[0m\u001b[0;34m\u001b[0m\u001b[0m\n\u001b[1;32m     18\u001b[0m \u001b[0mdf\u001b[0m\u001b[0;34m[\u001b[0m\u001b[0;34m'timestamp'\u001b[0m\u001b[0;34m]\u001b[0m \u001b[0;34m=\u001b[0m \u001b[0mpd\u001b[0m\u001b[0;34m.\u001b[0m\u001b[0mto_datetime\u001b[0m\u001b[0;34m(\u001b[0m\u001b[0mdf\u001b[0m\u001b[0;34m[\u001b[0m\u001b[0;34m'timestamp'\u001b[0m\u001b[0;34m]\u001b[0m\u001b[0;34m)\u001b[0m\u001b[0;34m\u001b[0m\u001b[0;34m\u001b[0m\u001b[0m\n\u001b[0;32m---> 19\u001b[0;31m \u001b[0mdf\u001b[0m\u001b[0;34m[\u001b[0m\u001b[0;34m'symbol'\u001b[0m\u001b[0;34m]\u001b[0m \u001b[0;34m=\u001b[0m  \u001b[0mdf\u001b[0m\u001b[0;34m[\u001b[0m\u001b[0;34m'symbol'\u001b[0m\u001b[0;34m]\u001b[0m\u001b[0;34m.\u001b[0m\u001b[0mapply\u001b[0m\u001b[0;34m(\u001b[0m\u001b[0;32mlambda\u001b[0m \u001b[0mx\u001b[0m \u001b[0;34m:\u001b[0m \u001b[0;34m'{:0>6d}'\u001b[0m\u001b[0;34m.\u001b[0m\u001b[0mformat\u001b[0m\u001b[0;34m(\u001b[0m\u001b[0mx\u001b[0m\u001b[0;34m)\u001b[0m\u001b[0;34m)\u001b[0m\u001b[0;34m\u001b[0m\u001b[0;34m\u001b[0m\u001b[0m\n\u001b[0m\u001b[1;32m     20\u001b[0m \u001b[0mdf\u001b[0m\u001b[0;34m[\u001b[0m\u001b[0;34m'symbol'\u001b[0m\u001b[0;34m]\u001b[0m \u001b[0;34m=\u001b[0m \u001b[0mdf\u001b[0m\u001b[0;34m[\u001b[0m\u001b[0;34m'symbol'\u001b[0m\u001b[0;34m]\u001b[0m\u001b[0;34m.\u001b[0m\u001b[0mastype\u001b[0m\u001b[0;34m(\u001b[0m\u001b[0;34m'string'\u001b[0m\u001b[0;34m)\u001b[0m\u001b[0;34m\u001b[0m\u001b[0;34m\u001b[0m\u001b[0m\n\u001b[1;32m     21\u001b[0m \u001b[0mdisplay\u001b[0m\u001b[0;34m(\u001b[0m\u001b[0mdf\u001b[0m\u001b[0;34m)\u001b[0m\u001b[0;34m\u001b[0m\u001b[0;34m\u001b[0m\u001b[0m\n",
      "\u001b[0;32m~/.local/lib/python3.7/site-packages/pandas/core/series.py\u001b[0m in \u001b[0;36mapply\u001b[0;34m(self, func, convert_dtype, args, **kwargs)\u001b[0m\n\u001b[1;32m   4355\u001b[0m         \u001b[0mdtype\u001b[0m\u001b[0;34m:\u001b[0m \u001b[0mfloat64\u001b[0m\u001b[0;34m\u001b[0m\u001b[0;34m\u001b[0m\u001b[0m\n\u001b[1;32m   4356\u001b[0m         \"\"\"\n\u001b[0;32m-> 4357\u001b[0;31m         \u001b[0;32mreturn\u001b[0m \u001b[0mSeriesApply\u001b[0m\u001b[0;34m(\u001b[0m\u001b[0mself\u001b[0m\u001b[0;34m,\u001b[0m \u001b[0mfunc\u001b[0m\u001b[0;34m,\u001b[0m \u001b[0mconvert_dtype\u001b[0m\u001b[0;34m,\u001b[0m \u001b[0margs\u001b[0m\u001b[0;34m,\u001b[0m \u001b[0mkwargs\u001b[0m\u001b[0;34m)\u001b[0m\u001b[0;34m.\u001b[0m\u001b[0mapply\u001b[0m\u001b[0;34m(\u001b[0m\u001b[0;34m)\u001b[0m\u001b[0;34m\u001b[0m\u001b[0;34m\u001b[0m\u001b[0m\n\u001b[0m\u001b[1;32m   4358\u001b[0m \u001b[0;34m\u001b[0m\u001b[0m\n\u001b[1;32m   4359\u001b[0m     def _reduce(\n",
      "\u001b[0;32m~/.local/lib/python3.7/site-packages/pandas/core/apply.py\u001b[0m in \u001b[0;36mapply\u001b[0;34m(self)\u001b[0m\n\u001b[1;32m   1041\u001b[0m             \u001b[0;32mreturn\u001b[0m \u001b[0mself\u001b[0m\u001b[0;34m.\u001b[0m\u001b[0mapply_str\u001b[0m\u001b[0;34m(\u001b[0m\u001b[0;34m)\u001b[0m\u001b[0;34m\u001b[0m\u001b[0;34m\u001b[0m\u001b[0m\n\u001b[1;32m   1042\u001b[0m \u001b[0;34m\u001b[0m\u001b[0m\n\u001b[0;32m-> 1043\u001b[0;31m         \u001b[0;32mreturn\u001b[0m \u001b[0mself\u001b[0m\u001b[0;34m.\u001b[0m\u001b[0mapply_standard\u001b[0m\u001b[0;34m(\u001b[0m\u001b[0;34m)\u001b[0m\u001b[0;34m\u001b[0m\u001b[0;34m\u001b[0m\u001b[0m\n\u001b[0m\u001b[1;32m   1044\u001b[0m \u001b[0;34m\u001b[0m\u001b[0m\n\u001b[1;32m   1045\u001b[0m     \u001b[0;32mdef\u001b[0m \u001b[0magg\u001b[0m\u001b[0;34m(\u001b[0m\u001b[0mself\u001b[0m\u001b[0;34m)\u001b[0m\u001b[0;34m:\u001b[0m\u001b[0;34m\u001b[0m\u001b[0;34m\u001b[0m\u001b[0m\n",
      "\u001b[0;32m~/.local/lib/python3.7/site-packages/pandas/core/apply.py\u001b[0m in \u001b[0;36mapply_standard\u001b[0;34m(self)\u001b[0m\n\u001b[1;32m   1099\u001b[0m                     \u001b[0mvalues\u001b[0m\u001b[0;34m,\u001b[0m\u001b[0;34m\u001b[0m\u001b[0;34m\u001b[0m\u001b[0m\n\u001b[1;32m   1100\u001b[0m                     \u001b[0mf\u001b[0m\u001b[0;34m,\u001b[0m  \u001b[0;31m# type: ignore[arg-type]\u001b[0m\u001b[0;34m\u001b[0m\u001b[0;34m\u001b[0m\u001b[0m\n\u001b[0;32m-> 1101\u001b[0;31m                     \u001b[0mconvert\u001b[0m\u001b[0;34m=\u001b[0m\u001b[0mself\u001b[0m\u001b[0;34m.\u001b[0m\u001b[0mconvert_dtype\u001b[0m\u001b[0;34m,\u001b[0m\u001b[0;34m\u001b[0m\u001b[0;34m\u001b[0m\u001b[0m\n\u001b[0m\u001b[1;32m   1102\u001b[0m                 )\n\u001b[1;32m   1103\u001b[0m \u001b[0;34m\u001b[0m\u001b[0m\n",
      "\u001b[0;32m~/.local/lib/python3.7/site-packages/pandas/_libs/lib.pyx\u001b[0m in \u001b[0;36mpandas._libs.lib.map_infer\u001b[0;34m()\u001b[0m\n",
      "\u001b[0;32m<ipython-input-4-e646bc3c561c>\u001b[0m in \u001b[0;36m<lambda>\u001b[0;34m(x)\u001b[0m\n\u001b[1;32m     17\u001b[0m \u001b[0mdf\u001b[0m\u001b[0;34m.\u001b[0m\u001b[0mrename\u001b[0m\u001b[0;34m(\u001b[0m\u001b[0mcolumns\u001b[0m\u001b[0;34m=\u001b[0m\u001b[0;34m{\u001b[0m\u001b[0;34m'AlphaNet'\u001b[0m\u001b[0;34m:\u001b[0m \u001b[0malpha_name\u001b[0m\u001b[0;34m}\u001b[0m\u001b[0;34m,\u001b[0m \u001b[0minplace\u001b[0m\u001b[0;34m=\u001b[0m\u001b[0;32mTrue\u001b[0m\u001b[0;34m)\u001b[0m\u001b[0;34m\u001b[0m\u001b[0;34m\u001b[0m\u001b[0m\n\u001b[1;32m     18\u001b[0m \u001b[0mdf\u001b[0m\u001b[0;34m[\u001b[0m\u001b[0;34m'timestamp'\u001b[0m\u001b[0;34m]\u001b[0m \u001b[0;34m=\u001b[0m \u001b[0mpd\u001b[0m\u001b[0;34m.\u001b[0m\u001b[0mto_datetime\u001b[0m\u001b[0;34m(\u001b[0m\u001b[0mdf\u001b[0m\u001b[0;34m[\u001b[0m\u001b[0;34m'timestamp'\u001b[0m\u001b[0;34m]\u001b[0m\u001b[0;34m)\u001b[0m\u001b[0;34m\u001b[0m\u001b[0;34m\u001b[0m\u001b[0m\n\u001b[0;32m---> 19\u001b[0;31m \u001b[0mdf\u001b[0m\u001b[0;34m[\u001b[0m\u001b[0;34m'symbol'\u001b[0m\u001b[0;34m]\u001b[0m \u001b[0;34m=\u001b[0m  \u001b[0mdf\u001b[0m\u001b[0;34m[\u001b[0m\u001b[0;34m'symbol'\u001b[0m\u001b[0;34m]\u001b[0m\u001b[0;34m.\u001b[0m\u001b[0mapply\u001b[0m\u001b[0;34m(\u001b[0m\u001b[0;32mlambda\u001b[0m \u001b[0mx\u001b[0m \u001b[0;34m:\u001b[0m \u001b[0;34m'{:0>6d}'\u001b[0m\u001b[0;34m.\u001b[0m\u001b[0mformat\u001b[0m\u001b[0;34m(\u001b[0m\u001b[0mx\u001b[0m\u001b[0;34m)\u001b[0m\u001b[0;34m)\u001b[0m\u001b[0;34m\u001b[0m\u001b[0;34m\u001b[0m\u001b[0m\n\u001b[0m\u001b[1;32m     20\u001b[0m \u001b[0mdf\u001b[0m\u001b[0;34m[\u001b[0m\u001b[0;34m'symbol'\u001b[0m\u001b[0;34m]\u001b[0m \u001b[0;34m=\u001b[0m \u001b[0mdf\u001b[0m\u001b[0;34m[\u001b[0m\u001b[0;34m'symbol'\u001b[0m\u001b[0;34m]\u001b[0m\u001b[0;34m.\u001b[0m\u001b[0mastype\u001b[0m\u001b[0;34m(\u001b[0m\u001b[0;34m'string'\u001b[0m\u001b[0;34m)\u001b[0m\u001b[0;34m\u001b[0m\u001b[0;34m\u001b[0m\u001b[0m\n\u001b[1;32m     21\u001b[0m \u001b[0mdisplay\u001b[0m\u001b[0;34m(\u001b[0m\u001b[0mdf\u001b[0m\u001b[0;34m)\u001b[0m\u001b[0;34m\u001b[0m\u001b[0;34m\u001b[0m\u001b[0m\n",
      "\u001b[0;31mValueError\u001b[0m: Unknown format code 'd' for object of type 'float'"
     ]
    }
   ],
   "source": [
    "# 生成标准数据\n",
    "\n",
    "\n",
    "from os import walk\n",
    "import pandas as pd\n",
    "import numpy as np\n",
    "import torch\n",
    "import torch.nn as nn\n",
    "from progressbar import ProgressBar\n",
    "from tqdm import tqdm\n",
    "df = pd.DataFrame()\n",
    "\n",
    "\n",
    "for f, _, i in walk(path):\n",
    "    for j in tqdm(i):\n",
    "        df = pd.concat([df,pd.read_csv(f + \"/\" + j)],axis=0)\n",
    "df.rename(columns={'AlphaNet': alpha_name}, inplace=True)\n",
    "df['timestamp'] = pd.to_datetime(df['timestamp'])\n",
    "df['symbol'] =  df['symbol'].apply(lambda x : '{:0>6d}'.format(x))\n",
    "df['symbol'] = df['symbol'].astype('string')\n",
    "display(df)\n",
    "# output\n",
    "\n",
    "convert_to_standard_daily_feature_csv(alpha_name, df, output_path)"
   ]
  },
  {
   "cell_type": "code",
   "execution_count": 6,
   "id": "554a6a58",
   "metadata": {},
   "outputs": [
    {
     "name": "stdout",
     "output_type": "stream",
     "text": [
      "Loading the configuration from /home/ShareFolder/lgc/Modules/Research/config/feature_bt_template\n"
     ]
    },
    {
     "name": "stderr",
     "output_type": "stream",
     "text": [
      "Loading Feature...: 100%|██████████████████████████████████████████████████████████████████████████████████████████| 766/766 [00:00<00:00, 786.86it/s]\n",
      "Loading target...: 100%|███████████████████████████████████████████████████████████████████████████████████████████| 766/766 [00:02<00:00, 296.26it/s]\n",
      "Merging feature and return...: 100%|███████████████████████████████████████████████████████████████████████████████| 766/766 [00:01<00:00, 434.81it/s]\n",
      "Calculating IC value...: 100%|█████████████████████████████████████████████████████████████████████████████████████| 344/344 [00:01<00:00, 226.38it/s]\n",
      "Calculating IC value...: 100%|█████████████████████████████████████████████████████████████████████████████████████| 344/344 [00:00<00:00, 713.91it/s]\n"
     ]
    },
    {
     "name": "stdout",
     "output_type": "stream",
     "text": [
      "\n",
      "IC table for feature \"AlphaNet_1130\" (mean std IR):\n",
      "+-------------------+------------------+------------------+------------------+------------------+------------------+\n",
      "|      period       |  IC_AlphaNet_1d  |  IC_AlphaNet_2d  |  IC_AlphaNet_3d  |  IC_AlphaNet_4d  |  IC_AlphaNet_5d  |\n",
      "+===================+==================+==================+==================+==================+==================+\n",
      "| 20190516-20191031 |  3.94 5.88 0.67  |  4.99 5.35 0.93  |  5.37 5.29 1.02  |  5.51 5.18 1.06  |  5.21 5.29 0.98  |\n",
      "+-------------------+------------------+------------------+------------------+------------------+------------------+\n",
      "| 20191101-20200430 |  4.07 7.76 0.52  |  5.23 7.30 0.72  |  6.40 6.52 0.98  |  7.32 6.63 1.10  |  8.05 6.06 1.33  |\n",
      "+-------------------+------------------+------------------+------------------+------------------+------------------+\n",
      "| 20200501-20201031 |  2.88 6.11 0.47  |  4.24 6.42 0.66  |  4.60 5.88 0.78  |  4.96 5.53 0.90  |  5.62 5.28 1.06  |\n",
      "+-------------------+------------------+------------------+------------------+------------------+------------------+\n",
      "| 20201101-20210430 |  2.64 5.67 0.47  |  3.36 5.33 0.63  |  4.14 5.46 0.76  |  4.36 5.28 0.83  |  4.12 5.83 0.71  |\n",
      "+-------------------+------------------+------------------+------------------+------------------+------------------+\n",
      "\n",
      "IC summary for feature \"AlphaNet_1130\":\n",
      "+-------------------+------------------+------------------+------------------+------------------+------------------+\n",
      "|      period       |  IC_AlphaNet_1d  |  IC_AlphaNet_2d  |  IC_AlphaNet_3d  |  IC_AlphaNet_4d  |  IC_AlphaNet_5d  |\n",
      "+===================+==================+==================+==================+==================+==================+\n",
      "| 20190516-20210301 |  3.44 6.42 0.54  |  4.54 6.21 0.73  |  5.17 5.85 0.88  |  5.58 5.76 0.97  |  5.81 5.73 1.01  |\n",
      "+-------------------+------------------+------------------+------------------+------------------+------------------+\n"
     ]
    },
    {
     "name": "stderr",
     "output_type": "stream",
     "text": [
      "Getting BT result for date: 20210301...: 100%|█████████████████████████████████████████████████████████████████████| 766/766 [00:07<00:00, 100.98it/s]\n"
     ]
    },
    {
     "name": "stdout",
     "output_type": "stream",
     "text": [
      "\n",
      "AlphaNet_1130 back-test result for long-short mode:\n",
      "\n",
      "Back test summary: \"long-short\" mode\n",
      "+-------------------+-------------+----------+-----------+------------+----------+-------------+--------------------------+-------------------+------------+\n",
      "|      period       |  stock_num  |  return  |  ret_std  |  ret_year  |  sharpe  |  win_ratio  |      max_dd|period       |  max_dd_day|date  |  turnover  |\n",
      "+===================+=============+==========+===========+============+==========+=============+==========================+===================+============+\n",
      "| 20180102-20180630 |      0      |   0.00   |   0.00    |    0.00    |   nan    |   100.00    | 0.00(None    -None    )  |  0.00(None    )   |    0.00    |\n",
      "+-------------------+-------------+----------+-----------+------------+----------+-------------+--------------------------+-------------------+------------+\n",
      "| 20180701-20181231 |      0      |   0.00   |   0.00    |    0.00    |   nan    |   100.00    | 0.00(None    -None    )  |  0.00(None    )   |    0.00    |\n",
      "+-------------------+-------------+----------+-----------+------------+----------+-------------+--------------------------+-------------------+------------+\n",
      "| 20190101-20190630 |     206     |  13.54   |   12.16   |   29.62    |   2.25   |    90.60    | 3.49(20190606-20190611)  |  2.67(20190611)   |   50.16    |\n",
      "+-------------------+-------------+----------+-----------+------------+----------+-------------+--------------------------+-------------------+------------+\n",
      "| 20190701-20191231 |     203     |  20.22   |   20.29   |   42.23    |   1.79   |    52.80    | 10.29(20190809-20190909) |  3.69(20190819)   |   150.29   |\n",
      "+-------------------+-------------+----------+-----------+------------+----------+-------------+--------------------------+-------------------+------------+\n",
      "| 20200101-20200630 |     203     |  24.95   |   29.82   |   58.21    |   1.67   |    51.72    | 14.37(20200203-20200225) |  3.34(20200407)   |   144.57   |\n",
      "+-------------------+-------------+----------+-----------+------------+----------+-------------+--------------------------+-------------------+------------+\n",
      "| 20200701-20201231 |     210     |   1.75   |   28.27   |    3.38    |   0.13   |    50.40    | 15.76(20200701-20200713) |  5.30(20200706)   |   150.68   |\n",
      "+-------------------+-------------+----------+-----------+------------+----------+-------------+--------------------------+-------------------+------------+\n",
      "| 20210101-20210301 |     223     |  14.41   |   23.22   |   146.24   |   4.10   |    48.57    | 4.74(20210205-20210222)  |  2.16(20210301)   |   196.91   |\n",
      "+-------------------+-------------+----------+-----------+------------+----------+-------------+--------------------------+-------------------+------------+\n"
     ]
    }
   ],
   "source": [
    "import time\n",
    "from Research.backtest.bt import BTDaily\n",
    "from Research.feature.ft import FeatureAnalysis\n",
    "import Research.utils.namespace as namespace\n",
    "import Research.utils.normalization as norm\n",
    "import numpy as np\n",
    " \n",
    "config_path = r'/home/ShareFolder/lgc/Modules/Research/config/feature_bt_template'\n",
    "print('Loading the configuration from ' + config_path)\n",
    "configs = namespace.load_namespace(config_path)\n",
    "FT = FeatureAnalysis(configs, feature_path=r\"/home/wuwenjun/factor_lib\")\n",
    "\n",
    "\n",
    "alpha_list = list(FT.features_in_path.keys())\n",
    "start_date = '2018-01-01'\n",
    "end_date = '2021-03-02'\n",
    "FT.load_feature_from_file(alpha_list, start_date, end_date, universe='Investable',\n",
    "                                       timedelta=None, transformer=norm.standard_scale)\n",
    "FT.load_return_data()\n",
    "\n",
    "for alpha_name in alpha_list:\n",
    "    FT.get_intersection_ic(feature_name=alpha_name, truncate_fold=None, method='spearman',\n",
    "                                     period=('1d', '3d', '5d'))\n",
    "    ic_flag, trading_direction = FT.test_ic(alpha_name, verbose=False)\n",
    "    df, df_all = FT.get_ic_summary_by_month(num=6)\n",
    "    if trading_direction == -1:\n",
    "        negative = True\n",
    "    else:\n",
    "        negative = False\n",
    "    FT.get_top_return(alpha_name, negative=negative, trade_type='long-short', transmission_rate=0.0,\n",
    "                            tax_rate=0.0, verbose=True)"
   ]
  }
 ],
 "metadata": {
  "kernelspec": {
   "display_name": "Python 3 (ipykernel)",
   "language": "python",
   "name": "python3"
  },
  "language_info": {
   "codemirror_mode": {
    "name": "ipython",
    "version": 3
   },
   "file_extension": ".py",
   "mimetype": "text/x-python",
   "name": "python",
   "nbconvert_exporter": "python",
   "pygments_lexer": "ipython3",
   "version": "3.7.9"
  }
 },
 "nbformat": 4,
 "nbformat_minor": 5
}
