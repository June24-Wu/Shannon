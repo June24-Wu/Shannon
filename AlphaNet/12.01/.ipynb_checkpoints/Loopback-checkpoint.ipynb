{
 "cells": [
  {
   "cell_type": "code",
   "execution_count": 1,
   "id": "a4ea4cbc",
   "metadata": {},
   "outputs": [],
   "source": [
    "alpha_name = \"AlphaNet_Original_Input\"\n",
    "path = \"/home/wuwenjun/Alpha_Factor/AlphaNetV1_Original_Input\"\n",
    "output_path = r'/home/wuwenjun/factor_lib/ti0/wuwenjun'"
   ]
  },
  {
   "cell_type": "code",
   "execution_count": 2,
   "id": "18d19452",
   "metadata": {},
   "outputs": [],
   "source": [
    "import time\n",
    "from Research.backtest.bt import BTDaily\n",
    "from Research.feature.ft import FeatureAnalysis\n",
    "import Research.utils.namespace as namespace\n",
    "import Research.utils.normalization as norm\n",
    "from Platform.database.mysql import MysqlAPI\n",
    "from Platform.utils.persistence import convert_to_standard_daily_feature_csv, convert_to_standard_daily_feature_par\n",
    "from Platform.config.mysql_info import FACTOR_LIB_MYSQL_TIO\n",
    "import numpy as np"
   ]
  },
  {
   "cell_type": "code",
   "execution_count": 7,
   "id": "c405c748",
   "metadata": {},
   "outputs": [
    {
     "name": "stderr",
     "output_type": "stream",
     "text": [
      "100%|██████████| 5/5 [00:00<00:00, 12.86it/s]\n"
     ]
    },
    {
     "data": {
      "text/html": [
       "<div>\n",
       "<style scoped>\n",
       "    .dataframe tbody tr th:only-of-type {\n",
       "        vertical-align: middle;\n",
       "    }\n",
       "\n",
       "    .dataframe tbody tr th {\n",
       "        vertical-align: top;\n",
       "    }\n",
       "\n",
       "    .dataframe thead th {\n",
       "        text-align: right;\n",
       "    }\n",
       "</style>\n",
       "<table border=\"1\" class=\"dataframe\">\n",
       "  <thead>\n",
       "    <tr style=\"text-align: right;\">\n",
       "      <th></th>\n",
       "      <th>symbol</th>\n",
       "      <th>timestamp</th>\n",
       "      <th>AlphaNet_Original_Input</th>\n",
       "    </tr>\n",
       "  </thead>\n",
       "  <tbody>\n",
       "    <tr>\n",
       "      <th>0</th>\n",
       "      <td>000001</td>\n",
       "      <td>2019-05-16 09:30:00</td>\n",
       "      <td>-0.012189</td>\n",
       "    </tr>\n",
       "    <tr>\n",
       "      <th>1</th>\n",
       "      <td>000001</td>\n",
       "      <td>2019-05-21 09:30:00</td>\n",
       "      <td>-0.012623</td>\n",
       "    </tr>\n",
       "    <tr>\n",
       "      <th>2</th>\n",
       "      <td>000001</td>\n",
       "      <td>2019-05-24 09:30:00</td>\n",
       "      <td>0.017195</td>\n",
       "    </tr>\n",
       "    <tr>\n",
       "      <th>3</th>\n",
       "      <td>000001</td>\n",
       "      <td>2019-05-29 09:30:00</td>\n",
       "      <td>-0.033453</td>\n",
       "    </tr>\n",
       "    <tr>\n",
       "      <th>4</th>\n",
       "      <td>000001</td>\n",
       "      <td>2019-06-03 09:30:00</td>\n",
       "      <td>-0.001300</td>\n",
       "    </tr>\n",
       "    <tr>\n",
       "      <th>...</th>\n",
       "      <td>...</td>\n",
       "      <td>...</td>\n",
       "      <td>...</td>\n",
       "    </tr>\n",
       "    <tr>\n",
       "      <th>115640</th>\n",
       "      <td>601399</td>\n",
       "      <td>2021-06-28 09:30:00</td>\n",
       "      <td>0.043495</td>\n",
       "    </tr>\n",
       "    <tr>\n",
       "      <th>115641</th>\n",
       "      <td>000408</td>\n",
       "      <td>2021-06-24 09:30:00</td>\n",
       "      <td>-0.003002</td>\n",
       "    </tr>\n",
       "    <tr>\n",
       "      <th>115642</th>\n",
       "      <td>600080</td>\n",
       "      <td>2021-06-24 09:30:00</td>\n",
       "      <td>-0.002599</td>\n",
       "    </tr>\n",
       "    <tr>\n",
       "      <th>115643</th>\n",
       "      <td>600877</td>\n",
       "      <td>2021-06-25 09:30:00</td>\n",
       "      <td>-0.002531</td>\n",
       "    </tr>\n",
       "    <tr>\n",
       "      <th>115644</th>\n",
       "      <td>603389</td>\n",
       "      <td>2021-06-25 09:30:00</td>\n",
       "      <td>-0.009664</td>\n",
       "    </tr>\n",
       "  </tbody>\n",
       "</table>\n",
       "<p>483461 rows × 3 columns</p>\n",
       "</div>"
      ],
      "text/plain": [
       "        symbol           timestamp  AlphaNet_Original_Input\n",
       "0       000001 2019-05-16 09:30:00                -0.012189\n",
       "1       000001 2019-05-21 09:30:00                -0.012623\n",
       "2       000001 2019-05-24 09:30:00                 0.017195\n",
       "3       000001 2019-05-29 09:30:00                -0.033453\n",
       "4       000001 2019-06-03 09:30:00                -0.001300\n",
       "...        ...                 ...                      ...\n",
       "115640  601399 2021-06-28 09:30:00                 0.043495\n",
       "115641  000408 2021-06-24 09:30:00                -0.003002\n",
       "115642  600080 2021-06-24 09:30:00                -0.002599\n",
       "115643  600877 2021-06-25 09:30:00                -0.002531\n",
       "115644  603389 2021-06-25 09:30:00                -0.009664\n",
       "\n",
       "[483461 rows x 3 columns]"
      ]
     },
     "metadata": {},
     "output_type": "display_data"
    }
   ],
   "source": [
    "# 生成标准数据\n",
    "\n",
    "\n",
    "from os import walk\n",
    "import pandas as pd\n",
    "import numpy as np\n",
    "import torch\n",
    "import torch.nn as nn\n",
    "from progressbar import ProgressBar\n",
    "from tqdm import tqdm\n",
    "df = pd.DataFrame()\n",
    "\n",
    "\n",
    "for f, _, i in walk(path):\n",
    "    for j in tqdm(i):\n",
    "        df = pd.concat([df,pd.read_csv(f + \"/\" + j)],axis=0)\n",
    "df.rename(columns={'AlphaNet': alpha_name}, inplace=True)\n",
    "df['timestamp'] = df['timestamp'].astype(str)\n",
    "# df['timestamp'] = df['timestamp'].astype(int).astype(str)\n",
    "df['symbol'] = df['symbol'].astype(int)\n",
    "df['symbol'] =  df['symbol'].apply(lambda x : '{:0>6d}'.format(x))\n",
    "df['symbol'] = df['symbol'].astype('string')\n",
    "df['timestamp'] = pd.to_datetime(df['timestamp'])\n",
    "display(df)\n",
    "# output\n",
    "\n",
    "convert_to_standard_daily_feature_csv(alpha_name, df, output_path)"
   ]
  },
  {
   "cell_type": "code",
   "execution_count": 6,
   "id": "554a6a58",
   "metadata": {},
   "outputs": [
    {
     "name": "stdout",
     "output_type": "stream",
     "text": [
      "Loading the configuration from /home/ShareFolder/lgc/Modules/Research/config/feature_bt_template\n"
     ]
    },
    {
     "name": "stderr",
     "output_type": "stream",
     "text": [
      "Loading Feature...: 100%|████████████████████████████████████████████████████████████████████████████████████████| 1532/1532 [00:04<00:00, 330.17it/s]\n"
     ]
    },
    {
     "ename": "InvalidIndexError",
     "evalue": "Reindexing only valid with uniquely valued Index objects",
     "output_type": "error",
     "traceback": [
      "\u001b[0;31m---------------------------------------------------------------------------\u001b[0m",
      "\u001b[0;31mRemoteTraceback\u001b[0m                           Traceback (most recent call last)",
      "\u001b[0;31mRemoteTraceback\u001b[0m: \n\"\"\"\nTraceback (most recent call last):\n  File \"/usr/local/miniconda/lib/python3.7/multiprocessing/pool.py\", line 121, in worker\n    result = (True, func(*args, **kwds))\n  File \"/home/ShareFolder/lgc/Modules/Research/feature/ft.py\", line 1325, in _merge\n    df = pd.concat(df_list, copy=False, axis=1, sort=False)\n  File \"/home/wuwenjun/.local/lib/python3.7/site-packages/pandas/core/reshape/concat.py\", line 298, in concat\n    return op.get_result()\n  File \"/home/wuwenjun/.local/lib/python3.7/site-packages/pandas/core/reshape/concat.py\", line 516, in get_result\n    indexers[ax] = obj_labels.get_indexer(new_labels)\n  File \"/home/wuwenjun/.local/lib/python3.7/site-packages/pandas/core/indexes/base.py\", line 3173, in get_indexer\n    \"Reindexing only valid with uniquely valued Index objects\"\npandas.errors.InvalidIndexError: Reindexing only valid with uniquely valued Index objects\n\"\"\"",
      "\nThe above exception was the direct cause of the following exception:\n",
      "\u001b[0;31mInvalidIndexError\u001b[0m                         Traceback (most recent call last)",
      "\u001b[0;32m<ipython-input-6-99dc2c788bd2>\u001b[0m in \u001b[0;36m<module>\u001b[0;34m\u001b[0m\n\u001b[1;32m     15\u001b[0m \u001b[0mend_date\u001b[0m \u001b[0;34m=\u001b[0m \u001b[0;34m'2021-03-02'\u001b[0m\u001b[0;34m\u001b[0m\u001b[0;34m\u001b[0m\u001b[0m\n\u001b[1;32m     16\u001b[0m FT.load_feature_from_file(alpha_list, start_date, end_date, universe='Investable',\n\u001b[0;32m---> 17\u001b[0;31m                                        timedelta=None, transformer=norm.standard_scale)\n\u001b[0m\u001b[1;32m     18\u001b[0m \u001b[0mFT\u001b[0m\u001b[0;34m.\u001b[0m\u001b[0mload_return_data\u001b[0m\u001b[0;34m(\u001b[0m\u001b[0;34m)\u001b[0m\u001b[0;34m\u001b[0m\u001b[0;34m\u001b[0m\u001b[0m\n\u001b[1;32m     19\u001b[0m \u001b[0;34m\u001b[0m\u001b[0m\n",
      "\u001b[0;32m/home/ShareFolder/lgc/Modules/Research/feature/ft.py\u001b[0m in \u001b[0;36mload_feature_from_file\u001b[0;34m(self, feature_names, start_time, end_time, universe, timedelta, transformer, cover_rate, check_timestamp)\u001b[0m\n\u001b[1;32m    269\u001b[0m                                                          \u001b[0mhandler\u001b[0m\u001b[0;34m=\u001b[0m\u001b[0mhandler\u001b[0m\u001b[0;34m,\u001b[0m \u001b[0mtime_delta\u001b[0m\u001b[0;34m=\u001b[0m\u001b[0mtimedelta\u001b[0m\u001b[0;34m,\u001b[0m \u001b[0mtransformer\u001b[0m\u001b[0;34m=\u001b[0m\u001b[0mtransformer\u001b[0m\u001b[0;34m,\u001b[0m\u001b[0;34m\u001b[0m\u001b[0;34m\u001b[0m\u001b[0m\n\u001b[1;32m    270\u001b[0m                                                          \u001b[0mcover_rate\u001b[0m\u001b[0;34m=\u001b[0m\u001b[0mcover_rate\u001b[0m\u001b[0;34m,\u001b[0m\u001b[0;34m\u001b[0m\u001b[0;34m\u001b[0m\u001b[0m\n\u001b[0;32m--> 271\u001b[0;31m                                                          missing_file_allowed=missing_file_allowed)\n\u001b[0m\u001b[1;32m    272\u001b[0m         \u001b[0mself\u001b[0m\u001b[0;34m.\u001b[0m\u001b[0mfeature_data\u001b[0m \u001b[0;34m=\u001b[0m\u001b[0;31m \u001b[0m\u001b[0;31m\\\u001b[0m\u001b[0;34m\u001b[0m\u001b[0;34m\u001b[0m\u001b[0m\n\u001b[1;32m    273\u001b[0m             self.feature_data.loc[(self.feature_data.index.get_level_values(0) >= pd.Timestamp(start_time)) &\n",
      "\u001b[0;32m/home/ShareFolder/lgc/Modules/Research/feature/ft.py\u001b[0m in \u001b[0;36mread_files_filter\u001b[0;34m(path_list, universe, pool, scope, handler, time_delta, transformer, cover_rate, missing_file_allowed)\u001b[0m\n\u001b[1;32m   1397\u001b[0m                 \u001b[0;32mwhile\u001b[0m \u001b[0mindex\u001b[0m\u001b[0;34m:\u001b[0m\u001b[0;34m\u001b[0m\u001b[0;34m\u001b[0m\u001b[0m\n\u001b[1;32m   1398\u001b[0m                     \u001b[0mout_index\u001b[0m \u001b[0;34m=\u001b[0m \u001b[0mindex\u001b[0m\u001b[0;34m.\u001b[0m\u001b[0mpop\u001b[0m\u001b[0;34m(\u001b[0m\u001b[0;36m0\u001b[0m\u001b[0;34m)\u001b[0m \u001b[0;34m-\u001b[0m \u001b[0mcount\u001b[0m\u001b[0;34m\u001b[0m\u001b[0;34m\u001b[0m\u001b[0m\n\u001b[0;32m-> 1399\u001b[0;31m                     \u001b[0mdf\u001b[0m \u001b[0;34m=\u001b[0m \u001b[0mresult_list\u001b[0m\u001b[0;34m[\u001b[0m\u001b[0mout_index\u001b[0m\u001b[0;34m]\u001b[0m\u001b[0;34m.\u001b[0m\u001b[0mget\u001b[0m\u001b[0;34m(\u001b[0m\u001b[0;34m)\u001b[0m\u001b[0;34m\u001b[0m\u001b[0;34m\u001b[0m\u001b[0m\n\u001b[0m\u001b[1;32m   1400\u001b[0m                     \u001b[0mdf_list\u001b[0m\u001b[0;34m.\u001b[0m\u001b[0mappend\u001b[0m\u001b[0;34m(\u001b[0m\u001b[0mdf\u001b[0m\u001b[0;34m)\u001b[0m\u001b[0;34m\u001b[0m\u001b[0;34m\u001b[0m\u001b[0m\n\u001b[1;32m   1401\u001b[0m                     \u001b[0mresult_list\u001b[0m\u001b[0;34m.\u001b[0m\u001b[0mpop\u001b[0m\u001b[0;34m(\u001b[0m\u001b[0mout_index\u001b[0m\u001b[0;34m)\u001b[0m\u001b[0;34m\u001b[0m\u001b[0;34m\u001b[0m\u001b[0m\n",
      "\u001b[0;32m/usr/local/miniconda/lib/python3.7/multiprocessing/pool.py\u001b[0m in \u001b[0;36mget\u001b[0;34m(self, timeout)\u001b[0m\n\u001b[1;32m    655\u001b[0m             \u001b[0;32mreturn\u001b[0m \u001b[0mself\u001b[0m\u001b[0;34m.\u001b[0m\u001b[0m_value\u001b[0m\u001b[0;34m\u001b[0m\u001b[0;34m\u001b[0m\u001b[0m\n\u001b[1;32m    656\u001b[0m         \u001b[0;32melse\u001b[0m\u001b[0;34m:\u001b[0m\u001b[0;34m\u001b[0m\u001b[0;34m\u001b[0m\u001b[0m\n\u001b[0;32m--> 657\u001b[0;31m             \u001b[0;32mraise\u001b[0m \u001b[0mself\u001b[0m\u001b[0;34m.\u001b[0m\u001b[0m_value\u001b[0m\u001b[0;34m\u001b[0m\u001b[0;34m\u001b[0m\u001b[0m\n\u001b[0m\u001b[1;32m    658\u001b[0m \u001b[0;34m\u001b[0m\u001b[0m\n\u001b[1;32m    659\u001b[0m     \u001b[0;32mdef\u001b[0m \u001b[0m_set\u001b[0m\u001b[0;34m(\u001b[0m\u001b[0mself\u001b[0m\u001b[0;34m,\u001b[0m \u001b[0mi\u001b[0m\u001b[0;34m,\u001b[0m \u001b[0mobj\u001b[0m\u001b[0;34m)\u001b[0m\u001b[0;34m:\u001b[0m\u001b[0;34m\u001b[0m\u001b[0;34m\u001b[0m\u001b[0m\n",
      "\u001b[0;31mInvalidIndexError\u001b[0m: Reindexing only valid with uniquely valued Index objects"
     ]
    }
   ],
   "source": [
    "import time\n",
    "from Research.backtest.bt import BTDaily\n",
    "from Research.feature.ft import FeatureAnalysis\n",
    "import Research.utils.namespace as namespace\n",
    "import Research.utils.normalization as norm\n",
    "import numpy as np\n",
    " \n",
    "config_path = r'/home/ShareFolder/lgc/Modules/Research/config/feature_bt_template'\n",
    "print('Loading the configuration from ' + config_path)\n",
    "configs = namespace.load_namespace(config_path)\n",
    "FT = FeatureAnalysis(configs, feature_path=r\"/home/wuwenjun/factor_lib\")\n",
    "\n",
    "alpha_list = list(FT.features_in_path.keys())\n",
    "start_date = '2018-01-01'\n",
    "end_date = '2021-03-02'\n",
    "FT.load_feature_from_file(alpha_list, start_date, end_date, universe='Investable',\n",
    "                                       timedelta=None, transformer=norm.standard_scale)\n",
    "FT.load_return_data()\n",
    "\n",
    "for alpha_name in alpha_list:\n",
    "    FT.get_intersection_ic(feature_name=alpha_name, truncate_fold=None, method='spearman',\n",
    "                                     period=('1d', '3d', '5d'))\n",
    "    ic_flag, trading_direction = FT.test_ic(alpha_name, verbose=False)\n",
    "    df, df_all = FT.get_ic_summary_by_month(num=6)\n",
    "    if trading_direction == -1:\n",
    "        negative = True\n",
    "    else:\n",
    "        negative = False\n",
    "    FT.get_top_return(alpha_name, negative=negative, trade_type='long-short', transmission_rate=0.0,\n",
    "                            tax_rate=0.0, verbose=True)"
   ]
  },
  {
   "cell_type": "code",
   "execution_count": 5,
   "id": "f45bb5cc",
   "metadata": {},
   "outputs": [
    {
     "name": "stdout",
     "output_type": "stream",
     "text": [
      "Loading the configuration from /home/ShareFolder/lgc/Modules/Research/config/feature_bt_template\n"
     ]
    },
    {
     "name": "stderr",
     "output_type": "stream",
     "text": [
      "Loading Feature...: 100%|██████████████████████████████████████████████████████████████████████████████████████████| 604/604 [00:01<00:00, 371.44it/s]\n",
      "Loading target...: 100%|███████████████████████████████████████████████████████████████████████████████████████████| 604/604 [00:02<00:00, 208.89it/s]\n",
      "Merging feature and return...: 100%|███████████████████████████████████████████████████████████████████████████████| 604/604 [00:03<00:00, 160.71it/s]\n",
      "Calculating IC value...: 100%|█████████████████████████████████████████████████████████████████████████████████████| 485/485 [00:03<00:00, 122.01it/s]\n",
      "Calculating IC value...: 100%|█████████████████████████████████████████████████████████████████████████████████████| 485/485 [00:00<00:00, 638.69it/s]\n",
      "Getting BT result for date: 20190515...:  14%|██████████▏                                                            | 87/604 [00:01<00:08, 62.22it/s]\n"
     ]
    },
    {
     "ename": "ValueError",
     "evalue": "operands could not be broadcast together with shapes (1122,) (1677,) ",
     "output_type": "error",
     "traceback": [
      "\u001b[0;31m---------------------------------------------------------------------------\u001b[0m",
      "\u001b[0;31mValueError\u001b[0m                                Traceback (most recent call last)",
      "\u001b[0;32m<ipython-input-5-74538ddbd296>\u001b[0m in \u001b[0;36m<module>\u001b[0;34m\u001b[0m\n\u001b[1;32m     29\u001b[0m \u001b[0;31m#         negative = False\u001b[0m\u001b[0;34m\u001b[0m\u001b[0;34m\u001b[0m\u001b[0;34m\u001b[0m\u001b[0m\n\u001b[1;32m     30\u001b[0m FT.get_top_return('AlphaNet_1130', negative=True, trade_type='long-short', transmission_rate=0.0,\n\u001b[0;32m---> 31\u001b[0;31m                             tax_rate=0.0, verbose=True)\n\u001b[0m",
      "\u001b[0;32m/home/ShareFolder/lgc/Modules/Research/feature/ft.py\u001b[0m in \u001b[0;36mget_top_return\u001b[0;34m(self, feature_name, negative, trade_type, stock_pct, transmission_rate, tax_rate, period, weight, verbose, **kwargs)\u001b[0m\n\u001b[1;32m    652\u001b[0m         \u001b[0mbt\u001b[0m\u001b[0;34m.\u001b[0m\u001b[0mfeed_data\u001b[0m\u001b[0;34m(\u001b[0m\u001b[0mdf\u001b[0m\u001b[0;34m)\u001b[0m\u001b[0;34m\u001b[0m\u001b[0;34m\u001b[0m\u001b[0m\n\u001b[1;32m    653\u001b[0m         \u001b[0;31m# bt.run_feature(start_num=start_num, end_num=end_num, mode=mode)\u001b[0m\u001b[0;34m\u001b[0m\u001b[0;34m\u001b[0m\u001b[0;34m\u001b[0m\u001b[0m\n\u001b[0;32m--> 654\u001b[0;31m         \u001b[0mbt\u001b[0m\u001b[0;34m.\u001b[0m\u001b[0mrun\u001b[0m\u001b[0;34m(\u001b[0m\u001b[0;34m)\u001b[0m\u001b[0;34m\u001b[0m\u001b[0;34m\u001b[0m\u001b[0m\n\u001b[0m\u001b[1;32m    655\u001b[0m \u001b[0;34m\u001b[0m\u001b[0m\n\u001b[1;32m    656\u001b[0m         \u001b[0;32mif\u001b[0m \u001b[0mverbose\u001b[0m\u001b[0;34m:\u001b[0m\u001b[0;34m\u001b[0m\u001b[0;34m\u001b[0m\u001b[0m\n",
      "\u001b[0;32m/home/ShareFolder/lgc/Modules/Research/backtest/bt.pyc\u001b[0m in \u001b[0;36mrun\u001b[0;34m(self)\u001b[0m\n",
      "\u001b[0;32m/home/ShareFolder/lgc/Modules/Research/backtest/bt.pyc\u001b[0m in \u001b[0;36mrun_intersect_long_short\u001b[0;34m(self)\u001b[0m\n",
      "\u001b[0;31mValueError\u001b[0m: operands could not be broadcast together with shapes (1122,) (1677,) "
     ]
    }
   ],
   "source": [
    "import time\n",
    "from Research.backtest.bt import BTDaily\n",
    "from Research.feature.ft import FeatureAnalysis\n",
    "import Research.utils.namespace as namespace\n",
    "import Research.utils.normalization as norm\n",
    "import numpy as np\n",
    " \n",
    "config_path = r'/home/ShareFolder/lgc/Modules/Research/config/feature_bt_template'\n",
    "print('Loading the configuration from ' + config_path)\n",
    "configs = namespace.load_namespace(config_path)\n",
    "FT = FeatureAnalysis(configs, feature_path=r\"/home/wuwenjun/factor_lib\")\n",
    "\n",
    "# alpha_list = list(FT.features_in_path.keys())[0]\n",
    "# print(alpha_list)\n",
    "start_date = '2019-01-01'\n",
    "end_date = '2021-06-30'\n",
    "FT.load_feature_from_file('AlphaNet_1130', start_date, end_date, universe='Investable',\n",
    "                                       timedelta=None, transformer=norm.standard_scale)\n",
    "FT.load_return_data()\n",
    "\n",
    "# for alpha_name in alpha_list:\n",
    "FT.get_intersection_ic(feature_name='AlphaNet_1130', truncate_fold=None, method='spearman',\n",
    "                                 period=('1d', '3d', '5d'))\n",
    "ic_flag, trading_direction = FT.test_ic(alpha_name, verbose=False)\n",
    "# df, df_all = FT.get_ic_summary_by_month(num=6)\n",
    "#     if trading_direction == -1:\n",
    "#         negative = True\n",
    "#     else:\n",
    "#         negative = False\n",
    "FT.get_top_return('AlphaNet_1130', negative=True, trade_type='long-short', transmission_rate=0.0,\n",
    "                            tax_rate=0.0, verbose=True)"
   ]
  },
  {
   "cell_type": "code",
   "execution_count": null,
   "id": "ace7d07e",
   "metadata": {},
   "outputs": [],
   "source": [
    "FT.data_info"
   ]
  }
 ],
 "metadata": {
  "kernelspec": {
   "display_name": "Python 3 (ipykernel)",
   "language": "python",
   "name": "python3"
  },
  "language_info": {
   "codemirror_mode": {
    "name": "ipython",
    "version": 3
   },
   "file_extension": ".py",
   "mimetype": "text/x-python",
   "name": "python",
   "nbconvert_exporter": "python",
   "pygments_lexer": "ipython3",
   "version": "3.7.9"
  }
 },
 "nbformat": 4,
 "nbformat_minor": 5
}
