{
 "cells": [
  {
   "cell_type": "code",
   "execution_count": 28,
   "id": "82cc5272",
   "metadata": {
    "ExecuteTime": {
     "end_time": "2021-12-08T08:07:14.443481Z",
     "start_time": "2021-12-08T08:07:14.393059Z"
    }
   },
   "outputs": [],
   "source": [
    "class Convolutional(object):\n",
    "    def __init__(self, data, stride):\n",
    "        if len(data.shape) != 4:\n",
    "            raise Exception('Input data dimensions should be [N,C,H,W]')\n",
    "        self.data = np.array(data)\n",
    "        self.stride = stride\n",
    "        self.data_length = data.shape[3]\n",
    "        self.feat_num = data.shape[2]  # 9\n",
    "        self.num, self.num_rev = self.generate_Num_and_ReversedNum(self.feat_num)\n",
    "        self.conv_feat = len(self.num)\n",
    "        self.step_list = self.generate_Step_List(self.data_length, self.stride)\n",
    "        self.extracted_data = self.Main(self.data, self.feat_num, self.conv_feat, self.stride)\n",
    "    def Main(self, data, feat_num, conv_feat, stride):\n",
    "        print(\"------Start Extraction------\")\n",
    "        # multiprocessing\n",
    "        num_cores = 5\n",
    "        pool_convolution = mp.Pool(num_cores)\n",
    "        t1 = time.time()\n",
    "        result = {}\n",
    "        for method in [\"cov_and_corr\"]:\n",
    "#         for method in [\"cov_and_corr\",\"std\",\"zscore\",\"return\",\"decay\"]:\n",
    "            result[method] = (pool_convolution.apply_async(self.Extraction, args=(data, feat_num, conv_feat, stride,method)))\n",
    "        pool_convolution.close()\n",
    "        pool_convolution.join()\n",
    "        t2 = time.time()\n",
    "        print(\"running time\", int(t2 - t1))\n",
    "        concat_list = []\n",
    "        concat_list.append(result['cov_and_corr'][1])\n",
    "        print(result['cov_and_corr'][0])\n",
    "        print(result['cov_and_corr'][1])\n",
    "        return feat_cat\n",
    "    def Extraction(self, data, feat_num, conv_feat, stride,method):\n",
    "        if method == \"cov_and_corr\":\n",
    "            batch = nn.BatchNorm1d(conv_feat, affine=True)\n",
    "            conv1 = self.ts_cov4d(self.data, self.stride, self.num, self.num_rev, self.step_list)\n",
    "            conv2 = self.ts_corr4d(self.data, self.stride, self.num, self.num_rev, self.step_list, conv1)\n",
    "            conv2 = torch.tanh(conv2)\n",
    "            bc1 = batch(conv1.to(torch.float))\n",
    "            bc2 = batch(conv2.to(torch.float))\n",
    "            return bc1.detach().numpy() , bc2.detach().numpy()\n",
    "        if method == \"std\":\n",
    "            batch = nn.BatchNorm1d(feat_num, affine=True)\n",
    "            conv3 = self.ts_stddev4d(self.data, self.stride, self.feat_num, self.step_list).to(torch.float)\n",
    "            bc3 = batch(conv3).detach().numpy()\n",
    "            return bc3\n",
    "        if method == \"zscore\":\n",
    "            batch = nn.BatchNorm1d(feat_num, affine=True)\n",
    "            conv4 = self.ts_zscore(self.data, self.stride, self.feat_num, self.step_list).to(torch.float)\n",
    "            bc4 = batch(conv4).detach().numpy()\n",
    "            return bc4\n",
    "        if method == \"return\":\n",
    "            batch = nn.BatchNorm1d(feat_num, affine=True)\n",
    "            conv5 = self.ts_return(self.data, self.stride, self.feat_num, self.step_list).to(torch.float)\n",
    "            bc5 = batch(conv5)\n",
    "            return bc5.detach().numpy()\n",
    "        if method == \"decay\":\n",
    "            batch = nn.BatchNorm1d(feat_num, affine=True)\n",
    "            conv6 = self.ts_decaylinear(self.data, self.stride, self.feat_num, self.step_list).to(torch.float)\n",
    "            bc6 = batch(conv6)\n",
    "            return bc6.detach().numpy()\n",
    "    def generateC(self, l1):\n",
    "        if len(l1) == 1:\n",
    "            return []\n",
    "        v = [[l1[0], i] for i in l1[1:]]\n",
    "        l1 = l1[1:]\n",
    "        return v + self.generateC(l1)\n",
    "\n",
    "    def generate_Num_and_ReversedNum(self, feat_nums):\n",
    "        list1 = list(range(feat_nums))\n",
    "        num = self.generateC(list1)\n",
    "        num_rev = []\n",
    "        for l in num:\n",
    "            l1 = l.copy()\n",
    "            l1.reverse()\n",
    "            num_rev.append(l1)\n",
    "        return num, num_rev\n",
    "\n",
    "    def generate_Step_List(self, data_length, stride):\n",
    "        # 11?¨2?3¤áD±í￡?è?1?êy?Y3¤?è2??ü??3y￡??òè?ê￡??3¤?è￡?è?1?ê￡??3¤?èD?óú5￡??òó?é?ò?2??áo?ò??e\n",
    "        if data_length % stride == 0:\n",
    "            step_list = list(range(0, data_length + stride, stride))\n",
    "        elif data_length % stride <= 5:\n",
    "            mod = data_length % stride\n",
    "            step_list = list(range(0, data_length - stride, stride)) + [data_length]\n",
    "        else:\n",
    "            mod = data_length % stride\n",
    "            step_list = list(range(0, data_length + stride - mod, stride)) + [data_length]\n",
    "        return step_list\n",
    "\n",
    "    \"\"\" Main Extraction\"\"\"\n",
    "\n",
    "    def ts_cov4d(self, data, stride, num, num_rev, step_list):\n",
    "        '''????4??êy?Yμ?D-·?2?'''\n",
    "        '''data:[N,C,H,W],,W:price length,N:batch size'''\n",
    "        l = []\n",
    "        # ????μ?1y3ì?D??±?±￡3?keepdims=True\n",
    "        for i in tqdm(range(len(step_list) - 1)):\n",
    "            start = step_list[i]\n",
    "            end = step_list[i + 1]\n",
    "            sub_data1 = data[:, :, num, start:end]  # (2000, 1, 36, 2, 10)\n",
    "            sub_data2 = data[:, :, num_rev, start:end]\n",
    "            mean1 = sub_data1.mean(axis=4, keepdims=True)  # (2000, 1, 36, 2, 1)\n",
    "            mean2 = sub_data2.mean(axis=4, keepdims=True)\n",
    "            spread1 = sub_data1 - mean1  # (2000, 1, 36, 2, 10)\n",
    "            spread2 = sub_data2 - mean2\n",
    "            cov = ((spread1 * spread2).sum(axis=4, keepdims=True) / (sub_data1.shape[4] - 1)).mean(axis=3,\n",
    "                                                                                                   keepdims=True)  # (2000, 1, 36, 1, 1)\n",
    "            l.append(cov)\n",
    "        corr = np.squeeze(np.array(l)).transpose(1, 2, 0).reshape(-1, self.conv_feat,\n",
    "                                                                  len(step_list) - 1)  # (2000, 1, 36, 3)\n",
    "        final = torch.from_numpy(corr)\n",
    "        print(\"------Finished ts_cov4d----output shape: \", final.shape)\n",
    "        return final\n",
    "\n",
    "    def ts_corr4d(self, data, stride, num, num_rev, step_list, cov):\n",
    "        '''????4??êy?Yμ??à1??μêy'''\n",
    "        '''data:[N,C,H,W],,W:price length,N:batch size'''\n",
    "        l = []\n",
    "        for i in tqdm(range(len(step_list) - 1)):\n",
    "            start = step_list[i]\n",
    "            end = step_list[i + 1]\n",
    "            sub_data1 = data[:, :, num, start:end]\n",
    "            sub_data2 = data[:, :, num_rev, start:end]\n",
    "            std1 = sub_data1.std(axis=4, keepdims=True)\n",
    "            std2 = sub_data2.std(axis=4, keepdims=True)\n",
    "            std = (std1 * std2).mean(axis=3, keepdims=True)\n",
    "            del std1, std2  # êí·??ú′?\n",
    "            l.append(std)\n",
    "        std = np.squeeze(np.array(l)).transpose(1, 2, 0).reshape(-1, self.conv_feat, len(step_list) - 1)\n",
    "        std[std == 0] = 1e-9\n",
    "        fct = (sub_data1.shape[4] - 1) / sub_data1.shape[4]\n",
    "        final = cov / torch.from_numpy(std) * fct\n",
    "        del fct, std\n",
    "        print(\"------Finished ts_corr4d----output shape: \", final.shape)\n",
    "        return final\n",
    "\n",
    "    def ts_stddev4d(self, data, stride, feat_num, step_list):\n",
    "        if len(data.shape) != 4:\n",
    "            raise Exception('Input data dimensions should be [N,C,H,W]')\n",
    "        l = []\n",
    "        for i in tqdm(range(len(step_list) - 1)):\n",
    "            start = step_list[i]\n",
    "            end = step_list[i + 1]\n",
    "            sub_data1 = data[:, :, :, start:end]\n",
    "            std1 = sub_data1.std(axis=3, keepdims=True)\n",
    "            l.append(std1)\n",
    "            del std1\n",
    "        std = np.squeeze(np.array(l)).transpose(1, 2, 0).reshape(-1, feat_num, len(step_list) - 1)\n",
    "        print(\"------Finished ts_stddev4d----output shape: \", torch.from_numpy(std).shape)\n",
    "        return torch.from_numpy(std)\n",
    "\n",
    "    def ts_zscore(self, data, stride, feat_num, step_list):\n",
    "        if len(data.shape) != 4:\n",
    "            raise Exception('Input data dimensions should be [N,C,H,W]')\n",
    "        l = []\n",
    "        for i in tqdm(range(len(step_list) - 1)):\n",
    "            start = step_list[i]\n",
    "            end = step_list[i + 1]\n",
    "            sub_data1 = data[:, :, :, start:end]\n",
    "            mean = sub_data1.mean(axis=3, keepdims=True)\n",
    "            std = sub_data1.std(axis=3, keepdims=True)\n",
    "            std[std == 0] = 1e-9\n",
    "            z_score = mean / std\n",
    "            l.append(z_score)\n",
    "        z_score = np.squeeze(np.array(l)).transpose(1, 2, 0).reshape(-1, feat_num, len(step_list) - 1)\n",
    "        #         z_score[z_score >= 6] = 6\n",
    "        print(\"------Finished ts_zscore----output shape: \", torch.from_numpy(z_score).shape)\n",
    "        return torch.from_numpy(z_score)\n",
    "\n",
    "    def ts_return(self, data, stride, feat_num, step_list):\n",
    "        if len(data.shape) != 4:\n",
    "            raise Exception('Input data dimensions should be [N,C,H,W]')\n",
    "        data[data == 0] = 1e-9\n",
    "        l = []\n",
    "        for i in tqdm(range(len(step_list) - 1)):\n",
    "            start = step_list[i]\n",
    "            end = step_list[i + 1]\n",
    "            sub_data1 = data[:, :, :, start:end]\n",
    "            ret = sub_data1[:, :, :, -1] / sub_data1[:, :, :, 0] - 1\n",
    "            l.append(ret)\n",
    "        z_data = np.squeeze(np.array(l)).transpose(1, 2, 0).reshape(-1, feat_num, len(step_list) - 1)\n",
    "        z_data[z_data > 1] = 1\n",
    "        print(\"------Finished ts_return----output shape: \", torch.from_numpy(z_data).shape)\n",
    "        return torch.from_numpy(z_data)\n",
    "\n",
    "    def ts_decaylinear(self, data, stride, feat_num, step_list):\n",
    "        if len(data.shape) != 4:\n",
    "            raise Exception('Input data dimensions should be [N,C,H,W]')\n",
    "        l = []\n",
    "        for i in tqdm(range(len(step_list) - 1)):\n",
    "            start = step_list[i]\n",
    "            end = step_list[i + 1]\n",
    "            time_spread = end - start\n",
    "            weight = np.arange(1, time_spread + 1)\n",
    "            weight = weight / (weight.sum())\n",
    "            sub_data1 = (data[:, :, :, start:end] * weight).mean(axis=3, keepdims=True)\n",
    "            l.append(sub_data1)\n",
    "        decay_data = np.squeeze(np.array(l)).transpose(1, 2, 0).reshape(-1, feat_num, len(step_list) - 1)\n",
    "        final = torch.from_numpy(decay_data)\n",
    "        print(\"------Finished ts_decaylinear----output shape: \", final.shape)\n",
    "        return final"
   ]
  },
  {
   "cell_type": "code",
   "execution_count": 29,
   "id": "3e12aeda",
   "metadata": {
    "ExecuteTime": {
     "end_time": "2021-12-08T08:09:59.823937Z",
     "start_time": "2021-12-08T08:07:14.695077Z"
    }
   },
   "outputs": [
    {
     "name": "stdout",
     "output_type": "stream",
     "text": [
      "------Start Extraction------\n"
     ]
    },
    {
     "name": "stderr",
     "output_type": "stream",
     "text": [
      "100%|██████████| 3/3 [01:08<00:00, 22.89s/it]\n"
     ]
    },
    {
     "name": "stdout",
     "output_type": "stream",
     "text": [
      "------Finished ts_cov4d----output shape:  torch.Size([465192, 55, 3])\n"
     ]
    },
    {
     "name": "stderr",
     "output_type": "stream",
     "text": [
      "100%|██████████| 3/3 [01:13<00:00, 24.38s/it]\n"
     ]
    },
    {
     "name": "stdout",
     "output_type": "stream",
     "text": [
      "------Finished ts_corr4d----output shape:  torch.Size([465192, 55, 3])\n",
      "running time 160\n"
     ]
    },
    {
     "ename": "TypeError",
     "evalue": "'ApplyResult' object is not subscriptable",
     "output_type": "error",
     "traceback": [
      "\u001b[0;31m---------------------------------------------------------------------------\u001b[0m",
      "\u001b[0;31mTypeError\u001b[0m                                 Traceback (most recent call last)",
      "\u001b[0;32m<ipython-input-29-72fb3fef1d40>\u001b[0m in \u001b[0;36m<module>\u001b[0;34m\u001b[0m\n\u001b[0;32m----> 1\u001b[0;31m \u001b[0mconvolutional\u001b[0m \u001b[0;34m=\u001b[0m \u001b[0mConvolutional\u001b[0m\u001b[0;34m(\u001b[0m\u001b[0mtrainx\u001b[0m\u001b[0;34m,\u001b[0m \u001b[0;36m10\u001b[0m\u001b[0;34m)\u001b[0m\u001b[0;34m\u001b[0m\u001b[0;34m\u001b[0m\u001b[0m\n\u001b[0m\u001b[1;32m      2\u001b[0m \u001b[0mfeat_cat\u001b[0m \u001b[0;34m=\u001b[0m \u001b[0mconvolutional\u001b[0m\u001b[0;34m.\u001b[0m\u001b[0mextracted_data\u001b[0m\u001b[0;34m\u001b[0m\u001b[0;34m\u001b[0m\u001b[0m\n",
      "\u001b[0;32m<ipython-input-28-ab501c7fced0>\u001b[0m in \u001b[0;36m__init__\u001b[0;34m(self, data, stride)\u001b[0m\n\u001b[1;32m     10\u001b[0m         \u001b[0mself\u001b[0m\u001b[0;34m.\u001b[0m\u001b[0mconv_feat\u001b[0m \u001b[0;34m=\u001b[0m \u001b[0mlen\u001b[0m\u001b[0;34m(\u001b[0m\u001b[0mself\u001b[0m\u001b[0;34m.\u001b[0m\u001b[0mnum\u001b[0m\u001b[0;34m)\u001b[0m\u001b[0;34m\u001b[0m\u001b[0;34m\u001b[0m\u001b[0m\n\u001b[1;32m     11\u001b[0m         \u001b[0mself\u001b[0m\u001b[0;34m.\u001b[0m\u001b[0mstep_list\u001b[0m \u001b[0;34m=\u001b[0m \u001b[0mself\u001b[0m\u001b[0;34m.\u001b[0m\u001b[0mgenerate_Step_List\u001b[0m\u001b[0;34m(\u001b[0m\u001b[0mself\u001b[0m\u001b[0;34m.\u001b[0m\u001b[0mdata_length\u001b[0m\u001b[0;34m,\u001b[0m \u001b[0mself\u001b[0m\u001b[0;34m.\u001b[0m\u001b[0mstride\u001b[0m\u001b[0;34m)\u001b[0m\u001b[0;34m\u001b[0m\u001b[0;34m\u001b[0m\u001b[0m\n\u001b[0;32m---> 12\u001b[0;31m         \u001b[0mself\u001b[0m\u001b[0;34m.\u001b[0m\u001b[0mextracted_data\u001b[0m \u001b[0;34m=\u001b[0m \u001b[0mself\u001b[0m\u001b[0;34m.\u001b[0m\u001b[0mMain\u001b[0m\u001b[0;34m(\u001b[0m\u001b[0mself\u001b[0m\u001b[0;34m.\u001b[0m\u001b[0mdata\u001b[0m\u001b[0;34m,\u001b[0m \u001b[0mself\u001b[0m\u001b[0;34m.\u001b[0m\u001b[0mfeat_num\u001b[0m\u001b[0;34m,\u001b[0m \u001b[0mself\u001b[0m\u001b[0;34m.\u001b[0m\u001b[0mconv_feat\u001b[0m\u001b[0;34m,\u001b[0m \u001b[0mself\u001b[0m\u001b[0;34m.\u001b[0m\u001b[0mstride\u001b[0m\u001b[0;34m)\u001b[0m\u001b[0;34m\u001b[0m\u001b[0;34m\u001b[0m\u001b[0m\n\u001b[0m\u001b[1;32m     13\u001b[0m     \u001b[0;32mdef\u001b[0m \u001b[0mMain\u001b[0m\u001b[0;34m(\u001b[0m\u001b[0mself\u001b[0m\u001b[0;34m,\u001b[0m \u001b[0mdata\u001b[0m\u001b[0;34m,\u001b[0m \u001b[0mfeat_num\u001b[0m\u001b[0;34m,\u001b[0m \u001b[0mconv_feat\u001b[0m\u001b[0;34m,\u001b[0m \u001b[0mstride\u001b[0m\u001b[0;34m)\u001b[0m\u001b[0;34m:\u001b[0m\u001b[0;34m\u001b[0m\u001b[0;34m\u001b[0m\u001b[0m\n\u001b[1;32m     14\u001b[0m         \u001b[0mprint\u001b[0m\u001b[0;34m(\u001b[0m\u001b[0;34m\"------Start Extraction------\"\u001b[0m\u001b[0;34m)\u001b[0m\u001b[0;34m\u001b[0m\u001b[0;34m\u001b[0m\u001b[0m\n",
      "\u001b[0;32m<ipython-input-28-ab501c7fced0>\u001b[0m in \u001b[0;36mMain\u001b[0;34m(self, data, feat_num, conv_feat, stride)\u001b[0m\n\u001b[1;32m     26\u001b[0m         \u001b[0mprint\u001b[0m\u001b[0;34m(\u001b[0m\u001b[0;34m\"running time\"\u001b[0m\u001b[0;34m,\u001b[0m \u001b[0mint\u001b[0m\u001b[0;34m(\u001b[0m\u001b[0mt2\u001b[0m \u001b[0;34m-\u001b[0m \u001b[0mt1\u001b[0m\u001b[0;34m)\u001b[0m\u001b[0;34m)\u001b[0m\u001b[0;34m\u001b[0m\u001b[0;34m\u001b[0m\u001b[0m\n\u001b[1;32m     27\u001b[0m         \u001b[0mconcat_list\u001b[0m \u001b[0;34m=\u001b[0m \u001b[0;34m[\u001b[0m\u001b[0;34m]\u001b[0m\u001b[0;34m\u001b[0m\u001b[0;34m\u001b[0m\u001b[0m\n\u001b[0;32m---> 28\u001b[0;31m         \u001b[0mconcat_list\u001b[0m\u001b[0;34m.\u001b[0m\u001b[0mappend\u001b[0m\u001b[0;34m(\u001b[0m\u001b[0mresult\u001b[0m\u001b[0;34m[\u001b[0m\u001b[0;34m'cov_and_corr'\u001b[0m\u001b[0;34m]\u001b[0m\u001b[0;34m[\u001b[0m\u001b[0;36m1\u001b[0m\u001b[0;34m]\u001b[0m\u001b[0;34m)\u001b[0m\u001b[0;34m\u001b[0m\u001b[0;34m\u001b[0m\u001b[0m\n\u001b[0m\u001b[1;32m     29\u001b[0m         \u001b[0mprint\u001b[0m\u001b[0;34m(\u001b[0m\u001b[0mresult\u001b[0m\u001b[0;34m[\u001b[0m\u001b[0;34m'cov_and_corr'\u001b[0m\u001b[0;34m]\u001b[0m\u001b[0;34m[\u001b[0m\u001b[0;36m0\u001b[0m\u001b[0;34m]\u001b[0m\u001b[0;34m)\u001b[0m\u001b[0;34m\u001b[0m\u001b[0;34m\u001b[0m\u001b[0m\n\u001b[1;32m     30\u001b[0m         \u001b[0mprint\u001b[0m\u001b[0;34m(\u001b[0m\u001b[0mresult\u001b[0m\u001b[0;34m[\u001b[0m\u001b[0;34m'cov_and_corr'\u001b[0m\u001b[0;34m]\u001b[0m\u001b[0;34m[\u001b[0m\u001b[0;36m1\u001b[0m\u001b[0;34m]\u001b[0m\u001b[0;34m)\u001b[0m\u001b[0;34m\u001b[0m\u001b[0;34m\u001b[0m\u001b[0m\n",
      "\u001b[0;31mTypeError\u001b[0m: 'ApplyResult' object is not subscriptable"
     ]
    }
   ],
   "source": [
    "convolutional = Convolutional(trainx, 10)\n",
    "feat_cat = convolutional.extracted_data"
   ]
  },
  {
   "cell_type": "code",
   "execution_count": 15,
   "id": "5780d203",
   "metadata": {
    "ExecuteTime": {
     "end_time": "2021-12-08T07:52:58.383222Z",
     "start_time": "2021-12-08T07:52:58.370588Z"
    }
   },
   "outputs": [
    {
     "ename": "NameError",
     "evalue": "name 'result' is not defined",
     "output_type": "error",
     "traceback": [
      "\u001b[0;31m---------------------------------------------------------------------------\u001b[0m",
      "\u001b[0;31mNameError\u001b[0m                                 Traceback (most recent call last)",
      "\u001b[0;32m<ipython-input-15-fcca8a23ce60>\u001b[0m in \u001b[0;36m<module>\u001b[0;34m\u001b[0m\n\u001b[0;32m----> 1\u001b[0;31m \u001b[0;32mfor\u001b[0m \u001b[0mi\u001b[0m \u001b[0;32min\u001b[0m \u001b[0mresult\u001b[0m\u001b[0;34m:\u001b[0m\u001b[0;34m\u001b[0m\u001b[0;34m\u001b[0m\u001b[0m\n\u001b[0m\u001b[1;32m      2\u001b[0m     \u001b[0mprint\u001b[0m\u001b[0;34m(\u001b[0m\u001b[0mi\u001b[0m\u001b[0;34m)\u001b[0m\u001b[0;34m\u001b[0m\u001b[0;34m\u001b[0m\u001b[0m\n",
      "\u001b[0;31mNameError\u001b[0m: name 'result' is not defined"
     ]
    }
   ],
   "source": []
  },
  {
   "cell_type": "code",
   "execution_count": 8,
   "id": "d06c816b",
   "metadata": {
    "ExecuteTime": {
     "end_time": "2021-12-08T07:35:45.982984Z",
     "start_time": "2021-12-08T07:35:40.318631Z"
    }
   },
   "outputs": [
    {
     "name": "stdout",
     "output_type": "stream",
     "text": [
      "trainx.shape:  (465192, 1, 11, 30)\n",
      "trainy.shape:  (465192, 1)\n"
     ]
    }
   ],
   "source": [
    "def get_train_data(time_start, time_end):\n",
    "    train_frame = dataframe_list[dataframe_list['timestamp'] < pd.to_datetime(str(time_start))]\n",
    "    train_frame.set_index([\"timestamp\", \"ticker\"], inplace=True)\n",
    "\n",
    "    # Train X and Train Y\n",
    "    trainx, trainy = [], []\n",
    "    trainx = np.array(train_frame.drop(\"target\", axis=1))\n",
    "    trainx = trainx.reshape(trainx.shape[0], 1, day, -1)  # x = (153,1,30,9)\n",
    "    trainx = trainx.transpose(0, 1, 3, 2)  # x = (2555577, 1, 9, 30)\n",
    "    trainy = np.array(train_frame['target']).reshape(-1, 1)  # x = (153,1,9,30)\n",
    "\n",
    "    feat_num = trainx.shape[2]  # 9\n",
    "    del train_frame\n",
    "    print(\"trainx.shape: \", trainx.shape)\n",
    "    print(\"trainy.shape: \", trainy.shape)\n",
    "    return trainx, trainy, feat_num\n",
    "trainx, trainy, feat_num = get_train_data(\"20160101\", \"20200630\")"
   ]
  }
 ],
 "metadata": {
  "kernelspec": {
   "display_name": "Python 3 (ipykernel)",
   "language": "python",
   "name": "python3"
  },
  "language_info": {
   "codemirror_mode": {
    "name": "ipython",
    "version": 3
   },
   "file_extension": ".py",
   "mimetype": "text/x-python",
   "name": "python",
   "nbconvert_exporter": "python",
   "pygments_lexer": "ipython3",
   "version": "3.7.9"
  }
 },
 "nbformat": 4,
 "nbformat_minor": 5
}
