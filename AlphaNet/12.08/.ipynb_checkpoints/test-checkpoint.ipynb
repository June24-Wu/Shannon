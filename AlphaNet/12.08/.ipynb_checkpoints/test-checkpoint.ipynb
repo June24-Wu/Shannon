{
 "cells": [
  {
   "cell_type": "code",
   "execution_count": 36,
   "id": "65d17a9f",
   "metadata": {
    "ExecuteTime": {
     "end_time": "2021-12-08T09:50:46.239399Z",
     "start_time": "2021-12-08T09:50:46.233602Z"
    }
   },
   "outputs": [],
   "source": [
    "from os import walk\n",
    "import pandas as pd\n",
    "import numpy as np\n",
    "import torch\n",
    "import torch.nn as nn\n",
    "from progressbar import ProgressBar\n",
    "from tqdm import tqdm\n",
    "import torch.utils.data as Data\n",
    "import torch.optim as optim\n",
    "from tqdm import tqdm\n",
    "from torch.autograd import Variable\n",
    "import time\n",
    "import multiprocessing as mp\n",
    "from os import walk"
   ]
  },
  {
   "cell_type": "code",
   "execution_count": 39,
   "id": "a5373efc",
   "metadata": {
    "ExecuteTime": {
     "end_time": "2021-12-08T10:01:36.741975Z",
     "start_time": "2021-12-08T10:01:36.738228Z"
    }
   },
   "outputs": [
    {
     "name": "stdout",
     "output_type": "stream",
     "text": [
      "/home/wuwenjun/Alpha_Factor/AlphaNetV1_Original_Input_1208/trainx\n"
     ]
    }
   ],
   "source": [
    "data_path = \"/home/wuwenjun/Alpha_Factor/AlphaNetV1_Original_Input_1208/\"\n",
    "print(data_path + \"trainx\")"
   ]
  },
  {
   "cell_type": "code",
   "execution_count": 41,
   "id": "43b4e7b1",
   "metadata": {
    "ExecuteTime": {
     "end_time": "2021-12-08T10:02:14.986892Z",
     "start_time": "2021-12-08T10:02:14.978773Z"
    }
   },
   "outputs": [
    {
     "name": "stderr",
     "output_type": "stream",
     "text": [
      "100%|██████████| 1/1 [00:00<00:00, 10058.28it/s]\n"
     ]
    },
    {
     "data": {
      "text/plain": [
       "['2020-06-01 00:00:00_2020-12-31 00:00:00.pt']"
      ]
     },
     "execution_count": 41,
     "metadata": {},
     "output_type": "execute_result"
    }
   ],
   "source": [
    "time_list = []\n",
    "for f, _, i in walk(data_path + \"trainx\"):\n",
    "    for j in tqdm(i):\n",
    "        time_list.append(j)\n",
    "time_list"
   ]
  },
  {
   "cell_type": "code",
   "execution_count": null,
   "id": "511b3daa",
   "metadata": {},
   "outputs": [],
   "source": [
    "trainx = torch.load(output_path + \"/trainx/\" + time_list[0])\n",
    "trainy = torch.load(output_path + \"/trainy/\" + time_list[0])\n",
    "testx = torch.load(output_path + \"/testx/\" + time_list[0])\n",
    "testy = torch.load(output_path + \"/testy/\" + time_list[0])\n",
    "test_target = torch.load(output_path + \"/test_target/\" + time_list[0])"
   ]
  },
  {
   "cell_type": "code",
   "execution_count": 42,
   "id": "209293c5",
   "metadata": {
    "ExecuteTime": {
     "end_time": "2021-12-08T10:02:53.578571Z",
     "start_time": "2021-12-08T10:02:32.947134Z"
    }
   },
   "outputs": [],
   "source": [
    "trainx = torch.load(output_path + \"/trainx/\" + time_list[0])"
   ]
  },
  {
   "cell_type": "code",
   "execution_count": 43,
   "id": "b225a07f",
   "metadata": {
    "ExecuteTime": {
     "end_time": "2021-12-08T10:02:53.584328Z",
     "start_time": "2021-12-08T10:02:53.580641Z"
    }
   },
   "outputs": [
    {
     "name": "stdout",
     "output_type": "stream",
     "text": [
      "trainx size:  torch.Size([3741935, 462])\n"
     ]
    }
   ],
   "source": []
  },
  {
   "cell_type": "code",
   "execution_count": null,
   "id": "78cf017a",
   "metadata": {},
   "outputs": [],
   "source": [
    "print('trainx size: ', trainx.size())\n",
    "print('trainy size: ', trainy.size())\n",
    "print('testx size: ', testx.size())\n",
    "print('testy size: ', testy.size())\n",
    "\n",
    "train_dataset = Data.TensorDataset(trainx, trainy)\n",
    "test_dataset = Data.TensorDataset(testx, testy)\n",
    "batch_size = 128\n",
    "train_loader = Data.DataLoader(\n",
    "    dataset=train_dataset,\n",
    "    batch_size=batch_size,\n",
    "    shuffle=True,\n",
    "    num_workers=2\n",
    ")\n",
    "\n",
    "test_loader = Data.DataLoader(\n",
    "    dataset=test_dataset,\n",
    "    batch_size=batch_size,\n",
    "    shuffle=False,\n",
    "    num_workers=2\n",
    ")\n",
    "\n",
    "alphanet = AlphaNet(feat_num, 30)\n",
    "print(alphanet)\n",
    "total_length = trainx.shape[0]\n",
    "LR = 0.000001\n",
    "loss_function = nn.MSELoss()\n",
    "optimizer = optim.RMSprop(alphanet.parameters(), lr=LR, alpha=0.9)\n",
    "epoch_num = 30\n",
    "\n",
    "for epoch in tqdm(range(epoch_num)):\n",
    "    total_loss = 0\n",
    "    for _, (data, label) in enumerate(train_loader):\n",
    "        data = Variable(data).float()\n",
    "        pred = alphanet(data)\n",
    "        label = Variable(label).float()\n",
    "        #         label = label.unsqueeze(1)\n",
    "        loss = loss_function(pred, label)\n",
    "        loss.backward()\n",
    "        optimizer.step()\n",
    "        optimizer.zero_grad()\n",
    "        total_loss += loss.item()\n",
    "    total_loss = total_loss * batch_size / total_length\n",
    "    print('Epoch: ', epoch + 1, ' loss: ', total_loss)\n",
    "\n",
    "pred_list = []\n",
    "label_list = []\n",
    "\n",
    "for _, (data, label) in enumerate(test_loader):\n",
    "    data = Variable(data).float()\n",
    "    pred = alphanet(data)\n",
    "    pred_list.extend(pred.tolist())\n",
    "    label_list.extend(label.tolist())\n",
    "\n",
    "final = pd.concat([test_target, pd.DataFrame(pred_list)], axis=1)\n",
    "final = final[['timestamp', 'ticker', 0]]\n",
    "alpha_name = 'AlphaNet'\n",
    "final.rename(columns={0: alpha_name, 'ticker': 'symbol'}, inplace=True)\n",
    "final = final.reindex(columns=['symbol', 'timestamp', alpha_name])\n",
    "final.set_index(['symbol', 'timestamp']).to_csv(output_path + '%s_%s.csv' % (time_start, time_end))\n",
    "return None\n",
    "\n",
    "if __name__ == '__main__':\n",
    "    time_list = [20190401, 20190630, 20191231, 20200601, 20201231, 20210630]\n",
    "    path = \"/home/wuwenjun/Alpha_Factor/AlphaNetV1_Original_Input_1208/\""
   ]
  }
 ],
 "metadata": {
  "kernelspec": {
   "display_name": "Python 3 (ipykernel)",
   "language": "python",
   "name": "python3"
  },
  "language_info": {
   "codemirror_mode": {
    "name": "ipython",
    "version": 3
   },
   "file_extension": ".py",
   "mimetype": "text/x-python",
   "name": "python",
   "nbconvert_exporter": "python",
   "pygments_lexer": "ipython3",
   "version": "3.7.9"
  }
 },
 "nbformat": 4,
 "nbformat_minor": 5
}
