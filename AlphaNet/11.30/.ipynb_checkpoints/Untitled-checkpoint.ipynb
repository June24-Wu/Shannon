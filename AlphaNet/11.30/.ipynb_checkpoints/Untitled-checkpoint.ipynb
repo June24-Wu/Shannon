{
 "cells": [
  {
   "cell_type": "code",
   "execution_count": 9,
   "id": "a4ea4cbc",
   "metadata": {},
   "outputs": [],
   "source": [
    "import time\n",
    "from Research.backtest.bt import BTDaily\n",
    "from Research.feature.ft import FeatureAnalysis\n",
    "import Research.utils.namespace as namespace\n",
    "import Research.utils.normalization as norm\n",
    "import numpy as np"
   ]
  },
  {
   "cell_type": "code",
   "execution_count": 11,
   "id": "ff795779",
   "metadata": {},
   "outputs": [
    {
     "name": "stderr",
     "output_type": "stream",
     "text": [
      "100%|██████████| 5/5 [00:00<00:00, 16.34it/s]\n"
     ]
    },
    {
     "data": {
      "text/html": [
       "<div>\n",
       "<style scoped>\n",
       "    .dataframe tbody tr th:only-of-type {\n",
       "        vertical-align: middle;\n",
       "    }\n",
       "\n",
       "    .dataframe tbody tr th {\n",
       "        vertical-align: top;\n",
       "    }\n",
       "\n",
       "    .dataframe thead th {\n",
       "        text-align: right;\n",
       "    }\n",
       "</style>\n",
       "<table border=\"1\" class=\"dataframe\">\n",
       "  <thead>\n",
       "    <tr style=\"text-align: right;\">\n",
       "      <th></th>\n",
       "      <th>symbol</th>\n",
       "      <th>timestamp</th>\n",
       "      <th>AlphaNet</th>\n",
       "    </tr>\n",
       "  </thead>\n",
       "  <tbody>\n",
       "    <tr>\n",
       "      <th>0</th>\n",
       "      <td>600872</td>\n",
       "      <td>2019-05-16 09:30:00</td>\n",
       "      <td>-0.010705</td>\n",
       "    </tr>\n",
       "    <tr>\n",
       "      <th>1</th>\n",
       "      <td>600872</td>\n",
       "      <td>2019-05-21 09:30:00</td>\n",
       "      <td>0.150820</td>\n",
       "    </tr>\n",
       "    <tr>\n",
       "      <th>2</th>\n",
       "      <td>600872</td>\n",
       "      <td>2019-05-24 09:30:00</td>\n",
       "      <td>-0.297267</td>\n",
       "    </tr>\n",
       "    <tr>\n",
       "      <th>3</th>\n",
       "      <td>600872</td>\n",
       "      <td>2019-05-29 09:30:00</td>\n",
       "      <td>0.203635</td>\n",
       "    </tr>\n",
       "    <tr>\n",
       "      <th>4</th>\n",
       "      <td>600872</td>\n",
       "      <td>2019-06-03 09:30:00</td>\n",
       "      <td>-0.043720</td>\n",
       "    </tr>\n",
       "    <tr>\n",
       "      <th>...</th>\n",
       "      <td>...</td>\n",
       "      <td>...</td>\n",
       "      <td>...</td>\n",
       "    </tr>\n",
       "    <tr>\n",
       "      <th>99067</th>\n",
       "      <td>600179</td>\n",
       "      <td>2021-06-24 09:30:00</td>\n",
       "      <td>-0.143311</td>\n",
       "    </tr>\n",
       "    <tr>\n",
       "      <th>99068</th>\n",
       "      <td>600243</td>\n",
       "      <td>2021-06-24 09:30:00</td>\n",
       "      <td>-0.088673</td>\n",
       "    </tr>\n",
       "    <tr>\n",
       "      <th>99069</th>\n",
       "      <td>2426</td>\n",
       "      <td>2021-06-24 09:30:00</td>\n",
       "      <td>-0.454667</td>\n",
       "    </tr>\n",
       "    <tr>\n",
       "      <th>99070</th>\n",
       "      <td>536</td>\n",
       "      <td>2021-06-25 09:30:00</td>\n",
       "      <td>0.210734</td>\n",
       "    </tr>\n",
       "    <tr>\n",
       "      <th>99071</th>\n",
       "      <td>408</td>\n",
       "      <td>2021-06-28 09:30:00</td>\n",
       "      <td>-0.341897</td>\n",
       "    </tr>\n",
       "  </tbody>\n",
       "</table>\n",
       "<p>442720 rows × 3 columns</p>\n",
       "</div>"
      ],
      "text/plain": [
       "       symbol            timestamp  AlphaNet\n",
       "0      600872  2019-05-16 09:30:00 -0.010705\n",
       "1      600872  2019-05-21 09:30:00  0.150820\n",
       "2      600872  2019-05-24 09:30:00 -0.297267\n",
       "3      600872  2019-05-29 09:30:00  0.203635\n",
       "4      600872  2019-06-03 09:30:00 -0.043720\n",
       "...       ...                  ...       ...\n",
       "99067  600179  2021-06-24 09:30:00 -0.143311\n",
       "99068  600243  2021-06-24 09:30:00 -0.088673\n",
       "99069    2426  2021-06-24 09:30:00 -0.454667\n",
       "99070     536  2021-06-25 09:30:00  0.210734\n",
       "99071     408  2021-06-28 09:30:00 -0.341897\n",
       "\n",
       "[442720 rows x 3 columns]"
      ]
     },
     "execution_count": 11,
     "metadata": {},
     "output_type": "execute_result"
    }
   ],
   "source": [
    "from os import walk\n",
    "import pandas as pd\n",
    "import numpy as np\n",
    "import torch\n",
    "import torch.nn as nn\n",
    "from progressbar import ProgressBar\n",
    "from tqdm import tqdm\n",
    "dataframe_list = pd.DataFrame()\n",
    "for f, _, i in walk(\"/home/wuwenjun/Alpha_Factor/\"):\n",
    "    for j in tqdm(i):\n",
    "        dataframe_list = pd.concat([dataframe_list,pd.read_csv(f + \"/\" + j)],axis=0)\n",
    "dataframe_list"
   ]
  },
  {
   "cell_type": "code",
   "execution_count": 20,
   "id": "a384585b",
   "metadata": {},
   "outputs": [],
   "source": [
    "data.to_csv('/home/wuwenjun/Alpha_Factor/Alpha')"
   ]
  },
  {
   "cell_type": "code",
   "execution_count": 21,
   "id": "554a6a58",
   "metadata": {},
   "outputs": [
    {
     "name": "stdout",
     "output_type": "stream",
     "text": [
      "Loading the configuration from /home/ShareFolder/lgc/Modules/Research/config/feature_bt_template\n"
     ]
    },
    {
     "ename": "NotADirectoryError",
     "evalue": "[Errno 20] Not a directory: '/home/wuwenjun/Alpha_Factor/Alpha/ti0'",
     "output_type": "error",
     "traceback": [
      "\u001b[0;31m---------------------------------------------------------------------------\u001b[0m",
      "\u001b[0;31mNotADirectoryError\u001b[0m                        Traceback (most recent call last)",
      "\u001b[0;32m/tmp/ipykernel_67898/4280167768.py\u001b[0m in \u001b[0;36m<module>\u001b[0;34m\u001b[0m\n\u001b[1;32m     28\u001b[0m \u001b[0;34m\u001b[0m\u001b[0m\n\u001b[1;32m     29\u001b[0m \u001b[0;32mif\u001b[0m \u001b[0m__name__\u001b[0m \u001b[0;34m==\u001b[0m \u001b[0;34m'__main__'\u001b[0m\u001b[0;34m:\u001b[0m\u001b[0;34m\u001b[0m\u001b[0;34m\u001b[0m\u001b[0m\n\u001b[0;32m---> 30\u001b[0;31m     \u001b[0mtest\u001b[0m\u001b[0;34m(\u001b[0m\u001b[0;34m)\u001b[0m\u001b[0;34m\u001b[0m\u001b[0;34m\u001b[0m\u001b[0m\n\u001b[0m",
      "\u001b[0;32m/tmp/ipykernel_67898/4280167768.py\u001b[0m in \u001b[0;36mtest\u001b[0;34m()\u001b[0m\n\u001b[1;32m      3\u001b[0m     \u001b[0mprint\u001b[0m\u001b[0;34m(\u001b[0m\u001b[0;34m'Loading the configuration from '\u001b[0m \u001b[0;34m+\u001b[0m \u001b[0mconfig_path\u001b[0m\u001b[0;34m)\u001b[0m\u001b[0;34m\u001b[0m\u001b[0;34m\u001b[0m\u001b[0m\n\u001b[1;32m      4\u001b[0m     \u001b[0mconfigs\u001b[0m \u001b[0;34m=\u001b[0m \u001b[0mnamespace\u001b[0m\u001b[0;34m.\u001b[0m\u001b[0mload_namespace\u001b[0m\u001b[0;34m(\u001b[0m\u001b[0mconfig_path\u001b[0m\u001b[0;34m)\u001b[0m\u001b[0;34m\u001b[0m\u001b[0;34m\u001b[0m\u001b[0m\n\u001b[0;32m----> 5\u001b[0;31m     \u001b[0mFT\u001b[0m \u001b[0;34m=\u001b[0m \u001b[0mFeatureAnalysis\u001b[0m\u001b[0;34m(\u001b[0m\u001b[0mconfigs\u001b[0m\u001b[0;34m,\u001b[0m \u001b[0mfeature_path\u001b[0m\u001b[0;34m=\u001b[0m\u001b[0;34mr\"/home/wuwenjun/Alpha_Factor/Alpha\"\u001b[0m\u001b[0;34m)\u001b[0m\u001b[0;34m\u001b[0m\u001b[0;34m\u001b[0m\u001b[0m\n\u001b[0m\u001b[1;32m      6\u001b[0m     \u001b[0malpha_list\u001b[0m \u001b[0;34m=\u001b[0m \u001b[0mlist\u001b[0m\u001b[0;34m(\u001b[0m\u001b[0mFT\u001b[0m\u001b[0;34m.\u001b[0m\u001b[0mfeatures_in_path\u001b[0m\u001b[0;34m.\u001b[0m\u001b[0mkeys\u001b[0m\u001b[0;34m(\u001b[0m\u001b[0;34m)\u001b[0m\u001b[0;34m)\u001b[0m\u001b[0;34m[\u001b[0m\u001b[0;36m0\u001b[0m\u001b[0;34m:\u001b[0m\u001b[0;36m2\u001b[0m\u001b[0;34m]\u001b[0m\u001b[0;34m\u001b[0m\u001b[0;34m\u001b[0m\u001b[0m\n\u001b[1;32m      7\u001b[0m     \u001b[0mstart_date\u001b[0m \u001b[0;34m=\u001b[0m \u001b[0;34m'2018-01-01'\u001b[0m\u001b[0;34m\u001b[0m\u001b[0;34m\u001b[0m\u001b[0m\n",
      "\u001b[0;32m/home/ShareFolder/lgc/Modules/Research/feature/ft.py\u001b[0m in \u001b[0;36m__init__\u001b[0;34m(self, options, mysql_info, feature_path, logger, workers)\u001b[0m\n\u001b[1;32m    154\u001b[0m \u001b[0;34m\u001b[0m\u001b[0m\n\u001b[1;32m    155\u001b[0m         \u001b[0mself\u001b[0m\u001b[0;34m.\u001b[0m\u001b[0mcorr_matrix_loaded\u001b[0m \u001b[0;34m=\u001b[0m \u001b[0;32mFalse\u001b[0m\u001b[0;34m\u001b[0m\u001b[0;34m\u001b[0m\u001b[0m\n\u001b[0;32m--> 156\u001b[0;31m         \u001b[0mself\u001b[0m\u001b[0;34m.\u001b[0m\u001b[0mfeatures_in_path\u001b[0m \u001b[0;34m=\u001b[0m \u001b[0mself\u001b[0m\u001b[0;34m.\u001b[0m\u001b[0mget_features_in_path\u001b[0m\u001b[0;34m(\u001b[0m\u001b[0;34m)\u001b[0m\u001b[0;34m\u001b[0m\u001b[0;34m\u001b[0m\u001b[0m\n\u001b[0m\u001b[1;32m    157\u001b[0m \u001b[0;34m\u001b[0m\u001b[0m\n\u001b[1;32m    158\u001b[0m         \u001b[0;32mif\u001b[0m \u001b[0moptions\u001b[0m\u001b[0;34m.\u001b[0m\u001b[0mfreq\u001b[0m \u001b[0;34m==\u001b[0m \u001b[0;34m'daily'\u001b[0m\u001b[0;34m:\u001b[0m\u001b[0;34m\u001b[0m\u001b[0;34m\u001b[0m\u001b[0m\n",
      "\u001b[0;32m/home/ShareFolder/lgc/Modules/Research/feature/ft.py\u001b[0m in \u001b[0;36mget_features_in_path\u001b[0;34m(self)\u001b[0m\n\u001b[1;32m    200\u001b[0m     \u001b[0;32mdef\u001b[0m \u001b[0mget_features_in_path\u001b[0m\u001b[0;34m(\u001b[0m\u001b[0mself\u001b[0m\u001b[0;34m)\u001b[0m\u001b[0;34m:\u001b[0m\u001b[0;34m\u001b[0m\u001b[0;34m\u001b[0m\u001b[0m\n\u001b[1;32m    201\u001b[0m         \u001b[0;32mif\u001b[0m \u001b[0mself\u001b[0m\u001b[0;34m.\u001b[0m\u001b[0mpathway\u001b[0m \u001b[0;32mis\u001b[0m \u001b[0;32mnot\u001b[0m \u001b[0;32mNone\u001b[0m\u001b[0;34m:\u001b[0m\u001b[0;34m\u001b[0m\u001b[0;34m\u001b[0m\u001b[0m\n\u001b[0;32m--> 202\u001b[0;31m             \u001b[0mresearcher_list\u001b[0m \u001b[0;34m=\u001b[0m \u001b[0mos\u001b[0m\u001b[0;34m.\u001b[0m\u001b[0mlistdir\u001b[0m\u001b[0;34m(\u001b[0m\u001b[0mself\u001b[0m\u001b[0;34m.\u001b[0m\u001b[0mpathway\u001b[0m\u001b[0;34m)\u001b[0m\u001b[0;34m\u001b[0m\u001b[0;34m\u001b[0m\u001b[0m\n\u001b[0m\u001b[1;32m    203\u001b[0m             \u001b[0mfactors_dict\u001b[0m \u001b[0;34m=\u001b[0m \u001b[0mdict\u001b[0m\u001b[0;34m(\u001b[0m\u001b[0;34m)\u001b[0m\u001b[0;34m\u001b[0m\u001b[0;34m\u001b[0m\u001b[0m\n\u001b[1;32m    204\u001b[0m             \u001b[0;32mfor\u001b[0m \u001b[0mresearcher\u001b[0m \u001b[0;32min\u001b[0m \u001b[0mresearcher_list\u001b[0m\u001b[0;34m:\u001b[0m\u001b[0;34m\u001b[0m\u001b[0;34m\u001b[0m\u001b[0m\n",
      "\u001b[0;31mNotADirectoryError\u001b[0m: [Errno 20] Not a directory: '/home/wuwenjun/Alpha_Factor/Alpha/ti0'"
     ]
    }
   ],
   "source": [
    "def test():\n",
    "    config_path = r'/home/ShareFolder/lgc/Modules/Research/config/feature_bt_template'\n",
    "    print('Loading the configuration from ' + config_path)\n",
    "    configs = namespace.load_namespace(config_path)\n",
    "    FT = FeatureAnalysis(configs, feature_path=r\"/home/wuwenjun/Alpha_Factor/Alpha\")\n",
    "    alpha_list = list(FT.features_in_path.keys())[0:2]\n",
    "    start_date = '2018-01-01'\n",
    "    end_date = '2021-03-02'\n",
    "    FT.load_feature_from_file(alpha_list, start_date, end_date, universe='Investable',\n",
    "                                           timedelta=None, transformer=norm.standard_scale)\n",
    "    FT.load_return_data()\n",
    " \n",
    "    for alpha_name in alpha_list:\n",
    "       FT.get_intersection_ic(feature_name=alpha_name, truncate_fold=None, method='spearman',\n",
    "                                         period=('1d', '3d', '5d'))\n",
    "       ic_flag, ic_value = FeatureAnalysis.get_ic_test_result(FT.feature_name, FT.ic_table,\n",
    "                                                                          logger=FT.logger)\n",
    "       df, df_all = FT.get_ic_summary_by_month(num=6)\n",
    " \n",
    "       trading_direction = int(np.sign(ic_value))\n",
    "       if trading_direction == -1:\n",
    "           negative = True\n",
    "       else:\n",
    "           negative = False\n",
    "       FT.get_top_return(alpha_name, negative=negative, trade_type='long-short', transmission_rate=0.0,\n",
    "                                tax_rate=0.0, verbose=True)\n",
    " \n",
    " \n",
    "if __name__ == '__main__':\n",
    "    test()"
   ]
  }
 ],
 "metadata": {
  "kernelspec": {
   "display_name": "Python 3 (ipykernel)",
   "language": "python",
   "name": "python3"
  },
  "language_info": {
   "codemirror_mode": {
    "name": "ipython",
    "version": 3
   },
   "file_extension": ".py",
   "mimetype": "text/x-python",
   "name": "python",
   "nbconvert_exporter": "python",
   "pygments_lexer": "ipython3",
   "version": "3.7.9"
  }
 },
 "nbformat": 4,
 "nbformat_minor": 5
}
