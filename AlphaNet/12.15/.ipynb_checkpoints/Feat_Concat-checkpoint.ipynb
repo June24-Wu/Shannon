{
 "cells": [
  {
   "cell_type": "code",
   "execution_count": 21,
   "id": "7e6c7e03",
   "metadata": {
    "ExecuteTime": {
     "end_time": "2021-12-15T01:59:02.929132Z",
     "start_time": "2021-12-15T01:59:02.922462Z"
    }
   },
   "outputs": [],
   "source": [
    "from os import walk\n",
    "import pandas as pd\n",
    "import numpy as np\n",
    "import torch\n",
    "import torch.nn as nn\n",
    "from progressbar import ProgressBar\n",
    "from tqdm import tqdm\n",
    "import torch.utils.data as Data\n",
    "import torch.optim as optim\n",
    "from tqdm import tqdm\n",
    "from torch.autograd import Variable\n",
    "import time\n",
    "import multiprocessing as mp\n",
    "from os import walk\n",
    "day = 30\n",
    "stride = 10\n",
    "feat_num = 11\n",
    "conv_num = int(feat_num * (feat_num - 1)/2)"
   ]
  },
  {
   "cell_type": "code",
   "execution_count": 4,
   "id": "dc625edd",
   "metadata": {
    "ExecuteTime": {
     "end_time": "2021-12-15T01:50:39.534004Z",
     "start_time": "2021-12-15T01:50:39.518543Z"
    }
   },
   "outputs": [
    {
     "name": "stderr",
     "output_type": "stream",
     "text": [
      "100%|██████████| 26/26 [00:00<00:00, 190317.46it/s]\n"
     ]
    },
    {
     "data": {
      "text/plain": [
       "['2015-01-01_2015-03-01.par',\n",
       " '2015-03-01_2015-06-01.par',\n",
       " '2016-01-01_2016-03-01.par',\n",
       " '2017-01-01_2017-03-01.par',\n",
       " '2015-06-01_2015-09-01.par',\n",
       " '2018-01-01_2018-03-01.par',\n",
       " '2016-03-01_2016-06-01.par',\n",
       " '2021-01-01_2021-03-01.par',\n",
       " '2016-06-01_2016-09-01.par',\n",
       " '2015-09-01_2016-01-01.par',\n",
       " '2020-01-01_2020-03-01.par',\n",
       " '2019-01-01_2019-03-01.par',\n",
       " '2017-03-01_2017-06-01.par',\n",
       " '2021-03-01_2021-06-01.par',\n",
       " '2018-03-01_2018-06-01.par',\n",
       " '2018-06-01_2018-09-01.par',\n",
       " '2016-09-01_2017-01-01.par',\n",
       " '2017-06-01_2017-09-01.par',\n",
       " '2020-06-01_2020-09-01.par',\n",
       " '2020-03-01_2020-06-01.par',\n",
       " '2020-09-01_2021-01-01.par',\n",
       " '2019-06-01_2019-09-01.par',\n",
       " '2019-03-01_2019-06-01.par',\n",
       " '2017-09-01_2018-01-01.par',\n",
       " '2018-09-01_2019-01-01.par',\n",
       " '2019-09-01_2020-01-01.par']"
      ]
     },
     "execution_count": 4,
     "metadata": {},
     "output_type": "execute_result"
    }
   ],
   "source": [
    "time_list = []\n",
    "path = \"/home/wuwenjun/Data/AlphaNet_Original_Input_12.14/\"\n",
    "data_path = path + \"Data/\"\n",
    "dataframe_list = pd.DataFrame()\n",
    "for f, _, i in walk(data_path):\n",
    "    for j in tqdm(i):\n",
    "        time_list.append(j)\n",
    "time_list"
   ]
  },
  {
   "cell_type": "code",
   "execution_count": 30,
   "id": "d479f8fa",
   "metadata": {
    "ExecuteTime": {
     "end_time": "2021-12-15T02:08:49.311127Z",
     "start_time": "2021-12-15T02:08:49.303767Z"
    }
   },
   "outputs": [
    {
     "data": {
      "text/plain": [
       "'2015-03-01_2015-06-01.par'"
      ]
     },
     "execution_count": 30,
     "metadata": {},
     "output_type": "execute_result"
    }
   ],
   "source": [
    "data_time = time_list[1]\n",
    "data_time"
   ]
  },
  {
   "cell_type": "code",
   "execution_count": 43,
   "id": "2b3d63f4",
   "metadata": {
    "ExecuteTime": {
     "end_time": "2021-12-15T02:12:41.851285Z",
     "start_time": "2021-12-15T02:12:40.252846Z"
    }
   },
   "outputs": [
    {
     "data": {
      "text/plain": [
       "torch.Size([134083, 154, 3])"
      ]
     },
     "execution_count": 43,
     "metadata": {},
     "output_type": "execute_result"
    }
   ],
   "source": [
    "path_list = ['Cov','Corr','Std','Zscore','Return','Decay']\n",
    "def reshape(data_path,feat_num):\n",
    "    data = pd.read_parquet(data_path)\n",
    "    data = np.array(data.set_index([\"timestamp\",\"ticker\"]))\n",
    "    data = data.reshape(data.shape[0],feat_num,-1)\n",
    "    return torch.from_numpy(data)\n",
    "feat_cat = []\n",
    "for i in path_list:\n",
    "    if i in [\"Cov\",\"Corr\"]:\n",
    "        feat_cat.append(reshape(path + i +\"/\" + data_time,conv_num))\n",
    "    else:\n",
    "        feat_cat.append(reshape(path + i +\"/\" + data_time,feat_num))\n",
    "feat_cat = torch.cat(feat_cat, axis=1)\n",
    "feat_cat.shape"
   ]
  },
  {
   "cell_type": "code",
   "execution_count": 44,
   "id": "f72c4e69",
   "metadata": {
    "ExecuteTime": {
     "end_time": "2021-12-15T02:13:39.222222Z",
     "start_time": "2021-12-15T02:13:39.212935Z"
    }
   },
   "outputs": [],
   "source": [
    "batch = nn.BatchNorm1d(feat_cat.shape[1], affine=True)\n",
    "bc = batch(feat_cat.to(torch.float))"
   ]
  },
  {
   "cell_type": "code",
   "execution_count": 49,
   "id": "6c5044dc",
   "metadata": {
    "ExecuteTime": {
     "end_time": "2021-12-15T02:14:50.562916Z",
     "start_time": "2021-12-15T02:14:50.106109Z"
    }
   },
   "outputs": [],
   "source": [
    "\n",
    "# feat_cat.dtype"
   ]
  },
  {
   "cell_type": "code",
   "execution_count": 51,
   "id": "883d2b7e",
   "metadata": {
    "ExecuteTime": {
     "end_time": "2021-12-15T02:14:58.944357Z",
     "start_time": "2021-12-15T02:14:58.922513Z"
    }
   },
   "outputs": [
    {
     "data": {
      "text/plain": [
       "tensor([[-6.3918e-02, -6.5509e-02, -6.5508e-02],\n",
       "        [-6.1593e-02, -6.3086e-02, -6.3083e-02],\n",
       "        [-6.0243e-02, -6.1826e-02, -6.1789e-02],\n",
       "        [-5.8619e-02, -5.9576e-02, -5.9744e-02],\n",
       "        [-6.0095e-02, -6.1593e-02, -6.1545e-02],\n",
       "        [-2.7701e-02, -1.0592e-01, -1.2154e-01],\n",
       "        [ 3.0270e-02,  2.0677e-01,  2.1936e-01],\n",
       "        [-1.1117e-01, -1.1473e-01, -1.1545e-01],\n",
       "        [-1.2863e-01, -1.3433e-01, -1.3547e-01],\n",
       "        [ 4.9474e-02,  6.6967e-02,  6.8180e-02],\n",
       "        [-6.2340e-02, -6.3985e-02, -6.4268e-02],\n",
       "        [-6.0818e-02, -6.3146e-02, -6.3147e-02],\n",
       "        [-5.8881e-02, -6.1055e-02, -6.1237e-02],\n",
       "        [-6.0675e-02, -6.2707e-02, -6.2889e-02],\n",
       "        [-4.8993e-01,  1.5602e-01, -1.4058e-01],\n",
       "        [ 2.3710e-01,  1.7655e-01,  1.5325e-01],\n",
       "        [-1.4635e-01, -1.1556e-01, -1.2970e-01],\n",
       "        [-1.7809e-01, -1.2917e-01, -1.5163e-01],\n",
       "        [ 5.1565e-02,  4.4704e-02,  4.2593e-02],\n",
       "        [-6.0993e-02, -6.2982e-02, -6.2998e-02],\n",
       "        [-6.2599e-02, -6.4588e-02, -6.4716e-02],\n",
       "        [-6.2901e-02, -6.4718e-02, -6.4850e-02],\n",
       "        [-3.6158e-01,  4.5303e-02, -1.6805e-01],\n",
       "        [-1.7216e-02, -7.7469e-02, -9.4859e-02],\n",
       "        [-2.1578e-01, -1.9584e-01, -2.0630e-01],\n",
       "        [-2.5695e-01, -2.2512e-01, -2.4181e-01],\n",
       "        [-3.1007e-02, -3.7416e-02, -3.8990e-02],\n",
       "        [-5.9726e-02, -6.1975e-02, -6.2149e-02],\n",
       "        [-6.0480e-02, -6.2799e-02, -6.2740e-02],\n",
       "        [-5.7095e-01, -9.2524e-03, -1.4006e-01],\n",
       "        [ 6.8273e-02, -1.0135e-02, -3.8227e-02],\n",
       "        [-1.2799e-01, -1.0117e-01, -1.0741e-01],\n",
       "        [-1.5907e-01, -1.1690e-01, -1.2672e-01],\n",
       "        [-1.2490e-02, -2.1349e-02, -2.3974e-02],\n",
       "        [-6.1847e-02, -6.4089e-02, -6.4178e-02],\n",
       "        [-5.2329e-01, -1.2058e-01, -1.3683e-01],\n",
       "        [-8.9153e-02, -2.4196e-01, -2.5938e-01],\n",
       "        [-2.0637e-01, -1.8629e-01, -1.8710e-01],\n",
       "        [-2.4736e-01, -2.1574e-01, -2.1702e-01],\n",
       "        [-7.9070e-02, -9.3761e-02, -9.5221e-02],\n",
       "        [-4.8169e-01,  2.9799e-02, -1.5264e-01],\n",
       "        [-1.9910e-02, -1.0936e-01, -1.2709e-01],\n",
       "        [-1.8529e-01, -1.6024e-01, -1.6918e-01],\n",
       "        [-2.2342e-01, -1.8374e-01, -1.9789e-01],\n",
       "        [-4.4958e-02, -5.4365e-02, -5.5959e-02],\n",
       "        [-1.2431e+00, -8.5791e-02, -9.4310e-02],\n",
       "        [-9.5113e-02, -1.3494e-01, -2.4105e-01],\n",
       "        [-6.6528e-02, -1.1180e-01, -2.3243e-01],\n",
       "        [-1.5968e+00, -8.6255e-02, -9.4105e-02],\n",
       "        [-6.5903e-01, -4.6612e-01, -4.6754e-01],\n",
       "        [-7.8088e-01, -5.0811e-01, -5.1011e-01],\n",
       "        [-1.1794e-01, -4.4162e-01, -4.7118e-01],\n",
       "        [-4.5192e-01, -4.5735e-01, -4.7182e-01],\n",
       "        [-3.3382e-01, -2.5418e-01, -2.5460e-01],\n",
       "        [-4.2792e-01, -3.0093e-01, -3.0159e-01],\n",
       "        [-4.6158e+00, -6.3943e+00,  5.1960e-01],\n",
       "        [-8.2872e-01, -2.0164e+00,  2.7521e-01],\n",
       "        [-1.2861e+00, -6.7656e-01,  4.8256e-01],\n",
       "        [-9.0732e-01, -1.5688e-01,  7.2044e-02],\n",
       "        [-1.1440e+00, -1.7093e+00,  2.6110e-01],\n",
       "        [-4.7790e-01, -7.3228e-01, -1.1803e+00],\n",
       "        [-7.1911e-01, -4.0918e-01, -6.7752e-01],\n",
       "        [-4.9399e-01, -7.5165e-01, -1.2054e+00],\n",
       "        [-4.9376e-01, -7.5144e-01, -1.2051e+00],\n",
       "        [-7.1013e-01, -4.5665e-01, -6.8537e-01],\n",
       "        [ 6.5536e-01,  5.1212e-01,  2.0013e-01],\n",
       "        [ 8.3534e-01, -7.2397e-01,  3.9028e-01],\n",
       "        [ 8.9184e-01, -4.0040e-01, -1.1656e-01],\n",
       "        [ 9.7566e-01,  4.8154e-01,  1.1114e-01],\n",
       "        [-1.7811e+00,  7.8609e-01, -1.2933e+00],\n",
       "        [ 1.5807e+00,  1.0519e+00, -9.5946e-01],\n",
       "        [-1.8149e+00,  7.8676e-01, -1.3206e+00],\n",
       "        [-1.8148e+00,  7.8698e-01, -1.3204e+00],\n",
       "        [ 1.5474e+00,  9.5322e-01, -9.6032e-01],\n",
       "        [ 5.4658e-01, -6.4953e-01,  1.8892e-01],\n",
       "        [ 4.1718e-01, -1.9785e+00, -1.1606e-01],\n",
       "        [ 3.3113e-01, -8.9527e-02, -6.2408e-02],\n",
       "        [-2.1762e+00,  5.1487e-01, -1.2113e+00],\n",
       "        [ 3.5715e-01,  3.2868e-01, -9.0851e-01],\n",
       "        [-2.2439e+00,  5.1785e-01, -1.2538e+00],\n",
       "        [-2.2461e+00,  5.1775e-01, -1.2551e+00],\n",
       "        [ 3.3628e-01,  2.6686e-01, -9.3106e-01],\n",
       "        [ 3.9272e-01,  4.6096e-01, -7.8624e-01],\n",
       "        [ 6.5759e-01, -7.2367e-01,  2.3905e-01],\n",
       "        [-1.8596e+00, -1.1120e-01, -1.3666e+00],\n",
       "        [ 6.7962e-01,  5.1462e-01, -1.3425e+00],\n",
       "        [-1.8929e+00, -1.2186e-01, -1.3936e+00],\n",
       "        [-1.8932e+00, -1.2200e-01, -1.3937e+00],\n",
       "        [ 6.8501e-01,  4.5029e-01, -1.3796e+00],\n",
       "        [ 2.8397e-01, -2.5417e+00, -6.4609e-01],\n",
       "        [-2.3501e+00, -9.7824e-01, -8.2085e-01],\n",
       "        [ 4.4362e-01,  1.0781e-02, -6.1748e-01],\n",
       "        [-2.4135e+00, -1.0105e+00, -8.4968e-01],\n",
       "        [-2.4159e+00, -1.0119e+00, -8.5061e-01],\n",
       "        [ 4.3629e-01, -6.5950e-02, -6.7024e-01],\n",
       "        [-2.1914e+00,  3.8623e-01, -1.3180e+00],\n",
       "        [ 4.6742e-01,  3.1294e-01, -1.0234e+00],\n",
       "        [-2.2453e+00,  3.8424e-01, -1.3545e+00],\n",
       "        [-2.2465e+00,  3.8404e-01, -1.3551e+00],\n",
       "        [ 4.6413e-01,  2.5393e-01, -1.0616e+00],\n",
       "        [-2.0233e+00, -4.3327e-01,  4.0682e-01],\n",
       "        [ 9.5530e-02,  9.5530e-02,  9.5530e-02],\n",
       "        [ 1.0009e-01,  1.0009e-01,  1.0009e-01],\n",
       "        [-2.0778e+00, -4.3881e-01,  4.1281e-01],\n",
       "        [-2.0286e+00, -4.3563e-01,  4.0583e-01],\n",
       "        [-2.0316e+00, -4.3719e-01,  4.0527e-01],\n",
       "        [ 8.4775e-02,  1.0765e-01,  1.1326e-01],\n",
       "        [ 7.6748e-02,  7.6748e-02,  7.6748e-02],\n",
       "        [-2.0822e+00, -4.4081e-01,  4.1186e-01],\n",
       "        [-2.0853e+00, -4.4234e-01,  4.1140e-01],\n",
       "        [-2.6040e-01, -3.9897e-01, -4.2636e-01],\n",
       "        [-2.8566e-01, -3.8659e-01, -4.1941e-01],\n",
       "        [-3.1272e-01, -4.1488e-01, -4.4057e-01],\n",
       "        [-2.5763e-01, -4.0483e-01, -3.9138e-01],\n",
       "        [-2.7190e-01, -4.0433e-01, -4.3733e-01],\n",
       "        [-2.7814e-01, -4.1033e-01, -4.1557e-01],\n",
       "        [ 8.6246e-01,  7.1627e-01,  1.5708e-01],\n",
       "        [ 6.1829e-01, -1.2553e+00, -1.6481e+00],\n",
       "        [-8.6431e-01, -8.9789e-01, -1.0264e+00],\n",
       "        [-9.1547e-01, -9.6653e-01, -1.1618e+00],\n",
       "        [-1.5812e-01, -5.3146e-01, -6.0136e-01],\n",
       "        [-2.4614e-01,  1.4631e+00,  2.4523e+00],\n",
       "        [-8.8151e-02,  1.1893e+00,  2.2268e+00],\n",
       "        [ 9.0993e-02,  1.7954e+00,  3.0063e+00],\n",
       "        [-2.3636e-01,  1.8579e+00,  1.4049e+00],\n",
       "        [-1.8859e-01,  1.6300e+00,  3.1889e+00],\n",
       "        [-1.2888e-01,  2.0659e+00,  2.2761e+00],\n",
       "        [ 6.2102e-01,  1.6374e-01,  1.2221e+00],\n",
       "        [-1.7804e-02, -2.7854e-02, -3.3995e-03],\n",
       "        [ 6.1637e-01,  1.5931e-01,  1.2173e+00],\n",
       "        [ 6.1848e-01,  1.6042e-01,  1.2205e+00],\n",
       "        [-1.1418e+00, -2.0796e+00,  2.6076e-01],\n",
       "        [-9.8858e-01, -9.1383e-01, -2.4471e-01],\n",
       "        [-8.4880e-01, -9.4706e-01, -2.4638e-01],\n",
       "        [-7.9078e-01, -8.3713e-01, -3.0632e-01],\n",
       "        [-7.0175e-01, -1.0353e+00, -1.1819e-01],\n",
       "        [-7.7669e-01, -1.0372e+00, -3.0208e-01],\n",
       "        [-7.5462e-01, -9.0467e-01, -2.2368e-01],\n",
       "        [-2.8709e-02, -2.8709e-02, -2.8712e-02],\n",
       "        [-3.5115e-02,  4.1045e-01, -6.6279e-01],\n",
       "        [-7.4798e-02, -7.1155e-02, -8.5368e-02],\n",
       "        [-7.4360e-02, -7.0817e-02, -8.4635e-02],\n",
       "        [-3.1079e-02,  3.5452e-01, -6.2443e-01],\n",
       "        [-3.7566e-01, -4.0858e-01, -4.0727e-01],\n",
       "        [-3.8371e-01, -4.0686e-01, -4.0710e-01],\n",
       "        [-3.8370e-01, -4.1528e-01, -4.1732e-01],\n",
       "        [-3.7745e-01, -4.0682e-01, -4.0125e-01],\n",
       "        [-3.8316e-01, -4.1772e-01, -4.1040e-01],\n",
       "        [-3.8086e-01, -4.1091e-01, -4.0993e-01],\n",
       "        [ 1.4384e+00,  9.4622e-01,  5.2230e-01],\n",
       "        [-8.4225e-01, -1.1413e+00, -4.7991e-01],\n",
       "        [-9.1252e-01, -1.0567e+00, -1.1809e+00],\n",
       "        [-9.3531e-01, -1.1658e+00, -1.3644e+00],\n",
       "        [-4.3367e-01, -5.0686e-01, -2.9068e-01]], grad_fn=<SelectBackward0>)"
      ]
     },
     "execution_count": 51,
     "metadata": {},
     "output_type": "execute_result"
    }
   ],
   "source": [
    "bc[0]"
   ]
  },
  {
   "cell_type": "code",
   "execution_count": 58,
   "id": "3eeae166",
   "metadata": {
    "ExecuteTime": {
     "end_time": "2021-12-15T02:26:06.368704Z",
     "start_time": "2021-12-15T02:26:06.225420Z"
    }
   },
   "outputs": [],
   "source": [
    "max_pooling = torch.nn.MaxPool1d(kernel_size = 3, stride=1)(bc) # Max Pooling\n",
    "avg_pooling = torch.nn.AvgPool1d(kernel_size = 3, stride=1)(bc)[0] # Mean Pooling\n",
    "min_pooling = -(torch.nn.MaxPool1d(kernel_size = 3, stride=1)(-bc)[0]) # MinPooling"
   ]
  },
  {
   "cell_type": "code",
   "execution_count": 61,
   "id": "5f23bac8",
   "metadata": {
    "ExecuteTime": {
     "end_time": "2021-12-15T02:26:21.164445Z",
     "start_time": "2021-12-15T02:26:21.152965Z"
    }
   },
   "outputs": [
    {
     "data": {
      "text/plain": [
       "tensor([[[-0.0639],\n",
       "         [-0.0616],\n",
       "         [-0.0602],\n",
       "         ...,\n",
       "         [-0.9125],\n",
       "         [-0.9353],\n",
       "         [-0.2907]],\n",
       "\n",
       "        [[-0.0641],\n",
       "         [-0.0616],\n",
       "         [-0.0603],\n",
       "         ...,\n",
       "         [-0.9386],\n",
       "         [-0.9770],\n",
       "         [-0.2934]],\n",
       "\n",
       "        [[-0.0642],\n",
       "         [-0.0616],\n",
       "         [-0.0603],\n",
       "         ...,\n",
       "         [-0.9438],\n",
       "         [-0.9853],\n",
       "         [-0.3608]],\n",
       "\n",
       "        ...,\n",
       "\n",
       "        [[-0.0204],\n",
       "         [-0.0196],\n",
       "         [-0.0143],\n",
       "         ...,\n",
       "         [ 3.3878],\n",
       "         [ 3.0840],\n",
       "         [ 1.1104]],\n",
       "\n",
       "        [[-0.0537],\n",
       "         [-0.0514],\n",
       "         [-0.0510],\n",
       "         ...,\n",
       "         [-0.3208],\n",
       "         [-0.0083],\n",
       "         [ 0.1051]],\n",
       "\n",
       "        [[ 0.3776],\n",
       "         [ 0.3895],\n",
       "         [ 0.3114],\n",
       "         ...,\n",
       "         [ 3.0895],\n",
       "         [ 1.9683],\n",
       "         [ 1.6783]]], grad_fn=<SqueezeBackward1>)"
      ]
     },
     "execution_count": 61,
     "metadata": {},
     "output_type": "execute_result"
    }
   ],
   "source": [
    "max_pooling"
   ]
  },
  {
   "cell_type": "code",
   "execution_count": 3,
   "id": "d194768b",
   "metadata": {
    "ExecuteTime": {
     "end_time": "2021-12-09T07:16:37.329353Z",
     "start_time": "2021-12-09T07:11:46.804447Z"
    }
   },
   "outputs": [
    {
     "name": "stdout",
     "output_type": "stream",
     "text": [
      "trainx.shape:  (459371, 1, 11, 30)\n",
      "trainy.shape:  (459371, 1)\n",
      "testx.shape:  (451184, 1, 11, 30)\n",
      "testy.shape:  (451184, 1)\n"
     ]
    },
    {
     "name": "stderr",
     "output_type": "stream",
     "text": [
      "\r",
      "  0%|          | 0/3 [00:00<?, ?it/s]"
     ]
    },
    {
     "name": "stdout",
     "output_type": "stream",
     "text": [
      "------Start Extraction------\n"
     ]
    },
    {
     "name": "stderr",
     "output_type": "stream",
     "text": [
      "100%|██████████| 3/3 [01:26<00:00, 28.72s/it]\n",
      "  0%|          | 0/3 [00:00<?, ?it/s]"
     ]
    },
    {
     "name": "stdout",
     "output_type": "stream",
     "text": [
      "------Finished ts_cov4d----output shape:  torch.Size([459371, 55, 3])\n"
     ]
    },
    {
     "name": "stderr",
     "output_type": "stream",
     "text": [
      "100%|██████████| 3/3 [00:52<00:00, 17.59s/it]\n"
     ]
    },
    {
     "name": "stdout",
     "output_type": "stream",
     "text": [
      "------Finished ts_corr4d----output shape:  torch.Size([459371, 55, 3])\n"
     ]
    },
    {
     "name": "stderr",
     "output_type": "stream",
     "text": [
      "100%|██████████| 3/3 [00:01<00:00,  1.67it/s]\n",
      "  0%|          | 0/3 [00:00<?, ?it/s]"
     ]
    },
    {
     "name": "stdout",
     "output_type": "stream",
     "text": [
      "------Finished ts_stddev4d----output shape:  torch.Size([459371, 11, 3])\n"
     ]
    },
    {
     "name": "stderr",
     "output_type": "stream",
     "text": [
      "100%|██████████| 3/3 [00:01<00:00,  1.58it/s]\n"
     ]
    },
    {
     "name": "stdout",
     "output_type": "stream",
     "text": [
      "------Finished ts_zscore----output shape:  torch.Size([459371, 11, 3])\n"
     ]
    },
    {
     "name": "stderr",
     "output_type": "stream",
     "text": [
      "100%|██████████| 3/3 [00:00<00:00, 41.35it/s]\n",
      "  0%|          | 0/3 [00:00<?, ?it/s]"
     ]
    },
    {
     "name": "stdout",
     "output_type": "stream",
     "text": [
      "------Finished ts_return----output shape:  torch.Size([459371, 11, 3])\n"
     ]
    },
    {
     "name": "stderr",
     "output_type": "stream",
     "text": [
      "100%|██████████| 3/3 [00:01<00:00,  2.93it/s]\n"
     ]
    },
    {
     "name": "stdout",
     "output_type": "stream",
     "text": [
      "------Finished ts_decaylinear----output shape:  torch.Size([459371, 11, 3])\n",
      "Convolutional shape:  torch.Size([459371, 1, 154, 3])\n"
     ]
    },
    {
     "name": "stderr",
     "output_type": "stream",
     "text": [
      "\r",
      "  0%|          | 0/1 [00:00<?, ?it/s]"
     ]
    },
    {
     "name": "stdout",
     "output_type": "stream",
     "text": [
      "------Start Pooling------\n"
     ]
    },
    {
     "name": "stderr",
     "output_type": "stream",
     "text": [
      "100%|██████████| 1/1 [00:03<00:00,  3.11s/it]\n",
      "100%|██████████| 1/1 [00:02<00:00,  2.96s/it]\n",
      "100%|██████████| 1/1 [00:01<00:00,  1.23s/it]\n"
     ]
    },
    {
     "name": "stdout",
     "output_type": "stream",
     "text": [
      "Pooling shape:  torch.Size([459371, 462])\n",
      "trainx.shape :  (459371, 462)\n",
      "trainy.shape :  (459371, 1)\n"
     ]
    },
    {
     "name": "stderr",
     "output_type": "stream",
     "text": [
      "\r",
      "  0%|          | 0/3 [00:00<?, ?it/s]"
     ]
    },
    {
     "name": "stdout",
     "output_type": "stream",
     "text": [
      "------Start Extraction------\n"
     ]
    },
    {
     "name": "stderr",
     "output_type": "stream",
     "text": [
      "100%|██████████| 3/3 [00:47<00:00, 15.83s/it]\n",
      "  0%|          | 0/3 [00:00<?, ?it/s]"
     ]
    },
    {
     "name": "stdout",
     "output_type": "stream",
     "text": [
      "------Finished ts_cov4d----output shape:  torch.Size([451184, 55, 3])\n"
     ]
    },
    {
     "name": "stderr",
     "output_type": "stream",
     "text": [
      "100%|██████████| 3/3 [00:47<00:00, 15.87s/it]\n"
     ]
    },
    {
     "name": "stdout",
     "output_type": "stream",
     "text": [
      "------Finished ts_corr4d----output shape:  torch.Size([451184, 55, 3])\n"
     ]
    },
    {
     "name": "stderr",
     "output_type": "stream",
     "text": [
      "100%|██████████| 3/3 [00:01<00:00,  1.94it/s]\n",
      "  0%|          | 0/3 [00:00<?, ?it/s]"
     ]
    },
    {
     "name": "stdout",
     "output_type": "stream",
     "text": [
      "------Finished ts_stddev4d----output shape:  torch.Size([451184, 11, 3])\n"
     ]
    },
    {
     "name": "stderr",
     "output_type": "stream",
     "text": [
      "100%|██████████| 3/3 [00:01<00:00,  1.72it/s]\n"
     ]
    },
    {
     "name": "stdout",
     "output_type": "stream",
     "text": [
      "------Finished ts_zscore----output shape:  torch.Size([451184, 11, 3])\n"
     ]
    },
    {
     "name": "stderr",
     "output_type": "stream",
     "text": [
      "100%|██████████| 3/3 [00:00<00:00, 59.28it/s]\n",
      "  0%|          | 0/3 [00:00<?, ?it/s]"
     ]
    },
    {
     "name": "stdout",
     "output_type": "stream",
     "text": [
      "------Finished ts_return----output shape:  torch.Size([451184, 11, 3])\n"
     ]
    },
    {
     "name": "stderr",
     "output_type": "stream",
     "text": [
      "100%|██████████| 3/3 [00:00<00:00,  3.20it/s]\n"
     ]
    },
    {
     "name": "stdout",
     "output_type": "stream",
     "text": [
      "------Finished ts_decaylinear----output shape:  torch.Size([451184, 11, 3])\n",
      "Convolutional shape:  torch.Size([451184, 1, 154, 3])\n"
     ]
    },
    {
     "name": "stderr",
     "output_type": "stream",
     "text": [
      "\r",
      "  0%|          | 0/1 [00:00<?, ?it/s]"
     ]
    },
    {
     "name": "stdout",
     "output_type": "stream",
     "text": [
      "------Start Pooling------\n"
     ]
    },
    {
     "name": "stderr",
     "output_type": "stream",
     "text": [
      "100%|██████████| 1/1 [00:03<00:00,  3.16s/it]\n",
      "100%|██████████| 1/1 [00:03<00:00,  3.01s/it]\n",
      "100%|██████████| 1/1 [00:01<00:00,  1.21s/it]\n"
     ]
    },
    {
     "name": "stdout",
     "output_type": "stream",
     "text": [
      "Pooling shape:  torch.Size([451184, 462])\n",
      "testx.shape :  (451184, 462)\n",
      "testy.shape :  (451184, 1)\n",
      "trainx size:  torch.Size([459371, 462])\n",
      "trainy size:  torch.Size([459371, 1])\n",
      "testx size:  torch.Size([451184, 462])\n",
      "testy size:  torch.Size([451184, 1])\n"
     ]
    }
   ],
   "source": [
    "time_start = 20210101\n",
    "time_end = 20210630\n",
    "trainx, trainy, feat_num = get_train_data(time_start, time_end)\n",
    "testx, testy, test_target = get_test_data(time_start, time_end)\n",
    "del dataframe_list\n",
    "\"\"\"Convolutional \"\"\"\n",
    "convolutional = Convolutional(trainx, 10)\n",
    "feat_cat = convolutional.extracted_data\n",
    "pooling = Pooling(feat_cat, 3)\n",
    "trainx = pooling.extracted_data.detach().numpy()\n",
    "print(\"trainx.shape : \", trainx.shape)\n",
    "print(\"trainy.shape : \", trainy.shape)\n",
    "\n",
    "convolutional = Convolutional(testx, 10)\n",
    "feat_cat = convolutional.extracted_data\n",
    "pooling = Pooling(feat_cat, 3)\n",
    "testx = pooling.extracted_data.detach().numpy()\n",
    "print(\"testx.shape : \", testx.shape)\n",
    "print(\"testy.shape : \", testy.shape)\n",
    "\n",
    "trainx, trainy, testx, testy = torch.from_numpy(trainx), torch.from_numpy(trainy), torch.from_numpy(\n",
    "    testx), torch.from_numpy(testy)\n",
    "print('trainx size: ', trainx.size())\n",
    "print('trainy size: ', trainy.size())\n",
    "print('testx size: ', testx.size())\n",
    "print('testy size: ', testy.size())\n",
    "torch.save(trainx, output_path + \"/trainx/\" + '%s_%s.pt' % (time_start, time_end))\n",
    "torch.save(trainy, output_path + \"/trainy/\" + '%s_%s.pt' % (time_start, time_end))\n",
    "torch.save(testx, output_path + \"/testx/\" + '%s_%s.pt' % (time_start, time_end))\n",
    "torch.save(testy, output_path + \"/testy/\" + '%s_%s.pt' % (time_start, time_end))\n",
    "test_target.set_index([\"timestamp\",\"ticker\"]).to_csv(output_path + \"/test_target/\" + '%s_%s.csv' % (time_start, time_end))"
   ]
  },
  {
   "cell_type": "code",
   "execution_count": 17,
   "id": "f5b582c8",
   "metadata": {
    "ExecuteTime": {
     "end_time": "2021-12-09T04:55:17.921432Z",
     "start_time": "2021-12-09T04:55:13.000115Z"
    }
   },
   "outputs": [
    {
     "name": "stdout",
     "output_type": "stream",
     "text": [
      "trainx size:  torch.Size([2961314, 462])\n",
      "trainy size:  torch.Size([2961314, 1])\n",
      "testx size:  torch.Size([436426, 462])\n",
      "testy size:  torch.Size([436426, 1])\n"
     ]
    },
    {
     "data": {
      "text/html": [
       "<div>\n",
       "<style scoped>\n",
       "    .dataframe tbody tr th:only-of-type {\n",
       "        vertical-align: middle;\n",
       "    }\n",
       "\n",
       "    .dataframe tbody tr th {\n",
       "        vertical-align: top;\n",
       "    }\n",
       "\n",
       "    .dataframe thead th {\n",
       "        text-align: right;\n",
       "    }\n",
       "</style>\n",
       "<table border=\"1\" class=\"dataframe\">\n",
       "  <thead>\n",
       "    <tr style=\"text-align: right;\">\n",
       "      <th></th>\n",
       "      <th>timestamp</th>\n",
       "      <th>ticker</th>\n",
       "      <th>target</th>\n",
       "    </tr>\n",
       "  </thead>\n",
       "  <tbody>\n",
       "    <tr>\n",
       "      <th>0</th>\n",
       "      <td>2019-07-01 09:30:00</td>\n",
       "      <td>1</td>\n",
       "      <td>-0.013562</td>\n",
       "    </tr>\n",
       "    <tr>\n",
       "      <th>1</th>\n",
       "      <td>2019-07-02 09:30:00</td>\n",
       "      <td>1</td>\n",
       "      <td>-0.018012</td>\n",
       "    </tr>\n",
       "    <tr>\n",
       "      <th>2</th>\n",
       "      <td>2019-07-03 09:30:00</td>\n",
       "      <td>1</td>\n",
       "      <td>-0.040197</td>\n",
       "    </tr>\n",
       "    <tr>\n",
       "      <th>3</th>\n",
       "      <td>2019-07-04 09:30:00</td>\n",
       "      <td>1</td>\n",
       "      <td>-0.023555</td>\n",
       "    </tr>\n",
       "    <tr>\n",
       "      <th>4</th>\n",
       "      <td>2019-07-05 09:30:00</td>\n",
       "      <td>1</td>\n",
       "      <td>-0.025090</td>\n",
       "    </tr>\n",
       "    <tr>\n",
       "      <th>...</th>\n",
       "      <td>...</td>\n",
       "      <td>...</td>\n",
       "      <td>...</td>\n",
       "    </tr>\n",
       "    <tr>\n",
       "      <th>436421</th>\n",
       "      <td>2019-12-31 09:30:00</td>\n",
       "      <td>688188</td>\n",
       "      <td>-0.035886</td>\n",
       "    </tr>\n",
       "    <tr>\n",
       "      <th>436422</th>\n",
       "      <td>2019-12-31 09:30:00</td>\n",
       "      <td>2960</td>\n",
       "      <td>0.012141</td>\n",
       "    </tr>\n",
       "    <tr>\n",
       "      <th>436423</th>\n",
       "      <td>2019-12-31 09:30:00</td>\n",
       "      <td>603115</td>\n",
       "      <td>0.031416</td>\n",
       "    </tr>\n",
       "    <tr>\n",
       "      <th>436424</th>\n",
       "      <td>2019-12-31 09:30:00</td>\n",
       "      <td>688321</td>\n",
       "      <td>0.018588</td>\n",
       "    </tr>\n",
       "    <tr>\n",
       "      <th>436425</th>\n",
       "      <td>2019-12-31 09:30:00</td>\n",
       "      <td>300787</td>\n",
       "      <td>-0.142691</td>\n",
       "    </tr>\n",
       "  </tbody>\n",
       "</table>\n",
       "<p>436426 rows × 3 columns</p>\n",
       "</div>"
      ],
      "text/plain": [
       "                  timestamp  ticker    target\n",
       "0       2019-07-01 09:30:00       1 -0.013562\n",
       "1       2019-07-02 09:30:00       1 -0.018012\n",
       "2       2019-07-03 09:30:00       1 -0.040197\n",
       "3       2019-07-04 09:30:00       1 -0.023555\n",
       "4       2019-07-05 09:30:00       1 -0.025090\n",
       "...                     ...     ...       ...\n",
       "436421  2019-12-31 09:30:00  688188 -0.035886\n",
       "436422  2019-12-31 09:30:00    2960  0.012141\n",
       "436423  2019-12-31 09:30:00  603115  0.031416\n",
       "436424  2019-12-31 09:30:00  688321  0.018588\n",
       "436425  2019-12-31 09:30:00  300787 -0.142691\n",
       "\n",
       "[436426 rows x 3 columns]"
      ]
     },
     "execution_count": 17,
     "metadata": {},
     "output_type": "execute_result"
    }
   ],
   "source": [
    "trainx = torch.load(\"/home/wuwenjun/Alpha_Factor/AlphaNetV1_Original_Input_1208/trainx/20190630_20200101.pt\")\n",
    "trainy = torch.load(\"/home/wuwenjun/Alpha_Factor/AlphaNetV1_Original_Input_1208/trainy/20190630_20200101.pt\")\n",
    "testx = torch.load(\"/home/wuwenjun/Alpha_Factor/AlphaNetV1_Original_Input_1208/testx/20190630_20200101.pt\")\n",
    "testy = torch.load(\"/home/wuwenjun/Alpha_Factor/AlphaNetV1_Original_Input_1208/testy/20190630_20200101.pt\")\n",
    "test_target = pd.read_csv(\"/home/wuwenjun/Alpha_Factor/AlphaNetV1_Original_Input_1208/test_target/20190630_20200101.csv\")\n",
    "print('trainx size: ', trainx.size())\n",
    "print('trainy size: ', trainy.size())\n",
    "print('testx size: ', testx.size())\n",
    "print('testy size: ', testy.size())\n",
    "test_target"
   ]
  },
  {
   "cell_type": "code",
   "execution_count": 23,
   "id": "210a8769",
   "metadata": {
    "ExecuteTime": {
     "end_time": "2021-12-09T07:32:13.260476Z",
     "start_time": "2021-12-09T07:32:12.506093Z"
    }
   },
   "outputs": [],
   "source": [
    "# device = torch.device(\"cuda:0\" if torch.cuda.is_available() else \"cpu\")\n",
    "trainx = trainx.cuda()\n",
    "trainy = trainy.cuda()\n",
    "testx = testx.cuda()\n",
    "testy = testy.cuda()"
   ]
  },
  {
   "cell_type": "code",
   "execution_count": 17,
   "id": "3c2b2a82",
   "metadata": {
    "ExecuteTime": {
     "end_time": "2021-12-09T07:29:37.122164Z",
     "start_time": "2021-12-09T07:29:37.117457Z"
    }
   },
   "outputs": [
    {
     "data": {
      "text/plain": [
       "torch.Size([459371, 462])"
      ]
     },
     "execution_count": 17,
     "metadata": {},
     "output_type": "execute_result"
    }
   ],
   "source": []
  },
  {
   "cell_type": "code",
   "execution_count": 25,
   "id": "ac643691",
   "metadata": {
    "ExecuteTime": {
     "end_time": "2021-12-09T07:33:29.134601Z",
     "start_time": "2021-12-09T07:33:29.003997Z"
    }
   },
   "outputs": [
    {
     "name": "stderr",
     "output_type": "stream",
     "text": [
      "  0%|          | 0/20 [00:00<?, ?it/s]"
     ]
    },
    {
     "name": "stdout",
     "output_type": "stream",
     "text": [
      "AlphaNet(\n",
      "  (fc1): Linear(in_features=462, out_features=30, bias=True)\n",
      "  (dropout): Dropout(p=0.3, inplace=False)\n",
      "  (relu): ReLU()\n",
      "  (out): Linear(in_features=30, out_features=1, bias=True)\n",
      ")\n"
     ]
    },
    {
     "name": "stderr",
     "output_type": "stream",
     "text": [
      "\n"
     ]
    },
    {
     "ename": "RuntimeError",
     "evalue": "CUDA error: no kernel image is available for execution on the device\nCUDA kernel errors might be asynchronously reported at some other API call,so the stacktrace below might be incorrect.\nFor debugging consider passing CUDA_LAUNCH_BLOCKING=1.",
     "output_type": "error",
     "traceback": [
      "\u001b[0;31m---------------------------------------------------------------------------\u001b[0m",
      "\u001b[0;31mRuntimeError\u001b[0m                              Traceback (most recent call last)",
      "\u001b[0;32m<ipython-input-25-5d55b6109233>\u001b[0m in \u001b[0;36m<module>\u001b[0;34m\u001b[0m\n\u001b[1;32m     28\u001b[0m \u001b[0;32mfor\u001b[0m \u001b[0mepoch\u001b[0m \u001b[0;32min\u001b[0m \u001b[0mtqdm\u001b[0m\u001b[0;34m(\u001b[0m\u001b[0mrange\u001b[0m\u001b[0;34m(\u001b[0m\u001b[0mepoch_num\u001b[0m\u001b[0;34m)\u001b[0m\u001b[0;34m)\u001b[0m\u001b[0;34m:\u001b[0m\u001b[0;34m\u001b[0m\u001b[0;34m\u001b[0m\u001b[0m\n\u001b[1;32m     29\u001b[0m     \u001b[0mtotal_loss\u001b[0m \u001b[0;34m=\u001b[0m \u001b[0;36m0\u001b[0m\u001b[0;34m\u001b[0m\u001b[0;34m\u001b[0m\u001b[0m\n\u001b[0;32m---> 30\u001b[0;31m     \u001b[0;32mfor\u001b[0m \u001b[0m_\u001b[0m\u001b[0;34m,\u001b[0m \u001b[0;34m(\u001b[0m\u001b[0mdata\u001b[0m\u001b[0;34m,\u001b[0m \u001b[0mlabel\u001b[0m\u001b[0;34m)\u001b[0m \u001b[0;32min\u001b[0m \u001b[0menumerate\u001b[0m\u001b[0;34m(\u001b[0m\u001b[0mtrain_loader\u001b[0m\u001b[0;34m)\u001b[0m\u001b[0;34m:\u001b[0m\u001b[0;34m\u001b[0m\u001b[0;34m\u001b[0m\u001b[0m\n\u001b[0m\u001b[1;32m     31\u001b[0m         \u001b[0mdata\u001b[0m \u001b[0;34m=\u001b[0m \u001b[0mVariable\u001b[0m\u001b[0;34m(\u001b[0m\u001b[0mdata\u001b[0m\u001b[0;34m)\u001b[0m\u001b[0;34m.\u001b[0m\u001b[0mfloat\u001b[0m\u001b[0;34m(\u001b[0m\u001b[0;34m)\u001b[0m\u001b[0;34m\u001b[0m\u001b[0;34m\u001b[0m\u001b[0m\n\u001b[1;32m     32\u001b[0m         \u001b[0mlabel\u001b[0m \u001b[0;34m=\u001b[0m \u001b[0mVariable\u001b[0m\u001b[0;34m(\u001b[0m\u001b[0mlabel\u001b[0m\u001b[0;34m)\u001b[0m\u001b[0;34m.\u001b[0m\u001b[0mfloat\u001b[0m\u001b[0;34m(\u001b[0m\u001b[0;34m)\u001b[0m\u001b[0;34m\u001b[0m\u001b[0;34m\u001b[0m\u001b[0m\n",
      "\u001b[0;32m~/.local/lib/python3.7/site-packages/torch/utils/data/dataloader.py\u001b[0m in \u001b[0;36m__next__\u001b[0;34m(self)\u001b[0m\n\u001b[1;32m    519\u001b[0m             \u001b[0;32mif\u001b[0m \u001b[0mself\u001b[0m\u001b[0;34m.\u001b[0m\u001b[0m_sampler_iter\u001b[0m \u001b[0;32mis\u001b[0m \u001b[0;32mNone\u001b[0m\u001b[0;34m:\u001b[0m\u001b[0;34m\u001b[0m\u001b[0;34m\u001b[0m\u001b[0m\n\u001b[1;32m    520\u001b[0m                 \u001b[0mself\u001b[0m\u001b[0;34m.\u001b[0m\u001b[0m_reset\u001b[0m\u001b[0;34m(\u001b[0m\u001b[0;34m)\u001b[0m\u001b[0;34m\u001b[0m\u001b[0;34m\u001b[0m\u001b[0m\n\u001b[0;32m--> 521\u001b[0;31m             \u001b[0mdata\u001b[0m \u001b[0;34m=\u001b[0m \u001b[0mself\u001b[0m\u001b[0;34m.\u001b[0m\u001b[0m_next_data\u001b[0m\u001b[0;34m(\u001b[0m\u001b[0;34m)\u001b[0m\u001b[0;34m\u001b[0m\u001b[0;34m\u001b[0m\u001b[0m\n\u001b[0m\u001b[1;32m    522\u001b[0m             \u001b[0mself\u001b[0m\u001b[0;34m.\u001b[0m\u001b[0m_num_yielded\u001b[0m \u001b[0;34m+=\u001b[0m \u001b[0;36m1\u001b[0m\u001b[0;34m\u001b[0m\u001b[0;34m\u001b[0m\u001b[0m\n\u001b[1;32m    523\u001b[0m             \u001b[0;32mif\u001b[0m \u001b[0mself\u001b[0m\u001b[0;34m.\u001b[0m\u001b[0m_dataset_kind\u001b[0m \u001b[0;34m==\u001b[0m \u001b[0m_DatasetKind\u001b[0m\u001b[0;34m.\u001b[0m\u001b[0mIterable\u001b[0m \u001b[0;32mand\u001b[0m\u001b[0;31m \u001b[0m\u001b[0;31m\\\u001b[0m\u001b[0;34m\u001b[0m\u001b[0;34m\u001b[0m\u001b[0m\n",
      "\u001b[0;32m~/.local/lib/python3.7/site-packages/torch/utils/data/dataloader.py\u001b[0m in \u001b[0;36m_next_data\u001b[0;34m(self)\u001b[0m\n\u001b[1;32m    559\u001b[0m     \u001b[0;32mdef\u001b[0m \u001b[0m_next_data\u001b[0m\u001b[0;34m(\u001b[0m\u001b[0mself\u001b[0m\u001b[0;34m)\u001b[0m\u001b[0;34m:\u001b[0m\u001b[0;34m\u001b[0m\u001b[0;34m\u001b[0m\u001b[0m\n\u001b[1;32m    560\u001b[0m         \u001b[0mindex\u001b[0m \u001b[0;34m=\u001b[0m \u001b[0mself\u001b[0m\u001b[0;34m.\u001b[0m\u001b[0m_next_index\u001b[0m\u001b[0;34m(\u001b[0m\u001b[0;34m)\u001b[0m  \u001b[0;31m# may raise StopIteration\u001b[0m\u001b[0;34m\u001b[0m\u001b[0;34m\u001b[0m\u001b[0m\n\u001b[0;32m--> 561\u001b[0;31m         \u001b[0mdata\u001b[0m \u001b[0;34m=\u001b[0m \u001b[0mself\u001b[0m\u001b[0;34m.\u001b[0m\u001b[0m_dataset_fetcher\u001b[0m\u001b[0;34m.\u001b[0m\u001b[0mfetch\u001b[0m\u001b[0;34m(\u001b[0m\u001b[0mindex\u001b[0m\u001b[0;34m)\u001b[0m  \u001b[0;31m# may raise StopIteration\u001b[0m\u001b[0;34m\u001b[0m\u001b[0;34m\u001b[0m\u001b[0m\n\u001b[0m\u001b[1;32m    562\u001b[0m         \u001b[0;32mif\u001b[0m \u001b[0mself\u001b[0m\u001b[0;34m.\u001b[0m\u001b[0m_pin_memory\u001b[0m\u001b[0;34m:\u001b[0m\u001b[0;34m\u001b[0m\u001b[0;34m\u001b[0m\u001b[0m\n\u001b[1;32m    563\u001b[0m             \u001b[0mdata\u001b[0m \u001b[0;34m=\u001b[0m \u001b[0m_utils\u001b[0m\u001b[0;34m.\u001b[0m\u001b[0mpin_memory\u001b[0m\u001b[0;34m.\u001b[0m\u001b[0mpin_memory\u001b[0m\u001b[0;34m(\u001b[0m\u001b[0mdata\u001b[0m\u001b[0;34m)\u001b[0m\u001b[0;34m\u001b[0m\u001b[0;34m\u001b[0m\u001b[0m\n",
      "\u001b[0;32m~/.local/lib/python3.7/site-packages/torch/utils/data/_utils/fetch.py\u001b[0m in \u001b[0;36mfetch\u001b[0;34m(self, possibly_batched_index)\u001b[0m\n\u001b[1;32m     50\u001b[0m         \u001b[0;32melse\u001b[0m\u001b[0;34m:\u001b[0m\u001b[0;34m\u001b[0m\u001b[0;34m\u001b[0m\u001b[0m\n\u001b[1;32m     51\u001b[0m             \u001b[0mdata\u001b[0m \u001b[0;34m=\u001b[0m \u001b[0mself\u001b[0m\u001b[0;34m.\u001b[0m\u001b[0mdataset\u001b[0m\u001b[0;34m[\u001b[0m\u001b[0mpossibly_batched_index\u001b[0m\u001b[0;34m]\u001b[0m\u001b[0;34m\u001b[0m\u001b[0;34m\u001b[0m\u001b[0m\n\u001b[0;32m---> 52\u001b[0;31m         \u001b[0;32mreturn\u001b[0m \u001b[0mself\u001b[0m\u001b[0;34m.\u001b[0m\u001b[0mcollate_fn\u001b[0m\u001b[0;34m(\u001b[0m\u001b[0mdata\u001b[0m\u001b[0;34m)\u001b[0m\u001b[0;34m\u001b[0m\u001b[0;34m\u001b[0m\u001b[0m\n\u001b[0m",
      "\u001b[0;32m~/.local/lib/python3.7/site-packages/torch/utils/data/_utils/collate.py\u001b[0m in \u001b[0;36mdefault_collate\u001b[0;34m(batch)\u001b[0m\n\u001b[1;32m     82\u001b[0m             \u001b[0;32mraise\u001b[0m \u001b[0mRuntimeError\u001b[0m\u001b[0;34m(\u001b[0m\u001b[0;34m'each element in list of batch should be of equal size'\u001b[0m\u001b[0;34m)\u001b[0m\u001b[0;34m\u001b[0m\u001b[0;34m\u001b[0m\u001b[0m\n\u001b[1;32m     83\u001b[0m         \u001b[0mtransposed\u001b[0m \u001b[0;34m=\u001b[0m \u001b[0mzip\u001b[0m\u001b[0;34m(\u001b[0m\u001b[0;34m*\u001b[0m\u001b[0mbatch\u001b[0m\u001b[0;34m)\u001b[0m\u001b[0;34m\u001b[0m\u001b[0;34m\u001b[0m\u001b[0m\n\u001b[0;32m---> 84\u001b[0;31m         \u001b[0;32mreturn\u001b[0m \u001b[0;34m[\u001b[0m\u001b[0mdefault_collate\u001b[0m\u001b[0;34m(\u001b[0m\u001b[0msamples\u001b[0m\u001b[0;34m)\u001b[0m \u001b[0;32mfor\u001b[0m \u001b[0msamples\u001b[0m \u001b[0;32min\u001b[0m \u001b[0mtransposed\u001b[0m\u001b[0;34m]\u001b[0m\u001b[0;34m\u001b[0m\u001b[0;34m\u001b[0m\u001b[0m\n\u001b[0m\u001b[1;32m     85\u001b[0m \u001b[0;34m\u001b[0m\u001b[0m\n\u001b[1;32m     86\u001b[0m     \u001b[0;32mraise\u001b[0m \u001b[0mTypeError\u001b[0m\u001b[0;34m(\u001b[0m\u001b[0mdefault_collate_err_msg_format\u001b[0m\u001b[0;34m.\u001b[0m\u001b[0mformat\u001b[0m\u001b[0;34m(\u001b[0m\u001b[0melem_type\u001b[0m\u001b[0;34m)\u001b[0m\u001b[0;34m)\u001b[0m\u001b[0;34m\u001b[0m\u001b[0;34m\u001b[0m\u001b[0m\n",
      "\u001b[0;32m~/.local/lib/python3.7/site-packages/torch/utils/data/_utils/collate.py\u001b[0m in \u001b[0;36m<listcomp>\u001b[0;34m(.0)\u001b[0m\n\u001b[1;32m     82\u001b[0m             \u001b[0;32mraise\u001b[0m \u001b[0mRuntimeError\u001b[0m\u001b[0;34m(\u001b[0m\u001b[0;34m'each element in list of batch should be of equal size'\u001b[0m\u001b[0;34m)\u001b[0m\u001b[0;34m\u001b[0m\u001b[0;34m\u001b[0m\u001b[0m\n\u001b[1;32m     83\u001b[0m         \u001b[0mtransposed\u001b[0m \u001b[0;34m=\u001b[0m \u001b[0mzip\u001b[0m\u001b[0;34m(\u001b[0m\u001b[0;34m*\u001b[0m\u001b[0mbatch\u001b[0m\u001b[0;34m)\u001b[0m\u001b[0;34m\u001b[0m\u001b[0;34m\u001b[0m\u001b[0m\n\u001b[0;32m---> 84\u001b[0;31m         \u001b[0;32mreturn\u001b[0m \u001b[0;34m[\u001b[0m\u001b[0mdefault_collate\u001b[0m\u001b[0;34m(\u001b[0m\u001b[0msamples\u001b[0m\u001b[0;34m)\u001b[0m \u001b[0;32mfor\u001b[0m \u001b[0msamples\u001b[0m \u001b[0;32min\u001b[0m \u001b[0mtransposed\u001b[0m\u001b[0;34m]\u001b[0m\u001b[0;34m\u001b[0m\u001b[0;34m\u001b[0m\u001b[0m\n\u001b[0m\u001b[1;32m     85\u001b[0m \u001b[0;34m\u001b[0m\u001b[0m\n\u001b[1;32m     86\u001b[0m     \u001b[0;32mraise\u001b[0m \u001b[0mTypeError\u001b[0m\u001b[0;34m(\u001b[0m\u001b[0mdefault_collate_err_msg_format\u001b[0m\u001b[0;34m.\u001b[0m\u001b[0mformat\u001b[0m\u001b[0;34m(\u001b[0m\u001b[0melem_type\u001b[0m\u001b[0;34m)\u001b[0m\u001b[0;34m)\u001b[0m\u001b[0;34m\u001b[0m\u001b[0;34m\u001b[0m\u001b[0m\n",
      "\u001b[0;32m~/.local/lib/python3.7/site-packages/torch/utils/data/_utils/collate.py\u001b[0m in \u001b[0;36mdefault_collate\u001b[0;34m(batch)\u001b[0m\n\u001b[1;32m     54\u001b[0m             \u001b[0mstorage\u001b[0m \u001b[0;34m=\u001b[0m \u001b[0melem\u001b[0m\u001b[0;34m.\u001b[0m\u001b[0mstorage\u001b[0m\u001b[0;34m(\u001b[0m\u001b[0;34m)\u001b[0m\u001b[0;34m.\u001b[0m\u001b[0m_new_shared\u001b[0m\u001b[0;34m(\u001b[0m\u001b[0mnumel\u001b[0m\u001b[0;34m)\u001b[0m\u001b[0;34m\u001b[0m\u001b[0;34m\u001b[0m\u001b[0m\n\u001b[1;32m     55\u001b[0m             \u001b[0mout\u001b[0m \u001b[0;34m=\u001b[0m \u001b[0melem\u001b[0m\u001b[0;34m.\u001b[0m\u001b[0mnew\u001b[0m\u001b[0;34m(\u001b[0m\u001b[0mstorage\u001b[0m\u001b[0;34m)\u001b[0m\u001b[0;34m\u001b[0m\u001b[0;34m\u001b[0m\u001b[0m\n\u001b[0;32m---> 56\u001b[0;31m         \u001b[0;32mreturn\u001b[0m \u001b[0mtorch\u001b[0m\u001b[0;34m.\u001b[0m\u001b[0mstack\u001b[0m\u001b[0;34m(\u001b[0m\u001b[0mbatch\u001b[0m\u001b[0;34m,\u001b[0m \u001b[0;36m0\u001b[0m\u001b[0;34m,\u001b[0m \u001b[0mout\u001b[0m\u001b[0;34m=\u001b[0m\u001b[0mout\u001b[0m\u001b[0;34m)\u001b[0m\u001b[0;34m\u001b[0m\u001b[0;34m\u001b[0m\u001b[0m\n\u001b[0m\u001b[1;32m     57\u001b[0m     \u001b[0;32melif\u001b[0m \u001b[0melem_type\u001b[0m\u001b[0;34m.\u001b[0m\u001b[0m__module__\u001b[0m \u001b[0;34m==\u001b[0m \u001b[0;34m'numpy'\u001b[0m \u001b[0;32mand\u001b[0m \u001b[0melem_type\u001b[0m\u001b[0;34m.\u001b[0m\u001b[0m__name__\u001b[0m \u001b[0;34m!=\u001b[0m \u001b[0;34m'str_'\u001b[0m\u001b[0;31m \u001b[0m\u001b[0;31m\\\u001b[0m\u001b[0;34m\u001b[0m\u001b[0;34m\u001b[0m\u001b[0m\n\u001b[1;32m     58\u001b[0m             \u001b[0;32mand\u001b[0m \u001b[0melem_type\u001b[0m\u001b[0;34m.\u001b[0m\u001b[0m__name__\u001b[0m \u001b[0;34m!=\u001b[0m \u001b[0;34m'string_'\u001b[0m\u001b[0;34m:\u001b[0m\u001b[0;34m\u001b[0m\u001b[0;34m\u001b[0m\u001b[0m\n",
      "\u001b[0;31mRuntimeError\u001b[0m: CUDA error: no kernel image is available for execution on the device\nCUDA kernel errors might be asynchronously reported at some other API call,so the stacktrace below might be incorrect.\nFor debugging consider passing CUDA_LAUNCH_BLOCKING=1."
     ]
    }
   ],
   "source": [
    "train_dataset = Data.TensorDataset(trainx, trainy)\n",
    "test_dataset = Data.TensorDataset(testx, testy)\n",
    "batch_size = 512\n",
    "train_loader = Data.DataLoader(\n",
    "    dataset=train_dataset,\n",
    "    batch_size=batch_size,\n",
    "    shuffle=True,\n",
    "    num_workers=0\n",
    ")\n",
    "\n",
    "test_loader = Data.DataLoader(\n",
    "    dataset=test_dataset,\n",
    "    batch_size=batch_size,\n",
    "    shuffle=False,\n",
    "    num_workers=0\n",
    ")\n",
    "\n",
    "alphanet = AlphaNet(feat_num, 30)\n",
    "alphanet = alphanet.cuda()\n",
    "# alphanet = torch.nn.parallel.DataParallel(alphanet)\n",
    "print(alphanet)\n",
    "total_length = trainx.shape[0]\n",
    "LR = 0.0001\n",
    "loss_function = nn.MSELoss()\n",
    "optimizer = optim.RMSprop(alphanet.parameters(), lr=LR, alpha=0.9)\n",
    "epoch_num = 20\n",
    "\n",
    "for epoch in tqdm(range(epoch_num)):\n",
    "    total_loss = 0\n",
    "    for _, (data, label) in enumerate(train_loader):\n",
    "        data = Variable(data).float()\n",
    "        label = Variable(label).float()\n",
    "        pred = alphanet(data)\n",
    "        print(pred.size())\n",
    "        print(\"epoch：\", epoch, \"的第\" \"个inputs\", data.data.size(), \"labels\", label.data.size())\n",
    "        #         label = label.unsqueeze(1)\n",
    "#         loss = loss_function(pred, label)\n",
    "#         loss.backward()\n",
    "#         optimizer.step()\n",
    "#         optimizer.zero_grad()\n",
    "#         total_loss += loss.item()\n",
    "#     total_loss = total_loss * batch_size / total_length\n",
    "#     print('Epoch: ', epoch + 1, ' loss: ', total_loss)\n",
    "\n",
    "pred_list = []\n",
    "label_list = []\n",
    "\n",
    "for _, (data, label) in enumerate(test_loader):\n",
    "    data = Variable(data).float()\n",
    "    pred = alphanet(data)\n",
    "    pred_list.extend(pred.tolist())\n",
    "    label_list.extend(label.tolist())\n",
    "\n",
    "final = pd.concat([test_target, pd.DataFrame(pred_list)], axis=1)\n",
    "alpha_name = 'AlphaNetV1_Original_Input_1208'\n",
    "final.rename(columns={0: alpha_name, 'ticker': 'symbol'}, inplace=True)\n",
    "final = final.reindex(columns=['symbol', 'timestamp', alpha_name,'target'])\n",
    "final.set_index(['symbol', 'timestamp']).to_csv(output_path + \"result/\"+'%s_%s.csv' % (time_start, time_end))"
   ]
  },
  {
   "cell_type": "code",
   "execution_count": 15,
   "id": "eb458d4b",
   "metadata": {
    "ExecuteTime": {
     "end_time": "2021-12-09T06:39:24.989733Z",
     "start_time": "2021-12-09T06:39:24.985112Z"
    }
   },
   "outputs": [
    {
     "data": {
      "text/plain": [
       "1"
      ]
     },
     "execution_count": 15,
     "metadata": {},
     "output_type": "execute_result"
    }
   ],
   "source": [
    "torch.cuda.device_count()"
   ]
  }
 ],
 "metadata": {
  "kernelspec": {
   "display_name": "Python 3 (ipykernel)",
   "language": "python",
   "name": "python3"
  },
  "language_info": {
   "codemirror_mode": {
    "name": "ipython",
    "version": 3
   },
   "file_extension": ".py",
   "mimetype": "text/x-python",
   "name": "python",
   "nbconvert_exporter": "python",
   "pygments_lexer": "ipython3",
   "version": "3.7.9"
  }
 },
 "nbformat": 4,
 "nbformat_minor": 5
}
