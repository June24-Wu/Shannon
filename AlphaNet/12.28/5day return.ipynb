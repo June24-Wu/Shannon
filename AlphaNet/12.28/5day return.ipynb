{
 "cells": [
  {
   "cell_type": "code",
   "execution_count": 1,
   "id": "1b7fc63f",
   "metadata": {
    "ExecuteTime": {
     "end_time": "2021-12-28T08:26:17.234893Z",
     "start_time": "2021-12-28T08:26:14.621879Z"
    }
   },
   "outputs": [
    {
     "ename": "NameError",
     "evalue": "name 'Alpha_Name' is not defined",
     "output_type": "error",
     "traceback": [
      "\u001b[0;31m---------------------------------------------------------------------------\u001b[0m",
      "\u001b[0;31mNameError\u001b[0m                                 Traceback (most recent call last)",
      "\u001b[0;32m<ipython-input-1-0ccfba16d5a4>\u001b[0m in \u001b[0;36m<module>\u001b[0;34m\u001b[0m\n\u001b[1;32m     16\u001b[0m \u001b[0;32mimport\u001b[0m \u001b[0mDataAPI\u001b[0m\u001b[0;34m\u001b[0m\u001b[0;34m\u001b[0m\u001b[0m\n\u001b[1;32m     17\u001b[0m \u001b[0;32mfrom\u001b[0m \u001b[0mtqdm\u001b[0m \u001b[0;32mimport\u001b[0m \u001b[0mtqdm\u001b[0m\u001b[0;34m\u001b[0m\u001b[0;34m\u001b[0m\u001b[0m\n\u001b[0;32m---> 18\u001b[0;31m \u001b[0mpath\u001b[0m \u001b[0;34m=\u001b[0m \u001b[0;34m'/home/wuwenjun/Data/'\u001b[0m \u001b[0;34m+\u001b[0m \u001b[0mAlpha_Name\u001b[0m \u001b[0;34m+\u001b[0m\u001b[0;34m'/'\u001b[0m\u001b[0;34m\u001b[0m\u001b[0;34m\u001b[0m\u001b[0m\n\u001b[0m\u001b[1;32m     19\u001b[0m \u001b[0moutput_path\u001b[0m \u001b[0;34m=\u001b[0m \u001b[0;34m\"/home/wuwenjun/Alpha_Factor/\"\u001b[0m \u001b[0;34m+\u001b[0m \u001b[0mAlpha_Name\u001b[0m \u001b[0;34m+\u001b[0m \u001b[0;34m\"/result/\"\u001b[0m\u001b[0;34m\u001b[0m\u001b[0;34m\u001b[0m\u001b[0m\n\u001b[1;32m     20\u001b[0m \u001b[0mmodel_path\u001b[0m \u001b[0;34m=\u001b[0m \u001b[0;34m\"/home/wuwenjun/Alpha_Factor/\"\u001b[0m \u001b[0;34m+\u001b[0m \u001b[0mAlpha_Name\u001b[0m \u001b[0;34m+\u001b[0m \u001b[0;34m\"/model/\"\u001b[0m\u001b[0;34m\u001b[0m\u001b[0;34m\u001b[0m\u001b[0m\n",
      "\u001b[0;31mNameError\u001b[0m: name 'Alpha_Name' is not defined"
     ]
    }
   ],
   "source": [
    "import time\n",
    "from Research.backtest.bt import BTDaily\n",
    "from Research.feature.ft import FeatureAnalysis\n",
    "import Research.utils.namespace as namespace\n",
    "import Research.utils.normalization as norm\n",
    "from Platform.database.mysql import MysqlAPI\n",
    "from Platform.utils.persistence import convert_to_standard_daily_feature_csv, convert_to_standard_daily_feature_par\n",
    "from Platform.config.mysql_info import FACTOR_LIB_MYSQL_TIO\n",
    "from os import walk\n",
    "import pandas as pd\n",
    "import numpy as np\n",
    "import torch\n",
    "from datetime import datetime\n",
    "import torch.nn as nn\n",
    "from progressbar import ProgressBar\n",
    "import DataAPI\n",
    "from tqdm import tqdm\n",
    "path = '/home/wuwenjun/Data/' + Alpha_Name +'/'\n",
    "output_path = \"/home/wuwenjun/Alpha_Factor/\" + Alpha_Name + \"/result/\"\n",
    "model_path = \"/home/wuwenjun/Alpha_Factor/\" + Alpha_Name + \"/model/\""
   ]
  },
  {
   "cell_type": "code",
   "execution_count": null,
   "id": "609743dc",
   "metadata": {
    "ExecuteTime": {
     "end_time": "2021-12-28T08:26:17.237200Z",
     "start_time": "2021-12-28T08:26:17.237188Z"
    }
   },
   "outputs": [],
   "source": [
    "Alpha_Name = \"AlphaNet_Original_Input_5d_return\"\n",
    "start_time = \"2019-01-01\"\n",
    "forecast_months = 6 # months\n",
    "target = \"5d_ret\"\n",
    "feat_num = 9"
   ]
  },
  {
   "cell_type": "code",
   "execution_count": 2,
   "id": "e7b1b324",
   "metadata": {
    "ExecuteTime": {
     "end_time": "2021-12-28T08:26:17.287701Z",
     "start_time": "2021-12-28T08:26:17.271882Z"
    }
   },
   "outputs": [
    {
     "ename": "NameError",
     "evalue": "name 'path' is not defined",
     "output_type": "error",
     "traceback": [
      "\u001b[0;31m---------------------------------------------------------------------------\u001b[0m",
      "\u001b[0;31mNameError\u001b[0m                                 Traceback (most recent call last)",
      "\u001b[0;32m<ipython-input-2-177b4d6fb88e>\u001b[0m in \u001b[0;36m<module>\u001b[0;34m\u001b[0m\n\u001b[1;32m      1\u001b[0m \u001b[0mtime_list\u001b[0m \u001b[0;34m=\u001b[0m \u001b[0;34m[\u001b[0m\u001b[0;34m]\u001b[0m\u001b[0;34m\u001b[0m\u001b[0;34m\u001b[0m\u001b[0m\n\u001b[0;32m----> 2\u001b[0;31m \u001b[0mdata_path\u001b[0m \u001b[0;34m=\u001b[0m \u001b[0mpath\u001b[0m \u001b[0;34m+\u001b[0m \u001b[0;34m\"Data/\"\u001b[0m\u001b[0;34m\u001b[0m\u001b[0;34m\u001b[0m\u001b[0m\n\u001b[0m\u001b[1;32m      3\u001b[0m \u001b[0mdataframe_list\u001b[0m \u001b[0;34m=\u001b[0m \u001b[0mpd\u001b[0m\u001b[0;34m.\u001b[0m\u001b[0mDataFrame\u001b[0m\u001b[0;34m(\u001b[0m\u001b[0;34m)\u001b[0m\u001b[0;34m\u001b[0m\u001b[0;34m\u001b[0m\u001b[0m\n\u001b[1;32m      4\u001b[0m \u001b[0;32mfor\u001b[0m \u001b[0mf\u001b[0m\u001b[0;34m,\u001b[0m \u001b[0m_\u001b[0m\u001b[0;34m,\u001b[0m \u001b[0mi\u001b[0m \u001b[0;32min\u001b[0m \u001b[0mwalk\u001b[0m\u001b[0;34m(\u001b[0m\u001b[0mdata_path\u001b[0m\u001b[0;34m)\u001b[0m\u001b[0;34m:\u001b[0m\u001b[0;34m\u001b[0m\u001b[0;34m\u001b[0m\u001b[0m\n\u001b[1;32m      5\u001b[0m     \u001b[0;32mfor\u001b[0m \u001b[0mj\u001b[0m \u001b[0;32min\u001b[0m \u001b[0mtqdm\u001b[0m\u001b[0;34m(\u001b[0m\u001b[0mi\u001b[0m\u001b[0;34m)\u001b[0m\u001b[0;34m:\u001b[0m\u001b[0;34m\u001b[0m\u001b[0;34m\u001b[0m\u001b[0m\n",
      "\u001b[0;31mNameError\u001b[0m: name 'path' is not defined"
     ]
    }
   ],
   "source": [
    "time_list = []\n",
    "data_path = path + \"Data/\"\n",
    "dataframe_list = pd.DataFrame()\n",
    "for f, _, i in walk(data_path):\n",
    "    for j in tqdm(i):\n",
    "        time_list.append(j)\n",
    "time_list.sort()     \n",
    "time_list"
   ]
  },
  {
   "cell_type": "code",
   "execution_count": 16,
   "id": "fed8289a",
   "metadata": {
    "ExecuteTime": {
     "end_time": "2021-12-28T08:14:45.067327Z",
     "start_time": "2021-12-28T08:14:45.063183Z"
    }
   },
   "outputs": [
    {
     "name": "stdout",
     "output_type": "stream",
     "text": [
      "['2015-01-01_2015-03-01.par', '2015-03-01_2015-06-01.par', '2015-06-01_2015-09-01.par', '2015-09-01_2016-01-01.par', '2016-01-01_2016-03-01.par', '2016-03-01_2016-06-01.par', '2016-06-01_2016-09-01.par', '2016-09-01_2017-01-01.par', '2017-01-01_2017-03-01.par', '2017-03-01_2017-06-01.par', '2017-06-01_2017-09-01.par', '2017-09-01_2018-01-01.par', '2018-01-01_2018-03-01.par', '2018-03-01_2018-06-01.par', '2018-06-01_2018-09-01.par', '2018-09-01_2019-01-01.par']\n",
      "['2019-01-01_2019-03-01.par', '2019-03-01_2019-06-01.par']\n"
     ]
    }
   ],
   "source": [
    "\n",
    "print(train_timestamp)\n",
    "print(test_timestamp)"
   ]
  },
  {
   "cell_type": "code",
   "execution_count": null,
   "id": "998728af",
   "metadata": {},
   "outputs": [],
   "source": []
  }
 ],
 "metadata": {
  "kernelspec": {
   "display_name": "Python 3 (ipykernel)",
   "language": "python",
   "name": "python3"
  },
  "language_info": {
   "codemirror_mode": {
    "name": "ipython",
    "version": 3
   },
   "file_extension": ".py",
   "mimetype": "text/x-python",
   "name": "python",
   "nbconvert_exporter": "python",
   "pygments_lexer": "ipython3",
   "version": "3.7.9"
  }
 },
 "nbformat": 4,
 "nbformat_minor": 5
}
