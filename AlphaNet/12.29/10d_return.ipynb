{
 "cells": [
  {
   "cell_type": "code",
   "execution_count": 5,
   "id": "4a75d6d3",
   "metadata": {
    "ExecuteTime": {
     "end_time": "2021-12-29T00:53:40.769220Z",
     "start_time": "2021-12-29T00:53:40.758224Z"
    }
   },
   "outputs": [],
   "source": [
    "Alpha_Name = \"AlphaNet_Original_Input_10d_return\"\n",
    "path = '/home/wuwenjun/Data/' + Alpha_Name +'/'\n",
    "target = \"5d_ret\"\n",
    "import time\n",
    "import os\n",
    "from Research.backtest.bt import BTDaily\n",
    "from Research.feature.ft import FeatureAnalysis\n",
    "import Research.utils.namespace as namespace\n",
    "import Research.utils.normalization as norm\n",
    "from Platform.database.mysql import MysqlAPI\n",
    "from Platform.utils.persistence import convert_to_standard_daily_feature_csv, convert_to_standard_daily_feature_par\n",
    "from Platform.config.mysql_info import FACTOR_LIB_MYSQL_TIO\n",
    "import DataAPI\n",
    "from os import walk\n",
    "import pandas as pd\n",
    "import numpy as np\n",
    "import torch\n",
    "import torch.nn as nn\n",
    "from progressbar import ProgressBar\n",
    "from tqdm import tqdm\n",
    "import multiprocessing as mp"
   ]
  },
  {
   "cell_type": "code",
   "execution_count": 2,
   "id": "f76531ca",
   "metadata": {
    "ExecuteTime": {
     "end_time": "2021-12-29T00:42:06.284774Z",
     "start_time": "2021-12-29T00:42:06.271667Z"
    }
   },
   "outputs": [
    {
     "name": "stderr",
     "output_type": "stream",
     "text": [
      "100%|██████████| 26/26 [00:00<00:00, 417823.39it/s]\n"
     ]
    },
    {
     "data": {
      "text/plain": [
       "['2015-01-01_2015-03-01.par',\n",
       " '2015-03-01_2015-06-01.par',\n",
       " '2015-06-01_2015-09-01.par',\n",
       " '2015-09-01_2016-01-01.par',\n",
       " '2016-01-01_2016-03-01.par',\n",
       " '2016-03-01_2016-06-01.par',\n",
       " '2016-06-01_2016-09-01.par',\n",
       " '2016-09-01_2017-01-01.par',\n",
       " '2017-01-01_2017-03-01.par',\n",
       " '2017-03-01_2017-06-01.par',\n",
       " '2017-06-01_2017-09-01.par',\n",
       " '2017-09-01_2018-01-01.par',\n",
       " '2018-01-01_2018-03-01.par',\n",
       " '2018-03-01_2018-06-01.par',\n",
       " '2018-06-01_2018-09-01.par',\n",
       " '2018-09-01_2019-01-01.par',\n",
       " '2019-01-01_2019-03-01.par',\n",
       " '2019-03-01_2019-06-01.par',\n",
       " '2019-06-01_2019-09-01.par',\n",
       " '2019-09-01_2020-01-01.par',\n",
       " '2020-01-01_2020-03-01.par',\n",
       " '2020-03-01_2020-06-01.par',\n",
       " '2020-06-01_2020-09-01.par',\n",
       " '2020-09-01_2021-01-01.par',\n",
       " '2021-01-01_2021-03-01.par',\n",
       " '2021-03-01_2021-06-01.par']"
      ]
     },
     "execution_count": 2,
     "metadata": {},
     "output_type": "execute_result"
    }
   ],
   "source": [
    "path_list = []\n",
    "data_path = path + \"Data/\"\n",
    "dataframe_list = pd.DataFrame()\n",
    "for f, _, i in walk(data_path):\n",
    "    for j in tqdm(i):\n",
    "        path_list.append(j)\n",
    "path_list.sort()\n",
    "path_list"
   ]
  },
  {
   "cell_type": "code",
   "execution_count": null,
   "id": "334af68a",
   "metadata": {
    "ExecuteTime": {
     "start_time": "2021-12-29T00:55:44.313Z"
    }
   },
   "outputs": [
    {
     "name": "stderr",
     "output_type": "stream",
     "text": [
      " 68%|██████▊   | 17/25 [03:31<01:50, 13.82s/it]"
     ]
    }
   ],
   "source": [
    "for i in tqdm(path_list[1:]):\n",
    "    data = pd.read_parquet(path + \"Final/\"+i)\n",
    "    data.drop(\"target_x\",axis=1,inplace=True)\n",
    "    data.rename(columns={\"target_y\":\"target\"},inplace=True)\n",
    "    data.to_parquet(path + \"Final/\"+i)"
   ]
  }
 ],
 "metadata": {
  "kernelspec": {
   "display_name": "Python 3 (ipykernel)",
   "language": "python",
   "name": "python3"
  },
  "language_info": {
   "codemirror_mode": {
    "name": "ipython",
    "version": 3
   },
   "file_extension": ".py",
   "mimetype": "text/x-python",
   "name": "python",
   "nbconvert_exporter": "python",
   "pygments_lexer": "ipython3",
   "version": "3.7.9"
  }
 },
 "nbformat": 4,
 "nbformat_minor": 5
}
