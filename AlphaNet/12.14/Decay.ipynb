{
 "cells": [
  {
   "cell_type": "code",
   "execution_count": 1,
   "id": "7e6c7e03",
   "metadata": {
    "ExecuteTime": {
     "end_time": "2021-12-15T06:54:19.164581Z",
     "start_time": "2021-12-15T06:54:18.288229Z"
    }
   },
   "outputs": [],
   "source": [
    "from os import walk\n",
    "import pandas as pd\n",
    "import numpy as np\n",
    "import torch\n",
    "import torch.nn as nn\n",
    "from progressbar import ProgressBar\n",
    "from tqdm import tqdm\n",
    "import torch.utils.data as Data\n",
    "import torch.optim as optim\n",
    "from tqdm import tqdm\n",
    "from torch.autograd import Variable\n",
    "import time\n",
    "import multiprocessing as mp\n",
    "from os import walk\n",
    "day = 30\n",
    "stride = 10"
   ]
  },
  {
   "cell_type": "code",
   "execution_count": 2,
   "id": "e5ff7c85",
   "metadata": {
    "ExecuteTime": {
     "end_time": "2021-12-15T06:54:19.171567Z",
     "start_time": "2021-12-15T06:54:19.166373Z"
    }
   },
   "outputs": [],
   "source": [
    "def generateC(l1):\n",
    "    if len(l1) == 1:\n",
    "        return []\n",
    "    v = [[l1[0], i] for i in l1[1:]]\n",
    "    l1 = l1[1:]\n",
    "    return v + generateC(l1)\n",
    "\n",
    "def generate_Num_and_ReversedNum(feat_nums):\n",
    "    list1 = list(range(feat_nums))\n",
    "    num = generateC(list1)\n",
    "    num_rev = []\n",
    "    for l in num:\n",
    "        l1 = l.copy()\n",
    "        l1.reverse()\n",
    "        num_rev.append(l1)\n",
    "    return num, num_rev\n",
    "\n",
    "def generate_Step_List(data_length, stride):\n",
    "    if data_length % stride == 0:\n",
    "        step_list = list(range(0, data_length + stride, stride))\n",
    "    elif data_length % stride <= 5:\n",
    "        mod = data_length % stride\n",
    "        step_list = list(range(0, data_length - stride, stride)) + [data_length]\n",
    "    else:\n",
    "        mod = data_length % stride\n",
    "        step_list = list(range(0, data_length + stride - mod, stride)) + [data_length]\n",
    "    return step_list"
   ]
  },
  {
   "cell_type": "code",
   "execution_count": 3,
   "id": "dc625edd",
   "metadata": {
    "ExecuteTime": {
     "end_time": "2021-12-15T06:54:19.186701Z",
     "start_time": "2021-12-15T06:54:19.172533Z"
    }
   },
   "outputs": [
    {
     "name": "stderr",
     "output_type": "stream",
     "text": [
      "100%|██████████| 26/26 [00:00<00:00, 497953.90it/s]\n"
     ]
    },
    {
     "data": {
      "text/plain": [
       "['2015-01-01_2015-03-01.par',\n",
       " '2015-03-01_2015-06-01.par',\n",
       " '2016-01-01_2016-03-01.par',\n",
       " '2017-01-01_2017-03-01.par',\n",
       " '2015-06-01_2015-09-01.par',\n",
       " '2018-01-01_2018-03-01.par',\n",
       " '2016-03-01_2016-06-01.par',\n",
       " '2021-01-01_2021-03-01.par',\n",
       " '2016-06-01_2016-09-01.par',\n",
       " '2015-09-01_2016-01-01.par',\n",
       " '2020-01-01_2020-03-01.par',\n",
       " '2019-01-01_2019-03-01.par',\n",
       " '2017-03-01_2017-06-01.par',\n",
       " '2021-03-01_2021-06-01.par',\n",
       " '2018-03-01_2018-06-01.par',\n",
       " '2018-06-01_2018-09-01.par',\n",
       " '2016-09-01_2017-01-01.par',\n",
       " '2017-06-01_2017-09-01.par',\n",
       " '2020-06-01_2020-09-01.par',\n",
       " '2020-03-01_2020-06-01.par',\n",
       " '2020-09-01_2021-01-01.par',\n",
       " '2019-06-01_2019-09-01.par',\n",
       " '2019-03-01_2019-06-01.par',\n",
       " '2017-09-01_2018-01-01.par',\n",
       " '2018-09-01_2019-01-01.par',\n",
       " '2019-09-01_2020-01-01.par']"
      ]
     },
     "execution_count": 3,
     "metadata": {},
     "output_type": "execute_result"
    }
   ],
   "source": [
    "path_list = []\n",
    "path = \"/home/wuwenjun/Data/AlphaNet_Original_Input_12.14/\"\n",
    "data_path = path + \"Data/\"\n",
    "output = path + \"Decay/\"\n",
    "dataframe_list = pd.DataFrame()\n",
    "for f, _, i in walk(data_path):\n",
    "    for j in tqdm(i):\n",
    "        path_list.append(j)\n",
    "path_list"
   ]
  },
  {
   "cell_type": "code",
   "execution_count": 4,
   "id": "83f8f704",
   "metadata": {
    "ExecuteTime": {
     "end_time": "2021-12-15T06:54:19.850953Z",
     "start_time": "2021-12-15T06:54:19.837485Z"
    }
   },
   "outputs": [],
   "source": [
    "# Read Data\n",
    "def test(input_path,name,output_path):\n",
    "    print(\"read\" + input_path + name)\n",
    "    dataframe_list = pd.read_parquet(input_path + name)\n",
    "    dataframe_list = dataframe_list.set_index([\"timestamp\",\"ticker\"])\n",
    "    x = np.array(dataframe_list.drop('target',axis=1))\n",
    "    x = x.reshape(x.shape[0], 1, day, -1)\n",
    "    x = x.transpose(0, 1, 3, 2)\n",
    "\n",
    "    feat_nums = x.shape[2]\n",
    "    data_length = x.shape[3]\n",
    "    num, num_rev = generate_Num_and_ReversedNum(feat_nums)\n",
    "    step_list = generate_Step_List(data_length, stride)\n",
    "\n",
    "    \"\"\"Main Function\"\"\"\n",
    "    l = []\n",
    "    for i in tqdm(range(len(step_list) - 1)):\n",
    "        start = step_list[i]\n",
    "        end = step_list[i + 1]\n",
    "        time_spread = end - start\n",
    "        weight = np.arange(1, time_spread + 1)\n",
    "        weight = weight / (weight.sum())\n",
    "        sub_data1 = (x[:, :, :, start:end] * weight).sum(axis=3, keepdims=True)\n",
    "        l.append(sub_data1)\n",
    "    decay_data = np.squeeze(np.array(l)).transpose(1, 2, 0)\n",
    "   \n",
    "    decay_data = pd.DataFrame(decay_data.reshape(decay_data.shape[0],-1))\n",
    "    decay_data.index = dataframe_list.index\n",
    "    decay_data.columns = [str(i) for i in range(decay_data.shape[1])]\n",
    "    decay_data.reset_index(inplace=True)\n",
    "    decay_data.to_parquet(output_path + name)\n",
    "    print(\"save to \",output_path + name)\n",
    "    return None"
   ]
  },
  {
   "cell_type": "code",
   "execution_count": 5,
   "id": "55be03cc",
   "metadata": {
    "ExecuteTime": {
     "end_time": "2021-12-15T06:54:29.149068Z",
     "start_time": "2021-12-15T06:54:20.350849Z"
    }
   },
   "outputs": [
    {
     "name": "stdout",
     "output_type": "stream",
     "text": [
      "read/home/wuwenjun/Data/AlphaNet_Original_Input_12.14/Data/2015-01-01_2015-03-01.parread/home/wuwenjun/Data/AlphaNet_Original_Input_12.14/Data/2017-01-01_2017-03-01.parread/home/wuwenjun/Data/AlphaNet_Original_Input_12.14/Data/2016-01-01_2016-03-01.parread/home/wuwenjun/Data/AlphaNet_Original_Input_12.14/Data/2015-03-01_2015-06-01.parread/home/wuwenjun/Data/AlphaNet_Original_Input_12.14/Data/2015-06-01_2015-09-01.parread/home/wuwenjun/Data/AlphaNet_Original_Input_12.14/Data/2018-01-01_2018-03-01.par\n",
      "read/home/wuwenjun/Data/AlphaNet_Original_Input_12.14/Data/2016-03-01_2016-06-01.parread/home/wuwenjun/Data/AlphaNet_Original_Input_12.14/Data/2021-01-01_2021-03-01.par\n",
      "read/home/wuwenjun/Data/AlphaNet_Original_Input_12.14/Data/2016-06-01_2016-09-01.parread/home/wuwenjun/Data/AlphaNet_Original_Input_12.14/Data/2020-01-01_2020-03-01.par\n",
      "\n",
      "read/home/wuwenjun/Data/AlphaNet_Original_Input_12.14/Data/2015-09-01_2016-01-01.parread/home/wuwenjun/Data/AlphaNet_Original_Input_12.14/Data/2017-03-01_2017-06-01.par\n",
      "\n",
      "read/home/wuwenjun/Data/AlphaNet_Original_Input_12.14/Data/2018-03-01_2018-06-01.parread/home/wuwenjun/Data/AlphaNet_Original_Input_12.14/Data/2018-06-01_2018-09-01.parread/home/wuwenjun/Data/AlphaNet_Original_Input_12.14/Data/2021-03-01_2021-06-01.parread/home/wuwenjun/Data/AlphaNet_Original_Input_12.14/Data/2019-01-01_2019-03-01.par\n",
      "read/home/wuwenjun/Data/AlphaNet_Original_Input_12.14/Data/2016-09-01_2017-01-01.par\n",
      "read/home/wuwenjun/Data/AlphaNet_Original_Input_12.14/Data/2017-06-01_2017-09-01.parread/home/wuwenjun/Data/AlphaNet_Original_Input_12.14/Data/2020-03-01_2020-06-01.parread/home/wuwenjun/Data/AlphaNet_Original_Input_12.14/Data/2020-06-01_2020-09-01.par\n",
      "\n",
      "\n",
      "\n",
      "\n",
      "\n",
      "\n",
      "\n",
      "\n",
      "\n",
      "\n",
      "\n"
     ]
    },
    {
     "name": "stderr",
     "output_type": "stream",
     "text": [
      "100%|██████████| 3/3 [00:00<00:00, 165.89it/s]\n"
     ]
    },
    {
     "name": "stdout",
     "output_type": "stream",
     "text": [
      "save to  /home/wuwenjun/Data/AlphaNet_Original_Input_12.14/Decay/2015-01-01_2015-03-01.par\n",
      "read/home/wuwenjun/Data/AlphaNet_Original_Input_12.14/Data/2020-09-01_2021-01-01.par\n"
     ]
    },
    {
     "name": "stderr",
     "output_type": "stream",
     "text": [
      "100%|██████████| 3/3 [00:00<00:00, 24.89it/s]\n",
      "  0%|          | 0/3 [00:00<?, ?it/s]"
     ]
    },
    {
     "name": "stdout",
     "output_type": "stream",
     "text": [
      "save to  /home/wuwenjun/Data/AlphaNet_Original_Input_12.14/Decay/2016-01-01_2016-03-01.par\n"
     ]
    },
    {
     "name": "stderr",
     "output_type": "stream",
     "text": [
      "100%|██████████| 3/3 [00:00<00:00, 21.99it/s]\n",
      "100%|██████████| 3/3 [00:00<00:00, 24.80it/s]\n",
      "  0%|          | 0/3 [00:00<?, ?it/s]"
     ]
    },
    {
     "name": "stdout",
     "output_type": "stream",
     "text": [
      "read/home/wuwenjun/Data/AlphaNet_Original_Input_12.14/Data/2019-06-01_2019-09-01.par\n"
     ]
    },
    {
     "name": "stderr",
     "output_type": "stream",
     "text": [
      "  0%|          | 0/3 [00:00<?, ?it/s].06it/s]"
     ]
    },
    {
     "name": "stdout",
     "output_type": "stream",
     "text": [
      "save to  /home/wuwenjun/Data/AlphaNet_Original_Input_12.14/Decay/2017-01-01_2017-03-01.par\n"
     ]
    },
    {
     "name": "stderr",
     "output_type": "stream",
     "text": [
      "100%|██████████| 3/3 [00:00<00:00, 21.22it/s]\n",
      " 67%|██████▋   | 2/3 [00:00<00:00,  6.27it/s]"
     ]
    },
    {
     "name": "stdout",
     "output_type": "stream",
     "text": [
      "save to  /home/wuwenjun/Data/AlphaNet_Original_Input_12.14/Decay/2018-01-01_2018-03-01.par\n",
      "read/home/wuwenjun/Data/AlphaNet_Original_Input_12.14/Data/2019-03-01_2019-06-01.par\n"
     ]
    },
    {
     "name": "stderr",
     "output_type": "stream",
     "text": [
      "100%|██████████| 3/3 [00:00<00:00,  6.35it/s]\n"
     ]
    },
    {
     "name": "stdout",
     "output_type": "stream",
     "text": [
      "read/home/wuwenjun/Data/AlphaNet_Original_Input_12.14/Data/2017-09-01_2018-01-01.par\n"
     ]
    },
    {
     "name": "stderr",
     "output_type": "stream",
     "text": [
      "100%|██████████| 3/3 [00:00<00:00,  4.78it/s]\n",
      " 67%|██████▋   | 2/3 [00:00<00:00,  5.47it/s]"
     ]
    },
    {
     "name": "stdout",
     "output_type": "stream",
     "text": [
      "save to  /home/wuwenjun/Data/AlphaNet_Original_Input_12.14/Decay/2019-01-01_2019-03-01.par\n"
     ]
    },
    {
     "name": "stderr",
     "output_type": "stream",
     "text": [
      "100%|██████████| 3/3 [00:00<00:00,  6.25it/s]\n",
      "  0%|          | 0/3 [00:00<?, ?it/s].97it/s]"
     ]
    },
    {
     "name": "stdout",
     "output_type": "stream",
     "text": [
      "read/home/wuwenjun/Data/AlphaNet_Original_Input_12.14/Data/2018-09-01_2019-01-01.par\n"
     ]
    },
    {
     "name": "stderr",
     "output_type": "stream",
     "text": [
      "100%|██████████| 3/3 [00:00<00:00,  5.78it/s]\n",
      "100%|██████████| 3/3 [00:00<00:00,  5.63it/s]\n",
      "100%|██████████| 3/3 [00:00<00:00,  5.18it/s]\n",
      "100%|██████████| 3/3 [00:00<00:00,  6.05it/s]\n"
     ]
    },
    {
     "name": "stdout",
     "output_type": "stream",
     "text": [
      "save to  /home/wuwenjun/Data/AlphaNet_Original_Input_12.14/Decay/2020-01-01_2020-03-01.par\n"
     ]
    },
    {
     "name": "stderr",
     "output_type": "stream",
     "text": [
      " 33%|███▎      | 1/3 [00:00<00:00,  3.89it/s]"
     ]
    },
    {
     "name": "stdout",
     "output_type": "stream",
     "text": [
      "read/home/wuwenjun/Data/AlphaNet_Original_Input_12.14/Data/2019-09-01_2020-01-01.par\n"
     ]
    },
    {
     "name": "stderr",
     "output_type": "stream",
     "text": [
      "100%|██████████| 3/3 [00:00<00:00,  5.12it/s]\n",
      "100%|██████████| 3/3 [00:00<00:00,  5.19it/s]\n",
      "100%|██████████| 3/3 [00:00<00:00,  4.37it/s]\n",
      "100%|██████████| 3/3 [00:00<00:00,  3.41it/s]\n",
      "100%|██████████| 3/3 [00:00<00:00,  4.40it/s]\n"
     ]
    },
    {
     "name": "stdout",
     "output_type": "stream",
     "text": [
      "save to  /home/wuwenjun/Data/AlphaNet_Original_Input_12.14/Decay/2015-03-01_2015-06-01.par\n"
     ]
    },
    {
     "name": "stderr",
     "output_type": "stream",
     "text": [
      "\r",
      "  0%|          | 0/3 [00:00<?, ?it/s]"
     ]
    },
    {
     "name": "stdout",
     "output_type": "stream",
     "text": [
      "save to  /home/wuwenjun/Data/AlphaNet_Original_Input_12.14/Decay/2021-01-01_2021-03-01.par\n"
     ]
    },
    {
     "name": "stderr",
     "output_type": "stream",
     "text": [
      "100%|██████████| 3/3 [00:00<00:00,  3.46it/s]"
     ]
    },
    {
     "name": "stdout",
     "output_type": "stream",
     "text": [
      "save to  "
     ]
    },
    {
     "name": "stderr",
     "output_type": "stream",
     "text": [
      "\r",
      "100%|██████████| 3/3 [00:00<00:00,  3.51it/s]"
     ]
    },
    {
     "name": "stdout",
     "output_type": "stream",
     "text": [
      "/home/wuwenjun/Data/AlphaNet_Original_Input_12.14/Decay/2016-03-01_2016-06-01.par"
     ]
    },
    {
     "name": "stderr",
     "output_type": "stream",
     "text": [
      "\n"
     ]
    },
    {
     "name": "stdout",
     "output_type": "stream",
     "text": [
      "\n",
      "save to  /home/wuwenjun/Data/AlphaNet_Original_Input_12.14/Decay/2015-06-01_2015-09-01.par\n"
     ]
    },
    {
     "name": "stderr",
     "output_type": "stream",
     "text": [
      "100%|██████████| 3/3 [00:00<00:00,  3.28it/s]\n",
      " 67%|██████▋   | 2/3 [00:00<00:00,  3.41it/s]"
     ]
    },
    {
     "name": "stdout",
     "output_type": "stream",
     "text": [
      "save to  /home/wuwenjun/Data/AlphaNet_Original_Input_12.14/Decay/2017-03-01_2017-06-01.par\n",
      "save to  /home/wuwenjun/Data/AlphaNet_Original_Input_12.14/Decay/2016-06-01_2016-09-01.par\n"
     ]
    },
    {
     "name": "stderr",
     "output_type": "stream",
     "text": [
      "100%|██████████| 3/3 [00:00<00:00,  3.56it/s]\n",
      " 67%|██████▋   | 2/3 [00:00<00:00,  3.27it/s]"
     ]
    },
    {
     "name": "stdout",
     "output_type": "stream",
     "text": [
      "save to  "
     ]
    },
    {
     "name": "stderr",
     "output_type": "stream",
     "text": [
      "\r",
      " 33%|███▎      | 1/3 [00:00<00:00,  6.02it/s]"
     ]
    },
    {
     "name": "stdout",
     "output_type": "stream",
     "text": [
      "/home/wuwenjun/Data/AlphaNet_Original_Input_12.14/Decay/2015-09-01_2016-01-01.par\n"
     ]
    },
    {
     "name": "stderr",
     "output_type": "stream",
     "text": [
      "100%|██████████| 3/3 [00:00<00:00,  4.33it/s]\n"
     ]
    },
    {
     "name": "stdout",
     "output_type": "stream",
     "text": [
      "save to save to   /home/wuwenjun/Data/AlphaNet_Original_Input_12.14/Decay/2018-06-01_2018-09-01.par\n",
      "/home/wuwenjun/Data/AlphaNet_Original_Input_12.14/Decay/2018-03-01_2018-06-01.par\n",
      "save to  /home/wuwenjun/Data/AlphaNet_Original_Input_12.14/Decay/2020-03-01_2020-06-01.parsave to \n",
      " /home/wuwenjun/Data/AlphaNet_Original_Input_12.14/Decay/2017-06-01_2017-09-01.par\n"
     ]
    },
    {
     "name": "stderr",
     "output_type": "stream",
     "text": [
      "100%|██████████| 3/3 [00:00<00:00,  3.29it/s]\n",
      "  0%|          | 0/3 [00:00<?, ?it/s]"
     ]
    },
    {
     "name": "stdout",
     "output_type": "stream",
     "text": [
      "save to  /home/wuwenjun/Data/AlphaNet_Original_Input_12.14/Decay/2020-06-01_2020-09-01.par\n",
      "save to "
     ]
    },
    {
     "name": "stderr",
     "output_type": "stream",
     "text": [
      "\r",
      "100%|██████████| 3/3 [00:00<00:00,  4.52it/s]"
     ]
    },
    {
     "name": "stdout",
     "output_type": "stream",
     "text": [
      " "
     ]
    },
    {
     "name": "stderr",
     "output_type": "stream",
     "text": [
      "\r",
      "100%|██████████| 3/3 [00:00<00:00,  4.72it/s]"
     ]
    },
    {
     "name": "stdout",
     "output_type": "stream",
     "text": [
      "/home/wuwenjun/Data/AlphaNet_Original_Input_12.14/Decay/2016-09-01_2017-01-01.par"
     ]
    },
    {
     "name": "stderr",
     "output_type": "stream",
     "text": [
      "\n"
     ]
    },
    {
     "name": "stdout",
     "output_type": "stream",
     "text": [
      "\n",
      "save to  /home/wuwenjun/Data/AlphaNet_Original_Input_12.14/Decay/2021-03-01_2021-06-01.par\n"
     ]
    },
    {
     "name": "stderr",
     "output_type": "stream",
     "text": [
      "\r",
      " 33%|███▎      | 1/3 [00:00<00:00,  2.58it/s]"
     ]
    },
    {
     "name": "stdout",
     "output_type": "stream",
     "text": [
      "save to "
     ]
    },
    {
     "name": "stderr",
     "output_type": "stream",
     "text": [
      "\r",
      "  0%|          | 0/3 [00:00<?, ?it/s]"
     ]
    },
    {
     "name": "stdout",
     "output_type": "stream",
     "text": [
      " /home/wuwenjun/Data/AlphaNet_Original_Input_12.14/Decay/2019-06-01_2019-09-01.par\n"
     ]
    },
    {
     "name": "stderr",
     "output_type": "stream",
     "text": [
      "\r",
      " 67%|██████▋   | 2/3 [00:00<00:00,  2.57it/s]"
     ]
    },
    {
     "name": "stdout",
     "output_type": "stream",
     "text": [
      "save to  /home/wuwenjun/Data/AlphaNet_Original_Input_12.14/Decay/2020-09-01_2021-01-01.par\n",
      "save to  /home/wuwenjun/Data/AlphaNet_Original_Input_12.14/Decay/2019-03-01_2019-06-01.par\n"
     ]
    },
    {
     "name": "stderr",
     "output_type": "stream",
     "text": [
      "100%|██████████| 3/3 [00:01<00:00,  2.29it/s]\n",
      "100%|██████████| 3/3 [00:01<00:00,  2.33it/s]\n"
     ]
    },
    {
     "name": "stdout",
     "output_type": "stream",
     "text": [
      "save to  /home/wuwenjun/Data/AlphaNet_Original_Input_12.14/Decay/2017-09-01_2018-01-01.par\n"
     ]
    },
    {
     "name": "stderr",
     "output_type": "stream",
     "text": [
      "100%|██████████| 3/3 [00:01<00:00,  2.33it/s]\n"
     ]
    },
    {
     "name": "stdout",
     "output_type": "stream",
     "text": [
      "save to  /home/wuwenjun/Data/AlphaNet_Original_Input_12.14/Decay/2018-09-01_2019-01-01.par\n",
      "save to  /home/wuwenjun/Data/AlphaNet_Original_Input_12.14/Decay/2019-09-01_2020-01-01.par\n",
      "并行执行时间： 8\n"
     ]
    }
   ],
   "source": [
    "pool = mp.Pool(20)\n",
    "t1 = time.time()\n",
    "for i in path_list:\n",
    "#     test(data_path,i,output)\n",
    "    pool.apply_async(test, args=(data_path,i,output))   #维持执行的进程总数为10，当一个进程执行完后启动一个新进程.\n",
    "pool.close()\n",
    "pool.join()\n",
    "t2 = time.time()\n",
    "print(\"并行执行时间：\", int(t2 - t1))"
   ]
  },
  {
   "cell_type": "code",
   "execution_count": 101,
   "id": "1750110b",
   "metadata": {
    "ExecuteTime": {
     "end_time": "2021-12-14T06:25:53.697804Z",
     "start_time": "2021-12-14T06:25:53.691303Z"
    }
   },
   "outputs": [
    {
     "data": {
      "text/plain": [
       "(118, 55, 3)"
      ]
     },
     "execution_count": 101,
     "metadata": {},
     "output_type": "execute_result"
    }
   ],
   "source": []
  },
  {
   "cell_type": "code",
   "execution_count": 4,
   "id": "1ec8e7ec",
   "metadata": {
    "ExecuteTime": {
     "end_time": "2021-12-14T08:00:06.077976Z",
     "start_time": "2021-12-14T08:00:05.225256Z"
    }
   },
   "outputs": [
    {
     "data": {
      "text/html": [
       "<div>\n",
       "<style scoped>\n",
       "    .dataframe tbody tr th:only-of-type {\n",
       "        vertical-align: middle;\n",
       "    }\n",
       "\n",
       "    .dataframe tbody tr th {\n",
       "        vertical-align: top;\n",
       "    }\n",
       "\n",
       "    .dataframe thead th {\n",
       "        text-align: right;\n",
       "    }\n",
       "</style>\n",
       "<table border=\"1\" class=\"dataframe\">\n",
       "  <thead>\n",
       "    <tr style=\"text-align: right;\">\n",
       "      <th></th>\n",
       "      <th></th>\n",
       "      <th>2</th>\n",
       "      <th>3</th>\n",
       "      <th>4</th>\n",
       "      <th>5</th>\n",
       "      <th>6</th>\n",
       "      <th>7</th>\n",
       "      <th>8</th>\n",
       "      <th>9</th>\n",
       "      <th>10</th>\n",
       "      <th>11</th>\n",
       "      <th>...</th>\n",
       "      <th>323</th>\n",
       "      <th>324</th>\n",
       "      <th>325</th>\n",
       "      <th>326</th>\n",
       "      <th>327</th>\n",
       "      <th>328</th>\n",
       "      <th>329</th>\n",
       "      <th>330</th>\n",
       "      <th>331</th>\n",
       "      <th>target</th>\n",
       "    </tr>\n",
       "    <tr>\n",
       "      <th>timestamp</th>\n",
       "      <th>ticker</th>\n",
       "      <th></th>\n",
       "      <th></th>\n",
       "      <th></th>\n",
       "      <th></th>\n",
       "      <th></th>\n",
       "      <th></th>\n",
       "      <th></th>\n",
       "      <th></th>\n",
       "      <th></th>\n",
       "      <th></th>\n",
       "      <th></th>\n",
       "      <th></th>\n",
       "      <th></th>\n",
       "      <th></th>\n",
       "      <th></th>\n",
       "      <th></th>\n",
       "      <th></th>\n",
       "      <th></th>\n",
       "      <th></th>\n",
       "      <th></th>\n",
       "      <th></th>\n",
       "    </tr>\n",
       "  </thead>\n",
       "  <tbody>\n",
       "    <tr>\n",
       "      <th>2020-12-31 09:30:00</th>\n",
       "      <th>1</th>\n",
       "      <td>18.46</td>\n",
       "      <td>18.59</td>\n",
       "      <td>18.98</td>\n",
       "      <td>18.30</td>\n",
       "      <td>18.85</td>\n",
       "      <td>18.7373</td>\n",
       "      <td>1211740.62</td>\n",
       "      <td>2.1127</td>\n",
       "      <td>0.6244</td>\n",
       "      <td>1.4088</td>\n",
       "      <td>...</td>\n",
       "      <td>19.20</td>\n",
       "      <td>18.72</td>\n",
       "      <td>19.20</td>\n",
       "      <td>18.9483</td>\n",
       "      <td>978497.78</td>\n",
       "      <td>0.1565</td>\n",
       "      <td>0.5042</td>\n",
       "      <td>1.1376</td>\n",
       "      <td>0.03</td>\n",
       "      <td>0.035919</td>\n",
       "    </tr>\n",
       "    <tr>\n",
       "      <th>2021-01-04 09:30:00</th>\n",
       "      <th>1</th>\n",
       "      <td>18.85</td>\n",
       "      <td>18.83</td>\n",
       "      <td>18.99</td>\n",
       "      <td>18.52</td>\n",
       "      <td>18.86</td>\n",
       "      <td>18.7747</td>\n",
       "      <td>673919.22</td>\n",
       "      <td>0.0531</td>\n",
       "      <td>0.3473</td>\n",
       "      <td>0.7835</td>\n",
       "      <td>...</td>\n",
       "      <td>19.58</td>\n",
       "      <td>19.02</td>\n",
       "      <td>19.34</td>\n",
       "      <td>19.2724</td>\n",
       "      <td>924503.43</td>\n",
       "      <td>0.7292</td>\n",
       "      <td>0.4764</td>\n",
       "      <td>1.0749</td>\n",
       "      <td>0.14</td>\n",
       "      <td>0.047120</td>\n",
       "    </tr>\n",
       "    <tr>\n",
       "      <th>2021-01-05 09:30:00</th>\n",
       "      <th>1</th>\n",
       "      <td>18.86</td>\n",
       "      <td>18.85</td>\n",
       "      <td>19.62</td>\n",
       "      <td>18.80</td>\n",
       "      <td>19.62</td>\n",
       "      <td>19.3187</td>\n",
       "      <td>1165858.26</td>\n",
       "      <td>4.0297</td>\n",
       "      <td>0.6008</td>\n",
       "      <td>1.3555</td>\n",
       "      <td>...</td>\n",
       "      <td>19.10</td>\n",
       "      <td>18.44</td>\n",
       "      <td>18.60</td>\n",
       "      <td>18.6054</td>\n",
       "      <td>1554216.43</td>\n",
       "      <td>-3.8263</td>\n",
       "      <td>0.8009</td>\n",
       "      <td>1.8070</td>\n",
       "      <td>-0.74</td>\n",
       "      <td>0.108152</td>\n",
       "    </tr>\n",
       "    <tr>\n",
       "      <th>2021-01-06 09:30:00</th>\n",
       "      <th>1</th>\n",
       "      <td>19.62</td>\n",
       "      <td>19.62</td>\n",
       "      <td>19.68</td>\n",
       "      <td>19.17</td>\n",
       "      <td>19.36</td>\n",
       "      <td>19.3576</td>\n",
       "      <td>678543.23</td>\n",
       "      <td>-1.3252</td>\n",
       "      <td>0.3497</td>\n",
       "      <td>0.7889</td>\n",
       "      <td>...</td>\n",
       "      <td>18.48</td>\n",
       "      <td>17.80</td>\n",
       "      <td>18.17</td>\n",
       "      <td>18.0339</td>\n",
       "      <td>1821352.10</td>\n",
       "      <td>-2.3118</td>\n",
       "      <td>0.9386</td>\n",
       "      <td>2.1176</td>\n",
       "      <td>-0.43</td>\n",
       "      <td>0.161504</td>\n",
       "    </tr>\n",
       "    <tr>\n",
       "      <th>2021-01-07 09:30:00</th>\n",
       "      <th>1</th>\n",
       "      <td>19.36</td>\n",
       "      <td>19.48</td>\n",
       "      <td>19.70</td>\n",
       "      <td>19.05</td>\n",
       "      <td>19.06</td>\n",
       "      <td>19.3337</td>\n",
       "      <td>552585.01</td>\n",
       "      <td>-1.5496</td>\n",
       "      <td>0.2848</td>\n",
       "      <td>0.6425</td>\n",
       "      <td>...</td>\n",
       "      <td>19.56</td>\n",
       "      <td>18.00</td>\n",
       "      <td>19.56</td>\n",
       "      <td>18.8559</td>\n",
       "      <td>1934945.12</td>\n",
       "      <td>7.6500</td>\n",
       "      <td>0.9971</td>\n",
       "      <td>2.2496</td>\n",
       "      <td>1.39</td>\n",
       "      <td>0.059426</td>\n",
       "    </tr>\n",
       "    <tr>\n",
       "      <th>...</th>\n",
       "      <th>...</th>\n",
       "      <td>...</td>\n",
       "      <td>...</td>\n",
       "      <td>...</td>\n",
       "      <td>...</td>\n",
       "      <td>...</td>\n",
       "      <td>...</td>\n",
       "      <td>...</td>\n",
       "      <td>...</td>\n",
       "      <td>...</td>\n",
       "      <td>...</td>\n",
       "      <td>...</td>\n",
       "      <td>...</td>\n",
       "      <td>...</td>\n",
       "      <td>...</td>\n",
       "      <td>...</td>\n",
       "      <td>...</td>\n",
       "      <td>...</td>\n",
       "      <td>...</td>\n",
       "      <td>...</td>\n",
       "      <td>...</td>\n",
       "      <td>...</td>\n",
       "    </tr>\n",
       "    <tr>\n",
       "      <th>2021-06-23 09:30:00</th>\n",
       "      <th>1</th>\n",
       "      <td>23.86</td>\n",
       "      <td>23.62</td>\n",
       "      <td>23.75</td>\n",
       "      <td>23.06</td>\n",
       "      <td>23.53</td>\n",
       "      <td>23.3667</td>\n",
       "      <td>497223.45</td>\n",
       "      <td>-1.3831</td>\n",
       "      <td>0.2562</td>\n",
       "      <td>0.5781</td>\n",
       "      <td>...</td>\n",
       "      <td>23.09</td>\n",
       "      <td>22.25</td>\n",
       "      <td>22.97</td>\n",
       "      <td>22.6995</td>\n",
       "      <td>757751.41</td>\n",
       "      <td>3.6552</td>\n",
       "      <td>0.3905</td>\n",
       "      <td>0.8810</td>\n",
       "      <td>0.81</td>\n",
       "      <td>-0.021444</td>\n",
       "    </tr>\n",
       "    <tr>\n",
       "      <th>2021-06-24 09:30:00</th>\n",
       "      <th>1</th>\n",
       "      <td>23.53</td>\n",
       "      <td>23.29</td>\n",
       "      <td>23.64</td>\n",
       "      <td>22.88</td>\n",
       "      <td>23.55</td>\n",
       "      <td>23.3564</td>\n",
       "      <td>533265.26</td>\n",
       "      <td>0.0850</td>\n",
       "      <td>0.2748</td>\n",
       "      <td>0.6200</td>\n",
       "      <td>...</td>\n",
       "      <td>23.41</td>\n",
       "      <td>22.72</td>\n",
       "      <td>23.14</td>\n",
       "      <td>23.1261</td>\n",
       "      <td>447907.78</td>\n",
       "      <td>0.7401</td>\n",
       "      <td>0.2308</td>\n",
       "      <td>0.5208</td>\n",
       "      <td>0.17</td>\n",
       "      <td>-0.009553</td>\n",
       "    </tr>\n",
       "    <tr>\n",
       "      <th>2021-06-25 09:30:00</th>\n",
       "      <th>1</th>\n",
       "      <td>23.55</td>\n",
       "      <td>23.52</td>\n",
       "      <td>23.59</td>\n",
       "      <td>22.84</td>\n",
       "      <td>23.07</td>\n",
       "      <td>23.1409</td>\n",
       "      <td>549652.50</td>\n",
       "      <td>-2.0382</td>\n",
       "      <td>0.2832</td>\n",
       "      <td>0.6390</td>\n",
       "      <td>...</td>\n",
       "      <td>23.12</td>\n",
       "      <td>22.68</td>\n",
       "      <td>23.08</td>\n",
       "      <td>22.9193</td>\n",
       "      <td>390283.49</td>\n",
       "      <td>-0.2593</td>\n",
       "      <td>0.2011</td>\n",
       "      <td>0.4538</td>\n",
       "      <td>-0.06</td>\n",
       "      <td>-0.015598</td>\n",
       "    </tr>\n",
       "    <tr>\n",
       "      <th>2021-06-28 09:30:00</th>\n",
       "      <th>1</th>\n",
       "      <td>22.89</td>\n",
       "      <td>23.14</td>\n",
       "      <td>23.43</td>\n",
       "      <td>22.60</td>\n",
       "      <td>23.32</td>\n",
       "      <td>23.0629</td>\n",
       "      <td>563785.36</td>\n",
       "      <td>1.8785</td>\n",
       "      <td>0.2905</td>\n",
       "      <td>0.6555</td>\n",
       "      <td>...</td>\n",
       "      <td>23.60</td>\n",
       "      <td>23.06</td>\n",
       "      <td>23.36</td>\n",
       "      <td>23.3991</td>\n",
       "      <td>559972.95</td>\n",
       "      <td>1.2132</td>\n",
       "      <td>0.2886</td>\n",
       "      <td>0.6510</td>\n",
       "      <td>0.28</td>\n",
       "      <td>-0.071490</td>\n",
       "    </tr>\n",
       "    <tr>\n",
       "      <th>2021-06-29 09:30:00</th>\n",
       "      <th>1</th>\n",
       "      <td>23.32</td>\n",
       "      <td>23.15</td>\n",
       "      <td>23.82</td>\n",
       "      <td>22.95</td>\n",
       "      <td>23.60</td>\n",
       "      <td>23.5347</td>\n",
       "      <td>527564.65</td>\n",
       "      <td>1.2007</td>\n",
       "      <td>0.2719</td>\n",
       "      <td>0.6134</td>\n",
       "      <td>...</td>\n",
       "      <td>23.39</td>\n",
       "      <td>22.48</td>\n",
       "      <td>22.78</td>\n",
       "      <td>22.7654</td>\n",
       "      <td>626257.37</td>\n",
       "      <td>-2.4829</td>\n",
       "      <td>0.3227</td>\n",
       "      <td>0.7281</td>\n",
       "      <td>-0.58</td>\n",
       "      <td>-0.022143</td>\n",
       "    </tr>\n",
       "  </tbody>\n",
       "</table>\n",
       "<p>118 rows × 331 columns</p>\n",
       "</div>"
      ],
      "text/plain": [
       "                                2      3      4      5      6        7  \\\n",
       "timestamp           ticker                                               \n",
       "2020-12-31 09:30:00 1       18.46  18.59  18.98  18.30  18.85  18.7373   \n",
       "2021-01-04 09:30:00 1       18.85  18.83  18.99  18.52  18.86  18.7747   \n",
       "2021-01-05 09:30:00 1       18.86  18.85  19.62  18.80  19.62  19.3187   \n",
       "2021-01-06 09:30:00 1       19.62  19.62  19.68  19.17  19.36  19.3576   \n",
       "2021-01-07 09:30:00 1       19.36  19.48  19.70  19.05  19.06  19.3337   \n",
       "...                           ...    ...    ...    ...    ...      ...   \n",
       "2021-06-23 09:30:00 1       23.86  23.62  23.75  23.06  23.53  23.3667   \n",
       "2021-06-24 09:30:00 1       23.53  23.29  23.64  22.88  23.55  23.3564   \n",
       "2021-06-25 09:30:00 1       23.55  23.52  23.59  22.84  23.07  23.1409   \n",
       "2021-06-28 09:30:00 1       22.89  23.14  23.43  22.60  23.32  23.0629   \n",
       "2021-06-29 09:30:00 1       23.32  23.15  23.82  22.95  23.60  23.5347   \n",
       "\n",
       "                                     8       9      10      11  ...    323  \\\n",
       "timestamp           ticker                                      ...          \n",
       "2020-12-31 09:30:00 1       1211740.62  2.1127  0.6244  1.4088  ...  19.20   \n",
       "2021-01-04 09:30:00 1        673919.22  0.0531  0.3473  0.7835  ...  19.58   \n",
       "2021-01-05 09:30:00 1       1165858.26  4.0297  0.6008  1.3555  ...  19.10   \n",
       "2021-01-06 09:30:00 1        678543.23 -1.3252  0.3497  0.7889  ...  18.48   \n",
       "2021-01-07 09:30:00 1        552585.01 -1.5496  0.2848  0.6425  ...  19.56   \n",
       "...                                ...     ...     ...     ...  ...    ...   \n",
       "2021-06-23 09:30:00 1        497223.45 -1.3831  0.2562  0.5781  ...  23.09   \n",
       "2021-06-24 09:30:00 1        533265.26  0.0850  0.2748  0.6200  ...  23.41   \n",
       "2021-06-25 09:30:00 1        549652.50 -2.0382  0.2832  0.6390  ...  23.12   \n",
       "2021-06-28 09:30:00 1        563785.36  1.8785  0.2905  0.6555  ...  23.60   \n",
       "2021-06-29 09:30:00 1        527564.65  1.2007  0.2719  0.6134  ...  23.39   \n",
       "\n",
       "                              324    325      326         327     328     329  \\\n",
       "timestamp           ticker                                                      \n",
       "2020-12-31 09:30:00 1       18.72  19.20  18.9483   978497.78  0.1565  0.5042   \n",
       "2021-01-04 09:30:00 1       19.02  19.34  19.2724   924503.43  0.7292  0.4764   \n",
       "2021-01-05 09:30:00 1       18.44  18.60  18.6054  1554216.43 -3.8263  0.8009   \n",
       "2021-01-06 09:30:00 1       17.80  18.17  18.0339  1821352.10 -2.3118  0.9386   \n",
       "2021-01-07 09:30:00 1       18.00  19.56  18.8559  1934945.12  7.6500  0.9971   \n",
       "...                           ...    ...      ...         ...     ...     ...   \n",
       "2021-06-23 09:30:00 1       22.25  22.97  22.6995   757751.41  3.6552  0.3905   \n",
       "2021-06-24 09:30:00 1       22.72  23.14  23.1261   447907.78  0.7401  0.2308   \n",
       "2021-06-25 09:30:00 1       22.68  23.08  22.9193   390283.49 -0.2593  0.2011   \n",
       "2021-06-28 09:30:00 1       23.06  23.36  23.3991   559972.95  1.2132  0.2886   \n",
       "2021-06-29 09:30:00 1       22.48  22.78  22.7654   626257.37 -2.4829  0.3227   \n",
       "\n",
       "                               330   331    target  \n",
       "timestamp           ticker                          \n",
       "2020-12-31 09:30:00 1       1.1376  0.03  0.035919  \n",
       "2021-01-04 09:30:00 1       1.0749  0.14  0.047120  \n",
       "2021-01-05 09:30:00 1       1.8070 -0.74  0.108152  \n",
       "2021-01-06 09:30:00 1       2.1176 -0.43  0.161504  \n",
       "2021-01-07 09:30:00 1       2.2496  1.39  0.059426  \n",
       "...                            ...   ...       ...  \n",
       "2021-06-23 09:30:00 1       0.8810  0.81 -0.021444  \n",
       "2021-06-24 09:30:00 1       0.5208  0.17 -0.009553  \n",
       "2021-06-25 09:30:00 1       0.4538 -0.06 -0.015598  \n",
       "2021-06-28 09:30:00 1       0.6510  0.28 -0.071490  \n",
       "2021-06-29 09:30:00 1       0.7281 -0.58 -0.022143  \n",
       "\n",
       "[118 rows x 331 columns]"
      ]
     },
     "execution_count": 4,
     "metadata": {},
     "output_type": "execute_result"
    }
   ],
   "source": [
    "dataframe_list = pd.read_parquet('/home/wuwenjun/Data/AlphaNet_Original_Input/2020-12-31_2021-06-30.par')\n",
    "dataframe_list = dataframe_list[dataframe_list['ticker'] == 1]\n",
    "dataframe_list = dataframe_list.set_index([\"timestamp\",\"ticker\"])\n",
    "dataframe_list"
   ]
  },
  {
   "cell_type": "code",
   "execution_count": 5,
   "id": "8e28c21f",
   "metadata": {
    "ExecuteTime": {
     "end_time": "2021-12-14T08:00:06.837457Z",
     "start_time": "2021-12-14T08:00:06.826677Z"
    }
   },
   "outputs": [],
   "source": [
    "x = np.array(dataframe_list.drop('target',axis=1))\n",
    "x = x.reshape(x.shape[0], 1, day, -1)\n",
    "x = x.transpose(0, 1, 3, 2)\n",
    "\n",
    "feat_nums = x.shape[2]\n",
    "data_length = x.shape[3]\n",
    "num, num_rev = generate_Num_and_ReversedNum(feat_nums)\n",
    "step_list = generate_Step_List(data_length, stride)"
   ]
  },
  {
   "cell_type": "code",
   "execution_count": 6,
   "id": "1f5b78b2",
   "metadata": {
    "ExecuteTime": {
     "end_time": "2021-12-14T08:00:15.479194Z",
     "start_time": "2021-12-14T08:00:08.975809Z"
    }
   },
   "outputs": [
    {
     "data": {
      "text/plain": [
       "(11, 30)"
      ]
     },
     "execution_count": 6,
     "metadata": {},
     "output_type": "execute_result"
    }
   ],
   "source": [
    "check_data = pd.read_csv(\"/home/wuwenjun/Data/AlphaNet_Original_Input.csv\")\n",
    "check_data = check_data[check_data['ticker'] == 1]\n",
    "check_data['timestamp'] = pd.to_datetime(check_data['timestamp'])\n",
    "check_data = check_data[(check_data['timestamp'] > pd.to_datetime(\"20201120\")) & (check_data['timestamp'] < pd.to_datetime(\"20210101\"))]\n",
    "check_data = check_data.set_index(['timestamp','ticker']).drop('5d_ret',axis=1).T\n",
    "check_data.shape"
   ]
  },
  {
   "cell_type": "code",
   "execution_count": 21,
   "id": "fe37ca7c",
   "metadata": {
    "ExecuteTime": {
     "end_time": "2021-12-14T08:06:51.644493Z",
     "start_time": "2021-12-14T08:06:51.625448Z"
    }
   },
   "outputs": [
    {
     "name": "stderr",
     "output_type": "stream",
     "text": [
      "100%|██████████| 3/3 [00:00<00:00, 2479.39it/s]\n"
     ]
    },
    {
     "data": {
      "text/plain": [
       "(118, 11, 3)"
      ]
     },
     "execution_count": 21,
     "metadata": {},
     "output_type": "execute_result"
    }
   ],
   "source": [
    "l = []\n",
    "for i in tqdm(range(len(step_list) - 1)):\n",
    "    start = step_list[i]\n",
    "    end = step_list[i + 1]\n",
    "    time_spread = end - start\n",
    "    weight = np.arange(1, time_spread + 1)\n",
    "    weight = weight / (weight.sum())\n",
    "    sub_data1 = (x[:, :, :, start:end] * weight).sum(axis=3, keepdims=True)\n",
    "    l.append(sub_data1)\n",
    "decay_data = np.squeeze(np.array(l)).transpose(1, 2, 0)\n",
    "decay_data.shape"
   ]
  },
  {
   "cell_type": "code",
   "execution_count": 8,
   "id": "881417bc",
   "metadata": {
    "ExecuteTime": {
     "end_time": "2021-12-14T08:00:41.731589Z",
     "start_time": "2021-12-14T08:00:41.641044Z"
    }
   },
   "outputs": [
    {
     "data": {
      "text/html": [
       "<div>\n",
       "<style scoped>\n",
       "    .dataframe tbody tr th:only-of-type {\n",
       "        vertical-align: middle;\n",
       "    }\n",
       "\n",
       "    .dataframe tbody tr th {\n",
       "        vertical-align: top;\n",
       "    }\n",
       "\n",
       "    .dataframe thead tr th {\n",
       "        text-align: left;\n",
       "    }\n",
       "</style>\n",
       "<table border=\"1\" class=\"dataframe\">\n",
       "  <thead>\n",
       "    <tr>\n",
       "      <th>timestamp</th>\n",
       "      <th>2020-11-20 09:30:00</th>\n",
       "      <th>2020-11-23 09:30:00</th>\n",
       "      <th>2020-11-24 09:30:00</th>\n",
       "      <th>2020-11-25 09:30:00</th>\n",
       "      <th>2020-11-26 09:30:00</th>\n",
       "      <th>2020-11-27 09:30:00</th>\n",
       "      <th>2020-11-30 09:30:00</th>\n",
       "      <th>2020-12-01 09:30:00</th>\n",
       "      <th>2020-12-02 09:30:00</th>\n",
       "      <th>2020-12-03 09:30:00</th>\n",
       "      <th>...</th>\n",
       "      <th>2020-12-18 09:30:00</th>\n",
       "      <th>2020-12-21 09:30:00</th>\n",
       "      <th>2020-12-22 09:30:00</th>\n",
       "      <th>2020-12-23 09:30:00</th>\n",
       "      <th>2020-12-24 09:30:00</th>\n",
       "      <th>2020-12-25 09:30:00</th>\n",
       "      <th>2020-12-28 09:30:00</th>\n",
       "      <th>2020-12-29 09:30:00</th>\n",
       "      <th>2020-12-30 09:30:00</th>\n",
       "      <th>2020-12-31 09:30:00</th>\n",
       "    </tr>\n",
       "    <tr>\n",
       "      <th>ticker</th>\n",
       "      <th>1</th>\n",
       "      <th>1</th>\n",
       "      <th>1</th>\n",
       "      <th>1</th>\n",
       "      <th>1</th>\n",
       "      <th>1</th>\n",
       "      <th>1</th>\n",
       "      <th>1</th>\n",
       "      <th>1</th>\n",
       "      <th>1</th>\n",
       "      <th>...</th>\n",
       "      <th>1</th>\n",
       "      <th>1</th>\n",
       "      <th>1</th>\n",
       "      <th>1</th>\n",
       "      <th>1</th>\n",
       "      <th>1</th>\n",
       "      <th>1</th>\n",
       "      <th>1</th>\n",
       "      <th>1</th>\n",
       "      <th>1</th>\n",
       "    </tr>\n",
       "  </thead>\n",
       "  <tbody>\n",
       "    <tr>\n",
       "      <th>pre_close</th>\n",
       "      <td>1.846000e+01</td>\n",
       "      <td>18.8500</td>\n",
       "      <td>1.886000e+01</td>\n",
       "      <td>19.6200</td>\n",
       "      <td>19.3600</td>\n",
       "      <td>19.0600</td>\n",
       "      <td>19.5000</td>\n",
       "      <td>1.970000e+01</td>\n",
       "      <td>1.974000e+01</td>\n",
       "      <td>20.0500</td>\n",
       "      <td>...</td>\n",
       "      <td>19.0100</td>\n",
       "      <td>1.895000e+01</td>\n",
       "      <td>18.3600</td>\n",
       "      <td>1.828000e+01</td>\n",
       "      <td>17.9000</td>\n",
       "      <td>18.0000</td>\n",
       "      <td>18.2600</td>\n",
       "      <td>1.804000e+01</td>\n",
       "      <td>18.8500</td>\n",
       "      <td>19.1700</td>\n",
       "    </tr>\n",
       "    <tr>\n",
       "      <th>open</th>\n",
       "      <td>1.859000e+01</td>\n",
       "      <td>18.8300</td>\n",
       "      <td>1.885000e+01</td>\n",
       "      <td>19.6200</td>\n",
       "      <td>19.4800</td>\n",
       "      <td>19.0500</td>\n",
       "      <td>20.0000</td>\n",
       "      <td>1.990000e+01</td>\n",
       "      <td>1.970000e+01</td>\n",
       "      <td>19.9300</td>\n",
       "      <td>...</td>\n",
       "      <td>18.9100</td>\n",
       "      <td>1.900000e+01</td>\n",
       "      <td>18.3000</td>\n",
       "      <td>1.836000e+01</td>\n",
       "      <td>17.9600</td>\n",
       "      <td>18.1500</td>\n",
       "      <td>18.2600</td>\n",
       "      <td>1.802000e+01</td>\n",
       "      <td>18.8700</td>\n",
       "      <td>19.0000</td>\n",
       "    </tr>\n",
       "    <tr>\n",
       "      <th>high</th>\n",
       "      <td>1.898000e+01</td>\n",
       "      <td>18.9900</td>\n",
       "      <td>1.962000e+01</td>\n",
       "      <td>19.6800</td>\n",
       "      <td>19.7000</td>\n",
       "      <td>19.6100</td>\n",
       "      <td>20.0000</td>\n",
       "      <td>2.088000e+01</td>\n",
       "      <td>2.051000e+01</td>\n",
       "      <td>20.0600</td>\n",
       "      <td>...</td>\n",
       "      <td>19.0700</td>\n",
       "      <td>1.910000e+01</td>\n",
       "      <td>18.6400</td>\n",
       "      <td>1.865000e+01</td>\n",
       "      <td>18.0700</td>\n",
       "      <td>18.4900</td>\n",
       "      <td>18.2600</td>\n",
       "      <td>1.886000e+01</td>\n",
       "      <td>19.3000</td>\n",
       "      <td>19.2000</td>\n",
       "    </tr>\n",
       "    <tr>\n",
       "      <th>low</th>\n",
       "      <td>1.830000e+01</td>\n",
       "      <td>18.5200</td>\n",
       "      <td>1.880000e+01</td>\n",
       "      <td>19.1700</td>\n",
       "      <td>19.0500</td>\n",
       "      <td>19.0300</td>\n",
       "      <td>19.3800</td>\n",
       "      <td>1.959000e+01</td>\n",
       "      <td>1.940000e+01</td>\n",
       "      <td>19.5200</td>\n",
       "      <td>...</td>\n",
       "      <td>18.6000</td>\n",
       "      <td>1.823000e+01</td>\n",
       "      <td>18.0300</td>\n",
       "      <td>1.788000e+01</td>\n",
       "      <td>17.7900</td>\n",
       "      <td>18.0500</td>\n",
       "      <td>17.8000</td>\n",
       "      <td>1.796000e+01</td>\n",
       "      <td>18.7000</td>\n",
       "      <td>18.7200</td>\n",
       "    </tr>\n",
       "    <tr>\n",
       "      <th>close</th>\n",
       "      <td>1.885000e+01</td>\n",
       "      <td>18.8600</td>\n",
       "      <td>1.962000e+01</td>\n",
       "      <td>19.3600</td>\n",
       "      <td>19.0600</td>\n",
       "      <td>19.5000</td>\n",
       "      <td>19.7000</td>\n",
       "      <td>1.974000e+01</td>\n",
       "      <td>2.005000e+01</td>\n",
       "      <td>19.6300</td>\n",
       "      <td>...</td>\n",
       "      <td>18.9500</td>\n",
       "      <td>1.836000e+01</td>\n",
       "      <td>18.2800</td>\n",
       "      <td>1.790000e+01</td>\n",
       "      <td>18.0000</td>\n",
       "      <td>18.2600</td>\n",
       "      <td>18.0400</td>\n",
       "      <td>1.885000e+01</td>\n",
       "      <td>19.1700</td>\n",
       "      <td>19.2000</td>\n",
       "    </tr>\n",
       "    <tr>\n",
       "      <th>vwap</th>\n",
       "      <td>1.873730e+01</td>\n",
       "      <td>18.7747</td>\n",
       "      <td>1.931870e+01</td>\n",
       "      <td>19.3576</td>\n",
       "      <td>19.3337</td>\n",
       "      <td>19.3865</td>\n",
       "      <td>19.6270</td>\n",
       "      <td>2.032120e+01</td>\n",
       "      <td>1.990960e+01</td>\n",
       "      <td>19.7736</td>\n",
       "      <td>...</td>\n",
       "      <td>18.8687</td>\n",
       "      <td>1.851010e+01</td>\n",
       "      <td>18.3338</td>\n",
       "      <td>1.821300e+01</td>\n",
       "      <td>17.9400</td>\n",
       "      <td>18.2600</td>\n",
       "      <td>17.9894</td>\n",
       "      <td>1.852220e+01</td>\n",
       "      <td>19.0838</td>\n",
       "      <td>18.9483</td>\n",
       "    </tr>\n",
       "    <tr>\n",
       "      <th>volume</th>\n",
       "      <td>1.211741e+06</td>\n",
       "      <td>673919.2200</td>\n",
       "      <td>1.165858e+06</td>\n",
       "      <td>678543.2300</td>\n",
       "      <td>552585.0100</td>\n",
       "      <td>639657.8900</td>\n",
       "      <td>753773.7400</td>\n",
       "      <td>1.581441e+06</td>\n",
       "      <td>1.263720e+06</td>\n",
       "      <td>889385.2900</td>\n",
       "      <td>...</td>\n",
       "      <td>686140.6900</td>\n",
       "      <td>1.058756e+06</td>\n",
       "      <td>906878.1100</td>\n",
       "      <td>1.028738e+06</td>\n",
       "      <td>750082.7300</td>\n",
       "      <td>632950.1200</td>\n",
       "      <td>577077.3300</td>\n",
       "      <td>1.270337e+06</td>\n",
       "      <td>963092.2300</td>\n",
       "      <td>978497.7800</td>\n",
       "    </tr>\n",
       "    <tr>\n",
       "      <th>pct_chg</th>\n",
       "      <td>2.112700e+00</td>\n",
       "      <td>0.0531</td>\n",
       "      <td>4.029700e+00</td>\n",
       "      <td>-1.3252</td>\n",
       "      <td>-1.5496</td>\n",
       "      <td>2.3085</td>\n",
       "      <td>1.0256</td>\n",
       "      <td>2.030000e-01</td>\n",
       "      <td>1.570400e+00</td>\n",
       "      <td>-2.0948</td>\n",
       "      <td>...</td>\n",
       "      <td>-0.3156</td>\n",
       "      <td>-3.113500e+00</td>\n",
       "      <td>-0.4357</td>\n",
       "      <td>-2.078800e+00</td>\n",
       "      <td>0.5587</td>\n",
       "      <td>1.4444</td>\n",
       "      <td>-1.2048</td>\n",
       "      <td>4.490000e+00</td>\n",
       "      <td>1.6976</td>\n",
       "      <td>0.1565</td>\n",
       "    </tr>\n",
       "    <tr>\n",
       "      <th>turnover</th>\n",
       "      <td>6.244000e-01</td>\n",
       "      <td>0.3473</td>\n",
       "      <td>6.008000e-01</td>\n",
       "      <td>0.3497</td>\n",
       "      <td>0.2848</td>\n",
       "      <td>0.3296</td>\n",
       "      <td>0.3884</td>\n",
       "      <td>8.149000e-01</td>\n",
       "      <td>6.512000e-01</td>\n",
       "      <td>0.4583</td>\n",
       "      <td>...</td>\n",
       "      <td>0.3536</td>\n",
       "      <td>5.456000e-01</td>\n",
       "      <td>0.4673</td>\n",
       "      <td>5.301000e-01</td>\n",
       "      <td>0.3865</td>\n",
       "      <td>0.3262</td>\n",
       "      <td>0.2974</td>\n",
       "      <td>6.546000e-01</td>\n",
       "      <td>0.4963</td>\n",
       "      <td>0.5042</td>\n",
       "    </tr>\n",
       "    <tr>\n",
       "      <th>free_turnover</th>\n",
       "      <td>1.408800e+00</td>\n",
       "      <td>0.7835</td>\n",
       "      <td>1.355500e+00</td>\n",
       "      <td>0.7889</td>\n",
       "      <td>0.6425</td>\n",
       "      <td>0.7437</td>\n",
       "      <td>0.8764</td>\n",
       "      <td>1.838600e+00</td>\n",
       "      <td>1.469300e+00</td>\n",
       "      <td>1.0340</td>\n",
       "      <td>...</td>\n",
       "      <td>0.7977</td>\n",
       "      <td>1.231000e+00</td>\n",
       "      <td>1.0544</td>\n",
       "      <td>1.196100e+00</td>\n",
       "      <td>0.8721</td>\n",
       "      <td>0.7359</td>\n",
       "      <td>0.6709</td>\n",
       "      <td>1.476900e+00</td>\n",
       "      <td>1.1197</td>\n",
       "      <td>1.1376</td>\n",
       "    </tr>\n",
       "    <tr>\n",
       "      <th>chg</th>\n",
       "      <td>3.900000e-01</td>\n",
       "      <td>0.0100</td>\n",
       "      <td>7.600000e-01</td>\n",
       "      <td>-0.2600</td>\n",
       "      <td>-0.3000</td>\n",
       "      <td>0.4400</td>\n",
       "      <td>0.2000</td>\n",
       "      <td>4.000000e-02</td>\n",
       "      <td>3.100000e-01</td>\n",
       "      <td>-0.4200</td>\n",
       "      <td>...</td>\n",
       "      <td>-0.0600</td>\n",
       "      <td>-5.900000e-01</td>\n",
       "      <td>-0.0800</td>\n",
       "      <td>-3.800000e-01</td>\n",
       "      <td>0.1000</td>\n",
       "      <td>0.2600</td>\n",
       "      <td>-0.2200</td>\n",
       "      <td>8.100000e-01</td>\n",
       "      <td>0.3200</td>\n",
       "      <td>0.0300</td>\n",
       "    </tr>\n",
       "  </tbody>\n",
       "</table>\n",
       "<p>11 rows × 30 columns</p>\n",
       "</div>"
      ],
      "text/plain": [
       "timestamp     2020-11-20 09:30:00 2020-11-23 09:30:00 2020-11-24 09:30:00  \\\n",
       "ticker                          1                   1                   1   \n",
       "pre_close            1.846000e+01             18.8500        1.886000e+01   \n",
       "open                 1.859000e+01             18.8300        1.885000e+01   \n",
       "high                 1.898000e+01             18.9900        1.962000e+01   \n",
       "low                  1.830000e+01             18.5200        1.880000e+01   \n",
       "close                1.885000e+01             18.8600        1.962000e+01   \n",
       "vwap                 1.873730e+01             18.7747        1.931870e+01   \n",
       "volume               1.211741e+06         673919.2200        1.165858e+06   \n",
       "pct_chg              2.112700e+00              0.0531        4.029700e+00   \n",
       "turnover             6.244000e-01              0.3473        6.008000e-01   \n",
       "free_turnover        1.408800e+00              0.7835        1.355500e+00   \n",
       "chg                  3.900000e-01              0.0100        7.600000e-01   \n",
       "\n",
       "timestamp     2020-11-25 09:30:00 2020-11-26 09:30:00 2020-11-27 09:30:00  \\\n",
       "ticker                          1                   1                   1   \n",
       "pre_close                 19.6200             19.3600             19.0600   \n",
       "open                      19.6200             19.4800             19.0500   \n",
       "high                      19.6800             19.7000             19.6100   \n",
       "low                       19.1700             19.0500             19.0300   \n",
       "close                     19.3600             19.0600             19.5000   \n",
       "vwap                      19.3576             19.3337             19.3865   \n",
       "volume                678543.2300         552585.0100         639657.8900   \n",
       "pct_chg                   -1.3252             -1.5496              2.3085   \n",
       "turnover                   0.3497              0.2848              0.3296   \n",
       "free_turnover              0.7889              0.6425              0.7437   \n",
       "chg                       -0.2600             -0.3000              0.4400   \n",
       "\n",
       "timestamp     2020-11-30 09:30:00 2020-12-01 09:30:00 2020-12-02 09:30:00  \\\n",
       "ticker                          1                   1                   1   \n",
       "pre_close                 19.5000        1.970000e+01        1.974000e+01   \n",
       "open                      20.0000        1.990000e+01        1.970000e+01   \n",
       "high                      20.0000        2.088000e+01        2.051000e+01   \n",
       "low                       19.3800        1.959000e+01        1.940000e+01   \n",
       "close                     19.7000        1.974000e+01        2.005000e+01   \n",
       "vwap                      19.6270        2.032120e+01        1.990960e+01   \n",
       "volume                753773.7400        1.581441e+06        1.263720e+06   \n",
       "pct_chg                    1.0256        2.030000e-01        1.570400e+00   \n",
       "turnover                   0.3884        8.149000e-01        6.512000e-01   \n",
       "free_turnover              0.8764        1.838600e+00        1.469300e+00   \n",
       "chg                        0.2000        4.000000e-02        3.100000e-01   \n",
       "\n",
       "timestamp     2020-12-03 09:30:00  ... 2020-12-18 09:30:00  \\\n",
       "ticker                          1  ...                   1   \n",
       "pre_close                 20.0500  ...             19.0100   \n",
       "open                      19.9300  ...             18.9100   \n",
       "high                      20.0600  ...             19.0700   \n",
       "low                       19.5200  ...             18.6000   \n",
       "close                     19.6300  ...             18.9500   \n",
       "vwap                      19.7736  ...             18.8687   \n",
       "volume                889385.2900  ...         686140.6900   \n",
       "pct_chg                   -2.0948  ...             -0.3156   \n",
       "turnover                   0.4583  ...              0.3536   \n",
       "free_turnover              1.0340  ...              0.7977   \n",
       "chg                       -0.4200  ...             -0.0600   \n",
       "\n",
       "timestamp     2020-12-21 09:30:00 2020-12-22 09:30:00 2020-12-23 09:30:00  \\\n",
       "ticker                          1                   1                   1   \n",
       "pre_close            1.895000e+01             18.3600        1.828000e+01   \n",
       "open                 1.900000e+01             18.3000        1.836000e+01   \n",
       "high                 1.910000e+01             18.6400        1.865000e+01   \n",
       "low                  1.823000e+01             18.0300        1.788000e+01   \n",
       "close                1.836000e+01             18.2800        1.790000e+01   \n",
       "vwap                 1.851010e+01             18.3338        1.821300e+01   \n",
       "volume               1.058756e+06         906878.1100        1.028738e+06   \n",
       "pct_chg             -3.113500e+00             -0.4357       -2.078800e+00   \n",
       "turnover             5.456000e-01              0.4673        5.301000e-01   \n",
       "free_turnover        1.231000e+00              1.0544        1.196100e+00   \n",
       "chg                 -5.900000e-01             -0.0800       -3.800000e-01   \n",
       "\n",
       "timestamp     2020-12-24 09:30:00 2020-12-25 09:30:00 2020-12-28 09:30:00  \\\n",
       "ticker                          1                   1                   1   \n",
       "pre_close                 17.9000             18.0000             18.2600   \n",
       "open                      17.9600             18.1500             18.2600   \n",
       "high                      18.0700             18.4900             18.2600   \n",
       "low                       17.7900             18.0500             17.8000   \n",
       "close                     18.0000             18.2600             18.0400   \n",
       "vwap                      17.9400             18.2600             17.9894   \n",
       "volume                750082.7300         632950.1200         577077.3300   \n",
       "pct_chg                    0.5587              1.4444             -1.2048   \n",
       "turnover                   0.3865              0.3262              0.2974   \n",
       "free_turnover              0.8721              0.7359              0.6709   \n",
       "chg                        0.1000              0.2600             -0.2200   \n",
       "\n",
       "timestamp     2020-12-29 09:30:00 2020-12-30 09:30:00 2020-12-31 09:30:00  \n",
       "ticker                          1                   1                   1  \n",
       "pre_close            1.804000e+01             18.8500             19.1700  \n",
       "open                 1.802000e+01             18.8700             19.0000  \n",
       "high                 1.886000e+01             19.3000             19.2000  \n",
       "low                  1.796000e+01             18.7000             18.7200  \n",
       "close                1.885000e+01             19.1700             19.2000  \n",
       "vwap                 1.852220e+01             19.0838             18.9483  \n",
       "volume               1.270337e+06         963092.2300         978497.7800  \n",
       "pct_chg              4.490000e+00              1.6976              0.1565  \n",
       "turnover             6.546000e-01              0.4963              0.5042  \n",
       "free_turnover        1.476900e+00              1.1197              1.1376  \n",
       "chg                  8.100000e-01              0.3200              0.0300  \n",
       "\n",
       "[11 rows x 30 columns]"
      ]
     },
     "execution_count": 8,
     "metadata": {},
     "output_type": "execute_result"
    }
   ],
   "source": [
    "check_data"
   ]
  },
  {
   "cell_type": "code",
   "execution_count": 9,
   "id": "ec0127f9",
   "metadata": {
    "ExecuteTime": {
     "end_time": "2021-12-14T08:01:06.689381Z",
     "start_time": "2021-12-14T08:01:06.680464Z"
    }
   },
   "outputs": [
    {
     "data": {
      "text/plain": [
       "array([0.01818182, 0.03636364, 0.05454545, 0.07272727, 0.09090909,\n",
       "       0.10909091, 0.12727273, 0.14545455, 0.16363636, 0.18181818])"
      ]
     },
     "execution_count": 9,
     "metadata": {},
     "output_type": "execute_result"
    }
   ],
   "source": [
    "weight = np.arange(1, time_spread + 1)\n",
    "weight = weight / (weight.sum())\n",
    "weight"
   ]
  },
  {
   "cell_type": "code",
   "execution_count": 17,
   "id": "3a969c54",
   "metadata": {
    "ExecuteTime": {
     "end_time": "2021-12-14T08:03:13.558556Z",
     "start_time": "2021-12-14T08:03:13.527850Z"
    }
   },
   "outputs": [
    {
     "data": {
      "text/plain": [
       "33"
      ]
     },
     "execution_count": 17,
     "metadata": {},
     "output_type": "execute_result"
    }
   ],
   "source": [
    "test_list = []\n",
    "for i in range(0,11):\n",
    "    for time in range(len(step_list) - 1):\n",
    "        start = step_list[time]\n",
    "        end = step_list[time + 1]\n",
    "        test_list.append(np.dot(check_data.iloc[i,start:end],weight))\n",
    "len(test_list)"
   ]
  },
  {
   "cell_type": "code",
   "execution_count": 18,
   "id": "5c01a30a",
   "metadata": {
    "ExecuteTime": {
     "end_time": "2021-12-14T08:03:14.890685Z",
     "start_time": "2021-12-14T08:03:14.872914Z"
    }
   },
   "outputs": [
    {
     "data": {
      "text/html": [
       "<div>\n",
       "<style scoped>\n",
       "    .dataframe tbody tr th:only-of-type {\n",
       "        vertical-align: middle;\n",
       "    }\n",
       "\n",
       "    .dataframe tbody tr th {\n",
       "        vertical-align: top;\n",
       "    }\n",
       "\n",
       "    .dataframe thead th {\n",
       "        text-align: right;\n",
       "    }\n",
       "</style>\n",
       "<table border=\"1\" class=\"dataframe\">\n",
       "  <thead>\n",
       "    <tr style=\"text-align: right;\">\n",
       "      <th></th>\n",
       "      <th>0</th>\n",
       "      <th>1</th>\n",
       "      <th>2</th>\n",
       "    </tr>\n",
       "  </thead>\n",
       "  <tbody>\n",
       "    <tr>\n",
       "      <th>0</th>\n",
       "      <td>19.538909</td>\n",
       "      <td>18.801636</td>\n",
       "      <td>18.474545</td>\n",
       "    </tr>\n",
       "    <tr>\n",
       "      <th>1</th>\n",
       "      <td>19.614182</td>\n",
       "      <td>18.829636</td>\n",
       "      <td>18.468364</td>\n",
       "    </tr>\n",
       "    <tr>\n",
       "      <th>2</th>\n",
       "      <td>20.053273</td>\n",
       "      <td>19.024545</td>\n",
       "      <td>18.790545</td>\n",
       "    </tr>\n",
       "    <tr>\n",
       "      <th>3</th>\n",
       "      <td>19.273273</td>\n",
       "      <td>18.473818</td>\n",
       "      <td>18.212727</td>\n",
       "    </tr>\n",
       "    <tr>\n",
       "      <th>4</th>\n",
       "      <td>19.595273</td>\n",
       "      <td>18.810909</td>\n",
       "      <td>18.605091</td>\n",
       "    </tr>\n",
       "    <tr>\n",
       "      <th>5</th>\n",
       "      <td>19.664395</td>\n",
       "      <td>18.745371</td>\n",
       "      <td>18.515325</td>\n",
       "    </tr>\n",
       "    <tr>\n",
       "      <th>6</th>\n",
       "      <td>973954.113091</td>\n",
       "      <td>762243.264909</td>\n",
       "      <td>906225.414727</td>\n",
       "    </tr>\n",
       "    <tr>\n",
       "      <th>7</th>\n",
       "      <td>0.310891</td>\n",
       "      <td>0.059520</td>\n",
       "      <td>0.720451</td>\n",
       "    </tr>\n",
       "    <tr>\n",
       "      <th>8</th>\n",
       "      <td>0.501884</td>\n",
       "      <td>0.392791</td>\n",
       "      <td>0.466984</td>\n",
       "    </tr>\n",
       "    <tr>\n",
       "      <th>9</th>\n",
       "      <td>1.132362</td>\n",
       "      <td>0.886222</td>\n",
       "      <td>1.053600</td>\n",
       "    </tr>\n",
       "    <tr>\n",
       "      <th>10</th>\n",
       "      <td>0.056364</td>\n",
       "      <td>0.009273</td>\n",
       "      <td>0.130545</td>\n",
       "    </tr>\n",
       "  </tbody>\n",
       "</table>\n",
       "</div>"
      ],
      "text/plain": [
       "                0              1              2\n",
       "0       19.538909      18.801636      18.474545\n",
       "1       19.614182      18.829636      18.468364\n",
       "2       20.053273      19.024545      18.790545\n",
       "3       19.273273      18.473818      18.212727\n",
       "4       19.595273      18.810909      18.605091\n",
       "5       19.664395      18.745371      18.515325\n",
       "6   973954.113091  762243.264909  906225.414727\n",
       "7        0.310891       0.059520       0.720451\n",
       "8        0.501884       0.392791       0.466984\n",
       "9        1.132362       0.886222       1.053600\n",
       "10       0.056364       0.009273       0.130545"
      ]
     },
     "execution_count": 18,
     "metadata": {},
     "output_type": "execute_result"
    }
   ],
   "source": [
    "pd.DataFrame(np.array(test_list).reshape(11,3))"
   ]
  },
  {
   "cell_type": "code",
   "execution_count": 22,
   "id": "67f88776",
   "metadata": {
    "ExecuteTime": {
     "end_time": "2021-12-14T08:06:58.161458Z",
     "start_time": "2021-12-14T08:06:58.152050Z"
    }
   },
   "outputs": [
    {
     "data": {
      "text/html": [
       "<div>\n",
       "<style scoped>\n",
       "    .dataframe tbody tr th:only-of-type {\n",
       "        vertical-align: middle;\n",
       "    }\n",
       "\n",
       "    .dataframe tbody tr th {\n",
       "        vertical-align: top;\n",
       "    }\n",
       "\n",
       "    .dataframe thead th {\n",
       "        text-align: right;\n",
       "    }\n",
       "</style>\n",
       "<table border=\"1\" class=\"dataframe\">\n",
       "  <thead>\n",
       "    <tr style=\"text-align: right;\">\n",
       "      <th></th>\n",
       "      <th>0</th>\n",
       "      <th>1</th>\n",
       "      <th>2</th>\n",
       "    </tr>\n",
       "  </thead>\n",
       "  <tbody>\n",
       "    <tr>\n",
       "      <th>0</th>\n",
       "      <td>19.538909</td>\n",
       "      <td>18.801636</td>\n",
       "      <td>18.474545</td>\n",
       "    </tr>\n",
       "    <tr>\n",
       "      <th>1</th>\n",
       "      <td>19.614182</td>\n",
       "      <td>18.829636</td>\n",
       "      <td>18.468364</td>\n",
       "    </tr>\n",
       "    <tr>\n",
       "      <th>2</th>\n",
       "      <td>20.053273</td>\n",
       "      <td>19.024545</td>\n",
       "      <td>18.790545</td>\n",
       "    </tr>\n",
       "    <tr>\n",
       "      <th>3</th>\n",
       "      <td>19.273273</td>\n",
       "      <td>18.473818</td>\n",
       "      <td>18.212727</td>\n",
       "    </tr>\n",
       "    <tr>\n",
       "      <th>4</th>\n",
       "      <td>19.595273</td>\n",
       "      <td>18.810909</td>\n",
       "      <td>18.605091</td>\n",
       "    </tr>\n",
       "    <tr>\n",
       "      <th>5</th>\n",
       "      <td>19.664395</td>\n",
       "      <td>18.745371</td>\n",
       "      <td>18.515325</td>\n",
       "    </tr>\n",
       "    <tr>\n",
       "      <th>6</th>\n",
       "      <td>973954.113091</td>\n",
       "      <td>762243.264909</td>\n",
       "      <td>906225.414727</td>\n",
       "    </tr>\n",
       "    <tr>\n",
       "      <th>7</th>\n",
       "      <td>0.310891</td>\n",
       "      <td>0.059520</td>\n",
       "      <td>0.720451</td>\n",
       "    </tr>\n",
       "    <tr>\n",
       "      <th>8</th>\n",
       "      <td>0.501884</td>\n",
       "      <td>0.392791</td>\n",
       "      <td>0.466984</td>\n",
       "    </tr>\n",
       "    <tr>\n",
       "      <th>9</th>\n",
       "      <td>1.132362</td>\n",
       "      <td>0.886222</td>\n",
       "      <td>1.053600</td>\n",
       "    </tr>\n",
       "    <tr>\n",
       "      <th>10</th>\n",
       "      <td>0.056364</td>\n",
       "      <td>0.009273</td>\n",
       "      <td>0.130545</td>\n",
       "    </tr>\n",
       "  </tbody>\n",
       "</table>\n",
       "</div>"
      ],
      "text/plain": [
       "                0              1              2\n",
       "0       19.538909      18.801636      18.474545\n",
       "1       19.614182      18.829636      18.468364\n",
       "2       20.053273      19.024545      18.790545\n",
       "3       19.273273      18.473818      18.212727\n",
       "4       19.595273      18.810909      18.605091\n",
       "5       19.664395      18.745371      18.515325\n",
       "6   973954.113091  762243.264909  906225.414727\n",
       "7        0.310891       0.059520       0.720451\n",
       "8        0.501884       0.392791       0.466984\n",
       "9        1.132362       0.886222       1.053600\n",
       "10       0.056364       0.009273       0.130545"
      ]
     },
     "execution_count": 22,
     "metadata": {},
     "output_type": "execute_result"
    }
   ],
   "source": [
    "pd.DataFrame(decay_data[0])"
   ]
  },
  {
   "cell_type": "code",
   "execution_count": 102,
   "id": "a11075d5",
   "metadata": {
    "ExecuteTime": {
     "end_time": "2021-12-14T07:09:01.560529Z",
     "start_time": "2021-12-14T07:09:01.383890Z"
    }
   },
   "outputs": [
    {
     "data": {
      "text/html": [
       "<div>\n",
       "<style scoped>\n",
       "    .dataframe tbody tr th:only-of-type {\n",
       "        vertical-align: middle;\n",
       "    }\n",
       "\n",
       "    .dataframe tbody tr th {\n",
       "        vertical-align: top;\n",
       "    }\n",
       "\n",
       "    .dataframe thead th {\n",
       "        text-align: right;\n",
       "    }\n",
       "</style>\n",
       "<table border=\"1\" class=\"dataframe\">\n",
       "  <thead>\n",
       "    <tr style=\"text-align: right;\">\n",
       "      <th></th>\n",
       "      <th></th>\n",
       "      <th>0</th>\n",
       "      <th>1</th>\n",
       "      <th>2</th>\n",
       "      <th>3</th>\n",
       "      <th>4</th>\n",
       "      <th>5</th>\n",
       "      <th>6</th>\n",
       "      <th>7</th>\n",
       "      <th>8</th>\n",
       "      <th>9</th>\n",
       "      <th>...</th>\n",
       "      <th>23</th>\n",
       "      <th>24</th>\n",
       "      <th>25</th>\n",
       "      <th>26</th>\n",
       "      <th>27</th>\n",
       "      <th>28</th>\n",
       "      <th>29</th>\n",
       "      <th>30</th>\n",
       "      <th>31</th>\n",
       "      <th>32</th>\n",
       "    </tr>\n",
       "    <tr>\n",
       "      <th>ticker</th>\n",
       "      <th>timestamp</th>\n",
       "      <th></th>\n",
       "      <th></th>\n",
       "      <th></th>\n",
       "      <th></th>\n",
       "      <th></th>\n",
       "      <th></th>\n",
       "      <th></th>\n",
       "      <th></th>\n",
       "      <th></th>\n",
       "      <th></th>\n",
       "      <th></th>\n",
       "      <th></th>\n",
       "      <th></th>\n",
       "      <th></th>\n",
       "      <th></th>\n",
       "      <th></th>\n",
       "      <th></th>\n",
       "      <th></th>\n",
       "      <th></th>\n",
       "      <th></th>\n",
       "      <th></th>\n",
       "    </tr>\n",
       "  </thead>\n",
       "  <tbody>\n",
       "    <tr>\n",
       "      <th rowspan=\"11\" valign=\"top\">1</th>\n",
       "      <th>2020-12-31 09:30:00</th>\n",
       "      <td>0.470893</td>\n",
       "      <td>0.370525</td>\n",
       "      <td>0.444743</td>\n",
       "      <td>0.494110</td>\n",
       "      <td>0.370417</td>\n",
       "      <td>0.395450</td>\n",
       "      <td>0.565633</td>\n",
       "      <td>0.313766</td>\n",
       "      <td>0.391438</td>\n",
       "      <td>0.407166</td>\n",
       "      <td>...</td>\n",
       "      <td>2.026757</td>\n",
       "      <td>0.167583</td>\n",
       "      <td>0.049198</td>\n",
       "      <td>0.106936</td>\n",
       "      <td>0.378123</td>\n",
       "      <td>0.110993</td>\n",
       "      <td>0.241302</td>\n",
       "      <td>0.354713</td>\n",
       "      <td>0.214933</td>\n",
       "      <td>0.372060</td>\n",
       "    </tr>\n",
       "    <tr>\n",
       "      <th>2021-01-04 09:30:00</th>\n",
       "      <td>0.379079</td>\n",
       "      <td>0.297794</td>\n",
       "      <td>0.470222</td>\n",
       "      <td>0.424269</td>\n",
       "      <td>0.260852</td>\n",
       "      <td>0.436006</td>\n",
       "      <td>0.494762</td>\n",
       "      <td>0.205621</td>\n",
       "      <td>0.455900</td>\n",
       "      <td>0.314453</td>\n",
       "      <td>...</td>\n",
       "      <td>2.028544</td>\n",
       "      <td>0.163846</td>\n",
       "      <td>0.050210</td>\n",
       "      <td>0.101357</td>\n",
       "      <td>0.369691</td>\n",
       "      <td>0.113282</td>\n",
       "      <td>0.228705</td>\n",
       "      <td>0.346914</td>\n",
       "      <td>0.214730</td>\n",
       "      <td>0.372651</td>\n",
       "    </tr>\n",
       "    <tr>\n",
       "      <th>2021-01-05 09:30:00</th>\n",
       "      <td>0.324875</td>\n",
       "      <td>0.210086</td>\n",
       "      <td>0.519442</td>\n",
       "      <td>0.359605</td>\n",
       "      <td>0.186336</td>\n",
       "      <td>0.448041</td>\n",
       "      <td>0.423118</td>\n",
       "      <td>0.158117</td>\n",
       "      <td>0.455900</td>\n",
       "      <td>0.243384</td>\n",
       "      <td>...</td>\n",
       "      <td>2.153268</td>\n",
       "      <td>0.159578</td>\n",
       "      <td>0.065634</td>\n",
       "      <td>0.141697</td>\n",
       "      <td>0.360057</td>\n",
       "      <td>0.148084</td>\n",
       "      <td>0.319713</td>\n",
       "      <td>0.359060</td>\n",
       "      <td>0.264204</td>\n",
       "      <td>0.399705</td>\n",
       "    </tr>\n",
       "    <tr>\n",
       "      <th>2021-01-06 09:30:00</th>\n",
       "      <td>0.257138</td>\n",
       "      <td>0.191844</td>\n",
       "      <td>0.516105</td>\n",
       "      <td>0.285279</td>\n",
       "      <td>0.187147</td>\n",
       "      <td>0.444051</td>\n",
       "      <td>0.445493</td>\n",
       "      <td>0.148580</td>\n",
       "      <td>0.464488</td>\n",
       "      <td>0.265187</td>\n",
       "      <td>...</td>\n",
       "      <td>2.274701</td>\n",
       "      <td>0.153565</td>\n",
       "      <td>0.067036</td>\n",
       "      <td>0.193787</td>\n",
       "      <td>0.346494</td>\n",
       "      <td>0.151259</td>\n",
       "      <td>0.437221</td>\n",
       "      <td>0.288564</td>\n",
       "      <td>0.245155</td>\n",
       "      <td>0.421982</td>\n",
       "    </tr>\n",
       "    <tr>\n",
       "      <th>2021-01-07 09:30:00</th>\n",
       "      <td>0.318668</td>\n",
       "      <td>0.227176</td>\n",
       "      <td>0.523164</td>\n",
       "      <td>0.355027</td>\n",
       "      <td>0.211849</td>\n",
       "      <td>0.462520</td>\n",
       "      <td>0.516884</td>\n",
       "      <td>0.172047</td>\n",
       "      <td>0.512991</td>\n",
       "      <td>0.332439</td>\n",
       "      <td>...</td>\n",
       "      <td>3.116900</td>\n",
       "      <td>0.152237</td>\n",
       "      <td>0.075432</td>\n",
       "      <td>0.236964</td>\n",
       "      <td>0.343485</td>\n",
       "      <td>0.170218</td>\n",
       "      <td>0.534631</td>\n",
       "      <td>0.285175</td>\n",
       "      <td>0.260670</td>\n",
       "      <td>0.573937</td>\n",
       "    </tr>\n",
       "    <tr>\n",
       "      <th>...</th>\n",
       "      <td>...</td>\n",
       "      <td>...</td>\n",
       "      <td>...</td>\n",
       "      <td>...</td>\n",
       "      <td>...</td>\n",
       "      <td>...</td>\n",
       "      <td>...</td>\n",
       "      <td>...</td>\n",
       "      <td>...</td>\n",
       "      <td>...</td>\n",
       "      <td>...</td>\n",
       "      <td>...</td>\n",
       "      <td>...</td>\n",
       "      <td>...</td>\n",
       "      <td>...</td>\n",
       "      <td>...</td>\n",
       "      <td>...</td>\n",
       "      <td>...</td>\n",
       "      <td>...</td>\n",
       "      <td>...</td>\n",
       "      <td>...</td>\n",
       "    </tr>\n",
       "    <tr>\n",
       "      <th>2021-06-23 09:30:00</th>\n",
       "      <td>0.280827</td>\n",
       "      <td>0.468892</td>\n",
       "      <td>0.795301</td>\n",
       "      <td>0.261962</td>\n",
       "      <td>0.426047</td>\n",
       "      <td>0.762591</td>\n",
       "      <td>0.232422</td>\n",
       "      <td>0.394766</td>\n",
       "      <td>0.774090</td>\n",
       "      <td>0.262990</td>\n",
       "      <td>...</td>\n",
       "      <td>1.898158</td>\n",
       "      <td>0.038037</td>\n",
       "      <td>0.098491</td>\n",
       "      <td>0.073604</td>\n",
       "      <td>0.085830</td>\n",
       "      <td>0.222198</td>\n",
       "      <td>0.166094</td>\n",
       "      <td>0.306007</td>\n",
       "      <td>0.481867</td>\n",
       "      <td>0.439342</td>\n",
       "    </tr>\n",
       "    <tr>\n",
       "      <th>2021-06-24 09:30:00</th>\n",
       "      <td>0.262214</td>\n",
       "      <td>0.388350</td>\n",
       "      <td>0.768511</td>\n",
       "      <td>0.259877</td>\n",
       "      <td>0.360346</td>\n",
       "      <td>0.755741</td>\n",
       "      <td>0.361464</td>\n",
       "      <td>0.392408</td>\n",
       "      <td>0.742579</td>\n",
       "      <td>0.285939</td>\n",
       "      <td>...</td>\n",
       "      <td>1.882906</td>\n",
       "      <td>0.085530</td>\n",
       "      <td>0.076765</td>\n",
       "      <td>0.077471</td>\n",
       "      <td>0.192949</td>\n",
       "      <td>0.173193</td>\n",
       "      <td>0.174809</td>\n",
       "      <td>0.439278</td>\n",
       "      <td>0.344559</td>\n",
       "      <td>0.434729</td>\n",
       "    </tr>\n",
       "    <tr>\n",
       "      <th>2021-06-25 09:30:00</th>\n",
       "      <td>0.417570</td>\n",
       "      <td>0.384428</td>\n",
       "      <td>0.673362</td>\n",
       "      <td>0.415573</td>\n",
       "      <td>0.345682</td>\n",
       "      <td>0.676569</td>\n",
       "      <td>0.501422</td>\n",
       "      <td>0.365294</td>\n",
       "      <td>0.651153</td>\n",
       "      <td>0.492407</td>\n",
       "      <td>...</td>\n",
       "      <td>1.854211</td>\n",
       "      <td>0.104995</td>\n",
       "      <td>0.050098</td>\n",
       "      <td>0.081046</td>\n",
       "      <td>0.236875</td>\n",
       "      <td>0.113007</td>\n",
       "      <td>0.182853</td>\n",
       "      <td>0.445493</td>\n",
       "      <td>0.319537</td>\n",
       "      <td>0.427295</td>\n",
       "    </tr>\n",
       "    <tr>\n",
       "      <th>2021-06-28 09:30:00</th>\n",
       "      <td>0.586778</td>\n",
       "      <td>0.334019</td>\n",
       "      <td>0.492509</td>\n",
       "      <td>0.558924</td>\n",
       "      <td>0.305812</td>\n",
       "      <td>0.488304</td>\n",
       "      <td>0.574527</td>\n",
       "      <td>0.349771</td>\n",
       "      <td>0.418239</td>\n",
       "      <td>0.591879</td>\n",
       "      <td>...</td>\n",
       "      <td>1.883591</td>\n",
       "      <td>0.105402</td>\n",
       "      <td>0.049952</td>\n",
       "      <td>0.080625</td>\n",
       "      <td>0.237795</td>\n",
       "      <td>0.112677</td>\n",
       "      <td>0.181905</td>\n",
       "      <td>0.413594</td>\n",
       "      <td>0.339601</td>\n",
       "      <td>0.433317</td>\n",
       "    </tr>\n",
       "    <tr>\n",
       "      <th>2021-06-29 09:30:00</th>\n",
       "      <td>0.578298</td>\n",
       "      <td>0.293496</td>\n",
       "      <td>0.351837</td>\n",
       "      <td>0.572804</td>\n",
       "      <td>0.272478</td>\n",
       "      <td>0.298657</td>\n",
       "      <td>0.528818</td>\n",
       "      <td>0.349977</td>\n",
       "      <td>0.276109</td>\n",
       "      <td>0.553470</td>\n",
       "      <td>...</td>\n",
       "      <td>1.744278</td>\n",
       "      <td>0.105913</td>\n",
       "      <td>0.068034</td>\n",
       "      <td>0.069463</td>\n",
       "      <td>0.238946</td>\n",
       "      <td>0.153495</td>\n",
       "      <td>0.156722</td>\n",
       "      <td>0.427967</td>\n",
       "      <td>0.408070</td>\n",
       "      <td>0.395081</td>\n",
       "    </tr>\n",
       "  </tbody>\n",
       "</table>\n",
       "<p>118 rows × 33 columns</p>\n",
       "</div>"
      ],
      "text/plain": [
       "                                   0         1         2         3         4  \\\n",
       "ticker timestamp                                                               \n",
       "1      2020-12-31 09:30:00  0.470893  0.370525  0.444743  0.494110  0.370417   \n",
       "       2021-01-04 09:30:00  0.379079  0.297794  0.470222  0.424269  0.260852   \n",
       "       2021-01-05 09:30:00  0.324875  0.210086  0.519442  0.359605  0.186336   \n",
       "       2021-01-06 09:30:00  0.257138  0.191844  0.516105  0.285279  0.187147   \n",
       "       2021-01-07 09:30:00  0.318668  0.227176  0.523164  0.355027  0.211849   \n",
       "...                              ...       ...       ...       ...       ...   \n",
       "       2021-06-23 09:30:00  0.280827  0.468892  0.795301  0.261962  0.426047   \n",
       "       2021-06-24 09:30:00  0.262214  0.388350  0.768511  0.259877  0.360346   \n",
       "       2021-06-25 09:30:00  0.417570  0.384428  0.673362  0.415573  0.345682   \n",
       "       2021-06-28 09:30:00  0.586778  0.334019  0.492509  0.558924  0.305812   \n",
       "       2021-06-29 09:30:00  0.578298  0.293496  0.351837  0.572804  0.272478   \n",
       "\n",
       "                                   5         6         7         8         9  \\\n",
       "ticker timestamp                                                               \n",
       "1      2020-12-31 09:30:00  0.395450  0.565633  0.313766  0.391438  0.407166   \n",
       "       2021-01-04 09:30:00  0.436006  0.494762  0.205621  0.455900  0.314453   \n",
       "       2021-01-05 09:30:00  0.448041  0.423118  0.158117  0.455900  0.243384   \n",
       "       2021-01-06 09:30:00  0.444051  0.445493  0.148580  0.464488  0.265187   \n",
       "       2021-01-07 09:30:00  0.462520  0.516884  0.172047  0.512991  0.332439   \n",
       "...                              ...       ...       ...       ...       ...   \n",
       "       2021-06-23 09:30:00  0.762591  0.232422  0.394766  0.774090  0.262990   \n",
       "       2021-06-24 09:30:00  0.755741  0.361464  0.392408  0.742579  0.285939   \n",
       "       2021-06-25 09:30:00  0.676569  0.501422  0.365294  0.651153  0.492407   \n",
       "       2021-06-28 09:30:00  0.488304  0.574527  0.349771  0.418239  0.591879   \n",
       "       2021-06-29 09:30:00  0.298657  0.528818  0.349977  0.276109  0.553470   \n",
       "\n",
       "                            ...        23        24        25        26  \\\n",
       "ticker timestamp            ...                                           \n",
       "1      2020-12-31 09:30:00  ...  2.026757  0.167583  0.049198  0.106936   \n",
       "       2021-01-04 09:30:00  ...  2.028544  0.163846  0.050210  0.101357   \n",
       "       2021-01-05 09:30:00  ...  2.153268  0.159578  0.065634  0.141697   \n",
       "       2021-01-06 09:30:00  ...  2.274701  0.153565  0.067036  0.193787   \n",
       "       2021-01-07 09:30:00  ...  3.116900  0.152237  0.075432  0.236964   \n",
       "...                         ...       ...       ...       ...       ...   \n",
       "       2021-06-23 09:30:00  ...  1.898158  0.038037  0.098491  0.073604   \n",
       "       2021-06-24 09:30:00  ...  1.882906  0.085530  0.076765  0.077471   \n",
       "       2021-06-25 09:30:00  ...  1.854211  0.104995  0.050098  0.081046   \n",
       "       2021-06-28 09:30:00  ...  1.883591  0.105402  0.049952  0.080625   \n",
       "       2021-06-29 09:30:00  ...  1.744278  0.105913  0.068034  0.069463   \n",
       "\n",
       "                                  27        28        29        30        31  \\\n",
       "ticker timestamp                                                               \n",
       "1      2020-12-31 09:30:00  0.378123  0.110993  0.241302  0.354713  0.214933   \n",
       "       2021-01-04 09:30:00  0.369691  0.113282  0.228705  0.346914  0.214730   \n",
       "       2021-01-05 09:30:00  0.360057  0.148084  0.319713  0.359060  0.264204   \n",
       "       2021-01-06 09:30:00  0.346494  0.151259  0.437221  0.288564  0.245155   \n",
       "       2021-01-07 09:30:00  0.343485  0.170218  0.534631  0.285175  0.260670   \n",
       "...                              ...       ...       ...       ...       ...   \n",
       "       2021-06-23 09:30:00  0.085830  0.222198  0.166094  0.306007  0.481867   \n",
       "       2021-06-24 09:30:00  0.192949  0.173193  0.174809  0.439278  0.344559   \n",
       "       2021-06-25 09:30:00  0.236875  0.113007  0.182853  0.445493  0.319537   \n",
       "       2021-06-28 09:30:00  0.237795  0.112677  0.181905  0.413594  0.339601   \n",
       "       2021-06-29 09:30:00  0.238946  0.153495  0.156722  0.427967  0.408070   \n",
       "\n",
       "                                  32  \n",
       "ticker timestamp                      \n",
       "1      2020-12-31 09:30:00  0.372060  \n",
       "       2021-01-04 09:30:00  0.372651  \n",
       "       2021-01-05 09:30:00  0.399705  \n",
       "       2021-01-06 09:30:00  0.421982  \n",
       "       2021-01-07 09:30:00  0.573937  \n",
       "...                              ...  \n",
       "       2021-06-23 09:30:00  0.439342  \n",
       "       2021-06-24 09:30:00  0.434729  \n",
       "       2021-06-25 09:30:00  0.427295  \n",
       "       2021-06-28 09:30:00  0.433317  \n",
       "       2021-06-29 09:30:00  0.395081  \n",
       "\n",
       "[118 rows x 33 columns]"
      ]
     },
     "execution_count": 102,
     "metadata": {},
     "output_type": "execute_result"
    }
   ],
   "source": [
    "check_data = pd.read_parquet('/home/wuwenjun/Data/AlphaNet_Original_Input_Std/2020-12-31_2021-06-30.par')\n",
    "check_data = check_data[check_data['ticker'] == 1]\n",
    "check_data = check_data.set_index(['ticker',\"timestamp\"])\n",
    "check_data"
   ]
  },
  {
   "cell_type": "code",
   "execution_count": 104,
   "id": "02c9331f",
   "metadata": {
    "ExecuteTime": {
     "end_time": "2021-12-14T07:09:07.272059Z",
     "start_time": "2021-12-14T07:09:07.253932Z"
    }
   },
   "outputs": [
    {
     "data": {
      "text/html": [
       "<div>\n",
       "<style scoped>\n",
       "    .dataframe tbody tr th:only-of-type {\n",
       "        vertical-align: middle;\n",
       "    }\n",
       "\n",
       "    .dataframe tbody tr th {\n",
       "        vertical-align: top;\n",
       "    }\n",
       "\n",
       "    .dataframe thead th {\n",
       "        text-align: right;\n",
       "    }\n",
       "</style>\n",
       "<table border=\"1\" class=\"dataframe\">\n",
       "  <thead>\n",
       "    <tr style=\"text-align: right;\">\n",
       "      <th></th>\n",
       "      <th>0</th>\n",
       "      <th>1</th>\n",
       "      <th>2</th>\n",
       "    </tr>\n",
       "  </thead>\n",
       "  <tbody>\n",
       "    <tr>\n",
       "      <th>0</th>\n",
       "      <td>0.470893</td>\n",
       "      <td>0.370525</td>\n",
       "      <td>0.444743</td>\n",
       "    </tr>\n",
       "    <tr>\n",
       "      <th>1</th>\n",
       "      <td>0.494110</td>\n",
       "      <td>0.370417</td>\n",
       "      <td>0.395450</td>\n",
       "    </tr>\n",
       "    <tr>\n",
       "      <th>2</th>\n",
       "      <td>0.565633</td>\n",
       "      <td>0.313766</td>\n",
       "      <td>0.391438</td>\n",
       "    </tr>\n",
       "    <tr>\n",
       "      <th>3</th>\n",
       "      <td>0.407166</td>\n",
       "      <td>0.293055</td>\n",
       "      <td>0.348574</td>\n",
       "    </tr>\n",
       "    <tr>\n",
       "      <th>4</th>\n",
       "      <td>0.379079</td>\n",
       "      <td>0.297794</td>\n",
       "      <td>0.470222</td>\n",
       "    </tr>\n",
       "    <tr>\n",
       "      <th>5</th>\n",
       "      <td>0.459719</td>\n",
       "      <td>0.293862</td>\n",
       "      <td>0.375406</td>\n",
       "    </tr>\n",
       "    <tr>\n",
       "      <th>6</th>\n",
       "      <td>325235.525920</td>\n",
       "      <td>95463.753363</td>\n",
       "      <td>207544.654134</td>\n",
       "    </tr>\n",
       "    <tr>\n",
       "      <th>7</th>\n",
       "      <td>1.847366</td>\n",
       "      <td>1.136994</td>\n",
       "      <td>2.026757</td>\n",
       "    </tr>\n",
       "    <tr>\n",
       "      <th>8</th>\n",
       "      <td>0.167583</td>\n",
       "      <td>0.049198</td>\n",
       "      <td>0.106936</td>\n",
       "    </tr>\n",
       "    <tr>\n",
       "      <th>9</th>\n",
       "      <td>0.378123</td>\n",
       "      <td>0.110993</td>\n",
       "      <td>0.241302</td>\n",
       "    </tr>\n",
       "    <tr>\n",
       "      <th>10</th>\n",
       "      <td>0.354713</td>\n",
       "      <td>0.214933</td>\n",
       "      <td>0.372060</td>\n",
       "    </tr>\n",
       "  </tbody>\n",
       "</table>\n",
       "</div>"
      ],
      "text/plain": [
       "                0             1              2\n",
       "0        0.470893      0.370525       0.444743\n",
       "1        0.494110      0.370417       0.395450\n",
       "2        0.565633      0.313766       0.391438\n",
       "3        0.407166      0.293055       0.348574\n",
       "4        0.379079      0.297794       0.470222\n",
       "5        0.459719      0.293862       0.375406\n",
       "6   325235.525920  95463.753363  207544.654134\n",
       "7        1.847366      1.136994       2.026757\n",
       "8        0.167583      0.049198       0.106936\n",
       "9        0.378123      0.110993       0.241302\n",
       "10       0.354713      0.214933       0.372060"
      ]
     },
     "execution_count": 104,
     "metadata": {},
     "output_type": "execute_result"
    }
   ],
   "source": [
    "check_data = np.array(check_data).reshape(118,11,3)\n",
    "pd.DataFrame(check_data[0])"
   ]
  },
  {
   "cell_type": "code",
   "execution_count": 2,
   "id": "414ca857",
   "metadata": {
    "ExecuteTime": {
     "end_time": "2021-12-09T07:11:46.802092Z",
     "start_time": "2021-12-09T07:10:25.395682Z"
    }
   },
   "outputs": [
    {
     "name": "stderr",
     "output_type": "stream",
     "text": [
      "100%|██████████| 8/8 [01:21<00:00, 10.16s/it]\n"
     ]
    }
   ],
   "source": [
    "class Convolutional(object):\n",
    "    def __init__(self, data, stride):\n",
    "        if len(data.shape) != 4:\n",
    "            raise Exception('Input data dimensions should be [N,C,H,W]')\n",
    "        self.data = np.array(data)\n",
    "        self.stride = stride\n",
    "        self.data_length = data.shape[3]\n",
    "        self.feat_num = data.shape[2]  # 9\n",
    "        self.num, self.num_rev = self.generate_Num_and_ReversedNum(self.feat_num)\n",
    "        self.conv_feat = len(self.num)\n",
    "        self.step_list = self.generate_Step_List(self.data_length, self.stride)\n",
    "        self.extracted_data = self.Extraction(self.data, self.feat_num, self.conv_feat, self.stride)\n",
    "\n",
    "    def Extraction(self, data, feat_num, conv_feat, stride):\n",
    "        print(\"------Start Extraction------\")\n",
    "        batch = nn.BatchNorm1d(conv_feat, affine=True)\n",
    "        batch2 = nn.BatchNorm1d(feat_num, affine=True)\n",
    "        conv1 = self.ts_cov4d(self.data, self.stride, self.num, self.num_rev, self.step_list)\n",
    "        conv2 = self.ts_corr4d(self.data, self.stride, self.num, self.num_rev, self.step_list, conv1)\n",
    "        conv2 = torch.tanh(conv2)\n",
    "        bc1 = batch(conv1.to(torch.float))\n",
    "        bc2 = batch(conv2.to(torch.float))\n",
    "        conv3 = self.ts_stddev4d(self.data, self.stride, self.feat_num, self.step_list).to(torch.float)\n",
    "        bc3 = batch2(conv3)\n",
    "        conv4 = self.ts_zscore(self.data, self.stride, self.feat_num, self.step_list).to(torch.float)\n",
    "        bc4 = batch2(conv4)\n",
    "        conv5 = self.ts_return(self.data, self.stride, self.feat_num, self.step_list).to(torch.float)\n",
    "        bc5 = batch2(conv5)\n",
    "        conv6 = self.ts_decaylinear(self.data, self.stride, self.feat_num, self.step_list).to(torch.float)\n",
    "        bc6 = batch2(conv6)\n",
    "\n",
    "        feat_cat = torch.cat([bc1, bc2, bc3, bc4, bc5, bc6], axis=1)  # ì??÷??o?\n",
    "        shape = feat_cat.shape\n",
    "        feat_cat = feat_cat.reshape(shape[0], 1, shape[1], shape[2])\n",
    "        print(\"Convolutional shape: \", feat_cat.shape)\n",
    "        return feat_cat\n",
    "\n",
    "    def generateC(self, l1):\n",
    "        if len(l1) == 1:\n",
    "            return []\n",
    "        v = [[l1[0], i] for i in l1[1:]]\n",
    "        l1 = l1[1:]\n",
    "        return v + self.generateC(l1)\n",
    "\n",
    "    def generate_Num_and_ReversedNum(self, feat_nums):\n",
    "        list1 = list(range(feat_nums))\n",
    "        num = self.generateC(list1)\n",
    "        num_rev = []\n",
    "        for l in num:\n",
    "            l1 = l.copy()\n",
    "            l1.reverse()\n",
    "            num_rev.append(l1)\n",
    "        return num, num_rev\n",
    "\n",
    "    def generate_Step_List(self, data_length, stride):\n",
    "        # 11?¨2?3¤áD±í￡?è?1?êy?Y3¤?è2??ü??3y￡??òè?ê￡??3¤?è￡?è?1?ê￡??3¤?èD?óú5￡??òó?é?ò?2??áo?ò??e\n",
    "        if data_length % stride == 0:\n",
    "            step_list = list(range(0, data_length + stride, stride))\n",
    "        elif data_length % stride <= 5:\n",
    "            mod = data_length % stride\n",
    "            step_list = list(range(0, data_length - stride, stride)) + [data_length]\n",
    "        else:\n",
    "            mod = data_length % stride\n",
    "            step_list = list(range(0, data_length + stride - mod, stride)) + [data_length]\n",
    "        return step_list\n",
    "\n",
    "    \"\"\" Main Extraction\"\"\"\n",
    "\n",
    "    def ts_cov4d(self, data, stride, num, num_rev, step_list):\n",
    "        '''????4??êy?Yμ?D-·?2?'''\n",
    "        '''data:[N,C,H,W],,W:price length,N:batch size'''\n",
    "        l = []\n",
    "        # ????μ?1y3ì?D??±?±￡3?keepdims=True\n",
    "        for i in tqdm(range(len(step_list) - 1)):\n",
    "            start = step_list[i]\n",
    "            end = step_list[i + 1]\n",
    "            sub_data1 = data[:, :, num, start:end]  # (2000, 1, 36, 2, 10)\n",
    "            sub_data2 = data[:, :, num_rev, start:end]\n",
    "            mean1 = sub_data1.mean(axis=4, keepdims=True)  # (2000, 1, 36, 2, 1)\n",
    "            mean2 = sub_data2.mean(axis=4, keepdims=True)\n",
    "            spread1 = sub_data1 - mean1  # (2000, 1, 36, 2, 10)\n",
    "            spread2 = sub_data2 - mean2\n",
    "            cov = ((spread1 * spread2).sum(axis=4, keepdims=True) / (sub_data1.shape[4] - 1)).mean(axis=3,\n",
    "                                                                                                   keepdims=True)  # (2000, 1, 36, 1, 1)\n",
    "            l.append(cov)\n",
    "        corr = np.squeeze(np.array(l)).transpose(1, 2, 0).reshape(-1, self.conv_feat,\n",
    "                                                                  len(step_list) - 1)  # (2000, 1, 36, 3)\n",
    "        final = torch.from_numpy(corr)\n",
    "        print(\"------Finished ts_cov4d----output shape: \", final.shape)\n",
    "        return final\n",
    "\n",
    "    def ts_corr4d(self, data, stride, num, num_rev, step_list, cov):\n",
    "        '''????4??êy?Yμ??à1??μêy'''\n",
    "        '''data:[N,C,H,W],,W:price length,N:batch size'''\n",
    "        l = []\n",
    "        for i in tqdm(range(len(step_list) - 1)):\n",
    "            start = step_list[i]\n",
    "            end = step_list[i + 1]\n",
    "            sub_data1 = data[:, :, num, start:end]\n",
    "            sub_data2 = data[:, :, num_rev, start:end]\n",
    "            std1 = sub_data1.std(axis=4, keepdims=True)\n",
    "            std2 = sub_data2.std(axis=4, keepdims=True)\n",
    "            std = (std1 * std2).mean(axis=3, keepdims=True)\n",
    "            del std1, std2  # êí·??ú′?\n",
    "            l.append(std)\n",
    "        std = np.squeeze(np.array(l)).transpose(1, 2, 0).reshape(-1, self.conv_feat, len(step_list) - 1)\n",
    "        std[std == 0] = 1e-9\n",
    "        fct = (sub_data1.shape[4] - 1) / sub_data1.shape[4]\n",
    "        final = cov / torch.from_numpy(std) * fct\n",
    "        del fct, std\n",
    "        print(\"------Finished ts_corr4d----output shape: \", final.shape)\n",
    "        return final\n",
    "\n",
    "    def ts_stddev4d(self, data, stride, feat_num, step_list):\n",
    "        if len(data.shape) != 4:\n",
    "            raise Exception('Input data dimensions should be [N,C,H,W]')\n",
    "        l = []\n",
    "        for i in tqdm(range(len(step_list) - 1)):\n",
    "            start = step_list[i]\n",
    "            end = step_list[i + 1]\n",
    "            sub_data1 = data[:, :, :, start:end]\n",
    "            std1 = sub_data1.std(axis=3, keepdims=True)\n",
    "            l.append(std1)\n",
    "            del std1\n",
    "        std = np.squeeze(np.array(l)).transpose(1, 2, 0).reshape(-1, feat_num, len(step_list) - 1)\n",
    "        print(\"------Finished ts_stddev4d----output shape: \", torch.from_numpy(std).shape)\n",
    "        return torch.from_numpy(std)\n",
    "\n",
    "    def ts_zscore(self, data, stride, feat_num, step_list):\n",
    "        if len(data.shape) != 4:\n",
    "            raise Exception('Input data dimensions should be [N,C,H,W]')\n",
    "        l = []\n",
    "        for i in tqdm(range(len(step_list) - 1)):\n",
    "            start = step_list[i]\n",
    "            end = step_list[i + 1]\n",
    "            sub_data1 = data[:, :, :, start:end]\n",
    "            mean = sub_data1.mean(axis=3, keepdims=True)\n",
    "            std = sub_data1.std(axis=3, keepdims=True)\n",
    "            std[std == 0] = 1e-9\n",
    "            z_score = mean / std\n",
    "            l.append(z_score)\n",
    "        z_score = np.squeeze(np.array(l)).transpose(1, 2, 0).reshape(-1, feat_num, len(step_list) - 1)\n",
    "        #         z_score[z_score >= 6] = 6\n",
    "        print(\"------Finished ts_zscore----output shape: \", torch.from_numpy(z_score).shape)\n",
    "        return torch.from_numpy(z_score)\n",
    "\n",
    "    def ts_return(self, data, stride, feat_num, step_list):\n",
    "        if len(data.shape) != 4:\n",
    "            raise Exception('Input data dimensions should be [N,C,H,W]')\n",
    "        data[data == 0] = 1e-9\n",
    "        l = []\n",
    "        for i in tqdm(range(len(step_list) - 1)):\n",
    "            start = step_list[i]\n",
    "            end = step_list[i + 1]\n",
    "            sub_data1 = data[:, :, :, start:end]\n",
    "            ret = sub_data1[:, :, :, -1] / sub_data1[:, :, :, 0] - 1\n",
    "            l.append(ret)\n",
    "        z_data = np.squeeze(np.array(l)).transpose(1, 2, 0).reshape(-1, feat_num, len(step_list) - 1)\n",
    "        z_data[z_data > 1] = 1\n",
    "        print(\"------Finished ts_return----output shape: \", torch.from_numpy(z_data).shape)\n",
    "        return torch.from_numpy(z_data)\n",
    "\n",
    "    def ts_decaylinear(self, data, stride, feat_num, step_list):\n",
    "        if len(data.shape) != 4:\n",
    "            raise Exception('Input data dimensions should be [N,C,H,W]')\n",
    "        l = []\n",
    "        for i in tqdm(range(len(step_list) - 1)):\n",
    "            start = step_list[i]\n",
    "            end = step_list[i + 1]\n",
    "            time_spread = end - start\n",
    "            weight = np.arange(1, time_spread + 1)\n",
    "            weight = weight / (weight.sum())\n",
    "            sub_data1 = (data[:, :, :, start:end] * weight).mean(axis=3, keepdims=True)\n",
    "            l.append(sub_data1)\n",
    "        decay_data = np.squeeze(np.array(l)).transpose(1, 2, 0).reshape(-1, feat_num, len(step_list) - 1)\n",
    "        final = torch.from_numpy(decay_data)\n",
    "        print(\"------Finished ts_decaylinear----output shape: \", final.shape)\n",
    "        return final\n",
    "\n",
    "\n",
    "class Pooling(object):\n",
    "    def __init__(self, data, stride):\n",
    "        if len(data.shape) != 4:\n",
    "            raise Exception('Input data dimensions should be [N,C,H,W]')\n",
    "        self.data = data.detach().numpy()\n",
    "        self.stride = stride\n",
    "        self.data_length = data.shape[3]\n",
    "        self.feat_num = data.shape[2]  # 9\n",
    "        self.step_list = self.generate_Step_List(self.data_length, self.stride)\n",
    "        self.extracted_data = self.Extraction(self.data, self.feat_num, self.stride)\n",
    "\n",
    "    def Extraction(self, data, feat_num, stride):\n",
    "        print(\"------Start Pooling------\")\n",
    "        # Pooling\n",
    "        ts_max = self.ts_pool(data, self.stride, self.feat_num, self.step_list, method='max')\n",
    "        ts_max = nn.BatchNorm1d(self.feat_num, affine=True)(ts_max)\n",
    "        ts_min = self.ts_pool(data, self.stride, self.feat_num, self.step_list, method='min')\n",
    "        ts_min = nn.BatchNorm1d(self.feat_num, affine=True)(ts_min)\n",
    "        ts_mean = self.ts_pool(data, self.stride, self.feat_num, self.step_list, method='mean')\n",
    "        ts_mean = nn.BatchNorm1d(self.feat_num, affine=True)(ts_mean)\n",
    "        data_pool = torch.cat([ts_max, ts_min, ts_mean], axis=1)\n",
    "        data_pool = data_pool.flatten(start_dim=1)\n",
    "        print(\"Pooling shape: \", data_pool.shape)\n",
    "        return data_pool\n",
    "\n",
    "    def generate_Step_List(self, data_length, stride):\n",
    "        # 11?¨2?3¤áD±í￡?è?1?êy?Y3¤?è2??ü??3y￡??òè?ê￡??3¤?è￡?è?1?ê￡??3¤?èD?óú5￡??òó?é?ò?2??áo?ò??e\n",
    "        if data_length % stride == 0:\n",
    "            step_list = list(range(0, data_length + stride, stride))\n",
    "        elif data_length % stride <= 5:\n",
    "            mod = data_length % stride\n",
    "            step_list = list(range(0, data_length - stride, stride)) + [data_length]\n",
    "        else:\n",
    "            mod = data_length % stride\n",
    "            step_list = list(range(0, data_length + stride - mod, stride)) + [data_length]\n",
    "        return step_list\n",
    "\n",
    "    def ts_pool(self, data, stride, feat_num, step_list, method):\n",
    "        if type(data) == torch.Tensor:\n",
    "            data = data.detach().numpy()\n",
    "        if data.shape[-1] <= stride:\n",
    "            step_list = [0, data.shape[-1]]\n",
    "        if len(data.shape) != 4:\n",
    "            raise Exception('Input data dimensions should be [N,C,H,W]')\n",
    "        l = []\n",
    "        for i in tqdm(range(len(step_list) - 1)):\n",
    "            start = step_list[i]\n",
    "            end = step_list[i + 1]\n",
    "            if method == 'max':\n",
    "                sub_data1 = data[:, :, :, start:end].max(axis=3, keepdims=True)\n",
    "            if method == 'min':\n",
    "                sub_data1 = data[:, :, :, start:end].min(axis=3, keepdims=True)\n",
    "            if method == 'mean':\n",
    "                sub_data1 = data[:, :, :, start:end].mean(axis=3, keepdims=True)\n",
    "            l.append(sub_data1)\n",
    "        try:\n",
    "            pool_data = np.squeeze(np.array(l)).transpose(1, 2, 0).reshape(-1, feat_num, len(step_list) - 1)\n",
    "        except:\n",
    "            pool_data = np.squeeze(np.array(l)).reshape(-1, feat_num, len(step_list) - 1)\n",
    "        return torch.from_numpy(pool_data)\n",
    "\n",
    "\n",
    "class AlphaNet(nn.Module):\n",
    "    def __init__(self, factor_num, fully_connect_layer_neural):\n",
    "        # super ??àà￡?μ÷ó???ààμ?11?ì￡??aò?2?±?D?óD\n",
    "        # μúò???2?êy?a?¨ò?ààμ???3?￡?μú?t???aself\n",
    "        super(AlphaNet, self).__init__()\n",
    "        self.fc1_neuron = (factor_num * (factor_num - 1) + 4 * factor_num) * 3\n",
    "        self.fc2_neuron = fully_connect_layer_neural\n",
    "        self.fc1 = torch.nn.Linear(self.fc1_neuron, self.fc2_neuron)\n",
    "        self.dropout = nn.Dropout(0.3)\n",
    "        self.relu = nn.ReLU()\n",
    "        self.out = nn.Linear(self.fc2_neuron, 1)\n",
    "\n",
    "    def forward(self, x):\n",
    "        x = self.fc1(x)\n",
    "        x = self.relu(x)\n",
    "        x = self.dropout(x)\n",
    "        y_pred = self.out(x)\n",
    "        return y_pred\n",
    "\n",
    "\n",
    "def get_train_data(time_start, time_end):\n",
    "#     train_frame = dataframe_list[dataframe_list['timestamp'] < pd.to_datetime(str(time_start))]\n",
    "    train_frame = dataframe_list[(dataframe_list['timestamp'] > pd.to_datetime(str(20200630)))\n",
    "                                & (dataframe_list['timestamp'] < pd.to_datetime(str(time_start)))]\n",
    "    train_frame.set_index([\"timestamp\", \"ticker\"], inplace=True)\n",
    "\n",
    "    # Train X and Train Y\n",
    "    trainx, trainy = [], []\n",
    "    trainx = np.array(train_frame.drop(\"target\", axis=1))\n",
    "    trainx = trainx.reshape(trainx.shape[0], 1, day, -1)  # x = (153,1,30,9)\n",
    "    trainx = trainx.transpose(0, 1, 3, 2)  # x = (2555577, 1, 9, 30)\n",
    "    trainy = np.array(train_frame['target']).reshape(-1, 1)  # x = (153,1,9,30)\n",
    "\n",
    "    feat_num = trainx.shape[2]  # 9\n",
    "    del train_frame\n",
    "    print(\"trainx.shape: \", trainx.shape)\n",
    "    print(\"trainy.shape: \", trainy.shape)\n",
    "    return trainx, trainy, feat_num\n",
    "\n",
    "\n",
    "def get_test_data(time_start, time_end):\n",
    "    test_frame = dataframe_list[(dataframe_list['timestamp'] > pd.to_datetime(str(time_start)))\n",
    "                                & (dataframe_list['timestamp'] < pd.to_datetime(str(time_end)))]\n",
    "    test_frame.set_index([\"timestamp\", \"ticker\"], inplace=True)\n",
    "\n",
    "    # Test X and Test Y\n",
    "\n",
    "    test_target = pd.DataFrame(test_frame['target'])\n",
    "    testy = np.array(test_target).reshape(-1, 1)\n",
    "\n",
    "    testx = np.array(test_frame.drop(\"target\", axis=1))\n",
    "    testx = testx.reshape(testx.shape[0], 1, day, -1)  # x = (153,1,30,9)\n",
    "    testx = testx.transpose(0, 1, 3, 2)  # x = (2555577, 1, 9, 30)\n",
    "    del test_frame\n",
    "\n",
    "    print(\"testx.shape: \", testx.shape)\n",
    "    print(\"testy.shape: \", testy.shape)\n",
    "    test_target.reset_index(inplace=True)\n",
    "    return testx, testy, test_target\n",
    "\n",
    "output_path = \"/home/wuwenjun/Alpha_Factor/AlphaNetV1_Original_Input_1208/\"\n",
    "day = 30\n",
    "stride = 10\n",
    "\n",
    "# Read Data\n",
    "data_path = \"/home/wuwenjun/Data/AlphaNet_Original_Input/\"\n",
    "dataframe_list = pd.DataFrame()\n",
    "for f, _, i in walk(data_path):\n",
    "    for j in tqdm(i):\n",
    "        dataframe_list = pd.concat([dataframe_list, pd.read_parquet(f + j)], axis=0)\n",
    "dataframe_list['timestamp'] = pd.to_datetime(dataframe_list['timestamp'])"
   ]
  },
  {
   "cell_type": "code",
   "execution_count": 3,
   "id": "d194768b",
   "metadata": {
    "ExecuteTime": {
     "end_time": "2021-12-09T07:16:37.329353Z",
     "start_time": "2021-12-09T07:11:46.804447Z"
    }
   },
   "outputs": [
    {
     "name": "stdout",
     "output_type": "stream",
     "text": [
      "trainx.shape:  (459371, 1, 11, 30)\n",
      "trainy.shape:  (459371, 1)\n",
      "testx.shape:  (451184, 1, 11, 30)\n",
      "testy.shape:  (451184, 1)\n"
     ]
    },
    {
     "name": "stderr",
     "output_type": "stream",
     "text": [
      "\r",
      "  0%|          | 0/3 [00:00<?, ?it/s]"
     ]
    },
    {
     "name": "stdout",
     "output_type": "stream",
     "text": [
      "------Start Extraction------\n"
     ]
    },
    {
     "name": "stderr",
     "output_type": "stream",
     "text": [
      "100%|██████████| 3/3 [01:26<00:00, 28.72s/it]\n",
      "  0%|          | 0/3 [00:00<?, ?it/s]"
     ]
    },
    {
     "name": "stdout",
     "output_type": "stream",
     "text": [
      "------Finished ts_cov4d----output shape:  torch.Size([459371, 55, 3])\n"
     ]
    },
    {
     "name": "stderr",
     "output_type": "stream",
     "text": [
      "100%|██████████| 3/3 [00:52<00:00, 17.59s/it]\n"
     ]
    },
    {
     "name": "stdout",
     "output_type": "stream",
     "text": [
      "------Finished ts_corr4d----output shape:  torch.Size([459371, 55, 3])\n"
     ]
    },
    {
     "name": "stderr",
     "output_type": "stream",
     "text": [
      "100%|██████████| 3/3 [00:01<00:00,  1.67it/s]\n",
      "  0%|          | 0/3 [00:00<?, ?it/s]"
     ]
    },
    {
     "name": "stdout",
     "output_type": "stream",
     "text": [
      "------Finished ts_stddev4d----output shape:  torch.Size([459371, 11, 3])\n"
     ]
    },
    {
     "name": "stderr",
     "output_type": "stream",
     "text": [
      "100%|██████████| 3/3 [00:01<00:00,  1.58it/s]\n"
     ]
    },
    {
     "name": "stdout",
     "output_type": "stream",
     "text": [
      "------Finished ts_zscore----output shape:  torch.Size([459371, 11, 3])\n"
     ]
    },
    {
     "name": "stderr",
     "output_type": "stream",
     "text": [
      "100%|██████████| 3/3 [00:00<00:00, 41.35it/s]\n",
      "  0%|          | 0/3 [00:00<?, ?it/s]"
     ]
    },
    {
     "name": "stdout",
     "output_type": "stream",
     "text": [
      "------Finished ts_return----output shape:  torch.Size([459371, 11, 3])\n"
     ]
    },
    {
     "name": "stderr",
     "output_type": "stream",
     "text": [
      "100%|██████████| 3/3 [00:01<00:00,  2.93it/s]\n"
     ]
    },
    {
     "name": "stdout",
     "output_type": "stream",
     "text": [
      "------Finished ts_decaylinear----output shape:  torch.Size([459371, 11, 3])\n",
      "Convolutional shape:  torch.Size([459371, 1, 154, 3])\n"
     ]
    },
    {
     "name": "stderr",
     "output_type": "stream",
     "text": [
      "\r",
      "  0%|          | 0/1 [00:00<?, ?it/s]"
     ]
    },
    {
     "name": "stdout",
     "output_type": "stream",
     "text": [
      "------Start Pooling------\n"
     ]
    },
    {
     "name": "stderr",
     "output_type": "stream",
     "text": [
      "100%|██████████| 1/1 [00:03<00:00,  3.11s/it]\n",
      "100%|██████████| 1/1 [00:02<00:00,  2.96s/it]\n",
      "100%|██████████| 1/1 [00:01<00:00,  1.23s/it]\n"
     ]
    },
    {
     "name": "stdout",
     "output_type": "stream",
     "text": [
      "Pooling shape:  torch.Size([459371, 462])\n",
      "trainx.shape :  (459371, 462)\n",
      "trainy.shape :  (459371, 1)\n"
     ]
    },
    {
     "name": "stderr",
     "output_type": "stream",
     "text": [
      "\r",
      "  0%|          | 0/3 [00:00<?, ?it/s]"
     ]
    },
    {
     "name": "stdout",
     "output_type": "stream",
     "text": [
      "------Start Extraction------\n"
     ]
    },
    {
     "name": "stderr",
     "output_type": "stream",
     "text": [
      "100%|██████████| 3/3 [00:47<00:00, 15.83s/it]\n",
      "  0%|          | 0/3 [00:00<?, ?it/s]"
     ]
    },
    {
     "name": "stdout",
     "output_type": "stream",
     "text": [
      "------Finished ts_cov4d----output shape:  torch.Size([451184, 55, 3])\n"
     ]
    },
    {
     "name": "stderr",
     "output_type": "stream",
     "text": [
      "100%|██████████| 3/3 [00:47<00:00, 15.87s/it]\n"
     ]
    },
    {
     "name": "stdout",
     "output_type": "stream",
     "text": [
      "------Finished ts_corr4d----output shape:  torch.Size([451184, 55, 3])\n"
     ]
    },
    {
     "name": "stderr",
     "output_type": "stream",
     "text": [
      "100%|██████████| 3/3 [00:01<00:00,  1.94it/s]\n",
      "  0%|          | 0/3 [00:00<?, ?it/s]"
     ]
    },
    {
     "name": "stdout",
     "output_type": "stream",
     "text": [
      "------Finished ts_stddev4d----output shape:  torch.Size([451184, 11, 3])\n"
     ]
    },
    {
     "name": "stderr",
     "output_type": "stream",
     "text": [
      "100%|██████████| 3/3 [00:01<00:00,  1.72it/s]\n"
     ]
    },
    {
     "name": "stdout",
     "output_type": "stream",
     "text": [
      "------Finished ts_zscore----output shape:  torch.Size([451184, 11, 3])\n"
     ]
    },
    {
     "name": "stderr",
     "output_type": "stream",
     "text": [
      "100%|██████████| 3/3 [00:00<00:00, 59.28it/s]\n",
      "  0%|          | 0/3 [00:00<?, ?it/s]"
     ]
    },
    {
     "name": "stdout",
     "output_type": "stream",
     "text": [
      "------Finished ts_return----output shape:  torch.Size([451184, 11, 3])\n"
     ]
    },
    {
     "name": "stderr",
     "output_type": "stream",
     "text": [
      "100%|██████████| 3/3 [00:00<00:00,  3.20it/s]\n"
     ]
    },
    {
     "name": "stdout",
     "output_type": "stream",
     "text": [
      "------Finished ts_decaylinear----output shape:  torch.Size([451184, 11, 3])\n",
      "Convolutional shape:  torch.Size([451184, 1, 154, 3])\n"
     ]
    },
    {
     "name": "stderr",
     "output_type": "stream",
     "text": [
      "\r",
      "  0%|          | 0/1 [00:00<?, ?it/s]"
     ]
    },
    {
     "name": "stdout",
     "output_type": "stream",
     "text": [
      "------Start Pooling------\n"
     ]
    },
    {
     "name": "stderr",
     "output_type": "stream",
     "text": [
      "100%|██████████| 1/1 [00:03<00:00,  3.16s/it]\n",
      "100%|██████████| 1/1 [00:03<00:00,  3.01s/it]\n",
      "100%|██████████| 1/1 [00:01<00:00,  1.21s/it]\n"
     ]
    },
    {
     "name": "stdout",
     "output_type": "stream",
     "text": [
      "Pooling shape:  torch.Size([451184, 462])\n",
      "testx.shape :  (451184, 462)\n",
      "testy.shape :  (451184, 1)\n",
      "trainx size:  torch.Size([459371, 462])\n",
      "trainy size:  torch.Size([459371, 1])\n",
      "testx size:  torch.Size([451184, 462])\n",
      "testy size:  torch.Size([451184, 1])\n"
     ]
    }
   ],
   "source": [
    "time_start = 20210101\n",
    "time_end = 20210630\n",
    "trainx, trainy, feat_num = get_train_data(time_start, time_end)\n",
    "testx, testy, test_target = get_test_data(time_start, time_end)\n",
    "del dataframe_list\n",
    "\"\"\"Convolutional \"\"\"\n",
    "convolutional = Convolutional(trainx, 10)\n",
    "feat_cat = convolutional.extracted_data\n",
    "pooling = Pooling(feat_cat, 3)\n",
    "trainx = pooling.extracted_data.detach().numpy()\n",
    "print(\"trainx.shape : \", trainx.shape)\n",
    "print(\"trainy.shape : \", trainy.shape)\n",
    "\n",
    "convolutional = Convolutional(testx, 10)\n",
    "feat_cat = convolutional.extracted_data\n",
    "pooling = Pooling(feat_cat, 3)\n",
    "testx = pooling.extracted_data.detach().numpy()\n",
    "print(\"testx.shape : \", testx.shape)\n",
    "print(\"testy.shape : \", testy.shape)\n",
    "\n",
    "trainx, trainy, testx, testy = torch.from_numpy(trainx), torch.from_numpy(trainy), torch.from_numpy(\n",
    "    testx), torch.from_numpy(testy)\n",
    "print('trainx size: ', trainx.size())\n",
    "print('trainy size: ', trainy.size())\n",
    "print('testx size: ', testx.size())\n",
    "print('testy size: ', testy.size())\n",
    "torch.save(trainx, output_path + \"/trainx/\" + '%s_%s.pt' % (time_start, time_end))\n",
    "torch.save(trainy, output_path + \"/trainy/\" + '%s_%s.pt' % (time_start, time_end))\n",
    "torch.save(testx, output_path + \"/testx/\" + '%s_%s.pt' % (time_start, time_end))\n",
    "torch.save(testy, output_path + \"/testy/\" + '%s_%s.pt' % (time_start, time_end))\n",
    "test_target.set_index([\"timestamp\",\"ticker\"]).to_csv(output_path + \"/test_target/\" + '%s_%s.csv' % (time_start, time_end))"
   ]
  },
  {
   "cell_type": "code",
   "execution_count": 17,
   "id": "f5b582c8",
   "metadata": {
    "ExecuteTime": {
     "end_time": "2021-12-09T04:55:17.921432Z",
     "start_time": "2021-12-09T04:55:13.000115Z"
    }
   },
   "outputs": [
    {
     "name": "stdout",
     "output_type": "stream",
     "text": [
      "trainx size:  torch.Size([2961314, 462])\n",
      "trainy size:  torch.Size([2961314, 1])\n",
      "testx size:  torch.Size([436426, 462])\n",
      "testy size:  torch.Size([436426, 1])\n"
     ]
    },
    {
     "data": {
      "text/html": [
       "<div>\n",
       "<style scoped>\n",
       "    .dataframe tbody tr th:only-of-type {\n",
       "        vertical-align: middle;\n",
       "    }\n",
       "\n",
       "    .dataframe tbody tr th {\n",
       "        vertical-align: top;\n",
       "    }\n",
       "\n",
       "    .dataframe thead th {\n",
       "        text-align: right;\n",
       "    }\n",
       "</style>\n",
       "<table border=\"1\" class=\"dataframe\">\n",
       "  <thead>\n",
       "    <tr style=\"text-align: right;\">\n",
       "      <th></th>\n",
       "      <th>timestamp</th>\n",
       "      <th>ticker</th>\n",
       "      <th>target</th>\n",
       "    </tr>\n",
       "  </thead>\n",
       "  <tbody>\n",
       "    <tr>\n",
       "      <th>0</th>\n",
       "      <td>2019-07-01 09:30:00</td>\n",
       "      <td>1</td>\n",
       "      <td>-0.013562</td>\n",
       "    </tr>\n",
       "    <tr>\n",
       "      <th>1</th>\n",
       "      <td>2019-07-02 09:30:00</td>\n",
       "      <td>1</td>\n",
       "      <td>-0.018012</td>\n",
       "    </tr>\n",
       "    <tr>\n",
       "      <th>2</th>\n",
       "      <td>2019-07-03 09:30:00</td>\n",
       "      <td>1</td>\n",
       "      <td>-0.040197</td>\n",
       "    </tr>\n",
       "    <tr>\n",
       "      <th>3</th>\n",
       "      <td>2019-07-04 09:30:00</td>\n",
       "      <td>1</td>\n",
       "      <td>-0.023555</td>\n",
       "    </tr>\n",
       "    <tr>\n",
       "      <th>4</th>\n",
       "      <td>2019-07-05 09:30:00</td>\n",
       "      <td>1</td>\n",
       "      <td>-0.025090</td>\n",
       "    </tr>\n",
       "    <tr>\n",
       "      <th>...</th>\n",
       "      <td>...</td>\n",
       "      <td>...</td>\n",
       "      <td>...</td>\n",
       "    </tr>\n",
       "    <tr>\n",
       "      <th>436421</th>\n",
       "      <td>2019-12-31 09:30:00</td>\n",
       "      <td>688188</td>\n",
       "      <td>-0.035886</td>\n",
       "    </tr>\n",
       "    <tr>\n",
       "      <th>436422</th>\n",
       "      <td>2019-12-31 09:30:00</td>\n",
       "      <td>2960</td>\n",
       "      <td>0.012141</td>\n",
       "    </tr>\n",
       "    <tr>\n",
       "      <th>436423</th>\n",
       "      <td>2019-12-31 09:30:00</td>\n",
       "      <td>603115</td>\n",
       "      <td>0.031416</td>\n",
       "    </tr>\n",
       "    <tr>\n",
       "      <th>436424</th>\n",
       "      <td>2019-12-31 09:30:00</td>\n",
       "      <td>688321</td>\n",
       "      <td>0.018588</td>\n",
       "    </tr>\n",
       "    <tr>\n",
       "      <th>436425</th>\n",
       "      <td>2019-12-31 09:30:00</td>\n",
       "      <td>300787</td>\n",
       "      <td>-0.142691</td>\n",
       "    </tr>\n",
       "  </tbody>\n",
       "</table>\n",
       "<p>436426 rows × 3 columns</p>\n",
       "</div>"
      ],
      "text/plain": [
       "                  timestamp  ticker    target\n",
       "0       2019-07-01 09:30:00       1 -0.013562\n",
       "1       2019-07-02 09:30:00       1 -0.018012\n",
       "2       2019-07-03 09:30:00       1 -0.040197\n",
       "3       2019-07-04 09:30:00       1 -0.023555\n",
       "4       2019-07-05 09:30:00       1 -0.025090\n",
       "...                     ...     ...       ...\n",
       "436421  2019-12-31 09:30:00  688188 -0.035886\n",
       "436422  2019-12-31 09:30:00    2960  0.012141\n",
       "436423  2019-12-31 09:30:00  603115  0.031416\n",
       "436424  2019-12-31 09:30:00  688321  0.018588\n",
       "436425  2019-12-31 09:30:00  300787 -0.142691\n",
       "\n",
       "[436426 rows x 3 columns]"
      ]
     },
     "execution_count": 17,
     "metadata": {},
     "output_type": "execute_result"
    }
   ],
   "source": [
    "trainx = torch.load(\"/home/wuwenjun/Alpha_Factor/AlphaNetV1_Original_Input_1208/trainx/20190630_20200101.pt\")\n",
    "trainy = torch.load(\"/home/wuwenjun/Alpha_Factor/AlphaNetV1_Original_Input_1208/trainy/20190630_20200101.pt\")\n",
    "testx = torch.load(\"/home/wuwenjun/Alpha_Factor/AlphaNetV1_Original_Input_1208/testx/20190630_20200101.pt\")\n",
    "testy = torch.load(\"/home/wuwenjun/Alpha_Factor/AlphaNetV1_Original_Input_1208/testy/20190630_20200101.pt\")\n",
    "test_target = pd.read_csv(\"/home/wuwenjun/Alpha_Factor/AlphaNetV1_Original_Input_1208/test_target/20190630_20200101.csv\")\n",
    "print('trainx size: ', trainx.size())\n",
    "print('trainy size: ', trainy.size())\n",
    "print('testx size: ', testx.size())\n",
    "print('testy size: ', testy.size())\n",
    "test_target"
   ]
  },
  {
   "cell_type": "code",
   "execution_count": 23,
   "id": "210a8769",
   "metadata": {
    "ExecuteTime": {
     "end_time": "2021-12-09T07:32:13.260476Z",
     "start_time": "2021-12-09T07:32:12.506093Z"
    }
   },
   "outputs": [],
   "source": [
    "# device = torch.device(\"cuda:0\" if torch.cuda.is_available() else \"cpu\")\n",
    "trainx = trainx.cuda()\n",
    "trainy = trainy.cuda()\n",
    "testx = testx.cuda()\n",
    "testy = testy.cuda()"
   ]
  },
  {
   "cell_type": "code",
   "execution_count": 17,
   "id": "3c2b2a82",
   "metadata": {
    "ExecuteTime": {
     "end_time": "2021-12-09T07:29:37.122164Z",
     "start_time": "2021-12-09T07:29:37.117457Z"
    }
   },
   "outputs": [
    {
     "data": {
      "text/plain": [
       "torch.Size([459371, 462])"
      ]
     },
     "execution_count": 17,
     "metadata": {},
     "output_type": "execute_result"
    }
   ],
   "source": []
  },
  {
   "cell_type": "code",
   "execution_count": 25,
   "id": "ac643691",
   "metadata": {
    "ExecuteTime": {
     "end_time": "2021-12-09T07:33:29.134601Z",
     "start_time": "2021-12-09T07:33:29.003997Z"
    }
   },
   "outputs": [
    {
     "name": "stderr",
     "output_type": "stream",
     "text": [
      "  0%|          | 0/20 [00:00<?, ?it/s]"
     ]
    },
    {
     "name": "stdout",
     "output_type": "stream",
     "text": [
      "AlphaNet(\n",
      "  (fc1): Linear(in_features=462, out_features=30, bias=True)\n",
      "  (dropout): Dropout(p=0.3, inplace=False)\n",
      "  (relu): ReLU()\n",
      "  (out): Linear(in_features=30, out_features=1, bias=True)\n",
      ")\n"
     ]
    },
    {
     "name": "stderr",
     "output_type": "stream",
     "text": [
      "\n"
     ]
    },
    {
     "ename": "RuntimeError",
     "evalue": "CUDA error: no kernel image is available for execution on the device\nCUDA kernel errors might be asynchronously reported at some other API call,so the stacktrace below might be incorrect.\nFor debugging consider passing CUDA_LAUNCH_BLOCKING=1.",
     "output_type": "error",
     "traceback": [
      "\u001b[0;31m---------------------------------------------------------------------------\u001b[0m",
      "\u001b[0;31mRuntimeError\u001b[0m                              Traceback (most recent call last)",
      "\u001b[0;32m<ipython-input-25-5d55b6109233>\u001b[0m in \u001b[0;36m<module>\u001b[0;34m\u001b[0m\n\u001b[1;32m     28\u001b[0m \u001b[0;32mfor\u001b[0m \u001b[0mepoch\u001b[0m \u001b[0;32min\u001b[0m \u001b[0mtqdm\u001b[0m\u001b[0;34m(\u001b[0m\u001b[0mrange\u001b[0m\u001b[0;34m(\u001b[0m\u001b[0mepoch_num\u001b[0m\u001b[0;34m)\u001b[0m\u001b[0;34m)\u001b[0m\u001b[0;34m:\u001b[0m\u001b[0;34m\u001b[0m\u001b[0;34m\u001b[0m\u001b[0m\n\u001b[1;32m     29\u001b[0m     \u001b[0mtotal_loss\u001b[0m \u001b[0;34m=\u001b[0m \u001b[0;36m0\u001b[0m\u001b[0;34m\u001b[0m\u001b[0;34m\u001b[0m\u001b[0m\n\u001b[0;32m---> 30\u001b[0;31m     \u001b[0;32mfor\u001b[0m \u001b[0m_\u001b[0m\u001b[0;34m,\u001b[0m \u001b[0;34m(\u001b[0m\u001b[0mdata\u001b[0m\u001b[0;34m,\u001b[0m \u001b[0mlabel\u001b[0m\u001b[0;34m)\u001b[0m \u001b[0;32min\u001b[0m \u001b[0menumerate\u001b[0m\u001b[0;34m(\u001b[0m\u001b[0mtrain_loader\u001b[0m\u001b[0;34m)\u001b[0m\u001b[0;34m:\u001b[0m\u001b[0;34m\u001b[0m\u001b[0;34m\u001b[0m\u001b[0m\n\u001b[0m\u001b[1;32m     31\u001b[0m         \u001b[0mdata\u001b[0m \u001b[0;34m=\u001b[0m \u001b[0mVariable\u001b[0m\u001b[0;34m(\u001b[0m\u001b[0mdata\u001b[0m\u001b[0;34m)\u001b[0m\u001b[0;34m.\u001b[0m\u001b[0mfloat\u001b[0m\u001b[0;34m(\u001b[0m\u001b[0;34m)\u001b[0m\u001b[0;34m\u001b[0m\u001b[0;34m\u001b[0m\u001b[0m\n\u001b[1;32m     32\u001b[0m         \u001b[0mlabel\u001b[0m \u001b[0;34m=\u001b[0m \u001b[0mVariable\u001b[0m\u001b[0;34m(\u001b[0m\u001b[0mlabel\u001b[0m\u001b[0;34m)\u001b[0m\u001b[0;34m.\u001b[0m\u001b[0mfloat\u001b[0m\u001b[0;34m(\u001b[0m\u001b[0;34m)\u001b[0m\u001b[0;34m\u001b[0m\u001b[0;34m\u001b[0m\u001b[0m\n",
      "\u001b[0;32m~/.local/lib/python3.7/site-packages/torch/utils/data/dataloader.py\u001b[0m in \u001b[0;36m__next__\u001b[0;34m(self)\u001b[0m\n\u001b[1;32m    519\u001b[0m             \u001b[0;32mif\u001b[0m \u001b[0mself\u001b[0m\u001b[0;34m.\u001b[0m\u001b[0m_sampler_iter\u001b[0m \u001b[0;32mis\u001b[0m \u001b[0;32mNone\u001b[0m\u001b[0;34m:\u001b[0m\u001b[0;34m\u001b[0m\u001b[0;34m\u001b[0m\u001b[0m\n\u001b[1;32m    520\u001b[0m                 \u001b[0mself\u001b[0m\u001b[0;34m.\u001b[0m\u001b[0m_reset\u001b[0m\u001b[0;34m(\u001b[0m\u001b[0;34m)\u001b[0m\u001b[0;34m\u001b[0m\u001b[0;34m\u001b[0m\u001b[0m\n\u001b[0;32m--> 521\u001b[0;31m             \u001b[0mdata\u001b[0m \u001b[0;34m=\u001b[0m \u001b[0mself\u001b[0m\u001b[0;34m.\u001b[0m\u001b[0m_next_data\u001b[0m\u001b[0;34m(\u001b[0m\u001b[0;34m)\u001b[0m\u001b[0;34m\u001b[0m\u001b[0;34m\u001b[0m\u001b[0m\n\u001b[0m\u001b[1;32m    522\u001b[0m             \u001b[0mself\u001b[0m\u001b[0;34m.\u001b[0m\u001b[0m_num_yielded\u001b[0m \u001b[0;34m+=\u001b[0m \u001b[0;36m1\u001b[0m\u001b[0;34m\u001b[0m\u001b[0;34m\u001b[0m\u001b[0m\n\u001b[1;32m    523\u001b[0m             \u001b[0;32mif\u001b[0m \u001b[0mself\u001b[0m\u001b[0;34m.\u001b[0m\u001b[0m_dataset_kind\u001b[0m \u001b[0;34m==\u001b[0m \u001b[0m_DatasetKind\u001b[0m\u001b[0;34m.\u001b[0m\u001b[0mIterable\u001b[0m \u001b[0;32mand\u001b[0m\u001b[0;31m \u001b[0m\u001b[0;31m\\\u001b[0m\u001b[0;34m\u001b[0m\u001b[0;34m\u001b[0m\u001b[0m\n",
      "\u001b[0;32m~/.local/lib/python3.7/site-packages/torch/utils/data/dataloader.py\u001b[0m in \u001b[0;36m_next_data\u001b[0;34m(self)\u001b[0m\n\u001b[1;32m    559\u001b[0m     \u001b[0;32mdef\u001b[0m \u001b[0m_next_data\u001b[0m\u001b[0;34m(\u001b[0m\u001b[0mself\u001b[0m\u001b[0;34m)\u001b[0m\u001b[0;34m:\u001b[0m\u001b[0;34m\u001b[0m\u001b[0;34m\u001b[0m\u001b[0m\n\u001b[1;32m    560\u001b[0m         \u001b[0mindex\u001b[0m \u001b[0;34m=\u001b[0m \u001b[0mself\u001b[0m\u001b[0;34m.\u001b[0m\u001b[0m_next_index\u001b[0m\u001b[0;34m(\u001b[0m\u001b[0;34m)\u001b[0m  \u001b[0;31m# may raise StopIteration\u001b[0m\u001b[0;34m\u001b[0m\u001b[0;34m\u001b[0m\u001b[0m\n\u001b[0;32m--> 561\u001b[0;31m         \u001b[0mdata\u001b[0m \u001b[0;34m=\u001b[0m \u001b[0mself\u001b[0m\u001b[0;34m.\u001b[0m\u001b[0m_dataset_fetcher\u001b[0m\u001b[0;34m.\u001b[0m\u001b[0mfetch\u001b[0m\u001b[0;34m(\u001b[0m\u001b[0mindex\u001b[0m\u001b[0;34m)\u001b[0m  \u001b[0;31m# may raise StopIteration\u001b[0m\u001b[0;34m\u001b[0m\u001b[0;34m\u001b[0m\u001b[0m\n\u001b[0m\u001b[1;32m    562\u001b[0m         \u001b[0;32mif\u001b[0m \u001b[0mself\u001b[0m\u001b[0;34m.\u001b[0m\u001b[0m_pin_memory\u001b[0m\u001b[0;34m:\u001b[0m\u001b[0;34m\u001b[0m\u001b[0;34m\u001b[0m\u001b[0m\n\u001b[1;32m    563\u001b[0m             \u001b[0mdata\u001b[0m \u001b[0;34m=\u001b[0m \u001b[0m_utils\u001b[0m\u001b[0;34m.\u001b[0m\u001b[0mpin_memory\u001b[0m\u001b[0;34m.\u001b[0m\u001b[0mpin_memory\u001b[0m\u001b[0;34m(\u001b[0m\u001b[0mdata\u001b[0m\u001b[0;34m)\u001b[0m\u001b[0;34m\u001b[0m\u001b[0;34m\u001b[0m\u001b[0m\n",
      "\u001b[0;32m~/.local/lib/python3.7/site-packages/torch/utils/data/_utils/fetch.py\u001b[0m in \u001b[0;36mfetch\u001b[0;34m(self, possibly_batched_index)\u001b[0m\n\u001b[1;32m     50\u001b[0m         \u001b[0;32melse\u001b[0m\u001b[0;34m:\u001b[0m\u001b[0;34m\u001b[0m\u001b[0;34m\u001b[0m\u001b[0m\n\u001b[1;32m     51\u001b[0m             \u001b[0mdata\u001b[0m \u001b[0;34m=\u001b[0m \u001b[0mself\u001b[0m\u001b[0;34m.\u001b[0m\u001b[0mdataset\u001b[0m\u001b[0;34m[\u001b[0m\u001b[0mpossibly_batched_index\u001b[0m\u001b[0;34m]\u001b[0m\u001b[0;34m\u001b[0m\u001b[0;34m\u001b[0m\u001b[0m\n\u001b[0;32m---> 52\u001b[0;31m         \u001b[0;32mreturn\u001b[0m \u001b[0mself\u001b[0m\u001b[0;34m.\u001b[0m\u001b[0mcollate_fn\u001b[0m\u001b[0;34m(\u001b[0m\u001b[0mdata\u001b[0m\u001b[0;34m)\u001b[0m\u001b[0;34m\u001b[0m\u001b[0;34m\u001b[0m\u001b[0m\n\u001b[0m",
      "\u001b[0;32m~/.local/lib/python3.7/site-packages/torch/utils/data/_utils/collate.py\u001b[0m in \u001b[0;36mdefault_collate\u001b[0;34m(batch)\u001b[0m\n\u001b[1;32m     82\u001b[0m             \u001b[0;32mraise\u001b[0m \u001b[0mRuntimeError\u001b[0m\u001b[0;34m(\u001b[0m\u001b[0;34m'each element in list of batch should be of equal size'\u001b[0m\u001b[0;34m)\u001b[0m\u001b[0;34m\u001b[0m\u001b[0;34m\u001b[0m\u001b[0m\n\u001b[1;32m     83\u001b[0m         \u001b[0mtransposed\u001b[0m \u001b[0;34m=\u001b[0m \u001b[0mzip\u001b[0m\u001b[0;34m(\u001b[0m\u001b[0;34m*\u001b[0m\u001b[0mbatch\u001b[0m\u001b[0;34m)\u001b[0m\u001b[0;34m\u001b[0m\u001b[0;34m\u001b[0m\u001b[0m\n\u001b[0;32m---> 84\u001b[0;31m         \u001b[0;32mreturn\u001b[0m \u001b[0;34m[\u001b[0m\u001b[0mdefault_collate\u001b[0m\u001b[0;34m(\u001b[0m\u001b[0msamples\u001b[0m\u001b[0;34m)\u001b[0m \u001b[0;32mfor\u001b[0m \u001b[0msamples\u001b[0m \u001b[0;32min\u001b[0m \u001b[0mtransposed\u001b[0m\u001b[0;34m]\u001b[0m\u001b[0;34m\u001b[0m\u001b[0;34m\u001b[0m\u001b[0m\n\u001b[0m\u001b[1;32m     85\u001b[0m \u001b[0;34m\u001b[0m\u001b[0m\n\u001b[1;32m     86\u001b[0m     \u001b[0;32mraise\u001b[0m \u001b[0mTypeError\u001b[0m\u001b[0;34m(\u001b[0m\u001b[0mdefault_collate_err_msg_format\u001b[0m\u001b[0;34m.\u001b[0m\u001b[0mformat\u001b[0m\u001b[0;34m(\u001b[0m\u001b[0melem_type\u001b[0m\u001b[0;34m)\u001b[0m\u001b[0;34m)\u001b[0m\u001b[0;34m\u001b[0m\u001b[0;34m\u001b[0m\u001b[0m\n",
      "\u001b[0;32m~/.local/lib/python3.7/site-packages/torch/utils/data/_utils/collate.py\u001b[0m in \u001b[0;36m<listcomp>\u001b[0;34m(.0)\u001b[0m\n\u001b[1;32m     82\u001b[0m             \u001b[0;32mraise\u001b[0m \u001b[0mRuntimeError\u001b[0m\u001b[0;34m(\u001b[0m\u001b[0;34m'each element in list of batch should be of equal size'\u001b[0m\u001b[0;34m)\u001b[0m\u001b[0;34m\u001b[0m\u001b[0;34m\u001b[0m\u001b[0m\n\u001b[1;32m     83\u001b[0m         \u001b[0mtransposed\u001b[0m \u001b[0;34m=\u001b[0m \u001b[0mzip\u001b[0m\u001b[0;34m(\u001b[0m\u001b[0;34m*\u001b[0m\u001b[0mbatch\u001b[0m\u001b[0;34m)\u001b[0m\u001b[0;34m\u001b[0m\u001b[0;34m\u001b[0m\u001b[0m\n\u001b[0;32m---> 84\u001b[0;31m         \u001b[0;32mreturn\u001b[0m \u001b[0;34m[\u001b[0m\u001b[0mdefault_collate\u001b[0m\u001b[0;34m(\u001b[0m\u001b[0msamples\u001b[0m\u001b[0;34m)\u001b[0m \u001b[0;32mfor\u001b[0m \u001b[0msamples\u001b[0m \u001b[0;32min\u001b[0m \u001b[0mtransposed\u001b[0m\u001b[0;34m]\u001b[0m\u001b[0;34m\u001b[0m\u001b[0;34m\u001b[0m\u001b[0m\n\u001b[0m\u001b[1;32m     85\u001b[0m \u001b[0;34m\u001b[0m\u001b[0m\n\u001b[1;32m     86\u001b[0m     \u001b[0;32mraise\u001b[0m \u001b[0mTypeError\u001b[0m\u001b[0;34m(\u001b[0m\u001b[0mdefault_collate_err_msg_format\u001b[0m\u001b[0;34m.\u001b[0m\u001b[0mformat\u001b[0m\u001b[0;34m(\u001b[0m\u001b[0melem_type\u001b[0m\u001b[0;34m)\u001b[0m\u001b[0;34m)\u001b[0m\u001b[0;34m\u001b[0m\u001b[0;34m\u001b[0m\u001b[0m\n",
      "\u001b[0;32m~/.local/lib/python3.7/site-packages/torch/utils/data/_utils/collate.py\u001b[0m in \u001b[0;36mdefault_collate\u001b[0;34m(batch)\u001b[0m\n\u001b[1;32m     54\u001b[0m             \u001b[0mstorage\u001b[0m \u001b[0;34m=\u001b[0m \u001b[0melem\u001b[0m\u001b[0;34m.\u001b[0m\u001b[0mstorage\u001b[0m\u001b[0;34m(\u001b[0m\u001b[0;34m)\u001b[0m\u001b[0;34m.\u001b[0m\u001b[0m_new_shared\u001b[0m\u001b[0;34m(\u001b[0m\u001b[0mnumel\u001b[0m\u001b[0;34m)\u001b[0m\u001b[0;34m\u001b[0m\u001b[0;34m\u001b[0m\u001b[0m\n\u001b[1;32m     55\u001b[0m             \u001b[0mout\u001b[0m \u001b[0;34m=\u001b[0m \u001b[0melem\u001b[0m\u001b[0;34m.\u001b[0m\u001b[0mnew\u001b[0m\u001b[0;34m(\u001b[0m\u001b[0mstorage\u001b[0m\u001b[0;34m)\u001b[0m\u001b[0;34m\u001b[0m\u001b[0;34m\u001b[0m\u001b[0m\n\u001b[0;32m---> 56\u001b[0;31m         \u001b[0;32mreturn\u001b[0m \u001b[0mtorch\u001b[0m\u001b[0;34m.\u001b[0m\u001b[0mstack\u001b[0m\u001b[0;34m(\u001b[0m\u001b[0mbatch\u001b[0m\u001b[0;34m,\u001b[0m \u001b[0;36m0\u001b[0m\u001b[0;34m,\u001b[0m \u001b[0mout\u001b[0m\u001b[0;34m=\u001b[0m\u001b[0mout\u001b[0m\u001b[0;34m)\u001b[0m\u001b[0;34m\u001b[0m\u001b[0;34m\u001b[0m\u001b[0m\n\u001b[0m\u001b[1;32m     57\u001b[0m     \u001b[0;32melif\u001b[0m \u001b[0melem_type\u001b[0m\u001b[0;34m.\u001b[0m\u001b[0m__module__\u001b[0m \u001b[0;34m==\u001b[0m \u001b[0;34m'numpy'\u001b[0m \u001b[0;32mand\u001b[0m \u001b[0melem_type\u001b[0m\u001b[0;34m.\u001b[0m\u001b[0m__name__\u001b[0m \u001b[0;34m!=\u001b[0m \u001b[0;34m'str_'\u001b[0m\u001b[0;31m \u001b[0m\u001b[0;31m\\\u001b[0m\u001b[0;34m\u001b[0m\u001b[0;34m\u001b[0m\u001b[0m\n\u001b[1;32m     58\u001b[0m             \u001b[0;32mand\u001b[0m \u001b[0melem_type\u001b[0m\u001b[0;34m.\u001b[0m\u001b[0m__name__\u001b[0m \u001b[0;34m!=\u001b[0m \u001b[0;34m'string_'\u001b[0m\u001b[0;34m:\u001b[0m\u001b[0;34m\u001b[0m\u001b[0;34m\u001b[0m\u001b[0m\n",
      "\u001b[0;31mRuntimeError\u001b[0m: CUDA error: no kernel image is available for execution on the device\nCUDA kernel errors might be asynchronously reported at some other API call,so the stacktrace below might be incorrect.\nFor debugging consider passing CUDA_LAUNCH_BLOCKING=1."
     ]
    }
   ],
   "source": [
    "train_dataset = Data.TensorDataset(trainx, trainy)\n",
    "test_dataset = Data.TensorDataset(testx, testy)\n",
    "batch_size = 512\n",
    "train_loader = Data.DataLoader(\n",
    "    dataset=train_dataset,\n",
    "    batch_size=batch_size,\n",
    "    shuffle=True,\n",
    "    num_workers=0\n",
    ")\n",
    "\n",
    "test_loader = Data.DataLoader(\n",
    "    dataset=test_dataset,\n",
    "    batch_size=batch_size,\n",
    "    shuffle=False,\n",
    "    num_workers=0\n",
    ")\n",
    "\n",
    "alphanet = AlphaNet(feat_num, 30)\n",
    "alphanet = alphanet.cuda()\n",
    "# alphanet = torch.nn.parallel.DataParallel(alphanet)\n",
    "print(alphanet)\n",
    "total_length = trainx.shape[0]\n",
    "LR = 0.0001\n",
    "loss_function = nn.MSELoss()\n",
    "optimizer = optim.RMSprop(alphanet.parameters(), lr=LR, alpha=0.9)\n",
    "epoch_num = 20\n",
    "\n",
    "for epoch in tqdm(range(epoch_num)):\n",
    "    total_loss = 0\n",
    "    for _, (data, label) in enumerate(train_loader):\n",
    "        data = Variable(data).float()\n",
    "        label = Variable(label).float()\n",
    "        pred = alphanet(data)\n",
    "        print(pred.size())\n",
    "        print(\"epoch：\", epoch, \"的第\" \"个inputs\", data.data.size(), \"labels\", label.data.size())\n",
    "        #         label = label.unsqueeze(1)\n",
    "#         loss = loss_function(pred, label)\n",
    "#         loss.backward()\n",
    "#         optimizer.step()\n",
    "#         optimizer.zero_grad()\n",
    "#         total_loss += loss.item()\n",
    "#     total_loss = total_loss * batch_size / total_length\n",
    "#     print('Epoch: ', epoch + 1, ' loss: ', total_loss)\n",
    "\n",
    "pred_list = []\n",
    "label_list = []\n",
    "\n",
    "for _, (data, label) in enumerate(test_loader):\n",
    "    data = Variable(data).float()\n",
    "    pred = alphanet(data)\n",
    "    pred_list.extend(pred.tolist())\n",
    "    label_list.extend(label.tolist())\n",
    "\n",
    "final = pd.concat([test_target, pd.DataFrame(pred_list)], axis=1)\n",
    "alpha_name = 'AlphaNetV1_Original_Input_1208'\n",
    "final.rename(columns={0: alpha_name, 'ticker': 'symbol'}, inplace=True)\n",
    "final = final.reindex(columns=['symbol', 'timestamp', alpha_name,'target'])\n",
    "final.set_index(['symbol', 'timestamp']).to_csv(output_path + \"result/\"+'%s_%s.csv' % (time_start, time_end))"
   ]
  },
  {
   "cell_type": "code",
   "execution_count": 15,
   "id": "eb458d4b",
   "metadata": {
    "ExecuteTime": {
     "end_time": "2021-12-09T06:39:24.989733Z",
     "start_time": "2021-12-09T06:39:24.985112Z"
    }
   },
   "outputs": [
    {
     "data": {
      "text/plain": [
       "1"
      ]
     },
     "execution_count": 15,
     "metadata": {},
     "output_type": "execute_result"
    }
   ],
   "source": [
    "torch.cuda.device_count()"
   ]
  }
 ],
 "metadata": {
  "kernelspec": {
   "display_name": "Python 3 (ipykernel)",
   "language": "python",
   "name": "python3"
  },
  "language_info": {
   "codemirror_mode": {
    "name": "ipython",
    "version": 3
   },
   "file_extension": ".py",
   "mimetype": "text/x-python",
   "name": "python",
   "nbconvert_exporter": "python",
   "pygments_lexer": "ipython3",
   "version": "3.7.9"
  }
 },
 "nbformat": 4,
 "nbformat_minor": 5
}
