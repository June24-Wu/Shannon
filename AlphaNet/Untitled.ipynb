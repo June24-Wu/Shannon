{
 "cells": [
  {
   "cell_type": "code",
   "execution_count": 1,
   "id": "70d59bc4",
   "metadata": {},
   "outputs": [],
   "source": [
    "import pandas as pd\n",
    "import numpy as np"
   ]
  },
  {
   "cell_type": "code",
   "execution_count": 2,
   "id": "8707214f",
   "metadata": {},
   "outputs": [
    {
     "name": "stdout",
     "output_type": "stream",
     "text": [
      "[[[[-0.27873982]\n",
      "   [-0.27873982]]]\n",
      "\n",
      "\n",
      " [[[-0.24735937]\n",
      "   [-0.24735937]]]\n",
      "\n",
      "\n",
      " [[[ 0.71058634]\n",
      "   [ 0.71058634]]]]\n"
     ]
    }
   ],
   "source": [
    "import numpy as np\n",
    "\n",
    "data = np.random.randn(3,1,2,10) # 数据产生\n",
    "mean = data.mean(axis = 3, keepdims=True)\n",
    "mean.shape\n",
    "x1 = data[:,:,[0,1],:]-mean\n",
    "y1 = data[:,:,[1,0],:]-mean  # 矩阵翻转\n",
    "coef = (x1*y1).sum(axis = 3, keepdims=True)/(10-1)\n",
    "print(coef)"
   ]
  },
  {
   "cell_type": "code",
   "execution_count": 25,
   "id": "4f7a4671",
   "metadata": {},
   "outputs": [
    {
     "data": {
      "text/plain": [
       "(3, 1, 2, 1)"
      ]
     },
     "execution_count": 25,
     "metadata": {},
     "output_type": "execute_result"
    }
   ],
   "source": [
    "coef.shape"
   ]
  },
  {
   "cell_type": "code",
   "execution_count": 3,
   "id": "47849fe5",
   "metadata": {},
   "outputs": [
    {
     "name": "stdout",
     "output_type": "stream",
     "text": [
      "[[ 1.78068107 -0.27873982]\n",
      " [-0.27873982  0.56578419]]\n",
      "[[ 1.02571662 -0.24735937]\n",
      " [-0.24735937  0.98954489]]\n",
      "[[1.00555427 0.71058634]\n",
      " [0.71058634 0.86136528]]\n"
     ]
    }
   ],
   "source": [
    "test_data = data[0].reshape(2,10)\n",
    "print(np.cov(test_data))\n",
    "test_data = data[1].reshape(2,10)\n",
    "print(np.cov(test_data))\n",
    "test_data = data[2].reshape(2,10)\n",
    "print(np.cov(test_data))"
   ]
  },
  {
   "cell_type": "code",
   "execution_count": 12,
   "id": "b270e125",
   "metadata": {},
   "outputs": [
    {
     "name": "stdout",
     "output_type": "stream",
     "text": [
      "[[0, 1], [0, 2], [0, 3], [0, 4], [0, 5], [0, 6], [0, 7], [0, 8], [1, 2], [1, 3], [1, 4], [1, 5], [1, 6], [1, 7], [1, 8], [2, 3], [2, 4], [2, 5], [2, 6], [2, 7], [2, 8], [3, 4], [3, 5], [3, 6], [3, 7], [3, 8], [4, 5], [4, 6], [4, 7], [4, 8], [5, 6], [5, 7], [5, 8], [6, 7], [6, 8], [7, 8]] \n",
      " [[1, 0], [2, 0], [3, 0], [4, 0], [5, 0], [6, 0], [7, 0], [8, 0], [2, 1], [3, 1], [4, 1], [5, 1], [6, 1], [7, 1], [8, 1], [3, 2], [4, 2], [5, 2], [6, 2], [7, 2], [8, 2], [4, 3], [5, 3], [6, 3], [7, 3], [8, 3], [5, 4], [6, 4], [7, 4], [8, 4], [6, 5], [7, 5], [8, 5], [7, 6], [8, 6], [8, 7]]\n"
     ]
    }
   ],
   "source": [
    "data=np.random.uniform(10,100,(2000,1,9,30))\n",
    "def generateC(l1):\n",
    "    if len(l1) == 1:\n",
    "        return []\n",
    "    v = [[l1[0],i] for i in l1[1:]]\n",
    "    l1 = l1[1:]\n",
    "    return v+generateC(l1)\n",
    "feat_nums = data.shape[2]\n",
    "feat_nums\n",
    "list1 = list(range(feat_nums))\n",
    "num = generateC(list1)\n",
    "num_rev = []\n",
    "for l in num:\n",
    "    l1 = l.copy()\n",
    "    l1.reverse()\n",
    "    num_rev.append(l1)\n",
    "print(num,'\\n',num_rev)\n",
    "# feat_nums = data.shape[2]\n",
    "# list1 = list(range(feat_nums))  # 4为特征数\n",
    "# num = generateC(list1)\n",
    "# num_rev = [] # 数组反转,PS:不要用[l.reverse() for l in num],因为reverse函数会直接修改原List，不会产生新的结果。\n",
    "# for l in num:\n",
    "#     l1 = l.copy()\n",
    "#     l1.reverse()\n",
    "#     num_rev.append(l1)\n",
    "#  print(num,'\\n',num_rev)"
   ]
  },
  {
   "cell_type": "code",
   "execution_count": 17,
   "id": "8dac26a3",
   "metadata": {},
   "outputs": [
    {
     "ename": "NameError",
     "evalue": "name 'stride' is not defined",
     "output_type": "error",
     "traceback": [
      "\u001b[1;31m---------------------------------------------------------------------------\u001b[0m",
      "\u001b[1;31mNameError\u001b[0m                                 Traceback (most recent call last)",
      "\u001b[1;32m<ipython-input-17-c72f8e19ca40>\u001b[0m in \u001b[0;36m<module>\u001b[1;34m\u001b[0m\n\u001b[1;32m----> 1\u001b[1;33m \u001b[0mstride\u001b[0m\u001b[1;33m\u001b[0m\u001b[1;33m\u001b[0m\u001b[0m\n\u001b[0m",
      "\u001b[1;31mNameError\u001b[0m: name 'stride' is not defined"
     ]
    }
   ],
   "source": []
  },
  {
   "cell_type": "code",
   "execution_count": 25,
   "id": "dfa9b3a4",
   "metadata": {},
   "outputs": [
    {
     "data": {
      "text/plain": [
       "(2000, 1, 36, 2, 10)"
      ]
     },
     "execution_count": 25,
     "metadata": {},
     "output_type": "execute_result"
    }
   ],
   "source": [
    "stride = 10\n",
    "data_length = data.shape[3] # 30\n",
    "feat_num = data.shape[2] # 9\n",
    "conv_feat = len(num) # 组合特征的数量 36\n",
    "if data_length % stride == 0:\n",
    "    step_list = list(range(0,data_length+stride,stride))\n",
    "elif data_length % stride<=5:\n",
    "    mod = data_length % stride\n",
    "    step_list = list(range(0,data_length-stride,stride))+[data_length]\n",
    "else:\n",
    "    mod = data_length % stride\n",
    "    step_list = list(range(0,data_length+stride-mod,stride))+[data_length]\n",
    "l = []\n",
    "#计算的过程中务必保持keepdims=True\n",
    "for i in range(len(step_list)-1):\n",
    "    start = step_list[i]\n",
    "    end = step_list[i+1]\n",
    "    sub_data1 = data[:,:,num,start:end]\n",
    "    sub_data2 = data[:,:,num_rev,start:end]\n",
    "#     mean1 = sub_data1.mean(axis = 4,keepdims = True)\n",
    "#     mean2 = sub_data2.mean(axis = 4,keepdims = True)\n",
    "#     spread1 = sub_data1 - mean1\n",
    "#     spread2 = sub_data2 - mean2\n",
    "#     cov = ((spread1*spread2).sum(axis = 4,keepdims = True)/(sub_data1.shape[4] - 1)).mean(axis = 3,keepdims = True)\n",
    "#     l.append(cov)\n",
    "# conv_feat = len(num)\n",
    "# corr = np.squeeze(np.array(l)).transpose(1,2,0).reshape(-1,1,conv_feat,len(step_list)-1)"
   ]
  },
  {
   "cell_type": "code",
   "execution_count": 27,
   "id": "18a9d06c",
   "metadata": {},
   "outputs": [
    {
     "ename": "ModuleNotFoundError",
     "evalue": "No module named 'pytorch'",
     "output_type": "error",
     "traceback": [
      "\u001b[1;31m---------------------------------------------------------------------------\u001b[0m",
      "\u001b[1;31mModuleNotFoundError\u001b[0m                       Traceback (most recent call last)",
      "\u001b[1;32m<ipython-input-27-d35c46f8d1a2>\u001b[0m in \u001b[0;36m<module>\u001b[1;34m\u001b[0m\n\u001b[1;32m----> 1\u001b[1;33m \u001b[1;32mimport\u001b[0m \u001b[0mpytorch\u001b[0m\u001b[1;33m\u001b[0m\u001b[1;33m\u001b[0m\u001b[0m\n\u001b[0m",
      "\u001b[1;31mModuleNotFoundError\u001b[0m: No module named 'pytorch'"
     ]
    }
   ],
   "source": [
    "import pytorch"
   ]
  }
 ],
 "metadata": {
  "kernelspec": {
   "display_name": "Python 3",
   "language": "python",
   "name": "python3"
  },
  "language_info": {
   "codemirror_mode": {
    "name": "ipython",
    "version": 3
   },
   "file_extension": ".py",
   "mimetype": "text/x-python",
   "name": "python",
   "nbconvert_exporter": "python",
   "pygments_lexer": "ipython3",
   "version": "3.8.8"
  }
 },
 "nbformat": 4,
 "nbformat_minor": 5
}
