{
 "cells": [
  {
   "cell_type": "code",
   "execution_count": 1,
   "id": "aa761e53",
   "metadata": {
    "ExecuteTime": {
     "end_time": "2021-11-24T05:13:34.651547Z",
     "start_time": "2021-11-24T05:13:34.045082Z"
    }
   },
   "outputs": [],
   "source": [
    "import pandas as pd\n",
    "import numpy as np\n",
    "import torch\n",
    "import torch.nn as nn"
   ]
  },
  {
   "cell_type": "code",
   "execution_count": 7,
   "id": "94f9d625",
   "metadata": {
    "ExecuteTime": {
     "end_time": "2021-11-24T05:16:13.467485Z",
     "start_time": "2021-11-24T05:16:13.462499Z"
    }
   },
   "outputs": [],
   "source": [
    "a = np.random.uniform(10,100,(1,2,3))\n",
    "b = np.random.uniform(0,1,(1,2,3))"
   ]
  },
  {
   "cell_type": "code",
   "execution_count": 14,
   "id": "2ceacb50",
   "metadata": {
    "ExecuteTime": {
     "end_time": "2021-11-24T05:18:35.484169Z",
     "start_time": "2021-11-24T05:18:35.479363Z"
    }
   },
   "outputs": [],
   "source": [
    "c = np.array([a,b])\n",
    "c = c.reshape(3,2,2)"
   ]
  },
  {
   "cell_type": "code",
   "execution_count": 26,
   "id": "bb30bea2",
   "metadata": {
    "ExecuteTime": {
     "end_time": "2021-11-24T05:22:26.483548Z",
     "start_time": "2021-11-24T05:22:26.476250Z"
    }
   },
   "outputs": [],
   "source": [
    "c= np.array(\n",
    "        [[[70.49739271, 11.31741861],\n",
    "        [0.68245192, 0.76345192]],\n",
    "\n",
    "       [[61.76578482, 59.31703701],\n",
    "        [ 0.354265192,  0.82355827]],\n",
    "\n",
    "       [[ 32.95965432,  35.81408566],\n",
    "        [ 0.54267866,  0.96221199]]]\n",
    "           )"
   ]
  },
  {
   "cell_type": "code",
   "execution_count": 27,
   "id": "c57d459d",
   "metadata": {
    "ExecuteTime": {
     "end_time": "2021-11-24T05:22:26.777329Z",
     "start_time": "2021-11-24T05:22:26.773370Z"
    }
   },
   "outputs": [],
   "source": [
    "batch = nn.BatchNorm1d(2,affine=True)\n",
    "c = torch.from_numpy(c).to(torch.float)"
   ]
  },
  {
   "cell_type": "code",
   "execution_count": 29,
   "id": "fa713913",
   "metadata": {
    "ExecuteTime": {
     "end_time": "2021-11-24T05:22:37.336873Z",
     "start_time": "2021-11-24T05:22:37.317335Z"
    }
   },
   "outputs": [
    {
     "data": {
      "text/plain": [
       "tensor([[[70.4974, 11.3174],\n",
       "         [ 0.6825,  0.7635]],\n",
       "\n",
       "        [[61.7658, 59.3170],\n",
       "         [ 0.3543,  0.8236]],\n",
       "\n",
       "        [[32.9597, 35.8141],\n",
       "         [ 0.5427,  0.9622]]])"
      ]
     },
     "execution_count": 29,
     "metadata": {},
     "output_type": "execute_result"
    }
   ],
   "source": [
    "c"
   ]
  },
  {
   "cell_type": "code",
   "execution_count": 28,
   "id": "75e8ed60",
   "metadata": {
    "ExecuteTime": {
     "end_time": "2021-11-24T05:22:31.617948Z",
     "start_time": "2021-11-24T05:22:31.606959Z"
    }
   },
   "outputs": [
    {
     "data": {
      "text/plain": [
       "tensor([[[ 1.2356, -1.6639],\n",
       "         [-0.0287,  0.3833]],\n",
       "\n",
       "        [[ 0.8078,  0.6878],\n",
       "         [-1.6983,  0.6891]],\n",
       "\n",
       "        [[-0.6036, -0.4637],\n",
       "         [-0.7398,  1.3944]]], grad_fn=<NativeBatchNormBackward>)"
      ]
     },
     "execution_count": 28,
     "metadata": {},
     "output_type": "execute_result"
    }
   ],
   "source": [
    "batch(c)"
   ]
  }
 ],
 "metadata": {
  "kernelspec": {
   "display_name": "python383",
   "language": "python",
   "name": "python383"
  },
  "language_info": {
   "codemirror_mode": {
    "name": "ipython",
    "version": 3
   },
   "file_extension": ".py",
   "mimetype": "text/x-python",
   "name": "python",
   "nbconvert_exporter": "python",
   "pygments_lexer": "ipython3",
   "version": "3.8.3"
  }
 },
 "nbformat": 4,
 "nbformat_minor": 5
}
