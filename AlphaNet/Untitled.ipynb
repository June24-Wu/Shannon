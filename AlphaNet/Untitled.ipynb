{
 "cells": [
  {
   "cell_type": "code",
   "execution_count": 1,
   "id": "70d59bc4",
   "metadata": {},
   "outputs": [],
   "source": [
    "import pandas as pd\n",
    "import numpy as np"
   ]
  },
  {
   "cell_type": "code",
   "execution_count": 24,
   "id": "8707214f",
   "metadata": {},
   "outputs": [
    {
     "name": "stdout",
     "output_type": "stream",
     "text": [
      "[[[[ 0.3278148 ]\n",
      "   [ 0.3278148 ]]]\n",
      "\n",
      "\n",
      " [[[ 0.03680641]\n",
      "   [ 0.03680641]]]\n",
      "\n",
      "\n",
      " [[[-0.20326324]\n",
      "   [-0.20326324]]]]\n"
     ]
    }
   ],
   "source": [
    "import numpy as np\n",
    "\n",
    "data = np.random.randn(3,1,2,10) # 数据产生\n",
    "mean = data.mean(axis = 3, keepdims=True)\n",
    "mean.shape\n",
    "x1 = data[:,:,[0,1],:]-mean\n",
    "y1 = data[:,:,[1,0],:]-mean  # 矩阵翻转\n",
    "coef = (x1*y1).sum(axis = 3, keepdims=True)/(10-1)\n",
    "print(coef)"
   ]
  },
  {
   "cell_type": "code",
   "execution_count": 25,
   "id": "4f7a4671",
   "metadata": {},
   "outputs": [
    {
     "data": {
      "text/plain": [
       "(3, 1, 2, 1)"
      ]
     },
     "execution_count": 25,
     "metadata": {},
     "output_type": "execute_result"
    }
   ],
   "source": [
    "coef.shape"
   ]
  },
  {
   "cell_type": "code",
   "execution_count": 37,
   "id": "47849fe5",
   "metadata": {},
   "outputs": [
    {
     "name": "stdout",
     "output_type": "stream",
     "text": [
      "[[0.61772345 0.3278148 ]\n",
      " [0.3278148  1.56895142]]\n",
      "[[0.93494175 0.03680641]\n",
      " [0.03680641 0.80959483]]\n",
      "[[ 0.75506948 -0.20326324]\n",
      " [-0.20326324  1.12753887]]\n"
     ]
    }
   ],
   "source": [
    "test_data = data[0].reshape(2,10)\n",
    "print(np.cov(test_data))\n",
    "test_data = data[1].reshape(2,10)\n",
    "print(np.cov(test_data))\n",
    "test_data = data[2].reshape(2,10)\n",
    "print(np.cov(test_data))"
   ]
  }
 ],
 "metadata": {
  "kernelspec": {
   "display_name": "Python 3",
   "language": "python",
   "name": "python3"
  },
  "language_info": {
   "codemirror_mode": {
    "name": "ipython",
    "version": 3
   },
   "file_extension": ".py",
   "mimetype": "text/x-python",
   "name": "python",
   "nbconvert_exporter": "python",
   "pygments_lexer": "ipython3",
   "version": "3.8.8"
  }
 },
 "nbformat": 4,
 "nbformat_minor": 5
}
