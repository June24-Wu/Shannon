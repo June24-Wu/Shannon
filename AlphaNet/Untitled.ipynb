{
 "cells": [
  {
   "cell_type": "code",
   "execution_count": 1,
   "id": "70d59bc4",
   "metadata": {
    "ExecuteTime": {
     "end_time": "2021-11-17T03:19:25.713428Z",
     "start_time": "2021-11-17T03:19:24.941143Z"
    }
   },
   "outputs": [],
   "source": [
    "import pandas as pd\n",
    "import numpy as np\n",
    "import torch"
   ]
  },
  {
   "cell_type": "code",
   "execution_count": 2,
   "id": "8707214f",
   "metadata": {
    "ExecuteTime": {
     "end_time": "2021-11-17T03:19:27.896428Z",
     "start_time": "2021-11-17T03:19:27.885453Z"
    }
   },
   "outputs": [
    {
     "name": "stdout",
     "output_type": "stream",
     "text": [
      "[[[[-0.35371701]\n",
      "   [-0.35371701]]]\n",
      "\n",
      "\n",
      " [[[-0.58516381]\n",
      "   [-0.58516381]]]\n",
      "\n",
      "\n",
      " [[[ 0.05689193]\n",
      "   [ 0.05689193]]]]\n"
     ]
    }
   ],
   "source": [
    "import numpy as np\n",
    "\n",
    "data = np.random.randn(3,1,2,10) # 数据产生\n",
    "mean = data.mean(axis = 3, keepdims=True)\n",
    "mean.shape\n",
    "x1 = data[:,:,[0,1],:]-mean\n",
    "y1 = data[:,:,[1,0],:]-mean  # 矩阵翻转\n",
    "coef = (x1*y1).sum(axis = 3, keepdims=True)/(10-1)\n",
    "print(coef)"
   ]
  },
  {
   "cell_type": "code",
   "execution_count": 6,
   "id": "4f7a4671",
   "metadata": {
    "ExecuteTime": {
     "end_time": "2021-11-17T02:32:20.071139Z",
     "start_time": "2021-11-17T02:32:20.053138Z"
    }
   },
   "outputs": [
    {
     "data": {
      "text/plain": [
       "(3, 1, 2, 1)"
      ]
     },
     "execution_count": 6,
     "metadata": {},
     "output_type": "execute_result"
    }
   ],
   "source": [
    "coef.shape"
   ]
  },
  {
   "cell_type": "code",
   "execution_count": 7,
   "id": "47849fe5",
   "metadata": {
    "ExecuteTime": {
     "end_time": "2021-11-17T02:32:20.536116Z",
     "start_time": "2021-11-17T02:32:20.519041Z"
    }
   },
   "outputs": [
    {
     "name": "stdout",
     "output_type": "stream",
     "text": [
      "[[ 0.37940968 -0.02780285]\n",
      " [-0.02780285  0.58783149]]\n",
      "[[1.05488895 0.27507702]\n",
      " [0.27507702 0.8593024 ]]\n",
      "[[ 1.60858621 -0.06614746]\n",
      " [-0.06614746  1.09033399]]\n"
     ]
    }
   ],
   "source": [
    "test_data = data[0].reshape(2,10)\n",
    "print(np.cov(test_data))\n",
    "test_data = data[1].reshape(2,10)\n",
    "print(np.cov(test_data))\n",
    "test_data = data[2].reshape(2,10)\n",
    "print(np.cov(test_data))"
   ]
  },
  {
   "cell_type": "code",
   "execution_count": 3,
   "id": "b270e125",
   "metadata": {
    "ExecuteTime": {
     "end_time": "2021-11-17T03:19:31.794229Z",
     "start_time": "2021-11-17T03:19:31.565560Z"
    }
   },
   "outputs": [
    {
     "ename": "NameError",
     "evalue": "name 'num' is not defined",
     "output_type": "error",
     "traceback": [
      "\u001b[1;31m---------------------------------------------------------------------------\u001b[0m",
      "\u001b[1;31mNameError\u001b[0m                                 Traceback (most recent call last)",
      "\u001b[1;32m~\\AppData\\Local\\Temp/ipykernel_15068/4006997078.py\u001b[0m in \u001b[0;36m<module>\u001b[1;34m\u001b[0m\n\u001b[0;32m     13\u001b[0m \u001b[1;33m\u001b[0m\u001b[0m\n\u001b[0;32m     14\u001b[0m \u001b[1;33m\u001b[0m\u001b[0m\n\u001b[1;32m---> 15\u001b[1;33m \u001b[0mlen\u001b[0m\u001b[1;33m(\u001b[0m\u001b[0mnum\u001b[0m\u001b[1;33m)\u001b[0m\u001b[1;33m\u001b[0m\u001b[1;33m\u001b[0m\u001b[0m\n\u001b[0m\u001b[0;32m     16\u001b[0m \u001b[1;33m\u001b[0m\u001b[0m\n",
      "\u001b[1;31mNameError\u001b[0m: name 'num' is not defined"
     ]
    }
   ],
   "source": [
    "data=np.random.uniform(10,100,(2000,1,9,30))\n",
    "\n",
    "# feat_nums = data.shape[2]\n",
    "# list1 = list(range(feat_nums))\n",
    "# num = generateC(list1)\n",
    "# num_rev = []\n",
    "# for l in num:\n",
    "#     l1 = l.copy()\n",
    "#     l1.reverse()\n",
    "#     num_rev.append(l1)\n",
    "# print(num,'\\n',num_rev)\n",
    "\n",
    "\n",
    "\n",
    "len(num)\n",
    "    "
   ]
  },
  {
   "cell_type": "code",
   "execution_count": 46,
   "id": "aa5d03ad",
   "metadata": {
    "ExecuteTime": {
     "end_time": "2021-11-17T05:10:14.562217Z",
     "start_time": "2021-11-17T05:10:14.553210Z"
    }
   },
   "outputs": [],
   "source": [
    "class Data:\n",
    "    def __init__(self,data,stride):\n",
    "        self.data = data\n",
    "        self.stride = stride\n",
    "        self.data_length = data.shape[3]\n",
    "        self.feat_num = data.shape[2]\n",
    "        self.num , self.num_rev = self.generate_Num(self.feat_num)\n",
    "        self.conv_feat = len(self.num)\n",
    "        self.step_list = self.get_step_list(self.data_length,self.stride)\n",
    "    def generate_Num(self,feat_nums):\n",
    "        num = []\n",
    "        for i in range(feat_nums-1):\n",
    "            for j in range(i+1,feat_nums):\n",
    "                num.append([i,j])\n",
    "        num_rev = []\n",
    "        for l in num:\n",
    "            l1 = l.copy()\n",
    "            l1.reverse()\n",
    "            num_rev.append(l1)\n",
    "        return num , num_rev\n",
    "    def get_step_list(self,data_length,stride):\n",
    "        if data_length % stride == 0:\n",
    "            step_list = list(range(0,data_length+stride,stride))\n",
    "        elif data_length % stride<=5:\n",
    "            mod = data_length % stride\n",
    "            step_list = list(range(0,data_length-stride,stride))+[data_length]\n",
    "        else:\n",
    "            mod = data_length % stride\n",
    "            step_list = list(range(0,data_length+stride-mod,stride))+[data_length]\n",
    "        return step_list\n",
    "one = Data(data,10)"
   ]
  },
  {
   "cell_type": "code",
   "execution_count": 17,
   "id": "dfa9b3a4",
   "metadata": {
    "ExecuteTime": {
     "end_time": "2021-11-17T03:26:57.530729Z",
     "start_time": "2021-11-17T03:26:57.517764Z"
    }
   },
   "outputs": [],
   "source": [
    "stride = 10\n",
    "\n",
    "# 为了cov 和 corr提取并行计算产生计算列表\n",
    "def generateC(l1):\n",
    "    if len(l1) == 1:\n",
    "        return []\n",
    "    v = [[l1[0],i] for i in l1[1:]]\n",
    "    l1 = l1[1:]\n",
    "    return v+generateC(l1)\n",
    "def generate_Num_and_ReversedNum(feat_nums):\n",
    "    list1 = list(range(feat_nums))\n",
    "    num = generateC(list1)\n",
    "    num_rev = []\n",
    "    for l in num:\n",
    "        l1 = l.copy()\n",
    "        l1.reverse()\n",
    "        num_rev.append(l1)\n",
    "    return num , num_rev\n",
    "def data_info(data,stride):\n",
    "    if len(data.shape)!=4:\n",
    "        raise Exception('Input data dimensions should be [N,C,H,W]')\n",
    "    data_length = data.shape[3] # 30\n",
    "    feat_num = data.shape[2] # 9\n",
    "    \"\"\"num:组合数对列表,num_rev:num的翻转列表\"\"\"\n",
    "    num , num_rev = generate_Num_and_ReversedNum(feat_num)\n",
    "    conv_feat = len(num)\n",
    "    # 构建步长列表，如果数据长度不能整除，则取剩下长度，如果剩下长度小于5，则与上一步结合一起\n",
    "    if data_length % stride == 0:\n",
    "        step_list = list(range(0,data_length+stride,stride))\n",
    "    elif data_length % stride<=5:\n",
    "        mod = data_length % stride\n",
    "        step_list = list(range(0,data_length-stride,stride))+[data_length]\n",
    "    else:\n",
    "        mod = data_length % stride\n",
    "        step_list = list(range(0,data_length+stride-mod,stride))+[data_length]\n",
    "    return data_length,feat_num,conv_feat,num,num_rev,step_list\n",
    "def ts_cov4d(data,stride):\n",
    "    '''计算4维数据的协方差'''\n",
    "    '''data:[N,C,H,W],,W:price length,N:batch size'''\n",
    "    if len(data.shape)!=4:\n",
    "        raise Exception('Input data dimensions should be [N,C,H,W]')\n",
    "    data_length , feat_num , conv_feat, num , num_rev,step_list= data_info(data,stride)\n",
    "    l = []\n",
    "    #计算的过程中务必保持keepdims=True\n",
    "    for i in range(len(step_list)-1):\n",
    "        start = step_list[i]\n",
    "        end = step_list[i+1]\n",
    "        sub_data1 = data[:,:,num,start:end] # (2000, 1, 36, 2, 10)\n",
    "        sub_data2 = data[:,:,num_rev,start:end]\n",
    "        mean1 = sub_data1.mean(axis = 4,keepdims = True) # (2000, 1, 36, 2, 1)\n",
    "        mean2 = sub_data2.mean(axis = 4,keepdims = True)\n",
    "        spread1 = sub_data1 - mean1 # (2000, 1, 36, 2, 10)\n",
    "        spread2 = sub_data2 - mean2\n",
    "        cov = ((spread1*spread2).sum(axis = 4,keepdims = True)/(sub_data1.shape[4] - 1)).mean(axis = 3,keepdims = True) # (2000, 1, 36, 1, 1)\n",
    "        l.append(cov)\n",
    "    corr = np.squeeze(np.array(l)).transpose(1,2,0).reshape(-1,1,conv_feat,len(step_list)-1) # (2000, 1, 36, 3)\n",
    "    return torch.from_numpy(corr)\n",
    "def ts_corr4d(data,stride):\n",
    "    '''计算4维数据的相关系数'''\n",
    "    '''data:[N,C,H,W],,W:price length,N:batch size'''\n",
    "    if len(data.shape)!=4:\n",
    "        raise Exception('Input data dimensions should be [N,C,H,W]')\n",
    "    data_length , feat_num , conv_feat, num , num_rev,step_list= data_info(data,stride)\n",
    "    l = []\n",
    "    for i in range(len(step_list)-1):\n",
    "        start = step_list[i]\n",
    "        end = step_list[i+1]\n",
    "        sub_data1 = data[:,:,num,start:end]\n",
    "        sub_data2 = data[:,:,num_rev,start:end]\n",
    "        std1 = sub_data1.std(axis = 4,keepdims = True)\n",
    "        std2 = sub_data2.std(axis = 4,keepdims = True)\n",
    "        std = (std1*std2).mean(axis = 3,keepdims = True)\n",
    "        l.append(std)\n",
    "    std = np.squeeze(np.array(l)).transpose(1,2,0).reshape(-1,1,conv_feat,len(step_list)-1)\n",
    "    cov = ts_cov4d(data,stride)\n",
    "    fct = (sub_data1.shape[4]-1)/sub_data1.shape[4]\n",
    "    return (cov/torch.from_numpy(std))*fct\n",
    "\n",
    "def ts_stddev4d(data,stride):\n",
    "    if len(data.shape)!=4:\n",
    "        raise Exception('Input data dimensions should be [N,C,H,W]')\n",
    "    data_length , feat_num , conv_feat, num , num_rev,step_list= data_info(data,stride)\n",
    "    l = []\n",
    "    for i in range(len(step_list)-1):\n",
    "        start = step_list[i]\n",
    "        end = step_list[i+1]\n",
    "        sub_data1 = data[:,:,:,start:end]\n",
    "        std1 = sub_data1.std(axis = 3,keepdims = True)\n",
    "        l.append(std1)\n",
    "    std = np.squeeze(np.array(l)).transpose(1,2,0).reshape(-1,1,feat_num,len(step_list)-1)\n",
    "    return torch.from_numpy(std)\n",
    "def ts_zscore(data,stride):\n",
    "    if len(data.shape)!=4:\n",
    "        raise Exception('Input data dimensions should be [N,C,H,W]')\n",
    "    data_length , feat_num , conv_feat, num , num_rev,step_list= data_info(data,stride)\n",
    "    l = []\n",
    "    for i in range(len(step_list)-1):\n",
    "        start = step_list[i]\n",
    "        end = step_list[i+1]\n",
    "        sub_data1 = data[:,:,:,start:end]\n",
    "        mean = sub_data1.mean(axis = 3,keepdims = True)\n",
    "        std = sub_data1.std(axis = 3,keepdims = True)\n",
    "        z_score = mean/std\n",
    "        l.append(z_score)\n",
    "    z_score = np.squeeze(np.array(l)).transpose(1,2,0).reshape(-1,1,feat_num,len(step_list)-1)\n",
    "    return torch.from_numpy(z_score)\n",
    "def ts_return(data,stride):\n",
    "    if len(data.shape)!=4:\n",
    "        raise Exception('Input data dimensions should be [N,C,H,W]')\n",
    "    data_length , feat_num , conv_feat, num , num_rev,step_list= data_info(data,stride)\n",
    "    l = []\n",
    "    for i in range(len(step_list)-1):\n",
    "        start = step_list[i]\n",
    "        end = step_list[i+1]\n",
    "        sub_data1 = data[:,:,:,start:end]\n",
    "        ret = sub_data1[:,:,:,-1]/sub_data1[:,:,:,0] - 1\n",
    "        l.append(ret)\n",
    "    z_data = np.squeeze(np.array(l)).transpose(1,2,0).reshape(-1,1,feat_num,len(step_list)-1)\n",
    "    return torch.from_numpy(z_data)\n",
    "\n",
    "def ts_decaylinear(data,stride):\n",
    "    if len(data.shape)!=4:\n",
    "        raise Exception('Input data dimensions should be [N,C,H,W]')\n",
    "    data_length , feat_num , conv_feat, num , num_rev,step_list= data_info(data,stride)\n",
    "    l = []\n",
    "    for i in range(len(step_list)-1):\n",
    "        start = step_list[i]\n",
    "        end = step_list[i+1]\n",
    "        time_spread = end - start\n",
    "        weight = np.arange(1,time_spread+1)\n",
    "        weight = weight/(weight.sum())\n",
    "        sub_data1 = (data[:,:,:,start:end]*weight).sum(axis = 3,keepdims = True)\n",
    "        l.append(sub_data1)\n",
    "    decay_data = np.squeeze(np.array(l)).transpose(1,2,0).reshape(-1,1,feat_num,len(step_list)-1)\n",
    "    return torch.from_numpy(decay_data)\n",
    "def ts_pool(data,stride,method):\n",
    "    if type(data) == torch.Tensor:\n",
    "        data = data.detach().numpy()\n",
    "    if data.shape[-1] <= stride:\n",
    "        step_list = [0,data.shape[-1]]\n",
    "    if len(data.shape)!=4:\n",
    "        raise Exception('Input data dimensions should be [N,C,H,W]')\n",
    "    data_length = data.shape[3]\n",
    "    feat_num = data.shape[2]\n",
    "    conv_feat = len(num)\n",
    "    if data_length % stride == 0:\n",
    "        step_list = list(range(0,data_length+stride,stride))\n",
    "    elif data_length % stride<=5:\n",
    "        mod = data_length % stride\n",
    "        step_list = list(range(0,data_length-stride,stride))+[data_length]\n",
    "    else:\n",
    "        mod = data_length % stride\n",
    "        step_list = list(range(0,data_length+stride-mod,stride))+[data_length]\n",
    "    global l\n",
    "    l = []\n",
    "    for i in range(len(step_list)-1):\n",
    "        start = step_list[i]\n",
    "        end = step_list[i+1]\n",
    "        if method == 'max':\n",
    "            sub_data1 = data[:,:,:,start:end].max(axis = 3,keepdims = True)\n",
    "        if method == 'min':\n",
    "            sub_data1 = data[:,:,:,start:end].min(axis = 3,keepdims = True)\n",
    "        if method == 'mean':\n",
    "            sub_data1 = data[:,:,:,start:end].mean(axis = 3,keepdims = True)\n",
    "        l.append(sub_data1)\n",
    "    try:\n",
    "        pool_data = np.squeeze(np.array(l)).transpose(1,2,0).reshape(-1,1,feat_num,len(step_list) - 1)\n",
    "    except:\n",
    "        pool_data = np.squeeze(np.array(l)).reshape(-1,1,feat_num,len(step_list) - 1)\n",
    "    return torch.from_numpy(pool_data)"
   ]
  },
  {
   "cell_type": "code",
   "execution_count": 23,
   "id": "ba63c671",
   "metadata": {
    "ExecuteTime": {
     "end_time": "2021-11-17T03:27:03.853454Z",
     "start_time": "2021-11-17T03:27:03.707845Z"
    }
   },
   "outputs": [
    {
     "data": {
      "text/plain": [
       "torch.Size([2000, 1, 36, 3])"
      ]
     },
     "execution_count": 23,
     "metadata": {},
     "output_type": "execute_result"
    }
   ],
   "source": [
    "cov = ts_corr4d(data,10)\n",
    "cov.shape"
   ]
  },
  {
   "cell_type": "code",
   "execution_count": 29,
   "id": "18a9d06c",
   "metadata": {
    "ExecuteTime": {
     "end_time": "2021-11-17T02:44:19.801521Z",
     "start_time": "2021-11-17T02:44:19.653915Z"
    }
   },
   "outputs": [
    {
     "name": "stdout",
     "output_type": "stream",
     "text": [
      "torch.Size([2000, 1, 36, 3])\n"
     ]
    }
   ],
   "source": [
    "data = np.random.uniform(10,100,(2000,1,9,30))#随机产生2000只股票的数据图片\n",
    "ts_cov = ts_corr4d(data,num,num_rev,10)\n",
    "print(ts_cov.shape)"
   ]
  }
 ],
 "metadata": {
  "kernelspec": {
   "display_name": "python383",
   "language": "python",
   "name": "python383"
  },
  "language_info": {
   "codemirror_mode": {
    "name": "ipython",
    "version": 3
   },
   "file_extension": ".py",
   "mimetype": "text/x-python",
   "name": "python",
   "nbconvert_exporter": "python",
   "pygments_lexer": "ipython3",
   "version": "3.8.3"
  }
 },
 "nbformat": 4,
 "nbformat_minor": 5
}
