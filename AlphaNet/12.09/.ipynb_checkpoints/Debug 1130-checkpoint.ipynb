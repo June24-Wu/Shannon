{
 "cells": [
  {
   "cell_type": "code",
   "execution_count": 1,
   "id": "2a742adb",
   "metadata": {
    "ExecuteTime": {
     "end_time": "2021-12-09T02:31:59.675675Z",
     "start_time": "2021-12-09T02:31:59.661075Z"
    }
   },
   "outputs": [],
   "source": [
    "alpha_name = \"AlphaNetV1_Original_Input_1208\"\n",
    "path = \"/home/wuwenjun/Alpha_Factor/\" + alpha_name\n",
    "output_path = r'/home/wuwenjun/factor_lib/ti0/wuwenjun'"
   ]
  },
  {
   "cell_type": "code",
   "execution_count": 5,
   "id": "2ba1529f",
   "metadata": {
    "ExecuteTime": {
     "end_time": "2021-12-09T02:32:45.593384Z",
     "start_time": "2021-12-09T02:32:44.537269Z"
    }
   },
   "outputs": [],
   "source": [
    "import time\n",
    "from Research.backtest.bt import BTDaily\n",
    "from Research.feature.ft import FeatureAnalysis\n",
    "import Research.utils.namespace as namespace\n",
    "import Research.utils.normalization as norm\n",
    "from Platform.database.mysql import MysqlAPI\n",
    "from Platform.utils.persistence import convert_to_standard_daily_feature_csv, convert_to_standard_daily_feature_par\n",
    "from Platform.config.mysql_info import FACTOR_LIB_MYSQL_TIO\n",
    "from os import walk\n",
    "import pandas as pd\n",
    "import numpy as np\n",
    "import torch\n",
    "import torch.nn as nn\n",
    "from progressbar import ProgressBar\n",
    "from tqdm import tqdm"
   ]
  },
  {
   "cell_type": "code",
   "execution_count": 6,
   "id": "6d60537c",
   "metadata": {
    "ExecuteTime": {
     "end_time": "2021-12-09T02:32:51.313156Z",
     "start_time": "2021-12-09T02:32:47.720774Z"
    }
   },
   "outputs": [
    {
     "data": {
      "text/html": [
       "<div>\n",
       "<style scoped>\n",
       "    .dataframe tbody tr th:only-of-type {\n",
       "        vertical-align: middle;\n",
       "    }\n",
       "\n",
       "    .dataframe tbody tr th {\n",
       "        vertical-align: top;\n",
       "    }\n",
       "\n",
       "    .dataframe thead th {\n",
       "        text-align: right;\n",
       "    }\n",
       "</style>\n",
       "<table border=\"1\" class=\"dataframe\">\n",
       "  <thead>\n",
       "    <tr style=\"text-align: right;\">\n",
       "      <th></th>\n",
       "      <th>symbol</th>\n",
       "      <th>timestamp</th>\n",
       "      <th>AlphaNetV1_Original_Input_1208</th>\n",
       "    </tr>\n",
       "  </thead>\n",
       "  <tbody>\n",
       "    <tr>\n",
       "      <th>0</th>\n",
       "      <td>1</td>\n",
       "      <td>2019-01-02 09:30:00</td>\n",
       "      <td>0.001571</td>\n",
       "    </tr>\n",
       "    <tr>\n",
       "      <th>1</th>\n",
       "      <td>1</td>\n",
       "      <td>2019-01-03 09:30:00</td>\n",
       "      <td>0.060317</td>\n",
       "    </tr>\n",
       "    <tr>\n",
       "      <th>2</th>\n",
       "      <td>1</td>\n",
       "      <td>2019-01-04 09:30:00</td>\n",
       "      <td>0.174096</td>\n",
       "    </tr>\n",
       "    <tr>\n",
       "      <th>3</th>\n",
       "      <td>1</td>\n",
       "      <td>2019-01-07 09:30:00</td>\n",
       "      <td>0.301100</td>\n",
       "    </tr>\n",
       "    <tr>\n",
       "      <th>4</th>\n",
       "      <td>1</td>\n",
       "      <td>2019-01-08 09:30:00</td>\n",
       "      <td>0.143749</td>\n",
       "    </tr>\n",
       "    <tr>\n",
       "      <th>...</th>\n",
       "      <td>...</td>\n",
       "      <td>...</td>\n",
       "      <td>...</td>\n",
       "    </tr>\n",
       "    <tr>\n",
       "      <th>405732</th>\n",
       "      <td>2947</td>\n",
       "      <td>2019-06-26 09:30:00</td>\n",
       "      <td>-0.172733</td>\n",
       "    </tr>\n",
       "    <tr>\n",
       "      <th>405733</th>\n",
       "      <td>2947</td>\n",
       "      <td>2019-06-27 09:30:00</td>\n",
       "      <td>-0.034923</td>\n",
       "    </tr>\n",
       "    <tr>\n",
       "      <th>405734</th>\n",
       "      <td>2947</td>\n",
       "      <td>2019-06-28 09:30:00</td>\n",
       "      <td>-0.060424</td>\n",
       "    </tr>\n",
       "    <tr>\n",
       "      <th>405735</th>\n",
       "      <td>601865</td>\n",
       "      <td>2019-06-27 09:30:00</td>\n",
       "      <td>-0.048363</td>\n",
       "    </tr>\n",
       "    <tr>\n",
       "      <th>405736</th>\n",
       "      <td>601865</td>\n",
       "      <td>2019-06-28 09:30:00</td>\n",
       "      <td>-0.019299</td>\n",
       "    </tr>\n",
       "  </tbody>\n",
       "</table>\n",
       "<p>405737 rows × 3 columns</p>\n",
       "</div>"
      ],
      "text/plain": [
       "        symbol           timestamp  AlphaNetV1_Original_Input_1208\n",
       "0            1 2019-01-02 09:30:00                        0.001571\n",
       "1            1 2019-01-03 09:30:00                        0.060317\n",
       "2            1 2019-01-04 09:30:00                        0.174096\n",
       "3            1 2019-01-07 09:30:00                        0.301100\n",
       "4            1 2019-01-08 09:30:00                        0.143749\n",
       "...        ...                 ...                             ...\n",
       "405732    2947 2019-06-26 09:30:00                       -0.172733\n",
       "405733    2947 2019-06-27 09:30:00                       -0.034923\n",
       "405734    2947 2019-06-28 09:30:00                       -0.060424\n",
       "405735  601865 2019-06-27 09:30:00                       -0.048363\n",
       "405736  601865 2019-06-28 09:30:00                       -0.019299\n",
       "\n",
       "[405737 rows x 3 columns]"
      ]
     },
     "metadata": {},
     "output_type": "display_data"
    }
   ],
   "source": [
    "df = pd.read_csv(\"/home/wuwenjun/Alpha_Factor/AlphaNetV1_Original_Input_1208/result/20190101_20190630.csv\")\n",
    "df['timestamp'] = pd.to_datetime(df['timestamp'].astype(str))\n",
    "df.rename(columns = {\"AlphaNet\":alpha_name},inplace=True)\n",
    "display(df)\n",
    "convert_to_standard_daily_feature_csv(alpha_name, df, output_path)"
   ]
  },
  {
   "cell_type": "code",
   "execution_count": 8,
   "id": "45119616",
   "metadata": {
    "ExecuteTime": {
     "end_time": "2021-12-09T02:34:46.943379Z",
     "start_time": "2021-12-09T02:34:46.103877Z"
    }
   },
   "outputs": [
    {
     "data": {
      "text/html": [
       "<div>\n",
       "<style scoped>\n",
       "    .dataframe tbody tr th:only-of-type {\n",
       "        vertical-align: middle;\n",
       "    }\n",
       "\n",
       "    .dataframe tbody tr th {\n",
       "        vertical-align: top;\n",
       "    }\n",
       "\n",
       "    .dataframe thead th {\n",
       "        text-align: right;\n",
       "    }\n",
       "</style>\n",
       "<table border=\"1\" class=\"dataframe\">\n",
       "  <thead>\n",
       "    <tr style=\"text-align: right;\">\n",
       "      <th></th>\n",
       "      <th>timestamp</th>\n",
       "      <th>ticker</th>\n",
       "      <th>target</th>\n",
       "    </tr>\n",
       "  </thead>\n",
       "  <tbody>\n",
       "    <tr>\n",
       "      <th>945</th>\n",
       "      <td>2019-01-02 09:30:00</td>\n",
       "      <td>1</td>\n",
       "      <td>0.037274</td>\n",
       "    </tr>\n",
       "    <tr>\n",
       "      <th>946</th>\n",
       "      <td>2019-01-03 09:30:00</td>\n",
       "      <td>1</td>\n",
       "      <td>0.075163</td>\n",
       "    </tr>\n",
       "    <tr>\n",
       "      <th>947</th>\n",
       "      <td>2019-01-04 09:30:00</td>\n",
       "      <td>1</td>\n",
       "      <td>0.094156</td>\n",
       "    </tr>\n",
       "    <tr>\n",
       "      <th>948</th>\n",
       "      <td>2019-01-07 09:30:00</td>\n",
       "      <td>1</td>\n",
       "      <td>0.038618</td>\n",
       "    </tr>\n",
       "    <tr>\n",
       "      <th>949</th>\n",
       "      <td>2019-01-08 09:30:00</td>\n",
       "      <td>1</td>\n",
       "      <td>0.039054</td>\n",
       "    </tr>\n",
       "    <tr>\n",
       "      <th>...</th>\n",
       "      <td>...</td>\n",
       "      <td>...</td>\n",
       "      <td>...</td>\n",
       "    </tr>\n",
       "    <tr>\n",
       "      <th>4606885</th>\n",
       "      <td>2019-06-26 09:30:00</td>\n",
       "      <td>2947</td>\n",
       "      <td>0.127581</td>\n",
       "    </tr>\n",
       "    <tr>\n",
       "      <th>4606886</th>\n",
       "      <td>2019-06-27 09:30:00</td>\n",
       "      <td>2947</td>\n",
       "      <td>0.001206</td>\n",
       "    </tr>\n",
       "    <tr>\n",
       "      <th>4606887</th>\n",
       "      <td>2019-06-28 09:30:00</td>\n",
       "      <td>2947</td>\n",
       "      <td>-0.023740</td>\n",
       "    </tr>\n",
       "    <tr>\n",
       "      <th>4607376</th>\n",
       "      <td>2019-06-27 09:30:00</td>\n",
       "      <td>601865</td>\n",
       "      <td>0.014549</td>\n",
       "    </tr>\n",
       "    <tr>\n",
       "      <th>4607377</th>\n",
       "      <td>2019-06-28 09:30:00</td>\n",
       "      <td>601865</td>\n",
       "      <td>0.056751</td>\n",
       "    </tr>\n",
       "  </tbody>\n",
       "</table>\n",
       "<p>405737 rows × 3 columns</p>\n",
       "</div>"
      ],
      "text/plain": [
       "                  timestamp  ticker    target\n",
       "945     2019-01-02 09:30:00       1  0.037274\n",
       "946     2019-01-03 09:30:00       1  0.075163\n",
       "947     2019-01-04 09:30:00       1  0.094156\n",
       "948     2019-01-07 09:30:00       1  0.038618\n",
       "949     2019-01-08 09:30:00       1  0.039054\n",
       "...                     ...     ...       ...\n",
       "4606885 2019-06-26 09:30:00    2947  0.127581\n",
       "4606886 2019-06-27 09:30:00    2947  0.001206\n",
       "4606887 2019-06-28 09:30:00    2947 -0.023740\n",
       "4607376 2019-06-27 09:30:00  601865  0.014549\n",
       "4607377 2019-06-28 09:30:00  601865  0.056751\n",
       "\n",
       "[405737 rows x 3 columns]"
      ]
     },
     "execution_count": 8,
     "metadata": {},
     "output_type": "execute_result"
    }
   ],
   "source": [
    "data = pd.read_parquet(\"/home/wuwenjun/Data/AlphaNet_Original_Input/2018-12-31_2019-06-30.par\")\n",
    "data = data[['timestamp','ticker','target']]\n",
    "data"
   ]
  },
  {
   "cell_type": "code",
   "execution_count": 10,
   "id": "7335a0e5",
   "metadata": {
    "ExecuteTime": {
     "end_time": "2021-12-09T02:35:58.527311Z",
     "start_time": "2021-12-09T02:35:58.474618Z"
    }
   },
   "outputs": [],
   "source": [
    "data.set_index([\"timestamp\",\"symbol\"],inplace=True)\n",
    "df.set_index([\"timestamp\",\"symbol\"],inplace=True)"
   ]
  },
  {
   "cell_type": "code",
   "execution_count": 37,
   "id": "bb422718",
   "metadata": {
    "ExecuteTime": {
     "end_time": "2021-12-09T02:22:30.905524Z",
     "start_time": "2021-12-09T02:22:02.423396Z"
    }
   },
   "outputs": [
    {
     "name": "stdout",
     "output_type": "stream",
     "text": [
      "Loading the configuration from /home/ShareFolder/lgc/Modules/Research/config/feature_bt_template\n"
     ]
    },
    {
     "name": "stderr",
     "output_type": "stream",
     "text": [
      "\r",
      "  0%|                                                                                                                         | 0/118 [00:00<?, ?it/s]"
     ]
    },
    {
     "name": "stdout",
     "output_type": "stream",
     "text": [
      "['AlphaNetV1_Original_Input_1208']\n"
     ]
    },
    {
     "name": "stderr",
     "output_type": "stream",
     "text": [
      "Loading Feature...: 100%|███████████████████████████████████████████████████████████████████████████████████████████| 118/118 [00:01<00:00, 75.25it/s]\n",
      "Loading target...: 100%|████████████████████████████████████████████████████████████████████████████████████████████| 118/118 [00:01<00:00, 88.09it/s]\n",
      "Merging feature and return...: 100%|████████████████████████████████████████████████████████████████████████████████| 118/118 [00:01<00:00, 62.10it/s]\n",
      "Calculating IC value...: 100%|██████████████████████████████████████████████████████████████████████████████████████| 118/118 [00:02<00:00, 49.90it/s]\n",
      "Calculating IC value...: 100%|█████████████████████████████████████████████████████████████████████████████████████| 118/118 [00:01<00:00, 111.24it/s]\n",
      "Getting BT result for date: 20190628...: 100%|██████████████████████████████████████████████████████████████████████| 118/118 [00:06<00:00, 19.00it/s]"
     ]
    },
    {
     "name": "stdout",
     "output_type": "stream",
     "text": [
      "\n",
      "AlphaNetV1_Original_Input_1208 back-test result for long-short mode:\n",
      "\n",
      "Back test summary: \"long-short\" mode\n",
      "+-------------------+-------------+----------+-----------+------------+----------+-------------+--------------------------+-------------------+------------+\n",
      "|      period       |  stock_num  |  return  |  ret_std  |  ret_year  |  sharpe  |  win_ratio  |      max_dd|period       |  max_dd_day|date  |  turnover  |\n",
      "+===================+=============+==========+===========+============+==========+=============+==========================+===================+============+\n",
      "| 20190102-20190628 |     427     |  -23.13  |   43.13   |   -41.56   |  -1.53   |    45.30    | 41.06(20190131-20190403) |  6.77(20190225)   |   97.52    |\n",
      "+-------------------+-------------+----------+-----------+------------+----------+-------------+--------------------------+-------------------+------------+\n"
     ]
    },
    {
     "name": "stderr",
     "output_type": "stream",
     "text": [
      "\n"
     ]
    }
   ],
   "source": [
    "import time\n",
    "from Research.backtest.bt import BTDaily\n",
    "from Research.feature.ft import FeatureAnalysis\n",
    "import Research.utils.namespace as namespace\n",
    "import Research.utils.normalization as norm\n",
    "import numpy as np\n",
    "   \n",
    "config_path = r'/home/ShareFolder/lgc/Modules/Research/config/feature_bt_template'\n",
    "print('Loading the configuration from ' + config_path)\n",
    "configs = namespace.load_namespace(config_path)\n",
    "FT = FeatureAnalysis(configs, feature_path=r\"/home/wuwenjun/factor_lib\")\n",
    "alpha_list = list(FT.features_in_path.keys())[-1:]\n",
    "print(alpha_list)\n",
    "start_date = '2019-01-01'\n",
    "end_date = '2019-06-30'\n",
    "FT.load_feature_from_file(alpha_list, start_date, end_date, universe='Investable',\n",
    "                                       timedelta=None, transformer=norm.standard_scale)\n",
    "FT.load_return_data()\n",
    "\n",
    "for alpha_name in alpha_list:\n",
    "    FT.get_intersection_ic(feature_name=alpha_name, truncate_fold=None, method='spearman',\n",
    "                                     period=('1d', '3d', '5d'))\n",
    "    ic_flag, trading_direction = FT.test_ic(alpha_name, verbose=False)\n",
    "#     df, df_all = FT.get_ic_summary_by_month(num=6)\n",
    "\n",
    "    if trading_direction == -1:\n",
    "        negative = True\n",
    "    else:\n",
    "        negative = False\n",
    "    FT.get_top_return(alpha_name, negative=negative, trade_type='long-short', transmission_rate=0.0,\n",
    "                            tax_rate=0.0005, verbose=True)"
   ]
  }
 ],
 "metadata": {
  "kernelspec": {
   "display_name": "Python 3 (ipykernel)",
   "language": "python",
   "name": "python3"
  },
  "language_info": {
   "codemirror_mode": {
    "name": "ipython",
    "version": 3
   },
   "file_extension": ".py",
   "mimetype": "text/x-python",
   "name": "python",
   "nbconvert_exporter": "python",
   "pygments_lexer": "ipython3",
   "version": "3.7.9"
  }
 },
 "nbformat": 4,
 "nbformat_minor": 5
}
