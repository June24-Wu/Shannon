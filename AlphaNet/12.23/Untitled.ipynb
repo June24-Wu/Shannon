{
 "cells": [
  {
   "cell_type": "code",
   "execution_count": 1,
   "id": "f1bf4040",
   "metadata": {
    "ExecuteTime": {
     "end_time": "2021-12-23T02:15:12.904241Z",
     "start_time": "2021-12-23T02:15:11.865818Z"
    }
   },
   "outputs": [],
   "source": [
    "import torch"
   ]
  },
  {
   "cell_type": "code",
   "execution_count": 2,
   "id": "da560ce6",
   "metadata": {
    "ExecuteTime": {
     "end_time": "2021-12-23T02:15:12.934137Z",
     "start_time": "2021-12-23T02:15:12.906424Z"
    }
   },
   "outputs": [
    {
     "data": {
      "text/plain": [
       "'A100-PCIE-40GB'"
      ]
     },
     "execution_count": 2,
     "metadata": {},
     "output_type": "execute_result"
    }
   ],
   "source": [
    "torch.cuda.is_available()\n",
    "torch.cuda.device_count()\n",
    "torch.cuda.get_device_name(0)"
   ]
  },
  {
   "cell_type": "code",
   "execution_count": 4,
   "id": "5d972462",
   "metadata": {
    "ExecuteTime": {
     "end_time": "2021-12-23T02:15:25.015072Z",
     "start_time": "2021-12-23T02:15:25.001877Z"
    }
   },
   "outputs": [
    {
     "data": {
      "text/plain": [
       "tensor([0.], device='cuda:0')"
      ]
     },
     "execution_count": 4,
     "metadata": {},
     "output_type": "execute_result"
    }
   ],
   "source": [
    "torch.zeros(1).cuda()"
   ]
  }
 ],
 "metadata": {
  "kernelspec": {
   "display_name": "Python 3 (ipykernel)",
   "language": "python",
   "name": "python3"
  },
  "language_info": {
   "codemirror_mode": {
    "name": "ipython",
    "version": 3
   },
   "file_extension": ".py",
   "mimetype": "text/x-python",
   "name": "python",
   "nbconvert_exporter": "python",
   "pygments_lexer": "ipython3",
   "version": "3.7.9"
  }
 },
 "nbformat": 4,
 "nbformat_minor": 5
}
