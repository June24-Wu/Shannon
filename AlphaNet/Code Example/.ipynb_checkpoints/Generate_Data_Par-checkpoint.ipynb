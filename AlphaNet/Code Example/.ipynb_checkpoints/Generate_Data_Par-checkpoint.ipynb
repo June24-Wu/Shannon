{
 "cells": [
  {
   "cell_type": "code",
   "execution_count": 1,
   "id": "4831d6ff",
   "metadata": {
    "ExecuteTime": {
     "end_time": "2022-01-10T03:27:53.052388Z",
     "start_time": "2022-01-10T03:27:50.980019Z"
    }
   },
   "outputs": [
    {
     "name": "stdout",
     "output_type": "stream",
     "text": [
      "Loading the configuration from /home/ShareFolder/lgc/Modules/Research/config/feature_bt_template\n"
     ]
    }
   ],
   "source": [
    "import time\n",
    "import os\n",
    "from Research.backtest.bt import BTDaily\n",
    "from Research.feature.ft import FeatureAnalysis\n",
    "import Research.utils.namespace as namespace\n",
    "import Research.utils.normalization as norm\n",
    "from Platform.database.mysql import MysqlAPI\n",
    "from Platform.utils.persistence import convert_to_standard_daily_feature_csv, convert_to_standard_daily_feature_par\n",
    "from Platform.config.mysql_info import FACTOR_LIB_MYSQL_TIO\n",
    "import DataAPI\n",
    "from os import walk\n",
    "import pandas as pd\n",
    "import numpy as np\n",
    "import torch\n",
    "import torch.nn as nn\n",
    "from progressbar import ProgressBar\n",
    "from tqdm import tqdm\n",
    "import multiprocessing as mp\n",
    "import sys\n",
    "sys.path.append(\"/home/wuwenjun/jupyter_code/Shannon/AlphaNet/packages/\")\n",
    "\n",
    "config_path = r'/home/ShareFolder/lgc/Modules/Research/config/feature_bt_template'\n",
    "print('Loading the configuration from ' + config_path)\n",
    "configs = namespace.load_namespace(config_path)\n",
    "FT = FeatureAnalysis(configs, feature_path=r\"/home/ShareFolder/feature_platform\")\n",
    "alpha_list = list(FT.features_in_path.keys())[:5]"
   ]
  },
  {
   "cell_type": "code",
   "execution_count": 4,
   "id": "eef5d0fa",
   "metadata": {
    "ExecuteTime": {
     "end_time": "2022-01-10T03:28:46.980410Z",
     "start_time": "2022-01-10T03:28:46.975635Z"
    }
   },
   "outputs": [],
   "source": [
    "start_date = '2020-01-01'\n",
    "end_date = '2021-06-01'\n",
    "target = \"10d_ret_StandardScale_MinMax_10\""
   ]
  },
  {
   "cell_type": "code",
   "execution_count": 13,
   "id": "2d91ecfe",
   "metadata": {
    "ExecuteTime": {
     "end_time": "2022-01-10T03:35:20.437755Z",
     "start_time": "2022-01-10T03:35:20.429006Z"
    }
   },
   "outputs": [],
   "source": [
    "def generate_original_data(alpha_name,alpha_list,target,start_date,end_date):\n",
    "    \n",
    "    dataloader = DataLoader(None)\n",
    "    dataloader.load_data_from_file(data_path=\"/home/wuwenjun/feature_platform/ti0/wuwenjun/%s/\" % (target) ,start_date=start_date,end_date=end_date)\n",
    "    dataloader.feature_data.rename(columns= {target:\"target\"},inplace=True)\n",
    "    FT.load_feature_from_file(alpha_list, start_date, end_date, universe='Investable',\n",
    "                                       timedelta=None, transformer=norm.standard_scale)\n",
    "    output = pd.concat([FT.feature_data,dataloader.feature_data],axis=1)\n",
    "    convert_to_standard_daily_data_par(df=output,output_name=alpha_name,output_path=\"/home/wuwenjun/Data_lib/ti0/wuwenjun/\")\n",
    "    return output"
   ]
  },
  {
   "cell_type": "code",
   "execution_count": 14,
   "id": "b5513d63",
   "metadata": {
    "ExecuteTime": {
     "end_time": "2022-01-10T03:36:23.955363Z",
     "start_time": "2022-01-10T03:35:49.004525Z"
    }
   },
   "outputs": [
    {
     "name": "stderr",
     "output_type": "stream",
     "text": [
      "Loading Feature...: 100%|████████████████████████████████████████████████████████████████████████████████████████| 1700/1700 [00:03<00:00, 462.17it/s]\n"
     ]
    },
    {
     "data": {
      "text/html": [
       "<div>\n",
       "<style scoped>\n",
       "    .dataframe tbody tr th:only-of-type {\n",
       "        vertical-align: middle;\n",
       "    }\n",
       "\n",
       "    .dataframe tbody tr th {\n",
       "        vertical-align: top;\n",
       "    }\n",
       "\n",
       "    .dataframe thead th {\n",
       "        text-align: right;\n",
       "    }\n",
       "</style>\n",
       "<table border=\"1\" class=\"dataframe\">\n",
       "  <thead>\n",
       "    <tr style=\"text-align: right;\">\n",
       "      <th></th>\n",
       "      <th></th>\n",
       "      <th>test_mcorr_open_low_10</th>\n",
       "      <th>test_1</th>\n",
       "      <th>test</th>\n",
       "      <th>ewmCorr(high,low)</th>\n",
       "      <th>ewmCorr(high,low,7)</th>\n",
       "      <th>target</th>\n",
       "    </tr>\n",
       "    <tr>\n",
       "      <th>timestamp</th>\n",
       "      <th>ticker</th>\n",
       "      <th></th>\n",
       "      <th></th>\n",
       "      <th></th>\n",
       "      <th></th>\n",
       "      <th></th>\n",
       "      <th></th>\n",
       "    </tr>\n",
       "  </thead>\n",
       "  <tbody>\n",
       "    <tr>\n",
       "      <th rowspan=\"5\" valign=\"top\">2020-01-02 09:30:00</th>\n",
       "      <th>000001</th>\n",
       "      <td>-4.677549</td>\n",
       "      <td>-4.677549</td>\n",
       "      <td>2.316871</td>\n",
       "      <td>-0.639603</td>\n",
       "      <td>-0.639603</td>\n",
       "      <td>-5.551395</td>\n",
       "    </tr>\n",
       "    <tr>\n",
       "      <th>000002</th>\n",
       "      <td>-0.084848</td>\n",
       "      <td>-0.084848</td>\n",
       "      <td>6.275787</td>\n",
       "      <td>0.862912</td>\n",
       "      <td>0.862912</td>\n",
       "      <td>-6.203258</td>\n",
       "    </tr>\n",
       "    <tr>\n",
       "      <th>000004</th>\n",
       "      <td>0.042979</td>\n",
       "      <td>0.042979</td>\n",
       "      <td>-0.008496</td>\n",
       "      <td>-1.997815</td>\n",
       "      <td>-1.997815</td>\n",
       "      <td>-5.390784</td>\n",
       "    </tr>\n",
       "    <tr>\n",
       "      <th>000005</th>\n",
       "      <td>0.040740</td>\n",
       "      <td>0.040740</td>\n",
       "      <td>-0.094644</td>\n",
       "      <td>0.016425</td>\n",
       "      <td>0.016425</td>\n",
       "      <td>-5.142255</td>\n",
       "    </tr>\n",
       "    <tr>\n",
       "      <th>000006</th>\n",
       "      <td>0.252453</td>\n",
       "      <td>0.252453</td>\n",
       "      <td>0.124088</td>\n",
       "      <td>0.860639</td>\n",
       "      <td>0.860639</td>\n",
       "      <td>-5.327572</td>\n",
       "    </tr>\n",
       "    <tr>\n",
       "      <th>...</th>\n",
       "      <th>...</th>\n",
       "      <td>...</td>\n",
       "      <td>...</td>\n",
       "      <td>...</td>\n",
       "      <td>...</td>\n",
       "      <td>...</td>\n",
       "      <td>...</td>\n",
       "    </tr>\n",
       "    <tr>\n",
       "      <th rowspan=\"5\" valign=\"top\">2021-06-01 09:30:00</th>\n",
       "      <th>688699</th>\n",
       "      <td>NaN</td>\n",
       "      <td>NaN</td>\n",
       "      <td>NaN</td>\n",
       "      <td>NaN</td>\n",
       "      <td>NaN</td>\n",
       "      <td>-6.236975</td>\n",
       "    </tr>\n",
       "    <tr>\n",
       "      <th>688777</th>\n",
       "      <td>NaN</td>\n",
       "      <td>NaN</td>\n",
       "      <td>NaN</td>\n",
       "      <td>NaN</td>\n",
       "      <td>NaN</td>\n",
       "      <td>-6.432447</td>\n",
       "    </tr>\n",
       "    <tr>\n",
       "      <th>688788</th>\n",
       "      <td>NaN</td>\n",
       "      <td>NaN</td>\n",
       "      <td>NaN</td>\n",
       "      <td>NaN</td>\n",
       "      <td>NaN</td>\n",
       "      <td>-6.486812</td>\n",
       "    </tr>\n",
       "    <tr>\n",
       "      <th>688819</th>\n",
       "      <td>NaN</td>\n",
       "      <td>NaN</td>\n",
       "      <td>NaN</td>\n",
       "      <td>NaN</td>\n",
       "      <td>NaN</td>\n",
       "      <td>-6.124710</td>\n",
       "    </tr>\n",
       "    <tr>\n",
       "      <th>688981</th>\n",
       "      <td>NaN</td>\n",
       "      <td>NaN</td>\n",
       "      <td>NaN</td>\n",
       "      <td>NaN</td>\n",
       "      <td>NaN</td>\n",
       "      <td>-6.088935</td>\n",
       "    </tr>\n",
       "  </tbody>\n",
       "</table>\n",
       "<p>1366034 rows × 6 columns</p>\n",
       "</div>"
      ],
      "text/plain": [
       "                            test_mcorr_open_low_10    test_1      test  \\\n",
       "timestamp           ticker                                               \n",
       "2020-01-02 09:30:00 000001               -4.677549 -4.677549  2.316871   \n",
       "                    000002               -0.084848 -0.084848  6.275787   \n",
       "                    000004                0.042979  0.042979 -0.008496   \n",
       "                    000005                0.040740  0.040740 -0.094644   \n",
       "                    000006                0.252453  0.252453  0.124088   \n",
       "...                                            ...       ...       ...   \n",
       "2021-06-01 09:30:00 688699                     NaN       NaN       NaN   \n",
       "                    688777                     NaN       NaN       NaN   \n",
       "                    688788                     NaN       NaN       NaN   \n",
       "                    688819                     NaN       NaN       NaN   \n",
       "                    688981                     NaN       NaN       NaN   \n",
       "\n",
       "                            ewmCorr(high,low)  ewmCorr(high,low,7)    target  \n",
       "timestamp           ticker                                                    \n",
       "2020-01-02 09:30:00 000001          -0.639603            -0.639603 -5.551395  \n",
       "                    000002           0.862912             0.862912 -6.203258  \n",
       "                    000004          -1.997815            -1.997815 -5.390784  \n",
       "                    000005           0.016425             0.016425 -5.142255  \n",
       "                    000006           0.860639             0.860639 -5.327572  \n",
       "...                                       ...                  ...       ...  \n",
       "2021-06-01 09:30:00 688699                NaN                  NaN -6.236975  \n",
       "                    688777                NaN                  NaN -6.432447  \n",
       "                    688788                NaN                  NaN -6.486812  \n",
       "                    688819                NaN                  NaN -6.124710  \n",
       "                    688981                NaN                  NaN -6.088935  \n",
       "\n",
       "[1366034 rows x 6 columns]"
      ]
     },
     "execution_count": 14,
     "metadata": {},
     "output_type": "execute_result"
    }
   ],
   "source": [
    "a = generate_original_data(alpha_list=alpha_list,target=target,start_date=start_date,end_date=end_date)\n",
    "a"
   ]
  },
  {
   "cell_type": "code",
   "execution_count": 15,
   "id": "059bd2f5",
   "metadata": {
    "ExecuteTime": {
     "end_time": "2022-01-10T03:38:14.160479Z",
     "start_time": "2022-01-10T03:38:11.297342Z"
    }
   },
   "outputs": [],
   "source": [
    "from AlphaNet.Data import convert_to_standard_daily_data_par\n"
   ]
  }
 ],
 "metadata": {
  "kernelspec": {
   "display_name": "Python 3 (ipykernel)",
   "language": "python",
   "name": "python3"
  },
  "language_info": {
   "codemirror_mode": {
    "name": "ipython",
    "version": 3
   },
   "file_extension": ".py",
   "mimetype": "text/x-python",
   "name": "python",
   "nbconvert_exporter": "python",
   "pygments_lexer": "ipython3",
   "version": "3.7.9"
  }
 },
 "nbformat": 4,
 "nbformat_minor": 5
}
