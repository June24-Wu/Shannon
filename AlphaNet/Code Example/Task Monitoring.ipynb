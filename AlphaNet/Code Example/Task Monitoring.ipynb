{
 "cells": [
  {
   "cell_type": "code",
   "execution_count": 1,
   "id": "3ce28aca",
   "metadata": {
    "ExecuteTime": {
     "end_time": "2022-01-19T03:16:36.716250Z",
     "start_time": "2022-01-19T03:16:36.297192Z"
    }
   },
   "outputs": [],
   "source": [
    "import pandas as pd \n",
    "import numpy as np"
   ]
  },
  {
   "cell_type": "code",
   "execution_count": 39,
   "id": "58cc8c69",
   "metadata": {
    "ExecuteTime": {
     "end_time": "2022-01-19T03:32:22.386455Z",
     "start_time": "2022-01-19T03:32:22.380194Z"
    }
   },
   "outputs": [],
   "source": [
    "task_info = np.load(\"/home/ShareFolder/feature_platform/ti0/wuwenjun/#Factor_Description/Task.npy\",allow_pickle=True).item()"
   ]
  },
  {
   "cell_type": "code",
   "execution_count": 40,
   "id": "0c5e6ab2",
   "metadata": {
    "ExecuteTime": {
     "end_time": "2022-01-19T03:32:23.231554Z",
     "start_time": "2022-01-19T03:32:23.225529Z"
    }
   },
   "outputs": [
    {
     "data": {
      "text/plain": [
       "[]"
      ]
     },
     "execution_count": 40,
     "metadata": {},
     "output_type": "execute_result"
    }
   ],
   "source": [
    "task_info[\"Cuda\"]"
   ]
  },
  {
   "cell_type": "code",
   "execution_count": 69,
   "id": "380b375c",
   "metadata": {
    "ExecuteTime": {
     "end_time": "2022-01-19T04:01:03.404044Z",
     "start_time": "2022-01-19T04:01:03.386255Z"
    }
   },
   "outputs": [
    {
     "data": {
      "text/html": [
       "<div>\n",
       "<style scoped>\n",
       "    .dataframe tbody tr th:only-of-type {\n",
       "        vertical-align: middle;\n",
       "    }\n",
       "\n",
       "    .dataframe tbody tr th {\n",
       "        vertical-align: top;\n",
       "    }\n",
       "\n",
       "    .dataframe thead th {\n",
       "        text-align: right;\n",
       "    }\n",
       "</style>\n",
       "<table border=\"1\" class=\"dataframe\">\n",
       "  <thead>\n",
       "    <tr style=\"text-align: right;\">\n",
       "      <th></th>\n",
       "      <th>Alpha_Name</th>\n",
       "      <th>sequence</th>\n",
       "      <th>LR</th>\n",
       "      <th>epoch_num</th>\n",
       "      <th>feature_num</th>\n",
       "      <th>start_date</th>\n",
       "      <th>end_date</th>\n",
       "      <th>status</th>\n",
       "      <th>description</th>\n",
       "    </tr>\n",
       "    <tr>\n",
       "      <th>task_id</th>\n",
       "      <th></th>\n",
       "      <th></th>\n",
       "      <th></th>\n",
       "      <th></th>\n",
       "      <th></th>\n",
       "      <th></th>\n",
       "      <th></th>\n",
       "      <th></th>\n",
       "      <th></th>\n",
       "    </tr>\n",
       "  </thead>\n",
       "  <tbody>\n",
       "    <tr>\n",
       "      <th>10</th>\n",
       "      <td>Original_Input_Shift_1_Sequence_10</td>\n",
       "      <td>10</td>\n",
       "      <td>[0.001, 0.0001, 1e-05]</td>\n",
       "      <td>[40, 20, 20]</td>\n",
       "      <td>9</td>\n",
       "      <td>2019-01-01</td>\n",
       "      <td>2019-06-01</td>\n",
       "      <td>running</td>\n",
       "      <td>{'target': '10d_ret_standscalar', 'alpha_name'...</td>\n",
       "    </tr>\n",
       "    <tr>\n",
       "      <th>11</th>\n",
       "      <td>Original_Input_Shift_1_Sequence_10</td>\n",
       "      <td>10</td>\n",
       "      <td>[0.001, 0.0001, 1e-05]</td>\n",
       "      <td>[40, 20, 20]</td>\n",
       "      <td>9</td>\n",
       "      <td>2019-06-01</td>\n",
       "      <td>2020-01-01</td>\n",
       "      <td>running</td>\n",
       "      <td>{'target': '10d_ret_standscalar', 'alpha_name'...</td>\n",
       "    </tr>\n",
       "    <tr>\n",
       "      <th>12</th>\n",
       "      <td>Original_Input_Shift_1_Sequence_10</td>\n",
       "      <td>10</td>\n",
       "      <td>[0.001, 0.0001, 1e-05]</td>\n",
       "      <td>[40, 20, 20]</td>\n",
       "      <td>9</td>\n",
       "      <td>2020-01-01</td>\n",
       "      <td>2020-06-01</td>\n",
       "      <td>running</td>\n",
       "      <td>{'target': '10d_ret_standscalar', 'alpha_name'...</td>\n",
       "    </tr>\n",
       "    <tr>\n",
       "      <th>50</th>\n",
       "      <td>Original_Input_TsStand_Concated_Shift_3_Sequen...</td>\n",
       "      <td>10</td>\n",
       "      <td>[0.001, 0.0001, 1e-05]</td>\n",
       "      <td>[30, 30, 30]</td>\n",
       "      <td>18</td>\n",
       "      <td>2019-01-01</td>\n",
       "      <td>2019-06-01</td>\n",
       "      <td>running</td>\n",
       "      <td>{'target': '10d_ret_standscalar', 'alpha_name'...</td>\n",
       "    </tr>\n",
       "  </tbody>\n",
       "</table>\n",
       "</div>"
      ],
      "text/plain": [
       "                                                Alpha_Name sequence  \\\n",
       "task_id                                                               \n",
       "10                      Original_Input_Shift_1_Sequence_10       10   \n",
       "11                      Original_Input_Shift_1_Sequence_10       10   \n",
       "12                      Original_Input_Shift_1_Sequence_10       10   \n",
       "50       Original_Input_TsStand_Concated_Shift_3_Sequen...       10   \n",
       "\n",
       "                             LR     epoch_num feature_num  start_date  \\\n",
       "task_id                                                                 \n",
       "10       [0.001, 0.0001, 1e-05]  [40, 20, 20]           9  2019-01-01   \n",
       "11       [0.001, 0.0001, 1e-05]  [40, 20, 20]           9  2019-06-01   \n",
       "12       [0.001, 0.0001, 1e-05]  [40, 20, 20]           9  2020-01-01   \n",
       "50       [0.001, 0.0001, 1e-05]  [30, 30, 30]          18  2019-01-01   \n",
       "\n",
       "           end_date   status  \\\n",
       "task_id                        \n",
       "10       2019-06-01  running   \n",
       "11       2020-01-01  running   \n",
       "12       2020-06-01  running   \n",
       "50       2019-06-01  running   \n",
       "\n",
       "                                               description  \n",
       "task_id                                                     \n",
       "10       {'target': '10d_ret_standscalar', 'alpha_name'...  \n",
       "11       {'target': '10d_ret_standscalar', 'alpha_name'...  \n",
       "12       {'target': '10d_ret_standscalar', 'alpha_name'...  \n",
       "50       {'target': '10d_ret_standscalar', 'alpha_name'...  "
      ]
     },
     "execution_count": 69,
     "metadata": {},
     "output_type": "execute_result"
    }
   ],
   "source": [
    "task_info[\"Task\"].query(\"status == ['running','cuda:0','cuda:1']\")"
   ]
  },
  {
   "cell_type": "code",
   "execution_count": 48,
   "id": "8618eb37",
   "metadata": {
    "ExecuteTime": {
     "end_time": "2022-01-19T03:53:56.290606Z",
     "start_time": "2022-01-19T03:53:56.282418Z"
    }
   },
   "outputs": [
    {
     "data": {
      "text/plain": [
       "False"
      ]
     },
     "execution_count": 48,
     "metadata": {},
     "output_type": "execute_result"
    }
   ],
   "source": [
    "\"a\" in task_info[\"Task\"][\"status\"].values"
   ]
  },
  {
   "cell_type": "code",
   "execution_count": 33,
   "id": "f50aea20",
   "metadata": {
    "ExecuteTime": {
     "end_time": "2022-01-19T03:29:47.513975Z",
     "start_time": "2022-01-19T03:29:47.509576Z"
    }
   },
   "outputs": [],
   "source": [
    "np.save(\"/home/ShareFolder/feature_platform/ti0/wuwenjun/#Factor_Description/Task.npy\",task_info)"
   ]
  }
 ],
 "metadata": {
  "kernelspec": {
   "display_name": "Python 3 (ipykernel)",
   "language": "python",
   "name": "python3"
  },
  "language_info": {
   "codemirror_mode": {
    "name": "ipython",
    "version": 3
   },
   "file_extension": ".py",
   "mimetype": "text/x-python",
   "name": "python",
   "nbconvert_exporter": "python",
   "pygments_lexer": "ipython3",
   "version": "3.7.9"
  }
 },
 "nbformat": 4,
 "nbformat_minor": 5
}
