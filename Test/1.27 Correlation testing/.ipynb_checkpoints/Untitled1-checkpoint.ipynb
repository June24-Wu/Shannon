{
 "cells": [
  {
   "cell_type": "code",
   "execution_count": 1,
   "id": "d8a37207",
   "metadata": {
    "ExecuteTime": {
     "end_time": "2022-01-28T01:15:36.246802Z",
     "start_time": "2022-01-28T01:15:35.846656Z"
    }
   },
   "outputs": [],
   "source": [
    "import pandas as pd \n",
    "import numpy as np\n",
    "import datetime"
   ]
  },
  {
   "cell_type": "code",
   "execution_count": 6,
   "id": "c2f4bd6b",
   "metadata": {
    "ExecuteTime": {
     "end_time": "2022-01-28T01:16:39.517387Z",
     "start_time": "2022-01-28T01:16:39.514291Z"
    }
   },
   "outputs": [],
   "source": [
    "t1 = (datetime.datetime.utcnow() + datetime.timedelta(hours=8)).strftime('%m-%d_%H:%M_')"
   ]
  },
  {
   "cell_type": "code",
   "execution_count": 9,
   "id": "89016aa6",
   "metadata": {
    "ExecuteTime": {
     "end_time": "2022-01-28T01:19:06.918433Z",
     "start_time": "2022-01-28T01:19:06.909772Z"
    }
   },
   "outputs": [
    {
     "data": {
      "text/plain": [
       "'_09:19'"
      ]
     },
     "execution_count": 9,
     "metadata": {},
     "output_type": "execute_result"
    }
   ],
   "source": [
    "t2 = (datetime.datetime.utcnow() + datetime.timedelta(hours=8)).strftime('_%H:%M')\n",
    "t2"
   ]
  },
  {
   "cell_type": "code",
   "execution_count": 16,
   "id": "d8e3b63f",
   "metadata": {
    "ExecuteTime": {
     "end_time": "2022-01-28T01:45:04.581518Z",
     "start_time": "2022-01-28T01:45:04.577623Z"
    }
   },
   "outputs": [
    {
     "data": {
      "text/plain": [
       "'_09:45 || 01-28'"
      ]
     },
     "execution_count": 16,
     "metadata": {},
     "output_type": "execute_result"
    }
   ],
   "source": [
    "(datetime.datetime.utcnow() + datetime.timedelta(hours=8)).strftime('_%H:%M || %m-%d')"
   ]
  }
 ],
 "metadata": {
  "kernelspec": {
   "display_name": "Python 3 (ipykernel)",
   "language": "python",
   "name": "python3"
  },
  "language_info": {
   "codemirror_mode": {
    "name": "ipython",
    "version": 3
   },
   "file_extension": ".py",
   "mimetype": "text/x-python",
   "name": "python",
   "nbconvert_exporter": "python",
   "pygments_lexer": "ipython3",
   "version": "3.7.9"
  }
 },
 "nbformat": 4,
 "nbformat_minor": 5
}
