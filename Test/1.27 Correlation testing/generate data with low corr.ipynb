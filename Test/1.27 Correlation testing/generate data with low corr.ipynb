{
 "cells": [
  {
   "cell_type": "code",
   "execution_count": 6,
   "id": "1c137f8c",
   "metadata": {
    "ExecuteTime": {
     "end_time": "2022-01-30T10:32:29.132620Z",
     "start_time": "2022-01-30T10:32:29.125689Z"
    }
   },
   "outputs": [],
   "source": [
    "alpha_name = \"AlphaNet_8Input_with_mavg\"\n",
    "shift = 1\n",
    "sequence = 20\n",
    "target = \"10dRet\"\n",
    "LR = [0.001,0.00001,0.0000001]\n",
    "epoch_num = [30,30,30]\n",
    "universe = \"Investable\"\n",
    "output_path = \"/home/wuwenjun/Data/\""
   ]
  },
  {
   "cell_type": "code",
   "execution_count": 7,
   "id": "19c3531a",
   "metadata": {
    "ExecuteTime": {
     "end_time": "2022-01-30T10:32:30.862811Z",
     "start_time": "2022-01-30T10:32:30.846357Z"
    }
   },
   "outputs": [
    {
     "data": {
      "text/plain": [
       "['Mavg_div_open_close_10',\n",
       " 'Mavg_div_high_close_10',\n",
       " 'Mavg_div_low_close_10',\n",
       " 'Mavg_close_10',\n",
       " 'Mavg_div_vwap_close_10',\n",
       " 'Mavg_volume_sqrt_10',\n",
       " 'Mavg_pct_chg_10',\n",
       " 'Mavg_turnover_10']"
      ]
     },
     "execution_count": 7,
     "metadata": {},
     "output_type": "execute_result"
    }
   ],
   "source": [
    "task_info = np.load(\"/home/ShareFolder/feature_platform/ti0/wuwenjun/#Factor_Description/Task.npy\",allow_pickle=True).item()\n",
    "\n",
    "alpha_list = [\"Mavg_%s_10\" % i for i in ['div_open_close','div_high_close','div_low_close','close','div_vwap_close','volume_sqrt','pct_chg','turnover']]\n",
    "alpha_list"
   ]
  },
  {
   "cell_type": "code",
   "execution_count": 8,
   "id": "4889a79f",
   "metadata": {
    "ExecuteTime": {
     "end_time": "2022-01-30T10:32:32.813332Z",
     "start_time": "2022-01-30T10:32:32.802206Z"
    }
   },
   "outputs": [
    {
     "data": {
      "text/plain": [
       "['COV_div_open_close_div_high_close_10',\n",
       " 'COV_div_open_close_div_low_close_10',\n",
       " 'COV_div_open_close_close_10',\n",
       " 'COV_div_open_close_volume_sqrt_10',\n",
       " 'COV_div_open_close_pct_chg_10',\n",
       " 'COV_div_high_close_div_low_close_10',\n",
       " 'COV_div_high_close_close_10',\n",
       " 'COV_div_high_close_volume_sqrt_10',\n",
       " 'COV_div_high_close_pct_chg_10',\n",
       " 'COV_div_low_close_close_10',\n",
       " 'COV_div_low_close_volume_sqrt_10',\n",
       " 'COV_close_div_vwap_close_10',\n",
       " 'COV_close_volume_sqrt_10',\n",
       " 'COV_close_pct_chg_10',\n",
       " 'COV_div_vwap_close_volume_sqrt_10',\n",
       " 'COV_volume_sqrt_pct_chg_10',\n",
       " 'COV_volume_sqrt_turnover_10',\n",
       " 'CORR_div_open_close_div_high_close_10',\n",
       " 'CORR_div_open_close_div_low_close_10',\n",
       " 'CORR_div_open_close_close_10',\n",
       " 'CORR_div_open_close_div_vwap_close_10',\n",
       " 'CORR_div_open_close_pct_chg_10',\n",
       " 'CORR_div_high_close_div_low_close_10',\n",
       " 'CORR_div_high_close_close_10',\n",
       " 'CORR_div_high_close_div_vwap_close_10',\n",
       " 'CORR_div_high_close_pct_chg_10',\n",
       " 'CORR_div_low_close_close_10',\n",
       " 'CORR_div_low_close_div_vwap_close_10',\n",
       " 'CORR_div_low_close_volume_sqrt_10',\n",
       " 'CORR_div_low_close_pct_chg_10',\n",
       " 'CORR_close_div_vwap_close_10',\n",
       " 'CORR_close_volume_sqrt_10',\n",
       " 'CORR_close_pct_chg_10',\n",
       " 'CORR_div_vwap_close_pct_chg_10',\n",
       " 'CORR_volume_sqrt_turnover_10',\n",
       " 'STD_close_10',\n",
       " 'STD_div_vwap_close_10',\n",
       " 'STD_volume_sqrt_10',\n",
       " 'ZSCORE_div_open_close_10',\n",
       " 'ZSCORE_div_high_close_10',\n",
       " 'ZSCORE_div_low_close_10',\n",
       " 'ZSCORE_close_10',\n",
       " 'ZSCORE_div_vwap_close_10',\n",
       " 'ZSCORE_volume_sqrt_10',\n",
       " 'ZSCORE_pct_chg_10',\n",
       " 'RETURN_div_open_close_10',\n",
       " 'RETURN_div_high_close_10',\n",
       " 'RETURN_div_low_close_10',\n",
       " 'RETURN_div_vwap_close_10',\n",
       " 'RETURN_volume_sqrt_10',\n",
       " 'RETURN_pct_chg_10',\n",
       " 'DECAY_div_high_close_10',\n",
       " 'DECAY_div_low_close_10',\n",
       " 'DECAY_turnover_10']"
      ]
     },
     "execution_count": 8,
     "metadata": {},
     "output_type": "execute_result"
    }
   ],
   "source": [
    "base_list = task_info[\"Task\"].loc[194,\"description\"][\"alpha_list\"]\n",
    "base_list"
   ]
  },
  {
   "cell_type": "code",
   "execution_count": 9,
   "id": "d20b85f8",
   "metadata": {
    "ExecuteTime": {
     "end_time": "2022-01-30T10:32:38.730526Z",
     "start_time": "2022-01-30T10:32:38.717959Z"
    }
   },
   "outputs": [],
   "source": [
    "import time\n",
    "import datetime\n",
    "import os\n",
    "from Research.backtest.bt import BTDaily\n",
    "import matplotlib.pyplot as plt\n",
    "from Research.feature.ft import FeatureAnalysis\n",
    "import Research.utils.namespace as namespace\n",
    "import Research.utils.normalization as norm\n",
    "from Platform.database.mysql import MysqlAPI\n",
    "from Platform.utils.persistence import convert_to_standard_daily_feature_csv, convert_to_standard_daily_feature_par\n",
    "from Platform.config.mysql_info import FACTOR_LIB_MYSQL_TIO\n",
    "import DataAPI\n",
    "from os import walk\n",
    "import pandas as pd\n",
    "import numpy as np\n",
    "import torch\n",
    "import torch.nn as nn\n",
    "from progressbar import ProgressBar\n",
    "from tqdm import tqdm\n",
    "import multiprocessing as mp\n",
    "import sys\n",
    "sys.path.append(\"/home/wuwenjun/jupyter_code/Shannon/AlphaNet/packages/\")\n",
    "import AlphaNet\n",
    "from AlphaNet.Data import concat_original_data , generate_shift_data"
   ]
  },
  {
   "cell_type": "code",
   "execution_count": null,
   "id": "b65531c5",
   "metadata": {
    "ExecuteTime": {
     "start_time": "2022-01-30T10:32:42.487Z"
    }
   },
   "outputs": [
    {
     "name": "stderr",
     "output_type": "stream",
     "text": [
      "Loading Feature...: 100%|██████████████████████████████████████████████████████████████████████████████████████| 81530/81530 [03:25<00:00, 397.43it/s]\n",
      "Calculating correlations...: 100%|███████████████████████████████████████████████████████████████████████████████| 1306/1306 [00:05<00:00, 226.32it/s]\n"
     ]
    },
    {
     "name": "stdout",
     "output_type": "stream",
     "text": [
      "delete [Mavg_div_open_close_10] because of 93 [ZSCORE_div_open_close_10]\n"
     ]
    },
    {
     "name": "stderr",
     "output_type": "stream",
     "text": [
      "Calculating correlations...: 100%|███████████████████████████████████████████████████████████████████████████████| 1306/1306 [00:05<00:00, 237.46it/s]\n"
     ]
    },
    {
     "name": "stdout",
     "output_type": "stream",
     "text": [
      "delete [Mavg_div_high_close_10] because of 94 [DECAY_div_high_close_10]\n"
     ]
    },
    {
     "name": "stderr",
     "output_type": "stream",
     "text": [
      "Calculating correlations...: 100%|███████████████████████████████████████████████████████████████████████████████| 1306/1306 [00:05<00:00, 222.50it/s]\n"
     ]
    },
    {
     "name": "stdout",
     "output_type": "stream",
     "text": [
      "delete [Mavg_div_low_close_10] because of 93 [DECAY_div_low_close_10]\n"
     ]
    },
    {
     "name": "stderr",
     "output_type": "stream",
     "text": [
      "Calculating correlations...: 100%|███████████████████████████████████████████████████████████████████████████████| 1306/1306 [00:06<00:00, 217.39it/s]\n"
     ]
    },
    {
     "name": "stdout",
     "output_type": "stream",
     "text": [
      "delete [Mavg_close_10] because of 84 [STD_close_10]\n"
     ]
    },
    {
     "name": "stderr",
     "output_type": "stream",
     "text": [
      "Calculating correlations...: 100%|███████████████████████████████████████████████████████████████████████████████| 1306/1306 [00:06<00:00, 213.46it/s]\n"
     ]
    },
    {
     "name": "stdout",
     "output_type": "stream",
     "text": [
      "delete [Mavg_div_vwap_close_10] because of 93 [ZSCORE_div_vwap_close_10]\n"
     ]
    },
    {
     "name": "stderr",
     "output_type": "stream",
     "text": [
      "Calculating correlations...: 100%|███████████████████████████████████████████████████████████████████████████████| 1306/1306 [00:06<00:00, 213.59it/s]\n"
     ]
    },
    {
     "name": "stdout",
     "output_type": "stream",
     "text": [
      "delete [Mavg_volume_sqrt_10] because of 84 [STD_volume_sqrt_10]\n"
     ]
    },
    {
     "name": "stderr",
     "output_type": "stream",
     "text": [
      "Calculating correlations...: 100%|███████████████████████████████████████████████████████████████████████████████| 1306/1306 [00:06<00:00, 216.44it/s]\n"
     ]
    },
    {
     "name": "stdout",
     "output_type": "stream",
     "text": [
      "delete [Mavg_pct_chg_10] because of 92 [ZSCORE_pct_chg_10]\n"
     ]
    },
    {
     "name": "stderr",
     "output_type": "stream",
     "text": [
      "Calculating correlations...: 100%|███████████████████████████████████████████████████████████████████████████████| 1306/1306 [00:05<00:00, 218.74it/s]\n"
     ]
    },
    {
     "name": "stdout",
     "output_type": "stream",
     "text": [
      "delete [Mavg_turnover_10] because of 98 [DECAY_turnover_10]\n"
     ]
    }
   ],
   "source": [
    "if alpha_name not in os.listdir(output_path):\n",
    "    _ , alpha_list = concat_original_data(alpha_name=alpha_name,alpha_list=alpha_list,output_path=output_path,universe = universe,corr_filter = 0.8,base_list = base_list)\n",
    "generate_shift_data(alpha_name=alpha_name,shift=shift,sequence=sequence,target=target,data_path=output_path)\n",
    "\n",
    "# Task Generation\n",
    "task_info = np.load(\"/home/ShareFolder/feature_platform/ti0/wuwenjun/#Factor_Description/Task.npy\",allow_pickle=True).item()\n",
    "original = task_info[\"Task\"]\n",
    "# Timelist & Task\n",
    "time_list = [\"2019-01-01\",\"2019-06-01\",\"2020-01-01\",\"2020-06-01\",\"2021-01-01\",\"2021-06-01\"]\n",
    "time_list2 = []\n",
    "for i in range(len(time_list)-1):\n",
    "    time_list2.append([time_list[i],time_list[i+1]])\n",
    "time_list2 = pd.DataFrame(time_list2,columns=[\"start_date\",\"end_date\"])\n",
    "\n",
    "task = pd.DataFrame([\n",
    "                    alpha_name + \"_Shift_%i_Sequence_%i_%s\" % (shift,sequence,target),\n",
    "                    sequence,LR,epoch_num,len(alpha_list),\n",
    "                        ],index=[\"Alpha_Name\",\"sequence\",\"LR\",\"epoch_num\",\"feature_num\"]).T\n",
    "task['value']=1\n",
    "time_list2['value']=1\n",
    "task = pd.merge(task,time_list2,how='left',on='value')\n",
    "del task['value']\n",
    "task[\"status\"] = \"waiting\"\n",
    "task[\"description\"] = [{\n",
    "    \"target\" : target,\n",
    "    \"alpha_name\" : alpha_name,\n",
    "    \"alpha_list\" : alpha_list,\n",
    "    \"shift\" : shift,\n",
    "    \"sequence\" : sequence\n",
    "} for i in range(len(task))]\n",
    "task = pd.concat([original,task],axis=0)\n",
    "task.reset_index(drop=True,inplace=True)\n",
    "task.index.names = [\"task_id\"]\n",
    "task_info[\"Task\"] = task\n",
    "np.save(\"/home/ShareFolder/feature_platform/ti0/wuwenjun/#Factor_Description/Task.npy\",task_info)\n",
    "np.save(\"/home/wuwenjun/jupyter_code/Shannon/AlphaNet/Factor_Description/Task.npy\",task_info)"
   ]
  }
 ],
 "metadata": {
  "kernelspec": {
   "display_name": "Python 3 (ipykernel)",
   "language": "python",
   "name": "python3"
  },
  "language_info": {
   "codemirror_mode": {
    "name": "ipython",
    "version": 3
   },
   "file_extension": ".py",
   "mimetype": "text/x-python",
   "name": "python",
   "nbconvert_exporter": "python",
   "pygments_lexer": "ipython3",
   "version": "3.7.9"
  }
 },
 "nbformat": 4,
 "nbformat_minor": 5
}
