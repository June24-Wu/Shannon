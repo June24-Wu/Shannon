{
 "cells": [
  {
   "cell_type": "code",
   "execution_count": 1,
   "id": "f775eac3",
   "metadata": {
    "ExecuteTime": {
     "end_time": "2022-01-26T09:35:17.880312Z",
     "start_time": "2022-01-26T09:35:17.869331Z"
    }
   },
   "outputs": [],
   "source": [
    "alpha_name = \"AlphaNetV1_Shift_1_Sequence_20_10d_ret_standscalar\"\n",
    "start_date = '2019-01-01'\n",
    "end_date = '2021-06-01'\n",
    "change = 5"
   ]
  },
  {
   "cell_type": "code",
   "execution_count": 2,
   "id": "94a1d370",
   "metadata": {
    "ExecuteTime": {
     "end_time": "2022-01-26T09:35:27.348922Z",
     "start_time": "2022-01-26T09:35:18.368018Z"
    }
   },
   "outputs": [],
   "source": [
    "import time\n",
    "from Research.backtest.bt import BTDaily\n",
    "from Research.feature.ft import FeatureAnalysis\n",
    "import Research.utils.namespace as namespace\n",
    "import Research.utils.normalization as norm\n",
    "import numpy as np\n",
    "import pandas as pd\n",
    "import DataAPI\n",
    "import os\n",
    "input_path = r'/home/wuwenjun/factor_lib/ti0/wuwenjun/' + alpha_name\n",
    "output_path = r'/home/wuwenjun/factor_lib/ti0/wuwenjun/'\n",
    "\n",
    "alpha_list = []\n",
    "trading_list = DataAPI.get_trading_days(start_date, end_date)\n",
    "count = 0\n",
    "for day in trading_list:\n",
    "    file = os.path.join(input_path, str(day.year), day.strftime('%Y%m%d') + '.csv')\n",
    "    try:\n",
    "        df = pd.read_csv(file, dtype={0: str})\n",
    "    except FileNotFoundError:\n",
    "        count += 1\n",
    "        continue\n",
    "    flag = count % change\n",
    "    path_output = os.path.join(output_path, str(alpha_name + \"_\" + str(flag)), str(day.year), day.strftime('%Y%m%d') + '.csv')\n",
    "    alpha_list.append(str(alpha_name + \"_\" + str(flag)))\n",
    "    if not os.path.exists(path_output):\n",
    "        os.makedirs(os.path.dirname(path_output), exist_ok=True)\n",
    "    df.to_csv(path_output, index=False, header=False)\n",
    "    count += 1"
   ]
  },
  {
   "cell_type": "code",
   "execution_count": null,
   "id": "4e9f6ece",
   "metadata": {
    "ExecuteTime": {
     "start_time": "2022-01-26T09:35:19.115Z"
    }
   },
   "outputs": [
    {
     "name": "stdout",
     "output_type": "stream",
     "text": [
      "Loading the configuration from /home/ShareFolder/lgc/Modules/Research/config/feature_bt_template\n"
     ]
    },
    {
     "name": "stderr",
     "output_type": "stream",
     "text": [
      "Loading Feature...:   3%|██▉                                                                                       | 95/2920 [00:00<00:05, 560.82it/s]"
     ]
    },
    {
     "name": "stdout",
     "output_type": "stream",
     "text": [
      "['AlphaNetV1_Shift_1_Sequence_20_10d_ret_standscalar_0', 'AlphaNetV1_Shift_1_Sequence_20_10d_ret_standscalar_3', 'AlphaNetV1_Shift_1_Sequence_20_10d_ret_standscalar_4', 'AlphaNetV1_Shift_1_Sequence_20_10d_ret_standscalar_1', 'AlphaNetV1_Shift_1_Sequence_20_10d_ret_standscalar_2']\n"
     ]
    },
    {
     "name": "stderr",
     "output_type": "stream",
     "text": [
      "Loading Feature...: 100%|████████████████████████████████████████████████████████████████████████████████████████| 2920/2920 [00:03<00:00, 865.19it/s]\n",
      "Loading target...: 100%|███████████████████████████████████████████████████████████████████████████████████████████| 584/584 [00:02<00:00, 248.45it/s]\n",
      "Merging feature and return...: 100%|███████████████████████████████████████████████████████████████████████████████| 584/584 [00:03<00:00, 172.85it/s]\n",
      "Calculating IC value...: 100%|█████████████████████████████████████████████████████████████████████████████████████| 584/584 [00:01<00:00, 484.42it/s]\n",
      "Calculating IC value...: 100%|█████████████████████████████████████████████████████████████████████████████████████| 584/584 [00:00<00:00, 588.81it/s]\n"
     ]
    },
    {
     "name": "stdout",
     "output_type": "stream",
     "text": [
      "\n",
      "IC table for feature \"AlphaNetV1_Shift_1_Sequence_20_10d_ret_standscalar_0\" (mean std IR):\n",
      "+-------------------+--------------------+--------------------+--------------------+--------------------+--------------------+\n",
      "|      period       |  IC_AlphaNetV1_1d  |  IC_AlphaNetV1_2d  |  IC_AlphaNetV1_3d  |  IC_AlphaNetV1_4d  |  IC_AlphaNetV1_5d  |\n",
      "+===================+====================+====================+====================+====================+====================+\n",
      "| 20190102-20190630 |   3.44 4.93 0.70   |   4.58 5.23 0.88   |   6.22 5.60 1.11   |   6.66 5.24 1.27   |   6.22 5.70 1.09   |\n",
      "+-------------------+--------------------+--------------------+--------------------+--------------------+--------------------+\n",
      "| 20190701-20191231 |   2.02 4.17 0.48   |   3.24 3.24 1.00   |   4.04 4.14 0.98   |   3.86 4.38 0.88   |   3.63 4.22 0.86   |\n",
      "+-------------------+--------------------+--------------------+--------------------+--------------------+--------------------+\n",
      "| 20200101-20200630 |   3.03 5.24 0.58   |   3.58 5.73 0.62   |   5.15 4.60 1.12   |   5.04 5.06 1.00   |   4.54 4.89 0.93   |\n",
      "+-------------------+--------------------+--------------------+--------------------+--------------------+--------------------+\n",
      "| 20200701-20201231 |   2.27 5.65 0.40   |   2.80 3.86 0.72   |   3.09 3.72 0.83   |   3.05 4.25 0.72   |   2.89 3.83 0.75   |\n",
      "+-------------------+--------------------+--------------------+--------------------+--------------------+--------------------+\n",
      "| 20210101-20210630 |   3.14 5.03 0.62   |   3.26 5.12 0.64   |   3.03 4.88 0.62   |   4.15 4.86 0.85   |   4.85 4.70 1.03   |\n",
      "+-------------------+--------------------+--------------------+--------------------+--------------------+--------------------+\n",
      "\n",
      "IC summary for feature \"AlphaNetV1_Shift_1_Sequence_20_10d_ret_standscalar_0\":\n",
      "+-------------------+--------------------+--------------------+--------------------+--------------------+--------------------+\n",
      "|      period       |  IC_AlphaNetV1_1d  |  IC_AlphaNetV1_2d  |  IC_AlphaNetV1_3d  |  IC_AlphaNetV1_4d  |  IC_AlphaNetV1_5d  |\n",
      "+===================+====================+====================+====================+====================+====================+\n",
      "| 20190102-20210526 |   2.75 4.95 0.56   |   3.47 4.63 0.75   |   4.34 4.67 0.93   |   4.56 4.82 0.95   |   4.38 4.74 0.92   |\n",
      "+-------------------+--------------------+--------------------+--------------------+--------------------+--------------------+\n"
     ]
    },
    {
     "name": "stderr",
     "output_type": "stream",
     "text": [
      "Getting BT result for date: 20210531...: 100%|██████████████████████████████████████████████████████████████████████| 584/584 [00:07<00:00, 80.50it/s]\n",
      "Calculating IC value...:  11%|█████████▏                                                                            | 62/584 [00:00<00:01, 377.01it/s]"
     ]
    },
    {
     "name": "stdout",
     "output_type": "stream",
     "text": [
      "\n",
      "AlphaNetV1_Shift_1_Sequence_20_10d_ret_standscalar_0 back-test result for long-only mode:\n",
      "\n",
      "Back test summary: \"long-only\" mode\n",
      "+-------------------+-------------+----------+-----------+------------+----------+-------------+-------------------------+-------------------+------------+\n",
      "|      period       |  stock_num  |  return  |  ret_std  |  ret_year  |  sharpe  |  win_ratio  |      max_dd|period      |  max_dd_day|date  |  turnover  |\n",
      "+===================+=============+==========+===========+============+==========+=============+=========================+===================+============+\n",
      "| 20190102-20190630 |     212     |   8.89   |   5.98    |   19.00    |   3.05   |    57.26    | 2.91(20190111-20190131) |  1.11(20190429)   |   14.48    |\n",
      "+-------------------+-------------+----------+-----------+------------+----------+-------------+-------------------------+-------------------+------------+\n",
      "| 20190701-20191231 |     215     |  -2.46   |   3.91    |   -4.65    |  -1.28   |    49.60    | 3.36(20190702-20191202) |  0.82(20191125)   |   14.02    |\n",
      "+-------------------+-------------+----------+-----------+------------+----------+-------------+-------------------------+-------------------+------------+\n",
      "| 20200101-20200630 |     231     |   5.96   |   6.23    |   12.66    |   2.02   |    56.03    | 4.52(20200319-20200506) |  1.48(20200204)   |   14.17    |\n",
      "+-------------------+-------------+----------+-----------+------------+----------+-------------+-------------------------+-------------------+------------+\n",
      "| 20200701-20201231 |     232     |  -4.05   |   7.31    |   -7.60    |  -1.11   |    48.80    | 7.42(20201026-20201230) |  1.56(20200910)   |   13.62    |\n",
      "+-------------------+-------------+----------+-----------+------------+----------+-------------+-------------------------+-------------------+------------+\n",
      "| 20210101-20210531 |     253     |   1.12   |   10.60   |    2.82    |   0.28   |    50.00    | 5.99(20210104-20210210) |  2.59(20210107)   |   13.59    |\n",
      "+-------------------+-------------+----------+-----------+------------+----------+-------------+-------------------------+-------------------+------------+\n"
     ]
    },
    {
     "name": "stderr",
     "output_type": "stream",
     "text": [
      "Calculating IC value...: 100%|█████████████████████████████████████████████████████████████████████████████████████| 584/584 [00:01<00:00, 574.81it/s]\n",
      "Calculating IC value...: 100%|█████████████████████████████████████████████████████████████████████████████████████| 584/584 [00:01<00:00, 460.90it/s]\n"
     ]
    }
   ],
   "source": [
    "pd.set_option('expand_frame_repr', False)\n",
    "config_path = r'/home/ShareFolder/lgc/Modules/Research/config/feature_bt_template'\n",
    "print('Loading the configuration from ' + config_path)\n",
    "configs = namespace.load_namespace(config_path)\n",
    "FT = FeatureAnalysis(configs, feature_path=r\"/home/wuwenjun/factor_lib\")\n",
    "alpha_list = list(set(alpha_list))\n",
    "print(alpha_list)\n",
    "FT.load_feature_from_file(alpha_list, start_date, end_date, universe='Investable',\n",
    "                                       timedelta=None, transformer=norm.standard_scale)\n",
    "FT.load_return_data()\n",
    "\n",
    "writing_path = r'/home/wuwenjun/Desktop/%s_%ddChange.txt' % (alpha_name,change)\n",
    "f = open (writing_path,'w')\n",
    "print(\"\\n\",file=f)\n",
    "f.close()\n",
    "for alpha_name in alpha_list:\n",
    "    FT.get_intersection_ic(feature_name=alpha_name, truncate_fold=None, method='spearman',\n",
    "                                     period=('1d', '3d', '5d'))\n",
    "    ic_flag, trading_direction = FT.test_ic(alpha_name, verbose=False)\n",
    "    df, df_all = FT.get_ic_summary_by_month(num=6)\n",
    "    \n",
    "    if trading_direction == -1:\n",
    "        negative = True\n",
    "    else:\n",
    "        negative = False\n",
    "    f = open (writing_path,'a')\n",
    "    print(\"*\"*100,end=\"\\n\"*3,file=f)\n",
    "    print(alpha_name,end = \"\\n\"*3,file=f)\n",
    "    print(df,end=\"\\n\"*3,file = f)\n",
    "    a = FT.get_top_return(alpha_name, negative= False, trade_type='long-only', transmission_rate=0.00025,\n",
    "                            tax_rate=0.001, verbose=True,bt_price = \"vwap\",trade_period=6)\n",
    "    print(a[1],end = \"\\n\"*3+\"*\"*100 ,file = f)\n",
    "    f.close()"
   ]
  }
 ],
 "metadata": {
  "kernelspec": {
   "display_name": "Python 3 (ipykernel)",
   "language": "python",
   "name": "python3"
  },
  "language_info": {
   "codemirror_mode": {
    "name": "ipython",
    "version": 3
   },
   "file_extension": ".py",
   "mimetype": "text/x-python",
   "name": "python",
   "nbconvert_exporter": "python",
   "pygments_lexer": "ipython3",
   "version": "3.7.9"
  }
 },
 "nbformat": 4,
 "nbformat_minor": 5
}
