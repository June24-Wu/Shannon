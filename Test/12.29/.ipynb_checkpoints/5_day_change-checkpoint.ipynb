{
 "cells": [
  {
   "cell_type": "code",
   "execution_count": 1,
   "id": "f775eac3",
   "metadata": {
    "ExecuteTime": {
     "end_time": "2022-01-19T04:49:43.595810Z",
     "start_time": "2022-01-19T04:49:35.050266Z"
    }
   },
   "outputs": [],
   "source": [
    "import DataAPI as api\n",
    "import os\n",
    "import pandas as pd\n",
    "import numpy as np\n",
    "\n",
    "start_date = '2019-04-01'\n",
    "end_date = '2021-06-30'\n",
    "\n",
    "input_path = r'/home/wuwenjun/factor_lib/ti0/wuwenjun/Original_Input_Shift_1_Sequence_10'\n",
    "output_path = r'/home/wuwenjun/factor_lib/ti0/wuwenjun/'\n",
    "trading_list = api.get_trading_days(start_date, end_date)\n",
    "count = 0\n",
    "for day in trading_list:\n",
    "    file = os.path.join(input_path, str(day.year), day.strftime('%Y%m%d') + '.csv')\n",
    "    try:\n",
    "        df = pd.read_csv(file, dtype={0: str})\n",
    "    except FileNotFoundError:\n",
    "        count += 1\n",
    "        continue\n",
    "    flag = count % 10\n",
    "    path_output = os.path.join(output_path, str(flag), str(day.year), day.strftime('%Y%m%d') + '.csv')\n",
    "\n",
    "    if not os.path.exists(path_output):\n",
    "        os.makedirs(os.path.dirname(path_output), exist_ok=True)\n",
    "    df.to_csv(path_output, index=False, header=False)\n",
    "    count += 1"
   ]
  }
 ],
 "metadata": {
  "kernelspec": {
   "display_name": "Python 3 (ipykernel)",
   "language": "python",
   "name": "python3"
  },
  "language_info": {
   "codemirror_mode": {
    "name": "ipython",
    "version": 3
   },
   "file_extension": ".py",
   "mimetype": "text/x-python",
   "name": "python",
   "nbconvert_exporter": "python",
   "pygments_lexer": "ipython3",
   "version": "3.7.9"
  }
 },
 "nbformat": 4,
 "nbformat_minor": 5
}
