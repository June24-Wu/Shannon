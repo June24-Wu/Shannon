{
 "cells": [
  {
   "cell_type": "code",
   "execution_count": null,
   "id": "e2767923",
   "metadata": {
    "ExecuteTime": {
     "start_time": "2022-01-25T02:25:49.468Z"
    }
   },
   "outputs": [
    {
     "name": "stdout",
     "output_type": "stream",
     "text": [
      "Alpha_Name                                    AlphaNet_No_Decay\n",
      "shift                                                         5\n",
      "sequence                                                      6\n",
      "target                                      10d_ret_standscalar\n",
      "LR                                        [0.001, 1e-05, 1e-07]\n",
      "epoch_num                                          [30, 30, 30]\n",
      "alpha_list    [COV_open_high_10, COV_open_low_10, COV_open_c...\n",
      "status                                                  waiting\n",
      "Name: 1, dtype: object\n",
      "Loading the configuration from /home/ShareFolder/lgc/Modules/Research/config/feature_bt_template\n",
      "['COV_open_high_10', 'COV_open_low_10', 'COV_open_close_10', 'COV_open_vwap_10', 'COV_open_volume_10', 'COV_open_pct_chg_10', 'COV_open_turnover_10', 'COV_open_free_turnover_10', 'COV_high_low_10', 'COV_high_close_10', 'COV_high_vwap_10', 'COV_high_volume_10', 'COV_high_pct_chg_10', 'COV_high_turnover_10', 'COV_high_free_turnover_10', 'COV_low_close_10', 'COV_low_vwap_10', 'COV_low_volume_10', 'COV_low_pct_chg_10', 'COV_low_turnover_10', 'COV_low_free_turnover_10', 'COV_close_vwap_10', 'COV_close_volume_10', 'COV_close_pct_chg_10', 'COV_close_turnover_10', 'COV_close_free_turnover_10', 'COV_vwap_volume_10', 'COV_vwap_pct_chg_10', 'COV_vwap_turnover_10', 'COV_vwap_free_turnover_10', 'COV_volume_pct_chg_10', 'COV_volume_turnover_10', 'COV_volume_free_turnover_10', 'COV_pct_chg_turnover_10', 'COV_pct_chg_free_turnover_10', 'COV_turnover_free_turnover_10', 'CORR_open_high_10', 'CORR_open_low_10', 'CORR_open_close_10', 'CORR_open_vwap_10', 'CORR_open_volume_10', 'CORR_open_pct_chg_10', 'CORR_open_turnover_10', 'CORR_open_free_turnover_10', 'CORR_high_low_10', 'CORR_high_close_10', 'CORR_high_vwap_10', 'CORR_high_volume_10', 'CORR_high_pct_chg_10', 'CORR_high_turnover_10', 'CORR_high_free_turnover_10', 'CORR_low_close_10', 'CORR_low_vwap_10', 'CORR_low_volume_10', 'CORR_low_pct_chg_10', 'CORR_low_turnover_10', 'CORR_low_free_turnover_10', 'CORR_close_vwap_10', 'CORR_close_volume_10', 'CORR_close_pct_chg_10', 'CORR_close_turnover_10', 'CORR_close_free_turnover_10', 'CORR_vwap_volume_10', 'CORR_vwap_pct_chg_10', 'CORR_vwap_turnover_10', 'CORR_vwap_free_turnover_10', 'CORR_volume_pct_chg_10', 'CORR_volume_turnover_10', 'CORR_volume_free_turnover_10', 'CORR_pct_chg_turnover_10', 'CORR_pct_chg_free_turnover_10', 'CORR_turnover_free_turnover_10', 'STD_open_10', 'STD_high_10', 'STD_low_10', 'STD_close_10', 'STD_vwap_10', 'STD_volume_10', 'STD_pct_chg_10', 'STD_turnover_10', 'STD_free_turnover_10', 'ZSCORE_open_10', 'ZSCORE_high_10', 'ZSCORE_low_10', 'ZSCORE_close_10', 'ZSCORE_vwap_10', 'ZSCORE_volume_10', 'ZSCORE_pct_chg_10', 'ZSCORE_turnover_10', 'ZSCORE_free_turnover_10', 'RETURN_open_10', 'RETURN_high_10', 'RETURN_low_10', 'RETURN_close_10', 'RETURN_vwap_10', 'RETURN_volume_10', 'RETURN_pct_chg_10', 'RETURN_turnover_10', 'RETURN_free_turnover_10']\n"
     ]
    },
    {
     "name": "stderr",
     "output_type": "stream",
     "text": [
      "Loading Feature...:  80%|███████████████████████████████████████████████████████████████████▌                | 104748/130185 [05:13<01:01, 415.55it/s]"
     ]
    }
   ],
   "source": [
    "import time\n",
    "import os\n",
    "from Research.backtest.bt import BTDaily\n",
    "import matplotlib.pyplot as plt\n",
    "from Research.feature.ft import FeatureAnalysis\n",
    "import Research.utils.namespace as namespace\n",
    "import Research.utils.normalization as norm\n",
    "from Platform.database.mysql import MysqlAPI\n",
    "from Platform.utils.persistence import convert_to_standard_daily_feature_csv, convert_to_standard_daily_feature_par\n",
    "from Platform.config.mysql_info import FACTOR_LIB_MYSQL_TIO\n",
    "import DataAPI\n",
    "from os import walk\n",
    "import pandas as pd\n",
    "import numpy as np\n",
    "import torch\n",
    "import torch.nn as nn\n",
    "from progressbar import ProgressBar\n",
    "from tqdm import tqdm\n",
    "import multiprocessing as mp\n",
    "import sys\n",
    "sys.path.append(\"/home/wuwenjun/jupyter_code/Shannon/AlphaNet/packages/\")\n",
    "import AlphaNet\n",
    "from AlphaNet.Data import concat_original_data , generate_shift_data\n",
    "# read_task\n",
    "task_info = np.load(\"/home/ShareFolder/feature_platform/ti0/wuwenjun/#Factor_Description/Task.npy\",allow_pickle=True).item()\n",
    "factor_info = task_info[\"Factor\"]\n",
    "if task_info[\"CPU\"] == False:\n",
    "    raise ValueError(\"No CPU is avaliable\")\n",
    "factor_index = factor_info[factor_info[\"status\"] == \"waiting\"].index[0]\n",
    "alpha_name = factor_info.loc[factor_index,\"Alpha_Name\"]\n",
    "shift = factor_info.loc[factor_index,\"shift\"]\n",
    "sequence = factor_info.loc[factor_index,\"sequence\"]\n",
    "target = factor_info.loc[factor_index,\"target\"]\n",
    "LR = factor_info.loc[factor_index,\"LR\"]\n",
    "epoch_num = factor_info.loc[factor_index,\"epoch_num\"]\n",
    "alpha_list = factor_info.loc[factor_index,\"alpha_list\"]\n",
    "factor_info.loc[factor_index,\"status\"] = \"running\"\n",
    "task_info[\"CPU\"] = False\n",
    "np.save(\"/home/ShareFolder/feature_platform/ti0/wuwenjun/#Factor_Description/Task.npy\",task_info)\n",
    "print(factor_info.loc[factor_index,:])\n",
    "if alpha_name not in os.listdir(\"/home/ShareFolder/feature_platform/ti0/wuwenjun/#Data_lib\"):\n",
    "    concat_original_data(alpha_name=alpha_name,alpha_list=alpha_list)\n",
    "generate_shift_data(alpha_name=alpha_name,shift=shift,sequence=sequence,target=target)\n",
    "\n",
    "# Task Generation\n",
    "task_info = np.load(\"/home/ShareFolder/feature_platform/ti0/wuwenjun/#Factor_Description/Task.npy\",allow_pickle=True).item()\n",
    "original = task_info[\"Task\"]\n",
    "# Timelist & Task\n",
    "time_list = [\"2019-01-01\",\"2019-06-01\",\"2020-01-01\",\"2020-06-01\",\"2021-01-01\",\"2021-06-01\"]\n",
    "time_list2 = []\n",
    "for i in range(len(time_list)-1):\n",
    "    time_list2.append([time_list[i],time_list[i+1]])\n",
    "time_list2 = pd.DataFrame(time_list2,columns=[\"start_date\",\"end_date\"])\n",
    "\n",
    "task = pd.DataFrame([\n",
    "                    alpha_name + \"_Shift_%i_Sequence_%i_%s\" % (shift,sequence,target),\n",
    "                    sequence,LR,epoch_num,len(alpha_list),\n",
    "                        ],index=[\"Alpha_Name\",\"sequence\",\"LR\",\"epoch_num\",\"feature_num\"]).T\n",
    "task['value']=1\n",
    "time_list2['value']=1\n",
    "task = pd.merge(task,time_list2,how='left',on='value')\n",
    "del task['value']\n",
    "task[\"status\"] = \"waiting\"\n",
    "task[\"description\"] = [{\n",
    "    \"target\" : target,\n",
    "    \"alpha_name\" : alpha_name,\n",
    "    \"alpha_list\" : alpha_list,\n",
    "    \"shift\" : shift,\n",
    "    \"sequence\" : sequence\n",
    "} for i in range(len(task))]\n",
    "task = pd.concat([original,task],axis=0)\n",
    "task.reset_index(drop=True,inplace=True)\n",
    "task.index.names = [\"task_id\"]\n",
    "task_info[\"Task\"] = task\n",
    "factor_info = task_info[\"Factor\"]\n",
    "factor_info.loc[factor_index,\"status\"] = \"finished\"\n",
    "task_info[\"CPU\"] = True\n",
    "np.save(\"/home/ShareFolder/feature_platform/ti0/wuwenjun/#Factor_Description/Task.npy\",task_info)\n",
    "np.save(\"/home/wuwenjun/jupyter_code/Shannon/AlphaNet/Factor_Description/Task.npy\",task_info)"
   ]
  }
 ],
 "metadata": {
  "kernelspec": {
   "display_name": "Python 3 (ipykernel)",
   "language": "python",
   "name": "python3"
  },
  "language_info": {
   "codemirror_mode": {
    "name": "ipython",
    "version": 3
   },
   "file_extension": ".py",
   "mimetype": "text/x-python",
   "name": "python",
   "nbconvert_exporter": "python",
   "pygments_lexer": "ipython3",
   "version": "3.7.9"
  }
 },
 "nbformat": 4,
 "nbformat_minor": 5
}
