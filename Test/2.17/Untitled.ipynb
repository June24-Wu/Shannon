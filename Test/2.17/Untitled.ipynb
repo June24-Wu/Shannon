{
 "cells": [
  {
   "cell_type": "code",
   "execution_count": 10,
   "id": "c47a984b",
   "metadata": {
    "ExecuteTime": {
     "end_time": "2022-02-17T10:11:28.529050Z",
     "start_time": "2022-02-17T10:11:26.627267Z"
    }
   },
   "outputs": [
    {
     "name": "stdout",
     "output_type": "stream",
     "text": [
      " please enter the task_id:  217\n"
     ]
    }
   ],
   "source": [
    "import time\n",
    "import datetime\n",
    "import os\n",
    "import matplotlib.pyplot as plt\n",
    "from Research.feature.ft import FeatureAnalysis\n",
    "import Research.utils.namespace as namespace\n",
    "import Research.utils.normalization as norm\n",
    "from Platform.database.mysql import MysqlAPI\n",
    "from Platform.utils.persistence import convert_to_standard_daily_feature_csv, convert_to_standard_daily_feature_par\n",
    "from Platform.config.mysql_info import FACTOR_LIB_MYSQL_TIO\n",
    "import DataAPI\n",
    "from os import walk\n",
    "import pandas as pd\n",
    "import numpy as np\n",
    "import torch\n",
    "import torch.nn as nn\n",
    "from progressbar import ProgressBar\n",
    "from tqdm import tqdm\n",
    "import multiprocessing as mp\n",
    "import sys\n",
    "sys.path.append(\"/home/wuwenjun/jupyter_code/Shannon/AlphaNet/packages/\")\n",
    "import AlphaNet\n",
    "from AlphaNet.Data import DataLoader\n",
    "from AlphaNet.Models import Res_LSTM\n",
    "\n",
    "# read_task\n",
    "task_info = np.load(\"/home/ShareFolder/feature_platform/ti0/wuwenjun/#Factor_Description/Task.npy\",allow_pickle=True).item()\n",
    "task = task_info[\"Task\"]\n",
    "task_index = int(input(\" please enter the task_id:  \"))\n",
    "Alpha_Name = task.loc[task_index,\"Alpha_Name\"]\n",
    "start_date = task.loc[task_index,\"start_date\"]\n",
    "end_date = task.loc[task_index,\"end_date\"]\n",
    "sequence = task.loc[task_index,\"sequence\"]\n",
    "LR = task.loc[task_index,\"LR\"]\n",
    "epoch_num = task.loc[task_index,\"epoch_num\"]\n",
    "feature_num = task.loc[task_index,\"feature_num\"]"
   ]
  },
  {
   "cell_type": "code",
   "execution_count": 8,
   "id": "df164933",
   "metadata": {
    "ExecuteTime": {
     "end_time": "2022-02-27T09:08:37.866739Z",
     "start_time": "2022-02-27T09:08:33.521299Z"
    }
   },
   "outputs": [
    {
     "data": {
      "text/plain": [
       "'/home/wuwenjun/jupyter_code/Shannon/Modules'"
      ]
     },
     "execution_count": 8,
     "metadata": {},
     "output_type": "execute_result"
    }
   ],
   "source": [
    "import shutil\n",
    "shutil.copytree(r'/home/ShareFolder/lgc/Modules', r'/home/wuwenjun/jupyter_code/Shannon/Modules')"
   ]
  },
  {
   "cell_type": "code",
   "execution_count": 17,
   "id": "2ac9cb96",
   "metadata": {
    "ExecuteTime": {
     "end_time": "2022-02-17T10:35:15.390238Z",
     "start_time": "2022-02-17T10:35:15.314581Z"
    }
   },
   "outputs": [
    {
     "name": "stdout",
     "output_type": "stream",
     "text": [
      "Res_LSTM(\n",
      "  (bn1): BatchNorm1d(6180, eps=1e-05, momentum=0.1, affine=True, track_running_stats=True)\n",
      "  (bn2): BatchNorm1d(4120, eps=1e-05, momentum=0.1, affine=True, track_running_stats=True)\n",
      "  (bn3): BatchNorm1d(206, eps=1e-05, momentum=0.1, affine=True, track_running_stats=True)\n",
      "  (lstm): LSTM(103, 103, num_layers=2, batch_first=True, dropout=0.2, bidirectional=True)\n",
      "  (TransformerLayer1): TransformerEncoderLayer(\n",
      "    (self_attn): MultiheadAttention(\n",
      "      (out_proj): NonDynamicallyQuantizableLinear(in_features=103, out_features=103, bias=True)\n",
      "    )\n",
      "    (linear1): Linear(in_features=103, out_features=2048, bias=True)\n",
      "    (dropout): Dropout(p=0.1, inplace=False)\n",
      "    (linear2): Linear(in_features=2048, out_features=103, bias=True)\n",
      "    (norm1): LayerNorm((103,), eps=1e-05, elementwise_affine=True)\n",
      "    (norm2): LayerNorm((103,), eps=1e-05, elementwise_affine=True)\n",
      "    (dropout1): Dropout(p=0.1, inplace=False)\n",
      "    (dropout2): Dropout(p=0.1, inplace=False)\n",
      "  )\n",
      "  (TransformerLayer2): TransformerEncoderLayer(\n",
      "    (self_attn): MultiheadAttention(\n",
      "      (out_proj): NonDynamicallyQuantizableLinear(in_features=103, out_features=103, bias=True)\n",
      "    )\n",
      "    (linear1): Linear(in_features=103, out_features=2048, bias=True)\n",
      "    (dropout): Dropout(p=0.1, inplace=False)\n",
      "    (linear2): Linear(in_features=2048, out_features=103, bias=True)\n",
      "    (norm1): LayerNorm((103,), eps=1e-05, elementwise_affine=True)\n",
      "    (norm2): LayerNorm((103,), eps=1e-05, elementwise_affine=True)\n",
      "    (dropout1): Dropout(p=0.1, inplace=False)\n",
      "    (dropout2): Dropout(p=0.1, inplace=False)\n",
      "  )\n",
      "  (TransformerLayer3): TransformerEncoderLayer(\n",
      "    (self_attn): MultiheadAttention(\n",
      "      (out_proj): NonDynamicallyQuantizableLinear(in_features=103, out_features=103, bias=True)\n",
      "    )\n",
      "    (linear1): Linear(in_features=103, out_features=2048, bias=True)\n",
      "    (dropout): Dropout(p=0.1, inplace=False)\n",
      "    (linear2): Linear(in_features=2048, out_features=103, bias=True)\n",
      "    (norm1): LayerNorm((103,), eps=1e-05, elementwise_affine=True)\n",
      "    (norm2): LayerNorm((103,), eps=1e-05, elementwise_affine=True)\n",
      "    (dropout1): Dropout(p=0.1, inplace=False)\n",
      "    (dropout2): Dropout(p=0.1, inplace=False)\n",
      "  )\n",
      "  (TransformerLayer4): TransformerEncoderLayer(\n",
      "    (self_attn): MultiheadAttention(\n",
      "      (out_proj): NonDynamicallyQuantizableLinear(in_features=103, out_features=103, bias=True)\n",
      "    )\n",
      "    (linear1): Linear(in_features=103, out_features=2048, bias=True)\n",
      "    (dropout): Dropout(p=0.1, inplace=False)\n",
      "    (linear2): Linear(in_features=2048, out_features=103, bias=True)\n",
      "    (norm1): LayerNorm((103,), eps=1e-05, elementwise_affine=True)\n",
      "    (norm2): LayerNorm((103,), eps=1e-05, elementwise_affine=True)\n",
      "    (dropout1): Dropout(p=0.1, inplace=False)\n",
      "    (dropout2): Dropout(p=0.1, inplace=False)\n",
      "  )\n",
      "  (dropout): Dropout(p=0.2, inplace=False)\n",
      "  (LeakyReLU): LeakyReLU(negative_slope=0.01)\n",
      "  (out): Linear(in_features=206, out_features=1, bias=True)\n",
      ")\n"
     ]
    }
   ],
   "source": [
    "# Model Loader\n",
    "\n",
    "loss_function = nn.MSELoss()\n",
    "model = torch.load(\"/home/wuwenjun/Alpha_Factor/AlphaNetV4_LSTM/2019-01-01_2019-06-01/\" + \"best_model.tar\")\n",
    "model_loader = AlphaNet.Model_Loader(model = model,device=\"cuda:1\")\n",
    "print(model_loader.model)"
   ]
  },
  {
   "cell_type": "code",
   "execution_count": 18,
   "id": "c46888d0",
   "metadata": {
    "ExecuteTime": {
     "end_time": "2022-02-17T10:38:12.359279Z",
     "start_time": "2022-02-17T10:35:51.835917Z"
    }
   },
   "outputs": [
    {
     "name": "stderr",
     "output_type": "stream",
     "text": [
      "100%|██████████| 98/98 [01:39<00:00,  1.01s/it]\n"
     ]
    }
   ],
   "source": [
    "data_path = \"/home/wuwenjun/Data/\"\n",
    "# Test\n",
    "testloader = DataLoader()\n",
    "testloader.load_data_from_file(alpha_name = Alpha_Name,start_date = start_date,end_date = end_date,data_path = data_path)\n",
    "test_loader = testloader.to_torch_DataLoader(shape = [3,sequence,feature_num],shuffle=False)"
   ]
  },
  {
   "cell_type": "code",
   "execution_count": 19,
   "id": "7e8e3cf6",
   "metadata": {
    "ExecuteTime": {
     "end_time": "2022-02-17T10:38:20.365206Z",
     "start_time": "2022-02-17T10:38:20.313180Z"
    }
   },
   "outputs": [],
   "source": [
    "model_loader.device = \"cuda:1\"\n",
    "model_loader.model = model_loader.model.to(\"cuda:1\")"
   ]
  },
  {
   "cell_type": "code",
   "execution_count": 20,
   "id": "863cfe19",
   "metadata": {
    "ExecuteTime": {
     "end_time": "2022-02-17T10:38:59.649126Z",
     "start_time": "2022-02-17T10:38:22.513142Z"
    }
   },
   "outputs": [],
   "source": [
    "pred = model_loader.pred(test_loader)\n",
    "# convert to standard daily and back test\n",
    "final = pd.concat([testloader.target.reset_index(),pred],axis=1)\n",
    "final.rename(columns={0:Alpha_Name,'ticker': 'symbol'},inplace=True)"
   ]
  },
  {
   "cell_type": "code",
   "execution_count": 21,
   "id": "5eb8ad82",
   "metadata": {
    "ExecuteTime": {
     "end_time": "2022-02-17T10:39:59.840558Z",
     "start_time": "2022-02-17T10:39:03.581213Z"
    }
   },
   "outputs": [
    {
     "name": "stderr",
     "output_type": "stream",
     "text": [
      "Loading Feature...: 100%|██████████████████████████████████████████████████████████████████████████████████████████| 341/341 [00:01<00:00, 262.89it/s]\n",
      "Loading target...: 100%|███████████████████████████████████████████████████████████████████████████████████████████| 341/341 [00:01<00:00, 231.82it/s]\n",
      "Merging feature and return...: 100%|███████████████████████████████████████████████████████████████████████████████| 341/341 [00:02<00:00, 125.55it/s]\n",
      "Calculating IC value...: 100%|█████████████████████████████████████████████████████████████████████████████████████| 341/341 [00:00<00:00, 578.83it/s]\n",
      "Calculating IC value...: 100%|█████████████████████████████████████████████████████████████████████████████████████| 341/341 [00:00<00:00, 529.91it/s]\n"
     ]
    },
    {
     "name": "stdout",
     "output_type": "stream",
     "text": [
      "\n",
      "IC table for feature \"AlphaNetV4_LSTM\" (mean std IR):\n",
      "+-------------------+--------------------+--------------------+--------------------+--------------------+--------------------+\n",
      "|      period       |  IC_AlphaNetV4_1d  |  IC_AlphaNetV4_2d  |  IC_AlphaNetV4_3d  |  IC_AlphaNetV4_4d  |  IC_AlphaNetV4_5d  |\n",
      "+===================+====================+====================+====================+====================+====================+\n",
      "| 20190102-20190630 |   4.81 4.98 0.97   |   6.21 5.42 1.15   |   6.92 5.91 1.17   |   7.47 6.33 1.18   |   7.96 6.62 1.20   |\n",
      "+-------------------+--------------------+--------------------+--------------------+--------------------+--------------------+\n",
      "| 20190701-20191231 |   2.66 3.59 0.74   |   3.20 3.38 0.95   |   3.59 3.25 1.10   |   3.90 3.26 1.20   |   4.06 3.25 1.25   |\n",
      "+-------------------+--------------------+--------------------+--------------------+--------------------+--------------------+\n",
      "| 20200101-20200630 |   2.75 5.47 0.50   |   3.34 5.20 0.64   |   3.70 4.91 0.75   |   4.08 4.67 0.87   |   4.33 4.38 0.99   |\n",
      "+-------------------+--------------------+--------------------+--------------------+--------------------+--------------------+\n",
      "\n",
      "IC summary for feature \"AlphaNetV4_LSTM\":\n",
      "+-------------------+--------------------+--------------------+--------------------+--------------------+--------------------+\n",
      "|      period       |  IC_AlphaNetV4_1d  |  IC_AlphaNetV4_2d  |  IC_AlphaNetV4_3d  |  IC_AlphaNetV4_4d  |  IC_AlphaNetV4_5d  |\n",
      "+===================+====================+====================+====================+====================+====================+\n",
      "| 20190102-20200529 |   3.42 4.76 0.72   |   4.29 4.88 0.88   |   4.78 5.01 0.95   |   5.18 5.16 1.00   |   5.49 5.25 1.04   |\n",
      "+-------------------+--------------------+--------------------+--------------------+--------------------+--------------------+\n"
     ]
    },
    {
     "name": "stderr",
     "output_type": "stream",
     "text": [
      "Getting BT result for date: 20200529...: 100%|██████████████████████████████████████████████████████████████████████| 341/341 [00:05<00:00, 58.51it/s]\n"
     ]
    },
    {
     "name": "stdout",
     "output_type": "stream",
     "text": [
      "\n",
      "AlphaNetV4_LSTM back-test result for long-only mode:\n",
      "\n",
      "Back test summary: \"long-only\" mode\n",
      "+-------------------+-------------+----------+-----------+------------+----------+-------------+-------------------------+-------------------+------------+\n",
      "|      period       |  stock_num  |  return  |  ret_std  |  ret_year  |  sharpe  |  win_ratio  |      max_dd|period      |  max_dd_day|date  |  turnover  |\n",
      "+===================+=============+==========+===========+============+==========+=============+=========================+===================+============+\n",
      "| 20190102-20190630 |     341     |   8.47   |   5.94    |   18.07    |   2.96   |    60.68    | 3.77(20190116-20190131) |  1.28(20190131)   |   48.59    |\n",
      "+-------------------+-------------+----------+-----------+------------+----------+-------------+-------------------------+-------------------+------------+\n",
      "| 20190701-20191231 |     343     |  -7.60   |   4.03    |   -14.03   |  -3.92   |    39.20    | 7.92(20190702-20191231) |  0.77(20190722)   |   49.40    |\n",
      "+-------------------+-------------+----------+-----------+------------+----------+-------------+-------------------------+-------------------+------------+\n",
      "| 20200101-20200529 |     359     |  -5.31   |   7.44    |   -12.67   |  -1.93   |    44.79    | 6.51(20200103-20200522) |  2.20(20200204)   |   48.34    |\n",
      "+-------------------+-------------+----------+-----------+------------+----------+-------------+-------------------------+-------------------+------------+\n"
     ]
    }
   ],
   "source": [
    "model_path= \"/home/wuwenjun/Alpha_Factor/AlphaNetV4_LSTM/2020-01-01_2020-06-01/\"\n",
    "final.to_parquet(model_path + \"result.par\")\n",
    "convert_to_standard_daily_feature_csv(Alpha_Name, final.drop(\"target\",axis=1), output_path = r'/home/wuwenjun/factor_lib/ti0/wuwenjun')\n",
    "\n",
    "# back test\n",
    "\n",
    "pd.set_option('expand_frame_repr', False)\n",
    "configs = namespace.load_namespace(r'/home/ShareFolder/lgc/Modules/Research/config/feature_bt_template')\n",
    "FT = FeatureAnalysis(configs, feature_path=r\"/home/wuwenjun/factor_lib\")\n",
    "\n",
    "FT.load_feature_from_file(Alpha_Name, \"2019-01-01\", end_date, universe='Investable',timedelta=None, transformer=norm.standard_scale)\n",
    "FT.load_return_data()\n",
    "FT.get_intersection_ic(feature_name=Alpha_Name, truncate_fold=None, method='spearman',period=('1d', '3d', '5d'))\n",
    "ic_flag, trading_direction = FT.test_ic(Alpha_Name, verbose=False)\n",
    "df, df_all = FT.get_ic_summary_by_month(num=6)\n",
    "\n",
    "if trading_direction == -1:\n",
    "    negative = True\n",
    "else:\n",
    "    negative = False\n",
    "\n",
    "\n",
    "# save txt\n",
    "f = open(model_path + 'back_test.txt','a')\n",
    "print(df,end=\"\\n\"*3,file = f)\n",
    "a = FT.get_top_return(Alpha_Name, negative= False, trade_type='long-only', transmission_rate=0.00025,\n",
    "                        tax_rate=0.001, verbose=True,bt_price = \"vwap\",trade_period=6)\n",
    "print(a[1],end = \"\\n\"*3+\"*\"*100 ,file = f)\n",
    "f.close()"
   ]
  },
  {
   "cell_type": "code",
   "execution_count": null,
   "id": "0d088d3d",
   "metadata": {},
   "outputs": [],
   "source": []
  }
 ],
 "metadata": {
  "kernelspec": {
   "display_name": "Python 3 (ipykernel)",
   "language": "python",
   "name": "python3"
  },
  "language_info": {
   "codemirror_mode": {
    "name": "ipython",
    "version": 3
   },
   "file_extension": ".py",
   "mimetype": "text/x-python",
   "name": "python",
   "nbconvert_exporter": "python",
   "pygments_lexer": "ipython3",
   "version": "3.7.9"
  }
 },
 "nbformat": 4,
 "nbformat_minor": 5
}
