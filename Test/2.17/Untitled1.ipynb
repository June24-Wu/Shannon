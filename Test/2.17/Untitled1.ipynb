{
 "cells": [
  {
   "cell_type": "code",
   "execution_count": 45,
   "id": "8b609e9b",
   "metadata": {
    "ExecuteTime": {
     "end_time": "2022-03-09T08:47:58.365989Z",
     "start_time": "2022-03-09T08:47:51.355438Z"
    }
   },
   "outputs": [
    {
     "name": "stdout",
     "output_type": "stream",
     "text": [
      "Please Input the [Alpha_Name] that you want to load three dimention data: Test\n",
      "Please Input the different moving days(split with ',' such as 10,5,20): 10,5,20\n"
     ]
    }
   ],
   "source": [
    "alpha_name = input(\"Please Input the [Alpha_Name] that you want to load three dimention data: \")\n",
    "split_day = input(\"Please Input the different moving days(split with ',' such as 10,5,20): \")\n",
    "split_day = split_day.split(\",\")"
   ]
  },
  {
   "cell_type": "code",
   "execution_count": 50,
   "id": "8ac815a8",
   "metadata": {
    "ExecuteTime": {
     "end_time": "2022-03-09T09:03:57.973754Z",
     "start_time": "2022-03-09T09:03:57.959283Z"
    }
   },
   "outputs": [],
   "source": [
    "task_info = np.load(\"/home/ShareFolder/feature_platform/ti0/wuwenjun/#Factor_Description/Task.npy\",allow_pickle=True).item()\n",
    "factor_info = task_info[\"Factor\"]\n",
    "a = factor_info.iloc[-2:,:].copy()"
   ]
  },
  {
   "cell_type": "code",
   "execution_count": 84,
   "id": "ae6eb51d",
   "metadata": {
    "ExecuteTime": {
     "end_time": "2022-03-09T09:22:05.285756Z",
     "start_time": "2022-03-09T09:22:05.195690Z"
    }
   },
   "outputs": [
    {
     "data": {
      "text/html": [
       "<div>\n",
       "<style scoped>\n",
       "    .dataframe tbody tr th:only-of-type {\n",
       "        vertical-align: middle;\n",
       "    }\n",
       "\n",
       "    .dataframe tbody tr th {\n",
       "        vertical-align: top;\n",
       "    }\n",
       "\n",
       "    .dataframe thead th {\n",
       "        text-align: right;\n",
       "    }\n",
       "</style>\n",
       "<table border=\"1\" class=\"dataframe\">\n",
       "  <thead>\n",
       "    <tr style=\"text-align: right;\">\n",
       "      <th></th>\n",
       "      <th>Alpha_Name</th>\n",
       "      <th>shift</th>\n",
       "      <th>sequence</th>\n",
       "      <th>target</th>\n",
       "      <th>LR</th>\n",
       "      <th>epoch_num</th>\n",
       "      <th>alpha_list</th>\n",
       "      <th>universe</th>\n",
       "      <th>status</th>\n",
       "    </tr>\n",
       "  </thead>\n",
       "  <tbody>\n",
       "    <tr>\n",
       "      <th>0</th>\n",
       "      <td>AlphaNet_ConcatMoving5And10</td>\n",
       "      <td>5</td>\n",
       "      <td>6</td>\n",
       "      <td>10d_ret_standscalar</td>\n",
       "      <td>[0.001, 1e-05, 1e-07]</td>\n",
       "      <td>[30, 30, 30]</td>\n",
       "      <td>[COV_open_high_5, COV_open_high_10, COV_open_l...</td>\n",
       "      <td>Investable</td>\n",
       "      <td>finished</td>\n",
       "    </tr>\n",
       "    <tr>\n",
       "      <th>1</th>\n",
       "      <td>AlphaNet_No_Decay</td>\n",
       "      <td>5</td>\n",
       "      <td>6</td>\n",
       "      <td>10d_ret_standscalar</td>\n",
       "      <td>[0.001, 1e-05, 1e-07]</td>\n",
       "      <td>[30, 30, 30]</td>\n",
       "      <td>[COV_open_high_10, COV_open_low_10, COV_open_c...</td>\n",
       "      <td>Investable</td>\n",
       "      <td>finished</td>\n",
       "    </tr>\n",
       "    <tr>\n",
       "      <th>2</th>\n",
       "      <td>AlphaNet_No_Return</td>\n",
       "      <td>5</td>\n",
       "      <td>6</td>\n",
       "      <td>10d_ret_standscalar</td>\n",
       "      <td>[0.001, 1e-05, 1e-07]</td>\n",
       "      <td>[30, 30, 30]</td>\n",
       "      <td>[COV_open_high_10, COV_open_low_10, COV_open_c...</td>\n",
       "      <td>Investable</td>\n",
       "      <td>finished</td>\n",
       "    </tr>\n",
       "    <tr>\n",
       "      <th>3</th>\n",
       "      <td>AlphaNet_No_ZSCORE</td>\n",
       "      <td>5</td>\n",
       "      <td>6</td>\n",
       "      <td>10d_ret_standscalar</td>\n",
       "      <td>[0.001, 1e-05, 1e-07]</td>\n",
       "      <td>[30, 30, 30]</td>\n",
       "      <td>[COV_open_high_10, COV_open_low_10, COV_open_c...</td>\n",
       "      <td>Investable</td>\n",
       "      <td>finished</td>\n",
       "    </tr>\n",
       "    <tr>\n",
       "      <th>4</th>\n",
       "      <td>AlphaNet_No_STD</td>\n",
       "      <td>5</td>\n",
       "      <td>6</td>\n",
       "      <td>10d_ret_standscalar</td>\n",
       "      <td>[0.001, 1e-05, 1e-07]</td>\n",
       "      <td>[30, 30, 30]</td>\n",
       "      <td>[COV_open_high_10, COV_open_low_10, COV_open_c...</td>\n",
       "      <td>Investable</td>\n",
       "      <td>finished</td>\n",
       "    </tr>\n",
       "    <tr>\n",
       "      <th>5</th>\n",
       "      <td>AlphaNet_No_CORR</td>\n",
       "      <td>5</td>\n",
       "      <td>6</td>\n",
       "      <td>10d_ret_standscalar</td>\n",
       "      <td>[0.001, 1e-05, 1e-07]</td>\n",
       "      <td>[30, 30, 30]</td>\n",
       "      <td>[COV_open_high_10, COV_open_low_10, COV_open_c...</td>\n",
       "      <td>Investable</td>\n",
       "      <td>finished</td>\n",
       "    </tr>\n",
       "    <tr>\n",
       "      <th>6</th>\n",
       "      <td>AlphaNet_No_COV</td>\n",
       "      <td>5</td>\n",
       "      <td>6</td>\n",
       "      <td>10d_ret_standscalar</td>\n",
       "      <td>[0.001, 1e-05, 1e-07]</td>\n",
       "      <td>[30, 30, 30]</td>\n",
       "      <td>[CORR_open_high_10, CORR_open_low_10, CORR_ope...</td>\n",
       "      <td>Investable</td>\n",
       "      <td>finished</td>\n",
       "    </tr>\n",
       "    <tr>\n",
       "      <th>7</th>\n",
       "      <td>AlphaNetV1</td>\n",
       "      <td>1</td>\n",
       "      <td>20</td>\n",
       "      <td>10d_ret_standscalar</td>\n",
       "      <td>[0.001, 1e-05, 1e-07]</td>\n",
       "      <td>[30, 30, 30]</td>\n",
       "      <td>[COV_open_high_10, COV_open_low_10, COV_open_c...</td>\n",
       "      <td>Investable</td>\n",
       "      <td>finished</td>\n",
       "    </tr>\n",
       "    <tr>\n",
       "      <th>8</th>\n",
       "      <td>AlphaNet_8Input</td>\n",
       "      <td>1</td>\n",
       "      <td>20</td>\n",
       "      <td>10d_ret_standscalar</td>\n",
       "      <td>[0.001, 1e-05, 1e-07]</td>\n",
       "      <td>[30, 30, 30]</td>\n",
       "      <td>[COV_div_open_close_div_high_close_10, COV_div...</td>\n",
       "      <td>Investable</td>\n",
       "      <td>finished</td>\n",
       "    </tr>\n",
       "    <tr>\n",
       "      <th>9</th>\n",
       "      <td>Original_Input_Ts_Standard</td>\n",
       "      <td>1</td>\n",
       "      <td>30</td>\n",
       "      <td>10d_ret_standscalar</td>\n",
       "      <td>[0.001, 1e-05, 1e-07]</td>\n",
       "      <td>[30, 30, 30]</td>\n",
       "      <td>[open_ts_norm_30d, high_ts_norm_30d, low_ts_no...</td>\n",
       "      <td>Investable</td>\n",
       "      <td>finished</td>\n",
       "    </tr>\n",
       "    <tr>\n",
       "      <th>10</th>\n",
       "      <td>AlphaNet_8Input_Float2000</td>\n",
       "      <td>1</td>\n",
       "      <td>20</td>\n",
       "      <td>10dRet</td>\n",
       "      <td>[0.001, 1e-05, 1e-07]</td>\n",
       "      <td>[30, 30, 30]</td>\n",
       "      <td>[COV_div_open_close_div_high_close_10, COV_div...</td>\n",
       "      <td>Float2000</td>\n",
       "      <td>finished</td>\n",
       "    </tr>\n",
       "    <tr>\n",
       "      <th>11</th>\n",
       "      <td>AlphaNet_8Input_GoldStock_14h</td>\n",
       "      <td>1</td>\n",
       "      <td>20</td>\n",
       "      <td>10dRet</td>\n",
       "      <td>[0.001, 1e-05, 1e-07]</td>\n",
       "      <td>[30, 30, 30]</td>\n",
       "      <td>[COV_div_open_close_div_high_close_10, COV_div...</td>\n",
       "      <td>GoldStock_14h</td>\n",
       "      <td>01-27_16:03</td>\n",
       "    </tr>\n",
       "    <tr>\n",
       "      <th>12</th>\n",
       "      <td>AlphaNet_8Input_FundsHoldings_FangXin_One</td>\n",
       "      <td>1</td>\n",
       "      <td>20</td>\n",
       "      <td>10dRet</td>\n",
       "      <td>[0.001, 1e-05, 1e-07]</td>\n",
       "      <td>[30, 30, 30]</td>\n",
       "      <td>[COV_div_open_close_div_high_close_10, COV_div...</td>\n",
       "      <td>FundsHoldings_FangXin_One</td>\n",
       "      <td>finished</td>\n",
       "    </tr>\n",
       "    <tr>\n",
       "      <th>13</th>\n",
       "      <td>AlphaNet_8Input_FundsHoldings_FangXin_Two</td>\n",
       "      <td>1</td>\n",
       "      <td>20</td>\n",
       "      <td>10dRet</td>\n",
       "      <td>[0.001, 1e-05, 1e-07]</td>\n",
       "      <td>[30, 30, 30]</td>\n",
       "      <td>[COV_div_open_close_div_high_close_10, COV_div...</td>\n",
       "      <td>FundsHoldings_FangXin_Two</td>\n",
       "      <td>finished</td>\n",
       "    </tr>\n",
       "    <tr>\n",
       "      <th>14</th>\n",
       "      <td>AlphaNet_8Input_FundsHeavyHoldings_200</td>\n",
       "      <td>1</td>\n",
       "      <td>20</td>\n",
       "      <td>10dRet</td>\n",
       "      <td>[0.001, 1e-05, 1e-07]</td>\n",
       "      <td>[30, 30, 30]</td>\n",
       "      <td>[COV_div_open_close_div_high_close_10, COV_div...</td>\n",
       "      <td>FundsHeavyHoldings_200</td>\n",
       "      <td>finished</td>\n",
       "    </tr>\n",
       "    <tr>\n",
       "      <th>15</th>\n",
       "      <td>AlphaNet_8Input_FundsHeavyHoldingsFilter</td>\n",
       "      <td>1</td>\n",
       "      <td>20</td>\n",
       "      <td>10dRet</td>\n",
       "      <td>[0.001, 1e-05, 1e-07]</td>\n",
       "      <td>[30, 30, 30]</td>\n",
       "      <td>[COV_div_open_close_div_high_close_10, COV_div...</td>\n",
       "      <td>FundsHeavyHoldingsFilter</td>\n",
       "      <td>error</td>\n",
       "    </tr>\n",
       "    <tr>\n",
       "      <th>16</th>\n",
       "      <td>AlphaNetV4</td>\n",
       "      <td>1</td>\n",
       "      <td>20</td>\n",
       "      <td>10dRet</td>\n",
       "      <td>[0.001, 1e-05, 1e-07]</td>\n",
       "      <td>[30, 30, 30]</td>\n",
       "      <td>[COV_div_open_close_div_high_close, COV_div_op...</td>\n",
       "      <td>Investable</td>\n",
       "      <td>waiting</td>\n",
       "    </tr>\n",
       "    <tr>\n",
       "      <th>17</th>\n",
       "      <td>Test</td>\n",
       "      <td>1</td>\n",
       "      <td>20</td>\n",
       "      <td>10dRet</td>\n",
       "      <td>[0.001, 1e-05, 1e-07]</td>\n",
       "      <td>[30, 30, 30]</td>\n",
       "      <td>[COV_div_open_close_div_high_close, COV_div_op...</td>\n",
       "      <td>Investable</td>\n",
       "      <td>Running: 17:02</td>\n",
       "    </tr>\n",
       "  </tbody>\n",
       "</table>\n",
       "</div>"
      ],
      "text/plain": [
       "                                   Alpha_Name shift sequence  \\\n",
       "0                 AlphaNet_ConcatMoving5And10     5        6   \n",
       "1                           AlphaNet_No_Decay     5        6   \n",
       "2                          AlphaNet_No_Return     5        6   \n",
       "3                          AlphaNet_No_ZSCORE     5        6   \n",
       "4                             AlphaNet_No_STD     5        6   \n",
       "5                            AlphaNet_No_CORR     5        6   \n",
       "6                             AlphaNet_No_COV     5        6   \n",
       "7                                  AlphaNetV1     1       20   \n",
       "8                             AlphaNet_8Input     1       20   \n",
       "9                  Original_Input_Ts_Standard     1       30   \n",
       "10                  AlphaNet_8Input_Float2000     1       20   \n",
       "11              AlphaNet_8Input_GoldStock_14h     1       20   \n",
       "12  AlphaNet_8Input_FundsHoldings_FangXin_One     1       20   \n",
       "13  AlphaNet_8Input_FundsHoldings_FangXin_Two     1       20   \n",
       "14     AlphaNet_8Input_FundsHeavyHoldings_200     1       20   \n",
       "15   AlphaNet_8Input_FundsHeavyHoldingsFilter     1       20   \n",
       "16                                 AlphaNetV4     1       20   \n",
       "17                                       Test     1       20   \n",
       "\n",
       "                 target                     LR     epoch_num  \\\n",
       "0   10d_ret_standscalar  [0.001, 1e-05, 1e-07]  [30, 30, 30]   \n",
       "1   10d_ret_standscalar  [0.001, 1e-05, 1e-07]  [30, 30, 30]   \n",
       "2   10d_ret_standscalar  [0.001, 1e-05, 1e-07]  [30, 30, 30]   \n",
       "3   10d_ret_standscalar  [0.001, 1e-05, 1e-07]  [30, 30, 30]   \n",
       "4   10d_ret_standscalar  [0.001, 1e-05, 1e-07]  [30, 30, 30]   \n",
       "5   10d_ret_standscalar  [0.001, 1e-05, 1e-07]  [30, 30, 30]   \n",
       "6   10d_ret_standscalar  [0.001, 1e-05, 1e-07]  [30, 30, 30]   \n",
       "7   10d_ret_standscalar  [0.001, 1e-05, 1e-07]  [30, 30, 30]   \n",
       "8   10d_ret_standscalar  [0.001, 1e-05, 1e-07]  [30, 30, 30]   \n",
       "9   10d_ret_standscalar  [0.001, 1e-05, 1e-07]  [30, 30, 30]   \n",
       "10               10dRet  [0.001, 1e-05, 1e-07]  [30, 30, 30]   \n",
       "11               10dRet  [0.001, 1e-05, 1e-07]  [30, 30, 30]   \n",
       "12               10dRet  [0.001, 1e-05, 1e-07]  [30, 30, 30]   \n",
       "13               10dRet  [0.001, 1e-05, 1e-07]  [30, 30, 30]   \n",
       "14               10dRet  [0.001, 1e-05, 1e-07]  [30, 30, 30]   \n",
       "15               10dRet  [0.001, 1e-05, 1e-07]  [30, 30, 30]   \n",
       "16               10dRet  [0.001, 1e-05, 1e-07]  [30, 30, 30]   \n",
       "17               10dRet  [0.001, 1e-05, 1e-07]  [30, 30, 30]   \n",
       "\n",
       "                                           alpha_list  \\\n",
       "0   [COV_open_high_5, COV_open_high_10, COV_open_l...   \n",
       "1   [COV_open_high_10, COV_open_low_10, COV_open_c...   \n",
       "2   [COV_open_high_10, COV_open_low_10, COV_open_c...   \n",
       "3   [COV_open_high_10, COV_open_low_10, COV_open_c...   \n",
       "4   [COV_open_high_10, COV_open_low_10, COV_open_c...   \n",
       "5   [COV_open_high_10, COV_open_low_10, COV_open_c...   \n",
       "6   [CORR_open_high_10, CORR_open_low_10, CORR_ope...   \n",
       "7   [COV_open_high_10, COV_open_low_10, COV_open_c...   \n",
       "8   [COV_div_open_close_div_high_close_10, COV_div...   \n",
       "9   [open_ts_norm_30d, high_ts_norm_30d, low_ts_no...   \n",
       "10  [COV_div_open_close_div_high_close_10, COV_div...   \n",
       "11  [COV_div_open_close_div_high_close_10, COV_div...   \n",
       "12  [COV_div_open_close_div_high_close_10, COV_div...   \n",
       "13  [COV_div_open_close_div_high_close_10, COV_div...   \n",
       "14  [COV_div_open_close_div_high_close_10, COV_div...   \n",
       "15  [COV_div_open_close_div_high_close_10, COV_div...   \n",
       "16  [COV_div_open_close_div_high_close, COV_div_op...   \n",
       "17  [COV_div_open_close_div_high_close, COV_div_op...   \n",
       "\n",
       "                     universe          status  \n",
       "0                  Investable        finished  \n",
       "1                  Investable        finished  \n",
       "2                  Investable        finished  \n",
       "3                  Investable        finished  \n",
       "4                  Investable        finished  \n",
       "5                  Investable        finished  \n",
       "6                  Investable        finished  \n",
       "7                  Investable        finished  \n",
       "8                  Investable        finished  \n",
       "9                  Investable        finished  \n",
       "10                  Float2000        finished  \n",
       "11              GoldStock_14h     01-27_16:03  \n",
       "12  FundsHoldings_FangXin_One        finished  \n",
       "13  FundsHoldings_FangXin_Two        finished  \n",
       "14     FundsHeavyHoldings_200        finished  \n",
       "15   FundsHeavyHoldingsFilter           error  \n",
       "16                 Investable         waiting  \n",
       "17                 Investable  Running: 17:02  "
      ]
     },
     "execution_count": 84,
     "metadata": {},
     "output_type": "execute_result"
    }
   ],
   "source": [
    "check = np.load(\"./Task.npy\",allow_pickle=True).item()\n",
    "check[\"Factor\"]"
   ]
  },
  {
   "cell_type": "code",
   "execution_count": 83,
   "id": "cf344945",
   "metadata": {
    "ExecuteTime": {
     "end_time": "2022-03-09T09:09:39.731243Z",
     "start_time": "2022-03-09T09:09:39.720612Z"
    }
   },
   "outputs": [],
   "source": [
    "np.save(\"./Task.npy\",task_info)"
   ]
  },
  {
   "cell_type": "code",
   "execution_count": 7,
   "id": "65d7c899",
   "metadata": {
    "ExecuteTime": {
     "end_time": "2022-03-09T08:29:19.211416Z",
     "start_time": "2022-03-09T08:29:15.623075Z"
    }
   },
   "outputs": [
    {
     "name": "stdout",
     "output_type": "stream",
     "text": [
      "Loading the configuration from /home/ShareFolder/lgc/Modules/Research/config/feature_bt_template\n"
     ]
    }
   ],
   "source": [
    "import datetime\n",
    "import os\n",
    "import pandas as pd\n",
    "import numpy as np\n",
    "import sys\n",
    "sys.path.append(\"/home/wuwenjun/jupyter_code/Shannon/AlphaNet/packages/\")\n",
    "import AlphaNet\n",
    "from AlphaNet.Data import concat_original_data , generate_shift_data , DataLoader"
   ]
  },
  {
   "cell_type": "code",
   "execution_count": 46,
   "id": "3cd56760",
   "metadata": {
    "ExecuteTime": {
     "end_time": "2022-03-09T08:48:21.165824Z",
     "start_time": "2022-03-09T08:48:21.116089Z"
    }
   },
   "outputs": [
    {
     "ename": "ValueError",
     "evalue": "can only convert an array of size 1 to a Python scalar",
     "output_type": "error",
     "traceback": [
      "\u001b[0;31m---------------------------------------------------------------------------\u001b[0m",
      "\u001b[0;31mValueError\u001b[0m                                Traceback (most recent call last)",
      "\u001b[0;32m<ipython-input-46-408f08a7bb33>\u001b[0m in \u001b[0;36m<module>\u001b[0;34m\u001b[0m\n\u001b[1;32m      1\u001b[0m \u001b[0mfactor_index\u001b[0m \u001b[0;34m=\u001b[0m \u001b[0mfactor_info\u001b[0m\u001b[0;34m[\u001b[0m\u001b[0mfactor_info\u001b[0m\u001b[0;34m[\u001b[0m\u001b[0;34m\"Alpha_Name\"\u001b[0m\u001b[0;34m]\u001b[0m \u001b[0;34m==\u001b[0m \u001b[0malpha_name\u001b[0m\u001b[0;34m]\u001b[0m\u001b[0;34m.\u001b[0m\u001b[0mindex\u001b[0m\u001b[0;34m\u001b[0m\u001b[0;34m\u001b[0m\u001b[0m\n\u001b[0;32m----> 2\u001b[0;31m \u001b[0malpha_name\u001b[0m \u001b[0;34m=\u001b[0m \u001b[0mfactor_info\u001b[0m\u001b[0;34m.\u001b[0m\u001b[0mloc\u001b[0m\u001b[0;34m[\u001b[0m\u001b[0mfactor_index\u001b[0m\u001b[0;34m,\u001b[0m\u001b[0;34m\"Alpha_Name\"\u001b[0m\u001b[0;34m]\u001b[0m\u001b[0;34m.\u001b[0m\u001b[0mitem\u001b[0m\u001b[0;34m(\u001b[0m\u001b[0;34m)\u001b[0m\u001b[0;34m\u001b[0m\u001b[0;34m\u001b[0m\u001b[0m\n\u001b[0m\u001b[1;32m      3\u001b[0m \u001b[0mshift\u001b[0m \u001b[0;34m=\u001b[0m \u001b[0mfactor_info\u001b[0m\u001b[0;34m.\u001b[0m\u001b[0mloc\u001b[0m\u001b[0;34m[\u001b[0m\u001b[0mfactor_index\u001b[0m\u001b[0;34m,\u001b[0m\u001b[0;34m\"shift\"\u001b[0m\u001b[0;34m]\u001b[0m\u001b[0;34m.\u001b[0m\u001b[0mitem\u001b[0m\u001b[0;34m(\u001b[0m\u001b[0;34m)\u001b[0m\u001b[0;34m\u001b[0m\u001b[0;34m\u001b[0m\u001b[0m\n\u001b[1;32m      4\u001b[0m \u001b[0msequence\u001b[0m \u001b[0;34m=\u001b[0m \u001b[0mfactor_info\u001b[0m\u001b[0;34m.\u001b[0m\u001b[0mloc\u001b[0m\u001b[0;34m[\u001b[0m\u001b[0mfactor_index\u001b[0m\u001b[0;34m,\u001b[0m\u001b[0;34m\"sequence\"\u001b[0m\u001b[0;34m]\u001b[0m\u001b[0;34m.\u001b[0m\u001b[0mitem\u001b[0m\u001b[0;34m(\u001b[0m\u001b[0;34m)\u001b[0m\u001b[0;34m\u001b[0m\u001b[0;34m\u001b[0m\u001b[0m\n\u001b[1;32m      5\u001b[0m \u001b[0mtarget\u001b[0m \u001b[0;34m=\u001b[0m \u001b[0mfactor_info\u001b[0m\u001b[0;34m.\u001b[0m\u001b[0mloc\u001b[0m\u001b[0;34m[\u001b[0m\u001b[0mfactor_index\u001b[0m\u001b[0;34m,\u001b[0m\u001b[0;34m\"target\"\u001b[0m\u001b[0;34m]\u001b[0m\u001b[0;34m.\u001b[0m\u001b[0mitem\u001b[0m\u001b[0;34m(\u001b[0m\u001b[0;34m)\u001b[0m\u001b[0;34m\u001b[0m\u001b[0;34m\u001b[0m\u001b[0m\n",
      "\u001b[0;32m~/venv-jupyter/lib/python3.7/site-packages/pandas/core/base.py\u001b[0m in \u001b[0;36mitem\u001b[0;34m(self)\u001b[0m\n\u001b[1;32m    418\u001b[0m         \u001b[0;32mif\u001b[0m \u001b[0mlen\u001b[0m\u001b[0;34m(\u001b[0m\u001b[0mself\u001b[0m\u001b[0;34m)\u001b[0m \u001b[0;34m==\u001b[0m \u001b[0;36m1\u001b[0m\u001b[0;34m:\u001b[0m\u001b[0;34m\u001b[0m\u001b[0;34m\u001b[0m\u001b[0m\n\u001b[1;32m    419\u001b[0m             \u001b[0;32mreturn\u001b[0m \u001b[0mnext\u001b[0m\u001b[0;34m(\u001b[0m\u001b[0miter\u001b[0m\u001b[0;34m(\u001b[0m\u001b[0mself\u001b[0m\u001b[0;34m)\u001b[0m\u001b[0;34m)\u001b[0m\u001b[0;34m\u001b[0m\u001b[0;34m\u001b[0m\u001b[0m\n\u001b[0;32m--> 420\u001b[0;31m         \u001b[0;32mraise\u001b[0m \u001b[0mValueError\u001b[0m\u001b[0;34m(\u001b[0m\u001b[0;34m\"can only convert an array of size 1 to a Python scalar\"\u001b[0m\u001b[0;34m)\u001b[0m\u001b[0;34m\u001b[0m\u001b[0;34m\u001b[0m\u001b[0m\n\u001b[0m\u001b[1;32m    421\u001b[0m \u001b[0;34m\u001b[0m\u001b[0m\n\u001b[1;32m    422\u001b[0m     \u001b[0;34m@\u001b[0m\u001b[0mproperty\u001b[0m\u001b[0;34m\u001b[0m\u001b[0;34m\u001b[0m\u001b[0m\n",
      "\u001b[0;31mValueError\u001b[0m: can only convert an array of size 1 to a Python scalar"
     ]
    }
   ],
   "source": [
    "factor_index = factor_info[factor_info[\"Alpha_Name\"] == alpha_name].index\n",
    "alpha_name = factor_info.loc[factor_index,\"Alpha_Name\"].item()\n",
    "shift = factor_info.loc[factor_index,\"shift\"].item()\n",
    "sequence = factor_info.loc[factor_index,\"sequence\"].item()\n",
    "target = factor_info.loc[factor_index,\"target\"].item()\n",
    "LR = factor_info.loc[factor_index,\"LR\"].item()\n",
    "epoch_num = factor_info.loc[factor_index,\"epoch_num\"].item()\n",
    "alpha_list = factor_info.loc[factor_index,\"alpha_list\"].item()\n",
    "universe = factor_info.loc[factor_index,\"universe\"].item()\n",
    "t1 = (datetime.datetime.utcnow() + datetime.timedelta(hours=8)).strftime('%H:%M')\n",
    "factor_info.loc[factor_index,\"status\"] = \"Running: \" +t1"
   ]
  },
  {
   "cell_type": "code",
   "execution_count": null,
   "id": "d0bf1842",
   "metadata": {},
   "outputs": [],
   "source": [
    "\n",
    "pool = mp.Pool(5)\n",
    "result = {}\n",
    "\n",
    "def read(alpha_name,data_path):\n",
    "    loader = DataLoader()\n",
    "    loader.load_data_from_file(alpha_name=alpha_name,data_path=data_path)\n",
    "    return loader.feature_data\n",
    "\n",
    "for i in alpha_name_list:\n",
    "    result[i] = (pool.apply_async(read, args=(alpha_name,data_path)))\n",
    "    \n",
    "pool.close()\n",
    "pool.join()\n",
    "t2 = time.time()\n",
    "print(\"并行执行时间：\", int(t2 - t1))\n",
    "final_df = []\n",
    "for i in tqdm(result):\n",
    "    final_df.append(result[i].get())\n",
    "final_df = pd.concat(final_df,axis=1)\n",
    "final_df.dropna(axis=0,inplace=True)"
   ]
  },
  {
   "cell_type": "code",
   "execution_count": 47,
   "id": "9a2a5a5b",
   "metadata": {
    "ExecuteTime": {
     "end_time": "2022-03-09T08:48:37.599473Z",
     "start_time": "2022-03-09T08:48:37.588545Z"
    }
   },
   "outputs": [
    {
     "data": {
      "text/plain": [
       "factor_id\n",
       "16    AlphaNetV4\n",
       "16          Test\n",
       "Name: Alpha_Name, dtype: object"
      ]
     },
     "execution_count": 47,
     "metadata": {},
     "output_type": "execute_result"
    }
   ],
   "source": [
    "    pool = mp.Pool(10)\n",
    "    result = {}\n",
    "    t1 = time.time()\n",
    "    grouped = df.groupby(\"ticker\")\n",
    "    for ticker , one_data in tqdm(grouped):\n",
    "        result[ticker] = (pool.apply_async(test, args=(one_data,)))   #维持执行的进程总数为10，当一个进程执行完后启动一个新进程.\n",
    "    pool.close()\n",
    "    pool.join()\n",
    "    t2 = time.time()\n",
    "    print(\"并行执行时间：\", int(t2 - t1))\n",
    "    df_list = []\n",
    "    for i in tqdm(result):\n",
    "        df_list.append(result[i].get())\n",
    "    final_df = pd.concat(df_list)\n",
    "final_df"
   ]
  },
  {
   "cell_type": "code",
   "execution_count": 4,
   "id": "7f65943e",
   "metadata": {
    "ExecuteTime": {
     "end_time": "2022-03-09T08:28:08.663492Z",
     "start_time": "2022-03-09T08:28:08.590739Z"
    }
   },
   "outputs": [
    {
     "ename": "NameError",
     "evalue": "name 'alpha_list' is not defined",
     "output_type": "error",
     "traceback": [
      "\u001b[0;31m---------------------------------------------------------------------------\u001b[0m",
      "\u001b[0;31mNameError\u001b[0m                                 Traceback (most recent call last)",
      "\u001b[0;32m<ipython-input-4-fb950df0afe3>\u001b[0m in \u001b[0;36m<module>\u001b[0;34m\u001b[0m\n\u001b[1;32m      4\u001b[0m \u001b[0malpha_name_temp\u001b[0m \u001b[0;34m=\u001b[0m \u001b[0malpha_name\u001b[0m \u001b[0;34m+\u001b[0m \u001b[0;34m\"_\"\u001b[0m \u001b[0;34m+\u001b[0m \u001b[0msplit_day\u001b[0m\u001b[0;34m[\u001b[0m\u001b[0;36m0\u001b[0m\u001b[0;34m]\u001b[0m\u001b[0;34m\u001b[0m\u001b[0;34m\u001b[0m\u001b[0m\n\u001b[1;32m      5\u001b[0m \u001b[0malpha_name_list\u001b[0m\u001b[0;34m.\u001b[0m\u001b[0mappend\u001b[0m\u001b[0;34m(\u001b[0m\u001b[0malpha_name_temp\u001b[0m\u001b[0;34m)\u001b[0m\u001b[0;34m\u001b[0m\u001b[0;34m\u001b[0m\u001b[0m\n\u001b[0;32m----> 6\u001b[0;31m \u001b[0malpha_list_temp\u001b[0m \u001b[0;34m=\u001b[0m \u001b[0;34m[\u001b[0m\u001b[0mi\u001b[0m \u001b[0;34m+\u001b[0m \u001b[0;34m\"_\"\u001b[0m \u001b[0;34m+\u001b[0m \u001b[0msplit_day\u001b[0m\u001b[0;34m[\u001b[0m\u001b[0;36m0\u001b[0m\u001b[0;34m]\u001b[0m \u001b[0;32mfor\u001b[0m \u001b[0mi\u001b[0m \u001b[0;32min\u001b[0m \u001b[0malpha_list\u001b[0m\u001b[0;34m]\u001b[0m\u001b[0;34m\u001b[0m\u001b[0;34m\u001b[0m\u001b[0m\n\u001b[0m",
      "\u001b[0;31mNameError\u001b[0m: name 'alpha_list' is not defined"
     ]
    }
   ],
   "source": [
    "output_path = \"/home/wuwenjun/Data/\"\n",
    "\n",
    "alpha_name_list = []\n",
    "alpha_name_temp = alpha_name + \"_\" + split_day[0]\n",
    "alpha_name_list.append(alpha_name_temp)\n",
    "alpha_list_temp = [i + \"_\" + split_day[0] for i in alpha_list]"
   ]
  }
 ],
 "metadata": {
  "kernelspec": {
   "display_name": "Python 3 (ipykernel)",
   "language": "python",
   "name": "python3"
  },
  "language_info": {
   "codemirror_mode": {
    "name": "ipython",
    "version": 3
   },
   "file_extension": ".py",
   "mimetype": "text/x-python",
   "name": "python",
   "nbconvert_exporter": "python",
   "pygments_lexer": "ipython3",
   "version": "3.7.9"
  }
 },
 "nbformat": 4,
 "nbformat_minor": 5
}
