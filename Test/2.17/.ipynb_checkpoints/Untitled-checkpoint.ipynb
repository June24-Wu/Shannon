{
 "cells": [
  {
   "cell_type": "code",
   "execution_count": 10,
   "id": "37b91e02",
   "metadata": {
    "ExecuteTime": {
     "end_time": "2022-02-17T10:11:28.529050Z",
     "start_time": "2022-02-17T10:11:26.627267Z"
    }
   },
   "outputs": [
    {
     "name": "stdout",
     "output_type": "stream",
     "text": [
      " please enter the task_id:  217\n"
     ]
    }
   ],
   "source": [
    "import time\n",
    "import datetime\n",
    "import os\n",
    "import matplotlib.pyplot as plt\n",
    "from Research.feature.ft import FeatureAnalysis\n",
    "import Research.utils.namespace as namespace\n",
    "import Research.utils.normalization as norm\n",
    "from Platform.database.mysql import MysqlAPI\n",
    "from Platform.utils.persistence import convert_to_standard_daily_feature_csv, convert_to_standard_daily_feature_par\n",
    "from Platform.config.mysql_info import FACTOR_LIB_MYSQL_TIO\n",
    "import DataAPI\n",
    "from os import walk\n",
    "import pandas as pd\n",
    "import numpy as np\n",
    "import torch\n",
    "import torch.nn as nn\n",
    "from progressbar import ProgressBar\n",
    "from tqdm import tqdm\n",
    "import multiprocessing as mp\n",
    "import sys\n",
    "sys.path.append(\"/home/wuwenjun/jupyter_code/Shannon/AlphaNet/packages/\")\n",
    "import AlphaNet\n",
    "from AlphaNet.Data import DataLoader\n",
    "from AlphaNet.Models import Res_LSTM\n",
    "\n",
    "# read_task\n",
    "task_info = np.load(\"/home/ShareFolder/feature_platform/ti0/wuwenjun/#Factor_Description/Task.npy\",allow_pickle=True).item()\n",
    "task = task_info[\"Task\"]\n",
    "task_index = int(input(\" please enter the task_id:  \"))\n",
    "Alpha_Name = task.loc[task_index,\"Alpha_Name\"]\n",
    "start_date = task.loc[task_index,\"start_date\"]\n",
    "end_date = task.loc[task_index,\"end_date\"]\n",
    "sequence = task.loc[task_index,\"sequence\"]\n",
    "LR = task.loc[task_index,\"LR\"]\n",
    "epoch_num = task.loc[task_index,\"epoch_num\"]\n",
    "feature_num = task.loc[task_index,\"feature_num\"]"
   ]
  },
  {
   "cell_type": "code",
   "execution_count": 4,
   "id": "0477fe1d",
   "metadata": {
    "ExecuteTime": {
     "end_time": "2022-02-17T10:09:34.188205Z",
     "start_time": "2022-02-17T10:09:34.119621Z"
    }
   },
   "outputs": [
    {
     "name": "stdout",
     "output_type": "stream",
     "text": [
      "Res_LSTM(\n",
      "  (bn1): BatchNorm1d(6180, eps=1e-05, momentum=0.1, affine=True, track_running_stats=True)\n",
      "  (bn2): BatchNorm1d(4120, eps=1e-05, momentum=0.1, affine=True, track_running_stats=True)\n",
      "  (bn3): BatchNorm1d(206, eps=1e-05, momentum=0.1, affine=True, track_running_stats=True)\n",
      "  (lstm): LSTM(103, 103, num_layers=2, batch_first=True, dropout=0.2, bidirectional=True)\n",
      "  (TransformerLayer1): TransformerEncoderLayer(\n",
      "    (self_attn): MultiheadAttention(\n",
      "      (out_proj): NonDynamicallyQuantizableLinear(in_features=103, out_features=103, bias=True)\n",
      "    )\n",
      "    (linear1): Linear(in_features=103, out_features=2048, bias=True)\n",
      "    (dropout): Dropout(p=0.1, inplace=False)\n",
      "    (linear2): Linear(in_features=2048, out_features=103, bias=True)\n",
      "    (norm1): LayerNorm((103,), eps=1e-05, elementwise_affine=True)\n",
      "    (norm2): LayerNorm((103,), eps=1e-05, elementwise_affine=True)\n",
      "    (dropout1): Dropout(p=0.1, inplace=False)\n",
      "    (dropout2): Dropout(p=0.1, inplace=False)\n",
      "  )\n",
      "  (TransformerLayer2): TransformerEncoderLayer(\n",
      "    (self_attn): MultiheadAttention(\n",
      "      (out_proj): NonDynamicallyQuantizableLinear(in_features=103, out_features=103, bias=True)\n",
      "    )\n",
      "    (linear1): Linear(in_features=103, out_features=2048, bias=True)\n",
      "    (dropout): Dropout(p=0.1, inplace=False)\n",
      "    (linear2): Linear(in_features=2048, out_features=103, bias=True)\n",
      "    (norm1): LayerNorm((103,), eps=1e-05, elementwise_affine=True)\n",
      "    (norm2): LayerNorm((103,), eps=1e-05, elementwise_affine=True)\n",
      "    (dropout1): Dropout(p=0.1, inplace=False)\n",
      "    (dropout2): Dropout(p=0.1, inplace=False)\n",
      "  )\n",
      "  (TransformerLayer3): TransformerEncoderLayer(\n",
      "    (self_attn): MultiheadAttention(\n",
      "      (out_proj): NonDynamicallyQuantizableLinear(in_features=103, out_features=103, bias=True)\n",
      "    )\n",
      "    (linear1): Linear(in_features=103, out_features=2048, bias=True)\n",
      "    (dropout): Dropout(p=0.1, inplace=False)\n",
      "    (linear2): Linear(in_features=2048, out_features=103, bias=True)\n",
      "    (norm1): LayerNorm((103,), eps=1e-05, elementwise_affine=True)\n",
      "    (norm2): LayerNorm((103,), eps=1e-05, elementwise_affine=True)\n",
      "    (dropout1): Dropout(p=0.1, inplace=False)\n",
      "    (dropout2): Dropout(p=0.1, inplace=False)\n",
      "  )\n",
      "  (TransformerLayer4): TransformerEncoderLayer(\n",
      "    (self_attn): MultiheadAttention(\n",
      "      (out_proj): NonDynamicallyQuantizableLinear(in_features=103, out_features=103, bias=True)\n",
      "    )\n",
      "    (linear1): Linear(in_features=103, out_features=2048, bias=True)\n",
      "    (dropout): Dropout(p=0.1, inplace=False)\n",
      "    (linear2): Linear(in_features=2048, out_features=103, bias=True)\n",
      "    (norm1): LayerNorm((103,), eps=1e-05, elementwise_affine=True)\n",
      "    (norm2): LayerNorm((103,), eps=1e-05, elementwise_affine=True)\n",
      "    (dropout1): Dropout(p=0.1, inplace=False)\n",
      "    (dropout2): Dropout(p=0.1, inplace=False)\n",
      "  )\n",
      "  (dropout): Dropout(p=0.2, inplace=False)\n",
      "  (LeakyReLU): LeakyReLU(negative_slope=0.01)\n",
      "  (out): Linear(in_features=206, out_features=1, bias=True)\n",
      ")\n"
     ]
    }
   ],
   "source": [
    "# Model Loader\n",
    "\n",
    "loss_function = nn.MSELoss()\n",
    "model = torch.load(\"/home/wuwenjun/Alpha_Factor/AlphaNetV4_LSTM/2019-06-01_2020-01-01/\" + \"best_model.tar\")\n",
    "model_loader = AlphaNet.Model_Loader(model = model,device=\"cpu\")\n",
    "print(model_loader.model)"
   ]
  },
  {
   "cell_type": "code",
   "execution_count": null,
   "id": "5eb8ad82",
   "metadata": {
    "ExecuteTime": {
     "start_time": "2022-02-17T10:11:33.579Z"
    }
   },
   "outputs": [
    {
     "name": "stderr",
     "output_type": "stream",
     "text": [
      "100%|██████████| 98/98 [02:11<00:00,  1.34s/it]\n"
     ]
    }
   ],
   "source": [
    "data_path = \"/home/wuwenjun/Data/\"\n",
    "# Test\n",
    "testloader = DataLoader()\n",
    "testloader.load_data_from_file(alpha_name = Alpha_Name,start_date = start_date,end_date = end_date,data_path = data_path)\n",
    "test_loader = testloader.to_torch_DataLoader(shape = [3,sequence,feature_num],shuffle=False)\n",
    "pred = model_loader.pred(test_loader)\n",
    "\n",
    "# convert to standard daily and back test\n",
    "final = pd.concat([testloader.target.reset_index(),pred],axis=1)\n",
    "final.rename(columns={0:Alpha_Name,'ticker': 'symbol'},inplace=True)\n",
    "final.to_parquet(model_path + \"result.par\")\n",
    "convert_to_standard_daily_feature_csv(Alpha_Name, final.drop(\"target\",axis=1), output_path = r'/home/wuwenjun/factor_lib/ti0/wuwenjun')\n",
    "\n",
    "# back test\n",
    "\n",
    "pd.set_option('expand_frame_repr', False)\n",
    "configs = namespace.load_namespace(r'/home/ShareFolder/lgc/Modules/Research/config/feature_bt_template')\n",
    "FT = FeatureAnalysis(configs, feature_path=r\"/home/wuwenjun/factor_lib\")\n",
    "\n",
    "FT.load_feature_from_file(Alpha_Name, \"2019-01-01\", end_date, universe='Investable',timedelta=None, transformer=norm.standard_scale)\n",
    "FT.load_return_data()\n",
    "FT.get_intersection_ic(feature_name=Alpha_Name, truncate_fold=None, method='spearman',period=('1d', '3d', '5d'))\n",
    "ic_flag, trading_direction = FT.test_ic(Alpha_Name, verbose=False)\n",
    "df, df_all = FT.get_ic_summary_by_month(num=6)\n",
    "\n",
    "if trading_direction == -1:\n",
    "    negative = True\n",
    "else:\n",
    "    negative = False\n",
    "\n",
    "\n",
    "# save txt\n",
    "f = open(model_path + 'back_test.txt','a')\n",
    "print(df,end=\"\\n\"*3,file = f)\n",
    "a = FT.get_top_return(Alpha_Name, negative= False, trade_type='long-only', transmission_rate=0.00025,\n",
    "                        tax_rate=0.001, verbose=True,bt_price = \"vwap\",trade_period=6)\n",
    "print(a[1],end = \"\\n\"*3+\"*\"*100 ,file = f)\n",
    "f.close()"
   ]
  },
  {
   "cell_type": "code",
   "execution_count": 42,
   "id": "56e0850d",
   "metadata": {
    "ExecuteTime": {
     "end_time": "2022-02-17T08:48:23.481926Z",
     "start_time": "2022-02-17T08:48:23.472056Z"
    }
   },
   "outputs": [
    {
     "name": "stdout",
     "output_type": "stream",
     "text": [
      "[6, 30, 30]\n",
      "[0.001, 1e-05, 1e-07]\n"
     ]
    }
   ],
   "source": []
  },
  {
   "cell_type": "code",
   "execution_count": null,
   "id": "0d088d3d",
   "metadata": {},
   "outputs": [],
   "source": []
  }
 ],
 "metadata": {
  "kernelspec": {
   "display_name": "Python 3 (ipykernel)",
   "language": "python",
   "name": "python3"
  },
  "language_info": {
   "codemirror_mode": {
    "name": "ipython",
    "version": 3
   },
   "file_extension": ".py",
   "mimetype": "text/x-python",
   "name": "python",
   "nbconvert_exporter": "python",
   "pygments_lexer": "ipython3",
   "version": "3.7.9"
  }
 },
 "nbformat": 4,
 "nbformat_minor": 5
}
