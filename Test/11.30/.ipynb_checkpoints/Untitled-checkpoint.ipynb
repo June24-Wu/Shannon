{
 "cells": [
  {
   "cell_type": "code",
   "execution_count": 2,
   "id": "a4ea4cbc",
   "metadata": {},
   "outputs": [],
   "source": [
    "import time\n",
    "from Research.backtest.bt import BTDaily\n",
    "from Research.feature.ft import FeatureAnalysis\n",
    "import Research.utils.namespace as namespace\n",
    "import Research.utils.normalization as norm\n",
    "from Platform.database.mysql import MysqlAPI\n",
    "from Platform.utils.persistence import convert_to_standard_daily_feature_csv, convert_to_standard_daily_feature_par\n",
    "from Platform.config.mysql_info import FACTOR_LIB_MYSQL_TIO\n",
    "import numpy as np"
   ]
  },
  {
   "cell_type": "code",
   "execution_count": null,
   "id": "c405c748",
   "metadata": {},
   "outputs": [],
   "source": [
    "# 生成标准数据\n",
    "\n",
    "\n",
    "from os import walk\n",
    "import pandas as pd\n",
    "import numpy as np\n",
    "import torch\n",
    "import torch.nn as nn\n",
    "from progressbar import ProgressBar\n",
    "from tqdm import tqdm\n",
    "df = pd.DataFrame()\n",
    "\n",
    "alpha_name = \"AlphaNet_1130\"\n",
    "for f, _, i in walk(\"/home/wuwenjun/Alpha_Factor\"):\n",
    "    for j in tqdm(i):\n",
    "        df = pd.concat([df,pd.read_csv(f + \"/\" + j)],axis=0)\n",
    "df.rename(columns={'AlphaNet': alpha_name}, inplace=True)\n",
    "df['timestamp'] = pd.to_datetime(df['timestamp'])\n",
    "df['symbol'] =  df['symbol'].apply(lambda x : '{:0>6d}'.format(x))\n",
    "df['symbol'] = df['symbol'].astype('string')\n",
    "display(df)\n",
    "# output\n",
    "output_path = r'/home/wuwenjun/factor_lib/ti0/wuwenjun'\n",
    "convert_to_standard_daily_feature_csv(alpha_name, df, output_path)"
   ]
  },
  {
   "cell_type": "code",
   "execution_count": 4,
   "id": "554a6a58",
   "metadata": {},
   "outputs": [
    {
     "name": "stdout",
     "output_type": "stream",
     "text": [
      "Loading the configuration from /home/ShareFolder/lgc/Modules/Research/config/feature_bt_template\n"
     ]
    },
    {
     "name": "stderr",
     "output_type": "stream",
     "text": [
      "Loading Feature...: 100%|██████████████████████████████████████████████████████████████████████████████████████████| 766/766 [00:00<00:00, 892.24it/s]\n",
      "Loading target...: 100%|███████████████████████████████████████████████████████████████████████████████████████████| 766/766 [00:02<00:00, 290.75it/s]\n",
      "Merging feature and return...: 100%|███████████████████████████████████████████████████████████████████████████████| 766/766 [00:02<00:00, 271.51it/s]\n",
      "Calculating IC value...: 100%|█████████████████████████████████████████████████████████████████████████████████████| 344/344 [00:02<00:00, 161.80it/s]\n",
      "Calculating IC value...: 100%|█████████████████████████████████████████████████████████████████████████████████████| 344/344 [00:00<00:00, 594.22it/s]\n"
     ]
    },
    {
     "name": "stdout",
     "output_type": "stream",
     "text": [
      "\n",
      "IC table for feature \"AlphaNet_1130\" (mean std IR):\n",
      "+-------------------+------------------+------------------+------------------+------------------+------------------+\n",
      "|      period       |  IC_AlphaNet_1d  |  IC_AlphaNet_2d  |  IC_AlphaNet_3d  |  IC_AlphaNet_4d  |  IC_AlphaNet_5d  |\n",
      "+===================+==================+==================+==================+==================+==================+\n",
      "| 20190516-20191031 |  3.94 5.88 0.67  |  4.99 5.35 0.93  |  5.37 5.29 1.02  |  5.51 5.18 1.06  |  5.21 5.29 0.98  |\n",
      "+-------------------+------------------+------------------+------------------+------------------+------------------+\n",
      "| 20191101-20200430 |  4.07 7.76 0.52  |  5.23 7.30 0.72  |  6.40 6.52 0.98  |  7.32 6.63 1.10  |  8.05 6.06 1.33  |\n",
      "+-------------------+------------------+------------------+------------------+------------------+------------------+\n",
      "| 20200501-20201031 |  2.88 6.11 0.47  |  4.24 6.42 0.66  |  4.60 5.88 0.78  |  4.96 5.53 0.90  |  5.62 5.28 1.06  |\n",
      "+-------------------+------------------+------------------+------------------+------------------+------------------+\n",
      "| 20201101-20210430 |  2.64 5.67 0.47  |  3.36 5.33 0.63  |  4.14 5.46 0.76  |  4.36 5.28 0.83  |  4.12 5.83 0.71  |\n",
      "+-------------------+------------------+------------------+------------------+------------------+------------------+\n",
      "\n",
      "IC summary for feature \"AlphaNet_1130\":\n",
      "+-------------------+------------------+------------------+------------------+------------------+------------------+\n",
      "|      period       |  IC_AlphaNet_1d  |  IC_AlphaNet_2d  |  IC_AlphaNet_3d  |  IC_AlphaNet_4d  |  IC_AlphaNet_5d  |\n",
      "+===================+==================+==================+==================+==================+==================+\n",
      "| 20190516-20210301 |  3.44 6.42 0.54  |  4.54 6.21 0.73  |  5.17 5.85 0.88  |  5.58 5.76 0.97  |  5.81 5.73 1.01  |\n",
      "+-------------------+------------------+------------------+------------------+------------------+------------------+\n"
     ]
    },
    {
     "name": "stderr",
     "output_type": "stream",
     "text": [
      "Getting BT result for date: 20190515...:  43%|█████████████████████████████▋                                       | 330/766 [00:01<00:02, 175.06it/s]\n"
     ]
    },
    {
     "ename": "ValueError",
     "evalue": "operands could not be broadcast together with shapes (912,) (1824,) ",
     "output_type": "error",
     "traceback": [
      "\u001b[0;31m---------------------------------------------------------------------------\u001b[0m",
      "\u001b[0;31mValueError\u001b[0m                                Traceback (most recent call last)",
      "\u001b[0;32m<ipython-input-4-9e097372e922>\u001b[0m in \u001b[0;36m<module>\u001b[0;34m\u001b[0m\n\u001b[1;32m     29\u001b[0m         \u001b[0mnegative\u001b[0m \u001b[0;34m=\u001b[0m \u001b[0;32mFalse\u001b[0m\u001b[0;34m\u001b[0m\u001b[0;34m\u001b[0m\u001b[0m\n\u001b[1;32m     30\u001b[0m     FT.get_top_return(alpha_name, negative=negative, trade_type='long-short', transmission_rate=0.0,\n\u001b[0;32m---> 31\u001b[0;31m                             tax_rate=0.0, verbose=True)\n\u001b[0m",
      "\u001b[0;32m/home/ShareFolder/lgc/Modules/Research/feature/ft.py\u001b[0m in \u001b[0;36mget_top_return\u001b[0;34m(self, feature_name, negative, trade_type, stock_pct, transmission_rate, tax_rate, period, weight, verbose, **kwargs)\u001b[0m\n\u001b[1;32m    648\u001b[0m         \u001b[0mbt\u001b[0m\u001b[0;34m.\u001b[0m\u001b[0mfeed_data\u001b[0m\u001b[0;34m(\u001b[0m\u001b[0mdf\u001b[0m\u001b[0;34m)\u001b[0m\u001b[0;34m\u001b[0m\u001b[0;34m\u001b[0m\u001b[0m\n\u001b[1;32m    649\u001b[0m         \u001b[0;31m# bt.run_feature(start_num=start_num, end_num=end_num, mode=mode)\u001b[0m\u001b[0;34m\u001b[0m\u001b[0;34m\u001b[0m\u001b[0;34m\u001b[0m\u001b[0m\n\u001b[0;32m--> 650\u001b[0;31m         \u001b[0mbt\u001b[0m\u001b[0;34m.\u001b[0m\u001b[0mrun\u001b[0m\u001b[0;34m(\u001b[0m\u001b[0;34m)\u001b[0m\u001b[0;34m\u001b[0m\u001b[0;34m\u001b[0m\u001b[0m\n\u001b[0m\u001b[1;32m    651\u001b[0m \u001b[0;34m\u001b[0m\u001b[0m\n\u001b[1;32m    652\u001b[0m         \u001b[0;32mif\u001b[0m \u001b[0mverbose\u001b[0m\u001b[0;34m:\u001b[0m\u001b[0;34m\u001b[0m\u001b[0;34m\u001b[0m\u001b[0m\n",
      "\u001b[0;32m/home/ShareFolder/lgc/Modules/Research/backtest/bt.py\u001b[0m in \u001b[0;36mrun\u001b[0;34m(self)\u001b[0m\n\u001b[1;32m   1035\u001b[0m \u001b[0;34m\u001b[0m\u001b[0m\n\u001b[1;32m   1036\u001b[0m     \u001b[0;32mdef\u001b[0m \u001b[0mrun\u001b[0m\u001b[0;34m(\u001b[0m\u001b[0mself\u001b[0m\u001b[0;34m)\u001b[0m\u001b[0;34m:\u001b[0m\u001b[0;34m\u001b[0m\u001b[0;34m\u001b[0m\u001b[0m\n\u001b[0;32m-> 1037\u001b[0;31m         \u001b[0mgetattr\u001b[0m\u001b[0;34m(\u001b[0m\u001b[0mself\u001b[0m\u001b[0;34m,\u001b[0m \u001b[0;34m\"run_{}_{}\"\u001b[0m\u001b[0;34m.\u001b[0m\u001b[0mformat\u001b[0m\u001b[0;34m(\u001b[0m\u001b[0mself\u001b[0m\u001b[0;34m.\u001b[0m\u001b[0moptions\u001b[0m\u001b[0;34m.\u001b[0m\u001b[0mmode\u001b[0m\u001b[0;34m,\u001b[0m \u001b[0mself\u001b[0m\u001b[0;34m.\u001b[0m\u001b[0moptions\u001b[0m\u001b[0;34m.\u001b[0m\u001b[0mtrading_type\u001b[0m\u001b[0;34m.\u001b[0m\u001b[0mreplace\u001b[0m\u001b[0;34m(\u001b[0m\u001b[0;34m'-'\u001b[0m\u001b[0;34m,\u001b[0m \u001b[0;34m'_'\u001b[0m\u001b[0;34m)\u001b[0m\u001b[0;34m)\u001b[0m\u001b[0;34m)\u001b[0m\u001b[0;34m(\u001b[0m\u001b[0;34m)\u001b[0m\u001b[0;34m\u001b[0m\u001b[0;34m\u001b[0m\u001b[0m\n\u001b[0m\u001b[1;32m   1038\u001b[0m \u001b[0;34m\u001b[0m\u001b[0m\n\u001b[1;32m   1039\u001b[0m     \u001b[0;32mdef\u001b[0m \u001b[0mget_market_value\u001b[0m\u001b[0;34m(\u001b[0m\u001b[0mself\u001b[0m\u001b[0;34m,\u001b[0m \u001b[0mticker\u001b[0m\u001b[0;34m)\u001b[0m\u001b[0;34m:\u001b[0m\u001b[0;34m\u001b[0m\u001b[0;34m\u001b[0m\u001b[0m\n",
      "\u001b[0;32m/home/ShareFolder/lgc/Modules/Research/backtest/bt.py\u001b[0m in \u001b[0;36mrun_intersect_long_short\u001b[0;34m(self)\u001b[0m\n\u001b[1;32m    722\u001b[0m                                                     np.floor(self.options.initial_fund *\n\u001b[1;32m    723\u001b[0m                                                              \u001b[0;34m(\u001b[0m\u001b[0;36m1\u001b[0m \u001b[0;34m-\u001b[0m \u001b[0mself\u001b[0m\u001b[0;34m.\u001b[0m\u001b[0moptions\u001b[0m\u001b[0;34m.\u001b[0m\u001b[0mtransmission_rate\u001b[0m\u001b[0;34m)\u001b[0m \u001b[0;34m*\u001b[0m \u001b[0mweight\u001b[0m \u001b[0;34m/\u001b[0m \u001b[0mavg_array\u001b[0m\u001b[0;34m\u001b[0m\u001b[0;34m\u001b[0m\u001b[0m\n\u001b[0;32m--> 724\u001b[0;31m                                                              / 100) * avg_array * 100,\n\u001b[0m\u001b[1;32m    725\u001b[0m                                                     np.ceil(self.options.initial_fund *\n\u001b[1;32m    726\u001b[0m                                                             (\n",
      "\u001b[0;31mValueError\u001b[0m: operands could not be broadcast together with shapes (912,) (1824,) "
     ]
    }
   ],
   "source": [
    "import time\n",
    "from Research.backtest.bt import BTDaily\n",
    "from Research.feature.ft import FeatureAnalysis\n",
    "import Research.utils.namespace as namespace\n",
    "import Research.utils.normalization as norm\n",
    "import numpy as np\n",
    " \n",
    "config_path = r'/home/ShareFolder/lgc/Modules/Research/config/feature_bt_template'\n",
    "print('Loading the configuration from ' + config_path)\n",
    "configs = namespace.load_namespace(config_path)\n",
    "FT = FeatureAnalysis(configs, feature_path=r\"/home/wuwenjun/factor_lib\")\n",
    "\n",
    "\n",
    "alpha_list = list(FT.features_in_path.keys())\n",
    "start_date = '2018-01-01'\n",
    "end_date = '2021-03-02'\n",
    "FT.load_feature_from_file(alpha_list, start_date, end_date, universe='Investable',\n",
    "                                       timedelta=None, transformer=norm.standard_scale)\n",
    "FT.load_return_data()\n",
    "\n",
    "for alpha_name in alpha_list:\n",
    "    FT.get_intersection_ic(feature_name=alpha_name, truncate_fold=None, method='spearman',\n",
    "                                     period=('1d', '3d', '5d'))\n",
    "    ic_flag, trading_direction = FT.test_ic(alpha_name, verbose=False)\n",
    "    df, df_all = FT.get_ic_summary_by_month(num=6)\n",
    "    if trading_direction == -1:\n",
    "        negative = True\n",
    "    else:\n",
    "        negative = False\n",
    "    FT.get_top_return(alpha_name, negative=negative, trade_type='long-short', transmission_rate=0.0,\n",
    "                            tax_rate=0.0, verbose=True)"
   ]
  }
 ],
 "metadata": {
  "kernelspec": {
   "display_name": "Python 3 (ipykernel)",
   "language": "python",
   "name": "python3"
  },
  "language_info": {
   "codemirror_mode": {
    "name": "ipython",
    "version": 3
   },
   "file_extension": ".py",
   "mimetype": "text/x-python",
   "name": "python",
   "nbconvert_exporter": "python",
   "pygments_lexer": "ipython3",
   "version": "3.7.9"
  }
 },
 "nbformat": 4,
 "nbformat_minor": 5
}
