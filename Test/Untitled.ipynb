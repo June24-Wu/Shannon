{
 "cells": [
  {
   "cell_type": "code",
   "execution_count": 1,
   "id": "aa761e53",
   "metadata": {
    "ExecuteTime": {
     "end_time": "2021-11-30T02:57:13.800700Z",
     "start_time": "2021-11-30T02:57:12.537673Z"
    }
   },
   "outputs": [],
   "source": [
    "import pandas as pd\n",
    "import numpy as np\n",
    "import torch\n",
    "import torch.nn as nn"
   ]
  },
  {
   "cell_type": "code",
   "execution_count": 9,
   "id": "94f9d625",
   "metadata": {
    "ExecuteTime": {
     "end_time": "2021-11-30T02:57:59.866837Z",
     "start_time": "2021-11-30T02:57:59.862841Z"
    }
   },
   "outputs": [],
   "source": [
    "a = np.random.uniform(10,100,(3,3))\n",
    "b = np.random.uniform(0,1,(1,2,3))"
   ]
  },
  {
   "cell_type": "code",
   "execution_count": 5,
   "id": "2ceacb50",
   "metadata": {
    "ExecuteTime": {
     "end_time": "2021-11-30T02:57:26.984178Z",
     "start_time": "2021-11-30T02:57:26.758717Z"
    }
   },
   "outputs": [
    {
     "ename": "NameError",
     "evalue": "name 'a' is not defined",
     "output_type": "error",
     "traceback": [
      "\u001b[1;31m---------------------------------------------------------------------------\u001b[0m",
      "\u001b[1;31mNameError\u001b[0m                                 Traceback (most recent call last)",
      "\u001b[1;32m~\\AppData\\Local\\Temp/ipykernel_7040/2785645763.py\u001b[0m in \u001b[0;36m<module>\u001b[1;34m\u001b[0m\n\u001b[1;32m----> 1\u001b[1;33m \u001b[0mc\u001b[0m \u001b[1;33m=\u001b[0m \u001b[0mnp\u001b[0m\u001b[1;33m.\u001b[0m\u001b[0marray\u001b[0m\u001b[1;33m(\u001b[0m\u001b[1;33m[\u001b[0m\u001b[0ma\u001b[0m\u001b[1;33m,\u001b[0m\u001b[0mb\u001b[0m\u001b[1;33m]\u001b[0m\u001b[1;33m)\u001b[0m\u001b[1;33m\u001b[0m\u001b[1;33m\u001b[0m\u001b[0m\n\u001b[0m\u001b[0;32m      2\u001b[0m \u001b[0mc\u001b[0m \u001b[1;33m=\u001b[0m \u001b[0mc\u001b[0m\u001b[1;33m.\u001b[0m\u001b[0mreshape\u001b[0m\u001b[1;33m(\u001b[0m\u001b[1;36m3\u001b[0m\u001b[1;33m,\u001b[0m\u001b[1;36m2\u001b[0m\u001b[1;33m)\u001b[0m\u001b[1;33m\u001b[0m\u001b[1;33m\u001b[0m\u001b[0m\n",
      "\u001b[1;31mNameError\u001b[0m: name 'a' is not defined"
     ]
    }
   ],
   "source": [
    "c = np.array([a,b])\n",
    "c = c.reshape(3,2)"
   ]
  },
  {
   "cell_type": "code",
   "execution_count": 2,
   "id": "bb30bea2",
   "metadata": {
    "ExecuteTime": {
     "end_time": "2021-11-30T02:57:13.816761Z",
     "start_time": "2021-11-30T02:57:13.801717Z"
    }
   },
   "outputs": [],
   "source": [
    "c= np.array(\n",
    "        [[[70.49739271, 11.31741861],\n",
    "        [0.68245192, 0.76345192]],\n",
    "\n",
    "       [[61.76578482, 59.31703701],\n",
    "        [ 0.354265192,  0.82355827]],\n",
    "\n",
    "       [[ 32.95965432,  35.81408566],\n",
    "        [ 0.54267866,  0.96221199]]]\n",
    "           )"
   ]
  },
  {
   "cell_type": "code",
   "execution_count": 11,
   "id": "c57d459d",
   "metadata": {
    "ExecuteTime": {
     "end_time": "2021-11-30T02:58:03.480038Z",
     "start_time": "2021-11-30T02:58:03.463545Z"
    }
   },
   "outputs": [
    {
     "data": {
      "text/plain": [
       "array([[50.37681382, 21.73519784, 75.97103974],\n",
       "       [60.33703627, 53.39697793, 36.90881324],\n",
       "       [92.07502065, 91.85119001, 23.33707187]])"
      ]
     },
     "execution_count": 11,
     "metadata": {},
     "output_type": "execute_result"
    }
   ],
   "source": [
    "a"
   ]
  },
  {
   "cell_type": "code",
   "execution_count": 13,
   "id": "ea8d2534",
   "metadata": {
    "ExecuteTime": {
     "end_time": "2021-11-30T02:58:36.699810Z",
     "start_time": "2021-11-30T02:58:36.694823Z"
    }
   },
   "outputs": [],
   "source": [
    "day = 1"
   ]
  },
  {
   "cell_type": "code",
   "execution_count": 20,
   "id": "294b4a88",
   "metadata": {
    "ExecuteTime": {
     "end_time": "2021-11-30T02:59:29.101189Z",
     "start_time": "2021-11-30T02:59:29.094207Z"
    }
   },
   "outputs": [
    {
     "data": {
      "text/plain": [
       "array([[50.37681382, 21.73519784],\n",
       "       [60.33703627, 53.39697793]])"
      ]
     },
     "execution_count": 20,
     "metadata": {},
     "output_type": "execute_result"
    }
   ],
   "source": [
    "a[0:2,:-1]"
   ]
  },
  {
   "cell_type": "code",
   "execution_count": 19,
   "id": "fa713913",
   "metadata": {
    "ExecuteTime": {
     "end_time": "2021-11-30T02:59:27.326469Z",
     "start_time": "2021-11-30T02:59:27.318490Z"
    }
   },
   "outputs": [
    {
     "data": {
      "text/plain": [
       "36.90881324410529"
      ]
     },
     "execution_count": 19,
     "metadata": {},
     "output_type": "execute_result"
    }
   ],
   "source": [
    "a[1,-1]"
   ]
  },
  {
   "cell_type": "code",
   "execution_count": 28,
   "id": "75e8ed60",
   "metadata": {
    "ExecuteTime": {
     "end_time": "2021-11-24T05:22:31.617948Z",
     "start_time": "2021-11-24T05:22:31.606959Z"
    }
   },
   "outputs": [
    {
     "data": {
      "text/plain": [
       "tensor([[[ 1.2356, -1.6639],\n",
       "         [-0.0287,  0.3833]],\n",
       "\n",
       "        [[ 0.8078,  0.6878],\n",
       "         [-1.6983,  0.6891]],\n",
       "\n",
       "        [[-0.6036, -0.4637],\n",
       "         [-0.7398,  1.3944]]], grad_fn=<NativeBatchNormBackward>)"
      ]
     },
     "execution_count": 28,
     "metadata": {},
     "output_type": "execute_result"
    }
   ],
   "source": [
    "batch(c)"
   ]
  }
 ],
 "metadata": {
  "kernelspec": {
   "display_name": "python383",
   "language": "python",
   "name": "python383"
  },
  "language_info": {
   "codemirror_mode": {
    "name": "ipython",
    "version": 3
   },
   "file_extension": ".py",
   "mimetype": "text/x-python",
   "name": "python",
   "nbconvert_exporter": "python",
   "pygments_lexer": "ipython3",
   "version": "3.8.3"
  }
 },
 "nbformat": 4,
 "nbformat_minor": 5
}
