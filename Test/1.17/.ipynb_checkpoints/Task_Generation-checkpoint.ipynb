{
 "cells": [
  {
   "cell_type": "code",
   "execution_count": 51,
   "id": "06b2e836",
   "metadata": {
    "ExecuteTime": {
     "end_time": "2022-01-17T01:40:50.928633Z",
     "start_time": "2022-01-17T01:40:50.923316Z"
    }
   },
   "outputs": [],
   "source": [
    "Alpha_Name = \"Original_Input_Moving_7_Shift_5\"\n",
    "sequence = 6\n",
    "LR = 0.001\n",
    "epoch_num = 30\n",
    "feature_num = 108"
   ]
  },
  {
   "cell_type": "code",
   "execution_count": 64,
   "id": "1b84781a",
   "metadata": {
    "ExecuteTime": {
     "end_time": "2022-01-17T01:45:26.371604Z",
     "start_time": "2022-01-17T01:45:26.348949Z"
    }
   },
   "outputs": [
    {
     "data": {
      "text/html": [
       "<div>\n",
       "<style scoped>\n",
       "    .dataframe tbody tr th:only-of-type {\n",
       "        vertical-align: middle;\n",
       "    }\n",
       "\n",
       "    .dataframe tbody tr th {\n",
       "        vertical-align: top;\n",
       "    }\n",
       "\n",
       "    .dataframe thead th {\n",
       "        text-align: right;\n",
       "    }\n",
       "</style>\n",
       "<table border=\"1\" class=\"dataframe\">\n",
       "  <thead>\n",
       "    <tr style=\"text-align: right;\">\n",
       "      <th></th>\n",
       "      <th>Alpha_Name</th>\n",
       "      <th>sequence</th>\n",
       "      <th>LR</th>\n",
       "      <th>epoch_num</th>\n",
       "      <th>feature_num</th>\n",
       "      <th>start_date</th>\n",
       "      <th>end_date</th>\n",
       "      <th>status</th>\n",
       "    </tr>\n",
       "    <tr>\n",
       "      <th>task_id</th>\n",
       "      <th></th>\n",
       "      <th></th>\n",
       "      <th></th>\n",
       "      <th></th>\n",
       "      <th></th>\n",
       "      <th></th>\n",
       "      <th></th>\n",
       "      <th></th>\n",
       "    </tr>\n",
       "  </thead>\n",
       "  <tbody>\n",
       "    <tr>\n",
       "      <th>0</th>\n",
       "      <td>Original_Input_Moving_10_Shift_5</td>\n",
       "      <td>5</td>\n",
       "      <td>0.001</td>\n",
       "      <td>30</td>\n",
       "      <td>108</td>\n",
       "      <td>2019-01-01</td>\n",
       "      <td>2019-06-01</td>\n",
       "      <td>waiting</td>\n",
       "    </tr>\n",
       "    <tr>\n",
       "      <th>1</th>\n",
       "      <td>Original_Input_Moving_10_Shift_5</td>\n",
       "      <td>5</td>\n",
       "      <td>0.001</td>\n",
       "      <td>30</td>\n",
       "      <td>108</td>\n",
       "      <td>2019-06-01</td>\n",
       "      <td>2020-01-01</td>\n",
       "      <td>waiting</td>\n",
       "    </tr>\n",
       "    <tr>\n",
       "      <th>2</th>\n",
       "      <td>Original_Input_Moving_10_Shift_5</td>\n",
       "      <td>5</td>\n",
       "      <td>0.001</td>\n",
       "      <td>30</td>\n",
       "      <td>108</td>\n",
       "      <td>2020-01-01</td>\n",
       "      <td>2020-06-01</td>\n",
       "      <td>waiting</td>\n",
       "    </tr>\n",
       "    <tr>\n",
       "      <th>3</th>\n",
       "      <td>Original_Input_Moving_10_Shift_5</td>\n",
       "      <td>5</td>\n",
       "      <td>0.001</td>\n",
       "      <td>30</td>\n",
       "      <td>108</td>\n",
       "      <td>2020-06-01</td>\n",
       "      <td>2021-01-01</td>\n",
       "      <td>waiting</td>\n",
       "    </tr>\n",
       "    <tr>\n",
       "      <th>4</th>\n",
       "      <td>Original_Input_Moving_10_Shift_5</td>\n",
       "      <td>5</td>\n",
       "      <td>0.001</td>\n",
       "      <td>30</td>\n",
       "      <td>108</td>\n",
       "      <td>2021-01-01</td>\n",
       "      <td>2021-06-01</td>\n",
       "      <td>waiting</td>\n",
       "    </tr>\n",
       "    <tr>\n",
       "      <th>5</th>\n",
       "      <td>Original_Input_Moving_7_Shift_5</td>\n",
       "      <td>6</td>\n",
       "      <td>0.001</td>\n",
       "      <td>30</td>\n",
       "      <td>108</td>\n",
       "      <td>2019-01-01</td>\n",
       "      <td>2019-06-01</td>\n",
       "      <td>waiting</td>\n",
       "    </tr>\n",
       "    <tr>\n",
       "      <th>6</th>\n",
       "      <td>Original_Input_Moving_7_Shift_5</td>\n",
       "      <td>6</td>\n",
       "      <td>0.001</td>\n",
       "      <td>30</td>\n",
       "      <td>108</td>\n",
       "      <td>2019-06-01</td>\n",
       "      <td>2020-01-01</td>\n",
       "      <td>waiting</td>\n",
       "    </tr>\n",
       "    <tr>\n",
       "      <th>7</th>\n",
       "      <td>Original_Input_Moving_7_Shift_5</td>\n",
       "      <td>6</td>\n",
       "      <td>0.001</td>\n",
       "      <td>30</td>\n",
       "      <td>108</td>\n",
       "      <td>2020-01-01</td>\n",
       "      <td>2020-06-01</td>\n",
       "      <td>waiting</td>\n",
       "    </tr>\n",
       "    <tr>\n",
       "      <th>8</th>\n",
       "      <td>Original_Input_Moving_7_Shift_5</td>\n",
       "      <td>6</td>\n",
       "      <td>0.001</td>\n",
       "      <td>30</td>\n",
       "      <td>108</td>\n",
       "      <td>2020-06-01</td>\n",
       "      <td>2021-01-01</td>\n",
       "      <td>waiting</td>\n",
       "    </tr>\n",
       "    <tr>\n",
       "      <th>9</th>\n",
       "      <td>Original_Input_Moving_7_Shift_5</td>\n",
       "      <td>6</td>\n",
       "      <td>0.001</td>\n",
       "      <td>30</td>\n",
       "      <td>108</td>\n",
       "      <td>2021-01-01</td>\n",
       "      <td>2021-06-01</td>\n",
       "      <td>waiting</td>\n",
       "    </tr>\n",
       "  </tbody>\n",
       "</table>\n",
       "</div>"
      ],
      "text/plain": [
       "                               Alpha_Name  sequence     LR  epoch_num  \\\n",
       "task_id                                                                 \n",
       "0        Original_Input_Moving_10_Shift_5         5  0.001         30   \n",
       "1        Original_Input_Moving_10_Shift_5         5  0.001         30   \n",
       "2        Original_Input_Moving_10_Shift_5         5  0.001         30   \n",
       "3        Original_Input_Moving_10_Shift_5         5  0.001         30   \n",
       "4        Original_Input_Moving_10_Shift_5         5  0.001         30   \n",
       "5         Original_Input_Moving_7_Shift_5         6  0.001         30   \n",
       "6         Original_Input_Moving_7_Shift_5         6  0.001         30   \n",
       "7         Original_Input_Moving_7_Shift_5         6  0.001         30   \n",
       "8         Original_Input_Moving_7_Shift_5         6  0.001         30   \n",
       "9         Original_Input_Moving_7_Shift_5         6  0.001         30   \n",
       "\n",
       "         feature_num  start_date    end_date   status  \n",
       "task_id                                                \n",
       "0                108  2019-01-01  2019-06-01  waiting  \n",
       "1                108  2019-06-01  2020-01-01  waiting  \n",
       "2                108  2020-01-01  2020-06-01  waiting  \n",
       "3                108  2020-06-01  2021-01-01  waiting  \n",
       "4                108  2021-01-01  2021-06-01  waiting  \n",
       "5                108  2019-01-01  2019-06-01  waiting  \n",
       "6                108  2019-06-01  2020-01-01  waiting  \n",
       "7                108  2020-01-01  2020-06-01  waiting  \n",
       "8                108  2020-06-01  2021-01-01  waiting  \n",
       "9                108  2021-01-01  2021-06-01  waiting  "
      ]
     },
     "execution_count": 64,
     "metadata": {},
     "output_type": "execute_result"
    }
   ],
   "source": [
    "import pandas as pd\n",
    "original = pd.read_parquet(\"/home/ShareFolder/feature_platform/ti0/wuwenjun/#Factor_Description/Task.par\")\n",
    "original"
   ]
  },
  {
   "cell_type": "code",
   "execution_count": 65,
   "id": "b0ce00a0",
   "metadata": {
    "ExecuteTime": {
     "end_time": "2022-01-17T01:45:26.838068Z",
     "start_time": "2022-01-17T01:45:26.822944Z"
    }
   },
   "outputs": [
    {
     "data": {
      "text/html": [
       "<div>\n",
       "<style scoped>\n",
       "    .dataframe tbody tr th:only-of-type {\n",
       "        vertical-align: middle;\n",
       "    }\n",
       "\n",
       "    .dataframe tbody tr th {\n",
       "        vertical-align: top;\n",
       "    }\n",
       "\n",
       "    .dataframe thead th {\n",
       "        text-align: right;\n",
       "    }\n",
       "</style>\n",
       "<table border=\"1\" class=\"dataframe\">\n",
       "  <thead>\n",
       "    <tr style=\"text-align: right;\">\n",
       "      <th></th>\n",
       "      <th>start_date</th>\n",
       "      <th>end_date</th>\n",
       "    </tr>\n",
       "  </thead>\n",
       "  <tbody>\n",
       "    <tr>\n",
       "      <th>0</th>\n",
       "      <td>2019-01-01</td>\n",
       "      <td>2019-06-01</td>\n",
       "    </tr>\n",
       "    <tr>\n",
       "      <th>1</th>\n",
       "      <td>2019-06-01</td>\n",
       "      <td>2020-01-01</td>\n",
       "    </tr>\n",
       "    <tr>\n",
       "      <th>2</th>\n",
       "      <td>2020-01-01</td>\n",
       "      <td>2020-06-01</td>\n",
       "    </tr>\n",
       "    <tr>\n",
       "      <th>3</th>\n",
       "      <td>2020-06-01</td>\n",
       "      <td>2021-01-01</td>\n",
       "    </tr>\n",
       "    <tr>\n",
       "      <th>4</th>\n",
       "      <td>2021-01-01</td>\n",
       "      <td>2021-06-01</td>\n",
       "    </tr>\n",
       "  </tbody>\n",
       "</table>\n",
       "</div>"
      ],
      "text/plain": [
       "   start_date    end_date\n",
       "0  2019-01-01  2019-06-01\n",
       "1  2019-06-01  2020-01-01\n",
       "2  2020-01-01  2020-06-01\n",
       "3  2020-06-01  2021-01-01\n",
       "4  2021-01-01  2021-06-01"
      ]
     },
     "execution_count": 65,
     "metadata": {},
     "output_type": "execute_result"
    }
   ],
   "source": [
    "time_list = [\"2019-01-01\",\"2019-06-01\",\"2020-01-01\",\"2020-06-01\",\"2021-01-01\",\"2021-06-01\"]\n",
    "time_list2 = []\n",
    "for i in range(len(time_list)-1):\n",
    "    time_list2.append([time_list[i],time_list[i+1]])\n",
    "time_list2 = pd.DataFrame(time_list2,columns=[\"start_date\",\"end_date\"])\n",
    "time_list2"
   ]
  },
  {
   "cell_type": "code",
   "execution_count": 66,
   "id": "1838e5fe",
   "metadata": {
    "ExecuteTime": {
     "end_time": "2022-01-17T01:45:27.419916Z",
     "start_time": "2022-01-17T01:45:27.401785Z"
    }
   },
   "outputs": [
    {
     "data": {
      "text/html": [
       "<div>\n",
       "<style scoped>\n",
       "    .dataframe tbody tr th:only-of-type {\n",
       "        vertical-align: middle;\n",
       "    }\n",
       "\n",
       "    .dataframe tbody tr th {\n",
       "        vertical-align: top;\n",
       "    }\n",
       "\n",
       "    .dataframe thead th {\n",
       "        text-align: right;\n",
       "    }\n",
       "</style>\n",
       "<table border=\"1\" class=\"dataframe\">\n",
       "  <thead>\n",
       "    <tr style=\"text-align: right;\">\n",
       "      <th></th>\n",
       "      <th>Alpha_Name</th>\n",
       "      <th>sequence</th>\n",
       "      <th>LR</th>\n",
       "      <th>epoch_num</th>\n",
       "      <th>feature_num</th>\n",
       "      <th>start_date</th>\n",
       "      <th>end_date</th>\n",
       "      <th>status</th>\n",
       "    </tr>\n",
       "  </thead>\n",
       "  <tbody>\n",
       "    <tr>\n",
       "      <th>0</th>\n",
       "      <td>Original_Input_Moving_7_Shift_5</td>\n",
       "      <td>6</td>\n",
       "      <td>0.001</td>\n",
       "      <td>30</td>\n",
       "      <td>108</td>\n",
       "      <td>2019-01-01</td>\n",
       "      <td>2019-06-01</td>\n",
       "      <td>waiting</td>\n",
       "    </tr>\n",
       "    <tr>\n",
       "      <th>1</th>\n",
       "      <td>Original_Input_Moving_7_Shift_5</td>\n",
       "      <td>6</td>\n",
       "      <td>0.001</td>\n",
       "      <td>30</td>\n",
       "      <td>108</td>\n",
       "      <td>2019-06-01</td>\n",
       "      <td>2020-01-01</td>\n",
       "      <td>waiting</td>\n",
       "    </tr>\n",
       "    <tr>\n",
       "      <th>2</th>\n",
       "      <td>Original_Input_Moving_7_Shift_5</td>\n",
       "      <td>6</td>\n",
       "      <td>0.001</td>\n",
       "      <td>30</td>\n",
       "      <td>108</td>\n",
       "      <td>2020-01-01</td>\n",
       "      <td>2020-06-01</td>\n",
       "      <td>waiting</td>\n",
       "    </tr>\n",
       "    <tr>\n",
       "      <th>3</th>\n",
       "      <td>Original_Input_Moving_7_Shift_5</td>\n",
       "      <td>6</td>\n",
       "      <td>0.001</td>\n",
       "      <td>30</td>\n",
       "      <td>108</td>\n",
       "      <td>2020-06-01</td>\n",
       "      <td>2021-01-01</td>\n",
       "      <td>waiting</td>\n",
       "    </tr>\n",
       "    <tr>\n",
       "      <th>4</th>\n",
       "      <td>Original_Input_Moving_7_Shift_5</td>\n",
       "      <td>6</td>\n",
       "      <td>0.001</td>\n",
       "      <td>30</td>\n",
       "      <td>108</td>\n",
       "      <td>2021-01-01</td>\n",
       "      <td>2021-06-01</td>\n",
       "      <td>waiting</td>\n",
       "    </tr>\n",
       "  </tbody>\n",
       "</table>\n",
       "</div>"
      ],
      "text/plain": [
       "                        Alpha_Name sequence     LR epoch_num feature_num  \\\n",
       "0  Original_Input_Moving_7_Shift_5        6  0.001        30         108   \n",
       "1  Original_Input_Moving_7_Shift_5        6  0.001        30         108   \n",
       "2  Original_Input_Moving_7_Shift_5        6  0.001        30         108   \n",
       "3  Original_Input_Moving_7_Shift_5        6  0.001        30         108   \n",
       "4  Original_Input_Moving_7_Shift_5        6  0.001        30         108   \n",
       "\n",
       "   start_date    end_date   status  \n",
       "0  2019-01-01  2019-06-01  waiting  \n",
       "1  2019-06-01  2020-01-01  waiting  \n",
       "2  2020-01-01  2020-06-01  waiting  \n",
       "3  2020-06-01  2021-01-01  waiting  \n",
       "4  2021-01-01  2021-06-01  waiting  "
      ]
     },
     "execution_count": 66,
     "metadata": {},
     "output_type": "execute_result"
    }
   ],
   "source": [
    "task = pd.DataFrame([Alpha_Name,sequence,LR,epoch_num,feature_num],index=[\"Alpha_Name\",\"sequence\",\"LR\",\"epoch_num\",\"feature_num\"]).T\n",
    "task['value']=1\n",
    "time_list2['value']=1\n",
    "task = pd.merge(task,time_list2,how='left',on='value')\n",
    "del task['value']\n",
    "task[\"status\"] = \"waiting\"\n",
    "task"
   ]
  },
  {
   "cell_type": "code",
   "execution_count": 67,
   "id": "1d17390c",
   "metadata": {
    "ExecuteTime": {
     "end_time": "2022-01-17T01:45:28.647480Z",
     "start_time": "2022-01-17T01:45:28.624495Z"
    }
   },
   "outputs": [
    {
     "ename": "ValueError",
     "evalue": "concain duplicates value",
     "output_type": "error",
     "traceback": [
      "\u001b[0;31m---------------------------------------------------------------------------\u001b[0m",
      "\u001b[0;31mValueError\u001b[0m                                Traceback (most recent call last)",
      "\u001b[0;32m<ipython-input-67-112d36a39e1e>\u001b[0m in \u001b[0;36m<module>\u001b[0;34m\u001b[0m\n\u001b[1;32m      3\u001b[0m \u001b[0mtask\u001b[0m\u001b[0;34m.\u001b[0m\u001b[0mindex\u001b[0m\u001b[0;34m.\u001b[0m\u001b[0mnames\u001b[0m \u001b[0;34m=\u001b[0m \u001b[0;34m[\u001b[0m\u001b[0;34m\"task_id\"\u001b[0m\u001b[0;34m]\u001b[0m\u001b[0;34m\u001b[0m\u001b[0;34m\u001b[0m\u001b[0m\n\u001b[1;32m      4\u001b[0m \u001b[0;32mif\u001b[0m \u001b[0mtask\u001b[0m\u001b[0;34m.\u001b[0m\u001b[0mduplicated\u001b[0m\u001b[0;34m(\u001b[0m\u001b[0;34m)\u001b[0m\u001b[0;34m.\u001b[0m\u001b[0many\u001b[0m\u001b[0;34m(\u001b[0m\u001b[0;34m)\u001b[0m \u001b[0;34m==\u001b[0m \u001b[0;32mTrue\u001b[0m\u001b[0;34m:\u001b[0m\u001b[0;34m\u001b[0m\u001b[0;34m\u001b[0m\u001b[0m\n\u001b[0;32m----> 5\u001b[0;31m     \u001b[0;32mraise\u001b[0m \u001b[0mValueError\u001b[0m\u001b[0;34m(\u001b[0m\u001b[0;34m\"concain duplicates value\"\u001b[0m\u001b[0;34m)\u001b[0m\u001b[0;34m\u001b[0m\u001b[0;34m\u001b[0m\u001b[0m\n\u001b[0m\u001b[1;32m      6\u001b[0m \u001b[0mtask\u001b[0m\u001b[0;34m\u001b[0m\u001b[0;34m\u001b[0m\u001b[0m\n",
      "\u001b[0;31mValueError\u001b[0m: concain duplicates value"
     ]
    }
   ],
   "source": [
    "task = pd.concat([original,task],axis=0)\n",
    "task.reset_index(drop=True,inplace=True)\n",
    "task.index.names = [\"task_id\"]\n",
    "if task.duplicated().any() == True:\n",
    "    raise ValueError(\"concains duplicates value\")\n",
    "task"
   ]
  },
  {
   "cell_type": "code",
   "execution_count": 63,
   "id": "0a12363e",
   "metadata": {
    "ExecuteTime": {
     "end_time": "2022-01-17T01:44:45.960332Z",
     "start_time": "2022-01-17T01:44:45.949000Z"
    }
   },
   "outputs": [
    {
     "data": {
      "text/plain": [
       "True"
      ]
     },
     "execution_count": 63,
     "metadata": {},
     "output_type": "execute_result"
    }
   ],
   "source": []
  },
  {
   "cell_type": "code",
   "execution_count": 57,
   "id": "a545a8f0",
   "metadata": {
    "ExecuteTime": {
     "end_time": "2022-01-17T01:44:05.836489Z",
     "start_time": "2022-01-17T01:44:05.823791Z"
    }
   },
   "outputs": [],
   "source": [
    "task.to_parquet(\"/home/ShareFolder/feature_platform/ti0/wuwenjun/#Factor_Description/Task.par\")"
   ]
  }
 ],
 "metadata": {
  "kernelspec": {
   "display_name": "Python 3 (ipykernel)",
   "language": "python",
   "name": "python3"
  },
  "language_info": {
   "codemirror_mode": {
    "name": "ipython",
    "version": 3
   },
   "file_extension": ".py",
   "mimetype": "text/x-python",
   "name": "python",
   "nbconvert_exporter": "python",
   "pygments_lexer": "ipython3",
   "version": "3.7.9"
  }
 },
 "nbformat": 4,
 "nbformat_minor": 5
}
