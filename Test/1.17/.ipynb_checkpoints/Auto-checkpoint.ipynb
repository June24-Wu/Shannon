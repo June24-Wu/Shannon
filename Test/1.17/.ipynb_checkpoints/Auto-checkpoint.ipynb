{
 "cells": [
  {
   "cell_type": "code",
   "execution_count": 24,
   "id": "b0bc0459",
   "metadata": {
    "ExecuteTime": {
     "end_time": "2022-01-17T05:19:58.504304Z",
     "start_time": "2022-01-17T03:03:28.690838Z"
    }
   },
   "outputs": [
    {
     "name": "stderr",
     "output_type": "stream",
     "text": [
      "100%|██████████| 975/975 [01:49<00:00,  8.94it/s]\n",
      "  0%|          | 0/5 [00:00<?, ?it/s]"
     ]
    },
    {
     "name": "stdout",
     "output_type": "stream",
     "text": [
      "AlphaNet_LSTM_V1(\n",
      "  (batch): BatchNorm1d(108, eps=1e-05, momentum=0.1, affine=True, track_running_stats=True)\n",
      "  (lstm): LSTM(108, 64, num_layers=5, batch_first=True, bidirectional=True)\n",
      "  (batch2): BatchNorm1d(128, eps=1e-05, momentum=0.1, affine=True, track_running_stats=True)\n",
      "  (dropout): Dropout(p=0.3, inplace=False)\n",
      "  (out): Linear(in_features=128, out_features=1, bias=True)\n",
      ")\n",
      "Learning Rate is : 0.01\n"
     ]
    },
    {
     "name": "stderr",
     "output_type": "stream",
     "text": [
      "\r",
      " 20%|██        | 1/5 [02:20<09:21, 140.47s/it]"
     ]
    },
    {
     "name": "stdout",
     "output_type": "stream",
     "text": [
      "Epoch:  1  loss:  0.6823908769478282\n"
     ]
    },
    {
     "name": "stderr",
     "output_type": "stream",
     "text": [
      "\r",
      " 40%|████      | 2/5 [04:09<06:05, 121.85s/it]"
     ]
    },
    {
     "name": "stdout",
     "output_type": "stream",
     "text": [
      "Epoch:  2  loss:  0.6622214105178109\n"
     ]
    },
    {
     "name": "stderr",
     "output_type": "stream",
     "text": [
      "\r",
      " 60%|██████    | 3/5 [05:51<03:45, 113.00s/it]"
     ]
    },
    {
     "name": "stdout",
     "output_type": "stream",
     "text": [
      "Epoch:  3  loss:  0.6596099442083843\n"
     ]
    },
    {
     "name": "stderr",
     "output_type": "stream",
     "text": [
      "\r",
      " 80%|████████  | 4/5 [07:55<01:57, 117.31s/it]"
     ]
    },
    {
     "name": "stdout",
     "output_type": "stream",
     "text": [
      "Epoch:  4  loss:  0.6590805911144286\n"
     ]
    },
    {
     "name": "stderr",
     "output_type": "stream",
     "text": [
      "100%|██████████| 5/5 [09:38<00:00, 115.71s/it]"
     ]
    },
    {
     "name": "stdout",
     "output_type": "stream",
     "text": [
      "Epoch:  5  loss:  0.6589862972205323\n"
     ]
    },
    {
     "name": "stderr",
     "output_type": "stream",
     "text": [
      "\n",
      "  0%|          | 0/30 [00:00<?, ?it/s]"
     ]
    },
    {
     "name": "stdout",
     "output_type": "stream",
     "text": [
      "Learning Rate is : 0.001\n"
     ]
    },
    {
     "name": "stderr",
     "output_type": "stream",
     "text": [
      "\r",
      "  3%|▎         | 1/30 [01:39<48:17, 99.92s/it]"
     ]
    },
    {
     "name": "stdout",
     "output_type": "stream",
     "text": [
      "Epoch:  1  loss:  0.6505097864124949\n"
     ]
    },
    {
     "name": "stderr",
     "output_type": "stream",
     "text": [
      "\r",
      "  7%|▋         | 2/30 [03:39<51:57, 111.32s/it]"
     ]
    },
    {
     "name": "stdout",
     "output_type": "stream",
     "text": [
      "Epoch:  2  loss:  0.644560790488456\n"
     ]
    },
    {
     "name": "stderr",
     "output_type": "stream",
     "text": [
      "\r",
      " 10%|█         | 3/30 [05:15<47:04, 104.61s/it]"
     ]
    },
    {
     "name": "stdout",
     "output_type": "stream",
     "text": [
      "Epoch:  3  loss:  0.6402387733252229\n"
     ]
    },
    {
     "name": "stderr",
     "output_type": "stream",
     "text": [
      "\r",
      " 13%|█▎        | 4/30 [06:58<44:59, 103.82s/it]"
     ]
    },
    {
     "name": "stdout",
     "output_type": "stream",
     "text": [
      "Epoch:  4  loss:  0.6365783303921949\n"
     ]
    },
    {
     "name": "stderr",
     "output_type": "stream",
     "text": [
      "\r",
      " 17%|█▋        | 5/30 [08:44<43:36, 104.65s/it]"
     ]
    },
    {
     "name": "stdout",
     "output_type": "stream",
     "text": [
      "Epoch:  5  loss:  0.6327875134899892\n"
     ]
    },
    {
     "name": "stderr",
     "output_type": "stream",
     "text": [
      "\r",
      " 20%|██        | 6/30 [10:55<45:23, 113.50s/it]"
     ]
    },
    {
     "name": "stdout",
     "output_type": "stream",
     "text": [
      "Epoch:  6  loss:  0.6293649746956491\n"
     ]
    },
    {
     "name": "stderr",
     "output_type": "stream",
     "text": [
      "\r",
      " 23%|██▎       | 7/30 [12:49<43:34, 113.66s/it]"
     ]
    },
    {
     "name": "stdout",
     "output_type": "stream",
     "text": [
      "Epoch:  7  loss:  0.6264474187950361\n"
     ]
    },
    {
     "name": "stderr",
     "output_type": "stream",
     "text": [
      "\r",
      " 27%|██▋       | 8/30 [14:26<39:46, 108.49s/it]"
     ]
    },
    {
     "name": "stdout",
     "output_type": "stream",
     "text": [
      "Epoch:  8  loss:  0.6232878007161873\n"
     ]
    },
    {
     "name": "stderr",
     "output_type": "stream",
     "text": [
      "\r",
      " 30%|███       | 9/30 [16:15<38:01, 108.63s/it]"
     ]
    },
    {
     "name": "stdout",
     "output_type": "stream",
     "text": [
      "Epoch:  9  loss:  0.6205744663083577\n"
     ]
    },
    {
     "name": "stderr",
     "output_type": "stream",
     "text": [
      "\r",
      " 33%|███▎      | 10/30 [17:53<35:08, 105.42s/it]"
     ]
    },
    {
     "name": "stdout",
     "output_type": "stream",
     "text": [
      "Epoch:  10  loss:  0.617991719321228\n"
     ]
    },
    {
     "name": "stderr",
     "output_type": "stream",
     "text": [
      "\r",
      " 37%|███▋      | 11/30 [20:40<39:20, 124.21s/it]"
     ]
    },
    {
     "name": "stdout",
     "output_type": "stream",
     "text": [
      "Epoch:  11  loss:  0.6148315394333882\n"
     ]
    },
    {
     "name": "stderr",
     "output_type": "stream",
     "text": [
      "\r",
      " 40%|████      | 12/30 [22:45<37:17, 124.33s/it]"
     ]
    },
    {
     "name": "stdout",
     "output_type": "stream",
     "text": [
      "Epoch:  12  loss:  0.6127396500235909\n"
     ]
    },
    {
     "name": "stderr",
     "output_type": "stream",
     "text": [
      "\r",
      " 43%|████▎     | 13/30 [24:23<33:01, 116.57s/it]"
     ]
    },
    {
     "name": "stdout",
     "output_type": "stream",
     "text": [
      "Epoch:  13  loss:  0.6103134982434576\n"
     ]
    },
    {
     "name": "stderr",
     "output_type": "stream",
     "text": [
      "\r",
      " 47%|████▋     | 14/30 [26:43<32:57, 123.60s/it]"
     ]
    },
    {
     "name": "stdout",
     "output_type": "stream",
     "text": [
      "Epoch:  14  loss:  0.6076546212512555\n"
     ]
    },
    {
     "name": "stderr",
     "output_type": "stream",
     "text": [
      "\r",
      " 50%|█████     | 15/30 [28:28<29:28, 117.90s/it]"
     ]
    },
    {
     "name": "stdout",
     "output_type": "stream",
     "text": [
      "Epoch:  15  loss:  0.6049618371338924\n"
     ]
    },
    {
     "name": "stderr",
     "output_type": "stream",
     "text": [
      "\r",
      " 53%|█████▎    | 16/30 [31:17<31:04, 133.20s/it]"
     ]
    },
    {
     "name": "stdout",
     "output_type": "stream",
     "text": [
      "Epoch:  16  loss:  0.6030571520177858\n"
     ]
    },
    {
     "name": "stderr",
     "output_type": "stream",
     "text": [
      "\r",
      " 57%|█████▋    | 17/30 [33:08<27:26, 126.67s/it]"
     ]
    },
    {
     "name": "stdout",
     "output_type": "stream",
     "text": [
      "Epoch:  17  loss:  0.6003648769384629\n"
     ]
    },
    {
     "name": "stderr",
     "output_type": "stream",
     "text": [
      "\r",
      " 60%|██████    | 18/30 [34:39<23:09, 115.79s/it]"
     ]
    },
    {
     "name": "stdout",
     "output_type": "stream",
     "text": [
      "Epoch:  18  loss:  0.5980957829355221\n"
     ]
    },
    {
     "name": "stderr",
     "output_type": "stream",
     "text": [
      "\r",
      " 63%|██████▎   | 19/30 [36:30<20:59, 114.48s/it]"
     ]
    },
    {
     "name": "stdout",
     "output_type": "stream",
     "text": [
      "Epoch:  19  loss:  0.5963251463268731\n"
     ]
    },
    {
     "name": "stderr",
     "output_type": "stream",
     "text": [
      "\r",
      " 67%|██████▋   | 20/30 [37:36<16:39, 99.99s/it] "
     ]
    },
    {
     "name": "stdout",
     "output_type": "stream",
     "text": [
      "Epoch:  20  loss:  0.5938337238432702\n"
     ]
    },
    {
     "name": "stderr",
     "output_type": "stream",
     "text": [
      "\r",
      " 70%|███████   | 21/30 [39:11<14:44, 98.29s/it]"
     ]
    },
    {
     "name": "stdout",
     "output_type": "stream",
     "text": [
      "Epoch:  21  loss:  0.5921034665476914\n"
     ]
    },
    {
     "name": "stderr",
     "output_type": "stream",
     "text": [
      "\r",
      " 73%|███████▎  | 22/30 [40:21<11:59, 89.89s/it]"
     ]
    },
    {
     "name": "stdout",
     "output_type": "stream",
     "text": [
      "Epoch:  22  loss:  0.5899765313451377\n"
     ]
    },
    {
     "name": "stderr",
     "output_type": "stream",
     "text": [
      "\r",
      " 77%|███████▋  | 23/30 [42:08<11:05, 95.05s/it]"
     ]
    },
    {
     "name": "stdout",
     "output_type": "stream",
     "text": [
      "Epoch:  23  loss:  0.5880391880812403\n"
     ]
    },
    {
     "name": "stderr",
     "output_type": "stream",
     "text": [
      "\r",
      " 80%|████████  | 24/30 [43:17<08:43, 87.25s/it]"
     ]
    },
    {
     "name": "stdout",
     "output_type": "stream",
     "text": [
      "Epoch:  24  loss:  0.5858139320022931\n"
     ]
    },
    {
     "name": "stderr",
     "output_type": "stream",
     "text": [
      "\r",
      " 83%|████████▎ | 25/30 [44:41<07:11, 86.39s/it]"
     ]
    },
    {
     "name": "stdout",
     "output_type": "stream",
     "text": [
      "Epoch:  25  loss:  0.584213579716097\n"
     ]
    },
    {
     "name": "stderr",
     "output_type": "stream",
     "text": [
      "\r",
      " 87%|████████▋ | 26/30 [45:51<05:25, 81.26s/it]"
     ]
    },
    {
     "name": "stdout",
     "output_type": "stream",
     "text": [
      "Epoch:  26  loss:  0.582396857979925\n"
     ]
    },
    {
     "name": "stderr",
     "output_type": "stream",
     "text": [
      "\r",
      " 90%|█████████ | 27/30 [47:28<04:17, 85.92s/it]"
     ]
    },
    {
     "name": "stdout",
     "output_type": "stream",
     "text": [
      "Epoch:  27  loss:  0.5805082801234932\n"
     ]
    },
    {
     "name": "stderr",
     "output_type": "stream",
     "text": [
      "\r",
      " 93%|█████████▎| 28/30 [48:43<02:45, 82.78s/it]"
     ]
    },
    {
     "name": "stdout",
     "output_type": "stream",
     "text": [
      "Epoch:  28  loss:  0.5793255399079976\n"
     ]
    },
    {
     "name": "stderr",
     "output_type": "stream",
     "text": [
      "\r",
      " 97%|█████████▋| 29/30 [50:38<01:32, 92.46s/it]"
     ]
    },
    {
     "name": "stdout",
     "output_type": "stream",
     "text": [
      "Epoch:  29  loss:  0.5765742519426145\n"
     ]
    },
    {
     "name": "stderr",
     "output_type": "stream",
     "text": [
      "100%|██████████| 30/30 [51:40<00:00, 103.36s/it]\n",
      "  0%|          | 0/20 [00:00<?, ?it/s]"
     ]
    },
    {
     "name": "stdout",
     "output_type": "stream",
     "text": [
      "Epoch:  30  loss:  0.5758381947859054\n",
      "Learning Rate is : 0.0001\n"
     ]
    },
    {
     "name": "stderr",
     "output_type": "stream",
     "text": [
      "\r",
      "  5%|▌         | 1/20 [01:30<28:40, 90.54s/it]"
     ]
    },
    {
     "name": "stdout",
     "output_type": "stream",
     "text": [
      "Epoch:  1  loss:  0.5684894804546656\n"
     ]
    },
    {
     "name": "stderr",
     "output_type": "stream",
     "text": [
      "\r",
      " 10%|█         | 2/20 [02:38<23:12, 77.38s/it]"
     ]
    },
    {
     "name": "stdout",
     "output_type": "stream",
     "text": [
      "Epoch:  2  loss:  0.5660908877278491\n"
     ]
    },
    {
     "name": "stderr",
     "output_type": "stream",
     "text": [
      "\r",
      " 15%|█▌        | 3/20 [04:00<22:25, 79.18s/it]"
     ]
    },
    {
     "name": "stdout",
     "output_type": "stream",
     "text": [
      "Epoch:  3  loss:  0.565151147815598\n"
     ]
    },
    {
     "name": "stderr",
     "output_type": "stream",
     "text": [
      "\r",
      " 20%|██        | 4/20 [05:15<20:44, 77.80s/it]"
     ]
    },
    {
     "name": "stdout",
     "output_type": "stream",
     "text": [
      "Epoch:  4  loss:  0.5641249371488354\n"
     ]
    },
    {
     "name": "stderr",
     "output_type": "stream",
     "text": [
      "\r",
      " 25%|██▌       | 5/20 [07:05<22:21, 89.42s/it]"
     ]
    },
    {
     "name": "stdout",
     "output_type": "stream",
     "text": [
      "Epoch:  5  loss:  0.5635984218368121\n"
     ]
    },
    {
     "name": "stderr",
     "output_type": "stream",
     "text": [
      "\r",
      " 30%|███       | 6/20 [08:13<19:09, 82.09s/it]"
     ]
    },
    {
     "name": "stdout",
     "output_type": "stream",
     "text": [
      "Epoch:  6  loss:  0.5628553170823305\n"
     ]
    },
    {
     "name": "stderr",
     "output_type": "stream",
     "text": [
      "\r",
      " 35%|███▌      | 7/20 [09:27<17:11, 79.36s/it]"
     ]
    },
    {
     "name": "stdout",
     "output_type": "stream",
     "text": [
      "Epoch:  7  loss:  0.5624121022242713\n"
     ]
    },
    {
     "name": "stderr",
     "output_type": "stream",
     "text": [
      "\r",
      " 40%|████      | 8/20 [11:28<18:30, 92.53s/it]"
     ]
    },
    {
     "name": "stdout",
     "output_type": "stream",
     "text": [
      "Epoch:  8  loss:  0.5615857255257616\n"
     ]
    },
    {
     "name": "stderr",
     "output_type": "stream",
     "text": [
      "\r",
      " 45%|████▌     | 9/20 [12:30<15:14, 83.10s/it]"
     ]
    },
    {
     "name": "stdout",
     "output_type": "stream",
     "text": [
      "Epoch:  9  loss:  0.561072710884681\n"
     ]
    },
    {
     "name": "stderr",
     "output_type": "stream",
     "text": [
      "\r",
      " 50%|█████     | 10/20 [14:10<14:43, 88.38s/it]"
     ]
    },
    {
     "name": "stdout",
     "output_type": "stream",
     "text": [
      "Epoch:  10  loss:  0.5606990062126984\n"
     ]
    },
    {
     "name": "stderr",
     "output_type": "stream",
     "text": [
      "\r",
      " 55%|█████▌    | 11/20 [15:27<12:44, 84.90s/it]"
     ]
    },
    {
     "name": "stdout",
     "output_type": "stream",
     "text": [
      "Epoch:  11  loss:  0.5602368499456976\n"
     ]
    },
    {
     "name": "stderr",
     "output_type": "stream",
     "text": [
      "\r",
      " 60%|██████    | 12/20 [16:37<10:42, 80.26s/it]"
     ]
    },
    {
     "name": "stdout",
     "output_type": "stream",
     "text": [
      "Epoch:  12  loss:  0.5599745854993071\n"
     ]
    },
    {
     "name": "stderr",
     "output_type": "stream",
     "text": [
      "\r",
      " 65%|██████▌   | 13/20 [18:33<10:37, 91.04s/it]"
     ]
    },
    {
     "name": "stdout",
     "output_type": "stream",
     "text": [
      "Epoch:  13  loss:  0.5592948128591461\n"
     ]
    },
    {
     "name": "stderr",
     "output_type": "stream",
     "text": [
      "\r",
      " 70%|███████   | 14/20 [19:41<08:24, 84.10s/it]"
     ]
    },
    {
     "name": "stdout",
     "output_type": "stream",
     "text": [
      "Epoch:  14  loss:  0.5591340111770643\n"
     ]
    },
    {
     "name": "stderr",
     "output_type": "stream",
     "text": [
      "\r",
      " 75%|███████▌  | 15/20 [20:51<06:40, 80.01s/it]"
     ]
    },
    {
     "name": "stdout",
     "output_type": "stream",
     "text": [
      "Epoch:  15  loss:  0.5585703403478394\n"
     ]
    },
    {
     "name": "stderr",
     "output_type": "stream",
     "text": [
      "\r",
      " 80%|████████  | 16/20 [22:38<05:52, 88.07s/it]"
     ]
    },
    {
     "name": "stdout",
     "output_type": "stream",
     "text": [
      "Epoch:  16  loss:  0.5584258412352511\n"
     ]
    },
    {
     "name": "stderr",
     "output_type": "stream",
     "text": [
      "\r",
      " 85%|████████▌ | 17/20 [23:44<04:03, 81.33s/it]"
     ]
    },
    {
     "name": "stdout",
     "output_type": "stream",
     "text": [
      "Epoch:  17  loss:  0.5583193917296174\n"
     ]
    },
    {
     "name": "stderr",
     "output_type": "stream",
     "text": [
      "\r",
      " 90%|█████████ | 18/20 [25:28<02:56, 88.11s/it]"
     ]
    },
    {
     "name": "stdout",
     "output_type": "stream",
     "text": [
      "Epoch:  18  loss:  0.5581617223348352\n"
     ]
    },
    {
     "name": "stderr",
     "output_type": "stream",
     "text": [
      "\r",
      " 95%|█████████▌| 19/20 [27:04<01:30, 90.47s/it]"
     ]
    },
    {
     "name": "stdout",
     "output_type": "stream",
     "text": [
      "Epoch:  19  loss:  0.5574434140349367\n"
     ]
    },
    {
     "name": "stderr",
     "output_type": "stream",
     "text": [
      "100%|██████████| 20/20 [29:18<00:00, 87.90s/it] \n",
      "  0%|          | 0/20 [00:00<?, ?it/s]"
     ]
    },
    {
     "name": "stdout",
     "output_type": "stream",
     "text": [
      "Epoch:  20  loss:  0.5572323359944671\n",
      "Learning Rate is : 1e-05\n"
     ]
    },
    {
     "name": "stderr",
     "output_type": "stream",
     "text": [
      "\r",
      "  5%|▌         | 1/20 [01:40<31:58, 100.98s/it]"
     ]
    },
    {
     "name": "stdout",
     "output_type": "stream",
     "text": [
      "Epoch:  1  loss:  0.5564792583735911\n"
     ]
    },
    {
     "name": "stderr",
     "output_type": "stream",
     "text": [
      "\r",
      " 10%|█         | 2/20 [03:47<34:52, 116.22s/it]"
     ]
    },
    {
     "name": "stdout",
     "output_type": "stream",
     "text": [
      "Epoch:  2  loss:  0.5564654069450258\n"
     ]
    },
    {
     "name": "stderr",
     "output_type": "stream",
     "text": [
      "\r",
      " 15%|█▌        | 3/20 [05:36<31:56, 112.73s/it]"
     ]
    },
    {
     "name": "stdout",
     "output_type": "stream",
     "text": [
      "Epoch:  3  loss:  0.5558303347706429\n"
     ]
    },
    {
     "name": "stderr",
     "output_type": "stream",
     "text": [
      "\r",
      " 20%|██        | 4/20 [07:14<28:31, 106.96s/it]"
     ]
    },
    {
     "name": "stdout",
     "output_type": "stream",
     "text": [
      "Epoch:  4  loss:  0.555940084412175\n"
     ]
    },
    {
     "name": "stderr",
     "output_type": "stream",
     "text": [
      "\r",
      " 25%|██▌       | 5/20 [09:00<26:38, 106.56s/it]"
     ]
    },
    {
     "name": "stdout",
     "output_type": "stream",
     "text": [
      "Epoch:  5  loss:  0.555778270643586\n"
     ]
    },
    {
     "name": "stderr",
     "output_type": "stream",
     "text": [
      "\r",
      " 30%|███       | 6/20 [10:46<24:51, 106.52s/it]"
     ]
    },
    {
     "name": "stdout",
     "output_type": "stream",
     "text": [
      "Epoch:  6  loss:  0.5557766157699233\n"
     ]
    },
    {
     "name": "stderr",
     "output_type": "stream",
     "text": [
      "\r",
      " 35%|███▌      | 7/20 [12:29<22:46, 105.10s/it]"
     ]
    },
    {
     "name": "stdout",
     "output_type": "stream",
     "text": [
      "Epoch:  7  loss:  0.5558646785183907\n"
     ]
    },
    {
     "name": "stderr",
     "output_type": "stream",
     "text": [
      "\r",
      " 40%|████      | 8/20 [14:17<21:13, 106.14s/it]"
     ]
    },
    {
     "name": "stdout",
     "output_type": "stream",
     "text": [
      "Epoch:  8  loss:  0.5558845203418152\n"
     ]
    },
    {
     "name": "stderr",
     "output_type": "stream",
     "text": [
      "\r",
      " 45%|████▌     | 9/20 [16:35<21:17, 116.18s/it]"
     ]
    },
    {
     "name": "stdout",
     "output_type": "stream",
     "text": [
      "Epoch:  9  loss:  0.5557583219051989\n"
     ]
    },
    {
     "name": "stderr",
     "output_type": "stream",
     "text": [
      "\r",
      " 50%|█████     | 10/20 [18:49<20:17, 121.75s/it]"
     ]
    },
    {
     "name": "stdout",
     "output_type": "stream",
     "text": [
      "Epoch:  10  loss:  0.5558116237224158\n"
     ]
    },
    {
     "name": "stderr",
     "output_type": "stream",
     "text": [
      "\r",
      " 55%|█████▌    | 11/20 [21:05<18:55, 126.13s/it]"
     ]
    },
    {
     "name": "stdout",
     "output_type": "stream",
     "text": [
      "Epoch:  11  loss:  0.5556026800241858\n"
     ]
    },
    {
     "name": "stderr",
     "output_type": "stream",
     "text": [
      "\r",
      " 60%|██████    | 12/20 [23:24<17:20, 130.01s/it]"
     ]
    },
    {
     "name": "stdout",
     "output_type": "stream",
     "text": [
      "Epoch:  12  loss:  0.5557736492986597\n"
     ]
    },
    {
     "name": "stderr",
     "output_type": "stream",
     "text": [
      "\r",
      " 65%|██████▌   | 13/20 [25:43<15:27, 132.57s/it]"
     ]
    },
    {
     "name": "stdout",
     "output_type": "stream",
     "text": [
      "Epoch:  13  loss:  0.5555953990060433\n"
     ]
    },
    {
     "name": "stderr",
     "output_type": "stream",
     "text": [
      "\r",
      " 70%|███████   | 14/20 [27:29<12:27, 124.62s/it]"
     ]
    },
    {
     "name": "stdout",
     "output_type": "stream",
     "text": [
      "Epoch:  14  loss:  0.5554829573432752\n"
     ]
    },
    {
     "name": "stderr",
     "output_type": "stream",
     "text": [
      "\r",
      " 75%|███████▌  | 15/20 [29:48<10:45, 129.08s/it]"
     ]
    },
    {
     "name": "stdout",
     "output_type": "stream",
     "text": [
      "Epoch:  15  loss:  0.5558006804370503\n"
     ]
    },
    {
     "name": "stderr",
     "output_type": "stream",
     "text": [
      "\r",
      " 80%|████████  | 16/20 [31:36<08:10, 122.73s/it]"
     ]
    },
    {
     "name": "stdout",
     "output_type": "stream",
     "text": [
      "Epoch:  16  loss:  0.5554138135374442\n"
     ]
    },
    {
     "name": "stderr",
     "output_type": "stream",
     "text": [
      "\r",
      " 85%|████████▌ | 17/20 [34:03<06:29, 129.89s/it]"
     ]
    },
    {
     "name": "stdout",
     "output_type": "stream",
     "text": [
      "Epoch:  17  loss:  0.5551226249772492\n"
     ]
    },
    {
     "name": "stderr",
     "output_type": "stream",
     "text": [
      "\r",
      " 90%|█████████ | 18/20 [36:08<04:16, 128.29s/it]"
     ]
    },
    {
     "name": "stdout",
     "output_type": "stream",
     "text": [
      "Epoch:  18  loss:  0.5554372341200353\n"
     ]
    },
    {
     "name": "stderr",
     "output_type": "stream",
     "text": [
      "\r",
      " 95%|█████████▌| 19/20 [37:55<02:02, 122.11s/it]"
     ]
    },
    {
     "name": "stdout",
     "output_type": "stream",
     "text": [
      "Epoch:  19  loss:  0.5556471826178189\n"
     ]
    },
    {
     "name": "stderr",
     "output_type": "stream",
     "text": [
      "100%|██████████| 20/20 [39:55<00:00, 119.78s/it]\n",
      "  0%|          | 0/99 [00:00<?, ?it/s]"
     ]
    },
    {
     "name": "stdout",
     "output_type": "stream",
     "text": [
      "Epoch:  20  loss:  0.5553561561436909\n"
     ]
    },
    {
     "name": "stderr",
     "output_type": "stream",
     "text": [
      "100%|██████████| 99/99 [00:13<00:00,  7.58it/s]\n",
      "Loading Feature...: 100%|████████████████████████████████████████████████████████████████████████████████████████████| 99/99 [00:00<00:00, 136.51it/s]\n",
      "Loading target...: 100%|█████████████████████████████████████████████████████████████████████████████████████████████| 99/99 [00:00<00:00, 110.31it/s]\n",
      "Merging feature and return...: 100%|██████████████████████████████████████████████████████████████████████████████████| 99/99 [00:01<00:00, 70.15it/s]\n",
      "Calculating IC value...: 100%|████████████████████████████████████████████████████████████████████████████████████████| 99/99 [00:00<00:00, 99.91it/s]\n",
      "Calculating IC value...: 100%|███████████████████████████████████████████████████████████████████████████████████████| 99/99 [00:00<00:00, 163.94it/s]\n"
     ]
    },
    {
     "name": "stdout",
     "output_type": "stream",
     "text": [
      "\n",
      "IC table for feature \"Original_Input_Moving_10_Shift_5\" (mean std IR):\n",
      "+-------------------+------------------+------------------+------------------+------------------+------------------+\n",
      "|      period       |  IC_Original_1d  |  IC_Original_2d  |  IC_Original_3d  |  IC_Original_4d  |  IC_Original_5d  |\n",
      "+===================+==================+==================+==================+==================+==================+\n",
      "| 20190102-20190531 |  4.16 5.45 0.76  |  5.64 6.10 0.92  |  6.30 6.47 0.97  |  6.99 6.75 1.04  |  7.49 6.91 1.08  |\n",
      "+-------------------+------------------+------------------+------------------+------------------+------------------+\n",
      "\n",
      "IC summary for feature \"Original_Input_Moving_10_Shift_5\":\n",
      "+-------------------+------------------+------------------+------------------+------------------+------------------+\n",
      "|      period       |  IC_Original_1d  |  IC_Original_2d  |  IC_Original_3d  |  IC_Original_4d  |  IC_Original_5d  |\n",
      "+===================+==================+==================+==================+==================+==================+\n",
      "| 20190102-20190531 |  4.16 5.45 0.76  |  5.64 6.10 0.92  |  6.30 6.47 0.97  |  6.99 6.75 1.04  |  7.49 6.91 1.08  |\n",
      "+-------------------+------------------+------------------+------------------+------------------+------------------+\n"
     ]
    },
    {
     "name": "stderr",
     "output_type": "stream",
     "text": [
      "Getting BT result for date: 20190531...: 100%|████████████████████████████████████████████████████████████████████████| 99/99 [00:03<00:00, 29.17it/s]\n"
     ]
    },
    {
     "name": "stdout",
     "output_type": "stream",
     "text": [
      "\n",
      "Original_Input_Moving_10_Shift_5 back-test result for long-only mode:\n",
      "\n",
      "Back test summary: \"long-only\" mode\n",
      "+-------------------+-------------+----------+-----------+------------+----------+-------------+-------------------------+-------------------+------------+\n",
      "|      period       |  stock_num  |  return  |  ret_std  |  ret_year  |  sharpe  |  win_ratio  |      max_dd|period      |  max_dd_day|date  |  turnover  |\n",
      "+===================+=============+==========+===========+============+==========+=============+=========================+===================+============+\n",
      "| 20190102-20190531 |     350     |   1.23   |   6.56    |    3.03    |   0.21   |    56.12    | 4.07(20190109-20190201) |  1.30(20190131)   |   68.84    |\n",
      "+-------------------+-------------+----------+-----------+------------+----------+-------------+-------------------------+-------------------+------------+\n"
     ]
    },
    {
     "data": {
      "image/png": "[encoded data removed]",
      "text/plain": [
       "<Figure size 432x288 with 1 Axes>"
      ]
     },
     "metadata": {
      "needs_background": "light"
     },
     "output_type": "display_data"
    }
   ],
   "source": [
    "import time\n",
    "import os\n",
    "from Research.backtest.bt import BTDaily\n",
    "import matplotlib.pyplot as plt\n",
    "from Research.feature.ft import FeatureAnalysis\n",
    "import Research.utils.namespace as namespace\n",
    "import Research.utils.normalization as norm\n",
    "from Platform.database.mysql import MysqlAPI\n",
    "from Platform.utils.persistence import convert_to_standard_daily_feature_csv, convert_to_standard_daily_feature_par\n",
    "from Platform.config.mysql_info import FACTOR_LIB_MYSQL_TIO\n",
    "import DataAPI\n",
    "from os import walk\n",
    "import pandas as pd\n",
    "import numpy as np\n",
    "import torch\n",
    "import torch.nn as nn\n",
    "from progressbar import ProgressBar\n",
    "from tqdm import tqdm\n",
    "import multiprocessing as mp\n",
    "import sys\n",
    "sys.path.append(\"/home/wuwenjun/jupyter_code/Shannon/AlphaNet/packages/\")\n",
    "from AlphaNet.Data import DataLoader\n",
    "import AlphaNet \n",
    "from AlphaNet.Models import AlphaNet_LSTM_V1\n",
    "\n",
    "# read_task\n",
    "task_info = np.load(\"/home/ShareFolder/feature_platform/ti0/wuwenjun/#Factor_Description/Task.npy\",allow_pickle=True).item()\n",
    "device = task_info[\"Cuda\"].pop()\n",
    "task = task_info[\"Task\"]\n",
    "task_index = task[task[\"status\"] == \"waiting\"].index[0]\n",
    "Alpha_Name = task.loc[task_index,\"Alpha_Name\"]\n",
    "start_date = task.loc[task_index,\"start_date\"]\n",
    "end_date = task.loc[task_index,\"end_date\"]\n",
    "sequence = task.loc[task_index,\"sequence\"]\n",
    "LR = task.loc[task_index,\"LR\"]\n",
    "epoch_num = task.loc[task_index,\"epoch_num\"]\n",
    "feature_num = task.loc[task_index,\"feature_num\"]\n",
    "task.loc[task_index,\"status\"] = \"running\"\n",
    "np.save(\"/home/ShareFolder/feature_platform/ti0/wuwenjun/#Factor_Description/Task.npy\",task_info)\n",
    "\n",
    "\n",
    "# file path\n",
    "model_path = \"/home/wuwenjun/Alpha_Factor/\" + Alpha_Name + \"/\" + \"%s_%s\" %(start_date,end_date) + \"/\"\n",
    "if os.path.exists(model_path) == False:\n",
    "    os.makedirs(model_path)\n",
    "    print(model_path)\n",
    "data_path = \"/home/ShareFolder/feature_platform/ti0/wuwenjun/#Data_lib/\"\n",
    "\n",
    "# write task\n",
    "f = open(model_path + 'back_test.txt','w')\n",
    "print(\"*\"*100,end=\"\\n\"*3,file=f)\n",
    "print(\"Alpha_Name: \",Alpha_Name,end = \"\\n\",file=f)\n",
    "print(\"start_date: \",start_date,end = \"\\n\",file=f)\n",
    "print(\"end_date: \",end_date,end = \"\\n\",file=f)\n",
    "print(\"sequence: \",sequence,end = \"\\n\",file=f)\n",
    "print(\"LR: \",LR,end = \"\\n\",file=f)\n",
    "print(\"epoch_num: \",epoch_num,end = \"\\n\",file=f)\n",
    "print(\"feature_num: \",feature_num,end = \"\\n\"*3,file=f)\n",
    "f.close()\n",
    "\n",
    "# Train Loader\n",
    "\n",
    "trainloader = DataLoader()\n",
    "trainloader.load_data_from_file(alpha_name = Alpha_Name,end_date = start_date,data_path=data_path)\n",
    "train_loader = trainloader.to_torch_DataLoader(sequence = sequence,shuffle=True)\n",
    "\n",
    "# Model Loader\n",
    "\n",
    "loss_function = nn.MSELoss()\n",
    "model = AlphaNet_LSTM_V1(feature_num, 64)\n",
    "optimizer = torch.optim.Adam(model.parameters(), lr=LR[0])\n",
    "model_loader = AlphaNet.Model_Loader(model = model,device=device)\n",
    "print(model_loader.model)\n",
    "\n",
    "# Training\n",
    "model = model_loader.fit_transform(train_loader,optimizer,loss_function,epoch_num[0],save_path = model_path)\n",
    "\n",
    "for i in range(1,len(LR)):\n",
    "    optimizer = torch.optim.Adam(model.parameters(), lr=LR[i])\n",
    "    model = model_loader.transform(optimizer = optimizer, epoch_num = epoch_num[i], method=\"best\")\n",
    "\n",
    "# Test\n",
    "testloader = DataLoader()\n",
    "testloader.load_data_from_file(alpha_name = Alpha_Name,start_date = start_date,end_date = end_date,data_path = data_path)\n",
    "test_loader = testloader.to_torch_DataLoader(sequence = sequence,shuffle=False)\n",
    "pred = model_loader.pred(test_loader)\n",
    "\n",
    "# convert to standard daily and back test\n",
    "final = pd.concat([testloader.target.reset_index(),pred],axis=1)\n",
    "final.rename(columns={0:Alpha_Name,'ticker': 'symbol'},inplace=True)\n",
    "final.to_parquet(model_path + \"result.par\")\n",
    "convert_to_standard_daily_feature_csv(Alpha_Name, final.drop(\"target\",axis=1), output_path = r'/home/wuwenjun/factor_lib/ti0/wuwenjun')\n",
    "\n",
    "# back test\n",
    "\n",
    "pd.set_option('expand_frame_repr', False)\n",
    "configs = namespace.load_namespace(r'/home/ShareFolder/lgc/Modules/Research/config/feature_bt_template')\n",
    "FT = FeatureAnalysis(configs, feature_path=r\"/home/wuwenjun/factor_lib\")\n",
    "\n",
    "FT.load_feature_from_file(Alpha_Name, \"2019-01-01\", end_date, universe='Investable',timedelta=None, transformer=norm.standard_scale)\n",
    "FT.load_return_data()\n",
    "FT.get_intersection_ic(feature_name=Alpha_Name, truncate_fold=None, method='spearman',period=('1d', '3d', '5d'))\n",
    "ic_flag, trading_direction = FT.test_ic(Alpha_Name, verbose=False)\n",
    "df, df_all = FT.get_ic_summary_by_month(num=6)\n",
    "\n",
    "if trading_direction == -1:\n",
    "    negative = True\n",
    "else:\n",
    "    negative = False\n",
    "\n",
    "\n",
    "# save txt\n",
    "f = open(model_path + 'back_test.txt','a')\n",
    "print(df,end=\"\\n\"*3,file = f)\n",
    "a = FT.get_top_return(Alpha_Name, negative= False, trade_type='long-only', transmission_rate=0.00025,\n",
    "                        tax_rate=0.001, verbose=True,bt_price = \"vwap\",trade_period=6)\n",
    "print(a[1],end = \"\\n\"*3+\"*\"*100 ,file = f)\n",
    "f.close()\n",
    "\n",
    "# task\n",
    "task_info = np.load(\"/home/ShareFolder/feature_platform/ti0/wuwenjun/#Factor_Description/Task.npy\",allow_pickle=True).item()\n",
    "task = task_info[\"Task\"]\n",
    "task.loc[task_index,\"status\"] = \"finished\"\n",
    "task_info[\"Cuda\"].append(device)\n",
    "np.save(\"/home/ShareFolder/feature_platform/ti0/wuwenjun/#Factor_Description/Task.npy\",task_info)"
   ]
  }
 ],
 "metadata": {
  "kernelspec": {
   "display_name": "Python 3 (ipykernel)",
   "language": "python",
   "name": "python3"
  },
  "language_info": {
   "codemirror_mode": {
    "name": "ipython",
    "version": 3
   },
   "file_extension": ".py",
   "mimetype": "text/x-python",
   "name": "python",
   "nbconvert_exporter": "python",
   "pygments_lexer": "ipython3",
   "version": "3.7.9"
  }
 },
 "nbformat": 4,
 "nbformat_minor": 5
}
