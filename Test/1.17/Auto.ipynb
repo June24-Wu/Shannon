{
 "cells": [
  {
   "cell_type": "code",
   "execution_count": null,
   "id": "b0bc0459",
   "metadata": {
    "ExecuteTime": {
     "start_time": "2022-01-19T03:10:32.157Z"
    }
   },
   "outputs": [
    {
     "name": "stderr",
     "output_type": "stream",
     "text": [
      " 31%|███       | 301/975 [00:00<00:00, 2774.03it/s]"
     ]
    },
    {
     "name": "stdout",
     "output_type": "stream",
     "text": [
      "Loading the configuration from /home/ShareFolder/lgc/Modules/Research/config/feature_bt_template\n",
      "/home/wuwenjun/Alpha_Factor/Original_Input_TsStand_Concated_Shift_3_Sequence_10/2019-01-01_2019-06-01/\n"
     ]
    },
    {
     "name": "stderr",
     "output_type": "stream",
     "text": [
      "100%|██████████| 975/975 [00:22<00:00, 42.40it/s]  \n",
      "  0%|          | 0/30 [00:00<?, ?it/s]"
     ]
    },
    {
     "name": "stdout",
     "output_type": "stream",
     "text": [
      "AlphaNet_LSTM_V1(\n",
      "  (batch): BatchNorm1d(180, eps=1e-05, momentum=0.1, affine=True, track_running_stats=True)\n",
      "  (lstm): LSTM(18, 64, num_layers=3, batch_first=True, dropout=0.2, bidirectional=True)\n",
      "  (lstm2): LSTM(128, 32, num_layers=3, batch_first=True, dropout=0.2, bidirectional=True)\n",
      "  (batch2): BatchNorm1d(64, eps=1e-05, momentum=0.1, affine=True, track_running_stats=True)\n",
      "  (dropout): Dropout(p=0.2, inplace=False)\n",
      "  (relu): ReLU()\n",
      "  (LeakyReLU): LeakyReLU(negative_slope=0.01)\n",
      "  (out): Linear(in_features=64, out_features=1, bias=True)\n",
      ")\n",
      "Learning Rate is : 0.001\n"
     ]
    },
    {
     "name": "stderr",
     "output_type": "stream",
     "text": [
      "\r",
      "  3%|▎         | 1/30 [00:56<27:09, 56.18s/it]"
     ]
    },
    {
     "name": "stdout",
     "output_type": "stream",
     "text": [
      "Epoch:  1  loss:  0.5950018665981045\n"
     ]
    },
    {
     "name": "stderr",
     "output_type": "stream",
     "text": [
      "\r",
      "  7%|▋         | 2/30 [01:46<24:41, 52.92s/it]"
     ]
    },
    {
     "name": "stdout",
     "output_type": "stream",
     "text": [
      "Epoch:  2  loss:  0.5864881934639113\n"
     ]
    },
    {
     "name": "stderr",
     "output_type": "stream",
     "text": [
      "\r",
      " 10%|█         | 3/30 [02:37<23:15, 51.69s/it]"
     ]
    },
    {
     "name": "stdout",
     "output_type": "stream",
     "text": [
      "Epoch:  3  loss:  0.5818384781786219\n"
     ]
    },
    {
     "name": "stderr",
     "output_type": "stream",
     "text": [
      "\r",
      " 13%|█▎        | 4/30 [03:28<22:21, 51.59s/it]"
     ]
    },
    {
     "name": "stdout",
     "output_type": "stream",
     "text": [
      "Epoch:  4  loss:  0.5776443406600092\n"
     ]
    },
    {
     "name": "stderr",
     "output_type": "stream",
     "text": [
      "\r",
      " 17%|█▋        | 5/30 [04:19<21:25, 51.40s/it]"
     ]
    },
    {
     "name": "stdout",
     "output_type": "stream",
     "text": [
      "Epoch:  5  loss:  0.573945892550064\n"
     ]
    },
    {
     "name": "stderr",
     "output_type": "stream",
     "text": [
      "\r",
      " 20%|██        | 6/30 [05:09<20:19, 50.80s/it]"
     ]
    },
    {
     "name": "stdout",
     "output_type": "stream",
     "text": [
      "Epoch:  6  loss:  0.5696305430909767\n"
     ]
    },
    {
     "name": "stderr",
     "output_type": "stream",
     "text": [
      "\r",
      " 23%|██▎       | 7/30 [05:58<19:18, 50.37s/it]"
     ]
    },
    {
     "name": "stdout",
     "output_type": "stream",
     "text": [
      "Epoch:  7  loss:  0.566066087134208\n"
     ]
    },
    {
     "name": "stderr",
     "output_type": "stream",
     "text": [
      "\r",
      " 27%|██▋       | 8/30 [06:49<18:27, 50.36s/it]"
     ]
    },
    {
     "name": "stdout",
     "output_type": "stream",
     "text": [
      "Epoch:  8  loss:  0.5622734289109309\n"
     ]
    },
    {
     "name": "stderr",
     "output_type": "stream",
     "text": [
      "\r",
      " 30%|███       | 9/30 [07:39<17:38, 50.41s/it]"
     ]
    },
    {
     "name": "stdout",
     "output_type": "stream",
     "text": [
      "Epoch:  9  loss:  0.558731661635717\n"
     ]
    },
    {
     "name": "stderr",
     "output_type": "stream",
     "text": [
      "\r",
      " 33%|███▎      | 10/30 [08:30<16:51, 50.60s/it]"
     ]
    },
    {
     "name": "stdout",
     "output_type": "stream",
     "text": [
      "Epoch:  10  loss:  0.5549065617733304\n"
     ]
    },
    {
     "name": "stderr",
     "output_type": "stream",
     "text": [
      "\r",
      " 37%|███▋      | 11/30 [09:19<15:53, 50.21s/it]"
     ]
    },
    {
     "name": "stdout",
     "output_type": "stream",
     "text": [
      "Epoch:  11  loss:  0.5512635087229603\n"
     ]
    },
    {
     "name": "stderr",
     "output_type": "stream",
     "text": [
      "\r",
      " 40%|████      | 12/30 [10:10<15:05, 50.30s/it]"
     ]
    },
    {
     "name": "stdout",
     "output_type": "stream",
     "text": [
      "Epoch:  12  loss:  0.5485416983279385\n"
     ]
    },
    {
     "name": "stderr",
     "output_type": "stream",
     "text": [
      "\r",
      " 43%|████▎     | 13/30 [11:00<14:12, 50.16s/it]"
     ]
    },
    {
     "name": "stdout",
     "output_type": "stream",
     "text": [
      "Epoch:  13  loss:  0.5455398010089192\n"
     ]
    },
    {
     "name": "stderr",
     "output_type": "stream",
     "text": [
      "\r",
      " 47%|████▋     | 14/30 [11:50<13:23, 50.22s/it]"
     ]
    },
    {
     "name": "stdout",
     "output_type": "stream",
     "text": [
      "Epoch:  14  loss:  0.5423072361327456\n"
     ]
    },
    {
     "name": "stderr",
     "output_type": "stream",
     "text": [
      "\r",
      " 50%|█████     | 15/30 [12:41<12:34, 50.29s/it]"
     ]
    },
    {
     "name": "stdout",
     "output_type": "stream",
     "text": [
      "Epoch:  15  loss:  0.5384664615967307\n"
     ]
    },
    {
     "name": "stderr",
     "output_type": "stream",
     "text": [
      "\r",
      " 53%|█████▎    | 16/30 [13:31<11:45, 50.37s/it]"
     ]
    },
    {
     "name": "stdout",
     "output_type": "stream",
     "text": [
      "Epoch:  16  loss:  0.5367957930975917\n"
     ]
    },
    {
     "name": "stderr",
     "output_type": "stream",
     "text": [
      "\r",
      " 57%|█████▋    | 17/30 [14:32<11:34, 53.40s/it]"
     ]
    },
    {
     "name": "stdout",
     "output_type": "stream",
     "text": [
      "Epoch:  17  loss:  0.5331269245738492\n"
     ]
    },
    {
     "name": "stderr",
     "output_type": "stream",
     "text": [
      "\r",
      " 60%|██████    | 18/30 [15:27<10:48, 54.06s/it]"
     ]
    },
    {
     "name": "stdout",
     "output_type": "stream",
     "text": [
      "Epoch:  18  loss:  0.5307901103777632\n"
     ]
    },
    {
     "name": "stderr",
     "output_type": "stream",
     "text": [
      "\r",
      " 63%|██████▎   | 19/30 [16:25<10:05, 55.06s/it]"
     ]
    },
    {
     "name": "stdout",
     "output_type": "stream",
     "text": [
      "Epoch:  19  loss:  0.5280167812526984\n"
     ]
    },
    {
     "name": "stderr",
     "output_type": "stream",
     "text": [
      "\r",
      " 67%|██████▋   | 20/30 [17:22<09:16, 55.65s/it]"
     ]
    },
    {
     "name": "stdout",
     "output_type": "stream",
     "text": [
      "Epoch:  20  loss:  0.5255826968396162\n"
     ]
    },
    {
     "name": "stderr",
     "output_type": "stream",
     "text": [
      "\r",
      " 70%|███████   | 21/30 [18:16<08:16, 55.19s/it]"
     ]
    },
    {
     "name": "stdout",
     "output_type": "stream",
     "text": [
      "Epoch:  21  loss:  0.5233490870049182\n"
     ]
    },
    {
     "name": "stderr",
     "output_type": "stream",
     "text": [
      "\r",
      " 73%|███████▎  | 22/30 [19:09<07:17, 54.67s/it]"
     ]
    },
    {
     "name": "stdout",
     "output_type": "stream",
     "text": [
      "Epoch:  22  loss:  0.5212258019668423\n"
     ]
    },
    {
     "name": "stderr",
     "output_type": "stream",
     "text": [
      "\r",
      " 77%|███████▋  | 23/30 [20:13<06:42, 57.43s/it]"
     ]
    },
    {
     "name": "stdout",
     "output_type": "stream",
     "text": [
      "Epoch:  23  loss:  0.5189610960551353\n"
     ]
    },
    {
     "name": "stderr",
     "output_type": "stream",
     "text": [
      "\r",
      " 80%|████████  | 24/30 [21:33<06:25, 64.20s/it]"
     ]
    },
    {
     "name": "stdout",
     "output_type": "stream",
     "text": [
      "Epoch:  24  loss:  0.5175748005664584\n"
     ]
    },
    {
     "name": "stderr",
     "output_type": "stream",
     "text": [
      "\r",
      " 83%|████████▎ | 25/30 [22:52<05:43, 68.61s/it]"
     ]
    },
    {
     "name": "stdout",
     "output_type": "stream",
     "text": [
      "Epoch:  25  loss:  0.5145542459662172\n"
     ]
    },
    {
     "name": "stderr",
     "output_type": "stream",
     "text": [
      "\r",
      " 87%|████████▋ | 26/30 [24:11<04:46, 71.63s/it]"
     ]
    },
    {
     "name": "stdout",
     "output_type": "stream",
     "text": [
      "Epoch:  26  loss:  0.5123680720016991\n"
     ]
    },
    {
     "name": "stderr",
     "output_type": "stream",
     "text": [
      "\r",
      " 90%|█████████ | 27/30 [25:31<03:42, 74.17s/it]"
     ]
    },
    {
     "name": "stdout",
     "output_type": "stream",
     "text": [
      "Epoch:  27  loss:  0.5112781378320655\n"
     ]
    },
    {
     "name": "stderr",
     "output_type": "stream",
     "text": [
      "\r",
      " 93%|█████████▎| 28/30 [26:50<02:31, 75.68s/it]"
     ]
    },
    {
     "name": "stdout",
     "output_type": "stream",
     "text": [
      "Epoch:  28  loss:  0.5085156421731041\n"
     ]
    },
    {
     "name": "stderr",
     "output_type": "stream",
     "text": [
      "\r",
      " 97%|█████████▋| 29/30 [28:09<01:16, 76.71s/it]"
     ]
    },
    {
     "name": "stdout",
     "output_type": "stream",
     "text": [
      "Epoch:  29  loss:  0.5076406032853682\n"
     ]
    },
    {
     "name": "stderr",
     "output_type": "stream",
     "text": [
      "100%|██████████| 30/30 [29:30<00:00, 59.03s/it]"
     ]
    },
    {
     "name": "stdout",
     "output_type": "stream",
     "text": [
      "Epoch:  30  loss:  0.5060609175956865\n"
     ]
    },
    {
     "name": "stderr",
     "output_type": "stream",
     "text": [
      "\n",
      "  0%|          | 0/30 [00:00<?, ?it/s]"
     ]
    },
    {
     "name": "stdout",
     "output_type": "stream",
     "text": [
      "Learning Rate is : 0.0001\n"
     ]
    },
    {
     "name": "stderr",
     "output_type": "stream",
     "text": [
      "\r",
      "  3%|▎         | 1/30 [01:19<38:37, 79.91s/it]"
     ]
    },
    {
     "name": "stdout",
     "output_type": "stream",
     "text": [
      "Epoch:  1  loss:  0.49521353946879465\n"
     ]
    },
    {
     "name": "stderr",
     "output_type": "stream",
     "text": [
      "\r",
      "  7%|▋         | 2/30 [02:39<37:07, 79.54s/it]"
     ]
    },
    {
     "name": "stdout",
     "output_type": "stream",
     "text": [
      "Epoch:  2  loss:  0.492125905223324\n"
     ]
    },
    {
     "name": "stderr",
     "output_type": "stream",
     "text": [
      "\r",
      " 10%|█         | 3/30 [03:59<35:52, 79.73s/it]"
     ]
    },
    {
     "name": "stdout",
     "output_type": "stream",
     "text": [
      "Epoch:  3  loss:  0.49081958796051056\n"
     ]
    },
    {
     "name": "stderr",
     "output_type": "stream",
     "text": [
      "\r",
      " 13%|█▎        | 4/30 [05:20<34:44, 80.19s/it]"
     ]
    },
    {
     "name": "stdout",
     "output_type": "stream",
     "text": [
      "Epoch:  4  loss:  0.4897702213004344\n"
     ]
    },
    {
     "name": "stderr",
     "output_type": "stream",
     "text": [
      "\r",
      " 17%|█▋        | 5/30 [06:39<33:21, 80.06s/it]"
     ]
    },
    {
     "name": "stdout",
     "output_type": "stream",
     "text": [
      "Epoch:  5  loss:  0.48890922605047593\n"
     ]
    },
    {
     "name": "stderr",
     "output_type": "stream",
     "text": [
      "\r",
      " 20%|██        | 6/30 [07:58<31:53, 79.72s/it]"
     ]
    },
    {
     "name": "stdout",
     "output_type": "stream",
     "text": [
      "Epoch:  6  loss:  0.48835616431546125\n"
     ]
    },
    {
     "name": "stderr",
     "output_type": "stream",
     "text": [
      "\r",
      " 23%|██▎       | 7/30 [09:20<30:49, 80.40s/it]"
     ]
    },
    {
     "name": "stdout",
     "output_type": "stream",
     "text": [
      "Epoch:  7  loss:  0.4876686400232907\n"
     ]
    },
    {
     "name": "stderr",
     "output_type": "stream",
     "text": [
      "\r",
      " 27%|██▋       | 8/30 [10:40<29:24, 80.20s/it]"
     ]
    },
    {
     "name": "stdout",
     "output_type": "stream",
     "text": [
      "Epoch:  8  loss:  0.48705134131406974\n"
     ]
    },
    {
     "name": "stderr",
     "output_type": "stream",
     "text": [
      "\r",
      " 30%|███       | 9/30 [11:59<27:59, 79.97s/it]"
     ]
    },
    {
     "name": "stdout",
     "output_type": "stream",
     "text": [
      "Epoch:  9  loss:  0.4866331393075051\n"
     ]
    },
    {
     "name": "stderr",
     "output_type": "stream",
     "text": [
      "\r",
      " 33%|███▎      | 10/30 [13:20<26:44, 80.24s/it]"
     ]
    },
    {
     "name": "stdout",
     "output_type": "stream",
     "text": [
      "Epoch:  10  loss:  0.4857308539907379\n"
     ]
    },
    {
     "name": "stderr",
     "output_type": "stream",
     "text": [
      "\r",
      " 37%|███▋      | 11/30 [14:39<25:16, 79.82s/it]"
     ]
    },
    {
     "name": "stdout",
     "output_type": "stream",
     "text": [
      "Epoch:  11  loss:  0.48583446727526014\n"
     ]
    },
    {
     "name": "stderr",
     "output_type": "stream",
     "text": [
      "\r",
      " 40%|████      | 12/30 [15:58<23:52, 79.60s/it]"
     ]
    },
    {
     "name": "stdout",
     "output_type": "stream",
     "text": [
      "Epoch:  12  loss:  0.48541552974823626\n"
     ]
    },
    {
     "name": "stderr",
     "output_type": "stream",
     "text": [
      "\r",
      " 43%|████▎     | 13/30 [17:18<22:36, 79.77s/it]"
     ]
    },
    {
     "name": "stdout",
     "output_type": "stream",
     "text": [
      "Epoch:  13  loss:  0.4852308598531284\n"
     ]
    },
    {
     "name": "stderr",
     "output_type": "stream",
     "text": [
      "\r",
      " 47%|████▋     | 14/30 [18:39<21:18, 79.88s/it]"
     ]
    },
    {
     "name": "stdout",
     "output_type": "stream",
     "text": [
      "Epoch:  14  loss:  0.4845389296592125\n"
     ]
    },
    {
     "name": "stderr",
     "output_type": "stream",
     "text": [
      "\r",
      " 50%|█████     | 15/30 [19:57<19:53, 79.59s/it]"
     ]
    },
    {
     "name": "stdout",
     "output_type": "stream",
     "text": [
      "Epoch:  15  loss:  0.48424153822137156\n"
     ]
    },
    {
     "name": "stderr",
     "output_type": "stream",
     "text": [
      "\r",
      " 53%|█████▎    | 16/30 [21:17<18:36, 79.72s/it]"
     ]
    },
    {
     "name": "stdout",
     "output_type": "stream",
     "text": [
      "Epoch:  16  loss:  0.48388757869523014\n"
     ]
    },
    {
     "name": "stderr",
     "output_type": "stream",
     "text": [
      "\r",
      " 57%|█████▋    | 17/30 [22:36<17:13, 79.49s/it]"
     ]
    },
    {
     "name": "stdout",
     "output_type": "stream",
     "text": [
      "Epoch:  17  loss:  0.48333122484030133\n"
     ]
    },
    {
     "name": "stderr",
     "output_type": "stream",
     "text": [
      "\r",
      " 60%|██████    | 18/30 [23:56<15:52, 79.37s/it]"
     ]
    },
    {
     "name": "stdout",
     "output_type": "stream",
     "text": [
      "Epoch:  18  loss:  0.48251668028818734\n"
     ]
    },
    {
     "name": "stderr",
     "output_type": "stream",
     "text": [
      "\r",
      " 63%|██████▎   | 19/30 [25:15<14:34, 79.52s/it]"
     ]
    },
    {
     "name": "stdout",
     "output_type": "stream",
     "text": [
      "Epoch:  19  loss:  0.48233262663314774\n"
     ]
    },
    {
     "name": "stderr",
     "output_type": "stream",
     "text": [
      "\r",
      " 67%|██████▋   | 20/30 [26:34<13:12, 79.23s/it]"
     ]
    },
    {
     "name": "stdout",
     "output_type": "stream",
     "text": [
      "Epoch:  20  loss:  0.48192940290535646\n"
     ]
    },
    {
     "name": "stderr",
     "output_type": "stream",
     "text": [
      "\r",
      " 70%|███████   | 21/30 [27:54<11:54, 79.41s/it]"
     ]
    },
    {
     "name": "stdout",
     "output_type": "stream",
     "text": [
      "Epoch:  21  loss:  0.4820912583726465\n"
     ]
    },
    {
     "name": "stderr",
     "output_type": "stream",
     "text": [
      "\r",
      " 73%|███████▎  | 22/30 [29:13<10:35, 79.47s/it]"
     ]
    },
    {
     "name": "stdout",
     "output_type": "stream",
     "text": [
      "Epoch:  22  loss:  0.48136465128298705\n"
     ]
    },
    {
     "name": "stderr",
     "output_type": "stream",
     "text": [
      "\r",
      " 77%|███████▋  | 23/30 [30:31<09:12, 78.92s/it]"
     ]
    },
    {
     "name": "stdout",
     "output_type": "stream",
     "text": [
      "Epoch:  23  loss:  0.4813950182110165\n"
     ]
    },
    {
     "name": "stderr",
     "output_type": "stream",
     "text": [
      "\r",
      " 80%|████████  | 24/30 [31:50<07:53, 78.86s/it]"
     ]
    },
    {
     "name": "stdout",
     "output_type": "stream",
     "text": [
      "Epoch:  24  loss:  0.48050956178107307\n"
     ]
    },
    {
     "name": "stderr",
     "output_type": "stream",
     "text": [
      "\r",
      " 83%|████████▎ | 25/30 [33:09<06:35, 79.12s/it]"
     ]
    },
    {
     "name": "stdout",
     "output_type": "stream",
     "text": [
      "Epoch:  25  loss:  0.48052679178793517\n"
     ]
    },
    {
     "name": "stderr",
     "output_type": "stream",
     "text": [
      "\r",
      " 87%|████████▋ | 26/30 [34:28<05:16, 79.04s/it]"
     ]
    },
    {
     "name": "stdout",
     "output_type": "stream",
     "text": [
      "Epoch:  26  loss:  0.48006631122276405\n"
     ]
    },
    {
     "name": "stderr",
     "output_type": "stream",
     "text": [
      "\r",
      " 90%|█████████ | 27/30 [35:47<03:56, 78.87s/it]"
     ]
    },
    {
     "name": "stdout",
     "output_type": "stream",
     "text": [
      "Epoch:  27  loss:  0.4799531611547644\n"
     ]
    },
    {
     "name": "stderr",
     "output_type": "stream",
     "text": [
      "\r",
      " 93%|█████████▎| 28/30 [37:07<02:38, 79.40s/it]"
     ]
    },
    {
     "name": "stdout",
     "output_type": "stream",
     "text": [
      "Epoch:  28  loss:  0.4794839590723285\n"
     ]
    },
    {
     "name": "stderr",
     "output_type": "stream",
     "text": [
      "\r",
      " 97%|█████████▋| 29/30 [38:26<01:19, 79.15s/it]"
     ]
    },
    {
     "name": "stdout",
     "output_type": "stream",
     "text": [
      "Epoch:  29  loss:  0.47927681303563974\n"
     ]
    },
    {
     "name": "stderr",
     "output_type": "stream",
     "text": [
      "100%|██████████| 30/30 [39:45<00:00, 79.50s/it]\n",
      "  0%|          | 0/30 [00:00<?, ?it/s]"
     ]
    },
    {
     "name": "stdout",
     "output_type": "stream",
     "text": [
      "Epoch:  30  loss:  0.4785436210926022\n",
      "Learning Rate is : 1e-05\n"
     ]
    },
    {
     "name": "stderr",
     "output_type": "stream",
     "text": [
      "\r",
      "  3%|▎         | 1/30 [01:19<38:34, 79.80s/it]"
     ]
    },
    {
     "name": "stdout",
     "output_type": "stream",
     "text": [
      "Epoch:  1  loss:  0.477810082179237\n"
     ]
    },
    {
     "name": "stderr",
     "output_type": "stream",
     "text": [
      "\r",
      "  7%|▋         | 2/30 [02:38<36:57, 79.20s/it]"
     ]
    },
    {
     "name": "stdout",
     "output_type": "stream",
     "text": [
      "Epoch:  2  loss:  0.47771291640731023\n"
     ]
    },
    {
     "name": "stderr",
     "output_type": "stream",
     "text": [
      "\r",
      " 10%|█         | 3/30 [03:57<35:36, 79.15s/it]"
     ]
    },
    {
     "name": "stdout",
     "output_type": "stream",
     "text": [
      "Epoch:  3  loss:  0.47734160529703656\n"
     ]
    },
    {
     "name": "stderr",
     "output_type": "stream",
     "text": [
      "\r",
      " 13%|█▎        | 4/30 [05:17<34:27, 79.52s/it]"
     ]
    },
    {
     "name": "stdout",
     "output_type": "stream",
     "text": [
      "Epoch:  4  loss:  0.47730618957710363\n"
     ]
    },
    {
     "name": "stderr",
     "output_type": "stream",
     "text": [
      "\r",
      " 17%|█▋        | 5/30 [06:37<33:13, 79.76s/it]"
     ]
    },
    {
     "name": "stdout",
     "output_type": "stream",
     "text": [
      "Epoch:  5  loss:  0.4768499383528985\n"
     ]
    },
    {
     "name": "stderr",
     "output_type": "stream",
     "text": [
      "\r",
      " 20%|██        | 6/30 [07:57<31:49, 79.56s/it]"
     ]
    },
    {
     "name": "stdout",
     "output_type": "stream",
     "text": [
      "Epoch:  6  loss:  0.4764975177829286\n"
     ]
    },
    {
     "name": "stderr",
     "output_type": "stream",
     "text": [
      "\r",
      " 23%|██▎       | 7/30 [09:17<30:32, 79.68s/it]"
     ]
    },
    {
     "name": "stdout",
     "output_type": "stream",
     "text": [
      "Epoch:  7  loss:  0.47733728870613007\n"
     ]
    },
    {
     "name": "stderr",
     "output_type": "stream",
     "text": [
      "\r",
      " 27%|██▋       | 8/30 [10:35<29:07, 79.42s/it]"
     ]
    },
    {
     "name": "stdout",
     "output_type": "stream",
     "text": [
      "Epoch:  8  loss:  0.47695859816390934\n"
     ]
    },
    {
     "name": "stderr",
     "output_type": "stream",
     "text": [
      "\r",
      " 30%|███       | 9/30 [11:54<27:41, 79.13s/it]"
     ]
    },
    {
     "name": "stdout",
     "output_type": "stream",
     "text": [
      "Epoch:  9  loss:  0.4770092390299193\n"
     ]
    },
    {
     "name": "stderr",
     "output_type": "stream",
     "text": [
      "\r",
      " 33%|███▎      | 10/30 [13:14<26:28, 79.43s/it]"
     ]
    },
    {
     "name": "stdout",
     "output_type": "stream",
     "text": [
      "Epoch:  10  loss:  0.4769164702082023\n"
     ]
    },
    {
     "name": "stderr",
     "output_type": "stream",
     "text": [
      "\r",
      " 37%|███▋      | 11/30 [14:33<25:08, 79.39s/it]"
     ]
    },
    {
     "name": "stdout",
     "output_type": "stream",
     "text": [
      "Epoch:  11  loss:  0.47704390738316055\n"
     ]
    },
    {
     "name": "stderr",
     "output_type": "stream",
     "text": [
      "\r",
      " 40%|████      | 12/30 [15:54<23:55, 79.75s/it]"
     ]
    },
    {
     "name": "stdout",
     "output_type": "stream",
     "text": [
      "Epoch:  12  loss:  0.4769636486863382\n"
     ]
    },
    {
     "name": "stderr",
     "output_type": "stream",
     "text": [
      "\r",
      " 43%|████▎     | 13/30 [17:14<22:35, 79.73s/it]"
     ]
    },
    {
     "name": "stdout",
     "output_type": "stream",
     "text": [
      "Epoch:  13  loss:  0.4764375895808008\n"
     ]
    },
    {
     "name": "stderr",
     "output_type": "stream",
     "text": [
      "\r",
      " 47%|████▋     | 14/30 [18:32<21:10, 79.42s/it]"
     ]
    },
    {
     "name": "stdout",
     "output_type": "stream",
     "text": [
      "Epoch:  14  loss:  0.47649507552400155\n"
     ]
    },
    {
     "name": "stderr",
     "output_type": "stream",
     "text": [
      "\r",
      " 50%|█████     | 15/30 [19:51<19:48, 79.23s/it]"
     ]
    },
    {
     "name": "stdout",
     "output_type": "stream",
     "text": [
      "Epoch:  15  loss:  0.4762876247889993\n"
     ]
    },
    {
     "name": "stderr",
     "output_type": "stream",
     "text": [
      "\r",
      " 53%|█████▎    | 16/30 [21:11<18:33, 79.55s/it]"
     ]
    },
    {
     "name": "stdout",
     "output_type": "stream",
     "text": [
      "Epoch:  16  loss:  0.4764720073382429\n"
     ]
    },
    {
     "name": "stderr",
     "output_type": "stream",
     "text": [
      "\r",
      " 57%|█████▋    | 17/30 [22:31<17:14, 79.56s/it]"
     ]
    },
    {
     "name": "stdout",
     "output_type": "stream",
     "text": [
      "Epoch:  17  loss:  0.4764317170116464\n"
     ]
    },
    {
     "name": "stderr",
     "output_type": "stream",
     "text": [
      "\r",
      " 60%|██████    | 18/30 [23:50<15:51, 79.30s/it]"
     ]
    },
    {
     "name": "stdout",
     "output_type": "stream",
     "text": [
      "Epoch:  18  loss:  0.476437087555404\n"
     ]
    },
    {
     "name": "stderr",
     "output_type": "stream",
     "text": [
      "\r",
      " 63%|██████▎   | 19/30 [25:10<14:37, 79.77s/it]"
     ]
    },
    {
     "name": "stdout",
     "output_type": "stream",
     "text": [
      "Epoch:  19  loss:  0.47666309690022063\n"
     ]
    },
    {
     "name": "stderr",
     "output_type": "stream",
     "text": [
      "\r",
      " 67%|██████▋   | 20/30 [26:30<13:18, 79.80s/it]"
     ]
    },
    {
     "name": "stdout",
     "output_type": "stream",
     "text": [
      "Epoch:  20  loss:  0.47654689522386284\n"
     ]
    },
    {
     "name": "stderr",
     "output_type": "stream",
     "text": [
      "\r",
      " 70%|███████   | 21/30 [27:49<11:55, 79.50s/it]"
     ]
    },
    {
     "name": "stdout",
     "output_type": "stream",
     "text": [
      "Epoch:  21  loss:  0.47667713798940614\n"
     ]
    },
    {
     "name": "stderr",
     "output_type": "stream",
     "text": [
      "\r",
      " 73%|███████▎  | 22/30 [29:08<10:35, 79.39s/it]"
     ]
    },
    {
     "name": "stdout",
     "output_type": "stream",
     "text": [
      "Epoch:  22  loss:  0.47639699724607093\n"
     ]
    },
    {
     "name": "stderr",
     "output_type": "stream",
     "text": [
      "\r",
      " 77%|███████▋  | 23/30 [30:28<09:16, 79.52s/it]"
     ]
    },
    {
     "name": "stdout",
     "output_type": "stream",
     "text": [
      "Epoch:  23  loss:  0.4762226646282597\n"
     ]
    },
    {
     "name": "stderr",
     "output_type": "stream",
     "text": [
      "\r",
      " 80%|████████  | 24/30 [31:47<07:56, 79.36s/it]"
     ]
    },
    {
     "name": "stdout",
     "output_type": "stream",
     "text": [
      "Epoch:  24  loss:  0.47635019715516336\n"
     ]
    },
    {
     "name": "stderr",
     "output_type": "stream",
     "text": [
      "\r",
      " 83%|████████▎ | 25/30 [33:06<06:36, 79.32s/it]"
     ]
    },
    {
     "name": "stdout",
     "output_type": "stream",
     "text": [
      "Epoch:  25  loss:  0.47600925058164784\n"
     ]
    },
    {
     "name": "stderr",
     "output_type": "stream",
     "text": [
      "\r",
      " 87%|████████▋ | 26/30 [34:28<05:19, 79.91s/it]"
     ]
    },
    {
     "name": "stdout",
     "output_type": "stream",
     "text": [
      "Epoch:  26  loss:  0.47647258634055256\n"
     ]
    },
    {
     "name": "stderr",
     "output_type": "stream",
     "text": [
      "\r",
      " 90%|█████████ | 27/30 [35:47<03:58, 79.62s/it]"
     ]
    },
    {
     "name": "stdout",
     "output_type": "stream",
     "text": [
      "Epoch:  27  loss:  0.47592251915375633\n"
     ]
    }
   ],
   "source": [
    "import time\n",
    "import os\n",
    "from Research.backtest.bt import BTDaily\n",
    "import matplotlib.pyplot as plt\n",
    "from Research.feature.ft import FeatureAnalysis\n",
    "import Research.utils.namespace as namespace\n",
    "import Research.utils.normalization as norm\n",
    "from Platform.database.mysql import MysqlAPI\n",
    "from Platform.utils.persistence import convert_to_standard_daily_feature_csv, convert_to_standard_daily_feature_par\n",
    "from Platform.config.mysql_info import FACTOR_LIB_MYSQL_TIO\n",
    "import DataAPI\n",
    "from os import walk\n",
    "import pandas as pd\n",
    "import numpy as np\n",
    "import torch\n",
    "import torch.nn as nn\n",
    "from progressbar import ProgressBar\n",
    "from tqdm import tqdm\n",
    "import multiprocessing as mp\n",
    "import sys\n",
    "sys.path.append(\"/home/wuwenjun/jupyter_code/Shannon/AlphaNet/packages/\")\n",
    "import AlphaNet\n",
    "from AlphaNet.Data import DataLoader\n",
    "from AlphaNet.Models import AlphaNet_LSTM_V1\n",
    "# import AlphaNet.packages.AlphaNet as AlphaNet\n",
    "# from AlphaNet.packages.AlphaNet.Data import DataLoader\n",
    "# from AlphaNet.packages.AlphaNet.Models import AlphaNet_LSTM_V1\n",
    "\n",
    "# read_task\n",
    "task_info = np.load(\"/home/ShareFolder/feature_platform/ti0/wuwenjun/#Factor_Description/Task.npy\",allow_pickle=True).item()\n",
    "device = task_info[\"Cuda\"].pop()\n",
    "task = task_info[\"Task\"]\n",
    "task_index = task[task[\"status\"] == \"waiting\"].index[0]\n",
    "Alpha_Name = task.loc[task_index,\"Alpha_Name\"]\n",
    "start_date = task.loc[task_index,\"start_date\"]\n",
    "end_date = task.loc[task_index,\"end_date\"]\n",
    "sequence = task.loc[task_index,\"sequence\"]\n",
    "LR = task.loc[task_index,\"LR\"]\n",
    "epoch_num = task.loc[task_index,\"epoch_num\"]\n",
    "feature_num = task.loc[task_index,\"feature_num\"]\n",
    "task.loc[task_index,\"status\"] = device\n",
    "np.save(\"/home/ShareFolder/feature_platform/ti0/wuwenjun/#Factor_Description/Task.npy\",task_info)\n",
    "\n",
    "# file path\n",
    "model_path = \"/home/wuwenjun/Alpha_Factor/\" + Alpha_Name + \"/\" + \"%s_%s\" %(start_date,end_date) + \"/\"\n",
    "if os.path.exists(model_path) == False:\n",
    "    os.makedirs(model_path)\n",
    "    print(model_path)\n",
    "data_path = \"/home/ShareFolder/feature_platform/ti0/wuwenjun/#Data_lib/\"\n",
    "\n",
    "# write task\n",
    "f = open(model_path + 'back_test.txt','w')\n",
    "print(\"*\"*100,end=\"\\n\"*3,file=f)\n",
    "print(\"Alpha_Name: \",Alpha_Name,end = \"\\n\",file=f)\n",
    "print(\"start_date: \",start_date,end = \"\\n\",file=f)\n",
    "print(\"end_date: \",end_date,end = \"\\n\",file=f)\n",
    "print(\"sequence: \",sequence,end = \"\\n\",file=f)\n",
    "print(\"LR: \",LR,end = \"\\n\",file=f)\n",
    "print(\"epoch_num: \",epoch_num,end = \"\\n\",file=f)\n",
    "print(\"feature_num: \",feature_num,end = \"\\n\"*3,file=f)\n",
    "f.close()\n",
    "\n",
    "# Train Loader\n",
    "\n",
    "trainloader = DataLoader()\n",
    "trainloader.load_data_from_file(alpha_name = Alpha_Name,end_date = start_date,data_path=data_path)\n",
    "train_loader = trainloader.to_torch_DataLoader(sequence = sequence,shuffle=True)\n",
    "\n",
    "# Model Loader\n",
    "\n",
    "loss_function = nn.MSELoss()\n",
    "model = AlphaNet_LSTM_V1(feature_num,sequence,64)\n",
    "optimizer = torch.optim.Adam(model.parameters(), lr=LR[0])\n",
    "model_loader = AlphaNet.Model_Loader(model = model,device=device)\n",
    "print(model_loader.model)\n",
    "\n",
    "# Training\n",
    "model = model_loader.fit_transform(train_loader,optimizer,loss_function,epoch_num[0],save_path = model_path)\n",
    "\n",
    "for i in range(1,len(LR)):\n",
    "    optimizer = torch.optim.Adam(model.parameters(), lr=LR[i])\n",
    "    model = model_loader.transform(optimizer = optimizer, epoch_num = epoch_num[i], method=\"best\")\n",
    "\n",
    "# Test\n",
    "testloader = DataLoader()\n",
    "testloader.load_data_from_file(alpha_name = Alpha_Name,start_date = start_date,end_date = end_date,data_path = data_path)\n",
    "test_loader = testloader.to_torch_DataLoader(sequence = sequence,shuffle=False)\n",
    "pred = model_loader.pred(test_loader)\n",
    "\n",
    "# convert to standard daily and back test\n",
    "final = pd.concat([testloader.target.reset_index(),pred],axis=1)\n",
    "final.rename(columns={0:Alpha_Name,'ticker': 'symbol'},inplace=True)\n",
    "final.to_parquet(model_path + \"result.par\")\n",
    "convert_to_standard_daily_feature_csv(Alpha_Name, final.drop(\"target\",axis=1), output_path = r'/home/wuwenjun/factor_lib/ti0/wuwenjun')\n",
    "\n",
    "# back test\n",
    "\n",
    "pd.set_option('expand_frame_repr', False)\n",
    "configs = namespace.load_namespace(r'/home/ShareFolder/lgc/Modules/Research/config/feature_bt_template')\n",
    "FT = FeatureAnalysis(configs, feature_path=r\"/home/wuwenjun/factor_lib\")\n",
    "\n",
    "FT.load_feature_from_file(Alpha_Name, \"2019-01-01\", end_date, universe='Investable',timedelta=None, transformer=norm.standard_scale)\n",
    "FT.load_return_data()\n",
    "FT.get_intersection_ic(feature_name=Alpha_Name, truncate_fold=None, method='spearman',period=('1d', '3d', '5d'))\n",
    "ic_flag, trading_direction = FT.test_ic(Alpha_Name, verbose=False)\n",
    "df, df_all = FT.get_ic_summary_by_month(num=6)\n",
    "\n",
    "if trading_direction == -1:\n",
    "    negative = True\n",
    "else:\n",
    "    negative = False\n",
    "\n",
    "\n",
    "# save txt\n",
    "f = open(model_path + 'back_test.txt','a')\n",
    "print(df,end=\"\\n\"*3,file = f)\n",
    "a = FT.get_top_return(Alpha_Name, negative= False, trade_type='long-only', transmission_rate=0.00025,\n",
    "                        tax_rate=0.001, verbose=True,bt_price = \"vwap\",trade_period=6)\n",
    "print(a[1],end = \"\\n\"*3+\"*\"*100 ,file = f)\n",
    "f.close()\n",
    "\n",
    "# task\n",
    "task_info = np.load(\"/home/ShareFolder/feature_platform/ti0/wuwenjun/#Factor_Description/Task.npy\",allow_pickle=True).item()\n",
    "task = task_info[\"Task\"]\n",
    "task.loc[task_index,\"status\"] = \"finished\"\n",
    "task_info[\"Cuda\"].append(device)\n",
    "np.save(\"/home/ShareFolder/feature_platform/ti0/wuwenjun/#Factor_Description/Task.npy\",task_info)"
   ]
  }
 ],
 "metadata": {
  "kernelspec": {
   "display_name": "Python 3 (ipykernel)",
   "language": "python",
   "name": "python3"
  },
  "language_info": {
   "codemirror_mode": {
    "name": "ipython",
    "version": 3
   },
   "file_extension": ".py",
   "mimetype": "text/x-python",
   "name": "python",
   "nbconvert_exporter": "python",
   "pygments_lexer": "ipython3",
   "version": "3.7.9"
  }
 },
 "nbformat": 4,
 "nbformat_minor": 5
}
