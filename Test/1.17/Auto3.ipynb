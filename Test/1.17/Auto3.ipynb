{
 "cells": [
  {
   "cell_type": "code",
   "execution_count": 1,
   "id": "ce18ed42",
   "metadata": {
    "ExecuteTime": {
     "end_time": "2022-01-18T07:07:04.188719Z",
     "start_time": "2022-01-18T06:17:13.765533Z"
    }
   },
   "outputs": [
    {
     "name": "stderr",
     "output_type": "stream",
     "text": [
      "  3%|▎         | 31/975 [00:00<00:05, 188.13it/s]"
     ]
    },
    {
     "name": "stdout",
     "output_type": "stream",
     "text": [
      "Loading the configuration from /home/ShareFolder/lgc/Modules/Research/config/feature_bt_template\n",
      "/home/wuwenjun/Alpha_Factor/Original_Input_Moving_7_Shift_5/2019-01-01_2019-06-01/\n"
     ]
    },
    {
     "name": "stderr",
     "output_type": "stream",
     "text": [
      "100%|██████████| 975/975 [02:00<00:00,  8.12it/s]\n",
      "  0%|          | 0/30 [00:00<?, ?it/s]"
     ]
    },
    {
     "name": "stdout",
     "output_type": "stream",
     "text": [
      "AlphaNet_LSTM_V1(\n",
      "  (batch): BatchNorm1d(108, eps=1e-05, momentum=0.1, affine=True, track_running_stats=True)\n",
      "  (lstm): LSTM(108, 64, num_layers=5, batch_first=True, bidirectional=True)\n",
      "  (batch2): BatchNorm1d(128, eps=1e-05, momentum=0.1, affine=True, track_running_stats=True)\n",
      "  (dropout): Dropout(p=0.3, inplace=False)\n",
      "  (out): Linear(in_features=128, out_features=1, bias=True)\n",
      ")\n",
      "Learning Rate is : 0.001\n"
     ]
    },
    {
     "name": "stderr",
     "output_type": "stream",
     "text": [
      "\r",
      "  3%|▎         | 1/30 [01:00<29:00, 60.03s/it]"
     ]
    },
    {
     "name": "stdout",
     "output_type": "stream",
     "text": [
      "Epoch:  1  loss:  0.6892909628306964\n"
     ]
    },
    {
     "name": "stderr",
     "output_type": "stream",
     "text": [
      "\r",
      "  7%|▋         | 2/30 [01:57<27:13, 58.36s/it]"
     ]
    },
    {
     "name": "stdout",
     "output_type": "stream",
     "text": [
      "Epoch:  2  loss:  0.6859097093750802\n"
     ]
    },
    {
     "name": "stderr",
     "output_type": "stream",
     "text": [
      "\r",
      " 10%|█         | 3/30 [02:54<26:07, 58.04s/it]"
     ]
    },
    {
     "name": "stdout",
     "output_type": "stream",
     "text": [
      "Epoch:  3  loss:  0.6838396022482469\n"
     ]
    },
    {
     "name": "stderr",
     "output_type": "stream",
     "text": [
      "\r",
      " 13%|█▎        | 4/30 [03:53<25:15, 58.30s/it]"
     ]
    },
    {
     "name": "stdout",
     "output_type": "stream",
     "text": [
      "Epoch:  4  loss:  0.6825702830550853\n"
     ]
    },
    {
     "name": "stderr",
     "output_type": "stream",
     "text": [
      "\r",
      " 17%|█▋        | 5/30 [04:52<24:26, 58.65s/it]"
     ]
    },
    {
     "name": "stdout",
     "output_type": "stream",
     "text": [
      "Epoch:  5  loss:  0.6811539453229483\n"
     ]
    },
    {
     "name": "stderr",
     "output_type": "stream",
     "text": [
      "\r",
      " 20%|██        | 6/30 [05:50<23:16, 58.17s/it]"
     ]
    },
    {
     "name": "stdout",
     "output_type": "stream",
     "text": [
      "Epoch:  6  loss:  0.6800797627482404\n"
     ]
    },
    {
     "name": "stderr",
     "output_type": "stream",
     "text": [
      "\r",
      " 23%|██▎       | 7/30 [06:46<22:08, 57.76s/it]"
     ]
    },
    {
     "name": "stdout",
     "output_type": "stream",
     "text": [
      "Epoch:  7  loss:  0.6790447204017591\n"
     ]
    },
    {
     "name": "stderr",
     "output_type": "stream",
     "text": [
      "\r",
      " 27%|██▋       | 8/30 [07:44<21:06, 57.59s/it]"
     ]
    },
    {
     "name": "stdout",
     "output_type": "stream",
     "text": [
      "Epoch:  8  loss:  0.6782890507768701\n"
     ]
    },
    {
     "name": "stderr",
     "output_type": "stream",
     "text": [
      "\r",
      " 30%|███       | 9/30 [08:41<20:06, 57.43s/it]"
     ]
    },
    {
     "name": "stdout",
     "output_type": "stream",
     "text": [
      "Epoch:  9  loss:  0.6773196035005996\n"
     ]
    },
    {
     "name": "stderr",
     "output_type": "stream",
     "text": [
      "\r",
      " 33%|███▎      | 10/30 [09:38<19:04, 57.22s/it]"
     ]
    },
    {
     "name": "stdout",
     "output_type": "stream",
     "text": [
      "Epoch:  10  loss:  0.6766049284066015\n"
     ]
    },
    {
     "name": "stderr",
     "output_type": "stream",
     "text": [
      "\r",
      " 37%|███▋      | 11/30 [10:34<18:01, 56.92s/it]"
     ]
    },
    {
     "name": "stdout",
     "output_type": "stream",
     "text": [
      "Epoch:  11  loss:  0.6759307583742761\n"
     ]
    },
    {
     "name": "stderr",
     "output_type": "stream",
     "text": [
      "\r",
      " 40%|████      | 12/30 [11:30<16:58, 56.60s/it]"
     ]
    },
    {
     "name": "stdout",
     "output_type": "stream",
     "text": [
      "Epoch:  12  loss:  0.6752442505888067\n"
     ]
    },
    {
     "name": "stderr",
     "output_type": "stream",
     "text": [
      "\r",
      " 43%|████▎     | 13/30 [12:26<15:58, 56.37s/it]"
     ]
    },
    {
     "name": "stdout",
     "output_type": "stream",
     "text": [
      "Epoch:  13  loss:  0.6748306783771042\n"
     ]
    },
    {
     "name": "stderr",
     "output_type": "stream",
     "text": [
      "\r",
      " 47%|████▋     | 14/30 [13:21<14:59, 56.25s/it]"
     ]
    },
    {
     "name": "stdout",
     "output_type": "stream",
     "text": [
      "Epoch:  14  loss:  0.67374590095018\n"
     ]
    },
    {
     "name": "stderr",
     "output_type": "stream",
     "text": [
      "\r",
      " 50%|█████     | 15/30 [14:19<14:08, 56.60s/it]"
     ]
    },
    {
     "name": "stdout",
     "output_type": "stream",
     "text": [
      "Epoch:  15  loss:  0.6731753504582735\n"
     ]
    },
    {
     "name": "stderr",
     "output_type": "stream",
     "text": [
      "\r",
      " 53%|█████▎    | 16/30 [15:15<13:10, 56.48s/it]"
     ]
    },
    {
     "name": "stdout",
     "output_type": "stream",
     "text": [
      "Epoch:  16  loss:  0.6724703018408951\n"
     ]
    },
    {
     "name": "stderr",
     "output_type": "stream",
     "text": [
      "\r",
      " 57%|█████▋    | 17/30 [16:11<12:13, 56.40s/it]"
     ]
    },
    {
     "name": "stdout",
     "output_type": "stream",
     "text": [
      "Epoch:  17  loss:  0.6720155083918755\n"
     ]
    },
    {
     "name": "stderr",
     "output_type": "stream",
     "text": [
      "\r",
      " 60%|██████    | 18/30 [17:08<11:17, 56.49s/it]"
     ]
    },
    {
     "name": "stdout",
     "output_type": "stream",
     "text": [
      "Epoch:  18  loss:  0.6713525362125876\n"
     ]
    },
    {
     "name": "stderr",
     "output_type": "stream",
     "text": [
      "\r",
      " 63%|██████▎   | 19/30 [18:04<10:20, 56.44s/it]"
     ]
    },
    {
     "name": "stdout",
     "output_type": "stream",
     "text": [
      "Epoch:  19  loss:  0.6707897139242498\n"
     ]
    },
    {
     "name": "stderr",
     "output_type": "stream",
     "text": [
      "\r",
      " 67%|██████▋   | 20/30 [19:00<09:22, 56.25s/it]"
     ]
    },
    {
     "name": "stdout",
     "output_type": "stream",
     "text": [
      "Epoch:  20  loss:  0.6703032599157198\n"
     ]
    },
    {
     "name": "stderr",
     "output_type": "stream",
     "text": [
      "\r",
      " 70%|███████   | 21/30 [19:57<08:27, 56.41s/it]"
     ]
    },
    {
     "name": "stdout",
     "output_type": "stream",
     "text": [
      "Epoch:  21  loss:  0.6697820516790719\n"
     ]
    },
    {
     "name": "stderr",
     "output_type": "stream",
     "text": [
      "\r",
      " 73%|███████▎  | 22/30 [20:55<07:35, 56.91s/it]"
     ]
    },
    {
     "name": "stdout",
     "output_type": "stream",
     "text": [
      "Epoch:  22  loss:  0.6690726883202074\n"
     ]
    },
    {
     "name": "stderr",
     "output_type": "stream",
     "text": [
      "\r",
      " 77%|███████▋  | 23/30 [21:53<06:40, 57.19s/it]"
     ]
    },
    {
     "name": "stdout",
     "output_type": "stream",
     "text": [
      "Epoch:  23  loss:  0.6686835882504042\n"
     ]
    },
    {
     "name": "stderr",
     "output_type": "stream",
     "text": [
      "\r",
      " 80%|████████  | 24/30 [22:50<05:42, 57.14s/it]"
     ]
    },
    {
     "name": "stdout",
     "output_type": "stream",
     "text": [
      "Epoch:  24  loss:  0.6682270489164818\n"
     ]
    },
    {
     "name": "stderr",
     "output_type": "stream",
     "text": [
      "\r",
      " 83%|████████▎ | 25/30 [23:46<04:44, 56.96s/it]"
     ]
    },
    {
     "name": "stdout",
     "output_type": "stream",
     "text": [
      "Epoch:  25  loss:  0.6679279267233316\n"
     ]
    },
    {
     "name": "stderr",
     "output_type": "stream",
     "text": [
      "\r",
      " 87%|████████▋ | 26/30 [24:43<03:47, 56.83s/it]"
     ]
    },
    {
     "name": "stdout",
     "output_type": "stream",
     "text": [
      "Epoch:  26  loss:  0.667399014803606\n"
     ]
    },
    {
     "name": "stderr",
     "output_type": "stream",
     "text": [
      "\r",
      " 90%|█████████ | 27/30 [25:40<02:50, 56.92s/it]"
     ]
    },
    {
     "name": "stdout",
     "output_type": "stream",
     "text": [
      "Epoch:  27  loss:  0.666875228466539\n"
     ]
    },
    {
     "name": "stderr",
     "output_type": "stream",
     "text": [
      "\r",
      " 93%|█████████▎| 28/30 [26:37<01:54, 57.01s/it]"
     ]
    },
    {
     "name": "stdout",
     "output_type": "stream",
     "text": [
      "Epoch:  28  loss:  0.6662783224038773\n"
     ]
    },
    {
     "name": "stderr",
     "output_type": "stream",
     "text": [
      "\r",
      " 97%|█████████▋| 29/30 [27:34<00:57, 57.02s/it]"
     ]
    },
    {
     "name": "stdout",
     "output_type": "stream",
     "text": [
      "Epoch:  29  loss:  0.6661843148742859\n"
     ]
    },
    {
     "name": "stderr",
     "output_type": "stream",
     "text": [
      "100%|██████████| 30/30 [28:31<00:00, 57.05s/it]"
     ]
    },
    {
     "name": "stdout",
     "output_type": "stream",
     "text": [
      "Epoch:  30  loss:  0.6655004592156027\n"
     ]
    },
    {
     "name": "stderr",
     "output_type": "stream",
     "text": [
      "\n",
      "\r",
      "  0%|          | 0/20 [00:00<?, ?it/s]"
     ]
    },
    {
     "name": "stdout",
     "output_type": "stream",
     "text": [
      "Learning Rate is : 0.0001\n"
     ]
    },
    {
     "name": "stderr",
     "output_type": "stream",
     "text": [
      "\r",
      "  5%|▌         | 1/20 [00:55<17:37, 55.63s/it]"
     ]
    },
    {
     "name": "stdout",
     "output_type": "stream",
     "text": [
      "Epoch:  1  loss:  0.662671423325205\n"
     ]
    },
    {
     "name": "stderr",
     "output_type": "stream",
     "text": [
      "\r",
      " 10%|█         | 2/20 [01:51<16:45, 55.85s/it]"
     ]
    },
    {
     "name": "stdout",
     "output_type": "stream",
     "text": [
      "Epoch:  2  loss:  0.6613955381759601\n"
     ]
    },
    {
     "name": "stderr",
     "output_type": "stream",
     "text": [
      "\r",
      " 15%|█▌        | 3/20 [02:48<15:53, 56.11s/it]"
     ]
    },
    {
     "name": "stdout",
     "output_type": "stream",
     "text": [
      "Epoch:  3  loss:  0.660765540629618\n"
     ]
    },
    {
     "name": "stderr",
     "output_type": "stream",
     "text": [
      "\r",
      " 20%|██        | 4/20 [03:44<15:01, 56.33s/it]"
     ]
    },
    {
     "name": "stdout",
     "output_type": "stream",
     "text": [
      "Epoch:  4  loss:  0.660596958686576\n"
     ]
    },
    {
     "name": "stderr",
     "output_type": "stream",
     "text": [
      "\r",
      " 25%|██▌       | 5/20 [04:41<14:09, 56.61s/it]"
     ]
    },
    {
     "name": "stdout",
     "output_type": "stream",
     "text": [
      "Epoch:  5  loss:  0.6607099970470582\n"
     ]
    },
    {
     "name": "stderr",
     "output_type": "stream",
     "text": [
      "\r",
      " 30%|███       | 6/20 [05:39<13:15, 56.80s/it]"
     ]
    },
    {
     "name": "stdout",
     "output_type": "stream",
     "text": [
      "Epoch:  6  loss:  0.6596188165501693\n"
     ]
    },
    {
     "name": "stderr",
     "output_type": "stream",
     "text": [
      "\r",
      " 35%|███▌      | 7/20 [06:36<12:19, 56.89s/it]"
     ]
    },
    {
     "name": "stdout",
     "output_type": "stream",
     "text": [
      "Epoch:  7  loss:  0.6597214471731339\n"
     ]
    },
    {
     "name": "stderr",
     "output_type": "stream",
     "text": [
      "\r",
      " 40%|████      | 8/20 [07:33<11:22, 56.91s/it]"
     ]
    },
    {
     "name": "stdout",
     "output_type": "stream",
     "text": [
      "Epoch:  8  loss:  0.6596963945507764\n"
     ]
    },
    {
     "name": "stderr",
     "output_type": "stream",
     "text": [
      "\r",
      " 45%|████▌     | 9/20 [08:29<10:25, 56.89s/it]"
     ]
    },
    {
     "name": "stdout",
     "output_type": "stream",
     "text": [
      "Epoch:  9  loss:  0.6593653476406399\n"
     ]
    },
    {
     "name": "stderr",
     "output_type": "stream",
     "text": [
      "\r",
      " 50%|█████     | 10/20 [09:25<09:24, 56.48s/it]"
     ]
    },
    {
     "name": "stdout",
     "output_type": "stream",
     "text": [
      "Epoch:  10  loss:  0.6592229460571203\n"
     ]
    },
    {
     "name": "stderr",
     "output_type": "stream",
     "text": [
      "\r",
      " 55%|█████▌    | 11/20 [10:21<08:27, 56.36s/it]"
     ]
    },
    {
     "name": "stdout",
     "output_type": "stream",
     "text": [
      "Epoch:  11  loss:  0.658976664851643\n"
     ]
    },
    {
     "name": "stderr",
     "output_type": "stream",
     "text": [
      "\r",
      " 60%|██████    | 12/20 [11:17<07:30, 56.32s/it]"
     ]
    },
    {
     "name": "stdout",
     "output_type": "stream",
     "text": [
      "Epoch:  12  loss:  0.6588469582117348\n"
     ]
    },
    {
     "name": "stderr",
     "output_type": "stream",
     "text": [
      "\r",
      " 65%|██████▌   | 13/20 [12:13<06:33, 56.26s/it]"
     ]
    },
    {
     "name": "stdout",
     "output_type": "stream",
     "text": [
      "Epoch:  13  loss:  0.6584027674640835\n"
     ]
    },
    {
     "name": "stderr",
     "output_type": "stream",
     "text": [
      "\r",
      " 70%|███████   | 14/20 [13:10<05:37, 56.26s/it]"
     ]
    },
    {
     "name": "stdout",
     "output_type": "stream",
     "text": [
      "Epoch:  14  loss:  0.6585989575446701\n"
     ]
    },
    {
     "name": "stderr",
     "output_type": "stream",
     "text": [
      "\r",
      " 75%|███████▌  | 15/20 [14:06<04:41, 56.29s/it]"
     ]
    },
    {
     "name": "stdout",
     "output_type": "stream",
     "text": [
      "Epoch:  15  loss:  0.6586112590576532\n"
     ]
    },
    {
     "name": "stderr",
     "output_type": "stream",
     "text": [
      "\r",
      " 80%|████████  | 16/20 [15:03<03:45, 56.47s/it]"
     ]
    },
    {
     "name": "stdout",
     "output_type": "stream",
     "text": [
      "Epoch:  16  loss:  0.6582724883874761\n"
     ]
    },
    {
     "name": "stderr",
     "output_type": "stream",
     "text": [
      "\r",
      " 85%|████████▌ | 17/20 [15:52<02:42, 54.19s/it]"
     ]
    },
    {
     "name": "stdout",
     "output_type": "stream",
     "text": [
      "Epoch:  17  loss:  0.6582505837074759\n"
     ]
    },
    {
     "name": "stderr",
     "output_type": "stream",
     "text": [
      "\r",
      " 90%|█████████ | 18/20 [16:34<01:41, 50.56s/it]"
     ]
    },
    {
     "name": "stdout",
     "output_type": "stream",
     "text": [
      "Epoch:  18  loss:  0.6580007061633267\n"
     ]
    },
    {
     "name": "stderr",
     "output_type": "stream",
     "text": [
      "\r",
      " 95%|█████████▌| 19/20 [17:16<00:48, 48.09s/it]"
     ]
    },
    {
     "name": "stdout",
     "output_type": "stream",
     "text": [
      "Epoch:  19  loss:  0.6577469707069791\n"
     ]
    },
    {
     "name": "stderr",
     "output_type": "stream",
     "text": [
      "100%|██████████| 20/20 [17:59<00:00, 53.95s/it]\n",
      "  1%|          | 1/99 [00:00<00:11,  8.77it/s]"
     ]
    },
    {
     "name": "stdout",
     "output_type": "stream",
     "text": [
      "Epoch:  20  loss:  0.6574024056653208\n"
     ]
    },
    {
     "name": "stderr",
     "output_type": "stream",
     "text": [
      "100%|██████████| 99/99 [00:09<00:00, 10.61it/s]\n",
      "Loading Feature...: 100%|████████████████████████████████████████████████████████████████████████████████████████████| 99/99 [00:00<00:00, 264.29it/s]\n",
      "Loading target...: 100%|█████████████████████████████████████████████████████████████████████████████████████████████| 99/99 [00:00<00:00, 282.40it/s]\n",
      "Merging feature and return...: 100%|█████████████████████████████████████████████████████████████████████████████████| 99/99 [00:00<00:00, 145.18it/s]\n",
      "Calculating IC value...: 100%|███████████████████████████████████████████████████████████████████████████████████████| 99/99 [00:00<00:00, 527.47it/s]\n",
      "Calculating IC value...: 100%|███████████████████████████████████████████████████████████████████████████████████████| 99/99 [00:00<00:00, 527.19it/s]\n"
     ]
    },
    {
     "name": "stdout",
     "output_type": "stream",
     "text": [
      "\n",
      "IC table for feature \"Original_Input_Moving_7_Shift_5\" (mean std IR):\n",
      "+-------------------+------------------+------------------+------------------+------------------+------------------+\n",
      "|      period       |  IC_Original_1d  |  IC_Original_2d  |  IC_Original_3d  |  IC_Original_4d  |  IC_Original_5d  |\n",
      "+===================+==================+==================+==================+==================+==================+\n",
      "| 20190102-20190531 |  4.15 5.83 0.71  |  5.36 6.21 0.86  |  6.01 6.33 0.95  |  6.58 6.54 1.01  |  7.03 6.46 1.09  |\n",
      "+-------------------+------------------+------------------+------------------+------------------+------------------+\n",
      "\n",
      "IC summary for feature \"Original_Input_Moving_7_Shift_5\":\n",
      "+-------------------+------------------+------------------+------------------+------------------+------------------+\n",
      "|      period       |  IC_Original_1d  |  IC_Original_2d  |  IC_Original_3d  |  IC_Original_4d  |  IC_Original_5d  |\n",
      "+===================+==================+==================+==================+==================+==================+\n",
      "| 20190102-20190531 |  4.15 5.83 0.71  |  5.36 6.21 0.86  |  6.01 6.33 0.95  |  6.58 6.54 1.01  |  7.03 6.46 1.09  |\n",
      "+-------------------+------------------+------------------+------------------+------------------+------------------+\n"
     ]
    },
    {
     "name": "stderr",
     "output_type": "stream",
     "text": [
      "Getting BT result for date: 20190531...: 100%|████████████████████████████████████████████████████████████████████████| 99/99 [00:01<00:00, 61.66it/s]\n"
     ]
    },
    {
     "name": "stdout",
     "output_type": "stream",
     "text": [
      "\n",
      "Original_Input_Moving_7_Shift_5 back-test result for long-only mode:\n",
      "\n",
      "Back test summary: \"long-only\" mode\n",
      "+-------------------+-------------+----------+-----------+------------+----------+-------------+-------------------------+-------------------+------------+\n",
      "|      period       |  stock_num  |  return  |  ret_std  |  ret_year  |  sharpe  |  win_ratio  |      max_dd|period      |  max_dd_day|date  |  turnover  |\n",
      "+===================+=============+==========+===========+============+==========+=============+=========================+===================+============+\n",
      "| 20190102-20190531 |     349     |  -1.39   |   6.00    |   -3.36    |  -0.94   |    48.98    | 4.96(20190109-20190404) |  1.11(20190131)   |   70.13    |\n",
      "+-------------------+-------------+----------+-----------+------------+----------+-------------+-------------------------+-------------------+------------+\n"
     ]
    },
    {
     "data": {
      "image/png": "[encoded data removed]",
      "text/plain": [
       "<Figure size 432x288 with 1 Axes>"
      ]
     },
     "metadata": {
      "needs_background": "light"
     },
     "output_type": "display_data"
    }
   ],
   "source": [
    "import time\n",
    "import os\n",
    "from Research.backtest.bt import BTDaily\n",
    "import matplotlib.pyplot as plt\n",
    "from Research.feature.ft import FeatureAnalysis\n",
    "import Research.utils.namespace as namespace\n",
    "import Research.utils.normalization as norm\n",
    "from Platform.database.mysql import MysqlAPI\n",
    "from Platform.utils.persistence import convert_to_standard_daily_feature_csv, convert_to_standard_daily_feature_par\n",
    "from Platform.config.mysql_info import FACTOR_LIB_MYSQL_TIO\n",
    "import DataAPI\n",
    "from os import walk\n",
    "import pandas as pd\n",
    "import numpy as np\n",
    "import torch\n",
    "import torch.nn as nn\n",
    "from progressbar import ProgressBar\n",
    "from tqdm import tqdm\n",
    "import multiprocessing as mp\n",
    "import sys\n",
    "sys.path.append(\"/home/wuwenjun/jupyter_code/Shannon/AlphaNet/packages/\")\n",
    "from AlphaNet.Data import DataLoader\n",
    "import AlphaNet \n",
    "from AlphaNet.Models import AlphaNet_LSTM_V1\n",
    "\n",
    "# read_task\n",
    "task_info = np.load(\"/home/ShareFolder/feature_platform/ti0/wuwenjun/#Factor_Description/Task.npy\",allow_pickle=True).item()\n",
    "device = task_info[\"Cuda\"].pop()\n",
    "task = task_info[\"Task\"]\n",
    "task_index = task[task[\"status\"] == \"waiting\"].index[0]\n",
    "Alpha_Name = task.loc[task_index,\"Alpha_Name\"]\n",
    "start_date = task.loc[task_index,\"start_date\"]\n",
    "end_date = task.loc[task_index,\"end_date\"]\n",
    "sequence = task.loc[task_index,\"sequence\"]\n",
    "LR = task.loc[task_index,\"LR\"]\n",
    "epoch_num = task.loc[task_index,\"epoch_num\"]\n",
    "feature_num = task.loc[task_index,\"feature_num\"]\n",
    "task.loc[task_index,\"status\"] = \"running\"\n",
    "np.save(\"/home/ShareFolder/feature_platform/ti0/wuwenjun/#Factor_Description/Task.npy\",task_info)\n",
    "\n",
    "# file path\n",
    "model_path = \"/home/wuwenjun/Alpha_Factor/\" + Alpha_Name + \"/\" + \"%s_%s\" %(start_date,end_date) + \"/\"\n",
    "if os.path.exists(model_path) == False:\n",
    "    os.makedirs(model_path)\n",
    "    print(model_path)\n",
    "data_path = \"/home/ShareFolder/feature_platform/ti0/wuwenjun/#Data_lib/\"\n",
    "\n",
    "# write task\n",
    "f = open(model_path + 'back_test.txt','w')\n",
    "print(\"*\"*100,end=\"\\n\"*3,file=f)\n",
    "print(\"Alpha_Name: \",Alpha_Name,end = \"\\n\",file=f)\n",
    "print(\"start_date: \",start_date,end = \"\\n\",file=f)\n",
    "print(\"end_date: \",end_date,end = \"\\n\",file=f)\n",
    "print(\"sequence: \",sequence,end = \"\\n\",file=f)\n",
    "print(\"LR: \",LR,end = \"\\n\",file=f)\n",
    "print(\"epoch_num: \",epoch_num,end = \"\\n\",file=f)\n",
    "print(\"feature_num: \",feature_num,end = \"\\n\"*3,file=f)\n",
    "f.close()\n",
    "\n",
    "# Train Loader\n",
    "\n",
    "trainloader = DataLoader()\n",
    "trainloader.load_data_from_file(alpha_name = Alpha_Name,end_date = start_date,data_path=data_path)\n",
    "train_loader = trainloader.to_torch_DataLoader(sequence = sequence,shuffle=True)\n",
    "\n",
    "# Model Loader\n",
    "\n",
    "loss_function = nn.MSELoss()\n",
    "model = AlphaNet_LSTM_V1(feature_num, 64)\n",
    "optimizer = torch.optim.Adam(model.parameters(), lr=LR[0])\n",
    "model_loader = AlphaNet.Model_Loader(model = model,device=device)\n",
    "print(model_loader.model)\n",
    "\n",
    "# Training\n",
    "model = model_loader.fit_transform(train_loader,optimizer,loss_function,epoch_num[0],save_path = model_path)\n",
    "\n",
    "for i in range(1,len(LR)):\n",
    "    optimizer = torch.optim.Adam(model.parameters(), lr=LR[i])\n",
    "    model = model_loader.transform(optimizer = optimizer, epoch_num = epoch_num[i], method=\"best\")\n",
    "\n",
    "# Test\n",
    "testloader = DataLoader()\n",
    "testloader.load_data_from_file(alpha_name = Alpha_Name,start_date = start_date,end_date = end_date,data_path = data_path)\n",
    "test_loader = testloader.to_torch_DataLoader(sequence = sequence,shuffle=False)\n",
    "pred = model_loader.pred(test_loader)\n",
    "\n",
    "# convert to standard daily and back test\n",
    "final = pd.concat([testloader.target.reset_index(),pred],axis=1)\n",
    "final.rename(columns={0:Alpha_Name,'ticker': 'symbol'},inplace=True)\n",
    "final.to_parquet(model_path + \"result.par\")\n",
    "convert_to_standard_daily_feature_csv(Alpha_Name, final.drop(\"target\",axis=1), output_path = r'/home/wuwenjun/factor_lib/ti0/wuwenjun')\n",
    "\n",
    "# back test\n",
    "\n",
    "pd.set_option('expand_frame_repr', False)\n",
    "configs = namespace.load_namespace(r'/home/ShareFolder/lgc/Modules/Research/config/feature_bt_template')\n",
    "FT = FeatureAnalysis(configs, feature_path=r\"/home/wuwenjun/factor_lib\")\n",
    "\n",
    "FT.load_feature_from_file(Alpha_Name, \"2019-01-01\", end_date, universe='Investable',timedelta=None, transformer=norm.standard_scale)\n",
    "FT.load_return_data()\n",
    "FT.get_intersection_ic(feature_name=Alpha_Name, truncate_fold=None, method='spearman',period=('1d', '3d', '5d'))\n",
    "ic_flag, trading_direction = FT.test_ic(Alpha_Name, verbose=False)\n",
    "df, df_all = FT.get_ic_summary_by_month(num=6)\n",
    "\n",
    "if trading_direction == -1:\n",
    "    negative = True\n",
    "else:\n",
    "    negative = False\n",
    "\n",
    "\n",
    "# save txt\n",
    "f = open(model_path + 'back_test.txt','a')\n",
    "print(df,end=\"\\n\"*3,file = f)\n",
    "a = FT.get_top_return(Alpha_Name, negative= False, trade_type='long-only', transmission_rate=0.00025,\n",
    "                        tax_rate=0.001, verbose=True,bt_price = \"vwap\",trade_period=6)\n",
    "print(a[1],end = \"\\n\"*3+\"*\"*100 ,file = f)\n",
    "f.close()\n",
    "\n",
    "# task\n",
    "task_info = np.load(\"/home/ShareFolder/feature_platform/ti0/wuwenjun/#Factor_Description/Task.npy\",allow_pickle=True).item()\n",
    "task = task_info[\"Task\"]\n",
    "task.loc[task_index,\"status\"] = \"finished\"\n",
    "task_info[\"Cuda\"].append(device)\n",
    "np.save(\"/home/ShareFolder/feature_platform/ti0/wuwenjun/#Factor_Description/Task.npy\",task_info)"
   ]
  }
 ],
 "metadata": {
  "kernelspec": {
   "display_name": "Python 3 (ipykernel)",
   "language": "python",
   "name": "python3"
  },
  "language_info": {
   "codemirror_mode": {
    "name": "ipython",
    "version": 3
   },
   "file_extension": ".py",
   "mimetype": "text/x-python",
   "name": "python",
   "nbconvert_exporter": "python",
   "pygments_lexer": "ipython3",
   "version": "3.7.9"
  }
 },
 "nbformat": 4,
 "nbformat_minor": 5
}
