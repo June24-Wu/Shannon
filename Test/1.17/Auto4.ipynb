{
 "cells": [
  {
   "cell_type": "code",
   "execution_count": 1,
   "id": "3ca3b2f6",
   "metadata": {
    "ExecuteTime": {
     "end_time": "2022-01-18T07:12:12.002066Z",
     "start_time": "2022-01-18T06:17:34.186895Z"
    }
   },
   "outputs": [
    {
     "name": "stderr",
     "output_type": "stream",
     "text": [
      "  3%|▎         | 31/1074 [00:00<00:03, 263.91it/s]"
     ]
    },
    {
     "name": "stdout",
     "output_type": "stream",
     "text": [
      "Loading the configuration from /home/ShareFolder/lgc/Modules/Research/config/feature_bt_template\n",
      "/home/wuwenjun/Alpha_Factor/Original_Input_Moving_7_Shift_5/2019-06-01_2020-01-01/\n"
     ]
    },
    {
     "name": "stderr",
     "output_type": "stream",
     "text": [
      "100%|██████████| 1074/1074 [01:54<00:00,  9.38it/s]\n",
      "  0%|          | 0/30 [00:00<?, ?it/s]"
     ]
    },
    {
     "name": "stdout",
     "output_type": "stream",
     "text": [
      "AlphaNet_LSTM_V1(\n",
      "  (batch): BatchNorm1d(108, eps=1e-05, momentum=0.1, affine=True, track_running_stats=True)\n",
      "  (lstm): LSTM(108, 64, num_layers=5, batch_first=True, bidirectional=True)\n",
      "  (batch2): BatchNorm1d(128, eps=1e-05, momentum=0.1, affine=True, track_running_stats=True)\n",
      "  (dropout): Dropout(p=0.3, inplace=False)\n",
      "  (out): Linear(in_features=128, out_features=1, bias=True)\n",
      ")\n",
      "Learning Rate is : 0.001\n"
     ]
    },
    {
     "name": "stderr",
     "output_type": "stream",
     "text": [
      "\r",
      "  3%|▎         | 1/30 [01:01<29:34, 61.19s/it]"
     ]
    },
    {
     "name": "stdout",
     "output_type": "stream",
     "text": [
      "Epoch:  1  loss:  0.712183105542007\n"
     ]
    },
    {
     "name": "stderr",
     "output_type": "stream",
     "text": [
      "\r",
      "  7%|▋         | 2/30 [02:02<28:34, 61.23s/it]"
     ]
    },
    {
     "name": "stdout",
     "output_type": "stream",
     "text": [
      "Epoch:  2  loss:  0.7089614977157995\n"
     ]
    },
    {
     "name": "stderr",
     "output_type": "stream",
     "text": [
      "\r",
      " 10%|█         | 3/30 [03:05<27:57, 62.15s/it]"
     ]
    },
    {
     "name": "stdout",
     "output_type": "stream",
     "text": [
      "Epoch:  3  loss:  0.7072768107029201\n"
     ]
    },
    {
     "name": "stderr",
     "output_type": "stream",
     "text": [
      "\r",
      " 13%|█▎        | 4/30 [04:06<26:45, 61.76s/it]"
     ]
    },
    {
     "name": "stdout",
     "output_type": "stream",
     "text": [
      "Epoch:  4  loss:  0.7058453208119742\n"
     ]
    },
    {
     "name": "stderr",
     "output_type": "stream",
     "text": [
      "\r",
      " 17%|█▋        | 5/30 [05:08<25:46, 61.87s/it]"
     ]
    },
    {
     "name": "stdout",
     "output_type": "stream",
     "text": [
      "Epoch:  5  loss:  0.7046486195340846\n"
     ]
    },
    {
     "name": "stderr",
     "output_type": "stream",
     "text": [
      "\r",
      " 20%|██        | 6/30 [06:09<24:33, 61.38s/it]"
     ]
    },
    {
     "name": "stdout",
     "output_type": "stream",
     "text": [
      "Epoch:  6  loss:  0.7037381759969958\n"
     ]
    },
    {
     "name": "stderr",
     "output_type": "stream",
     "text": [
      "\r",
      " 23%|██▎       | 7/30 [07:09<23:24, 61.07s/it]"
     ]
    },
    {
     "name": "stdout",
     "output_type": "stream",
     "text": [
      "Epoch:  7  loss:  0.7027342593406417\n"
     ]
    },
    {
     "name": "stderr",
     "output_type": "stream",
     "text": [
      "\r",
      " 27%|██▋       | 8/30 [08:09<22:16, 60.76s/it]"
     ]
    },
    {
     "name": "stdout",
     "output_type": "stream",
     "text": [
      "Epoch:  8  loss:  0.7019663048942699\n"
     ]
    },
    {
     "name": "stderr",
     "output_type": "stream",
     "text": [
      "\r",
      " 30%|███       | 9/30 [09:12<21:26, 61.24s/it]"
     ]
    },
    {
     "name": "stdout",
     "output_type": "stream",
     "text": [
      "Epoch:  9  loss:  0.7010002498623847\n"
     ]
    },
    {
     "name": "stderr",
     "output_type": "stream",
     "text": [
      "\r",
      " 33%|███▎      | 10/30 [10:13<20:22, 61.12s/it]"
     ]
    },
    {
     "name": "stdout",
     "output_type": "stream",
     "text": [
      "Epoch:  10  loss:  0.7004149134459688\n"
     ]
    },
    {
     "name": "stderr",
     "output_type": "stream",
     "text": [
      "\r",
      " 37%|███▋      | 11/30 [11:13<19:17, 60.95s/it]"
     ]
    },
    {
     "name": "stdout",
     "output_type": "stream",
     "text": [
      "Epoch:  11  loss:  0.6997566638046815\n"
     ]
    },
    {
     "name": "stderr",
     "output_type": "stream",
     "text": [
      "\r",
      " 40%|████      | 12/30 [12:15<18:19, 61.10s/it]"
     ]
    },
    {
     "name": "stdout",
     "output_type": "stream",
     "text": [
      "Epoch:  12  loss:  0.6988668267669534\n"
     ]
    },
    {
     "name": "stderr",
     "output_type": "stream",
     "text": [
      "\r",
      " 43%|████▎     | 13/30 [13:16<17:21, 61.26s/it]"
     ]
    },
    {
     "name": "stdout",
     "output_type": "stream",
     "text": [
      "Epoch:  13  loss:  0.6983972250575692\n"
     ]
    },
    {
     "name": "stderr",
     "output_type": "stream",
     "text": [
      "\r",
      " 47%|████▋     | 14/30 [14:16<16:12, 60.75s/it]"
     ]
    },
    {
     "name": "stdout",
     "output_type": "stream",
     "text": [
      "Epoch:  14  loss:  0.697584170305202\n"
     ]
    },
    {
     "name": "stderr",
     "output_type": "stream",
     "text": [
      "\r",
      " 50%|█████     | 15/30 [15:17<15:12, 60.83s/it]"
     ]
    },
    {
     "name": "stdout",
     "output_type": "stream",
     "text": [
      "Epoch:  15  loss:  0.6969651040669342\n"
     ]
    },
    {
     "name": "stderr",
     "output_type": "stream",
     "text": [
      "\r",
      " 53%|█████▎    | 16/30 [16:19<14:18, 61.32s/it]"
     ]
    },
    {
     "name": "stdout",
     "output_type": "stream",
     "text": [
      "Epoch:  16  loss:  0.6962297472549897\n"
     ]
    },
    {
     "name": "stderr",
     "output_type": "stream",
     "text": [
      "\r",
      " 57%|█████▋    | 17/30 [17:21<13:20, 61.56s/it]"
     ]
    },
    {
     "name": "stdout",
     "output_type": "stream",
     "text": [
      "Epoch:  17  loss:  0.6958788374655028\n"
     ]
    },
    {
     "name": "stderr",
     "output_type": "stream",
     "text": [
      "\r",
      " 60%|██████    | 18/30 [18:23<12:18, 61.53s/it]"
     ]
    },
    {
     "name": "stdout",
     "output_type": "stream",
     "text": [
      "Epoch:  18  loss:  0.6953272203065037\n"
     ]
    },
    {
     "name": "stderr",
     "output_type": "stream",
     "text": [
      "\r",
      " 63%|██████▎   | 19/30 [19:22<11:10, 60.94s/it]"
     ]
    },
    {
     "name": "stdout",
     "output_type": "stream",
     "text": [
      "Epoch:  19  loss:  0.6948218028776811\n"
     ]
    },
    {
     "name": "stderr",
     "output_type": "stream",
     "text": [
      "\r",
      " 67%|██████▋   | 20/30 [20:25<10:13, 61.33s/it]"
     ]
    },
    {
     "name": "stdout",
     "output_type": "stream",
     "text": [
      "Epoch:  20  loss:  0.6941983024876761\n"
     ]
    },
    {
     "name": "stderr",
     "output_type": "stream",
     "text": [
      "\r",
      " 70%|███████   | 21/30 [21:25<09:09, 61.10s/it]"
     ]
    },
    {
     "name": "stdout",
     "output_type": "stream",
     "text": [
      "Epoch:  21  loss:  0.6938698845829296\n"
     ]
    },
    {
     "name": "stderr",
     "output_type": "stream",
     "text": [
      "\r",
      " 73%|███████▎  | 22/30 [22:25<08:06, 60.86s/it]"
     ]
    },
    {
     "name": "stdout",
     "output_type": "stream",
     "text": [
      "Epoch:  22  loss:  0.6931958120011428\n"
     ]
    },
    {
     "name": "stderr",
     "output_type": "stream",
     "text": [
      "\r",
      " 77%|███████▋  | 23/30 [23:25<07:03, 60.53s/it]"
     ]
    },
    {
     "name": "stdout",
     "output_type": "stream",
     "text": [
      "Epoch:  23  loss:  0.6926655654509012\n"
     ]
    },
    {
     "name": "stderr",
     "output_type": "stream",
     "text": [
      "\r",
      " 80%|████████  | 24/30 [24:27<06:04, 60.83s/it]"
     ]
    },
    {
     "name": "stdout",
     "output_type": "stream",
     "text": [
      "Epoch:  24  loss:  0.6921289954597143\n"
     ]
    },
    {
     "name": "stderr",
     "output_type": "stream",
     "text": [
      "\r",
      " 83%|████████▎ | 25/30 [25:28<05:04, 60.88s/it]"
     ]
    },
    {
     "name": "stdout",
     "output_type": "stream",
     "text": [
      "Epoch:  25  loss:  0.6915443497799945\n"
     ]
    },
    {
     "name": "stderr",
     "output_type": "stream",
     "text": [
      "\r",
      " 87%|████████▋ | 26/30 [26:29<04:03, 60.97s/it]"
     ]
    },
    {
     "name": "stdout",
     "output_type": "stream",
     "text": [
      "Epoch:  26  loss:  0.6914696259593895\n"
     ]
    },
    {
     "name": "stderr",
     "output_type": "stream",
     "text": [
      "\r",
      " 90%|█████████ | 27/30 [27:30<03:02, 60.90s/it]"
     ]
    },
    {
     "name": "stdout",
     "output_type": "stream",
     "text": [
      "Epoch:  27  loss:  0.6909560618763282\n"
     ]
    },
    {
     "name": "stderr",
     "output_type": "stream",
     "text": [
      "\r",
      " 93%|█████████▎| 28/30 [28:31<02:01, 60.98s/it]"
     ]
    },
    {
     "name": "stdout",
     "output_type": "stream",
     "text": [
      "Epoch:  28  loss:  0.690735604092983\n"
     ]
    },
    {
     "name": "stderr",
     "output_type": "stream",
     "text": [
      "\r",
      " 97%|█████████▋| 29/30 [29:31<01:00, 60.73s/it]"
     ]
    },
    {
     "name": "stdout",
     "output_type": "stream",
     "text": [
      "Epoch:  29  loss:  0.69032483518286\n"
     ]
    },
    {
     "name": "stderr",
     "output_type": "stream",
     "text": [
      "100%|██████████| 30/30 [30:32<00:00, 61.08s/it]\n",
      "  0%|          | 0/20 [00:00<?, ?it/s]"
     ]
    },
    {
     "name": "stdout",
     "output_type": "stream",
     "text": [
      "Epoch:  30  loss:  0.6896005173380733\n",
      "Learning Rate is : 0.0001\n"
     ]
    },
    {
     "name": "stderr",
     "output_type": "stream",
     "text": [
      "\r",
      "  5%|▌         | 1/20 [01:01<19:24, 61.32s/it]"
     ]
    },
    {
     "name": "stdout",
     "output_type": "stream",
     "text": [
      "Epoch:  1  loss:  0.6863470803918964\n"
     ]
    },
    {
     "name": "stderr",
     "output_type": "stream",
     "text": [
      "\r",
      " 10%|█         | 2/20 [02:04<18:42, 62.34s/it]"
     ]
    },
    {
     "name": "stdout",
     "output_type": "stream",
     "text": [
      "Epoch:  2  loss:  0.685404704721957\n"
     ]
    },
    {
     "name": "stderr",
     "output_type": "stream",
     "text": [
      "\r",
      " 15%|█▌        | 3/20 [03:05<17:30, 61.82s/it]"
     ]
    },
    {
     "name": "stdout",
     "output_type": "stream",
     "text": [
      "Epoch:  3  loss:  0.6847878132054267\n"
     ]
    },
    {
     "name": "stderr",
     "output_type": "stream",
     "text": [
      "\r",
      " 20%|██        | 4/20 [04:08<16:33, 62.08s/it]"
     ]
    },
    {
     "name": "stdout",
     "output_type": "stream",
     "text": [
      "Epoch:  4  loss:  0.6846653565584754\n"
     ]
    },
    {
     "name": "stderr",
     "output_type": "stream",
     "text": [
      "\r",
      " 25%|██▌       | 5/20 [05:09<15:26, 61.76s/it]"
     ]
    },
    {
     "name": "stdout",
     "output_type": "stream",
     "text": [
      "Epoch:  5  loss:  0.6840587724701679\n"
     ]
    },
    {
     "name": "stderr",
     "output_type": "stream",
     "text": [
      "\r",
      " 30%|███       | 6/20 [06:11<14:27, 61.97s/it]"
     ]
    },
    {
     "name": "stdout",
     "output_type": "stream",
     "text": [
      "Epoch:  6  loss:  0.6840340606949468\n"
     ]
    },
    {
     "name": "stderr",
     "output_type": "stream",
     "text": [
      "\r",
      " 35%|███▌      | 7/20 [07:14<13:31, 62.43s/it]"
     ]
    },
    {
     "name": "stdout",
     "output_type": "stream",
     "text": [
      "Epoch:  7  loss:  0.6837478092291892\n"
     ]
    },
    {
     "name": "stderr",
     "output_type": "stream",
     "text": [
      "\r",
      " 40%|████      | 8/20 [08:14<12:18, 61.58s/it]"
     ]
    },
    {
     "name": "stdout",
     "output_type": "stream",
     "text": [
      "Epoch:  8  loss:  0.6833286458247224\n"
     ]
    },
    {
     "name": "stderr",
     "output_type": "stream",
     "text": [
      "\r",
      " 45%|████▌     | 9/20 [09:15<11:14, 61.29s/it]"
     ]
    },
    {
     "name": "stdout",
     "output_type": "stream",
     "text": [
      "Epoch:  9  loss:  0.6831231175449017\n"
     ]
    },
    {
     "name": "stderr",
     "output_type": "stream",
     "text": [
      "\r",
      " 50%|█████     | 10/20 [10:17<10:15, 61.53s/it]"
     ]
    },
    {
     "name": "stdout",
     "output_type": "stream",
     "text": [
      "Epoch:  10  loss:  0.6830869101895164\n"
     ]
    },
    {
     "name": "stderr",
     "output_type": "stream",
     "text": [
      "\r",
      " 55%|█████▌    | 11/20 [11:18<09:11, 61.31s/it]"
     ]
    },
    {
     "name": "stdout",
     "output_type": "stream",
     "text": [
      "Epoch:  11  loss:  0.6827341409534229\n"
     ]
    },
    {
     "name": "stderr",
     "output_type": "stream",
     "text": [
      "\r",
      " 60%|██████    | 12/20 [12:18<08:08, 61.09s/it]"
     ]
    },
    {
     "name": "stdout",
     "output_type": "stream",
     "text": [
      "Epoch:  12  loss:  0.6826842250096977\n"
     ]
    },
    {
     "name": "stderr",
     "output_type": "stream",
     "text": [
      "\r",
      " 65%|██████▌   | 13/20 [13:20<07:09, 61.33s/it]"
     ]
    },
    {
     "name": "stdout",
     "output_type": "stream",
     "text": [
      "Epoch:  13  loss:  0.6822407996474625\n"
     ]
    },
    {
     "name": "stderr",
     "output_type": "stream",
     "text": [
      "\r",
      " 70%|███████   | 14/20 [14:22<06:08, 61.45s/it]"
     ]
    },
    {
     "name": "stdout",
     "output_type": "stream",
     "text": [
      "Epoch:  14  loss:  0.6826178636431243\n"
     ]
    },
    {
     "name": "stderr",
     "output_type": "stream",
     "text": [
      "\r",
      " 75%|███████▌  | 15/20 [15:23<05:06, 61.21s/it]"
     ]
    },
    {
     "name": "stdout",
     "output_type": "stream",
     "text": [
      "Epoch:  15  loss:  0.6820802283211931\n"
     ]
    },
    {
     "name": "stderr",
     "output_type": "stream",
     "text": [
      "\r",
      " 80%|████████  | 16/20 [16:23<04:03, 60.91s/it]"
     ]
    },
    {
     "name": "stdout",
     "output_type": "stream",
     "text": [
      "Epoch:  16  loss:  0.6821666176011631\n"
     ]
    },
    {
     "name": "stderr",
     "output_type": "stream",
     "text": [
      "\r",
      " 85%|████████▌ | 17/20 [17:25<03:04, 61.40s/it]"
     ]
    },
    {
     "name": "stdout",
     "output_type": "stream",
     "text": [
      "Epoch:  17  loss:  0.6820293708800246\n"
     ]
    },
    {
     "name": "stderr",
     "output_type": "stream",
     "text": [
      "\r",
      " 90%|█████████ | 18/20 [18:29<02:04, 62.13s/it]"
     ]
    },
    {
     "name": "stdout",
     "output_type": "stream",
     "text": [
      "Epoch:  18  loss:  0.6819660925163515\n"
     ]
    },
    {
     "name": "stderr",
     "output_type": "stream",
     "text": [
      "\r",
      " 95%|█████████▌| 19/20 [19:32<01:02, 62.31s/it]"
     ]
    },
    {
     "name": "stdout",
     "output_type": "stream",
     "text": [
      "Epoch:  19  loss:  0.6817125945489951\n"
     ]
    },
    {
     "name": "stderr",
     "output_type": "stream",
     "text": [
      "100%|██████████| 20/20 [20:34<00:00, 61.71s/it]\n",
      "  0%|          | 0/145 [00:00<?, ?it/s]"
     ]
    },
    {
     "name": "stdout",
     "output_type": "stream",
     "text": [
      "Epoch:  20  loss:  0.6813170021246235\n"
     ]
    },
    {
     "name": "stderr",
     "output_type": "stream",
     "text": [
      "100%|██████████| 145/145 [00:19<00:00,  7.45it/s]\n",
      "Loading Feature...: 100%|██████████████████████████████████████████████████████████████████████████████████████████| 244/244 [00:00<00:00, 318.20it/s]\n",
      "Loading target...: 100%|███████████████████████████████████████████████████████████████████████████████████████████| 244/244 [00:00<00:00, 270.63it/s]\n",
      "Merging feature and return...: 100%|███████████████████████████████████████████████████████████████████████████████| 244/244 [00:01<00:00, 155.46it/s]\n",
      "Calculating IC value...: 100%|█████████████████████████████████████████████████████████████████████████████████████| 244/244 [00:00<00:00, 573.55it/s]\n",
      "Calculating IC value...: 100%|█████████████████████████████████████████████████████████████████████████████████████| 244/244 [00:00<00:00, 652.42it/s]\n"
     ]
    },
    {
     "name": "stdout",
     "output_type": "stream",
     "text": [
      "\n",
      "IC table for feature \"Original_Input_Moving_7_Shift_5\" (mean std IR):\n",
      "+-------------------+------------------+------------------+------------------+------------------+------------------+\n",
      "|      period       |  IC_Original_1d  |  IC_Original_2d  |  IC_Original_3d  |  IC_Original_4d  |  IC_Original_5d  |\n",
      "+===================+==================+==================+==================+==================+==================+\n",
      "| 20190102-20190630 |  4.26 5.59 0.76  |  5.62 5.96 0.94  |  6.28 6.02 1.04  |  6.84 6.25 1.09  |  7.36 6.28 1.17  |\n",
      "+-------------------+------------------+------------------+------------------+------------------+------------------+\n",
      "| 20190701-20191231 |  3.51 6.06 0.58  |  4.67 5.61 0.83  |  5.04 5.65 0.89  |  5.42 5.67 0.96  |  5.61 5.58 1.01  |\n",
      "+-------------------+------------------+------------------+------------------+------------------+------------------+\n",
      "\n",
      "IC summary for feature \"Original_Input_Moving_7_Shift_5\":\n",
      "+-------------------+------------------+------------------+------------------+------------------+------------------+\n",
      "|      period       |  IC_Original_1d  |  IC_Original_2d  |  IC_Original_3d  |  IC_Original_4d  |  IC_Original_5d  |\n",
      "+===================+==================+==================+==================+==================+==================+\n",
      "| 20190102-20191231 |  3.88 5.83 0.67  |  5.11 5.79 0.88  |  5.64 5.84 0.97  |  6.08 5.99 1.02  |  6.45 5.97 1.08  |\n",
      "+-------------------+------------------+------------------+------------------+------------------+------------------+\n"
     ]
    },
    {
     "name": "stderr",
     "output_type": "stream",
     "text": [
      "Getting BT result for date: 20191231...: 100%|██████████████████████████████████████████████████████████████████████| 244/244 [00:03<00:00, 66.90it/s]\n"
     ]
    },
    {
     "name": "stdout",
     "output_type": "stream",
     "text": [
      "\n",
      "Original_Input_Moving_7_Shift_5 back-test result for long-only mode:\n",
      "\n",
      "Back test summary: \"long-only\" mode\n",
      "+-------------------+-------------+----------+-----------+------------+----------+-------------+-------------------------+-------------------+------------+\n",
      "|      period       |  stock_num  |  return  |  ret_std  |  ret_year  |  sharpe  |  win_ratio  |      max_dd|period      |  max_dd_day|date  |  turnover  |\n",
      "+===================+=============+==========+===========+============+==========+=============+=========================+===================+============+\n",
      "| 20190102-20190630 |     349     |  -2.78   |   5.93    |   -5.59    |  -1.04   |    48.72    | 4.96(20190109-20190404) |  1.11(20190131)   |   70.41    |\n",
      "+-------------------+-------------+----------+-----------+------------+----------+-------------+-------------------------+-------------------+------------+\n",
      "| 20190701-20191231 |     351     |  -9.12   |   4.08    |   -16.72   |  -4.69   |    38.40    | 9.46(20190711-20191230) |  0.88(20190806)   |   71.38    |\n",
      "+-------------------+-------------+----------+-----------+------------+----------+-------------+-------------------------+-------------------+------------+\n"
     ]
    },
    {
     "data": {
      "image/png": "[encoded data removed]",
      "text/plain": [
       "<Figure size 432x288 with 1 Axes>"
      ]
     },
     "metadata": {
      "needs_background": "light"
     },
     "output_type": "display_data"
    }
   ],
   "source": [
    "import time\n",
    "import os\n",
    "from Research.backtest.bt import BTDaily\n",
    "import matplotlib.pyplot as plt\n",
    "from Research.feature.ft import FeatureAnalysis\n",
    "import Research.utils.namespace as namespace\n",
    "import Research.utils.normalization as norm\n",
    "from Platform.database.mysql import MysqlAPI\n",
    "from Platform.utils.persistence import convert_to_standard_daily_feature_csv, convert_to_standard_daily_feature_par\n",
    "from Platform.config.mysql_info import FACTOR_LIB_MYSQL_TIO\n",
    "import DataAPI\n",
    "from os import walk\n",
    "import pandas as pd\n",
    "import numpy as np\n",
    "import torch\n",
    "import torch.nn as nn\n",
    "from progressbar import ProgressBar\n",
    "from tqdm import tqdm\n",
    "import multiprocessing as mp\n",
    "import sys\n",
    "sys.path.append(\"/home/wuwenjun/jupyter_code/Shannon/AlphaNet/packages/\")\n",
    "from AlphaNet.Data import DataLoader\n",
    "import AlphaNet \n",
    "from AlphaNet.Models import AlphaNet_LSTM_V1\n",
    "\n",
    "# read_task\n",
    "task_info = np.load(\"/home/ShareFolder/feature_platform/ti0/wuwenjun/#Factor_Description/Task.npy\",allow_pickle=True).item()\n",
    "device = task_info[\"Cuda\"].pop()\n",
    "task = task_info[\"Task\"]\n",
    "task_index = task[task[\"status\"] == \"waiting\"].index[0]\n",
    "Alpha_Name = task.loc[task_index,\"Alpha_Name\"]\n",
    "start_date = task.loc[task_index,\"start_date\"]\n",
    "end_date = task.loc[task_index,\"end_date\"]\n",
    "sequence = task.loc[task_index,\"sequence\"]\n",
    "LR = task.loc[task_index,\"LR\"]\n",
    "epoch_num = task.loc[task_index,\"epoch_num\"]\n",
    "feature_num = task.loc[task_index,\"feature_num\"]\n",
    "task.loc[task_index,\"status\"] = \"running\"\n",
    "np.save(\"/home/ShareFolder/feature_platform/ti0/wuwenjun/#Factor_Description/Task.npy\",task_info)\n",
    "\n",
    "# file path\n",
    "model_path = \"/home/wuwenjun/Alpha_Factor/\" + Alpha_Name + \"/\" + \"%s_%s\" %(start_date,end_date) + \"/\"\n",
    "if os.path.exists(model_path) == False:\n",
    "    os.makedirs(model_path)\n",
    "    print(model_path)\n",
    "data_path = \"/home/ShareFolder/feature_platform/ti0/wuwenjun/#Data_lib/\"\n",
    "\n",
    "# write task\n",
    "f = open(model_path + 'back_test.txt','w')\n",
    "print(\"*\"*100,end=\"\\n\"*3,file=f)\n",
    "print(\"Alpha_Name: \",Alpha_Name,end = \"\\n\",file=f)\n",
    "print(\"start_date: \",start_date,end = \"\\n\",file=f)\n",
    "print(\"end_date: \",end_date,end = \"\\n\",file=f)\n",
    "print(\"sequence: \",sequence,end = \"\\n\",file=f)\n",
    "print(\"LR: \",LR,end = \"\\n\",file=f)\n",
    "print(\"epoch_num: \",epoch_num,end = \"\\n\",file=f)\n",
    "print(\"feature_num: \",feature_num,end = \"\\n\"*3,file=f)\n",
    "f.close()\n",
    "\n",
    "# Train Loader\n",
    "\n",
    "trainloader = DataLoader()\n",
    "trainloader.load_data_from_file(alpha_name = Alpha_Name,end_date = start_date,data_path=data_path)\n",
    "train_loader = trainloader.to_torch_DataLoader(sequence = sequence,shuffle=True)\n",
    "\n",
    "# Model Loader\n",
    "\n",
    "loss_function = nn.MSELoss()\n",
    "model = AlphaNet_LSTM_V1(feature_num, 64)\n",
    "optimizer = torch.optim.Adam(model.parameters(), lr=LR[0])\n",
    "model_loader = AlphaNet.Model_Loader(model = model,device=device)\n",
    "print(model_loader.model)\n",
    "\n",
    "# Training\n",
    "model = model_loader.fit_transform(train_loader,optimizer,loss_function,epoch_num[0],save_path = model_path)\n",
    "\n",
    "for i in range(1,len(LR)):\n",
    "    optimizer = torch.optim.Adam(model.parameters(), lr=LR[i])\n",
    "    model = model_loader.transform(optimizer = optimizer, epoch_num = epoch_num[i], method=\"best\")\n",
    "\n",
    "# Test\n",
    "testloader = DataLoader()\n",
    "testloader.load_data_from_file(alpha_name = Alpha_Name,start_date = start_date,end_date = end_date,data_path = data_path)\n",
    "test_loader = testloader.to_torch_DataLoader(sequence = sequence,shuffle=False)\n",
    "pred = model_loader.pred(test_loader)\n",
    "\n",
    "# convert to standard daily and back test\n",
    "final = pd.concat([testloader.target.reset_index(),pred],axis=1)\n",
    "final.rename(columns={0:Alpha_Name,'ticker': 'symbol'},inplace=True)\n",
    "final.to_parquet(model_path + \"result.par\")\n",
    "convert_to_standard_daily_feature_csv(Alpha_Name, final.drop(\"target\",axis=1), output_path = r'/home/wuwenjun/factor_lib/ti0/wuwenjun')\n",
    "\n",
    "# back test\n",
    "\n",
    "pd.set_option('expand_frame_repr', False)\n",
    "configs = namespace.load_namespace(r'/home/ShareFolder/lgc/Modules/Research/config/feature_bt_template')\n",
    "FT = FeatureAnalysis(configs, feature_path=r\"/home/wuwenjun/factor_lib\")\n",
    "\n",
    "FT.load_feature_from_file(Alpha_Name, \"2019-01-01\", end_date, universe='Investable',timedelta=None, transformer=norm.standard_scale)\n",
    "FT.load_return_data()\n",
    "FT.get_intersection_ic(feature_name=Alpha_Name, truncate_fold=None, method='spearman',period=('1d', '3d', '5d'))\n",
    "ic_flag, trading_direction = FT.test_ic(Alpha_Name, verbose=False)\n",
    "df, df_all = FT.get_ic_summary_by_month(num=6)\n",
    "\n",
    "if trading_direction == -1:\n",
    "    negative = True\n",
    "else:\n",
    "    negative = False\n",
    "\n",
    "\n",
    "# save txt\n",
    "f = open(model_path + 'back_test.txt','a')\n",
    "print(df,end=\"\\n\"*3,file = f)\n",
    "a = FT.get_top_return(Alpha_Name, negative= False, trade_type='long-only', transmission_rate=0.00025,\n",
    "                        tax_rate=0.001, verbose=True,bt_price = \"vwap\",trade_period=6)\n",
    "print(a[1],end = \"\\n\"*3+\"*\"*100 ,file = f)\n",
    "f.close()\n",
    "\n",
    "# task\n",
    "task_info = np.load(\"/home/ShareFolder/feature_platform/ti0/wuwenjun/#Factor_Description/Task.npy\",allow_pickle=True).item()\n",
    "task = task_info[\"Task\"]\n",
    "task.loc[task_index,\"status\"] = \"finished\"\n",
    "task_info[\"Cuda\"].append(device)\n",
    "np.save(\"/home/ShareFolder/feature_platform/ti0/wuwenjun/#Factor_Description/Task.npy\",task_info)"
   ]
  }
 ],
 "metadata": {
  "kernelspec": {
   "display_name": "Python 3 (ipykernel)",
   "language": "python",
   "name": "python3"
  },
  "language_info": {
   "codemirror_mode": {
    "name": "ipython",
    "version": 3
   },
   "file_extension": ".py",
   "mimetype": "text/x-python",
   "name": "python",
   "nbconvert_exporter": "python",
   "pygments_lexer": "ipython3",
   "version": "3.7.9"
  }
 },
 "nbformat": 4,
 "nbformat_minor": 5
}
