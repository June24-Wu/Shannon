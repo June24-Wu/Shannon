{
 "cells": [
  {
   "cell_type": "code",
   "execution_count": 9,
   "id": "40b6b814",
   "metadata": {
    "ExecuteTime": {
     "end_time": "2022-01-17T02:05:24.996336Z",
     "start_time": "2022-01-17T02:05:24.293490Z"
    }
   },
   "outputs": [],
   "source": [
    "import pandas as pd\n",
    "import numpy as np \n",
    "import matplotlib.pyplot as plt"
   ]
  },
  {
   "cell_type": "code",
   "execution_count": 33,
   "id": "990e87a9",
   "metadata": {
    "ExecuteTime": {
     "end_time": "2022-01-17T05:18:05.680348Z",
     "start_time": "2022-01-17T05:18:05.671273Z"
    }
   },
   "outputs": [
    {
     "data": {
      "text/plain": [
       "[0.6823908769478282,\n",
       " 0.6622214105178109,\n",
       " 0.6596099442083843,\n",
       " 0.6590805911144286,\n",
       " 0.6589862972205323,\n",
       " 0.6505097864124949,\n",
       " 0.644560790488456,\n",
       " 0.6402387733252229,\n",
       " 0.6365783303921949,\n",
       " 0.6327875134899892,\n",
       " 0.6293649746956491,\n",
       " 0.6264474187950361,\n",
       " 0.6232878007161873,\n",
       " 0.6205744663083577,\n",
       " 0.617991719321228,\n",
       " 0.6148315394333882,\n",
       " 0.6127396500235909,\n",
       " 0.6103134982434576,\n",
       " 0.6076546212512555,\n",
       " 0.6049618371338924,\n",
       " 0.6030571520177858,\n",
       " 0.6003648769384629,\n",
       " 0.5980957829355221,\n",
       " 0.5963251463268731,\n",
       " 0.5938337238432702,\n",
       " 0.5921034665476914,\n",
       " 0.5899765313451377,\n",
       " 0.5880391880812403,\n",
       " 0.5858139320022931,\n",
       " 0.584213579716097,\n",
       " 0.582396857979925,\n",
       " 0.5805082801234932,\n",
       " 0.5793255399079976,\n",
       " 0.5765742519426145,\n",
       " 0.5758381947859054,\n",
       " 0.5684894804546656,\n",
       " 0.5660908877278491,\n",
       " 0.565151147815598,\n",
       " 0.5641249371488354,\n",
       " 0.5635984218368121,\n",
       " 0.5628553170823305,\n",
       " 0.5624121022242713,\n",
       " 0.5615857255257616,\n",
       " 0.561072710884681,\n",
       " 0.5606990062126984,\n",
       " 0.5602368499456976,\n",
       " 0.5599745854993071,\n",
       " 0.5592948128591461,\n",
       " 0.5591340111770643,\n",
       " 0.5585703403478394,\n",
       " 0.5584258412352511,\n",
       " 0.5583193917296174,\n",
       " 0.5581617223348352,\n",
       " 0.5574434140349367,\n",
       " 0.5572323359944671,\n",
       " 0.5564792583735911,\n",
       " 0.5564654069450258,\n",
       " 0.5558303347706429,\n",
       " 0.555940084412175,\n",
       " 0.555778270643586,\n",
       " 0.5557766157699233,\n",
       " 0.5558646785183907,\n",
       " 0.5558845203418152,\n",
       " 0.5557583219051989,\n",
       " 0.5558116237224158,\n",
       " 0.5556026800241858,\n",
       " 0.5557736492986597,\n",
       " 0.5555953990060433,\n",
       " 0.5554829573432752,\n",
       " 0.5558006804370503,\n",
       " 0.5554138135374442,\n",
       " 0.5551226249772492,\n",
       " 0.5554372341200353,\n",
       " 0.5556471826178189,\n",
       " 0.5553561561436909]"
      ]
     },
     "execution_count": 33,
     "metadata": {},
     "output_type": "execute_result"
    }
   ],
   "source": [
    "a = np.load(\"/home/wuwenjun/Alpha_Factor/Original_Input_Moving_10_Shift_5/2019-01-01_2019-06-01/loss.npy\")\n",
    "a = list(a)\n",
    "a"
   ]
  },
  {
   "cell_type": "code",
   "execution_count": 34,
   "id": "ef013917",
   "metadata": {
    "ExecuteTime": {
     "end_time": "2022-01-17T05:18:06.170420Z",
     "start_time": "2022-01-17T05:18:05.976444Z"
    }
   },
   "outputs": [
    {
     "data": {
      "text/plain": [
       "[<matplotlib.lines.Line2D at 0x7f4327841d90>]"
      ]
     },
     "execution_count": 34,
     "metadata": {},
     "output_type": "execute_result"
    },
    {
     "data": {
      "image/png": "[encoded data removed]",
      "text/plain": [
       "<Figure size 432x288 with 1 Axes>"
      ]
     },
     "metadata": {
      "needs_background": "light"
     },
     "output_type": "display_data"
    }
   ],
   "source": [
    "plt.plot(a)"
   ]
  },
  {
   "cell_type": "code",
   "execution_count": 41,
   "id": "8baad41a",
   "metadata": {
    "ExecuteTime": {
     "end_time": "2022-01-17T05:26:52.759976Z",
     "start_time": "2022-01-17T05:26:52.746974Z"
    }
   },
   "outputs": [
    {
     "data": {
      "text/plain": [
       "[26, 23, 20, 17, 14, 11, 8, 5, 2, 0]"
      ]
     },
     "execution_count": 41,
     "metadata": {},
     "output_type": "execute_result"
    }
   ],
   "source": [
    "sequence = 10\n",
    "shift = 3\n",
    "\n",
    "\n",
    "sequence_list = [0]\n",
    "shift_value = shift - 1\n",
    "while len(sequence_list) < sequence:\n",
    "    sequence_list.append(shift_value)\n",
    "    shift_value += shift\n",
    "sequence_list.sort(reverse=True)\n",
    "sequence_list"
   ]
  },
  {
   "cell_type": "code",
   "execution_count": 28,
   "id": "01424758",
   "metadata": {
    "ExecuteTime": {
     "end_time": "2022-01-17T02:33:52.460659Z",
     "start_time": "2022-01-17T02:33:52.449268Z"
    }
   },
   "outputs": [],
   "source": [
    "original.to_parquet(\"/home/ShareFolder/feature_platform/ti0/wuwenjun/#Factor_Description/Task.par\")"
   ]
  }
 ],
 "metadata": {
  "kernelspec": {
   "display_name": "Python 3 (ipykernel)",
   "language": "python",
   "name": "python3"
  },
  "language_info": {
   "codemirror_mode": {
    "name": "ipython",
    "version": 3
   },
   "file_extension": ".py",
   "mimetype": "text/x-python",
   "name": "python",
   "nbconvert_exporter": "python",
   "pygments_lexer": "ipython3",
   "version": "3.7.9"
  }
 },
 "nbformat": 4,
 "nbformat_minor": 5
}
