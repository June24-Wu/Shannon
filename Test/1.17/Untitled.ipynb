{
 "cells": [
  {
   "cell_type": "code",
   "execution_count": 13,
   "id": "01424758",
   "metadata": {
    "ExecuteTime": {
     "end_time": "2022-01-18T09:02:20.810080Z",
     "start_time": "2022-01-18T09:02:20.797081Z"
    }
   },
   "outputs": [],
   "source": [
    "import time\n",
    "import os\n",
    "from Research.backtest.bt import BTDaily\n",
    "import matplotlib.pyplot as plt\n",
    "from Research.feature.ft import FeatureAnalysis\n",
    "import Research.utils.namespace as namespace\n",
    "import Research.utils.normalization as norm\n",
    "from Platform.database.mysql import MysqlAPI\n",
    "from Platform.utils.persistence import convert_to_standard_daily_feature_csv, convert_to_standard_daily_feature_par\n",
    "from Platform.config.mysql_info import FACTOR_LIB_MYSQL_TIO\n",
    "import DataAPI\n",
    "from os import walk\n",
    "import pandas as pd\n",
    "import numpy as np\n",
    "import torch\n",
    "import torch.nn as nn\n",
    "from progressbar import ProgressBar\n",
    "from tqdm import tqdm\n",
    "import multiprocessing as mp\n",
    "import sys\n",
    "sys.path.append(\"/home/wuwenjun/jupyter_code/Shannon/AlphaNet/packages/\")\n",
    "from AlphaNet.Data import DataLoader , convert_to_standard_daily_data_par\n",
    "import AlphaNet \n",
    "from AlphaNet.Models import AlphaNet_LSTM_V1"
   ]
  },
  {
   "cell_type": "code",
   "execution_count": 3,
   "id": "2acbc519",
   "metadata": {
    "ExecuteTime": {
     "end_time": "2022-01-18T08:54:29.240079Z",
     "start_time": "2022-01-18T08:54:29.233059Z"
    }
   },
   "outputs": [],
   "source": [
    "task_info = np.load(\"/home/ShareFolder/feature_platform/ti0/wuwenjun/#Factor_Description/Task.npy\",allow_pickle=True).item()\n",
    "# device = task_info[\"Cuda\"].pop()\n",
    "task = task_info[\"Task\"]\n",
    "task_index = task[task[\"status\"] == \"waiting\"].index[3]\n",
    "Alpha_Name = task.loc[task_index,\"Alpha_Name\"]\n",
    "start_date = task.loc[task_index,\"start_date\"]\n",
    "end_date = task.loc[task_index,\"end_date\"]\n",
    "sequence = task.loc[task_index,\"sequence\"]\n",
    "LR = task.loc[task_index,\"LR\"]\n",
    "epoch_num = task.loc[task_index,\"epoch_num\"]\n",
    "feature_num = task.loc[task_index,\"feature_num\"]"
   ]
  },
  {
   "cell_type": "code",
   "execution_count": 10,
   "id": "69369561",
   "metadata": {
    "ExecuteTime": {
     "end_time": "2022-01-18T08:56:40.728963Z",
     "start_time": "2022-01-18T08:56:40.722607Z"
    }
   },
   "outputs": [
    {
     "data": {
      "text/plain": [
       "['Original_Input_Moving_10_Shift_5',\n",
       " 'Original_Input_Moving_7_Shift_5',\n",
       " 'Original_Input_Shift_1_Sequence_10',\n",
       " 'Original_Input_Shift_3_Sequence_10',\n",
       " 'Original_Input_Shift_1_Sequence_5',\n",
       " 'Original_Input_Ts_Standard_Shift_1_Sequence_5',\n",
       " 'Original_Input_Ts_Standard_Shift_3_Sequence_10',\n",
       " 'Original_Input_Ts_Standard_Shift_1_Sequence_10',\n",
       " 'Original_Input_TsStand_Concated_Shift_1_Sequence_10',\n",
       " 'Original_Input_TsStand_Concated_Shift_1_Sequence_5',\n",
       " 'Original_Input_TsStand_Concated_Shift_3_Sequence_10']"
      ]
     },
     "execution_count": 10,
     "metadata": {},
     "output_type": "execute_result"
    }
   ],
   "source": [
    "a"
   ]
  },
  {
   "cell_type": "code",
   "execution_count": 5,
   "id": "050ec227",
   "metadata": {
    "ExecuteTime": {
     "end_time": "2022-01-18T08:55:02.611338Z",
     "start_time": "2022-01-18T08:55:02.606719Z"
    }
   },
   "outputs": [],
   "source": [
    "data_path = \"/home/ShareFolder/feature_platform/ti0/wuwenjun/#Data_lib/\""
   ]
  },
  {
   "cell_type": "code",
   "execution_count": 25,
   "id": "a667ff17",
   "metadata": {
    "ExecuteTime": {
     "end_time": "2022-01-18T09:21:31.421817Z",
     "start_time": "2022-01-18T09:07:07.064208Z"
    }
   },
   "outputs": [
    {
     "name": "stderr",
     "output_type": "stream",
     "text": [
      "100%|██████████| 1705/1705 [00:23<00:00, 73.49it/s] \n",
      "100%|██████████| 1288/1288 [01:08<00:00, 18.83it/s]\n",
      "100%|██████████| 1705/1705 [00:16<00:00, 101.05it/s]\n",
      "100%|██████████| 1311/1311 [00:38<00:00, 34.26it/s]\n",
      "100%|██████████| 1705/1705 [00:16<00:00, 105.83it/s]\n",
      "100%|██████████| 1282/1282 [00:36<00:00, 35.29it/s]\n",
      "100%|██████████| 1705/1705 [00:21<00:00, 78.15it/s] \n",
      "100%|██████████| 1259/1259 [01:05<00:00, 19.10it/s]\n",
      "100%|██████████| 1705/1705 [00:21<00:00, 80.20it/s] \n",
      "100%|██████████| 1277/1277 [01:05<00:00, 19.48it/s]\n",
      "100%|██████████| 1705/1705 [00:36<00:00, 47.15it/s] \n",
      "100%|██████████| 1277/1277 [02:19<00:00,  9.18it/s]\n",
      "100%|██████████| 1705/1705 [00:23<00:00, 72.51it/s] \n",
      "100%|██████████| 1282/1282 [01:14<00:00, 17.15it/s]\n",
      "100%|██████████| 1705/1705 [00:39<00:00, 42.71it/s] \n",
      "100%|██████████| 1259/1259 [02:26<00:00,  8.60it/s]\n"
     ]
    }
   ],
   "source": [
    "for i in range(3,len(a)):\n",
    "    trainloader = DataLoader()\n",
    "    trainloader.load_data_from_file(alpha_name = a[i],end_date = \"2022-01-01\",data_path=data_path)\n",
    "    trainloader.feature_data.rename(columns={\"10d_ret_standscalar\":\"target\"},inplace=True)\n",
    "    convert_to_standard_daily_data_par(df=trainloader.feature_data, output_name=a[i],\n",
    "                                   output_path=data_path)"
   ]
  }
 ],
 "metadata": {
  "kernelspec": {
   "display_name": "Python 3 (ipykernel)",
   "language": "python",
   "name": "python3"
  },
  "language_info": {
   "codemirror_mode": {
    "name": "ipython",
    "version": 3
   },
   "file_extension": ".py",
   "mimetype": "text/x-python",
   "name": "python",
   "nbconvert_exporter": "python",
   "pygments_lexer": "ipython3",
   "version": "3.7.9"
  }
 },
 "nbformat": 4,
 "nbformat_minor": 5
}
