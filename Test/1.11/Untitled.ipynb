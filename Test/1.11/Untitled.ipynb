{
 "cells": [
  {
   "cell_type": "code",
   "execution_count": 9,
   "id": "b39447e6",
   "metadata": {
    "ExecuteTime": {
     "end_time": "2022-01-11T08:22:48.274315Z",
     "start_time": "2022-01-11T08:22:48.269636Z"
    }
   },
   "outputs": [],
   "source": [
    "import shutil\n",
    "from tqdm import tqdm\n",
    "# shutil.rmtree(\"/home/wuwenjun/Data_lib/ti0/wuwenjun/5_Input_20220111_10d_norm_ret/\")"
   ]
  },
  {
   "cell_type": "code",
   "execution_count": 1,
   "id": "98856e93",
   "metadata": {
    "ExecuteTime": {
     "end_time": "2022-01-11T11:57:31.798143Z",
     "start_time": "2022-01-11T11:57:31.782272Z"
    }
   },
   "outputs": [],
   "source": [
    "import sys\n",
    "sys.path.append(\"/home/wuwenjun/jupyter_code/Shannon/AlphaNet/packages/\")\n",
    "target = \"10d_ret_norm_standard_scale\" # 有用\n",
    "target = \"10d_ret_norm\" # 有用\n",
    "target = \"10d_ret_StandardScale_MinMax_10\""
   ]
  },
  {
   "cell_type": "code",
   "execution_count": 50,
   "id": "832c7e51",
   "metadata": {
    "ExecuteTime": {
     "end_time": "2022-01-11T11:30:13.002086Z",
     "start_time": "2022-01-11T11:30:09.706905Z"
    }
   },
   "outputs": [
    {
     "name": "stderr",
     "output_type": "stream",
     "text": [
      "100%|██████████| 486/486 [00:02<00:00, 168.48it/s]\n"
     ]
    },
    {
     "data": {
      "text/html": [
       "<div>\n",
       "<style scoped>\n",
       "    .dataframe tbody tr th:only-of-type {\n",
       "        vertical-align: middle;\n",
       "    }\n",
       "\n",
       "    .dataframe tbody tr th {\n",
       "        vertical-align: top;\n",
       "    }\n",
       "\n",
       "    .dataframe thead th {\n",
       "        text-align: right;\n",
       "    }\n",
       "</style>\n",
       "<table border=\"1\" class=\"dataframe\">\n",
       "  <thead>\n",
       "    <tr style=\"text-align: right;\">\n",
       "      <th></th>\n",
       "      <th></th>\n",
       "      <th>10d_ret_StandardScale_MinMax_10</th>\n",
       "    </tr>\n",
       "    <tr>\n",
       "      <th>timestamp</th>\n",
       "      <th>ticker</th>\n",
       "      <th></th>\n",
       "    </tr>\n",
       "  </thead>\n",
       "  <tbody>\n",
       "    <tr>\n",
       "      <th rowspan=\"5\" valign=\"top\">2020-01-02 09:30:00</th>\n",
       "      <th>000001</th>\n",
       "      <td>-5.551395</td>\n",
       "    </tr>\n",
       "    <tr>\n",
       "      <th>000002</th>\n",
       "      <td>-6.203258</td>\n",
       "    </tr>\n",
       "    <tr>\n",
       "      <th>000004</th>\n",
       "      <td>-5.390784</td>\n",
       "    </tr>\n",
       "    <tr>\n",
       "      <th>000005</th>\n",
       "      <td>-5.142255</td>\n",
       "    </tr>\n",
       "    <tr>\n",
       "      <th>000006</th>\n",
       "      <td>-5.327572</td>\n",
       "    </tr>\n",
       "    <tr>\n",
       "      <th>...</th>\n",
       "      <th>...</th>\n",
       "      <td>...</td>\n",
       "    </tr>\n",
       "    <tr>\n",
       "      <th rowspan=\"5\" valign=\"top\">2021-06-01 09:30:00</th>\n",
       "      <th>688699</th>\n",
       "      <td>-6.236975</td>\n",
       "    </tr>\n",
       "    <tr>\n",
       "      <th>688777</th>\n",
       "      <td>-6.432447</td>\n",
       "    </tr>\n",
       "    <tr>\n",
       "      <th>688788</th>\n",
       "      <td>-6.486812</td>\n",
       "    </tr>\n",
       "    <tr>\n",
       "      <th>688819</th>\n",
       "      <td>-6.124710</td>\n",
       "    </tr>\n",
       "    <tr>\n",
       "      <th>688981</th>\n",
       "      <td>-6.088935</td>\n",
       "    </tr>\n",
       "  </tbody>\n",
       "</table>\n",
       "<p>1366034 rows × 1 columns</p>\n",
       "</div>"
      ],
      "text/plain": [
       "                            10d_ret_StandardScale_MinMax_10\n",
       "timestamp           ticker                                 \n",
       "2020-01-02 09:30:00 000001                        -5.551395\n",
       "                    000002                        -6.203258\n",
       "                    000004                        -5.390784\n",
       "                    000005                        -5.142255\n",
       "                    000006                        -5.327572\n",
       "...                                                     ...\n",
       "2021-06-01 09:30:00 688699                        -6.236975\n",
       "                    688777                        -6.432447\n",
       "                    688788                        -6.486812\n",
       "                    688819                        -6.124710\n",
       "                    688981                        -6.088935\n",
       "\n",
       "[1366034 rows x 1 columns]"
      ]
     },
     "execution_count": 50,
     "metadata": {},
     "output_type": "execute_result"
    }
   ],
   "source": [
    "from AlphaNet.Data import DataLoader\n",
    "data_loader = DataLoader()\n",
    "data_loader.load_data_from_file(alpha_name= target,start_date=\"2020-01-01\",end_date=\"2022-01-01\",data_path=\"/home/wuwenjun/feature_platform/ti0/wuwenjun/\")\n",
    "# data_loader.load_data_from_file(alpha_name=\"10d_ret_norm_standard_scale\",start_date=\"2020-01-01\",end_date = \"2021-06-01\",data_path=\"/home/wuwenjun/feature_platform/ti0/wuwenjun\")"
   ]
  },
  {
   "cell_type": "code",
   "execution_count": 51,
   "id": "b9209b04",
   "metadata": {
    "ExecuteTime": {
     "end_time": "2022-01-11T11:30:13.052351Z",
     "start_time": "2022-01-11T11:30:13.005635Z"
    }
   },
   "outputs": [
    {
     "data": {
      "text/html": [
       "<div>\n",
       "<style scoped>\n",
       "    .dataframe tbody tr th:only-of-type {\n",
       "        vertical-align: middle;\n",
       "    }\n",
       "\n",
       "    .dataframe tbody tr th {\n",
       "        vertical-align: top;\n",
       "    }\n",
       "\n",
       "    .dataframe thead th {\n",
       "        text-align: right;\n",
       "    }\n",
       "</style>\n",
       "<table border=\"1\" class=\"dataframe\">\n",
       "  <thead>\n",
       "    <tr style=\"text-align: right;\">\n",
       "      <th></th>\n",
       "      <th>timestamp</th>\n",
       "      <th>symbol</th>\n",
       "      <th>10d_ret_StandardScale_MinMax_10</th>\n",
       "    </tr>\n",
       "  </thead>\n",
       "  <tbody>\n",
       "    <tr>\n",
       "      <th>0</th>\n",
       "      <td>2020-01-02 09:30:00</td>\n",
       "      <td>000001</td>\n",
       "      <td>-5.551395</td>\n",
       "    </tr>\n",
       "    <tr>\n",
       "      <th>1</th>\n",
       "      <td>2020-01-02 09:30:00</td>\n",
       "      <td>000002</td>\n",
       "      <td>-6.203258</td>\n",
       "    </tr>\n",
       "    <tr>\n",
       "      <th>2</th>\n",
       "      <td>2020-01-02 09:30:00</td>\n",
       "      <td>000004</td>\n",
       "      <td>-5.390784</td>\n",
       "    </tr>\n",
       "    <tr>\n",
       "      <th>3</th>\n",
       "      <td>2020-01-02 09:30:00</td>\n",
       "      <td>000005</td>\n",
       "      <td>-5.142255</td>\n",
       "    </tr>\n",
       "    <tr>\n",
       "      <th>4</th>\n",
       "      <td>2020-01-02 09:30:00</td>\n",
       "      <td>000006</td>\n",
       "      <td>-5.327572</td>\n",
       "    </tr>\n",
       "    <tr>\n",
       "      <th>...</th>\n",
       "      <td>...</td>\n",
       "      <td>...</td>\n",
       "      <td>...</td>\n",
       "    </tr>\n",
       "    <tr>\n",
       "      <th>1366029</th>\n",
       "      <td>2021-06-01 09:30:00</td>\n",
       "      <td>688699</td>\n",
       "      <td>-6.236975</td>\n",
       "    </tr>\n",
       "    <tr>\n",
       "      <th>1366030</th>\n",
       "      <td>2021-06-01 09:30:00</td>\n",
       "      <td>688777</td>\n",
       "      <td>-6.432447</td>\n",
       "    </tr>\n",
       "    <tr>\n",
       "      <th>1366031</th>\n",
       "      <td>2021-06-01 09:30:00</td>\n",
       "      <td>688788</td>\n",
       "      <td>-6.486812</td>\n",
       "    </tr>\n",
       "    <tr>\n",
       "      <th>1366032</th>\n",
       "      <td>2021-06-01 09:30:00</td>\n",
       "      <td>688819</td>\n",
       "      <td>-6.124710</td>\n",
       "    </tr>\n",
       "    <tr>\n",
       "      <th>1366033</th>\n",
       "      <td>2021-06-01 09:30:00</td>\n",
       "      <td>688981</td>\n",
       "      <td>-6.088935</td>\n",
       "    </tr>\n",
       "  </tbody>\n",
       "</table>\n",
       "<p>1366034 rows × 3 columns</p>\n",
       "</div>"
      ],
      "text/plain": [
       "                  timestamp  symbol  10d_ret_StandardScale_MinMax_10\n",
       "0       2020-01-02 09:30:00  000001                        -5.551395\n",
       "1       2020-01-02 09:30:00  000002                        -6.203258\n",
       "2       2020-01-02 09:30:00  000004                        -5.390784\n",
       "3       2020-01-02 09:30:00  000005                        -5.142255\n",
       "4       2020-01-02 09:30:00  000006                        -5.327572\n",
       "...                     ...     ...                              ...\n",
       "1366029 2021-06-01 09:30:00  688699                        -6.236975\n",
       "1366030 2021-06-01 09:30:00  688777                        -6.432447\n",
       "1366031 2021-06-01 09:30:00  688788                        -6.486812\n",
       "1366032 2021-06-01 09:30:00  688819                        -6.124710\n",
       "1366033 2021-06-01 09:30:00  688981                        -6.088935\n",
       "\n",
       "[1366034 rows x 3 columns]"
      ]
     },
     "execution_count": 51,
     "metadata": {},
     "output_type": "execute_result"
    }
   ],
   "source": [
    "data_loader.feature_data.columns = [target]\n",
    "data_loader.feature_data.reset_index(inplace=True)\n",
    "data_loader.feature_data.rename(columns = {\"ticker\":\"symbol\"},inplace=True)\n",
    "data_loader.feature_data"
   ]
  },
  {
   "cell_type": "code",
   "execution_count": 52,
   "id": "3f9cb4a7",
   "metadata": {
    "ExecuteTime": {
     "end_time": "2022-01-11T11:30:17.991888Z",
     "start_time": "2022-01-11T11:30:13.053504Z"
    }
   },
   "outputs": [],
   "source": [
    "from Platform.utils.persistence import convert_to_standard_daily_feature_csv, convert_to_standard_daily_feature_par\n",
    "output_path = r'/home/wuwenjun/factor_lib/ti0/wuwenjun'\n",
    "convert_to_standard_daily_feature_csv(target, data_loader.feature_data, output_path)"
   ]
  },
  {
   "cell_type": "code",
   "execution_count": 58,
   "id": "df8c42d1",
   "metadata": {
    "ExecuteTime": {
     "end_time": "2022-01-11T11:46:16.591345Z",
     "start_time": "2022-01-11T11:38:26.196970Z"
    }
   },
   "outputs": [
    {
     "name": "stdout",
     "output_type": "stream",
     "text": [
      "Loading the configuration from /home/ShareFolder/lgc/Modules/Research/config/feature_bt_template\n",
      "['COV_open_high_10', 'COV_high_close_10', 'COV_high_low_10', 'COV_open_free_turnover_10', 'COV_open_turnover_10', 'COV_low_turnover_10', 'COV_low_pct_chg_10', 'COV_low_volume_10', 'COV_low_vwap_10', 'COV_low_close_10', 'COV_high_free_turnover_10', 'COV_high_turnover_10', 'COV_high_pct_chg_10', 'COV_high_volume_10', 'COV_high_vwap_10', 'COV_open_pct_chg_10', 'COV_open_volume_10', 'COV_open_vwap_10', 'COV_turnover_free_turnover_10', 'COV_pct_chg_free_turnover_10', 'COV_pct_chg_turnover_10', 'COV_volume_free_turnover_10', 'COV_volume_turnover_10', 'COV_volume_pct_chg_10', 'COV_vwap_free_turnover_10', 'COV_vwap_turnover_10', 'COV_vwap_pct_chg_10', 'COV_vwap_volume_10', 'COV_close_free_turnover_10', 'COV_close_turnover_10', 'COV_close_pct_chg_10', 'COV_close_volume_10', 'COV_close_vwap_10', 'COV_low_free_turnover_10', 'COV_open_close_10', 'COV_open_low_10', 'STD_open_10', 'STD_free_turnover_10', 'STD_turnover_10', 'STD_pct_chg_10', 'STD_volume_10', 'STD_vwap_10', 'STD_close_10', 'STD_low_10', 'STD_high_10', 'CORR_open_high_10', 'CORR_turnover_free_turnover_10', 'CORR_pct_chg_free_turnover_10', 'CORR_pct_chg_turnover_10', 'CORR_volume_free_turnover_10', 'CORR_volume_turnover_10', 'CORR_volume_pct_chg_10', 'CORR_vwap_free_turnover_10', 'CORR_vwap_turnover_10', 'CORR_vwap_pct_chg_10', 'CORR_vwap_volume_10', 'CORR_close_free_turnover_10', 'CORR_close_turnover_10', 'CORR_close_pct_chg_10', 'CORR_close_volume_10', 'CORR_close_vwap_10', 'CORR_low_free_turnover_10', 'CORR_low_turnover_10', 'CORR_low_pct_chg_10', 'CORR_low_volume_10', 'CORR_low_vwap_10', 'CORR_low_close_10', 'CORR_high_free_turnover_10', 'CORR_high_turnover_10', 'CORR_high_pct_chg_10', 'CORR_high_volume_10', 'CORR_high_vwap_10', 'CORR_high_close_10', 'CORR_high_low_10', 'CORR_open_free_turnover_10', 'CORR_open_turnover_10', 'CORR_open_pct_chg_10', 'CORR_open_volume_10', 'CORR_open_vwap_10', 'CORR_open_close_10', 'CORR_open_low_10', 'ZSCORE_open_10', 'ZSCORE_free_turnover_10', 'ZSCORE_turnover_10', 'ZSCORE_pct_chg_10', 'ZSCORE_volume_10', 'ZSCORE_vwap_10', 'ZSCORE_close_10', 'ZSCORE_low_10', 'ZSCORE_high_10', 'mstd', 'mco']\n"
     ]
    },
    {
     "name": "stderr",
     "output_type": "stream",
     "text": [
      "Loading Feature...: 100%|████████████████████████████████████████████████████████████████████████████████████| 143428/143428 [04:48<00:00, 497.75it/s]\n"
     ]
    },
    {
     "data": {
      "text/plain": [
       "(                            COV_open_high_10  ...        mco\n",
       " timestamp           ticker                    ...           \n",
       " 2016-01-15 09:30:00 600652         48.604900  ...  48.604900\n",
       "                     600651         11.628838  ...  11.628838\n",
       "                     600653          4.200676  ...   4.200676\n",
       "                     600601          1.395313  ...   1.395313\n",
       "                     600611          0.077647  ...   0.077647\n",
       " ...                                      ...  ...        ...\n",
       " 2021-05-31 09:30:00 300479         -0.040684  ...  -0.040684\n",
       "                     300162         -0.040706  ...  -0.040706\n",
       "                     300257         -0.040730  ...  -0.040730\n",
       "                     300196         -0.040863  ...  -0.040863\n",
       "                     688027         -0.040965  ...  -0.040965\n",
       " \n",
       " [4229284 rows x 92 columns],\n",
       " None)"
      ]
     },
     "execution_count": 58,
     "metadata": {},
     "output_type": "execute_result"
    }
   ],
   "source": [
    "import time\n",
    "from Research.backtest.bt import BTDaily\n",
    "from Research.feature.ft import FeatureAnalysis\n",
    "import Research.utils.namespace as namespace\n",
    "import Research.utils.normalization as norm\n",
    "import numpy as np\n",
    "config_path = r'/home/ShareFolder/lgc/Modules/Research/config/feature_bt_template'\n",
    "print('Loading the configuration from ' + config_path)\n",
    "configs = namespace.load_namespace(config_path)\n",
    "FT = FeatureAnalysis(configs, feature_path=r\"/home/ShareFolder/feature_platform/\")\n",
    "alpha_list = list(FT.features_in_path.keys())\n",
    "print(alpha_list)\n",
    "start_date = '2015-01-01'\n",
    "end_date = '2021-06-01'\n",
    "FT.load_feature_from_file(alpha_list, start_date, end_date, universe='Investable',\n",
    "                                       timedelta=None, transformer=norm.standard_scale)"
   ]
  },
  {
   "cell_type": "code",
   "execution_count": 61,
   "id": "8f2bbd0e",
   "metadata": {
    "ExecuteTime": {
     "end_time": "2022-01-11T11:56:01.114854Z",
     "start_time": "2022-01-11T11:56:01.109410Z"
    }
   },
   "outputs": [],
   "source": [
    "from AlphaNet.Data import con"
   ]
  },
  {
   "cell_type": "code",
   "execution_count": 60,
   "id": "90ce278d",
   "metadata": {
    "ExecuteTime": {
     "end_time": "2022-01-11T11:47:01.827504Z",
     "start_time": "2022-01-11T11:47:01.818765Z"
    }
   },
   "outputs": [
    {
     "data": {
      "text/plain": [
       "92"
      ]
     },
     "execution_count": 60,
     "metadata": {},
     "output_type": "execute_result"
    }
   ],
   "source": [
    "    pool = mp.Pool(10)\n",
    "    result = {}\n",
    "    t1 = time.time()\n",
    "    grouped = df.groupby(\"ticker\")\n",
    "    for ticker , one_data in tqdm(grouped):\n",
    "        result[ticker] = (pool.apply_async(test, args=(one_data,)))   #维持执行的进程总数为10，当一个进程执行完后启动一个新进程.\n",
    "    pool.close()\n",
    "    pool.join()\n",
    "    t2 = time.time()\n",
    "    print(\"并行执行时间：\", int(t2 - t1))\n",
    "    df_list = []\n",
    "    for i in tqdm(result):\n",
    "        df_list.append(result[i].get())\n",
    "    final_df = pd.concat(df_list)\n",
    "final_df"
   ]
  },
  {
   "cell_type": "code",
   "execution_count": 17,
   "id": "c42927b0",
   "metadata": {
    "ExecuteTime": {
     "end_time": "2022-01-11T12:04:53.175416Z",
     "start_time": "2022-01-11T12:04:53.163047Z"
    }
   },
   "outputs": [
    {
     "data": {
      "text/plain": [
       "Int64Index([2, 2, 2], dtype='int64', name=0)"
      ]
     },
     "execution_count": 17,
     "metadata": {},
     "output_type": "execute_result"
    }
   ],
   "source": [
    "import pandas as pd \n",
    "a = pd.DataFrame([[2,2,3],[2,2,3],[2,2,3]]).set_index([0])\n",
    "a.index"
   ]
  },
  {
   "cell_type": "code",
   "execution_count": 22,
   "id": "31ff6271",
   "metadata": {
    "ExecuteTime": {
     "end_time": "2022-01-11T12:07:45.599098Z",
     "start_time": "2022-01-11T12:07:45.591321Z"
    }
   },
   "outputs": [
    {
     "data": {
      "text/plain": [
       "1"
      ]
     },
     "execution_count": 22,
     "metadata": {},
     "output_type": "execute_result"
    }
   ],
   "source": [
    "len(list(a.index.names))"
   ]
  }
 ],
 "metadata": {
  "kernelspec": {
   "display_name": "Python 3 (ipykernel)",
   "language": "python",
   "name": "python3"
  },
  "language_info": {
   "codemirror_mode": {
    "name": "ipython",
    "version": 3
   },
   "file_extension": ".py",
   "mimetype": "text/x-python",
   "name": "python",
   "nbconvert_exporter": "python",
   "pygments_lexer": "ipython3",
   "version": "3.7.9"
  }
 },
 "nbformat": 4,
 "nbformat_minor": 5
}
