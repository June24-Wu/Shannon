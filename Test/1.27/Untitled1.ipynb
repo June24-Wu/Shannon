{
 "cells": [
  {
   "cell_type": "code",
   "execution_count": 1,
   "id": "d8a37207",
   "metadata": {
    "ExecuteTime": {
     "end_time": "2022-01-28T01:15:36.246802Z",
     "start_time": "2022-01-28T01:15:35.846656Z"
    }
   },
   "outputs": [],
   "source": [
    "import pandas as pd \n",
    "import numpy as np\n",
    "import datetime"
   ]
  },
  {
   "cell_type": "code",
   "execution_count": 6,
   "id": "3f157883",
   "metadata": {
    "ExecuteTime": {
     "end_time": "2022-01-28T01:16:39.517387Z",
     "start_time": "2022-01-28T01:16:39.514291Z"
    }
   },
   "outputs": [],
   "source": [
    "t1 = (datetime.datetime.utcnow() + datetime.timedelta(hours=8)).strftime('%m-%d_%H:%M_')"
   ]
  },
  {
   "cell_type": "code",
   "execution_count": 9,
   "id": "f30212b7",
   "metadata": {
    "ExecuteTime": {
     "end_time": "2022-01-28T01:19:06.918433Z",
     "start_time": "2022-01-28T01:19:06.909772Z"
    }
   },
   "outputs": [
    {
     "data": {
      "text/plain": [
       "'_09:19'"
      ]
     },
     "execution_count": 9,
     "metadata": {},
     "output_type": "execute_result"
    }
   ],
   "source": [
    "t2 = (datetime.datetime.utcnow() + datetime.timedelta(hours=8)).strftime('_%H:%M')\n",
    "t2"
   ]
  },
  {
   "cell_type": "code",
   "execution_count": 16,
   "id": "48244510",
   "metadata": {
    "ExecuteTime": {
     "end_time": "2022-01-28T01:45:04.581518Z",
     "start_time": "2022-01-28T01:45:04.577623Z"
    }
   },
   "outputs": [
    {
     "data": {
      "text/plain": [
       "'_09:45 || 01-28'"
      ]
     },
     "execution_count": 16,
     "metadata": {},
     "output_type": "execute_result"
    }
   ],
   "source": [
    "(datetime.datetime.utcnow() + datetime.timedelta(hours=8)).strftime('_%H:%M || %m-%d')"
   ]
  },
  {
   "cell_type": "code",
   "execution_count": 26,
   "id": "799bc95b",
   "metadata": {
    "ExecuteTime": {
     "end_time": "2022-01-28T01:48:48.434431Z",
     "start_time": "2022-01-28T01:48:48.429547Z"
    }
   },
   "outputs": [
    {
     "data": {
      "text/plain": [
       "'cuda:0 : 09:48'"
      ]
     },
     "execution_count": 26,
     "metadata": {},
     "output_type": "execute_result"
    }
   ],
   "source": [
    "t1 = (datetime.datetime.utcnow() + datetime.timedelta(hours=8)).strftime('%H:%M')\n",
    "t2 = (datetime.datetime.utcnow() + datetime.timedelta(hours=8)).strftime('%H:%M | %m-%d')\n",
    "device = \"cuda:0\"\n",
    "device + \" : \"+ t1 "
   ]
  },
  {
   "cell_type": "code",
   "execution_count": 27,
   "id": "75abb4d6",
   "metadata": {
    "ExecuteTime": {
     "end_time": "2022-01-28T01:48:50.247017Z",
     "start_time": "2022-01-28T01:48:50.243574Z"
    }
   },
   "outputs": [
    {
     "data": {
      "text/plain": [
       "'Finish: 09:48_09:48 | 01-28'"
      ]
     },
     "execution_count": 27,
     "metadata": {},
     "output_type": "execute_result"
    }
   ],
   "source": [
    "\"Finish: \" + t1 + \"_\"+ t2"
   ]
  }
 ],
 "metadata": {
  "kernelspec": {
   "display_name": "Python 3 (ipykernel)",
   "language": "python",
   "name": "python3"
  },
  "language_info": {
   "codemirror_mode": {
    "name": "ipython",
    "version": 3
   },
   "file_extension": ".py",
   "mimetype": "text/x-python",
   "name": "python",
   "nbconvert_exporter": "python",
   "pygments_lexer": "ipython3",
   "version": "3.7.9"
  }
 },
 "nbformat": 4,
 "nbformat_minor": 5
}
