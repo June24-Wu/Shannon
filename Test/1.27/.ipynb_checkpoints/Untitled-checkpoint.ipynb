{
 "cells": [
  {
   "cell_type": "code",
   "execution_count": 2,
   "id": "1c137f8c",
   "metadata": {
    "ExecuteTime": {
     "end_time": "2022-01-27T08:39:43.535339Z",
     "start_time": "2022-01-27T08:39:43.532332Z"
    }
   },
   "outputs": [],
   "source": [
    "alpha_name = \"AlphaNet_8Input_corr_filter\"\n",
    "shift = 1\n",
    "sequence = 20\n",
    "target = \"10dRet\"\n",
    "LR = [0.001,0.00001,0.0000001]\n",
    "epoch_num = [30,30,30]\n",
    "universe = \"Investable\"\n",
    "output_path = \"/home/wuwenjun/Data/\""
   ]
  },
  {
   "cell_type": "code",
   "execution_count": 3,
   "id": "19c3531a",
   "metadata": {
    "ExecuteTime": {
     "end_time": "2022-01-27T08:39:43.543305Z",
     "start_time": "2022-01-27T08:39:43.537314Z"
    }
   },
   "outputs": [],
   "source": [
    "task_info = np.load(\"/home/ShareFolder/feature_platform/ti0/wuwenjun/#Factor_Description/Task.npy\",allow_pickle=True).item()\n",
    "alpha_list = task_info[\"Factor\"].loc[8,\"alpha_list\"]"
   ]
  },
  {
   "cell_type": "code",
   "execution_count": 1,
   "id": "d20b85f8",
   "metadata": {
    "ExecuteTime": {
     "end_time": "2022-01-27T08:39:43.530203Z",
     "start_time": "2022-01-27T08:39:40.979013Z"
    }
   },
   "outputs": [
    {
     "name": "stdout",
     "output_type": "stream",
     "text": [
      "Loading the configuration from /home/ShareFolder/lgc/Modules/Research/config/feature_bt_template\n"
     ]
    }
   ],
   "source": [
    "import time\n",
    "import datetime\n",
    "import os\n",
    "from Research.backtest.bt import BTDaily\n",
    "import matplotlib.pyplot as plt\n",
    "from Research.feature.ft import FeatureAnalysis\n",
    "import Research.utils.namespace as namespace\n",
    "import Research.utils.normalization as norm\n",
    "from Platform.database.mysql import MysqlAPI\n",
    "from Platform.utils.persistence import convert_to_standard_daily_feature_csv, convert_to_standard_daily_feature_par\n",
    "from Platform.config.mysql_info import FACTOR_LIB_MYSQL_TIO\n",
    "import DataAPI\n",
    "from os import walk\n",
    "import pandas as pd\n",
    "import numpy as np\n",
    "import torch\n",
    "import torch.nn as nn\n",
    "from progressbar import ProgressBar\n",
    "from tqdm import tqdm\n",
    "import multiprocessing as mp\n",
    "import sys\n",
    "sys.path.append(\"/home/wuwenjun/jupyter_code/Shannon/AlphaNet/packages/\")\n",
    "import AlphaNet\n",
    "from AlphaNet.Data import concat_original_data , generate_shift_data"
   ]
  },
  {
   "cell_type": "code",
   "execution_count": 4,
   "id": "b65531c5",
   "metadata": {
    "ExecuteTime": {
     "end_time": "2022-01-27T09:25:34.556778Z",
     "start_time": "2022-01-27T08:39:46.063151Z"
    }
   },
   "outputs": [
    {
     "name": "stderr",
     "output_type": "stream",
     "text": [
      "Loading Feature...: 100%|████████████████████████████████████████████████████████████████████████████████████| 115720/115720 [05:13<00:00, 368.85it/s]\n",
      "Calculating correlations...: 100%|███████████████████████████████████████████████████████████████████████████████| 1306/1306 [00:01<00:00, 721.77it/s]\n",
      "Calculating correlations...: 100%|███████████████████████████████████████████████████████████████████████████████| 1306/1306 [00:01<00:00, 735.94it/s]\n",
      "Calculating correlations...: 100%|███████████████████████████████████████████████████████████████████████████████| 1306/1306 [00:01<00:00, 656.15it/s]\n"
     ]
    },
    {
     "name": "stdout",
     "output_type": "stream",
     "text": [
      "delete [COV_div_open_close_div_vwap_close_10] because of 83 [COV_div_open_close_div_low_close_10]\n"
     ]
    },
    {
     "name": "stderr",
     "output_type": "stream",
     "text": [
      "Calculating correlations...: 100%|███████████████████████████████████████████████████████████████████████████████| 1306/1306 [00:02<00:00, 636.73it/s]\n",
      "Calculating correlations...: 100%|███████████████████████████████████████████████████████████████████████████████| 1306/1306 [00:01<00:00, 699.16it/s]\n",
      "Calculating correlations...: 100%|███████████████████████████████████████████████████████████████████████████████| 1306/1306 [00:02<00:00, 643.25it/s]\n"
     ]
    },
    {
     "name": "stdout",
     "output_type": "stream",
     "text": [
      "delete [COV_div_open_close_turnover_10] because of 89 [COV_div_open_close_volume_sqrt_10]\n"
     ]
    },
    {
     "name": "stderr",
     "output_type": "stream",
     "text": [
      "Calculating correlations...: 100%|███████████████████████████████████████████████████████████████████████████████| 1306/1306 [00:02<00:00, 610.91it/s]\n",
      "Calculating correlations...: 100%|███████████████████████████████████████████████████████████████████████████████| 1306/1306 [00:02<00:00, 593.17it/s]\n",
      "Calculating correlations...: 100%|███████████████████████████████████████████████████████████████████████████████| 1306/1306 [00:02<00:00, 589.28it/s]\n"
     ]
    },
    {
     "name": "stdout",
     "output_type": "stream",
     "text": [
      "delete [COV_div_high_close_div_vwap_close_10] because of 84 [COV_div_open_close_div_high_close_10]\n"
     ]
    },
    {
     "name": "stderr",
     "output_type": "stream",
     "text": [
      "Calculating correlations...: 100%|███████████████████████████████████████████████████████████████████████████████| 1306/1306 [00:02<00:00, 537.14it/s]\n",
      "Calculating correlations...: 100%|███████████████████████████████████████████████████████████████████████████████| 1306/1306 [00:02<00:00, 480.51it/s]\n",
      "Calculating correlations...: 100%|███████████████████████████████████████████████████████████████████████████████| 1306/1306 [00:02<00:00, 523.10it/s]\n"
     ]
    },
    {
     "name": "stdout",
     "output_type": "stream",
     "text": [
      "delete [COV_div_high_close_turnover_10] because of 87 [COV_div_high_close_volume_sqrt_10]\n"
     ]
    },
    {
     "name": "stderr",
     "output_type": "stream",
     "text": [
      "Calculating correlations...: 100%|███████████████████████████████████████████████████████████████████████████████| 1306/1306 [00:02<00:00, 528.01it/s]\n",
      "Calculating correlations...: 100%|███████████████████████████████████████████████████████████████████████████████| 1306/1306 [00:02<00:00, 502.84it/s]\n"
     ]
    },
    {
     "name": "stdout",
     "output_type": "stream",
     "text": [
      "delete [COV_div_low_close_div_vwap_close_10] because of 87 [COV_div_open_close_div_low_close_10]\n"
     ]
    },
    {
     "name": "stderr",
     "output_type": "stream",
     "text": [
      "Calculating correlations...: 100%|███████████████████████████████████████████████████████████████████████████████| 1306/1306 [00:02<00:00, 521.46it/s]\n",
      "Calculating correlations...: 100%|███████████████████████████████████████████████████████████████████████████████| 1306/1306 [00:02<00:00, 496.17it/s]\n"
     ]
    },
    {
     "name": "stdout",
     "output_type": "stream",
     "text": [
      "delete [COV_div_low_close_pct_chg_10] because of 86 [COV_div_open_close_pct_chg_10]\n"
     ]
    },
    {
     "name": "stderr",
     "output_type": "stream",
     "text": [
      "Calculating correlations...: 100%|███████████████████████████████████████████████████████████████████████████████| 1306/1306 [00:02<00:00, 525.57it/s]\n"
     ]
    },
    {
     "name": "stdout",
     "output_type": "stream",
     "text": [
      "delete [COV_div_low_close_turnover_10] because of 85 [COV_div_low_close_volume_sqrt_10]\n"
     ]
    },
    {
     "name": "stderr",
     "output_type": "stream",
     "text": [
      "Calculating correlations...: 100%|███████████████████████████████████████████████████████████████████████████████| 1306/1306 [00:02<00:00, 478.24it/s]\n",
      "Calculating correlations...: 100%|███████████████████████████████████████████████████████████████████████████████| 1306/1306 [00:02<00:00, 458.81it/s]\n",
      "Calculating correlations...: 100%|███████████████████████████████████████████████████████████████████████████████| 1306/1306 [00:02<00:00, 445.98it/s]\n",
      "Calculating correlations...: 100%|███████████████████████████████████████████████████████████████████████████████| 1306/1306 [00:02<00:00, 453.73it/s]\n"
     ]
    },
    {
     "name": "stdout",
     "output_type": "stream",
     "text": [
      "delete [COV_close_turnover_10] because of 91 [COV_close_volume_sqrt_10]\n"
     ]
    },
    {
     "name": "stderr",
     "output_type": "stream",
     "text": [
      "Calculating correlations...: 100%|███████████████████████████████████████████████████████████████████████████████| 1306/1306 [00:03<00:00, 434.69it/s]\n",
      "Calculating correlations...: 100%|███████████████████████████████████████████████████████████████████████████████| 1306/1306 [00:03<00:00, 417.72it/s]\n"
     ]
    },
    {
     "name": "stdout",
     "output_type": "stream",
     "text": [
      "delete [COV_div_vwap_close_pct_chg_10] because of 89 [COV_div_open_close_pct_chg_10]\n"
     ]
    },
    {
     "name": "stderr",
     "output_type": "stream",
     "text": [
      "Calculating correlations...: 100%|███████████████████████████████████████████████████████████████████████████████| 1306/1306 [00:03<00:00, 411.55it/s]\n"
     ]
    },
    {
     "name": "stdout",
     "output_type": "stream",
     "text": [
      "delete [COV_div_vwap_close_turnover_10] because of 91 [COV_div_vwap_close_volume_sqrt_10]\n"
     ]
    },
    {
     "name": "stderr",
     "output_type": "stream",
     "text": [
      "Calculating correlations...: 100%|███████████████████████████████████████████████████████████████████████████████| 1306/1306 [00:03<00:00, 433.70it/s]\n",
      "Calculating correlations...: 100%|███████████████████████████████████████████████████████████████████████████████| 1306/1306 [00:03<00:00, 409.72it/s]\n",
      "Calculating correlations...: 100%|███████████████████████████████████████████████████████████████████████████████| 1306/1306 [00:03<00:00, 413.69it/s]\n"
     ]
    },
    {
     "name": "stdout",
     "output_type": "stream",
     "text": [
      "delete [COV_pct_chg_turnover_10] because of 88 [COV_volume_sqrt_pct_chg_10]\n"
     ]
    },
    {
     "name": "stderr",
     "output_type": "stream",
     "text": [
      "Calculating correlations...: 100%|███████████████████████████████████████████████████████████████████████████████| 1306/1306 [00:03<00:00, 362.83it/s]\n",
      "Calculating correlations...: 100%|███████████████████████████████████████████████████████████████████████████████| 1306/1306 [00:03<00:00, 381.27it/s]\n",
      "Calculating correlations...: 100%|███████████████████████████████████████████████████████████████████████████████| 1306/1306 [00:03<00:00, 369.09it/s]\n",
      "Calculating correlations...: 100%|███████████████████████████████████████████████████████████████████████████████| 1306/1306 [00:03<00:00, 360.93it/s]\n",
      "Calculating correlations...: 100%|███████████████████████████████████████████████████████████████████████████████| 1306/1306 [00:03<00:00, 348.02it/s]\n"
     ]
    },
    {
     "name": "stdout",
     "output_type": "stream",
     "text": [
      "delete [CORR_div_open_close_volume_sqrt_10] because of 86 [COV_div_open_close_volume_sqrt_10]\n"
     ]
    },
    {
     "name": "stderr",
     "output_type": "stream",
     "text": [
      "Calculating correlations...: 100%|███████████████████████████████████████████████████████████████████████████████| 1306/1306 [00:03<00:00, 333.29it/s]\n",
      "Calculating correlations...: 100%|███████████████████████████████████████████████████████████████████████████████| 1306/1306 [00:03<00:00, 335.97it/s]\n"
     ]
    },
    {
     "name": "stdout",
     "output_type": "stream",
     "text": [
      "delete [CORR_div_open_close_turnover_10] because of 86 [COV_div_open_close_volume_sqrt_10]\n"
     ]
    },
    {
     "name": "stderr",
     "output_type": "stream",
     "text": [
      "Calculating correlations...: 100%|███████████████████████████████████████████████████████████████████████████████| 1306/1306 [00:03<00:00, 329.66it/s]\n",
      "Calculating correlations...: 100%|███████████████████████████████████████████████████████████████████████████████| 1306/1306 [00:04<00:00, 315.27it/s]\n",
      "Calculating correlations...: 100%|███████████████████████████████████████████████████████████████████████████████| 1306/1306 [00:04<00:00, 307.74it/s]\n",
      "Calculating correlations...: 100%|███████████████████████████████████████████████████████████████████████████████| 1306/1306 [00:04<00:00, 310.41it/s]\n"
     ]
    },
    {
     "name": "stdout",
     "output_type": "stream",
     "text": [
      "delete [CORR_div_high_close_volume_sqrt_10] because of 83 [COV_div_high_close_volume_sqrt_10]\n"
     ]
    },
    {
     "name": "stderr",
     "output_type": "stream",
     "text": [
      "Calculating correlations...: 100%|███████████████████████████████████████████████████████████████████████████████| 1306/1306 [00:04<00:00, 296.39it/s]\n",
      "Calculating correlations...: 100%|███████████████████████████████████████████████████████████████████████████████| 1306/1306 [00:04<00:00, 300.98it/s]\n"
     ]
    },
    {
     "name": "stdout",
     "output_type": "stream",
     "text": [
      "delete [CORR_div_high_close_turnover_10] because of 82 [COV_div_high_close_volume_sqrt_10]\n"
     ]
    },
    {
     "name": "stderr",
     "output_type": "stream",
     "text": [
      "Calculating correlations...: 100%|███████████████████████████████████████████████████████████████████████████████| 1306/1306 [00:04<00:00, 312.32it/s]\n",
      "Calculating correlations...: 100%|███████████████████████████████████████████████████████████████████████████████| 1306/1306 [00:04<00:00, 277.99it/s]\n",
      "Calculating correlations...: 100%|███████████████████████████████████████████████████████████████████████████████| 1306/1306 [00:04<00:00, 287.17it/s]\n",
      "Calculating correlations...: 100%|███████████████████████████████████████████████████████████████████████████████| 1306/1306 [00:04<00:00, 268.38it/s]\n",
      "Calculating correlations...: 100%|███████████████████████████████████████████████████████████████████████████████| 1306/1306 [00:04<00:00, 265.81it/s]\n"
     ]
    },
    {
     "name": "stdout",
     "output_type": "stream",
     "text": [
      "delete [CORR_div_low_close_turnover_10] because of 99 [CORR_div_low_close_volume_sqrt_10]\n"
     ]
    },
    {
     "name": "stderr",
     "output_type": "stream",
     "text": [
      "Calculating correlations...: 100%|███████████████████████████████████████████████████████████████████████████████| 1306/1306 [00:04<00:00, 273.28it/s]\n",
      "Calculating correlations...: 100%|███████████████████████████████████████████████████████████████████████████████| 1306/1306 [00:04<00:00, 266.26it/s]\n",
      "Calculating correlations...: 100%|███████████████████████████████████████████████████████████████████████████████| 1306/1306 [00:04<00:00, 264.15it/s]\n",
      "Calculating correlations...: 100%|███████████████████████████████████████████████████████████████████████████████| 1306/1306 [00:04<00:00, 265.88it/s]\n"
     ]
    },
    {
     "name": "stdout",
     "output_type": "stream",
     "text": [
      "delete [CORR_close_turnover_10] because of 99 [CORR_close_volume_sqrt_10]\n"
     ]
    },
    {
     "name": "stderr",
     "output_type": "stream",
     "text": [
      "Calculating correlations...: 100%|███████████████████████████████████████████████████████████████████████████████| 1306/1306 [00:04<00:00, 271.42it/s]\n"
     ]
    },
    {
     "name": "stdout",
     "output_type": "stream",
     "text": [
      "delete [CORR_div_vwap_close_volume_sqrt_10] because of 89 [COV_div_vwap_close_volume_sqrt_10]\n"
     ]
    },
    {
     "name": "stderr",
     "output_type": "stream",
     "text": [
      "Calculating correlations...: 100%|███████████████████████████████████████████████████████████████████████████████| 1306/1306 [00:05<00:00, 259.53it/s]\n",
      "Calculating correlations...: 100%|███████████████████████████████████████████████████████████████████████████████| 1306/1306 [00:05<00:00, 246.51it/s]\n"
     ]
    },
    {
     "name": "stdout",
     "output_type": "stream",
     "text": [
      "delete [CORR_div_vwap_close_turnover_10] because of 89 [COV_div_vwap_close_volume_sqrt_10]\n"
     ]
    },
    {
     "name": "stderr",
     "output_type": "stream",
     "text": [
      "Calculating correlations...: 100%|███████████████████████████████████████████████████████████████████████████████| 1306/1306 [00:05<00:00, 243.23it/s]\n"
     ]
    },
    {
     "name": "stdout",
     "output_type": "stream",
     "text": [
      "delete [CORR_volume_sqrt_pct_chg_10] because of 83 [COV_volume_sqrt_pct_chg_10]\n"
     ]
    },
    {
     "name": "stderr",
     "output_type": "stream",
     "text": [
      "Calculating correlations...: 100%|███████████████████████████████████████████████████████████████████████████████| 1306/1306 [00:05<00:00, 252.54it/s]\n",
      "Calculating correlations...: 100%|███████████████████████████████████████████████████████████████████████████████| 1306/1306 [00:05<00:00, 251.36it/s]\n"
     ]
    },
    {
     "name": "stdout",
     "output_type": "stream",
     "text": [
      "delete [CORR_pct_chg_turnover_10] because of 83 [COV_volume_sqrt_pct_chg_10]\n"
     ]
    },
    {
     "name": "stderr",
     "output_type": "stream",
     "text": [
      "Calculating correlations...: 100%|███████████████████████████████████████████████████████████████████████████████| 1306/1306 [00:05<00:00, 250.88it/s]\n"
     ]
    },
    {
     "name": "stdout",
     "output_type": "stream",
     "text": [
      "delete [STD_div_open_close_10] because of 87 [COV_div_open_close_div_low_close_10]\n"
     ]
    },
    {
     "name": "stderr",
     "output_type": "stream",
     "text": [
      "Calculating correlations...: 100%|███████████████████████████████████████████████████████████████████████████████| 1306/1306 [00:05<00:00, 243.01it/s]\n"
     ]
    },
    {
     "name": "stdout",
     "output_type": "stream",
     "text": [
      "delete [STD_div_high_close_10] because of 80 [COV_div_open_close_div_high_close_10]\n"
     ]
    },
    {
     "name": "stderr",
     "output_type": "stream",
     "text": [
      "Calculating correlations...: 100%|███████████████████████████████████████████████████████████████████████████████| 1306/1306 [00:05<00:00, 252.97it/s]\n"
     ]
    },
    {
     "name": "stdout",
     "output_type": "stream",
     "text": [
      "delete [STD_div_low_close_10] because of 90 [COV_div_open_close_div_low_close_10]\n"
     ]
    },
    {
     "name": "stderr",
     "output_type": "stream",
     "text": [
      "Calculating correlations...: 100%|███████████████████████████████████████████████████████████████████████████████| 1306/1306 [00:05<00:00, 239.45it/s]\n",
      "Calculating correlations...: 100%|███████████████████████████████████████████████████████████████████████████████| 1306/1306 [00:05<00:00, 252.21it/s]\n",
      "Calculating correlations...: 100%|███████████████████████████████████████████████████████████████████████████████| 1306/1306 [00:05<00:00, 241.97it/s]\n",
      "Calculating correlations...: 100%|███████████████████████████████████████████████████████████████████████████████| 1306/1306 [00:05<00:00, 232.57it/s]\n"
     ]
    },
    {
     "name": "stdout",
     "output_type": "stream",
     "text": [
      "delete [STD_pct_chg_10] because of 83 [COV_div_open_close_div_low_close_10]\n"
     ]
    },
    {
     "name": "stderr",
     "output_type": "stream",
     "text": [
      "Calculating correlations...: 100%|███████████████████████████████████████████████████████████████████████████████| 1306/1306 [00:05<00:00, 228.90it/s]\n"
     ]
    },
    {
     "name": "stdout",
     "output_type": "stream",
     "text": [
      "delete [STD_turnover_10] because of 89 [COV_volume_sqrt_turnover_10]\n"
     ]
    },
    {
     "name": "stderr",
     "output_type": "stream",
     "text": [
      "Calculating correlations...: 100%|███████████████████████████████████████████████████████████████████████████████| 1306/1306 [00:05<00:00, 230.68it/s]\n",
      "Calculating correlations...: 100%|███████████████████████████████████████████████████████████████████████████████| 1306/1306 [00:05<00:00, 239.48it/s]\n",
      "Calculating correlations...: 100%|███████████████████████████████████████████████████████████████████████████████| 1306/1306 [00:05<00:00, 233.39it/s]\n",
      "Calculating correlations...: 100%|███████████████████████████████████████████████████████████████████████████████| 1306/1306 [00:05<00:00, 224.70it/s]\n",
      "Calculating correlations...: 100%|███████████████████████████████████████████████████████████████████████████████| 1306/1306 [00:05<00:00, 222.31it/s]\n",
      "Calculating correlations...: 100%|███████████████████████████████████████████████████████████████████████████████| 1306/1306 [00:06<00:00, 215.73it/s]\n",
      "Calculating correlations...: 100%|███████████████████████████████████████████████████████████████████████████████| 1306/1306 [00:06<00:00, 210.20it/s]\n",
      "Calculating correlations...: 100%|███████████████████████████████████████████████████████████████████████████████| 1306/1306 [00:06<00:00, 199.61it/s]\n"
     ]
    },
    {
     "name": "stdout",
     "output_type": "stream",
     "text": [
      "delete [ZSCORE_turnover_10] because of 98 [ZSCORE_volume_sqrt_10]\n"
     ]
    },
    {
     "name": "stderr",
     "output_type": "stream",
     "text": [
      "Calculating correlations...: 100%|███████████████████████████████████████████████████████████████████████████████| 1306/1306 [00:06<00:00, 211.11it/s]\n",
      "Calculating correlations...: 100%|███████████████████████████████████████████████████████████████████████████████| 1306/1306 [00:06<00:00, 200.15it/s]\n",
      "Calculating correlations...: 100%|███████████████████████████████████████████████████████████████████████████████| 1306/1306 [00:06<00:00, 202.96it/s]\n",
      "Calculating correlations...: 100%|███████████████████████████████████████████████████████████████████████████████| 1306/1306 [00:06<00:00, 198.65it/s]\n"
     ]
    },
    {
     "name": "stdout",
     "output_type": "stream",
     "text": [
      "delete [RETURN_close_10] because of 91 [ZSCORE_pct_chg_10]\n"
     ]
    },
    {
     "name": "stderr",
     "output_type": "stream",
     "text": [
      "Calculating correlations...: 100%|███████████████████████████████████████████████████████████████████████████████| 1306/1306 [00:06<00:00, 198.73it/s]\n",
      "Calculating correlations...: 100%|███████████████████████████████████████████████████████████████████████████████| 1306/1306 [00:06<00:00, 187.03it/s]\n",
      "Calculating correlations...: 100%|███████████████████████████████████████████████████████████████████████████████| 1306/1306 [00:06<00:00, 200.95it/s]\n",
      "Calculating correlations...: 100%|███████████████████████████████████████████████████████████████████████████████| 1306/1306 [00:07<00:00, 181.45it/s]\n"
     ]
    },
    {
     "name": "stdout",
     "output_type": "stream",
     "text": [
      "delete [RETURN_turnover_10] because of 99 [RETURN_volume_sqrt_10]\n"
     ]
    },
    {
     "name": "stderr",
     "output_type": "stream",
     "text": [
      "Calculating correlations...: 100%|███████████████████████████████████████████████████████████████████████████████| 1306/1306 [00:07<00:00, 183.06it/s]\n"
     ]
    },
    {
     "name": "stdout",
     "output_type": "stream",
     "text": [
      "delete [DECAY_div_open_close_10] because of 82 [ZSCORE_div_open_close_10]\n"
     ]
    },
    {
     "name": "stderr",
     "output_type": "stream",
     "text": [
      "Calculating correlations...: 100%|███████████████████████████████████████████████████████████████████████████████| 1306/1306 [00:07<00:00, 184.47it/s]\n",
      "Calculating correlations...: 100%|███████████████████████████████████████████████████████████████████████████████| 1306/1306 [00:07<00:00, 174.60it/s]\n",
      "Calculating correlations...: 100%|███████████████████████████████████████████████████████████████████████████████| 1306/1306 [00:07<00:00, 182.94it/s]\n"
     ]
    },
    {
     "name": "stdout",
     "output_type": "stream",
     "text": [
      "delete [DECAY_close_10] because of 83 [STD_close_10]\n"
     ]
    },
    {
     "name": "stderr",
     "output_type": "stream",
     "text": [
      "Calculating correlations...: 100%|███████████████████████████████████████████████████████████████████████████████| 1306/1306 [00:08<00:00, 162.89it/s]\n"
     ]
    },
    {
     "name": "stdout",
     "output_type": "stream",
     "text": [
      "delete [DECAY_div_vwap_close_10] because of 82 [ZSCORE_div_vwap_close_10]\n"
     ]
    },
    {
     "name": "stderr",
     "output_type": "stream",
     "text": [
      "Calculating correlations...: 100%|███████████████████████████████████████████████████████████████████████████████| 1306/1306 [00:08<00:00, 160.50it/s]\n"
     ]
    },
    {
     "name": "stdout",
     "output_type": "stream",
     "text": [
      "delete [DECAY_volume_sqrt_10] because of 84 [STD_volume_sqrt_10]\n"
     ]
    },
    {
     "name": "stderr",
     "output_type": "stream",
     "text": [
      "Calculating correlations...: 100%|███████████████████████████████████████████████████████████████████████████████| 1306/1306 [00:07<00:00, 168.37it/s]\n"
     ]
    },
    {
     "name": "stdout",
     "output_type": "stream",
     "text": [
      "delete [DECAY_pct_chg_10] because of 80 [ZSCORE_pct_chg_10]\n"
     ]
    },
    {
     "name": "stderr",
     "output_type": "stream",
     "text": [
      "Calculating correlations...: 100%|███████████████████████████████████████████████████████████████████████████████| 1306/1306 [00:07<00:00, 168.28it/s]\n",
      "100%|██████████| 1305/1305 [00:41<00:00, 31.54it/s]\n",
      "100%|██████████| 1705/1705 [00:19<00:00, 87.85it/s] \n"
     ]
    },
    {
     "name": "stdout",
     "output_type": "stream",
     "text": [
      "[19, 18, 17, 16, 15, 14, 13, 12, 11, 10, 9, 8, 7, 6, 5, 4, 3, 2, 1, 0]\n"
     ]
    },
    {
     "name": "stderr",
     "output_type": "stream",
     "text": [
      "100%|██████████| 4234/4234 [01:03<00:00, 67.13it/s] \n",
      "Loading Feature...: 100%|████████████████████████████████████████████████████████████████████████████████████████| 1705/1705 [00:04<00:00, 400.15it/s]\n",
      "100%|██████████| 1286/1286 [10:14<00:00,  2.09it/s]\n"
     ]
    }
   ],
   "source": [
    "if alpha_name not in os.listdir(output_path):\n",
    "    _ , alpha_list = concat_original_data(alpha_name=alpha_name,alpha_list=alpha_list,output_path=output_path,universe = universe,corr_filter = 0.8)\n",
    "generate_shift_data(alpha_name=alpha_name,shift=shift,sequence=sequence,target=target,data_path=output_path)\n",
    "\n",
    "# Task Generation\n",
    "task_info = np.load(\"/home/ShareFolder/feature_platform/ti0/wuwenjun/#Factor_Description/Task.npy\",allow_pickle=True).item()\n",
    "original = task_info[\"Task\"]\n",
    "# Timelist & Task\n",
    "time_list = [\"2019-01-01\",\"2019-06-01\",\"2020-01-01\",\"2020-06-01\",\"2021-01-01\",\"2021-06-01\"]\n",
    "time_list2 = []\n",
    "for i in range(len(time_list)-1):\n",
    "    time_list2.append([time_list[i],time_list[i+1]])\n",
    "time_list2 = pd.DataFrame(time_list2,columns=[\"start_date\",\"end_date\"])\n",
    "\n",
    "task = pd.DataFrame([\n",
    "                    alpha_name + \"_Shift_%i_Sequence_%i_%s\" % (shift,sequence,target),\n",
    "                    sequence,LR,epoch_num,len(alpha_list),\n",
    "                        ],index=[\"Alpha_Name\",\"sequence\",\"LR\",\"epoch_num\",\"feature_num\"]).T\n",
    "task['value']=1\n",
    "time_list2['value']=1\n",
    "task = pd.merge(task,time_list2,how='left',on='value')\n",
    "del task['value']\n",
    "task[\"status\"] = \"waiting\"\n",
    "task[\"description\"] = [{\n",
    "    \"target\" : target,\n",
    "    \"alpha_name\" : alpha_name,\n",
    "    \"alpha_list\" : alpha_list,\n",
    "    \"shift\" : shift,\n",
    "    \"sequence\" : sequence\n",
    "} for i in range(len(task))]\n",
    "task = pd.concat([original,task],axis=0)\n",
    "task.reset_index(drop=True,inplace=True)\n",
    "task.index.names = [\"task_id\"]\n",
    "task_info[\"Task\"] = task\n",
    "np.save(\"/home/ShareFolder/feature_platform/ti0/wuwenjun/#Factor_Description/Task.npy\",task_info)\n",
    "np.save(\"/home/wuwenjun/jupyter_code/Shannon/AlphaNet/Factor_Description/Task.npy\",task_info)"
   ]
  },
  {
   "cell_type": "code",
   "execution_count": null,
   "id": "8554133e",
   "metadata": {},
   "outputs": [],
   "source": []
  },
  {
   "cell_type": "code",
   "execution_count": null,
   "id": "aa2da1a2",
   "metadata": {},
   "outputs": [],
   "source": []
  },
  {
   "cell_type": "code",
   "execution_count": null,
   "id": "924a4cd6",
   "metadata": {},
   "outputs": [],
   "source": []
  },
  {
   "cell_type": "code",
   "execution_count": null,
   "id": "24f2b2a3",
   "metadata": {},
   "outputs": [],
   "source": []
  },
  {
   "cell_type": "code",
   "execution_count": null,
   "id": "a287bec7",
   "metadata": {},
   "outputs": [],
   "source": []
  },
  {
   "cell_type": "code",
   "execution_count": null,
   "id": "dd610e03",
   "metadata": {},
   "outputs": [],
   "source": []
  },
  {
   "cell_type": "code",
   "execution_count": null,
   "id": "c1603764",
   "metadata": {},
   "outputs": [],
   "source": []
  },
  {
   "cell_type": "code",
   "execution_count": null,
   "id": "a0f8f88c",
   "metadata": {},
   "outputs": [],
   "source": []
  }
 ],
 "metadata": {
  "kernelspec": {
   "display_name": "Python 3 (ipykernel)",
   "language": "python",
   "name": "python3"
  },
  "language_info": {
   "codemirror_mode": {
    "name": "ipython",
    "version": 3
   },
   "file_extension": ".py",
   "mimetype": "text/x-python",
   "name": "python",
   "nbconvert_exporter": "python",
   "pygments_lexer": "ipython3",
   "version": "3.7.9"
  }
 },
 "nbformat": 4,
 "nbformat_minor": 5
}
