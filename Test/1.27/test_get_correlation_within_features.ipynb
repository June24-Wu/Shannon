{
 "cells": [
  {
   "cell_type": "code",
   "execution_count": 1,
   "id": "9b30012d",
   "metadata": {
    "ExecuteTime": {
     "end_time": "2022-01-27T09:12:48.758691Z",
     "start_time": "2022-01-27T09:12:46.155114Z"
    }
   },
   "outputs": [
    {
     "name": "stdout",
     "output_type": "stream",
     "text": [
      "Loading the configuration from /home/ShareFolder/lgc/Modules/Research/config/feature_bt_template\n"
     ]
    }
   ],
   "source": [
    "import time\n",
    "import datetime\n",
    "import os\n",
    "from Research.backtest.bt import BTDaily\n",
    "import matplotlib.pyplot as plt\n",
    "from Research.feature.ft import FeatureAnalysis\n",
    "import Research.utils.namespace as namespace\n",
    "import Research.utils.normalization as norm\n",
    "from Platform.database.mysql import MysqlAPI\n",
    "from Platform.utils.persistence import convert_to_standard_daily_feature_csv, convert_to_standard_daily_feature_par\n",
    "from Platform.config.mysql_info import FACTOR_LIB_MYSQL_TIO\n",
    "import DataAPI\n",
    "from os import walk\n",
    "import pandas as pd\n",
    "import numpy as np\n",
    "import torch\n",
    "import torch.nn as nn\n",
    "from progressbar import ProgressBar\n",
    "from tqdm import tqdm\n",
    "import multiprocessing as mp\n",
    "import sys\n",
    "sys.path.append(\"/home/wuwenjun/jupyter_code/Shannon/AlphaNet/packages/\")\n",
    "import AlphaNet\n",
    "from AlphaNet.Data import concat_original_data , generate_shift_data , generate_alpha_list"
   ]
  },
  {
   "cell_type": "code",
   "execution_count": 7,
   "id": "6e7398dd",
   "metadata": {
    "ExecuteTime": {
     "end_time": "2022-01-27T09:16:54.963033Z",
     "start_time": "2022-01-27T09:14:48.503767Z"
    }
   },
   "outputs": [
    {
     "name": "stderr",
     "output_type": "stream",
     "text": [
      "Calculating correlations...: 100%|█████████████████████████████████████████████████████████████████████████████████| 584/584 [00:01<00:00, 295.28it/s]\n",
      "Calculating correlations...: 100%|█████████████████████████████████████████████████████████████████████████████████| 584/584 [00:02<00:00, 274.14it/s]\n",
      "Calculating correlations...: 100%|█████████████████████████████████████████████████████████████████████████████████| 584/584 [00:02<00:00, 274.36it/s]\n",
      "Calculating correlations...: 100%|█████████████████████████████████████████████████████████████████████████████████| 584/584 [00:02<00:00, 256.26it/s]\n",
      "Calculating correlations...: 100%|█████████████████████████████████████████████████████████████████████████████████| 584/584 [00:02<00:00, 258.49it/s]\n",
      "Calculating correlations...: 100%|█████████████████████████████████████████████████████████████████████████████████| 584/584 [00:02<00:00, 259.42it/s]\n",
      "Calculating correlations...: 100%|█████████████████████████████████████████████████████████████████████████████████| 584/584 [00:02<00:00, 247.43it/s]\n",
      "Calculating correlations...: 100%|█████████████████████████████████████████████████████████████████████████████████| 584/584 [00:02<00:00, 265.25it/s]\n",
      "Calculating correlations...: 100%|█████████████████████████████████████████████████████████████████████████████████| 584/584 [00:02<00:00, 256.51it/s]\n",
      "Calculating correlations...: 100%|█████████████████████████████████████████████████████████████████████████████████| 584/584 [00:02<00:00, 259.95it/s]\n",
      "Calculating correlations...: 100%|█████████████████████████████████████████████████████████████████████████████████| 584/584 [00:02<00:00, 229.02it/s]\n",
      "Calculating correlations...: 100%|█████████████████████████████████████████████████████████████████████████████████| 584/584 [00:02<00:00, 262.98it/s]\n",
      "Calculating correlations...: 100%|█████████████████████████████████████████████████████████████████████████████████| 584/584 [00:02<00:00, 269.65it/s]\n",
      "Calculating correlations...: 100%|█████████████████████████████████████████████████████████████████████████████████| 584/584 [00:02<00:00, 277.62it/s]\n",
      "Calculating correlations...: 100%|█████████████████████████████████████████████████████████████████████████████████| 584/584 [00:02<00:00, 277.54it/s]\n",
      "Calculating correlations...: 100%|█████████████████████████████████████████████████████████████████████████████████| 584/584 [00:02<00:00, 279.55it/s]\n",
      "Calculating correlations...: 100%|█████████████████████████████████████████████████████████████████████████████████| 584/584 [00:01<00:00, 292.34it/s]\n",
      "Calculating correlations...: 100%|█████████████████████████████████████████████████████████████████████████████████| 584/584 [00:02<00:00, 272.46it/s]\n",
      "Calculating correlations...: 100%|█████████████████████████████████████████████████████████████████████████████████| 584/584 [00:01<00:00, 294.39it/s]\n",
      "Calculating correlations...: 100%|█████████████████████████████████████████████████████████████████████████████████| 584/584 [00:02<00:00, 272.35it/s]\n",
      "Calculating correlations...: 100%|█████████████████████████████████████████████████████████████████████████████████| 584/584 [00:02<00:00, 285.86it/s]\n",
      "Calculating correlations...: 100%|█████████████████████████████████████████████████████████████████████████████████| 584/584 [00:02<00:00, 273.41it/s]\n",
      "Calculating correlations...: 100%|█████████████████████████████████████████████████████████████████████████████████| 584/584 [00:02<00:00, 291.51it/s]\n",
      "Calculating correlations...: 100%|█████████████████████████████████████████████████████████████████████████████████| 584/584 [00:02<00:00, 278.84it/s]\n"
     ]
    }
   ],
   "source": [
    "start_date = \"2019-01-01\"\n",
    "end_date = \"2021-06-01\"\n",
    "config_path = r'/home/ShareFolder/lgc/Modules/Research/config/feature_bt_template'\n",
    "configs = namespace.load_namespace(config_path)\n",
    "FT = FeatureAnalysis(configs, feature_path=r\"/home/ShareFolder/feature_platform\")\n",
    "FT.load_feature_from_file(c, start_date, end_date, universe='Investable',\n",
    "                          timedelta=None)\n",
    "Corr={}\n",
    "for i in c:\n",
    "    corr_table = FT.get_correlation_within_features(i, start_time=start_date , end_time=end_date )\n",
    "    Corr[i]=corr_table"
   ]
  },
  {
   "cell_type": "code",
   "execution_count": 10,
   "id": "2efbf0e2",
   "metadata": {
    "ExecuteTime": {
     "end_time": "2022-01-27T09:18:24.663697Z",
     "start_time": "2022-01-27T09:18:24.645847Z"
    }
   },
   "outputs": [
    {
     "data": {
      "text/html": [
       "<div>\n",
       "<style scoped>\n",
       "    .dataframe tbody tr th:only-of-type {\n",
       "        vertical-align: middle;\n",
       "    }\n",
       "\n",
       "    .dataframe tbody tr th {\n",
       "        vertical-align: top;\n",
       "    }\n",
       "\n",
       "    .dataframe thead th {\n",
       "        text-align: right;\n",
       "    }\n",
       "</style>\n",
       "<table border=\"1\" class=\"dataframe\">\n",
       "  <thead>\n",
       "    <tr style=\"text-align: right;\">\n",
       "      <th></th>\n",
       "      <th>correlation</th>\n",
       "    </tr>\n",
       "    <tr>\n",
       "      <th>alpha_name</th>\n",
       "      <th></th>\n",
       "    </tr>\n",
       "  </thead>\n",
       "  <tbody>\n",
       "    <tr>\n",
       "      <th>Mavg_div_open_close_5</th>\n",
       "      <td>-0.784265</td>\n",
       "    </tr>\n",
       "    <tr>\n",
       "      <th>Mavg_div_high_close_5</th>\n",
       "      <td>15.647359</td>\n",
       "    </tr>\n",
       "    <tr>\n",
       "      <th>Mavg_div_low_close_5</th>\n",
       "      <td>-15.984019</td>\n",
       "    </tr>\n",
       "    <tr>\n",
       "      <th>Mavg_div_vwap_close_5</th>\n",
       "      <td>-0.427901</td>\n",
       "    </tr>\n",
       "    <tr>\n",
       "      <th>Mavg_volume_sqrt_5</th>\n",
       "      <td>12.705794</td>\n",
       "    </tr>\n",
       "    <tr>\n",
       "      <th>Mavg_pct_chg_5</th>\n",
       "      <td>3.585269</td>\n",
       "    </tr>\n",
       "    <tr>\n",
       "      <th>Mavg_turnover_5</th>\n",
       "      <td>8.246816</td>\n",
       "    </tr>\n",
       "    <tr>\n",
       "      <th>Mavg_div_open_close_10</th>\n",
       "      <td>-2.299515</td>\n",
       "    </tr>\n",
       "    <tr>\n",
       "      <th>Mavg_div_high_close_10</th>\n",
       "      <td>16.786146</td>\n",
       "    </tr>\n",
       "    <tr>\n",
       "      <th>Mavg_div_low_close_10</th>\n",
       "      <td>-18.306924</td>\n",
       "    </tr>\n",
       "    <tr>\n",
       "      <th>Mavg_close_10</th>\n",
       "      <td>99.960957</td>\n",
       "    </tr>\n",
       "    <tr>\n",
       "      <th>Mavg_div_vwap_close_10</th>\n",
       "      <td>-1.482168</td>\n",
       "    </tr>\n",
       "    <tr>\n",
       "      <th>Mavg_volume_sqrt_10</th>\n",
       "      <td>12.684473</td>\n",
       "    </tr>\n",
       "    <tr>\n",
       "      <th>Mavg_pct_chg_10</th>\n",
       "      <td>6.646158</td>\n",
       "    </tr>\n",
       "    <tr>\n",
       "      <th>Mavg_turnover_10</th>\n",
       "      <td>7.895638</td>\n",
       "    </tr>\n",
       "    <tr>\n",
       "      <th>Mavg_div_open_close_15</th>\n",
       "      <td>-2.941522</td>\n",
       "    </tr>\n",
       "    <tr>\n",
       "      <th>Mavg_div_high_close_15</th>\n",
       "      <td>17.347478</td>\n",
       "    </tr>\n",
       "    <tr>\n",
       "      <th>Mavg_div_low_close_15</th>\n",
       "      <td>-19.175759</td>\n",
       "    </tr>\n",
       "    <tr>\n",
       "      <th>Mavg_close_15</th>\n",
       "      <td>99.902368</td>\n",
       "    </tr>\n",
       "    <tr>\n",
       "      <th>Mavg_div_vwap_close_15</th>\n",
       "      <td>-1.974603</td>\n",
       "    </tr>\n",
       "    <tr>\n",
       "      <th>Mavg_volume_sqrt_15</th>\n",
       "      <td>12.593788</td>\n",
       "    </tr>\n",
       "    <tr>\n",
       "      <th>Mavg_pct_chg_15</th>\n",
       "      <td>8.523246</td>\n",
       "    </tr>\n",
       "    <tr>\n",
       "      <th>Mavg_turnover_15</th>\n",
       "      <td>7.525010</td>\n",
       "    </tr>\n",
       "  </tbody>\n",
       "</table>\n",
       "</div>"
      ],
      "text/plain": [
       "                        correlation\n",
       "alpha_name                         \n",
       "Mavg_div_open_close_5     -0.784265\n",
       "Mavg_div_high_close_5     15.647359\n",
       "Mavg_div_low_close_5     -15.984019\n",
       "Mavg_div_vwap_close_5     -0.427901\n",
       "Mavg_volume_sqrt_5        12.705794\n",
       "Mavg_pct_chg_5             3.585269\n",
       "Mavg_turnover_5            8.246816\n",
       "Mavg_div_open_close_10    -2.299515\n",
       "Mavg_div_high_close_10    16.786146\n",
       "Mavg_div_low_close_10    -18.306924\n",
       "Mavg_close_10             99.960957\n",
       "Mavg_div_vwap_close_10    -1.482168\n",
       "Mavg_volume_sqrt_10       12.684473\n",
       "Mavg_pct_chg_10            6.646158\n",
       "Mavg_turnover_10           7.895638\n",
       "Mavg_div_open_close_15    -2.941522\n",
       "Mavg_div_high_close_15    17.347478\n",
       "Mavg_div_low_close_15    -19.175759\n",
       "Mavg_close_15             99.902368\n",
       "Mavg_div_vwap_close_15    -1.974603\n",
       "Mavg_volume_sqrt_15       12.593788\n",
       "Mavg_pct_chg_15            8.523246\n",
       "Mavg_turnover_15           7.525010"
      ]
     },
     "execution_count": 10,
     "metadata": {},
     "output_type": "execute_result"
    }
   ],
   "source": [
    "Corr['Mavg_close_5']"
   ]
  },
  {
   "cell_type": "code",
   "execution_count": 2,
   "id": "54252688",
   "metadata": {
    "ExecuteTime": {
     "end_time": "2022-01-27T09:12:50.801627Z",
     "start_time": "2022-01-27T09:12:50.796429Z"
    }
   },
   "outputs": [],
   "source": [
    "feat_list = [\n",
    "            'div_open_close','div_high_close','div_low_close','close','div_vwap_close','volume_sqrt','pct_chg','turnover']"
   ]
  },
  {
   "cell_type": "code",
   "execution_count": 3,
   "id": "644a1650",
   "metadata": {
    "ExecuteTime": {
     "end_time": "2022-01-27T09:12:51.826951Z",
     "start_time": "2022-01-27T09:12:51.819586Z"
    }
   },
   "outputs": [],
   "source": [
    "a = generate_alpha_list(feat_list=feat_list,method=[\"Mavg\"],day=5)\n",
    "b = generate_alpha_list(feat_list=feat_list,method=[\"Mavg\"],day=10)\n",
    "c = generate_alpha_list(feat_list=feat_list,method=[\"Mavg\"],day=15)\n",
    "c = a+b+c"
   ]
  },
  {
   "cell_type": "code",
   "execution_count": 4,
   "id": "3baf1ab6",
   "metadata": {
    "ExecuteTime": {
     "end_time": "2022-01-27T09:12:52.313576Z",
     "start_time": "2022-01-27T09:12:52.300148Z"
    }
   },
   "outputs": [
    {
     "data": {
      "text/plain": [
       "['Mavg_div_open_close_5',\n",
       " 'Mavg_div_high_close_5',\n",
       " 'Mavg_div_low_close_5',\n",
       " 'Mavg_close_5',\n",
       " 'Mavg_div_vwap_close_5',\n",
       " 'Mavg_volume_sqrt_5',\n",
       " 'Mavg_pct_chg_5',\n",
       " 'Mavg_turnover_5',\n",
       " 'Mavg_div_open_close_10',\n",
       " 'Mavg_div_high_close_10',\n",
       " 'Mavg_div_low_close_10',\n",
       " 'Mavg_close_10',\n",
       " 'Mavg_div_vwap_close_10',\n",
       " 'Mavg_volume_sqrt_10',\n",
       " 'Mavg_pct_chg_10',\n",
       " 'Mavg_turnover_10',\n",
       " 'Mavg_div_open_close_15',\n",
       " 'Mavg_div_high_close_15',\n",
       " 'Mavg_div_low_close_15',\n",
       " 'Mavg_close_15',\n",
       " 'Mavg_div_vwap_close_15',\n",
       " 'Mavg_volume_sqrt_15',\n",
       " 'Mavg_pct_chg_15',\n",
       " 'Mavg_turnover_15']"
      ]
     },
     "execution_count": 4,
     "metadata": {},
     "output_type": "execute_result"
    }
   ],
   "source": [
    "c"
   ]
  }
 ],
 "metadata": {
  "kernelspec": {
   "display_name": "Python 3 (ipykernel)",
   "language": "python",
   "name": "python3"
  },
  "language_info": {
   "codemirror_mode": {
    "name": "ipython",
    "version": 3
   },
   "file_extension": ".py",
   "mimetype": "text/x-python",
   "name": "python",
   "nbconvert_exporter": "python",
   "pygments_lexer": "ipython3",
   "version": "3.7.9"
  }
 },
 "nbformat": 4,
 "nbformat_minor": 5
}
