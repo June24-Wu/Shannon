{
 "cells": [
  {
   "cell_type": "code",
   "execution_count": 1,
   "id": "f63cdcd6",
   "metadata": {
    "ExecuteTime": {
     "end_time": "2022-01-27T07:52:40.861381Z",
     "start_time": "2022-01-27T07:52:37.777840Z"
    }
   },
   "outputs": [
    {
     "name": "stdout",
     "output_type": "stream",
     "text": [
      "Loading the configuration from /home/ShareFolder/lgc/Modules/Research/config/feature_bt_template\n"
     ]
    }
   ],
   "source": [
    "import os\n",
    "import sys\n",
    "\n",
    "import pandas as pd\n",
    "import numpy as np\n",
    "from Platform.config.mysql_info import FACTOR_LIB_MYSQL_TIO\n",
    "from Platform.database.mysql import MysqlAPI\n",
    "from datetime import datetime, timedelta\n",
    "\n",
    "from statsmodels.formula.api import ols\n",
    "from statsmodels.stats.anova import anova_lm\n",
    "from sklearn import metrics\n",
    "\n",
    "from Research.feature.ft import FeatureAnalysis\n",
    "from Research.utils import namespace as namespace\n",
    "from Research.utils import normalization as norm\n",
    "\n",
    "config_path = r'/home/ShareFolder/lgc/Modules/Research/config/feature_bt_template'\n",
    "print('Loading the configuration from ' + config_path)\n",
    "feature_path=r\"/home/ShareFolder/feature_platform\""
   ]
  },
  {
   "cell_type": "code",
   "execution_count": 5,
   "id": "7f050008",
   "metadata": {
    "ExecuteTime": {
     "end_time": "2022-01-27T07:54:56.733150Z",
     "start_time": "2022-01-27T07:53:55.758857Z"
    }
   },
   "outputs": [
    {
     "name": "stderr",
     "output_type": "stream",
     "text": [
      "Loading Feature...: 100%|█████████████████████████████████████████████████████████████████████████████████████████| 1752/1752 [00:29<00:00, 60.04it/s]\n"
     ]
    },
    {
     "data": {
      "text/html": [
       "<div>\n",
       "<style scoped>\n",
       "    .dataframe tbody tr th:only-of-type {\n",
       "        vertical-align: middle;\n",
       "    }\n",
       "\n",
       "    .dataframe tbody tr th {\n",
       "        vertical-align: top;\n",
       "    }\n",
       "\n",
       "    .dataframe thead th {\n",
       "        text-align: right;\n",
       "    }\n",
       "</style>\n",
       "<table border=\"1\" class=\"dataframe\">\n",
       "  <thead>\n",
       "    <tr style=\"text-align: right;\">\n",
       "      <th></th>\n",
       "      <th></th>\n",
       "      <th>COV_open_high_10</th>\n",
       "      <th>COV_high_close_10</th>\n",
       "      <th>COV_high_low_10</th>\n",
       "    </tr>\n",
       "    <tr>\n",
       "      <th>timestamp</th>\n",
       "      <th>ticker</th>\n",
       "      <th></th>\n",
       "      <th></th>\n",
       "      <th></th>\n",
       "    </tr>\n",
       "  </thead>\n",
       "  <tbody>\n",
       "    <tr>\n",
       "      <th rowspan=\"5\" valign=\"top\">2019-01-17 09:30:00</th>\n",
       "      <th>600652</th>\n",
       "      <td>46.530039</td>\n",
       "      <td>-11.015658</td>\n",
       "      <td>11.782406</td>\n",
       "    </tr>\n",
       "    <tr>\n",
       "      <th>600653</th>\n",
       "      <td>27.579905</td>\n",
       "      <td>45.782908</td>\n",
       "      <td>47.433174</td>\n",
       "    </tr>\n",
       "    <tr>\n",
       "      <th>600651</th>\n",
       "      <td>18.310132</td>\n",
       "      <td>21.893643</td>\n",
       "      <td>24.260409</td>\n",
       "    </tr>\n",
       "    <tr>\n",
       "      <th>600601</th>\n",
       "      <td>13.597187</td>\n",
       "      <td>26.312377</td>\n",
       "      <td>21.046899</td>\n",
       "    </tr>\n",
       "    <tr>\n",
       "      <th>000651</th>\n",
       "      <td>2.200963</td>\n",
       "      <td>4.881275</td>\n",
       "      <td>3.826755</td>\n",
       "    </tr>\n",
       "    <tr>\n",
       "      <th>...</th>\n",
       "      <th>...</th>\n",
       "      <td>...</td>\n",
       "      <td>...</td>\n",
       "      <td>...</td>\n",
       "    </tr>\n",
       "    <tr>\n",
       "      <th rowspan=\"5\" valign=\"top\">2021-05-19 09:30:00</th>\n",
       "      <th>000677</th>\n",
       "      <td>-0.053591</td>\n",
       "      <td>-0.053336</td>\n",
       "      <td>-0.051470</td>\n",
       "    </tr>\n",
       "    <tr>\n",
       "      <th>300730</th>\n",
       "      <td>-0.053598</td>\n",
       "      <td>-0.053284</td>\n",
       "      <td>-0.051442</td>\n",
       "    </tr>\n",
       "    <tr>\n",
       "      <th>300683</th>\n",
       "      <td>-0.053669</td>\n",
       "      <td>-0.052797</td>\n",
       "      <td>-0.051505</td>\n",
       "    </tr>\n",
       "    <tr>\n",
       "      <th>300940</th>\n",
       "      <td>-0.053745</td>\n",
       "      <td>-0.052926</td>\n",
       "      <td>-0.051446</td>\n",
       "    </tr>\n",
       "    <tr>\n",
       "      <th>300391</th>\n",
       "      <td>-0.053866</td>\n",
       "      <td>-0.052915</td>\n",
       "      <td>-0.051596</td>\n",
       "    </tr>\n",
       "  </tbody>\n",
       "</table>\n",
       "<p>2108534 rows × 3 columns</p>\n",
       "</div>"
      ],
      "text/plain": [
       "                            COV_open_high_10  COV_high_close_10  \\\n",
       "timestamp           ticker                                        \n",
       "2019-01-17 09:30:00 600652         46.530039         -11.015658   \n",
       "                    600653         27.579905          45.782908   \n",
       "                    600651         18.310132          21.893643   \n",
       "                    600601         13.597187          26.312377   \n",
       "                    000651          2.200963           4.881275   \n",
       "...                                      ...                ...   \n",
       "2021-05-19 09:30:00 000677         -0.053591          -0.053336   \n",
       "                    300730         -0.053598          -0.053284   \n",
       "                    300683         -0.053669          -0.052797   \n",
       "                    300940         -0.053745          -0.052926   \n",
       "                    300391         -0.053866          -0.052915   \n",
       "\n",
       "                            COV_high_low_10  \n",
       "timestamp           ticker                   \n",
       "2019-01-17 09:30:00 600652        11.782406  \n",
       "                    600653        47.433174  \n",
       "                    600651        24.260409  \n",
       "                    600601        21.046899  \n",
       "                    000651         3.826755  \n",
       "...                                     ...  \n",
       "2021-05-19 09:30:00 000677        -0.051470  \n",
       "                    300730        -0.051442  \n",
       "                    300683        -0.051505  \n",
       "                    300940        -0.051446  \n",
       "                    300391        -0.051596  \n",
       "\n",
       "[2108534 rows x 3 columns]"
      ]
     },
     "execution_count": 5,
     "metadata": {},
     "output_type": "execute_result"
    }
   ],
   "source": [
    "start_time = \"2019-01-01\"\n",
    "end_time = \"2021-06-01\"\n",
    "configs = namespace.load_namespace(config_path)\n",
    "FT = FeatureAnalysis(configs, feature_path=feature_path)\n",
    "alpha_list = list(FT.features_in_path.keys())[:3]\n",
    "FT = FeatureAnalysis(configs, feature_path=feature_path)\n",
    "a = FT.load_feature_from_file(alpha_list, start_time, end_time, universe='Investable',\n",
    "                          timedelta=None, transformer=norm.standard_scale)[0]\n",
    "a"
   ]
  },
  {
   "cell_type": "code",
   "execution_count": 6,
   "id": "2d4f3eda",
   "metadata": {
    "ExecuteTime": {
     "end_time": "2022-01-27T07:54:58.002587Z",
     "start_time": "2022-01-27T07:54:57.838652Z"
    }
   },
   "outputs": [
    {
     "data": {
      "text/html": [
       "<div>\n",
       "<style scoped>\n",
       "    .dataframe tbody tr th:only-of-type {\n",
       "        vertical-align: middle;\n",
       "    }\n",
       "\n",
       "    .dataframe tbody tr th {\n",
       "        vertical-align: top;\n",
       "    }\n",
       "\n",
       "    .dataframe thead th {\n",
       "        text-align: right;\n",
       "    }\n",
       "</style>\n",
       "<table border=\"1\" class=\"dataframe\">\n",
       "  <thead>\n",
       "    <tr style=\"text-align: right;\">\n",
       "      <th></th>\n",
       "      <th></th>\n",
       "      <th>COV_open_high_10</th>\n",
       "      <th>COV_high_close_10</th>\n",
       "      <th>COV_high_low_10</th>\n",
       "    </tr>\n",
       "    <tr>\n",
       "      <th>timestamp</th>\n",
       "      <th>ticker</th>\n",
       "      <th></th>\n",
       "      <th></th>\n",
       "      <th></th>\n",
       "    </tr>\n",
       "  </thead>\n",
       "  <tbody>\n",
       "    <tr>\n",
       "      <th rowspan=\"5\" valign=\"top\">2019-01-17 09:30:00</th>\n",
       "      <th>600652</th>\n",
       "      <td>46.530039</td>\n",
       "      <td>-11.015658</td>\n",
       "      <td>11.782406</td>\n",
       "    </tr>\n",
       "    <tr>\n",
       "      <th>600653</th>\n",
       "      <td>27.579905</td>\n",
       "      <td>45.782908</td>\n",
       "      <td>47.433174</td>\n",
       "    </tr>\n",
       "    <tr>\n",
       "      <th>600651</th>\n",
       "      <td>18.310132</td>\n",
       "      <td>21.893643</td>\n",
       "      <td>24.260409</td>\n",
       "    </tr>\n",
       "    <tr>\n",
       "      <th>600601</th>\n",
       "      <td>13.597187</td>\n",
       "      <td>26.312377</td>\n",
       "      <td>21.046899</td>\n",
       "    </tr>\n",
       "    <tr>\n",
       "      <th>000651</th>\n",
       "      <td>2.200963</td>\n",
       "      <td>4.881275</td>\n",
       "      <td>3.826755</td>\n",
       "    </tr>\n",
       "    <tr>\n",
       "      <th>...</th>\n",
       "      <th>...</th>\n",
       "      <td>...</td>\n",
       "      <td>...</td>\n",
       "      <td>...</td>\n",
       "    </tr>\n",
       "    <tr>\n",
       "      <th rowspan=\"5\" valign=\"top\">2021-05-19 09:30:00</th>\n",
       "      <th>000677</th>\n",
       "      <td>-0.053591</td>\n",
       "      <td>-0.053336</td>\n",
       "      <td>-0.051470</td>\n",
       "    </tr>\n",
       "    <tr>\n",
       "      <th>300730</th>\n",
       "      <td>-0.053598</td>\n",
       "      <td>-0.053284</td>\n",
       "      <td>-0.051442</td>\n",
       "    </tr>\n",
       "    <tr>\n",
       "      <th>300683</th>\n",
       "      <td>-0.053669</td>\n",
       "      <td>-0.052797</td>\n",
       "      <td>-0.051505</td>\n",
       "    </tr>\n",
       "    <tr>\n",
       "      <th>300940</th>\n",
       "      <td>-0.053745</td>\n",
       "      <td>-0.052926</td>\n",
       "      <td>-0.051446</td>\n",
       "    </tr>\n",
       "    <tr>\n",
       "      <th>300391</th>\n",
       "      <td>-0.053866</td>\n",
       "      <td>-0.052915</td>\n",
       "      <td>-0.051596</td>\n",
       "    </tr>\n",
       "  </tbody>\n",
       "</table>\n",
       "<p>2108534 rows × 3 columns</p>\n",
       "</div>"
      ],
      "text/plain": [
       "                            COV_open_high_10  COV_high_close_10  \\\n",
       "timestamp           ticker                                        \n",
       "2019-01-17 09:30:00 600652         46.530039         -11.015658   \n",
       "                    600653         27.579905          45.782908   \n",
       "                    600651         18.310132          21.893643   \n",
       "                    600601         13.597187          26.312377   \n",
       "                    000651          2.200963           4.881275   \n",
       "...                                      ...                ...   \n",
       "2021-05-19 09:30:00 000677         -0.053591          -0.053336   \n",
       "                    300730         -0.053598          -0.053284   \n",
       "                    300683         -0.053669          -0.052797   \n",
       "                    300940         -0.053745          -0.052926   \n",
       "                    300391         -0.053866          -0.052915   \n",
       "\n",
       "                            COV_high_low_10  \n",
       "timestamp           ticker                   \n",
       "2019-01-17 09:30:00 600652        11.782406  \n",
       "                    600653        47.433174  \n",
       "                    600651        24.260409  \n",
       "                    600601        21.046899  \n",
       "                    000651         3.826755  \n",
       "...                                     ...  \n",
       "2021-05-19 09:30:00 000677        -0.051470  \n",
       "                    300730        -0.051442  \n",
       "                    300683        -0.051505  \n",
       "                    300940        -0.051446  \n",
       "                    300391        -0.051596  \n",
       "\n",
       "[2108534 rows x 3 columns]"
      ]
     },
     "execution_count": 6,
     "metadata": {},
     "output_type": "execute_result"
    }
   ],
   "source": [
    "FT.feature_data"
   ]
  },
  {
   "cell_type": "code",
   "execution_count": 4,
   "id": "c5f763be",
   "metadata": {
    "ExecuteTime": {
     "end_time": "2022-01-27T07:53:44.545919Z",
     "start_time": "2022-01-27T07:53:44.457895Z"
    }
   },
   "outputs": [
    {
     "data": {
      "text/html": [
       "<div>\n",
       "<style scoped>\n",
       "    .dataframe tbody tr th:only-of-type {\n",
       "        vertical-align: middle;\n",
       "    }\n",
       "\n",
       "    .dataframe tbody tr th {\n",
       "        vertical-align: top;\n",
       "    }\n",
       "\n",
       "    .dataframe thead th {\n",
       "        text-align: right;\n",
       "    }\n",
       "</style>\n",
       "<table border=\"1\" class=\"dataframe\">\n",
       "  <thead>\n",
       "    <tr style=\"text-align: right;\">\n",
       "      <th></th>\n",
       "      <th></th>\n",
       "      <th>COV_open_high_10</th>\n",
       "      <th>COV_high_close_10</th>\n",
       "      <th>COV_high_low_10</th>\n",
       "    </tr>\n",
       "    <tr>\n",
       "      <th>timestamp</th>\n",
       "      <th>ticker</th>\n",
       "      <th></th>\n",
       "      <th></th>\n",
       "      <th></th>\n",
       "    </tr>\n",
       "  </thead>\n",
       "  <tbody>\n",
       "    <tr>\n",
       "      <th rowspan=\"5\" valign=\"top\">2019-01-02 09:30:00</th>\n",
       "      <th>600652</th>\n",
       "      <td>58.750201</td>\n",
       "      <td>58.706183</td>\n",
       "      <td>58.704452</td>\n",
       "    </tr>\n",
       "    <tr>\n",
       "      <th>600651</th>\n",
       "      <td>1.319094</td>\n",
       "      <td>2.413985</td>\n",
       "      <td>2.301378</td>\n",
       "    </tr>\n",
       "    <tr>\n",
       "      <th>600653</th>\n",
       "      <td>0.973202</td>\n",
       "      <td>1.126982</td>\n",
       "      <td>1.243730</td>\n",
       "    </tr>\n",
       "    <tr>\n",
       "      <th>600612</th>\n",
       "      <td>0.750403</td>\n",
       "      <td>0.965750</td>\n",
       "      <td>0.938054</td>\n",
       "    </tr>\n",
       "    <tr>\n",
       "      <th>600601</th>\n",
       "      <td>0.743283</td>\n",
       "      <td>0.994322</td>\n",
       "      <td>1.158616</td>\n",
       "    </tr>\n",
       "    <tr>\n",
       "      <th>...</th>\n",
       "      <th>...</th>\n",
       "      <td>...</td>\n",
       "      <td>...</td>\n",
       "      <td>...</td>\n",
       "    </tr>\n",
       "    <tr>\n",
       "      <th rowspan=\"5\" valign=\"top\">2021-05-31 09:30:00</th>\n",
       "      <th>300479</th>\n",
       "      <td>-0.040684</td>\n",
       "      <td>-0.037358</td>\n",
       "      <td>-0.038001</td>\n",
       "    </tr>\n",
       "    <tr>\n",
       "      <th>300162</th>\n",
       "      <td>-0.040706</td>\n",
       "      <td>-0.037299</td>\n",
       "      <td>-0.038031</td>\n",
       "    </tr>\n",
       "    <tr>\n",
       "      <th>300257</th>\n",
       "      <td>-0.040730</td>\n",
       "      <td>-0.035732</td>\n",
       "      <td>-0.037849</td>\n",
       "    </tr>\n",
       "    <tr>\n",
       "      <th>300196</th>\n",
       "      <td>-0.040863</td>\n",
       "      <td>-0.037468</td>\n",
       "      <td>-0.038189</td>\n",
       "    </tr>\n",
       "    <tr>\n",
       "      <th>688027</th>\n",
       "      <td>-0.040965</td>\n",
       "      <td>-0.035575</td>\n",
       "      <td>-0.037234</td>\n",
       "    </tr>\n",
       "  </tbody>\n",
       "</table>\n",
       "<p>2108534 rows × 3 columns</p>\n",
       "</div>"
      ],
      "text/plain": [
       "                            COV_open_high_10  COV_high_close_10  \\\n",
       "timestamp           ticker                                        \n",
       "2019-01-02 09:30:00 600652         58.750201          58.706183   \n",
       "                    600651          1.319094           2.413985   \n",
       "                    600653          0.973202           1.126982   \n",
       "                    600612          0.750403           0.965750   \n",
       "                    600601          0.743283           0.994322   \n",
       "...                                      ...                ...   \n",
       "2021-05-31 09:30:00 300479         -0.040684          -0.037358   \n",
       "                    300162         -0.040706          -0.037299   \n",
       "                    300257         -0.040730          -0.035732   \n",
       "                    300196         -0.040863          -0.037468   \n",
       "                    688027         -0.040965          -0.035575   \n",
       "\n",
       "                            COV_high_low_10  \n",
       "timestamp           ticker                   \n",
       "2019-01-02 09:30:00 600652        58.704452  \n",
       "                    600651         2.301378  \n",
       "                    600653         1.243730  \n",
       "                    600612         0.938054  \n",
       "                    600601         1.158616  \n",
       "...                                     ...  \n",
       "2021-05-31 09:30:00 300479        -0.038001  \n",
       "                    300162        -0.038031  \n",
       "                    300257        -0.037849  \n",
       "                    300196        -0.038189  \n",
       "                    688027        -0.037234  \n",
       "\n",
       "[2108534 rows x 3 columns]"
      ]
     },
     "execution_count": 4,
     "metadata": {},
     "output_type": "execute_result"
    }
   ],
   "source": [
    "a[0]"
   ]
  },
  {
   "cell_type": "code",
   "execution_count": 40,
   "id": "2252543a",
   "metadata": {
    "ExecuteTime": {
     "end_time": "2022-01-27T07:03:18.222631Z",
     "start_time": "2022-01-27T07:03:08.906869Z"
    }
   },
   "outputs": [
    {
     "name": "stdout",
     "output_type": "stream",
     "text": [
      "Loading the configuration from /home/ShareFolder/lgc/Modules/Research/config/feature_bt_template\n"
     ]
    }
   ],
   "source": [
    "configs = namespace.load_namespace(config_path)\n",
    "FT = FeatureAnalysis(configs, feature_path=feature_path)\n",
    "alpha_list = list(FT.features_in_path.keys())[:10]\n",
    "\n",
    "def test_get_correlation_within_features(alpha_list, start_time, end_time,bench_mark = 0.9):\n",
    "    FT = FeatureAnalysis(configs, feature_path=feature_path)\n",
    "    FT.load_feature_from_file(alpha_list, start_time, end_time, universe='Investable',\n",
    "                              timedelta=None, transformer=norm.standard_scale)\n",
    "    final_alpha_list = []\n",
    "    Corr={}\n",
    "    for i in alpha_list:\n",
    "        if final_alpha_list == []:\n",
    "            final_alpha_list.append(i)\n",
    "            continue\n",
    "        corr_table = FT.get_correlation_within_features(i, start_time=start_time , end_time=end_time,others=final_alpha_list)\n",
    "        if corr_table[\"correlation\"].max() <= abs(bench_mark * 100):\n",
    "            final_alpha_list.append(i)\n",
    "        else:\n",
    "            print(\"delete [%s] because of %d [%s]\" % (i,corr_table[\"correlation\"].max(),corr_table[\"correlation\"].idxmax()))\n",
    "    FT.feature_data = FT.feature_data[final_alpha_list]\n",
    "    return FT.feature_data , final_alpha_list"
   ]
  },
  {
   "cell_type": "code",
   "execution_count": 41,
   "id": "8ce09dc2",
   "metadata": {
    "ExecuteTime": {
     "end_time": "2022-01-27T07:04:51.297952Z",
     "start_time": "2022-01-27T07:03:18.228161Z"
    }
   },
   "outputs": [
    {
     "name": "stderr",
     "output_type": "stream",
     "text": [
      "Loading Feature...: 100%|████████████████████████████████████████████████████████████████████████████████████████| 5840/5840 [00:18<00:00, 317.21it/s]\n",
      "Calculating correlations...: 100%|█████████████████████████████████████████████████████████████████████████████████| 584/584 [00:00<00:00, 631.25it/s]\n"
     ]
    },
    {
     "name": "stdout",
     "output_type": "stream",
     "text": [
      "delete [COV_high_close_10] because of 97.70157941258859 [COV_open_high_10]\n"
     ]
    },
    {
     "name": "stderr",
     "output_type": "stream",
     "text": [
      "Calculating correlations...: 100%|█████████████████████████████████████████████████████████████████████████████████| 584/584 [00:01<00:00, 431.46it/s]\n"
     ]
    },
    {
     "name": "stdout",
     "output_type": "stream",
     "text": [
      "delete [COV_high_low_10] because of 98.77902510831888 [COV_open_high_10]\n"
     ]
    },
    {
     "name": "stderr",
     "output_type": "stream",
     "text": [
      "Calculating correlations...: 100%|█████████████████████████████████████████████████████████████████████████████████| 584/584 [00:01<00:00, 408.99it/s]\n",
      "Calculating correlations...: 100%|█████████████████████████████████████████████████████████████████████████████████| 584/584 [00:01<00:00, 504.23it/s]\n"
     ]
    },
    {
     "name": "stdout",
     "output_type": "stream",
     "text": [
      "delete [COV_open_turnover_10] because of 98.84893874398163 [COV_open_free_turnover_10]\n"
     ]
    },
    {
     "name": "stderr",
     "output_type": "stream",
     "text": [
      "Calculating correlations...: 100%|█████████████████████████████████████████████████████████████████████████████████| 584/584 [00:01<00:00, 338.52it/s]\n",
      "Calculating correlations...: 100%|█████████████████████████████████████████████████████████████████████████████████| 584/584 [00:00<00:00, 678.58it/s]\n",
      "Calculating correlations...: 100%|█████████████████████████████████████████████████████████████████████████████████| 584/584 [00:00<00:00, 617.45it/s]\n"
     ]
    },
    {
     "name": "stdout",
     "output_type": "stream",
     "text": [
      "delete [COV_low_volume_10] because of 91.06589394273156 [COV_low_turnover_10]\n"
     ]
    },
    {
     "name": "stderr",
     "output_type": "stream",
     "text": [
      "Calculating correlations...: 100%|█████████████████████████████████████████████████████████████████████████████████| 584/584 [00:00<00:00, 630.67it/s]\n"
     ]
    },
    {
     "name": "stdout",
     "output_type": "stream",
     "text": [
      "delete [COV_low_vwap_10] because of 98.19513956552414 [COV_open_high_10]\n"
     ]
    },
    {
     "name": "stderr",
     "output_type": "stream",
     "text": [
      "Calculating correlations...: 100%|█████████████████████████████████████████████████████████████████████████████████| 584/584 [00:01<00:00, 583.30it/s]\n"
     ]
    },
    {
     "name": "stdout",
     "output_type": "stream",
     "text": [
      "delete [COV_low_close_10] because of 97.67906974336621 [COV_open_high_10]\n"
     ]
    }
   ],
   "source": [
    "a , b = test_get_correlation_within_features(alpha_list,\"2019-01-01\",\"2021-06-01\")"
   ]
  },
  {
   "cell_type": "code",
   "execution_count": 20,
   "id": "4c397259",
   "metadata": {
    "ExecuteTime": {
     "end_time": "2022-01-27T06:49:11.956336Z",
     "start_time": "2022-01-27T06:49:11.947132Z"
    }
   },
   "outputs": [
    {
     "data": {
      "text/plain": [
       "['COV_open_high_10',\n",
       " 'COV_open_free_turnover_10',\n",
       " 'COV_low_turnover_10',\n",
       " 'COV_low_pct_chg_10']"
      ]
     },
     "execution_count": 20,
     "metadata": {},
     "output_type": "execute_result"
    }
   ],
   "source": [
    "a"
   ]
  },
  {
   "cell_type": "code",
   "execution_count": 29,
   "id": "f45b9053",
   "metadata": {
    "ExecuteTime": {
     "end_time": "2022-01-27T06:56:10.092381Z",
     "start_time": "2022-01-27T06:55:56.685297Z"
    }
   },
   "outputs": [
    {
     "name": "stderr",
     "output_type": "stream",
     "text": [
      "Process ForkPoolWorker-728:\n",
      "Process ForkPoolWorker-723:\n",
      "Traceback (most recent call last):\n",
      "Traceback (most recent call last):\n",
      "  File \"/usr/local/python3/lib/python3.7/multiprocessing/process.py\", line 297, in _bootstrap\n",
      "    self.run()\n",
      "  File \"/usr/local/python3/lib/python3.7/multiprocessing/process.py\", line 297, in _bootstrap\n",
      "    self.run()\n",
      "Exception ignored in: <function _releaseLock at 0x7f745e859680>\n",
      "Traceback (most recent call last):\n",
      "  File \"/usr/local/python3/lib/python3.7/logging/__init__.py\", line 221, in _releaseLock\n",
      "    def _releaseLock():\n",
      "KeyboardInterrupt\n",
      "  File \"/usr/local/python3/lib/python3.7/multiprocessing/process.py\", line 99, in run\n",
      "    self._target(*self._args, **self._kwargs)\n",
      "  File \"/usr/local/python3/lib/python3.7/multiprocessing/process.py\", line 99, in run\n",
      "    self._target(*self._args, **self._kwargs)\n",
      "  File \"/usr/local/python3/lib/python3.7/multiprocessing/pool.py\", line 110, in worker\n",
      "    task = get()\n",
      "  File \"/usr/local/python3/lib/python3.7/multiprocessing/pool.py\", line 110, in worker\n",
      "    task = get()\n",
      "  File \"/usr/local/python3/lib/python3.7/multiprocessing/queues.py\", line 351, in get\n",
      "    with self._rlock:\n",
      "  File \"/usr/local/python3/lib/python3.7/multiprocessing/synchronize.py\", line 95, in __enter__\n",
      "    return self._semlock.__enter__()\n",
      "  File \"/usr/local/python3/lib/python3.7/multiprocessing/queues.py\", line 351, in get\n",
      "    with self._rlock:\n",
      "  File \"/usr/local/python3/lib/python3.7/multiprocessing/synchronize.py\", line 95, in __enter__\n",
      "    return self._semlock.__enter__()\n",
      "KeyboardInterrupt\n",
      "KeyboardInterrupt\n",
      "Process ForkPoolWorker-726:\n",
      "Process ForkPoolWorker-751:\n",
      "Process ForkPoolWorker-719:\n",
      "Process ForkPoolWorker-717:\n",
      "Process ForkPoolWorker-737:\n",
      "Process ForkPoolWorker-707:\n",
      "Process ForkPoolWorker-747:\n",
      "Process ForkPoolWorker-750:\n",
      "Process ForkPoolWorker-706:\n",
      "Process ForkPoolWorker-740:\n",
      "Process ForkPoolWorker-754:\n",
      "Process ForkPoolWorker-757:\n",
      "Process ForkPoolWorker-759:\n",
      "Process ForkPoolWorker-736:\n",
      "Process ForkPoolWorker-708:\n",
      "Process ForkPoolWorker-716:\n",
      "Process ForkPoolWorker-742:\n",
      "Process ForkPoolWorker-739:\n",
      "Process ForkPoolWorker-725:\n",
      "Process ForkPoolWorker-748:\n",
      "Process ForkPoolWorker-734:\n",
      "Process ForkPoolWorker-745:\n",
      "Traceback (most recent call last):\n",
      "Traceback (most recent call last):\n",
      "Traceback (most recent call last):\n",
      "Traceback (most recent call last):\n",
      "Traceback (most recent call last):\n",
      "Traceback (most recent call last):\n",
      "Traceback (most recent call last):\n",
      "Traceback (most recent call last):\n",
      "Traceback (most recent call last):\n",
      "Traceback (most recent call last):\n",
      "Traceback (most recent call last):\n",
      "Traceback (most recent call last):\n",
      "Traceback (most recent call last):\n",
      "  File \"/usr/local/python3/lib/python3.7/multiprocessing/process.py\", line 297, in _bootstrap\n",
      "    self.run()\n",
      "Traceback (most recent call last):\n",
      "  File \"/usr/local/python3/lib/python3.7/multiprocessing/process.py\", line 297, in _bootstrap\n",
      "    self.run()\n",
      "  File \"/usr/local/python3/lib/python3.7/multiprocessing/process.py\", line 297, in _bootstrap\n",
      "    self.run()\n",
      "  File \"/usr/local/python3/lib/python3.7/multiprocessing/process.py\", line 297, in _bootstrap\n",
      "    self.run()\n",
      "  File \"/usr/local/python3/lib/python3.7/multiprocessing/process.py\", line 297, in _bootstrap\n",
      "    self.run()\n",
      "  File \"/usr/local/python3/lib/python3.7/multiprocessing/process.py\", line 297, in _bootstrap\n",
      "    self.run()\n",
      "  File \"/usr/local/python3/lib/python3.7/multiprocessing/process.py\", line 297, in _bootstrap\n",
      "    self.run()\n",
      "  File \"/usr/local/python3/lib/python3.7/multiprocessing/process.py\", line 297, in _bootstrap\n",
      "    self.run()\n",
      "Traceback (most recent call last):\n",
      "  File \"/usr/local/python3/lib/python3.7/multiprocessing/process.py\", line 297, in _bootstrap\n",
      "    self.run()\n",
      "  File \"/usr/local/python3/lib/python3.7/multiprocessing/process.py\", line 297, in _bootstrap\n",
      "    self.run()\n",
      "  File \"/usr/local/python3/lib/python3.7/multiprocessing/process.py\", line 297, in _bootstrap\n",
      "    self.run()\n",
      "  File \"/usr/local/python3/lib/python3.7/multiprocessing/process.py\", line 99, in run\n",
      "    self._target(*self._args, **self._kwargs)\n",
      "  File \"/usr/local/python3/lib/python3.7/multiprocessing/process.py\", line 297, in _bootstrap\n",
      "    self.run()\n",
      "  File \"/usr/local/python3/lib/python3.7/multiprocessing/process.py\", line 99, in run\n",
      "    self._target(*self._args, **self._kwargs)\n",
      "  File \"/usr/local/python3/lib/python3.7/multiprocessing/process.py\", line 99, in run\n",
      "    self._target(*self._args, **self._kwargs)\n",
      "  File \"/usr/local/python3/lib/python3.7/multiprocessing/process.py\", line 99, in run\n",
      "    self._target(*self._args, **self._kwargs)\n",
      "  File \"/usr/local/python3/lib/python3.7/multiprocessing/process.py\", line 99, in run\n",
      "    self._target(*self._args, **self._kwargs)\n",
      "  File \"/usr/local/python3/lib/python3.7/multiprocessing/process.py\", line 99, in run\n",
      "    self._target(*self._args, **self._kwargs)\n",
      "  File \"/usr/local/python3/lib/python3.7/multiprocessing/process.py\", line 99, in run\n",
      "    self._target(*self._args, **self._kwargs)\n",
      "  File \"/usr/local/python3/lib/python3.7/multiprocessing/process.py\", line 99, in run\n",
      "    self._target(*self._args, **self._kwargs)\n",
      "  File \"/usr/local/python3/lib/python3.7/multiprocessing/process.py\", line 99, in run\n",
      "    self._target(*self._args, **self._kwargs)\n",
      "  File \"/usr/local/python3/lib/python3.7/multiprocessing/process.py\", line 99, in run\n",
      "    self._target(*self._args, **self._kwargs)\n",
      "  File \"/usr/local/python3/lib/python3.7/multiprocessing/process.py\", line 99, in run\n",
      "    self._target(*self._args, **self._kwargs)\n",
      "  File \"/usr/local/python3/lib/python3.7/multiprocessing/pool.py\", line 110, in worker\n",
      "    task = get()\n",
      "  File \"/usr/local/python3/lib/python3.7/multiprocessing/process.py\", line 99, in run\n",
      "    self._target(*self._args, **self._kwargs)\n",
      "  File \"/usr/local/python3/lib/python3.7/multiprocessing/pool.py\", line 110, in worker\n",
      "    task = get()\n",
      "  File \"/usr/local/python3/lib/python3.7/multiprocessing/pool.py\", line 110, in worker\n",
      "    task = get()\n",
      "  File \"/usr/local/python3/lib/python3.7/multiprocessing/pool.py\", line 110, in worker\n",
      "    task = get()\n",
      "  File \"/usr/local/python3/lib/python3.7/multiprocessing/pool.py\", line 110, in worker\n",
      "    task = get()\n",
      "  File \"/usr/local/python3/lib/python3.7/multiprocessing/pool.py\", line 110, in worker\n",
      "    task = get()\n",
      "  File \"/usr/local/python3/lib/python3.7/multiprocessing/pool.py\", line 110, in worker\n",
      "    task = get()\n",
      "  File \"/usr/local/python3/lib/python3.7/multiprocessing/pool.py\", line 110, in worker\n",
      "    task = get()\n",
      "Traceback (most recent call last):\n",
      "Traceback (most recent call last):\n",
      "  File \"/usr/local/python3/lib/python3.7/multiprocessing/pool.py\", line 110, in worker\n",
      "    task = get()\n",
      "  File \"/usr/local/python3/lib/python3.7/multiprocessing/pool.py\", line 110, in worker\n",
      "    task = get()\n",
      "  File \"/usr/local/python3/lib/python3.7/multiprocessing/queues.py\", line 351, in get\n",
      "    with self._rlock:\n",
      "  File \"/usr/local/python3/lib/python3.7/multiprocessing/pool.py\", line 110, in worker\n",
      "    task = get()\n",
      "  File \"/usr/local/python3/lib/python3.7/multiprocessing/queues.py\", line 351, in get\n",
      "    with self._rlock:\n",
      "  File \"/usr/local/python3/lib/python3.7/multiprocessing/queues.py\", line 351, in get\n",
      "    with self._rlock:\n",
      "  File \"/usr/local/python3/lib/python3.7/multiprocessing/queues.py\", line 351, in get\n",
      "    with self._rlock:\n",
      "  File \"/usr/local/python3/lib/python3.7/multiprocessing/queues.py\", line 351, in get\n",
      "    with self._rlock:\n",
      "  File \"/usr/local/python3/lib/python3.7/multiprocessing/queues.py\", line 351, in get\n",
      "    with self._rlock:\n",
      "  File \"/usr/local/python3/lib/python3.7/multiprocessing/queues.py\", line 351, in get\n",
      "    with self._rlock:\n",
      "  File \"/usr/local/python3/lib/python3.7/multiprocessing/process.py\", line 297, in _bootstrap\n",
      "    self.run()\n",
      "  File \"/usr/local/python3/lib/python3.7/multiprocessing/queues.py\", line 351, in get\n",
      "    with self._rlock:\n",
      "  File \"/usr/local/python3/lib/python3.7/multiprocessing/process.py\", line 297, in _bootstrap\n",
      "    self.run()\n",
      "  File \"/usr/local/python3/lib/python3.7/multiprocessing/queues.py\", line 351, in get\n",
      "    with self._rlock:\n",
      "  File \"/usr/local/python3/lib/python3.7/multiprocessing/synchronize.py\", line 95, in __enter__\n",
      "    return self._semlock.__enter__()\n",
      "  File \"/usr/local/python3/lib/python3.7/multiprocessing/queues.py\", line 351, in get\n",
      "    with self._rlock:\n"
     ]
    },
    {
     "name": "stderr",
     "output_type": "stream",
     "text": [
      "  File \"/usr/local/python3/lib/python3.7/multiprocessing/synchronize.py\", line 95, in __enter__\n",
      "    return self._semlock.__enter__()\n",
      "  File \"/usr/local/python3/lib/python3.7/multiprocessing/synchronize.py\", line 95, in __enter__\n",
      "    return self._semlock.__enter__()\n",
      "  File \"/usr/local/python3/lib/python3.7/multiprocessing/synchronize.py\", line 95, in __enter__\n",
      "    return self._semlock.__enter__()\n",
      "  File \"/usr/local/python3/lib/python3.7/multiprocessing/synchronize.py\", line 95, in __enter__\n",
      "    return self._semlock.__enter__()\n",
      "  File \"/usr/local/python3/lib/python3.7/multiprocessing/synchronize.py\", line 95, in __enter__\n",
      "    return self._semlock.__enter__()\n",
      "  File \"/usr/local/python3/lib/python3.7/multiprocessing/synchronize.py\", line 95, in __enter__\n",
      "    return self._semlock.__enter__()\n",
      "  File \"/usr/local/python3/lib/python3.7/multiprocessing/synchronize.py\", line 95, in __enter__\n",
      "    return self._semlock.__enter__()\n",
      "  File \"/usr/local/python3/lib/python3.7/multiprocessing/process.py\", line 99, in run\n",
      "    self._target(*self._args, **self._kwargs)\n",
      "  File \"/usr/local/python3/lib/python3.7/multiprocessing/process.py\", line 99, in run\n",
      "    self._target(*self._args, **self._kwargs)\n",
      "  File \"/usr/local/python3/lib/python3.7/multiprocessing/synchronize.py\", line 95, in __enter__\n",
      "    return self._semlock.__enter__()\n",
      "KeyboardInterrupt\n",
      "  File \"/usr/local/python3/lib/python3.7/multiprocessing/synchronize.py\", line 95, in __enter__\n",
      "    return self._semlock.__enter__()\n",
      "KeyboardInterrupt\n",
      "KeyboardInterrupt\n",
      "KeyboardInterrupt\n",
      "KeyboardInterrupt\n",
      "KeyboardInterrupt\n",
      "KeyboardInterrupt\n",
      "Process ForkPoolWorker-749:\n",
      "Process ForkPoolWorker-743:\n",
      "  File \"/usr/local/python3/lib/python3.7/multiprocessing/pool.py\", line 110, in worker\n",
      "    task = get()\n",
      "KeyboardInterrupt\n",
      "Process ForkPoolWorker-710:\n",
      "Process ForkPoolWorker-711:\n",
      "Process ForkPoolWorker-718:\n",
      "Process ForkPoolWorker-712:\n",
      "Process ForkPoolWorker-715:\n",
      "Process ForkPoolWorker-733:\n",
      "Traceback (most recent call last):\n",
      "Traceback (most recent call last):\n",
      "  File \"/usr/local/python3/lib/python3.7/multiprocessing/queues.py\", line 351, in get\n",
      "    with self._rlock:\n",
      "Traceback (most recent call last):\n",
      "  File \"/usr/local/python3/lib/python3.7/multiprocessing/process.py\", line 297, in _bootstrap\n",
      "    self.run()\n",
      "Traceback (most recent call last):\n",
      "Traceback (most recent call last):\n",
      "  File \"/usr/local/python3/lib/python3.7/multiprocessing/process.py\", line 99, in run\n",
      "    self._target(*self._args, **self._kwargs)\n",
      "Traceback (most recent call last):\n",
      "Traceback (most recent call last):\n",
      "  File \"/usr/local/python3/lib/python3.7/multiprocessing/process.py\", line 297, in _bootstrap\n",
      "    self.run()\n",
      "  File \"/usr/local/python3/lib/python3.7/multiprocessing/synchronize.py\", line 95, in __enter__\n",
      "    return self._semlock.__enter__()\n",
      "  File \"/usr/local/python3/lib/python3.7/multiprocessing/process.py\", line 297, in _bootstrap\n",
      "    self.run()\n",
      "Traceback (most recent call last):\n",
      "  File \"/usr/local/python3/lib/python3.7/multiprocessing/process.py\", line 297, in _bootstrap\n",
      "    self.run()\n",
      "  File \"/usr/local/python3/lib/python3.7/multiprocessing/process.py\", line 297, in _bootstrap\n",
      "    self.run()\n",
      "  File \"/usr/local/python3/lib/python3.7/multiprocessing/process.py\", line 99, in run\n",
      "    self._target(*self._args, **self._kwargs)\n",
      "  File \"/usr/local/python3/lib/python3.7/multiprocessing/process.py\", line 297, in _bootstrap\n",
      "    self.run()\n",
      "  File \"/usr/local/python3/lib/python3.7/multiprocessing/process.py\", line 297, in _bootstrap\n",
      "    self.run()\n",
      "  File \"/usr/local/python3/lib/python3.7/multiprocessing/process.py\", line 297, in _bootstrap\n",
      "    self.run()\n",
      "Process ForkPoolWorker-760:\n",
      "Traceback (most recent call last):\n",
      "  File \"/usr/local/python3/lib/python3.7/multiprocessing/process.py\", line 297, in _bootstrap\n",
      "    self.run()\n",
      "  File \"/usr/local/python3/lib/python3.7/multiprocessing/process.py\", line 99, in run\n",
      "    self._target(*self._args, **self._kwargs)\n",
      "  File \"/usr/local/python3/lib/python3.7/multiprocessing/pool.py\", line 110, in worker\n",
      "    task = get()\n",
      "  File \"/usr/local/python3/lib/python3.7/multiprocessing/queues.py\", line 351, in get\n",
      "    with self._rlock:\n",
      "  File \"/usr/local/python3/lib/python3.7/multiprocessing/synchronize.py\", line 95, in __enter__\n",
      "    return self._semlock.__enter__()\n",
      "KeyboardInterrupt\n",
      "Process ForkPoolWorker-769:\n",
      "Process ForkPoolWorker-774:\n",
      "Process ForkPoolWorker-761:\n",
      "Process ForkPoolWorker-762:\n",
      "ERROR:root:Internal Python error in the inspect module.\n",
      "Below is the traceback from this internal error.\n",
      "\n",
      "Traceback (most recent call last):\n",
      "  File \"/usr/local/python3/lib/python3.7/multiprocessing/process.py\", line 297, in _bootstrap\n",
      "    self.run()\n",
      "ERROR:root:Internal Python error in the inspect module.\n",
      "Below is the traceback from this internal error.\n",
      "\n",
      "\n",
      "KeyboardInterrupt\n",
      "\n"
     ]
    }
   ],
   "source": [
    "start_time = \"2019-01-01\"\n",
    "end_time = \"2021-06-01\"\n",
    "\n",
    "FT = FeatureAnalysis(configs, feature_path=feature_path)\n",
    "FT.load_feature_from_file(alpha_list, start_time, end_time, universe='Investable',\n",
    "                          timedelta=None, transformer=norm.standard_scale)\n",
    "Corr={}\n",
    "for i in alpha_list:\n",
    "    corr_table = FT.get_correlation_within_features(i, start_time=start_time , end_time=end_time )\n",
    "    Corr[i]=corr_table"
   ]
  },
  {
   "cell_type": "code",
   "execution_count": 50,
   "id": "7eb49280",
   "metadata": {
    "ExecuteTime": {
     "end_time": "2022-01-27T07:06:17.547957Z",
     "start_time": "2022-01-27T07:06:17.538563Z"
    }
   },
   "outputs": [
    {
     "data": {
      "text/plain": [
       "99.41899616757397"
      ]
     },
     "execution_count": 50,
     "metadata": {},
     "output_type": "execute_result"
    }
   ],
   "source": [
    "\"%d\" % corr_table[\"correlation\"].max()\n",
    "corr_table[\"correlation\"].max()\n",
    "# Corr['COV_open_high_10'][\"correlation\"]"
   ]
  },
  {
   "cell_type": "code",
   "execution_count": 23,
   "id": "6b786c7d",
   "metadata": {
    "ExecuteTime": {
     "end_time": "2022-01-27T06:50:52.361370Z",
     "start_time": "2022-01-27T06:50:23.077010Z"
    }
   },
   "outputs": [
    {
     "name": "stderr",
     "output_type": "stream",
     "text": [
      "Loading Feature...: 100%|████████████████████████████████████████████████████████████████████████████████████████| 5840/5840 [00:18<00:00, 320.42it/s]\n"
     ]
    },
    {
     "data": {
      "text/plain": [
       "(                            COV_open_high_10  COV_high_close_10  \\\n",
       " timestamp           ticker                                        \n",
       " 2019-01-22 09:30:00 600519         41.267244          40.164386   \n",
       "                     600653         30.227240          30.653497   \n",
       "                     000651         18.004749          20.616139   \n",
       "                     600652         13.311333          15.933766   \n",
       "                     600612         10.994661           8.462858   \n",
       " ...                                      ...                ...   \n",
       " 2021-05-28 09:30:00 300302         -0.043847          -0.040235   \n",
       "                     002285         -0.043854          -0.039772   \n",
       "                     600415         -0.043870          -0.040409   \n",
       "                     600458         -0.043881          -0.040203   \n",
       "                     600340         -0.043921          -0.037952   \n",
       " \n",
       "                             COV_high_low_10  COV_open_free_turnover_10  \\\n",
       " timestamp           ticker                                               \n",
       " 2019-01-22 09:30:00 600519        43.002894                   4.586185   \n",
       "                     600653        13.718004                   1.691562   \n",
       "                     000651        20.278962                   2.781229   \n",
       "                     600652        25.189232                   2.581863   \n",
       "                     600612        12.306240                  -9.281382   \n",
       " ...                                     ...                        ...   \n",
       " 2021-05-28 09:30:00 300302        -0.042427                  -0.143392   \n",
       "                     002285        -0.042267                  -0.214625   \n",
       "                     600415        -0.042541                  -0.404732   \n",
       "                     600458        -0.042449                  -0.150499   \n",
       "                     600340        -0.041957                  -0.216735   \n",
       " \n",
       "                             COV_open_turnover_10  COV_low_turnover_10  \\\n",
       " timestamp           ticker                                              \n",
       " 2019-01-22 09:30:00 600519              2.414643             3.802099   \n",
       "                     600653              2.261940            -1.594477   \n",
       "                     000651              3.091557             5.951357   \n",
       "                     600652              2.320440            16.833925   \n",
       "                     600612             -4.435715            -9.724933   \n",
       " ...                                          ...                  ...   \n",
       " 2021-05-28 09:30:00 300302             -0.140562            -0.122650   \n",
       "                     002285             -0.184189            -0.083276   \n",
       "                     600415             -0.281460            -0.251232   \n",
       "                     600458             -0.128680            -0.096086   \n",
       "                     600340             -0.223204            -0.161966   \n",
       " \n",
       "                             COV_low_pct_chg_10  COV_low_volume_10  \\\n",
       " timestamp           ticker                                          \n",
       " 2019-01-22 09:30:00 600519            0.377730           2.383991   \n",
       "                     600653          -11.486359          -1.270782   \n",
       "                     000651            9.384721          17.796369   \n",
       "                     600652          -17.736984           6.867092   \n",
       "                     600612          -27.979880          -1.533623   \n",
       " ...                                        ...                ...   \n",
       " 2021-05-28 09:30:00 300302           -0.017644          -0.044996   \n",
       "                     002285           -0.027367          -0.052757   \n",
       "                     600415           -0.042873          -0.772485   \n",
       "                     600458           -0.007897          -0.047423   \n",
       "                     600340            0.115074          -0.301788   \n",
       " \n",
       "                             COV_low_vwap_10  COV_low_close_10  \n",
       " timestamp           ticker                                     \n",
       " 2019-01-22 09:30:00 600519        40.581180         45.534650  \n",
       "                     600653        16.332592         19.657466  \n",
       "                     000651        18.217852         20.890685  \n",
       "                     600652        27.881204         18.267653  \n",
       "                     600612        15.402808          9.032855  \n",
       " ...                                     ...               ...  \n",
       " 2021-05-28 09:30:00 300302        -0.044964         -0.043982  \n",
       "                     002285        -0.044991         -0.044054  \n",
       "                     600415        -0.044557         -0.043234  \n",
       "                     600458        -0.045049         -0.044040  \n",
       "                     600340        -0.044180         -0.043061  \n",
       " \n",
       " [2108534 rows x 10 columns],\n",
       " None)"
      ]
     },
     "execution_count": 23,
     "metadata": {},
     "output_type": "execute_result"
    }
   ],
   "source": [
    "FT.load_feature_from_file(alpha_list, start_time, end_time, universe='Investable',\n",
    "                              timedelta=None, transformer=norm.standard_scale)"
   ]
  },
  {
   "cell_type": "code",
   "execution_count": 16,
   "id": "a860038d",
   "metadata": {
    "ExecuteTime": {
     "end_time": "2022-01-27T06:46:56.654000Z",
     "start_time": "2022-01-27T06:46:56.650239Z"
    }
   },
   "outputs": [
    {
     "data": {
      "text/plain": [
       "8.885900785789946"
      ]
     },
     "execution_count": 16,
     "metadata": {},
     "output_type": "execute_result"
    }
   ],
   "source": [
    "a[\"correlation\"].max()"
   ]
  }
 ],
 "metadata": {
  "kernelspec": {
   "display_name": "Python 3 (ipykernel)",
   "language": "python",
   "name": "python3"
  },
  "language_info": {
   "codemirror_mode": {
    "name": "ipython",
    "version": 3
   },
   "file_extension": ".py",
   "mimetype": "text/x-python",
   "name": "python",
   "nbconvert_exporter": "python",
   "pygments_lexer": "ipython3",
   "version": "3.7.9"
  }
 },
 "nbformat": 4,
 "nbformat_minor": 5
}
