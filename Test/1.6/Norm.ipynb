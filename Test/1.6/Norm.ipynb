{
 "cells": [
  {
   "cell_type": "code",
   "execution_count": 1,
   "id": "f02aa46e",
   "metadata": {
    "ExecuteTime": {
     "end_time": "2022-01-07T04:51:44.505010Z",
     "start_time": "2022-01-07T04:51:43.102451Z"
    }
   },
   "outputs": [],
   "source": [
    "import time\n",
    "import os\n",
    "from Research.backtest.bt import BTDaily\n",
    "from Research.feature.ft import FeatureAnalysis\n",
    "import Research.utils.namespace as namespace\n",
    "import Research.utils.normalization as norm\n",
    "from Platform.database.mysql import MysqlAPI\n",
    "from Platform.utils.persistence import convert_to_standard_daily_feature_csv, convert_to_standard_daily_feature_par\n",
    "from Platform.config.mysql_info import FACTOR_LIB_MYSQL_TIO\n",
    "import DataAPI\n",
    "from os import walk\n",
    "import pandas as pd\n",
    "import numpy as np\n",
    "import torch\n",
    "import torch.nn as nn\n",
    "from progressbar import ProgressBar\n",
    "from tqdm import tqdm\n",
    "import multiprocessing as mp\n",
    "import sys\n",
    "sys.path.append(\"/home/wuwenjun/jupyter_code/Shannon/AlphaNet\")\n",
    "Alpha_Name = \"AlphaNet_Original_Input_12.14\"\n",
    "path = '/home/wuwenjun/Data/' + Alpha_Name +'/'\n",
    "target = \"5d_ret\""
   ]
  },
  {
   "cell_type": "code",
   "execution_count": 3,
   "id": "346c6452",
   "metadata": {
    "ExecuteTime": {
     "end_time": "2022-01-07T04:52:01.377088Z",
     "start_time": "2022-01-07T04:51:44.511023Z"
    }
   },
   "outputs": [
    {
     "name": "stdout",
     "output_type": "stream",
     "text": [
      "Loading the configuration from /home/ShareFolder/lgc/Modules/Research/config/feature_bt_template\n"
     ]
    },
    {
     "name": "stderr",
     "output_type": "stream",
     "text": [
      "Loading Feature...:   4%|███▋                                                                                     | 140/3410 [00:00<00:04, 804.13it/s]"
     ]
    },
    {
     "name": "stdout",
     "output_type": "stream",
     "text": [
      "['ewmCorr(high,low,7)', 'ewmCov(open,high,7)']\n"
     ]
    },
    {
     "name": "stderr",
     "output_type": "stream",
     "text": [
      "Loading Feature...:  86%|███████████████████████████████████████████████████████████████████████████▌            | 2927/3410 [00:05<00:01, 439.46it/s]"
     ]
    },
    {
     "data": {
      "text/plain": [
       "(                            ewmCorr(high,low,7)  ewmCov(open,high,7)\n",
       " timestamp           ticker                                          \n",
       " 2016-01-05 09:30:00 002269             0.261552            -0.020979\n",
       "                     000629             0.261552            -0.020978\n",
       "                     603022             0.261552            -0.020970\n",
       "                     600617             0.261552            -0.020860\n",
       "                     002684             0.261552            -0.020868\n",
       " ...                                         ...                  ...\n",
       " 2021-07-01 09:30:00 300230            -4.442220            -0.037525\n",
       "                     002319            -4.504204            -0.036942\n",
       "                     603286            -4.533666            -0.037445\n",
       "                     000796            -4.536809            -0.033297\n",
       "                     002707            -4.536859            -0.020746\n",
       " \n",
       " [4444115 rows x 2 columns],\n",
       " None)"
      ]
     },
     "execution_count": 3,
     "metadata": {},
     "output_type": "execute_result"
    }
   ],
   "source": [
    "config_path = r'/home/ShareFolder/lgc/Modules/Research/config/feature_bt_template'\n",
    "print('Loading the configuration from ' + config_path)\n",
    "configs = namespace.load_namespace(config_path)\n",
    "FT = FeatureAnalysis(configs, feature_path=r\"/home/ShareFolder/feature_platform\")\n",
    "alpha_list = list(FT.features_in_path.keys())[:]\n",
    "alpha_list = ['ewmCorr(high,low,7)','ewmCov(open,high,7)']\n",
    "print(alpha_list)\n",
    "start_date = '2015-01-01'\n",
    "end_date = '2022-01-01'\n",
    "FT.load_feature_from_file(alpha_list, start_date, end_date, universe='Investable',\n",
    "                                       timedelta=None, transformer=norm.standard_scale)"
   ]
  },
  {
   "cell_type": "code",
   "execution_count": 4,
   "id": "fed3703c",
   "metadata": {
    "ExecuteTime": {
     "end_time": "2022-01-07T04:52:01.398602Z",
     "start_time": "2022-01-07T04:52:01.382618Z"
    },
    "scrolled": true
   },
   "outputs": [
    {
     "data": {
      "text/html": [
       "<div>\n",
       "<style scoped>\n",
       "    .dataframe tbody tr th:only-of-type {\n",
       "        vertical-align: middle;\n",
       "    }\n",
       "\n",
       "    .dataframe tbody tr th {\n",
       "        vertical-align: top;\n",
       "    }\n",
       "\n",
       "    .dataframe thead th {\n",
       "        text-align: right;\n",
       "    }\n",
       "</style>\n",
       "<table border=\"1\" class=\"dataframe\">\n",
       "  <thead>\n",
       "    <tr style=\"text-align: right;\">\n",
       "      <th></th>\n",
       "      <th></th>\n",
       "      <th>ewmCorr(high,low,7)</th>\n",
       "      <th>ewmCov(open,high,7)</th>\n",
       "    </tr>\n",
       "    <tr>\n",
       "      <th>timestamp</th>\n",
       "      <th>ticker</th>\n",
       "      <th></th>\n",
       "      <th></th>\n",
       "    </tr>\n",
       "  </thead>\n",
       "  <tbody>\n",
       "    <tr>\n",
       "      <th rowspan=\"5\" valign=\"top\">2016-01-05 09:30:00</th>\n",
       "      <th>002269</th>\n",
       "      <td>0.261552</td>\n",
       "      <td>-0.020979</td>\n",
       "    </tr>\n",
       "    <tr>\n",
       "      <th>000629</th>\n",
       "      <td>0.261552</td>\n",
       "      <td>-0.020978</td>\n",
       "    </tr>\n",
       "    <tr>\n",
       "      <th>603022</th>\n",
       "      <td>0.261552</td>\n",
       "      <td>-0.020970</td>\n",
       "    </tr>\n",
       "    <tr>\n",
       "      <th>600617</th>\n",
       "      <td>0.261552</td>\n",
       "      <td>-0.020860</td>\n",
       "    </tr>\n",
       "    <tr>\n",
       "      <th>002684</th>\n",
       "      <td>0.261552</td>\n",
       "      <td>-0.020868</td>\n",
       "    </tr>\n",
       "    <tr>\n",
       "      <th>...</th>\n",
       "      <th>...</th>\n",
       "      <td>...</td>\n",
       "      <td>...</td>\n",
       "    </tr>\n",
       "    <tr>\n",
       "      <th rowspan=\"5\" valign=\"top\">2021-07-01 09:30:00</th>\n",
       "      <th>300230</th>\n",
       "      <td>-4.442220</td>\n",
       "      <td>-0.037525</td>\n",
       "    </tr>\n",
       "    <tr>\n",
       "      <th>002319</th>\n",
       "      <td>-4.504204</td>\n",
       "      <td>-0.036942</td>\n",
       "    </tr>\n",
       "    <tr>\n",
       "      <th>603286</th>\n",
       "      <td>-4.533666</td>\n",
       "      <td>-0.037445</td>\n",
       "    </tr>\n",
       "    <tr>\n",
       "      <th>000796</th>\n",
       "      <td>-4.536809</td>\n",
       "      <td>-0.033297</td>\n",
       "    </tr>\n",
       "    <tr>\n",
       "      <th>002707</th>\n",
       "      <td>-4.536859</td>\n",
       "      <td>-0.020746</td>\n",
       "    </tr>\n",
       "  </tbody>\n",
       "</table>\n",
       "<p>4444115 rows × 2 columns</p>\n",
       "</div>"
      ],
      "text/plain": [
       "                            ewmCorr(high,low,7)  ewmCov(open,high,7)\n",
       "timestamp           ticker                                          \n",
       "2016-01-05 09:30:00 002269             0.261552            -0.020979\n",
       "                    000629             0.261552            -0.020978\n",
       "                    603022             0.261552            -0.020970\n",
       "                    600617             0.261552            -0.020860\n",
       "                    002684             0.261552            -0.020868\n",
       "...                                         ...                  ...\n",
       "2021-07-01 09:30:00 300230            -4.442220            -0.037525\n",
       "                    002319            -4.504204            -0.036942\n",
       "                    603286            -4.533666            -0.037445\n",
       "                    000796            -4.536809            -0.033297\n",
       "                    002707            -4.536859            -0.020746\n",
       "\n",
       "[4444115 rows x 2 columns]"
      ]
     },
     "execution_count": 4,
     "metadata": {},
     "output_type": "execute_result"
    }
   ],
   "source": [
    "data = FT.feature_data\n",
    "data"
   ]
  },
  {
   "cell_type": "code",
   "execution_count": 5,
   "id": "40ddfbc3",
   "metadata": {
    "ExecuteTime": {
     "end_time": "2022-01-07T04:52:01.975654Z",
     "start_time": "2022-01-07T04:52:01.399874Z"
    }
   },
   "outputs": [
    {
     "name": "stdout",
     "output_type": "stream",
     "text": [
      "Loading the configuration from /home/ShareFolder/lgc/Modules/Research/config/feature_bt_template\n",
      "Loading the configuration from /home/ShareFolder/lgc/Modules/Research/config/feature_bt_template\n"
     ]
    }
   ],
   "source": [
    "import AlphaNet.DataProcessing.Norm as Norm\n",
    "output_path = r'/home/wuwenjun/feature_platform/ti0/wuwenjun'\n",
    "Norm.time_series_norm(data=data,rolling=30,output_path = output_path)"
   ]
  },
  {
   "cell_type": "code",
   "execution_count": 8,
   "id": "a0d61203",
   "metadata": {
    "ExecuteTime": {
     "end_time": "2022-01-07T05:10:28.949656Z",
     "start_time": "2022-01-07T05:10:28.903339Z"
    }
   },
   "outputs": [
    {
     "data": {
      "text/html": [
       "<div>\n",
       "<style scoped>\n",
       "    .dataframe tbody tr th:only-of-type {\n",
       "        vertical-align: middle;\n",
       "    }\n",
       "\n",
       "    .dataframe tbody tr th {\n",
       "        vertical-align: top;\n",
       "    }\n",
       "\n",
       "    .dataframe thead th {\n",
       "        text-align: right;\n",
       "    }\n",
       "</style>\n",
       "<table border=\"1\" class=\"dataframe\">\n",
       "  <thead>\n",
       "    <tr style=\"text-align: right;\">\n",
       "      <th></th>\n",
       "      <th></th>\n",
       "      <th>ewmCorr(high,low,7)</th>\n",
       "      <th>ewmCov(open,high,7)</th>\n",
       "    </tr>\n",
       "    <tr>\n",
       "      <th>timestamp</th>\n",
       "      <th>ticker</th>\n",
       "      <th></th>\n",
       "      <th></th>\n",
       "    </tr>\n",
       "  </thead>\n",
       "  <tbody>\n",
       "    <tr>\n",
       "      <th rowspan=\"5\" valign=\"top\">2016-01-05 09:30:00</th>\n",
       "      <th>002269</th>\n",
       "      <td>0.261552</td>\n",
       "      <td>-0.020979</td>\n",
       "    </tr>\n",
       "    <tr>\n",
       "      <th>000629</th>\n",
       "      <td>0.261552</td>\n",
       "      <td>-0.020978</td>\n",
       "    </tr>\n",
       "    <tr>\n",
       "      <th>603022</th>\n",
       "      <td>0.261552</td>\n",
       "      <td>-0.020970</td>\n",
       "    </tr>\n",
       "    <tr>\n",
       "      <th>600617</th>\n",
       "      <td>0.261552</td>\n",
       "      <td>-0.020860</td>\n",
       "    </tr>\n",
       "    <tr>\n",
       "      <th>002684</th>\n",
       "      <td>0.261552</td>\n",
       "      <td>-0.020868</td>\n",
       "    </tr>\n",
       "    <tr>\n",
       "      <th>...</th>\n",
       "      <th>...</th>\n",
       "      <td>...</td>\n",
       "      <td>...</td>\n",
       "    </tr>\n",
       "    <tr>\n",
       "      <th rowspan=\"5\" valign=\"top\">2021-07-01 09:30:00</th>\n",
       "      <th>300230</th>\n",
       "      <td>-4.442220</td>\n",
       "      <td>-0.037525</td>\n",
       "    </tr>\n",
       "    <tr>\n",
       "      <th>002319</th>\n",
       "      <td>-4.504204</td>\n",
       "      <td>-0.036942</td>\n",
       "    </tr>\n",
       "    <tr>\n",
       "      <th>603286</th>\n",
       "      <td>-4.533666</td>\n",
       "      <td>-0.037445</td>\n",
       "    </tr>\n",
       "    <tr>\n",
       "      <th>000796</th>\n",
       "      <td>-4.536809</td>\n",
       "      <td>-0.033297</td>\n",
       "    </tr>\n",
       "    <tr>\n",
       "      <th>002707</th>\n",
       "      <td>-4.536859</td>\n",
       "      <td>-0.020746</td>\n",
       "    </tr>\n",
       "  </tbody>\n",
       "</table>\n",
       "<p>4444115 rows × 2 columns</p>\n",
       "</div>"
      ],
      "text/plain": [
       "                            ewmCorr(high,low,7)  ewmCov(open,high,7)\n",
       "timestamp           ticker                                          \n",
       "2016-01-05 09:30:00 002269             0.261552            -0.020979\n",
       "                    000629             0.261552            -0.020978\n",
       "                    603022             0.261552            -0.020970\n",
       "                    600617             0.261552            -0.020860\n",
       "                    002684             0.261552            -0.020868\n",
       "...                                         ...                  ...\n",
       "2021-07-01 09:30:00 300230            -4.442220            -0.037525\n",
       "                    002319            -4.504204            -0.036942\n",
       "                    603286            -4.533666            -0.037445\n",
       "                    000796            -4.536809            -0.033297\n",
       "                    002707            -4.536859            -0.020746\n",
       "\n",
       "[4444115 rows x 2 columns]"
      ]
     },
     "execution_count": 8,
     "metadata": {},
     "output_type": "execute_result"
    }
   ],
   "source": [
    "grouped = data.groupby(\"timestamp\")"
   ]
  },
  {
   "cell_type": "code",
   "execution_count": 12,
   "id": "c9b2b1fe",
   "metadata": {
    "ExecuteTime": {
     "end_time": "2022-01-07T05:23:53.162872Z",
     "start_time": "2022-01-07T05:23:53.118635Z"
    }
   },
   "outputs": [
    {
     "data": {
      "text/html": [
       "<div>\n",
       "<style scoped>\n",
       "    .dataframe tbody tr th:only-of-type {\n",
       "        vertical-align: middle;\n",
       "    }\n",
       "\n",
       "    .dataframe tbody tr th {\n",
       "        vertical-align: top;\n",
       "    }\n",
       "\n",
       "    .dataframe thead th {\n",
       "        text-align: right;\n",
       "    }\n",
       "</style>\n",
       "<table border=\"1\" class=\"dataframe\">\n",
       "  <thead>\n",
       "    <tr style=\"text-align: right;\">\n",
       "      <th></th>\n",
       "      <th></th>\n",
       "      <th>ewmCorr(high,low,7)</th>\n",
       "      <th>ewmCov(open,high,7)</th>\n",
       "    </tr>\n",
       "    <tr>\n",
       "      <th>timestamp</th>\n",
       "      <th>ticker</th>\n",
       "      <th></th>\n",
       "      <th></th>\n",
       "    </tr>\n",
       "  </thead>\n",
       "  <tbody>\n",
       "    <tr>\n",
       "      <th rowspan=\"5\" valign=\"top\">2016-01-05 09:30:00</th>\n",
       "      <th>002269</th>\n",
       "      <td>0.267339</td>\n",
       "      <td>-0.020979</td>\n",
       "    </tr>\n",
       "    <tr>\n",
       "      <th>000629</th>\n",
       "      <td>0.267339</td>\n",
       "      <td>-0.020978</td>\n",
       "    </tr>\n",
       "    <tr>\n",
       "      <th>603022</th>\n",
       "      <td>0.267339</td>\n",
       "      <td>-0.020970</td>\n",
       "    </tr>\n",
       "    <tr>\n",
       "      <th>600617</th>\n",
       "      <td>0.267339</td>\n",
       "      <td>-0.020860</td>\n",
       "    </tr>\n",
       "    <tr>\n",
       "      <th>002684</th>\n",
       "      <td>0.267339</td>\n",
       "      <td>-0.020868</td>\n",
       "    </tr>\n",
       "    <tr>\n",
       "      <th>...</th>\n",
       "      <th>...</th>\n",
       "      <td>...</td>\n",
       "      <td>...</td>\n",
       "    </tr>\n",
       "    <tr>\n",
       "      <th rowspan=\"5\" valign=\"top\">2021-07-01 09:30:00</th>\n",
       "      <th>300230</th>\n",
       "      <td>-1.477739</td>\n",
       "      <td>-0.037525</td>\n",
       "    </tr>\n",
       "    <tr>\n",
       "      <th>002319</th>\n",
       "      <td>-1.477739</td>\n",
       "      <td>-0.036942</td>\n",
       "    </tr>\n",
       "    <tr>\n",
       "      <th>603286</th>\n",
       "      <td>-1.477739</td>\n",
       "      <td>-0.037445</td>\n",
       "    </tr>\n",
       "    <tr>\n",
       "      <th>000796</th>\n",
       "      <td>-1.477739</td>\n",
       "      <td>-0.033297</td>\n",
       "    </tr>\n",
       "    <tr>\n",
       "      <th>002707</th>\n",
       "      <td>-1.477739</td>\n",
       "      <td>-0.020746</td>\n",
       "    </tr>\n",
       "  </tbody>\n",
       "</table>\n",
       "<p>4444115 rows × 2 columns</p>\n",
       "</div>"
      ],
      "text/plain": [
       "                            ewmCorr(high,low,7)  ewmCov(open,high,7)\n",
       "timestamp           ticker                                          \n",
       "2016-01-05 09:30:00 002269             0.267339            -0.020979\n",
       "                    000629             0.267339            -0.020978\n",
       "                    603022             0.267339            -0.020970\n",
       "                    600617             0.267339            -0.020860\n",
       "                    002684             0.267339            -0.020868\n",
       "...                                         ...                  ...\n",
       "2021-07-01 09:30:00 300230            -1.477739            -0.037525\n",
       "                    002319            -1.477739            -0.036942\n",
       "                    603286            -1.477739            -0.037445\n",
       "                    000796            -1.477739            -0.033297\n",
       "                    002707            -1.477739            -0.020746\n",
       "\n",
       "[4444115 rows x 2 columns]"
      ]
     },
     "execution_count": 12,
     "metadata": {},
     "output_type": "execute_result"
    }
   ],
   "source": [
    "def section_norm(data=data,rolling=30,output_path = output_path):\n",
    "    grouped = data.groupby(\"timestamp\")\n",
    "    df_list = []\n",
    "    for ticker , df in tqdm(grouped):\n",
    "        for column in df.columns:\n",
    "            df[column] = norm.rationalize_s(df[column], weight=None, sigma=1, fill=True, fillvalue='mean')\n",
    "            df[column] = norm.normalize_s(df[column], weight=None, sigma=1, fill=True, fillvalue='mean')\n",
    "        df_list.append(df)\n",
    "    df_list = pd.concat(df_list,axis=0)\n",
    "    df_list.columns = [str(column)+\"_section_norm\" for column in df_list.columns]\n",
    "df_list\n"
   ]
  },
  {
   "cell_type": "code",
   "execution_count": 13,
   "id": "90333b16",
   "metadata": {
    "ExecuteTime": {
     "end_time": "2022-01-07T05:25:11.656190Z",
     "start_time": "2022-01-07T05:24:21.623559Z"
    }
   },
   "outputs": [
    {
     "name": "stderr",
     "output_type": "stream",
     "text": [
      "100%|██████████| 1336/1336 [00:48<00:00, 27.39it/s]\n"
     ]
    }
   ],
   "source": [
    "grouped = data.groupby(\"timestamp\")\n",
    "df_list = []\n",
    "for ticker , df in tqdm(grouped):\n",
    "    for column in df.columns:\n",
    "        df[column] = norm.rationalize_s(df[column], weight=None, sigma=1, fill=True, fillvalue='mean')\n",
    "        df[column] = norm.normalize_s(df[column], weight=None, sigma=1, fill=True, fillvalue='mean')\n",
    "    df_list.append(df)\n",
    "df_list = pd.concat(df_list,axis=0)\n",
    "df_list.columns = [str(column)+\"_section_norm\" for column in df_list.columns]"
   ]
  },
  {
   "cell_type": "code",
   "execution_count": 14,
   "id": "3cdc8d92",
   "metadata": {
    "ExecuteTime": {
     "end_time": "2022-01-07T05:25:11.691897Z",
     "start_time": "2022-01-07T05:25:11.677942Z"
    }
   },
   "outputs": [
    {
     "data": {
      "text/html": [
       "<div>\n",
       "<style scoped>\n",
       "    .dataframe tbody tr th:only-of-type {\n",
       "        vertical-align: middle;\n",
       "    }\n",
       "\n",
       "    .dataframe tbody tr th {\n",
       "        vertical-align: top;\n",
       "    }\n",
       "\n",
       "    .dataframe thead th {\n",
       "        text-align: right;\n",
       "    }\n",
       "</style>\n",
       "<table border=\"1\" class=\"dataframe\">\n",
       "  <thead>\n",
       "    <tr style=\"text-align: right;\">\n",
       "      <th></th>\n",
       "      <th></th>\n",
       "      <th>ewmCorr(high,low,7)_section_norm</th>\n",
       "      <th>ewmCov(open,high,7)_section_norm</th>\n",
       "    </tr>\n",
       "    <tr>\n",
       "      <th>timestamp</th>\n",
       "      <th>ticker</th>\n",
       "      <th></th>\n",
       "      <th></th>\n",
       "    </tr>\n",
       "  </thead>\n",
       "  <tbody>\n",
       "    <tr>\n",
       "      <th rowspan=\"5\" valign=\"top\">2016-01-05 09:30:00</th>\n",
       "      <th>002269</th>\n",
       "      <td>0.267339</td>\n",
       "      <td>-0.059295</td>\n",
       "    </tr>\n",
       "    <tr>\n",
       "      <th>000629</th>\n",
       "      <td>0.267339</td>\n",
       "      <td>-0.058484</td>\n",
       "    </tr>\n",
       "    <tr>\n",
       "      <th>603022</th>\n",
       "      <td>0.267339</td>\n",
       "      <td>-0.053519</td>\n",
       "    </tr>\n",
       "    <tr>\n",
       "      <th>600617</th>\n",
       "      <td>0.267339</td>\n",
       "      <td>0.018495</td>\n",
       "    </tr>\n",
       "    <tr>\n",
       "      <th>002684</th>\n",
       "      <td>0.267339</td>\n",
       "      <td>0.013525</td>\n",
       "    </tr>\n",
       "    <tr>\n",
       "      <th>...</th>\n",
       "      <th>...</th>\n",
       "      <td>...</td>\n",
       "      <td>...</td>\n",
       "    </tr>\n",
       "    <tr>\n",
       "      <th rowspan=\"5\" valign=\"top\">2021-07-01 09:30:00</th>\n",
       "      <th>300230</th>\n",
       "      <td>-1.477739</td>\n",
       "      <td>-0.243731</td>\n",
       "    </tr>\n",
       "    <tr>\n",
       "      <th>002319</th>\n",
       "      <td>-1.477739</td>\n",
       "      <td>-0.204552</td>\n",
       "    </tr>\n",
       "    <tr>\n",
       "      <th>603286</th>\n",
       "      <td>-1.477739</td>\n",
       "      <td>-0.238390</td>\n",
       "    </tr>\n",
       "    <tr>\n",
       "      <th>000796</th>\n",
       "      <td>-1.477739</td>\n",
       "      <td>0.040469</td>\n",
       "    </tr>\n",
       "    <tr>\n",
       "      <th>002707</th>\n",
       "      <td>-1.477739</td>\n",
       "      <td>0.884242</td>\n",
       "    </tr>\n",
       "  </tbody>\n",
       "</table>\n",
       "<p>4444115 rows × 2 columns</p>\n",
       "</div>"
      ],
      "text/plain": [
       "                            ewmCorr(high,low,7)_section_norm  \\\n",
       "timestamp           ticker                                     \n",
       "2016-01-05 09:30:00 002269                          0.267339   \n",
       "                    000629                          0.267339   \n",
       "                    603022                          0.267339   \n",
       "                    600617                          0.267339   \n",
       "                    002684                          0.267339   \n",
       "...                                                      ...   \n",
       "2021-07-01 09:30:00 300230                         -1.477739   \n",
       "                    002319                         -1.477739   \n",
       "                    603286                         -1.477739   \n",
       "                    000796                         -1.477739   \n",
       "                    002707                         -1.477739   \n",
       "\n",
       "                            ewmCov(open,high,7)_section_norm  \n",
       "timestamp           ticker                                    \n",
       "2016-01-05 09:30:00 002269                         -0.059295  \n",
       "                    000629                         -0.058484  \n",
       "                    603022                         -0.053519  \n",
       "                    600617                          0.018495  \n",
       "                    002684                          0.013525  \n",
       "...                                                      ...  \n",
       "2021-07-01 09:30:00 300230                         -0.243731  \n",
       "                    002319                         -0.204552  \n",
       "                    603286                         -0.238390  \n",
       "                    000796                          0.040469  \n",
       "                    002707                          0.884242  \n",
       "\n",
       "[4444115 rows x 2 columns]"
      ]
     },
     "execution_count": 14,
     "metadata": {},
     "output_type": "execute_result"
    }
   ],
   "source": [
    "df_list"
   ]
  }
 ],
 "metadata": {
  "kernelspec": {
   "display_name": "Python 3 (ipykernel)",
   "language": "python",
   "name": "python3"
  },
  "language_info": {
   "codemirror_mode": {
    "name": "ipython",
    "version": 3
   },
   "file_extension": ".py",
   "mimetype": "text/x-python",
   "name": "python",
   "nbconvert_exporter": "python",
   "pygments_lexer": "ipython3",
   "version": "3.7.9"
  }
 },
 "nbformat": 4,
 "nbformat_minor": 5
}
