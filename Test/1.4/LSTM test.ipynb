{
 "cells": [
  {
   "cell_type": "code",
   "execution_count": 21,
   "id": "483bd59f",
   "metadata": {
    "ExecuteTime": {
     "end_time": "2022-01-04T10:51:01.437651Z",
     "start_time": "2022-01-04T10:51:01.432322Z"
    }
   },
   "outputs": [],
   "source": [
    "import os\n",
    "from os import walk\n",
    "import pandas as pd\n",
    "import numpy as np\n",
    "import matplotlib.pyplot as plt\n",
    "import torch\n",
    "import torch.nn as nn\n",
    "import torch.utils.data as Data\n",
    "import torch.optim as optim\n",
    "from torch.autograd import Variable\n",
    "from progressbar import ProgressBar\n",
    "from tqdm import tqdm\n",
    "import time\n",
    "import multiprocessing as mp\n",
    "import sys\n",
    "sys.path.append(\"/home/wuwenjun/jupyter_code/Shannon/AlphaNet\")"
   ]
  },
  {
   "cell_type": "code",
   "execution_count": 30,
   "id": "7d573ca4",
   "metadata": {
    "ExecuteTime": {
     "end_time": "2022-01-04T10:53:26.476249Z",
     "start_time": "2022-01-04T10:53:26.448970Z"
    }
   },
   "outputs": [],
   "source": [
    "class Model_Loader(object):\n",
    "    def __init__(self, model, optimizer, device=None):\n",
    "        if device == None:\n",
    "            raise ValueError(\n",
    "                r\"please indicate device by running device = torch.device('cuda:0' if torch.cuda.is_available() else 'cpu')\")\n",
    "        self.device = device\n",
    "        self.model = model.to(self.device)\n",
    "        self.best_model = model.to(self.device)\n",
    "        self.optimizer = optimizer\n",
    "        self.loss_list = []\n",
    "        self.min_loss = float(\"inf\")\n",
    "\n",
    "    def fit(self, dataloader, loss_function, epoch_num, save_path=None):\n",
    "        print(\"Learning Rate is :\", self.optimizer.state_dict()['param_groups'][0][\"lr\"])\n",
    "        loss_function = loss_function.to(self.device)\n",
    "\n",
    "        for epoch in tqdm(range(epoch_num)):\n",
    "            total_loss = 0\n",
    "            for _, (inputs, outputs) in enumerate(dataloader):\n",
    "                inputs = Variable(inputs).float().to(self.device)\n",
    "                print(inputs.shape)\n",
    "                outputs = Variable(outputs).float().to(self.device)\n",
    "                self.optimizer.zero_grad()  # noticed:  the grad return to zero before starting the loop\n",
    "                \n",
    "                # forward + backward +update\n",
    "                pred = self.model(inputs)\n",
    "                pred = pred.to(self.device)\n",
    "                loss = loss_function(pred, outputs)\n",
    "                loss.backward()\n",
    "                self.optimizer.step()\n",
    "\n",
    "                total_loss += loss.item()\n",
    "            total_loss = total_loss * dataloader.batch_size / dataloader.dataset.tensors[0].shape[0]\n",
    "            print('Epoch: ', epoch + 1, ' loss: ', total_loss)\n",
    "            self.loss_list.append(total_loss)\n",
    "            if save_path is not None:\n",
    "                np.save(save_path + \"loss.npy\", self.loss_list)\n",
    "                if total_loss < self.min_loss:\n",
    "                    self.best_model = self.model\n",
    "                    torch.save(self.model, save_path + \"best_model.tar\")\n",
    "                    self.min_loss = total_loss\n",
    "        if save_path is not None:\n",
    "            torch.save(self.model, save_path + \"model.tar\")\n",
    "            plt.plot(self.loss_list, color='r')\n",
    "            plt.savefig(save_path + \"loss.png\")\n",
    "        return self.model\n",
    "\n",
    "    def transform(self, dataloader):\n",
    "        pred_list = []\n",
    "        label_list = []\n",
    "        for _, (data, label) in enumerate(dataloader):\n",
    "            data = Variable(data).float().to(self.device)\n",
    "            pred = self.model(data).to(self.device)\n",
    "            pred_list.extend(pred.tolist())\n",
    "            label_list.extend(label.tolist())\n",
    "        self.testy_pred = pd.DataFrame(pred_list)\n",
    "        self.testy = pd.DataFrame(label_list)\n",
    "        return self.testy_pred"
   ]
  },
  {
   "cell_type": "code",
   "execution_count": 31,
   "id": "66be7b67",
   "metadata": {
    "ExecuteTime": {
     "end_time": "2022-01-04T10:53:26.900026Z",
     "start_time": "2022-01-04T10:53:26.869237Z"
    }
   },
   "outputs": [],
   "source": [
    "x = torch.randn(5000,108,3)\n",
    "y = torch.randn(5000,1)"
   ]
  },
  {
   "cell_type": "code",
   "execution_count": 32,
   "id": "1ec56d65",
   "metadata": {
    "ExecuteTime": {
     "end_time": "2022-01-04T10:53:27.370670Z",
     "start_time": "2022-01-04T10:53:27.364556Z"
    }
   },
   "outputs": [],
   "source": [
    "train_dataset = Data.TensorDataset(x, y)\n",
    "train_loader = Data.DataLoader(\n",
    "    dataset=train_dataset,\n",
    "    batch_size=1024,\n",
    "    shuffle=True,\n",
    "    num_workers=16,\n",
    "    pin_memory=True\n",
    ")"
   ]
  },
  {
   "cell_type": "code",
   "execution_count": 33,
   "id": "b0fe1130",
   "metadata": {
    "ExecuteTime": {
     "end_time": "2022-01-04T10:53:29.996955Z",
     "start_time": "2022-01-04T10:53:29.978451Z"
    }
   },
   "outputs": [
    {
     "name": "stdout",
     "output_type": "stream",
     "text": [
      "AlphaNet_LSTM_V1(\n",
      "  (batch): BatchNorm1d(108, eps=1e-05, momentum=0.1, affine=True, track_running_stats=True)\n",
      "  (lstm): LSTM(108, 30, num_layers=2, batch_first=True, bidirectional=True)\n",
      "  (batch2): BatchNorm1d(30, eps=1e-05, momentum=0.1, affine=True, track_running_stats=True)\n",
      "  (dropout): Dropout(p=0.3, inplace=False)\n",
      "  (out): Linear(in_features=30, out_features=1, bias=True)\n",
      ")\n"
     ]
    }
   ],
   "source": [
    "from AlphaNet.Models import AlphaNet_LSTM_V1\n",
    "LR = 0.01\n",
    "epoch_num = 10\n",
    "device = torch.device('cuda:0' if torch.cuda.is_available() else 'cpu')\n",
    "loss_function = nn.MSELoss()\n",
    "model = AlphaNet_LSTM_V1(108, 30)\n",
    "optimizer = optim.Adam(model.parameters(), lr=LR)\n",
    "model_loader = Model_Loader(model = model,optimizer=optimizer,device=device)\n",
    "print(model_loader.model)"
   ]
  },
  {
   "cell_type": "code",
   "execution_count": 35,
   "id": "572387ff",
   "metadata": {
    "ExecuteTime": {
     "end_time": "2022-01-04T10:54:32.324926Z",
     "start_time": "2022-01-04T10:54:15.056862Z"
    }
   },
   "outputs": [
    {
     "name": "stderr",
     "output_type": "stream",
     "text": [
      "\r",
      "  0%|          | 0/10 [00:00<?, ?it/s]"
     ]
    },
    {
     "name": "stdout",
     "output_type": "stream",
     "text": [
      "Learning Rate is : 0.01\n",
      "torch.Size([1024, 108, 3])\n",
      "torch.Size([1024, 108, 3])\n",
      "torch.Size([1024, 108, 3])\n",
      "torch.Size([1024, 108, 3])\n",
      "torch.Size([904, 108, 3])\n"
     ]
    },
    {
     "name": "stderr",
     "output_type": "stream",
     "text": [
      "\r",
      " 10%|█         | 1/10 [00:01<00:15,  1.75s/it]"
     ]
    },
    {
     "name": "stdout",
     "output_type": "stream",
     "text": [
      "Epoch:  1  loss:  1.2961306396484376\n",
      "torch.Size([1024, 108, 3])\n",
      "torch.Size([1024, 108, 3])\n",
      "torch.Size([1024, 108, 3])\n",
      "torch.Size([1024, 108, 3])\n",
      "torch.Size([904, 108, 3])\n"
     ]
    },
    {
     "name": "stderr",
     "output_type": "stream",
     "text": [
      "\r",
      " 20%|██        | 2/10 [00:03<00:13,  1.68s/it]"
     ]
    },
    {
     "name": "stdout",
     "output_type": "stream",
     "text": [
      "Epoch:  2  loss:  1.0823605834960937\n",
      "torch.Size([1024, 108, 3])\n",
      "torch.Size([1024, 108, 3])\n",
      "torch.Size([1024, 108, 3])\n",
      "torch.Size([1024, 108, 3])\n",
      "torch.Size([904, 108, 3])\n"
     ]
    },
    {
     "name": "stderr",
     "output_type": "stream",
     "text": [
      "\r",
      " 30%|███       | 3/10 [00:05<00:11,  1.71s/it]"
     ]
    },
    {
     "name": "stdout",
     "output_type": "stream",
     "text": [
      "Epoch:  3  loss:  1.0083986083984375\n"
     ]
    },
    {
     "name": "stderr",
     "output_type": "stream",
     "text": [
      "Exception ignored in: <function _releaseLock at 0x7f437b8ab830>\n",
      "Traceback (most recent call last):\n",
      "  File \"/usr/local/miniconda/lib/python3.7/logging/__init__.py\", line 221, in _releaseLock\n",
      "    def _releaseLock():\n",
      "KeyboardInterrupt\n"
     ]
    },
    {
     "name": "stdout",
     "output_type": "stream",
     "text": [
      "torch.Size([1024, 108, 3])\n",
      "torch.Size([1024, 108, 3])\n",
      "torch.Size([1024, 108, 3])\n",
      "torch.Size([1024, 108, 3])\n",
      "torch.Size([904, 108, 3])\n"
     ]
    },
    {
     "name": "stderr",
     "output_type": "stream",
     "text": [
      "\r",
      " 40%|████      | 4/10 [00:07<00:10,  1.78s/it]"
     ]
    },
    {
     "name": "stdout",
     "output_type": "stream",
     "text": [
      "Epoch:  4  loss:  0.94898203125\n",
      "torch.Size([1024, 108, 3])\n",
      "torch.Size([1024, 108, 3])\n",
      "torch.Size([1024, 108, 3])\n",
      "torch.Size([1024, 108, 3])\n",
      "torch.Size([904, 108, 3])\n"
     ]
    },
    {
     "name": "stderr",
     "output_type": "stream",
     "text": [
      "\r",
      " 50%|█████     | 5/10 [00:08<00:08,  1.72s/it]"
     ]
    },
    {
     "name": "stdout",
     "output_type": "stream",
     "text": [
      "Epoch:  5  loss:  0.8527649658203125\n",
      "torch.Size([1024, 108, 3])\n",
      "torch.Size([1024, 108, 3])\n",
      "torch.Size([1024, 108, 3])\n",
      "torch.Size([1024, 108, 3])\n",
      "torch.Size([904, 108, 3])\n"
     ]
    },
    {
     "name": "stderr",
     "output_type": "stream",
     "text": [
      "\r",
      " 60%|██████    | 6/10 [00:10<00:06,  1.70s/it]"
     ]
    },
    {
     "name": "stdout",
     "output_type": "stream",
     "text": [
      "Epoch:  6  loss:  0.7060918823242187\n",
      "torch.Size([1024, 108, 3])\n",
      "torch.Size([1024, 108, 3])\n",
      "torch.Size([1024, 108, 3])\n",
      "torch.Size([1024, 108, 3])\n",
      "torch.Size([904, 108, 3])\n"
     ]
    },
    {
     "name": "stderr",
     "output_type": "stream",
     "text": [
      "\r",
      " 70%|███████   | 7/10 [00:12<00:05,  1.72s/it]"
     ]
    },
    {
     "name": "stdout",
     "output_type": "stream",
     "text": [
      "Epoch:  7  loss:  0.5447725708007812\n",
      "torch.Size([1024, 108, 3])\n",
      "torch.Size([1024, 108, 3])\n",
      "torch.Size([1024, 108, 3])\n",
      "torch.Size([1024, 108, 3])\n",
      "torch.Size([904, 108, 3])\n"
     ]
    },
    {
     "name": "stderr",
     "output_type": "stream",
     "text": [
      "\r",
      " 80%|████████  | 8/10 [00:13<00:03,  1.73s/it]"
     ]
    },
    {
     "name": "stdout",
     "output_type": "stream",
     "text": [
      "Epoch:  8  loss:  0.38566986694335936\n",
      "torch.Size([1024, 108, 3])\n",
      "torch.Size([1024, 108, 3])\n",
      "torch.Size([1024, 108, 3])\n",
      "torch.Size([1024, 108, 3])\n",
      "torch.Size([904, 108, 3])\n"
     ]
    },
    {
     "name": "stderr",
     "output_type": "stream",
     "text": [
      "\r",
      " 90%|█████████ | 9/10 [00:15<00:01,  1.73s/it]"
     ]
    },
    {
     "name": "stdout",
     "output_type": "stream",
     "text": [
      "Epoch:  9  loss:  0.2700466278076172\n",
      "torch.Size([1024, 108, 3])\n",
      "torch.Size([1024, 108, 3])\n",
      "torch.Size([1024, 108, 3])\n",
      "torch.Size([1024, 108, 3])\n",
      "torch.Size([904, 108, 3])\n"
     ]
    },
    {
     "name": "stderr",
     "output_type": "stream",
     "text": [
      "100%|██████████| 10/10 [00:17<00:00,  1.73s/it]"
     ]
    },
    {
     "name": "stdout",
     "output_type": "stream",
     "text": [
      "Epoch:  10  loss:  0.1960443084716797\n"
     ]
    },
    {
     "name": "stderr",
     "output_type": "stream",
     "text": [
      "\n"
     ]
    }
   ],
   "source": [
    "model = model_loader.fit(train_loader,loss_function = loss_function,epoch_num = epoch_num)"
   ]
  },
  {
   "cell_type": "code",
   "execution_count": 29,
   "id": "91dc4b43",
   "metadata": {
    "ExecuteTime": {
     "end_time": "2022-01-04T10:52:49.367203Z",
     "start_time": "2022-01-04T10:52:47.626523Z"
    }
   },
   "outputs": [
    {
     "name": "stdout",
     "output_type": "stream",
     "text": [
      "torch.Size([1024, 108, 3])\n",
      "torch.Size([1024, 108, 3])\n",
      "torch.Size([1024, 108, 3])\n",
      "torch.Size([1024, 108, 3])\n",
      "torch.Size([904, 108, 3])\n"
     ]
    }
   ],
   "source": [
    "for _, (inputs, outputs) in enumerate(train_loader):\n",
    "    inputs = Variable(inputs).float().to(\"cuda:0\")\n",
    "    print(inputs.shape)"
   ]
  }
 ],
 "metadata": {
  "kernelspec": {
   "display_name": "Python 3 (ipykernel)",
   "language": "python",
   "name": "python3"
  },
  "language_info": {
   "codemirror_mode": {
    "name": "ipython",
    "version": 3
   },
   "file_extension": ".py",
   "mimetype": "text/x-python",
   "name": "python",
   "nbconvert_exporter": "python",
   "pygments_lexer": "ipython3",
   "version": "3.7.9"
  }
 },
 "nbformat": 4,
 "nbformat_minor": 5
}
