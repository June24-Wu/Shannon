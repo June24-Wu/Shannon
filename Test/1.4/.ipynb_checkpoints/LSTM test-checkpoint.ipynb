{
 "cells": [
  {
   "cell_type": "code",
   "execution_count": 1,
   "id": "483bd59f",
   "metadata": {
    "ExecuteTime": {
     "end_time": "2022-01-04T10:46:03.216019Z",
     "start_time": "2022-01-04T10:46:01.492191Z"
    }
   },
   "outputs": [],
   "source": [
    "from os import walk\n",
    "import os\n",
    "import pandas as pd\n",
    "import numpy as np\n",
    "import torch\n",
    "import torch.nn as nn\n",
    "from progressbar import ProgressBar\n",
    "from tqdm import tqdm\n",
    "import torch.utils.data as Data\n",
    "import torch.optim as optim\n",
    "from tqdm import tqdm\n",
    "from torch.autograd import Variable\n",
    "import time\n",
    "import multiprocessing as mp\n",
    "from os import walk\n",
    "import matplotlib.pyplot as plt"
   ]
  },
  {
   "cell_type": "code",
   "execution_count": 2,
   "id": "894f1a83",
   "metadata": {
    "ExecuteTime": {
     "end_time": "2022-01-04T10:46:03.227308Z",
     "start_time": "2022-01-04T10:46:03.217856Z"
    }
   },
   "outputs": [],
   "source": [
    "class Model_Loader(object):\n",
    "    def __init__(self, model, optimizer, device=None):\n",
    "        if device == None:\n",
    "            raise ValueError(\n",
    "                r\"please indicate device by running device = torch.device('cuda:0' if torch.cuda.is_available() else 'cpu')\")\n",
    "        self.device = device\n",
    "        self.model = model.to(self.device)\n",
    "        self.best_model = model.to(self.device)\n",
    "        self.optimizer = optimizer\n",
    "        self.loss_list = []\n",
    "        self.min_loss = float(\"inf\")\n",
    "\n",
    "    def fit(self, dataloader, loss_function, epoch_num, save_path=None):\n",
    "        print(\"Learning Rate is :\", self.optimizer.state_dict()['param_groups'][0][\"lr\"])\n",
    "        loss_function = loss_function.to(self.device)\n",
    "\n",
    "        for epoch in tqdm(range(epoch_num)):\n",
    "            total_loss = 0\n",
    "            for _, (inputs, outputs) in enumerate(dataloader):\n",
    "                inputs = Variable(inputs).float().to(self.device)\n",
    "                outputs = Variable(outputs).float().to(self.device)\n",
    "                self.optimizer.zero_grad()  # noticed:  the grad return to zero before starting the loop\n",
    "\n",
    "                # forward + backward +update\n",
    "                pred = self.model(inputs)\n",
    "                pred = pred.to(self.device)\n",
    "                loss = loss_function(pred, outputs)\n",
    "                loss.backward()\n",
    "                self.optimizer.step()\n",
    "\n",
    "                total_loss += loss.item()\n",
    "            total_loss = total_loss * dataloader.batch_size / dataloader.dataset.tensors[0].shape[0]\n",
    "            print('Epoch: ', epoch + 1, ' loss: ', total_loss)\n",
    "            self.loss_list.append(total_loss)\n",
    "            if save_path is not None:\n",
    "                np.save(save_path + \"loss.npy\", self.loss_list)\n",
    "                if total_loss < self.min_loss:\n",
    "                    self.best_model = self.model\n",
    "                    torch.save(self.model, save_path + \"best_model.tar\")\n",
    "                    self.min_loss = total_loss\n",
    "        if save_path is not None:\n",
    "            torch.save(self.model, save_path + \"model.tar\")\n",
    "            plt.plot(self.loss_list, color='r')\n",
    "            plt.savefig(save_path + \"loss.png\")\n",
    "        return self.model\n",
    "\n",
    "    def transform(self, dataloader):\n",
    "        pred_list = []\n",
    "        label_list = []\n",
    "        for _, (data, label) in enumerate(dataloader):\n",
    "            data = Variable(data).float().to(self.device)\n",
    "            pred = self.model(data).to(self.device)\n",
    "            pred_list.extend(pred.tolist())\n",
    "            label_list.extend(label.tolist())\n",
    "        self.testy_pred = pd.DataFrame(pred_list)\n",
    "        self.testy = pd.DataFrame(label_list)\n",
    "        return self.testy_pred"
   ]
  },
  {
   "cell_type": "code",
   "execution_count": null,
   "id": "466d94bc",
   "metadata": {},
   "outputs": [],
   "source": [
    "x = torch.randn(5000,108,3)\n",
    "y = torch.randn(5000,1)"
   ]
  },
  {
   "cell_type": "code",
   "execution_count": null,
   "id": "984cc7be",
   "metadata": {},
   "outputs": [],
   "source": []
  }
 ],
 "metadata": {
  "kernelspec": {
   "display_name": "Python 3 (ipykernel)",
   "language": "python",
   "name": "python3"
  },
  "language_info": {
   "codemirror_mode": {
    "name": "ipython",
    "version": 3
   },
   "file_extension": ".py",
   "mimetype": "text/x-python",
   "name": "python",
   "nbconvert_exporter": "python",
   "pygments_lexer": "ipython3",
   "version": "3.7.9"
  }
 },
 "nbformat": 4,
 "nbformat_minor": 5
}
