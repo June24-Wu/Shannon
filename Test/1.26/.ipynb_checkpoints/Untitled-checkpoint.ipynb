{
 "cells": [
  {
   "cell_type": "code",
   "execution_count": 1,
   "id": "9e695981",
   "metadata": {
    "ExecuteTime": {
     "end_time": "2022-01-26T02:05:40.649427Z",
     "start_time": "2022-01-26T02:05:40.621428Z"
    }
   },
   "outputs": [
    {
     "data": {
      "text/plain": [
       "'2022-01-25 21:05:40'"
      ]
     },
     "execution_count": 1,
     "metadata": {},
     "output_type": "execute_result"
    }
   ],
   "source": [
    "import datetime\n",
    "datetime.datetime.now().strftime('%Y-%m-%d %H:%M:%S')"
   ]
  },
  {
   "cell_type": "code",
   "execution_count": null,
   "id": "7fdcd9c2",
   "metadata": {
    "ExecuteTime": {
     "start_time": "2022-01-26T04:42:01.105Z"
    }
   },
   "outputs": [],
   "source": [
    "import shutil\n",
    "shutil.copytree(r'/home/ShareFolder/feature_platform/ti0/wuwenjun/#Data_lib', r'/home/wuwenjun/Data')"
   ]
  },
  {
   "cell_type": "code",
   "execution_count": 22,
   "id": "84bd525f",
   "metadata": {
    "ExecuteTime": {
     "end_time": "2022-01-26T02:20:06.536328Z",
     "start_time": "2022-01-26T02:20:06.529538Z"
    }
   },
   "outputs": [
    {
     "data": {
      "text/plain": [
       "'01-26_10:20_'"
      ]
     },
     "execution_count": 22,
     "metadata": {},
     "output_type": "execute_result"
    }
   ],
   "source": [
    "(datetime.datetime.utcnow() + datetime.timedelta(hours=8)).strftime('%m-%d_%H:%M_')"
   ]
  },
  {
   "cell_type": "code",
   "execution_count": 18,
   "id": "fd629b82",
   "metadata": {
    "ExecuteTime": {
     "end_time": "2022-01-26T02:51:54.503413Z",
     "start_time": "2022-01-26T02:51:47.967860Z"
    }
   },
   "outputs": [
    {
     "data": {
      "text/html": [
       "<div>\n",
       "<style scoped>\n",
       "    .dataframe tbody tr th:only-of-type {\n",
       "        vertical-align: middle;\n",
       "    }\n",
       "\n",
       "    .dataframe tbody tr th {\n",
       "        vertical-align: top;\n",
       "    }\n",
       "\n",
       "    .dataframe thead th {\n",
       "        text-align: right;\n",
       "    }\n",
       "</style>\n",
       "<table border=\"1\" class=\"dataframe\">\n",
       "  <thead>\n",
       "    <tr style=\"text-align: right;\">\n",
       "      <th></th>\n",
       "      <th></th>\n",
       "      <th>open</th>\n",
       "      <th>high</th>\n",
       "      <th>low</th>\n",
       "      <th>close</th>\n",
       "      <th>vwap</th>\n",
       "      <th>volume</th>\n",
       "      <th>pct_chg</th>\n",
       "      <th>turnover</th>\n",
       "      <th>free_turnover</th>\n",
       "      <th>10d_ret</th>\n",
       "    </tr>\n",
       "    <tr>\n",
       "      <th>timestamp</th>\n",
       "      <th>ticker</th>\n",
       "      <th></th>\n",
       "      <th></th>\n",
       "      <th></th>\n",
       "      <th></th>\n",
       "      <th></th>\n",
       "      <th></th>\n",
       "      <th></th>\n",
       "      <th></th>\n",
       "      <th></th>\n",
       "      <th></th>\n",
       "    </tr>\n",
       "  </thead>\n",
       "  <tbody>\n",
       "    <tr>\n",
       "      <th>2015-01-06 09:30:00</th>\n",
       "      <th>5</th>\n",
       "      <td>38.00</td>\n",
       "      <td>38.00</td>\n",
       "      <td>38.00</td>\n",
       "      <td>38.00</td>\n",
       "      <td>37.997172</td>\n",
       "      <td>0.00</td>\n",
       "      <td>0.0000</td>\n",
       "      <td>0.0000</td>\n",
       "      <td>0.0000</td>\n",
       "      <td>0.000000</td>\n",
       "    </tr>\n",
       "    <tr>\n",
       "      <th>2015-01-07 09:30:00</th>\n",
       "      <th>5</th>\n",
       "      <td>38.00</td>\n",
       "      <td>38.00</td>\n",
       "      <td>38.00</td>\n",
       "      <td>38.00</td>\n",
       "      <td>37.997172</td>\n",
       "      <td>0.00</td>\n",
       "      <td>0.0000</td>\n",
       "      <td>0.0000</td>\n",
       "      <td>0.0000</td>\n",
       "      <td>0.000000</td>\n",
       "    </tr>\n",
       "    <tr>\n",
       "      <th>2015-01-08 09:30:00</th>\n",
       "      <th>5</th>\n",
       "      <td>38.00</td>\n",
       "      <td>38.00</td>\n",
       "      <td>38.00</td>\n",
       "      <td>38.00</td>\n",
       "      <td>37.997172</td>\n",
       "      <td>0.00</td>\n",
       "      <td>0.0000</td>\n",
       "      <td>0.0000</td>\n",
       "      <td>0.0000</td>\n",
       "      <td>0.000000</td>\n",
       "    </tr>\n",
       "    <tr>\n",
       "      <th>2015-01-09 09:30:00</th>\n",
       "      <th>5</th>\n",
       "      <td>38.00</td>\n",
       "      <td>38.00</td>\n",
       "      <td>38.00</td>\n",
       "      <td>38.00</td>\n",
       "      <td>37.997172</td>\n",
       "      <td>0.00</td>\n",
       "      <td>0.0000</td>\n",
       "      <td>0.0000</td>\n",
       "      <td>0.0000</td>\n",
       "      <td>0.000000</td>\n",
       "    </tr>\n",
       "    <tr>\n",
       "      <th>2015-01-12 09:30:00</th>\n",
       "      <th>5</th>\n",
       "      <td>38.00</td>\n",
       "      <td>38.00</td>\n",
       "      <td>38.00</td>\n",
       "      <td>38.00</td>\n",
       "      <td>37.997172</td>\n",
       "      <td>0.00</td>\n",
       "      <td>0.0000</td>\n",
       "      <td>0.0000</td>\n",
       "      <td>0.0000</td>\n",
       "      <td>0.000000</td>\n",
       "    </tr>\n",
       "    <tr>\n",
       "      <th>...</th>\n",
       "      <th>...</th>\n",
       "      <td>...</td>\n",
       "      <td>...</td>\n",
       "      <td>...</td>\n",
       "      <td>...</td>\n",
       "      <td>...</td>\n",
       "      <td>...</td>\n",
       "      <td>...</td>\n",
       "      <td>...</td>\n",
       "      <td>...</td>\n",
       "      <td>...</td>\n",
       "    </tr>\n",
       "    <tr>\n",
       "      <th>2021-06-25 09:30:00</th>\n",
       "      <th>5</th>\n",
       "      <td>17.42</td>\n",
       "      <td>18.16</td>\n",
       "      <td>17.33</td>\n",
       "      <td>17.79</td>\n",
       "      <td>17.905009</td>\n",
       "      <td>180151.49</td>\n",
       "      <td>2.1277</td>\n",
       "      <td>1.7028</td>\n",
       "      <td>2.0766</td>\n",
       "      <td>0.030700</td>\n",
       "    </tr>\n",
       "    <tr>\n",
       "      <th>2021-06-28 09:30:00</th>\n",
       "      <th>5</th>\n",
       "      <td>17.79</td>\n",
       "      <td>18.16</td>\n",
       "      <td>17.61</td>\n",
       "      <td>17.98</td>\n",
       "      <td>17.846623</td>\n",
       "      <td>138037.62</td>\n",
       "      <td>1.0417</td>\n",
       "      <td>1.3048</td>\n",
       "      <td>1.5911</td>\n",
       "      <td>0.028359</td>\n",
       "    </tr>\n",
       "    <tr>\n",
       "      <th>2021-06-29 09:30:00</th>\n",
       "      <th>5</th>\n",
       "      <td>18.07</td>\n",
       "      <td>18.07</td>\n",
       "      <td>17.15</td>\n",
       "      <td>17.24</td>\n",
       "      <td>17.536158</td>\n",
       "      <td>143742.05</td>\n",
       "      <td>-4.1237</td>\n",
       "      <td>1.3587</td>\n",
       "      <td>1.6569</td>\n",
       "      <td>0.093998</td>\n",
       "    </tr>\n",
       "    <tr>\n",
       "      <th>2021-06-30 09:30:00</th>\n",
       "      <th>5</th>\n",
       "      <td>17.15</td>\n",
       "      <td>17.79</td>\n",
       "      <td>16.96</td>\n",
       "      <td>17.52</td>\n",
       "      <td>17.338758</td>\n",
       "      <td>97958.76</td>\n",
       "      <td>1.6129</td>\n",
       "      <td>0.9259</td>\n",
       "      <td>1.1291</td>\n",
       "      <td>0.124366</td>\n",
       "    </tr>\n",
       "    <tr>\n",
       "      <th>2021-07-01 09:30:00</th>\n",
       "      <th>5</th>\n",
       "      <td>17.52</td>\n",
       "      <td>17.70</td>\n",
       "      <td>17.24</td>\n",
       "      <td>17.42</td>\n",
       "      <td>17.412899</td>\n",
       "      <td>59032.00</td>\n",
       "      <td>-0.5291</td>\n",
       "      <td>0.5580</td>\n",
       "      <td>0.6804</td>\n",
       "      <td>0.141017</td>\n",
       "    </tr>\n",
       "  </tbody>\n",
       "</table>\n",
       "<p>1580 rows × 10 columns</p>\n",
       "</div>"
      ],
      "text/plain": [
       "                             open   high    low  close       vwap     volume  \\\n",
       "timestamp           ticker                                                     \n",
       "2015-01-06 09:30:00 5       38.00  38.00  38.00  38.00  37.997172       0.00   \n",
       "2015-01-07 09:30:00 5       38.00  38.00  38.00  38.00  37.997172       0.00   \n",
       "2015-01-08 09:30:00 5       38.00  38.00  38.00  38.00  37.997172       0.00   \n",
       "2015-01-09 09:30:00 5       38.00  38.00  38.00  38.00  37.997172       0.00   \n",
       "2015-01-12 09:30:00 5       38.00  38.00  38.00  38.00  37.997172       0.00   \n",
       "...                           ...    ...    ...    ...        ...        ...   \n",
       "2021-06-25 09:30:00 5       17.42  18.16  17.33  17.79  17.905009  180151.49   \n",
       "2021-06-28 09:30:00 5       17.79  18.16  17.61  17.98  17.846623  138037.62   \n",
       "2021-06-29 09:30:00 5       18.07  18.07  17.15  17.24  17.536158  143742.05   \n",
       "2021-06-30 09:30:00 5       17.15  17.79  16.96  17.52  17.338758   97958.76   \n",
       "2021-07-01 09:30:00 5       17.52  17.70  17.24  17.42  17.412899   59032.00   \n",
       "\n",
       "                            pct_chg  turnover  free_turnover   10d_ret  \n",
       "timestamp           ticker                                              \n",
       "2015-01-06 09:30:00 5        0.0000    0.0000         0.0000  0.000000  \n",
       "2015-01-07 09:30:00 5        0.0000    0.0000         0.0000  0.000000  \n",
       "2015-01-08 09:30:00 5        0.0000    0.0000         0.0000  0.000000  \n",
       "2015-01-09 09:30:00 5        0.0000    0.0000         0.0000  0.000000  \n",
       "2015-01-12 09:30:00 5        0.0000    0.0000         0.0000  0.000000  \n",
       "...                             ...       ...            ...       ...  \n",
       "2021-06-25 09:30:00 5        2.1277    1.7028         2.0766  0.030700  \n",
       "2021-06-28 09:30:00 5        1.0417    1.3048         1.5911  0.028359  \n",
       "2021-06-29 09:30:00 5       -4.1237    1.3587         1.6569  0.093998  \n",
       "2021-06-30 09:30:00 5        1.6129    0.9259         1.1291  0.124366  \n",
       "2021-07-01 09:30:00 5       -0.5291    0.5580         0.6804  0.141017  \n",
       "\n",
       "[1580 rows x 10 columns]"
      ]
     },
     "execution_count": 18,
     "metadata": {},
     "output_type": "execute_result"
    }
   ],
   "source": [
    "import pandas as pd\n",
    "a = pd.read_csv(\"/home/wuwenjun/Data/AlphaNet_Original_Input_10d_return_move7/data.csv\")\n",
    "a = a[a[\"ticker\"] ==5]\n",
    "a.set_index([\"timestamp\",\"ticker\"],inplace=True)\n",
    "a"
   ]
  },
  {
   "cell_type": "code",
   "execution_count": 25,
   "id": "1a6850a4",
   "metadata": {
    "ExecuteTime": {
     "end_time": "2022-01-26T03:00:56.365601Z",
     "start_time": "2022-01-26T03:00:56.360033Z"
    }
   },
   "outputs": [],
   "source": [
    "a[\"volume\"] = a[\"volume\"].apply(np.sqrt)"
   ]
  },
  {
   "cell_type": "code",
   "execution_count": 12,
   "id": "77c7d5b8",
   "metadata": {
    "ExecuteTime": {
     "end_time": "2022-01-26T02:47:19.452080Z",
     "start_time": "2022-01-26T02:47:19.448617Z"
    }
   },
   "outputs": [],
   "source": [
    "a[\"vwap\"] = (a[\"vwap\"] - a[\"close\"])/a[\"close\"]"
   ]
  },
  {
   "cell_type": "code",
   "execution_count": 16,
   "id": "067c54ba",
   "metadata": {
    "ExecuteTime": {
     "end_time": "2022-01-26T02:51:22.997003Z",
     "start_time": "2022-01-26T02:51:22.992334Z"
    }
   },
   "outputs": [],
   "source": [
    "a.drop(\"free_turnover\",axis=1,inplace=True)"
   ]
  },
  {
   "cell_type": "code",
   "execution_count": 26,
   "id": "610b85ba",
   "metadata": {
    "ExecuteTime": {
     "end_time": "2022-01-26T03:00:58.364708Z",
     "start_time": "2022-01-26T03:00:57.798287Z"
    }
   },
   "outputs": [
    {
     "data": {
      "image/png": "[encoded data removed]",
      "text/plain": [
       "<Figure size 1008x720 with 2 Axes>"
      ]
     },
     "metadata": {
      "needs_background": "light"
     },
     "output_type": "display_data"
    }
   ],
   "source": [
    "import seaborn as sns\n",
    "import numpy as np\n",
    "import matplotlib.pyplot as plt\n",
    "\n",
    "corr = a.corr()\n",
    "f, ax= plt.subplots(figsize = (14, 10))\n",
    "# print(corr)\n",
    "sns.heatmap(corr,cmap='RdBu', linewidths = 0.05, ax = ax,annot=True)\n",
    "\n",
    "# 设置Axes的标题\n",
    "ax.set_title('Correlation between features')\n",
    "plt.show()"
   ]
  }
 ],
 "metadata": {
  "kernelspec": {
   "display_name": "Python 3 (ipykernel)",
   "language": "python",
   "name": "python3"
  },
  "language_info": {
   "codemirror_mode": {
    "name": "ipython",
    "version": 3
   },
   "file_extension": ".py",
   "mimetype": "text/x-python",
   "name": "python",
   "nbconvert_exporter": "python",
   "pygments_lexer": "ipython3",
   "version": "3.7.9"
  }
 },
 "nbformat": 4,
 "nbformat_minor": 5
}
