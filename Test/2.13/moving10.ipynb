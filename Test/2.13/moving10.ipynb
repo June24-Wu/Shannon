{
 "cells": [
  {
   "cell_type": "code",
   "execution_count": 8,
   "id": "f85c9295",
   "metadata": {
    "ExecuteTime": {
     "end_time": "2022-02-13T09:32:03.970775Z",
     "start_time": "2022-02-13T09:32:03.951133Z"
    }
   },
   "outputs": [],
   "source": [
    "import time\n",
    "import datetime\n",
    "import os\n",
    "from Research.backtest.bt import BTDaily\n",
    "import matplotlib.pyplot as plt\n",
    "from Research.feature.ft import FeatureAnalysis\n",
    "import Research.utils.namespace as namespace\n",
    "import Research.utils.normalization as norm\n",
    "from Platform.database.mysql import MysqlAPI\n",
    "from Platform.utils.persistence import convert_to_standard_daily_feature_csv, convert_to_standard_daily_feature_par\n",
    "from Platform.config.mysql_info import FACTOR_LIB_MYSQL_TIO\n",
    "import DataAPI\n",
    "from os import walk\n",
    "import pandas as pd\n",
    "import numpy as np\n",
    "import torch\n",
    "import torch.nn as nn\n",
    "from progressbar import ProgressBar\n",
    "from tqdm import tqdm\n",
    "import multiprocessing as mp\n",
    "import sys\n",
    "sys.path.append(\"/home/wuwenjun/jupyter_code/Shannon/AlphaNet/packages/\")\n",
    "import AlphaNet\n",
    "from AlphaNet.Data import concat_original_data , generate_shift_data , generate_alpha_list\n",
    "# read_task\n",
    "task_info = np.load(\"/home/ShareFolder/feature_platform/ti0/wuwenjun/#Factor_Description/Task.npy\",allow_pickle=True).item()\n",
    "factor_info = task_info[\"Factor\"]"
   ]
  },
  {
   "cell_type": "code",
   "execution_count": 10,
   "id": "eac9df27",
   "metadata": {
    "ExecuteTime": {
     "end_time": "2022-02-13T09:32:08.053231Z",
     "start_time": "2022-02-13T09:32:08.035307Z"
    }
   },
   "outputs": [
    {
     "data": {
      "text/plain": [
       "['COV_div_open_close_div_high_close_10',\n",
       " 'COV_div_open_close_div_low_close_10',\n",
       " 'COV_div_open_close_close_10',\n",
       " 'COV_div_open_close_div_vwap_close_10',\n",
       " 'COV_div_open_close_volume_sqrt_8_10',\n",
       " 'COV_div_open_close_pct_chg_10',\n",
       " 'COV_div_open_close_turnover_10',\n",
       " 'COV_div_open_close_div_close_free_turnover_10',\n",
       " 'COV_div_open_close_div_price_turnover_10',\n",
       " 'COV_div_open_close_div_volume_low_10',\n",
       " 'COV_div_open_close_div_low_high_10',\n",
       " 'COV_div_open_close_div_vwap_close_2_10',\n",
       " 'COV_div_high_close_div_low_close_10',\n",
       " 'COV_div_high_close_close_10',\n",
       " 'COV_div_high_close_div_vwap_close_10',\n",
       " 'COV_div_high_close_volume_sqrt_8_10',\n",
       " 'COV_div_high_close_pct_chg_10',\n",
       " 'COV_div_high_close_turnover_10',\n",
       " 'COV_div_high_close_div_close_free_turnover_10',\n",
       " 'COV_div_high_close_div_price_turnover_10',\n",
       " 'COV_div_high_close_div_volume_low_10',\n",
       " 'COV_div_high_close_div_low_high_10',\n",
       " 'COV_div_high_close_div_vwap_close_2_10',\n",
       " 'COV_div_low_close_close_10',\n",
       " 'COV_div_low_close_div_vwap_close_10',\n",
       " 'COV_div_low_close_volume_sqrt_8_10',\n",
       " 'COV_div_low_close_pct_chg_10',\n",
       " 'COV_div_low_close_turnover_10',\n",
       " 'COV_div_low_close_div_close_free_turnover_10',\n",
       " 'COV_div_low_close_div_price_turnover_10',\n",
       " 'COV_div_low_close_div_volume_low_10',\n",
       " 'COV_div_low_close_div_low_high_10',\n",
       " 'COV_div_low_close_div_vwap_close_2_10',\n",
       " 'COV_close_div_vwap_close_10',\n",
       " 'COV_close_volume_sqrt_8_10',\n",
       " 'COV_close_pct_chg_10',\n",
       " 'COV_close_turnover_10',\n",
       " 'COV_close_div_close_free_turnover_10',\n",
       " 'COV_close_div_price_turnover_10',\n",
       " 'COV_close_div_volume_low_10',\n",
       " 'COV_close_div_low_high_10',\n",
       " 'COV_close_div_vwap_close_2_10',\n",
       " 'COV_div_vwap_close_volume_sqrt_8_10',\n",
       " 'COV_div_vwap_close_pct_chg_10',\n",
       " 'COV_div_vwap_close_turnover_10',\n",
       " 'COV_div_vwap_close_div_close_free_turnover_10',\n",
       " 'COV_div_vwap_close_div_price_turnover_10',\n",
       " 'COV_div_vwap_close_div_volume_low_10',\n",
       " 'COV_div_vwap_close_div_low_high_10',\n",
       " 'COV_div_vwap_close_div_vwap_close_2_10',\n",
       " 'COV_volume_sqrt_8_pct_chg_10',\n",
       " 'COV_volume_sqrt_8_turnover_10',\n",
       " 'COV_volume_sqrt_8_div_close_free_turnover_10',\n",
       " 'COV_volume_sqrt_8_div_price_turnover_10',\n",
       " 'COV_volume_sqrt_8_div_volume_low_10',\n",
       " 'COV_volume_sqrt_8_div_low_high_10',\n",
       " 'COV_volume_sqrt_8_div_vwap_close_2_10',\n",
       " 'COV_pct_chg_turnover_10',\n",
       " 'COV_pct_chg_div_close_free_turnover_10',\n",
       " 'COV_pct_chg_div_price_turnover_10',\n",
       " 'COV_pct_chg_div_volume_low_10',\n",
       " 'COV_pct_chg_div_low_high_10',\n",
       " 'COV_pct_chg_div_vwap_close_2_10',\n",
       " 'COV_turnover_div_close_free_turnover_10',\n",
       " 'COV_turnover_div_price_turnover_10',\n",
       " 'COV_turnover_div_volume_low_10',\n",
       " 'COV_turnover_div_low_high_10',\n",
       " 'COV_turnover_div_vwap_close_2_10',\n",
       " 'COV_div_close_free_turnover_div_price_turnover_10',\n",
       " 'COV_div_close_free_turnover_div_volume_low_10',\n",
       " 'COV_div_close_free_turnover_div_low_high_10',\n",
       " 'COV_div_close_free_turnover_div_vwap_close_2_10',\n",
       " 'COV_div_price_turnover_div_volume_low_10',\n",
       " 'COV_div_price_turnover_div_low_high_10',\n",
       " 'COV_div_price_turnover_div_vwap_close_2_10',\n",
       " 'COV_div_volume_low_div_low_high_10',\n",
       " 'COV_div_volume_low_div_vwap_close_2_10',\n",
       " 'COV_div_low_high_div_vwap_close_2_10',\n",
       " 'CORR_div_open_close_div_high_close_10',\n",
       " 'CORR_div_open_close_div_low_close_10',\n",
       " 'CORR_div_open_close_close_10',\n",
       " 'CORR_div_open_close_div_vwap_close_10',\n",
       " 'CORR_div_open_close_volume_sqrt_8_10',\n",
       " 'CORR_div_open_close_pct_chg_10',\n",
       " 'CORR_div_open_close_turnover_10',\n",
       " 'CORR_div_open_close_div_close_free_turnover_10',\n",
       " 'CORR_div_open_close_div_price_turnover_10',\n",
       " 'CORR_div_open_close_div_volume_low_10',\n",
       " 'CORR_div_open_close_div_low_high_10',\n",
       " 'CORR_div_open_close_div_vwap_close_2_10',\n",
       " 'CORR_div_high_close_div_low_close_10',\n",
       " 'CORR_div_high_close_close_10',\n",
       " 'CORR_div_high_close_div_vwap_close_10',\n",
       " 'CORR_div_high_close_volume_sqrt_8_10',\n",
       " 'CORR_div_high_close_pct_chg_10',\n",
       " 'CORR_div_high_close_turnover_10',\n",
       " 'CORR_div_high_close_div_close_free_turnover_10',\n",
       " 'CORR_div_high_close_div_price_turnover_10',\n",
       " 'CORR_div_high_close_div_volume_low_10',\n",
       " 'CORR_div_high_close_div_low_high_10',\n",
       " 'CORR_div_high_close_div_vwap_close_2_10',\n",
       " 'CORR_div_low_close_close_10',\n",
       " 'CORR_div_low_close_div_vwap_close_10',\n",
       " 'CORR_div_low_close_volume_sqrt_8_10',\n",
       " 'CORR_div_low_close_pct_chg_10',\n",
       " 'CORR_div_low_close_turnover_10',\n",
       " 'CORR_div_low_close_div_close_free_turnover_10',\n",
       " 'CORR_div_low_close_div_price_turnover_10',\n",
       " 'CORR_div_low_close_div_volume_low_10',\n",
       " 'CORR_div_low_close_div_low_high_10',\n",
       " 'CORR_div_low_close_div_vwap_close_2_10',\n",
       " 'CORR_close_div_vwap_close_10',\n",
       " 'CORR_close_volume_sqrt_8_10',\n",
       " 'CORR_close_pct_chg_10',\n",
       " 'CORR_close_turnover_10',\n",
       " 'CORR_close_div_close_free_turnover_10',\n",
       " 'CORR_close_div_price_turnover_10',\n",
       " 'CORR_close_div_volume_low_10',\n",
       " 'CORR_close_div_low_high_10',\n",
       " 'CORR_close_div_vwap_close_2_10',\n",
       " 'CORR_div_vwap_close_volume_sqrt_8_10',\n",
       " 'CORR_div_vwap_close_pct_chg_10',\n",
       " 'CORR_div_vwap_close_turnover_10',\n",
       " 'CORR_div_vwap_close_div_close_free_turnover_10',\n",
       " 'CORR_div_vwap_close_div_price_turnover_10',\n",
       " 'CORR_div_vwap_close_div_volume_low_10',\n",
       " 'CORR_div_vwap_close_div_low_high_10',\n",
       " 'CORR_div_vwap_close_div_vwap_close_2_10',\n",
       " 'CORR_volume_sqrt_8_pct_chg_10',\n",
       " 'CORR_volume_sqrt_8_turnover_10',\n",
       " 'CORR_volume_sqrt_8_div_close_free_turnover_10',\n",
       " 'CORR_volume_sqrt_8_div_price_turnover_10',\n",
       " 'CORR_volume_sqrt_8_div_volume_low_10',\n",
       " 'CORR_volume_sqrt_8_div_low_high_10',\n",
       " 'CORR_volume_sqrt_8_div_vwap_close_2_10',\n",
       " 'CORR_pct_chg_turnover_10',\n",
       " 'CORR_pct_chg_div_close_free_turnover_10',\n",
       " 'CORR_pct_chg_div_price_turnover_10',\n",
       " 'CORR_pct_chg_div_volume_low_10',\n",
       " 'CORR_pct_chg_div_low_high_10',\n",
       " 'CORR_pct_chg_div_vwap_close_2_10',\n",
       " 'CORR_turnover_div_close_free_turnover_10',\n",
       " 'CORR_turnover_div_price_turnover_10',\n",
       " 'CORR_turnover_div_volume_low_10',\n",
       " 'CORR_turnover_div_low_high_10',\n",
       " 'CORR_turnover_div_vwap_close_2_10',\n",
       " 'CORR_div_close_free_turnover_div_price_turnover_10',\n",
       " 'CORR_div_close_free_turnover_div_volume_low_10',\n",
       " 'CORR_div_close_free_turnover_div_low_high_10',\n",
       " 'CORR_div_close_free_turnover_div_vwap_close_2_10',\n",
       " 'CORR_div_price_turnover_div_volume_low_10',\n",
       " 'CORR_div_price_turnover_div_low_high_10',\n",
       " 'CORR_div_price_turnover_div_vwap_close_2_10',\n",
       " 'CORR_div_volume_low_div_low_high_10',\n",
       " 'CORR_div_volume_low_div_vwap_close_2_10',\n",
       " 'CORR_div_low_high_div_vwap_close_2_10',\n",
       " 'STD_div_open_close_10',\n",
       " 'STD_div_high_close_10',\n",
       " 'STD_div_low_close_10',\n",
       " 'STD_close_10',\n",
       " 'STD_div_vwap_close_10',\n",
       " 'STD_volume_sqrt_8_10',\n",
       " 'STD_pct_chg_10',\n",
       " 'STD_turnover_10',\n",
       " 'STD_div_close_free_turnover_10',\n",
       " 'STD_div_price_turnover_10',\n",
       " 'STD_div_volume_low_10',\n",
       " 'STD_div_low_high_10',\n",
       " 'STD_div_vwap_close_2_10',\n",
       " 'ZSCORE_div_open_close_10',\n",
       " 'ZSCORE_div_high_close_10',\n",
       " 'ZSCORE_div_low_close_10',\n",
       " 'ZSCORE_close_10',\n",
       " 'ZSCORE_div_vwap_close_10',\n",
       " 'ZSCORE_volume_sqrt_8_10',\n",
       " 'ZSCORE_pct_chg_10',\n",
       " 'ZSCORE_turnover_10',\n",
       " 'ZSCORE_div_close_free_turnover_10',\n",
       " 'ZSCORE_div_price_turnover_10',\n",
       " 'ZSCORE_div_volume_low_10',\n",
       " 'ZSCORE_div_low_high_10',\n",
       " 'ZSCORE_div_vwap_close_2_10',\n",
       " 'RETURN_div_open_close_10',\n",
       " 'RETURN_div_high_close_10',\n",
       " 'RETURN_div_low_close_10',\n",
       " 'RETURN_close_10',\n",
       " 'RETURN_div_vwap_close_10',\n",
       " 'RETURN_volume_sqrt_8_10',\n",
       " 'RETURN_pct_chg_10',\n",
       " 'RETURN_turnover_10',\n",
       " 'RETURN_div_close_free_turnover_10',\n",
       " 'RETURN_div_price_turnover_10',\n",
       " 'RETURN_div_volume_low_10',\n",
       " 'RETURN_div_low_high_10',\n",
       " 'RETURN_div_vwap_close_2_10',\n",
       " 'DECAY_div_open_close_10',\n",
       " 'DECAY_div_high_close_10',\n",
       " 'DECAY_div_low_close_10',\n",
       " 'DECAY_close_10',\n",
       " 'DECAY_div_vwap_close_10',\n",
       " 'DECAY_volume_sqrt_8_10',\n",
       " 'DECAY_pct_chg_10',\n",
       " 'DECAY_turnover_10',\n",
       " 'DECAY_div_close_free_turnover_10',\n",
       " 'DECAY_div_price_turnover_10',\n",
       " 'DECAY_div_volume_low_10',\n",
       " 'DECAY_div_low_high_10',\n",
       " 'DECAY_div_vwap_close_2_10']"
      ]
     },
     "execution_count": 10,
     "metadata": {},
     "output_type": "execute_result"
    }
   ],
   "source": [
    "feat_list = [\n",
    "    'div_open_close','div_high_close','div_low_close','close','div_vwap_close','volume_sqrt_8','pct_chg','turnover',\n",
    "              \"div_close_free_turnover\",\"div_price_turnover\",\"div_volume_low\",\"div_low_high\",\"div_vwap_close_2\"\n",
    "]\n",
    "alpha_list = generate_alpha_list(feat_list, [\"CORR\",\"COV\",\"STD\",\"ZSCORE\",\"RETURN\",\"DECAY\"], 10)\n",
    "alpha_list"
   ]
  },
  {
   "cell_type": "code",
   "execution_count": null,
   "id": "1747f30b",
   "metadata": {
    "ExecuteTime": {
     "start_time": "2022-02-13T09:32:47.320Z"
    }
   },
   "outputs": [
    {
     "name": "stderr",
     "output_type": "stream",
     "text": [
      "Loading Feature...: 100%|████████████████████████████████████████████████████████████████████████████████████| 273520/273520 [11:20<00:00, 401.71it/s]\n",
      "Calculating correlations...: 100%|███████████████████████████████████████████████████████████████████████████████| 1306/1306 [00:02<00:00, 575.37it/s]\n"
     ]
    },
    {
     "name": "stdout",
     "output_type": "stream",
     "text": [
      "add [COV_div_open_close_div_low_close_10]\n"
     ]
    },
    {
     "name": "stderr",
     "output_type": "stream",
     "text": [
      "Calculating correlations...: 100%|███████████████████████████████████████████████████████████████████████████████| 1306/1306 [00:03<00:00, 411.78it/s]\n"
     ]
    },
    {
     "name": "stdout",
     "output_type": "stream",
     "text": [
      "add [COV_div_open_close_close_10]\n"
     ]
    },
    {
     "name": "stderr",
     "output_type": "stream",
     "text": [
      "Calculating correlations...: 100%|███████████████████████████████████████████████████████████████████████████████| 1306/1306 [00:02<00:00, 568.75it/s]\n"
     ]
    },
    {
     "name": "stdout",
     "output_type": "stream",
     "text": [
      "delete [COV_div_open_close_div_vwap_close_10] because of 83 [COV_div_open_close_div_low_close_10]\n"
     ]
    },
    {
     "name": "stderr",
     "output_type": "stream",
     "text": [
      "Calculating correlations...: 100%|███████████████████████████████████████████████████████████████████████████████| 1306/1306 [00:03<00:00, 415.31it/s]\n"
     ]
    },
    {
     "name": "stdout",
     "output_type": "stream",
     "text": [
      "add [COV_div_open_close_volume_sqrt_8_10]\n"
     ]
    },
    {
     "name": "stderr",
     "output_type": "stream",
     "text": [
      "Calculating correlations...: 100%|███████████████████████████████████████████████████████████████████████████████| 1306/1306 [00:03<00:00, 424.18it/s]\n"
     ]
    },
    {
     "name": "stdout",
     "output_type": "stream",
     "text": [
      "add [COV_div_open_close_pct_chg_10]\n"
     ]
    },
    {
     "name": "stderr",
     "output_type": "stream",
     "text": [
      "Calculating correlations...: 100%|███████████████████████████████████████████████████████████████████████████████| 1306/1306 [00:02<00:00, 558.25it/s]\n"
     ]
    },
    {
     "name": "stdout",
     "output_type": "stream",
     "text": [
      "delete [COV_div_open_close_turnover_10] because of 91 [COV_div_open_close_volume_sqrt_8_10]\n"
     ]
    },
    {
     "name": "stderr",
     "output_type": "stream",
     "text": [
      "Calculating correlations...: 100%|███████████████████████████████████████████████████████████████████████████████| 1306/1306 [00:02<00:00, 469.16it/s]\n"
     ]
    },
    {
     "name": "stdout",
     "output_type": "stream",
     "text": [
      "add [COV_div_open_close_div_close_free_turnover_10]\n"
     ]
    },
    {
     "name": "stderr",
     "output_type": "stream",
     "text": [
      "Calculating correlations...: 100%|███████████████████████████████████████████████████████████████████████████████| 1306/1306 [00:02<00:00, 644.82it/s]\n"
     ]
    },
    {
     "name": "stdout",
     "output_type": "stream",
     "text": [
      "delete [COV_div_open_close_div_price_turnover_10] because of 87 [COV_div_open_close_pct_chg_10]\n"
     ]
    },
    {
     "name": "stderr",
     "output_type": "stream",
     "text": [
      "Calculating correlations...: 100%|███████████████████████████████████████████████████████████████████████████████| 1306/1306 [00:02<00:00, 481.79it/s]\n"
     ]
    },
    {
     "name": "stdout",
     "output_type": "stream",
     "text": [
      "delete [COV_div_open_close_div_volume_low_10] because of 87 [COV_div_open_close_volume_sqrt_8_10]\n"
     ]
    },
    {
     "name": "stderr",
     "output_type": "stream",
     "text": [
      "Calculating correlations...: 100%|███████████████████████████████████████████████████████████████████████████████| 1306/1306 [00:02<00:00, 519.80it/s]\n"
     ]
    },
    {
     "name": "stdout",
     "output_type": "stream",
     "text": [
      "add [COV_div_open_close_div_low_high_10]\n"
     ]
    },
    {
     "name": "stderr",
     "output_type": "stream",
     "text": [
      "Calculating correlations...: 100%|███████████████████████████████████████████████████████████████████████████████| 1306/1306 [00:02<00:00, 510.98it/s]\n"
     ]
    },
    {
     "name": "stdout",
     "output_type": "stream",
     "text": [
      "delete [COV_div_open_close_div_vwap_close_2_10] because of 83 [COV_div_open_close_div_low_close_10]\n"
     ]
    },
    {
     "name": "stderr",
     "output_type": "stream",
     "text": [
      "Calculating correlations...: 100%|███████████████████████████████████████████████████████████████████████████████| 1306/1306 [00:02<00:00, 617.39it/s]\n"
     ]
    },
    {
     "name": "stdout",
     "output_type": "stream",
     "text": [
      "add [COV_div_high_close_div_low_close_10]\n"
     ]
    },
    {
     "name": "stderr",
     "output_type": "stream",
     "text": [
      "Calculating correlations...: 100%|███████████████████████████████████████████████████████████████████████████████| 1306/1306 [00:02<00:00, 614.01it/s]\n"
     ]
    },
    {
     "name": "stdout",
     "output_type": "stream",
     "text": [
      "add [COV_div_high_close_close_10]\n"
     ]
    },
    {
     "name": "stderr",
     "output_type": "stream",
     "text": [
      "Calculating correlations...: 100%|███████████████████████████████████████████████████████████████████████████████| 1306/1306 [00:02<00:00, 504.25it/s]\n"
     ]
    },
    {
     "name": "stdout",
     "output_type": "stream",
     "text": [
      "delete [COV_div_high_close_div_vwap_close_10] because of 84 [COV_div_open_close_div_high_close_10]\n"
     ]
    },
    {
     "name": "stderr",
     "output_type": "stream",
     "text": [
      "Calculating correlations...: 100%|███████████████████████████████████████████████████████████████████████████████| 1306/1306 [00:02<00:00, 557.42it/s]\n"
     ]
    },
    {
     "name": "stdout",
     "output_type": "stream",
     "text": [
      "add [COV_div_high_close_volume_sqrt_8_10]\n"
     ]
    },
    {
     "name": "stderr",
     "output_type": "stream",
     "text": [
      "Calculating correlations...: 100%|███████████████████████████████████████████████████████████████████████████████| 1306/1306 [00:02<00:00, 586.45it/s]\n"
     ]
    },
    {
     "name": "stdout",
     "output_type": "stream",
     "text": [
      "add [COV_div_high_close_pct_chg_10]\n"
     ]
    },
    {
     "name": "stderr",
     "output_type": "stream",
     "text": [
      "Calculating correlations...: 100%|███████████████████████████████████████████████████████████████████████████████| 1306/1306 [00:02<00:00, 492.93it/s]\n"
     ]
    },
    {
     "name": "stdout",
     "output_type": "stream",
     "text": [
      "delete [COV_div_high_close_turnover_10] because of 90 [COV_div_high_close_volume_sqrt_8_10]\n"
     ]
    },
    {
     "name": "stderr",
     "output_type": "stream",
     "text": [
      "Calculating correlations...: 100%|███████████████████████████████████████████████████████████████████████████████| 1306/1306 [00:02<00:00, 491.99it/s]\n"
     ]
    },
    {
     "name": "stdout",
     "output_type": "stream",
     "text": [
      "add [COV_div_high_close_div_close_free_turnover_10]\n"
     ]
    },
    {
     "name": "stderr",
     "output_type": "stream",
     "text": [
      "Calculating correlations...: 100%|███████████████████████████████████████████████████████████████████████████████| 1306/1306 [00:02<00:00, 479.58it/s]\n"
     ]
    },
    {
     "name": "stdout",
     "output_type": "stream",
     "text": [
      "delete [COV_div_high_close_div_price_turnover_10] because of 85 [COV_div_high_close_pct_chg_10]\n"
     ]
    },
    {
     "name": "stderr",
     "output_type": "stream",
     "text": [
      "Calculating correlations...: 100%|███████████████████████████████████████████████████████████████████████████████| 1306/1306 [00:02<00:00, 463.99it/s]\n"
     ]
    },
    {
     "name": "stdout",
     "output_type": "stream",
     "text": [
      "delete [COV_div_high_close_div_volume_low_10] because of 84 [COV_div_high_close_volume_sqrt_8_10]\n"
     ]
    },
    {
     "name": "stderr",
     "output_type": "stream",
     "text": [
      "Calculating correlations...: 100%|███████████████████████████████████████████████████████████████████████████████| 1306/1306 [00:02<00:00, 497.35it/s]\n"
     ]
    },
    {
     "name": "stdout",
     "output_type": "stream",
     "text": [
      "add [COV_div_high_close_div_low_high_10]\n"
     ]
    },
    {
     "name": "stderr",
     "output_type": "stream",
     "text": [
      "Calculating correlations...: 100%|███████████████████████████████████████████████████████████████████████████████| 1306/1306 [00:02<00:00, 508.32it/s]\n"
     ]
    },
    {
     "name": "stdout",
     "output_type": "stream",
     "text": [
      "delete [COV_div_high_close_div_vwap_close_2_10] because of 84 [COV_div_open_close_div_high_close_10]\n"
     ]
    },
    {
     "name": "stderr",
     "output_type": "stream",
     "text": [
      "Calculating correlations...: 100%|███████████████████████████████████████████████████████████████████████████████| 1306/1306 [00:02<00:00, 491.66it/s]\n"
     ]
    },
    {
     "name": "stdout",
     "output_type": "stream",
     "text": [
      "add [COV_div_low_close_close_10]\n"
     ]
    },
    {
     "name": "stderr",
     "output_type": "stream",
     "text": [
      "Calculating correlations...: 100%|███████████████████████████████████████████████████████████████████████████████| 1306/1306 [00:02<00:00, 513.08it/s]\n"
     ]
    },
    {
     "name": "stdout",
     "output_type": "stream",
     "text": [
      "delete [COV_div_low_close_div_vwap_close_10] because of 87 [COV_div_open_close_div_low_close_10]\n"
     ]
    },
    {
     "name": "stderr",
     "output_type": "stream",
     "text": [
      "Calculating correlations...: 100%|███████████████████████████████████████████████████████████████████████████████| 1306/1306 [00:02<00:00, 521.69it/s]\n"
     ]
    },
    {
     "name": "stdout",
     "output_type": "stream",
     "text": [
      "add [COV_div_low_close_volume_sqrt_8_10]\n"
     ]
    },
    {
     "name": "stderr",
     "output_type": "stream",
     "text": [
      "Calculating correlations...: 100%|███████████████████████████████████████████████████████████████████████████████| 1306/1306 [00:02<00:00, 480.20it/s]\n"
     ]
    },
    {
     "name": "stdout",
     "output_type": "stream",
     "text": [
      "delete [COV_div_low_close_pct_chg_10] because of 86 [COV_div_open_close_pct_chg_10]\n"
     ]
    },
    {
     "name": "stderr",
     "output_type": "stream",
     "text": [
      "Calculating correlations...: 100%|███████████████████████████████████████████████████████████████████████████████| 1306/1306 [00:02<00:00, 489.30it/s]\n"
     ]
    },
    {
     "name": "stdout",
     "output_type": "stream",
     "text": [
      "delete [COV_div_low_close_turnover_10] because of 88 [COV_div_low_close_volume_sqrt_8_10]\n"
     ]
    },
    {
     "name": "stderr",
     "output_type": "stream",
     "text": [
      "Calculating correlations...: 100%|███████████████████████████████████████████████████████████████████████████████| 1306/1306 [00:02<00:00, 476.00it/s]\n"
     ]
    },
    {
     "name": "stdout",
     "output_type": "stream",
     "text": [
      "add [COV_div_low_close_div_close_free_turnover_10]\n"
     ]
    },
    {
     "name": "stderr",
     "output_type": "stream",
     "text": [
      "Calculating correlations...: 100%|███████████████████████████████████████████████████████████████████████████████| 1306/1306 [00:02<00:00, 469.83it/s]\n"
     ]
    },
    {
     "name": "stdout",
     "output_type": "stream",
     "text": [
      "delete [COV_div_low_close_div_price_turnover_10] because of 80 [COV_div_open_close_pct_chg_10]\n"
     ]
    },
    {
     "name": "stderr",
     "output_type": "stream",
     "text": [
      "Calculating correlations...: 100%|███████████████████████████████████████████████████████████████████████████████| 1306/1306 [00:02<00:00, 494.43it/s]\n"
     ]
    },
    {
     "name": "stdout",
     "output_type": "stream",
     "text": [
      "delete [COV_div_low_close_div_volume_low_10] because of 80 [COV_div_low_close_volume_sqrt_8_10]\n"
     ]
    },
    {
     "name": "stderr",
     "output_type": "stream",
     "text": [
      "Calculating correlations...:  88%|█████████████████████████████████████████████████████████████████████▌         | 1151/1306 [00:02<00:00, 450.59it/s]"
     ]
    }
   ],
   "source": [
    "concat_original_data(alpha_name=\"AlphaNetV4_Moving10\",alpha_list=alpha_list,corr_filter = 0.8)"
   ]
  },
  {
   "cell_type": "code",
   "execution_count": null,
   "id": "9af31027",
   "metadata": {},
   "outputs": [],
   "source": [
    "factor_info = task_info[\"Factor\"]\n",
    "if task_info[\"CPU\"] == False:\n",
    "    raise ValueError(\"No CPU is avaliable\")\n",
    "factor_index = factor_info[factor_info[\"status\"] == \"waiting\"].index[0]\n",
    "alpha_name = factor_info.loc[factor_index,\"Alpha_Name\"]\n",
    "shift = factor_info.loc[factor_index,\"shift\"]\n",
    "sequence = factor_info.loc[factor_index,\"sequence\"]\n",
    "target = factor_info.loc[factor_index,\"target\"]\n",
    "LR = factor_info.loc[factor_index,\"LR\"]\n",
    "epoch_num = factor_info.loc[factor_index,\"epoch_num\"]\n",
    "alpha_list = factor_info.loc[factor_index,\"alpha_list\"]\n",
    "universe = factor_info.loc[factor_index,\"universe\"]\n",
    "t1 = (datetime.datetime.utcnow() + datetime.timedelta(hours=8)).strftime('%H:%M')\n",
    "factor_info.loc[factor_index,\"status\"] = \"Running: \" +t1\n",
    "task_info[\"CPU\"] = False\n",
    "np.save(\"/home/ShareFolder/feature_platform/ti0/wuwenjun/#Factor_Description/Task.npy\",task_info)\n",
    "print(factor_info.loc[factor_index,:])\n",
    "\n",
    "output_path = \"/home/wuwenjun/Data/\"\n",
    "\n",
    "if alpha_name not in os.listdir(output_path):\n",
    "    concat_original_data(alpha_name=alpha_name,alpha_list=alpha_list,output_path=output_path,universe = universe)\n",
    "generate_shift_data(alpha_name=alpha_name,shift=shift,sequence=sequence,target=target,data_path=output_path)\n",
    "\n",
    "# Task Generation\n",
    "task_info = np.load(\"/home/ShareFolder/feature_platform/ti0/wuwenjun/#Factor_Description/Task.npy\",allow_pickle=True).item()\n",
    "original = task_info[\"Task\"]\n",
    "# Timelist & Task\n",
    "time_list = [\"2019-01-01\",\"2019-06-01\",\"2020-01-01\",\"2020-06-01\",\"2021-01-01\",\"2021-06-01\"]\n",
    "time_list2 = []\n",
    "for i in range(len(time_list)-1):\n",
    "    time_list2.append([time_list[i],time_list[i+1]])\n",
    "time_list2 = pd.DataFrame(time_list2,columns=[\"start_date\",\"end_date\"])\n",
    "\n",
    "task = pd.DataFrame([\n",
    "                    alpha_name + \"_Shift_%i_Sequence_%i_%s\" % (shift,sequence,target),\n",
    "                    sequence,LR,epoch_num,len(alpha_list),\n",
    "                        ],index=[\"Alpha_Name\",\"sequence\",\"LR\",\"epoch_num\",\"feature_num\"]).T\n",
    "task['value']=1\n",
    "time_list2['value']=1\n",
    "task = pd.merge(task,time_list2,how='left',on='value')\n",
    "del task['value']\n",
    "task[\"status\"] = \"waiting\"\n",
    "task[\"description\"] = [{\n",
    "    \"target\" : target,\n",
    "    \"alpha_name\" : alpha_name,\n",
    "    \"alpha_list\" : alpha_list,\n",
    "    \"shift\" : shift,\n",
    "    \"sequence\" : sequence\n",
    "} for i in range(len(task))]\n",
    "task = pd.concat([original,task],axis=0)\n",
    "task.reset_index(drop=True,inplace=True)\n",
    "task.index.names = [\"task_id\"]\n",
    "task_info[\"Task\"] = task\n",
    "factor_info = task_info[\"Factor\"]\n",
    "t2 = (datetime.datetime.utcnow() + datetime.timedelta(hours=8)).strftime('_%H:%M | %m-%d')\n",
    "factor_info.loc[factor_index,\"status\"] = \"Finish: \" +t1+t2\n",
    "task_info[\"CPU\"] = True\n",
    "np.save(\"/home/ShareFolder/feature_platform/ti0/wuwenjun/#Factor_Description/Task.npy\",task_info)\n",
    "np.save(\"/home/wuwenjun/jupyter_code/Shannon/AlphaNet/Factor_Description/Task.npy\",task_info)"
   ]
  }
 ],
 "metadata": {
  "kernelspec": {
   "display_name": "Python 3 (ipykernel)",
   "language": "python",
   "name": "python3"
  },
  "language_info": {
   "codemirror_mode": {
    "name": "ipython",
    "version": 3
   },
   "file_extension": ".py",
   "mimetype": "text/x-python",
   "name": "python",
   "nbconvert_exporter": "python",
   "pygments_lexer": "ipython3",
   "version": "3.7.9"
  }
 },
 "nbformat": 4,
 "nbformat_minor": 5
}
