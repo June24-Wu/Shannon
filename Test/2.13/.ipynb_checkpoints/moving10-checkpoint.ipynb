{
 "cells": [
  {
   "cell_type": "code",
   "execution_count": 18,
   "id": "1c274352",
   "metadata": {
    "ExecuteTime": {
     "end_time": "2022-02-13T11:12:02.748055Z",
     "start_time": "2022-02-13T11:12:02.726887Z"
    }
   },
   "outputs": [],
   "source": [
    "import time\n",
    "import datetime\n",
    "import os\n",
    "from Research.backtest.bt import BTDaily\n",
    "import matplotlib.pyplot as plt\n",
    "from Research.feature.ft import FeatureAnalysis\n",
    "import Research.utils.namespace as namespace\n",
    "import Research.utils.normalization as norm\n",
    "from Platform.database.mysql import MysqlAPI\n",
    "from Platform.utils.persistence import convert_to_standard_daily_feature_csv, convert_to_standard_daily_feature_par\n",
    "from Platform.config.mysql_info import FACTOR_LIB_MYSQL_TIO\n",
    "import DataAPI\n",
    "from os import walk\n",
    "import pandas as pd\n",
    "import numpy as np\n",
    "import torch\n",
    "import torch.nn as nn\n",
    "from progressbar import ProgressBar\n",
    "from tqdm import tqdm\n",
    "import multiprocessing as mp\n",
    "import sys\n",
    "sys.path.append(\"/home/wuwenjun/jupyter_code/Shannon/AlphaNet/packages/\")\n",
    "import AlphaNet\n",
    "from AlphaNet.Data import concat_original_data , generate_shift_data , generate_alpha_list\n",
    "# read_task\n",
    "task_info = np.load(\"/home/ShareFolder/feature_platform/ti0/wuwenjun/#Factor_Description/Task.npy\",allow_pickle=True).item()\n",
    "factor_info = task_info[\"Factor\"]"
   ]
  },
  {
   "cell_type": "code",
   "execution_count": 22,
   "id": "84454304",
   "metadata": {
    "ExecuteTime": {
     "end_time": "2022-02-13T11:12:39.000886Z",
     "start_time": "2022-02-13T11:12:38.995918Z"
    }
   },
   "outputs": [],
   "source": [
    "alpha_list = factor_info.loc[16,\"alpha_list\"]"
   ]
  },
  {
   "cell_type": "code",
   "execution_count": 24,
   "id": "62e124bf",
   "metadata": {
    "ExecuteTime": {
     "end_time": "2022-02-13T11:13:16.896121Z",
     "start_time": "2022-02-13T11:13:16.883510Z"
    }
   },
   "outputs": [
    {
     "data": {
      "text/plain": [
       "['COV_div_open_close_div_high_close_5',\n",
       " 'COV_div_open_close_div_low_close_5',\n",
       " 'COV_div_open_close_close_5',\n",
       " 'COV_div_open_close_volume_sqrt_8_5',\n",
       " 'COV_div_open_close_pct_chg_5',\n",
       " 'COV_div_open_close_div_close_free_turnover_5',\n",
       " 'COV_div_open_close_div_low_high_5',\n",
       " 'COV_div_high_close_div_low_close_5',\n",
       " 'COV_div_high_close_close_5',\n",
       " 'COV_div_high_close_volume_sqrt_8_5',\n",
       " 'COV_div_high_close_pct_chg_5',\n",
       " 'COV_div_high_close_div_close_free_turnover_5',\n",
       " 'COV_div_high_close_div_low_high_5',\n",
       " 'COV_div_low_close_close_5',\n",
       " 'COV_div_low_close_volume_sqrt_8_5',\n",
       " 'COV_div_low_close_div_close_free_turnover_5',\n",
       " 'COV_div_low_close_div_low_high_5',\n",
       " 'COV_close_div_vwap_close_5',\n",
       " 'COV_close_volume_sqrt_8_5',\n",
       " 'COV_close_pct_chg_5',\n",
       " 'COV_close_div_close_free_turnover_5',\n",
       " 'COV_close_div_low_high_5',\n",
       " 'COV_div_vwap_close_volume_sqrt_8_5',\n",
       " 'COV_div_vwap_close_div_close_free_turnover_5',\n",
       " 'COV_div_vwap_close_div_low_high_5',\n",
       " 'COV_div_vwap_close_div_vwap_close_2_5',\n",
       " 'COV_volume_sqrt_8_pct_chg_5',\n",
       " 'COV_volume_sqrt_8_turnover_5',\n",
       " 'COV_volume_sqrt_8_div_close_free_turnover_5',\n",
       " 'COV_volume_sqrt_8_div_volume_low_5',\n",
       " 'COV_volume_sqrt_8_div_low_high_5',\n",
       " 'COV_pct_chg_div_close_free_turnover_5',\n",
       " 'COV_pct_chg_div_price_turnover_5',\n",
       " 'COV_pct_chg_div_low_high_5',\n",
       " 'COV_turnover_div_close_free_turnover_5',\n",
       " 'COV_turnover_div_price_turnover_5',\n",
       " 'COV_div_close_free_turnover_div_volume_low_5',\n",
       " 'COV_div_close_free_turnover_div_low_high_5',\n",
       " 'COV_div_volume_low_div_low_high_5',\n",
       " 'CORR_div_open_close_div_high_close_5',\n",
       " 'CORR_div_open_close_div_low_close_5',\n",
       " 'CORR_div_open_close_close_5',\n",
       " 'CORR_div_open_close_div_vwap_close_5',\n",
       " 'CORR_div_open_close_pct_chg_5',\n",
       " 'CORR_div_open_close_div_price_turnover_5',\n",
       " 'CORR_div_high_close_div_low_close_5',\n",
       " 'CORR_div_high_close_close_5',\n",
       " 'CORR_div_high_close_div_vwap_close_5',\n",
       " 'CORR_div_high_close_pct_chg_5',\n",
       " 'CORR_div_high_close_div_close_free_turnover_5',\n",
       " 'CORR_div_high_close_div_price_turnover_5',\n",
       " 'CORR_div_high_close_div_low_high_5',\n",
       " 'CORR_div_low_close_close_5',\n",
       " 'CORR_div_low_close_div_vwap_close_5',\n",
       " 'CORR_div_low_close_pct_chg_5',\n",
       " 'CORR_div_low_close_div_close_free_turnover_5',\n",
       " 'CORR_div_low_close_div_price_turnover_5',\n",
       " 'CORR_div_low_close_div_low_high_5',\n",
       " 'CORR_close_div_vwap_close_5',\n",
       " 'CORR_close_volume_sqrt_8_5',\n",
       " 'CORR_close_pct_chg_5',\n",
       " 'CORR_close_div_close_free_turnover_5',\n",
       " 'CORR_close_div_price_turnover_5',\n",
       " 'CORR_div_vwap_close_pct_chg_5',\n",
       " 'CORR_div_vwap_close_div_price_turnover_5',\n",
       " 'CORR_div_vwap_close_div_vwap_close_2_5',\n",
       " 'CORR_volume_sqrt_8_turnover_5',\n",
       " 'CORR_volume_sqrt_8_div_close_free_turnover_5',\n",
       " 'CORR_volume_sqrt_8_div_price_turnover_5',\n",
       " 'CORR_volume_sqrt_8_div_volume_low_5',\n",
       " 'CORR_volume_sqrt_8_div_low_high_5',\n",
       " 'CORR_pct_chg_div_price_turnover_5',\n",
       " 'CORR_turnover_div_volume_low_5',\n",
       " 'CORR_div_close_free_turnover_div_low_high_5',\n",
       " 'STD_close_5',\n",
       " 'STD_volume_sqrt_8_5',\n",
       " 'STD_div_low_high_5',\n",
       " 'ZSCORE_div_open_close_5',\n",
       " 'ZSCORE_div_high_close_5',\n",
       " 'ZSCORE_div_low_close_5',\n",
       " 'ZSCORE_close_5',\n",
       " 'ZSCORE_div_vwap_close_5',\n",
       " 'ZSCORE_volume_sqrt_8_5',\n",
       " 'ZSCORE_pct_chg_5',\n",
       " 'ZSCORE_div_low_high_5',\n",
       " 'ZSCORE_div_vwap_close_2_5',\n",
       " 'RETURN_div_open_close_5',\n",
       " 'RETURN_div_high_close_5',\n",
       " 'RETURN_div_low_close_5',\n",
       " 'RETURN_div_vwap_close_5',\n",
       " 'RETURN_volume_sqrt_8_5',\n",
       " 'RETURN_pct_chg_5',\n",
       " 'RETURN_div_close_free_turnover_5',\n",
       " 'RETURN_div_price_turnover_5',\n",
       " 'RETURN_div_low_high_5',\n",
       " 'RETURN_div_vwap_close_2_5',\n",
       " 'DECAY_div_high_close_5',\n",
       " 'DECAY_div_low_close_5',\n",
       " 'DECAY_volume_sqrt_8_5',\n",
       " 'DECAY_div_close_free_turnover_5',\n",
       " 'DECAY_div_price_turnover_5',\n",
       " 'DECAY_div_low_high_5',\n",
       " 'DECAY_div_vwap_close_2_5']"
      ]
     },
     "execution_count": 24,
     "metadata": {},
     "output_type": "execute_result"
    }
   ],
   "source": [
    "alpha_list = [i.replace(\"10\",\"5\") for i in alpha_list]\n",
    "alpha_list"
   ]
  },
  {
   "cell_type": "code",
   "execution_count": null,
   "id": "6a530d9d",
   "metadata": {
    "ExecuteTime": {
     "start_time": "2022-02-13T11:14:38.843Z"
    }
   },
   "outputs": [
    {
     "name": "stdout",
     "output_type": "stream",
     "text": [
      "['COV_div_open_close_div_high_close_5', 'COV_div_open_close_div_low_close_5', 'COV_div_open_close_close_5', 'COV_div_open_close_volume_sqrt_8_5', 'COV_div_open_close_pct_chg_5', 'COV_div_open_close_div_close_free_turnover_5', 'COV_div_open_close_div_low_high_5', 'COV_div_high_close_div_low_close_5', 'COV_div_high_close_close_5', 'COV_div_high_close_volume_sqrt_8_5', 'COV_div_high_close_pct_chg_5', 'COV_div_high_close_div_close_free_turnover_5', 'COV_div_high_close_div_low_high_5', 'COV_div_low_close_close_5', 'COV_div_low_close_volume_sqrt_8_5', 'COV_div_low_close_div_close_free_turnover_5', 'COV_div_low_close_div_low_high_5', 'COV_close_div_vwap_close_5', 'COV_close_volume_sqrt_8_5', 'COV_close_pct_chg_5', 'COV_close_div_close_free_turnover_5', 'COV_close_div_low_high_5', 'COV_div_vwap_close_volume_sqrt_8_5', 'COV_div_vwap_close_div_close_free_turnover_5', 'COV_div_vwap_close_div_low_high_5', 'COV_div_vwap_close_div_vwap_close_2_5', 'COV_volume_sqrt_8_pct_chg_5', 'COV_volume_sqrt_8_turnover_5', 'COV_volume_sqrt_8_div_close_free_turnover_5', 'COV_volume_sqrt_8_div_volume_low_5', 'COV_volume_sqrt_8_div_low_high_5', 'COV_pct_chg_div_close_free_turnover_5', 'COV_pct_chg_div_price_turnover_5', 'COV_pct_chg_div_low_high_5', 'COV_turnover_div_close_free_turnover_5', 'COV_turnover_div_price_turnover_5', 'COV_div_close_free_turnover_div_volume_low_5', 'COV_div_close_free_turnover_div_low_high_5', 'COV_div_volume_low_div_low_high_5', 'CORR_div_open_close_div_high_close_5', 'CORR_div_open_close_div_low_close_5', 'CORR_div_open_close_close_5', 'CORR_div_open_close_div_vwap_close_5', 'CORR_div_open_close_pct_chg_5', 'CORR_div_open_close_div_price_turnover_5', 'CORR_div_high_close_div_low_close_5', 'CORR_div_high_close_close_5', 'CORR_div_high_close_div_vwap_close_5', 'CORR_div_high_close_pct_chg_5', 'CORR_div_high_close_div_close_free_turnover_5', 'CORR_div_high_close_div_price_turnover_5', 'CORR_div_high_close_div_low_high_5', 'CORR_div_low_close_close_5', 'CORR_div_low_close_div_vwap_close_5', 'CORR_div_low_close_pct_chg_5', 'CORR_div_low_close_div_close_free_turnover_5', 'CORR_div_low_close_div_price_turnover_5', 'CORR_div_low_close_div_low_high_5', 'CORR_close_div_vwap_close_5', 'CORR_close_volume_sqrt_8_5', 'CORR_close_pct_chg_5', 'CORR_close_div_close_free_turnover_5', 'CORR_close_div_price_turnover_5', 'CORR_div_vwap_close_pct_chg_5', 'CORR_div_vwap_close_div_price_turnover_5', 'CORR_div_vwap_close_div_vwap_close_2_5', 'CORR_volume_sqrt_8_turnover_5', 'CORR_volume_sqrt_8_div_close_free_turnover_5', 'CORR_volume_sqrt_8_div_price_turnover_5', 'CORR_volume_sqrt_8_div_volume_low_5', 'CORR_volume_sqrt_8_div_low_high_5', 'CORR_pct_chg_div_price_turnover_5', 'CORR_turnover_div_volume_low_5', 'CORR_div_close_free_turnover_div_low_high_5', 'STD_close_5', 'STD_volume_sqrt_8_5', 'STD_div_low_high_5', 'ZSCORE_div_open_close_5', 'ZSCORE_div_high_close_5', 'ZSCORE_div_low_close_5', 'ZSCORE_close_5', 'ZSCORE_div_vwap_close_5', 'ZSCORE_volume_sqrt_8_5', 'ZSCORE_pct_chg_5', 'ZSCORE_div_low_high_5', 'ZSCORE_div_vwap_close_2_5', 'RETURN_div_open_close_5', 'RETURN_div_high_close_5', 'RETURN_div_low_close_5', 'RETURN_div_vwap_close_5', 'RETURN_volume_sqrt_8_5', 'RETURN_pct_chg_5', 'RETURN_div_close_free_turnover_5', 'RETURN_div_price_turnover_5', 'RETURN_div_low_high_5', 'RETURN_div_vwap_close_2_5', 'DECAY_div_high_close_5', 'DECAY_div_low_close_5', 'DECAY_volume_sqrt_8_5', 'DECAY_div_close_free_turnover_5', 'DECAY_div_price_turnover_5', 'DECAY_div_low_high_5', 'DECAY_div_vwap_close_2_5']\n"
     ]
    },
    {
     "name": "stderr",
     "output_type": "stream",
     "text": [
      "Loading Feature...:  51%|███████████████████████████████████████████                                          | 68620/135445 [02:51<02:22, 469.56it/s]"
     ]
    }
   ],
   "source": [
    "concat_original_data(\"AlphaNetV4_Moving5\", alpha_list, start_date = \"2016-01-01\", end_date = \"2021-06-01\",\n",
    "                     output_path=\"/home/wuwenjun/Data/\", universe='Investable')"
   ]
  },
  {
   "cell_type": "code",
   "execution_count": null,
   "id": "d76caeaa",
   "metadata": {
    "ExecuteTime": {
     "start_time": "2022-02-13T11:16:50.879Z"
    }
   },
   "outputs": [],
   "source": [
    "alpha_name = \"AlphaNetV4_Moving5\"\n",
    "shift = 1\n",
    "sequence = 20\n",
    "generate_shift_data(alpha_name, shift,sequence, target = None, data_path=\"/home/wuwenjun/Data/\")"
   ]
  },
  {
   "cell_type": "code",
   "execution_count": 15,
   "id": "6940b9a3",
   "metadata": {
    "ExecuteTime": {
     "end_time": "2022-02-13T11:07:03.345672Z",
     "start_time": "2022-02-13T11:07:03.315378Z"
    }
   },
   "outputs": [
    {
     "data": {
      "text/plain": [
       "Index(['COV_div_open_close_div_high_close_10',\n",
       "       'COV_div_open_close_div_low_close_10', 'COV_div_open_close_close_10',\n",
       "       'COV_div_open_close_volume_sqrt_8_10', 'COV_div_open_close_pct_chg_10',\n",
       "       'COV_div_open_close_div_close_free_turnover_10',\n",
       "       'COV_div_open_close_div_low_high_10',\n",
       "       'COV_div_high_close_div_low_close_10', 'COV_div_high_close_close_10',\n",
       "       'COV_div_high_close_volume_sqrt_8_10',\n",
       "       ...\n",
       "       'RETURN_div_price_turnover_10', 'RETURN_div_low_high_10',\n",
       "       'RETURN_div_vwap_close_2_10', 'DECAY_div_high_close_10',\n",
       "       'DECAY_div_low_close_10', 'DECAY_volume_sqrt_8_10',\n",
       "       'DECAY_div_close_free_turnover_10', 'DECAY_div_price_turnover_10',\n",
       "       'DECAY_div_low_high_10', 'DECAY_div_vwap_close_2_10'],\n",
       "      dtype='object', length=103)"
      ]
     },
     "execution_count": 15,
     "metadata": {},
     "output_type": "execute_result"
    }
   ],
   "source": [
    "a = pd.read_parquet(\"/home/wuwenjun/Data/AlphaNetV4_Moving10/2016/20160118.par\")\n",
    "a.columns"
   ]
  },
  {
   "cell_type": "code",
   "execution_count": 16,
   "id": "0c63f7af",
   "metadata": {
    "ExecuteTime": {
     "end_time": "2022-02-13T11:07:12.286173Z",
     "start_time": "2022-02-13T11:07:12.281802Z"
    }
   },
   "outputs": [
    {
     "data": {
      "text/plain": [
       "103"
      ]
     },
     "execution_count": 16,
     "metadata": {},
     "output_type": "execute_result"
    }
   ],
   "source": [
    "len(a.columns)"
   ]
  },
  {
   "cell_type": "code",
   "execution_count": null,
   "id": "c5c2fb15",
   "metadata": {},
   "outputs": [],
   "source": [
    "factor_info = task_info[\"Factor\"]\n",
    "if task_info[\"CPU\"] == False:\n",
    "    raise ValueError(\"No CPU is avaliable\")\n",
    "factor_index = factor_info[factor_info[\"status\"] == \"waiting\"].index[0]\n",
    "alpha_name = factor_info.loc[factor_index,\"Alpha_Name\"]\n",
    "shift = factor_info.loc[factor_index,\"shift\"]\n",
    "sequence = factor_info.loc[factor_index,\"sequence\"]\n",
    "target = factor_info.loc[factor_index,\"target\"]\n",
    "LR = factor_info.loc[factor_index,\"LR\"]\n",
    "epoch_num = factor_info.loc[factor_index,\"epoch_num\"]\n",
    "alpha_list = factor_info.loc[factor_index,\"alpha_list\"]\n",
    "universe = factor_info.loc[factor_index,\"universe\"]\n",
    "t1 = (datetime.datetime.utcnow() + datetime.timedelta(hours=8)).strftime('%H:%M')\n",
    "factor_info.loc[factor_index,\"status\"] = \"Running: \" +t1\n",
    "task_info[\"CPU\"] = False\n",
    "np.save(\"/home/ShareFolder/feature_platform/ti0/wuwenjun/#Factor_Description/Task.npy\",task_info)\n",
    "print(factor_info.loc[factor_index,:])\n",
    "\n",
    "output_path = \"/home/wuwenjun/Data/\"\n",
    "\n",
    "if alpha_name not in os.listdir(output_path):\n",
    "    concat_original_data(alpha_name=alpha_name,alpha_list=alpha_list,output_path=output_path,universe = universe)\n",
    "generate_shift_data(alpha_name=alpha_name,shift=shift,sequence=sequence,target=target,data_path=output_path)\n",
    "\n",
    "# Task Generation\n",
    "task_info = np.load(\"/home/ShareFolder/feature_platform/ti0/wuwenjun/#Factor_Description/Task.npy\",allow_pickle=True).item()\n",
    "original = task_info[\"Task\"]\n",
    "# Timelist & Task\n",
    "time_list = [\"2019-01-01\",\"2019-06-01\",\"2020-01-01\",\"2020-06-01\",\"2021-01-01\",\"2021-06-01\"]\n",
    "time_list2 = []\n",
    "for i in range(len(time_list)-1):\n",
    "    time_list2.append([time_list[i],time_list[i+1]])\n",
    "time_list2 = pd.DataFrame(time_list2,columns=[\"start_date\",\"end_date\"])\n",
    "\n",
    "task = pd.DataFrame([\n",
    "                    alpha_name + \"_Shift_%i_Sequence_%i_%s\" % (shift,sequence,target),\n",
    "                    sequence,LR,epoch_num,len(alpha_list),\n",
    "                        ],index=[\"Alpha_Name\",\"sequence\",\"LR\",\"epoch_num\",\"feature_num\"]).T\n",
    "task['value']=1\n",
    "time_list2['value']=1\n",
    "task = pd.merge(task,time_list2,how='left',on='value')\n",
    "del task['value']\n",
    "task[\"status\"] = \"waiting\"\n",
    "task[\"description\"] = [{\n",
    "    \"target\" : target,\n",
    "    \"alpha_name\" : alpha_name,\n",
    "    \"alpha_list\" : alpha_list,\n",
    "    \"shift\" : shift,\n",
    "    \"sequence\" : sequence\n",
    "} for i in range(len(task))]\n",
    "task = pd.concat([original,task],axis=0)\n",
    "task.reset_index(drop=True,inplace=True)\n",
    "task.index.names = [\"task_id\"]\n",
    "task_info[\"Task\"] = task\n",
    "factor_info = task_info[\"Factor\"]\n",
    "t2 = (datetime.datetime.utcnow() + datetime.timedelta(hours=8)).strftime('_%H:%M | %m-%d')\n",
    "factor_info.loc[factor_index,\"status\"] = \"Finish: \" +t1+t2\n",
    "task_info[\"CPU\"] = True\n",
    "np.save(\"/home/ShareFolder/feature_platform/ti0/wuwenjun/#Factor_Description/Task.npy\",task_info)\n",
    "np.save(\"/home/wuwenjun/jupyter_code/Shannon/AlphaNet/Factor_Description/Task.npy\",task_info)"
   ]
  }
 ],
 "metadata": {
  "kernelspec": {
   "display_name": "Python 3 (ipykernel)",
   "language": "python",
   "name": "python3"
  },
  "language_info": {
   "codemirror_mode": {
    "name": "ipython",
    "version": 3
   },
   "file_extension": ".py",
   "mimetype": "text/x-python",
   "name": "python",
   "nbconvert_exporter": "python",
   "pygments_lexer": "ipython3",
   "version": "3.7.9"
  }
 },
 "nbformat": 4,
 "nbformat_minor": 5
}
